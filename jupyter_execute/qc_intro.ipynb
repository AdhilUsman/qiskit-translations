{
 "cells": [
  {
   "cell_type": "code",
   "execution_count": 1,
   "id": "326ff08d",
   "metadata": {
    "execution": {
     "iopub.execute_input": "2021-04-25T06:39:34.375722Z",
     "iopub.status.busy": "2021-04-25T06:39:34.375123Z",
     "iopub.status.idle": "2021-04-25T06:39:35.089012Z",
     "shell.execute_reply": "2021-04-25T06:39:35.088341Z"
    }
   },
   "outputs": [],
   "source": [
    "from qiskit import *"
   ]
  },
  {
   "cell_type": "code",
   "execution_count": 2,
   "id": "b9911951",
   "metadata": {
    "execution": {
     "iopub.execute_input": "2021-04-25T06:39:35.103977Z",
     "iopub.status.busy": "2021-04-25T06:39:35.103326Z",
     "iopub.status.idle": "2021-04-25T06:39:35.106746Z",
     "shell.execute_reply": "2021-04-25T06:39:35.107325Z"
    }
   },
   "outputs": [
    {
     "data": {
      "text/plain": [
       "<qiskit.circuit.instructionset.InstructionSet at 0x7faa057220d0>"
      ]
     },
     "execution_count": 2,
     "metadata": {},
     "output_type": "execute_result"
    }
   ],
   "source": [
    "qr = QuantumRegister(3, 'q')\n",
    "cr = ClassicalRegister(2, 'zx_meas')\n",
    "qc = QuantumCircuit(qr,cr)\n",
    "qc.reset(range(3))\n",
    "qc.barrier()\n",
    "qc.h(1)\n",
    "qc.cx([1,0],[2,1])\n",
    "qc.h(0)\n",
    "qc.barrier()\n",
    "qc.measure([0,1], [0,1])\n",
    "qc.barrier()\n",
    "qc.z(2).c_if(cr, 1)\n",
    "qc.x(2).c_if(cr, 2)"
   ]
  }
 ],
 "metadata": {
  "kernelspec": {
   "display_name": "Python 3",
   "language": "python",
   "name": "python3"
  },
  "language_info": {
   "codemirror_mode": {
    "name": "ipython",
    "version": 3
   },
   "file_extension": ".py",
   "mimetype": "text/x-python",
   "name": "python",
   "nbconvert_exporter": "python",
   "pygments_lexer": "ipython3",
   "version": "3.8.9"
  }
 },
 "nbformat": 4,
 "nbformat_minor": 5
}