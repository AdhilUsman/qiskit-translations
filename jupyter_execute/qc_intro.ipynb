{
 "cells": [
  {
   "cell_type": "code",
   "execution_count": 1,
   "id": "fa4139f7",
   "metadata": {
    "execution": {
     "iopub.execute_input": "2021-04-08T05:06:11.228405Z",
     "iopub.status.busy": "2021-04-08T05:06:11.227574Z",
     "iopub.status.idle": "2021-04-08T05:06:11.845494Z",
     "shell.execute_reply": "2021-04-08T05:06:11.844520Z"
    }
   },
   "outputs": [],
   "source": [
    "from qiskit import *"
   ]
  },
  {
   "cell_type": "code",
   "execution_count": 2,
   "id": "0c7e1779",
   "metadata": {
    "execution": {
     "iopub.execute_input": "2021-04-08T05:06:11.858464Z",
     "iopub.status.busy": "2021-04-08T05:06:11.857952Z",
     "iopub.status.idle": "2021-04-08T05:06:11.863272Z",
     "shell.execute_reply": "2021-04-08T05:06:11.862741Z"
    }
   },
   "outputs": [
    {
     "data": {
      "text/plain": [
       "<qiskit.circuit.instructionset.InstructionSet at 0x7f98ef38cc40>"
      ]
     },
     "execution_count": 2,
     "metadata": {},
     "output_type": "execute_result"
    }
   ],
   "source": [
    "qr = QuantumRegister(3, 'q')\n",
    "cr = ClassicalRegister(2, 'zx_meas')\n",
    "qc = QuantumCircuit(qr,cr)\n",
    "qc.reset(range(3))\n",
    "qc.barrier()\n",
    "qc.h(1)\n",
    "qc.cx([1,0],[2,1])\n",
    "qc.h(0)\n",
    "qc.barrier()\n",
    "qc.measure([0,1], [0,1])\n",
    "qc.barrier()\n",
    "qc.z(2).c_if(cr, 1)\n",
    "qc.x(2).c_if(cr, 2)"
   ]
  }
 ],
 "metadata": {
  "kernelspec": {
   "display_name": "Python 3",
   "language": "python",
   "name": "python3"
  },
  "language_info": {
   "codemirror_mode": {
    "name": "ipython",
    "version": 3
   },
   "file_extension": ".py",
   "mimetype": "text/x-python",
   "name": "python",
   "nbconvert_exporter": "python",
   "pygments_lexer": "ipython3",
   "version": "3.8.8"
  }
 },
 "nbformat": 4,
 "nbformat_minor": 5
}