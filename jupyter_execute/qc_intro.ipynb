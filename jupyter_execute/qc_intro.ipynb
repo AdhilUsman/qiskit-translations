{
 "cells": [
  {
   "cell_type": "code",
   "execution_count": 1,
   "id": "259c90e7",
   "metadata": {
    "execution": {
     "iopub.execute_input": "2021-04-13T21:49:11.009904Z",
     "iopub.status.busy": "2021-04-13T21:49:11.009301Z",
     "iopub.status.idle": "2021-04-13T21:49:11.702752Z",
     "shell.execute_reply": "2021-04-13T21:49:11.702130Z"
    }
   },
   "outputs": [],
   "source": [
    "from qiskit import *"
   ]
  },
  {
   "cell_type": "code",
   "execution_count": 2,
   "id": "ee2ef66f",
   "metadata": {
    "execution": {
     "iopub.execute_input": "2021-04-13T21:49:11.717822Z",
     "iopub.status.busy": "2021-04-13T21:49:11.716680Z",
     "iopub.status.idle": "2021-04-13T21:49:11.719960Z",
     "shell.execute_reply": "2021-04-13T21:49:11.720469Z"
    }
   },
   "outputs": [
    {
     "data": {
      "text/plain": [
       "<qiskit.circuit.instructionset.InstructionSet at 0x7f6b26d4c070>"
      ]
     },
     "execution_count": 2,
     "metadata": {},
     "output_type": "execute_result"
    }
   ],
   "source": [
    "qr = QuantumRegister(3, 'q')\n",
    "cr = ClassicalRegister(2, 'zx_meas')\n",
    "qc = QuantumCircuit(qr,cr)\n",
    "qc.reset(range(3))\n",
    "qc.barrier()\n",
    "qc.h(1)\n",
    "qc.cx([1,0],[2,1])\n",
    "qc.h(0)\n",
    "qc.barrier()\n",
    "qc.measure([0,1], [0,1])\n",
    "qc.barrier()\n",
    "qc.z(2).c_if(cr, 1)\n",
    "qc.x(2).c_if(cr, 2)"
   ]
  }
 ],
 "metadata": {
  "kernelspec": {
   "display_name": "Python 3",
   "language": "python",
   "name": "python3"
  },
  "language_info": {
   "codemirror_mode": {
    "name": "ipython",
    "version": 3
   },
   "file_extension": ".py",
   "mimetype": "text/x-python",
   "name": "python",
   "nbconvert_exporter": "python",
   "pygments_lexer": "ipython3",
   "version": "3.8.9"
  }
 },
 "nbformat": 4,
 "nbformat_minor": 5
}