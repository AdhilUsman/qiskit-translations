{
 "cells": [
  {
   "cell_type": "code",
   "execution_count": 1,
   "id": "38e06f68",
   "metadata": {
    "execution": {
     "iopub.execute_input": "2021-06-06T19:40:52.325858Z",
     "iopub.status.busy": "2021-06-06T19:40:52.325329Z",
     "iopub.status.idle": "2021-06-06T19:40:52.894009Z",
     "shell.execute_reply": "2021-06-06T19:40:52.893349Z"
    }
   },
   "outputs": [],
   "source": [
    "from qiskit import *"
   ]
  },
  {
   "cell_type": "code",
   "execution_count": 2,
   "id": "46a548c0",
   "metadata": {
    "execution": {
     "iopub.execute_input": "2021-06-06T19:40:52.905694Z",
     "iopub.status.busy": "2021-06-06T19:40:52.905178Z",
     "iopub.status.idle": "2021-06-06T19:40:52.907640Z",
     "shell.execute_reply": "2021-06-06T19:40:52.908017Z"
    }
   },
   "outputs": [
    {
     "data": {
      "text/plain": [
       "<qiskit.circuit.instructionset.InstructionSet at 0x7f017badb280>"
      ]
     },
     "execution_count": 2,
     "metadata": {},
     "output_type": "execute_result"
    }
   ],
   "source": [
    "qr = QuantumRegister(3, 'q')\n",
    "cr = ClassicalRegister(2, 'zx_meas')\n",
    "qc = QuantumCircuit(qr,cr)\n",
    "qc.reset(range(3))\n",
    "qc.barrier()\n",
    "qc.h(1)\n",
    "qc.cx([1,0],[2,1])\n",
    "qc.h(0)\n",
    "qc.barrier()\n",
    "qc.measure([0,1], [0,1])\n",
    "qc.barrier()\n",
    "qc.z(2).c_if(cr, 1)\n",
    "qc.x(2).c_if(cr, 2)"
   ]
  }
 ],
 "metadata": {
  "kernelspec": {
   "display_name": "Python 3",
   "language": "python",
   "name": "python3"
  },
  "language_info": {
   "codemirror_mode": {
    "name": "ipython",
    "version": 3
   },
   "file_extension": ".py",
   "mimetype": "text/x-python",
   "name": "python",
   "nbconvert_exporter": "python",
   "pygments_lexer": "ipython3",
   "version": "3.8.10"
  }
 },
 "nbformat": 4,
 "nbformat_minor": 5
}