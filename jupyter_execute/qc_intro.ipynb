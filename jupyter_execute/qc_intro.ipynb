{
 "cells": [
  {
   "cell_type": "code",
   "execution_count": 1,
   "id": "ad3a2387",
   "metadata": {
    "execution": {
     "iopub.execute_input": "2021-05-08T15:55:04.553361Z",
     "iopub.status.busy": "2021-05-08T15:55:04.552639Z",
     "iopub.status.idle": "2021-05-08T15:55:05.243649Z",
     "shell.execute_reply": "2021-05-08T15:55:05.243038Z"
    }
   },
   "outputs": [],
   "source": [
    "from qiskit import *"
   ]
  },
  {
   "cell_type": "code",
   "execution_count": 2,
   "id": "46b2f613",
   "metadata": {
    "execution": {
     "iopub.execute_input": "2021-05-08T15:55:05.257197Z",
     "iopub.status.busy": "2021-05-08T15:55:05.250935Z",
     "iopub.status.idle": "2021-05-08T15:55:05.259682Z",
     "shell.execute_reply": "2021-05-08T15:55:05.260187Z"
    }
   },
   "outputs": [
    {
     "data": {
      "text/plain": [
       "<qiskit.circuit.instructionset.InstructionSet at 0x7f34c7949640>"
      ]
     },
     "execution_count": 2,
     "metadata": {},
     "output_type": "execute_result"
    }
   ],
   "source": [
    "qr = QuantumRegister(3, 'q')\n",
    "cr = ClassicalRegister(2, 'zx_meas')\n",
    "qc = QuantumCircuit(qr,cr)\n",
    "qc.reset(range(3))\n",
    "qc.barrier()\n",
    "qc.h(1)\n",
    "qc.cx([1,0],[2,1])\n",
    "qc.h(0)\n",
    "qc.barrier()\n",
    "qc.measure([0,1], [0,1])\n",
    "qc.barrier()\n",
    "qc.z(2).c_if(cr, 1)\n",
    "qc.x(2).c_if(cr, 2)"
   ]
  }
 ],
 "metadata": {
  "kernelspec": {
   "display_name": "Python 3",
   "language": "python",
   "name": "python3"
  },
  "language_info": {
   "codemirror_mode": {
    "name": "ipython",
    "version": 3
   },
   "file_extension": ".py",
   "mimetype": "text/x-python",
   "name": "python",
   "nbconvert_exporter": "python",
   "pygments_lexer": "ipython3",
   "version": "3.8.10"
  }
 },
 "nbformat": 4,
 "nbformat_minor": 5
}