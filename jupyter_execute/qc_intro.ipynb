{
 "cells": [
  {
   "cell_type": "code",
   "execution_count": 1,
   "id": "e98de47d",
   "metadata": {
    "execution": {
     "iopub.execute_input": "2021-04-20T15:18:06.006772Z",
     "iopub.status.busy": "2021-04-20T15:18:06.005886Z",
     "iopub.status.idle": "2021-04-20T15:18:06.808007Z",
     "shell.execute_reply": "2021-04-20T15:18:06.807313Z"
    }
   },
   "outputs": [],
   "source": [
    "from qiskit import *"
   ]
  },
  {
   "cell_type": "code",
   "execution_count": 2,
   "id": "a6c7c5d1",
   "metadata": {
    "execution": {
     "iopub.execute_input": "2021-04-20T15:18:06.822472Z",
     "iopub.status.busy": "2021-04-20T15:18:06.815690Z",
     "iopub.status.idle": "2021-04-20T15:18:06.826377Z",
     "shell.execute_reply": "2021-04-20T15:18:06.826889Z"
    }
   },
   "outputs": [
    {
     "data": {
      "text/plain": [
       "<qiskit.circuit.instructionset.InstructionSet at 0x7faa12956070>"
      ]
     },
     "execution_count": 2,
     "metadata": {},
     "output_type": "execute_result"
    }
   ],
   "source": [
    "qr = QuantumRegister(3, 'q')\n",
    "cr = ClassicalRegister(2, 'zx_meas')\n",
    "qc = QuantumCircuit(qr,cr)\n",
    "qc.reset(range(3))\n",
    "qc.barrier()\n",
    "qc.h(1)\n",
    "qc.cx([1,0],[2,1])\n",
    "qc.h(0)\n",
    "qc.barrier()\n",
    "qc.measure([0,1], [0,1])\n",
    "qc.barrier()\n",
    "qc.z(2).c_if(cr, 1)\n",
    "qc.x(2).c_if(cr, 2)"
   ]
  }
 ],
 "metadata": {
  "kernelspec": {
   "display_name": "Python 3",
   "language": "python",
   "name": "python3"
  },
  "language_info": {
   "codemirror_mode": {
    "name": "ipython",
    "version": 3
   },
   "file_extension": ".py",
   "mimetype": "text/x-python",
   "name": "python",
   "nbconvert_exporter": "python",
   "pygments_lexer": "ipython3",
   "version": "3.8.9"
  }
 },
 "nbformat": 4,
 "nbformat_minor": 5
}