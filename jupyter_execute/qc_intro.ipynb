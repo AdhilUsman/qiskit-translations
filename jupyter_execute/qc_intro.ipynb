{
 "cells": [
  {
   "cell_type": "code",
   "execution_count": 1,
   "id": "2d63bb98",
   "metadata": {
    "execution": {
     "iopub.execute_input": "2021-06-20T02:04:44.721327Z",
     "iopub.status.busy": "2021-06-20T02:04:44.720687Z",
     "iopub.status.idle": "2021-06-20T02:04:45.482716Z",
     "shell.execute_reply": "2021-06-20T02:04:45.482053Z"
    }
   },
   "outputs": [],
   "source": [
    "from qiskit import *"
   ]
  },
  {
   "cell_type": "code",
   "execution_count": 2,
   "id": "fb95cdc1",
   "metadata": {
    "execution": {
     "iopub.execute_input": "2021-06-20T02:04:45.496431Z",
     "iopub.status.busy": "2021-06-20T02:04:45.495424Z",
     "iopub.status.idle": "2021-06-20T02:04:45.501289Z",
     "shell.execute_reply": "2021-06-20T02:04:45.501844Z"
    }
   },
   "outputs": [
    {
     "data": {
      "text/plain": [
       "<qiskit.circuit.instructionset.InstructionSet at 0x7feb284c6040>"
      ]
     },
     "execution_count": 2,
     "metadata": {},
     "output_type": "execute_result"
    }
   ],
   "source": [
    "qr = QuantumRegister(3, 'q')\n",
    "cr = ClassicalRegister(2, 'zx_meas')\n",
    "qc = QuantumCircuit(qr,cr)\n",
    "qc.reset(range(3))\n",
    "qc.barrier()\n",
    "qc.h(1)\n",
    "qc.cx([1,0],[2,1])\n",
    "qc.h(0)\n",
    "qc.barrier()\n",
    "qc.measure([0,1], [0,1])\n",
    "qc.barrier()\n",
    "qc.z(2).c_if(cr, 1)\n",
    "qc.x(2).c_if(cr, 2)"
   ]
  }
 ],
 "metadata": {
  "kernelspec": {
   "display_name": "Python 3",
   "language": "python",
   "name": "python3"
  },
  "language_info": {
   "codemirror_mode": {
    "name": "ipython",
    "version": 3
   },
   "file_extension": ".py",
   "mimetype": "text/x-python",
   "name": "python",
   "nbconvert_exporter": "python",
   "pygments_lexer": "ipython3",
   "version": "3.8.10"
  }
 },
 "nbformat": 4,
 "nbformat_minor": 5
}