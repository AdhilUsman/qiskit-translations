{
 "cells": [
  {
   "cell_type": "code",
   "execution_count": 1,
   "id": "0fe82fe2",
   "metadata": {
    "execution": {
     "iopub.execute_input": "2021-05-12T11:32:36.393782Z",
     "iopub.status.busy": "2021-05-12T11:32:36.393184Z",
     "iopub.status.idle": "2021-05-12T11:32:37.161439Z",
     "shell.execute_reply": "2021-05-12T11:32:37.161936Z"
    }
   },
   "outputs": [],
   "source": [
    "from qiskit import *"
   ]
  },
  {
   "cell_type": "code",
   "execution_count": 2,
   "id": "dadfd124",
   "metadata": {
    "execution": {
     "iopub.execute_input": "2021-05-12T11:32:37.176693Z",
     "iopub.status.busy": "2021-05-12T11:32:37.175647Z",
     "iopub.status.idle": "2021-05-12T11:32:37.179685Z",
     "shell.execute_reply": "2021-05-12T11:32:37.179036Z"
    }
   },
   "outputs": [
    {
     "data": {
      "text/plain": [
       "<qiskit.circuit.instructionset.InstructionSet at 0x7fa00feedc10>"
      ]
     },
     "execution_count": 2,
     "metadata": {},
     "output_type": "execute_result"
    }
   ],
   "source": [
    "qr = QuantumRegister(3, 'q')\n",
    "cr = ClassicalRegister(2, 'zx_meas')\n",
    "qc = QuantumCircuit(qr,cr)\n",
    "qc.reset(range(3))\n",
    "qc.barrier()\n",
    "qc.h(1)\n",
    "qc.cx([1,0],[2,1])\n",
    "qc.h(0)\n",
    "qc.barrier()\n",
    "qc.measure([0,1], [0,1])\n",
    "qc.barrier()\n",
    "qc.z(2).c_if(cr, 1)\n",
    "qc.x(2).c_if(cr, 2)"
   ]
  }
 ],
 "metadata": {
  "kernelspec": {
   "display_name": "Python 3",
   "language": "python",
   "name": "python3"
  },
  "language_info": {
   "codemirror_mode": {
    "name": "ipython",
    "version": 3
   },
   "file_extension": ".py",
   "mimetype": "text/x-python",
   "name": "python",
   "nbconvert_exporter": "python",
   "pygments_lexer": "ipython3",
   "version": "3.8.10"
  }
 },
 "nbformat": 4,
 "nbformat_minor": 5
}