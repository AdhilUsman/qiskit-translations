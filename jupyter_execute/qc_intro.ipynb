{
 "cells": [
  {
   "cell_type": "code",
   "execution_count": 1,
   "id": "64f6a3c2",
   "metadata": {
    "execution": {
     "iopub.execute_input": "2021-04-08T00:46:10.279607Z",
     "iopub.status.busy": "2021-04-08T00:46:10.279083Z",
     "iopub.status.idle": "2021-04-08T00:46:10.878020Z",
     "shell.execute_reply": "2021-04-08T00:46:10.877380Z"
    }
   },
   "outputs": [],
   "source": [
    "from qiskit import *"
   ]
  },
  {
   "cell_type": "code",
   "execution_count": 2,
   "id": "239251c5",
   "metadata": {
    "execution": {
     "iopub.execute_input": "2021-04-08T00:46:10.889721Z",
     "iopub.status.busy": "2021-04-08T00:46:10.889200Z",
     "iopub.status.idle": "2021-04-08T00:46:10.894087Z",
     "shell.execute_reply": "2021-04-08T00:46:10.893668Z"
    }
   },
   "outputs": [
    {
     "data": {
      "text/plain": [
       "<qiskit.circuit.instructionset.InstructionSet at 0x7f41250297c0>"
      ]
     },
     "execution_count": 2,
     "metadata": {},
     "output_type": "execute_result"
    }
   ],
   "source": [
    "qr = QuantumRegister(3, 'q')\n",
    "cr = ClassicalRegister(2, 'zx_meas')\n",
    "qc = QuantumCircuit(qr,cr)\n",
    "qc.reset(range(3))\n",
    "qc.barrier()\n",
    "qc.h(1)\n",
    "qc.cx([1,0],[2,1])\n",
    "qc.h(0)\n",
    "qc.barrier()\n",
    "qc.measure([0,1], [0,1])\n",
    "qc.barrier()\n",
    "qc.z(2).c_if(cr, 1)\n",
    "qc.x(2).c_if(cr, 2)"
   ]
  }
 ],
 "metadata": {
  "kernelspec": {
   "display_name": "Python 3",
   "language": "python",
   "name": "python3"
  },
  "language_info": {
   "codemirror_mode": {
    "name": "ipython",
    "version": 3
   },
   "file_extension": ".py",
   "mimetype": "text/x-python",
   "name": "python",
   "nbconvert_exporter": "python",
   "pygments_lexer": "ipython3",
   "version": "3.8.8"
  }
 },
 "nbformat": 4,
 "nbformat_minor": 5
}