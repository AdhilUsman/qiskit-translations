{
 "cells": [
  {
   "cell_type": "code",
   "execution_count": 1,
   "id": "5be59f03",
   "metadata": {
    "execution": {
     "iopub.execute_input": "2021-06-08T09:26:10.301164Z",
     "iopub.status.busy": "2021-06-08T09:26:10.300620Z",
     "iopub.status.idle": "2021-06-08T09:26:11.006547Z",
     "shell.execute_reply": "2021-06-08T09:26:11.005498Z"
    }
   },
   "outputs": [],
   "source": [
    "from qiskit import *"
   ]
  },
  {
   "cell_type": "code",
   "execution_count": 2,
   "id": "3fc33a76",
   "metadata": {
    "execution": {
     "iopub.execute_input": "2021-06-08T09:26:11.021393Z",
     "iopub.status.busy": "2021-06-08T09:26:11.020416Z",
     "iopub.status.idle": "2021-06-08T09:26:11.023916Z",
     "shell.execute_reply": "2021-06-08T09:26:11.023428Z"
    }
   },
   "outputs": [
    {
     "data": {
      "text/plain": [
       "<qiskit.circuit.instructionset.InstructionSet at 0x7fe09cafe2e0>"
      ]
     },
     "execution_count": 2,
     "metadata": {},
     "output_type": "execute_result"
    }
   ],
   "source": [
    "qr = QuantumRegister(3, 'q')\n",
    "cr = ClassicalRegister(2, 'zx_meas')\n",
    "qc = QuantumCircuit(qr,cr)\n",
    "qc.reset(range(3))\n",
    "qc.barrier()\n",
    "qc.h(1)\n",
    "qc.cx([1,0],[2,1])\n",
    "qc.h(0)\n",
    "qc.barrier()\n",
    "qc.measure([0,1], [0,1])\n",
    "qc.barrier()\n",
    "qc.z(2).c_if(cr, 1)\n",
    "qc.x(2).c_if(cr, 2)"
   ]
  }
 ],
 "metadata": {
  "kernelspec": {
   "display_name": "Python 3",
   "language": "python",
   "name": "python3"
  },
  "language_info": {
   "codemirror_mode": {
    "name": "ipython",
    "version": 3
   },
   "file_extension": ".py",
   "mimetype": "text/x-python",
   "name": "python",
   "nbconvert_exporter": "python",
   "pygments_lexer": "ipython3",
   "version": "3.8.10"
  }
 },
 "nbformat": 4,
 "nbformat_minor": 5
}