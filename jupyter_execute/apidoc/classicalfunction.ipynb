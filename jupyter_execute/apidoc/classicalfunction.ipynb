{
 "cells": [
  {
   "cell_type": "code",
   "execution_count": 1,
   "id": "1aacaf9d",
   "metadata": {
    "execution": {
     "iopub.execute_input": "2021-06-17T19:58:19.814569Z",
     "iopub.status.busy": "2021-06-17T19:58:19.813970Z",
     "iopub.status.idle": "2021-06-17T19:58:20.618747Z",
     "shell.execute_reply": "2021-06-17T19:58:20.618034Z"
    }
   },
   "outputs": [
    {
     "data": {
      "text/html": [
       "<pre style=\"word-wrap: normal;white-space: pre;background: #fff0;line-height: 1.1;font-family: &quot;Courier New&quot;,Courier,monospace\">          \n",
       "q_0: ──o──\n",
       "       │  \n",
       "q_1: ──■──\n",
       "       │  \n",
       "q_2: ──o──\n",
       "       │  \n",
       "q_3: ──■──\n",
       "     ┌─┴─┐\n",
       "q_4: ┤ X ├\n",
       "     └───┘</pre>"
      ],
      "text/plain": [
       "          \n",
       "q_0: ──o──\n",
       "       │  \n",
       "q_1: ──■──\n",
       "       │  \n",
       "q_2: ──o──\n",
       "       │  \n",
       "q_3: ──■──\n",
       "     ┌─┴─┐\n",
       "q_4: ┤ X ├\n",
       "     └───┘"
      ]
     },
     "execution_count": 1,
     "metadata": {},
     "output_type": "execute_result"
    }
   ],
   "source": [
    "from qiskit.circuit import classical_function,  Int1\n",
    "\n",
    "@classical_function\n",
    "def grover_oracle(a: Int1, b: Int1, c: Int1, d: Int1) -> Int1:\n",
    "    return (not a and b and not c and d)\n",
    "\n",
    "quantum_circuit = grover_oracle.synth()\n",
    "quantum_circuit.draw()"
   ]
  }
 ],
 "metadata": {
  "kernelspec": {
   "display_name": "Python 3",
   "language": "python",
   "name": "python3"
  },
  "language_info": {
   "codemirror_mode": {
    "name": "ipython",
    "version": 3
   },
   "file_extension": ".py",
   "mimetype": "text/x-python",
   "name": "python",
   "nbconvert_exporter": "python",
   "pygments_lexer": "ipython3",
   "version": "3.8.10"
  }
 },
 "nbformat": 4,
 "nbformat_minor": 5
}