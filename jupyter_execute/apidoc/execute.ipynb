{
 "cells": [
  {
   "cell_type": "code",
   "execution_count": 1,
   "id": "d6acf196",
   "metadata": {
    "execution": {
     "iopub.execute_input": "2021-04-09T22:13:03.950959Z",
     "iopub.status.busy": "2021-04-09T22:13:03.950326Z",
     "iopub.status.idle": "2021-04-09T22:13:05.172772Z",
     "shell.execute_reply": "2021-04-09T22:13:05.173391Z"
    }
   },
   "outputs": [],
   "source": [
    "from qiskit import QuantumCircuit, execute, BasicAer\n",
    "\n",
    "backend = BasicAer.get_backend('qasm_simulator')\n",
    "\n",
    "qc = QuantumCircuit(5, 5)\n",
    "qc.h(0)\n",
    "qc.cx(0, range(1, 5))\n",
    "qc.measure_all()\n",
    "\n",
    "job = execute(qc, backend, shots=4321)"
   ]
  }
 ],
 "metadata": {
  "kernelspec": {
   "display_name": "Python 3",
   "language": "python",
   "name": "python3"
  },
  "language_info": {
   "codemirror_mode": {
    "name": "ipython",
    "version": 3
   },
   "file_extension": ".py",
   "mimetype": "text/x-python",
   "name": "python",
   "nbconvert_exporter": "python",
   "pygments_lexer": "ipython3",
   "version": "3.8.8"
  }
 },
 "nbformat": 4,
 "nbformat_minor": 5
}