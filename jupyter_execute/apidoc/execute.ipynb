{
 "cells": [
  {
   "cell_type": "code",
   "execution_count": 1,
   "id": "60d794da",
   "metadata": {
    "execution": {
     "iopub.execute_input": "2021-05-13T04:54:55.832747Z",
     "iopub.status.busy": "2021-05-13T04:54:55.832203Z",
     "iopub.status.idle": "2021-05-13T04:54:56.985732Z",
     "shell.execute_reply": "2021-05-13T04:54:56.985018Z"
    }
   },
   "outputs": [],
   "source": [
    "from qiskit import QuantumCircuit, execute, BasicAer\n",
    "\n",
    "backend = BasicAer.get_backend('qasm_simulator')\n",
    "\n",
    "qc = QuantumCircuit(5, 5)\n",
    "qc.h(0)\n",
    "qc.cx(0, range(1, 5))\n",
    "qc.measure_all()\n",
    "\n",
    "job = execute(qc, backend, shots=4321)"
   ]
  }
 ],
 "metadata": {
  "kernelspec": {
   "display_name": "Python 3",
   "language": "python",
   "name": "python3"
  },
  "language_info": {
   "codemirror_mode": {
    "name": "ipython",
    "version": 3
   },
   "file_extension": ".py",
   "mimetype": "text/x-python",
   "name": "python",
   "nbconvert_exporter": "python",
   "pygments_lexer": "ipython3",
   "version": "3.8.10"
  }
 },
 "nbformat": 4,
 "nbformat_minor": 5
}