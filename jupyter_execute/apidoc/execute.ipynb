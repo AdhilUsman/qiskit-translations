{
 "cells": [
  {
   "cell_type": "code",
   "execution_count": 1,
   "id": "866a5785",
   "metadata": {
    "execution": {
     "iopub.execute_input": "2021-04-07T01:35:51.536720Z",
     "iopub.status.busy": "2021-04-07T01:35:51.536094Z",
     "iopub.status.idle": "2021-04-07T01:35:52.720331Z",
     "shell.execute_reply": "2021-04-07T01:35:52.719463Z"
    }
   },
   "outputs": [],
   "source": [
    "from qiskit import QuantumCircuit, execute, BasicAer\n",
    "\n",
    "backend = BasicAer.get_backend('qasm_simulator')\n",
    "\n",
    "qc = QuantumCircuit(5, 5)\n",
    "qc.h(0)\n",
    "qc.cx(0, range(1, 5))\n",
    "qc.measure_all()\n",
    "\n",
    "job = execute(qc, backend, shots=4321)"
   ]
  }
 ],
 "metadata": {
  "kernelspec": {
   "display_name": "Python 3",
   "language": "python",
   "name": "python3"
  },
  "language_info": {
   "codemirror_mode": {
    "name": "ipython",
    "version": 3
   },
   "file_extension": ".py",
   "mimetype": "text/x-python",
   "name": "python",
   "nbconvert_exporter": "python",
   "pygments_lexer": "ipython3",
   "version": "3.8.8"
  }
 },
 "nbformat": 4,
 "nbformat_minor": 5
}