{
 "cells": [
  {
   "cell_type": "code",
   "execution_count": 1,
   "id": "2c0b96c2",
   "metadata": {
    "execution": {
     "iopub.execute_input": "2021-06-08T22:42:44.847517Z",
     "iopub.status.busy": "2021-06-08T22:42:44.846948Z",
     "iopub.status.idle": "2021-06-08T22:42:45.934690Z",
     "shell.execute_reply": "2021-06-08T22:42:45.933708Z"
    }
   },
   "outputs": [],
   "source": [
    "from qiskit import QuantumCircuit, execute, BasicAer\n",
    "\n",
    "backend = BasicAer.get_backend('qasm_simulator')\n",
    "\n",
    "qc = QuantumCircuit(5, 5)\n",
    "qc.h(0)\n",
    "qc.cx(0, range(1, 5))\n",
    "qc.measure_all()\n",
    "\n",
    "job = execute(qc, backend, shots=4321)"
   ]
  }
 ],
 "metadata": {
  "kernelspec": {
   "display_name": "Python 3",
   "language": "python",
   "name": "python3"
  },
  "language_info": {
   "codemirror_mode": {
    "name": "ipython",
    "version": 3
   },
   "file_extension": ".py",
   "mimetype": "text/x-python",
   "name": "python",
   "nbconvert_exporter": "python",
   "pygments_lexer": "ipython3",
   "version": "3.8.10"
  }
 },
 "nbformat": 4,
 "nbformat_minor": 5
}