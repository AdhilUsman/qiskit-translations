{
 "cells": [
  {
   "cell_type": "code",
   "execution_count": 1,
   "id": "3062a204",
   "metadata": {
    "execution": {
     "iopub.execute_input": "2021-06-17T21:02:04.230101Z",
     "iopub.status.busy": "2021-06-17T21:02:04.229456Z",
     "iopub.status.idle": "2021-06-17T21:02:04.972135Z",
     "shell.execute_reply": "2021-06-17T21:02:04.972705Z"
    }
   },
   "outputs": [],
   "source": [
    "from qiskit import BasicAer\n",
    "\n",
    "backend = BasicAer.get_backend('qasm_simulator')"
   ]
  }
 ],
 "metadata": {
  "kernelspec": {
   "display_name": "Python 3",
   "language": "python",
   "name": "python3"
  },
  "language_info": {
   "codemirror_mode": {
    "name": "ipython",
    "version": 3
   },
   "file_extension": ".py",
   "mimetype": "text/x-python",
   "name": "python",
   "nbconvert_exporter": "python",
   "pygments_lexer": "ipython3",
   "version": "3.8.10"
  }
 },
 "nbformat": 4,
 "nbformat_minor": 5
}