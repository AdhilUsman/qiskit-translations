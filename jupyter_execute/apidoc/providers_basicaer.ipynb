{
 "cells": [
  {
   "cell_type": "code",
   "execution_count": 1,
   "id": "cc914d17",
   "metadata": {
    "execution": {
     "iopub.execute_input": "2021-06-20T13:16:34.135269Z",
     "iopub.status.busy": "2021-06-20T13:16:34.134612Z",
     "iopub.status.idle": "2021-06-20T13:16:34.823334Z",
     "shell.execute_reply": "2021-06-20T13:16:34.822280Z"
    }
   },
   "outputs": [],
   "source": [
    "from qiskit import BasicAer\n",
    "\n",
    "backend = BasicAer.get_backend('qasm_simulator')"
   ]
  }
 ],
 "metadata": {
  "kernelspec": {
   "display_name": "Python 3",
   "language": "python",
   "name": "python3"
  },
  "language_info": {
   "codemirror_mode": {
    "name": "ipython",
    "version": 3
   },
   "file_extension": ".py",
   "mimetype": "text/x-python",
   "name": "python",
   "nbconvert_exporter": "python",
   "pygments_lexer": "ipython3",
   "version": "3.8.10"
  }
 },
 "nbformat": 4,
 "nbformat_minor": 5
}