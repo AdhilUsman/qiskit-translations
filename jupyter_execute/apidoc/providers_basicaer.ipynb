{
 "cells": [
  {
   "cell_type": "code",
   "execution_count": 1,
   "id": "5b85067f",
   "metadata": {
    "execution": {
     "iopub.execute_input": "2021-04-13T02:58:49.012530Z",
     "iopub.status.busy": "2021-04-13T02:58:49.011951Z",
     "iopub.status.idle": "2021-04-13T02:58:49.671919Z",
     "shell.execute_reply": "2021-04-13T02:58:49.671315Z"
    }
   },
   "outputs": [],
   "source": [
    "from qiskit import BasicAer\n",
    "\n",
    "backend = BasicAer.get_backend('qasm_simulator')"
   ]
  }
 ],
 "metadata": {
  "kernelspec": {
   "display_name": "Python 3",
   "language": "python",
   "name": "python3"
  },
  "language_info": {
   "codemirror_mode": {
    "name": "ipython",
    "version": 3
   },
   "file_extension": ".py",
   "mimetype": "text/x-python",
   "name": "python",
   "nbconvert_exporter": "python",
   "pygments_lexer": "ipython3",
   "version": "3.8.8"
  }
 },
 "nbformat": 4,
 "nbformat_minor": 5
}