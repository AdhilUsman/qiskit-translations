{
 "cells": [
  {
   "cell_type": "code",
   "execution_count": 1,
   "id": "private-disability",
   "metadata": {
    "execution": {
     "iopub.execute_input": "2021-03-28T22:52:23.145836Z",
     "iopub.status.busy": "2021-03-28T22:52:23.145172Z",
     "iopub.status.idle": "2021-03-28T22:52:24.877745Z",
     "shell.execute_reply": "2021-03-28T22:52:24.877142Z"
    }
   },
   "outputs": [],
   "source": [
    "from qiskit import BasicAer\n",
    "\n",
    "backend = BasicAer.get_backend('qasm_simulator')"
   ]
  }
 ],
 "metadata": {
  "kernelspec": {
   "display_name": "Python 3",
   "language": "python",
   "name": "python3"
  },
  "language_info": {
   "codemirror_mode": {
    "name": "ipython",
    "version": 3
   },
   "file_extension": ".py",
   "mimetype": "text/x-python",
   "name": "python",
   "nbconvert_exporter": "python",
   "pygments_lexer": "ipython3",
   "version": "3.8.8"
  }
 },
 "nbformat": 4,
 "nbformat_minor": 5
}