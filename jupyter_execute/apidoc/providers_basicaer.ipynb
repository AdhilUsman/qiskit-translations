{
 "cells": [
  {
   "cell_type": "code",
   "execution_count": 1,
   "id": "114847b0",
   "metadata": {
    "execution": {
     "iopub.execute_input": "2021-06-19T17:49:08.937719Z",
     "iopub.status.busy": "2021-06-19T17:49:08.937122Z",
     "iopub.status.idle": "2021-06-19T17:49:09.579596Z",
     "shell.execute_reply": "2021-06-19T17:49:09.578707Z"
    }
   },
   "outputs": [],
   "source": [
    "from qiskit import BasicAer\n",
    "\n",
    "backend = BasicAer.get_backend('qasm_simulator')"
   ]
  }
 ],
 "metadata": {
  "kernelspec": {
   "display_name": "Python 3",
   "language": "python",
   "name": "python3"
  },
  "language_info": {
   "codemirror_mode": {
    "name": "ipython",
    "version": 3
   },
   "file_extension": ".py",
   "mimetype": "text/x-python",
   "name": "python",
   "nbconvert_exporter": "python",
   "pygments_lexer": "ipython3",
   "version": "3.8.10"
  }
 },
 "nbformat": 4,
 "nbformat_minor": 5
}