{
 "cells": [
  {
   "cell_type": "code",
   "execution_count": 1,
   "id": "7a07bd9a",
   "metadata": {
    "execution": {
     "iopub.execute_input": "2021-04-10T14:45:03.187691Z",
     "iopub.status.busy": "2021-04-10T14:45:03.187029Z",
     "iopub.status.idle": "2021-04-10T14:45:03.755579Z",
     "shell.execute_reply": "2021-04-10T14:45:03.755049Z"
    }
   },
   "outputs": [],
   "source": [
    "from qiskit import BasicAer\n",
    "\n",
    "backend = BasicAer.get_backend('qasm_simulator')"
   ]
  }
 ],
 "metadata": {
  "kernelspec": {
   "display_name": "Python 3",
   "language": "python",
   "name": "python3"
  },
  "language_info": {
   "codemirror_mode": {
    "name": "ipython",
    "version": 3
   },
   "file_extension": ".py",
   "mimetype": "text/x-python",
   "name": "python",
   "nbconvert_exporter": "python",
   "pygments_lexer": "ipython3",
   "version": "3.8.8"
  }
 },
 "nbformat": 4,
 "nbformat_minor": 5
}