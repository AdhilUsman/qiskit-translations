{
 "cells": [
  {
   "cell_type": "code",
   "execution_count": 1,
   "id": "1b6657f7",
   "metadata": {
    "execution": {
     "iopub.execute_input": "2021-04-29T04:48:23.675355Z",
     "iopub.status.busy": "2021-04-29T04:48:23.674810Z",
     "iopub.status.idle": "2021-04-29T04:48:24.250097Z",
     "shell.execute_reply": "2021-04-29T04:48:24.248608Z"
    }
   },
   "outputs": [],
   "source": [
    "from qiskit import BasicAer\n",
    "\n",
    "backend = BasicAer.get_backend('qasm_simulator')"
   ]
  }
 ],
 "metadata": {
  "kernelspec": {
   "display_name": "Python 3",
   "language": "python",
   "name": "python3"
  },
  "language_info": {
   "codemirror_mode": {
    "name": "ipython",
    "version": 3
   },
   "file_extension": ".py",
   "mimetype": "text/x-python",
   "name": "python",
   "nbconvert_exporter": "python",
   "pygments_lexer": "ipython3",
   "version": "3.8.9"
  }
 },
 "nbformat": 4,
 "nbformat_minor": 5
}