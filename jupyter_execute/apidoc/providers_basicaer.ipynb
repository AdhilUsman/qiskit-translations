{
 "cells": [
  {
   "cell_type": "code",
   "execution_count": 1,
   "id": "active-satin",
   "metadata": {
    "execution": {
     "iopub.execute_input": "2021-04-01T07:02:33.811863Z",
     "iopub.status.busy": "2021-04-01T07:02:33.811217Z",
     "iopub.status.idle": "2021-04-01T07:02:35.821410Z",
     "shell.execute_reply": "2021-04-01T07:02:35.820809Z"
    }
   },
   "outputs": [],
   "source": [
    "from qiskit import BasicAer\n",
    "\n",
    "backend = BasicAer.get_backend('qasm_simulator')"
   ]
  }
 ],
 "metadata": {
  "kernelspec": {
   "display_name": "Python 3",
   "language": "python",
   "name": "python3"
  },
  "language_info": {
   "codemirror_mode": {
    "name": "ipython",
    "version": 3
   },
   "file_extension": ".py",
   "mimetype": "text/x-python",
   "name": "python",
   "nbconvert_exporter": "python",
   "pygments_lexer": "ipython3",
   "version": "3.8.8"
  }
 },
 "nbformat": 4,
 "nbformat_minor": 5
}