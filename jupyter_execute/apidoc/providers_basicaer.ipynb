{
 "cells": [
  {
   "cell_type": "code",
   "execution_count": 1,
   "id": "ad9e877f",
   "metadata": {
    "execution": {
     "iopub.execute_input": "2021-06-15T14:29:17.084186Z",
     "iopub.status.busy": "2021-06-15T14:29:17.083600Z",
     "iopub.status.idle": "2021-06-15T14:29:17.788772Z",
     "shell.execute_reply": "2021-06-15T14:29:17.788170Z"
    }
   },
   "outputs": [],
   "source": [
    "from qiskit import BasicAer\n",
    "\n",
    "backend = BasicAer.get_backend('qasm_simulator')"
   ]
  }
 ],
 "metadata": {
  "kernelspec": {
   "display_name": "Python 3",
   "language": "python",
   "name": "python3"
  },
  "language_info": {
   "codemirror_mode": {
    "name": "ipython",
    "version": 3
   },
   "file_extension": ".py",
   "mimetype": "text/x-python",
   "name": "python",
   "nbconvert_exporter": "python",
   "pygments_lexer": "ipython3",
   "version": "3.8.10"
  }
 },
 "nbformat": 4,
 "nbformat_minor": 5
}