{
 "cells": [
  {
   "cell_type": "code",
   "execution_count": 1,
   "id": "76b7d2d9",
   "metadata": {
    "execution": {
     "iopub.execute_input": "2021-04-16T09:34:06.582516Z",
     "iopub.status.busy": "2021-04-16T09:34:06.581998Z",
     "iopub.status.idle": "2021-04-16T09:34:07.222180Z",
     "shell.execute_reply": "2021-04-16T09:34:07.221414Z"
    }
   },
   "outputs": [],
   "source": [
    "from qiskit import BasicAer\n",
    "\n",
    "backend = BasicAer.get_backend('qasm_simulator')"
   ]
  }
 ],
 "metadata": {
  "kernelspec": {
   "display_name": "Python 3",
   "language": "python",
   "name": "python3"
  },
  "language_info": {
   "codemirror_mode": {
    "name": "ipython",
    "version": 3
   },
   "file_extension": ".py",
   "mimetype": "text/x-python",
   "name": "python",
   "nbconvert_exporter": "python",
   "pygments_lexer": "ipython3",
   "version": "3.8.9"
  }
 },
 "nbformat": 4,
 "nbformat_minor": 5
}