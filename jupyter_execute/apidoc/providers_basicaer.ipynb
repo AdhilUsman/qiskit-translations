{
 "cells": [
  {
   "cell_type": "code",
   "execution_count": 1,
   "id": "7403f194",
   "metadata": {
    "execution": {
     "iopub.execute_input": "2021-04-25T05:38:41.795449Z",
     "iopub.status.busy": "2021-04-25T05:38:41.794836Z",
     "iopub.status.idle": "2021-04-25T05:38:42.517130Z",
     "shell.execute_reply": "2021-04-25T05:38:42.516498Z"
    }
   },
   "outputs": [],
   "source": [
    "from qiskit import BasicAer\n",
    "\n",
    "backend = BasicAer.get_backend('qasm_simulator')"
   ]
  }
 ],
 "metadata": {
  "kernelspec": {
   "display_name": "Python 3",
   "language": "python",
   "name": "python3"
  },
  "language_info": {
   "codemirror_mode": {
    "name": "ipython",
    "version": 3
   },
   "file_extension": ".py",
   "mimetype": "text/x-python",
   "name": "python",
   "nbconvert_exporter": "python",
   "pygments_lexer": "ipython3",
   "version": "3.8.9"
  }
 },
 "nbformat": 4,
 "nbformat_minor": 5
}