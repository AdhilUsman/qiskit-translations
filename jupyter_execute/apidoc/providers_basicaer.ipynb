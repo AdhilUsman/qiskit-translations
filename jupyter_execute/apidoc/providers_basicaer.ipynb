{
 "cells": [
  {
   "cell_type": "code",
   "execution_count": 1,
   "id": "f4fb3cb7",
   "metadata": {
    "execution": {
     "iopub.execute_input": "2021-06-21T01:36:29.043569Z",
     "iopub.status.busy": "2021-06-21T01:36:29.043046Z",
     "iopub.status.idle": "2021-06-21T01:36:29.711806Z",
     "shell.execute_reply": "2021-06-21T01:36:29.710788Z"
    }
   },
   "outputs": [],
   "source": [
    "from qiskit import BasicAer\n",
    "\n",
    "backend = BasicAer.get_backend('qasm_simulator')"
   ]
  }
 ],
 "metadata": {
  "kernelspec": {
   "display_name": "Python 3",
   "language": "python",
   "name": "python3"
  },
  "language_info": {
   "codemirror_mode": {
    "name": "ipython",
    "version": 3
   },
   "file_extension": ".py",
   "mimetype": "text/x-python",
   "name": "python",
   "nbconvert_exporter": "python",
   "pygments_lexer": "ipython3",
   "version": "3.8.10"
  }
 },
 "nbformat": 4,
 "nbformat_minor": 5
}