{
 "cells": [
  {
   "cell_type": "code",
   "execution_count": 1,
   "id": "947ecdba",
   "metadata": {
    "execution": {
     "iopub.execute_input": "2021-04-29T21:37:06.346375Z",
     "iopub.status.busy": "2021-04-29T21:37:06.345705Z",
     "iopub.status.idle": "2021-04-29T21:37:06.991134Z",
     "shell.execute_reply": "2021-04-29T21:37:06.990521Z"
    }
   },
   "outputs": [],
   "source": [
    "from qiskit import BasicAer\n",
    "\n",
    "backend = BasicAer.get_backend('qasm_simulator')"
   ]
  }
 ],
 "metadata": {
  "kernelspec": {
   "display_name": "Python 3",
   "language": "python",
   "name": "python3"
  },
  "language_info": {
   "codemirror_mode": {
    "name": "ipython",
    "version": 3
   },
   "file_extension": ".py",
   "mimetype": "text/x-python",
   "name": "python",
   "nbconvert_exporter": "python",
   "pygments_lexer": "ipython3",
   "version": "3.8.9"
  }
 },
 "nbformat": 4,
 "nbformat_minor": 5
}