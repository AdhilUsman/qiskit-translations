{
 "cells": [
  {
   "cell_type": "code",
   "execution_count": 1,
   "id": "b5e50da9",
   "metadata": {
    "execution": {
     "iopub.execute_input": "2021-04-08T03:19:38.929814Z",
     "iopub.status.busy": "2021-04-08T03:19:38.929191Z",
     "iopub.status.idle": "2021-04-08T03:19:39.659409Z",
     "shell.execute_reply": "2021-04-08T03:19:39.658465Z"
    }
   },
   "outputs": [],
   "source": [
    "from qiskit import BasicAer\n",
    "\n",
    "backend = BasicAer.get_backend('qasm_simulator')"
   ]
  }
 ],
 "metadata": {
  "kernelspec": {
   "display_name": "Python 3",
   "language": "python",
   "name": "python3"
  },
  "language_info": {
   "codemirror_mode": {
    "name": "ipython",
    "version": 3
   },
   "file_extension": ".py",
   "mimetype": "text/x-python",
   "name": "python",
   "nbconvert_exporter": "python",
   "pygments_lexer": "ipython3",
   "version": "3.8.8"
  }
 },
 "nbformat": 4,
 "nbformat_minor": 5
}