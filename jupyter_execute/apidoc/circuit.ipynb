{
 "cells": [
  {
   "cell_type": "code",
   "execution_count": 1,
   "id": "ad19d65f",
   "metadata": {
    "execution": {
     "iopub.execute_input": "2021-04-21T22:10:47.627181Z",
     "iopub.status.busy": "2021-04-21T22:10:47.626210Z",
     "iopub.status.idle": "2021-04-21T22:10:48.281746Z",
     "shell.execute_reply": "2021-04-21T22:10:48.282227Z"
    }
   },
   "outputs": [
    {
     "data": {
      "text/html": [
       "<pre style=\"word-wrap: normal;white-space: pre;background: #fff0;line-height: 1.1;font-family: &quot;Courier New&quot;,Courier,monospace\">     ┌───┐          \n",
       "q_0: ┤ H ├──■────■──\n",
       "     └───┘┌─┴─┐  │  \n",
       "q_1: ─────┤ X ├──┼──\n",
       "          └───┘┌─┴─┐\n",
       "q_2: ──────────┤ X ├\n",
       "               └───┘</pre>"
      ],
      "text/plain": [
       "     ┌───┐          \n",
       "q_0: ┤ H ├──■────■──\n",
       "     └───┘┌─┴─┐  │  \n",
       "q_1: ─────┤ X ├──┼──\n",
       "          └───┘┌─┴─┐\n",
       "q_2: ──────────┤ X ├\n",
       "               └───┘"
      ]
     },
     "execution_count": 1,
     "metadata": {},
     "output_type": "execute_result"
    }
   ],
   "source": [
    "from qiskit import QuantumCircuit\n",
    "# Create a circuit with a register of three qubits\n",
    "circ = QuantumCircuit(3)\n",
    "# H gate on qubit 0, putting this qubit in a superposition of |0> + |1>.\n",
    "circ.h(0)\n",
    "# A CX (CNOT) gate on control qubit 0 and target qubit 1 generating a Bell state.\n",
    "circ.cx(0, 1)\n",
    "# CX (CNOT) gate on control qubit 0 and target qubit 2 resulting in a GHZ state.\n",
    "circ.cx(0, 2)\n",
    "# Draw the circuit\n",
    "circ.draw()"
   ]
  },
  {
   "cell_type": "code",
   "execution_count": 2,
   "id": "9b689b0b",
   "metadata": {
    "execution": {
     "iopub.execute_input": "2021-04-21T22:10:48.302026Z",
     "iopub.status.busy": "2021-04-21T22:10:48.300818Z",
     "iopub.status.idle": "2021-04-21T22:10:48.304355Z",
     "shell.execute_reply": "2021-04-21T22:10:48.303806Z"
    }
   },
   "outputs": [
    {
     "data": {
      "text/html": [
       "<pre style=\"word-wrap: normal;white-space: pre;background: #fff0;line-height: 1.1;font-family: &quot;Courier New&quot;,Courier,monospace\">      ┌───┐                                                           \n",
       " q_0: ┤ H ├──■────────────────────────────────────────────────────────\n",
       "      ├───┤  │                                                        \n",
       " q_1: ┤ H ├──┼────■───────────────────■────■─────────■────────────────\n",
       "      ├───┤  │    │                   │    │         │                \n",
       " q_2: ┤ H ├──┼────┼────■──────────────┼────┼─────────┼────────────────\n",
       "      ├───┤  │    │    │              │    │         │                \n",
       " q_3: ┤ H ├──┼────┼────┼────■─────────┼────┼─────────┼────────────────\n",
       "      ├───┤  │    │    │    │         │    │         │                \n",
       " q_4: ┤ H ├──┼────┼────┼────┼────■────┼────┼─────────┼────────────────\n",
       "      └───┘┌─┴─┐  │    │    │    │    │    │         │                \n",
       " q_5: ─────┤ X ├──┼────┼────┼────┼────┼────┼─────────┼────────────────\n",
       "           └───┘┌─┴─┐  │    │    │    │    │         │           ┌───┐\n",
       " q_6: ──────────┤ X ├──┼────┼────┼────┼────┼─────────┼───X──X──X─┤ X ├\n",
       "                └───┘┌─┴─┐  │    │  ┌─┴─┐  │  ┌───┐  │   │  │  │ └───┘\n",
       " q_7: ───────────────┤ X ├──┼────┼──┤ X ├──┼──┤ X ├──┼───┼──┼──┼──────\n",
       "                     └───┘┌─┴─┐  │  ├───┤  │  └───┘  │   │  │  │      \n",
       " q_8: ────────────────────┤ X ├──┼──┤ X ├──┼─────────┼───┼──┼──┼──────\n",
       "                          └───┘┌─┴─┐└───┘┌─┴─┐       │   │  │  │      \n",
       " q_9: ─────────────────────────┤ X ├─────┤ X ├───────┼───┼──X──┼──────\n",
       "                               └───┘     └───┘       │   │     │      \n",
       "q_10: ───────────────────────────────────────────────┼───┼─────X──────\n",
       "                                                   ┌─┴─┐ │            \n",
       "q_11: ─────────────────────────────────────────────┤ X ├─X────────────\n",
       "                                                   └───┘              </pre>"
      ],
      "text/plain": [
       "      ┌───┐                                                           \n",
       " q_0: ┤ H ├──■────────────────────────────────────────────────────────\n",
       "      ├───┤  │                                                        \n",
       " q_1: ┤ H ├──┼────■───────────────────■────■─────────■────────────────\n",
       "      ├───┤  │    │                   │    │         │                \n",
       " q_2: ┤ H ├──┼────┼────■──────────────┼────┼─────────┼────────────────\n",
       "      ├───┤  │    │    │              │    │         │                \n",
       " q_3: ┤ H ├──┼────┼────┼────■─────────┼────┼─────────┼────────────────\n",
       "      ├───┤  │    │    │    │         │    │         │                \n",
       " q_4: ┤ H ├──┼────┼────┼────┼────■────┼────┼─────────┼────────────────\n",
       "      └───┘┌─┴─┐  │    │    │    │    │    │         │                \n",
       " q_5: ─────┤ X ├──┼────┼────┼────┼────┼────┼─────────┼────────────────\n",
       "           └───┘┌─┴─┐  │    │    │    │    │         │           ┌───┐\n",
       " q_6: ──────────┤ X ├──┼────┼────┼────┼────┼─────────┼───X──X──X─┤ X ├\n",
       "                └───┘┌─┴─┐  │    │  ┌─┴─┐  │  ┌───┐  │   │  │  │ └───┘\n",
       " q_7: ───────────────┤ X ├──┼────┼──┤ X ├──┼──┤ X ├──┼───┼──┼──┼──────\n",
       "                     └───┘┌─┴─┐  │  ├───┤  │  └───┘  │   │  │  │      \n",
       " q_8: ────────────────────┤ X ├──┼──┤ X ├──┼─────────┼───┼──┼──┼──────\n",
       "                          └───┘┌─┴─┐└───┘┌─┴─┐       │   │  │  │      \n",
       " q_9: ─────────────────────────┤ X ├─────┤ X ├───────┼───┼──X──┼──────\n",
       "                               └───┘     └───┘       │   │     │      \n",
       "q_10: ───────────────────────────────────────────────┼───┼─────X──────\n",
       "                                                   ┌─┴─┐ │            \n",
       "q_11: ─────────────────────────────────────────────┤ X ├─X────────────\n",
       "                                                   └───┘              "
      ]
     },
     "execution_count": 2,
     "metadata": {},
     "output_type": "execute_result"
    }
   ],
   "source": [
    "from qiskit import QuantumCircuit\n",
    "qc = QuantumCircuit(12)\n",
    "for idx in range(5):\n",
    "   qc.h(idx)\n",
    "   qc.cx(idx, idx+5)\n",
    "\n",
    "qc.cx(1, 7)\n",
    "qc.x(8)\n",
    "qc.cx(1, 9)\n",
    "qc.x(7)\n",
    "qc.cx(1, 11)\n",
    "qc.swap(6, 11)\n",
    "qc.swap(6, 9)\n",
    "qc.swap(6, 10)\n",
    "qc.x(6)\n",
    "qc.draw()"
   ]
  },
  {
   "cell_type": "code",
   "execution_count": 3,
   "id": "aadca5ff",
   "metadata": {
    "execution": {
     "iopub.execute_input": "2021-04-21T22:10:48.309276Z",
     "iopub.status.busy": "2021-04-21T22:10:48.308250Z",
     "iopub.status.idle": "2021-04-21T22:10:48.311577Z",
     "shell.execute_reply": "2021-04-21T22:10:48.310865Z"
    }
   },
   "outputs": [
    {
     "data": {
      "text/plain": [
       "12"
      ]
     },
     "execution_count": 3,
     "metadata": {},
     "output_type": "execute_result"
    }
   ],
   "source": [
    "qc.width()"
   ]
  },
  {
   "cell_type": "code",
   "execution_count": 4,
   "id": "dbbb42fb",
   "metadata": {
    "execution": {
     "iopub.execute_input": "2021-04-21T22:10:48.315717Z",
     "iopub.status.busy": "2021-04-21T22:10:48.315169Z",
     "iopub.status.idle": "2021-04-21T22:10:48.317736Z",
     "shell.execute_reply": "2021-04-21T22:10:48.318168Z"
    }
   },
   "outputs": [
    {
     "data": {
      "text/plain": [
       "12"
      ]
     },
     "execution_count": 4,
     "metadata": {},
     "output_type": "execute_result"
    }
   ],
   "source": [
    "qc.num_qubits"
   ]
  },
  {
   "cell_type": "code",
   "execution_count": 5,
   "id": "acc45b2f",
   "metadata": {
    "execution": {
     "iopub.execute_input": "2021-04-21T22:10:48.322672Z",
     "iopub.status.busy": "2021-04-21T22:10:48.322089Z",
     "iopub.status.idle": "2021-04-21T22:10:48.327838Z",
     "shell.execute_reply": "2021-04-21T22:10:48.327327Z"
    }
   },
   "outputs": [
    {
     "data": {
      "text/plain": [
       "OrderedDict([('cx', 8), ('h', 5), ('x', 3), ('swap', 3)])"
      ]
     },
     "execution_count": 5,
     "metadata": {},
     "output_type": "execute_result"
    }
   ],
   "source": [
    "qc.count_ops()"
   ]
  },
  {
   "cell_type": "code",
   "execution_count": 6,
   "id": "ac9b56b3",
   "metadata": {
    "execution": {
     "iopub.execute_input": "2021-04-21T22:10:48.331880Z",
     "iopub.status.busy": "2021-04-21T22:10:48.331355Z",
     "iopub.status.idle": "2021-04-21T22:10:48.333899Z",
     "shell.execute_reply": "2021-04-21T22:10:48.334354Z"
    }
   },
   "outputs": [
    {
     "data": {
      "text/plain": [
       "19"
      ]
     },
     "execution_count": 6,
     "metadata": {},
     "output_type": "execute_result"
    }
   ],
   "source": [
    "qc.size()"
   ]
  },
  {
   "cell_type": "code",
   "execution_count": 7,
   "id": "ae06ad72",
   "metadata": {
    "execution": {
     "iopub.execute_input": "2021-04-21T22:10:48.338344Z",
     "iopub.status.busy": "2021-04-21T22:10:48.337778Z",
     "iopub.status.idle": "2021-04-21T22:10:48.340281Z",
     "shell.execute_reply": "2021-04-21T22:10:48.340718Z"
    }
   },
   "outputs": [
    {
     "data": {
      "text/plain": [
       "9"
      ]
     },
     "execution_count": 7,
     "metadata": {},
     "output_type": "execute_result"
    }
   ],
   "source": [
    "qc.depth()"
   ]
  }
 ],
 "metadata": {
  "kernelspec": {
   "display_name": "Python 3",
   "language": "python",
   "name": "python3"
  },
  "language_info": {
   "codemirror_mode": {
    "name": "ipython",
    "version": 3
   },
   "file_extension": ".py",
   "mimetype": "text/x-python",
   "name": "python",
   "nbconvert_exporter": "python",
   "pygments_lexer": "ipython3",
   "version": "3.8.9"
  }
 },
 "nbformat": 4,
 "nbformat_minor": 5
}