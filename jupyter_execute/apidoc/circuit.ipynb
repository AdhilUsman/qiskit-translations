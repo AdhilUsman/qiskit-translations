{
 "cells": [
  {
   "cell_type": "code",
   "execution_count": 1,
   "id": "8d23849c",
   "metadata": {
    "execution": {
     "iopub.execute_input": "2021-05-14T14:31:47.563355Z",
     "iopub.status.busy": "2021-05-14T14:31:47.562246Z",
     "iopub.status.idle": "2021-05-14T14:31:48.405803Z",
     "shell.execute_reply": "2021-05-14T14:31:48.406566Z"
    }
   },
   "outputs": [
    {
     "data": {
      "text/html": [
       "<pre style=\"word-wrap: normal;white-space: pre;background: #fff0;line-height: 1.1;font-family: &quot;Courier New&quot;,Courier,monospace\">     ┌───┐          \n",
       "q_0: ┤ H ├──■────■──\n",
       "     └───┘┌─┴─┐  │  \n",
       "q_1: ─────┤ X ├──┼──\n",
       "          └───┘┌─┴─┐\n",
       "q_2: ──────────┤ X ├\n",
       "               └───┘</pre>"
      ],
      "text/plain": [
       "     ┌───┐          \n",
       "q_0: ┤ H ├──■────■──\n",
       "     └───┘┌─┴─┐  │  \n",
       "q_1: ─────┤ X ├──┼──\n",
       "          └───┘┌─┴─┐\n",
       "q_2: ──────────┤ X ├\n",
       "               └───┘"
      ]
     },
     "execution_count": 1,
     "metadata": {},
     "output_type": "execute_result"
    }
   ],
   "source": [
    "from qiskit import QuantumCircuit\n",
    "# Create a circuit with a register of three qubits\n",
    "circ = QuantumCircuit(3)\n",
    "# H gate on qubit 0, putting this qubit in a superposition of |0> + |1>.\n",
    "circ.h(0)\n",
    "# A CX (CNOT) gate on control qubit 0 and target qubit 1 generating a Bell state.\n",
    "circ.cx(0, 1)\n",
    "# CX (CNOT) gate on control qubit 0 and target qubit 2 resulting in a GHZ state.\n",
    "circ.cx(0, 2)\n",
    "# Draw the circuit\n",
    "circ.draw()"
   ]
  },
  {
   "cell_type": "code",
   "execution_count": 2,
   "id": "5ac56c64",
   "metadata": {
    "execution": {
     "iopub.execute_input": "2021-05-14T14:31:48.419579Z",
     "iopub.status.busy": "2021-05-14T14:31:48.418948Z",
     "iopub.status.idle": "2021-05-14T14:31:48.432910Z",
     "shell.execute_reply": "2021-05-14T14:31:48.433604Z"
    }
   },
   "outputs": [
    {
     "data": {
      "text/html": [
       "<pre style=\"word-wrap: normal;white-space: pre;background: #fff0;line-height: 1.1;font-family: &quot;Courier New&quot;,Courier,monospace\">      ┌───┐                                                           \n",
       " q_0: ┤ H ├──■────────────────────────────────────────────────────────\n",
       "      ├───┤  │                                                        \n",
       " q_1: ┤ H ├──┼────■───────────────────■────■─────────■────────────────\n",
       "      ├───┤  │    │                   │    │         │                \n",
       " q_2: ┤ H ├──┼────┼────■──────────────┼────┼─────────┼────────────────\n",
       "      ├───┤  │    │    │              │    │         │                \n",
       " q_3: ┤ H ├──┼────┼────┼────■─────────┼────┼─────────┼────────────────\n",
       "      ├───┤  │    │    │    │         │    │         │                \n",
       " q_4: ┤ H ├──┼────┼────┼────┼────■────┼────┼─────────┼────────────────\n",
       "      └───┘┌─┴─┐  │    │    │    │    │    │         │                \n",
       " q_5: ─────┤ X ├──┼────┼────┼────┼────┼────┼─────────┼────────────────\n",
       "           └───┘┌─┴─┐  │    │    │    │    │         │           ┌───┐\n",
       " q_6: ──────────┤ X ├──┼────┼────┼────┼────┼─────────┼───X──X──X─┤ X ├\n",
       "                └───┘┌─┴─┐  │    │  ┌─┴─┐  │  ┌───┐  │   │  │  │ └───┘\n",
       " q_7: ───────────────┤ X ├──┼────┼──┤ X ├──┼──┤ X ├──┼───┼──┼──┼──────\n",
       "                     └───┘┌─┴─┐  │  ├───┤  │  └───┘  │   │  │  │      \n",
       " q_8: ────────────────────┤ X ├──┼──┤ X ├──┼─────────┼───┼──┼──┼──────\n",
       "                          └───┘┌─┴─┐└───┘┌─┴─┐       │   │  │  │      \n",
       " q_9: ─────────────────────────┤ X ├─────┤ X ├───────┼───┼──X──┼──────\n",
       "                               └───┘     └───┘       │   │     │      \n",
       "q_10: ───────────────────────────────────────────────┼───┼─────X──────\n",
       "                                                   ┌─┴─┐ │            \n",
       "q_11: ─────────────────────────────────────────────┤ X ├─X────────────\n",
       "                                                   └───┘              </pre>"
      ],
      "text/plain": [
       "      ┌───┐                                                           \n",
       " q_0: ┤ H ├──■────────────────────────────────────────────────────────\n",
       "      ├───┤  │                                                        \n",
       " q_1: ┤ H ├──┼────■───────────────────■────■─────────■────────────────\n",
       "      ├───┤  │    │                   │    │         │                \n",
       " q_2: ┤ H ├──┼────┼────■──────────────┼────┼─────────┼────────────────\n",
       "      ├───┤  │    │    │              │    │         │                \n",
       " q_3: ┤ H ├──┼────┼────┼────■─────────┼────┼─────────┼────────────────\n",
       "      ├───┤  │    │    │    │         │    │         │                \n",
       " q_4: ┤ H ├──┼────┼────┼────┼────■────┼────┼─────────┼────────────────\n",
       "      └───┘┌─┴─┐  │    │    │    │    │    │         │                \n",
       " q_5: ─────┤ X ├──┼────┼────┼────┼────┼────┼─────────┼────────────────\n",
       "           └───┘┌─┴─┐  │    │    │    │    │         │           ┌───┐\n",
       " q_6: ──────────┤ X ├──┼────┼────┼────┼────┼─────────┼───X──X──X─┤ X ├\n",
       "                └───┘┌─┴─┐  │    │  ┌─┴─┐  │  ┌───┐  │   │  │  │ └───┘\n",
       " q_7: ───────────────┤ X ├──┼────┼──┤ X ├──┼──┤ X ├──┼───┼──┼──┼──────\n",
       "                     └───┘┌─┴─┐  │  ├───┤  │  └───┘  │   │  │  │      \n",
       " q_8: ────────────────────┤ X ├──┼──┤ X ├──┼─────────┼───┼──┼──┼──────\n",
       "                          └───┘┌─┴─┐└───┘┌─┴─┐       │   │  │  │      \n",
       " q_9: ─────────────────────────┤ X ├─────┤ X ├───────┼───┼──X──┼──────\n",
       "                               └───┘     └───┘       │   │     │      \n",
       "q_10: ───────────────────────────────────────────────┼───┼─────X──────\n",
       "                                                   ┌─┴─┐ │            \n",
       "q_11: ─────────────────────────────────────────────┤ X ├─X────────────\n",
       "                                                   └───┘              "
      ]
     },
     "execution_count": 2,
     "metadata": {},
     "output_type": "execute_result"
    }
   ],
   "source": [
    "from qiskit import QuantumCircuit\n",
    "qc = QuantumCircuit(12)\n",
    "for idx in range(5):\n",
    "   qc.h(idx)\n",
    "   qc.cx(idx, idx+5)\n",
    "\n",
    "qc.cx(1, 7)\n",
    "qc.x(8)\n",
    "qc.cx(1, 9)\n",
    "qc.x(7)\n",
    "qc.cx(1, 11)\n",
    "qc.swap(6, 11)\n",
    "qc.swap(6, 9)\n",
    "qc.swap(6, 10)\n",
    "qc.x(6)\n",
    "qc.draw()"
   ]
  },
  {
   "cell_type": "code",
   "execution_count": 3,
   "id": "2ae10967",
   "metadata": {
    "execution": {
     "iopub.execute_input": "2021-05-14T14:31:48.440534Z",
     "iopub.status.busy": "2021-05-14T14:31:48.439620Z",
     "iopub.status.idle": "2021-05-14T14:31:48.443003Z",
     "shell.execute_reply": "2021-05-14T14:31:48.443514Z"
    }
   },
   "outputs": [
    {
     "data": {
      "text/plain": [
       "12"
      ]
     },
     "execution_count": 3,
     "metadata": {},
     "output_type": "execute_result"
    }
   ],
   "source": [
    "qc.width()"
   ]
  },
  {
   "cell_type": "code",
   "execution_count": 4,
   "id": "ce3165fd",
   "metadata": {
    "execution": {
     "iopub.execute_input": "2021-05-14T14:31:48.449812Z",
     "iopub.status.busy": "2021-05-14T14:31:48.448717Z",
     "iopub.status.idle": "2021-05-14T14:31:48.452102Z",
     "shell.execute_reply": "2021-05-14T14:31:48.452648Z"
    }
   },
   "outputs": [
    {
     "data": {
      "text/plain": [
       "12"
      ]
     },
     "execution_count": 4,
     "metadata": {},
     "output_type": "execute_result"
    }
   ],
   "source": [
    "qc.num_qubits"
   ]
  },
  {
   "cell_type": "code",
   "execution_count": 5,
   "id": "493a4452",
   "metadata": {
    "execution": {
     "iopub.execute_input": "2021-05-14T14:31:48.458924Z",
     "iopub.status.busy": "2021-05-14T14:31:48.457944Z",
     "iopub.status.idle": "2021-05-14T14:31:48.461263Z",
     "shell.execute_reply": "2021-05-14T14:31:48.461787Z"
    }
   },
   "outputs": [
    {
     "data": {
      "text/plain": [
       "OrderedDict([('cx', 8), ('h', 5), ('x', 3), ('swap', 3)])"
      ]
     },
     "execution_count": 5,
     "metadata": {},
     "output_type": "execute_result"
    }
   ],
   "source": [
    "qc.count_ops()"
   ]
  },
  {
   "cell_type": "code",
   "execution_count": 6,
   "id": "e8998589",
   "metadata": {
    "execution": {
     "iopub.execute_input": "2021-05-14T14:31:48.468694Z",
     "iopub.status.busy": "2021-05-14T14:31:48.467361Z",
     "iopub.status.idle": "2021-05-14T14:31:48.470929Z",
     "shell.execute_reply": "2021-05-14T14:31:48.471550Z"
    }
   },
   "outputs": [
    {
     "data": {
      "text/plain": [
       "19"
      ]
     },
     "execution_count": 6,
     "metadata": {},
     "output_type": "execute_result"
    }
   ],
   "source": [
    "qc.size()"
   ]
  },
  {
   "cell_type": "code",
   "execution_count": 7,
   "id": "61c87a87",
   "metadata": {
    "execution": {
     "iopub.execute_input": "2021-05-14T14:31:48.478420Z",
     "iopub.status.busy": "2021-05-14T14:31:48.476760Z",
     "iopub.status.idle": "2021-05-14T14:31:48.481060Z",
     "shell.execute_reply": "2021-05-14T14:31:48.480500Z"
    }
   },
   "outputs": [
    {
     "data": {
      "text/plain": [
       "9"
      ]
     },
     "execution_count": 7,
     "metadata": {},
     "output_type": "execute_result"
    }
   ],
   "source": [
    "qc.depth()"
   ]
  }
 ],
 "metadata": {
  "kernelspec": {
   "display_name": "Python 3",
   "language": "python",
   "name": "python3"
  },
  "language_info": {
   "codemirror_mode": {
    "name": "ipython",
    "version": 3
   },
   "file_extension": ".py",
   "mimetype": "text/x-python",
   "name": "python",
   "nbconvert_exporter": "python",
   "pygments_lexer": "ipython3",
   "version": "3.8.10"
  }
 },
 "nbformat": 4,
 "nbformat_minor": 5
}