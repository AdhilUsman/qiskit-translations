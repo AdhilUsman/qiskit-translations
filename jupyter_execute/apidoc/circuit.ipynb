{
 "cells": [
  {
   "cell_type": "code",
   "execution_count": 1,
   "id": "cc15603b",
   "metadata": {
    "execution": {
     "iopub.execute_input": "2021-04-08T00:18:20.087376Z",
     "iopub.status.busy": "2021-04-08T00:18:20.086735Z",
     "iopub.status.idle": "2021-04-08T00:18:20.781742Z",
     "shell.execute_reply": "2021-04-08T00:18:20.782278Z"
    }
   },
   "outputs": [
    {
     "data": {
      "text/html": [
       "<pre style=\"word-wrap: normal;white-space: pre;background: #fff0;line-height: 1.1;font-family: &quot;Courier New&quot;,Courier,monospace\">     ┌───┐          \n",
       "q_0: ┤ H ├──■────■──\n",
       "     └───┘┌─┴─┐  │  \n",
       "q_1: ─────┤ X ├──┼──\n",
       "          └───┘┌─┴─┐\n",
       "q_2: ──────────┤ X ├\n",
       "               └───┘</pre>"
      ],
      "text/plain": [
       "     ┌───┐          \n",
       "q_0: ┤ H ├──■────■──\n",
       "     └───┘┌─┴─┐  │  \n",
       "q_1: ─────┤ X ├──┼──\n",
       "          └───┘┌─┴─┐\n",
       "q_2: ──────────┤ X ├\n",
       "               └───┘"
      ]
     },
     "execution_count": 1,
     "metadata": {},
     "output_type": "execute_result"
    }
   ],
   "source": [
    "from qiskit import QuantumCircuit\n",
    "# Create a circuit with a register of three qubits\n",
    "circ = QuantumCircuit(3)\n",
    "# H gate on qubit 0, putting this qubit in a superposition of |0> + |1>.\n",
    "circ.h(0)\n",
    "# A CX (CNOT) gate on control qubit 0 and target qubit 1 generating a Bell state.\n",
    "circ.cx(0, 1)\n",
    "# CX (CNOT) gate on control qubit 0 and target qubit 2 resulting in a GHZ state.\n",
    "circ.cx(0, 2)\n",
    "# Draw the circuit\n",
    "circ.draw()"
   ]
  },
  {
   "cell_type": "code",
   "execution_count": 2,
   "id": "f1668929",
   "metadata": {
    "execution": {
     "iopub.execute_input": "2021-04-08T00:18:20.801434Z",
     "iopub.status.busy": "2021-04-08T00:18:20.798724Z",
     "iopub.status.idle": "2021-04-08T00:18:20.803802Z",
     "shell.execute_reply": "2021-04-08T00:18:20.804320Z"
    }
   },
   "outputs": [
    {
     "data": {
      "text/html": [
       "<pre style=\"word-wrap: normal;white-space: pre;background: #fff0;line-height: 1.1;font-family: &quot;Courier New&quot;,Courier,monospace\">      ┌───┐                                                           \n",
       " q_0: ┤ H ├──■────────────────────────────────────────────────────────\n",
       "      ├───┤  │                                                        \n",
       " q_1: ┤ H ├──┼────■───────────────────■────■─────────■────────────────\n",
       "      ├───┤  │    │                   │    │         │                \n",
       " q_2: ┤ H ├──┼────┼────■──────────────┼────┼─────────┼────────────────\n",
       "      ├───┤  │    │    │              │    │         │                \n",
       " q_3: ┤ H ├──┼────┼────┼────■─────────┼────┼─────────┼────────────────\n",
       "      ├───┤  │    │    │    │         │    │         │                \n",
       " q_4: ┤ H ├──┼────┼────┼────┼────■────┼────┼─────────┼────────────────\n",
       "      └───┘┌─┴─┐  │    │    │    │    │    │         │                \n",
       " q_5: ─────┤ X ├──┼────┼────┼────┼────┼────┼─────────┼────────────────\n",
       "           └───┘┌─┴─┐  │    │    │    │    │         │           ┌───┐\n",
       " q_6: ──────────┤ X ├──┼────┼────┼────┼────┼─────────┼───X──X──X─┤ X ├\n",
       "                └───┘┌─┴─┐  │    │  ┌─┴─┐  │  ┌───┐  │   │  │  │ └───┘\n",
       " q_7: ───────────────┤ X ├──┼────┼──┤ X ├──┼──┤ X ├──┼───┼──┼──┼──────\n",
       "                     └───┘┌─┴─┐  │  ├───┤  │  └───┘  │   │  │  │      \n",
       " q_8: ────────────────────┤ X ├──┼──┤ X ├──┼─────────┼───┼──┼──┼──────\n",
       "                          └───┘┌─┴─┐└───┘┌─┴─┐       │   │  │  │      \n",
       " q_9: ─────────────────────────┤ X ├─────┤ X ├───────┼───┼──X──┼──────\n",
       "                               └───┘     └───┘       │   │     │      \n",
       "q_10: ───────────────────────────────────────────────┼───┼─────X──────\n",
       "                                                   ┌─┴─┐ │            \n",
       "q_11: ─────────────────────────────────────────────┤ X ├─X────────────\n",
       "                                                   └───┘              </pre>"
      ],
      "text/plain": [
       "      ┌───┐                                                           \n",
       " q_0: ┤ H ├──■────────────────────────────────────────────────────────\n",
       "      ├───┤  │                                                        \n",
       " q_1: ┤ H ├──┼────■───────────────────■────■─────────■────────────────\n",
       "      ├───┤  │    │                   │    │         │                \n",
       " q_2: ┤ H ├──┼────┼────■──────────────┼────┼─────────┼────────────────\n",
       "      ├───┤  │    │    │              │    │         │                \n",
       " q_3: ┤ H ├──┼────┼────┼────■─────────┼────┼─────────┼────────────────\n",
       "      ├───┤  │    │    │    │         │    │         │                \n",
       " q_4: ┤ H ├──┼────┼────┼────┼────■────┼────┼─────────┼────────────────\n",
       "      └───┘┌─┴─┐  │    │    │    │    │    │         │                \n",
       " q_5: ─────┤ X ├──┼────┼────┼────┼────┼────┼─────────┼────────────────\n",
       "           └───┘┌─┴─┐  │    │    │    │    │         │           ┌───┐\n",
       " q_6: ──────────┤ X ├──┼────┼────┼────┼────┼─────────┼───X──X──X─┤ X ├\n",
       "                └───┘┌─┴─┐  │    │  ┌─┴─┐  │  ┌───┐  │   │  │  │ └───┘\n",
       " q_7: ───────────────┤ X ├──┼────┼──┤ X ├──┼──┤ X ├──┼───┼──┼──┼──────\n",
       "                     └───┘┌─┴─┐  │  ├───┤  │  └───┘  │   │  │  │      \n",
       " q_8: ────────────────────┤ X ├──┼──┤ X ├──┼─────────┼───┼──┼──┼──────\n",
       "                          └───┘┌─┴─┐└───┘┌─┴─┐       │   │  │  │      \n",
       " q_9: ─────────────────────────┤ X ├─────┤ X ├───────┼───┼──X──┼──────\n",
       "                               └───┘     └───┘       │   │     │      \n",
       "q_10: ───────────────────────────────────────────────┼───┼─────X──────\n",
       "                                                   ┌─┴─┐ │            \n",
       "q_11: ─────────────────────────────────────────────┤ X ├─X────────────\n",
       "                                                   └───┘              "
      ]
     },
     "execution_count": 2,
     "metadata": {},
     "output_type": "execute_result"
    }
   ],
   "source": [
    "from qiskit import QuantumCircuit\n",
    "qc = QuantumCircuit(12)\n",
    "for idx in range(5):\n",
    "   qc.h(idx)\n",
    "   qc.cx(idx, idx+5)\n",
    "\n",
    "qc.cx(1, 7)\n",
    "qc.x(8)\n",
    "qc.cx(1, 9)\n",
    "qc.x(7)\n",
    "qc.cx(1, 11)\n",
    "qc.swap(6, 11)\n",
    "qc.swap(6, 9)\n",
    "qc.swap(6, 10)\n",
    "qc.x(6)\n",
    "qc.draw()"
   ]
  },
  {
   "cell_type": "code",
   "execution_count": 3,
   "id": "a372c442",
   "metadata": {
    "execution": {
     "iopub.execute_input": "2021-04-08T00:18:20.809571Z",
     "iopub.status.busy": "2021-04-08T00:18:20.808533Z",
     "iopub.status.idle": "2021-04-08T00:18:20.811306Z",
     "shell.execute_reply": "2021-04-08T00:18:20.811809Z"
    }
   },
   "outputs": [
    {
     "data": {
      "text/plain": [
       "12"
      ]
     },
     "execution_count": 3,
     "metadata": {},
     "output_type": "execute_result"
    }
   ],
   "source": [
    "qc.width()"
   ]
  },
  {
   "cell_type": "code",
   "execution_count": 4,
   "id": "32f04bd9",
   "metadata": {
    "execution": {
     "iopub.execute_input": "2021-04-08T00:18:20.816776Z",
     "iopub.status.busy": "2021-04-08T00:18:20.815733Z",
     "iopub.status.idle": "2021-04-08T00:18:20.819250Z",
     "shell.execute_reply": "2021-04-08T00:18:20.818688Z"
    }
   },
   "outputs": [
    {
     "data": {
      "text/plain": [
       "12"
      ]
     },
     "execution_count": 4,
     "metadata": {},
     "output_type": "execute_result"
    }
   ],
   "source": [
    "qc.num_qubits"
   ]
  },
  {
   "cell_type": "code",
   "execution_count": 5,
   "id": "34b18591",
   "metadata": {
    "execution": {
     "iopub.execute_input": "2021-04-08T00:18:20.824631Z",
     "iopub.status.busy": "2021-04-08T00:18:20.823585Z",
     "iopub.status.idle": "2021-04-08T00:18:20.826362Z",
     "shell.execute_reply": "2021-04-08T00:18:20.826863Z"
    }
   },
   "outputs": [
    {
     "data": {
      "text/plain": [
       "OrderedDict([('cx', 8), ('h', 5), ('x', 3), ('swap', 3)])"
      ]
     },
     "execution_count": 5,
     "metadata": {},
     "output_type": "execute_result"
    }
   ],
   "source": [
    "qc.count_ops()"
   ]
  },
  {
   "cell_type": "code",
   "execution_count": 6,
   "id": "fa66d95c",
   "metadata": {
    "execution": {
     "iopub.execute_input": "2021-04-08T00:18:20.831878Z",
     "iopub.status.busy": "2021-04-08T00:18:20.830791Z",
     "iopub.status.idle": "2021-04-08T00:18:20.834107Z",
     "shell.execute_reply": "2021-04-08T00:18:20.833593Z"
    }
   },
   "outputs": [
    {
     "data": {
      "text/plain": [
       "19"
      ]
     },
     "execution_count": 6,
     "metadata": {},
     "output_type": "execute_result"
    }
   ],
   "source": [
    "qc.size()"
   ]
  },
  {
   "cell_type": "code",
   "execution_count": 7,
   "id": "f7f6d8ba",
   "metadata": {
    "execution": {
     "iopub.execute_input": "2021-04-08T00:18:20.839181Z",
     "iopub.status.busy": "2021-04-08T00:18:20.838026Z",
     "iopub.status.idle": "2021-04-08T00:18:20.841370Z",
     "shell.execute_reply": "2021-04-08T00:18:20.840855Z"
    }
   },
   "outputs": [
    {
     "data": {
      "text/plain": [
       "9"
      ]
     },
     "execution_count": 7,
     "metadata": {},
     "output_type": "execute_result"
    }
   ],
   "source": [
    "qc.depth()"
   ]
  }
 ],
 "metadata": {
  "kernelspec": {
   "display_name": "Python 3",
   "language": "python",
   "name": "python3"
  },
  "language_info": {
   "codemirror_mode": {
    "name": "ipython",
    "version": 3
   },
   "file_extension": ".py",
   "mimetype": "text/x-python",
   "name": "python",
   "nbconvert_exporter": "python",
   "pygments_lexer": "ipython3",
   "version": "3.8.8"
  }
 },
 "nbformat": 4,
 "nbformat_minor": 5
}