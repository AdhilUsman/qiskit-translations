{
 "cells": [
  {
   "cell_type": "code",
   "execution_count": 1,
   "id": "32ccc403",
   "metadata": {
    "execution": {
     "iopub.execute_input": "2021-04-15T22:11:45.886695Z",
     "iopub.status.busy": "2021-04-15T22:11:45.885849Z",
     "iopub.status.idle": "2021-04-15T22:11:47.073697Z",
     "shell.execute_reply": "2021-04-15T22:11:47.072787Z"
    }
   },
   "outputs": [],
   "source": [
    "from qiskit import pulse\n",
    "from qiskit.test.mock import FakeOpenPulse2Q\n",
    "\n",
    "backend = FakeOpenPulse2Q()\n",
    "\n",
    "with pulse.build(backend):\n",
    "    assert pulse.measure_channel(0) == pulse.MeasureChannel(0)"
   ]
  }
 ],
 "metadata": {
  "kernelspec": {
   "display_name": "Python 3",
   "language": "python",
   "name": "python3"
  },
  "language_info": {
   "codemirror_mode": {
    "name": "ipython",
    "version": 3
   },
   "file_extension": ".py",
   "mimetype": "text/x-python",
   "name": "python",
   "nbconvert_exporter": "python",
   "pygments_lexer": "ipython3",
   "version": "3.8.9"
  }
 },
 "nbformat": 4,
 "nbformat_minor": 5
}