{
 "cells": [
  {
   "cell_type": "code",
   "execution_count": 1,
   "id": "2b1e8c06",
   "metadata": {
    "execution": {
     "iopub.execute_input": "2021-04-07T09:08:34.855032Z",
     "iopub.status.busy": "2021-04-07T09:08:34.854241Z",
     "iopub.status.idle": "2021-04-07T09:08:36.079129Z",
     "shell.execute_reply": "2021-04-07T09:08:36.078513Z"
    }
   },
   "outputs": [],
   "source": [
    "from qiskit import pulse\n",
    "from qiskit.test.mock import FakeOpenPulse2Q\n",
    "\n",
    "backend = FakeOpenPulse2Q()\n",
    "\n",
    "with pulse.build(backend):\n",
    "    assert pulse.measure_channel(0) == pulse.MeasureChannel(0)"
   ]
  }
 ],
 "metadata": {
  "kernelspec": {
   "display_name": "Python 3",
   "language": "python",
   "name": "python3"
  },
  "language_info": {
   "codemirror_mode": {
    "name": "ipython",
    "version": 3
   },
   "file_extension": ".py",
   "mimetype": "text/x-python",
   "name": "python",
   "nbconvert_exporter": "python",
   "pygments_lexer": "ipython3",
   "version": "3.8.8"
  }
 },
 "nbformat": 4,
 "nbformat_minor": 5
}