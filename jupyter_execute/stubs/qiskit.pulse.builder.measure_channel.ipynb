{
 "cells": [
  {
   "cell_type": "code",
   "execution_count": 1,
   "id": "59edbade",
   "metadata": {
    "execution": {
     "iopub.execute_input": "2021-06-18T15:05:19.700400Z",
     "iopub.status.busy": "2021-06-18T15:05:19.699662Z",
     "iopub.status.idle": "2021-06-18T15:05:21.068873Z",
     "shell.execute_reply": "2021-06-18T15:05:21.069391Z"
    }
   },
   "outputs": [],
   "source": [
    "from qiskit import pulse\n",
    "from qiskit.test.mock import FakeOpenPulse2Q\n",
    "\n",
    "backend = FakeOpenPulse2Q()\n",
    "\n",
    "with pulse.build(backend):\n",
    "    assert pulse.measure_channel(0) == pulse.MeasureChannel(0)"
   ]
  }
 ],
 "metadata": {
  "kernelspec": {
   "display_name": "Python 3",
   "language": "python",
   "name": "python3"
  },
  "language_info": {
   "codemirror_mode": {
    "name": "ipython",
    "version": 3
   },
   "file_extension": ".py",
   "mimetype": "text/x-python",
   "name": "python",
   "nbconvert_exporter": "python",
   "pygments_lexer": "ipython3",
   "version": "3.8.10"
  }
 },
 "nbformat": 4,
 "nbformat_minor": 5
}