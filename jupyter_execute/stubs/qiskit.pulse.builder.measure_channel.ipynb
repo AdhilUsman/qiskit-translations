{
 "cells": [
  {
   "cell_type": "code",
   "execution_count": 1,
   "id": "c31ad8b7",
   "metadata": {
    "execution": {
     "iopub.execute_input": "2021-04-14T01:13:19.426813Z",
     "iopub.status.busy": "2021-04-14T01:13:19.426221Z",
     "iopub.status.idle": "2021-04-14T01:13:20.455638Z",
     "shell.execute_reply": "2021-04-14T01:13:20.454244Z"
    }
   },
   "outputs": [],
   "source": [
    "from qiskit import pulse\n",
    "from qiskit.test.mock import FakeOpenPulse2Q\n",
    "\n",
    "backend = FakeOpenPulse2Q()\n",
    "\n",
    "with pulse.build(backend):\n",
    "    assert pulse.measure_channel(0) == pulse.MeasureChannel(0)"
   ]
  }
 ],
 "metadata": {
  "kernelspec": {
   "display_name": "Python 3",
   "language": "python",
   "name": "python3"
  },
  "language_info": {
   "codemirror_mode": {
    "name": "ipython",
    "version": 3
   },
   "file_extension": ".py",
   "mimetype": "text/x-python",
   "name": "python",
   "nbconvert_exporter": "python",
   "pygments_lexer": "ipython3",
   "version": "3.8.9"
  }
 },
 "nbformat": 4,
 "nbformat_minor": 5
}