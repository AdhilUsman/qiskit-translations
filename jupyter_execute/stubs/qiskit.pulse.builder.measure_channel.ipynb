{
 "cells": [
  {
   "cell_type": "code",
   "execution_count": 1,
   "id": "ceb05021",
   "metadata": {
    "execution": {
     "iopub.execute_input": "2021-04-12T05:18:14.857880Z",
     "iopub.status.busy": "2021-04-12T05:18:14.857316Z",
     "iopub.status.idle": "2021-04-12T05:18:16.029624Z",
     "shell.execute_reply": "2021-04-12T05:18:16.028518Z"
    }
   },
   "outputs": [],
   "source": [
    "from qiskit import pulse\n",
    "from qiskit.test.mock import FakeOpenPulse2Q\n",
    "\n",
    "backend = FakeOpenPulse2Q()\n",
    "\n",
    "with pulse.build(backend):\n",
    "    assert pulse.measure_channel(0) == pulse.MeasureChannel(0)"
   ]
  }
 ],
 "metadata": {
  "kernelspec": {
   "display_name": "Python 3",
   "language": "python",
   "name": "python3"
  },
  "language_info": {
   "codemirror_mode": {
    "name": "ipython",
    "version": 3
   },
   "file_extension": ".py",
   "mimetype": "text/x-python",
   "name": "python",
   "nbconvert_exporter": "python",
   "pygments_lexer": "ipython3",
   "version": "3.8.8"
  }
 },
 "nbformat": 4,
 "nbformat_minor": 5
}