{
 "cells": [
  {
   "cell_type": "code",
   "execution_count": 1,
   "id": "dee69e91",
   "metadata": {
    "execution": {
     "iopub.execute_input": "2021-04-06T15:21:30.679353Z",
     "iopub.status.busy": "2021-04-06T15:21:30.678645Z",
     "iopub.status.idle": "2021-04-06T15:21:31.835341Z",
     "shell.execute_reply": "2021-04-06T15:21:31.834722Z"
    }
   },
   "outputs": [],
   "source": [
    "from qiskit import pulse\n",
    "from qiskit.test.mock import FakeOpenPulse2Q\n",
    "\n",
    "backend = FakeOpenPulse2Q()\n",
    "\n",
    "with pulse.build(backend):\n",
    "    assert pulse.measure_channel(0) == pulse.MeasureChannel(0)"
   ]
  }
 ],
 "metadata": {
  "kernelspec": {
   "display_name": "Python 3",
   "language": "python",
   "name": "python3"
  },
  "language_info": {
   "codemirror_mode": {
    "name": "ipython",
    "version": 3
   },
   "file_extension": ".py",
   "mimetype": "text/x-python",
   "name": "python",
   "nbconvert_exporter": "python",
   "pygments_lexer": "ipython3",
   "version": "3.8.8"
  }
 },
 "nbformat": 4,
 "nbformat_minor": 5
}