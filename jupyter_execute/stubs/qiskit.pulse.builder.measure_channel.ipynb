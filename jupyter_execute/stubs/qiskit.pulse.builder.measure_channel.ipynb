{
 "cells": [
  {
   "cell_type": "code",
   "execution_count": 1,
   "id": "integral-decision",
   "metadata": {
    "execution": {
     "iopub.execute_input": "2021-04-02T01:37:35.483413Z",
     "iopub.status.busy": "2021-04-02T01:37:35.482809Z",
     "iopub.status.idle": "2021-04-02T01:37:37.454294Z",
     "shell.execute_reply": "2021-04-02T01:37:37.453565Z"
    }
   },
   "outputs": [],
   "source": [
    "from qiskit import pulse\n",
    "from qiskit.test.mock import FakeOpenPulse2Q\n",
    "\n",
    "backend = FakeOpenPulse2Q()\n",
    "\n",
    "with pulse.build(backend):\n",
    "    assert pulse.measure_channel(0) == pulse.MeasureChannel(0)"
   ]
  }
 ],
 "metadata": {
  "kernelspec": {
   "display_name": "Python 3",
   "language": "python",
   "name": "python3"
  },
  "language_info": {
   "codemirror_mode": {
    "name": "ipython",
    "version": 3
   },
   "file_extension": ".py",
   "mimetype": "text/x-python",
   "name": "python",
   "nbconvert_exporter": "python",
   "pygments_lexer": "ipython3",
   "version": "3.8.8"
  }
 },
 "nbformat": 4,
 "nbformat_minor": 5
}