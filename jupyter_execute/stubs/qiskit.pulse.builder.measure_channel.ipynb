{
 "cells": [
  {
   "cell_type": "code",
   "execution_count": 1,
   "id": "13b9b494",
   "metadata": {
    "execution": {
     "iopub.execute_input": "2021-04-26T06:58:49.503422Z",
     "iopub.status.busy": "2021-04-26T06:58:49.502610Z",
     "iopub.status.idle": "2021-04-26T06:58:50.661306Z",
     "shell.execute_reply": "2021-04-26T06:58:50.660284Z"
    }
   },
   "outputs": [],
   "source": [
    "from qiskit import pulse\n",
    "from qiskit.test.mock import FakeOpenPulse2Q\n",
    "\n",
    "backend = FakeOpenPulse2Q()\n",
    "\n",
    "with pulse.build(backend):\n",
    "    assert pulse.measure_channel(0) == pulse.MeasureChannel(0)"
   ]
  }
 ],
 "metadata": {
  "kernelspec": {
   "display_name": "Python 3",
   "language": "python",
   "name": "python3"
  },
  "language_info": {
   "codemirror_mode": {
    "name": "ipython",
    "version": 3
   },
   "file_extension": ".py",
   "mimetype": "text/x-python",
   "name": "python",
   "nbconvert_exporter": "python",
   "pygments_lexer": "ipython3",
   "version": "3.8.9"
  }
 },
 "nbformat": 4,
 "nbformat_minor": 5
}