{
 "cells": [
  {
   "cell_type": "code",
   "execution_count": 1,
   "id": "peaceful-summary",
   "metadata": {
    "execution": {
     "iopub.execute_input": "2021-03-27T16:58:05.160896Z",
     "iopub.status.busy": "2021-03-27T16:58:05.159971Z",
     "iopub.status.idle": "2021-03-27T16:58:06.680921Z",
     "shell.execute_reply": "2021-03-27T16:58:06.681352Z"
    }
   },
   "outputs": [
    {
     "data": {
      "text/html": [
       "<pre style=\"word-wrap: normal;white-space: pre;background: #fff0;line-height: 1.1;font-family: &quot;Courier New&quot;,Courier,monospace\">     ┌───┐     ┌─┐   \n",
       "q_0: ┤ H ├──■──┤M├───\n",
       "     └───┘┌─┴─┐└╥┘┌─┐\n",
       "q_1: ─────┤ X ├─╫─┤M├\n",
       "          └───┘ ║ └╥┘\n",
       "c: 2/═══════════╩══╩═\n",
       "                0  1 </pre>"
      ],
      "text/plain": [
       "     ┌───┐     ┌─┐   \n",
       "q_0: ┤ H ├──■──┤M├───\n",
       "     └───┘┌─┴─┐└╥┘┌─┐\n",
       "q_1: ─────┤ X ├─╫─┤M├\n",
       "          └───┘ ║ └╥┘\n",
       "c: 2/═══════════╩══╩═\n",
       "                0  1 "
      ]
     },
     "execution_count": 1,
     "metadata": {},
     "output_type": "execute_result"
    }
   ],
   "source": [
    "from qiskit import QuantumCircuit\n",
    "\n",
    "qc = QuantumCircuit(2, 2)\n",
    "qc.h(0)\n",
    "qc.cx(0, 1)\n",
    "qc.measure([0, 1], [0, 1])\n",
    "qc.draw()"
   ]
  },
  {
   "cell_type": "code",
   "execution_count": 2,
   "id": "refined-pencil",
   "metadata": {
    "execution": {
     "iopub.execute_input": "2021-03-27T16:58:06.686565Z",
     "iopub.status.busy": "2021-03-27T16:58:06.685414Z",
     "iopub.status.idle": "2021-03-27T16:58:06.687240Z",
     "shell.execute_reply": "2021-03-27T16:58:06.687644Z"
    }
   },
   "outputs": [],
   "source": [
    "from qiskit import QuantumCircuit\n",
    "\n",
    "qc = QuantumCircuit(5)\n",
    "qc.h(0)\n",
    "qc.cx(0, range(1, 5))\n",
    "qc.measure_all()"
   ]
  },
  {
   "cell_type": "code",
   "execution_count": 3,
   "id": "dominican-delhi",
   "metadata": {
    "execution": {
     "iopub.execute_input": "2021-03-27T16:58:06.698399Z",
     "iopub.status.busy": "2021-03-27T16:58:06.697840Z",
     "iopub.status.idle": "2021-03-27T16:58:06.700189Z",
     "shell.execute_reply": "2021-03-27T16:58:06.700542Z"
    }
   },
   "outputs": [
    {
     "data": {
      "text/html": [
       "<pre style=\"word-wrap: normal;white-space: pre;background: #fff0;line-height: 1.1;font-family: &quot;Courier New&quot;,Courier,monospace\">           ┌───┐          ┌───┐           ░ ┌─┐      \n",
       "      q_0: ┤ H ├───────■──┤ H ├───────────░─┤M├──────\n",
       "           ├───┤       │  └───┘┌───┐      ░ └╥┘┌─┐   \n",
       "      q_1: ┤ H ├───────┼────■──┤ H ├──────░──╫─┤M├───\n",
       "           ├───┤       │    │  └───┘┌───┐ ░  ║ └╥┘┌─┐\n",
       "      q_2: ┤ H ├───────┼────┼────■──┤ H ├─░──╫──╫─┤M├\n",
       "           ├───┤┌───┐┌─┴─┐┌─┴─┐┌─┴─┐└───┘ ░  ║  ║ └╥┘\n",
       "ancilla_0: ┤ X ├┤ H ├┤ X ├┤ X ├┤ X ├─────────╫──╫──╫─\n",
       "           └───┘└───┘└───┘└───┘└───┘         ║  ║  ║ \n",
       "      c: 3/══════════════════════════════════╩══╩══╩═\n",
       "                                             0  1  2 </pre>"
      ],
      "text/plain": [
       "           ┌───┐          ┌───┐           ░ ┌─┐      \n",
       "      q_0: ┤ H ├───────■──┤ H ├───────────░─┤M├──────\n",
       "           ├───┤       │  └───┘┌───┐      ░ └╥┘┌─┐   \n",
       "      q_1: ┤ H ├───────┼────■──┤ H ├──────░──╫─┤M├───\n",
       "           ├───┤       │    │  └───┘┌───┐ ░  ║ └╥┘┌─┐\n",
       "      q_2: ┤ H ├───────┼────┼────■──┤ H ├─░──╫──╫─┤M├\n",
       "           ├───┤┌───┐┌─┴─┐┌─┴─┐┌─┴─┐└───┘ ░  ║  ║ └╥┘\n",
       "ancilla_0: ┤ X ├┤ H ├┤ X ├┤ X ├┤ X ├─────────╫──╫──╫─\n",
       "           └───┘└───┘└───┘└───┘└───┘         ║  ║  ║ \n",
       "      c: 3/══════════════════════════════════╩══╩══╩═\n",
       "                                             0  1  2 "
      ]
     },
     "execution_count": 3,
     "metadata": {},
     "output_type": "execute_result"
    }
   ],
   "source": [
    "from qiskit import QuantumRegister, ClassicalRegister, QuantumCircuit\n",
    "\n",
    "qr = QuantumRegister(3, 'q')\n",
    "anc = QuantumRegister(1, 'ancilla')\n",
    "cr = ClassicalRegister(3, 'c')\n",
    "qc = QuantumCircuit(qr, anc, cr)\n",
    "\n",
    "qc.x(anc[0])\n",
    "qc.h(anc[0])\n",
    "qc.h(qr[0:3])\n",
    "qc.cx(qr[0:3], anc[0])\n",
    "qc.h(qr[0:3])\n",
    "qc.barrier(qr)\n",
    "qc.measure(qr, cr)\n",
    "\n",
    "qc.draw()"
   ]
  }
 ],
 "metadata": {
  "kernelspec": {
   "display_name": "Python 3",
   "language": "python",
   "name": "python3"
  },
  "language_info": {
   "codemirror_mode": {
    "name": "ipython",
    "version": 3
   },
   "file_extension": ".py",
   "mimetype": "text/x-python",
   "name": "python",
   "nbconvert_exporter": "python",
   "pygments_lexer": "ipython3",
   "version": "3.8.8"
  }
 },
 "nbformat": 4,
 "nbformat_minor": 5
}