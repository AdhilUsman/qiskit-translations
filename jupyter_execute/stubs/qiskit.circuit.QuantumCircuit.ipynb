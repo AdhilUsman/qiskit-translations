{
 "cells": [
  {
   "cell_type": "code",
   "execution_count": 1,
   "id": "harmful-world",
   "metadata": {
    "execution": {
     "iopub.execute_input": "2021-03-28T11:45:27.647398Z",
     "iopub.status.busy": "2021-03-28T11:45:27.646839Z",
     "iopub.status.idle": "2021-03-28T11:45:29.566908Z",
     "shell.execute_reply": "2021-03-28T11:45:29.567377Z"
    }
   },
   "outputs": [
    {
     "data": {
      "text/html": [
       "<pre style=\"word-wrap: normal;white-space: pre;background: #fff0;line-height: 1.1;font-family: &quot;Courier New&quot;,Courier,monospace\">     ┌───┐     ┌─┐   \n",
       "q_0: ┤ H ├──■──┤M├───\n",
       "     └───┘┌─┴─┐└╥┘┌─┐\n",
       "q_1: ─────┤ X ├─╫─┤M├\n",
       "          └───┘ ║ └╥┘\n",
       "c: 2/═══════════╩══╩═\n",
       "                0  1 </pre>"
      ],
      "text/plain": [
       "     ┌───┐     ┌─┐   \n",
       "q_0: ┤ H ├──■──┤M├───\n",
       "     └───┘┌─┴─┐└╥┘┌─┐\n",
       "q_1: ─────┤ X ├─╫─┤M├\n",
       "          └───┘ ║ └╥┘\n",
       "c: 2/═══════════╩══╩═\n",
       "                0  1 "
      ]
     },
     "execution_count": 1,
     "metadata": {},
     "output_type": "execute_result"
    }
   ],
   "source": [
    "from qiskit import QuantumCircuit\n",
    "\n",
    "qc = QuantumCircuit(2, 2)\n",
    "qc.h(0)\n",
    "qc.cx(0, 1)\n",
    "qc.measure([0, 1], [0, 1])\n",
    "qc.draw()"
   ]
  },
  {
   "cell_type": "code",
   "execution_count": 2,
   "id": "driving-chase",
   "metadata": {
    "execution": {
     "iopub.execute_input": "2021-03-28T11:45:29.573518Z",
     "iopub.status.busy": "2021-03-28T11:45:29.571505Z",
     "iopub.status.idle": "2021-03-28T11:45:29.574140Z",
     "shell.execute_reply": "2021-03-28T11:45:29.574605Z"
    }
   },
   "outputs": [],
   "source": [
    "from qiskit import QuantumCircuit\n",
    "\n",
    "qc = QuantumCircuit(5)\n",
    "qc.h(0)\n",
    "qc.cx(0, range(1, 5))\n",
    "qc.measure_all()"
   ]
  },
  {
   "cell_type": "code",
   "execution_count": 3,
   "id": "fifteen-speaking",
   "metadata": {
    "execution": {
     "iopub.execute_input": "2021-03-28T11:45:29.586577Z",
     "iopub.status.busy": "2021-03-28T11:45:29.584630Z",
     "iopub.status.idle": "2021-03-28T11:45:29.589817Z",
     "shell.execute_reply": "2021-03-28T11:45:29.590310Z"
    }
   },
   "outputs": [
    {
     "data": {
      "text/html": [
       "<pre style=\"word-wrap: normal;white-space: pre;background: #fff0;line-height: 1.1;font-family: &quot;Courier New&quot;,Courier,monospace\">           ┌───┐          ┌───┐           ░ ┌─┐      \n",
       "      q_0: ┤ H ├───────■──┤ H ├───────────░─┤M├──────\n",
       "           ├───┤       │  └───┘┌───┐      ░ └╥┘┌─┐   \n",
       "      q_1: ┤ H ├───────┼────■──┤ H ├──────░──╫─┤M├───\n",
       "           ├───┤       │    │  └───┘┌───┐ ░  ║ └╥┘┌─┐\n",
       "      q_2: ┤ H ├───────┼────┼────■──┤ H ├─░──╫──╫─┤M├\n",
       "           ├───┤┌───┐┌─┴─┐┌─┴─┐┌─┴─┐└───┘ ░  ║  ║ └╥┘\n",
       "ancilla_0: ┤ X ├┤ H ├┤ X ├┤ X ├┤ X ├─────────╫──╫──╫─\n",
       "           └───┘└───┘└───┘└───┘└───┘         ║  ║  ║ \n",
       "      c: 3/══════════════════════════════════╩══╩══╩═\n",
       "                                             0  1  2 </pre>"
      ],
      "text/plain": [
       "           ┌───┐          ┌───┐           ░ ┌─┐      \n",
       "      q_0: ┤ H ├───────■──┤ H ├───────────░─┤M├──────\n",
       "           ├───┤       │  └───┘┌───┐      ░ └╥┘┌─┐   \n",
       "      q_1: ┤ H ├───────┼────■──┤ H ├──────░──╫─┤M├───\n",
       "           ├───┤       │    │  └───┘┌───┐ ░  ║ └╥┘┌─┐\n",
       "      q_2: ┤ H ├───────┼────┼────■──┤ H ├─░──╫──╫─┤M├\n",
       "           ├───┤┌───┐┌─┴─┐┌─┴─┐┌─┴─┐└───┘ ░  ║  ║ └╥┘\n",
       "ancilla_0: ┤ X ├┤ H ├┤ X ├┤ X ├┤ X ├─────────╫──╫──╫─\n",
       "           └───┘└───┘└───┘└───┘└───┘         ║  ║  ║ \n",
       "      c: 3/══════════════════════════════════╩══╩══╩═\n",
       "                                             0  1  2 "
      ]
     },
     "execution_count": 3,
     "metadata": {},
     "output_type": "execute_result"
    }
   ],
   "source": [
    "from qiskit import QuantumRegister, ClassicalRegister, QuantumCircuit\n",
    "\n",
    "qr = QuantumRegister(3, 'q')\n",
    "anc = QuantumRegister(1, 'ancilla')\n",
    "cr = ClassicalRegister(3, 'c')\n",
    "qc = QuantumCircuit(qr, anc, cr)\n",
    "\n",
    "qc.x(anc[0])\n",
    "qc.h(anc[0])\n",
    "qc.h(qr[0:3])\n",
    "qc.cx(qr[0:3], anc[0])\n",
    "qc.h(qr[0:3])\n",
    "qc.barrier(qr)\n",
    "qc.measure(qr, cr)\n",
    "\n",
    "qc.draw()"
   ]
  }
 ],
 "metadata": {
  "kernelspec": {
   "display_name": "Python 3",
   "language": "python",
   "name": "python3"
  },
  "language_info": {
   "codemirror_mode": {
    "name": "ipython",
    "version": 3
   },
   "file_extension": ".py",
   "mimetype": "text/x-python",
   "name": "python",
   "nbconvert_exporter": "python",
   "pygments_lexer": "ipython3",
   "version": "3.8.8"
  }
 },
 "nbformat": 4,
 "nbformat_minor": 5
}