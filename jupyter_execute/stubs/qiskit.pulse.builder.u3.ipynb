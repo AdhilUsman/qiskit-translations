{
 "cells": [
  {
   "cell_type": "code",
   "execution_count": 1,
   "id": "03909d74",
   "metadata": {
    "execution": {
     "iopub.execute_input": "2021-04-13T16:52:10.456075Z",
     "iopub.status.busy": "2021-04-13T16:52:10.455467Z",
     "iopub.status.idle": "2021-04-13T16:52:11.776651Z",
     "shell.execute_reply": "2021-04-13T16:52:11.775449Z"
    }
   },
   "outputs": [],
   "source": [
    "import math\n",
    "\n",
    "from qiskit import pulse\n",
    "from qiskit.test.mock import FakeOpenPulse2Q\n",
    "\n",
    "backend = FakeOpenPulse2Q()\n",
    "\n",
    "with pulse.build(backend) as pulse_prog:\n",
    "    pulse.u3(math.pi, 0, math.pi, 1)"
   ]
  }
 ],
 "metadata": {
  "kernelspec": {
   "display_name": "Python 3",
   "language": "python",
   "name": "python3"
  },
  "language_info": {
   "codemirror_mode": {
    "name": "ipython",
    "version": 3
   },
   "file_extension": ".py",
   "mimetype": "text/x-python",
   "name": "python",
   "nbconvert_exporter": "python",
   "pygments_lexer": "ipython3",
   "version": "3.8.9"
  }
 },
 "nbformat": 4,
 "nbformat_minor": 5
}