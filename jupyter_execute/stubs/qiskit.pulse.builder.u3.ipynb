{
 "cells": [
  {
   "cell_type": "code",
   "execution_count": 1,
   "id": "32c5c174",
   "metadata": {
    "execution": {
     "iopub.execute_input": "2021-05-04T07:03:48.397661Z",
     "iopub.status.busy": "2021-05-04T07:03:48.396780Z",
     "iopub.status.idle": "2021-05-04T07:03:49.798461Z",
     "shell.execute_reply": "2021-05-04T07:03:49.797830Z"
    }
   },
   "outputs": [],
   "source": [
    "import math\n",
    "\n",
    "from qiskit import pulse\n",
    "from qiskit.test.mock import FakeOpenPulse2Q\n",
    "\n",
    "backend = FakeOpenPulse2Q()\n",
    "\n",
    "with pulse.build(backend) as pulse_prog:\n",
    "    pulse.u3(math.pi, 0, math.pi, 1)"
   ]
  }
 ],
 "metadata": {
  "kernelspec": {
   "display_name": "Python 3",
   "language": "python",
   "name": "python3"
  },
  "language_info": {
   "codemirror_mode": {
    "name": "ipython",
    "version": 3
   },
   "file_extension": ".py",
   "mimetype": "text/x-python",
   "name": "python",
   "nbconvert_exporter": "python",
   "pygments_lexer": "ipython3",
   "version": "3.8.9"
  }
 },
 "nbformat": 4,
 "nbformat_minor": 5
}