{
 "cells": [
  {
   "cell_type": "code",
   "execution_count": 1,
   "id": "dying-nurse",
   "metadata": {
    "execution": {
     "iopub.execute_input": "2021-03-31T06:04:41.477269Z",
     "iopub.status.busy": "2021-03-31T06:04:41.476689Z",
     "iopub.status.idle": "2021-03-31T06:04:43.566882Z",
     "shell.execute_reply": "2021-03-31T06:04:43.567392Z"
    }
   },
   "outputs": [
    {
     "data": {
      "text/plain": [
       "<qiskit.circuit.instruction.Instruction at 0x7ff501a4b190>"
      ]
     },
     "execution_count": 1,
     "metadata": {},
     "output_type": "execute_result"
    }
   ],
   "source": [
    "from qiskit import QuantumRegister, ClassicalRegister, QuantumCircuit\n",
    "from qiskit.converters import circuit_to_instruction\n",
    "%matplotlib inline\n",
    "\n",
    "q = QuantumRegister(3, 'q')\n",
    "c = ClassicalRegister(3, 'c')\n",
    "circ = QuantumCircuit(q, c)\n",
    "circ.h(q[0])\n",
    "circ.cx(q[0], q[1])\n",
    "circ.measure(q[0], c[0])\n",
    "circ.rz(0.5, q[1]).c_if(c, 2)\n",
    "circuit_to_instruction(circ)"
   ]
  }
 ],
 "metadata": {
  "kernelspec": {
   "display_name": "Python 3",
   "language": "python",
   "name": "python3"
  },
  "language_info": {
   "codemirror_mode": {
    "name": "ipython",
    "version": 3
   },
   "file_extension": ".py",
   "mimetype": "text/x-python",
   "name": "python",
   "nbconvert_exporter": "python",
   "pygments_lexer": "ipython3",
   "version": "3.8.8"
  }
 },
 "nbformat": 4,
 "nbformat_minor": 5
}