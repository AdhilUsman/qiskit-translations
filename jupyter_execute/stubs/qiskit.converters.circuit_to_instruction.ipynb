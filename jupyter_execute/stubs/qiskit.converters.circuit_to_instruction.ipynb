{
 "cells": [
  {
   "cell_type": "code",
   "execution_count": 1,
   "id": "inappropriate-privilege",
   "metadata": {
    "execution": {
     "iopub.execute_input": "2021-03-29T12:43:37.509124Z",
     "iopub.status.busy": "2021-03-29T12:43:37.508555Z",
     "iopub.status.idle": "2021-03-29T12:43:39.429586Z",
     "shell.execute_reply": "2021-03-29T12:43:39.430084Z"
    }
   },
   "outputs": [
    {
     "data": {
      "text/plain": [
       "<qiskit.circuit.instruction.Instruction at 0x7f4dac0ac970>"
      ]
     },
     "execution_count": 1,
     "metadata": {},
     "output_type": "execute_result"
    }
   ],
   "source": [
    "from qiskit import QuantumRegister, ClassicalRegister, QuantumCircuit\n",
    "from qiskit.converters import circuit_to_instruction\n",
    "%matplotlib inline\n",
    "\n",
    "q = QuantumRegister(3, 'q')\n",
    "c = ClassicalRegister(3, 'c')\n",
    "circ = QuantumCircuit(q, c)\n",
    "circ.h(q[0])\n",
    "circ.cx(q[0], q[1])\n",
    "circ.measure(q[0], c[0])\n",
    "circ.rz(0.5, q[1]).c_if(c, 2)\n",
    "circuit_to_instruction(circ)"
   ]
  }
 ],
 "metadata": {
  "kernelspec": {
   "display_name": "Python 3",
   "language": "python",
   "name": "python3"
  },
  "language_info": {
   "codemirror_mode": {
    "name": "ipython",
    "version": 3
   },
   "file_extension": ".py",
   "mimetype": "text/x-python",
   "name": "python",
   "nbconvert_exporter": "python",
   "pygments_lexer": "ipython3",
   "version": "3.8.8"
  }
 },
 "nbformat": 4,
 "nbformat_minor": 5
}