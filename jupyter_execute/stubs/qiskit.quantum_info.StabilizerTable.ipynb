{
 "cells": [
  {
   "cell_type": "code",
   "execution_count": 1,
   "id": "27a53a08",
   "metadata": {
    "execution": {
     "iopub.execute_input": "2021-04-23T03:36:03.609121Z",
     "iopub.status.busy": "2021-04-23T03:36:03.608489Z",
     "iopub.status.idle": "2021-04-23T03:36:04.302919Z",
     "shell.execute_reply": "2021-04-23T03:36:04.303375Z"
    }
   },
   "outputs": [
    {
     "name": "stdout",
     "output_type": "stream",
     "text": [
      "StabilizerTable: ['+X', '-Z', '-I', '-Y']\n"
     ]
    }
   ],
   "source": [
    "from qiskit.quantum_info.operators import StabilizerTable\n",
    "\n",
    "current = StabilizerTable.from_labels(['+I', '-X'])\n",
    "other =  StabilizerTable.from_labels(['+X', '-Z'])\n",
    "print(current.compose(other))"
   ]
  },
  {
   "cell_type": "code",
   "execution_count": 2,
   "id": "925801c2",
   "metadata": {
    "execution": {
     "iopub.execute_input": "2021-04-23T03:36:04.309789Z",
     "iopub.status.busy": "2021-04-23T03:36:04.308439Z",
     "iopub.status.idle": "2021-04-23T03:36:04.311597Z",
     "shell.execute_reply": "2021-04-23T03:36:04.311124Z"
    }
   },
   "outputs": [
    {
     "name": "stdout",
     "output_type": "stream",
     "text": [
      "StabilizerTable: ['+X', '-Z', '-I', '+Y']\n"
     ]
    }
   ],
   "source": [
    "from qiskit.quantum_info.operators import StabilizerTable\n",
    "\n",
    "current = StabilizerTable.from_labels(['+I', '-X'])\n",
    "other =  StabilizerTable.from_labels(['+X', '-Z'])\n",
    "print(current.dot(other))"
   ]
  },
  {
   "cell_type": "code",
   "execution_count": 3,
   "id": "033e959d",
   "metadata": {
    "execution": {
     "iopub.execute_input": "2021-04-23T03:36:04.317545Z",
     "iopub.status.busy": "2021-04-23T03:36:04.316305Z",
     "iopub.status.idle": "2021-04-23T03:36:04.319636Z",
     "shell.execute_reply": "2021-04-23T03:36:04.319172Z"
    }
   },
   "outputs": [
    {
     "name": "stdout",
     "output_type": "stream",
     "text": [
      "StabilizerTable: ['-YI', '+YX', '+ZI', '-ZX']\n"
     ]
    }
   ],
   "source": [
    "from qiskit.quantum_info.operators import StabilizerTable\n",
    "\n",
    "current = StabilizerTable.from_labels(['+I', '-X'])\n",
    "other =  StabilizerTable.from_labels(['-Y', '+Z'])\n",
    "print(current.expand(other))"
   ]
  },
  {
   "cell_type": "code",
   "execution_count": 4,
   "id": "f159fb79",
   "metadata": {
    "execution": {
     "iopub.execute_input": "2021-04-23T03:36:04.330213Z",
     "iopub.status.busy": "2021-04-23T03:36:04.328550Z",
     "iopub.status.idle": "2021-04-23T03:36:04.332731Z",
     "shell.execute_reply": "2021-04-23T03:36:04.332282Z"
    }
   },
   "outputs": [
    {
     "name": "stdout",
     "output_type": "stream",
     "text": [
      "Initial Ordering\n",
      "StabilizerTable: ['+YZ', '-ZI', '-XI', '+XY', '-IZ', '-XX', '+IX', '+ZZ', '-YI', '+XZ', '+YX', '-YX', '+ZX', '-IX', '+ZI', '-YY', '+YY', '-XY', '-XZ', '-YZ', '-IY', '+ZY', '+IZ', '-II', '-ZX', '+XX', '+II', '+YI', '+IY', '-ZY', '+XI', '-ZZ']\n",
      "Lexicographically sorted\n",
      "StabilizerTable: ['-II', '+II', '+IX', '-IX', '-IY', '+IY', '-IZ', '+IZ', '-XI', '+XI', '-XX', '+XX', '+XY', '-XY', '+XZ', '-XZ', '-YI', '+YI', '+YX', '-YX', '-YY', '+YY', '+YZ', '-YZ', '-ZI', '+ZI', '+ZX', '-ZX', '+ZY', '-ZY', '+ZZ', '-ZZ']\n",
      "Weight sorted\n",
      "StabilizerTable: ['-II', '+II', '+IX', '-IX', '-IY', '+IY', '-IZ', '+IZ', '-XI', '+XI', '-YI', '+YI', '-ZI', '+ZI', '-XX', '+XX', '+XY', '-XY', '+XZ', '-XZ', '+YX', '-YX', '-YY', '+YY', '+YZ', '-YZ', '+ZX', '-ZX', '+ZY', '-ZY', '+ZZ', '-ZZ']\n"
     ]
    }
   ],
   "source": [
    "from numpy.random import shuffle\n",
    "from qiskit.quantum_info.operators import StabilizerTable\n",
    "\n",
    "# 2-qubit labels\n",
    "labels = ['+II', '+IX', '+IY', '+IZ', '+XI', '+XX', '+XY', '+XZ',\n",
    "          '+YI', '+YX', '+YY', '+YZ', '+ZI', '+ZX', '+ZY', '+ZZ',\n",
    "          '-II', '-IX', '-IY', '-IZ', '-XI', '-XX', '-XY', '-XZ',\n",
    "          '-YI', '-YX', '-YY', '-YZ', '-ZI', '-ZX', '-ZY', '-ZZ']\n",
    "# Shuffle Labels\n",
    "shuffle(labels)\n",
    "st = StabilizerTable.from_labels(labels)\n",
    "print('Initial Ordering')\n",
    "print(st)\n",
    "\n",
    "# Lexicographic Ordering\n",
    "srt = st.sort()\n",
    "print('Lexicographically sorted')\n",
    "print(srt)\n",
    "\n",
    "# Weight Ordering\n",
    "srt = st.sort(weight=True)\n",
    "print('Weight sorted')\n",
    "print(srt)"
   ]
  },
  {
   "cell_type": "code",
   "execution_count": 5,
   "id": "7206f1fe",
   "metadata": {
    "execution": {
     "iopub.execute_input": "2021-04-23T03:36:04.338674Z",
     "iopub.status.busy": "2021-04-23T03:36:04.337286Z",
     "iopub.status.idle": "2021-04-23T03:36:04.340432Z",
     "shell.execute_reply": "2021-04-23T03:36:04.339969Z"
    }
   },
   "outputs": [
    {
     "name": "stdout",
     "output_type": "stream",
     "text": [
      "StabilizerTable: ['-IY', '+IZ', '+XY', '-XZ']\n"
     ]
    }
   ],
   "source": [
    "from qiskit.quantum_info.operators import StabilizerTable\n",
    "\n",
    "current = StabilizerTable.from_labels(['+I', '-X'])\n",
    "other =  StabilizerTable.from_labels(['-Y', '+Z'])\n",
    "print(current.tensor(other))"
   ]
  },
  {
   "cell_type": "code",
   "execution_count": 6,
   "id": "81de8e8f",
   "metadata": {
    "execution": {
     "iopub.execute_input": "2021-04-23T03:36:04.346181Z",
     "iopub.status.busy": "2021-04-23T03:36:04.345242Z",
     "iopub.status.idle": "2021-04-23T03:36:04.347831Z",
     "shell.execute_reply": "2021-04-23T03:36:04.348251Z"
    }
   },
   "outputs": [
    {
     "name": "stdout",
     "output_type": "stream",
     "text": [
      "StabilizerTable: ['+X', '+I', '-I', '-X']\n"
     ]
    }
   ],
   "source": [
    "from qiskit.quantum_info.operators import StabilizerTable\n",
    "\n",
    "st = StabilizerTable.from_labels(['+X', '+I', '-I', '-X', '+X', '-X', '+I'])\n",
    "unique = st.unique()\n",
    "print(unique)"
   ]
  }
 ],
 "metadata": {
  "kernelspec": {
   "display_name": "Python 3",
   "language": "python",
   "name": "python3"
  },
  "language_info": {
   "codemirror_mode": {
    "name": "ipython",
    "version": 3
   },
   "file_extension": ".py",
   "mimetype": "text/x-python",
   "name": "python",
   "nbconvert_exporter": "python",
   "pygments_lexer": "ipython3",
   "version": "3.8.9"
  }
 },
 "nbformat": 4,
 "nbformat_minor": 5
}