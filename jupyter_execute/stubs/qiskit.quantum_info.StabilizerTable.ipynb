{
 "cells": [
  {
   "cell_type": "code",
   "execution_count": 1,
   "id": "58bf65a9",
   "metadata": {
    "execution": {
     "iopub.execute_input": "2021-05-03T23:29:09.261476Z",
     "iopub.status.busy": "2021-05-03T23:29:09.257821Z",
     "iopub.status.idle": "2021-05-03T23:29:09.931484Z",
     "shell.execute_reply": "2021-05-03T23:29:09.932076Z"
    }
   },
   "outputs": [
    {
     "name": "stdout",
     "output_type": "stream",
     "text": [
      "StabilizerTable: ['+X', '-Z', '-I', '-Y']\n"
     ]
    }
   ],
   "source": [
    "from qiskit.quantum_info.operators import StabilizerTable\n",
    "\n",
    "current = StabilizerTable.from_labels(['+I', '-X'])\n",
    "other =  StabilizerTable.from_labels(['+X', '-Z'])\n",
    "print(current.compose(other))"
   ]
  },
  {
   "cell_type": "code",
   "execution_count": 2,
   "id": "ee6e4466",
   "metadata": {
    "execution": {
     "iopub.execute_input": "2021-05-03T23:29:09.940736Z",
     "iopub.status.busy": "2021-05-03T23:29:09.934350Z",
     "iopub.status.idle": "2021-05-03T23:29:09.946359Z",
     "shell.execute_reply": "2021-05-03T23:29:09.945830Z"
    }
   },
   "outputs": [
    {
     "name": "stdout",
     "output_type": "stream",
     "text": [
      "StabilizerTable: ['+X', '-Z', '-I', '+Y']\n"
     ]
    }
   ],
   "source": [
    "from qiskit.quantum_info.operators import StabilizerTable\n",
    "\n",
    "current = StabilizerTable.from_labels(['+I', '-X'])\n",
    "other =  StabilizerTable.from_labels(['+X', '-Z'])\n",
    "print(current.dot(other))"
   ]
  },
  {
   "cell_type": "code",
   "execution_count": 3,
   "id": "b025ca26",
   "metadata": {
    "execution": {
     "iopub.execute_input": "2021-05-03T23:29:09.952732Z",
     "iopub.status.busy": "2021-05-03T23:29:09.952200Z",
     "iopub.status.idle": "2021-05-03T23:29:09.956344Z",
     "shell.execute_reply": "2021-05-03T23:29:09.955821Z"
    }
   },
   "outputs": [
    {
     "name": "stdout",
     "output_type": "stream",
     "text": [
      "StabilizerTable: ['-YI', '+YX', '+ZI', '-ZX']\n"
     ]
    }
   ],
   "source": [
    "from qiskit.quantum_info.operators import StabilizerTable\n",
    "\n",
    "current = StabilizerTable.from_labels(['+I', '-X'])\n",
    "other =  StabilizerTable.from_labels(['-Y', '+Z'])\n",
    "print(current.expand(other))"
   ]
  },
  {
   "cell_type": "code",
   "execution_count": 4,
   "id": "3312f513",
   "metadata": {
    "execution": {
     "iopub.execute_input": "2021-05-03T23:29:09.965820Z",
     "iopub.status.busy": "2021-05-03T23:29:09.965272Z",
     "iopub.status.idle": "2021-05-03T23:29:09.970463Z",
     "shell.execute_reply": "2021-05-03T23:29:09.970024Z"
    }
   },
   "outputs": [
    {
     "name": "stdout",
     "output_type": "stream",
     "text": [
      "Initial Ordering\n",
      "StabilizerTable: ['+ZZ', '-II', '+IY', '+XI', '+XY', '-ZZ', '+ZI', '+XX', '+IX', '-XZ', '-ZX', '+ZX', '-XY', '-IX', '+II', '-IZ', '-ZI', '-YY', '-XX', '+YZ', '+YY', '+ZY', '-YI', '+XZ', '+YX', '-IY', '-YX', '-ZY', '-XI', '+YI', '+IZ', '-YZ']\n",
      "Lexicographically sorted\n",
      "StabilizerTable: ['-II', '+II', '+IX', '-IX', '+IY', '-IY', '-IZ', '+IZ', '+XI', '-XI', '+XX', '-XX', '+XY', '-XY', '-XZ', '+XZ', '-YI', '+YI', '+YX', '-YX', '-YY', '+YY', '+YZ', '-YZ', '+ZI', '-ZI', '-ZX', '+ZX', '+ZY', '-ZY', '+ZZ', '-ZZ']\n",
      "Weight sorted\n",
      "StabilizerTable: ['-II', '+II', '+IX', '-IX', '+IY', '-IY', '-IZ', '+IZ', '+XI', '-XI', '-YI', '+YI', '+ZI', '-ZI', '+XX', '-XX', '+XY', '-XY', '-XZ', '+XZ', '+YX', '-YX', '-YY', '+YY', '+YZ', '-YZ', '-ZX', '+ZX', '+ZY', '-ZY', '+ZZ', '-ZZ']\n"
     ]
    }
   ],
   "source": [
    "from numpy.random import shuffle\n",
    "from qiskit.quantum_info.operators import StabilizerTable\n",
    "\n",
    "# 2-qubit labels\n",
    "labels = ['+II', '+IX', '+IY', '+IZ', '+XI', '+XX', '+XY', '+XZ',\n",
    "          '+YI', '+YX', '+YY', '+YZ', '+ZI', '+ZX', '+ZY', '+ZZ',\n",
    "          '-II', '-IX', '-IY', '-IZ', '-XI', '-XX', '-XY', '-XZ',\n",
    "          '-YI', '-YX', '-YY', '-YZ', '-ZI', '-ZX', '-ZY', '-ZZ']\n",
    "# Shuffle Labels\n",
    "shuffle(labels)\n",
    "st = StabilizerTable.from_labels(labels)\n",
    "print('Initial Ordering')\n",
    "print(st)\n",
    "\n",
    "# Lexicographic Ordering\n",
    "srt = st.sort()\n",
    "print('Lexicographically sorted')\n",
    "print(srt)\n",
    "\n",
    "# Weight Ordering\n",
    "srt = st.sort(weight=True)\n",
    "print('Weight sorted')\n",
    "print(srt)"
   ]
  },
  {
   "cell_type": "code",
   "execution_count": 5,
   "id": "295fae58",
   "metadata": {
    "execution": {
     "iopub.execute_input": "2021-05-03T23:29:09.976358Z",
     "iopub.status.busy": "2021-05-03T23:29:09.975014Z",
     "iopub.status.idle": "2021-05-03T23:29:09.978134Z",
     "shell.execute_reply": "2021-05-03T23:29:09.977693Z"
    }
   },
   "outputs": [
    {
     "name": "stdout",
     "output_type": "stream",
     "text": [
      "StabilizerTable: ['-IY', '+IZ', '+XY', '-XZ']\n"
     ]
    }
   ],
   "source": [
    "from qiskit.quantum_info.operators import StabilizerTable\n",
    "\n",
    "current = StabilizerTable.from_labels(['+I', '-X'])\n",
    "other =  StabilizerTable.from_labels(['-Y', '+Z'])\n",
    "print(current.tensor(other))"
   ]
  },
  {
   "cell_type": "code",
   "execution_count": 6,
   "id": "8afb6eed",
   "metadata": {
    "execution": {
     "iopub.execute_input": "2021-05-03T23:29:09.983099Z",
     "iopub.status.busy": "2021-05-03T23:29:09.982525Z",
     "iopub.status.idle": "2021-05-03T23:29:09.985262Z",
     "shell.execute_reply": "2021-05-03T23:29:09.985664Z"
    }
   },
   "outputs": [
    {
     "name": "stdout",
     "output_type": "stream",
     "text": [
      "StabilizerTable: ['+X', '+I', '-I', '-X']\n"
     ]
    }
   ],
   "source": [
    "from qiskit.quantum_info.operators import StabilizerTable\n",
    "\n",
    "st = StabilizerTable.from_labels(['+X', '+I', '-I', '-X', '+X', '-X', '+I'])\n",
    "unique = st.unique()\n",
    "print(unique)"
   ]
  }
 ],
 "metadata": {
  "kernelspec": {
   "display_name": "Python 3",
   "language": "python",
   "name": "python3"
  },
  "language_info": {
   "codemirror_mode": {
    "name": "ipython",
    "version": 3
   },
   "file_extension": ".py",
   "mimetype": "text/x-python",
   "name": "python",
   "nbconvert_exporter": "python",
   "pygments_lexer": "ipython3",
   "version": "3.8.9"
  }
 },
 "nbformat": 4,
 "nbformat_minor": 5
}