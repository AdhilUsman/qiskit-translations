{
 "cells": [
  {
   "cell_type": "code",
   "execution_count": 1,
   "id": "98037d21",
   "metadata": {
    "execution": {
     "iopub.execute_input": "2021-05-07T07:55:28.717891Z",
     "iopub.status.busy": "2021-05-07T07:55:28.717205Z",
     "iopub.status.idle": "2021-05-07T07:55:29.393953Z",
     "shell.execute_reply": "2021-05-07T07:55:29.393101Z"
    }
   },
   "outputs": [
    {
     "name": "stdout",
     "output_type": "stream",
     "text": [
      "StabilizerTable: ['+X', '-Z', '-I', '-Y']\n"
     ]
    }
   ],
   "source": [
    "from qiskit.quantum_info.operators import StabilizerTable\n",
    "\n",
    "current = StabilizerTable.from_labels(['+I', '-X'])\n",
    "other =  StabilizerTable.from_labels(['+X', '-Z'])\n",
    "print(current.compose(other))"
   ]
  },
  {
   "cell_type": "code",
   "execution_count": 2,
   "id": "27a2ad71",
   "metadata": {
    "execution": {
     "iopub.execute_input": "2021-05-07T07:55:29.399029Z",
     "iopub.status.busy": "2021-05-07T07:55:29.398276Z",
     "iopub.status.idle": "2021-05-07T07:55:29.402802Z",
     "shell.execute_reply": "2021-05-07T07:55:29.403302Z"
    }
   },
   "outputs": [
    {
     "name": "stdout",
     "output_type": "stream",
     "text": [
      "StabilizerTable: ['+X', '-Z', '-I', '+Y']\n"
     ]
    }
   ],
   "source": [
    "from qiskit.quantum_info.operators import StabilizerTable\n",
    "\n",
    "current = StabilizerTable.from_labels(['+I', '-X'])\n",
    "other =  StabilizerTable.from_labels(['+X', '-Z'])\n",
    "print(current.dot(other))"
   ]
  },
  {
   "cell_type": "code",
   "execution_count": 3,
   "id": "afda41c2",
   "metadata": {
    "execution": {
     "iopub.execute_input": "2021-05-07T07:55:29.407509Z",
     "iopub.status.busy": "2021-05-07T07:55:29.406479Z",
     "iopub.status.idle": "2021-05-07T07:55:29.411679Z",
     "shell.execute_reply": "2021-05-07T07:55:29.410699Z"
    }
   },
   "outputs": [
    {
     "name": "stdout",
     "output_type": "stream",
     "text": [
      "StabilizerTable: ['-YI', '+YX', '+ZI', '-ZX']\n"
     ]
    }
   ],
   "source": [
    "from qiskit.quantum_info.operators import StabilizerTable\n",
    "\n",
    "current = StabilizerTable.from_labels(['+I', '-X'])\n",
    "other =  StabilizerTable.from_labels(['-Y', '+Z'])\n",
    "print(current.expand(other))"
   ]
  },
  {
   "cell_type": "code",
   "execution_count": 4,
   "id": "06234f31",
   "metadata": {
    "execution": {
     "iopub.execute_input": "2021-05-07T07:55:29.419417Z",
     "iopub.status.busy": "2021-05-07T07:55:29.416982Z",
     "iopub.status.idle": "2021-05-07T07:55:29.423559Z",
     "shell.execute_reply": "2021-05-07T07:55:29.423019Z"
    }
   },
   "outputs": [
    {
     "name": "stdout",
     "output_type": "stream",
     "text": [
      "Initial Ordering\n",
      "StabilizerTable: ['-XX', '-ZI', '-ZX', '-II', '-ZZ', '+YI', '+ZI', '-YX', '+IX', '+YY', '+YZ', '-IZ', '+IY', '-XI', '+XX', '+ZZ', '-YY', '+XZ', '+YX', '-XZ', '-XY', '+II', '+XY', '-IY', '+ZY', '-YI', '-IX', '-YZ', '+IZ', '-ZY', '+XI', '+ZX']\n",
      "Lexicographically sorted\n",
      "StabilizerTable: ['-II', '+II', '+IX', '-IX', '+IY', '-IY', '-IZ', '+IZ', '-XI', '+XI', '-XX', '+XX', '-XY', '+XY', '+XZ', '-XZ', '+YI', '-YI', '-YX', '+YX', '+YY', '-YY', '+YZ', '-YZ', '-ZI', '+ZI', '-ZX', '+ZX', '+ZY', '-ZY', '-ZZ', '+ZZ']\n",
      "Weight sorted\n",
      "StabilizerTable: ['-II', '+II', '+IX', '-IX', '+IY', '-IY', '-IZ', '+IZ', '-XI', '+XI', '+YI', '-YI', '-ZI', '+ZI', '-XX', '+XX', '-XY', '+XY', '+XZ', '-XZ', '-YX', '+YX', '+YY', '-YY', '+YZ', '-YZ', '-ZX', '+ZX', '+ZY', '-ZY', '-ZZ', '+ZZ']\n"
     ]
    }
   ],
   "source": [
    "from numpy.random import shuffle\n",
    "from qiskit.quantum_info.operators import StabilizerTable\n",
    "\n",
    "# 2-qubit labels\n",
    "labels = ['+II', '+IX', '+IY', '+IZ', '+XI', '+XX', '+XY', '+XZ',\n",
    "          '+YI', '+YX', '+YY', '+YZ', '+ZI', '+ZX', '+ZY', '+ZZ',\n",
    "          '-II', '-IX', '-IY', '-IZ', '-XI', '-XX', '-XY', '-XZ',\n",
    "          '-YI', '-YX', '-YY', '-YZ', '-ZI', '-ZX', '-ZY', '-ZZ']\n",
    "# Shuffle Labels\n",
    "shuffle(labels)\n",
    "st = StabilizerTable.from_labels(labels)\n",
    "print('Initial Ordering')\n",
    "print(st)\n",
    "\n",
    "# Lexicographic Ordering\n",
    "srt = st.sort()\n",
    "print('Lexicographically sorted')\n",
    "print(srt)\n",
    "\n",
    "# Weight Ordering\n",
    "srt = st.sort(weight=True)\n",
    "print('Weight sorted')\n",
    "print(srt)"
   ]
  },
  {
   "cell_type": "code",
   "execution_count": 5,
   "id": "995e279c",
   "metadata": {
    "execution": {
     "iopub.execute_input": "2021-05-07T07:55:29.428262Z",
     "iopub.status.busy": "2021-05-07T07:55:29.427625Z",
     "iopub.status.idle": "2021-05-07T07:55:29.431904Z",
     "shell.execute_reply": "2021-05-07T07:55:29.431301Z"
    }
   },
   "outputs": [
    {
     "name": "stdout",
     "output_type": "stream",
     "text": [
      "StabilizerTable: ['-IY', '+IZ', '+XY', '-XZ']\n"
     ]
    }
   ],
   "source": [
    "from qiskit.quantum_info.operators import StabilizerTable\n",
    "\n",
    "current = StabilizerTable.from_labels(['+I', '-X'])\n",
    "other =  StabilizerTable.from_labels(['-Y', '+Z'])\n",
    "print(current.tensor(other))"
   ]
  },
  {
   "cell_type": "code",
   "execution_count": 6,
   "id": "7c5da04d",
   "metadata": {
    "execution": {
     "iopub.execute_input": "2021-05-07T07:55:29.436331Z",
     "iopub.status.busy": "2021-05-07T07:55:29.435816Z",
     "iopub.status.idle": "2021-05-07T07:55:29.440044Z",
     "shell.execute_reply": "2021-05-07T07:55:29.439613Z"
    }
   },
   "outputs": [
    {
     "name": "stdout",
     "output_type": "stream",
     "text": [
      "StabilizerTable: ['+X', '+I', '-I', '-X']\n"
     ]
    }
   ],
   "source": [
    "from qiskit.quantum_info.operators import StabilizerTable\n",
    "\n",
    "st = StabilizerTable.from_labels(['+X', '+I', '-I', '-X', '+X', '-X', '+I'])\n",
    "unique = st.unique()\n",
    "print(unique)"
   ]
  }
 ],
 "metadata": {
  "kernelspec": {
   "display_name": "Python 3",
   "language": "python",
   "name": "python3"
  },
  "language_info": {
   "codemirror_mode": {
    "name": "ipython",
    "version": 3
   },
   "file_extension": ".py",
   "mimetype": "text/x-python",
   "name": "python",
   "nbconvert_exporter": "python",
   "pygments_lexer": "ipython3",
   "version": "3.8.10"
  }
 },
 "nbformat": 4,
 "nbformat_minor": 5
}