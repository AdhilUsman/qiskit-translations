{
 "cells": [
  {
   "cell_type": "code",
   "execution_count": 1,
   "id": "727874db",
   "metadata": {
    "execution": {
     "iopub.execute_input": "2021-05-19T01:10:11.446478Z",
     "iopub.status.busy": "2021-05-19T01:10:11.445181Z",
     "iopub.status.idle": "2021-05-19T01:10:12.119811Z",
     "shell.execute_reply": "2021-05-19T01:10:12.120381Z"
    }
   },
   "outputs": [
    {
     "name": "stdout",
     "output_type": "stream",
     "text": [
      "StabilizerTable: ['+X', '-Z', '-I', '-Y']\n"
     ]
    }
   ],
   "source": [
    "from qiskit.quantum_info.operators import StabilizerTable\n",
    "\n",
    "current = StabilizerTable.from_labels(['+I', '-X'])\n",
    "other =  StabilizerTable.from_labels(['+X', '-Z'])\n",
    "print(current.compose(other))"
   ]
  },
  {
   "cell_type": "code",
   "execution_count": 2,
   "id": "6ed90197",
   "metadata": {
    "execution": {
     "iopub.execute_input": "2021-05-19T01:10:12.126054Z",
     "iopub.status.busy": "2021-05-19T01:10:12.125215Z",
     "iopub.status.idle": "2021-05-19T01:10:12.129503Z",
     "shell.execute_reply": "2021-05-19T01:10:12.128992Z"
    }
   },
   "outputs": [
    {
     "name": "stdout",
     "output_type": "stream",
     "text": [
      "StabilizerTable: ['+X', '-Z', '-I', '+Y']\n"
     ]
    }
   ],
   "source": [
    "from qiskit.quantum_info.operators import StabilizerTable\n",
    "\n",
    "current = StabilizerTable.from_labels(['+I', '-X'])\n",
    "other =  StabilizerTable.from_labels(['+X', '-Z'])\n",
    "print(current.dot(other))"
   ]
  },
  {
   "cell_type": "code",
   "execution_count": 3,
   "id": "67771e0a",
   "metadata": {
    "execution": {
     "iopub.execute_input": "2021-05-19T01:10:12.135451Z",
     "iopub.status.busy": "2021-05-19T01:10:12.134035Z",
     "iopub.status.idle": "2021-05-19T01:10:12.137429Z",
     "shell.execute_reply": "2021-05-19T01:10:12.136921Z"
    }
   },
   "outputs": [
    {
     "name": "stdout",
     "output_type": "stream",
     "text": [
      "StabilizerTable: ['-YI', '+YX', '+ZI', '-ZX']\n"
     ]
    }
   ],
   "source": [
    "from qiskit.quantum_info.operators import StabilizerTable\n",
    "\n",
    "current = StabilizerTable.from_labels(['+I', '-X'])\n",
    "other =  StabilizerTable.from_labels(['-Y', '+Z'])\n",
    "print(current.expand(other))"
   ]
  },
  {
   "cell_type": "code",
   "execution_count": 4,
   "id": "4339a4af",
   "metadata": {
    "execution": {
     "iopub.execute_input": "2021-05-19T01:10:12.146290Z",
     "iopub.status.busy": "2021-05-19T01:10:12.143063Z",
     "iopub.status.idle": "2021-05-19T01:10:12.148534Z",
     "shell.execute_reply": "2021-05-19T01:10:12.148975Z"
    }
   },
   "outputs": [
    {
     "name": "stdout",
     "output_type": "stream",
     "text": [
      "Initial Ordering\n",
      "StabilizerTable: ['-IZ', '-ZZ', '+YZ', '-ZX', '-YY', '-ZY', '-IY', '-XZ', '-YI', '+XY', '-XY', '-IX', '-II', '-XI', '+YY', '+ZZ', '+YI', '+XZ', '+IX', '+ZX', '+IZ', '-YX', '-YZ', '+ZY', '+XX', '-ZI', '+II', '+ZI', '+XI', '+YX', '-XX', '+IY']\n",
      "Lexicographically sorted\n",
      "StabilizerTable: ['-II', '+II', '-IX', '+IX', '-IY', '+IY', '-IZ', '+IZ', '-XI', '+XI', '+XX', '-XX', '+XY', '-XY', '-XZ', '+XZ', '-YI', '+YI', '-YX', '+YX', '-YY', '+YY', '+YZ', '-YZ', '-ZI', '+ZI', '-ZX', '+ZX', '-ZY', '+ZY', '-ZZ', '+ZZ']\n",
      "Weight sorted\n",
      "StabilizerTable: ['-II', '+II', '-IX', '+IX', '-IY', '+IY', '-IZ', '+IZ', '-XI', '+XI', '-YI', '+YI', '-ZI', '+ZI', '+XX', '-XX', '+XY', '-XY', '-XZ', '+XZ', '-YX', '+YX', '-YY', '+YY', '+YZ', '-YZ', '-ZX', '+ZX', '-ZY', '+ZY', '-ZZ', '+ZZ']\n"
     ]
    }
   ],
   "source": [
    "from numpy.random import shuffle\n",
    "from qiskit.quantum_info.operators import StabilizerTable\n",
    "\n",
    "# 2-qubit labels\n",
    "labels = ['+II', '+IX', '+IY', '+IZ', '+XI', '+XX', '+XY', '+XZ',\n",
    "          '+YI', '+YX', '+YY', '+YZ', '+ZI', '+ZX', '+ZY', '+ZZ',\n",
    "          '-II', '-IX', '-IY', '-IZ', '-XI', '-XX', '-XY', '-XZ',\n",
    "          '-YI', '-YX', '-YY', '-YZ', '-ZI', '-ZX', '-ZY', '-ZZ']\n",
    "# Shuffle Labels\n",
    "shuffle(labels)\n",
    "st = StabilizerTable.from_labels(labels)\n",
    "print('Initial Ordering')\n",
    "print(st)\n",
    "\n",
    "# Lexicographic Ordering\n",
    "srt = st.sort()\n",
    "print('Lexicographically sorted')\n",
    "print(srt)\n",
    "\n",
    "# Weight Ordering\n",
    "srt = st.sort(weight=True)\n",
    "print('Weight sorted')\n",
    "print(srt)"
   ]
  },
  {
   "cell_type": "code",
   "execution_count": 5,
   "id": "8190725e",
   "metadata": {
    "execution": {
     "iopub.execute_input": "2021-05-19T01:10:12.154914Z",
     "iopub.status.busy": "2021-05-19T01:10:12.153623Z",
     "iopub.status.idle": "2021-05-19T01:10:12.156838Z",
     "shell.execute_reply": "2021-05-19T01:10:12.156329Z"
    }
   },
   "outputs": [
    {
     "name": "stdout",
     "output_type": "stream",
     "text": [
      "StabilizerTable: ['-IY', '+IZ', '+XY', '-XZ']\n"
     ]
    }
   ],
   "source": [
    "from qiskit.quantum_info.operators import StabilizerTable\n",
    "\n",
    "current = StabilizerTable.from_labels(['+I', '-X'])\n",
    "other =  StabilizerTable.from_labels(['-Y', '+Z'])\n",
    "print(current.tensor(other))"
   ]
  },
  {
   "cell_type": "code",
   "execution_count": 6,
   "id": "875b96be",
   "metadata": {
    "execution": {
     "iopub.execute_input": "2021-05-19T01:10:12.162765Z",
     "iopub.status.busy": "2021-05-19T01:10:12.161343Z",
     "iopub.status.idle": "2021-05-19T01:10:12.164559Z",
     "shell.execute_reply": "2021-05-19T01:10:12.164073Z"
    }
   },
   "outputs": [
    {
     "name": "stdout",
     "output_type": "stream",
     "text": [
      "StabilizerTable: ['+X', '+I', '-I', '-X']\n"
     ]
    }
   ],
   "source": [
    "from qiskit.quantum_info.operators import StabilizerTable\n",
    "\n",
    "st = StabilizerTable.from_labels(['+X', '+I', '-I', '-X', '+X', '-X', '+I'])\n",
    "unique = st.unique()\n",
    "print(unique)"
   ]
  }
 ],
 "metadata": {
  "kernelspec": {
   "display_name": "Python 3",
   "language": "python",
   "name": "python3"
  },
  "language_info": {
   "codemirror_mode": {
    "name": "ipython",
    "version": 3
   },
   "file_extension": ".py",
   "mimetype": "text/x-python",
   "name": "python",
   "nbconvert_exporter": "python",
   "pygments_lexer": "ipython3",
   "version": "3.8.10"
  }
 },
 "nbformat": 4,
 "nbformat_minor": 5
}