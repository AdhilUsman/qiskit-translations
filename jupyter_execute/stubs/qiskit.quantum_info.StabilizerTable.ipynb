{
 "cells": [
  {
   "cell_type": "code",
   "execution_count": 1,
   "id": "0fd9211a",
   "metadata": {
    "execution": {
     "iopub.execute_input": "2021-05-08T16:07:41.317754Z",
     "iopub.status.busy": "2021-05-08T16:07:41.317022Z",
     "iopub.status.idle": "2021-05-08T16:07:42.005309Z",
     "shell.execute_reply": "2021-05-08T16:07:42.005797Z"
    }
   },
   "outputs": [
    {
     "name": "stdout",
     "output_type": "stream",
     "text": [
      "StabilizerTable: ['+X', '-Z', '-I', '-Y']\n"
     ]
    }
   ],
   "source": [
    "from qiskit.quantum_info.operators import StabilizerTable\n",
    "\n",
    "current = StabilizerTable.from_labels(['+I', '-X'])\n",
    "other =  StabilizerTable.from_labels(['+X', '-Z'])\n",
    "print(current.compose(other))"
   ]
  },
  {
   "cell_type": "code",
   "execution_count": 2,
   "id": "e2db0a81",
   "metadata": {
    "execution": {
     "iopub.execute_input": "2021-05-08T16:07:42.012263Z",
     "iopub.status.busy": "2021-05-08T16:07:42.010799Z",
     "iopub.status.idle": "2021-05-08T16:07:42.014316Z",
     "shell.execute_reply": "2021-05-08T16:07:42.013669Z"
    }
   },
   "outputs": [
    {
     "name": "stdout",
     "output_type": "stream",
     "text": [
      "StabilizerTable: ['+X', '-Z', '-I', '+Y']\n"
     ]
    }
   ],
   "source": [
    "from qiskit.quantum_info.operators import StabilizerTable\n",
    "\n",
    "current = StabilizerTable.from_labels(['+I', '-X'])\n",
    "other =  StabilizerTable.from_labels(['+X', '-Z'])\n",
    "print(current.dot(other))"
   ]
  },
  {
   "cell_type": "code",
   "execution_count": 3,
   "id": "a405ba2a",
   "metadata": {
    "execution": {
     "iopub.execute_input": "2021-05-08T16:07:42.020443Z",
     "iopub.status.busy": "2021-05-08T16:07:42.019028Z",
     "iopub.status.idle": "2021-05-08T16:07:42.022287Z",
     "shell.execute_reply": "2021-05-08T16:07:42.021785Z"
    }
   },
   "outputs": [
    {
     "name": "stdout",
     "output_type": "stream",
     "text": [
      "StabilizerTable: ['-YI', '+YX', '+ZI', '-ZX']\n"
     ]
    }
   ],
   "source": [
    "from qiskit.quantum_info.operators import StabilizerTable\n",
    "\n",
    "current = StabilizerTable.from_labels(['+I', '-X'])\n",
    "other =  StabilizerTable.from_labels(['-Y', '+Z'])\n",
    "print(current.expand(other))"
   ]
  },
  {
   "cell_type": "code",
   "execution_count": 4,
   "id": "fa5e3754",
   "metadata": {
    "execution": {
     "iopub.execute_input": "2021-05-08T16:07:42.030968Z",
     "iopub.status.busy": "2021-05-08T16:07:42.030360Z",
     "iopub.status.idle": "2021-05-08T16:07:42.033181Z",
     "shell.execute_reply": "2021-05-08T16:07:42.033658Z"
    }
   },
   "outputs": [
    {
     "name": "stdout",
     "output_type": "stream",
     "text": [
      "Initial Ordering\n",
      "StabilizerTable: ['+ZX', '-IY', '+IZ', '-ZX', '+ZZ', '+IX', '-XZ', '-YI', '-ZZ', '-XI', '-IZ', '+YY', '-ZI', '-YY', '+IY', '+XX', '-ZY', '-XX', '+XY', '-YX', '+XI', '+XZ', '+ZI', '+ZY', '-II', '+YX', '+YZ', '-XY', '-IX', '-YZ', '+YI', '+II']\n",
      "Lexicographically sorted\n",
      "StabilizerTable: ['-II', '+II', '+IX', '-IX', '-IY', '+IY', '+IZ', '-IZ', '-XI', '+XI', '+XX', '-XX', '+XY', '-XY', '-XZ', '+XZ', '-YI', '+YI', '-YX', '+YX', '+YY', '-YY', '+YZ', '-YZ', '-ZI', '+ZI', '+ZX', '-ZX', '-ZY', '+ZY', '+ZZ', '-ZZ']\n",
      "Weight sorted\n",
      "StabilizerTable: ['-II', '+II', '+IX', '-IX', '-IY', '+IY', '+IZ', '-IZ', '-XI', '+XI', '-YI', '+YI', '-ZI', '+ZI', '+XX', '-XX', '+XY', '-XY', '-XZ', '+XZ', '-YX', '+YX', '+YY', '-YY', '+YZ', '-YZ', '+ZX', '-ZX', '-ZY', '+ZY', '+ZZ', '-ZZ']\n"
     ]
    }
   ],
   "source": [
    "from numpy.random import shuffle\n",
    "from qiskit.quantum_info.operators import StabilizerTable\n",
    "\n",
    "# 2-qubit labels\n",
    "labels = ['+II', '+IX', '+IY', '+IZ', '+XI', '+XX', '+XY', '+XZ',\n",
    "          '+YI', '+YX', '+YY', '+YZ', '+ZI', '+ZX', '+ZY', '+ZZ',\n",
    "          '-II', '-IX', '-IY', '-IZ', '-XI', '-XX', '-XY', '-XZ',\n",
    "          '-YI', '-YX', '-YY', '-YZ', '-ZI', '-ZX', '-ZY', '-ZZ']\n",
    "# Shuffle Labels\n",
    "shuffle(labels)\n",
    "st = StabilizerTable.from_labels(labels)\n",
    "print('Initial Ordering')\n",
    "print(st)\n",
    "\n",
    "# Lexicographic Ordering\n",
    "srt = st.sort()\n",
    "print('Lexicographically sorted')\n",
    "print(srt)\n",
    "\n",
    "# Weight Ordering\n",
    "srt = st.sort(weight=True)\n",
    "print('Weight sorted')\n",
    "print(srt)"
   ]
  },
  {
   "cell_type": "code",
   "execution_count": 5,
   "id": "d3f10b25",
   "metadata": {
    "execution": {
     "iopub.execute_input": "2021-05-08T16:07:42.039657Z",
     "iopub.status.busy": "2021-05-08T16:07:42.038325Z",
     "iopub.status.idle": "2021-05-08T16:07:42.041518Z",
     "shell.execute_reply": "2021-05-08T16:07:42.041005Z"
    }
   },
   "outputs": [
    {
     "name": "stdout",
     "output_type": "stream",
     "text": [
      "StabilizerTable: ['-IY', '+IZ', '+XY', '-XZ']\n"
     ]
    }
   ],
   "source": [
    "from qiskit.quantum_info.operators import StabilizerTable\n",
    "\n",
    "current = StabilizerTable.from_labels(['+I', '-X'])\n",
    "other =  StabilizerTable.from_labels(['-Y', '+Z'])\n",
    "print(current.tensor(other))"
   ]
  },
  {
   "cell_type": "code",
   "execution_count": 6,
   "id": "7d7b3478",
   "metadata": {
    "execution": {
     "iopub.execute_input": "2021-05-08T16:07:42.047562Z",
     "iopub.status.busy": "2021-05-08T16:07:42.046194Z",
     "iopub.status.idle": "2021-05-08T16:07:42.049408Z",
     "shell.execute_reply": "2021-05-08T16:07:42.048883Z"
    }
   },
   "outputs": [
    {
     "name": "stdout",
     "output_type": "stream",
     "text": [
      "StabilizerTable: ['+X', '+I', '-I', '-X']\n"
     ]
    }
   ],
   "source": [
    "from qiskit.quantum_info.operators import StabilizerTable\n",
    "\n",
    "st = StabilizerTable.from_labels(['+X', '+I', '-I', '-X', '+X', '-X', '+I'])\n",
    "unique = st.unique()\n",
    "print(unique)"
   ]
  }
 ],
 "metadata": {
  "kernelspec": {
   "display_name": "Python 3",
   "language": "python",
   "name": "python3"
  },
  "language_info": {
   "codemirror_mode": {
    "name": "ipython",
    "version": 3
   },
   "file_extension": ".py",
   "mimetype": "text/x-python",
   "name": "python",
   "nbconvert_exporter": "python",
   "pygments_lexer": "ipython3",
   "version": "3.8.10"
  }
 },
 "nbformat": 4,
 "nbformat_minor": 5
}