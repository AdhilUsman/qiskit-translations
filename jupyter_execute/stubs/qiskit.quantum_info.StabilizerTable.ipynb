{
 "cells": [
  {
   "cell_type": "code",
   "execution_count": 1,
   "id": "79689f01",
   "metadata": {
    "execution": {
     "iopub.execute_input": "2021-04-07T14:14:01.591906Z",
     "iopub.status.busy": "2021-04-07T14:14:01.590619Z",
     "iopub.status.idle": "2021-04-07T14:14:02.272464Z",
     "shell.execute_reply": "2021-04-07T14:14:02.272886Z"
    }
   },
   "outputs": [
    {
     "name": "stdout",
     "output_type": "stream",
     "text": [
      "StabilizerTable: ['+X', '-Z', '-I', '-Y']\n"
     ]
    }
   ],
   "source": [
    "from qiskit.quantum_info.operators import StabilizerTable\n",
    "\n",
    "current = StabilizerTable.from_labels(['+I', '-X'])\n",
    "other =  StabilizerTable.from_labels(['+X', '-Z'])\n",
    "print(current.compose(other))"
   ]
  },
  {
   "cell_type": "code",
   "execution_count": 2,
   "id": "aee48df7",
   "metadata": {
    "execution": {
     "iopub.execute_input": "2021-04-07T14:14:02.281104Z",
     "iopub.status.busy": "2021-04-07T14:14:02.280171Z",
     "iopub.status.idle": "2021-04-07T14:14:02.286909Z",
     "shell.execute_reply": "2021-04-07T14:14:02.285994Z"
    }
   },
   "outputs": [
    {
     "name": "stdout",
     "output_type": "stream",
     "text": [
      "StabilizerTable: ['+X', '-Z', '-I', '+Y']\n"
     ]
    }
   ],
   "source": [
    "from qiskit.quantum_info.operators import StabilizerTable\n",
    "\n",
    "current = StabilizerTable.from_labels(['+I', '-X'])\n",
    "other =  StabilizerTable.from_labels(['+X', '-Z'])\n",
    "print(current.dot(other))"
   ]
  },
  {
   "cell_type": "code",
   "execution_count": 3,
   "id": "635ee47e",
   "metadata": {
    "execution": {
     "iopub.execute_input": "2021-04-07T14:14:02.291940Z",
     "iopub.status.busy": "2021-04-07T14:14:02.291078Z",
     "iopub.status.idle": "2021-04-07T14:14:02.295687Z",
     "shell.execute_reply": "2021-04-07T14:14:02.295276Z"
    }
   },
   "outputs": [
    {
     "name": "stdout",
     "output_type": "stream",
     "text": [
      "StabilizerTable: ['-YI', '+YX', '+ZI', '-ZX']\n"
     ]
    }
   ],
   "source": [
    "from qiskit.quantum_info.operators import StabilizerTable\n",
    "\n",
    "current = StabilizerTable.from_labels(['+I', '-X'])\n",
    "other =  StabilizerTable.from_labels(['-Y', '+Z'])\n",
    "print(current.expand(other))"
   ]
  },
  {
   "cell_type": "code",
   "execution_count": 4,
   "id": "d437e6f2",
   "metadata": {
    "execution": {
     "iopub.execute_input": "2021-04-07T14:14:02.302359Z",
     "iopub.status.busy": "2021-04-07T14:14:02.301003Z",
     "iopub.status.idle": "2021-04-07T14:14:02.305258Z",
     "shell.execute_reply": "2021-04-07T14:14:02.305659Z"
    }
   },
   "outputs": [
    {
     "name": "stdout",
     "output_type": "stream",
     "text": [
      "Initial Ordering\n",
      "StabilizerTable: ['+ZZ', '+XY', '+ZI', '+IX', '+XZ', '+XX', '-ZZ', '-XZ', '-XX', '+YI', '-XY', '-IY', '+ZY', '-ZX', '+YX', '+IY', '-ZI', '-XI', '-YI', '+IZ', '+II', '-YZ', '+XI', '+YZ', '-II', '+YY', '-YX', '-IZ', '-IX', '-ZY', '+ZX', '-YY']\n",
      "Lexicographically sorted\n",
      "StabilizerTable: ['+II', '-II', '+IX', '-IX', '-IY', '+IY', '+IZ', '-IZ', '-XI', '+XI', '+XX', '-XX', '+XY', '-XY', '+XZ', '-XZ', '+YI', '-YI', '+YX', '-YX', '+YY', '-YY', '-YZ', '+YZ', '+ZI', '-ZI', '-ZX', '+ZX', '+ZY', '-ZY', '+ZZ', '-ZZ']\n",
      "Weight sorted\n",
      "StabilizerTable: ['+II', '-II', '+IX', '-IX', '-IY', '+IY', '+IZ', '-IZ', '-XI', '+XI', '+YI', '-YI', '+ZI', '-ZI', '+XX', '-XX', '+XY', '-XY', '+XZ', '-XZ', '+YX', '-YX', '+YY', '-YY', '-YZ', '+YZ', '-ZX', '+ZX', '+ZY', '-ZY', '+ZZ', '-ZZ']\n"
     ]
    }
   ],
   "source": [
    "from numpy.random import shuffle\n",
    "from qiskit.quantum_info.operators import StabilizerTable\n",
    "\n",
    "# 2-qubit labels\n",
    "labels = ['+II', '+IX', '+IY', '+IZ', '+XI', '+XX', '+XY', '+XZ',\n",
    "          '+YI', '+YX', '+YY', '+YZ', '+ZI', '+ZX', '+ZY', '+ZZ',\n",
    "          '-II', '-IX', '-IY', '-IZ', '-XI', '-XX', '-XY', '-XZ',\n",
    "          '-YI', '-YX', '-YY', '-YZ', '-ZI', '-ZX', '-ZY', '-ZZ']\n",
    "# Shuffle Labels\n",
    "shuffle(labels)\n",
    "st = StabilizerTable.from_labels(labels)\n",
    "print('Initial Ordering')\n",
    "print(st)\n",
    "\n",
    "# Lexicographic Ordering\n",
    "srt = st.sort()\n",
    "print('Lexicographically sorted')\n",
    "print(srt)\n",
    "\n",
    "# Weight Ordering\n",
    "srt = st.sort(weight=True)\n",
    "print('Weight sorted')\n",
    "print(srt)"
   ]
  },
  {
   "cell_type": "code",
   "execution_count": 5,
   "id": "19930c38",
   "metadata": {
    "execution": {
     "iopub.execute_input": "2021-04-07T14:14:02.310185Z",
     "iopub.status.busy": "2021-04-07T14:14:02.309693Z",
     "iopub.status.idle": "2021-04-07T14:14:02.312921Z",
     "shell.execute_reply": "2021-04-07T14:14:02.313345Z"
    }
   },
   "outputs": [
    {
     "name": "stdout",
     "output_type": "stream",
     "text": [
      "StabilizerTable: ['-IY', '+IZ', '+XY', '-XZ']\n"
     ]
    }
   ],
   "source": [
    "from qiskit.quantum_info.operators import StabilizerTable\n",
    "\n",
    "current = StabilizerTable.from_labels(['+I', '-X'])\n",
    "other =  StabilizerTable.from_labels(['-Y', '+Z'])\n",
    "print(current.tensor(other))"
   ]
  },
  {
   "cell_type": "code",
   "execution_count": 6,
   "id": "97fcd736",
   "metadata": {
    "execution": {
     "iopub.execute_input": "2021-04-07T14:14:02.318029Z",
     "iopub.status.busy": "2021-04-07T14:14:02.317463Z",
     "iopub.status.idle": "2021-04-07T14:14:02.321255Z",
     "shell.execute_reply": "2021-04-07T14:14:02.320829Z"
    }
   },
   "outputs": [
    {
     "name": "stdout",
     "output_type": "stream",
     "text": [
      "StabilizerTable: ['+X', '+I', '-I', '-X']\n"
     ]
    }
   ],
   "source": [
    "from qiskit.quantum_info.operators import StabilizerTable\n",
    "\n",
    "st = StabilizerTable.from_labels(['+X', '+I', '-I', '-X', '+X', '-X', '+I'])\n",
    "unique = st.unique()\n",
    "print(unique)"
   ]
  }
 ],
 "metadata": {
  "kernelspec": {
   "display_name": "Python 3",
   "language": "python",
   "name": "python3"
  },
  "language_info": {
   "codemirror_mode": {
    "name": "ipython",
    "version": 3
   },
   "file_extension": ".py",
   "mimetype": "text/x-python",
   "name": "python",
   "nbconvert_exporter": "python",
   "pygments_lexer": "ipython3",
   "version": "3.8.8"
  }
 },
 "nbformat": 4,
 "nbformat_minor": 5
}