{
 "cells": [
  {
   "cell_type": "code",
   "execution_count": 1,
   "id": "9a9a01a2",
   "metadata": {
    "execution": {
     "iopub.execute_input": "2021-05-04T15:54:35.296965Z",
     "iopub.status.busy": "2021-05-04T15:54:35.296470Z",
     "iopub.status.idle": "2021-05-04T15:54:35.990125Z",
     "shell.execute_reply": "2021-05-04T15:54:35.990899Z"
    }
   },
   "outputs": [
    {
     "name": "stdout",
     "output_type": "stream",
     "text": [
      "StabilizerTable: ['+X', '-Z', '-I', '-Y']\n"
     ]
    }
   ],
   "source": [
    "from qiskit.quantum_info.operators import StabilizerTable\n",
    "\n",
    "current = StabilizerTable.from_labels(['+I', '-X'])\n",
    "other =  StabilizerTable.from_labels(['+X', '-Z'])\n",
    "print(current.compose(other))"
   ]
  },
  {
   "cell_type": "code",
   "execution_count": 2,
   "id": "dfca5dc6",
   "metadata": {
    "execution": {
     "iopub.execute_input": "2021-05-04T15:54:35.997095Z",
     "iopub.status.busy": "2021-05-04T15:54:35.995961Z",
     "iopub.status.idle": "2021-05-04T15:54:35.998814Z",
     "shell.execute_reply": "2021-05-04T15:54:35.998361Z"
    }
   },
   "outputs": [
    {
     "name": "stdout",
     "output_type": "stream",
     "text": [
      "StabilizerTable: ['+X', '-Z', '-I', '+Y']\n"
     ]
    }
   ],
   "source": [
    "from qiskit.quantum_info.operators import StabilizerTable\n",
    "\n",
    "current = StabilizerTable.from_labels(['+I', '-X'])\n",
    "other =  StabilizerTable.from_labels(['+X', '-Z'])\n",
    "print(current.dot(other))"
   ]
  },
  {
   "cell_type": "code",
   "execution_count": 3,
   "id": "103480b9",
   "metadata": {
    "execution": {
     "iopub.execute_input": "2021-05-04T15:54:36.005142Z",
     "iopub.status.busy": "2021-05-04T15:54:36.003931Z",
     "iopub.status.idle": "2021-05-04T15:54:36.007000Z",
     "shell.execute_reply": "2021-05-04T15:54:36.006472Z"
    }
   },
   "outputs": [
    {
     "name": "stdout",
     "output_type": "stream",
     "text": [
      "StabilizerTable: ['-YI', '+YX', '+ZI', '-ZX']\n"
     ]
    }
   ],
   "source": [
    "from qiskit.quantum_info.operators import StabilizerTable\n",
    "\n",
    "current = StabilizerTable.from_labels(['+I', '-X'])\n",
    "other =  StabilizerTable.from_labels(['-Y', '+Z'])\n",
    "print(current.expand(other))"
   ]
  },
  {
   "cell_type": "code",
   "execution_count": 4,
   "id": "9cccbc5c",
   "metadata": {
    "execution": {
     "iopub.execute_input": "2021-05-04T15:54:36.014628Z",
     "iopub.status.busy": "2021-05-04T15:54:36.012239Z",
     "iopub.status.idle": "2021-05-04T15:54:36.017001Z",
     "shell.execute_reply": "2021-05-04T15:54:36.017415Z"
    }
   },
   "outputs": [
    {
     "name": "stdout",
     "output_type": "stream",
     "text": [
      "Initial Ordering\n",
      "StabilizerTable: ['-YY', '-IY', '-ZI', '+IY', '-ZZ', '-IX', '+ZX', '-IZ', '+YI', '-YZ', '+XX', '+ZY', '+IX', '+XI', '+YY', '-XY', '+IZ', '+ZZ', '-XI', '-ZX', '+YX', '-XX', '-YI', '+YZ', '+ZI', '-XZ', '+XY', '-ZY', '+II', '+XZ', '-YX', '-II']\n",
      "Lexicographically sorted\n",
      "StabilizerTable: ['+II', '-II', '-IX', '+IX', '-IY', '+IY', '-IZ', '+IZ', '+XI', '-XI', '+XX', '-XX', '-XY', '+XY', '-XZ', '+XZ', '+YI', '-YI', '+YX', '-YX', '-YY', '+YY', '-YZ', '+YZ', '-ZI', '+ZI', '+ZX', '-ZX', '+ZY', '-ZY', '-ZZ', '+ZZ']\n",
      "Weight sorted\n",
      "StabilizerTable: ['+II', '-II', '-IX', '+IX', '-IY', '+IY', '-IZ', '+IZ', '+XI', '-XI', '+YI', '-YI', '-ZI', '+ZI', '+XX', '-XX', '-XY', '+XY', '-XZ', '+XZ', '+YX', '-YX', '-YY', '+YY', '-YZ', '+YZ', '+ZX', '-ZX', '+ZY', '-ZY', '-ZZ', '+ZZ']\n"
     ]
    }
   ],
   "source": [
    "from numpy.random import shuffle\n",
    "from qiskit.quantum_info.operators import StabilizerTable\n",
    "\n",
    "# 2-qubit labels\n",
    "labels = ['+II', '+IX', '+IY', '+IZ', '+XI', '+XX', '+XY', '+XZ',\n",
    "          '+YI', '+YX', '+YY', '+YZ', '+ZI', '+ZX', '+ZY', '+ZZ',\n",
    "          '-II', '-IX', '-IY', '-IZ', '-XI', '-XX', '-XY', '-XZ',\n",
    "          '-YI', '-YX', '-YY', '-YZ', '-ZI', '-ZX', '-ZY', '-ZZ']\n",
    "# Shuffle Labels\n",
    "shuffle(labels)\n",
    "st = StabilizerTable.from_labels(labels)\n",
    "print('Initial Ordering')\n",
    "print(st)\n",
    "\n",
    "# Lexicographic Ordering\n",
    "srt = st.sort()\n",
    "print('Lexicographically sorted')\n",
    "print(srt)\n",
    "\n",
    "# Weight Ordering\n",
    "srt = st.sort(weight=True)\n",
    "print('Weight sorted')\n",
    "print(srt)"
   ]
  },
  {
   "cell_type": "code",
   "execution_count": 5,
   "id": "5cbb6d81",
   "metadata": {
    "execution": {
     "iopub.execute_input": "2021-05-04T15:54:36.023078Z",
     "iopub.status.busy": "2021-05-04T15:54:36.021722Z",
     "iopub.status.idle": "2021-05-04T15:54:36.024829Z",
     "shell.execute_reply": "2021-05-04T15:54:36.024385Z"
    }
   },
   "outputs": [
    {
     "name": "stdout",
     "output_type": "stream",
     "text": [
      "StabilizerTable: ['-IY', '+IZ', '+XY', '-XZ']\n"
     ]
    }
   ],
   "source": [
    "from qiskit.quantum_info.operators import StabilizerTable\n",
    "\n",
    "current = StabilizerTable.from_labels(['+I', '-X'])\n",
    "other =  StabilizerTable.from_labels(['-Y', '+Z'])\n",
    "print(current.tensor(other))"
   ]
  },
  {
   "cell_type": "code",
   "execution_count": 6,
   "id": "7f545e49",
   "metadata": {
    "execution": {
     "iopub.execute_input": "2021-05-04T15:54:36.029686Z",
     "iopub.status.busy": "2021-05-04T15:54:36.029139Z",
     "iopub.status.idle": "2021-05-04T15:54:36.031063Z",
     "shell.execute_reply": "2021-05-04T15:54:36.031475Z"
    }
   },
   "outputs": [
    {
     "name": "stdout",
     "output_type": "stream",
     "text": [
      "StabilizerTable: ['+X', '+I', '-I', '-X']\n"
     ]
    }
   ],
   "source": [
    "from qiskit.quantum_info.operators import StabilizerTable\n",
    "\n",
    "st = StabilizerTable.from_labels(['+X', '+I', '-I', '-X', '+X', '-X', '+I'])\n",
    "unique = st.unique()\n",
    "print(unique)"
   ]
  }
 ],
 "metadata": {
  "kernelspec": {
   "display_name": "Python 3",
   "language": "python",
   "name": "python3"
  },
  "language_info": {
   "codemirror_mode": {
    "name": "ipython",
    "version": 3
   },
   "file_extension": ".py",
   "mimetype": "text/x-python",
   "name": "python",
   "nbconvert_exporter": "python",
   "pygments_lexer": "ipython3",
   "version": "3.8.9"
  }
 },
 "nbformat": 4,
 "nbformat_minor": 5
}