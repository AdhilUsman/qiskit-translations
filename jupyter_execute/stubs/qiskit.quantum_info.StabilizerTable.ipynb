{
 "cells": [
  {
   "cell_type": "code",
   "execution_count": 1,
   "id": "75b69e76",
   "metadata": {
    "execution": {
     "iopub.execute_input": "2021-04-25T05:53:07.367669Z",
     "iopub.status.busy": "2021-04-25T05:53:07.366629Z",
     "iopub.status.idle": "2021-04-25T05:53:08.080207Z",
     "shell.execute_reply": "2021-04-25T05:53:08.080713Z"
    }
   },
   "outputs": [
    {
     "name": "stdout",
     "output_type": "stream",
     "text": [
      "StabilizerTable: ['+X', '-Z', '-I', '-Y']\n"
     ]
    }
   ],
   "source": [
    "from qiskit.quantum_info.operators import StabilizerTable\n",
    "\n",
    "current = StabilizerTable.from_labels(['+I', '-X'])\n",
    "other =  StabilizerTable.from_labels(['+X', '-Z'])\n",
    "print(current.compose(other))"
   ]
  },
  {
   "cell_type": "code",
   "execution_count": 2,
   "id": "4947725c",
   "metadata": {
    "execution": {
     "iopub.execute_input": "2021-04-25T05:53:08.087293Z",
     "iopub.status.busy": "2021-04-25T05:53:08.085849Z",
     "iopub.status.idle": "2021-04-25T05:53:08.090033Z",
     "shell.execute_reply": "2021-04-25T05:53:08.088693Z"
    }
   },
   "outputs": [
    {
     "name": "stdout",
     "output_type": "stream",
     "text": [
      "StabilizerTable: ['+X', '-Z', '-I', '+Y']\n"
     ]
    }
   ],
   "source": [
    "from qiskit.quantum_info.operators import StabilizerTable\n",
    "\n",
    "current = StabilizerTable.from_labels(['+I', '-X'])\n",
    "other =  StabilizerTable.from_labels(['+X', '-Z'])\n",
    "print(current.dot(other))"
   ]
  },
  {
   "cell_type": "code",
   "execution_count": 3,
   "id": "0e21cced",
   "metadata": {
    "execution": {
     "iopub.execute_input": "2021-04-25T05:53:08.096413Z",
     "iopub.status.busy": "2021-04-25T05:53:08.094999Z",
     "iopub.status.idle": "2021-04-25T05:53:08.098297Z",
     "shell.execute_reply": "2021-04-25T05:53:08.097777Z"
    }
   },
   "outputs": [
    {
     "name": "stdout",
     "output_type": "stream",
     "text": [
      "StabilizerTable: ['-YI', '+YX', '+ZI', '-ZX']\n"
     ]
    }
   ],
   "source": [
    "from qiskit.quantum_info.operators import StabilizerTable\n",
    "\n",
    "current = StabilizerTable.from_labels(['+I', '-X'])\n",
    "other =  StabilizerTable.from_labels(['-Y', '+Z'])\n",
    "print(current.expand(other))"
   ]
  },
  {
   "cell_type": "code",
   "execution_count": 4,
   "id": "76163a3c",
   "metadata": {
    "execution": {
     "iopub.execute_input": "2021-04-25T05:53:08.106766Z",
     "iopub.status.busy": "2021-04-25T05:53:08.104652Z",
     "iopub.status.idle": "2021-04-25T05:53:08.108911Z",
     "shell.execute_reply": "2021-04-25T05:53:08.109636Z"
    }
   },
   "outputs": [
    {
     "name": "stdout",
     "output_type": "stream",
     "text": [
      "Initial Ordering\n",
      "StabilizerTable: ['+ZZ', '+IX', '-ZZ', '-ZY', '-YY', '-XY', '-XI', '-ZI', '+II', '+YI', '-ZX', '+IY', '+ZI', '-IY', '+XI', '-XZ', '-YI', '-XX', '-IX', '+XX', '+XY', '-YX', '-YZ', '+XZ', '-IZ', '+YZ', '-II', '+ZX', '+ZY', '+YY', '+YX', '+IZ']\n",
      "Lexicographically sorted\n",
      "StabilizerTable: ['+II', '-II', '+IX', '-IX', '+IY', '-IY', '-IZ', '+IZ', '-XI', '+XI', '-XX', '+XX', '-XY', '+XY', '-XZ', '+XZ', '+YI', '-YI', '-YX', '+YX', '-YY', '+YY', '-YZ', '+YZ', '-ZI', '+ZI', '-ZX', '+ZX', '-ZY', '+ZY', '+ZZ', '-ZZ']\n",
      "Weight sorted\n",
      "StabilizerTable: ['+II', '-II', '+IX', '-IX', '+IY', '-IY', '-IZ', '+IZ', '-XI', '+XI', '+YI', '-YI', '-ZI', '+ZI', '-XX', '+XX', '-XY', '+XY', '-XZ', '+XZ', '-YX', '+YX', '-YY', '+YY', '-YZ', '+YZ', '-ZX', '+ZX', '-ZY', '+ZY', '+ZZ', '-ZZ']\n"
     ]
    }
   ],
   "source": [
    "from numpy.random import shuffle\n",
    "from qiskit.quantum_info.operators import StabilizerTable\n",
    "\n",
    "# 2-qubit labels\n",
    "labels = ['+II', '+IX', '+IY', '+IZ', '+XI', '+XX', '+XY', '+XZ',\n",
    "          '+YI', '+YX', '+YY', '+YZ', '+ZI', '+ZX', '+ZY', '+ZZ',\n",
    "          '-II', '-IX', '-IY', '-IZ', '-XI', '-XX', '-XY', '-XZ',\n",
    "          '-YI', '-YX', '-YY', '-YZ', '-ZI', '-ZX', '-ZY', '-ZZ']\n",
    "# Shuffle Labels\n",
    "shuffle(labels)\n",
    "st = StabilizerTable.from_labels(labels)\n",
    "print('Initial Ordering')\n",
    "print(st)\n",
    "\n",
    "# Lexicographic Ordering\n",
    "srt = st.sort()\n",
    "print('Lexicographically sorted')\n",
    "print(srt)\n",
    "\n",
    "# Weight Ordering\n",
    "srt = st.sort(weight=True)\n",
    "print('Weight sorted')\n",
    "print(srt)"
   ]
  },
  {
   "cell_type": "code",
   "execution_count": 5,
   "id": "5f428347",
   "metadata": {
    "execution": {
     "iopub.execute_input": "2021-04-25T05:53:08.115902Z",
     "iopub.status.busy": "2021-04-25T05:53:08.114497Z",
     "iopub.status.idle": "2021-04-25T05:53:08.118234Z",
     "shell.execute_reply": "2021-04-25T05:53:08.117698Z"
    }
   },
   "outputs": [
    {
     "name": "stdout",
     "output_type": "stream",
     "text": [
      "StabilizerTable: ['-IY', '+IZ', '+XY', '-XZ']\n"
     ]
    }
   ],
   "source": [
    "from qiskit.quantum_info.operators import StabilizerTable\n",
    "\n",
    "current = StabilizerTable.from_labels(['+I', '-X'])\n",
    "other =  StabilizerTable.from_labels(['-Y', '+Z'])\n",
    "print(current.tensor(other))"
   ]
  },
  {
   "cell_type": "code",
   "execution_count": 6,
   "id": "6eb8a9e9",
   "metadata": {
    "execution": {
     "iopub.execute_input": "2021-04-25T05:53:08.126653Z",
     "iopub.status.busy": "2021-04-25T05:53:08.126066Z",
     "iopub.status.idle": "2021-04-25T05:53:08.130701Z",
     "shell.execute_reply": "2021-04-25T05:53:08.130181Z"
    }
   },
   "outputs": [
    {
     "name": "stdout",
     "output_type": "stream",
     "text": [
      "StabilizerTable: ['+X', '+I', '-I', '-X']\n"
     ]
    }
   ],
   "source": [
    "from qiskit.quantum_info.operators import StabilizerTable\n",
    "\n",
    "st = StabilizerTable.from_labels(['+X', '+I', '-I', '-X', '+X', '-X', '+I'])\n",
    "unique = st.unique()\n",
    "print(unique)"
   ]
  }
 ],
 "metadata": {
  "kernelspec": {
   "display_name": "Python 3",
   "language": "python",
   "name": "python3"
  },
  "language_info": {
   "codemirror_mode": {
    "name": "ipython",
    "version": 3
   },
   "file_extension": ".py",
   "mimetype": "text/x-python",
   "name": "python",
   "nbconvert_exporter": "python",
   "pygments_lexer": "ipython3",
   "version": "3.8.9"
  }
 },
 "nbformat": 4,
 "nbformat_minor": 5
}