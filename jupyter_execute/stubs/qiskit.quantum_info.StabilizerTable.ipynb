{
 "cells": [
  {
   "cell_type": "code",
   "execution_count": 1,
   "id": "f6ad9dda",
   "metadata": {
    "execution": {
     "iopub.execute_input": "2021-05-07T09:00:44.203732Z",
     "iopub.status.busy": "2021-05-07T09:00:44.203071Z",
     "iopub.status.idle": "2021-05-07T09:00:44.974391Z",
     "shell.execute_reply": "2021-05-07T09:00:44.974901Z"
    }
   },
   "outputs": [
    {
     "name": "stdout",
     "output_type": "stream",
     "text": [
      "StabilizerTable: ['+X', '-Z', '-I', '-Y']\n"
     ]
    }
   ],
   "source": [
    "from qiskit.quantum_info.operators import StabilizerTable\n",
    "\n",
    "current = StabilizerTable.from_labels(['+I', '-X'])\n",
    "other =  StabilizerTable.from_labels(['+X', '-Z'])\n",
    "print(current.compose(other))"
   ]
  },
  {
   "cell_type": "code",
   "execution_count": 2,
   "id": "fcb84405",
   "metadata": {
    "execution": {
     "iopub.execute_input": "2021-05-07T09:00:44.981444Z",
     "iopub.status.busy": "2021-05-07T09:00:44.980296Z",
     "iopub.status.idle": "2021-05-07T09:00:44.983270Z",
     "shell.execute_reply": "2021-05-07T09:00:44.983713Z"
    }
   },
   "outputs": [
    {
     "name": "stdout",
     "output_type": "stream",
     "text": [
      "StabilizerTable: ['+X', '-Z', '-I', '+Y']\n"
     ]
    }
   ],
   "source": [
    "from qiskit.quantum_info.operators import StabilizerTable\n",
    "\n",
    "current = StabilizerTable.from_labels(['+I', '-X'])\n",
    "other =  StabilizerTable.from_labels(['+X', '-Z'])\n",
    "print(current.dot(other))"
   ]
  },
  {
   "cell_type": "code",
   "execution_count": 3,
   "id": "5ca9965a",
   "metadata": {
    "execution": {
     "iopub.execute_input": "2021-05-07T09:00:44.990409Z",
     "iopub.status.busy": "2021-05-07T09:00:44.988831Z",
     "iopub.status.idle": "2021-05-07T09:00:44.992490Z",
     "shell.execute_reply": "2021-05-07T09:00:44.991978Z"
    }
   },
   "outputs": [
    {
     "name": "stdout",
     "output_type": "stream",
     "text": [
      "StabilizerTable: ['-YI', '+YX', '+ZI', '-ZX']\n"
     ]
    }
   ],
   "source": [
    "from qiskit.quantum_info.operators import StabilizerTable\n",
    "\n",
    "current = StabilizerTable.from_labels(['+I', '-X'])\n",
    "other =  StabilizerTable.from_labels(['-Y', '+Z'])\n",
    "print(current.expand(other))"
   ]
  },
  {
   "cell_type": "code",
   "execution_count": 4,
   "id": "9a5d0882",
   "metadata": {
    "execution": {
     "iopub.execute_input": "2021-05-07T09:00:45.001539Z",
     "iopub.status.busy": "2021-05-07T09:00:44.998601Z",
     "iopub.status.idle": "2021-05-07T09:00:45.003914Z",
     "shell.execute_reply": "2021-05-07T09:00:45.004380Z"
    }
   },
   "outputs": [
    {
     "name": "stdout",
     "output_type": "stream",
     "text": [
      "Initial Ordering\n",
      "StabilizerTable: ['+IY', '-ZI', '+XY', '-IX', '-ZZ', '-YX', '+II', '-II', '-XI', '-YZ', '+XZ', '-XX', '+YX', '+ZI', '+IZ', '+YY', '-IY', '-YI', '+XX', '+XI', '-ZY', '-XY', '-IZ', '+ZX', '+YI', '+YZ', '+IX', '+ZZ', '+ZY', '-XZ', '-ZX', '-YY']\n",
      "Lexicographically sorted\n",
      "StabilizerTable: ['+II', '-II', '-IX', '+IX', '+IY', '-IY', '+IZ', '-IZ', '-XI', '+XI', '-XX', '+XX', '+XY', '-XY', '+XZ', '-XZ', '-YI', '+YI', '-YX', '+YX', '+YY', '-YY', '-YZ', '+YZ', '-ZI', '+ZI', '+ZX', '-ZX', '-ZY', '+ZY', '-ZZ', '+ZZ']\n",
      "Weight sorted\n",
      "StabilizerTable: ['+II', '-II', '-IX', '+IX', '+IY', '-IY', '+IZ', '-IZ', '-XI', '+XI', '-YI', '+YI', '-ZI', '+ZI', '-XX', '+XX', '+XY', '-XY', '+XZ', '-XZ', '-YX', '+YX', '+YY', '-YY', '-YZ', '+YZ', '+ZX', '-ZX', '-ZY', '+ZY', '-ZZ', '+ZZ']\n"
     ]
    }
   ],
   "source": [
    "from numpy.random import shuffle\n",
    "from qiskit.quantum_info.operators import StabilizerTable\n",
    "\n",
    "# 2-qubit labels\n",
    "labels = ['+II', '+IX', '+IY', '+IZ', '+XI', '+XX', '+XY', '+XZ',\n",
    "          '+YI', '+YX', '+YY', '+YZ', '+ZI', '+ZX', '+ZY', '+ZZ',\n",
    "          '-II', '-IX', '-IY', '-IZ', '-XI', '-XX', '-XY', '-XZ',\n",
    "          '-YI', '-YX', '-YY', '-YZ', '-ZI', '-ZX', '-ZY', '-ZZ']\n",
    "# Shuffle Labels\n",
    "shuffle(labels)\n",
    "st = StabilizerTable.from_labels(labels)\n",
    "print('Initial Ordering')\n",
    "print(st)\n",
    "\n",
    "# Lexicographic Ordering\n",
    "srt = st.sort()\n",
    "print('Lexicographically sorted')\n",
    "print(srt)\n",
    "\n",
    "# Weight Ordering\n",
    "srt = st.sort(weight=True)\n",
    "print('Weight sorted')\n",
    "print(srt)"
   ]
  },
  {
   "cell_type": "code",
   "execution_count": 5,
   "id": "91c0f534",
   "metadata": {
    "execution": {
     "iopub.execute_input": "2021-05-07T09:00:45.010810Z",
     "iopub.status.busy": "2021-05-07T09:00:45.009322Z",
     "iopub.status.idle": "2021-05-07T09:00:45.013034Z",
     "shell.execute_reply": "2021-05-07T09:00:45.012443Z"
    }
   },
   "outputs": [
    {
     "name": "stdout",
     "output_type": "stream",
     "text": [
      "StabilizerTable: ['-IY', '+IZ', '+XY', '-XZ']\n"
     ]
    }
   ],
   "source": [
    "from qiskit.quantum_info.operators import StabilizerTable\n",
    "\n",
    "current = StabilizerTable.from_labels(['+I', '-X'])\n",
    "other =  StabilizerTable.from_labels(['-Y', '+Z'])\n",
    "print(current.tensor(other))"
   ]
  },
  {
   "cell_type": "code",
   "execution_count": 6,
   "id": "a843a3cb",
   "metadata": {
    "execution": {
     "iopub.execute_input": "2021-05-07T09:00:45.019686Z",
     "iopub.status.busy": "2021-05-07T09:00:45.018323Z",
     "iopub.status.idle": "2021-05-07T09:00:45.021742Z",
     "shell.execute_reply": "2021-05-07T09:00:45.021076Z"
    }
   },
   "outputs": [
    {
     "name": "stdout",
     "output_type": "stream",
     "text": [
      "StabilizerTable: ['+X', '+I', '-I', '-X']\n"
     ]
    }
   ],
   "source": [
    "from qiskit.quantum_info.operators import StabilizerTable\n",
    "\n",
    "st = StabilizerTable.from_labels(['+X', '+I', '-I', '-X', '+X', '-X', '+I'])\n",
    "unique = st.unique()\n",
    "print(unique)"
   ]
  }
 ],
 "metadata": {
  "kernelspec": {
   "display_name": "Python 3",
   "language": "python",
   "name": "python3"
  },
  "language_info": {
   "codemirror_mode": {
    "name": "ipython",
    "version": 3
   },
   "file_extension": ".py",
   "mimetype": "text/x-python",
   "name": "python",
   "nbconvert_exporter": "python",
   "pygments_lexer": "ipython3",
   "version": "3.8.10"
  }
 },
 "nbformat": 4,
 "nbformat_minor": 5
}