{
 "cells": [
  {
   "cell_type": "code",
   "execution_count": 1,
   "id": "374832d3",
   "metadata": {
    "execution": {
     "iopub.execute_input": "2021-05-18T16:57:34.359101Z",
     "iopub.status.busy": "2021-05-18T16:57:34.358555Z",
     "iopub.status.idle": "2021-05-18T16:57:35.075114Z",
     "shell.execute_reply": "2021-05-18T16:57:35.075647Z"
    }
   },
   "outputs": [
    {
     "name": "stdout",
     "output_type": "stream",
     "text": [
      "StabilizerTable: ['+X', '-Z', '-I', '-Y']\n"
     ]
    }
   ],
   "source": [
    "from qiskit.quantum_info.operators import StabilizerTable\n",
    "\n",
    "current = StabilizerTable.from_labels(['+I', '-X'])\n",
    "other =  StabilizerTable.from_labels(['+X', '-Z'])\n",
    "print(current.compose(other))"
   ]
  },
  {
   "cell_type": "code",
   "execution_count": 2,
   "id": "3de1e363",
   "metadata": {
    "execution": {
     "iopub.execute_input": "2021-05-18T16:57:35.083186Z",
     "iopub.status.busy": "2021-05-18T16:57:35.081646Z",
     "iopub.status.idle": "2021-05-18T16:57:35.085224Z",
     "shell.execute_reply": "2021-05-18T16:57:35.084674Z"
    }
   },
   "outputs": [
    {
     "name": "stdout",
     "output_type": "stream",
     "text": [
      "StabilizerTable: ['+X', '-Z', '-I', '+Y']\n"
     ]
    }
   ],
   "source": [
    "from qiskit.quantum_info.operators import StabilizerTable\n",
    "\n",
    "current = StabilizerTable.from_labels(['+I', '-X'])\n",
    "other =  StabilizerTable.from_labels(['+X', '-Z'])\n",
    "print(current.dot(other))"
   ]
  },
  {
   "cell_type": "code",
   "execution_count": 3,
   "id": "54613ef7",
   "metadata": {
    "execution": {
     "iopub.execute_input": "2021-05-18T16:57:35.090220Z",
     "iopub.status.busy": "2021-05-18T16:57:35.089678Z",
     "iopub.status.idle": "2021-05-18T16:57:35.094347Z",
     "shell.execute_reply": "2021-05-18T16:57:35.093869Z"
    }
   },
   "outputs": [
    {
     "name": "stdout",
     "output_type": "stream",
     "text": [
      "StabilizerTable: ['-YI', '+YX', '+ZI', '-ZX']\n"
     ]
    }
   ],
   "source": [
    "from qiskit.quantum_info.operators import StabilizerTable\n",
    "\n",
    "current = StabilizerTable.from_labels(['+I', '-X'])\n",
    "other =  StabilizerTable.from_labels(['-Y', '+Z'])\n",
    "print(current.expand(other))"
   ]
  },
  {
   "cell_type": "code",
   "execution_count": 4,
   "id": "f8830c9a",
   "metadata": {
    "execution": {
     "iopub.execute_input": "2021-05-18T16:57:35.113927Z",
     "iopub.status.busy": "2021-05-18T16:57:35.112345Z",
     "iopub.status.idle": "2021-05-18T16:57:35.115699Z",
     "shell.execute_reply": "2021-05-18T16:57:35.115229Z"
    }
   },
   "outputs": [
    {
     "name": "stdout",
     "output_type": "stream",
     "text": [
      "Initial Ordering\n",
      "StabilizerTable: ['+IZ', '-ZI', '+YX', '+ZX', '+II', '-IX', '-YX', '+IX', '+ZI', '+YY', '+YZ', '+XX', '-ZY', '-XI', '-IY', '-IZ', '-YI', '+XI', '-YY', '+XZ', '-YZ', '+IY', '+ZZ', '-ZZ', '-XZ', '+YI', '-XY', '-II', '-XX', '+ZY', '-ZX', '+XY']\n",
      "Lexicographically sorted\n",
      "StabilizerTable: ['+II', '-II', '-IX', '+IX', '-IY', '+IY', '+IZ', '-IZ', '-XI', '+XI', '+XX', '-XX', '-XY', '+XY', '+XZ', '-XZ', '-YI', '+YI', '+YX', '-YX', '+YY', '-YY', '+YZ', '-YZ', '-ZI', '+ZI', '+ZX', '-ZX', '-ZY', '+ZY', '+ZZ', '-ZZ']\n",
      "Weight sorted\n",
      "StabilizerTable: ['+II', '-II', '-IX', '+IX', '-IY', '+IY', '+IZ', '-IZ', '-XI', '+XI', '-YI', '+YI', '-ZI', '+ZI', '+XX', '-XX', '-XY', '+XY', '+XZ', '-XZ', '+YX', '-YX', '+YY', '-YY', '+YZ', '-YZ', '+ZX', '-ZX', '-ZY', '+ZY', '+ZZ', '-ZZ']\n"
     ]
    }
   ],
   "source": [
    "from numpy.random import shuffle\n",
    "from qiskit.quantum_info.operators import StabilizerTable\n",
    "\n",
    "# 2-qubit labels\n",
    "labels = ['+II', '+IX', '+IY', '+IZ', '+XI', '+XX', '+XY', '+XZ',\n",
    "          '+YI', '+YX', '+YY', '+YZ', '+ZI', '+ZX', '+ZY', '+ZZ',\n",
    "          '-II', '-IX', '-IY', '-IZ', '-XI', '-XX', '-XY', '-XZ',\n",
    "          '-YI', '-YX', '-YY', '-YZ', '-ZI', '-ZX', '-ZY', '-ZZ']\n",
    "# Shuffle Labels\n",
    "shuffle(labels)\n",
    "st = StabilizerTable.from_labels(labels)\n",
    "print('Initial Ordering')\n",
    "print(st)\n",
    "\n",
    "# Lexicographic Ordering\n",
    "srt = st.sort()\n",
    "print('Lexicographically sorted')\n",
    "print(srt)\n",
    "\n",
    "# Weight Ordering\n",
    "srt = st.sort(weight=True)\n",
    "print('Weight sorted')\n",
    "print(srt)"
   ]
  },
  {
   "cell_type": "code",
   "execution_count": 5,
   "id": "477febc4",
   "metadata": {
    "execution": {
     "iopub.execute_input": "2021-05-18T16:57:35.122375Z",
     "iopub.status.busy": "2021-05-18T16:57:35.120825Z",
     "iopub.status.idle": "2021-05-18T16:57:35.124306Z",
     "shell.execute_reply": "2021-05-18T16:57:35.123753Z"
    }
   },
   "outputs": [
    {
     "name": "stdout",
     "output_type": "stream",
     "text": [
      "StabilizerTable: ['-IY', '+IZ', '+XY', '-XZ']\n"
     ]
    }
   ],
   "source": [
    "from qiskit.quantum_info.operators import StabilizerTable\n",
    "\n",
    "current = StabilizerTable.from_labels(['+I', '-X'])\n",
    "other =  StabilizerTable.from_labels(['-Y', '+Z'])\n",
    "print(current.tensor(other))"
   ]
  },
  {
   "cell_type": "code",
   "execution_count": 6,
   "id": "31f3e0b0",
   "metadata": {
    "execution": {
     "iopub.execute_input": "2021-05-18T16:57:35.130312Z",
     "iopub.status.busy": "2021-05-18T16:57:35.128870Z",
     "iopub.status.idle": "2021-05-18T16:57:35.132648Z",
     "shell.execute_reply": "2021-05-18T16:57:35.131982Z"
    }
   },
   "outputs": [
    {
     "name": "stdout",
     "output_type": "stream",
     "text": [
      "StabilizerTable: ['+X', '+I', '-I', '-X']\n"
     ]
    }
   ],
   "source": [
    "from qiskit.quantum_info.operators import StabilizerTable\n",
    "\n",
    "st = StabilizerTable.from_labels(['+X', '+I', '-I', '-X', '+X', '-X', '+I'])\n",
    "unique = st.unique()\n",
    "print(unique)"
   ]
  }
 ],
 "metadata": {
  "kernelspec": {
   "display_name": "Python 3",
   "language": "python",
   "name": "python3"
  },
  "language_info": {
   "codemirror_mode": {
    "name": "ipython",
    "version": 3
   },
   "file_extension": ".py",
   "mimetype": "text/x-python",
   "name": "python",
   "nbconvert_exporter": "python",
   "pygments_lexer": "ipython3",
   "version": "3.8.10"
  }
 },
 "nbformat": 4,
 "nbformat_minor": 5
}