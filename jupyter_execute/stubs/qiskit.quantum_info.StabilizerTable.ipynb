{
 "cells": [
  {
   "cell_type": "code",
   "execution_count": 1,
   "id": "e5e40115",
   "metadata": {
    "execution": {
     "iopub.execute_input": "2021-06-20T21:11:00.542652Z",
     "iopub.status.busy": "2021-06-20T21:11:00.542002Z",
     "iopub.status.idle": "2021-06-20T21:11:01.338784Z",
     "shell.execute_reply": "2021-06-20T21:11:01.338088Z"
    }
   },
   "outputs": [
    {
     "name": "stdout",
     "output_type": "stream",
     "text": [
      "StabilizerTable: ['+X', '-Z', '-I', '-Y']\n"
     ]
    }
   ],
   "source": [
    "from qiskit.quantum_info.operators import StabilizerTable\n",
    "\n",
    "current = StabilizerTable.from_labels(['+I', '-X'])\n",
    "other =  StabilizerTable.from_labels(['+X', '-Z'])\n",
    "print(current.compose(other))"
   ]
  },
  {
   "cell_type": "code",
   "execution_count": 2,
   "id": "0b921604",
   "metadata": {
    "execution": {
     "iopub.execute_input": "2021-06-20T21:11:01.345547Z",
     "iopub.status.busy": "2021-06-20T21:11:01.344943Z",
     "iopub.status.idle": "2021-06-20T21:11:01.348037Z",
     "shell.execute_reply": "2021-06-20T21:11:01.348552Z"
    }
   },
   "outputs": [
    {
     "name": "stdout",
     "output_type": "stream",
     "text": [
      "StabilizerTable: ['+X', '-Z', '-I', '+Y']\n"
     ]
    }
   ],
   "source": [
    "from qiskit.quantum_info.operators import StabilizerTable\n",
    "\n",
    "current = StabilizerTable.from_labels(['+I', '-X'])\n",
    "other =  StabilizerTable.from_labels(['+X', '-Z'])\n",
    "print(current.dot(other))"
   ]
  },
  {
   "cell_type": "code",
   "execution_count": 3,
   "id": "5a670040",
   "metadata": {
    "execution": {
     "iopub.execute_input": "2021-06-20T21:11:01.355748Z",
     "iopub.status.busy": "2021-06-20T21:11:01.354145Z",
     "iopub.status.idle": "2021-06-20T21:11:01.358011Z",
     "shell.execute_reply": "2021-06-20T21:11:01.357430Z"
    }
   },
   "outputs": [
    {
     "name": "stdout",
     "output_type": "stream",
     "text": [
      "StabilizerTable: ['-YI', '+YX', '+ZI', '-ZX']\n"
     ]
    }
   ],
   "source": [
    "from qiskit.quantum_info.operators import StabilizerTable\n",
    "\n",
    "current = StabilizerTable.from_labels(['+I', '-X'])\n",
    "other =  StabilizerTable.from_labels(['-Y', '+Z'])\n",
    "print(current.expand(other))"
   ]
  },
  {
   "cell_type": "code",
   "execution_count": 4,
   "id": "df72ffe8",
   "metadata": {
    "execution": {
     "iopub.execute_input": "2021-06-20T21:11:01.367268Z",
     "iopub.status.busy": "2021-06-20T21:11:01.366058Z",
     "iopub.status.idle": "2021-06-20T21:11:01.372031Z",
     "shell.execute_reply": "2021-06-20T21:11:01.372552Z"
    }
   },
   "outputs": [
    {
     "name": "stdout",
     "output_type": "stream",
     "text": [
      "Initial Ordering\n",
      "StabilizerTable: ['+YZ', '+IY', '+YI', '-XY', '+XZ', '+XI', '-ZI', '-YY', '-XZ', '-XI', '+IZ', '-ZY', '+XX', '+YX', '-YZ', '+II', '+ZI', '-IZ', '+ZZ', '-XX', '-YI', '+IX', '-IY', '-II', '-IX', '+XY', '+YY', '-YX', '-ZZ', '+ZY', '-ZX', '+ZX']\n",
      "Lexicographically sorted\n",
      "StabilizerTable: ['+II', '-II', '+IX', '-IX', '+IY', '-IY', '+IZ', '-IZ', '+XI', '-XI', '+XX', '-XX', '-XY', '+XY', '+XZ', '-XZ', '+YI', '-YI', '+YX', '-YX', '-YY', '+YY', '+YZ', '-YZ', '-ZI', '+ZI', '-ZX', '+ZX', '-ZY', '+ZY', '+ZZ', '-ZZ']\n",
      "Weight sorted\n",
      "StabilizerTable: ['+II', '-II', '+IX', '-IX', '+IY', '-IY', '+IZ', '-IZ', '+XI', '-XI', '+YI', '-YI', '-ZI', '+ZI', '+XX', '-XX', '-XY', '+XY', '+XZ', '-XZ', '+YX', '-YX', '-YY', '+YY', '+YZ', '-YZ', '-ZX', '+ZX', '-ZY', '+ZY', '+ZZ', '-ZZ']\n"
     ]
    }
   ],
   "source": [
    "from numpy.random import shuffle\n",
    "from qiskit.quantum_info.operators import StabilizerTable\n",
    "\n",
    "# 2-qubit labels\n",
    "labels = ['+II', '+IX', '+IY', '+IZ', '+XI', '+XX', '+XY', '+XZ',\n",
    "          '+YI', '+YX', '+YY', '+YZ', '+ZI', '+ZX', '+ZY', '+ZZ',\n",
    "          '-II', '-IX', '-IY', '-IZ', '-XI', '-XX', '-XY', '-XZ',\n",
    "          '-YI', '-YX', '-YY', '-YZ', '-ZI', '-ZX', '-ZY', '-ZZ']\n",
    "# Shuffle Labels\n",
    "shuffle(labels)\n",
    "st = StabilizerTable.from_labels(labels)\n",
    "print('Initial Ordering')\n",
    "print(st)\n",
    "\n",
    "# Lexicographic Ordering\n",
    "srt = st.sort()\n",
    "print('Lexicographically sorted')\n",
    "print(srt)\n",
    "\n",
    "# Weight Ordering\n",
    "srt = st.sort(weight=True)\n",
    "print('Weight sorted')\n",
    "print(srt)"
   ]
  },
  {
   "cell_type": "code",
   "execution_count": 5,
   "id": "dbcfb7cb",
   "metadata": {
    "execution": {
     "iopub.execute_input": "2021-06-20T21:11:01.380096Z",
     "iopub.status.busy": "2021-06-20T21:11:01.378203Z",
     "iopub.status.idle": "2021-06-20T21:11:01.383185Z",
     "shell.execute_reply": "2021-06-20T21:11:01.382596Z"
    }
   },
   "outputs": [
    {
     "name": "stdout",
     "output_type": "stream",
     "text": [
      "StabilizerTable: ['-IY', '+IZ', '+XY', '-XZ']\n"
     ]
    }
   ],
   "source": [
    "from qiskit.quantum_info.operators import StabilizerTable\n",
    "\n",
    "current = StabilizerTable.from_labels(['+I', '-X'])\n",
    "other =  StabilizerTable.from_labels(['-Y', '+Z'])\n",
    "print(current.tensor(other))"
   ]
  },
  {
   "cell_type": "code",
   "execution_count": 6,
   "id": "facf3170",
   "metadata": {
    "execution": {
     "iopub.execute_input": "2021-06-20T21:11:01.390663Z",
     "iopub.status.busy": "2021-06-20T21:11:01.388518Z",
     "iopub.status.idle": "2021-06-20T21:11:01.392699Z",
     "shell.execute_reply": "2021-06-20T21:11:01.392073Z"
    }
   },
   "outputs": [
    {
     "name": "stdout",
     "output_type": "stream",
     "text": [
      "StabilizerTable: ['+X', '+I', '-I', '-X']\n"
     ]
    }
   ],
   "source": [
    "from qiskit.quantum_info.operators import StabilizerTable\n",
    "\n",
    "st = StabilizerTable.from_labels(['+X', '+I', '-I', '-X', '+X', '-X', '+I'])\n",
    "unique = st.unique()\n",
    "print(unique)"
   ]
  }
 ],
 "metadata": {
  "kernelspec": {
   "display_name": "Python 3",
   "language": "python",
   "name": "python3"
  },
  "language_info": {
   "codemirror_mode": {
    "name": "ipython",
    "version": 3
   },
   "file_extension": ".py",
   "mimetype": "text/x-python",
   "name": "python",
   "nbconvert_exporter": "python",
   "pygments_lexer": "ipython3",
   "version": "3.8.10"
  }
 },
 "nbformat": 4,
 "nbformat_minor": 5
}