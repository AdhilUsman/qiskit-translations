{
 "cells": [
  {
   "cell_type": "code",
   "execution_count": 1,
   "id": "0e068257",
   "metadata": {
    "execution": {
     "iopub.execute_input": "2021-04-27T16:22:04.503208Z",
     "iopub.status.busy": "2021-04-27T16:22:04.502609Z",
     "iopub.status.idle": "2021-04-27T16:22:05.187810Z",
     "shell.execute_reply": "2021-04-27T16:22:05.188311Z"
    }
   },
   "outputs": [
    {
     "name": "stdout",
     "output_type": "stream",
     "text": [
      "StabilizerTable: ['+X', '-Z', '-I', '-Y']\n"
     ]
    }
   ],
   "source": [
    "from qiskit.quantum_info.operators import StabilizerTable\n",
    "\n",
    "current = StabilizerTable.from_labels(['+I', '-X'])\n",
    "other =  StabilizerTable.from_labels(['+X', '-Z'])\n",
    "print(current.compose(other))"
   ]
  },
  {
   "cell_type": "code",
   "execution_count": 2,
   "id": "0b7e0f7c",
   "metadata": {
    "execution": {
     "iopub.execute_input": "2021-04-27T16:22:05.195428Z",
     "iopub.status.busy": "2021-04-27T16:22:05.193478Z",
     "iopub.status.idle": "2021-04-27T16:22:05.200181Z",
     "shell.execute_reply": "2021-04-27T16:22:05.199633Z"
    }
   },
   "outputs": [
    {
     "name": "stdout",
     "output_type": "stream",
     "text": [
      "StabilizerTable: ['+X', '-Z', '-I', '+Y']\n"
     ]
    }
   ],
   "source": [
    "from qiskit.quantum_info.operators import StabilizerTable\n",
    "\n",
    "current = StabilizerTable.from_labels(['+I', '-X'])\n",
    "other =  StabilizerTable.from_labels(['+X', '-Z'])\n",
    "print(current.dot(other))"
   ]
  },
  {
   "cell_type": "code",
   "execution_count": 3,
   "id": "ad1a2577",
   "metadata": {
    "execution": {
     "iopub.execute_input": "2021-04-27T16:22:05.205155Z",
     "iopub.status.busy": "2021-04-27T16:22:05.204457Z",
     "iopub.status.idle": "2021-04-27T16:22:05.207645Z",
     "shell.execute_reply": "2021-04-27T16:22:05.207126Z"
    }
   },
   "outputs": [
    {
     "name": "stdout",
     "output_type": "stream",
     "text": [
      "StabilizerTable: ['-YI', '+YX', '+ZI', '-ZX']\n"
     ]
    }
   ],
   "source": [
    "from qiskit.quantum_info.operators import StabilizerTable\n",
    "\n",
    "current = StabilizerTable.from_labels(['+I', '-X'])\n",
    "other =  StabilizerTable.from_labels(['-Y', '+Z'])\n",
    "print(current.expand(other))"
   ]
  },
  {
   "cell_type": "code",
   "execution_count": 4,
   "id": "5e1252bf",
   "metadata": {
    "execution": {
     "iopub.execute_input": "2021-04-27T16:22:05.217986Z",
     "iopub.status.busy": "2021-04-27T16:22:05.216896Z",
     "iopub.status.idle": "2021-04-27T16:22:05.220814Z",
     "shell.execute_reply": "2021-04-27T16:22:05.220254Z"
    }
   },
   "outputs": [
    {
     "name": "stdout",
     "output_type": "stream",
     "text": [
      "Initial Ordering\n",
      "StabilizerTable: ['-XI', '+ZY', '+XX', '-YI', '-XX', '+YX', '+YI', '+IY', '+YY', '+II', '-YY', '+ZZ', '+XZ', '+ZX', '-ZI', '+IX', '+ZI', '+IZ', '-YZ', '-ZZ', '-IY', '-YX', '-IZ', '-XZ', '-XY', '+XI', '+YZ', '-ZX', '-IX', '-ZY', '-II', '+XY']\n",
      "Lexicographically sorted\n",
      "StabilizerTable: ['+II', '-II', '+IX', '-IX', '+IY', '-IY', '+IZ', '-IZ', '-XI', '+XI', '+XX', '-XX', '-XY', '+XY', '+XZ', '-XZ', '-YI', '+YI', '+YX', '-YX', '+YY', '-YY', '-YZ', '+YZ', '-ZI', '+ZI', '+ZX', '-ZX', '+ZY', '-ZY', '+ZZ', '-ZZ']\n",
      "Weight sorted\n",
      "StabilizerTable: ['+II', '-II', '+IX', '-IX', '+IY', '-IY', '+IZ', '-IZ', '-XI', '+XI', '-YI', '+YI', '-ZI', '+ZI', '+XX', '-XX', '-XY', '+XY', '+XZ', '-XZ', '+YX', '-YX', '+YY', '-YY', '-YZ', '+YZ', '+ZX', '-ZX', '+ZY', '-ZY', '+ZZ', '-ZZ']\n"
     ]
    }
   ],
   "source": [
    "from numpy.random import shuffle\n",
    "from qiskit.quantum_info.operators import StabilizerTable\n",
    "\n",
    "# 2-qubit labels\n",
    "labels = ['+II', '+IX', '+IY', '+IZ', '+XI', '+XX', '+XY', '+XZ',\n",
    "          '+YI', '+YX', '+YY', '+YZ', '+ZI', '+ZX', '+ZY', '+ZZ',\n",
    "          '-II', '-IX', '-IY', '-IZ', '-XI', '-XX', '-XY', '-XZ',\n",
    "          '-YI', '-YX', '-YY', '-YZ', '-ZI', '-ZX', '-ZY', '-ZZ']\n",
    "# Shuffle Labels\n",
    "shuffle(labels)\n",
    "st = StabilizerTable.from_labels(labels)\n",
    "print('Initial Ordering')\n",
    "print(st)\n",
    "\n",
    "# Lexicographic Ordering\n",
    "srt = st.sort()\n",
    "print('Lexicographically sorted')\n",
    "print(srt)\n",
    "\n",
    "# Weight Ordering\n",
    "srt = st.sort(weight=True)\n",
    "print('Weight sorted')\n",
    "print(srt)"
   ]
  },
  {
   "cell_type": "code",
   "execution_count": 5,
   "id": "d72665b8",
   "metadata": {
    "execution": {
     "iopub.execute_input": "2021-04-27T16:22:05.227140Z",
     "iopub.status.busy": "2021-04-27T16:22:05.225748Z",
     "iopub.status.idle": "2021-04-27T16:22:05.229032Z",
     "shell.execute_reply": "2021-04-27T16:22:05.228502Z"
    }
   },
   "outputs": [
    {
     "name": "stdout",
     "output_type": "stream",
     "text": [
      "StabilizerTable: ['-IY', '+IZ', '+XY', '-XZ']\n"
     ]
    }
   ],
   "source": [
    "from qiskit.quantum_info.operators import StabilizerTable\n",
    "\n",
    "current = StabilizerTable.from_labels(['+I', '-X'])\n",
    "other =  StabilizerTable.from_labels(['-Y', '+Z'])\n",
    "print(current.tensor(other))"
   ]
  },
  {
   "cell_type": "code",
   "execution_count": 6,
   "id": "8bbecb5b",
   "metadata": {
    "execution": {
     "iopub.execute_input": "2021-04-27T16:22:05.237031Z",
     "iopub.status.busy": "2021-04-27T16:22:05.233900Z",
     "iopub.status.idle": "2021-04-27T16:22:05.238976Z",
     "shell.execute_reply": "2021-04-27T16:22:05.238474Z"
    }
   },
   "outputs": [
    {
     "name": "stdout",
     "output_type": "stream",
     "text": [
      "StabilizerTable: ['+X', '+I', '-I', '-X']\n"
     ]
    }
   ],
   "source": [
    "from qiskit.quantum_info.operators import StabilizerTable\n",
    "\n",
    "st = StabilizerTable.from_labels(['+X', '+I', '-I', '-X', '+X', '-X', '+I'])\n",
    "unique = st.unique()\n",
    "print(unique)"
   ]
  }
 ],
 "metadata": {
  "kernelspec": {
   "display_name": "Python 3",
   "language": "python",
   "name": "python3"
  },
  "language_info": {
   "codemirror_mode": {
    "name": "ipython",
    "version": 3
   },
   "file_extension": ".py",
   "mimetype": "text/x-python",
   "name": "python",
   "nbconvert_exporter": "python",
   "pygments_lexer": "ipython3",
   "version": "3.8.9"
  }
 },
 "nbformat": 4,
 "nbformat_minor": 5
}