{
 "cells": [
  {
   "cell_type": "code",
   "execution_count": 1,
   "id": "672b52e3",
   "metadata": {
    "execution": {
     "iopub.execute_input": "2021-04-12T07:29:08.210658Z",
     "iopub.status.busy": "2021-04-12T07:29:08.207215Z",
     "iopub.status.idle": "2021-04-12T07:29:08.890851Z",
     "shell.execute_reply": "2021-04-12T07:29:08.890253Z"
    }
   },
   "outputs": [
    {
     "name": "stdout",
     "output_type": "stream",
     "text": [
      "StabilizerTable: ['+X', '-Z', '-I', '-Y']\n"
     ]
    }
   ],
   "source": [
    "from qiskit.quantum_info.operators import StabilizerTable\n",
    "\n",
    "current = StabilizerTable.from_labels(['+I', '-X'])\n",
    "other =  StabilizerTable.from_labels(['+X', '-Z'])\n",
    "print(current.compose(other))"
   ]
  },
  {
   "cell_type": "code",
   "execution_count": 2,
   "id": "8aac46ff",
   "metadata": {
    "execution": {
     "iopub.execute_input": "2021-04-12T07:29:08.897163Z",
     "iopub.status.busy": "2021-04-12T07:29:08.895834Z",
     "iopub.status.idle": "2021-04-12T07:29:08.898936Z",
     "shell.execute_reply": "2021-04-12T07:29:08.898467Z"
    }
   },
   "outputs": [
    {
     "name": "stdout",
     "output_type": "stream",
     "text": [
      "StabilizerTable: ['+X', '-Z', '-I', '+Y']\n"
     ]
    }
   ],
   "source": [
    "from qiskit.quantum_info.operators import StabilizerTable\n",
    "\n",
    "current = StabilizerTable.from_labels(['+I', '-X'])\n",
    "other =  StabilizerTable.from_labels(['+X', '-Z'])\n",
    "print(current.dot(other))"
   ]
  },
  {
   "cell_type": "code",
   "execution_count": 3,
   "id": "51bec1ac",
   "metadata": {
    "execution": {
     "iopub.execute_input": "2021-04-12T07:29:08.904963Z",
     "iopub.status.busy": "2021-04-12T07:29:08.903644Z",
     "iopub.status.idle": "2021-04-12T07:29:08.906675Z",
     "shell.execute_reply": "2021-04-12T07:29:08.906211Z"
    }
   },
   "outputs": [
    {
     "name": "stdout",
     "output_type": "stream",
     "text": [
      "StabilizerTable: ['-YI', '+YX', '+ZI', '-ZX']\n"
     ]
    }
   ],
   "source": [
    "from qiskit.quantum_info.operators import StabilizerTable\n",
    "\n",
    "current = StabilizerTable.from_labels(['+I', '-X'])\n",
    "other =  StabilizerTable.from_labels(['-Y', '+Z'])\n",
    "print(current.expand(other))"
   ]
  },
  {
   "cell_type": "code",
   "execution_count": 4,
   "id": "82071a6d",
   "metadata": {
    "execution": {
     "iopub.execute_input": "2021-04-12T07:29:08.914327Z",
     "iopub.status.busy": "2021-04-12T07:29:08.912457Z",
     "iopub.status.idle": "2021-04-12T07:29:08.916313Z",
     "shell.execute_reply": "2021-04-12T07:29:08.916742Z"
    }
   },
   "outputs": [
    {
     "name": "stdout",
     "output_type": "stream",
     "text": [
      "Initial Ordering\n",
      "StabilizerTable: ['+XZ', '+YX', '-YX', '+IX', '+IY', '-ZX', '+YZ', '+XI', '-XY', '+ZY', '-IZ', '+XY', '+ZX', '+YI', '+II', '+ZZ', '-YI', '-XI', '-II', '-IX', '-YY', '+IZ', '-IY', '-ZI', '-XZ', '+ZI', '-XX', '-YZ', '-ZZ', '+XX', '+YY', '-ZY']\n",
      "Lexicographically sorted\n",
      "StabilizerTable: ['+II', '-II', '+IX', '-IX', '+IY', '-IY', '-IZ', '+IZ', '+XI', '-XI', '-XX', '+XX', '-XY', '+XY', '+XZ', '-XZ', '+YI', '-YI', '+YX', '-YX', '-YY', '+YY', '+YZ', '-YZ', '-ZI', '+ZI', '-ZX', '+ZX', '+ZY', '-ZY', '+ZZ', '-ZZ']\n",
      "Weight sorted\n",
      "StabilizerTable: ['+II', '-II', '+IX', '-IX', '+IY', '-IY', '-IZ', '+IZ', '+XI', '-XI', '+YI', '-YI', '-ZI', '+ZI', '-XX', '+XX', '-XY', '+XY', '+XZ', '-XZ', '+YX', '-YX', '-YY', '+YY', '+YZ', '-YZ', '-ZX', '+ZX', '+ZY', '-ZY', '+ZZ', '-ZZ']\n"
     ]
    }
   ],
   "source": [
    "from numpy.random import shuffle\n",
    "from qiskit.quantum_info.operators import StabilizerTable\n",
    "\n",
    "# 2-qubit labels\n",
    "labels = ['+II', '+IX', '+IY', '+IZ', '+XI', '+XX', '+XY', '+XZ',\n",
    "          '+YI', '+YX', '+YY', '+YZ', '+ZI', '+ZX', '+ZY', '+ZZ',\n",
    "          '-II', '-IX', '-IY', '-IZ', '-XI', '-XX', '-XY', '-XZ',\n",
    "          '-YI', '-YX', '-YY', '-YZ', '-ZI', '-ZX', '-ZY', '-ZZ']\n",
    "# Shuffle Labels\n",
    "shuffle(labels)\n",
    "st = StabilizerTable.from_labels(labels)\n",
    "print('Initial Ordering')\n",
    "print(st)\n",
    "\n",
    "# Lexicographic Ordering\n",
    "srt = st.sort()\n",
    "print('Lexicographically sorted')\n",
    "print(srt)\n",
    "\n",
    "# Weight Ordering\n",
    "srt = st.sort(weight=True)\n",
    "print('Weight sorted')\n",
    "print(srt)"
   ]
  },
  {
   "cell_type": "code",
   "execution_count": 5,
   "id": "e489b260",
   "metadata": {
    "execution": {
     "iopub.execute_input": "2021-04-12T07:29:08.922436Z",
     "iopub.status.busy": "2021-04-12T07:29:08.921155Z",
     "iopub.status.idle": "2021-04-12T07:29:08.924182Z",
     "shell.execute_reply": "2021-04-12T07:29:08.923717Z"
    }
   },
   "outputs": [
    {
     "name": "stdout",
     "output_type": "stream",
     "text": [
      "StabilizerTable: ['-IY', '+IZ', '+XY', '-XZ']\n"
     ]
    }
   ],
   "source": [
    "from qiskit.quantum_info.operators import StabilizerTable\n",
    "\n",
    "current = StabilizerTable.from_labels(['+I', '-X'])\n",
    "other =  StabilizerTable.from_labels(['-Y', '+Z'])\n",
    "print(current.tensor(other))"
   ]
  },
  {
   "cell_type": "code",
   "execution_count": 6,
   "id": "cee897d2",
   "metadata": {
    "execution": {
     "iopub.execute_input": "2021-04-12T07:29:08.929653Z",
     "iopub.status.busy": "2021-04-12T07:29:08.928508Z",
     "iopub.status.idle": "2021-04-12T07:29:08.931354Z",
     "shell.execute_reply": "2021-04-12T07:29:08.930890Z"
    }
   },
   "outputs": [
    {
     "name": "stdout",
     "output_type": "stream",
     "text": [
      "StabilizerTable: ['+X', '+I', '-I', '-X']\n"
     ]
    }
   ],
   "source": [
    "from qiskit.quantum_info.operators import StabilizerTable\n",
    "\n",
    "st = StabilizerTable.from_labels(['+X', '+I', '-I', '-X', '+X', '-X', '+I'])\n",
    "unique = st.unique()\n",
    "print(unique)"
   ]
  }
 ],
 "metadata": {
  "kernelspec": {
   "display_name": "Python 3",
   "language": "python",
   "name": "python3"
  },
  "language_info": {
   "codemirror_mode": {
    "name": "ipython",
    "version": 3
   },
   "file_extension": ".py",
   "mimetype": "text/x-python",
   "name": "python",
   "nbconvert_exporter": "python",
   "pygments_lexer": "ipython3",
   "version": "3.8.8"
  }
 },
 "nbformat": 4,
 "nbformat_minor": 5
}