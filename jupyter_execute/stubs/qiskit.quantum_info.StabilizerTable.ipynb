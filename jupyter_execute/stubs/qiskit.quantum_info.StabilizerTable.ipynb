{
 "cells": [
  {
   "cell_type": "code",
   "execution_count": 1,
   "id": "6353d4d2",
   "metadata": {
    "execution": {
     "iopub.execute_input": "2021-04-14T10:59:16.830037Z",
     "iopub.status.busy": "2021-04-14T10:59:16.829609Z",
     "iopub.status.idle": "2021-04-14T10:59:17.388812Z",
     "shell.execute_reply": "2021-04-14T10:59:17.388006Z"
    }
   },
   "outputs": [
    {
     "name": "stdout",
     "output_type": "stream",
     "text": [
      "StabilizerTable: ['+X', '-Z', '-I', '-Y']\n"
     ]
    }
   ],
   "source": [
    "from qiskit.quantum_info.operators import StabilizerTable\n",
    "\n",
    "current = StabilizerTable.from_labels(['+I', '-X'])\n",
    "other =  StabilizerTable.from_labels(['+X', '-Z'])\n",
    "print(current.compose(other))"
   ]
  },
  {
   "cell_type": "code",
   "execution_count": 2,
   "id": "55fb15c7",
   "metadata": {
    "execution": {
     "iopub.execute_input": "2021-04-14T10:59:17.393372Z",
     "iopub.status.busy": "2021-04-14T10:59:17.392798Z",
     "iopub.status.idle": "2021-04-14T10:59:17.395266Z",
     "shell.execute_reply": "2021-04-14T10:59:17.395614Z"
    }
   },
   "outputs": [
    {
     "name": "stdout",
     "output_type": "stream",
     "text": [
      "StabilizerTable: ['+X', '-Z', '-I', '+Y']\n"
     ]
    }
   ],
   "source": [
    "from qiskit.quantum_info.operators import StabilizerTable\n",
    "\n",
    "current = StabilizerTable.from_labels(['+I', '-X'])\n",
    "other =  StabilizerTable.from_labels(['+X', '-Z'])\n",
    "print(current.dot(other))"
   ]
  },
  {
   "cell_type": "code",
   "execution_count": 3,
   "id": "cb64448e",
   "metadata": {
    "execution": {
     "iopub.execute_input": "2021-04-14T10:59:17.400445Z",
     "iopub.status.busy": "2021-04-14T10:59:17.399658Z",
     "iopub.status.idle": "2021-04-14T10:59:17.402125Z",
     "shell.execute_reply": "2021-04-14T10:59:17.401756Z"
    }
   },
   "outputs": [
    {
     "name": "stdout",
     "output_type": "stream",
     "text": [
      "StabilizerTable: ['-YI', '+YX', '+ZI', '-ZX']\n"
     ]
    }
   ],
   "source": [
    "from qiskit.quantum_info.operators import StabilizerTable\n",
    "\n",
    "current = StabilizerTable.from_labels(['+I', '-X'])\n",
    "other =  StabilizerTable.from_labels(['-Y', '+Z'])\n",
    "print(current.expand(other))"
   ]
  },
  {
   "cell_type": "code",
   "execution_count": 4,
   "id": "497f6d63",
   "metadata": {
    "execution": {
     "iopub.execute_input": "2021-04-14T10:59:17.408978Z",
     "iopub.status.busy": "2021-04-14T10:59:17.407767Z",
     "iopub.status.idle": "2021-04-14T10:59:17.411106Z",
     "shell.execute_reply": "2021-04-14T10:59:17.410734Z"
    }
   },
   "outputs": [
    {
     "name": "stdout",
     "output_type": "stream",
     "text": [
      "Initial Ordering\n",
      "StabilizerTable: ['+ZI', '+XZ', '+YX', '+II', '+ZY', '-XZ', '-YX', '-YI', '+IX', '-IX', '+YI', '-ZX', '+XI', '-YY', '-YZ', '-IZ', '+YY', '+IZ', '+XY', '-II', '+ZZ', '-ZI', '-IY', '-ZZ', '-ZY', '+XX', '+IY', '-XI', '+YZ', '-XX', '-XY', '+ZX']\n",
      "Lexicographically sorted\n",
      "StabilizerTable: ['+II', '-II', '+IX', '-IX', '-IY', '+IY', '-IZ', '+IZ', '+XI', '-XI', '+XX', '-XX', '+XY', '-XY', '+XZ', '-XZ', '-YI', '+YI', '+YX', '-YX', '-YY', '+YY', '-YZ', '+YZ', '+ZI', '-ZI', '-ZX', '+ZX', '+ZY', '-ZY', '+ZZ', '-ZZ']\n",
      "Weight sorted\n",
      "StabilizerTable: ['+II', '-II', '+IX', '-IX', '-IY', '+IY', '-IZ', '+IZ', '+XI', '-XI', '-YI', '+YI', '+ZI', '-ZI', '+XX', '-XX', '+XY', '-XY', '+XZ', '-XZ', '+YX', '-YX', '-YY', '+YY', '-YZ', '+YZ', '-ZX', '+ZX', '+ZY', '-ZY', '+ZZ', '-ZZ']\n"
     ]
    }
   ],
   "source": [
    "from numpy.random import shuffle\n",
    "from qiskit.quantum_info.operators import StabilizerTable\n",
    "\n",
    "# 2-qubit labels\n",
    "labels = ['+II', '+IX', '+IY', '+IZ', '+XI', '+XX', '+XY', '+XZ',\n",
    "          '+YI', '+YX', '+YY', '+YZ', '+ZI', '+ZX', '+ZY', '+ZZ',\n",
    "          '-II', '-IX', '-IY', '-IZ', '-XI', '-XX', '-XY', '-XZ',\n",
    "          '-YI', '-YX', '-YY', '-YZ', '-ZI', '-ZX', '-ZY', '-ZZ']\n",
    "# Shuffle Labels\n",
    "shuffle(labels)\n",
    "st = StabilizerTable.from_labels(labels)\n",
    "print('Initial Ordering')\n",
    "print(st)\n",
    "\n",
    "# Lexicographic Ordering\n",
    "srt = st.sort()\n",
    "print('Lexicographically sorted')\n",
    "print(srt)\n",
    "\n",
    "# Weight Ordering\n",
    "srt = st.sort(weight=True)\n",
    "print('Weight sorted')\n",
    "print(srt)"
   ]
  },
  {
   "cell_type": "code",
   "execution_count": 5,
   "id": "2fb52ced",
   "metadata": {
    "execution": {
     "iopub.execute_input": "2021-04-14T10:59:17.415513Z",
     "iopub.status.busy": "2021-04-14T10:59:17.414747Z",
     "iopub.status.idle": "2021-04-14T10:59:17.417188Z",
     "shell.execute_reply": "2021-04-14T10:59:17.416784Z"
    }
   },
   "outputs": [
    {
     "name": "stdout",
     "output_type": "stream",
     "text": [
      "StabilizerTable: ['-IY', '+IZ', '+XY', '-XZ']\n"
     ]
    }
   ],
   "source": [
    "from qiskit.quantum_info.operators import StabilizerTable\n",
    "\n",
    "current = StabilizerTable.from_labels(['+I', '-X'])\n",
    "other =  StabilizerTable.from_labels(['-Y', '+Z'])\n",
    "print(current.tensor(other))"
   ]
  },
  {
   "cell_type": "code",
   "execution_count": 6,
   "id": "cd0572ad",
   "metadata": {
    "execution": {
     "iopub.execute_input": "2021-04-14T10:59:17.421730Z",
     "iopub.status.busy": "2021-04-14T10:59:17.420832Z",
     "iopub.status.idle": "2021-04-14T10:59:17.423361Z",
     "shell.execute_reply": "2021-04-14T10:59:17.422971Z"
    }
   },
   "outputs": [
    {
     "name": "stdout",
     "output_type": "stream",
     "text": [
      "StabilizerTable: ['+X', '+I', '-I', '-X']\n"
     ]
    }
   ],
   "source": [
    "from qiskit.quantum_info.operators import StabilizerTable\n",
    "\n",
    "st = StabilizerTable.from_labels(['+X', '+I', '-I', '-X', '+X', '-X', '+I'])\n",
    "unique = st.unique()\n",
    "print(unique)"
   ]
  }
 ],
 "metadata": {
  "kernelspec": {
   "display_name": "Python 3",
   "language": "python",
   "name": "python3"
  },
  "language_info": {
   "codemirror_mode": {
    "name": "ipython",
    "version": 3
   },
   "file_extension": ".py",
   "mimetype": "text/x-python",
   "name": "python",
   "nbconvert_exporter": "python",
   "pygments_lexer": "ipython3",
   "version": "3.8.9"
  }
 },
 "nbformat": 4,
 "nbformat_minor": 5
}