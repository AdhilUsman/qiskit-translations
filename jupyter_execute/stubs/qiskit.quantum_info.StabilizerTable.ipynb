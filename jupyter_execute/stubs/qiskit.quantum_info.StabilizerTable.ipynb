{
 "cells": [
  {
   "cell_type": "code",
   "execution_count": 1,
   "id": "ef580a17",
   "metadata": {
    "execution": {
     "iopub.execute_input": "2021-04-15T04:39:23.639008Z",
     "iopub.status.busy": "2021-04-15T04:39:23.638333Z",
     "iopub.status.idle": "2021-04-15T04:39:24.397466Z",
     "shell.execute_reply": "2021-04-15T04:39:24.398007Z"
    }
   },
   "outputs": [
    {
     "name": "stdout",
     "output_type": "stream",
     "text": [
      "StabilizerTable: ['+X', '-Z', '-I', '-Y']\n"
     ]
    }
   ],
   "source": [
    "from qiskit.quantum_info.operators import StabilizerTable\n",
    "\n",
    "current = StabilizerTable.from_labels(['+I', '-X'])\n",
    "other =  StabilizerTable.from_labels(['+X', '-Z'])\n",
    "print(current.compose(other))"
   ]
  },
  {
   "cell_type": "code",
   "execution_count": 2,
   "id": "112f92d0",
   "metadata": {
    "execution": {
     "iopub.execute_input": "2021-04-15T04:39:24.404725Z",
     "iopub.status.busy": "2021-04-15T04:39:24.403301Z",
     "iopub.status.idle": "2021-04-15T04:39:24.406987Z",
     "shell.execute_reply": "2021-04-15T04:39:24.406340Z"
    }
   },
   "outputs": [
    {
     "name": "stdout",
     "output_type": "stream",
     "text": [
      "StabilizerTable: ['+X', '-Z', '-I', '+Y']\n"
     ]
    }
   ],
   "source": [
    "from qiskit.quantum_info.operators import StabilizerTable\n",
    "\n",
    "current = StabilizerTable.from_labels(['+I', '-X'])\n",
    "other =  StabilizerTable.from_labels(['+X', '-Z'])\n",
    "print(current.dot(other))"
   ]
  },
  {
   "cell_type": "code",
   "execution_count": 3,
   "id": "f22631a6",
   "metadata": {
    "execution": {
     "iopub.execute_input": "2021-04-15T04:39:24.414295Z",
     "iopub.status.busy": "2021-04-15T04:39:24.412749Z",
     "iopub.status.idle": "2021-04-15T04:39:24.416352Z",
     "shell.execute_reply": "2021-04-15T04:39:24.415831Z"
    }
   },
   "outputs": [
    {
     "name": "stdout",
     "output_type": "stream",
     "text": [
      "StabilizerTable: ['-YI', '+YX', '+ZI', '-ZX']\n"
     ]
    }
   ],
   "source": [
    "from qiskit.quantum_info.operators import StabilizerTable\n",
    "\n",
    "current = StabilizerTable.from_labels(['+I', '-X'])\n",
    "other =  StabilizerTable.from_labels(['-Y', '+Z'])\n",
    "print(current.expand(other))"
   ]
  },
  {
   "cell_type": "code",
   "execution_count": 4,
   "id": "52ba15d3",
   "metadata": {
    "execution": {
     "iopub.execute_input": "2021-04-15T04:39:24.425995Z",
     "iopub.status.busy": "2021-04-15T04:39:24.422100Z",
     "iopub.status.idle": "2021-04-15T04:39:24.428370Z",
     "shell.execute_reply": "2021-04-15T04:39:24.428819Z"
    }
   },
   "outputs": [
    {
     "name": "stdout",
     "output_type": "stream",
     "text": [
      "Initial Ordering\n",
      "StabilizerTable: ['+XX', '-IY', '+ZY', '+YZ', '+XI', '-IZ', '+XY', '+IY', '-XI', '-ZX', '+IX', '-YI', '+ZZ', '+YI', '-ZZ', '-XX', '+IZ', '-YZ', '-YY', '+YX', '-YX', '-XY', '-II', '+YY', '-IX', '-ZY', '+ZI', '+ZX', '-XZ', '+XZ', '+II', '-ZI']\n",
      "Lexicographically sorted\n",
      "StabilizerTable: ['-II', '+II', '+IX', '-IX', '-IY', '+IY', '-IZ', '+IZ', '+XI', '-XI', '+XX', '-XX', '+XY', '-XY', '-XZ', '+XZ', '-YI', '+YI', '+YX', '-YX', '-YY', '+YY', '+YZ', '-YZ', '+ZI', '-ZI', '-ZX', '+ZX', '+ZY', '-ZY', '+ZZ', '-ZZ']\n",
      "Weight sorted\n",
      "StabilizerTable: ['-II', '+II', '+IX', '-IX', '-IY', '+IY', '-IZ', '+IZ', '+XI', '-XI', '-YI', '+YI', '+ZI', '-ZI', '+XX', '-XX', '+XY', '-XY', '-XZ', '+XZ', '+YX', '-YX', '-YY', '+YY', '+YZ', '-YZ', '-ZX', '+ZX', '+ZY', '-ZY', '+ZZ', '-ZZ']\n"
     ]
    }
   ],
   "source": [
    "from numpy.random import shuffle\n",
    "from qiskit.quantum_info.operators import StabilizerTable\n",
    "\n",
    "# 2-qubit labels\n",
    "labels = ['+II', '+IX', '+IY', '+IZ', '+XI', '+XX', '+XY', '+XZ',\n",
    "          '+YI', '+YX', '+YY', '+YZ', '+ZI', '+ZX', '+ZY', '+ZZ',\n",
    "          '-II', '-IX', '-IY', '-IZ', '-XI', '-XX', '-XY', '-XZ',\n",
    "          '-YI', '-YX', '-YY', '-YZ', '-ZI', '-ZX', '-ZY', '-ZZ']\n",
    "# Shuffle Labels\n",
    "shuffle(labels)\n",
    "st = StabilizerTable.from_labels(labels)\n",
    "print('Initial Ordering')\n",
    "print(st)\n",
    "\n",
    "# Lexicographic Ordering\n",
    "srt = st.sort()\n",
    "print('Lexicographically sorted')\n",
    "print(srt)\n",
    "\n",
    "# Weight Ordering\n",
    "srt = st.sort(weight=True)\n",
    "print('Weight sorted')\n",
    "print(srt)"
   ]
  },
  {
   "cell_type": "code",
   "execution_count": 5,
   "id": "ab909b18",
   "metadata": {
    "execution": {
     "iopub.execute_input": "2021-04-15T04:39:24.435360Z",
     "iopub.status.busy": "2021-04-15T04:39:24.433789Z",
     "iopub.status.idle": "2021-04-15T04:39:24.437310Z",
     "shell.execute_reply": "2021-04-15T04:39:24.436764Z"
    }
   },
   "outputs": [
    {
     "name": "stdout",
     "output_type": "stream",
     "text": [
      "StabilizerTable: ['-IY', '+IZ', '+XY', '-XZ']\n"
     ]
    }
   ],
   "source": [
    "from qiskit.quantum_info.operators import StabilizerTable\n",
    "\n",
    "current = StabilizerTable.from_labels(['+I', '-X'])\n",
    "other =  StabilizerTable.from_labels(['-Y', '+Z'])\n",
    "print(current.tensor(other))"
   ]
  },
  {
   "cell_type": "code",
   "execution_count": 6,
   "id": "8f9f2094",
   "metadata": {
    "execution": {
     "iopub.execute_input": "2021-04-15T04:39:24.444412Z",
     "iopub.status.busy": "2021-04-15T04:39:24.442760Z",
     "iopub.status.idle": "2021-04-15T04:39:24.446595Z",
     "shell.execute_reply": "2021-04-15T04:39:24.445917Z"
    }
   },
   "outputs": [
    {
     "name": "stdout",
     "output_type": "stream",
     "text": [
      "StabilizerTable: ['+X', '+I', '-I', '-X']\n"
     ]
    }
   ],
   "source": [
    "from qiskit.quantum_info.operators import StabilizerTable\n",
    "\n",
    "st = StabilizerTable.from_labels(['+X', '+I', '-I', '-X', '+X', '-X', '+I'])\n",
    "unique = st.unique()\n",
    "print(unique)"
   ]
  }
 ],
 "metadata": {
  "kernelspec": {
   "display_name": "Python 3",
   "language": "python",
   "name": "python3"
  },
  "language_info": {
   "codemirror_mode": {
    "name": "ipython",
    "version": 3
   },
   "file_extension": ".py",
   "mimetype": "text/x-python",
   "name": "python",
   "nbconvert_exporter": "python",
   "pygments_lexer": "ipython3",
   "version": "3.8.9"
  }
 },
 "nbformat": 4,
 "nbformat_minor": 5
}