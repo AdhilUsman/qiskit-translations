{
 "cells": [
  {
   "cell_type": "code",
   "execution_count": 1,
   "id": "handmade-denial",
   "metadata": {
    "execution": {
     "iopub.execute_input": "2021-04-01T14:34:17.119237Z",
     "iopub.status.busy": "2021-04-01T14:34:17.118562Z",
     "iopub.status.idle": "2021-04-01T14:34:19.107532Z",
     "shell.execute_reply": "2021-04-01T14:34:19.108039Z"
    }
   },
   "outputs": [
    {
     "name": "stdout",
     "output_type": "stream",
     "text": [
      "StabilizerTable: ['+X', '-Z', '-I', '-Y']\n"
     ]
    }
   ],
   "source": [
    "from qiskit.quantum_info.operators import StabilizerTable\n",
    "\n",
    "current = StabilizerTable.from_labels(['+I', '-X'])\n",
    "other =  StabilizerTable.from_labels(['+X', '-Z'])\n",
    "print(current.compose(other))"
   ]
  },
  {
   "cell_type": "code",
   "execution_count": 2,
   "id": "bright-visitor",
   "metadata": {
    "execution": {
     "iopub.execute_input": "2021-04-01T14:34:19.116521Z",
     "iopub.status.busy": "2021-04-01T14:34:19.115224Z",
     "iopub.status.idle": "2021-04-01T14:34:19.118658Z",
     "shell.execute_reply": "2021-04-01T14:34:19.118015Z"
    }
   },
   "outputs": [
    {
     "name": "stdout",
     "output_type": "stream",
     "text": [
      "StabilizerTable: ['+X', '-Z', '-I', '+Y']\n"
     ]
    }
   ],
   "source": [
    "from qiskit.quantum_info.operators import StabilizerTable\n",
    "\n",
    "current = StabilizerTable.from_labels(['+I', '-X'])\n",
    "other =  StabilizerTable.from_labels(['+X', '-Z'])\n",
    "print(current.dot(other))"
   ]
  },
  {
   "cell_type": "code",
   "execution_count": 3,
   "id": "canadian-birmingham",
   "metadata": {
    "execution": {
     "iopub.execute_input": "2021-04-01T14:34:19.125606Z",
     "iopub.status.busy": "2021-04-01T14:34:19.124071Z",
     "iopub.status.idle": "2021-04-01T14:34:19.127450Z",
     "shell.execute_reply": "2021-04-01T14:34:19.126913Z"
    }
   },
   "outputs": [
    {
     "name": "stdout",
     "output_type": "stream",
     "text": [
      "StabilizerTable: ['-YI', '+ZI', '+YX', '-ZX']\n"
     ]
    }
   ],
   "source": [
    "from qiskit.quantum_info.operators import StabilizerTable\n",
    "\n",
    "current = StabilizerTable.from_labels(['+I', '-X'])\n",
    "other =  StabilizerTable.from_labels(['-Y', '+Z'])\n",
    "print(current.expand(other))"
   ]
  },
  {
   "cell_type": "code",
   "execution_count": 4,
   "id": "palestinian-judges",
   "metadata": {
    "execution": {
     "iopub.execute_input": "2021-04-01T14:34:19.136995Z",
     "iopub.status.busy": "2021-04-01T14:34:19.134607Z",
     "iopub.status.idle": "2021-04-01T14:34:19.139588Z",
     "shell.execute_reply": "2021-04-01T14:34:19.139074Z"
    }
   },
   "outputs": [
    {
     "name": "stdout",
     "output_type": "stream",
     "text": [
      "Initial Ordering\n",
      "StabilizerTable: ['-XX', '+ZI', '-ZZ', '+YZ', '+IY', '+ZY', '+XZ', '-YX', '-XZ', '+ZX', '+XI', '-YY', '-II', '+II', '+XY', '+YI', '-XI', '+IZ', '-IX', '+XX', '-ZY', '-IZ', '-IY', '-YI', '-YZ', '+YX', '+ZZ', '-XY', '+IX', '-ZI', '-ZX', '+YY']\n",
      "Lexicographically sorted\n",
      "StabilizerTable: ['-II', '+II', '-IX', '+IX', '+IY', '-IY', '+IZ', '-IZ', '+XI', '-XI', '-XX', '+XX', '+XY', '-XY', '+XZ', '-XZ', '+YI', '-YI', '-YX', '+YX', '-YY', '+YY', '+YZ', '-YZ', '+ZI', '-ZI', '+ZX', '-ZX', '+ZY', '-ZY', '-ZZ', '+ZZ']\n",
      "Weight sorted\n",
      "StabilizerTable: ['-II', '+II', '-IX', '+IX', '+IY', '-IY', '+IZ', '-IZ', '+XI', '-XI', '+YI', '-YI', '+ZI', '-ZI', '-XX', '+XX', '+XY', '-XY', '+XZ', '-XZ', '-YX', '+YX', '-YY', '+YY', '+YZ', '-YZ', '+ZX', '-ZX', '+ZY', '-ZY', '-ZZ', '+ZZ']\n"
     ]
    }
   ],
   "source": [
    "from numpy.random import shuffle\n",
    "from qiskit.quantum_info.operators import StabilizerTable\n",
    "\n",
    "# 2-qubit labels\n",
    "labels = ['+II', '+IX', '+IY', '+IZ', '+XI', '+XX', '+XY', '+XZ',\n",
    "          '+YI', '+YX', '+YY', '+YZ', '+ZI', '+ZX', '+ZY', '+ZZ',\n",
    "          '-II', '-IX', '-IY', '-IZ', '-XI', '-XX', '-XY', '-XZ',\n",
    "          '-YI', '-YX', '-YY', '-YZ', '-ZI', '-ZX', '-ZY', '-ZZ']\n",
    "# Shuffle Labels\n",
    "shuffle(labels)\n",
    "st = StabilizerTable.from_labels(labels)\n",
    "print('Initial Ordering')\n",
    "print(st)\n",
    "\n",
    "# Lexicographic Ordering\n",
    "srt = st.sort()\n",
    "print('Lexicographically sorted')\n",
    "print(srt)\n",
    "\n",
    "# Weight Ordering\n",
    "srt = st.sort(weight=True)\n",
    "print('Weight sorted')\n",
    "print(srt)"
   ]
  },
  {
   "cell_type": "code",
   "execution_count": 5,
   "id": "postal-hypothesis",
   "metadata": {
    "execution": {
     "iopub.execute_input": "2021-04-01T14:34:19.148026Z",
     "iopub.status.busy": "2021-04-01T14:34:19.145190Z",
     "iopub.status.idle": "2021-04-01T14:34:19.149963Z",
     "shell.execute_reply": "2021-04-01T14:34:19.149450Z"
    }
   },
   "outputs": [
    {
     "name": "stdout",
     "output_type": "stream",
     "text": [
      "StabilizerTable: ['-IY', '+IZ', '+XY', '-XZ']\n"
     ]
    }
   ],
   "source": [
    "from qiskit.quantum_info.operators import StabilizerTable\n",
    "\n",
    "current = StabilizerTable.from_labels(['+I', '-X'])\n",
    "other =  StabilizerTable.from_labels(['-Y', '+Z'])\n",
    "print(current.tensor(other))"
   ]
  },
  {
   "cell_type": "code",
   "execution_count": 6,
   "id": "relevant-yukon",
   "metadata": {
    "execution": {
     "iopub.execute_input": "2021-04-01T14:34:19.157708Z",
     "iopub.status.busy": "2021-04-01T14:34:19.156135Z",
     "iopub.status.idle": "2021-04-01T14:34:19.159642Z",
     "shell.execute_reply": "2021-04-01T14:34:19.159150Z"
    }
   },
   "outputs": [
    {
     "name": "stdout",
     "output_type": "stream",
     "text": [
      "StabilizerTable: ['+X', '+I', '-I', '-X']\n"
     ]
    }
   ],
   "source": [
    "from qiskit.quantum_info.operators import StabilizerTable\n",
    "\n",
    "st = StabilizerTable.from_labels(['+X', '+I', '-I', '-X', '+X', '-X', '+I'])\n",
    "unique = st.unique()\n",
    "print(unique)"
   ]
  }
 ],
 "metadata": {
  "kernelspec": {
   "display_name": "Python 3",
   "language": "python",
   "name": "python3"
  },
  "language_info": {
   "codemirror_mode": {
    "name": "ipython",
    "version": 3
   },
   "file_extension": ".py",
   "mimetype": "text/x-python",
   "name": "python",
   "nbconvert_exporter": "python",
   "pygments_lexer": "ipython3",
   "version": "3.8.8"
  }
 },
 "nbformat": 4,
 "nbformat_minor": 5
}