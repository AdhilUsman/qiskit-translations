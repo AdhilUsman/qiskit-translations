{
 "cells": [
  {
   "cell_type": "code",
   "execution_count": 1,
   "id": "dress-viewer",
   "metadata": {
    "execution": {
     "iopub.execute_input": "2021-03-28T21:04:04.153343Z",
     "iopub.status.busy": "2021-03-28T21:04:04.152730Z",
     "iopub.status.idle": "2021-03-28T21:04:06.047387Z",
     "shell.execute_reply": "2021-03-28T21:04:06.046798Z"
    }
   },
   "outputs": [
    {
     "name": "stdout",
     "output_type": "stream",
     "text": [
      "StabilizerTable: ['+X', '-Z', '-I', '-Y']\n"
     ]
    }
   ],
   "source": [
    "from qiskit.quantum_info.operators import StabilizerTable\n",
    "\n",
    "current = StabilizerTable.from_labels(['+I', '-X'])\n",
    "other =  StabilizerTable.from_labels(['+X', '-Z'])\n",
    "print(current.compose(other))"
   ]
  },
  {
   "cell_type": "code",
   "execution_count": 2,
   "id": "reliable-sentence",
   "metadata": {
    "execution": {
     "iopub.execute_input": "2021-03-28T21:04:06.052582Z",
     "iopub.status.busy": "2021-03-28T21:04:06.051958Z",
     "iopub.status.idle": "2021-03-28T21:04:06.056002Z",
     "shell.execute_reply": "2021-03-28T21:04:06.054957Z"
    }
   },
   "outputs": [
    {
     "name": "stdout",
     "output_type": "stream",
     "text": [
      "StabilizerTable: ['+X', '-Z', '-I', '+Y']\n"
     ]
    }
   ],
   "source": [
    "from qiskit.quantum_info.operators import StabilizerTable\n",
    "\n",
    "current = StabilizerTable.from_labels(['+I', '-X'])\n",
    "other =  StabilizerTable.from_labels(['+X', '-Z'])\n",
    "print(current.dot(other))"
   ]
  },
  {
   "cell_type": "code",
   "execution_count": 3,
   "id": "searching-preserve",
   "metadata": {
    "execution": {
     "iopub.execute_input": "2021-03-28T21:04:06.061068Z",
     "iopub.status.busy": "2021-03-28T21:04:06.060533Z",
     "iopub.status.idle": "2021-03-28T21:04:06.064729Z",
     "shell.execute_reply": "2021-03-28T21:04:06.063856Z"
    }
   },
   "outputs": [
    {
     "name": "stdout",
     "output_type": "stream",
     "text": [
      "StabilizerTable: ['-YI', '+ZI', '+YX', '-ZX']\n"
     ]
    }
   ],
   "source": [
    "from qiskit.quantum_info.operators import StabilizerTable\n",
    "\n",
    "current = StabilizerTable.from_labels(['+I', '-X'])\n",
    "other =  StabilizerTable.from_labels(['-Y', '+Z'])\n",
    "print(current.expand(other))"
   ]
  },
  {
   "cell_type": "code",
   "execution_count": 4,
   "id": "fifteen-relief",
   "metadata": {
    "execution": {
     "iopub.execute_input": "2021-03-28T21:04:06.071873Z",
     "iopub.status.busy": "2021-03-28T21:04:06.070281Z",
     "iopub.status.idle": "2021-03-28T21:04:06.079758Z",
     "shell.execute_reply": "2021-03-28T21:04:06.079231Z"
    }
   },
   "outputs": [
    {
     "name": "stdout",
     "output_type": "stream",
     "text": [
      "Initial Ordering\n",
      "StabilizerTable: ['+XX', '+YX', '-ZY', '+ZY', '-II', '-XI', '+YY', '+YZ', '-YZ', '+II', '-IY', '+XY', '-IZ', '-XZ', '+IX', '+YI', '+IZ', '+ZZ', '-XX', '+XI', '+ZX', '+ZI', '-ZI', '+IY', '+XZ', '-ZZ', '-YI', '-YX', '-YY', '-IX', '-XY', '-ZX']\n",
      "Lexicographically sorted\n",
      "StabilizerTable: ['-II', '+II', '+IX', '-IX', '-IY', '+IY', '-IZ', '+IZ', '-XI', '+XI', '+XX', '-XX', '+XY', '-XY', '-XZ', '+XZ', '+YI', '-YI', '+YX', '-YX', '+YY', '-YY', '+YZ', '-YZ', '+ZI', '-ZI', '+ZX', '-ZX', '-ZY', '+ZY', '+ZZ', '-ZZ']\n",
      "Weight sorted\n",
      "StabilizerTable: ['-II', '+II', '+IX', '-IX', '-IY', '+IY', '-IZ', '+IZ', '-XI', '+XI', '+YI', '-YI', '+ZI', '-ZI', '+XX', '-XX', '+XY', '-XY', '-XZ', '+XZ', '+YX', '-YX', '+YY', '-YY', '+YZ', '-YZ', '+ZX', '-ZX', '-ZY', '+ZY', '+ZZ', '-ZZ']\n"
     ]
    }
   ],
   "source": [
    "from numpy.random import shuffle\n",
    "from qiskit.quantum_info.operators import StabilizerTable\n",
    "\n",
    "# 2-qubit labels\n",
    "labels = ['+II', '+IX', '+IY', '+IZ', '+XI', '+XX', '+XY', '+XZ',\n",
    "          '+YI', '+YX', '+YY', '+YZ', '+ZI', '+ZX', '+ZY', '+ZZ',\n",
    "          '-II', '-IX', '-IY', '-IZ', '-XI', '-XX', '-XY', '-XZ',\n",
    "          '-YI', '-YX', '-YY', '-YZ', '-ZI', '-ZX', '-ZY', '-ZZ']\n",
    "# Shuffle Labels\n",
    "shuffle(labels)\n",
    "st = StabilizerTable.from_labels(labels)\n",
    "print('Initial Ordering')\n",
    "print(st)\n",
    "\n",
    "# Lexicographic Ordering\n",
    "srt = st.sort()\n",
    "print('Lexicographically sorted')\n",
    "print(srt)\n",
    "\n",
    "# Weight Ordering\n",
    "srt = st.sort(weight=True)\n",
    "print('Weight sorted')\n",
    "print(srt)"
   ]
  },
  {
   "cell_type": "code",
   "execution_count": 5,
   "id": "electric-click",
   "metadata": {
    "execution": {
     "iopub.execute_input": "2021-03-28T21:04:06.086332Z",
     "iopub.status.busy": "2021-03-28T21:04:06.085309Z",
     "iopub.status.idle": "2021-03-28T21:04:06.090347Z",
     "shell.execute_reply": "2021-03-28T21:04:06.090802Z"
    }
   },
   "outputs": [
    {
     "name": "stdout",
     "output_type": "stream",
     "text": [
      "StabilizerTable: ['-IY', '+IZ', '+XY', '-XZ']\n"
     ]
    }
   ],
   "source": [
    "from qiskit.quantum_info.operators import StabilizerTable\n",
    "\n",
    "current = StabilizerTable.from_labels(['+I', '-X'])\n",
    "other =  StabilizerTable.from_labels(['-Y', '+Z'])\n",
    "print(current.tensor(other))"
   ]
  },
  {
   "cell_type": "code",
   "execution_count": 6,
   "id": "three-development",
   "metadata": {
    "execution": {
     "iopub.execute_input": "2021-03-28T21:04:06.095673Z",
     "iopub.status.busy": "2021-03-28T21:04:06.095088Z",
     "iopub.status.idle": "2021-03-28T21:04:06.099697Z",
     "shell.execute_reply": "2021-03-28T21:04:06.098937Z"
    }
   },
   "outputs": [
    {
     "name": "stdout",
     "output_type": "stream",
     "text": [
      "StabilizerTable: ['+X', '+I', '-I', '-X']\n"
     ]
    }
   ],
   "source": [
    "from qiskit.quantum_info.operators import StabilizerTable\n",
    "\n",
    "st = StabilizerTable.from_labels(['+X', '+I', '-I', '-X', '+X', '-X', '+I'])\n",
    "unique = st.unique()\n",
    "print(unique)"
   ]
  }
 ],
 "metadata": {
  "kernelspec": {
   "display_name": "Python 3",
   "language": "python",
   "name": "python3"
  },
  "language_info": {
   "codemirror_mode": {
    "name": "ipython",
    "version": 3
   },
   "file_extension": ".py",
   "mimetype": "text/x-python",
   "name": "python",
   "nbconvert_exporter": "python",
   "pygments_lexer": "ipython3",
   "version": "3.8.8"
  }
 },
 "nbformat": 4,
 "nbformat_minor": 5
}