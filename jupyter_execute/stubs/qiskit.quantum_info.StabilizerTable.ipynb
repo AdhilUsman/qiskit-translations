{
 "cells": [
  {
   "cell_type": "code",
   "execution_count": 1,
   "id": "republican-course",
   "metadata": {
    "execution": {
     "iopub.execute_input": "2021-03-30T22:06:58.958141Z",
     "iopub.status.busy": "2021-03-30T22:06:58.956895Z",
     "iopub.status.idle": "2021-03-30T22:07:00.953503Z",
     "shell.execute_reply": "2021-03-30T22:07:00.952826Z"
    }
   },
   "outputs": [
    {
     "name": "stdout",
     "output_type": "stream",
     "text": [
      "StabilizerTable: ['+X', '-Z', '-I', '-Y']\n"
     ]
    }
   ],
   "source": [
    "from qiskit.quantum_info.operators import StabilizerTable\n",
    "\n",
    "current = StabilizerTable.from_labels(['+I', '-X'])\n",
    "other =  StabilizerTable.from_labels(['+X', '-Z'])\n",
    "print(current.compose(other))"
   ]
  },
  {
   "cell_type": "code",
   "execution_count": 2,
   "id": "wired-athletics",
   "metadata": {
    "execution": {
     "iopub.execute_input": "2021-03-30T22:07:00.959239Z",
     "iopub.status.busy": "2021-03-30T22:07:00.958688Z",
     "iopub.status.idle": "2021-03-30T22:07:00.962133Z",
     "shell.execute_reply": "2021-03-30T22:07:00.962565Z"
    }
   },
   "outputs": [
    {
     "name": "stdout",
     "output_type": "stream",
     "text": [
      "StabilizerTable: ['+X', '-Z', '-I', '+Y']\n"
     ]
    }
   ],
   "source": [
    "from qiskit.quantum_info.operators import StabilizerTable\n",
    "\n",
    "current = StabilizerTable.from_labels(['+I', '-X'])\n",
    "other =  StabilizerTable.from_labels(['+X', '-Z'])\n",
    "print(current.dot(other))"
   ]
  },
  {
   "cell_type": "code",
   "execution_count": 3,
   "id": "insured-catalog",
   "metadata": {
    "execution": {
     "iopub.execute_input": "2021-03-30T22:07:00.967471Z",
     "iopub.status.busy": "2021-03-30T22:07:00.966572Z",
     "iopub.status.idle": "2021-03-30T22:07:00.970547Z",
     "shell.execute_reply": "2021-03-30T22:07:00.970080Z"
    }
   },
   "outputs": [
    {
     "name": "stdout",
     "output_type": "stream",
     "text": [
      "StabilizerTable: ['-YI', '+ZI', '+YX', '-ZX']\n"
     ]
    }
   ],
   "source": [
    "from qiskit.quantum_info.operators import StabilizerTable\n",
    "\n",
    "current = StabilizerTable.from_labels(['+I', '-X'])\n",
    "other =  StabilizerTable.from_labels(['-Y', '+Z'])\n",
    "print(current.expand(other))"
   ]
  },
  {
   "cell_type": "code",
   "execution_count": 4,
   "id": "industrial-equivalent",
   "metadata": {
    "execution": {
     "iopub.execute_input": "2021-03-30T22:07:00.978221Z",
     "iopub.status.busy": "2021-03-30T22:07:00.976033Z",
     "iopub.status.idle": "2021-03-30T22:07:00.981689Z",
     "shell.execute_reply": "2021-03-30T22:07:00.982142Z"
    }
   },
   "outputs": [
    {
     "name": "stdout",
     "output_type": "stream",
     "text": [
      "Initial Ordering\n",
      "StabilizerTable: ['-ZZ', '+ZX', '+XX', '-ZI', '-IY', '+XY', '-XI', '-YZ', '-YY', '-IX', '-II', '+XZ', '+XI', '-IZ', '+YZ', '+ZI', '+IY', '+IX', '+IZ', '-ZX', '+II', '-YI', '+YX', '+YY', '+ZZ', '+YI', '-YX', '-XY', '-XX', '-ZY', '-XZ', '+ZY']\n",
      "Lexicographically sorted\n",
      "StabilizerTable: ['-II', '+II', '-IX', '+IX', '-IY', '+IY', '-IZ', '+IZ', '-XI', '+XI', '+XX', '-XX', '+XY', '-XY', '+XZ', '-XZ', '-YI', '+YI', '+YX', '-YX', '-YY', '+YY', '-YZ', '+YZ', '-ZI', '+ZI', '+ZX', '-ZX', '-ZY', '+ZY', '-ZZ', '+ZZ']\n",
      "Weight sorted\n",
      "StabilizerTable: ['-II', '+II', '-IX', '+IX', '-IY', '+IY', '-IZ', '+IZ', '-XI', '+XI', '-YI', '+YI', '-ZI', '+ZI', '+XX', '-XX', '+XY', '-XY', '+XZ', '-XZ', '+YX', '-YX', '-YY', '+YY', '-YZ', '+YZ', '+ZX', '-ZX', '-ZY', '+ZY', '-ZZ', '+ZZ']\n"
     ]
    }
   ],
   "source": [
    "from numpy.random import shuffle\n",
    "from qiskit.quantum_info.operators import StabilizerTable\n",
    "\n",
    "# 2-qubit labels\n",
    "labels = ['+II', '+IX', '+IY', '+IZ', '+XI', '+XX', '+XY', '+XZ',\n",
    "          '+YI', '+YX', '+YY', '+YZ', '+ZI', '+ZX', '+ZY', '+ZZ',\n",
    "          '-II', '-IX', '-IY', '-IZ', '-XI', '-XX', '-XY', '-XZ',\n",
    "          '-YI', '-YX', '-YY', '-YZ', '-ZI', '-ZX', '-ZY', '-ZZ']\n",
    "# Shuffle Labels\n",
    "shuffle(labels)\n",
    "st = StabilizerTable.from_labels(labels)\n",
    "print('Initial Ordering')\n",
    "print(st)\n",
    "\n",
    "# Lexicographic Ordering\n",
    "srt = st.sort()\n",
    "print('Lexicographically sorted')\n",
    "print(srt)\n",
    "\n",
    "# Weight Ordering\n",
    "srt = st.sort(weight=True)\n",
    "print('Weight sorted')\n",
    "print(srt)"
   ]
  },
  {
   "cell_type": "code",
   "execution_count": 5,
   "id": "documentary-assistant",
   "metadata": {
    "execution": {
     "iopub.execute_input": "2021-03-30T22:07:00.987121Z",
     "iopub.status.busy": "2021-03-30T22:07:00.986569Z",
     "iopub.status.idle": "2021-03-30T22:07:00.990837Z",
     "shell.execute_reply": "2021-03-30T22:07:00.990338Z"
    }
   },
   "outputs": [
    {
     "name": "stdout",
     "output_type": "stream",
     "text": [
      "StabilizerTable: ['-IY', '+IZ', '+XY', '-XZ']\n"
     ]
    }
   ],
   "source": [
    "from qiskit.quantum_info.operators import StabilizerTable\n",
    "\n",
    "current = StabilizerTable.from_labels(['+I', '-X'])\n",
    "other =  StabilizerTable.from_labels(['-Y', '+Z'])\n",
    "print(current.tensor(other))"
   ]
  },
  {
   "cell_type": "code",
   "execution_count": 6,
   "id": "valuable-practice",
   "metadata": {
    "execution": {
     "iopub.execute_input": "2021-03-30T22:07:00.997085Z",
     "iopub.status.busy": "2021-03-30T22:07:00.996554Z",
     "iopub.status.idle": "2021-03-30T22:07:00.999797Z",
     "shell.execute_reply": "2021-03-30T22:07:00.999308Z"
    }
   },
   "outputs": [
    {
     "name": "stdout",
     "output_type": "stream",
     "text": [
      "StabilizerTable: ['+X', '+I', '-I', '-X']\n"
     ]
    }
   ],
   "source": [
    "from qiskit.quantum_info.operators import StabilizerTable\n",
    "\n",
    "st = StabilizerTable.from_labels(['+X', '+I', '-I', '-X', '+X', '-X', '+I'])\n",
    "unique = st.unique()\n",
    "print(unique)"
   ]
  }
 ],
 "metadata": {
  "kernelspec": {
   "display_name": "Python 3",
   "language": "python",
   "name": "python3"
  },
  "language_info": {
   "codemirror_mode": {
    "name": "ipython",
    "version": 3
   },
   "file_extension": ".py",
   "mimetype": "text/x-python",
   "name": "python",
   "nbconvert_exporter": "python",
   "pygments_lexer": "ipython3",
   "version": "3.8.8"
  }
 },
 "nbformat": 4,
 "nbformat_minor": 5
}