{
 "cells": [
  {
   "cell_type": "code",
   "execution_count": 1,
   "id": "31a4f8b1",
   "metadata": {
    "execution": {
     "iopub.execute_input": "2021-04-03T00:54:25.262496Z",
     "iopub.status.busy": "2021-04-03T00:54:25.261901Z",
     "iopub.status.idle": "2021-04-03T00:54:26.015199Z",
     "shell.execute_reply": "2021-04-03T00:54:26.015748Z"
    }
   },
   "outputs": [
    {
     "name": "stdout",
     "output_type": "stream",
     "text": [
      "StabilizerTable: ['+X', '-Z', '-I', '-Y']\n"
     ]
    }
   ],
   "source": [
    "from qiskit.quantum_info.operators import StabilizerTable\n",
    "\n",
    "current = StabilizerTable.from_labels(['+I', '-X'])\n",
    "other =  StabilizerTable.from_labels(['+X', '-Z'])\n",
    "print(current.compose(other))"
   ]
  },
  {
   "cell_type": "code",
   "execution_count": 2,
   "id": "de05024e",
   "metadata": {
    "execution": {
     "iopub.execute_input": "2021-04-03T00:54:26.022913Z",
     "iopub.status.busy": "2021-04-03T00:54:26.021366Z",
     "iopub.status.idle": "2021-04-03T00:54:26.025170Z",
     "shell.execute_reply": "2021-04-03T00:54:26.024478Z"
    }
   },
   "outputs": [
    {
     "name": "stdout",
     "output_type": "stream",
     "text": [
      "StabilizerTable: ['+X', '-Z', '-I', '+Y']\n"
     ]
    }
   ],
   "source": [
    "from qiskit.quantum_info.operators import StabilizerTable\n",
    "\n",
    "current = StabilizerTable.from_labels(['+I', '-X'])\n",
    "other =  StabilizerTable.from_labels(['+X', '-Z'])\n",
    "print(current.dot(other))"
   ]
  },
  {
   "cell_type": "code",
   "execution_count": 3,
   "id": "ce0578e9",
   "metadata": {
    "execution": {
     "iopub.execute_input": "2021-04-03T00:54:26.032495Z",
     "iopub.status.busy": "2021-04-03T00:54:26.030975Z",
     "iopub.status.idle": "2021-04-03T00:54:26.034410Z",
     "shell.execute_reply": "2021-04-03T00:54:26.033879Z"
    }
   },
   "outputs": [
    {
     "name": "stdout",
     "output_type": "stream",
     "text": [
      "StabilizerTable: ['-YI', '+YX', '+ZI', '-ZX']\n"
     ]
    }
   ],
   "source": [
    "from qiskit.quantum_info.operators import StabilizerTable\n",
    "\n",
    "current = StabilizerTable.from_labels(['+I', '-X'])\n",
    "other =  StabilizerTable.from_labels(['-Y', '+Z'])\n",
    "print(current.expand(other))"
   ]
  },
  {
   "cell_type": "code",
   "execution_count": 4,
   "id": "996bcae5",
   "metadata": {
    "execution": {
     "iopub.execute_input": "2021-04-03T00:54:26.044243Z",
     "iopub.status.busy": "2021-04-03T00:54:26.041723Z",
     "iopub.status.idle": "2021-04-03T00:54:26.046506Z",
     "shell.execute_reply": "2021-04-03T00:54:26.046989Z"
    }
   },
   "outputs": [
    {
     "name": "stdout",
     "output_type": "stream",
     "text": [
      "Initial Ordering\n",
      "StabilizerTable: ['-YX', '-ZY', '+ZZ', '-YZ', '+IX', '+XY', '+YY', '-YI', '-IZ', '+ZI', '-ZX', '+ZX', '-XX', '+XZ', '+IZ', '-II', '-XY', '+II', '-YY', '-XZ', '-ZZ', '+XI', '-IY', '-IX', '-ZI', '-XI', '+YX', '+ZY', '+XX', '+YI', '+YZ', '+IY']\n",
      "Lexicographically sorted\n",
      "StabilizerTable: ['-II', '+II', '+IX', '-IX', '-IY', '+IY', '-IZ', '+IZ', '+XI', '-XI', '-XX', '+XX', '+XY', '-XY', '+XZ', '-XZ', '-YI', '+YI', '-YX', '+YX', '+YY', '-YY', '-YZ', '+YZ', '+ZI', '-ZI', '-ZX', '+ZX', '-ZY', '+ZY', '+ZZ', '-ZZ']\n",
      "Weight sorted\n",
      "StabilizerTable: ['-II', '+II', '+IX', '-IX', '-IY', '+IY', '-IZ', '+IZ', '+XI', '-XI', '-YI', '+YI', '+ZI', '-ZI', '-XX', '+XX', '+XY', '-XY', '+XZ', '-XZ', '-YX', '+YX', '+YY', '-YY', '-YZ', '+YZ', '-ZX', '+ZX', '-ZY', '+ZY', '+ZZ', '-ZZ']\n"
     ]
    }
   ],
   "source": [
    "from numpy.random import shuffle\n",
    "from qiskit.quantum_info.operators import StabilizerTable\n",
    "\n",
    "# 2-qubit labels\n",
    "labels = ['+II', '+IX', '+IY', '+IZ', '+XI', '+XX', '+XY', '+XZ',\n",
    "          '+YI', '+YX', '+YY', '+YZ', '+ZI', '+ZX', '+ZY', '+ZZ',\n",
    "          '-II', '-IX', '-IY', '-IZ', '-XI', '-XX', '-XY', '-XZ',\n",
    "          '-YI', '-YX', '-YY', '-YZ', '-ZI', '-ZX', '-ZY', '-ZZ']\n",
    "# Shuffle Labels\n",
    "shuffle(labels)\n",
    "st = StabilizerTable.from_labels(labels)\n",
    "print('Initial Ordering')\n",
    "print(st)\n",
    "\n",
    "# Lexicographic Ordering\n",
    "srt = st.sort()\n",
    "print('Lexicographically sorted')\n",
    "print(srt)\n",
    "\n",
    "# Weight Ordering\n",
    "srt = st.sort(weight=True)\n",
    "print('Weight sorted')\n",
    "print(srt)"
   ]
  },
  {
   "cell_type": "code",
   "execution_count": 5,
   "id": "c8967d4a",
   "metadata": {
    "execution": {
     "iopub.execute_input": "2021-04-03T00:54:26.053838Z",
     "iopub.status.busy": "2021-04-03T00:54:26.052481Z",
     "iopub.status.idle": "2021-04-03T00:54:26.055810Z",
     "shell.execute_reply": "2021-04-03T00:54:26.055245Z"
    }
   },
   "outputs": [
    {
     "name": "stdout",
     "output_type": "stream",
     "text": [
      "StabilizerTable: ['-IY', '+IZ', '+XY', '-XZ']\n"
     ]
    }
   ],
   "source": [
    "from qiskit.quantum_info.operators import StabilizerTable\n",
    "\n",
    "current = StabilizerTable.from_labels(['+I', '-X'])\n",
    "other =  StabilizerTable.from_labels(['-Y', '+Z'])\n",
    "print(current.tensor(other))"
   ]
  },
  {
   "cell_type": "code",
   "execution_count": 6,
   "id": "27355c05",
   "metadata": {
    "execution": {
     "iopub.execute_input": "2021-04-03T00:54:26.062070Z",
     "iopub.status.busy": "2021-04-03T00:54:26.060740Z",
     "iopub.status.idle": "2021-04-03T00:54:26.064002Z",
     "shell.execute_reply": "2021-04-03T00:54:26.063453Z"
    }
   },
   "outputs": [
    {
     "name": "stdout",
     "output_type": "stream",
     "text": [
      "StabilizerTable: ['+X', '+I', '-I', '-X']\n"
     ]
    }
   ],
   "source": [
    "from qiskit.quantum_info.operators import StabilizerTable\n",
    "\n",
    "st = StabilizerTable.from_labels(['+X', '+I', '-I', '-X', '+X', '-X', '+I'])\n",
    "unique = st.unique()\n",
    "print(unique)"
   ]
  }
 ],
 "metadata": {
  "kernelspec": {
   "display_name": "Python 3",
   "language": "python",
   "name": "python3"
  },
  "language_info": {
   "codemirror_mode": {
    "name": "ipython",
    "version": 3
   },
   "file_extension": ".py",
   "mimetype": "text/x-python",
   "name": "python",
   "nbconvert_exporter": "python",
   "pygments_lexer": "ipython3",
   "version": "3.8.8"
  }
 },
 "nbformat": 4,
 "nbformat_minor": 5
}