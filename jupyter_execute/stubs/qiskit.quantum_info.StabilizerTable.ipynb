{
 "cells": [
  {
   "cell_type": "code",
   "execution_count": 1,
   "id": "154063c2",
   "metadata": {
    "execution": {
     "iopub.execute_input": "2021-05-13T03:06:09.928186Z",
     "iopub.status.busy": "2021-05-13T03:06:09.927790Z",
     "iopub.status.idle": "2021-05-13T03:06:10.441192Z",
     "shell.execute_reply": "2021-05-13T03:06:10.441629Z"
    }
   },
   "outputs": [
    {
     "name": "stdout",
     "output_type": "stream",
     "text": [
      "StabilizerTable: ['+X', '-Z', '-I', '-Y']\n"
     ]
    }
   ],
   "source": [
    "from qiskit.quantum_info.operators import StabilizerTable\n",
    "\n",
    "current = StabilizerTable.from_labels(['+I', '-X'])\n",
    "other =  StabilizerTable.from_labels(['+X', '-Z'])\n",
    "print(current.compose(other))"
   ]
  },
  {
   "cell_type": "code",
   "execution_count": 2,
   "id": "d0f3300f",
   "metadata": {
    "execution": {
     "iopub.execute_input": "2021-05-13T03:06:10.446582Z",
     "iopub.status.busy": "2021-05-13T03:06:10.445862Z",
     "iopub.status.idle": "2021-05-13T03:06:10.448150Z",
     "shell.execute_reply": "2021-05-13T03:06:10.447800Z"
    }
   },
   "outputs": [
    {
     "name": "stdout",
     "output_type": "stream",
     "text": [
      "StabilizerTable: ['+X', '-Z', '-I', '+Y']\n"
     ]
    }
   ],
   "source": [
    "from qiskit.quantum_info.operators import StabilizerTable\n",
    "\n",
    "current = StabilizerTable.from_labels(['+I', '-X'])\n",
    "other =  StabilizerTable.from_labels(['+X', '-Z'])\n",
    "print(current.dot(other))"
   ]
  },
  {
   "cell_type": "code",
   "execution_count": 3,
   "id": "4cd63597",
   "metadata": {
    "execution": {
     "iopub.execute_input": "2021-05-13T03:06:10.452299Z",
     "iopub.status.busy": "2021-05-13T03:06:10.451594Z",
     "iopub.status.idle": "2021-05-13T03:06:10.453500Z",
     "shell.execute_reply": "2021-05-13T03:06:10.453823Z"
    }
   },
   "outputs": [
    {
     "name": "stdout",
     "output_type": "stream",
     "text": [
      "StabilizerTable: ['-YI', '+YX', '+ZI', '-ZX']\n"
     ]
    }
   ],
   "source": [
    "from qiskit.quantum_info.operators import StabilizerTable\n",
    "\n",
    "current = StabilizerTable.from_labels(['+I', '-X'])\n",
    "other =  StabilizerTable.from_labels(['-Y', '+Z'])\n",
    "print(current.expand(other))"
   ]
  },
  {
   "cell_type": "code",
   "execution_count": 4,
   "id": "f07247c2",
   "metadata": {
    "execution": {
     "iopub.execute_input": "2021-05-13T03:06:10.458848Z",
     "iopub.status.busy": "2021-05-13T03:06:10.457906Z",
     "iopub.status.idle": "2021-05-13T03:06:10.462188Z",
     "shell.execute_reply": "2021-05-13T03:06:10.462499Z"
    }
   },
   "outputs": [
    {
     "name": "stdout",
     "output_type": "stream",
     "text": [
      "Initial Ordering\n",
      "StabilizerTable: ['+YY', '+YZ', '+XY', '+XZ', '+IZ', '-ZI', '+IX', '-II', '+ZI', '+YI', '-XI', '+YX', '-XX', '+ZZ', '-IY', '-IZ', '+XI', '+II', '+ZX', '-ZZ', '-XZ', '+XX', '-ZX', '-YX', '-XY', '-ZY', '-YI', '+IY', '+ZY', '-YY', '-YZ', '-IX']\n",
      "Lexicographically sorted\n",
      "StabilizerTable: ['-II', '+II', '+IX', '-IX', '-IY', '+IY', '+IZ', '-IZ', '-XI', '+XI', '-XX', '+XX', '+XY', '-XY', '+XZ', '-XZ', '+YI', '-YI', '+YX', '-YX', '+YY', '-YY', '+YZ', '-YZ', '-ZI', '+ZI', '+ZX', '-ZX', '-ZY', '+ZY', '+ZZ', '-ZZ']\n",
      "Weight sorted\n",
      "StabilizerTable: ['-II', '+II', '+IX', '-IX', '-IY', '+IY', '+IZ', '-IZ', '-XI', '+XI', '+YI', '-YI', '-ZI', '+ZI', '-XX', '+XX', '+XY', '-XY', '+XZ', '-XZ', '+YX', '-YX', '+YY', '-YY', '+YZ', '-YZ', '+ZX', '-ZX', '-ZY', '+ZY', '+ZZ', '-ZZ']\n"
     ]
    }
   ],
   "source": [
    "from numpy.random import shuffle\n",
    "from qiskit.quantum_info.operators import StabilizerTable\n",
    "\n",
    "# 2-qubit labels\n",
    "labels = ['+II', '+IX', '+IY', '+IZ', '+XI', '+XX', '+XY', '+XZ',\n",
    "          '+YI', '+YX', '+YY', '+YZ', '+ZI', '+ZX', '+ZY', '+ZZ',\n",
    "          '-II', '-IX', '-IY', '-IZ', '-XI', '-XX', '-XY', '-XZ',\n",
    "          '-YI', '-YX', '-YY', '-YZ', '-ZI', '-ZX', '-ZY', '-ZZ']\n",
    "# Shuffle Labels\n",
    "shuffle(labels)\n",
    "st = StabilizerTable.from_labels(labels)\n",
    "print('Initial Ordering')\n",
    "print(st)\n",
    "\n",
    "# Lexicographic Ordering\n",
    "srt = st.sort()\n",
    "print('Lexicographically sorted')\n",
    "print(srt)\n",
    "\n",
    "# Weight Ordering\n",
    "srt = st.sort(weight=True)\n",
    "print('Weight sorted')\n",
    "print(srt)"
   ]
  },
  {
   "cell_type": "code",
   "execution_count": 5,
   "id": "9a5f5893",
   "metadata": {
    "execution": {
     "iopub.execute_input": "2021-05-13T03:06:10.466615Z",
     "iopub.status.busy": "2021-05-13T03:06:10.465916Z",
     "iopub.status.idle": "2021-05-13T03:06:10.467929Z",
     "shell.execute_reply": "2021-05-13T03:06:10.468248Z"
    }
   },
   "outputs": [
    {
     "name": "stdout",
     "output_type": "stream",
     "text": [
      "StabilizerTable: ['-IY', '+IZ', '+XY', '-XZ']\n"
     ]
    }
   ],
   "source": [
    "from qiskit.quantum_info.operators import StabilizerTable\n",
    "\n",
    "current = StabilizerTable.from_labels(['+I', '-X'])\n",
    "other =  StabilizerTable.from_labels(['-Y', '+Z'])\n",
    "print(current.tensor(other))"
   ]
  },
  {
   "cell_type": "code",
   "execution_count": 6,
   "id": "d1ee88a1",
   "metadata": {
    "execution": {
     "iopub.execute_input": "2021-05-13T03:06:10.472364Z",
     "iopub.status.busy": "2021-05-13T03:06:10.471663Z",
     "iopub.status.idle": "2021-05-13T03:06:10.473798Z",
     "shell.execute_reply": "2021-05-13T03:06:10.474127Z"
    }
   },
   "outputs": [
    {
     "name": "stdout",
     "output_type": "stream",
     "text": [
      "StabilizerTable: ['+X', '+I', '-I', '-X']\n"
     ]
    }
   ],
   "source": [
    "from qiskit.quantum_info.operators import StabilizerTable\n",
    "\n",
    "st = StabilizerTable.from_labels(['+X', '+I', '-I', '-X', '+X', '-X', '+I'])\n",
    "unique = st.unique()\n",
    "print(unique)"
   ]
  }
 ],
 "metadata": {
  "kernelspec": {
   "display_name": "Python 3",
   "language": "python",
   "name": "python3"
  },
  "language_info": {
   "codemirror_mode": {
    "name": "ipython",
    "version": 3
   },
   "file_extension": ".py",
   "mimetype": "text/x-python",
   "name": "python",
   "nbconvert_exporter": "python",
   "pygments_lexer": "ipython3",
   "version": "3.8.10"
  }
 },
 "nbformat": 4,
 "nbformat_minor": 5
}