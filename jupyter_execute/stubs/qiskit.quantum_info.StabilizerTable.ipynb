{
 "cells": [
  {
   "cell_type": "code",
   "execution_count": 1,
   "id": "developing-clerk",
   "metadata": {
    "execution": {
     "iopub.execute_input": "2021-04-01T04:18:21.937967Z",
     "iopub.status.busy": "2021-04-01T04:18:21.937430Z",
     "iopub.status.idle": "2021-04-01T04:18:23.943037Z",
     "shell.execute_reply": "2021-04-01T04:18:23.942473Z"
    }
   },
   "outputs": [
    {
     "name": "stdout",
     "output_type": "stream",
     "text": [
      "StabilizerTable: ['+X', '-Z', '-I', '-Y']\n"
     ]
    }
   ],
   "source": [
    "from qiskit.quantum_info.operators import StabilizerTable\n",
    "\n",
    "current = StabilizerTable.from_labels(['+I', '-X'])\n",
    "other =  StabilizerTable.from_labels(['+X', '-Z'])\n",
    "print(current.compose(other))"
   ]
  },
  {
   "cell_type": "code",
   "execution_count": 2,
   "id": "comic-lexington",
   "metadata": {
    "execution": {
     "iopub.execute_input": "2021-04-01T04:18:23.949854Z",
     "iopub.status.busy": "2021-04-01T04:18:23.948237Z",
     "iopub.status.idle": "2021-04-01T04:18:23.951762Z",
     "shell.execute_reply": "2021-04-01T04:18:23.951269Z"
    }
   },
   "outputs": [
    {
     "name": "stdout",
     "output_type": "stream",
     "text": [
      "StabilizerTable: ['+X', '-Z', '-I', '+Y']\n"
     ]
    }
   ],
   "source": [
    "from qiskit.quantum_info.operators import StabilizerTable\n",
    "\n",
    "current = StabilizerTable.from_labels(['+I', '-X'])\n",
    "other =  StabilizerTable.from_labels(['+X', '-Z'])\n",
    "print(current.dot(other))"
   ]
  },
  {
   "cell_type": "code",
   "execution_count": 3,
   "id": "hearing-grocery",
   "metadata": {
    "execution": {
     "iopub.execute_input": "2021-04-01T04:18:23.958735Z",
     "iopub.status.busy": "2021-04-01T04:18:23.957325Z",
     "iopub.status.idle": "2021-04-01T04:18:23.960769Z",
     "shell.execute_reply": "2021-04-01T04:18:23.960077Z"
    }
   },
   "outputs": [
    {
     "name": "stdout",
     "output_type": "stream",
     "text": [
      "StabilizerTable: ['-YI', '+ZI', '+YX', '-ZX']\n"
     ]
    }
   ],
   "source": [
    "from qiskit.quantum_info.operators import StabilizerTable\n",
    "\n",
    "current = StabilizerTable.from_labels(['+I', '-X'])\n",
    "other =  StabilizerTable.from_labels(['-Y', '+Z'])\n",
    "print(current.expand(other))"
   ]
  },
  {
   "cell_type": "code",
   "execution_count": 4,
   "id": "earlier-edwards",
   "metadata": {
    "execution": {
     "iopub.execute_input": "2021-04-01T04:18:23.970095Z",
     "iopub.status.busy": "2021-04-01T04:18:23.967096Z",
     "iopub.status.idle": "2021-04-01T04:18:23.972607Z",
     "shell.execute_reply": "2021-04-01T04:18:23.973165Z"
    }
   },
   "outputs": [
    {
     "name": "stdout",
     "output_type": "stream",
     "text": [
      "Initial Ordering\n",
      "StabilizerTable: ['-YX', '+XX', '-IY', '+ZI', '-XY', '+IZ', '+YZ', '-XI', '-XZ', '+XY', '-ZZ', '-YZ', '+XI', '+II', '+IY', '+ZY', '-IZ', '+YY', '-XX', '-II', '+XZ', '-YY', '-ZX', '-YI', '-IX', '+IX', '+ZX', '+YX', '+ZZ', '-ZY', '+YI', '-ZI']\n",
      "Lexicographically sorted\n",
      "StabilizerTable: ['+II', '-II', '-IX', '+IX', '-IY', '+IY', '+IZ', '-IZ', '-XI', '+XI', '+XX', '-XX', '-XY', '+XY', '-XZ', '+XZ', '-YI', '+YI', '-YX', '+YX', '+YY', '-YY', '+YZ', '-YZ', '+ZI', '-ZI', '-ZX', '+ZX', '+ZY', '-ZY', '-ZZ', '+ZZ']\n",
      "Weight sorted\n",
      "StabilizerTable: ['+II', '-II', '-IX', '+IX', '-IY', '+IY', '+IZ', '-IZ', '-XI', '+XI', '-YI', '+YI', '+ZI', '-ZI', '+XX', '-XX', '-XY', '+XY', '-XZ', '+XZ', '-YX', '+YX', '+YY', '-YY', '+YZ', '-YZ', '-ZX', '+ZX', '+ZY', '-ZY', '-ZZ', '+ZZ']\n"
     ]
    }
   ],
   "source": [
    "from numpy.random import shuffle\n",
    "from qiskit.quantum_info.operators import StabilizerTable\n",
    "\n",
    "# 2-qubit labels\n",
    "labels = ['+II', '+IX', '+IY', '+IZ', '+XI', '+XX', '+XY', '+XZ',\n",
    "          '+YI', '+YX', '+YY', '+YZ', '+ZI', '+ZX', '+ZY', '+ZZ',\n",
    "          '-II', '-IX', '-IY', '-IZ', '-XI', '-XX', '-XY', '-XZ',\n",
    "          '-YI', '-YX', '-YY', '-YZ', '-ZI', '-ZX', '-ZY', '-ZZ']\n",
    "# Shuffle Labels\n",
    "shuffle(labels)\n",
    "st = StabilizerTable.from_labels(labels)\n",
    "print('Initial Ordering')\n",
    "print(st)\n",
    "\n",
    "# Lexicographic Ordering\n",
    "srt = st.sort()\n",
    "print('Lexicographically sorted')\n",
    "print(srt)\n",
    "\n",
    "# Weight Ordering\n",
    "srt = st.sort(weight=True)\n",
    "print('Weight sorted')\n",
    "print(srt)"
   ]
  },
  {
   "cell_type": "code",
   "execution_count": 5,
   "id": "complicated-diameter",
   "metadata": {
    "execution": {
     "iopub.execute_input": "2021-04-01T04:18:23.979180Z",
     "iopub.status.busy": "2021-04-01T04:18:23.977946Z",
     "iopub.status.idle": "2021-04-01T04:18:23.981812Z",
     "shell.execute_reply": "2021-04-01T04:18:23.981244Z"
    }
   },
   "outputs": [
    {
     "name": "stdout",
     "output_type": "stream",
     "text": [
      "StabilizerTable: ['-IY', '+IZ', '+XY', '-XZ']\n"
     ]
    }
   ],
   "source": [
    "from qiskit.quantum_info.operators import StabilizerTable\n",
    "\n",
    "current = StabilizerTable.from_labels(['+I', '-X'])\n",
    "other =  StabilizerTable.from_labels(['-Y', '+Z'])\n",
    "print(current.tensor(other))"
   ]
  },
  {
   "cell_type": "code",
   "execution_count": 6,
   "id": "european-marketing",
   "metadata": {
    "execution": {
     "iopub.execute_input": "2021-04-01T04:18:23.987462Z",
     "iopub.status.busy": "2021-04-01T04:18:23.986838Z",
     "iopub.status.idle": "2021-04-01T04:18:23.998517Z",
     "shell.execute_reply": "2021-04-01T04:18:23.998002Z"
    }
   },
   "outputs": [
    {
     "name": "stdout",
     "output_type": "stream",
     "text": [
      "StabilizerTable: ['+X', '+I', '-I', '-X']\n"
     ]
    }
   ],
   "source": [
    "from qiskit.quantum_info.operators import StabilizerTable\n",
    "\n",
    "st = StabilizerTable.from_labels(['+X', '+I', '-I', '-X', '+X', '-X', '+I'])\n",
    "unique = st.unique()\n",
    "print(unique)"
   ]
  }
 ],
 "metadata": {
  "kernelspec": {
   "display_name": "Python 3",
   "language": "python",
   "name": "python3"
  },
  "language_info": {
   "codemirror_mode": {
    "name": "ipython",
    "version": 3
   },
   "file_extension": ".py",
   "mimetype": "text/x-python",
   "name": "python",
   "nbconvert_exporter": "python",
   "pygments_lexer": "ipython3",
   "version": "3.8.8"
  }
 },
 "nbformat": 4,
 "nbformat_minor": 5
}