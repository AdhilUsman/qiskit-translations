{
 "cells": [
  {
   "cell_type": "code",
   "execution_count": 1,
   "id": "c36fed5a",
   "metadata": {
    "execution": {
     "iopub.execute_input": "2021-06-08T16:43:27.948648Z",
     "iopub.status.busy": "2021-06-08T16:43:27.947715Z",
     "iopub.status.idle": "2021-06-08T16:43:28.507658Z",
     "shell.execute_reply": "2021-06-08T16:43:28.508092Z"
    }
   },
   "outputs": [
    {
     "name": "stdout",
     "output_type": "stream",
     "text": [
      "StabilizerTable: ['+X', '-Z', '-I', '-Y']\n"
     ]
    }
   ],
   "source": [
    "from qiskit.quantum_info.operators import StabilizerTable\n",
    "\n",
    "current = StabilizerTable.from_labels(['+I', '-X'])\n",
    "other =  StabilizerTable.from_labels(['+X', '-Z'])\n",
    "print(current.compose(other))"
   ]
  },
  {
   "cell_type": "code",
   "execution_count": 2,
   "id": "c8ab932e",
   "metadata": {
    "execution": {
     "iopub.execute_input": "2021-06-08T16:43:28.514001Z",
     "iopub.status.busy": "2021-06-08T16:43:28.512885Z",
     "iopub.status.idle": "2021-06-08T16:43:28.515774Z",
     "shell.execute_reply": "2021-06-08T16:43:28.515263Z"
    }
   },
   "outputs": [
    {
     "name": "stdout",
     "output_type": "stream",
     "text": [
      "StabilizerTable: ['+X', '-Z', '-I', '+Y']\n"
     ]
    }
   ],
   "source": [
    "from qiskit.quantum_info.operators import StabilizerTable\n",
    "\n",
    "current = StabilizerTable.from_labels(['+I', '-X'])\n",
    "other =  StabilizerTable.from_labels(['+X', '-Z'])\n",
    "print(current.dot(other))"
   ]
  },
  {
   "cell_type": "code",
   "execution_count": 3,
   "id": "4faa2642",
   "metadata": {
    "execution": {
     "iopub.execute_input": "2021-06-08T16:43:28.521168Z",
     "iopub.status.busy": "2021-06-08T16:43:28.519947Z",
     "iopub.status.idle": "2021-06-08T16:43:28.522872Z",
     "shell.execute_reply": "2021-06-08T16:43:28.522423Z"
    }
   },
   "outputs": [
    {
     "name": "stdout",
     "output_type": "stream",
     "text": [
      "StabilizerTable: ['-YI', '+YX', '+ZI', '-ZX']\n"
     ]
    }
   ],
   "source": [
    "from qiskit.quantum_info.operators import StabilizerTable\n",
    "\n",
    "current = StabilizerTable.from_labels(['+I', '-X'])\n",
    "other =  StabilizerTable.from_labels(['-Y', '+Z'])\n",
    "print(current.expand(other))"
   ]
  },
  {
   "cell_type": "code",
   "execution_count": 4,
   "id": "97cc4d0c",
   "metadata": {
    "execution": {
     "iopub.execute_input": "2021-06-08T16:43:28.530063Z",
     "iopub.status.busy": "2021-06-08T16:43:28.528803Z",
     "iopub.status.idle": "2021-06-08T16:43:28.531901Z",
     "shell.execute_reply": "2021-06-08T16:43:28.532344Z"
    }
   },
   "outputs": [
    {
     "name": "stdout",
     "output_type": "stream",
     "text": [
      "Initial Ordering\n",
      "StabilizerTable: ['+IY', '-XZ', '-IX', '+IX', '+IZ', '+ZI', '+II', '+YX', '+YZ', '+XX', '-IZ', '-XI', '-YI', '-ZX', '+ZY', '-YY', '-IY', '-ZY', '+ZX', '-YX', '-ZI', '-XY', '-ZZ', '+XI', '+YI', '-YZ', '+XY', '+XZ', '+ZZ', '-XX', '-II', '+YY']\n",
      "Lexicographically sorted\n",
      "StabilizerTable: ['+II', '-II', '-IX', '+IX', '+IY', '-IY', '+IZ', '-IZ', '-XI', '+XI', '+XX', '-XX', '-XY', '+XY', '-XZ', '+XZ', '-YI', '+YI', '+YX', '-YX', '-YY', '+YY', '+YZ', '-YZ', '+ZI', '-ZI', '-ZX', '+ZX', '+ZY', '-ZY', '-ZZ', '+ZZ']\n",
      "Weight sorted\n",
      "StabilizerTable: ['+II', '-II', '-IX', '+IX', '+IY', '-IY', '+IZ', '-IZ', '-XI', '+XI', '-YI', '+YI', '+ZI', '-ZI', '+XX', '-XX', '-XY', '+XY', '-XZ', '+XZ', '+YX', '-YX', '-YY', '+YY', '+YZ', '-YZ', '-ZX', '+ZX', '+ZY', '-ZY', '-ZZ', '+ZZ']\n"
     ]
    }
   ],
   "source": [
    "from numpy.random import shuffle\n",
    "from qiskit.quantum_info.operators import StabilizerTable\n",
    "\n",
    "# 2-qubit labels\n",
    "labels = ['+II', '+IX', '+IY', '+IZ', '+XI', '+XX', '+XY', '+XZ',\n",
    "          '+YI', '+YX', '+YY', '+YZ', '+ZI', '+ZX', '+ZY', '+ZZ',\n",
    "          '-II', '-IX', '-IY', '-IZ', '-XI', '-XX', '-XY', '-XZ',\n",
    "          '-YI', '-YX', '-YY', '-YZ', '-ZI', '-ZX', '-ZY', '-ZZ']\n",
    "# Shuffle Labels\n",
    "shuffle(labels)\n",
    "st = StabilizerTable.from_labels(labels)\n",
    "print('Initial Ordering')\n",
    "print(st)\n",
    "\n",
    "# Lexicographic Ordering\n",
    "srt = st.sort()\n",
    "print('Lexicographically sorted')\n",
    "print(srt)\n",
    "\n",
    "# Weight Ordering\n",
    "srt = st.sort(weight=True)\n",
    "print('Weight sorted')\n",
    "print(srt)"
   ]
  },
  {
   "cell_type": "code",
   "execution_count": 5,
   "id": "f33658e2",
   "metadata": {
    "execution": {
     "iopub.execute_input": "2021-06-08T16:43:28.537215Z",
     "iopub.status.busy": "2021-06-08T16:43:28.536082Z",
     "iopub.status.idle": "2021-06-08T16:43:28.538845Z",
     "shell.execute_reply": "2021-06-08T16:43:28.538395Z"
    }
   },
   "outputs": [
    {
     "name": "stdout",
     "output_type": "stream",
     "text": [
      "StabilizerTable: ['-IY', '+IZ', '+XY', '-XZ']\n"
     ]
    }
   ],
   "source": [
    "from qiskit.quantum_info.operators import StabilizerTable\n",
    "\n",
    "current = StabilizerTable.from_labels(['+I', '-X'])\n",
    "other =  StabilizerTable.from_labels(['-Y', '+Z'])\n",
    "print(current.tensor(other))"
   ]
  },
  {
   "cell_type": "code",
   "execution_count": 6,
   "id": "e2d7a3c4",
   "metadata": {
    "execution": {
     "iopub.execute_input": "2021-06-08T16:43:28.543691Z",
     "iopub.status.busy": "2021-06-08T16:43:28.542871Z",
     "iopub.status.idle": "2021-06-08T16:43:28.545582Z",
     "shell.execute_reply": "2021-06-08T16:43:28.545148Z"
    }
   },
   "outputs": [
    {
     "name": "stdout",
     "output_type": "stream",
     "text": [
      "StabilizerTable: ['+X', '+I', '-I', '-X']\n"
     ]
    }
   ],
   "source": [
    "from qiskit.quantum_info.operators import StabilizerTable\n",
    "\n",
    "st = StabilizerTable.from_labels(['+X', '+I', '-I', '-X', '+X', '-X', '+I'])\n",
    "unique = st.unique()\n",
    "print(unique)"
   ]
  }
 ],
 "metadata": {
  "kernelspec": {
   "display_name": "Python 3",
   "language": "python",
   "name": "python3"
  },
  "language_info": {
   "codemirror_mode": {
    "name": "ipython",
    "version": 3
   },
   "file_extension": ".py",
   "mimetype": "text/x-python",
   "name": "python",
   "nbconvert_exporter": "python",
   "pygments_lexer": "ipython3",
   "version": "3.8.10"
  }
 },
 "nbformat": 4,
 "nbformat_minor": 5
}