{
 "cells": [
  {
   "cell_type": "code",
   "execution_count": 1,
   "id": "a300fbdd",
   "metadata": {
    "execution": {
     "iopub.execute_input": "2021-04-21T23:47:56.052959Z",
     "iopub.status.busy": "2021-04-21T23:47:56.052430Z",
     "iopub.status.idle": "2021-04-21T23:47:56.660066Z",
     "shell.execute_reply": "2021-04-21T23:47:56.660861Z"
    }
   },
   "outputs": [
    {
     "name": "stdout",
     "output_type": "stream",
     "text": [
      "StabilizerTable: ['+X', '-Z', '-I', '-Y']\n"
     ]
    }
   ],
   "source": [
    "from qiskit.quantum_info.operators import StabilizerTable\n",
    "\n",
    "current = StabilizerTable.from_labels(['+I', '-X'])\n",
    "other =  StabilizerTable.from_labels(['+X', '-Z'])\n",
    "print(current.compose(other))"
   ]
  },
  {
   "cell_type": "code",
   "execution_count": 2,
   "id": "6b8abb64",
   "metadata": {
    "execution": {
     "iopub.execute_input": "2021-04-21T23:47:56.666974Z",
     "iopub.status.busy": "2021-04-21T23:47:56.665699Z",
     "iopub.status.idle": "2021-04-21T23:47:56.668643Z",
     "shell.execute_reply": "2021-04-21T23:47:56.668205Z"
    }
   },
   "outputs": [
    {
     "name": "stdout",
     "output_type": "stream",
     "text": [
      "StabilizerTable: ['+X', '-Z', '-I', '+Y']\n"
     ]
    }
   ],
   "source": [
    "from qiskit.quantum_info.operators import StabilizerTable\n",
    "\n",
    "current = StabilizerTable.from_labels(['+I', '-X'])\n",
    "other =  StabilizerTable.from_labels(['+X', '-Z'])\n",
    "print(current.dot(other))"
   ]
  },
  {
   "cell_type": "code",
   "execution_count": 3,
   "id": "c57a3465",
   "metadata": {
    "execution": {
     "iopub.execute_input": "2021-04-21T23:47:56.674118Z",
     "iopub.status.busy": "2021-04-21T23:47:56.672948Z",
     "iopub.status.idle": "2021-04-21T23:47:56.675665Z",
     "shell.execute_reply": "2021-04-21T23:47:56.675287Z"
    }
   },
   "outputs": [
    {
     "name": "stdout",
     "output_type": "stream",
     "text": [
      "StabilizerTable: ['-YI', '+YX', '+ZI', '-ZX']\n"
     ]
    }
   ],
   "source": [
    "from qiskit.quantum_info.operators import StabilizerTable\n",
    "\n",
    "current = StabilizerTable.from_labels(['+I', '-X'])\n",
    "other =  StabilizerTable.from_labels(['-Y', '+Z'])\n",
    "print(current.expand(other))"
   ]
  },
  {
   "cell_type": "code",
   "execution_count": 4,
   "id": "de852b1b",
   "metadata": {
    "execution": {
     "iopub.execute_input": "2021-04-21T23:47:56.681922Z",
     "iopub.status.busy": "2021-04-21T23:47:56.681132Z",
     "iopub.status.idle": "2021-04-21T23:47:56.685348Z",
     "shell.execute_reply": "2021-04-21T23:47:56.684966Z"
    }
   },
   "outputs": [
    {
     "name": "stdout",
     "output_type": "stream",
     "text": [
      "Initial Ordering\n",
      "StabilizerTable: ['+XX', '+XZ', '+YZ', '+IY', '+YI', '-YI', '-IX', '-IZ', '-ZX', '+ZZ', '-XY', '-XZ', '-ZY', '+ZY', '-XX', '-XI', '+XI', '+IZ', '-IY', '+YY', '+ZI', '-YX', '+II', '-ZZ', '-II', '-YZ', '+ZX', '+YX', '+XY', '+IX', '-ZI', '-YY']\n",
      "Lexicographically sorted\n",
      "StabilizerTable: ['+II', '-II', '-IX', '+IX', '+IY', '-IY', '-IZ', '+IZ', '-XI', '+XI', '+XX', '-XX', '-XY', '+XY', '+XZ', '-XZ', '+YI', '-YI', '-YX', '+YX', '+YY', '-YY', '+YZ', '-YZ', '+ZI', '-ZI', '-ZX', '+ZX', '-ZY', '+ZY', '+ZZ', '-ZZ']\n",
      "Weight sorted\n",
      "StabilizerTable: ['+II', '-II', '-IX', '+IX', '+IY', '-IY', '-IZ', '+IZ', '-XI', '+XI', '+YI', '-YI', '+ZI', '-ZI', '+XX', '-XX', '-XY', '+XY', '+XZ', '-XZ', '-YX', '+YX', '+YY', '-YY', '+YZ', '-YZ', '-ZX', '+ZX', '-ZY', '+ZY', '+ZZ', '-ZZ']\n"
     ]
    }
   ],
   "source": [
    "from numpy.random import shuffle\n",
    "from qiskit.quantum_info.operators import StabilizerTable\n",
    "\n",
    "# 2-qubit labels\n",
    "labels = ['+II', '+IX', '+IY', '+IZ', '+XI', '+XX', '+XY', '+XZ',\n",
    "          '+YI', '+YX', '+YY', '+YZ', '+ZI', '+ZX', '+ZY', '+ZZ',\n",
    "          '-II', '-IX', '-IY', '-IZ', '-XI', '-XX', '-XY', '-XZ',\n",
    "          '-YI', '-YX', '-YY', '-YZ', '-ZI', '-ZX', '-ZY', '-ZZ']\n",
    "# Shuffle Labels\n",
    "shuffle(labels)\n",
    "st = StabilizerTable.from_labels(labels)\n",
    "print('Initial Ordering')\n",
    "print(st)\n",
    "\n",
    "# Lexicographic Ordering\n",
    "srt = st.sort()\n",
    "print('Lexicographically sorted')\n",
    "print(srt)\n",
    "\n",
    "# Weight Ordering\n",
    "srt = st.sort(weight=True)\n",
    "print('Weight sorted')\n",
    "print(srt)"
   ]
  },
  {
   "cell_type": "code",
   "execution_count": 5,
   "id": "b8d8550b",
   "metadata": {
    "execution": {
     "iopub.execute_input": "2021-04-21T23:47:56.690491Z",
     "iopub.status.busy": "2021-04-21T23:47:56.689418Z",
     "iopub.status.idle": "2021-04-21T23:47:56.692099Z",
     "shell.execute_reply": "2021-04-21T23:47:56.691664Z"
    }
   },
   "outputs": [
    {
     "name": "stdout",
     "output_type": "stream",
     "text": [
      "StabilizerTable: ['-IY', '+IZ', '+XY', '-XZ']\n"
     ]
    }
   ],
   "source": [
    "from qiskit.quantum_info.operators import StabilizerTable\n",
    "\n",
    "current = StabilizerTable.from_labels(['+I', '-X'])\n",
    "other =  StabilizerTable.from_labels(['-Y', '+Z'])\n",
    "print(current.tensor(other))"
   ]
  },
  {
   "cell_type": "code",
   "execution_count": 6,
   "id": "e6b07198",
   "metadata": {
    "execution": {
     "iopub.execute_input": "2021-04-21T23:47:56.696911Z",
     "iopub.status.busy": "2021-04-21T23:47:56.695778Z",
     "iopub.status.idle": "2021-04-21T23:47:56.698580Z",
     "shell.execute_reply": "2021-04-21T23:47:56.698154Z"
    }
   },
   "outputs": [
    {
     "name": "stdout",
     "output_type": "stream",
     "text": [
      "StabilizerTable: ['+X', '+I', '-I', '-X']\n"
     ]
    }
   ],
   "source": [
    "from qiskit.quantum_info.operators import StabilizerTable\n",
    "\n",
    "st = StabilizerTable.from_labels(['+X', '+I', '-I', '-X', '+X', '-X', '+I'])\n",
    "unique = st.unique()\n",
    "print(unique)"
   ]
  }
 ],
 "metadata": {
  "kernelspec": {
   "display_name": "Python 3",
   "language": "python",
   "name": "python3"
  },
  "language_info": {
   "codemirror_mode": {
    "name": "ipython",
    "version": 3
   },
   "file_extension": ".py",
   "mimetype": "text/x-python",
   "name": "python",
   "nbconvert_exporter": "python",
   "pygments_lexer": "ipython3",
   "version": "3.8.9"
  }
 },
 "nbformat": 4,
 "nbformat_minor": 5
}