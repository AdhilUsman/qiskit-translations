{
 "cells": [
  {
   "cell_type": "code",
   "execution_count": 1,
   "id": "024ade90",
   "metadata": {
    "execution": {
     "iopub.execute_input": "2021-04-10T00:47:47.366908Z",
     "iopub.status.busy": "2021-04-10T00:47:47.366361Z",
     "iopub.status.idle": "2021-04-10T00:47:48.103509Z",
     "shell.execute_reply": "2021-04-10T00:47:48.102803Z"
    }
   },
   "outputs": [
    {
     "name": "stdout",
     "output_type": "stream",
     "text": [
      "StabilizerTable: ['+X', '-Z', '-I', '-Y']\n"
     ]
    }
   ],
   "source": [
    "from qiskit.quantum_info.operators import StabilizerTable\n",
    "\n",
    "current = StabilizerTable.from_labels(['+I', '-X'])\n",
    "other =  StabilizerTable.from_labels(['+X', '-Z'])\n",
    "print(current.compose(other))"
   ]
  },
  {
   "cell_type": "code",
   "execution_count": 2,
   "id": "49d8554f",
   "metadata": {
    "execution": {
     "iopub.execute_input": "2021-04-10T00:47:48.110786Z",
     "iopub.status.busy": "2021-04-10T00:47:48.109484Z",
     "iopub.status.idle": "2021-04-10T00:47:48.112646Z",
     "shell.execute_reply": "2021-04-10T00:47:48.112160Z"
    }
   },
   "outputs": [
    {
     "name": "stdout",
     "output_type": "stream",
     "text": [
      "StabilizerTable: ['+X', '-Z', '-I', '+Y']\n"
     ]
    }
   ],
   "source": [
    "from qiskit.quantum_info.operators import StabilizerTable\n",
    "\n",
    "current = StabilizerTable.from_labels(['+I', '-X'])\n",
    "other =  StabilizerTable.from_labels(['+X', '-Z'])\n",
    "print(current.dot(other))"
   ]
  },
  {
   "cell_type": "code",
   "execution_count": 3,
   "id": "64291549",
   "metadata": {
    "execution": {
     "iopub.execute_input": "2021-04-10T00:47:48.119289Z",
     "iopub.status.busy": "2021-04-10T00:47:48.117949Z",
     "iopub.status.idle": "2021-04-10T00:47:48.121239Z",
     "shell.execute_reply": "2021-04-10T00:47:48.120695Z"
    }
   },
   "outputs": [
    {
     "name": "stdout",
     "output_type": "stream",
     "text": [
      "StabilizerTable: ['-YI', '+YX', '+ZI', '-ZX']\n"
     ]
    }
   ],
   "source": [
    "from qiskit.quantum_info.operators import StabilizerTable\n",
    "\n",
    "current = StabilizerTable.from_labels(['+I', '-X'])\n",
    "other =  StabilizerTable.from_labels(['-Y', '+Z'])\n",
    "print(current.expand(other))"
   ]
  },
  {
   "cell_type": "code",
   "execution_count": 4,
   "id": "1b262214",
   "metadata": {
    "execution": {
     "iopub.execute_input": "2021-04-10T00:47:48.129840Z",
     "iopub.status.busy": "2021-04-10T00:47:48.127804Z",
     "iopub.status.idle": "2021-04-10T00:47:48.132011Z",
     "shell.execute_reply": "2021-04-10T00:47:48.132451Z"
    }
   },
   "outputs": [
    {
     "name": "stdout",
     "output_type": "stream",
     "text": [
      "Initial Ordering\n",
      "StabilizerTable: ['-IX', '+IZ', '-IZ', '-YX', '-YY', '+YY', '-II', '-ZX', '+II', '-IY', '+ZY', '+ZX', '+XY', '-ZY', '-XZ', '-XY', '+IX', '+ZZ', '-YI', '-ZI', '+XX', '-YZ', '+IY', '+YI', '-XX', '+XI', '-XI', '+YX', '+ZI', '+XZ', '+YZ', '-ZZ']\n",
      "Lexicographically sorted\n",
      "StabilizerTable: ['-II', '+II', '-IX', '+IX', '-IY', '+IY', '+IZ', '-IZ', '+XI', '-XI', '+XX', '-XX', '+XY', '-XY', '-XZ', '+XZ', '-YI', '+YI', '-YX', '+YX', '-YY', '+YY', '-YZ', '+YZ', '-ZI', '+ZI', '-ZX', '+ZX', '+ZY', '-ZY', '+ZZ', '-ZZ']\n",
      "Weight sorted\n",
      "StabilizerTable: ['-II', '+II', '-IX', '+IX', '-IY', '+IY', '+IZ', '-IZ', '+XI', '-XI', '-YI', '+YI', '-ZI', '+ZI', '+XX', '-XX', '+XY', '-XY', '-XZ', '+XZ', '-YX', '+YX', '-YY', '+YY', '-YZ', '+YZ', '-ZX', '+ZX', '+ZY', '-ZY', '+ZZ', '-ZZ']\n"
     ]
    }
   ],
   "source": [
    "from numpy.random import shuffle\n",
    "from qiskit.quantum_info.operators import StabilizerTable\n",
    "\n",
    "# 2-qubit labels\n",
    "labels = ['+II', '+IX', '+IY', '+IZ', '+XI', '+XX', '+XY', '+XZ',\n",
    "          '+YI', '+YX', '+YY', '+YZ', '+ZI', '+ZX', '+ZY', '+ZZ',\n",
    "          '-II', '-IX', '-IY', '-IZ', '-XI', '-XX', '-XY', '-XZ',\n",
    "          '-YI', '-YX', '-YY', '-YZ', '-ZI', '-ZX', '-ZY', '-ZZ']\n",
    "# Shuffle Labels\n",
    "shuffle(labels)\n",
    "st = StabilizerTable.from_labels(labels)\n",
    "print('Initial Ordering')\n",
    "print(st)\n",
    "\n",
    "# Lexicographic Ordering\n",
    "srt = st.sort()\n",
    "print('Lexicographically sorted')\n",
    "print(srt)\n",
    "\n",
    "# Weight Ordering\n",
    "srt = st.sort(weight=True)\n",
    "print('Weight sorted')\n",
    "print(srt)"
   ]
  },
  {
   "cell_type": "code",
   "execution_count": 5,
   "id": "5c7a2ca9",
   "metadata": {
    "execution": {
     "iopub.execute_input": "2021-04-10T00:47:48.138595Z",
     "iopub.status.busy": "2021-04-10T00:47:48.137292Z",
     "iopub.status.idle": "2021-04-10T00:47:48.140428Z",
     "shell.execute_reply": "2021-04-10T00:47:48.139952Z"
    }
   },
   "outputs": [
    {
     "name": "stdout",
     "output_type": "stream",
     "text": [
      "StabilizerTable: ['-IY', '+IZ', '+XY', '-XZ']\n"
     ]
    }
   ],
   "source": [
    "from qiskit.quantum_info.operators import StabilizerTable\n",
    "\n",
    "current = StabilizerTable.from_labels(['+I', '-X'])\n",
    "other =  StabilizerTable.from_labels(['-Y', '+Z'])\n",
    "print(current.tensor(other))"
   ]
  },
  {
   "cell_type": "code",
   "execution_count": 6,
   "id": "5de5f8c5",
   "metadata": {
    "execution": {
     "iopub.execute_input": "2021-04-10T00:47:48.146430Z",
     "iopub.status.busy": "2021-04-10T00:47:48.145101Z",
     "iopub.status.idle": "2021-04-10T00:47:48.148265Z",
     "shell.execute_reply": "2021-04-10T00:47:48.147777Z"
    }
   },
   "outputs": [
    {
     "name": "stdout",
     "output_type": "stream",
     "text": [
      "StabilizerTable: ['+X', '+I', '-I', '-X']\n"
     ]
    }
   ],
   "source": [
    "from qiskit.quantum_info.operators import StabilizerTable\n",
    "\n",
    "st = StabilizerTable.from_labels(['+X', '+I', '-I', '-X', '+X', '-X', '+I'])\n",
    "unique = st.unique()\n",
    "print(unique)"
   ]
  }
 ],
 "metadata": {
  "kernelspec": {
   "display_name": "Python 3",
   "language": "python",
   "name": "python3"
  },
  "language_info": {
   "codemirror_mode": {
    "name": "ipython",
    "version": 3
   },
   "file_extension": ".py",
   "mimetype": "text/x-python",
   "name": "python",
   "nbconvert_exporter": "python",
   "pygments_lexer": "ipython3",
   "version": "3.8.8"
  }
 },
 "nbformat": 4,
 "nbformat_minor": 5
}