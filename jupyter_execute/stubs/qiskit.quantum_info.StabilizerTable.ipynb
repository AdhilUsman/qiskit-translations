{
 "cells": [
  {
   "cell_type": "code",
   "execution_count": 1,
   "id": "2d6f81a4",
   "metadata": {
    "execution": {
     "iopub.execute_input": "2021-05-08T04:45:51.052741Z",
     "iopub.status.busy": "2021-05-08T04:45:51.052206Z",
     "iopub.status.idle": "2021-05-08T04:45:51.677746Z",
     "shell.execute_reply": "2021-05-08T04:45:51.678491Z"
    }
   },
   "outputs": [
    {
     "name": "stdout",
     "output_type": "stream",
     "text": [
      "StabilizerTable: ['+X', '-Z', '-I', '-Y']\n"
     ]
    }
   ],
   "source": [
    "from qiskit.quantum_info.operators import StabilizerTable\n",
    "\n",
    "current = StabilizerTable.from_labels(['+I', '-X'])\n",
    "other =  StabilizerTable.from_labels(['+X', '-Z'])\n",
    "print(current.compose(other))"
   ]
  },
  {
   "cell_type": "code",
   "execution_count": 2,
   "id": "7e4f0a41",
   "metadata": {
    "execution": {
     "iopub.execute_input": "2021-05-08T04:45:51.684422Z",
     "iopub.status.busy": "2021-05-08T04:45:51.683378Z",
     "iopub.status.idle": "2021-05-08T04:45:51.686101Z",
     "shell.execute_reply": "2021-05-08T04:45:51.685670Z"
    }
   },
   "outputs": [
    {
     "name": "stdout",
     "output_type": "stream",
     "text": [
      "StabilizerTable: ['+X', '-Z', '-I', '+Y']\n"
     ]
    }
   ],
   "source": [
    "from qiskit.quantum_info.operators import StabilizerTable\n",
    "\n",
    "current = StabilizerTable.from_labels(['+I', '-X'])\n",
    "other =  StabilizerTable.from_labels(['+X', '-Z'])\n",
    "print(current.dot(other))"
   ]
  },
  {
   "cell_type": "code",
   "execution_count": 3,
   "id": "8cdee5a8",
   "metadata": {
    "execution": {
     "iopub.execute_input": "2021-05-08T04:45:51.690978Z",
     "iopub.status.busy": "2021-05-08T04:45:51.690121Z",
     "iopub.status.idle": "2021-05-08T04:45:51.692798Z",
     "shell.execute_reply": "2021-05-08T04:45:51.692382Z"
    }
   },
   "outputs": [
    {
     "name": "stdout",
     "output_type": "stream",
     "text": [
      "StabilizerTable: ['-YI', '+YX', '+ZI', '-ZX']\n"
     ]
    }
   ],
   "source": [
    "from qiskit.quantum_info.operators import StabilizerTable\n",
    "\n",
    "current = StabilizerTable.from_labels(['+I', '-X'])\n",
    "other =  StabilizerTable.from_labels(['-Y', '+Z'])\n",
    "print(current.expand(other))"
   ]
  },
  {
   "cell_type": "code",
   "execution_count": 4,
   "id": "0bd95072",
   "metadata": {
    "execution": {
     "iopub.execute_input": "2021-05-08T04:45:51.700331Z",
     "iopub.status.busy": "2021-05-08T04:45:51.698966Z",
     "iopub.status.idle": "2021-05-08T04:45:51.702765Z",
     "shell.execute_reply": "2021-05-08T04:45:51.702257Z"
    }
   },
   "outputs": [
    {
     "name": "stdout",
     "output_type": "stream",
     "text": [
      "Initial Ordering\n",
      "StabilizerTable: ['+IY', '+XY', '-XI', '-YY', '-XX', '+XI', '+XX', '+IX', '+IZ', '+YI', '+YY', '+XZ', '-YX', '-XZ', '-YZ', '-ZY', '+ZZ', '-II', '-IY', '-IZ', '+YZ', '-IX', '+ZI', '-YI', '+ZX', '+ZY', '-XY', '-ZI', '-ZX', '+II', '+YX', '-ZZ']\n",
      "Lexicographically sorted\n",
      "StabilizerTable: ['-II', '+II', '+IX', '-IX', '+IY', '-IY', '+IZ', '-IZ', '-XI', '+XI', '-XX', '+XX', '+XY', '-XY', '+XZ', '-XZ', '+YI', '-YI', '-YX', '+YX', '-YY', '+YY', '-YZ', '+YZ', '+ZI', '-ZI', '+ZX', '-ZX', '-ZY', '+ZY', '+ZZ', '-ZZ']\n",
      "Weight sorted\n",
      "StabilizerTable: ['-II', '+II', '+IX', '-IX', '+IY', '-IY', '+IZ', '-IZ', '-XI', '+XI', '+YI', '-YI', '+ZI', '-ZI', '-XX', '+XX', '+XY', '-XY', '+XZ', '-XZ', '-YX', '+YX', '-YY', '+YY', '-YZ', '+YZ', '+ZX', '-ZX', '-ZY', '+ZY', '+ZZ', '-ZZ']\n"
     ]
    }
   ],
   "source": [
    "from numpy.random import shuffle\n",
    "from qiskit.quantum_info.operators import StabilizerTable\n",
    "\n",
    "# 2-qubit labels\n",
    "labels = ['+II', '+IX', '+IY', '+IZ', '+XI', '+XX', '+XY', '+XZ',\n",
    "          '+YI', '+YX', '+YY', '+YZ', '+ZI', '+ZX', '+ZY', '+ZZ',\n",
    "          '-II', '-IX', '-IY', '-IZ', '-XI', '-XX', '-XY', '-XZ',\n",
    "          '-YI', '-YX', '-YY', '-YZ', '-ZI', '-ZX', '-ZY', '-ZZ']\n",
    "# Shuffle Labels\n",
    "shuffle(labels)\n",
    "st = StabilizerTable.from_labels(labels)\n",
    "print('Initial Ordering')\n",
    "print(st)\n",
    "\n",
    "# Lexicographic Ordering\n",
    "srt = st.sort()\n",
    "print('Lexicographically sorted')\n",
    "print(srt)\n",
    "\n",
    "# Weight Ordering\n",
    "srt = st.sort(weight=True)\n",
    "print('Weight sorted')\n",
    "print(srt)"
   ]
  },
  {
   "cell_type": "code",
   "execution_count": 5,
   "id": "db03ac0c",
   "metadata": {
    "execution": {
     "iopub.execute_input": "2021-05-08T04:45:51.707967Z",
     "iopub.status.busy": "2021-05-08T04:45:51.706892Z",
     "iopub.status.idle": "2021-05-08T04:45:51.709524Z",
     "shell.execute_reply": "2021-05-08T04:45:51.709091Z"
    }
   },
   "outputs": [
    {
     "name": "stdout",
     "output_type": "stream",
     "text": [
      "StabilizerTable: ['-IY', '+IZ', '+XY', '-XZ']\n"
     ]
    }
   ],
   "source": [
    "from qiskit.quantum_info.operators import StabilizerTable\n",
    "\n",
    "current = StabilizerTable.from_labels(['+I', '-X'])\n",
    "other =  StabilizerTable.from_labels(['-Y', '+Z'])\n",
    "print(current.tensor(other))"
   ]
  },
  {
   "cell_type": "code",
   "execution_count": 6,
   "id": "3a0ddd6d",
   "metadata": {
    "execution": {
     "iopub.execute_input": "2021-05-08T04:45:51.714358Z",
     "iopub.status.busy": "2021-05-08T04:45:51.713512Z",
     "iopub.status.idle": "2021-05-08T04:45:51.716351Z",
     "shell.execute_reply": "2021-05-08T04:45:51.715913Z"
    }
   },
   "outputs": [
    {
     "name": "stdout",
     "output_type": "stream",
     "text": [
      "StabilizerTable: ['+X', '+I', '-I', '-X']\n"
     ]
    }
   ],
   "source": [
    "from qiskit.quantum_info.operators import StabilizerTable\n",
    "\n",
    "st = StabilizerTable.from_labels(['+X', '+I', '-I', '-X', '+X', '-X', '+I'])\n",
    "unique = st.unique()\n",
    "print(unique)"
   ]
  }
 ],
 "metadata": {
  "kernelspec": {
   "display_name": "Python 3",
   "language": "python",
   "name": "python3"
  },
  "language_info": {
   "codemirror_mode": {
    "name": "ipython",
    "version": 3
   },
   "file_extension": ".py",
   "mimetype": "text/x-python",
   "name": "python",
   "nbconvert_exporter": "python",
   "pygments_lexer": "ipython3",
   "version": "3.8.10"
  }
 },
 "nbformat": 4,
 "nbformat_minor": 5
}