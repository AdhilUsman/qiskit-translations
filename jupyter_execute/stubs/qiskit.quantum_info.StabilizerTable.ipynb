{
 "cells": [
  {
   "cell_type": "code",
   "execution_count": 1,
   "id": "1ad9749e",
   "metadata": {
    "execution": {
     "iopub.execute_input": "2021-05-15T16:48:40.065594Z",
     "iopub.status.busy": "2021-05-15T16:48:40.065010Z",
     "iopub.status.idle": "2021-05-15T16:48:40.818825Z",
     "shell.execute_reply": "2021-05-15T16:48:40.818245Z"
    }
   },
   "outputs": [
    {
     "name": "stdout",
     "output_type": "stream",
     "text": [
      "StabilizerTable: ['+X', '-Z', '-I', '-Y']\n"
     ]
    }
   ],
   "source": [
    "from qiskit.quantum_info.operators import StabilizerTable\n",
    "\n",
    "current = StabilizerTable.from_labels(['+I', '-X'])\n",
    "other =  StabilizerTable.from_labels(['+X', '-Z'])\n",
    "print(current.compose(other))"
   ]
  },
  {
   "cell_type": "code",
   "execution_count": 2,
   "id": "49607247",
   "metadata": {
    "execution": {
     "iopub.execute_input": "2021-05-15T16:48:40.825794Z",
     "iopub.status.busy": "2021-05-15T16:48:40.824235Z",
     "iopub.status.idle": "2021-05-15T16:48:40.827782Z",
     "shell.execute_reply": "2021-05-15T16:48:40.827245Z"
    }
   },
   "outputs": [
    {
     "name": "stdout",
     "output_type": "stream",
     "text": [
      "StabilizerTable: ['+X', '-Z', '-I', '+Y']\n"
     ]
    }
   ],
   "source": [
    "from qiskit.quantum_info.operators import StabilizerTable\n",
    "\n",
    "current = StabilizerTable.from_labels(['+I', '-X'])\n",
    "other =  StabilizerTable.from_labels(['+X', '-Z'])\n",
    "print(current.dot(other))"
   ]
  },
  {
   "cell_type": "code",
   "execution_count": 3,
   "id": "7a677596",
   "metadata": {
    "execution": {
     "iopub.execute_input": "2021-05-15T16:48:40.834303Z",
     "iopub.status.busy": "2021-05-15T16:48:40.832841Z",
     "iopub.status.idle": "2021-05-15T16:48:40.836219Z",
     "shell.execute_reply": "2021-05-15T16:48:40.835687Z"
    }
   },
   "outputs": [
    {
     "name": "stdout",
     "output_type": "stream",
     "text": [
      "StabilizerTable: ['-YI', '+YX', '+ZI', '-ZX']\n"
     ]
    }
   ],
   "source": [
    "from qiskit.quantum_info.operators import StabilizerTable\n",
    "\n",
    "current = StabilizerTable.from_labels(['+I', '-X'])\n",
    "other =  StabilizerTable.from_labels(['-Y', '+Z'])\n",
    "print(current.expand(other))"
   ]
  },
  {
   "cell_type": "code",
   "execution_count": 4,
   "id": "ec69db60",
   "metadata": {
    "execution": {
     "iopub.execute_input": "2021-05-15T16:48:40.842910Z",
     "iopub.status.busy": "2021-05-15T16:48:40.841348Z",
     "iopub.status.idle": "2021-05-15T16:48:40.846923Z",
     "shell.execute_reply": "2021-05-15T16:48:40.847370Z"
    }
   },
   "outputs": [
    {
     "name": "stdout",
     "output_type": "stream",
     "text": [
      "Initial Ordering\n",
      "StabilizerTable: ['-YX', '+XX', '+IY', '+YX', '+XY', '-IY', '+ZZ', '-IX', '-YY', '-YI', '+XI', '+YI', '-XI', '-XY', '-II', '+II', '-YZ', '-IZ', '+IZ', '+ZI', '-XZ', '-ZX', '+ZY', '+IX', '-ZZ', '+YZ', '+ZX', '+YY', '+XZ', '-XX', '-ZI', '-ZY']\n",
      "Lexicographically sorted\n",
      "StabilizerTable: ['-II', '+II', '-IX', '+IX', '+IY', '-IY', '-IZ', '+IZ', '+XI', '-XI', '+XX', '-XX', '+XY', '-XY', '-XZ', '+XZ', '-YI', '+YI', '-YX', '+YX', '-YY', '+YY', '-YZ', '+YZ', '+ZI', '-ZI', '-ZX', '+ZX', '+ZY', '-ZY', '+ZZ', '-ZZ']\n",
      "Weight sorted\n",
      "StabilizerTable: ['-II', '+II', '-IX', '+IX', '+IY', '-IY', '-IZ', '+IZ', '+XI', '-XI', '-YI', '+YI', '+ZI', '-ZI', '+XX', '-XX', '+XY', '-XY', '-XZ', '+XZ', '-YX', '+YX', '-YY', '+YY', '-YZ', '+YZ', '-ZX', '+ZX', '+ZY', '-ZY', '+ZZ', '-ZZ']\n"
     ]
    }
   ],
   "source": [
    "from numpy.random import shuffle\n",
    "from qiskit.quantum_info.operators import StabilizerTable\n",
    "\n",
    "# 2-qubit labels\n",
    "labels = ['+II', '+IX', '+IY', '+IZ', '+XI', '+XX', '+XY', '+XZ',\n",
    "          '+YI', '+YX', '+YY', '+YZ', '+ZI', '+ZX', '+ZY', '+ZZ',\n",
    "          '-II', '-IX', '-IY', '-IZ', '-XI', '-XX', '-XY', '-XZ',\n",
    "          '-YI', '-YX', '-YY', '-YZ', '-ZI', '-ZX', '-ZY', '-ZZ']\n",
    "# Shuffle Labels\n",
    "shuffle(labels)\n",
    "st = StabilizerTable.from_labels(labels)\n",
    "print('Initial Ordering')\n",
    "print(st)\n",
    "\n",
    "# Lexicographic Ordering\n",
    "srt = st.sort()\n",
    "print('Lexicographically sorted')\n",
    "print(srt)\n",
    "\n",
    "# Weight Ordering\n",
    "srt = st.sort(weight=True)\n",
    "print('Weight sorted')\n",
    "print(srt)"
   ]
  },
  {
   "cell_type": "code",
   "execution_count": 5,
   "id": "d64fb9d0",
   "metadata": {
    "execution": {
     "iopub.execute_input": "2021-05-15T16:48:40.853585Z",
     "iopub.status.busy": "2021-05-15T16:48:40.852125Z",
     "iopub.status.idle": "2021-05-15T16:48:40.855632Z",
     "shell.execute_reply": "2021-05-15T16:48:40.855104Z"
    }
   },
   "outputs": [
    {
     "name": "stdout",
     "output_type": "stream",
     "text": [
      "StabilizerTable: ['-IY', '+IZ', '+XY', '-XZ']\n"
     ]
    }
   ],
   "source": [
    "from qiskit.quantum_info.operators import StabilizerTable\n",
    "\n",
    "current = StabilizerTable.from_labels(['+I', '-X'])\n",
    "other =  StabilizerTable.from_labels(['-Y', '+Z'])\n",
    "print(current.tensor(other))"
   ]
  },
  {
   "cell_type": "code",
   "execution_count": 6,
   "id": "c85fa068",
   "metadata": {
    "execution": {
     "iopub.execute_input": "2021-05-15T16:48:40.861777Z",
     "iopub.status.busy": "2021-05-15T16:48:40.860369Z",
     "iopub.status.idle": "2021-05-15T16:48:40.863644Z",
     "shell.execute_reply": "2021-05-15T16:48:40.863131Z"
    }
   },
   "outputs": [
    {
     "name": "stdout",
     "output_type": "stream",
     "text": [
      "StabilizerTable: ['+X', '+I', '-I', '-X']\n"
     ]
    }
   ],
   "source": [
    "from qiskit.quantum_info.operators import StabilizerTable\n",
    "\n",
    "st = StabilizerTable.from_labels(['+X', '+I', '-I', '-X', '+X', '-X', '+I'])\n",
    "unique = st.unique()\n",
    "print(unique)"
   ]
  }
 ],
 "metadata": {
  "kernelspec": {
   "display_name": "Python 3",
   "language": "python",
   "name": "python3"
  },
  "language_info": {
   "codemirror_mode": {
    "name": "ipython",
    "version": 3
   },
   "file_extension": ".py",
   "mimetype": "text/x-python",
   "name": "python",
   "nbconvert_exporter": "python",
   "pygments_lexer": "ipython3",
   "version": "3.8.10"
  }
 },
 "nbformat": 4,
 "nbformat_minor": 5
}