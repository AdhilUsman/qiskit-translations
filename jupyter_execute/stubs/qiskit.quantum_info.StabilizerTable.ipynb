{
 "cells": [
  {
   "cell_type": "code",
   "execution_count": 1,
   "id": "abeaf042",
   "metadata": {
    "execution": {
     "iopub.execute_input": "2021-05-08T15:08:46.263932Z",
     "iopub.status.busy": "2021-05-08T15:08:46.263350Z",
     "iopub.status.idle": "2021-05-08T15:08:46.971272Z",
     "shell.execute_reply": "2021-05-08T15:08:46.971728Z"
    }
   },
   "outputs": [
    {
     "name": "stdout",
     "output_type": "stream",
     "text": [
      "StabilizerTable: ['+X', '-Z', '-I', '-Y']\n"
     ]
    }
   ],
   "source": [
    "from qiskit.quantum_info.operators import StabilizerTable\n",
    "\n",
    "current = StabilizerTable.from_labels(['+I', '-X'])\n",
    "other =  StabilizerTable.from_labels(['+X', '-Z'])\n",
    "print(current.compose(other))"
   ]
  },
  {
   "cell_type": "code",
   "execution_count": 2,
   "id": "d6665880",
   "metadata": {
    "execution": {
     "iopub.execute_input": "2021-05-08T15:08:46.978236Z",
     "iopub.status.busy": "2021-05-08T15:08:46.976836Z",
     "iopub.status.idle": "2021-05-08T15:08:46.979991Z",
     "shell.execute_reply": "2021-05-08T15:08:46.979530Z"
    }
   },
   "outputs": [
    {
     "name": "stdout",
     "output_type": "stream",
     "text": [
      "StabilizerTable: ['+X', '-Z', '-I', '+Y']\n"
     ]
    }
   ],
   "source": [
    "from qiskit.quantum_info.operators import StabilizerTable\n",
    "\n",
    "current = StabilizerTable.from_labels(['+I', '-X'])\n",
    "other =  StabilizerTable.from_labels(['+X', '-Z'])\n",
    "print(current.dot(other))"
   ]
  },
  {
   "cell_type": "code",
   "execution_count": 3,
   "id": "2c4b2a47",
   "metadata": {
    "execution": {
     "iopub.execute_input": "2021-05-08T15:08:46.994726Z",
     "iopub.status.busy": "2021-05-08T15:08:46.993108Z",
     "iopub.status.idle": "2021-05-08T15:08:46.996599Z",
     "shell.execute_reply": "2021-05-08T15:08:46.996063Z"
    }
   },
   "outputs": [
    {
     "name": "stdout",
     "output_type": "stream",
     "text": [
      "StabilizerTable: ['-YI', '+YX', '+ZI', '-ZX']\n"
     ]
    }
   ],
   "source": [
    "from qiskit.quantum_info.operators import StabilizerTable\n",
    "\n",
    "current = StabilizerTable.from_labels(['+I', '-X'])\n",
    "other =  StabilizerTable.from_labels(['-Y', '+Z'])\n",
    "print(current.expand(other))"
   ]
  },
  {
   "cell_type": "code",
   "execution_count": 4,
   "id": "236d8e00",
   "metadata": {
    "execution": {
     "iopub.execute_input": "2021-05-08T15:08:47.006789Z",
     "iopub.status.busy": "2021-05-08T15:08:47.005239Z",
     "iopub.status.idle": "2021-05-08T15:08:47.008659Z",
     "shell.execute_reply": "2021-05-08T15:08:47.008158Z"
    }
   },
   "outputs": [
    {
     "name": "stdout",
     "output_type": "stream",
     "text": [
      "Initial Ordering\n",
      "StabilizerTable: ['-IZ', '+XZ', '-XX', '-ZY', '-ZX', '-YX', '+YX', '+XY', '-ZI', '-YY', '+XI', '+ZI', '-XZ', '-II', '+ZY', '-IX', '+ZX', '-YZ', '+IX', '-YI', '+YY', '-XY', '+IZ', '+XX', '+II', '+YZ', '-XI', '+ZZ', '-ZZ', '+YI', '+IY', '-IY']\n",
      "Lexicographically sorted\n",
      "StabilizerTable: ['-II', '+II', '-IX', '+IX', '+IY', '-IY', '-IZ', '+IZ', '+XI', '-XI', '-XX', '+XX', '+XY', '-XY', '+XZ', '-XZ', '-YI', '+YI', '-YX', '+YX', '-YY', '+YY', '-YZ', '+YZ', '-ZI', '+ZI', '-ZX', '+ZX', '-ZY', '+ZY', '+ZZ', '-ZZ']\n",
      "Weight sorted\n",
      "StabilizerTable: ['-II', '+II', '-IX', '+IX', '+IY', '-IY', '-IZ', '+IZ', '+XI', '-XI', '-YI', '+YI', '-ZI', '+ZI', '-XX', '+XX', '+XY', '-XY', '+XZ', '-XZ', '-YX', '+YX', '-YY', '+YY', '-YZ', '+YZ', '-ZX', '+ZX', '-ZY', '+ZY', '+ZZ', '-ZZ']\n"
     ]
    }
   ],
   "source": [
    "from numpy.random import shuffle\n",
    "from qiskit.quantum_info.operators import StabilizerTable\n",
    "\n",
    "# 2-qubit labels\n",
    "labels = ['+II', '+IX', '+IY', '+IZ', '+XI', '+XX', '+XY', '+XZ',\n",
    "          '+YI', '+YX', '+YY', '+YZ', '+ZI', '+ZX', '+ZY', '+ZZ',\n",
    "          '-II', '-IX', '-IY', '-IZ', '-XI', '-XX', '-XY', '-XZ',\n",
    "          '-YI', '-YX', '-YY', '-YZ', '-ZI', '-ZX', '-ZY', '-ZZ']\n",
    "# Shuffle Labels\n",
    "shuffle(labels)\n",
    "st = StabilizerTable.from_labels(labels)\n",
    "print('Initial Ordering')\n",
    "print(st)\n",
    "\n",
    "# Lexicographic Ordering\n",
    "srt = st.sort()\n",
    "print('Lexicographically sorted')\n",
    "print(srt)\n",
    "\n",
    "# Weight Ordering\n",
    "srt = st.sort(weight=True)\n",
    "print('Weight sorted')\n",
    "print(srt)"
   ]
  },
  {
   "cell_type": "code",
   "execution_count": 5,
   "id": "4623e12c",
   "metadata": {
    "execution": {
     "iopub.execute_input": "2021-05-08T15:08:47.015153Z",
     "iopub.status.busy": "2021-05-08T15:08:47.013737Z",
     "iopub.status.idle": "2021-05-08T15:08:47.017017Z",
     "shell.execute_reply": "2021-05-08T15:08:47.016502Z"
    }
   },
   "outputs": [
    {
     "name": "stdout",
     "output_type": "stream",
     "text": [
      "StabilizerTable: ['-IY', '+IZ', '+XY', '-XZ']\n"
     ]
    }
   ],
   "source": [
    "from qiskit.quantum_info.operators import StabilizerTable\n",
    "\n",
    "current = StabilizerTable.from_labels(['+I', '-X'])\n",
    "other =  StabilizerTable.from_labels(['-Y', '+Z'])\n",
    "print(current.tensor(other))"
   ]
  },
  {
   "cell_type": "code",
   "execution_count": 6,
   "id": "ef2d663b",
   "metadata": {
    "execution": {
     "iopub.execute_input": "2021-05-08T15:08:47.023462Z",
     "iopub.status.busy": "2021-05-08T15:08:47.021937Z",
     "iopub.status.idle": "2021-05-08T15:08:47.025258Z",
     "shell.execute_reply": "2021-05-08T15:08:47.024778Z"
    }
   },
   "outputs": [
    {
     "name": "stdout",
     "output_type": "stream",
     "text": [
      "StabilizerTable: ['+X', '+I', '-I', '-X']\n"
     ]
    }
   ],
   "source": [
    "from qiskit.quantum_info.operators import StabilizerTable\n",
    "\n",
    "st = StabilizerTable.from_labels(['+X', '+I', '-I', '-X', '+X', '-X', '+I'])\n",
    "unique = st.unique()\n",
    "print(unique)"
   ]
  }
 ],
 "metadata": {
  "kernelspec": {
   "display_name": "Python 3",
   "language": "python",
   "name": "python3"
  },
  "language_info": {
   "codemirror_mode": {
    "name": "ipython",
    "version": 3
   },
   "file_extension": ".py",
   "mimetype": "text/x-python",
   "name": "python",
   "nbconvert_exporter": "python",
   "pygments_lexer": "ipython3",
   "version": "3.8.10"
  }
 },
 "nbformat": 4,
 "nbformat_minor": 5
}