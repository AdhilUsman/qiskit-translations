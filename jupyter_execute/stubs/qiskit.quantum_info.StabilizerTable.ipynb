{
 "cells": [
  {
   "cell_type": "code",
   "execution_count": 1,
   "id": "5fc13d63",
   "metadata": {
    "execution": {
     "iopub.execute_input": "2021-06-09T05:50:15.633627Z",
     "iopub.status.busy": "2021-06-09T05:50:15.633108Z",
     "iopub.status.idle": "2021-06-09T05:50:16.193887Z",
     "shell.execute_reply": "2021-06-09T05:50:16.194363Z"
    }
   },
   "outputs": [
    {
     "name": "stdout",
     "output_type": "stream",
     "text": [
      "StabilizerTable: ['+X', '-Z', '-I', '-Y']\n"
     ]
    }
   ],
   "source": [
    "from qiskit.quantum_info.operators import StabilizerTable\n",
    "\n",
    "current = StabilizerTable.from_labels(['+I', '-X'])\n",
    "other =  StabilizerTable.from_labels(['+X', '-Z'])\n",
    "print(current.compose(other))"
   ]
  },
  {
   "cell_type": "code",
   "execution_count": 2,
   "id": "b0503498",
   "metadata": {
    "execution": {
     "iopub.execute_input": "2021-06-09T05:50:16.200413Z",
     "iopub.status.busy": "2021-06-09T05:50:16.199000Z",
     "iopub.status.idle": "2021-06-09T05:50:16.201910Z",
     "shell.execute_reply": "2021-06-09T05:50:16.201507Z"
    }
   },
   "outputs": [
    {
     "name": "stdout",
     "output_type": "stream",
     "text": [
      "StabilizerTable: ['+X', '-Z', '-I', '+Y']\n"
     ]
    }
   ],
   "source": [
    "from qiskit.quantum_info.operators import StabilizerTable\n",
    "\n",
    "current = StabilizerTable.from_labels(['+I', '-X'])\n",
    "other =  StabilizerTable.from_labels(['+X', '-Z'])\n",
    "print(current.dot(other))"
   ]
  },
  {
   "cell_type": "code",
   "execution_count": 3,
   "id": "bbc1564c",
   "metadata": {
    "execution": {
     "iopub.execute_input": "2021-06-09T05:50:16.206735Z",
     "iopub.status.busy": "2021-06-09T05:50:16.205693Z",
     "iopub.status.idle": "2021-06-09T05:50:16.208324Z",
     "shell.execute_reply": "2021-06-09T05:50:16.207905Z"
    }
   },
   "outputs": [
    {
     "name": "stdout",
     "output_type": "stream",
     "text": [
      "StabilizerTable: ['-YI', '+YX', '+ZI', '-ZX']\n"
     ]
    }
   ],
   "source": [
    "from qiskit.quantum_info.operators import StabilizerTable\n",
    "\n",
    "current = StabilizerTable.from_labels(['+I', '-X'])\n",
    "other =  StabilizerTable.from_labels(['-Y', '+Z'])\n",
    "print(current.expand(other))"
   ]
  },
  {
   "cell_type": "code",
   "execution_count": 4,
   "id": "cf1f7c48",
   "metadata": {
    "execution": {
     "iopub.execute_input": "2021-06-09T05:50:16.213930Z",
     "iopub.status.busy": "2021-06-09T05:50:16.213123Z",
     "iopub.status.idle": "2021-06-09T05:50:16.217329Z",
     "shell.execute_reply": "2021-06-09T05:50:16.216865Z"
    }
   },
   "outputs": [
    {
     "name": "stdout",
     "output_type": "stream",
     "text": [
      "Initial Ordering\n",
      "StabilizerTable: ['+II', '-ZX', '-XY', '+XX', '+XZ', '-IZ', '+YI', '+YZ', '-YY', '+ZI', '+ZY', '-YZ', '-YX', '+YY', '+IY', '-IY', '-ZY', '-II', '+YX', '-XZ', '+XY', '+ZZ', '+IZ', '-ZI', '-YI', '+XI', '-XX', '+IX', '+ZX', '-XI', '-ZZ', '-IX']\n",
      "Lexicographically sorted\n",
      "StabilizerTable: ['+II', '-II', '+IX', '-IX', '+IY', '-IY', '-IZ', '+IZ', '+XI', '-XI', '+XX', '-XX', '-XY', '+XY', '+XZ', '-XZ', '+YI', '-YI', '-YX', '+YX', '-YY', '+YY', '+YZ', '-YZ', '+ZI', '-ZI', '-ZX', '+ZX', '+ZY', '-ZY', '+ZZ', '-ZZ']\n",
      "Weight sorted\n",
      "StabilizerTable: ['+II', '-II', '+IX', '-IX', '+IY', '-IY', '-IZ', '+IZ', '+XI', '-XI', '+YI', '-YI', '+ZI', '-ZI', '+XX', '-XX', '-XY', '+XY', '+XZ', '-XZ', '-YX', '+YX', '-YY', '+YY', '+YZ', '-YZ', '-ZX', '+ZX', '+ZY', '-ZY', '+ZZ', '-ZZ']\n"
     ]
    }
   ],
   "source": [
    "from numpy.random import shuffle\n",
    "from qiskit.quantum_info.operators import StabilizerTable\n",
    "\n",
    "# 2-qubit labels\n",
    "labels = ['+II', '+IX', '+IY', '+IZ', '+XI', '+XX', '+XY', '+XZ',\n",
    "          '+YI', '+YX', '+YY', '+YZ', '+ZI', '+ZX', '+ZY', '+ZZ',\n",
    "          '-II', '-IX', '-IY', '-IZ', '-XI', '-XX', '-XY', '-XZ',\n",
    "          '-YI', '-YX', '-YY', '-YZ', '-ZI', '-ZX', '-ZY', '-ZZ']\n",
    "# Shuffle Labels\n",
    "shuffle(labels)\n",
    "st = StabilizerTable.from_labels(labels)\n",
    "print('Initial Ordering')\n",
    "print(st)\n",
    "\n",
    "# Lexicographic Ordering\n",
    "srt = st.sort()\n",
    "print('Lexicographically sorted')\n",
    "print(srt)\n",
    "\n",
    "# Weight Ordering\n",
    "srt = st.sort(weight=True)\n",
    "print('Weight sorted')\n",
    "print(srt)"
   ]
  },
  {
   "cell_type": "code",
   "execution_count": 5,
   "id": "20b30c41",
   "metadata": {
    "execution": {
     "iopub.execute_input": "2021-06-09T05:50:16.222223Z",
     "iopub.status.busy": "2021-06-09T05:50:16.221192Z",
     "iopub.status.idle": "2021-06-09T05:50:16.223794Z",
     "shell.execute_reply": "2021-06-09T05:50:16.223389Z"
    }
   },
   "outputs": [
    {
     "name": "stdout",
     "output_type": "stream",
     "text": [
      "StabilizerTable: ['-IY', '+IZ', '+XY', '-XZ']\n"
     ]
    }
   ],
   "source": [
    "from qiskit.quantum_info.operators import StabilizerTable\n",
    "\n",
    "current = StabilizerTable.from_labels(['+I', '-X'])\n",
    "other =  StabilizerTable.from_labels(['-Y', '+Z'])\n",
    "print(current.tensor(other))"
   ]
  },
  {
   "cell_type": "code",
   "execution_count": 6,
   "id": "b7c58967",
   "metadata": {
    "execution": {
     "iopub.execute_input": "2021-06-09T05:50:16.227870Z",
     "iopub.status.busy": "2021-06-09T05:50:16.227384Z",
     "iopub.status.idle": "2021-06-09T05:50:16.229709Z",
     "shell.execute_reply": "2021-06-09T05:50:16.230089Z"
    }
   },
   "outputs": [
    {
     "name": "stdout",
     "output_type": "stream",
     "text": [
      "StabilizerTable: ['+X', '+I', '-I', '-X']\n"
     ]
    }
   ],
   "source": [
    "from qiskit.quantum_info.operators import StabilizerTable\n",
    "\n",
    "st = StabilizerTable.from_labels(['+X', '+I', '-I', '-X', '+X', '-X', '+I'])\n",
    "unique = st.unique()\n",
    "print(unique)"
   ]
  }
 ],
 "metadata": {
  "kernelspec": {
   "display_name": "Python 3",
   "language": "python",
   "name": "python3"
  },
  "language_info": {
   "codemirror_mode": {
    "name": "ipython",
    "version": 3
   },
   "file_extension": ".py",
   "mimetype": "text/x-python",
   "name": "python",
   "nbconvert_exporter": "python",
   "pygments_lexer": "ipython3",
   "version": "3.8.10"
  }
 },
 "nbformat": 4,
 "nbformat_minor": 5
}