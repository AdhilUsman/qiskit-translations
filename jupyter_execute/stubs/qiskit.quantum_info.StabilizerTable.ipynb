{
 "cells": [
  {
   "cell_type": "code",
   "execution_count": 1,
   "id": "52194ccf",
   "metadata": {
    "execution": {
     "iopub.execute_input": "2021-05-03T18:34:18.264900Z",
     "iopub.status.busy": "2021-05-03T18:34:18.264340Z",
     "iopub.status.idle": "2021-05-03T18:34:19.016079Z",
     "shell.execute_reply": "2021-05-03T18:34:19.016574Z"
    }
   },
   "outputs": [
    {
     "name": "stdout",
     "output_type": "stream",
     "text": [
      "StabilizerTable: ['+X', '-Z', '-I', '-Y']\n"
     ]
    }
   ],
   "source": [
    "from qiskit.quantum_info.operators import StabilizerTable\n",
    "\n",
    "current = StabilizerTable.from_labels(['+I', '-X'])\n",
    "other =  StabilizerTable.from_labels(['+X', '-Z'])\n",
    "print(current.compose(other))"
   ]
  },
  {
   "cell_type": "code",
   "execution_count": 2,
   "id": "93e8821e",
   "metadata": {
    "execution": {
     "iopub.execute_input": "2021-05-03T18:34:19.023676Z",
     "iopub.status.busy": "2021-05-03T18:34:19.022215Z",
     "iopub.status.idle": "2021-05-03T18:34:19.025560Z",
     "shell.execute_reply": "2021-05-03T18:34:19.025001Z"
    }
   },
   "outputs": [
    {
     "name": "stdout",
     "output_type": "stream",
     "text": [
      "StabilizerTable: ['+X', '-Z', '-I', '+Y']\n"
     ]
    }
   ],
   "source": [
    "from qiskit.quantum_info.operators import StabilizerTable\n",
    "\n",
    "current = StabilizerTable.from_labels(['+I', '-X'])\n",
    "other =  StabilizerTable.from_labels(['+X', '-Z'])\n",
    "print(current.dot(other))"
   ]
  },
  {
   "cell_type": "code",
   "execution_count": 3,
   "id": "4e599893",
   "metadata": {
    "execution": {
     "iopub.execute_input": "2021-05-03T18:34:19.032844Z",
     "iopub.status.busy": "2021-05-03T18:34:19.031264Z",
     "iopub.status.idle": "2021-05-03T18:34:19.034826Z",
     "shell.execute_reply": "2021-05-03T18:34:19.034287Z"
    }
   },
   "outputs": [
    {
     "name": "stdout",
     "output_type": "stream",
     "text": [
      "StabilizerTable: ['-YI', '+YX', '+ZI', '-ZX']\n"
     ]
    }
   ],
   "source": [
    "from qiskit.quantum_info.operators import StabilizerTable\n",
    "\n",
    "current = StabilizerTable.from_labels(['+I', '-X'])\n",
    "other =  StabilizerTable.from_labels(['-Y', '+Z'])\n",
    "print(current.expand(other))"
   ]
  },
  {
   "cell_type": "code",
   "execution_count": 4,
   "id": "59a2ef4e",
   "metadata": {
    "execution": {
     "iopub.execute_input": "2021-05-03T18:34:19.043978Z",
     "iopub.status.busy": "2021-05-03T18:34:19.040851Z",
     "iopub.status.idle": "2021-05-03T18:34:19.046109Z",
     "shell.execute_reply": "2021-05-03T18:34:19.046545Z"
    }
   },
   "outputs": [
    {
     "name": "stdout",
     "output_type": "stream",
     "text": [
      "Initial Ordering\n",
      "StabilizerTable: ['-YX', '-YZ', '+YZ', '-XI', '-II', '-YY', '-ZI', '-XX', '+ZZ', '-YI', '+YX', '-ZZ', '+YY', '+XZ', '+ZI', '+IX', '+IY', '+XX', '-IX', '+II', '-ZX', '+XY', '+ZX', '+YI', '-IZ', '+IZ', '+ZY', '-XY', '-ZY', '-IY', '-XZ', '+XI']\n",
      "Lexicographically sorted\n",
      "StabilizerTable: ['-II', '+II', '+IX', '-IX', '+IY', '-IY', '-IZ', '+IZ', '-XI', '+XI', '-XX', '+XX', '+XY', '-XY', '+XZ', '-XZ', '-YI', '+YI', '-YX', '+YX', '-YY', '+YY', '-YZ', '+YZ', '-ZI', '+ZI', '-ZX', '+ZX', '+ZY', '-ZY', '+ZZ', '-ZZ']\n",
      "Weight sorted\n",
      "StabilizerTable: ['-II', '+II', '+IX', '-IX', '+IY', '-IY', '-IZ', '+IZ', '-XI', '+XI', '-YI', '+YI', '-ZI', '+ZI', '-XX', '+XX', '+XY', '-XY', '+XZ', '-XZ', '-YX', '+YX', '-YY', '+YY', '-YZ', '+YZ', '-ZX', '+ZX', '+ZY', '-ZY', '+ZZ', '-ZZ']\n"
     ]
    }
   ],
   "source": [
    "from numpy.random import shuffle\n",
    "from qiskit.quantum_info.operators import StabilizerTable\n",
    "\n",
    "# 2-qubit labels\n",
    "labels = ['+II', '+IX', '+IY', '+IZ', '+XI', '+XX', '+XY', '+XZ',\n",
    "          '+YI', '+YX', '+YY', '+YZ', '+ZI', '+ZX', '+ZY', '+ZZ',\n",
    "          '-II', '-IX', '-IY', '-IZ', '-XI', '-XX', '-XY', '-XZ',\n",
    "          '-YI', '-YX', '-YY', '-YZ', '-ZI', '-ZX', '-ZY', '-ZZ']\n",
    "# Shuffle Labels\n",
    "shuffle(labels)\n",
    "st = StabilizerTable.from_labels(labels)\n",
    "print('Initial Ordering')\n",
    "print(st)\n",
    "\n",
    "# Lexicographic Ordering\n",
    "srt = st.sort()\n",
    "print('Lexicographically sorted')\n",
    "print(srt)\n",
    "\n",
    "# Weight Ordering\n",
    "srt = st.sort(weight=True)\n",
    "print('Weight sorted')\n",
    "print(srt)"
   ]
  },
  {
   "cell_type": "code",
   "execution_count": 5,
   "id": "5f741ca1",
   "metadata": {
    "execution": {
     "iopub.execute_input": "2021-05-03T18:34:19.053112Z",
     "iopub.status.busy": "2021-05-03T18:34:19.051591Z",
     "iopub.status.idle": "2021-05-03T18:34:19.055169Z",
     "shell.execute_reply": "2021-05-03T18:34:19.054686Z"
    }
   },
   "outputs": [
    {
     "name": "stdout",
     "output_type": "stream",
     "text": [
      "StabilizerTable: ['-IY', '+IZ', '+XY', '-XZ']\n"
     ]
    }
   ],
   "source": [
    "from qiskit.quantum_info.operators import StabilizerTable\n",
    "\n",
    "current = StabilizerTable.from_labels(['+I', '-X'])\n",
    "other =  StabilizerTable.from_labels(['-Y', '+Z'])\n",
    "print(current.tensor(other))"
   ]
  },
  {
   "cell_type": "code",
   "execution_count": 6,
   "id": "e2230148",
   "metadata": {
    "execution": {
     "iopub.execute_input": "2021-05-03T18:34:19.062193Z",
     "iopub.status.busy": "2021-05-03T18:34:19.060571Z",
     "iopub.status.idle": "2021-05-03T18:34:19.064070Z",
     "shell.execute_reply": "2021-05-03T18:34:19.063579Z"
    }
   },
   "outputs": [
    {
     "name": "stdout",
     "output_type": "stream",
     "text": [
      "StabilizerTable: ['+X', '+I', '-I', '-X']\n"
     ]
    }
   ],
   "source": [
    "from qiskit.quantum_info.operators import StabilizerTable\n",
    "\n",
    "st = StabilizerTable.from_labels(['+X', '+I', '-I', '-X', '+X', '-X', '+I'])\n",
    "unique = st.unique()\n",
    "print(unique)"
   ]
  }
 ],
 "metadata": {
  "kernelspec": {
   "display_name": "Python 3",
   "language": "python",
   "name": "python3"
  },
  "language_info": {
   "codemirror_mode": {
    "name": "ipython",
    "version": 3
   },
   "file_extension": ".py",
   "mimetype": "text/x-python",
   "name": "python",
   "nbconvert_exporter": "python",
   "pygments_lexer": "ipython3",
   "version": "3.8.9"
  }
 },
 "nbformat": 4,
 "nbformat_minor": 5
}