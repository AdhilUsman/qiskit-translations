{
 "cells": [
  {
   "cell_type": "code",
   "execution_count": 1,
   "id": "77c92d03",
   "metadata": {
    "execution": {
     "iopub.execute_input": "2021-06-21T04:12:19.944020Z",
     "iopub.status.busy": "2021-06-21T04:12:19.943275Z",
     "iopub.status.idle": "2021-06-21T04:12:20.801596Z",
     "shell.execute_reply": "2021-06-21T04:12:20.802074Z"
    }
   },
   "outputs": [
    {
     "name": "stdout",
     "output_type": "stream",
     "text": [
      "StabilizerTable: ['+X', '-Z', '-I', '-Y']\n"
     ]
    }
   ],
   "source": [
    "from qiskit.quantum_info.operators import StabilizerTable\n",
    "\n",
    "current = StabilizerTable.from_labels(['+I', '-X'])\n",
    "other =  StabilizerTable.from_labels(['+X', '-Z'])\n",
    "print(current.compose(other))"
   ]
  },
  {
   "cell_type": "code",
   "execution_count": 2,
   "id": "5a1991f0",
   "metadata": {
    "execution": {
     "iopub.execute_input": "2021-06-21T04:12:20.808220Z",
     "iopub.status.busy": "2021-06-21T04:12:20.807584Z",
     "iopub.status.idle": "2021-06-21T04:12:20.811852Z",
     "shell.execute_reply": "2021-06-21T04:12:20.810754Z"
    }
   },
   "outputs": [
    {
     "name": "stdout",
     "output_type": "stream",
     "text": [
      "StabilizerTable: ['+X', '-Z', '-I', '+Y']\n"
     ]
    }
   ],
   "source": [
    "from qiskit.quantum_info.operators import StabilizerTable\n",
    "\n",
    "current = StabilizerTable.from_labels(['+I', '-X'])\n",
    "other =  StabilizerTable.from_labels(['+X', '-Z'])\n",
    "print(current.dot(other))"
   ]
  },
  {
   "cell_type": "code",
   "execution_count": 3,
   "id": "264f76e2",
   "metadata": {
    "execution": {
     "iopub.execute_input": "2021-06-21T04:12:20.818788Z",
     "iopub.status.busy": "2021-06-21T04:12:20.817136Z",
     "iopub.status.idle": "2021-06-21T04:12:20.821538Z",
     "shell.execute_reply": "2021-06-21T04:12:20.820849Z"
    }
   },
   "outputs": [
    {
     "name": "stdout",
     "output_type": "stream",
     "text": [
      "StabilizerTable: ['-YI', '+YX', '+ZI', '-ZX']\n"
     ]
    }
   ],
   "source": [
    "from qiskit.quantum_info.operators import StabilizerTable\n",
    "\n",
    "current = StabilizerTable.from_labels(['+I', '-X'])\n",
    "other =  StabilizerTable.from_labels(['-Y', '+Z'])\n",
    "print(current.expand(other))"
   ]
  },
  {
   "cell_type": "code",
   "execution_count": 4,
   "id": "05f3e8c0",
   "metadata": {
    "execution": {
     "iopub.execute_input": "2021-06-21T04:12:20.830896Z",
     "iopub.status.busy": "2021-06-21T04:12:20.829023Z",
     "iopub.status.idle": "2021-06-21T04:12:20.834534Z",
     "shell.execute_reply": "2021-06-21T04:12:20.835266Z"
    }
   },
   "outputs": [
    {
     "name": "stdout",
     "output_type": "stream",
     "text": [
      "Initial Ordering\n",
      "StabilizerTable: ['+II', '-XY', '+YI', '-ZX', '-II', '+ZZ', '-YX', '+XY', '+IY', '-IY', '-XI', '+XI', '-IX', '+ZX', '-XX', '-ZZ', '-YZ', '-ZI', '+ZI', '+XZ', '-ZY', '+IZ', '-IZ', '+YY', '+YX', '-YI', '+IX', '-XZ', '+XX', '-YY', '+YZ', '+ZY']\n",
      "Lexicographically sorted\n",
      "StabilizerTable: ['+II', '-II', '-IX', '+IX', '+IY', '-IY', '+IZ', '-IZ', '-XI', '+XI', '-XX', '+XX', '-XY', '+XY', '+XZ', '-XZ', '+YI', '-YI', '-YX', '+YX', '+YY', '-YY', '-YZ', '+YZ', '-ZI', '+ZI', '-ZX', '+ZX', '-ZY', '+ZY', '+ZZ', '-ZZ']\n",
      "Weight sorted\n",
      "StabilizerTable: ['+II', '-II', '-IX', '+IX', '+IY', '-IY', '+IZ', '-IZ', '-XI', '+XI', '+YI', '-YI', '-ZI', '+ZI', '-XX', '+XX', '-XY', '+XY', '+XZ', '-XZ', '-YX', '+YX', '+YY', '-YY', '-YZ', '+YZ', '-ZX', '+ZX', '-ZY', '+ZY', '+ZZ', '-ZZ']\n"
     ]
    }
   ],
   "source": [
    "from numpy.random import shuffle\n",
    "from qiskit.quantum_info.operators import StabilizerTable\n",
    "\n",
    "# 2-qubit labels\n",
    "labels = ['+II', '+IX', '+IY', '+IZ', '+XI', '+XX', '+XY', '+XZ',\n",
    "          '+YI', '+YX', '+YY', '+YZ', '+ZI', '+ZX', '+ZY', '+ZZ',\n",
    "          '-II', '-IX', '-IY', '-IZ', '-XI', '-XX', '-XY', '-XZ',\n",
    "          '-YI', '-YX', '-YY', '-YZ', '-ZI', '-ZX', '-ZY', '-ZZ']\n",
    "# Shuffle Labels\n",
    "shuffle(labels)\n",
    "st = StabilizerTable.from_labels(labels)\n",
    "print('Initial Ordering')\n",
    "print(st)\n",
    "\n",
    "# Lexicographic Ordering\n",
    "srt = st.sort()\n",
    "print('Lexicographically sorted')\n",
    "print(srt)\n",
    "\n",
    "# Weight Ordering\n",
    "srt = st.sort(weight=True)\n",
    "print('Weight sorted')\n",
    "print(srt)"
   ]
  },
  {
   "cell_type": "code",
   "execution_count": 5,
   "id": "aa61b872",
   "metadata": {
    "execution": {
     "iopub.execute_input": "2021-06-21T04:12:20.841344Z",
     "iopub.status.busy": "2021-06-21T04:12:20.840664Z",
     "iopub.status.idle": "2021-06-21T04:12:20.845456Z",
     "shell.execute_reply": "2021-06-21T04:12:20.845919Z"
    }
   },
   "outputs": [
    {
     "name": "stdout",
     "output_type": "stream",
     "text": [
      "StabilizerTable: ['-IY', '+IZ', '+XY', '-XZ']\n"
     ]
    }
   ],
   "source": [
    "from qiskit.quantum_info.operators import StabilizerTable\n",
    "\n",
    "current = StabilizerTable.from_labels(['+I', '-X'])\n",
    "other =  StabilizerTable.from_labels(['-Y', '+Z'])\n",
    "print(current.tensor(other))"
   ]
  },
  {
   "cell_type": "code",
   "execution_count": 6,
   "id": "e411646a",
   "metadata": {
    "execution": {
     "iopub.execute_input": "2021-06-21T04:12:20.853082Z",
     "iopub.status.busy": "2021-06-21T04:12:20.851363Z",
     "iopub.status.idle": "2021-06-21T04:12:20.855430Z",
     "shell.execute_reply": "2021-06-21T04:12:20.854813Z"
    }
   },
   "outputs": [
    {
     "name": "stdout",
     "output_type": "stream",
     "text": [
      "StabilizerTable: ['+X', '+I', '-I', '-X']\n"
     ]
    }
   ],
   "source": [
    "from qiskit.quantum_info.operators import StabilizerTable\n",
    "\n",
    "st = StabilizerTable.from_labels(['+X', '+I', '-I', '-X', '+X', '-X', '+I'])\n",
    "unique = st.unique()\n",
    "print(unique)"
   ]
  }
 ],
 "metadata": {
  "kernelspec": {
   "display_name": "Python 3",
   "language": "python",
   "name": "python3"
  },
  "language_info": {
   "codemirror_mode": {
    "name": "ipython",
    "version": 3
   },
   "file_extension": ".py",
   "mimetype": "text/x-python",
   "name": "python",
   "nbconvert_exporter": "python",
   "pygments_lexer": "ipython3",
   "version": "3.8.10"
  }
 },
 "nbformat": 4,
 "nbformat_minor": 5
}