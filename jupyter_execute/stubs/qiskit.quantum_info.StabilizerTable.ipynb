{
 "cells": [
  {
   "cell_type": "code",
   "execution_count": 1,
   "id": "0e9f54e6",
   "metadata": {
    "execution": {
     "iopub.execute_input": "2021-06-15T14:44:16.923501Z",
     "iopub.status.busy": "2021-06-15T14:44:16.922928Z",
     "iopub.status.idle": "2021-06-15T14:44:17.641610Z",
     "shell.execute_reply": "2021-06-15T14:44:17.641037Z"
    }
   },
   "outputs": [
    {
     "name": "stdout",
     "output_type": "stream",
     "text": [
      "StabilizerTable: ['+X', '-Z', '-I', '-Y']\n"
     ]
    }
   ],
   "source": [
    "from qiskit.quantum_info.operators import StabilizerTable\n",
    "\n",
    "current = StabilizerTable.from_labels(['+I', '-X'])\n",
    "other =  StabilizerTable.from_labels(['+X', '-Z'])\n",
    "print(current.compose(other))"
   ]
  },
  {
   "cell_type": "code",
   "execution_count": 2,
   "id": "5c2f45bd",
   "metadata": {
    "execution": {
     "iopub.execute_input": "2021-06-15T14:44:17.646880Z",
     "iopub.status.busy": "2021-06-15T14:44:17.646003Z",
     "iopub.status.idle": "2021-06-15T14:44:17.650834Z",
     "shell.execute_reply": "2021-06-15T14:44:17.650273Z"
    }
   },
   "outputs": [
    {
     "name": "stdout",
     "output_type": "stream",
     "text": [
      "StabilizerTable: ['+X', '-Z', '-I', '+Y']\n"
     ]
    }
   ],
   "source": [
    "from qiskit.quantum_info.operators import StabilizerTable\n",
    "\n",
    "current = StabilizerTable.from_labels(['+I', '-X'])\n",
    "other =  StabilizerTable.from_labels(['+X', '-Z'])\n",
    "print(current.dot(other))"
   ]
  },
  {
   "cell_type": "code",
   "execution_count": 3,
   "id": "95a59e01",
   "metadata": {
    "execution": {
     "iopub.execute_input": "2021-06-15T14:44:17.655738Z",
     "iopub.status.busy": "2021-06-15T14:44:17.655167Z",
     "iopub.status.idle": "2021-06-15T14:44:17.659437Z",
     "shell.execute_reply": "2021-06-15T14:44:17.658991Z"
    }
   },
   "outputs": [
    {
     "name": "stdout",
     "output_type": "stream",
     "text": [
      "StabilizerTable: ['-YI', '+YX', '+ZI', '-ZX']\n"
     ]
    }
   ],
   "source": [
    "from qiskit.quantum_info.operators import StabilizerTable\n",
    "\n",
    "current = StabilizerTable.from_labels(['+I', '-X'])\n",
    "other =  StabilizerTable.from_labels(['-Y', '+Z'])\n",
    "print(current.expand(other))"
   ]
  },
  {
   "cell_type": "code",
   "execution_count": 4,
   "id": "a6606027",
   "metadata": {
    "execution": {
     "iopub.execute_input": "2021-06-15T14:44:17.667209Z",
     "iopub.status.busy": "2021-06-15T14:44:17.665092Z",
     "iopub.status.idle": "2021-06-15T14:44:17.671364Z",
     "shell.execute_reply": "2021-06-15T14:44:17.670895Z"
    }
   },
   "outputs": [
    {
     "name": "stdout",
     "output_type": "stream",
     "text": [
      "Initial Ordering\n",
      "StabilizerTable: ['-XX', '+ZZ', '-ZI', '-XZ', '-YY', '-YI', '+XY', '+YX', '+ZX', '-IZ', '+XX', '-ZZ', '-YZ', '+YY', '+XZ', '-YX', '-IY', '-XY', '+YZ', '-ZY', '+ZY', '+IY', '+IX', '-ZX', '-II', '+II', '+YI', '-IX', '+ZI', '+XI', '-XI', '+IZ']\n",
      "Lexicographically sorted\n",
      "StabilizerTable: ['-II', '+II', '+IX', '-IX', '-IY', '+IY', '-IZ', '+IZ', '+XI', '-XI', '-XX', '+XX', '+XY', '-XY', '-XZ', '+XZ', '-YI', '+YI', '+YX', '-YX', '-YY', '+YY', '-YZ', '+YZ', '-ZI', '+ZI', '+ZX', '-ZX', '-ZY', '+ZY', '+ZZ', '-ZZ']\n",
      "Weight sorted\n",
      "StabilizerTable: ['-II', '+II', '+IX', '-IX', '-IY', '+IY', '-IZ', '+IZ', '+XI', '-XI', '-YI', '+YI', '-ZI', '+ZI', '-XX', '+XX', '+XY', '-XY', '-XZ', '+XZ', '+YX', '-YX', '-YY', '+YY', '-YZ', '+YZ', '+ZX', '-ZX', '-ZY', '+ZY', '+ZZ', '-ZZ']\n"
     ]
    }
   ],
   "source": [
    "from numpy.random import shuffle\n",
    "from qiskit.quantum_info.operators import StabilizerTable\n",
    "\n",
    "# 2-qubit labels\n",
    "labels = ['+II', '+IX', '+IY', '+IZ', '+XI', '+XX', '+XY', '+XZ',\n",
    "          '+YI', '+YX', '+YY', '+YZ', '+ZI', '+ZX', '+ZY', '+ZZ',\n",
    "          '-II', '-IX', '-IY', '-IZ', '-XI', '-XX', '-XY', '-XZ',\n",
    "          '-YI', '-YX', '-YY', '-YZ', '-ZI', '-ZX', '-ZY', '-ZZ']\n",
    "# Shuffle Labels\n",
    "shuffle(labels)\n",
    "st = StabilizerTable.from_labels(labels)\n",
    "print('Initial Ordering')\n",
    "print(st)\n",
    "\n",
    "# Lexicographic Ordering\n",
    "srt = st.sort()\n",
    "print('Lexicographically sorted')\n",
    "print(srt)\n",
    "\n",
    "# Weight Ordering\n",
    "srt = st.sort(weight=True)\n",
    "print('Weight sorted')\n",
    "print(srt)"
   ]
  },
  {
   "cell_type": "code",
   "execution_count": 5,
   "id": "90ccb35f",
   "metadata": {
    "execution": {
     "iopub.execute_input": "2021-06-15T14:44:17.675862Z",
     "iopub.status.busy": "2021-06-15T14:44:17.675324Z",
     "iopub.status.idle": "2021-06-15T14:44:17.680289Z",
     "shell.execute_reply": "2021-06-15T14:44:17.679797Z"
    }
   },
   "outputs": [
    {
     "name": "stdout",
     "output_type": "stream",
     "text": [
      "StabilizerTable: ['-IY', '+IZ', '+XY', '-XZ']\n"
     ]
    }
   ],
   "source": [
    "from qiskit.quantum_info.operators import StabilizerTable\n",
    "\n",
    "current = StabilizerTable.from_labels(['+I', '-X'])\n",
    "other =  StabilizerTable.from_labels(['-Y', '+Z'])\n",
    "print(current.tensor(other))"
   ]
  },
  {
   "cell_type": "code",
   "execution_count": 6,
   "id": "a0e1d21b",
   "metadata": {
    "execution": {
     "iopub.execute_input": "2021-06-15T14:44:17.684867Z",
     "iopub.status.busy": "2021-06-15T14:44:17.683712Z",
     "iopub.status.idle": "2021-06-15T14:44:17.688552Z",
     "shell.execute_reply": "2021-06-15T14:44:17.688979Z"
    }
   },
   "outputs": [
    {
     "name": "stdout",
     "output_type": "stream",
     "text": [
      "StabilizerTable: ['+X', '+I', '-I', '-X']\n"
     ]
    }
   ],
   "source": [
    "from qiskit.quantum_info.operators import StabilizerTable\n",
    "\n",
    "st = StabilizerTable.from_labels(['+X', '+I', '-I', '-X', '+X', '-X', '+I'])\n",
    "unique = st.unique()\n",
    "print(unique)"
   ]
  }
 ],
 "metadata": {
  "kernelspec": {
   "display_name": "Python 3",
   "language": "python",
   "name": "python3"
  },
  "language_info": {
   "codemirror_mode": {
    "name": "ipython",
    "version": 3
   },
   "file_extension": ".py",
   "mimetype": "text/x-python",
   "name": "python",
   "nbconvert_exporter": "python",
   "pygments_lexer": "ipython3",
   "version": "3.8.10"
  }
 },
 "nbformat": 4,
 "nbformat_minor": 5
}