{
 "cells": [
  {
   "cell_type": "code",
   "execution_count": 1,
   "id": "b12e8da4",
   "metadata": {
    "execution": {
     "iopub.execute_input": "2021-05-03T19:07:15.628926Z",
     "iopub.status.busy": "2021-05-03T19:07:15.628357Z",
     "iopub.status.idle": "2021-05-03T19:07:16.384953Z",
     "shell.execute_reply": "2021-05-03T19:07:16.385430Z"
    }
   },
   "outputs": [
    {
     "name": "stdout",
     "output_type": "stream",
     "text": [
      "StabilizerTable: ['+X', '-Z', '-I', '-Y']\n"
     ]
    }
   ],
   "source": [
    "from qiskit.quantum_info.operators import StabilizerTable\n",
    "\n",
    "current = StabilizerTable.from_labels(['+I', '-X'])\n",
    "other =  StabilizerTable.from_labels(['+X', '-Z'])\n",
    "print(current.compose(other))"
   ]
  },
  {
   "cell_type": "code",
   "execution_count": 2,
   "id": "c195859b",
   "metadata": {
    "execution": {
     "iopub.execute_input": "2021-05-03T19:07:16.393155Z",
     "iopub.status.busy": "2021-05-03T19:07:16.391656Z",
     "iopub.status.idle": "2021-05-03T19:07:16.395235Z",
     "shell.execute_reply": "2021-05-03T19:07:16.394680Z"
    }
   },
   "outputs": [
    {
     "name": "stdout",
     "output_type": "stream",
     "text": [
      "StabilizerTable: ['+X', '-Z', '-I', '+Y']\n"
     ]
    }
   ],
   "source": [
    "from qiskit.quantum_info.operators import StabilizerTable\n",
    "\n",
    "current = StabilizerTable.from_labels(['+I', '-X'])\n",
    "other =  StabilizerTable.from_labels(['+X', '-Z'])\n",
    "print(current.dot(other))"
   ]
  },
  {
   "cell_type": "code",
   "execution_count": 3,
   "id": "058952bf",
   "metadata": {
    "execution": {
     "iopub.execute_input": "2021-05-03T19:07:16.405384Z",
     "iopub.status.busy": "2021-05-03T19:07:16.400446Z",
     "iopub.status.idle": "2021-05-03T19:07:16.407229Z",
     "shell.execute_reply": "2021-05-03T19:07:16.405962Z"
    }
   },
   "outputs": [
    {
     "name": "stdout",
     "output_type": "stream",
     "text": [
      "StabilizerTable: ['-YI', '+YX', '+ZI', '-ZX']\n"
     ]
    }
   ],
   "source": [
    "from qiskit.quantum_info.operators import StabilizerTable\n",
    "\n",
    "current = StabilizerTable.from_labels(['+I', '-X'])\n",
    "other =  StabilizerTable.from_labels(['-Y', '+Z'])\n",
    "print(current.expand(other))"
   ]
  },
  {
   "cell_type": "code",
   "execution_count": 4,
   "id": "a91511e5",
   "metadata": {
    "execution": {
     "iopub.execute_input": "2021-05-03T19:07:16.417204Z",
     "iopub.status.busy": "2021-05-03T19:07:16.414547Z",
     "iopub.status.idle": "2021-05-03T19:07:16.419709Z",
     "shell.execute_reply": "2021-05-03T19:07:16.419130Z"
    }
   },
   "outputs": [
    {
     "name": "stdout",
     "output_type": "stream",
     "text": [
      "Initial Ordering\n",
      "StabilizerTable: ['-YX', '-ZZ', '-XX', '-XZ', '-YZ', '+XY', '+YZ', '+IX', '+II', '+YX', '-IY', '-ZY', '-XI', '+IY', '-IX', '-ZI', '-II', '+ZY', '+ZI', '-ZX', '-XY', '+YI', '-YI', '+YY', '+ZZ', '+ZX', '+XI', '+IZ', '-YY', '+XZ', '-IZ', '+XX']\n",
      "Lexicographically sorted\n",
      "StabilizerTable: ['+II', '-II', '+IX', '-IX', '-IY', '+IY', '+IZ', '-IZ', '-XI', '+XI', '-XX', '+XX', '+XY', '-XY', '-XZ', '+XZ', '+YI', '-YI', '-YX', '+YX', '+YY', '-YY', '-YZ', '+YZ', '-ZI', '+ZI', '-ZX', '+ZX', '-ZY', '+ZY', '-ZZ', '+ZZ']\n",
      "Weight sorted\n",
      "StabilizerTable: ['+II', '-II', '+IX', '-IX', '-IY', '+IY', '+IZ', '-IZ', '-XI', '+XI', '+YI', '-YI', '-ZI', '+ZI', '-XX', '+XX', '+XY', '-XY', '-XZ', '+XZ', '-YX', '+YX', '+YY', '-YY', '-YZ', '+YZ', '-ZX', '+ZX', '-ZY', '+ZY', '-ZZ', '+ZZ']\n"
     ]
    }
   ],
   "source": [
    "from numpy.random import shuffle\n",
    "from qiskit.quantum_info.operators import StabilizerTable\n",
    "\n",
    "# 2-qubit labels\n",
    "labels = ['+II', '+IX', '+IY', '+IZ', '+XI', '+XX', '+XY', '+XZ',\n",
    "          '+YI', '+YX', '+YY', '+YZ', '+ZI', '+ZX', '+ZY', '+ZZ',\n",
    "          '-II', '-IX', '-IY', '-IZ', '-XI', '-XX', '-XY', '-XZ',\n",
    "          '-YI', '-YX', '-YY', '-YZ', '-ZI', '-ZX', '-ZY', '-ZZ']\n",
    "# Shuffle Labels\n",
    "shuffle(labels)\n",
    "st = StabilizerTable.from_labels(labels)\n",
    "print('Initial Ordering')\n",
    "print(st)\n",
    "\n",
    "# Lexicographic Ordering\n",
    "srt = st.sort()\n",
    "print('Lexicographically sorted')\n",
    "print(srt)\n",
    "\n",
    "# Weight Ordering\n",
    "srt = st.sort(weight=True)\n",
    "print('Weight sorted')\n",
    "print(srt)"
   ]
  },
  {
   "cell_type": "code",
   "execution_count": 5,
   "id": "ef94c451",
   "metadata": {
    "execution": {
     "iopub.execute_input": "2021-05-03T19:07:16.426341Z",
     "iopub.status.busy": "2021-05-03T19:07:16.424828Z",
     "iopub.status.idle": "2021-05-03T19:07:16.428579Z",
     "shell.execute_reply": "2021-05-03T19:07:16.427778Z"
    }
   },
   "outputs": [
    {
     "name": "stdout",
     "output_type": "stream",
     "text": [
      "StabilizerTable: ['-IY', '+IZ', '+XY', '-XZ']\n"
     ]
    }
   ],
   "source": [
    "from qiskit.quantum_info.operators import StabilizerTable\n",
    "\n",
    "current = StabilizerTable.from_labels(['+I', '-X'])\n",
    "other =  StabilizerTable.from_labels(['-Y', '+Z'])\n",
    "print(current.tensor(other))"
   ]
  },
  {
   "cell_type": "code",
   "execution_count": 6,
   "id": "f9ff3ce7",
   "metadata": {
    "execution": {
     "iopub.execute_input": "2021-05-03T19:07:16.435756Z",
     "iopub.status.busy": "2021-05-03T19:07:16.434297Z",
     "iopub.status.idle": "2021-05-03T19:07:16.437979Z",
     "shell.execute_reply": "2021-05-03T19:07:16.437383Z"
    }
   },
   "outputs": [
    {
     "name": "stdout",
     "output_type": "stream",
     "text": [
      "StabilizerTable: ['+X', '+I', '-I', '-X']\n"
     ]
    }
   ],
   "source": [
    "from qiskit.quantum_info.operators import StabilizerTable\n",
    "\n",
    "st = StabilizerTable.from_labels(['+X', '+I', '-I', '-X', '+X', '-X', '+I'])\n",
    "unique = st.unique()\n",
    "print(unique)"
   ]
  }
 ],
 "metadata": {
  "kernelspec": {
   "display_name": "Python 3",
   "language": "python",
   "name": "python3"
  },
  "language_info": {
   "codemirror_mode": {
    "name": "ipython",
    "version": 3
   },
   "file_extension": ".py",
   "mimetype": "text/x-python",
   "name": "python",
   "nbconvert_exporter": "python",
   "pygments_lexer": "ipython3",
   "version": "3.8.9"
  }
 },
 "nbformat": 4,
 "nbformat_minor": 5
}