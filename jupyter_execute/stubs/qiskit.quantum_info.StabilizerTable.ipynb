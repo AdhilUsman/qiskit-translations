{
 "cells": [
  {
   "cell_type": "code",
   "execution_count": 1,
   "id": "9eb6be2e",
   "metadata": {
    "execution": {
     "iopub.execute_input": "2021-06-15T19:20:37.974665Z",
     "iopub.status.busy": "2021-06-15T19:20:37.974224Z",
     "iopub.status.idle": "2021-06-15T19:20:38.557615Z",
     "shell.execute_reply": "2021-06-15T19:20:38.558018Z"
    }
   },
   "outputs": [
    {
     "name": "stdout",
     "output_type": "stream",
     "text": [
      "StabilizerTable: ['+X', '-Z', '-I', '-Y']\n"
     ]
    }
   ],
   "source": [
    "from qiskit.quantum_info.operators import StabilizerTable\n",
    "\n",
    "current = StabilizerTable.from_labels(['+I', '-X'])\n",
    "other =  StabilizerTable.from_labels(['+X', '-Z'])\n",
    "print(current.compose(other))"
   ]
  },
  {
   "cell_type": "code",
   "execution_count": 2,
   "id": "42f21ede",
   "metadata": {
    "execution": {
     "iopub.execute_input": "2021-06-15T19:20:38.563013Z",
     "iopub.status.busy": "2021-06-15T19:20:38.562490Z",
     "iopub.status.idle": "2021-06-15T19:20:38.565946Z",
     "shell.execute_reply": "2021-06-15T19:20:38.565536Z"
    }
   },
   "outputs": [
    {
     "name": "stdout",
     "output_type": "stream",
     "text": [
      "StabilizerTable: ['+X', '-Z', '-I', '+Y']\n"
     ]
    }
   ],
   "source": [
    "from qiskit.quantum_info.operators import StabilizerTable\n",
    "\n",
    "current = StabilizerTable.from_labels(['+I', '-X'])\n",
    "other =  StabilizerTable.from_labels(['+X', '-Z'])\n",
    "print(current.dot(other))"
   ]
  },
  {
   "cell_type": "code",
   "execution_count": 3,
   "id": "eb0465ce",
   "metadata": {
    "execution": {
     "iopub.execute_input": "2021-06-15T19:20:38.570513Z",
     "iopub.status.busy": "2021-06-15T19:20:38.569714Z",
     "iopub.status.idle": "2021-06-15T19:20:38.572297Z",
     "shell.execute_reply": "2021-06-15T19:20:38.571912Z"
    }
   },
   "outputs": [
    {
     "name": "stdout",
     "output_type": "stream",
     "text": [
      "StabilizerTable: ['-YI', '+YX', '+ZI', '-ZX']\n"
     ]
    }
   ],
   "source": [
    "from qiskit.quantum_info.operators import StabilizerTable\n",
    "\n",
    "current = StabilizerTable.from_labels(['+I', '-X'])\n",
    "other =  StabilizerTable.from_labels(['-Y', '+Z'])\n",
    "print(current.expand(other))"
   ]
  },
  {
   "cell_type": "code",
   "execution_count": 4,
   "id": "c26fdde4",
   "metadata": {
    "execution": {
     "iopub.execute_input": "2021-06-15T19:20:38.578097Z",
     "iopub.status.busy": "2021-06-15T19:20:38.576930Z",
     "iopub.status.idle": "2021-06-15T19:20:38.581775Z",
     "shell.execute_reply": "2021-06-15T19:20:38.582120Z"
    }
   },
   "outputs": [
    {
     "name": "stdout",
     "output_type": "stream",
     "text": [
      "Initial Ordering\n",
      "StabilizerTable: ['+II', '-YX', '-XI', '+YI', '-XY', '-IX', '-YZ', '+ZI', '-XX', '-YI', '+XZ', '+IY', '+ZX', '+XY', '-IZ', '+YX', '-ZX', '-II', '+IX', '+IZ', '-XZ', '+XI', '+ZY', '-ZY', '+YZ', '+YY', '-YY', '-ZI', '+XX', '-IY', '+ZZ', '-ZZ']\n",
      "Lexicographically sorted\n",
      "StabilizerTable: ['+II', '-II', '-IX', '+IX', '+IY', '-IY', '-IZ', '+IZ', '-XI', '+XI', '-XX', '+XX', '-XY', '+XY', '+XZ', '-XZ', '+YI', '-YI', '-YX', '+YX', '+YY', '-YY', '-YZ', '+YZ', '+ZI', '-ZI', '+ZX', '-ZX', '+ZY', '-ZY', '+ZZ', '-ZZ']\n",
      "Weight sorted\n",
      "StabilizerTable: ['+II', '-II', '-IX', '+IX', '+IY', '-IY', '-IZ', '+IZ', '-XI', '+XI', '+YI', '-YI', '+ZI', '-ZI', '-XX', '+XX', '-XY', '+XY', '+XZ', '-XZ', '-YX', '+YX', '+YY', '-YY', '-YZ', '+YZ', '+ZX', '-ZX', '+ZY', '-ZY', '+ZZ', '-ZZ']\n"
     ]
    }
   ],
   "source": [
    "from numpy.random import shuffle\n",
    "from qiskit.quantum_info.operators import StabilizerTable\n",
    "\n",
    "# 2-qubit labels\n",
    "labels = ['+II', '+IX', '+IY', '+IZ', '+XI', '+XX', '+XY', '+XZ',\n",
    "          '+YI', '+YX', '+YY', '+YZ', '+ZI', '+ZX', '+ZY', '+ZZ',\n",
    "          '-II', '-IX', '-IY', '-IZ', '-XI', '-XX', '-XY', '-XZ',\n",
    "          '-YI', '-YX', '-YY', '-YZ', '-ZI', '-ZX', '-ZY', '-ZZ']\n",
    "# Shuffle Labels\n",
    "shuffle(labels)\n",
    "st = StabilizerTable.from_labels(labels)\n",
    "print('Initial Ordering')\n",
    "print(st)\n",
    "\n",
    "# Lexicographic Ordering\n",
    "srt = st.sort()\n",
    "print('Lexicographically sorted')\n",
    "print(srt)\n",
    "\n",
    "# Weight Ordering\n",
    "srt = st.sort(weight=True)\n",
    "print('Weight sorted')\n",
    "print(srt)"
   ]
  },
  {
   "cell_type": "code",
   "execution_count": 5,
   "id": "7b2d9a57",
   "metadata": {
    "execution": {
     "iopub.execute_input": "2021-06-15T19:20:38.586636Z",
     "iopub.status.busy": "2021-06-15T19:20:38.585841Z",
     "iopub.status.idle": "2021-06-15T19:20:38.588286Z",
     "shell.execute_reply": "2021-06-15T19:20:38.587901Z"
    }
   },
   "outputs": [
    {
     "name": "stdout",
     "output_type": "stream",
     "text": [
      "StabilizerTable: ['-IY', '+IZ', '+XY', '-XZ']\n"
     ]
    }
   ],
   "source": [
    "from qiskit.quantum_info.operators import StabilizerTable\n",
    "\n",
    "current = StabilizerTable.from_labels(['+I', '-X'])\n",
    "other =  StabilizerTable.from_labels(['-Y', '+Z'])\n",
    "print(current.tensor(other))"
   ]
  },
  {
   "cell_type": "code",
   "execution_count": 6,
   "id": "cbbed8fd",
   "metadata": {
    "execution": {
     "iopub.execute_input": "2021-06-15T19:20:38.592827Z",
     "iopub.status.busy": "2021-06-15T19:20:38.592002Z",
     "iopub.status.idle": "2021-06-15T19:20:38.594604Z",
     "shell.execute_reply": "2021-06-15T19:20:38.594208Z"
    }
   },
   "outputs": [
    {
     "name": "stdout",
     "output_type": "stream",
     "text": [
      "StabilizerTable: ['+X', '+I', '-I', '-X']\n"
     ]
    }
   ],
   "source": [
    "from qiskit.quantum_info.operators import StabilizerTable\n",
    "\n",
    "st = StabilizerTable.from_labels(['+X', '+I', '-I', '-X', '+X', '-X', '+I'])\n",
    "unique = st.unique()\n",
    "print(unique)"
   ]
  }
 ],
 "metadata": {
  "kernelspec": {
   "display_name": "Python 3",
   "language": "python",
   "name": "python3"
  },
  "language_info": {
   "codemirror_mode": {
    "name": "ipython",
    "version": 3
   },
   "file_extension": ".py",
   "mimetype": "text/x-python",
   "name": "python",
   "nbconvert_exporter": "python",
   "pygments_lexer": "ipython3",
   "version": "3.8.10"
  }
 },
 "nbformat": 4,
 "nbformat_minor": 5
}