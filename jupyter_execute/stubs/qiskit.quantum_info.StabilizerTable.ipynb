{
 "cells": [
  {
   "cell_type": "code",
   "execution_count": 1,
   "id": "e5ad2c06",
   "metadata": {
    "execution": {
     "iopub.execute_input": "2021-06-08T11:28:03.057119Z",
     "iopub.status.busy": "2021-06-08T11:28:03.056222Z",
     "iopub.status.idle": "2021-06-08T11:28:03.707702Z",
     "shell.execute_reply": "2021-06-08T11:28:03.707106Z"
    }
   },
   "outputs": [
    {
     "name": "stdout",
     "output_type": "stream",
     "text": [
      "StabilizerTable: ['+X', '-Z', '-I', '-Y']\n"
     ]
    }
   ],
   "source": [
    "from qiskit.quantum_info.operators import StabilizerTable\n",
    "\n",
    "current = StabilizerTable.from_labels(['+I', '-X'])\n",
    "other =  StabilizerTable.from_labels(['+X', '-Z'])\n",
    "print(current.compose(other))"
   ]
  },
  {
   "cell_type": "code",
   "execution_count": 2,
   "id": "ad45d84d",
   "metadata": {
    "execution": {
     "iopub.execute_input": "2021-06-08T11:28:03.712684Z",
     "iopub.status.busy": "2021-06-08T11:28:03.712158Z",
     "iopub.status.idle": "2021-06-08T11:28:03.717181Z",
     "shell.execute_reply": "2021-06-08T11:28:03.716648Z"
    }
   },
   "outputs": [
    {
     "name": "stdout",
     "output_type": "stream",
     "text": [
      "StabilizerTable: ['+X', '-Z', '-I', '+Y']\n"
     ]
    }
   ],
   "source": [
    "from qiskit.quantum_info.operators import StabilizerTable\n",
    "\n",
    "current = StabilizerTable.from_labels(['+I', '-X'])\n",
    "other =  StabilizerTable.from_labels(['+X', '-Z'])\n",
    "print(current.dot(other))"
   ]
  },
  {
   "cell_type": "code",
   "execution_count": 3,
   "id": "35cd5412",
   "metadata": {
    "execution": {
     "iopub.execute_input": "2021-06-08T11:28:03.722147Z",
     "iopub.status.busy": "2021-06-08T11:28:03.721137Z",
     "iopub.status.idle": "2021-06-08T11:28:03.726352Z",
     "shell.execute_reply": "2021-06-08T11:28:03.725886Z"
    }
   },
   "outputs": [
    {
     "name": "stdout",
     "output_type": "stream",
     "text": [
      "StabilizerTable: ['-YI', '+YX', '+ZI', '-ZX']\n"
     ]
    }
   ],
   "source": [
    "from qiskit.quantum_info.operators import StabilizerTable\n",
    "\n",
    "current = StabilizerTable.from_labels(['+I', '-X'])\n",
    "other =  StabilizerTable.from_labels(['-Y', '+Z'])\n",
    "print(current.expand(other))"
   ]
  },
  {
   "cell_type": "code",
   "execution_count": 4,
   "id": "6d8f95ee",
   "metadata": {
    "execution": {
     "iopub.execute_input": "2021-06-08T11:28:03.731883Z",
     "iopub.status.busy": "2021-06-08T11:28:03.731029Z",
     "iopub.status.idle": "2021-06-08T11:28:03.739122Z",
     "shell.execute_reply": "2021-06-08T11:28:03.738668Z"
    }
   },
   "outputs": [
    {
     "name": "stdout",
     "output_type": "stream",
     "text": [
      "Initial Ordering\n",
      "StabilizerTable: ['+IZ', '-IX', '+XZ', '+YY', '-IY', '+XY', '+ZI', '-XZ', '-ZI', '-YX', '-XX', '+II', '+YX', '+XX', '+IX', '+YI', '-YY', '+ZY', '-YI', '+IY', '-XY', '-ZX', '-II', '-ZZ', '+ZX', '-YZ', '+XI', '+YZ', '-IZ', '+ZZ', '-XI', '-ZY']\n",
      "Lexicographically sorted\n",
      "StabilizerTable: ['+II', '-II', '-IX', '+IX', '-IY', '+IY', '+IZ', '-IZ', '+XI', '-XI', '-XX', '+XX', '+XY', '-XY', '+XZ', '-XZ', '+YI', '-YI', '-YX', '+YX', '+YY', '-YY', '-YZ', '+YZ', '+ZI', '-ZI', '-ZX', '+ZX', '+ZY', '-ZY', '-ZZ', '+ZZ']\n",
      "Weight sorted\n",
      "StabilizerTable: ['+II', '-II', '-IX', '+IX', '-IY', '+IY', '+IZ', '-IZ', '+XI', '-XI', '+YI', '-YI', '+ZI', '-ZI', '-XX', '+XX', '+XY', '-XY', '+XZ', '-XZ', '-YX', '+YX', '+YY', '-YY', '-YZ', '+YZ', '-ZX', '+ZX', '+ZY', '-ZY', '-ZZ', '+ZZ']\n"
     ]
    }
   ],
   "source": [
    "from numpy.random import shuffle\n",
    "from qiskit.quantum_info.operators import StabilizerTable\n",
    "\n",
    "# 2-qubit labels\n",
    "labels = ['+II', '+IX', '+IY', '+IZ', '+XI', '+XX', '+XY', '+XZ',\n",
    "          '+YI', '+YX', '+YY', '+YZ', '+ZI', '+ZX', '+ZY', '+ZZ',\n",
    "          '-II', '-IX', '-IY', '-IZ', '-XI', '-XX', '-XY', '-XZ',\n",
    "          '-YI', '-YX', '-YY', '-YZ', '-ZI', '-ZX', '-ZY', '-ZZ']\n",
    "# Shuffle Labels\n",
    "shuffle(labels)\n",
    "st = StabilizerTable.from_labels(labels)\n",
    "print('Initial Ordering')\n",
    "print(st)\n",
    "\n",
    "# Lexicographic Ordering\n",
    "srt = st.sort()\n",
    "print('Lexicographically sorted')\n",
    "print(srt)\n",
    "\n",
    "# Weight Ordering\n",
    "srt = st.sort(weight=True)\n",
    "print('Weight sorted')\n",
    "print(srt)"
   ]
  },
  {
   "cell_type": "code",
   "execution_count": 5,
   "id": "2a0dbd54",
   "metadata": {
    "execution": {
     "iopub.execute_input": "2021-06-08T11:28:03.743982Z",
     "iopub.status.busy": "2021-06-08T11:28:03.743378Z",
     "iopub.status.idle": "2021-06-08T11:28:03.748041Z",
     "shell.execute_reply": "2021-06-08T11:28:03.747610Z"
    }
   },
   "outputs": [
    {
     "name": "stdout",
     "output_type": "stream",
     "text": [
      "StabilizerTable: ['-IY', '+IZ', '+XY', '-XZ']\n"
     ]
    }
   ],
   "source": [
    "from qiskit.quantum_info.operators import StabilizerTable\n",
    "\n",
    "current = StabilizerTable.from_labels(['+I', '-X'])\n",
    "other =  StabilizerTable.from_labels(['-Y', '+Z'])\n",
    "print(current.tensor(other))"
   ]
  },
  {
   "cell_type": "code",
   "execution_count": 6,
   "id": "dcaccd5a",
   "metadata": {
    "execution": {
     "iopub.execute_input": "2021-06-08T11:28:03.752825Z",
     "iopub.status.busy": "2021-06-08T11:28:03.752150Z",
     "iopub.status.idle": "2021-06-08T11:28:03.755846Z",
     "shell.execute_reply": "2021-06-08T11:28:03.756241Z"
    }
   },
   "outputs": [
    {
     "name": "stdout",
     "output_type": "stream",
     "text": [
      "StabilizerTable: ['+X', '+I', '-I', '-X']\n"
     ]
    }
   ],
   "source": [
    "from qiskit.quantum_info.operators import StabilizerTable\n",
    "\n",
    "st = StabilizerTable.from_labels(['+X', '+I', '-I', '-X', '+X', '-X', '+I'])\n",
    "unique = st.unique()\n",
    "print(unique)"
   ]
  }
 ],
 "metadata": {
  "kernelspec": {
   "display_name": "Python 3",
   "language": "python",
   "name": "python3"
  },
  "language_info": {
   "codemirror_mode": {
    "name": "ipython",
    "version": 3
   },
   "file_extension": ".py",
   "mimetype": "text/x-python",
   "name": "python",
   "nbconvert_exporter": "python",
   "pygments_lexer": "ipython3",
   "version": "3.8.10"
  }
 },
 "nbformat": 4,
 "nbformat_minor": 5
}