{
 "cells": [
  {
   "cell_type": "code",
   "execution_count": 1,
   "id": "5abf367c",
   "metadata": {
    "execution": {
     "iopub.execute_input": "2021-06-06T15:09:52.703014Z",
     "iopub.status.busy": "2021-06-06T15:09:52.702090Z",
     "iopub.status.idle": "2021-06-06T15:09:53.275227Z",
     "shell.execute_reply": "2021-06-06T15:09:53.275852Z"
    }
   },
   "outputs": [
    {
     "name": "stdout",
     "output_type": "stream",
     "text": [
      "StabilizerTable: ['+X', '-Z', '-I', '-Y']\n"
     ]
    }
   ],
   "source": [
    "from qiskit.quantum_info.operators import StabilizerTable\n",
    "\n",
    "current = StabilizerTable.from_labels(['+I', '-X'])\n",
    "other =  StabilizerTable.from_labels(['+X', '-Z'])\n",
    "print(current.compose(other))"
   ]
  },
  {
   "cell_type": "code",
   "execution_count": 2,
   "id": "ad998247",
   "metadata": {
    "execution": {
     "iopub.execute_input": "2021-06-06T15:09:53.282246Z",
     "iopub.status.busy": "2021-06-06T15:09:53.281160Z",
     "iopub.status.idle": "2021-06-06T15:09:53.283890Z",
     "shell.execute_reply": "2021-06-06T15:09:53.283404Z"
    }
   },
   "outputs": [
    {
     "name": "stdout",
     "output_type": "stream",
     "text": [
      "StabilizerTable: ['+X', '-Z', '-I', '+Y']\n"
     ]
    }
   ],
   "source": [
    "from qiskit.quantum_info.operators import StabilizerTable\n",
    "\n",
    "current = StabilizerTable.from_labels(['+I', '-X'])\n",
    "other =  StabilizerTable.from_labels(['+X', '-Z'])\n",
    "print(current.dot(other))"
   ]
  },
  {
   "cell_type": "code",
   "execution_count": 3,
   "id": "b9e86b9c",
   "metadata": {
    "execution": {
     "iopub.execute_input": "2021-06-06T15:09:53.288918Z",
     "iopub.status.busy": "2021-06-06T15:09:53.287749Z",
     "iopub.status.idle": "2021-06-06T15:09:53.290611Z",
     "shell.execute_reply": "2021-06-06T15:09:53.290224Z"
    }
   },
   "outputs": [
    {
     "name": "stdout",
     "output_type": "stream",
     "text": [
      "StabilizerTable: ['-YI', '+YX', '+ZI', '-ZX']\n"
     ]
    }
   ],
   "source": [
    "from qiskit.quantum_info.operators import StabilizerTable\n",
    "\n",
    "current = StabilizerTable.from_labels(['+I', '-X'])\n",
    "other =  StabilizerTable.from_labels(['-Y', '+Z'])\n",
    "print(current.expand(other))"
   ]
  },
  {
   "cell_type": "code",
   "execution_count": 4,
   "id": "78c4f159",
   "metadata": {
    "execution": {
     "iopub.execute_input": "2021-06-06T15:09:53.297368Z",
     "iopub.status.busy": "2021-06-06T15:09:53.295757Z",
     "iopub.status.idle": "2021-06-06T15:09:53.299804Z",
     "shell.execute_reply": "2021-06-06T15:09:53.299356Z"
    }
   },
   "outputs": [
    {
     "name": "stdout",
     "output_type": "stream",
     "text": [
      "Initial Ordering\n",
      "StabilizerTable: ['+IY', '+XZ', '+XY', '+IZ', '-YZ', '+II', '-XY', '-YX', '+YX', '-YI', '+XX', '-ZZ', '+XI', '-ZY', '-IY', '-XZ', '+ZZ', '+YY', '+ZI', '-YY', '+YZ', '-IZ', '+YI', '-ZI', '-XI', '+ZY', '-XX', '-II', '-ZX', '+ZX', '-IX', '+IX']\n",
      "Lexicographically sorted\n",
      "StabilizerTable: ['+II', '-II', '-IX', '+IX', '+IY', '-IY', '+IZ', '-IZ', '+XI', '-XI', '+XX', '-XX', '+XY', '-XY', '+XZ', '-XZ', '-YI', '+YI', '-YX', '+YX', '+YY', '-YY', '-YZ', '+YZ', '+ZI', '-ZI', '-ZX', '+ZX', '-ZY', '+ZY', '-ZZ', '+ZZ']\n",
      "Weight sorted\n",
      "StabilizerTable: ['+II', '-II', '-IX', '+IX', '+IY', '-IY', '+IZ', '-IZ', '+XI', '-XI', '-YI', '+YI', '+ZI', '-ZI', '+XX', '-XX', '+XY', '-XY', '+XZ', '-XZ', '-YX', '+YX', '+YY', '-YY', '-YZ', '+YZ', '-ZX', '+ZX', '-ZY', '+ZY', '-ZZ', '+ZZ']\n"
     ]
    }
   ],
   "source": [
    "from numpy.random import shuffle\n",
    "from qiskit.quantum_info.operators import StabilizerTable\n",
    "\n",
    "# 2-qubit labels\n",
    "labels = ['+II', '+IX', '+IY', '+IZ', '+XI', '+XX', '+XY', '+XZ',\n",
    "          '+YI', '+YX', '+YY', '+YZ', '+ZI', '+ZX', '+ZY', '+ZZ',\n",
    "          '-II', '-IX', '-IY', '-IZ', '-XI', '-XX', '-XY', '-XZ',\n",
    "          '-YI', '-YX', '-YY', '-YZ', '-ZI', '-ZX', '-ZY', '-ZZ']\n",
    "# Shuffle Labels\n",
    "shuffle(labels)\n",
    "st = StabilizerTable.from_labels(labels)\n",
    "print('Initial Ordering')\n",
    "print(st)\n",
    "\n",
    "# Lexicographic Ordering\n",
    "srt = st.sort()\n",
    "print('Lexicographically sorted')\n",
    "print(srt)\n",
    "\n",
    "# Weight Ordering\n",
    "srt = st.sort(weight=True)\n",
    "print('Weight sorted')\n",
    "print(srt)"
   ]
  },
  {
   "cell_type": "code",
   "execution_count": 5,
   "id": "781a906c",
   "metadata": {
    "execution": {
     "iopub.execute_input": "2021-06-06T15:09:53.304555Z",
     "iopub.status.busy": "2021-06-06T15:09:53.303348Z",
     "iopub.status.idle": "2021-06-06T15:09:53.306406Z",
     "shell.execute_reply": "2021-06-06T15:09:53.305953Z"
    }
   },
   "outputs": [
    {
     "name": "stdout",
     "output_type": "stream",
     "text": [
      "StabilizerTable: ['-IY', '+IZ', '+XY', '-XZ']\n"
     ]
    }
   ],
   "source": [
    "from qiskit.quantum_info.operators import StabilizerTable\n",
    "\n",
    "current = StabilizerTable.from_labels(['+I', '-X'])\n",
    "other =  StabilizerTable.from_labels(['-Y', '+Z'])\n",
    "print(current.tensor(other))"
   ]
  },
  {
   "cell_type": "code",
   "execution_count": 6,
   "id": "d4831f6b",
   "metadata": {
    "execution": {
     "iopub.execute_input": "2021-06-06T15:09:53.311144Z",
     "iopub.status.busy": "2021-06-06T15:09:53.310269Z",
     "iopub.status.idle": "2021-06-06T15:09:53.313046Z",
     "shell.execute_reply": "2021-06-06T15:09:53.312606Z"
    }
   },
   "outputs": [
    {
     "name": "stdout",
     "output_type": "stream",
     "text": [
      "StabilizerTable: ['+X', '+I', '-I', '-X']\n"
     ]
    }
   ],
   "source": [
    "from qiskit.quantum_info.operators import StabilizerTable\n",
    "\n",
    "st = StabilizerTable.from_labels(['+X', '+I', '-I', '-X', '+X', '-X', '+I'])\n",
    "unique = st.unique()\n",
    "print(unique)"
   ]
  }
 ],
 "metadata": {
  "kernelspec": {
   "display_name": "Python 3",
   "language": "python",
   "name": "python3"
  },
  "language_info": {
   "codemirror_mode": {
    "name": "ipython",
    "version": 3
   },
   "file_extension": ".py",
   "mimetype": "text/x-python",
   "name": "python",
   "nbconvert_exporter": "python",
   "pygments_lexer": "ipython3",
   "version": "3.8.10"
  }
 },
 "nbformat": 4,
 "nbformat_minor": 5
}