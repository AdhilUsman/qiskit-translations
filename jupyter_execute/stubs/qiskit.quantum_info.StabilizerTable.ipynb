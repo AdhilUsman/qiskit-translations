{
 "cells": [
  {
   "cell_type": "code",
   "execution_count": 1,
   "id": "8001a6e2",
   "metadata": {
    "execution": {
     "iopub.execute_input": "2021-04-23T06:40:43.522805Z",
     "iopub.status.busy": "2021-04-23T06:40:43.522263Z",
     "iopub.status.idle": "2021-04-23T06:40:44.205243Z",
     "shell.execute_reply": "2021-04-23T06:40:44.204653Z"
    }
   },
   "outputs": [
    {
     "name": "stdout",
     "output_type": "stream",
     "text": [
      "StabilizerTable: ['+X', '-Z', '-I', '-Y']\n"
     ]
    }
   ],
   "source": [
    "from qiskit.quantum_info.operators import StabilizerTable\n",
    "\n",
    "current = StabilizerTable.from_labels(['+I', '-X'])\n",
    "other =  StabilizerTable.from_labels(['+X', '-Z'])\n",
    "print(current.compose(other))"
   ]
  },
  {
   "cell_type": "code",
   "execution_count": 2,
   "id": "92f6fe4d",
   "metadata": {
    "execution": {
     "iopub.execute_input": "2021-04-23T06:40:44.210321Z",
     "iopub.status.busy": "2021-04-23T06:40:44.209748Z",
     "iopub.status.idle": "2021-04-23T06:40:44.214673Z",
     "shell.execute_reply": "2021-04-23T06:40:44.214167Z"
    }
   },
   "outputs": [
    {
     "name": "stdout",
     "output_type": "stream",
     "text": [
      "StabilizerTable: ['+X', '-Z', '-I', '+Y']\n"
     ]
    }
   ],
   "source": [
    "from qiskit.quantum_info.operators import StabilizerTable\n",
    "\n",
    "current = StabilizerTable.from_labels(['+I', '-X'])\n",
    "other =  StabilizerTable.from_labels(['+X', '-Z'])\n",
    "print(current.dot(other))"
   ]
  },
  {
   "cell_type": "code",
   "execution_count": 3,
   "id": "c7ab83ec",
   "metadata": {
    "execution": {
     "iopub.execute_input": "2021-04-23T06:40:44.221261Z",
     "iopub.status.busy": "2021-04-23T06:40:44.219839Z",
     "iopub.status.idle": "2021-04-23T06:40:44.223113Z",
     "shell.execute_reply": "2021-04-23T06:40:44.222637Z"
    }
   },
   "outputs": [
    {
     "name": "stdout",
     "output_type": "stream",
     "text": [
      "StabilizerTable: ['-YI', '+YX', '+ZI', '-ZX']\n"
     ]
    }
   ],
   "source": [
    "from qiskit.quantum_info.operators import StabilizerTable\n",
    "\n",
    "current = StabilizerTable.from_labels(['+I', '-X'])\n",
    "other =  StabilizerTable.from_labels(['-Y', '+Z'])\n",
    "print(current.expand(other))"
   ]
  },
  {
   "cell_type": "code",
   "execution_count": 4,
   "id": "a37ea954",
   "metadata": {
    "execution": {
     "iopub.execute_input": "2021-04-23T06:40:44.231776Z",
     "iopub.status.busy": "2021-04-23T06:40:44.231180Z",
     "iopub.status.idle": "2021-04-23T06:40:44.233846Z",
     "shell.execute_reply": "2021-04-23T06:40:44.234312Z"
    }
   },
   "outputs": [
    {
     "name": "stdout",
     "output_type": "stream",
     "text": [
      "Initial Ordering\n",
      "StabilizerTable: ['-ZX', '-ZI', '+YY', '+ZY', '-YI', '+XY', '+IY', '-IY', '+ZZ', '-YY', '+II', '-YX', '+XI', '-XX', '-II', '+IX', '-XI', '+IZ', '+ZX', '-IZ', '+XX', '-XY', '-YZ', '+YZ', '+ZI', '-ZY', '+YI', '-XZ', '+YX', '+XZ', '-ZZ', '-IX']\n",
      "Lexicographically sorted\n",
      "StabilizerTable: ['+II', '-II', '+IX', '-IX', '+IY', '-IY', '+IZ', '-IZ', '+XI', '-XI', '-XX', '+XX', '+XY', '-XY', '-XZ', '+XZ', '-YI', '+YI', '-YX', '+YX', '+YY', '-YY', '-YZ', '+YZ', '-ZI', '+ZI', '-ZX', '+ZX', '+ZY', '-ZY', '+ZZ', '-ZZ']\n",
      "Weight sorted\n",
      "StabilizerTable: ['+II', '-II', '+IX', '-IX', '+IY', '-IY', '+IZ', '-IZ', '+XI', '-XI', '-YI', '+YI', '-ZI', '+ZI', '-XX', '+XX', '+XY', '-XY', '-XZ', '+XZ', '-YX', '+YX', '+YY', '-YY', '-YZ', '+YZ', '-ZX', '+ZX', '+ZY', '-ZY', '+ZZ', '-ZZ']\n"
     ]
    }
   ],
   "source": [
    "from numpy.random import shuffle\n",
    "from qiskit.quantum_info.operators import StabilizerTable\n",
    "\n",
    "# 2-qubit labels\n",
    "labels = ['+II', '+IX', '+IY', '+IZ', '+XI', '+XX', '+XY', '+XZ',\n",
    "          '+YI', '+YX', '+YY', '+YZ', '+ZI', '+ZX', '+ZY', '+ZZ',\n",
    "          '-II', '-IX', '-IY', '-IZ', '-XI', '-XX', '-XY', '-XZ',\n",
    "          '-YI', '-YX', '-YY', '-YZ', '-ZI', '-ZX', '-ZY', '-ZZ']\n",
    "# Shuffle Labels\n",
    "shuffle(labels)\n",
    "st = StabilizerTable.from_labels(labels)\n",
    "print('Initial Ordering')\n",
    "print(st)\n",
    "\n",
    "# Lexicographic Ordering\n",
    "srt = st.sort()\n",
    "print('Lexicographically sorted')\n",
    "print(srt)\n",
    "\n",
    "# Weight Ordering\n",
    "srt = st.sort(weight=True)\n",
    "print('Weight sorted')\n",
    "print(srt)"
   ]
  },
  {
   "cell_type": "code",
   "execution_count": 5,
   "id": "b66fc1bd",
   "metadata": {
    "execution": {
     "iopub.execute_input": "2021-04-23T06:40:44.240395Z",
     "iopub.status.busy": "2021-04-23T06:40:44.239058Z",
     "iopub.status.idle": "2021-04-23T06:40:44.242311Z",
     "shell.execute_reply": "2021-04-23T06:40:44.241814Z"
    }
   },
   "outputs": [
    {
     "name": "stdout",
     "output_type": "stream",
     "text": [
      "StabilizerTable: ['-IY', '+IZ', '+XY', '-XZ']\n"
     ]
    }
   ],
   "source": [
    "from qiskit.quantum_info.operators import StabilizerTable\n",
    "\n",
    "current = StabilizerTable.from_labels(['+I', '-X'])\n",
    "other =  StabilizerTable.from_labels(['-Y', '+Z'])\n",
    "print(current.tensor(other))"
   ]
  },
  {
   "cell_type": "code",
   "execution_count": 6,
   "id": "20c35736",
   "metadata": {
    "execution": {
     "iopub.execute_input": "2021-04-23T06:40:44.248240Z",
     "iopub.status.busy": "2021-04-23T06:40:44.246926Z",
     "iopub.status.idle": "2021-04-23T06:40:44.250121Z",
     "shell.execute_reply": "2021-04-23T06:40:44.249620Z"
    }
   },
   "outputs": [
    {
     "name": "stdout",
     "output_type": "stream",
     "text": [
      "StabilizerTable: ['+X', '+I', '-I', '-X']\n"
     ]
    }
   ],
   "source": [
    "from qiskit.quantum_info.operators import StabilizerTable\n",
    "\n",
    "st = StabilizerTable.from_labels(['+X', '+I', '-I', '-X', '+X', '-X', '+I'])\n",
    "unique = st.unique()\n",
    "print(unique)"
   ]
  }
 ],
 "metadata": {
  "kernelspec": {
   "display_name": "Python 3",
   "language": "python",
   "name": "python3"
  },
  "language_info": {
   "codemirror_mode": {
    "name": "ipython",
    "version": 3
   },
   "file_extension": ".py",
   "mimetype": "text/x-python",
   "name": "python",
   "nbconvert_exporter": "python",
   "pygments_lexer": "ipython3",
   "version": "3.8.9"
  }
 },
 "nbformat": 4,
 "nbformat_minor": 5
}