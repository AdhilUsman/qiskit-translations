{
 "cells": [
  {
   "cell_type": "code",
   "execution_count": 1,
   "id": "collective-ozone",
   "metadata": {
    "execution": {
     "iopub.execute_input": "2021-03-29T11:11:12.640739Z",
     "iopub.status.busy": "2021-03-29T11:11:12.640206Z",
     "iopub.status.idle": "2021-03-29T11:11:14.370041Z",
     "shell.execute_reply": "2021-03-29T11:11:14.369225Z"
    }
   },
   "outputs": [
    {
     "name": "stdout",
     "output_type": "stream",
     "text": [
      "StabilizerTable: ['+X', '-Z', '-I', '-Y']\n"
     ]
    }
   ],
   "source": [
    "from qiskit.quantum_info.operators import StabilizerTable\n",
    "\n",
    "current = StabilizerTable.from_labels(['+I', '-X'])\n",
    "other =  StabilizerTable.from_labels(['+X', '-Z'])\n",
    "print(current.compose(other))"
   ]
  },
  {
   "cell_type": "code",
   "execution_count": 2,
   "id": "frozen-projection",
   "metadata": {
    "execution": {
     "iopub.execute_input": "2021-03-29T11:11:14.375867Z",
     "iopub.status.busy": "2021-03-29T11:11:14.374805Z",
     "iopub.status.idle": "2021-03-29T11:11:14.377491Z",
     "shell.execute_reply": "2021-03-29T11:11:14.377067Z"
    }
   },
   "outputs": [
    {
     "name": "stdout",
     "output_type": "stream",
     "text": [
      "StabilizerTable: ['+X', '-Z', '-I', '+Y']\n"
     ]
    }
   ],
   "source": [
    "from qiskit.quantum_info.operators import StabilizerTable\n",
    "\n",
    "current = StabilizerTable.from_labels(['+I', '-X'])\n",
    "other =  StabilizerTable.from_labels(['+X', '-Z'])\n",
    "print(current.dot(other))"
   ]
  },
  {
   "cell_type": "code",
   "execution_count": 3,
   "id": "bright-invitation",
   "metadata": {
    "execution": {
     "iopub.execute_input": "2021-03-29T11:11:14.382627Z",
     "iopub.status.busy": "2021-03-29T11:11:14.381675Z",
     "iopub.status.idle": "2021-03-29T11:11:14.384391Z",
     "shell.execute_reply": "2021-03-29T11:11:14.383970Z"
    }
   },
   "outputs": [
    {
     "name": "stdout",
     "output_type": "stream",
     "text": [
      "StabilizerTable: ['-YI', '+ZI', '+YX', '-ZX']\n"
     ]
    }
   ],
   "source": [
    "from qiskit.quantum_info.operators import StabilizerTable\n",
    "\n",
    "current = StabilizerTable.from_labels(['+I', '-X'])\n",
    "other =  StabilizerTable.from_labels(['-Y', '+Z'])\n",
    "print(current.expand(other))"
   ]
  },
  {
   "cell_type": "code",
   "execution_count": 4,
   "id": "organized-curtis",
   "metadata": {
    "execution": {
     "iopub.execute_input": "2021-03-29T11:11:14.391175Z",
     "iopub.status.busy": "2021-03-29T11:11:14.390318Z",
     "iopub.status.idle": "2021-03-29T11:11:14.395391Z",
     "shell.execute_reply": "2021-03-29T11:11:14.394885Z"
    }
   },
   "outputs": [
    {
     "name": "stdout",
     "output_type": "stream",
     "text": [
      "Initial Ordering\n",
      "StabilizerTable: ['+II', '+YI', '+IX', '+YY', '+ZX', '+ZI', '+ZZ', '-II', '-ZX', '-IZ', '+YZ', '-IY', '-XZ', '+ZY', '-ZY', '-XI', '-XX', '+XI', '+IZ', '-YX', '+YX', '-ZZ', '-YI', '-YY', '-YZ', '-XY', '-IX', '+XX', '+IY', '+XY', '-ZI', '+XZ']\n",
      "Lexicographically sorted\n",
      "StabilizerTable: ['+II', '-II', '+IX', '-IX', '-IY', '+IY', '-IZ', '+IZ', '-XI', '+XI', '-XX', '+XX', '-XY', '+XY', '-XZ', '+XZ', '+YI', '-YI', '-YX', '+YX', '+YY', '-YY', '+YZ', '-YZ', '+ZI', '-ZI', '+ZX', '-ZX', '+ZY', '-ZY', '+ZZ', '-ZZ']\n",
      "Weight sorted\n",
      "StabilizerTable: ['+II', '-II', '+IX', '-IX', '-IY', '+IY', '-IZ', '+IZ', '-XI', '+XI', '+YI', '-YI', '+ZI', '-ZI', '-XX', '+XX', '-XY', '+XY', '-XZ', '+XZ', '-YX', '+YX', '+YY', '-YY', '+YZ', '-YZ', '+ZX', '-ZX', '+ZY', '-ZY', '+ZZ', '-ZZ']\n"
     ]
    }
   ],
   "source": [
    "from numpy.random import shuffle\n",
    "from qiskit.quantum_info.operators import StabilizerTable\n",
    "\n",
    "# 2-qubit labels\n",
    "labels = ['+II', '+IX', '+IY', '+IZ', '+XI', '+XX', '+XY', '+XZ',\n",
    "          '+YI', '+YX', '+YY', '+YZ', '+ZI', '+ZX', '+ZY', '+ZZ',\n",
    "          '-II', '-IX', '-IY', '-IZ', '-XI', '-XX', '-XY', '-XZ',\n",
    "          '-YI', '-YX', '-YY', '-YZ', '-ZI', '-ZX', '-ZY', '-ZZ']\n",
    "# Shuffle Labels\n",
    "shuffle(labels)\n",
    "st = StabilizerTable.from_labels(labels)\n",
    "print('Initial Ordering')\n",
    "print(st)\n",
    "\n",
    "# Lexicographic Ordering\n",
    "srt = st.sort()\n",
    "print('Lexicographically sorted')\n",
    "print(srt)\n",
    "\n",
    "# Weight Ordering\n",
    "srt = st.sort(weight=True)\n",
    "print('Weight sorted')\n",
    "print(srt)"
   ]
  },
  {
   "cell_type": "code",
   "execution_count": 5,
   "id": "written-cisco",
   "metadata": {
    "execution": {
     "iopub.execute_input": "2021-03-29T11:11:14.399793Z",
     "iopub.status.busy": "2021-03-29T11:11:14.399370Z",
     "iopub.status.idle": "2021-03-29T11:11:14.402819Z",
     "shell.execute_reply": "2021-03-29T11:11:14.403217Z"
    }
   },
   "outputs": [
    {
     "name": "stdout",
     "output_type": "stream",
     "text": [
      "StabilizerTable: ['-IY', '+IZ', '+XY', '-XZ']\n"
     ]
    }
   ],
   "source": [
    "from qiskit.quantum_info.operators import StabilizerTable\n",
    "\n",
    "current = StabilizerTable.from_labels(['+I', '-X'])\n",
    "other =  StabilizerTable.from_labels(['-Y', '+Z'])\n",
    "print(current.tensor(other))"
   ]
  },
  {
   "cell_type": "code",
   "execution_count": 6,
   "id": "featured-porcelain",
   "metadata": {
    "execution": {
     "iopub.execute_input": "2021-03-29T11:11:14.407797Z",
     "iopub.status.busy": "2021-03-29T11:11:14.407281Z",
     "iopub.status.idle": "2021-03-29T11:11:14.411231Z",
     "shell.execute_reply": "2021-03-29T11:11:14.410806Z"
    }
   },
   "outputs": [
    {
     "name": "stdout",
     "output_type": "stream",
     "text": [
      "StabilizerTable: ['+X', '+I', '-I', '-X']\n"
     ]
    }
   ],
   "source": [
    "from qiskit.quantum_info.operators import StabilizerTable\n",
    "\n",
    "st = StabilizerTable.from_labels(['+X', '+I', '-I', '-X', '+X', '-X', '+I'])\n",
    "unique = st.unique()\n",
    "print(unique)"
   ]
  }
 ],
 "metadata": {
  "kernelspec": {
   "display_name": "Python 3",
   "language": "python",
   "name": "python3"
  },
  "language_info": {
   "codemirror_mode": {
    "name": "ipython",
    "version": 3
   },
   "file_extension": ".py",
   "mimetype": "text/x-python",
   "name": "python",
   "nbconvert_exporter": "python",
   "pygments_lexer": "ipython3",
   "version": "3.8.8"
  }
 },
 "nbformat": 4,
 "nbformat_minor": 5
}