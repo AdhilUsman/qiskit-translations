{
 "cells": [
  {
   "cell_type": "code",
   "execution_count": 1,
   "id": "89b40133",
   "metadata": {
    "execution": {
     "iopub.execute_input": "2021-04-02T16:00:56.823333Z",
     "iopub.status.busy": "2021-04-02T16:00:56.822665Z",
     "iopub.status.idle": "2021-04-02T16:00:57.500259Z",
     "shell.execute_reply": "2021-04-02T16:00:57.501037Z"
    }
   },
   "outputs": [
    {
     "name": "stdout",
     "output_type": "stream",
     "text": [
      "StabilizerTable: ['+X', '-Z', '-I', '-Y']\n"
     ]
    }
   ],
   "source": [
    "from qiskit.quantum_info.operators import StabilizerTable\n",
    "\n",
    "current = StabilizerTable.from_labels(['+I', '-X'])\n",
    "other =  StabilizerTable.from_labels(['+X', '-Z'])\n",
    "print(current.compose(other))"
   ]
  },
  {
   "cell_type": "code",
   "execution_count": 2,
   "id": "4a7fca76",
   "metadata": {
    "execution": {
     "iopub.execute_input": "2021-04-02T16:00:57.507874Z",
     "iopub.status.busy": "2021-04-02T16:00:57.506643Z",
     "iopub.status.idle": "2021-04-02T16:00:57.509682Z",
     "shell.execute_reply": "2021-04-02T16:00:57.509179Z"
    }
   },
   "outputs": [
    {
     "name": "stdout",
     "output_type": "stream",
     "text": [
      "StabilizerTable: ['+X', '-Z', '-I', '+Y']\n"
     ]
    }
   ],
   "source": [
    "from qiskit.quantum_info.operators import StabilizerTable\n",
    "\n",
    "current = StabilizerTable.from_labels(['+I', '-X'])\n",
    "other =  StabilizerTable.from_labels(['+X', '-Z'])\n",
    "print(current.dot(other))"
   ]
  },
  {
   "cell_type": "code",
   "execution_count": 3,
   "id": "c8589e11",
   "metadata": {
    "execution": {
     "iopub.execute_input": "2021-04-02T16:00:57.515756Z",
     "iopub.status.busy": "2021-04-02T16:00:57.514293Z",
     "iopub.status.idle": "2021-04-02T16:00:57.517544Z",
     "shell.execute_reply": "2021-04-02T16:00:57.517054Z"
    }
   },
   "outputs": [
    {
     "name": "stdout",
     "output_type": "stream",
     "text": [
      "StabilizerTable: ['-YI', '+YX', '+ZI', '-ZX']\n"
     ]
    }
   ],
   "source": [
    "from qiskit.quantum_info.operators import StabilizerTable\n",
    "\n",
    "current = StabilizerTable.from_labels(['+I', '-X'])\n",
    "other =  StabilizerTable.from_labels(['-Y', '+Z'])\n",
    "print(current.expand(other))"
   ]
  },
  {
   "cell_type": "code",
   "execution_count": 4,
   "id": "7d11fc45",
   "metadata": {
    "execution": {
     "iopub.execute_input": "2021-04-02T16:00:57.524290Z",
     "iopub.status.busy": "2021-04-02T16:00:57.523109Z",
     "iopub.status.idle": "2021-04-02T16:00:57.527757Z",
     "shell.execute_reply": "2021-04-02T16:00:57.528180Z"
    }
   },
   "outputs": [
    {
     "name": "stdout",
     "output_type": "stream",
     "text": [
      "Initial Ordering\n",
      "StabilizerTable: ['+ZI', '-ZY', '-YX', '+IY', '-YZ', '-XY', '-YY', '+ZZ', '-ZI', '+IX', '+II', '+YZ', '-XZ', '-YI', '-ZX', '+ZX', '-XI', '-XX', '-IZ', '+YI', '-IY', '+IZ', '+YY', '+YX', '+XZ', '+ZY', '-ZZ', '-IX', '+XX', '+XY', '+XI', '-II']\n",
      "Lexicographically sorted\n",
      "StabilizerTable: ['+II', '-II', '+IX', '-IX', '+IY', '-IY', '-IZ', '+IZ', '-XI', '+XI', '-XX', '+XX', '-XY', '+XY', '-XZ', '+XZ', '-YI', '+YI', '-YX', '+YX', '-YY', '+YY', '-YZ', '+YZ', '+ZI', '-ZI', '-ZX', '+ZX', '-ZY', '+ZY', '+ZZ', '-ZZ']\n",
      "Weight sorted\n",
      "StabilizerTable: ['+II', '-II', '+IX', '-IX', '+IY', '-IY', '-IZ', '+IZ', '-XI', '+XI', '-YI', '+YI', '+ZI', '-ZI', '-XX', '+XX', '-XY', '+XY', '-XZ', '+XZ', '-YX', '+YX', '-YY', '+YY', '-YZ', '+YZ', '-ZX', '+ZX', '-ZY', '+ZY', '+ZZ', '-ZZ']\n"
     ]
    }
   ],
   "source": [
    "from numpy.random import shuffle\n",
    "from qiskit.quantum_info.operators import StabilizerTable\n",
    "\n",
    "# 2-qubit labels\n",
    "labels = ['+II', '+IX', '+IY', '+IZ', '+XI', '+XX', '+XY', '+XZ',\n",
    "          '+YI', '+YX', '+YY', '+YZ', '+ZI', '+ZX', '+ZY', '+ZZ',\n",
    "          '-II', '-IX', '-IY', '-IZ', '-XI', '-XX', '-XY', '-XZ',\n",
    "          '-YI', '-YX', '-YY', '-YZ', '-ZI', '-ZX', '-ZY', '-ZZ']\n",
    "# Shuffle Labels\n",
    "shuffle(labels)\n",
    "st = StabilizerTable.from_labels(labels)\n",
    "print('Initial Ordering')\n",
    "print(st)\n",
    "\n",
    "# Lexicographic Ordering\n",
    "srt = st.sort()\n",
    "print('Lexicographically sorted')\n",
    "print(srt)\n",
    "\n",
    "# Weight Ordering\n",
    "srt = st.sort(weight=True)\n",
    "print('Weight sorted')\n",
    "print(srt)"
   ]
  },
  {
   "cell_type": "code",
   "execution_count": 5,
   "id": "f0113fe4",
   "metadata": {
    "execution": {
     "iopub.execute_input": "2021-04-02T16:00:57.534425Z",
     "iopub.status.busy": "2021-04-02T16:00:57.533632Z",
     "iopub.status.idle": "2021-04-02T16:00:57.536081Z",
     "shell.execute_reply": "2021-04-02T16:00:57.534932Z"
    }
   },
   "outputs": [
    {
     "name": "stdout",
     "output_type": "stream",
     "text": [
      "StabilizerTable: ['-IY', '+IZ', '+XY', '-XZ']\n"
     ]
    }
   ],
   "source": [
    "from qiskit.quantum_info.operators import StabilizerTable\n",
    "\n",
    "current = StabilizerTable.from_labels(['+I', '-X'])\n",
    "other =  StabilizerTable.from_labels(['-Y', '+Z'])\n",
    "print(current.tensor(other))"
   ]
  },
  {
   "cell_type": "code",
   "execution_count": 6,
   "id": "847ef511",
   "metadata": {
    "execution": {
     "iopub.execute_input": "2021-04-02T16:00:57.541821Z",
     "iopub.status.busy": "2021-04-02T16:00:57.540506Z",
     "iopub.status.idle": "2021-04-02T16:00:57.543590Z",
     "shell.execute_reply": "2021-04-02T16:00:57.543117Z"
    }
   },
   "outputs": [
    {
     "name": "stdout",
     "output_type": "stream",
     "text": [
      "StabilizerTable: ['+X', '+I', '-I', '-X']\n"
     ]
    }
   ],
   "source": [
    "from qiskit.quantum_info.operators import StabilizerTable\n",
    "\n",
    "st = StabilizerTable.from_labels(['+X', '+I', '-I', '-X', '+X', '-X', '+I'])\n",
    "unique = st.unique()\n",
    "print(unique)"
   ]
  }
 ],
 "metadata": {
  "kernelspec": {
   "display_name": "Python 3",
   "language": "python",
   "name": "python3"
  },
  "language_info": {
   "codemirror_mode": {
    "name": "ipython",
    "version": 3
   },
   "file_extension": ".py",
   "mimetype": "text/x-python",
   "name": "python",
   "nbconvert_exporter": "python",
   "pygments_lexer": "ipython3",
   "version": "3.8.8"
  }
 },
 "nbformat": 4,
 "nbformat_minor": 5
}