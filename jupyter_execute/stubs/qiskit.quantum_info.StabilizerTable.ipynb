{
 "cells": [
  {
   "cell_type": "code",
   "execution_count": 1,
   "id": "02a40617",
   "metadata": {
    "execution": {
     "iopub.execute_input": "2021-04-15T18:56:56.089385Z",
     "iopub.status.busy": "2021-04-15T18:56:56.088780Z",
     "iopub.status.idle": "2021-04-15T18:56:56.759287Z",
     "shell.execute_reply": "2021-04-15T18:56:56.759851Z"
    }
   },
   "outputs": [
    {
     "name": "stdout",
     "output_type": "stream",
     "text": [
      "StabilizerTable: ['+X', '-Z', '-I', '-Y']\n"
     ]
    }
   ],
   "source": [
    "from qiskit.quantum_info.operators import StabilizerTable\n",
    "\n",
    "current = StabilizerTable.from_labels(['+I', '-X'])\n",
    "other =  StabilizerTable.from_labels(['+X', '-Z'])\n",
    "print(current.compose(other))"
   ]
  },
  {
   "cell_type": "code",
   "execution_count": 2,
   "id": "92ad0d0b",
   "metadata": {
    "execution": {
     "iopub.execute_input": "2021-04-15T18:56:56.766584Z",
     "iopub.status.busy": "2021-04-15T18:56:56.765100Z",
     "iopub.status.idle": "2021-04-15T18:56:56.768444Z",
     "shell.execute_reply": "2021-04-15T18:56:56.767939Z"
    }
   },
   "outputs": [
    {
     "name": "stdout",
     "output_type": "stream",
     "text": [
      "StabilizerTable: ['+X', '-Z', '-I', '+Y']\n"
     ]
    }
   ],
   "source": [
    "from qiskit.quantum_info.operators import StabilizerTable\n",
    "\n",
    "current = StabilizerTable.from_labels(['+I', '-X'])\n",
    "other =  StabilizerTable.from_labels(['+X', '-Z'])\n",
    "print(current.dot(other))"
   ]
  },
  {
   "cell_type": "code",
   "execution_count": 3,
   "id": "e274a3e6",
   "metadata": {
    "execution": {
     "iopub.execute_input": "2021-04-15T18:56:56.776197Z",
     "iopub.status.busy": "2021-04-15T18:56:56.774849Z",
     "iopub.status.idle": "2021-04-15T18:56:56.777951Z",
     "shell.execute_reply": "2021-04-15T18:56:56.777462Z"
    }
   },
   "outputs": [
    {
     "name": "stdout",
     "output_type": "stream",
     "text": [
      "StabilizerTable: ['-YI', '+YX', '+ZI', '-ZX']\n"
     ]
    }
   ],
   "source": [
    "from qiskit.quantum_info.operators import StabilizerTable\n",
    "\n",
    "current = StabilizerTable.from_labels(['+I', '-X'])\n",
    "other =  StabilizerTable.from_labels(['-Y', '+Z'])\n",
    "print(current.expand(other))"
   ]
  },
  {
   "cell_type": "code",
   "execution_count": 4,
   "id": "e30090d1",
   "metadata": {
    "execution": {
     "iopub.execute_input": "2021-04-15T18:56:56.788070Z",
     "iopub.status.busy": "2021-04-15T18:56:56.786631Z",
     "iopub.status.idle": "2021-04-15T18:56:56.789861Z",
     "shell.execute_reply": "2021-04-15T18:56:56.789373Z"
    }
   },
   "outputs": [
    {
     "name": "stdout",
     "output_type": "stream",
     "text": [
      "Initial Ordering\n",
      "StabilizerTable: ['-II', '-ZI', '-IZ', '+YX', '-ZZ', '+XZ', '+ZI', '+ZX', '+XI', '+YY', '+YZ', '-XY', '-XI', '+ZY', '-XX', '+XY', '-IY', '-YX', '-IX', '+YI', '+IZ', '+XX', '-YZ', '+ZZ', '+IY', '-ZX', '-YI', '-ZY', '-YY', '+IX', '+II', '-XZ']\n",
      "Lexicographically sorted\n",
      "StabilizerTable: ['-II', '+II', '-IX', '+IX', '-IY', '+IY', '-IZ', '+IZ', '+XI', '-XI', '-XX', '+XX', '-XY', '+XY', '+XZ', '-XZ', '+YI', '-YI', '+YX', '-YX', '+YY', '-YY', '+YZ', '-YZ', '-ZI', '+ZI', '+ZX', '-ZX', '+ZY', '-ZY', '-ZZ', '+ZZ']\n",
      "Weight sorted\n",
      "StabilizerTable: ['-II', '+II', '-IX', '+IX', '-IY', '+IY', '-IZ', '+IZ', '+XI', '-XI', '+YI', '-YI', '-ZI', '+ZI', '-XX', '+XX', '-XY', '+XY', '+XZ', '-XZ', '+YX', '-YX', '+YY', '-YY', '+YZ', '-YZ', '+ZX', '-ZX', '+ZY', '-ZY', '-ZZ', '+ZZ']\n"
     ]
    }
   ],
   "source": [
    "from numpy.random import shuffle\n",
    "from qiskit.quantum_info.operators import StabilizerTable\n",
    "\n",
    "# 2-qubit labels\n",
    "labels = ['+II', '+IX', '+IY', '+IZ', '+XI', '+XX', '+XY', '+XZ',\n",
    "          '+YI', '+YX', '+YY', '+YZ', '+ZI', '+ZX', '+ZY', '+ZZ',\n",
    "          '-II', '-IX', '-IY', '-IZ', '-XI', '-XX', '-XY', '-XZ',\n",
    "          '-YI', '-YX', '-YY', '-YZ', '-ZI', '-ZX', '-ZY', '-ZZ']\n",
    "# Shuffle Labels\n",
    "shuffle(labels)\n",
    "st = StabilizerTable.from_labels(labels)\n",
    "print('Initial Ordering')\n",
    "print(st)\n",
    "\n",
    "# Lexicographic Ordering\n",
    "srt = st.sort()\n",
    "print('Lexicographically sorted')\n",
    "print(srt)\n",
    "\n",
    "# Weight Ordering\n",
    "srt = st.sort(weight=True)\n",
    "print('Weight sorted')\n",
    "print(srt)"
   ]
  },
  {
   "cell_type": "code",
   "execution_count": 5,
   "id": "fdb7ced9",
   "metadata": {
    "execution": {
     "iopub.execute_input": "2021-04-15T18:56:56.795670Z",
     "iopub.status.busy": "2021-04-15T18:56:56.794420Z",
     "iopub.status.idle": "2021-04-15T18:56:56.797559Z",
     "shell.execute_reply": "2021-04-15T18:56:56.797051Z"
    }
   },
   "outputs": [
    {
     "name": "stdout",
     "output_type": "stream",
     "text": [
      "StabilizerTable: ['-IY', '+IZ', '+XY', '-XZ']\n"
     ]
    }
   ],
   "source": [
    "from qiskit.quantum_info.operators import StabilizerTable\n",
    "\n",
    "current = StabilizerTable.from_labels(['+I', '-X'])\n",
    "other =  StabilizerTable.from_labels(['-Y', '+Z'])\n",
    "print(current.tensor(other))"
   ]
  },
  {
   "cell_type": "code",
   "execution_count": 6,
   "id": "60ecc6cc",
   "metadata": {
    "execution": {
     "iopub.execute_input": "2021-04-15T18:56:56.803845Z",
     "iopub.status.busy": "2021-04-15T18:56:56.802415Z",
     "iopub.status.idle": "2021-04-15T18:56:56.805845Z",
     "shell.execute_reply": "2021-04-15T18:56:56.805293Z"
    }
   },
   "outputs": [
    {
     "name": "stdout",
     "output_type": "stream",
     "text": [
      "StabilizerTable: ['+X', '+I', '-I', '-X']\n"
     ]
    }
   ],
   "source": [
    "from qiskit.quantum_info.operators import StabilizerTable\n",
    "\n",
    "st = StabilizerTable.from_labels(['+X', '+I', '-I', '-X', '+X', '-X', '+I'])\n",
    "unique = st.unique()\n",
    "print(unique)"
   ]
  }
 ],
 "metadata": {
  "kernelspec": {
   "display_name": "Python 3",
   "language": "python",
   "name": "python3"
  },
  "language_info": {
   "codemirror_mode": {
    "name": "ipython",
    "version": 3
   },
   "file_extension": ".py",
   "mimetype": "text/x-python",
   "name": "python",
   "nbconvert_exporter": "python",
   "pygments_lexer": "ipython3",
   "version": "3.8.9"
  }
 },
 "nbformat": 4,
 "nbformat_minor": 5
}