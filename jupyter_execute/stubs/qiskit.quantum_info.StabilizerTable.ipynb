{
 "cells": [
  {
   "cell_type": "code",
   "execution_count": 1,
   "id": "eec7387a",
   "metadata": {
    "execution": {
     "iopub.execute_input": "2021-04-08T00:32:41.532529Z",
     "iopub.status.busy": "2021-04-08T00:32:41.531929Z",
     "iopub.status.idle": "2021-04-08T00:32:42.215770Z",
     "shell.execute_reply": "2021-04-08T00:32:42.216310Z"
    }
   },
   "outputs": [
    {
     "name": "stdout",
     "output_type": "stream",
     "text": [
      "StabilizerTable: ['+X', '-Z', '-I', '-Y']\n"
     ]
    }
   ],
   "source": [
    "from qiskit.quantum_info.operators import StabilizerTable\n",
    "\n",
    "current = StabilizerTable.from_labels(['+I', '-X'])\n",
    "other =  StabilizerTable.from_labels(['+X', '-Z'])\n",
    "print(current.compose(other))"
   ]
  },
  {
   "cell_type": "code",
   "execution_count": 2,
   "id": "940d8919",
   "metadata": {
    "execution": {
     "iopub.execute_input": "2021-04-08T00:32:42.223419Z",
     "iopub.status.busy": "2021-04-08T00:32:42.221726Z",
     "iopub.status.idle": "2021-04-08T00:32:42.225369Z",
     "shell.execute_reply": "2021-04-08T00:32:42.224831Z"
    }
   },
   "outputs": [
    {
     "name": "stdout",
     "output_type": "stream",
     "text": [
      "StabilizerTable: ['+X', '-Z', '-I', '+Y']\n"
     ]
    }
   ],
   "source": [
    "from qiskit.quantum_info.operators import StabilizerTable\n",
    "\n",
    "current = StabilizerTable.from_labels(['+I', '-X'])\n",
    "other =  StabilizerTable.from_labels(['+X', '-Z'])\n",
    "print(current.dot(other))"
   ]
  },
  {
   "cell_type": "code",
   "execution_count": 3,
   "id": "7573d14b",
   "metadata": {
    "execution": {
     "iopub.execute_input": "2021-04-08T00:32:42.231775Z",
     "iopub.status.busy": "2021-04-08T00:32:42.230175Z",
     "iopub.status.idle": "2021-04-08T00:32:42.233743Z",
     "shell.execute_reply": "2021-04-08T00:32:42.233194Z"
    }
   },
   "outputs": [
    {
     "name": "stdout",
     "output_type": "stream",
     "text": [
      "StabilizerTable: ['-YI', '+YX', '+ZI', '-ZX']\n"
     ]
    }
   ],
   "source": [
    "from qiskit.quantum_info.operators import StabilizerTable\n",
    "\n",
    "current = StabilizerTable.from_labels(['+I', '-X'])\n",
    "other =  StabilizerTable.from_labels(['-Y', '+Z'])\n",
    "print(current.expand(other))"
   ]
  },
  {
   "cell_type": "code",
   "execution_count": 4,
   "id": "ce8f600e",
   "metadata": {
    "execution": {
     "iopub.execute_input": "2021-04-08T00:32:42.240599Z",
     "iopub.status.busy": "2021-04-08T00:32:42.239120Z",
     "iopub.status.idle": "2021-04-08T00:32:42.245451Z",
     "shell.execute_reply": "2021-04-08T00:32:42.244840Z"
    }
   },
   "outputs": [
    {
     "name": "stdout",
     "output_type": "stream",
     "text": [
      "Initial Ordering\n",
      "StabilizerTable: ['+XX', '-YZ', '+ZX', '+XY', '+YI', '+IY', '-IY', '-IZ', '-ZZ', '+IX', '+YZ', '+YY', '-YI', '+XZ', '+ZY', '+IZ', '-IX', '+ZI', '-XZ', '-ZI', '+II', '-II', '-XX', '-XY', '-YX', '+XI', '-XI', '-YY', '-ZX', '+YX', '-ZY', '+ZZ']\n",
      "Lexicographically sorted\n",
      "StabilizerTable: ['+II', '-II', '+IX', '-IX', '+IY', '-IY', '-IZ', '+IZ', '+XI', '-XI', '+XX', '-XX', '+XY', '-XY', '+XZ', '-XZ', '+YI', '-YI', '-YX', '+YX', '+YY', '-YY', '-YZ', '+YZ', '+ZI', '-ZI', '+ZX', '-ZX', '+ZY', '-ZY', '-ZZ', '+ZZ']\n",
      "Weight sorted\n",
      "StabilizerTable: ['+II', '-II', '+IX', '-IX', '+IY', '-IY', '-IZ', '+IZ', '+XI', '-XI', '+YI', '-YI', '+ZI', '-ZI', '+XX', '-XX', '+XY', '-XY', '+XZ', '-XZ', '-YX', '+YX', '+YY', '-YY', '-YZ', '+YZ', '+ZX', '-ZX', '+ZY', '-ZY', '-ZZ', '+ZZ']\n"
     ]
    }
   ],
   "source": [
    "from numpy.random import shuffle\n",
    "from qiskit.quantum_info.operators import StabilizerTable\n",
    "\n",
    "# 2-qubit labels\n",
    "labels = ['+II', '+IX', '+IY', '+IZ', '+XI', '+XX', '+XY', '+XZ',\n",
    "          '+YI', '+YX', '+YY', '+YZ', '+ZI', '+ZX', '+ZY', '+ZZ',\n",
    "          '-II', '-IX', '-IY', '-IZ', '-XI', '-XX', '-XY', '-XZ',\n",
    "          '-YI', '-YX', '-YY', '-YZ', '-ZI', '-ZX', '-ZY', '-ZZ']\n",
    "# Shuffle Labels\n",
    "shuffle(labels)\n",
    "st = StabilizerTable.from_labels(labels)\n",
    "print('Initial Ordering')\n",
    "print(st)\n",
    "\n",
    "# Lexicographic Ordering\n",
    "srt = st.sort()\n",
    "print('Lexicographically sorted')\n",
    "print(srt)\n",
    "\n",
    "# Weight Ordering\n",
    "srt = st.sort(weight=True)\n",
    "print('Weight sorted')\n",
    "print(srt)"
   ]
  },
  {
   "cell_type": "code",
   "execution_count": 5,
   "id": "11eee4ac",
   "metadata": {
    "execution": {
     "iopub.execute_input": "2021-04-08T00:32:42.250311Z",
     "iopub.status.busy": "2021-04-08T00:32:42.249713Z",
     "iopub.status.idle": "2021-04-08T00:32:42.254104Z",
     "shell.execute_reply": "2021-04-08T00:32:42.254583Z"
    }
   },
   "outputs": [
    {
     "name": "stdout",
     "output_type": "stream",
     "text": [
      "StabilizerTable: ['-IY', '+IZ', '+XY', '-XZ']\n"
     ]
    }
   ],
   "source": [
    "from qiskit.quantum_info.operators import StabilizerTable\n",
    "\n",
    "current = StabilizerTable.from_labels(['+I', '-X'])\n",
    "other =  StabilizerTable.from_labels(['-Y', '+Z'])\n",
    "print(current.tensor(other))"
   ]
  },
  {
   "cell_type": "code",
   "execution_count": 6,
   "id": "267bf18c",
   "metadata": {
    "execution": {
     "iopub.execute_input": "2021-04-08T00:32:42.260460Z",
     "iopub.status.busy": "2021-04-08T00:32:42.259848Z",
     "iopub.status.idle": "2021-04-08T00:32:42.263346Z",
     "shell.execute_reply": "2021-04-08T00:32:42.262349Z"
    }
   },
   "outputs": [
    {
     "name": "stdout",
     "output_type": "stream",
     "text": [
      "StabilizerTable: ['+X', '+I', '-I', '-X']\n"
     ]
    }
   ],
   "source": [
    "from qiskit.quantum_info.operators import StabilizerTable\n",
    "\n",
    "st = StabilizerTable.from_labels(['+X', '+I', '-I', '-X', '+X', '-X', '+I'])\n",
    "unique = st.unique()\n",
    "print(unique)"
   ]
  }
 ],
 "metadata": {
  "kernelspec": {
   "display_name": "Python 3",
   "language": "python",
   "name": "python3"
  },
  "language_info": {
   "codemirror_mode": {
    "name": "ipython",
    "version": 3
   },
   "file_extension": ".py",
   "mimetype": "text/x-python",
   "name": "python",
   "nbconvert_exporter": "python",
   "pygments_lexer": "ipython3",
   "version": "3.8.8"
  }
 },
 "nbformat": 4,
 "nbformat_minor": 5
}