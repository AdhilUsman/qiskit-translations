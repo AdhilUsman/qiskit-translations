{
 "cells": [
  {
   "cell_type": "code",
   "execution_count": 1,
   "id": "c016d9b0",
   "metadata": {
    "execution": {
     "iopub.execute_input": "2021-05-18T03:37:00.171824Z",
     "iopub.status.busy": "2021-05-18T03:37:00.171320Z",
     "iopub.status.idle": "2021-05-18T03:37:00.742921Z",
     "shell.execute_reply": "2021-05-18T03:37:00.743295Z"
    }
   },
   "outputs": [
    {
     "name": "stdout",
     "output_type": "stream",
     "text": [
      "StabilizerTable: ['+X', '-Z', '-I', '-Y']\n"
     ]
    }
   ],
   "source": [
    "from qiskit.quantum_info.operators import StabilizerTable\n",
    "\n",
    "current = StabilizerTable.from_labels(['+I', '-X'])\n",
    "other =  StabilizerTable.from_labels(['+X', '-Z'])\n",
    "print(current.compose(other))"
   ]
  },
  {
   "cell_type": "code",
   "execution_count": 2,
   "id": "53f22003",
   "metadata": {
    "execution": {
     "iopub.execute_input": "2021-05-18T03:37:00.747665Z",
     "iopub.status.busy": "2021-05-18T03:37:00.746674Z",
     "iopub.status.idle": "2021-05-18T03:37:00.751086Z",
     "shell.execute_reply": "2021-05-18T03:37:00.750693Z"
    }
   },
   "outputs": [
    {
     "name": "stdout",
     "output_type": "stream",
     "text": [
      "StabilizerTable: ['+X', '-Z', '-I', '+Y']\n"
     ]
    }
   ],
   "source": [
    "from qiskit.quantum_info.operators import StabilizerTable\n",
    "\n",
    "current = StabilizerTable.from_labels(['+I', '-X'])\n",
    "other =  StabilizerTable.from_labels(['+X', '-Z'])\n",
    "print(current.dot(other))"
   ]
  },
  {
   "cell_type": "code",
   "execution_count": 3,
   "id": "2f8ee632",
   "metadata": {
    "execution": {
     "iopub.execute_input": "2021-05-18T03:37:00.755748Z",
     "iopub.status.busy": "2021-05-18T03:37:00.754930Z",
     "iopub.status.idle": "2021-05-18T03:37:00.757606Z",
     "shell.execute_reply": "2021-05-18T03:37:00.757165Z"
    }
   },
   "outputs": [
    {
     "name": "stdout",
     "output_type": "stream",
     "text": [
      "StabilizerTable: ['-YI', '+YX', '+ZI', '-ZX']\n"
     ]
    }
   ],
   "source": [
    "from qiskit.quantum_info.operators import StabilizerTable\n",
    "\n",
    "current = StabilizerTable.from_labels(['+I', '-X'])\n",
    "other =  StabilizerTable.from_labels(['-Y', '+Z'])\n",
    "print(current.expand(other))"
   ]
  },
  {
   "cell_type": "code",
   "execution_count": 4,
   "id": "af36e62f",
   "metadata": {
    "execution": {
     "iopub.execute_input": "2021-05-18T03:37:00.763035Z",
     "iopub.status.busy": "2021-05-18T03:37:00.762034Z",
     "iopub.status.idle": "2021-05-18T03:37:00.766489Z",
     "shell.execute_reply": "2021-05-18T03:37:00.766106Z"
    }
   },
   "outputs": [
    {
     "name": "stdout",
     "output_type": "stream",
     "text": [
      "Initial Ordering\n",
      "StabilizerTable: ['+YI', '-ZI', '+XZ', '+XX', '+ZZ', '-ZZ', '-II', '-YY', '+ZY', '-XZ', '+ZX', '-IZ', '-XY', '-YZ', '-IY', '+YX', '+YZ', '+YY', '-YI', '+XY', '-ZY', '+II', '+ZI', '-XI', '+IY', '+XI', '+IX', '-ZX', '+IZ', '-IX', '-YX', '-XX']\n",
      "Lexicographically sorted\n",
      "StabilizerTable: ['-II', '+II', '+IX', '-IX', '-IY', '+IY', '-IZ', '+IZ', '-XI', '+XI', '+XX', '-XX', '-XY', '+XY', '+XZ', '-XZ', '+YI', '-YI', '+YX', '-YX', '-YY', '+YY', '-YZ', '+YZ', '-ZI', '+ZI', '+ZX', '-ZX', '+ZY', '-ZY', '+ZZ', '-ZZ']\n",
      "Weight sorted\n",
      "StabilizerTable: ['-II', '+II', '+IX', '-IX', '-IY', '+IY', '-IZ', '+IZ', '-XI', '+XI', '+YI', '-YI', '-ZI', '+ZI', '+XX', '-XX', '-XY', '+XY', '+XZ', '-XZ', '+YX', '-YX', '-YY', '+YY', '-YZ', '+YZ', '+ZX', '-ZX', '+ZY', '-ZY', '+ZZ', '-ZZ']\n"
     ]
    }
   ],
   "source": [
    "from numpy.random import shuffle\n",
    "from qiskit.quantum_info.operators import StabilizerTable\n",
    "\n",
    "# 2-qubit labels\n",
    "labels = ['+II', '+IX', '+IY', '+IZ', '+XI', '+XX', '+XY', '+XZ',\n",
    "          '+YI', '+YX', '+YY', '+YZ', '+ZI', '+ZX', '+ZY', '+ZZ',\n",
    "          '-II', '-IX', '-IY', '-IZ', '-XI', '-XX', '-XY', '-XZ',\n",
    "          '-YI', '-YX', '-YY', '-YZ', '-ZI', '-ZX', '-ZY', '-ZZ']\n",
    "# Shuffle Labels\n",
    "shuffle(labels)\n",
    "st = StabilizerTable.from_labels(labels)\n",
    "print('Initial Ordering')\n",
    "print(st)\n",
    "\n",
    "# Lexicographic Ordering\n",
    "srt = st.sort()\n",
    "print('Lexicographically sorted')\n",
    "print(srt)\n",
    "\n",
    "# Weight Ordering\n",
    "srt = st.sort(weight=True)\n",
    "print('Weight sorted')\n",
    "print(srt)"
   ]
  },
  {
   "cell_type": "code",
   "execution_count": 5,
   "id": "3769b363",
   "metadata": {
    "execution": {
     "iopub.execute_input": "2021-05-18T03:37:00.771066Z",
     "iopub.status.busy": "2021-05-18T03:37:00.770265Z",
     "iopub.status.idle": "2021-05-18T03:37:00.772763Z",
     "shell.execute_reply": "2021-05-18T03:37:00.772369Z"
    }
   },
   "outputs": [
    {
     "name": "stdout",
     "output_type": "stream",
     "text": [
      "StabilizerTable: ['-IY', '+IZ', '+XY', '-XZ']\n"
     ]
    }
   ],
   "source": [
    "from qiskit.quantum_info.operators import StabilizerTable\n",
    "\n",
    "current = StabilizerTable.from_labels(['+I', '-X'])\n",
    "other =  StabilizerTable.from_labels(['-Y', '+Z'])\n",
    "print(current.tensor(other))"
   ]
  },
  {
   "cell_type": "code",
   "execution_count": 6,
   "id": "305fe9d0",
   "metadata": {
    "execution": {
     "iopub.execute_input": "2021-05-18T03:37:00.777582Z",
     "iopub.status.busy": "2021-05-18T03:37:00.776675Z",
     "iopub.status.idle": "2021-05-18T03:37:00.779249Z",
     "shell.execute_reply": "2021-05-18T03:37:00.778854Z"
    }
   },
   "outputs": [
    {
     "name": "stdout",
     "output_type": "stream",
     "text": [
      "StabilizerTable: ['+X', '+I', '-I', '-X']\n"
     ]
    }
   ],
   "source": [
    "from qiskit.quantum_info.operators import StabilizerTable\n",
    "\n",
    "st = StabilizerTable.from_labels(['+X', '+I', '-I', '-X', '+X', '-X', '+I'])\n",
    "unique = st.unique()\n",
    "print(unique)"
   ]
  }
 ],
 "metadata": {
  "kernelspec": {
   "display_name": "Python 3",
   "language": "python",
   "name": "python3"
  },
  "language_info": {
   "codemirror_mode": {
    "name": "ipython",
    "version": 3
   },
   "file_extension": ".py",
   "mimetype": "text/x-python",
   "name": "python",
   "nbconvert_exporter": "python",
   "pygments_lexer": "ipython3",
   "version": "3.8.10"
  }
 },
 "nbformat": 4,
 "nbformat_minor": 5
}