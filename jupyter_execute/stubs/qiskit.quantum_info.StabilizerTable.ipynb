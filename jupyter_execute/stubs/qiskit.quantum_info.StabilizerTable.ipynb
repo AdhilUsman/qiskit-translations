{
 "cells": [
  {
   "cell_type": "code",
   "execution_count": 1,
   "id": "assisted-crowd",
   "metadata": {
    "execution": {
     "iopub.execute_input": "2021-03-28T22:07:06.593625Z",
     "iopub.status.busy": "2021-03-28T22:07:06.593105Z",
     "iopub.status.idle": "2021-03-28T22:07:08.454421Z",
     "shell.execute_reply": "2021-03-28T22:07:08.453881Z"
    }
   },
   "outputs": [
    {
     "name": "stdout",
     "output_type": "stream",
     "text": [
      "StabilizerTable: ['+X', '-Z', '-I', '-Y']\n"
     ]
    }
   ],
   "source": [
    "from qiskit.quantum_info.operators import StabilizerTable\n",
    "\n",
    "current = StabilizerTable.from_labels(['+I', '-X'])\n",
    "other =  StabilizerTable.from_labels(['+X', '-Z'])\n",
    "print(current.compose(other))"
   ]
  },
  {
   "cell_type": "code",
   "execution_count": 2,
   "id": "joint-trustee",
   "metadata": {
    "execution": {
     "iopub.execute_input": "2021-03-28T22:07:08.460538Z",
     "iopub.status.busy": "2021-03-28T22:07:08.459343Z",
     "iopub.status.idle": "2021-03-28T22:07:08.462430Z",
     "shell.execute_reply": "2021-03-28T22:07:08.461958Z"
    }
   },
   "outputs": [
    {
     "name": "stdout",
     "output_type": "stream",
     "text": [
      "StabilizerTable: ['+X', '-Z', '-I', '+Y']\n"
     ]
    }
   ],
   "source": [
    "from qiskit.quantum_info.operators import StabilizerTable\n",
    "\n",
    "current = StabilizerTable.from_labels(['+I', '-X'])\n",
    "other =  StabilizerTable.from_labels(['+X', '-Z'])\n",
    "print(current.dot(other))"
   ]
  },
  {
   "cell_type": "code",
   "execution_count": 3,
   "id": "completed-witch",
   "metadata": {
    "execution": {
     "iopub.execute_input": "2021-03-28T22:07:08.468401Z",
     "iopub.status.busy": "2021-03-28T22:07:08.467189Z",
     "iopub.status.idle": "2021-03-28T22:07:08.470259Z",
     "shell.execute_reply": "2021-03-28T22:07:08.469765Z"
    }
   },
   "outputs": [
    {
     "name": "stdout",
     "output_type": "stream",
     "text": [
      "StabilizerTable: ['-YI', '+ZI', '+YX', '-ZX']\n"
     ]
    }
   ],
   "source": [
    "from qiskit.quantum_info.operators import StabilizerTable\n",
    "\n",
    "current = StabilizerTable.from_labels(['+I', '-X'])\n",
    "other =  StabilizerTable.from_labels(['-Y', '+Z'])\n",
    "print(current.expand(other))"
   ]
  },
  {
   "cell_type": "code",
   "execution_count": 4,
   "id": "surrounded-declaration",
   "metadata": {
    "execution": {
     "iopub.execute_input": "2021-03-28T22:07:08.476568Z",
     "iopub.status.busy": "2021-03-28T22:07:08.475537Z",
     "iopub.status.idle": "2021-03-28T22:07:08.480897Z",
     "shell.execute_reply": "2021-03-28T22:07:08.480466Z"
    }
   },
   "outputs": [
    {
     "name": "stdout",
     "output_type": "stream",
     "text": [
      "Initial Ordering\n",
      "StabilizerTable: ['+XY', '-ZI', '-YX', '+ZY', '+II', '-ZX', '+YY', '+ZZ', '-II', '-IX', '+IY', '-YI', '+ZX', '+XZ', '-ZY', '-IY', '-XZ', '+YI', '-ZZ', '+IX', '+XI', '+IZ', '-XX', '+YZ', '-XI', '-XY', '-IZ', '+YX', '-YZ', '-YY', '+XX', '+ZI']\n",
      "Lexicographically sorted\n",
      "StabilizerTable: ['+II', '-II', '-IX', '+IX', '+IY', '-IY', '+IZ', '-IZ', '+XI', '-XI', '-XX', '+XX', '+XY', '-XY', '+XZ', '-XZ', '-YI', '+YI', '-YX', '+YX', '+YY', '-YY', '+YZ', '-YZ', '-ZI', '+ZI', '-ZX', '+ZX', '+ZY', '-ZY', '+ZZ', '-ZZ']\n",
      "Weight sorted\n",
      "StabilizerTable: ['+II', '-II', '-IX', '+IX', '+IY', '-IY', '+IZ', '-IZ', '+XI', '-XI', '-YI', '+YI', '-ZI', '+ZI', '-XX', '+XX', '+XY', '-XY', '+XZ', '-XZ', '-YX', '+YX', '+YY', '-YY', '+YZ', '-YZ', '-ZX', '+ZX', '+ZY', '-ZY', '+ZZ', '-ZZ']\n"
     ]
    }
   ],
   "source": [
    "from numpy.random import shuffle\n",
    "from qiskit.quantum_info.operators import StabilizerTable\n",
    "\n",
    "# 2-qubit labels\n",
    "labels = ['+II', '+IX', '+IY', '+IZ', '+XI', '+XX', '+XY', '+XZ',\n",
    "          '+YI', '+YX', '+YY', '+YZ', '+ZI', '+ZX', '+ZY', '+ZZ',\n",
    "          '-II', '-IX', '-IY', '-IZ', '-XI', '-XX', '-XY', '-XZ',\n",
    "          '-YI', '-YX', '-YY', '-YZ', '-ZI', '-ZX', '-ZY', '-ZZ']\n",
    "# Shuffle Labels\n",
    "shuffle(labels)\n",
    "st = StabilizerTable.from_labels(labels)\n",
    "print('Initial Ordering')\n",
    "print(st)\n",
    "\n",
    "# Lexicographic Ordering\n",
    "srt = st.sort()\n",
    "print('Lexicographically sorted')\n",
    "print(srt)\n",
    "\n",
    "# Weight Ordering\n",
    "srt = st.sort(weight=True)\n",
    "print('Weight sorted')\n",
    "print(srt)"
   ]
  },
  {
   "cell_type": "code",
   "execution_count": 5,
   "id": "equal-hepatitis",
   "metadata": {
    "execution": {
     "iopub.execute_input": "2021-03-28T22:07:08.486690Z",
     "iopub.status.busy": "2021-03-28T22:07:08.485466Z",
     "iopub.status.idle": "2021-03-28T22:07:08.488457Z",
     "shell.execute_reply": "2021-03-28T22:07:08.488009Z"
    }
   },
   "outputs": [
    {
     "name": "stdout",
     "output_type": "stream",
     "text": [
      "StabilizerTable: ['-IY', '+IZ', '+XY', '-XZ']\n"
     ]
    }
   ],
   "source": [
    "from qiskit.quantum_info.operators import StabilizerTable\n",
    "\n",
    "current = StabilizerTable.from_labels(['+I', '-X'])\n",
    "other =  StabilizerTable.from_labels(['-Y', '+Z'])\n",
    "print(current.tensor(other))"
   ]
  },
  {
   "cell_type": "code",
   "execution_count": 6,
   "id": "humanitarian-pepper",
   "metadata": {
    "execution": {
     "iopub.execute_input": "2021-03-28T22:07:08.493284Z",
     "iopub.status.busy": "2021-03-28T22:07:08.492753Z",
     "iopub.status.idle": "2021-03-28T22:07:08.495230Z",
     "shell.execute_reply": "2021-03-28T22:07:08.495647Z"
    }
   },
   "outputs": [
    {
     "name": "stdout",
     "output_type": "stream",
     "text": [
      "StabilizerTable: ['+X', '+I', '-I', '-X']\n"
     ]
    }
   ],
   "source": [
    "from qiskit.quantum_info.operators import StabilizerTable\n",
    "\n",
    "st = StabilizerTable.from_labels(['+X', '+I', '-I', '-X', '+X', '-X', '+I'])\n",
    "unique = st.unique()\n",
    "print(unique)"
   ]
  }
 ],
 "metadata": {
  "kernelspec": {
   "display_name": "Python 3",
   "language": "python",
   "name": "python3"
  },
  "language_info": {
   "codemirror_mode": {
    "name": "ipython",
    "version": 3
   },
   "file_extension": ".py",
   "mimetype": "text/x-python",
   "name": "python",
   "nbconvert_exporter": "python",
   "pygments_lexer": "ipython3",
   "version": "3.8.8"
  }
 },
 "nbformat": 4,
 "nbformat_minor": 5
}