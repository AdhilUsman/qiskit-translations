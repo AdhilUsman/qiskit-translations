{
 "cells": [
  {
   "cell_type": "code",
   "execution_count": 1,
   "id": "powerful-cameroon",
   "metadata": {
    "execution": {
     "iopub.execute_input": "2021-03-31T05:09:19.284272Z",
     "iopub.status.busy": "2021-03-31T05:09:19.283721Z",
     "iopub.status.idle": "2021-03-31T05:09:21.164243Z",
     "shell.execute_reply": "2021-03-31T05:09:21.164682Z"
    }
   },
   "outputs": [
    {
     "name": "stdout",
     "output_type": "stream",
     "text": [
      "StabilizerTable: ['+X', '-Z', '-I', '-Y']\n"
     ]
    }
   ],
   "source": [
    "from qiskit.quantum_info.operators import StabilizerTable\n",
    "\n",
    "current = StabilizerTable.from_labels(['+I', '-X'])\n",
    "other =  StabilizerTable.from_labels(['+X', '-Z'])\n",
    "print(current.compose(other))"
   ]
  },
  {
   "cell_type": "code",
   "execution_count": 2,
   "id": "entitled-installation",
   "metadata": {
    "execution": {
     "iopub.execute_input": "2021-03-31T05:09:21.171010Z",
     "iopub.status.busy": "2021-03-31T05:09:21.169684Z",
     "iopub.status.idle": "2021-03-31T05:09:21.172774Z",
     "shell.execute_reply": "2021-03-31T05:09:21.172292Z"
    }
   },
   "outputs": [
    {
     "name": "stdout",
     "output_type": "stream",
     "text": [
      "StabilizerTable: ['+X', '-Z', '-I', '+Y']\n"
     ]
    }
   ],
   "source": [
    "from qiskit.quantum_info.operators import StabilizerTable\n",
    "\n",
    "current = StabilizerTable.from_labels(['+I', '-X'])\n",
    "other =  StabilizerTable.from_labels(['+X', '-Z'])\n",
    "print(current.dot(other))"
   ]
  },
  {
   "cell_type": "code",
   "execution_count": 3,
   "id": "spare-harvest",
   "metadata": {
    "execution": {
     "iopub.execute_input": "2021-03-31T05:09:21.178832Z",
     "iopub.status.busy": "2021-03-31T05:09:21.177563Z",
     "iopub.status.idle": "2021-03-31T05:09:21.180550Z",
     "shell.execute_reply": "2021-03-31T05:09:21.180096Z"
    }
   },
   "outputs": [
    {
     "name": "stdout",
     "output_type": "stream",
     "text": [
      "StabilizerTable: ['-YI', '+ZI', '+YX', '-ZX']\n"
     ]
    }
   ],
   "source": [
    "from qiskit.quantum_info.operators import StabilizerTable\n",
    "\n",
    "current = StabilizerTable.from_labels(['+I', '-X'])\n",
    "other =  StabilizerTable.from_labels(['-Y', '+Z'])\n",
    "print(current.expand(other))"
   ]
  },
  {
   "cell_type": "code",
   "execution_count": 4,
   "id": "personal-pittsburgh",
   "metadata": {
    "execution": {
     "iopub.execute_input": "2021-03-31T05:09:21.190963Z",
     "iopub.status.busy": "2021-03-31T05:09:21.187487Z",
     "iopub.status.idle": "2021-03-31T05:09:21.193243Z",
     "shell.execute_reply": "2021-03-31T05:09:21.193686Z"
    }
   },
   "outputs": [
    {
     "name": "stdout",
     "output_type": "stream",
     "text": [
      "Initial Ordering\n",
      "StabilizerTable: ['-ZY', '-IZ', '+XX', '-XY', '+ZI', '-ZI', '+XI', '+IY', '-XX', '-ZZ', '-IY', '-YX', '-YY', '-XZ', '-IX', '+YI', '-YZ', '+YZ', '+IX', '+YY', '+XY', '+ZY', '+YX', '+ZX', '+IZ', '+II', '+XZ', '-ZX', '+ZZ', '-II', '-XI', '-YI']\n",
      "Lexicographically sorted\n",
      "StabilizerTable: ['+II', '-II', '-IX', '+IX', '+IY', '-IY', '-IZ', '+IZ', '+XI', '-XI', '+XX', '-XX', '-XY', '+XY', '-XZ', '+XZ', '+YI', '-YI', '-YX', '+YX', '-YY', '+YY', '-YZ', '+YZ', '+ZI', '-ZI', '+ZX', '-ZX', '-ZY', '+ZY', '-ZZ', '+ZZ']\n",
      "Weight sorted\n",
      "StabilizerTable: ['+II', '-II', '-IX', '+IX', '+IY', '-IY', '-IZ', '+IZ', '+XI', '-XI', '+YI', '-YI', '+ZI', '-ZI', '+XX', '-XX', '-XY', '+XY', '-XZ', '+XZ', '-YX', '+YX', '-YY', '+YY', '-YZ', '+YZ', '+ZX', '-ZX', '-ZY', '+ZY', '-ZZ', '+ZZ']\n"
     ]
    }
   ],
   "source": [
    "from numpy.random import shuffle\n",
    "from qiskit.quantum_info.operators import StabilizerTable\n",
    "\n",
    "# 2-qubit labels\n",
    "labels = ['+II', '+IX', '+IY', '+IZ', '+XI', '+XX', '+XY', '+XZ',\n",
    "          '+YI', '+YX', '+YY', '+YZ', '+ZI', '+ZX', '+ZY', '+ZZ',\n",
    "          '-II', '-IX', '-IY', '-IZ', '-XI', '-XX', '-XY', '-XZ',\n",
    "          '-YI', '-YX', '-YY', '-YZ', '-ZI', '-ZX', '-ZY', '-ZZ']\n",
    "# Shuffle Labels\n",
    "shuffle(labels)\n",
    "st = StabilizerTable.from_labels(labels)\n",
    "print('Initial Ordering')\n",
    "print(st)\n",
    "\n",
    "# Lexicographic Ordering\n",
    "srt = st.sort()\n",
    "print('Lexicographically sorted')\n",
    "print(srt)\n",
    "\n",
    "# Weight Ordering\n",
    "srt = st.sort(weight=True)\n",
    "print('Weight sorted')\n",
    "print(srt)"
   ]
  },
  {
   "cell_type": "code",
   "execution_count": 5,
   "id": "empirical-wilderness",
   "metadata": {
    "execution": {
     "iopub.execute_input": "2021-03-31T05:09:21.199627Z",
     "iopub.status.busy": "2021-03-31T05:09:21.198342Z",
     "iopub.status.idle": "2021-03-31T05:09:21.201605Z",
     "shell.execute_reply": "2021-03-31T05:09:21.201115Z"
    }
   },
   "outputs": [
    {
     "name": "stdout",
     "output_type": "stream",
     "text": [
      "StabilizerTable: ['-IY', '+IZ', '+XY', '-XZ']\n"
     ]
    }
   ],
   "source": [
    "from qiskit.quantum_info.operators import StabilizerTable\n",
    "\n",
    "current = StabilizerTable.from_labels(['+I', '-X'])\n",
    "other =  StabilizerTable.from_labels(['-Y', '+Z'])\n",
    "print(current.tensor(other))"
   ]
  },
  {
   "cell_type": "code",
   "execution_count": 6,
   "id": "medical-gazette",
   "metadata": {
    "execution": {
     "iopub.execute_input": "2021-03-31T05:09:21.207845Z",
     "iopub.status.busy": "2021-03-31T05:09:21.206603Z",
     "iopub.status.idle": "2021-03-31T05:09:21.210020Z",
     "shell.execute_reply": "2021-03-31T05:09:21.209540Z"
    }
   },
   "outputs": [
    {
     "name": "stdout",
     "output_type": "stream",
     "text": [
      "StabilizerTable: ['+X', '+I', '-I', '-X']\n"
     ]
    }
   ],
   "source": [
    "from qiskit.quantum_info.operators import StabilizerTable\n",
    "\n",
    "st = StabilizerTable.from_labels(['+X', '+I', '-I', '-X', '+X', '-X', '+I'])\n",
    "unique = st.unique()\n",
    "print(unique)"
   ]
  }
 ],
 "metadata": {
  "kernelspec": {
   "display_name": "Python 3",
   "language": "python",
   "name": "python3"
  },
  "language_info": {
   "codemirror_mode": {
    "name": "ipython",
    "version": 3
   },
   "file_extension": ".py",
   "mimetype": "text/x-python",
   "name": "python",
   "nbconvert_exporter": "python",
   "pygments_lexer": "ipython3",
   "version": "3.8.8"
  }
 },
 "nbformat": 4,
 "nbformat_minor": 5
}