{
 "cells": [
  {
   "cell_type": "code",
   "execution_count": 1,
   "id": "eeb9ff05",
   "metadata": {
    "execution": {
     "iopub.execute_input": "2021-04-13T23:58:07.922332Z",
     "iopub.status.busy": "2021-04-13T23:58:07.921748Z",
     "iopub.status.idle": "2021-04-13T23:58:08.659675Z",
     "shell.execute_reply": "2021-04-13T23:58:08.659007Z"
    }
   },
   "outputs": [
    {
     "name": "stdout",
     "output_type": "stream",
     "text": [
      "StabilizerTable: ['+X', '-Z', '-I', '-Y']\n"
     ]
    }
   ],
   "source": [
    "from qiskit.quantum_info.operators import StabilizerTable\n",
    "\n",
    "current = StabilizerTable.from_labels(['+I', '-X'])\n",
    "other =  StabilizerTable.from_labels(['+X', '-Z'])\n",
    "print(current.compose(other))"
   ]
  },
  {
   "cell_type": "code",
   "execution_count": 2,
   "id": "aa7a5a16",
   "metadata": {
    "execution": {
     "iopub.execute_input": "2021-04-13T23:58:08.666294Z",
     "iopub.status.busy": "2021-04-13T23:58:08.664831Z",
     "iopub.status.idle": "2021-04-13T23:58:08.668181Z",
     "shell.execute_reply": "2021-04-13T23:58:08.667663Z"
    }
   },
   "outputs": [
    {
     "name": "stdout",
     "output_type": "stream",
     "text": [
      "StabilizerTable: ['+X', '-Z', '-I', '+Y']\n"
     ]
    }
   ],
   "source": [
    "from qiskit.quantum_info.operators import StabilizerTable\n",
    "\n",
    "current = StabilizerTable.from_labels(['+I', '-X'])\n",
    "other =  StabilizerTable.from_labels(['+X', '-Z'])\n",
    "print(current.dot(other))"
   ]
  },
  {
   "cell_type": "code",
   "execution_count": 3,
   "id": "9a9cd2ff",
   "metadata": {
    "execution": {
     "iopub.execute_input": "2021-04-13T23:58:08.674645Z",
     "iopub.status.busy": "2021-04-13T23:58:08.673183Z",
     "iopub.status.idle": "2021-04-13T23:58:08.676520Z",
     "shell.execute_reply": "2021-04-13T23:58:08.675993Z"
    }
   },
   "outputs": [
    {
     "name": "stdout",
     "output_type": "stream",
     "text": [
      "StabilizerTable: ['-YI', '+YX', '+ZI', '-ZX']\n"
     ]
    }
   ],
   "source": [
    "from qiskit.quantum_info.operators import StabilizerTable\n",
    "\n",
    "current = StabilizerTable.from_labels(['+I', '-X'])\n",
    "other =  StabilizerTable.from_labels(['-Y', '+Z'])\n",
    "print(current.expand(other))"
   ]
  },
  {
   "cell_type": "code",
   "execution_count": 4,
   "id": "a6f1dfda",
   "metadata": {
    "execution": {
     "iopub.execute_input": "2021-04-13T23:58:08.683314Z",
     "iopub.status.busy": "2021-04-13T23:58:08.681750Z",
     "iopub.status.idle": "2021-04-13T23:58:08.688628Z",
     "shell.execute_reply": "2021-04-13T23:58:08.688023Z"
    }
   },
   "outputs": [
    {
     "name": "stdout",
     "output_type": "stream",
     "text": [
      "Initial Ordering\n",
      "StabilizerTable: ['+ZZ', '+YI', '+IX', '-IZ', '-YX', '-IX', '-XY', '-YI', '+XX', '+YZ', '-XZ', '-XX', '+ZY', '+XI', '-ZX', '+IY', '-ZY', '+ZX', '+IZ', '-YZ', '+YX', '-IY', '+ZI', '-XI', '+XY', '-II', '+XZ', '+YY', '-YY', '-ZI', '+II', '-ZZ']\n",
      "Lexicographically sorted\n",
      "StabilizerTable: ['-II', '+II', '+IX', '-IX', '+IY', '-IY', '-IZ', '+IZ', '+XI', '-XI', '+XX', '-XX', '-XY', '+XY', '-XZ', '+XZ', '+YI', '-YI', '-YX', '+YX', '+YY', '-YY', '+YZ', '-YZ', '+ZI', '-ZI', '-ZX', '+ZX', '+ZY', '-ZY', '+ZZ', '-ZZ']\n",
      "Weight sorted\n",
      "StabilizerTable: ['-II', '+II', '+IX', '-IX', '+IY', '-IY', '-IZ', '+IZ', '+XI', '-XI', '+YI', '-YI', '+ZI', '-ZI', '+XX', '-XX', '-XY', '+XY', '-XZ', '+XZ', '-YX', '+YX', '+YY', '-YY', '+YZ', '-YZ', '-ZX', '+ZX', '+ZY', '-ZY', '+ZZ', '-ZZ']\n"
     ]
    }
   ],
   "source": [
    "from numpy.random import shuffle\n",
    "from qiskit.quantum_info.operators import StabilizerTable\n",
    "\n",
    "# 2-qubit labels\n",
    "labels = ['+II', '+IX', '+IY', '+IZ', '+XI', '+XX', '+XY', '+XZ',\n",
    "          '+YI', '+YX', '+YY', '+YZ', '+ZI', '+ZX', '+ZY', '+ZZ',\n",
    "          '-II', '-IX', '-IY', '-IZ', '-XI', '-XX', '-XY', '-XZ',\n",
    "          '-YI', '-YX', '-YY', '-YZ', '-ZI', '-ZX', '-ZY', '-ZZ']\n",
    "# Shuffle Labels\n",
    "shuffle(labels)\n",
    "st = StabilizerTable.from_labels(labels)\n",
    "print('Initial Ordering')\n",
    "print(st)\n",
    "\n",
    "# Lexicographic Ordering\n",
    "srt = st.sort()\n",
    "print('Lexicographically sorted')\n",
    "print(srt)\n",
    "\n",
    "# Weight Ordering\n",
    "srt = st.sort(weight=True)\n",
    "print('Weight sorted')\n",
    "print(srt)"
   ]
  },
  {
   "cell_type": "code",
   "execution_count": 5,
   "id": "3cc71758",
   "metadata": {
    "execution": {
     "iopub.execute_input": "2021-04-13T23:58:08.693382Z",
     "iopub.status.busy": "2021-04-13T23:58:08.692785Z",
     "iopub.status.idle": "2021-04-13T23:58:08.697381Z",
     "shell.execute_reply": "2021-04-13T23:58:08.696843Z"
    }
   },
   "outputs": [
    {
     "name": "stdout",
     "output_type": "stream",
     "text": [
      "StabilizerTable: ['-IY', '+IZ', '+XY', '-XZ']\n"
     ]
    }
   ],
   "source": [
    "from qiskit.quantum_info.operators import StabilizerTable\n",
    "\n",
    "current = StabilizerTable.from_labels(['+I', '-X'])\n",
    "other =  StabilizerTable.from_labels(['-Y', '+Z'])\n",
    "print(current.tensor(other))"
   ]
  },
  {
   "cell_type": "code",
   "execution_count": 6,
   "id": "af41b4a8",
   "metadata": {
    "execution": {
     "iopub.execute_input": "2021-04-13T23:58:08.702615Z",
     "iopub.status.busy": "2021-04-13T23:58:08.701978Z",
     "iopub.status.idle": "2021-04-13T23:58:08.704812Z",
     "shell.execute_reply": "2021-04-13T23:58:08.705287Z"
    }
   },
   "outputs": [
    {
     "name": "stdout",
     "output_type": "stream",
     "text": [
      "StabilizerTable: ['+X', '+I', '-I', '-X']\n"
     ]
    }
   ],
   "source": [
    "from qiskit.quantum_info.operators import StabilizerTable\n",
    "\n",
    "st = StabilizerTable.from_labels(['+X', '+I', '-I', '-X', '+X', '-X', '+I'])\n",
    "unique = st.unique()\n",
    "print(unique)"
   ]
  }
 ],
 "metadata": {
  "kernelspec": {
   "display_name": "Python 3",
   "language": "python",
   "name": "python3"
  },
  "language_info": {
   "codemirror_mode": {
    "name": "ipython",
    "version": 3
   },
   "file_extension": ".py",
   "mimetype": "text/x-python",
   "name": "python",
   "nbconvert_exporter": "python",
   "pygments_lexer": "ipython3",
   "version": "3.8.9"
  }
 },
 "nbformat": 4,
 "nbformat_minor": 5
}