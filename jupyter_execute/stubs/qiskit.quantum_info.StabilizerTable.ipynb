{
 "cells": [
  {
   "cell_type": "code",
   "execution_count": 1,
   "id": "2efcef04",
   "metadata": {
    "execution": {
     "iopub.execute_input": "2021-06-09T16:16:09.661824Z",
     "iopub.status.busy": "2021-06-09T16:16:09.661248Z",
     "iopub.status.idle": "2021-06-09T16:16:10.334889Z",
     "shell.execute_reply": "2021-06-09T16:16:10.335359Z"
    }
   },
   "outputs": [
    {
     "name": "stdout",
     "output_type": "stream",
     "text": [
      "StabilizerTable: ['+X', '-Z', '-I', '-Y']\n"
     ]
    }
   ],
   "source": [
    "from qiskit.quantum_info.operators import StabilizerTable\n",
    "\n",
    "current = StabilizerTable.from_labels(['+I', '-X'])\n",
    "other =  StabilizerTable.from_labels(['+X', '-Z'])\n",
    "print(current.compose(other))"
   ]
  },
  {
   "cell_type": "code",
   "execution_count": 2,
   "id": "aa95a48c",
   "metadata": {
    "execution": {
     "iopub.execute_input": "2021-06-09T16:16:10.341260Z",
     "iopub.status.busy": "2021-06-09T16:16:10.340481Z",
     "iopub.status.idle": "2021-06-09T16:16:10.344154Z",
     "shell.execute_reply": "2021-06-09T16:16:10.343656Z"
    }
   },
   "outputs": [
    {
     "name": "stdout",
     "output_type": "stream",
     "text": [
      "StabilizerTable: ['+X', '-Z', '-I', '+Y']\n"
     ]
    }
   ],
   "source": [
    "from qiskit.quantum_info.operators import StabilizerTable\n",
    "\n",
    "current = StabilizerTable.from_labels(['+I', '-X'])\n",
    "other =  StabilizerTable.from_labels(['+X', '-Z'])\n",
    "print(current.dot(other))"
   ]
  },
  {
   "cell_type": "code",
   "execution_count": 3,
   "id": "d07f6e4f",
   "metadata": {
    "execution": {
     "iopub.execute_input": "2021-06-09T16:16:10.349992Z",
     "iopub.status.busy": "2021-06-09T16:16:10.348729Z",
     "iopub.status.idle": "2021-06-09T16:16:10.351917Z",
     "shell.execute_reply": "2021-06-09T16:16:10.351392Z"
    }
   },
   "outputs": [
    {
     "name": "stdout",
     "output_type": "stream",
     "text": [
      "StabilizerTable: ['-YI', '+YX', '+ZI', '-ZX']\n"
     ]
    }
   ],
   "source": [
    "from qiskit.quantum_info.operators import StabilizerTable\n",
    "\n",
    "current = StabilizerTable.from_labels(['+I', '-X'])\n",
    "other =  StabilizerTable.from_labels(['-Y', '+Z'])\n",
    "print(current.expand(other))"
   ]
  },
  {
   "cell_type": "code",
   "execution_count": 4,
   "id": "146ad187",
   "metadata": {
    "execution": {
     "iopub.execute_input": "2021-06-09T16:16:10.358489Z",
     "iopub.status.busy": "2021-06-09T16:16:10.357210Z",
     "iopub.status.idle": "2021-06-09T16:16:10.362159Z",
     "shell.execute_reply": "2021-06-09T16:16:10.362607Z"
    }
   },
   "outputs": [
    {
     "name": "stdout",
     "output_type": "stream",
     "text": [
      "Initial Ordering\n",
      "StabilizerTable: ['+ZX', '-YY', '+YI', '+II', '-XI', '+IZ', '-ZZ', '-YX', '+XZ', '+YX', '-XX', '+YZ', '-IY', '-XZ', '+YY', '-IZ', '-IX', '-ZX', '-XY', '-ZY', '+ZI', '+IX', '-ZI', '+XY', '+XX', '-YZ', '+IY', '+XI', '+ZZ', '-II', '-YI', '+ZY']\n",
      "Lexicographically sorted\n",
      "StabilizerTable: ['+II', '-II', '-IX', '+IX', '-IY', '+IY', '+IZ', '-IZ', '-XI', '+XI', '-XX', '+XX', '-XY', '+XY', '+XZ', '-XZ', '+YI', '-YI', '-YX', '+YX', '-YY', '+YY', '+YZ', '-YZ', '+ZI', '-ZI', '+ZX', '-ZX', '-ZY', '+ZY', '-ZZ', '+ZZ']\n",
      "Weight sorted\n",
      "StabilizerTable: ['+II', '-II', '-IX', '+IX', '-IY', '+IY', '+IZ', '-IZ', '-XI', '+XI', '+YI', '-YI', '+ZI', '-ZI', '-XX', '+XX', '-XY', '+XY', '+XZ', '-XZ', '-YX', '+YX', '-YY', '+YY', '+YZ', '-YZ', '+ZX', '-ZX', '-ZY', '+ZY', '-ZZ', '+ZZ']\n"
     ]
    }
   ],
   "source": [
    "from numpy.random import shuffle\n",
    "from qiskit.quantum_info.operators import StabilizerTable\n",
    "\n",
    "# 2-qubit labels\n",
    "labels = ['+II', '+IX', '+IY', '+IZ', '+XI', '+XX', '+XY', '+XZ',\n",
    "          '+YI', '+YX', '+YY', '+YZ', '+ZI', '+ZX', '+ZY', '+ZZ',\n",
    "          '-II', '-IX', '-IY', '-IZ', '-XI', '-XX', '-XY', '-XZ',\n",
    "          '-YI', '-YX', '-YY', '-YZ', '-ZI', '-ZX', '-ZY', '-ZZ']\n",
    "# Shuffle Labels\n",
    "shuffle(labels)\n",
    "st = StabilizerTable.from_labels(labels)\n",
    "print('Initial Ordering')\n",
    "print(st)\n",
    "\n",
    "# Lexicographic Ordering\n",
    "srt = st.sort()\n",
    "print('Lexicographically sorted')\n",
    "print(srt)\n",
    "\n",
    "# Weight Ordering\n",
    "srt = st.sort(weight=True)\n",
    "print('Weight sorted')\n",
    "print(srt)"
   ]
  },
  {
   "cell_type": "code",
   "execution_count": 5,
   "id": "0fdb2306",
   "metadata": {
    "execution": {
     "iopub.execute_input": "2021-06-09T16:16:10.368466Z",
     "iopub.status.busy": "2021-06-09T16:16:10.367229Z",
     "iopub.status.idle": "2021-06-09T16:16:10.370383Z",
     "shell.execute_reply": "2021-06-09T16:16:10.369900Z"
    }
   },
   "outputs": [
    {
     "name": "stdout",
     "output_type": "stream",
     "text": [
      "StabilizerTable: ['-IY', '+IZ', '+XY', '-XZ']\n"
     ]
    }
   ],
   "source": [
    "from qiskit.quantum_info.operators import StabilizerTable\n",
    "\n",
    "current = StabilizerTable.from_labels(['+I', '-X'])\n",
    "other =  StabilizerTable.from_labels(['-Y', '+Z'])\n",
    "print(current.tensor(other))"
   ]
  },
  {
   "cell_type": "code",
   "execution_count": 6,
   "id": "18c23f70",
   "metadata": {
    "execution": {
     "iopub.execute_input": "2021-06-09T16:16:10.376456Z",
     "iopub.status.busy": "2021-06-09T16:16:10.375201Z",
     "iopub.status.idle": "2021-06-09T16:16:10.378269Z",
     "shell.execute_reply": "2021-06-09T16:16:10.377786Z"
    }
   },
   "outputs": [
    {
     "name": "stdout",
     "output_type": "stream",
     "text": [
      "StabilizerTable: ['+X', '+I', '-I', '-X']\n"
     ]
    }
   ],
   "source": [
    "from qiskit.quantum_info.operators import StabilizerTable\n",
    "\n",
    "st = StabilizerTable.from_labels(['+X', '+I', '-I', '-X', '+X', '-X', '+I'])\n",
    "unique = st.unique()\n",
    "print(unique)"
   ]
  }
 ],
 "metadata": {
  "kernelspec": {
   "display_name": "Python 3",
   "language": "python",
   "name": "python3"
  },
  "language_info": {
   "codemirror_mode": {
    "name": "ipython",
    "version": 3
   },
   "file_extension": ".py",
   "mimetype": "text/x-python",
   "name": "python",
   "nbconvert_exporter": "python",
   "pygments_lexer": "ipython3",
   "version": "3.8.10"
  }
 },
 "nbformat": 4,
 "nbformat_minor": 5
}