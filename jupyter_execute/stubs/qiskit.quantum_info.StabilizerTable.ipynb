{
 "cells": [
  {
   "cell_type": "code",
   "execution_count": 1,
   "id": "received-yahoo",
   "metadata": {
    "execution": {
     "iopub.execute_input": "2021-03-29T10:44:06.137594Z",
     "iopub.status.busy": "2021-03-29T10:44:06.137105Z",
     "iopub.status.idle": "2021-03-29T10:44:08.036506Z",
     "shell.execute_reply": "2021-03-29T10:44:08.035967Z"
    }
   },
   "outputs": [
    {
     "name": "stdout",
     "output_type": "stream",
     "text": [
      "StabilizerTable: ['+X', '-Z', '-I', '-Y']\n"
     ]
    }
   ],
   "source": [
    "from qiskit.quantum_info.operators import StabilizerTable\n",
    "\n",
    "current = StabilizerTable.from_labels(['+I', '-X'])\n",
    "other =  StabilizerTable.from_labels(['+X', '-Z'])\n",
    "print(current.compose(other))"
   ]
  },
  {
   "cell_type": "code",
   "execution_count": 2,
   "id": "vertical-ultimate",
   "metadata": {
    "execution": {
     "iopub.execute_input": "2021-03-29T10:44:08.042411Z",
     "iopub.status.busy": "2021-03-29T10:44:08.041458Z",
     "iopub.status.idle": "2021-03-29T10:44:08.044443Z",
     "shell.execute_reply": "2021-03-29T10:44:08.043974Z"
    }
   },
   "outputs": [
    {
     "name": "stdout",
     "output_type": "stream",
     "text": [
      "StabilizerTable: ['+X', '-Z', '-I', '+Y']\n"
     ]
    }
   ],
   "source": [
    "from qiskit.quantum_info.operators import StabilizerTable\n",
    "\n",
    "current = StabilizerTable.from_labels(['+I', '-X'])\n",
    "other =  StabilizerTable.from_labels(['+X', '-Z'])\n",
    "print(current.dot(other))"
   ]
  },
  {
   "cell_type": "code",
   "execution_count": 3,
   "id": "editorial-campaign",
   "metadata": {
    "execution": {
     "iopub.execute_input": "2021-03-29T10:44:08.051925Z",
     "iopub.status.busy": "2021-03-29T10:44:08.049748Z",
     "iopub.status.idle": "2021-03-29T10:44:08.053691Z",
     "shell.execute_reply": "2021-03-29T10:44:08.053185Z"
    }
   },
   "outputs": [
    {
     "name": "stdout",
     "output_type": "stream",
     "text": [
      "StabilizerTable: ['-YI', '+ZI', '+YX', '-ZX']\n"
     ]
    }
   ],
   "source": [
    "from qiskit.quantum_info.operators import StabilizerTable\n",
    "\n",
    "current = StabilizerTable.from_labels(['+I', '-X'])\n",
    "other =  StabilizerTable.from_labels(['-Y', '+Z'])\n",
    "print(current.expand(other))"
   ]
  },
  {
   "cell_type": "code",
   "execution_count": 4,
   "id": "british-movement",
   "metadata": {
    "execution": {
     "iopub.execute_input": "2021-03-29T10:44:08.063517Z",
     "iopub.status.busy": "2021-03-29T10:44:08.060872Z",
     "iopub.status.idle": "2021-03-29T10:44:08.071867Z",
     "shell.execute_reply": "2021-03-29T10:44:08.071401Z"
    }
   },
   "outputs": [
    {
     "name": "stdout",
     "output_type": "stream",
     "text": [
      "Initial Ordering\n",
      "StabilizerTable: ['-XI', '+II', '+ZI', '+ZX', '+ZZ', '+YZ', '-ZI', '+YY', '-ZX', '+IZ', '-IY', '+YX', '-XX', '-YX', '-XZ', '-IX', '-YY', '+XI', '-YI', '+IX', '-XY', '-ZY', '+XZ', '-YZ', '+IY', '+ZY', '-ZZ', '+XY', '-II', '-IZ', '+XX', '+YI']\n",
      "Lexicographically sorted\n",
      "StabilizerTable: ['+II', '-II', '-IX', '+IX', '-IY', '+IY', '+IZ', '-IZ', '-XI', '+XI', '-XX', '+XX', '-XY', '+XY', '-XZ', '+XZ', '-YI', '+YI', '+YX', '-YX', '+YY', '-YY', '+YZ', '-YZ', '+ZI', '-ZI', '+ZX', '-ZX', '-ZY', '+ZY', '+ZZ', '-ZZ']\n",
      "Weight sorted\n",
      "StabilizerTable: ['+II', '-II', '-IX', '+IX', '-IY', '+IY', '+IZ', '-IZ', '-XI', '+XI', '-YI', '+YI', '+ZI', '-ZI', '-XX', '+XX', '-XY', '+XY', '-XZ', '+XZ', '+YX', '-YX', '+YY', '-YY', '+YZ', '-YZ', '+ZX', '-ZX', '-ZY', '+ZY', '+ZZ', '-ZZ']\n"
     ]
    }
   ],
   "source": [
    "from numpy.random import shuffle\n",
    "from qiskit.quantum_info.operators import StabilizerTable\n",
    "\n",
    "# 2-qubit labels\n",
    "labels = ['+II', '+IX', '+IY', '+IZ', '+XI', '+XX', '+XY', '+XZ',\n",
    "          '+YI', '+YX', '+YY', '+YZ', '+ZI', '+ZX', '+ZY', '+ZZ',\n",
    "          '-II', '-IX', '-IY', '-IZ', '-XI', '-XX', '-XY', '-XZ',\n",
    "          '-YI', '-YX', '-YY', '-YZ', '-ZI', '-ZX', '-ZY', '-ZZ']\n",
    "# Shuffle Labels\n",
    "shuffle(labels)\n",
    "st = StabilizerTable.from_labels(labels)\n",
    "print('Initial Ordering')\n",
    "print(st)\n",
    "\n",
    "# Lexicographic Ordering\n",
    "srt = st.sort()\n",
    "print('Lexicographically sorted')\n",
    "print(srt)\n",
    "\n",
    "# Weight Ordering\n",
    "srt = st.sort(weight=True)\n",
    "print('Weight sorted')\n",
    "print(srt)"
   ]
  },
  {
   "cell_type": "code",
   "execution_count": 5,
   "id": "aquatic-serbia",
   "metadata": {
    "execution": {
     "iopub.execute_input": "2021-03-29T10:44:08.077416Z",
     "iopub.status.busy": "2021-03-29T10:44:08.076515Z",
     "iopub.status.idle": "2021-03-29T10:44:08.079071Z",
     "shell.execute_reply": "2021-03-29T10:44:08.079710Z"
    }
   },
   "outputs": [
    {
     "name": "stdout",
     "output_type": "stream",
     "text": [
      "StabilizerTable: ['-IY', '+IZ', '+XY', '-XZ']\n"
     ]
    }
   ],
   "source": [
    "from qiskit.quantum_info.operators import StabilizerTable\n",
    "\n",
    "current = StabilizerTable.from_labels(['+I', '-X'])\n",
    "other =  StabilizerTable.from_labels(['-Y', '+Z'])\n",
    "print(current.tensor(other))"
   ]
  },
  {
   "cell_type": "code",
   "execution_count": 6,
   "id": "generic-marking",
   "metadata": {
    "execution": {
     "iopub.execute_input": "2021-03-29T10:44:08.085340Z",
     "iopub.status.busy": "2021-03-29T10:44:08.084249Z",
     "iopub.status.idle": "2021-03-29T10:44:08.087109Z",
     "shell.execute_reply": "2021-03-29T10:44:08.086661Z"
    }
   },
   "outputs": [
    {
     "name": "stdout",
     "output_type": "stream",
     "text": [
      "StabilizerTable: ['+X', '+I', '-I', '-X']\n"
     ]
    }
   ],
   "source": [
    "from qiskit.quantum_info.operators import StabilizerTable\n",
    "\n",
    "st = StabilizerTable.from_labels(['+X', '+I', '-I', '-X', '+X', '-X', '+I'])\n",
    "unique = st.unique()\n",
    "print(unique)"
   ]
  }
 ],
 "metadata": {
  "kernelspec": {
   "display_name": "Python 3",
   "language": "python",
   "name": "python3"
  },
  "language_info": {
   "codemirror_mode": {
    "name": "ipython",
    "version": 3
   },
   "file_extension": ".py",
   "mimetype": "text/x-python",
   "name": "python",
   "nbconvert_exporter": "python",
   "pygments_lexer": "ipython3",
   "version": "3.8.8"
  }
 },
 "nbformat": 4,
 "nbformat_minor": 5
}