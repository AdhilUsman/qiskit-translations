{
 "cells": [
  {
   "cell_type": "code",
   "execution_count": 1,
   "id": "cbd4e552",
   "metadata": {
    "execution": {
     "iopub.execute_input": "2021-04-05T22:48:57.256644Z",
     "iopub.status.busy": "2021-04-05T22:48:57.256158Z",
     "iopub.status.idle": "2021-04-05T22:48:57.828089Z",
     "shell.execute_reply": "2021-04-05T22:48:57.828522Z"
    }
   },
   "outputs": [
    {
     "name": "stdout",
     "output_type": "stream",
     "text": [
      "StabilizerTable: ['+X', '-Z', '-I', '-Y']\n"
     ]
    }
   ],
   "source": [
    "from qiskit.quantum_info.operators import StabilizerTable\n",
    "\n",
    "current = StabilizerTable.from_labels(['+I', '-X'])\n",
    "other =  StabilizerTable.from_labels(['+X', '-Z'])\n",
    "print(current.compose(other))"
   ]
  },
  {
   "cell_type": "code",
   "execution_count": 2,
   "id": "872a36d4",
   "metadata": {
    "execution": {
     "iopub.execute_input": "2021-04-05T22:48:57.834208Z",
     "iopub.status.busy": "2021-04-05T22:48:57.833065Z",
     "iopub.status.idle": "2021-04-05T22:48:57.835725Z",
     "shell.execute_reply": "2021-04-05T22:48:57.835319Z"
    }
   },
   "outputs": [
    {
     "name": "stdout",
     "output_type": "stream",
     "text": [
      "StabilizerTable: ['+X', '-Z', '-I', '+Y']\n"
     ]
    }
   ],
   "source": [
    "from qiskit.quantum_info.operators import StabilizerTable\n",
    "\n",
    "current = StabilizerTable.from_labels(['+I', '-X'])\n",
    "other =  StabilizerTable.from_labels(['+X', '-Z'])\n",
    "print(current.dot(other))"
   ]
  },
  {
   "cell_type": "code",
   "execution_count": 3,
   "id": "76926375",
   "metadata": {
    "execution": {
     "iopub.execute_input": "2021-04-05T22:48:57.840466Z",
     "iopub.status.busy": "2021-04-05T22:48:57.839568Z",
     "iopub.status.idle": "2021-04-05T22:48:57.842044Z",
     "shell.execute_reply": "2021-04-05T22:48:57.841648Z"
    }
   },
   "outputs": [
    {
     "name": "stdout",
     "output_type": "stream",
     "text": [
      "StabilizerTable: ['-YI', '+YX', '+ZI', '-ZX']\n"
     ]
    }
   ],
   "source": [
    "from qiskit.quantum_info.operators import StabilizerTable\n",
    "\n",
    "current = StabilizerTable.from_labels(['+I', '-X'])\n",
    "other =  StabilizerTable.from_labels(['-Y', '+Z'])\n",
    "print(current.expand(other))"
   ]
  },
  {
   "cell_type": "code",
   "execution_count": 4,
   "id": "8a29fa4d",
   "metadata": {
    "execution": {
     "iopub.execute_input": "2021-04-05T22:48:57.848758Z",
     "iopub.status.busy": "2021-04-05T22:48:57.847477Z",
     "iopub.status.idle": "2021-04-05T22:48:57.851137Z",
     "shell.execute_reply": "2021-04-05T22:48:57.850672Z"
    }
   },
   "outputs": [
    {
     "name": "stdout",
     "output_type": "stream",
     "text": [
      "Initial Ordering\n",
      "StabilizerTable: ['+YX', '-XX', '-XZ', '+ZI', '+IX', '+ZY', '-II', '-ZX', '+XX', '-YI', '-XY', '+XY', '+ZX', '+IZ', '-IX', '+IY', '-YZ', '-ZZ', '+YZ', '+XI', '+XZ', '+ZZ', '+II', '-YY', '-YX', '+YY', '+YI', '-IY', '-IZ', '-ZI', '-ZY', '-XI']\n",
      "Lexicographically sorted\n",
      "StabilizerTable: ['-II', '+II', '+IX', '-IX', '+IY', '-IY', '+IZ', '-IZ', '+XI', '-XI', '-XX', '+XX', '-XY', '+XY', '-XZ', '+XZ', '-YI', '+YI', '+YX', '-YX', '-YY', '+YY', '-YZ', '+YZ', '+ZI', '-ZI', '-ZX', '+ZX', '+ZY', '-ZY', '-ZZ', '+ZZ']\n",
      "Weight sorted\n",
      "StabilizerTable: ['-II', '+II', '+IX', '-IX', '+IY', '-IY', '+IZ', '-IZ', '+XI', '-XI', '-YI', '+YI', '+ZI', '-ZI', '-XX', '+XX', '-XY', '+XY', '-XZ', '+XZ', '+YX', '-YX', '-YY', '+YY', '-YZ', '+YZ', '-ZX', '+ZX', '+ZY', '-ZY', '-ZZ', '+ZZ']\n"
     ]
    }
   ],
   "source": [
    "from numpy.random import shuffle\n",
    "from qiskit.quantum_info.operators import StabilizerTable\n",
    "\n",
    "# 2-qubit labels\n",
    "labels = ['+II', '+IX', '+IY', '+IZ', '+XI', '+XX', '+XY', '+XZ',\n",
    "          '+YI', '+YX', '+YY', '+YZ', '+ZI', '+ZX', '+ZY', '+ZZ',\n",
    "          '-II', '-IX', '-IY', '-IZ', '-XI', '-XX', '-XY', '-XZ',\n",
    "          '-YI', '-YX', '-YY', '-YZ', '-ZI', '-ZX', '-ZY', '-ZZ']\n",
    "# Shuffle Labels\n",
    "shuffle(labels)\n",
    "st = StabilizerTable.from_labels(labels)\n",
    "print('Initial Ordering')\n",
    "print(st)\n",
    "\n",
    "# Lexicographic Ordering\n",
    "srt = st.sort()\n",
    "print('Lexicographically sorted')\n",
    "print(srt)\n",
    "\n",
    "# Weight Ordering\n",
    "srt = st.sort(weight=True)\n",
    "print('Weight sorted')\n",
    "print(srt)"
   ]
  },
  {
   "cell_type": "code",
   "execution_count": 5,
   "id": "bdfb0329",
   "metadata": {
    "execution": {
     "iopub.execute_input": "2021-04-05T22:48:57.855613Z",
     "iopub.status.busy": "2021-04-05T22:48:57.854819Z",
     "iopub.status.idle": "2021-04-05T22:48:57.857348Z",
     "shell.execute_reply": "2021-04-05T22:48:57.856943Z"
    }
   },
   "outputs": [
    {
     "name": "stdout",
     "output_type": "stream",
     "text": [
      "StabilizerTable: ['-IY', '+IZ', '+XY', '-XZ']\n"
     ]
    }
   ],
   "source": [
    "from qiskit.quantum_info.operators import StabilizerTable\n",
    "\n",
    "current = StabilizerTable.from_labels(['+I', '-X'])\n",
    "other =  StabilizerTable.from_labels(['-Y', '+Z'])\n",
    "print(current.tensor(other))"
   ]
  },
  {
   "cell_type": "code",
   "execution_count": 6,
   "id": "09821a37",
   "metadata": {
    "execution": {
     "iopub.execute_input": "2021-04-05T22:48:57.861882Z",
     "iopub.status.busy": "2021-04-05T22:48:57.861090Z",
     "iopub.status.idle": "2021-04-05T22:48:57.863683Z",
     "shell.execute_reply": "2021-04-05T22:48:57.863234Z"
    }
   },
   "outputs": [
    {
     "name": "stdout",
     "output_type": "stream",
     "text": [
      "StabilizerTable: ['+X', '+I', '-I', '-X']\n"
     ]
    }
   ],
   "source": [
    "from qiskit.quantum_info.operators import StabilizerTable\n",
    "\n",
    "st = StabilizerTable.from_labels(['+X', '+I', '-I', '-X', '+X', '-X', '+I'])\n",
    "unique = st.unique()\n",
    "print(unique)"
   ]
  }
 ],
 "metadata": {
  "kernelspec": {
   "display_name": "Python 3",
   "language": "python",
   "name": "python3"
  },
  "language_info": {
   "codemirror_mode": {
    "name": "ipython",
    "version": 3
   },
   "file_extension": ".py",
   "mimetype": "text/x-python",
   "name": "python",
   "nbconvert_exporter": "python",
   "pygments_lexer": "ipython3",
   "version": "3.8.8"
  }
 },
 "nbformat": 4,
 "nbformat_minor": 5
}