{
 "cells": [
  {
   "cell_type": "code",
   "execution_count": 1,
   "id": "430294d1",
   "metadata": {
    "execution": {
     "iopub.execute_input": "2021-06-07T18:44:32.855862Z",
     "iopub.status.busy": "2021-06-07T18:44:32.855212Z",
     "iopub.status.idle": "2021-06-07T18:44:33.579840Z",
     "shell.execute_reply": "2021-06-07T18:44:33.580494Z"
    }
   },
   "outputs": [
    {
     "name": "stdout",
     "output_type": "stream",
     "text": [
      "StabilizerTable: ['+X', '-Z', '-I', '-Y']\n"
     ]
    }
   ],
   "source": [
    "from qiskit.quantum_info.operators import StabilizerTable\n",
    "\n",
    "current = StabilizerTable.from_labels(['+I', '-X'])\n",
    "other =  StabilizerTable.from_labels(['+X', '-Z'])\n",
    "print(current.compose(other))"
   ]
  },
  {
   "cell_type": "code",
   "execution_count": 2,
   "id": "22ea84c5",
   "metadata": {
    "execution": {
     "iopub.execute_input": "2021-06-07T18:44:33.587745Z",
     "iopub.status.busy": "2021-06-07T18:44:33.586149Z",
     "iopub.status.idle": "2021-06-07T18:44:33.589812Z",
     "shell.execute_reply": "2021-06-07T18:44:33.589216Z"
    }
   },
   "outputs": [
    {
     "name": "stdout",
     "output_type": "stream",
     "text": [
      "StabilizerTable: ['+X', '-Z', '-I', '+Y']\n"
     ]
    }
   ],
   "source": [
    "from qiskit.quantum_info.operators import StabilizerTable\n",
    "\n",
    "current = StabilizerTable.from_labels(['+I', '-X'])\n",
    "other =  StabilizerTable.from_labels(['+X', '-Z'])\n",
    "print(current.dot(other))"
   ]
  },
  {
   "cell_type": "code",
   "execution_count": 3,
   "id": "9ecc986d",
   "metadata": {
    "execution": {
     "iopub.execute_input": "2021-06-07T18:44:33.596356Z",
     "iopub.status.busy": "2021-06-07T18:44:33.594857Z",
     "iopub.status.idle": "2021-06-07T18:44:33.598543Z",
     "shell.execute_reply": "2021-06-07T18:44:33.597939Z"
    }
   },
   "outputs": [
    {
     "name": "stdout",
     "output_type": "stream",
     "text": [
      "StabilizerTable: ['-YI', '+YX', '+ZI', '-ZX']\n"
     ]
    }
   ],
   "source": [
    "from qiskit.quantum_info.operators import StabilizerTable\n",
    "\n",
    "current = StabilizerTable.from_labels(['+I', '-X'])\n",
    "other =  StabilizerTable.from_labels(['-Y', '+Z'])\n",
    "print(current.expand(other))"
   ]
  },
  {
   "cell_type": "code",
   "execution_count": 4,
   "id": "3c1931dc",
   "metadata": {
    "execution": {
     "iopub.execute_input": "2021-06-07T18:44:33.605537Z",
     "iopub.status.busy": "2021-06-07T18:44:33.604153Z",
     "iopub.status.idle": "2021-06-07T18:44:33.609671Z",
     "shell.execute_reply": "2021-06-07T18:44:33.610136Z"
    }
   },
   "outputs": [
    {
     "name": "stdout",
     "output_type": "stream",
     "text": [
      "Initial Ordering\n",
      "StabilizerTable: ['-IY', '+YI', '+ZI', '+ZY', '+II', '+XI', '+YX', '-XI', '-ZX', '+YZ', '-II', '-XX', '-XY', '-ZZ', '+XZ', '-YX', '+IX', '-YZ', '-IX', '-YY', '+IY', '-XZ', '-ZI', '+XY', '+ZZ', '+XX', '-IZ', '+IZ', '+ZX', '-ZY', '+YY', '-YI']\n",
      "Lexicographically sorted\n",
      "StabilizerTable: ['+II', '-II', '+IX', '-IX', '-IY', '+IY', '-IZ', '+IZ', '+XI', '-XI', '-XX', '+XX', '-XY', '+XY', '+XZ', '-XZ', '+YI', '-YI', '+YX', '-YX', '-YY', '+YY', '+YZ', '-YZ', '+ZI', '-ZI', '-ZX', '+ZX', '+ZY', '-ZY', '-ZZ', '+ZZ']\n",
      "Weight sorted\n",
      "StabilizerTable: ['+II', '-II', '+IX', '-IX', '-IY', '+IY', '-IZ', '+IZ', '+XI', '-XI', '+YI', '-YI', '+ZI', '-ZI', '-XX', '+XX', '-XY', '+XY', '+XZ', '-XZ', '+YX', '-YX', '-YY', '+YY', '+YZ', '-YZ', '-ZX', '+ZX', '+ZY', '-ZY', '-ZZ', '+ZZ']\n"
     ]
    }
   ],
   "source": [
    "from numpy.random import shuffle\n",
    "from qiskit.quantum_info.operators import StabilizerTable\n",
    "\n",
    "# 2-qubit labels\n",
    "labels = ['+II', '+IX', '+IY', '+IZ', '+XI', '+XX', '+XY', '+XZ',\n",
    "          '+YI', '+YX', '+YY', '+YZ', '+ZI', '+ZX', '+ZY', '+ZZ',\n",
    "          '-II', '-IX', '-IY', '-IZ', '-XI', '-XX', '-XY', '-XZ',\n",
    "          '-YI', '-YX', '-YY', '-YZ', '-ZI', '-ZX', '-ZY', '-ZZ']\n",
    "# Shuffle Labels\n",
    "shuffle(labels)\n",
    "st = StabilizerTable.from_labels(labels)\n",
    "print('Initial Ordering')\n",
    "print(st)\n",
    "\n",
    "# Lexicographic Ordering\n",
    "srt = st.sort()\n",
    "print('Lexicographically sorted')\n",
    "print(srt)\n",
    "\n",
    "# Weight Ordering\n",
    "srt = st.sort(weight=True)\n",
    "print('Weight sorted')\n",
    "print(srt)"
   ]
  },
  {
   "cell_type": "code",
   "execution_count": 5,
   "id": "b6456094",
   "metadata": {
    "execution": {
     "iopub.execute_input": "2021-06-07T18:44:33.616657Z",
     "iopub.status.busy": "2021-06-07T18:44:33.615152Z",
     "iopub.status.idle": "2021-06-07T18:44:33.619041Z",
     "shell.execute_reply": "2021-06-07T18:44:33.618461Z"
    }
   },
   "outputs": [
    {
     "name": "stdout",
     "output_type": "stream",
     "text": [
      "StabilizerTable: ['-IY', '+IZ', '+XY', '-XZ']\n"
     ]
    }
   ],
   "source": [
    "from qiskit.quantum_info.operators import StabilizerTable\n",
    "\n",
    "current = StabilizerTable.from_labels(['+I', '-X'])\n",
    "other =  StabilizerTable.from_labels(['-Y', '+Z'])\n",
    "print(current.tensor(other))"
   ]
  },
  {
   "cell_type": "code",
   "execution_count": 6,
   "id": "39c223bd",
   "metadata": {
    "execution": {
     "iopub.execute_input": "2021-06-07T18:44:33.625770Z",
     "iopub.status.busy": "2021-06-07T18:44:33.624233Z",
     "iopub.status.idle": "2021-06-07T18:44:33.627741Z",
     "shell.execute_reply": "2021-06-07T18:44:33.627217Z"
    }
   },
   "outputs": [
    {
     "name": "stdout",
     "output_type": "stream",
     "text": [
      "StabilizerTable: ['+X', '+I', '-I', '-X']\n"
     ]
    }
   ],
   "source": [
    "from qiskit.quantum_info.operators import StabilizerTable\n",
    "\n",
    "st = StabilizerTable.from_labels(['+X', '+I', '-I', '-X', '+X', '-X', '+I'])\n",
    "unique = st.unique()\n",
    "print(unique)"
   ]
  }
 ],
 "metadata": {
  "kernelspec": {
   "display_name": "Python 3",
   "language": "python",
   "name": "python3"
  },
  "language_info": {
   "codemirror_mode": {
    "name": "ipython",
    "version": 3
   },
   "file_extension": ".py",
   "mimetype": "text/x-python",
   "name": "python",
   "nbconvert_exporter": "python",
   "pygments_lexer": "ipython3",
   "version": "3.8.10"
  }
 },
 "nbformat": 4,
 "nbformat_minor": 5
}