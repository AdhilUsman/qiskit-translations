{
 "cells": [
  {
   "cell_type": "code",
   "execution_count": 1,
   "id": "final-unemployment",
   "metadata": {
    "execution": {
     "iopub.execute_input": "2021-03-31T01:01:03.398175Z",
     "iopub.status.busy": "2021-03-31T01:01:03.397693Z",
     "iopub.status.idle": "2021-03-31T01:01:05.115700Z",
     "shell.execute_reply": "2021-03-31T01:01:05.116209Z"
    }
   },
   "outputs": [
    {
     "name": "stdout",
     "output_type": "stream",
     "text": [
      "StabilizerTable: ['+X', '-Z', '-I', '-Y']\n"
     ]
    }
   ],
   "source": [
    "from qiskit.quantum_info.operators import StabilizerTable\n",
    "\n",
    "current = StabilizerTable.from_labels(['+I', '-X'])\n",
    "other =  StabilizerTable.from_labels(['+X', '-Z'])\n",
    "print(current.compose(other))"
   ]
  },
  {
   "cell_type": "code",
   "execution_count": 2,
   "id": "foster-casting",
   "metadata": {
    "execution": {
     "iopub.execute_input": "2021-03-31T01:01:05.123250Z",
     "iopub.status.busy": "2021-03-31T01:01:05.121800Z",
     "iopub.status.idle": "2021-03-31T01:01:05.125023Z",
     "shell.execute_reply": "2021-03-31T01:01:05.124575Z"
    }
   },
   "outputs": [
    {
     "name": "stdout",
     "output_type": "stream",
     "text": [
      "StabilizerTable: ['+X', '-Z', '-I', '+Y']\n"
     ]
    }
   ],
   "source": [
    "from qiskit.quantum_info.operators import StabilizerTable\n",
    "\n",
    "current = StabilizerTable.from_labels(['+I', '-X'])\n",
    "other =  StabilizerTable.from_labels(['+X', '-Z'])\n",
    "print(current.dot(other))"
   ]
  },
  {
   "cell_type": "code",
   "execution_count": 3,
   "id": "norman-treaty",
   "metadata": {
    "execution": {
     "iopub.execute_input": "2021-03-31T01:01:05.130610Z",
     "iopub.status.busy": "2021-03-31T01:01:05.129755Z",
     "iopub.status.idle": "2021-03-31T01:01:05.132983Z",
     "shell.execute_reply": "2021-03-31T01:01:05.132074Z"
    }
   },
   "outputs": [
    {
     "name": "stdout",
     "output_type": "stream",
     "text": [
      "StabilizerTable: ['-YI', '+ZI', '+YX', '-ZX']\n"
     ]
    }
   ],
   "source": [
    "from qiskit.quantum_info.operators import StabilizerTable\n",
    "\n",
    "current = StabilizerTable.from_labels(['+I', '-X'])\n",
    "other =  StabilizerTable.from_labels(['-Y', '+Z'])\n",
    "print(current.expand(other))"
   ]
  },
  {
   "cell_type": "code",
   "execution_count": 4,
   "id": "abroad-worker",
   "metadata": {
    "execution": {
     "iopub.execute_input": "2021-03-31T01:01:05.141300Z",
     "iopub.status.busy": "2021-03-31T01:01:05.139168Z",
     "iopub.status.idle": "2021-03-31T01:01:05.144939Z",
     "shell.execute_reply": "2021-03-31T01:01:05.145375Z"
    }
   },
   "outputs": [
    {
     "name": "stdout",
     "output_type": "stream",
     "text": [
      "Initial Ordering\n",
      "StabilizerTable: ['+XY', '-XI', '-YI', '+XZ', '-XY', '-YZ', '+ZX', '-IX', '-ZI', '-II', '-IY', '+XX', '+ZI', '-ZZ', '+IZ', '-ZY', '-XZ', '+ZY', '+IX', '+YI', '+IY', '+II', '+YZ', '+YY', '-YX', '-IZ', '-XX', '+YX', '-YY', '-ZX', '+XI', '+ZZ']\n",
      "Lexicographically sorted\n",
      "StabilizerTable: ['-II', '+II', '-IX', '+IX', '-IY', '+IY', '+IZ', '-IZ', '-XI', '+XI', '+XX', '-XX', '+XY', '-XY', '+XZ', '-XZ', '-YI', '+YI', '-YX', '+YX', '+YY', '-YY', '-YZ', '+YZ', '-ZI', '+ZI', '+ZX', '-ZX', '-ZY', '+ZY', '-ZZ', '+ZZ']\n",
      "Weight sorted\n",
      "StabilizerTable: ['-II', '+II', '-IX', '+IX', '-IY', '+IY', '+IZ', '-IZ', '-XI', '+XI', '-YI', '+YI', '-ZI', '+ZI', '+XX', '-XX', '+XY', '-XY', '+XZ', '-XZ', '-YX', '+YX', '+YY', '-YY', '-YZ', '+YZ', '+ZX', '-ZX', '-ZY', '+ZY', '-ZZ', '+ZZ']\n"
     ]
    }
   ],
   "source": [
    "from numpy.random import shuffle\n",
    "from qiskit.quantum_info.operators import StabilizerTable\n",
    "\n",
    "# 2-qubit labels\n",
    "labels = ['+II', '+IX', '+IY', '+IZ', '+XI', '+XX', '+XY', '+XZ',\n",
    "          '+YI', '+YX', '+YY', '+YZ', '+ZI', '+ZX', '+ZY', '+ZZ',\n",
    "          '-II', '-IX', '-IY', '-IZ', '-XI', '-XX', '-XY', '-XZ',\n",
    "          '-YI', '-YX', '-YY', '-YZ', '-ZI', '-ZX', '-ZY', '-ZZ']\n",
    "# Shuffle Labels\n",
    "shuffle(labels)\n",
    "st = StabilizerTable.from_labels(labels)\n",
    "print('Initial Ordering')\n",
    "print(st)\n",
    "\n",
    "# Lexicographic Ordering\n",
    "srt = st.sort()\n",
    "print('Lexicographically sorted')\n",
    "print(srt)\n",
    "\n",
    "# Weight Ordering\n",
    "srt = st.sort(weight=True)\n",
    "print('Weight sorted')\n",
    "print(srt)"
   ]
  },
  {
   "cell_type": "code",
   "execution_count": 5,
   "id": "severe-southeast",
   "metadata": {
    "execution": {
     "iopub.execute_input": "2021-03-31T01:01:05.151851Z",
     "iopub.status.busy": "2021-03-31T01:01:05.150162Z",
     "iopub.status.idle": "2021-03-31T01:01:05.153982Z",
     "shell.execute_reply": "2021-03-31T01:01:05.153404Z"
    }
   },
   "outputs": [
    {
     "name": "stdout",
     "output_type": "stream",
     "text": [
      "StabilizerTable: ['-IY', '+IZ', '+XY', '-XZ']\n"
     ]
    }
   ],
   "source": [
    "from qiskit.quantum_info.operators import StabilizerTable\n",
    "\n",
    "current = StabilizerTable.from_labels(['+I', '-X'])\n",
    "other =  StabilizerTable.from_labels(['-Y', '+Z'])\n",
    "print(current.tensor(other))"
   ]
  },
  {
   "cell_type": "code",
   "execution_count": 6,
   "id": "robust-center",
   "metadata": {
    "execution": {
     "iopub.execute_input": "2021-03-31T01:01:05.160503Z",
     "iopub.status.busy": "2021-03-31T01:01:05.159022Z",
     "iopub.status.idle": "2021-03-31T01:01:05.162059Z",
     "shell.execute_reply": "2021-03-31T01:01:05.161630Z"
    }
   },
   "outputs": [
    {
     "name": "stdout",
     "output_type": "stream",
     "text": [
      "StabilizerTable: ['+X', '+I', '-I', '-X']\n"
     ]
    }
   ],
   "source": [
    "from qiskit.quantum_info.operators import StabilizerTable\n",
    "\n",
    "st = StabilizerTable.from_labels(['+X', '+I', '-I', '-X', '+X', '-X', '+I'])\n",
    "unique = st.unique()\n",
    "print(unique)"
   ]
  }
 ],
 "metadata": {
  "kernelspec": {
   "display_name": "Python 3",
   "language": "python",
   "name": "python3"
  },
  "language_info": {
   "codemirror_mode": {
    "name": "ipython",
    "version": 3
   },
   "file_extension": ".py",
   "mimetype": "text/x-python",
   "name": "python",
   "nbconvert_exporter": "python",
   "pygments_lexer": "ipython3",
   "version": "3.8.8"
  }
 },
 "nbformat": 4,
 "nbformat_minor": 5
}