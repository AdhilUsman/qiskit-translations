{
 "cells": [
  {
   "cell_type": "code",
   "execution_count": 1,
   "id": "de823ab4",
   "metadata": {
    "execution": {
     "iopub.execute_input": "2021-04-16T12:02:25.779640Z",
     "iopub.status.busy": "2021-04-16T12:02:25.779025Z",
     "iopub.status.idle": "2021-04-16T12:02:26.536979Z",
     "shell.execute_reply": "2021-04-16T12:02:26.537467Z"
    }
   },
   "outputs": [
    {
     "name": "stdout",
     "output_type": "stream",
     "text": [
      "StabilizerTable: ['+X', '-Z', '-I', '-Y']\n"
     ]
    }
   ],
   "source": [
    "from qiskit.quantum_info.operators import StabilizerTable\n",
    "\n",
    "current = StabilizerTable.from_labels(['+I', '-X'])\n",
    "other =  StabilizerTable.from_labels(['+X', '-Z'])\n",
    "print(current.compose(other))"
   ]
  },
  {
   "cell_type": "code",
   "execution_count": 2,
   "id": "bd5cf923",
   "metadata": {
    "execution": {
     "iopub.execute_input": "2021-04-16T12:02:26.544275Z",
     "iopub.status.busy": "2021-04-16T12:02:26.542750Z",
     "iopub.status.idle": "2021-04-16T12:02:26.546464Z",
     "shell.execute_reply": "2021-04-16T12:02:26.545877Z"
    }
   },
   "outputs": [
    {
     "name": "stdout",
     "output_type": "stream",
     "text": [
      "StabilizerTable: ['+X', '-Z', '-I', '+Y']\n"
     ]
    }
   ],
   "source": [
    "from qiskit.quantum_info.operators import StabilizerTable\n",
    "\n",
    "current = StabilizerTable.from_labels(['+I', '-X'])\n",
    "other =  StabilizerTable.from_labels(['+X', '-Z'])\n",
    "print(current.dot(other))"
   ]
  },
  {
   "cell_type": "code",
   "execution_count": 3,
   "id": "274761bc",
   "metadata": {
    "execution": {
     "iopub.execute_input": "2021-04-16T12:02:26.553055Z",
     "iopub.status.busy": "2021-04-16T12:02:26.551651Z",
     "iopub.status.idle": "2021-04-16T12:02:26.555337Z",
     "shell.execute_reply": "2021-04-16T12:02:26.554747Z"
    }
   },
   "outputs": [
    {
     "name": "stdout",
     "output_type": "stream",
     "text": [
      "StabilizerTable: ['-YI', '+YX', '+ZI', '-ZX']\n"
     ]
    }
   ],
   "source": [
    "from qiskit.quantum_info.operators import StabilizerTable\n",
    "\n",
    "current = StabilizerTable.from_labels(['+I', '-X'])\n",
    "other =  StabilizerTable.from_labels(['-Y', '+Z'])\n",
    "print(current.expand(other))"
   ]
  },
  {
   "cell_type": "code",
   "execution_count": 4,
   "id": "b2ec522d",
   "metadata": {
    "execution": {
     "iopub.execute_input": "2021-04-16T12:02:26.567182Z",
     "iopub.status.busy": "2021-04-16T12:02:26.560965Z",
     "iopub.status.idle": "2021-04-16T12:02:26.569062Z",
     "shell.execute_reply": "2021-04-16T12:02:26.567736Z"
    }
   },
   "outputs": [
    {
     "name": "stdout",
     "output_type": "stream",
     "text": [
      "Initial Ordering\n",
      "StabilizerTable: ['-YY', '-II', '+II', '-IZ', '-ZY', '+ZI', '+YY', '+XZ', '+YZ', '+IZ', '-ZZ', '+XI', '-XI', '-XZ', '+XY', '+YI', '+ZZ', '-IY', '+XX', '+YX', '+ZY', '+ZX', '-XY', '+IX', '+IY', '-ZX', '-YX', '-YZ', '-ZI', '-IX', '-XX', '-YI']\n",
      "Lexicographically sorted\n",
      "StabilizerTable: ['-II', '+II', '+IX', '-IX', '-IY', '+IY', '-IZ', '+IZ', '+XI', '-XI', '+XX', '-XX', '+XY', '-XY', '+XZ', '-XZ', '+YI', '-YI', '+YX', '-YX', '-YY', '+YY', '+YZ', '-YZ', '+ZI', '-ZI', '+ZX', '-ZX', '-ZY', '+ZY', '-ZZ', '+ZZ']\n",
      "Weight sorted\n",
      "StabilizerTable: ['-II', '+II', '+IX', '-IX', '-IY', '+IY', '-IZ', '+IZ', '+XI', '-XI', '+YI', '-YI', '+ZI', '-ZI', '+XX', '-XX', '+XY', '-XY', '+XZ', '-XZ', '+YX', '-YX', '-YY', '+YY', '+YZ', '-YZ', '+ZX', '-ZX', '-ZY', '+ZY', '-ZZ', '+ZZ']\n"
     ]
    }
   ],
   "source": [
    "from numpy.random import shuffle\n",
    "from qiskit.quantum_info.operators import StabilizerTable\n",
    "\n",
    "# 2-qubit labels\n",
    "labels = ['+II', '+IX', '+IY', '+IZ', '+XI', '+XX', '+XY', '+XZ',\n",
    "          '+YI', '+YX', '+YY', '+YZ', '+ZI', '+ZX', '+ZY', '+ZZ',\n",
    "          '-II', '-IX', '-IY', '-IZ', '-XI', '-XX', '-XY', '-XZ',\n",
    "          '-YI', '-YX', '-YY', '-YZ', '-ZI', '-ZX', '-ZY', '-ZZ']\n",
    "# Shuffle Labels\n",
    "shuffle(labels)\n",
    "st = StabilizerTable.from_labels(labels)\n",
    "print('Initial Ordering')\n",
    "print(st)\n",
    "\n",
    "# Lexicographic Ordering\n",
    "srt = st.sort()\n",
    "print('Lexicographically sorted')\n",
    "print(srt)\n",
    "\n",
    "# Weight Ordering\n",
    "srt = st.sort(weight=True)\n",
    "print('Weight sorted')\n",
    "print(srt)"
   ]
  },
  {
   "cell_type": "code",
   "execution_count": 5,
   "id": "406c4482",
   "metadata": {
    "execution": {
     "iopub.execute_input": "2021-04-16T12:02:26.575995Z",
     "iopub.status.busy": "2021-04-16T12:02:26.574411Z",
     "iopub.status.idle": "2021-04-16T12:02:26.577907Z",
     "shell.execute_reply": "2021-04-16T12:02:26.577349Z"
    }
   },
   "outputs": [
    {
     "name": "stdout",
     "output_type": "stream",
     "text": [
      "StabilizerTable: ['-IY', '+IZ', '+XY', '-XZ']\n"
     ]
    }
   ],
   "source": [
    "from qiskit.quantum_info.operators import StabilizerTable\n",
    "\n",
    "current = StabilizerTable.from_labels(['+I', '-X'])\n",
    "other =  StabilizerTable.from_labels(['-Y', '+Z'])\n",
    "print(current.tensor(other))"
   ]
  },
  {
   "cell_type": "code",
   "execution_count": 6,
   "id": "8537c36f",
   "metadata": {
    "execution": {
     "iopub.execute_input": "2021-04-16T12:02:26.584763Z",
     "iopub.status.busy": "2021-04-16T12:02:26.583183Z",
     "iopub.status.idle": "2021-04-16T12:02:26.586750Z",
     "shell.execute_reply": "2021-04-16T12:02:26.586192Z"
    }
   },
   "outputs": [
    {
     "name": "stdout",
     "output_type": "stream",
     "text": [
      "StabilizerTable: ['+X', '+I', '-I', '-X']\n"
     ]
    }
   ],
   "source": [
    "from qiskit.quantum_info.operators import StabilizerTable\n",
    "\n",
    "st = StabilizerTable.from_labels(['+X', '+I', '-I', '-X', '+X', '-X', '+I'])\n",
    "unique = st.unique()\n",
    "print(unique)"
   ]
  }
 ],
 "metadata": {
  "kernelspec": {
   "display_name": "Python 3",
   "language": "python",
   "name": "python3"
  },
  "language_info": {
   "codemirror_mode": {
    "name": "ipython",
    "version": 3
   },
   "file_extension": ".py",
   "mimetype": "text/x-python",
   "name": "python",
   "nbconvert_exporter": "python",
   "pygments_lexer": "ipython3",
   "version": "3.8.9"
  }
 },
 "nbformat": 4,
 "nbformat_minor": 5
}