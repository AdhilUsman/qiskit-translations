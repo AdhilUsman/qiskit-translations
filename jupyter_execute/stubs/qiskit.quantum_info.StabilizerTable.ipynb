{
 "cells": [
  {
   "cell_type": "code",
   "execution_count": 1,
   "id": "b2eb2bff",
   "metadata": {
    "execution": {
     "iopub.execute_input": "2021-04-26T09:06:39.606223Z",
     "iopub.status.busy": "2021-04-26T09:06:39.605597Z",
     "iopub.status.idle": "2021-04-26T09:06:40.359294Z",
     "shell.execute_reply": "2021-04-26T09:06:40.359849Z"
    }
   },
   "outputs": [
    {
     "name": "stdout",
     "output_type": "stream",
     "text": [
      "StabilizerTable: ['+X', '-Z', '-I', '-Y']\n"
     ]
    }
   ],
   "source": [
    "from qiskit.quantum_info.operators import StabilizerTable\n",
    "\n",
    "current = StabilizerTable.from_labels(['+I', '-X'])\n",
    "other =  StabilizerTable.from_labels(['+X', '-Z'])\n",
    "print(current.compose(other))"
   ]
  },
  {
   "cell_type": "code",
   "execution_count": 2,
   "id": "2a4ce380",
   "metadata": {
    "execution": {
     "iopub.execute_input": "2021-04-26T09:06:40.367636Z",
     "iopub.status.busy": "2021-04-26T09:06:40.366160Z",
     "iopub.status.idle": "2021-04-26T09:06:40.369717Z",
     "shell.execute_reply": "2021-04-26T09:06:40.369137Z"
    }
   },
   "outputs": [
    {
     "name": "stdout",
     "output_type": "stream",
     "text": [
      "StabilizerTable: ['+X', '-Z', '-I', '+Y']\n"
     ]
    }
   ],
   "source": [
    "from qiskit.quantum_info.operators import StabilizerTable\n",
    "\n",
    "current = StabilizerTable.from_labels(['+I', '-X'])\n",
    "other =  StabilizerTable.from_labels(['+X', '-Z'])\n",
    "print(current.dot(other))"
   ]
  },
  {
   "cell_type": "code",
   "execution_count": 3,
   "id": "0ab6d53c",
   "metadata": {
    "execution": {
     "iopub.execute_input": "2021-04-26T09:06:40.376596Z",
     "iopub.status.busy": "2021-04-26T09:06:40.375132Z",
     "iopub.status.idle": "2021-04-26T09:06:40.379152Z",
     "shell.execute_reply": "2021-04-26T09:06:40.378601Z"
    }
   },
   "outputs": [
    {
     "name": "stdout",
     "output_type": "stream",
     "text": [
      "StabilizerTable: ['-YI', '+YX', '+ZI', '-ZX']\n"
     ]
    }
   ],
   "source": [
    "from qiskit.quantum_info.operators import StabilizerTable\n",
    "\n",
    "current = StabilizerTable.from_labels(['+I', '-X'])\n",
    "other =  StabilizerTable.from_labels(['-Y', '+Z'])\n",
    "print(current.expand(other))"
   ]
  },
  {
   "cell_type": "code",
   "execution_count": 4,
   "id": "65c1dfbe",
   "metadata": {
    "execution": {
     "iopub.execute_input": "2021-04-26T09:06:40.389926Z",
     "iopub.status.busy": "2021-04-26T09:06:40.388287Z",
     "iopub.status.idle": "2021-04-26T09:06:40.392469Z",
     "shell.execute_reply": "2021-04-26T09:06:40.391922Z"
    }
   },
   "outputs": [
    {
     "name": "stdout",
     "output_type": "stream",
     "text": [
      "Initial Ordering\n",
      "StabilizerTable: ['+IY', '+XI', '+XY', '-YZ', '-IX', '-ZY', '-ZX', '-IY', '+YZ', '-II', '+ZI', '-XY', '-ZI', '-IZ', '-XI', '+YX', '+XZ', '+ZZ', '-XX', '-YY', '+ZX', '+YY', '-YX', '-YI', '+IX', '+XX', '-ZZ', '+IZ', '+II', '+YI', '-XZ', '+ZY']\n",
      "Lexicographically sorted\n",
      "StabilizerTable: ['-II', '+II', '-IX', '+IX', '+IY', '-IY', '-IZ', '+IZ', '+XI', '-XI', '-XX', '+XX', '+XY', '-XY', '+XZ', '-XZ', '-YI', '+YI', '+YX', '-YX', '-YY', '+YY', '-YZ', '+YZ', '+ZI', '-ZI', '-ZX', '+ZX', '-ZY', '+ZY', '+ZZ', '-ZZ']\n",
      "Weight sorted\n",
      "StabilizerTable: ['-II', '+II', '-IX', '+IX', '+IY', '-IY', '-IZ', '+IZ', '+XI', '-XI', '-YI', '+YI', '+ZI', '-ZI', '-XX', '+XX', '+XY', '-XY', '+XZ', '-XZ', '+YX', '-YX', '-YY', '+YY', '-YZ', '+YZ', '-ZX', '+ZX', '-ZY', '+ZY', '+ZZ', '-ZZ']\n"
     ]
    }
   ],
   "source": [
    "from numpy.random import shuffle\n",
    "from qiskit.quantum_info.operators import StabilizerTable\n",
    "\n",
    "# 2-qubit labels\n",
    "labels = ['+II', '+IX', '+IY', '+IZ', '+XI', '+XX', '+XY', '+XZ',\n",
    "          '+YI', '+YX', '+YY', '+YZ', '+ZI', '+ZX', '+ZY', '+ZZ',\n",
    "          '-II', '-IX', '-IY', '-IZ', '-XI', '-XX', '-XY', '-XZ',\n",
    "          '-YI', '-YX', '-YY', '-YZ', '-ZI', '-ZX', '-ZY', '-ZZ']\n",
    "# Shuffle Labels\n",
    "shuffle(labels)\n",
    "st = StabilizerTable.from_labels(labels)\n",
    "print('Initial Ordering')\n",
    "print(st)\n",
    "\n",
    "# Lexicographic Ordering\n",
    "srt = st.sort()\n",
    "print('Lexicographically sorted')\n",
    "print(srt)\n",
    "\n",
    "# Weight Ordering\n",
    "srt = st.sort(weight=True)\n",
    "print('Weight sorted')\n",
    "print(srt)"
   ]
  },
  {
   "cell_type": "code",
   "execution_count": 5,
   "id": "12f07ef6",
   "metadata": {
    "execution": {
     "iopub.execute_input": "2021-04-26T09:06:40.398527Z",
     "iopub.status.busy": "2021-04-26T09:06:40.397423Z",
     "iopub.status.idle": "2021-04-26T09:06:40.401031Z",
     "shell.execute_reply": "2021-04-26T09:06:40.400446Z"
    }
   },
   "outputs": [
    {
     "name": "stdout",
     "output_type": "stream",
     "text": [
      "StabilizerTable: ['-IY', '+IZ', '+XY', '-XZ']\n"
     ]
    }
   ],
   "source": [
    "from qiskit.quantum_info.operators import StabilizerTable\n",
    "\n",
    "current = StabilizerTable.from_labels(['+I', '-X'])\n",
    "other =  StabilizerTable.from_labels(['-Y', '+Z'])\n",
    "print(current.tensor(other))"
   ]
  },
  {
   "cell_type": "code",
   "execution_count": 6,
   "id": "f21c89b6",
   "metadata": {
    "execution": {
     "iopub.execute_input": "2021-04-26T09:06:40.408543Z",
     "iopub.status.busy": "2021-04-26T09:06:40.407228Z",
     "iopub.status.idle": "2021-04-26T09:06:40.410902Z",
     "shell.execute_reply": "2021-04-26T09:06:40.410379Z"
    }
   },
   "outputs": [
    {
     "name": "stdout",
     "output_type": "stream",
     "text": [
      "StabilizerTable: ['+X', '+I', '-I', '-X']\n"
     ]
    }
   ],
   "source": [
    "from qiskit.quantum_info.operators import StabilizerTable\n",
    "\n",
    "st = StabilizerTable.from_labels(['+X', '+I', '-I', '-X', '+X', '-X', '+I'])\n",
    "unique = st.unique()\n",
    "print(unique)"
   ]
  }
 ],
 "metadata": {
  "kernelspec": {
   "display_name": "Python 3",
   "language": "python",
   "name": "python3"
  },
  "language_info": {
   "codemirror_mode": {
    "name": "ipython",
    "version": 3
   },
   "file_extension": ".py",
   "mimetype": "text/x-python",
   "name": "python",
   "nbconvert_exporter": "python",
   "pygments_lexer": "ipython3",
   "version": "3.8.9"
  }
 },
 "nbformat": 4,
 "nbformat_minor": 5
}