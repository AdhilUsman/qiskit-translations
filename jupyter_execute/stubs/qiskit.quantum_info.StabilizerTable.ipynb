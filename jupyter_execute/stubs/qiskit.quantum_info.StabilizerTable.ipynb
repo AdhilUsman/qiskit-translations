{
 "cells": [
  {
   "cell_type": "code",
   "execution_count": 1,
   "id": "7f153d79",
   "metadata": {
    "execution": {
     "iopub.execute_input": "2021-04-05T06:05:04.303721Z",
     "iopub.status.busy": "2021-04-05T06:05:04.303143Z",
     "iopub.status.idle": "2021-04-05T06:05:04.971042Z",
     "shell.execute_reply": "2021-04-05T06:05:04.971726Z"
    }
   },
   "outputs": [
    {
     "name": "stdout",
     "output_type": "stream",
     "text": [
      "StabilizerTable: ['+X', '-Z', '-I', '-Y']\n"
     ]
    }
   ],
   "source": [
    "from qiskit.quantum_info.operators import StabilizerTable\n",
    "\n",
    "current = StabilizerTable.from_labels(['+I', '-X'])\n",
    "other =  StabilizerTable.from_labels(['+X', '-Z'])\n",
    "print(current.compose(other))"
   ]
  },
  {
   "cell_type": "code",
   "execution_count": 2,
   "id": "2dfe4e64",
   "metadata": {
    "execution": {
     "iopub.execute_input": "2021-04-05T06:05:04.977818Z",
     "iopub.status.busy": "2021-04-05T06:05:04.977072Z",
     "iopub.status.idle": "2021-04-05T06:05:04.981856Z",
     "shell.execute_reply": "2021-04-05T06:05:04.982274Z"
    }
   },
   "outputs": [
    {
     "name": "stdout",
     "output_type": "stream",
     "text": [
      "StabilizerTable: ['+X', '-Z', '-I', '+Y']\n"
     ]
    }
   ],
   "source": [
    "from qiskit.quantum_info.operators import StabilizerTable\n",
    "\n",
    "current = StabilizerTable.from_labels(['+I', '-X'])\n",
    "other =  StabilizerTable.from_labels(['+X', '-Z'])\n",
    "print(current.dot(other))"
   ]
  },
  {
   "cell_type": "code",
   "execution_count": 3,
   "id": "5256b050",
   "metadata": {
    "execution": {
     "iopub.execute_input": "2021-04-05T06:05:04.987792Z",
     "iopub.status.busy": "2021-04-05T06:05:04.987228Z",
     "iopub.status.idle": "2021-04-05T06:05:04.989848Z",
     "shell.execute_reply": "2021-04-05T06:05:04.990270Z"
    }
   },
   "outputs": [
    {
     "name": "stdout",
     "output_type": "stream",
     "text": [
      "StabilizerTable: ['-YI', '+YX', '+ZI', '-ZX']\n"
     ]
    }
   ],
   "source": [
    "from qiskit.quantum_info.operators import StabilizerTable\n",
    "\n",
    "current = StabilizerTable.from_labels(['+I', '-X'])\n",
    "other =  StabilizerTable.from_labels(['-Y', '+Z'])\n",
    "print(current.expand(other))"
   ]
  },
  {
   "cell_type": "code",
   "execution_count": 4,
   "id": "a4795e72",
   "metadata": {
    "execution": {
     "iopub.execute_input": "2021-04-05T06:05:04.999635Z",
     "iopub.status.busy": "2021-04-05T06:05:04.997727Z",
     "iopub.status.idle": "2021-04-05T06:05:05.001924Z",
     "shell.execute_reply": "2021-04-05T06:05:05.002357Z"
    }
   },
   "outputs": [
    {
     "name": "stdout",
     "output_type": "stream",
     "text": [
      "Initial Ordering\n",
      "StabilizerTable: ['-ZY', '-XI', '+XZ', '-XY', '-YY', '+ZY', '-ZZ', '+XY', '+ZX', '-IY', '+XX', '+IX', '-IZ', '-YZ', '-IX', '+YX', '+YZ', '-YI', '-ZX', '-XX', '+XI', '-XZ', '+IY', '+IZ', '-II', '+II', '+ZI', '-YX', '+YY', '+YI', '-ZI', '+ZZ']\n",
      "Lexicographically sorted\n",
      "StabilizerTable: ['-II', '+II', '+IX', '-IX', '-IY', '+IY', '-IZ', '+IZ', '-XI', '+XI', '+XX', '-XX', '-XY', '+XY', '+XZ', '-XZ', '-YI', '+YI', '+YX', '-YX', '-YY', '+YY', '-YZ', '+YZ', '+ZI', '-ZI', '+ZX', '-ZX', '-ZY', '+ZY', '-ZZ', '+ZZ']\n",
      "Weight sorted\n",
      "StabilizerTable: ['-II', '+II', '+IX', '-IX', '-IY', '+IY', '-IZ', '+IZ', '-XI', '+XI', '-YI', '+YI', '+ZI', '-ZI', '+XX', '-XX', '-XY', '+XY', '+XZ', '-XZ', '+YX', '-YX', '-YY', '+YY', '-YZ', '+YZ', '+ZX', '-ZX', '-ZY', '+ZY', '-ZZ', '+ZZ']\n"
     ]
    }
   ],
   "source": [
    "from numpy.random import shuffle\n",
    "from qiskit.quantum_info.operators import StabilizerTable\n",
    "\n",
    "# 2-qubit labels\n",
    "labels = ['+II', '+IX', '+IY', '+IZ', '+XI', '+XX', '+XY', '+XZ',\n",
    "          '+YI', '+YX', '+YY', '+YZ', '+ZI', '+ZX', '+ZY', '+ZZ',\n",
    "          '-II', '-IX', '-IY', '-IZ', '-XI', '-XX', '-XY', '-XZ',\n",
    "          '-YI', '-YX', '-YY', '-YZ', '-ZI', '-ZX', '-ZY', '-ZZ']\n",
    "# Shuffle Labels\n",
    "shuffle(labels)\n",
    "st = StabilizerTable.from_labels(labels)\n",
    "print('Initial Ordering')\n",
    "print(st)\n",
    "\n",
    "# Lexicographic Ordering\n",
    "srt = st.sort()\n",
    "print('Lexicographically sorted')\n",
    "print(srt)\n",
    "\n",
    "# Weight Ordering\n",
    "srt = st.sort(weight=True)\n",
    "print('Weight sorted')\n",
    "print(srt)"
   ]
  },
  {
   "cell_type": "code",
   "execution_count": 5,
   "id": "d57a7090",
   "metadata": {
    "execution": {
     "iopub.execute_input": "2021-04-05T06:05:05.008413Z",
     "iopub.status.busy": "2021-04-05T06:05:05.007477Z",
     "iopub.status.idle": "2021-04-05T06:05:05.010306Z",
     "shell.execute_reply": "2021-04-05T06:05:05.010738Z"
    }
   },
   "outputs": [
    {
     "name": "stdout",
     "output_type": "stream",
     "text": [
      "StabilizerTable: ['-IY', '+IZ', '+XY', '-XZ']\n"
     ]
    }
   ],
   "source": [
    "from qiskit.quantum_info.operators import StabilizerTable\n",
    "\n",
    "current = StabilizerTable.from_labels(['+I', '-X'])\n",
    "other =  StabilizerTable.from_labels(['-Y', '+Z'])\n",
    "print(current.tensor(other))"
   ]
  },
  {
   "cell_type": "code",
   "execution_count": 6,
   "id": "8aef70cc",
   "metadata": {
    "execution": {
     "iopub.execute_input": "2021-04-05T06:05:05.017310Z",
     "iopub.status.busy": "2021-04-05T06:05:05.016216Z",
     "iopub.status.idle": "2021-04-05T06:05:05.019100Z",
     "shell.execute_reply": "2021-04-05T06:05:05.018620Z"
    }
   },
   "outputs": [
    {
     "name": "stdout",
     "output_type": "stream",
     "text": [
      "StabilizerTable: ['+X', '+I', '-I', '-X']\n"
     ]
    }
   ],
   "source": [
    "from qiskit.quantum_info.operators import StabilizerTable\n",
    "\n",
    "st = StabilizerTable.from_labels(['+X', '+I', '-I', '-X', '+X', '-X', '+I'])\n",
    "unique = st.unique()\n",
    "print(unique)"
   ]
  }
 ],
 "metadata": {
  "kernelspec": {
   "display_name": "Python 3",
   "language": "python",
   "name": "python3"
  },
  "language_info": {
   "codemirror_mode": {
    "name": "ipython",
    "version": 3
   },
   "file_extension": ".py",
   "mimetype": "text/x-python",
   "name": "python",
   "nbconvert_exporter": "python",
   "pygments_lexer": "ipython3",
   "version": "3.8.8"
  }
 },
 "nbformat": 4,
 "nbformat_minor": 5
}