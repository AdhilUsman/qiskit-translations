{
 "cells": [
  {
   "cell_type": "code",
   "execution_count": 1,
   "id": "7be38421",
   "metadata": {
    "execution": {
     "iopub.execute_input": "2021-04-14T03:40:40.537272Z",
     "iopub.status.busy": "2021-04-14T03:40:40.536674Z",
     "iopub.status.idle": "2021-04-14T03:40:41.256984Z",
     "shell.execute_reply": "2021-04-14T03:40:41.257530Z"
    }
   },
   "outputs": [
    {
     "name": "stdout",
     "output_type": "stream",
     "text": [
      "StabilizerTable: ['+X', '-Z', '-I', '-Y']\n"
     ]
    }
   ],
   "source": [
    "from qiskit.quantum_info.operators import StabilizerTable\n",
    "\n",
    "current = StabilizerTable.from_labels(['+I', '-X'])\n",
    "other =  StabilizerTable.from_labels(['+X', '-Z'])\n",
    "print(current.compose(other))"
   ]
  },
  {
   "cell_type": "code",
   "execution_count": 2,
   "id": "01e5921a",
   "metadata": {
    "execution": {
     "iopub.execute_input": "2021-04-14T03:40:41.263987Z",
     "iopub.status.busy": "2021-04-14T03:40:41.263380Z",
     "iopub.status.idle": "2021-04-14T03:40:41.266475Z",
     "shell.execute_reply": "2021-04-14T03:40:41.266932Z"
    }
   },
   "outputs": [
    {
     "name": "stdout",
     "output_type": "stream",
     "text": [
      "StabilizerTable: ['+X', '-Z', '-I', '+Y']\n"
     ]
    }
   ],
   "source": [
    "from qiskit.quantum_info.operators import StabilizerTable\n",
    "\n",
    "current = StabilizerTable.from_labels(['+I', '-X'])\n",
    "other =  StabilizerTable.from_labels(['+X', '-Z'])\n",
    "print(current.dot(other))"
   ]
  },
  {
   "cell_type": "code",
   "execution_count": 3,
   "id": "3d5fed20",
   "metadata": {
    "execution": {
     "iopub.execute_input": "2021-04-14T03:40:41.273858Z",
     "iopub.status.busy": "2021-04-14T03:40:41.272232Z",
     "iopub.status.idle": "2021-04-14T03:40:41.275766Z",
     "shell.execute_reply": "2021-04-14T03:40:41.275274Z"
    }
   },
   "outputs": [
    {
     "name": "stdout",
     "output_type": "stream",
     "text": [
      "StabilizerTable: ['-YI', '+YX', '+ZI', '-ZX']\n"
     ]
    }
   ],
   "source": [
    "from qiskit.quantum_info.operators import StabilizerTable\n",
    "\n",
    "current = StabilizerTable.from_labels(['+I', '-X'])\n",
    "other =  StabilizerTable.from_labels(['-Y', '+Z'])\n",
    "print(current.expand(other))"
   ]
  },
  {
   "cell_type": "code",
   "execution_count": 4,
   "id": "a5ff5b77",
   "metadata": {
    "execution": {
     "iopub.execute_input": "2021-04-14T03:40:41.283290Z",
     "iopub.status.busy": "2021-04-14T03:40:41.282686Z",
     "iopub.status.idle": "2021-04-14T03:40:41.290576Z",
     "shell.execute_reply": "2021-04-14T03:40:41.290007Z"
    }
   },
   "outputs": [
    {
     "name": "stdout",
     "output_type": "stream",
     "text": [
      "Initial Ordering\n",
      "StabilizerTable: ['+YX', '+YY', '+IZ', '+YI', '-ZY', '+XY', '+XZ', '+II', '+XI', '+IX', '-II', '+ZZ', '-ZI', '-XX', '+ZY', '+ZI', '-XY', '-YZ', '-YI', '+ZX', '-YY', '-XZ', '-XI', '+YZ', '+IY', '+XX', '-IZ', '-ZZ', '-YX', '-IY', '-IX', '-ZX']\n",
      "Lexicographically sorted\n",
      "StabilizerTable: ['+II', '-II', '+IX', '-IX', '+IY', '-IY', '+IZ', '-IZ', '+XI', '-XI', '-XX', '+XX', '+XY', '-XY', '+XZ', '-XZ', '+YI', '-YI', '+YX', '-YX', '+YY', '-YY', '-YZ', '+YZ', '-ZI', '+ZI', '+ZX', '-ZX', '-ZY', '+ZY', '+ZZ', '-ZZ']\n",
      "Weight sorted\n",
      "StabilizerTable: ['+II', '-II', '+IX', '-IX', '+IY', '-IY', '+IZ', '-IZ', '+XI', '-XI', '+YI', '-YI', '-ZI', '+ZI', '-XX', '+XX', '+XY', '-XY', '+XZ', '-XZ', '+YX', '-YX', '+YY', '-YY', '-YZ', '+YZ', '+ZX', '-ZX', '-ZY', '+ZY', '+ZZ', '-ZZ']\n"
     ]
    }
   ],
   "source": [
    "from numpy.random import shuffle\n",
    "from qiskit.quantum_info.operators import StabilizerTable\n",
    "\n",
    "# 2-qubit labels\n",
    "labels = ['+II', '+IX', '+IY', '+IZ', '+XI', '+XX', '+XY', '+XZ',\n",
    "          '+YI', '+YX', '+YY', '+YZ', '+ZI', '+ZX', '+ZY', '+ZZ',\n",
    "          '-II', '-IX', '-IY', '-IZ', '-XI', '-XX', '-XY', '-XZ',\n",
    "          '-YI', '-YX', '-YY', '-YZ', '-ZI', '-ZX', '-ZY', '-ZZ']\n",
    "# Shuffle Labels\n",
    "shuffle(labels)\n",
    "st = StabilizerTable.from_labels(labels)\n",
    "print('Initial Ordering')\n",
    "print(st)\n",
    "\n",
    "# Lexicographic Ordering\n",
    "srt = st.sort()\n",
    "print('Lexicographically sorted')\n",
    "print(srt)\n",
    "\n",
    "# Weight Ordering\n",
    "srt = st.sort(weight=True)\n",
    "print('Weight sorted')\n",
    "print(srt)"
   ]
  },
  {
   "cell_type": "code",
   "execution_count": 5,
   "id": "c7374e68",
   "metadata": {
    "execution": {
     "iopub.execute_input": "2021-04-14T03:40:41.297477Z",
     "iopub.status.busy": "2021-04-14T03:40:41.295903Z",
     "iopub.status.idle": "2021-04-14T03:40:41.299366Z",
     "shell.execute_reply": "2021-04-14T03:40:41.298866Z"
    }
   },
   "outputs": [
    {
     "name": "stdout",
     "output_type": "stream",
     "text": [
      "StabilizerTable: ['-IY', '+IZ', '+XY', '-XZ']\n"
     ]
    }
   ],
   "source": [
    "from qiskit.quantum_info.operators import StabilizerTable\n",
    "\n",
    "current = StabilizerTable.from_labels(['+I', '-X'])\n",
    "other =  StabilizerTable.from_labels(['-Y', '+Z'])\n",
    "print(current.tensor(other))"
   ]
  },
  {
   "cell_type": "code",
   "execution_count": 6,
   "id": "a8cd99f3",
   "metadata": {
    "execution": {
     "iopub.execute_input": "2021-04-14T03:40:41.306594Z",
     "iopub.status.busy": "2021-04-14T03:40:41.304850Z",
     "iopub.status.idle": "2021-04-14T03:40:41.310702Z",
     "shell.execute_reply": "2021-04-14T03:40:41.309150Z"
    }
   },
   "outputs": [
    {
     "name": "stdout",
     "output_type": "stream",
     "text": [
      "StabilizerTable: ['+X', '+I', '-I', '-X']\n"
     ]
    }
   ],
   "source": [
    "from qiskit.quantum_info.operators import StabilizerTable\n",
    "\n",
    "st = StabilizerTable.from_labels(['+X', '+I', '-I', '-X', '+X', '-X', '+I'])\n",
    "unique = st.unique()\n",
    "print(unique)"
   ]
  }
 ],
 "metadata": {
  "kernelspec": {
   "display_name": "Python 3",
   "language": "python",
   "name": "python3"
  },
  "language_info": {
   "codemirror_mode": {
    "name": "ipython",
    "version": 3
   },
   "file_extension": ".py",
   "mimetype": "text/x-python",
   "name": "python",
   "nbconvert_exporter": "python",
   "pygments_lexer": "ipython3",
   "version": "3.8.9"
  }
 },
 "nbformat": 4,
 "nbformat_minor": 5
}