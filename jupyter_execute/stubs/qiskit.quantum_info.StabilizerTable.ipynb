{
 "cells": [
  {
   "cell_type": "code",
   "execution_count": 1,
   "id": "f14ed0c1",
   "metadata": {
    "execution": {
     "iopub.execute_input": "2021-06-06T13:13:20.530305Z",
     "iopub.status.busy": "2021-06-06T13:13:20.529115Z",
     "iopub.status.idle": "2021-06-06T13:13:21.143897Z",
     "shell.execute_reply": "2021-06-06T13:13:21.144323Z"
    }
   },
   "outputs": [
    {
     "name": "stdout",
     "output_type": "stream",
     "text": [
      "StabilizerTable: ['+X', '-Z', '-I', '-Y']\n"
     ]
    }
   ],
   "source": [
    "from qiskit.quantum_info.operators import StabilizerTable\n",
    "\n",
    "current = StabilizerTable.from_labels(['+I', '-X'])\n",
    "other =  StabilizerTable.from_labels(['+X', '-Z'])\n",
    "print(current.compose(other))"
   ]
  },
  {
   "cell_type": "code",
   "execution_count": 2,
   "id": "f1d6656f",
   "metadata": {
    "execution": {
     "iopub.execute_input": "2021-06-06T13:13:21.149803Z",
     "iopub.status.busy": "2021-06-06T13:13:21.149231Z",
     "iopub.status.idle": "2021-06-06T13:13:21.152386Z",
     "shell.execute_reply": "2021-06-06T13:13:21.151924Z"
    }
   },
   "outputs": [
    {
     "name": "stdout",
     "output_type": "stream",
     "text": [
      "StabilizerTable: ['+X', '-Z', '-I', '+Y']\n"
     ]
    }
   ],
   "source": [
    "from qiskit.quantum_info.operators import StabilizerTable\n",
    "\n",
    "current = StabilizerTable.from_labels(['+I', '-X'])\n",
    "other =  StabilizerTable.from_labels(['+X', '-Z'])\n",
    "print(current.dot(other))"
   ]
  },
  {
   "cell_type": "code",
   "execution_count": 3,
   "id": "2c0a74ca",
   "metadata": {
    "execution": {
     "iopub.execute_input": "2021-06-06T13:13:21.157921Z",
     "iopub.status.busy": "2021-06-06T13:13:21.156669Z",
     "iopub.status.idle": "2021-06-06T13:13:21.159644Z",
     "shell.execute_reply": "2021-06-06T13:13:21.159176Z"
    }
   },
   "outputs": [
    {
     "name": "stdout",
     "output_type": "stream",
     "text": [
      "StabilizerTable: ['-YI', '+YX', '+ZI', '-ZX']\n"
     ]
    }
   ],
   "source": [
    "from qiskit.quantum_info.operators import StabilizerTable\n",
    "\n",
    "current = StabilizerTable.from_labels(['+I', '-X'])\n",
    "other =  StabilizerTable.from_labels(['-Y', '+Z'])\n",
    "print(current.expand(other))"
   ]
  },
  {
   "cell_type": "code",
   "execution_count": 4,
   "id": "9df086f2",
   "metadata": {
    "execution": {
     "iopub.execute_input": "2021-06-06T13:13:21.165670Z",
     "iopub.status.busy": "2021-06-06T13:13:21.164793Z",
     "iopub.status.idle": "2021-06-06T13:13:21.169074Z",
     "shell.execute_reply": "2021-06-06T13:13:21.168684Z"
    }
   },
   "outputs": [
    {
     "name": "stdout",
     "output_type": "stream",
     "text": [
      "Initial Ordering\n",
      "StabilizerTable: ['+XI', '-ZI', '+ZZ', '+YZ', '+II', '-XX', '-YY', '+YI', '-ZY', '-XY', '-ZX', '+ZY', '-ZZ', '-YX', '+YY', '-IZ', '+XY', '+YX', '-IX', '-YI', '+XZ', '+IY', '-XZ', '+ZX', '+XX', '+IX', '-YZ', '-XI', '+IZ', '-IY', '-II', '+ZI']\n",
      "Lexicographically sorted\n",
      "StabilizerTable: ['+II', '-II', '-IX', '+IX', '+IY', '-IY', '-IZ', '+IZ', '+XI', '-XI', '-XX', '+XX', '-XY', '+XY', '+XZ', '-XZ', '+YI', '-YI', '-YX', '+YX', '-YY', '+YY', '+YZ', '-YZ', '-ZI', '+ZI', '-ZX', '+ZX', '-ZY', '+ZY', '+ZZ', '-ZZ']\n",
      "Weight sorted\n",
      "StabilizerTable: ['+II', '-II', '-IX', '+IX', '+IY', '-IY', '-IZ', '+IZ', '+XI', '-XI', '+YI', '-YI', '-ZI', '+ZI', '-XX', '+XX', '-XY', '+XY', '+XZ', '-XZ', '-YX', '+YX', '-YY', '+YY', '+YZ', '-YZ', '-ZX', '+ZX', '-ZY', '+ZY', '+ZZ', '-ZZ']\n"
     ]
    }
   ],
   "source": [
    "from numpy.random import shuffle\n",
    "from qiskit.quantum_info.operators import StabilizerTable\n",
    "\n",
    "# 2-qubit labels\n",
    "labels = ['+II', '+IX', '+IY', '+IZ', '+XI', '+XX', '+XY', '+XZ',\n",
    "          '+YI', '+YX', '+YY', '+YZ', '+ZI', '+ZX', '+ZY', '+ZZ',\n",
    "          '-II', '-IX', '-IY', '-IZ', '-XI', '-XX', '-XY', '-XZ',\n",
    "          '-YI', '-YX', '-YY', '-YZ', '-ZI', '-ZX', '-ZY', '-ZZ']\n",
    "# Shuffle Labels\n",
    "shuffle(labels)\n",
    "st = StabilizerTable.from_labels(labels)\n",
    "print('Initial Ordering')\n",
    "print(st)\n",
    "\n",
    "# Lexicographic Ordering\n",
    "srt = st.sort()\n",
    "print('Lexicographically sorted')\n",
    "print(srt)\n",
    "\n",
    "# Weight Ordering\n",
    "srt = st.sort(weight=True)\n",
    "print('Weight sorted')\n",
    "print(srt)"
   ]
  },
  {
   "cell_type": "code",
   "execution_count": 5,
   "id": "dc2c6b58",
   "metadata": {
    "execution": {
     "iopub.execute_input": "2021-06-06T13:13:21.174838Z",
     "iopub.status.busy": "2021-06-06T13:13:21.173564Z",
     "iopub.status.idle": "2021-06-06T13:13:21.176605Z",
     "shell.execute_reply": "2021-06-06T13:13:21.176162Z"
    }
   },
   "outputs": [
    {
     "name": "stdout",
     "output_type": "stream",
     "text": [
      "StabilizerTable: ['-IY', '+IZ', '+XY', '-XZ']\n"
     ]
    }
   ],
   "source": [
    "from qiskit.quantum_info.operators import StabilizerTable\n",
    "\n",
    "current = StabilizerTable.from_labels(['+I', '-X'])\n",
    "other =  StabilizerTable.from_labels(['-Y', '+Z'])\n",
    "print(current.tensor(other))"
   ]
  },
  {
   "cell_type": "code",
   "execution_count": 6,
   "id": "b5b4b973",
   "metadata": {
    "execution": {
     "iopub.execute_input": "2021-06-06T13:13:21.182207Z",
     "iopub.status.busy": "2021-06-06T13:13:21.181046Z",
     "iopub.status.idle": "2021-06-06T13:13:21.183711Z",
     "shell.execute_reply": "2021-06-06T13:13:21.183327Z"
    }
   },
   "outputs": [
    {
     "name": "stdout",
     "output_type": "stream",
     "text": [
      "StabilizerTable: ['+X', '+I', '-I', '-X']\n"
     ]
    }
   ],
   "source": [
    "from qiskit.quantum_info.operators import StabilizerTable\n",
    "\n",
    "st = StabilizerTable.from_labels(['+X', '+I', '-I', '-X', '+X', '-X', '+I'])\n",
    "unique = st.unique()\n",
    "print(unique)"
   ]
  }
 ],
 "metadata": {
  "kernelspec": {
   "display_name": "Python 3",
   "language": "python",
   "name": "python3"
  },
  "language_info": {
   "codemirror_mode": {
    "name": "ipython",
    "version": 3
   },
   "file_extension": ".py",
   "mimetype": "text/x-python",
   "name": "python",
   "nbconvert_exporter": "python",
   "pygments_lexer": "ipython3",
   "version": "3.8.10"
  }
 },
 "nbformat": 4,
 "nbformat_minor": 5
}