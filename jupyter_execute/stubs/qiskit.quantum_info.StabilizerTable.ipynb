{
 "cells": [
  {
   "cell_type": "code",
   "execution_count": 1,
   "id": "empirical-senator",
   "metadata": {
    "execution": {
     "iopub.execute_input": "2021-03-28T16:13:28.191761Z",
     "iopub.status.busy": "2021-03-28T16:13:28.191235Z",
     "iopub.status.idle": "2021-03-28T16:13:30.013878Z",
     "shell.execute_reply": "2021-03-28T16:13:30.014265Z"
    }
   },
   "outputs": [
    {
     "name": "stdout",
     "output_type": "stream",
     "text": [
      "StabilizerTable: ['+X', '-Z', '-I', '-Y']\n"
     ]
    }
   ],
   "source": [
    "from qiskit.quantum_info.operators import StabilizerTable\n",
    "\n",
    "current = StabilizerTable.from_labels(['+I', '-X'])\n",
    "other =  StabilizerTable.from_labels(['+X', '-Z'])\n",
    "print(current.compose(other))"
   ]
  },
  {
   "cell_type": "code",
   "execution_count": 2,
   "id": "inappropriate-adobe",
   "metadata": {
    "execution": {
     "iopub.execute_input": "2021-03-28T16:13:30.020204Z",
     "iopub.status.busy": "2021-03-28T16:13:30.019694Z",
     "iopub.status.idle": "2021-03-28T16:13:30.023417Z",
     "shell.execute_reply": "2021-03-28T16:13:30.022944Z"
    }
   },
   "outputs": [
    {
     "name": "stdout",
     "output_type": "stream",
     "text": [
      "StabilizerTable: ['+X', '-Z', '-I', '+Y']\n"
     ]
    }
   ],
   "source": [
    "from qiskit.quantum_info.operators import StabilizerTable\n",
    "\n",
    "current = StabilizerTable.from_labels(['+I', '-X'])\n",
    "other =  StabilizerTable.from_labels(['+X', '-Z'])\n",
    "print(current.dot(other))"
   ]
  },
  {
   "cell_type": "code",
   "execution_count": 3,
   "id": "colored-productivity",
   "metadata": {
    "execution": {
     "iopub.execute_input": "2021-03-28T16:13:30.029292Z",
     "iopub.status.busy": "2021-03-28T16:13:30.028130Z",
     "iopub.status.idle": "2021-03-28T16:13:30.030984Z",
     "shell.execute_reply": "2021-03-28T16:13:30.030559Z"
    }
   },
   "outputs": [
    {
     "name": "stdout",
     "output_type": "stream",
     "text": [
      "StabilizerTable: ['-YI', '+ZI', '+YX', '-ZX']\n"
     ]
    }
   ],
   "source": [
    "from qiskit.quantum_info.operators import StabilizerTable\n",
    "\n",
    "current = StabilizerTable.from_labels(['+I', '-X'])\n",
    "other =  StabilizerTable.from_labels(['-Y', '+Z'])\n",
    "print(current.expand(other))"
   ]
  },
  {
   "cell_type": "code",
   "execution_count": 4,
   "id": "invalid-berry",
   "metadata": {
    "execution": {
     "iopub.execute_input": "2021-03-28T16:13:30.037425Z",
     "iopub.status.busy": "2021-03-28T16:13:30.036252Z",
     "iopub.status.idle": "2021-03-28T16:13:30.041792Z",
     "shell.execute_reply": "2021-03-28T16:13:30.042190Z"
    }
   },
   "outputs": [
    {
     "name": "stdout",
     "output_type": "stream",
     "text": [
      "Initial Ordering\n",
      "StabilizerTable: ['-ZY', '+ZZ', '+YY', '-IZ', '-YY', '-ZZ', '+XY', '+YI', '+ZX', '+II', '+IY', '-YZ', '-XI', '+IZ', '+XZ', '+XI', '+YZ', '+XX', '+YX', '+ZI', '+IX', '-IX', '-YX', '-ZX', '-YI', '-XY', '-IY', '+ZY', '-II', '-XZ', '-XX', '-ZI']\n",
      "Lexicographically sorted\n",
      "StabilizerTable: ['+II', '-II', '+IX', '-IX', '+IY', '-IY', '-IZ', '+IZ', '-XI', '+XI', '+XX', '-XX', '+XY', '-XY', '+XZ', '-XZ', '+YI', '-YI', '+YX', '-YX', '+YY', '-YY', '-YZ', '+YZ', '+ZI', '-ZI', '+ZX', '-ZX', '-ZY', '+ZY', '+ZZ', '-ZZ']\n",
      "Weight sorted\n",
      "StabilizerTable: ['+II', '-II', '+IX', '-IX', '+IY', '-IY', '-IZ', '+IZ', '-XI', '+XI', '+YI', '-YI', '+ZI', '-ZI', '+XX', '-XX', '+XY', '-XY', '+XZ', '-XZ', '+YX', '-YX', '+YY', '-YY', '-YZ', '+YZ', '+ZX', '-ZX', '-ZY', '+ZY', '+ZZ', '-ZZ']\n"
     ]
    }
   ],
   "source": [
    "from numpy.random import shuffle\n",
    "from qiskit.quantum_info.operators import StabilizerTable\n",
    "\n",
    "# 2-qubit labels\n",
    "labels = ['+II', '+IX', '+IY', '+IZ', '+XI', '+XX', '+XY', '+XZ',\n",
    "          '+YI', '+YX', '+YY', '+YZ', '+ZI', '+ZX', '+ZY', '+ZZ',\n",
    "          '-II', '-IX', '-IY', '-IZ', '-XI', '-XX', '-XY', '-XZ',\n",
    "          '-YI', '-YX', '-YY', '-YZ', '-ZI', '-ZX', '-ZY', '-ZZ']\n",
    "# Shuffle Labels\n",
    "shuffle(labels)\n",
    "st = StabilizerTable.from_labels(labels)\n",
    "print('Initial Ordering')\n",
    "print(st)\n",
    "\n",
    "# Lexicographic Ordering\n",
    "srt = st.sort()\n",
    "print('Lexicographically sorted')\n",
    "print(srt)\n",
    "\n",
    "# Weight Ordering\n",
    "srt = st.sort(weight=True)\n",
    "print('Weight sorted')\n",
    "print(srt)"
   ]
  },
  {
   "cell_type": "code",
   "execution_count": 5,
   "id": "complete-guest",
   "metadata": {
    "execution": {
     "iopub.execute_input": "2021-03-28T16:13:30.046598Z",
     "iopub.status.busy": "2021-03-28T16:13:30.046095Z",
     "iopub.status.idle": "2021-03-28T16:13:30.050116Z",
     "shell.execute_reply": "2021-03-28T16:13:30.049653Z"
    }
   },
   "outputs": [
    {
     "name": "stdout",
     "output_type": "stream",
     "text": [
      "StabilizerTable: ['-IY', '+IZ', '+XY', '-XZ']\n"
     ]
    }
   ],
   "source": [
    "from qiskit.quantum_info.operators import StabilizerTable\n",
    "\n",
    "current = StabilizerTable.from_labels(['+I', '-X'])\n",
    "other =  StabilizerTable.from_labels(['-Y', '+Z'])\n",
    "print(current.tensor(other))"
   ]
  },
  {
   "cell_type": "code",
   "execution_count": 6,
   "id": "desperate-mechanics",
   "metadata": {
    "execution": {
     "iopub.execute_input": "2021-03-28T16:13:30.054884Z",
     "iopub.status.busy": "2021-03-28T16:13:30.054344Z",
     "iopub.status.idle": "2021-03-28T16:13:30.058134Z",
     "shell.execute_reply": "2021-03-28T16:13:30.058535Z"
    }
   },
   "outputs": [
    {
     "name": "stdout",
     "output_type": "stream",
     "text": [
      "StabilizerTable: ['+X', '+I', '-I', '-X']\n"
     ]
    }
   ],
   "source": [
    "from qiskit.quantum_info.operators import StabilizerTable\n",
    "\n",
    "st = StabilizerTable.from_labels(['+X', '+I', '-I', '-X', '+X', '-X', '+I'])\n",
    "unique = st.unique()\n",
    "print(unique)"
   ]
  }
 ],
 "metadata": {
  "kernelspec": {
   "display_name": "Python 3",
   "language": "python",
   "name": "python3"
  },
  "language_info": {
   "codemirror_mode": {
    "name": "ipython",
    "version": 3
   },
   "file_extension": ".py",
   "mimetype": "text/x-python",
   "name": "python",
   "nbconvert_exporter": "python",
   "pygments_lexer": "ipython3",
   "version": "3.8.8"
  }
 },
 "nbformat": 4,
 "nbformat_minor": 5
}