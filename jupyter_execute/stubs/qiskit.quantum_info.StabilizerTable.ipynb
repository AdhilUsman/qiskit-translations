{
 "cells": [
  {
   "cell_type": "code",
   "execution_count": 1,
   "id": "important-hostel",
   "metadata": {
    "execution": {
     "iopub.execute_input": "2021-03-31T13:29:33.792020Z",
     "iopub.status.busy": "2021-03-31T13:29:33.791539Z",
     "iopub.status.idle": "2021-03-31T13:29:35.684741Z",
     "shell.execute_reply": "2021-03-31T13:29:35.684076Z"
    }
   },
   "outputs": [
    {
     "name": "stdout",
     "output_type": "stream",
     "text": [
      "StabilizerTable: ['+X', '-Z', '-I', '-Y']\n"
     ]
    }
   ],
   "source": [
    "from qiskit.quantum_info.operators import StabilizerTable\n",
    "\n",
    "current = StabilizerTable.from_labels(['+I', '-X'])\n",
    "other =  StabilizerTable.from_labels(['+X', '-Z'])\n",
    "print(current.compose(other))"
   ]
  },
  {
   "cell_type": "code",
   "execution_count": 2,
   "id": "spiritual-engagement",
   "metadata": {
    "execution": {
     "iopub.execute_input": "2021-03-31T13:29:35.691308Z",
     "iopub.status.busy": "2021-03-31T13:29:35.690766Z",
     "iopub.status.idle": "2021-03-31T13:29:35.692959Z",
     "shell.execute_reply": "2021-03-31T13:29:35.693360Z"
    }
   },
   "outputs": [
    {
     "name": "stdout",
     "output_type": "stream",
     "text": [
      "StabilizerTable: ['+X', '-Z', '-I', '+Y']\n"
     ]
    }
   ],
   "source": [
    "from qiskit.quantum_info.operators import StabilizerTable\n",
    "\n",
    "current = StabilizerTable.from_labels(['+I', '-X'])\n",
    "other =  StabilizerTable.from_labels(['+X', '-Z'])\n",
    "print(current.dot(other))"
   ]
  },
  {
   "cell_type": "code",
   "execution_count": 3,
   "id": "colored-adapter",
   "metadata": {
    "execution": {
     "iopub.execute_input": "2021-03-31T13:29:35.699448Z",
     "iopub.status.busy": "2021-03-31T13:29:35.698097Z",
     "iopub.status.idle": "2021-03-31T13:29:35.701309Z",
     "shell.execute_reply": "2021-03-31T13:29:35.700825Z"
    }
   },
   "outputs": [
    {
     "name": "stdout",
     "output_type": "stream",
     "text": [
      "StabilizerTable: ['-YI', '+ZI', '+YX', '-ZX']\n"
     ]
    }
   ],
   "source": [
    "from qiskit.quantum_info.operators import StabilizerTable\n",
    "\n",
    "current = StabilizerTable.from_labels(['+I', '-X'])\n",
    "other =  StabilizerTable.from_labels(['-Y', '+Z'])\n",
    "print(current.expand(other))"
   ]
  },
  {
   "cell_type": "code",
   "execution_count": 4,
   "id": "suitable-pleasure",
   "metadata": {
    "execution": {
     "iopub.execute_input": "2021-03-31T13:29:35.707902Z",
     "iopub.status.busy": "2021-03-31T13:29:35.706650Z",
     "iopub.status.idle": "2021-03-31T13:29:35.711922Z",
     "shell.execute_reply": "2021-03-31T13:29:35.711363Z"
    }
   },
   "outputs": [
    {
     "name": "stdout",
     "output_type": "stream",
     "text": [
      "Initial Ordering\n",
      "StabilizerTable: ['+XX', '-ZX', '+ZY', '-XZ', '-ZZ', '+ZX', '+ZZ', '-XX', '-YY', '-ZY', '-YI', '+XI', '-ZI', '+XY', '-IY', '+YI', '+ZI', '+XZ', '+YY', '-XI', '+YZ', '-IX', '+IX', '+YX', '-YX', '-XY', '+IZ', '-II', '-YZ', '-IZ', '+IY', '+II']\n",
      "Lexicographically sorted\n",
      "StabilizerTable: ['-II', '+II', '-IX', '+IX', '-IY', '+IY', '+IZ', '-IZ', '+XI', '-XI', '+XX', '-XX', '+XY', '-XY', '-XZ', '+XZ', '-YI', '+YI', '+YX', '-YX', '-YY', '+YY', '+YZ', '-YZ', '-ZI', '+ZI', '-ZX', '+ZX', '+ZY', '-ZY', '-ZZ', '+ZZ']\n",
      "Weight sorted\n",
      "StabilizerTable: ['-II', '+II', '-IX', '+IX', '-IY', '+IY', '+IZ', '-IZ', '+XI', '-XI', '-YI', '+YI', '-ZI', '+ZI', '+XX', '-XX', '+XY', '-XY', '-XZ', '+XZ', '+YX', '-YX', '-YY', '+YY', '+YZ', '-YZ', '-ZX', '+ZX', '+ZY', '-ZY', '-ZZ', '+ZZ']\n"
     ]
    }
   ],
   "source": [
    "from numpy.random import shuffle\n",
    "from qiskit.quantum_info.operators import StabilizerTable\n",
    "\n",
    "# 2-qubit labels\n",
    "labels = ['+II', '+IX', '+IY', '+IZ', '+XI', '+XX', '+XY', '+XZ',\n",
    "          '+YI', '+YX', '+YY', '+YZ', '+ZI', '+ZX', '+ZY', '+ZZ',\n",
    "          '-II', '-IX', '-IY', '-IZ', '-XI', '-XX', '-XY', '-XZ',\n",
    "          '-YI', '-YX', '-YY', '-YZ', '-ZI', '-ZX', '-ZY', '-ZZ']\n",
    "# Shuffle Labels\n",
    "shuffle(labels)\n",
    "st = StabilizerTable.from_labels(labels)\n",
    "print('Initial Ordering')\n",
    "print(st)\n",
    "\n",
    "# Lexicographic Ordering\n",
    "srt = st.sort()\n",
    "print('Lexicographically sorted')\n",
    "print(srt)\n",
    "\n",
    "# Weight Ordering\n",
    "srt = st.sort(weight=True)\n",
    "print('Weight sorted')\n",
    "print(srt)"
   ]
  },
  {
   "cell_type": "code",
   "execution_count": 5,
   "id": "younger-garage",
   "metadata": {
    "execution": {
     "iopub.execute_input": "2021-03-31T13:29:35.717735Z",
     "iopub.status.busy": "2021-03-31T13:29:35.716457Z",
     "iopub.status.idle": "2021-03-31T13:29:35.719507Z",
     "shell.execute_reply": "2021-03-31T13:29:35.719028Z"
    }
   },
   "outputs": [
    {
     "name": "stdout",
     "output_type": "stream",
     "text": [
      "StabilizerTable: ['-IY', '+IZ', '+XY', '-XZ']\n"
     ]
    }
   ],
   "source": [
    "from qiskit.quantum_info.operators import StabilizerTable\n",
    "\n",
    "current = StabilizerTable.from_labels(['+I', '-X'])\n",
    "other =  StabilizerTable.from_labels(['-Y', '+Z'])\n",
    "print(current.tensor(other))"
   ]
  },
  {
   "cell_type": "code",
   "execution_count": 6,
   "id": "convertible-benjamin",
   "metadata": {
    "execution": {
     "iopub.execute_input": "2021-03-31T13:29:35.730634Z",
     "iopub.status.busy": "2021-03-31T13:29:35.730014Z",
     "iopub.status.idle": "2021-03-31T13:29:35.732355Z",
     "shell.execute_reply": "2021-03-31T13:29:35.731150Z"
    }
   },
   "outputs": [
    {
     "name": "stdout",
     "output_type": "stream",
     "text": [
      "StabilizerTable: ['+X', '+I', '-I', '-X']\n"
     ]
    }
   ],
   "source": [
    "from qiskit.quantum_info.operators import StabilizerTable\n",
    "\n",
    "st = StabilizerTable.from_labels(['+X', '+I', '-I', '-X', '+X', '-X', '+I'])\n",
    "unique = st.unique()\n",
    "print(unique)"
   ]
  }
 ],
 "metadata": {
  "kernelspec": {
   "display_name": "Python 3",
   "language": "python",
   "name": "python3"
  },
  "language_info": {
   "codemirror_mode": {
    "name": "ipython",
    "version": 3
   },
   "file_extension": ".py",
   "mimetype": "text/x-python",
   "name": "python",
   "nbconvert_exporter": "python",
   "pygments_lexer": "ipython3",
   "version": "3.8.8"
  }
 },
 "nbformat": 4,
 "nbformat_minor": 5
}