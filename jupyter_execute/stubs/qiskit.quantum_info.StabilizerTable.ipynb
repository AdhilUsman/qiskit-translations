{
 "cells": [
  {
   "cell_type": "code",
   "execution_count": 1,
   "id": "496a4563",
   "metadata": {
    "execution": {
     "iopub.execute_input": "2021-05-19T13:34:15.697981Z",
     "iopub.status.busy": "2021-05-19T13:34:15.697438Z",
     "iopub.status.idle": "2021-05-19T13:34:16.441666Z",
     "shell.execute_reply": "2021-05-19T13:34:16.442138Z"
    }
   },
   "outputs": [
    {
     "name": "stdout",
     "output_type": "stream",
     "text": [
      "StabilizerTable: ['+X', '-Z', '-I', '-Y']\n"
     ]
    }
   ],
   "source": [
    "from qiskit.quantum_info.operators import StabilizerTable\n",
    "\n",
    "current = StabilizerTable.from_labels(['+I', '-X'])\n",
    "other =  StabilizerTable.from_labels(['+X', '-Z'])\n",
    "print(current.compose(other))"
   ]
  },
  {
   "cell_type": "code",
   "execution_count": 2,
   "id": "e40702d5",
   "metadata": {
    "execution": {
     "iopub.execute_input": "2021-05-19T13:34:16.448590Z",
     "iopub.status.busy": "2021-05-19T13:34:16.447156Z",
     "iopub.status.idle": "2021-05-19T13:34:16.450468Z",
     "shell.execute_reply": "2021-05-19T13:34:16.449980Z"
    }
   },
   "outputs": [
    {
     "name": "stdout",
     "output_type": "stream",
     "text": [
      "StabilizerTable: ['+X', '-Z', '-I', '+Y']\n"
     ]
    }
   ],
   "source": [
    "from qiskit.quantum_info.operators import StabilizerTable\n",
    "\n",
    "current = StabilizerTable.from_labels(['+I', '-X'])\n",
    "other =  StabilizerTable.from_labels(['+X', '-Z'])\n",
    "print(current.dot(other))"
   ]
  },
  {
   "cell_type": "code",
   "execution_count": 3,
   "id": "4d369cb2",
   "metadata": {
    "execution": {
     "iopub.execute_input": "2021-05-19T13:34:16.457446Z",
     "iopub.status.busy": "2021-05-19T13:34:16.455682Z",
     "iopub.status.idle": "2021-05-19T13:34:16.459401Z",
     "shell.execute_reply": "2021-05-19T13:34:16.458926Z"
    }
   },
   "outputs": [
    {
     "name": "stdout",
     "output_type": "stream",
     "text": [
      "StabilizerTable: ['-YI', '+YX', '+ZI', '-ZX']\n"
     ]
    }
   ],
   "source": [
    "from qiskit.quantum_info.operators import StabilizerTable\n",
    "\n",
    "current = StabilizerTable.from_labels(['+I', '-X'])\n",
    "other =  StabilizerTable.from_labels(['-Y', '+Z'])\n",
    "print(current.expand(other))"
   ]
  },
  {
   "cell_type": "code",
   "execution_count": 4,
   "id": "63effad8",
   "metadata": {
    "execution": {
     "iopub.execute_input": "2021-05-19T13:34:16.467488Z",
     "iopub.status.busy": "2021-05-19T13:34:16.464433Z",
     "iopub.status.idle": "2021-05-19T13:34:16.469951Z",
     "shell.execute_reply": "2021-05-19T13:34:16.470385Z"
    }
   },
   "outputs": [
    {
     "name": "stdout",
     "output_type": "stream",
     "text": [
      "Initial Ordering\n",
      "StabilizerTable: ['+YX', '-ZZ', '-XY', '+ZX', '-YI', '+ZZ', '+YY', '+YZ', '+ZI', '-XX', '-YZ', '+II', '-XZ', '-ZI', '-ZY', '-II', '+IX', '+XI', '+XX', '-IY', '+XY', '+XZ', '+YI', '+IZ', '-ZX', '-YY', '+IY', '-IZ', '-XI', '-YX', '-IX', '+ZY']\n",
      "Lexicographically sorted\n",
      "StabilizerTable: ['+II', '-II', '+IX', '-IX', '-IY', '+IY', '+IZ', '-IZ', '+XI', '-XI', '-XX', '+XX', '-XY', '+XY', '-XZ', '+XZ', '-YI', '+YI', '+YX', '-YX', '+YY', '-YY', '+YZ', '-YZ', '+ZI', '-ZI', '+ZX', '-ZX', '-ZY', '+ZY', '-ZZ', '+ZZ']\n",
      "Weight sorted\n",
      "StabilizerTable: ['+II', '-II', '+IX', '-IX', '-IY', '+IY', '+IZ', '-IZ', '+XI', '-XI', '-YI', '+YI', '+ZI', '-ZI', '-XX', '+XX', '-XY', '+XY', '-XZ', '+XZ', '+YX', '-YX', '+YY', '-YY', '+YZ', '-YZ', '+ZX', '-ZX', '-ZY', '+ZY', '-ZZ', '+ZZ']\n"
     ]
    }
   ],
   "source": [
    "from numpy.random import shuffle\n",
    "from qiskit.quantum_info.operators import StabilizerTable\n",
    "\n",
    "# 2-qubit labels\n",
    "labels = ['+II', '+IX', '+IY', '+IZ', '+XI', '+XX', '+XY', '+XZ',\n",
    "          '+YI', '+YX', '+YY', '+YZ', '+ZI', '+ZX', '+ZY', '+ZZ',\n",
    "          '-II', '-IX', '-IY', '-IZ', '-XI', '-XX', '-XY', '-XZ',\n",
    "          '-YI', '-YX', '-YY', '-YZ', '-ZI', '-ZX', '-ZY', '-ZZ']\n",
    "# Shuffle Labels\n",
    "shuffle(labels)\n",
    "st = StabilizerTable.from_labels(labels)\n",
    "print('Initial Ordering')\n",
    "print(st)\n",
    "\n",
    "# Lexicographic Ordering\n",
    "srt = st.sort()\n",
    "print('Lexicographically sorted')\n",
    "print(srt)\n",
    "\n",
    "# Weight Ordering\n",
    "srt = st.sort(weight=True)\n",
    "print('Weight sorted')\n",
    "print(srt)"
   ]
  },
  {
   "cell_type": "code",
   "execution_count": 5,
   "id": "37ba2f29",
   "metadata": {
    "execution": {
     "iopub.execute_input": "2021-05-19T13:34:16.477116Z",
     "iopub.status.busy": "2021-05-19T13:34:16.475784Z",
     "iopub.status.idle": "2021-05-19T13:34:16.479383Z",
     "shell.execute_reply": "2021-05-19T13:34:16.478810Z"
    }
   },
   "outputs": [
    {
     "name": "stdout",
     "output_type": "stream",
     "text": [
      "StabilizerTable: ['-IY', '+IZ', '+XY', '-XZ']\n"
     ]
    }
   ],
   "source": [
    "from qiskit.quantum_info.operators import StabilizerTable\n",
    "\n",
    "current = StabilizerTable.from_labels(['+I', '-X'])\n",
    "other =  StabilizerTable.from_labels(['-Y', '+Z'])\n",
    "print(current.tensor(other))"
   ]
  },
  {
   "cell_type": "code",
   "execution_count": 6,
   "id": "c992ca60",
   "metadata": {
    "execution": {
     "iopub.execute_input": "2021-05-19T13:34:16.487174Z",
     "iopub.status.busy": "2021-05-19T13:34:16.485855Z",
     "iopub.status.idle": "2021-05-19T13:34:16.489358Z",
     "shell.execute_reply": "2021-05-19T13:34:16.488771Z"
    }
   },
   "outputs": [
    {
     "name": "stdout",
     "output_type": "stream",
     "text": [
      "StabilizerTable: ['+X', '+I', '-I', '-X']\n"
     ]
    }
   ],
   "source": [
    "from qiskit.quantum_info.operators import StabilizerTable\n",
    "\n",
    "st = StabilizerTable.from_labels(['+X', '+I', '-I', '-X', '+X', '-X', '+I'])\n",
    "unique = st.unique()\n",
    "print(unique)"
   ]
  }
 ],
 "metadata": {
  "kernelspec": {
   "display_name": "Python 3",
   "language": "python",
   "name": "python3"
  },
  "language_info": {
   "codemirror_mode": {
    "name": "ipython",
    "version": 3
   },
   "file_extension": ".py",
   "mimetype": "text/x-python",
   "name": "python",
   "nbconvert_exporter": "python",
   "pygments_lexer": "ipython3",
   "version": "3.8.10"
  }
 },
 "nbformat": 4,
 "nbformat_minor": 5
}