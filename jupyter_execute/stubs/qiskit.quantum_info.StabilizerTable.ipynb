{
 "cells": [
  {
   "cell_type": "code",
   "execution_count": 1,
   "id": "ee34c88f",
   "metadata": {
    "execution": {
     "iopub.execute_input": "2021-06-07T12:26:43.631852Z",
     "iopub.status.busy": "2021-06-07T12:26:43.631301Z",
     "iopub.status.idle": "2021-06-07T12:26:44.235424Z",
     "shell.execute_reply": "2021-06-07T12:26:44.235988Z"
    }
   },
   "outputs": [
    {
     "name": "stdout",
     "output_type": "stream",
     "text": [
      "StabilizerTable: ['+X', '-Z', '-I', '-Y']\n"
     ]
    }
   ],
   "source": [
    "from qiskit.quantum_info.operators import StabilizerTable\n",
    "\n",
    "current = StabilizerTable.from_labels(['+I', '-X'])\n",
    "other =  StabilizerTable.from_labels(['+X', '-Z'])\n",
    "print(current.compose(other))"
   ]
  },
  {
   "cell_type": "code",
   "execution_count": 2,
   "id": "6d3cdbf0",
   "metadata": {
    "execution": {
     "iopub.execute_input": "2021-06-07T12:26:44.241893Z",
     "iopub.status.busy": "2021-06-07T12:26:44.240874Z",
     "iopub.status.idle": "2021-06-07T12:26:44.243472Z",
     "shell.execute_reply": "2021-06-07T12:26:44.242978Z"
    }
   },
   "outputs": [
    {
     "name": "stdout",
     "output_type": "stream",
     "text": [
      "StabilizerTable: ['+X', '-Z', '-I', '+Y']\n"
     ]
    }
   ],
   "source": [
    "from qiskit.quantum_info.operators import StabilizerTable\n",
    "\n",
    "current = StabilizerTable.from_labels(['+I', '-X'])\n",
    "other =  StabilizerTable.from_labels(['+X', '-Z'])\n",
    "print(current.dot(other))"
   ]
  },
  {
   "cell_type": "code",
   "execution_count": 3,
   "id": "51822588",
   "metadata": {
    "execution": {
     "iopub.execute_input": "2021-06-07T12:26:44.248842Z",
     "iopub.status.busy": "2021-06-07T12:26:44.247739Z",
     "iopub.status.idle": "2021-06-07T12:26:44.250340Z",
     "shell.execute_reply": "2021-06-07T12:26:44.249905Z"
    }
   },
   "outputs": [
    {
     "name": "stdout",
     "output_type": "stream",
     "text": [
      "StabilizerTable: ['-YI', '+YX', '+ZI', '-ZX']\n"
     ]
    }
   ],
   "source": [
    "from qiskit.quantum_info.operators import StabilizerTable\n",
    "\n",
    "current = StabilizerTable.from_labels(['+I', '-X'])\n",
    "other =  StabilizerTable.from_labels(['-Y', '+Z'])\n",
    "print(current.expand(other))"
   ]
  },
  {
   "cell_type": "code",
   "execution_count": 4,
   "id": "01ad7fcb",
   "metadata": {
    "execution": {
     "iopub.execute_input": "2021-06-07T12:26:44.257814Z",
     "iopub.status.busy": "2021-06-07T12:26:44.257294Z",
     "iopub.status.idle": "2021-06-07T12:26:44.259696Z",
     "shell.execute_reply": "2021-06-07T12:26:44.260090Z"
    }
   },
   "outputs": [
    {
     "name": "stdout",
     "output_type": "stream",
     "text": [
      "Initial Ordering\n",
      "StabilizerTable: ['-YZ', '+YX', '-YI', '+YI', '+XY', '-XZ', '+IY', '+II', '+XX', '+YY', '-IY', '+IZ', '-ZI', '+XZ', '-XY', '-XX', '-ZY', '-ZZ', '-YX', '+ZX', '+ZY', '+ZZ', '-II', '-YY', '+XI', '-IZ', '+YZ', '+ZI', '-IX', '+IX', '-ZX', '-XI']\n",
      "Lexicographically sorted\n",
      "StabilizerTable: ['+II', '-II', '-IX', '+IX', '+IY', '-IY', '+IZ', '-IZ', '+XI', '-XI', '+XX', '-XX', '+XY', '-XY', '-XZ', '+XZ', '-YI', '+YI', '+YX', '-YX', '+YY', '-YY', '-YZ', '+YZ', '-ZI', '+ZI', '+ZX', '-ZX', '-ZY', '+ZY', '-ZZ', '+ZZ']\n",
      "Weight sorted\n",
      "StabilizerTable: ['+II', '-II', '-IX', '+IX', '+IY', '-IY', '+IZ', '-IZ', '+XI', '-XI', '-YI', '+YI', '-ZI', '+ZI', '+XX', '-XX', '+XY', '-XY', '-XZ', '+XZ', '+YX', '-YX', '+YY', '-YY', '-YZ', '+YZ', '+ZX', '-ZX', '-ZY', '+ZY', '-ZZ', '+ZZ']\n"
     ]
    }
   ],
   "source": [
    "from numpy.random import shuffle\n",
    "from qiskit.quantum_info.operators import StabilizerTable\n",
    "\n",
    "# 2-qubit labels\n",
    "labels = ['+II', '+IX', '+IY', '+IZ', '+XI', '+XX', '+XY', '+XZ',\n",
    "          '+YI', '+YX', '+YY', '+YZ', '+ZI', '+ZX', '+ZY', '+ZZ',\n",
    "          '-II', '-IX', '-IY', '-IZ', '-XI', '-XX', '-XY', '-XZ',\n",
    "          '-YI', '-YX', '-YY', '-YZ', '-ZI', '-ZX', '-ZY', '-ZZ']\n",
    "# Shuffle Labels\n",
    "shuffle(labels)\n",
    "st = StabilizerTable.from_labels(labels)\n",
    "print('Initial Ordering')\n",
    "print(st)\n",
    "\n",
    "# Lexicographic Ordering\n",
    "srt = st.sort()\n",
    "print('Lexicographically sorted')\n",
    "print(srt)\n",
    "\n",
    "# Weight Ordering\n",
    "srt = st.sort(weight=True)\n",
    "print('Weight sorted')\n",
    "print(srt)"
   ]
  },
  {
   "cell_type": "code",
   "execution_count": 5,
   "id": "f8e46de4",
   "metadata": {
    "execution": {
     "iopub.execute_input": "2021-06-07T12:26:44.264736Z",
     "iopub.status.busy": "2021-06-07T12:26:44.263908Z",
     "iopub.status.idle": "2021-06-07T12:26:44.266832Z",
     "shell.execute_reply": "2021-06-07T12:26:44.266391Z"
    }
   },
   "outputs": [
    {
     "name": "stdout",
     "output_type": "stream",
     "text": [
      "StabilizerTable: ['-IY', '+IZ', '+XY', '-XZ']\n"
     ]
    }
   ],
   "source": [
    "from qiskit.quantum_info.operators import StabilizerTable\n",
    "\n",
    "current = StabilizerTable.from_labels(['+I', '-X'])\n",
    "other =  StabilizerTable.from_labels(['-Y', '+Z'])\n",
    "print(current.tensor(other))"
   ]
  },
  {
   "cell_type": "code",
   "execution_count": 6,
   "id": "9c76d334",
   "metadata": {
    "execution": {
     "iopub.execute_input": "2021-06-07T12:26:44.271906Z",
     "iopub.status.busy": "2021-06-07T12:26:44.270738Z",
     "iopub.status.idle": "2021-06-07T12:26:44.273575Z",
     "shell.execute_reply": "2021-06-07T12:26:44.273138Z"
    }
   },
   "outputs": [
    {
     "name": "stdout",
     "output_type": "stream",
     "text": [
      "StabilizerTable: ['+X', '+I', '-I', '-X']\n"
     ]
    }
   ],
   "source": [
    "from qiskit.quantum_info.operators import StabilizerTable\n",
    "\n",
    "st = StabilizerTable.from_labels(['+X', '+I', '-I', '-X', '+X', '-X', '+I'])\n",
    "unique = st.unique()\n",
    "print(unique)"
   ]
  }
 ],
 "metadata": {
  "kernelspec": {
   "display_name": "Python 3",
   "language": "python",
   "name": "python3"
  },
  "language_info": {
   "codemirror_mode": {
    "name": "ipython",
    "version": 3
   },
   "file_extension": ".py",
   "mimetype": "text/x-python",
   "name": "python",
   "nbconvert_exporter": "python",
   "pygments_lexer": "ipython3",
   "version": "3.8.10"
  }
 },
 "nbformat": 4,
 "nbformat_minor": 5
}