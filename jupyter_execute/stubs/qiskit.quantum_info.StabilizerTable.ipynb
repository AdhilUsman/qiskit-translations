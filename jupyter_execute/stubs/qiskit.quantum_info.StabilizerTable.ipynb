{
 "cells": [
  {
   "cell_type": "code",
   "execution_count": 1,
   "id": "391adfb5",
   "metadata": {
    "execution": {
     "iopub.execute_input": "2021-04-12T18:48:14.944697Z",
     "iopub.status.busy": "2021-04-12T18:48:14.944087Z",
     "iopub.status.idle": "2021-04-12T18:48:15.623115Z",
     "shell.execute_reply": "2021-04-12T18:48:15.622519Z"
    }
   },
   "outputs": [
    {
     "name": "stdout",
     "output_type": "stream",
     "text": [
      "StabilizerTable: ['+X', '-Z', '-I', '-Y']\n"
     ]
    }
   ],
   "source": [
    "from qiskit.quantum_info.operators import StabilizerTable\n",
    "\n",
    "current = StabilizerTable.from_labels(['+I', '-X'])\n",
    "other =  StabilizerTable.from_labels(['+X', '-Z'])\n",
    "print(current.compose(other))"
   ]
  },
  {
   "cell_type": "code",
   "execution_count": 2,
   "id": "ddb5b984",
   "metadata": {
    "execution": {
     "iopub.execute_input": "2021-04-12T18:48:15.628187Z",
     "iopub.status.busy": "2021-04-12T18:48:15.627647Z",
     "iopub.status.idle": "2021-04-12T18:48:15.631593Z",
     "shell.execute_reply": "2021-04-12T18:48:15.631021Z"
    }
   },
   "outputs": [
    {
     "name": "stdout",
     "output_type": "stream",
     "text": [
      "StabilizerTable: ['+X', '-Z', '-I', '+Y']\n"
     ]
    }
   ],
   "source": [
    "from qiskit.quantum_info.operators import StabilizerTable\n",
    "\n",
    "current = StabilizerTable.from_labels(['+I', '-X'])\n",
    "other =  StabilizerTable.from_labels(['+X', '-Z'])\n",
    "print(current.dot(other))"
   ]
  },
  {
   "cell_type": "code",
   "execution_count": 3,
   "id": "88004c5d",
   "metadata": {
    "execution": {
     "iopub.execute_input": "2021-04-12T18:48:15.637875Z",
     "iopub.status.busy": "2021-04-12T18:48:15.636501Z",
     "iopub.status.idle": "2021-04-12T18:48:15.639694Z",
     "shell.execute_reply": "2021-04-12T18:48:15.639211Z"
    }
   },
   "outputs": [
    {
     "name": "stdout",
     "output_type": "stream",
     "text": [
      "StabilizerTable: ['-YI', '+YX', '+ZI', '-ZX']\n"
     ]
    }
   ],
   "source": [
    "from qiskit.quantum_info.operators import StabilizerTable\n",
    "\n",
    "current = StabilizerTable.from_labels(['+I', '-X'])\n",
    "other =  StabilizerTable.from_labels(['-Y', '+Z'])\n",
    "print(current.expand(other))"
   ]
  },
  {
   "cell_type": "code",
   "execution_count": 4,
   "id": "3774e16a",
   "metadata": {
    "execution": {
     "iopub.execute_input": "2021-04-12T18:48:15.647900Z",
     "iopub.status.busy": "2021-04-12T18:48:15.646220Z",
     "iopub.status.idle": "2021-04-12T18:48:15.650108Z",
     "shell.execute_reply": "2021-04-12T18:48:15.650554Z"
    }
   },
   "outputs": [
    {
     "name": "stdout",
     "output_type": "stream",
     "text": [
      "Initial Ordering\n",
      "StabilizerTable: ['-YX', '+ZX', '+XY', '-IX', '-XZ', '+XI', '-XI', '+ZY', '+XZ', '+IZ', '-IZ', '-YY', '-YZ', '-ZY', '-XX', '-ZX', '+ZZ', '+YY', '-II', '+YX', '-YI', '+IY', '+YZ', '+II', '+ZI', '-IY', '+XX', '+IX', '+YI', '-XY', '-ZZ', '-ZI']\n",
      "Lexicographically sorted\n",
      "StabilizerTable: ['-II', '+II', '-IX', '+IX', '+IY', '-IY', '+IZ', '-IZ', '+XI', '-XI', '-XX', '+XX', '+XY', '-XY', '-XZ', '+XZ', '-YI', '+YI', '-YX', '+YX', '-YY', '+YY', '-YZ', '+YZ', '+ZI', '-ZI', '+ZX', '-ZX', '+ZY', '-ZY', '+ZZ', '-ZZ']\n",
      "Weight sorted\n",
      "StabilizerTable: ['-II', '+II', '-IX', '+IX', '+IY', '-IY', '+IZ', '-IZ', '+XI', '-XI', '-YI', '+YI', '+ZI', '-ZI', '-XX', '+XX', '+XY', '-XY', '-XZ', '+XZ', '-YX', '+YX', '-YY', '+YY', '-YZ', '+YZ', '+ZX', '-ZX', '+ZY', '-ZY', '+ZZ', '-ZZ']\n"
     ]
    }
   ],
   "source": [
    "from numpy.random import shuffle\n",
    "from qiskit.quantum_info.operators import StabilizerTable\n",
    "\n",
    "# 2-qubit labels\n",
    "labels = ['+II', '+IX', '+IY', '+IZ', '+XI', '+XX', '+XY', '+XZ',\n",
    "          '+YI', '+YX', '+YY', '+YZ', '+ZI', '+ZX', '+ZY', '+ZZ',\n",
    "          '-II', '-IX', '-IY', '-IZ', '-XI', '-XX', '-XY', '-XZ',\n",
    "          '-YI', '-YX', '-YY', '-YZ', '-ZI', '-ZX', '-ZY', '-ZZ']\n",
    "# Shuffle Labels\n",
    "shuffle(labels)\n",
    "st = StabilizerTable.from_labels(labels)\n",
    "print('Initial Ordering')\n",
    "print(st)\n",
    "\n",
    "# Lexicographic Ordering\n",
    "srt = st.sort()\n",
    "print('Lexicographically sorted')\n",
    "print(srt)\n",
    "\n",
    "# Weight Ordering\n",
    "srt = st.sort(weight=True)\n",
    "print('Weight sorted')\n",
    "print(srt)"
   ]
  },
  {
   "cell_type": "code",
   "execution_count": 5,
   "id": "096dbefc",
   "metadata": {
    "execution": {
     "iopub.execute_input": "2021-04-12T18:48:15.656687Z",
     "iopub.status.busy": "2021-04-12T18:48:15.655151Z",
     "iopub.status.idle": "2021-04-12T18:48:15.658505Z",
     "shell.execute_reply": "2021-04-12T18:48:15.658026Z"
    }
   },
   "outputs": [
    {
     "name": "stdout",
     "output_type": "stream",
     "text": [
      "StabilizerTable: ['-IY', '+IZ', '+XY', '-XZ']\n"
     ]
    }
   ],
   "source": [
    "from qiskit.quantum_info.operators import StabilizerTable\n",
    "\n",
    "current = StabilizerTable.from_labels(['+I', '-X'])\n",
    "other =  StabilizerTable.from_labels(['-Y', '+Z'])\n",
    "print(current.tensor(other))"
   ]
  },
  {
   "cell_type": "code",
   "execution_count": 6,
   "id": "a5dcb8c1",
   "metadata": {
    "execution": {
     "iopub.execute_input": "2021-04-12T18:48:15.664761Z",
     "iopub.status.busy": "2021-04-12T18:48:15.663365Z",
     "iopub.status.idle": "2021-04-12T18:48:15.666553Z",
     "shell.execute_reply": "2021-04-12T18:48:15.666078Z"
    }
   },
   "outputs": [
    {
     "name": "stdout",
     "output_type": "stream",
     "text": [
      "StabilizerTable: ['+X', '+I', '-I', '-X']\n"
     ]
    }
   ],
   "source": [
    "from qiskit.quantum_info.operators import StabilizerTable\n",
    "\n",
    "st = StabilizerTable.from_labels(['+X', '+I', '-I', '-X', '+X', '-X', '+I'])\n",
    "unique = st.unique()\n",
    "print(unique)"
   ]
  }
 ],
 "metadata": {
  "kernelspec": {
   "display_name": "Python 3",
   "language": "python",
   "name": "python3"
  },
  "language_info": {
   "codemirror_mode": {
    "name": "ipython",
    "version": 3
   },
   "file_extension": ".py",
   "mimetype": "text/x-python",
   "name": "python",
   "nbconvert_exporter": "python",
   "pygments_lexer": "ipython3",
   "version": "3.8.8"
  }
 },
 "nbformat": 4,
 "nbformat_minor": 5
}