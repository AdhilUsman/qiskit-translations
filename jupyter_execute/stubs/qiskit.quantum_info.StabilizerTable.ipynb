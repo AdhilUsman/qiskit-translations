{
 "cells": [
  {
   "cell_type": "code",
   "execution_count": 1,
   "id": "24f12191",
   "metadata": {
    "execution": {
     "iopub.execute_input": "2021-05-21T15:58:51.592161Z",
     "iopub.status.busy": "2021-05-21T15:58:51.591557Z",
     "iopub.status.idle": "2021-05-21T15:58:52.298079Z",
     "shell.execute_reply": "2021-05-21T15:58:52.297058Z"
    }
   },
   "outputs": [
    {
     "name": "stdout",
     "output_type": "stream",
     "text": [
      "StabilizerTable: ['+X', '-Z', '-I', '-Y']\n"
     ]
    }
   ],
   "source": [
    "from qiskit.quantum_info.operators import StabilizerTable\n",
    "\n",
    "current = StabilizerTable.from_labels(['+I', '-X'])\n",
    "other =  StabilizerTable.from_labels(['+X', '-Z'])\n",
    "print(current.compose(other))"
   ]
  },
  {
   "cell_type": "code",
   "execution_count": 2,
   "id": "975b218b",
   "metadata": {
    "execution": {
     "iopub.execute_input": "2021-05-21T15:58:52.304040Z",
     "iopub.status.busy": "2021-05-21T15:58:52.303202Z",
     "iopub.status.idle": "2021-05-21T15:58:52.309871Z",
     "shell.execute_reply": "2021-05-21T15:58:52.308824Z"
    }
   },
   "outputs": [
    {
     "name": "stdout",
     "output_type": "stream",
     "text": [
      "StabilizerTable: ['+X', '-Z', '-I', '+Y']\n"
     ]
    }
   ],
   "source": [
    "from qiskit.quantum_info.operators import StabilizerTable\n",
    "\n",
    "current = StabilizerTable.from_labels(['+I', '-X'])\n",
    "other =  StabilizerTable.from_labels(['+X', '-Z'])\n",
    "print(current.dot(other))"
   ]
  },
  {
   "cell_type": "code",
   "execution_count": 3,
   "id": "c159b130",
   "metadata": {
    "execution": {
     "iopub.execute_input": "2021-05-21T15:58:52.314777Z",
     "iopub.status.busy": "2021-05-21T15:58:52.314198Z",
     "iopub.status.idle": "2021-05-21T15:58:52.319115Z",
     "shell.execute_reply": "2021-05-21T15:58:52.318598Z"
    }
   },
   "outputs": [
    {
     "name": "stdout",
     "output_type": "stream",
     "text": [
      "StabilizerTable: ['-YI', '+YX', '+ZI', '-ZX']\n"
     ]
    }
   ],
   "source": [
    "from qiskit.quantum_info.operators import StabilizerTable\n",
    "\n",
    "current = StabilizerTable.from_labels(['+I', '-X'])\n",
    "other =  StabilizerTable.from_labels(['-Y', '+Z'])\n",
    "print(current.expand(other))"
   ]
  },
  {
   "cell_type": "code",
   "execution_count": 4,
   "id": "6f19d383",
   "metadata": {
    "execution": {
     "iopub.execute_input": "2021-05-21T15:58:52.327701Z",
     "iopub.status.busy": "2021-05-21T15:58:52.327090Z",
     "iopub.status.idle": "2021-05-21T15:58:52.331469Z",
     "shell.execute_reply": "2021-05-21T15:58:52.330991Z"
    }
   },
   "outputs": [
    {
     "name": "stdout",
     "output_type": "stream",
     "text": [
      "Initial Ordering\n",
      "StabilizerTable: ['+XZ', '-XZ', '+II', '-YZ', '+IX', '-II', '+XX', '+YX', '-ZI', '-XI', '-YX', '-XY', '-YY', '+IZ', '-IZ', '+XI', '-ZX', '-IY', '-IX', '+YY', '+ZX', '+ZZ', '+ZY', '-XX', '+IY', '-ZY', '+ZI', '+YZ', '-YI', '+XY', '+YI', '-ZZ']\n",
      "Lexicographically sorted\n",
      "StabilizerTable: ['+II', '-II', '+IX', '-IX', '-IY', '+IY', '+IZ', '-IZ', '-XI', '+XI', '+XX', '-XX', '-XY', '+XY', '+XZ', '-XZ', '-YI', '+YI', '+YX', '-YX', '-YY', '+YY', '-YZ', '+YZ', '-ZI', '+ZI', '-ZX', '+ZX', '+ZY', '-ZY', '+ZZ', '-ZZ']\n",
      "Weight sorted\n",
      "StabilizerTable: ['+II', '-II', '+IX', '-IX', '-IY', '+IY', '+IZ', '-IZ', '-XI', '+XI', '-YI', '+YI', '-ZI', '+ZI', '+XX', '-XX', '-XY', '+XY', '+XZ', '-XZ', '+YX', '-YX', '-YY', '+YY', '-YZ', '+YZ', '-ZX', '+ZX', '+ZY', '-ZY', '+ZZ', '-ZZ']\n"
     ]
    }
   ],
   "source": [
    "from numpy.random import shuffle\n",
    "from qiskit.quantum_info.operators import StabilizerTable\n",
    "\n",
    "# 2-qubit labels\n",
    "labels = ['+II', '+IX', '+IY', '+IZ', '+XI', '+XX', '+XY', '+XZ',\n",
    "          '+YI', '+YX', '+YY', '+YZ', '+ZI', '+ZX', '+ZY', '+ZZ',\n",
    "          '-II', '-IX', '-IY', '-IZ', '-XI', '-XX', '-XY', '-XZ',\n",
    "          '-YI', '-YX', '-YY', '-YZ', '-ZI', '-ZX', '-ZY', '-ZZ']\n",
    "# Shuffle Labels\n",
    "shuffle(labels)\n",
    "st = StabilizerTable.from_labels(labels)\n",
    "print('Initial Ordering')\n",
    "print(st)\n",
    "\n",
    "# Lexicographic Ordering\n",
    "srt = st.sort()\n",
    "print('Lexicographically sorted')\n",
    "print(srt)\n",
    "\n",
    "# Weight Ordering\n",
    "srt = st.sort(weight=True)\n",
    "print('Weight sorted')\n",
    "print(srt)"
   ]
  },
  {
   "cell_type": "code",
   "execution_count": 5,
   "id": "bf700f45",
   "metadata": {
    "execution": {
     "iopub.execute_input": "2021-05-21T15:58:52.336232Z",
     "iopub.status.busy": "2021-05-21T15:58:52.335688Z",
     "iopub.status.idle": "2021-05-21T15:58:52.340886Z",
     "shell.execute_reply": "2021-05-21T15:58:52.340373Z"
    }
   },
   "outputs": [
    {
     "name": "stdout",
     "output_type": "stream",
     "text": [
      "StabilizerTable: ['-IY', '+IZ', '+XY', '-XZ']\n"
     ]
    }
   ],
   "source": [
    "from qiskit.quantum_info.operators import StabilizerTable\n",
    "\n",
    "current = StabilizerTable.from_labels(['+I', '-X'])\n",
    "other =  StabilizerTable.from_labels(['-Y', '+Z'])\n",
    "print(current.tensor(other))"
   ]
  },
  {
   "cell_type": "code",
   "execution_count": 6,
   "id": "b7b38a62",
   "metadata": {
    "execution": {
     "iopub.execute_input": "2021-05-21T15:58:52.345011Z",
     "iopub.status.busy": "2021-05-21T15:58:52.344075Z",
     "iopub.status.idle": "2021-05-21T15:58:52.349005Z",
     "shell.execute_reply": "2021-05-21T15:58:52.348441Z"
    }
   },
   "outputs": [
    {
     "name": "stdout",
     "output_type": "stream",
     "text": [
      "StabilizerTable: ['+X', '+I', '-I', '-X']\n"
     ]
    }
   ],
   "source": [
    "from qiskit.quantum_info.operators import StabilizerTable\n",
    "\n",
    "st = StabilizerTable.from_labels(['+X', '+I', '-I', '-X', '+X', '-X', '+I'])\n",
    "unique = st.unique()\n",
    "print(unique)"
   ]
  }
 ],
 "metadata": {
  "kernelspec": {
   "display_name": "Python 3",
   "language": "python",
   "name": "python3"
  },
  "language_info": {
   "codemirror_mode": {
    "name": "ipython",
    "version": 3
   },
   "file_extension": ".py",
   "mimetype": "text/x-python",
   "name": "python",
   "nbconvert_exporter": "python",
   "pygments_lexer": "ipython3",
   "version": "3.8.10"
  }
 },
 "nbformat": 4,
 "nbformat_minor": 5
}