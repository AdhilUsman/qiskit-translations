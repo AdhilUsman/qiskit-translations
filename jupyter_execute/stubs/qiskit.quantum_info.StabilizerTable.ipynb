{
 "cells": [
  {
   "cell_type": "code",
   "execution_count": 1,
   "id": "macro-agency",
   "metadata": {
    "execution": {
     "iopub.execute_input": "2021-03-28T14:49:39.354925Z",
     "iopub.status.busy": "2021-03-28T14:49:39.354262Z",
     "iopub.status.idle": "2021-03-28T14:49:41.102458Z",
     "shell.execute_reply": "2021-03-28T14:49:41.102899Z"
    }
   },
   "outputs": [
    {
     "name": "stdout",
     "output_type": "stream",
     "text": [
      "StabilizerTable: ['+X', '-Z', '-I', '-Y']\n"
     ]
    }
   ],
   "source": [
    "from qiskit.quantum_info.operators import StabilizerTable\n",
    "\n",
    "current = StabilizerTable.from_labels(['+I', '-X'])\n",
    "other =  StabilizerTable.from_labels(['+X', '-Z'])\n",
    "print(current.compose(other))"
   ]
  },
  {
   "cell_type": "code",
   "execution_count": 2,
   "id": "classical-republican",
   "metadata": {
    "execution": {
     "iopub.execute_input": "2021-03-28T14:49:41.108942Z",
     "iopub.status.busy": "2021-03-28T14:49:41.107811Z",
     "iopub.status.idle": "2021-03-28T14:49:41.110664Z",
     "shell.execute_reply": "2021-03-28T14:49:41.110136Z"
    }
   },
   "outputs": [
    {
     "name": "stdout",
     "output_type": "stream",
     "text": [
      "StabilizerTable: ['+X', '-Z', '-I', '+Y']\n"
     ]
    }
   ],
   "source": [
    "from qiskit.quantum_info.operators import StabilizerTable\n",
    "\n",
    "current = StabilizerTable.from_labels(['+I', '-X'])\n",
    "other =  StabilizerTable.from_labels(['+X', '-Z'])\n",
    "print(current.dot(other))"
   ]
  },
  {
   "cell_type": "code",
   "execution_count": 3,
   "id": "centered-brass",
   "metadata": {
    "execution": {
     "iopub.execute_input": "2021-03-28T14:49:41.116414Z",
     "iopub.status.busy": "2021-03-28T14:49:41.115172Z",
     "iopub.status.idle": "2021-03-28T14:49:41.118152Z",
     "shell.execute_reply": "2021-03-28T14:49:41.117709Z"
    }
   },
   "outputs": [
    {
     "name": "stdout",
     "output_type": "stream",
     "text": [
      "StabilizerTable: ['-YI', '+ZI', '+YX', '-ZX']\n"
     ]
    }
   ],
   "source": [
    "from qiskit.quantum_info.operators import StabilizerTable\n",
    "\n",
    "current = StabilizerTable.from_labels(['+I', '-X'])\n",
    "other =  StabilizerTable.from_labels(['-Y', '+Z'])\n",
    "print(current.expand(other))"
   ]
  },
  {
   "cell_type": "code",
   "execution_count": 4,
   "id": "impressed-breeding",
   "metadata": {
    "execution": {
     "iopub.execute_input": "2021-03-28T14:49:41.126181Z",
     "iopub.status.busy": "2021-03-28T14:49:41.125636Z",
     "iopub.status.idle": "2021-03-28T14:49:41.128192Z",
     "shell.execute_reply": "2021-03-28T14:49:41.128600Z"
    }
   },
   "outputs": [
    {
     "name": "stdout",
     "output_type": "stream",
     "text": [
      "Initial Ordering\n",
      "StabilizerTable: ['-ZX', '+IY', '-XZ', '-II', '-XY', '-IY', '+ZZ', '-YX', '-ZY', '-IZ', '+YY', '+XX', '+ZI', '-IX', '+YX', '-YI', '-YY', '+XI', '-YZ', '+XZ', '+ZY', '+IX', '+YZ', '-ZI', '+XY', '-XI', '-XX', '+II', '+ZX', '+YI', '-ZZ', '+IZ']\n",
      "Lexicographically sorted\n",
      "StabilizerTable: ['-II', '+II', '-IX', '+IX', '+IY', '-IY', '-IZ', '+IZ', '+XI', '-XI', '+XX', '-XX', '-XY', '+XY', '-XZ', '+XZ', '-YI', '+YI', '-YX', '+YX', '+YY', '-YY', '-YZ', '+YZ', '+ZI', '-ZI', '-ZX', '+ZX', '-ZY', '+ZY', '+ZZ', '-ZZ']\n",
      "Weight sorted\n",
      "StabilizerTable: ['-II', '+II', '-IX', '+IX', '+IY', '-IY', '-IZ', '+IZ', '+XI', '-XI', '-YI', '+YI', '+ZI', '-ZI', '+XX', '-XX', '-XY', '+XY', '-XZ', '+XZ', '-YX', '+YX', '+YY', '-YY', '-YZ', '+YZ', '-ZX', '+ZX', '-ZY', '+ZY', '+ZZ', '-ZZ']\n"
     ]
    }
   ],
   "source": [
    "from numpy.random import shuffle\n",
    "from qiskit.quantum_info.operators import StabilizerTable\n",
    "\n",
    "# 2-qubit labels\n",
    "labels = ['+II', '+IX', '+IY', '+IZ', '+XI', '+XX', '+XY', '+XZ',\n",
    "          '+YI', '+YX', '+YY', '+YZ', '+ZI', '+ZX', '+ZY', '+ZZ',\n",
    "          '-II', '-IX', '-IY', '-IZ', '-XI', '-XX', '-XY', '-XZ',\n",
    "          '-YI', '-YX', '-YY', '-YZ', '-ZI', '-ZX', '-ZY', '-ZZ']\n",
    "# Shuffle Labels\n",
    "shuffle(labels)\n",
    "st = StabilizerTable.from_labels(labels)\n",
    "print('Initial Ordering')\n",
    "print(st)\n",
    "\n",
    "# Lexicographic Ordering\n",
    "srt = st.sort()\n",
    "print('Lexicographically sorted')\n",
    "print(srt)\n",
    "\n",
    "# Weight Ordering\n",
    "srt = st.sort(weight=True)\n",
    "print('Weight sorted')\n",
    "print(srt)"
   ]
  },
  {
   "cell_type": "code",
   "execution_count": 5,
   "id": "maritime-riding",
   "metadata": {
    "execution": {
     "iopub.execute_input": "2021-03-28T14:49:41.134145Z",
     "iopub.status.busy": "2021-03-28T14:49:41.133033Z",
     "iopub.status.idle": "2021-03-28T14:49:41.135797Z",
     "shell.execute_reply": "2021-03-28T14:49:41.135336Z"
    }
   },
   "outputs": [
    {
     "name": "stdout",
     "output_type": "stream",
     "text": [
      "StabilizerTable: ['-IY', '+IZ', '+XY', '-XZ']\n"
     ]
    }
   ],
   "source": [
    "from qiskit.quantum_info.operators import StabilizerTable\n",
    "\n",
    "current = StabilizerTable.from_labels(['+I', '-X'])\n",
    "other =  StabilizerTable.from_labels(['-Y', '+Z'])\n",
    "print(current.tensor(other))"
   ]
  },
  {
   "cell_type": "code",
   "execution_count": 6,
   "id": "surprised-premises",
   "metadata": {
    "execution": {
     "iopub.execute_input": "2021-03-28T14:49:41.141122Z",
     "iopub.status.busy": "2021-03-28T14:49:41.140079Z",
     "iopub.status.idle": "2021-03-28T14:49:41.142965Z",
     "shell.execute_reply": "2021-03-28T14:49:41.142501Z"
    }
   },
   "outputs": [
    {
     "name": "stdout",
     "output_type": "stream",
     "text": [
      "StabilizerTable: ['+X', '+I', '-I', '-X']\n"
     ]
    }
   ],
   "source": [
    "from qiskit.quantum_info.operators import StabilizerTable\n",
    "\n",
    "st = StabilizerTable.from_labels(['+X', '+I', '-I', '-X', '+X', '-X', '+I'])\n",
    "unique = st.unique()\n",
    "print(unique)"
   ]
  }
 ],
 "metadata": {
  "kernelspec": {
   "display_name": "Python 3",
   "language": "python",
   "name": "python3"
  },
  "language_info": {
   "codemirror_mode": {
    "name": "ipython",
    "version": 3
   },
   "file_extension": ".py",
   "mimetype": "text/x-python",
   "name": "python",
   "nbconvert_exporter": "python",
   "pygments_lexer": "ipython3",
   "version": "3.8.8"
  }
 },
 "nbformat": 4,
 "nbformat_minor": 5
}