{
 "cells": [
  {
   "cell_type": "code",
   "execution_count": 1,
   "id": "c06afd84",
   "metadata": {
    "execution": {
     "iopub.execute_input": "2021-06-15T05:55:00.738681Z",
     "iopub.status.busy": "2021-06-15T05:55:00.738058Z",
     "iopub.status.idle": "2021-06-15T05:55:01.362113Z",
     "shell.execute_reply": "2021-06-15T05:55:01.362557Z"
    }
   },
   "outputs": [
    {
     "name": "stdout",
     "output_type": "stream",
     "text": [
      "StabilizerTable: ['+X', '-Z', '-I', '-Y']\n"
     ]
    }
   ],
   "source": [
    "from qiskit.quantum_info.operators import StabilizerTable\n",
    "\n",
    "current = StabilizerTable.from_labels(['+I', '-X'])\n",
    "other =  StabilizerTable.from_labels(['+X', '-Z'])\n",
    "print(current.compose(other))"
   ]
  },
  {
   "cell_type": "code",
   "execution_count": 2,
   "id": "09cac712",
   "metadata": {
    "execution": {
     "iopub.execute_input": "2021-06-15T05:55:01.367351Z",
     "iopub.status.busy": "2021-06-15T05:55:01.366773Z",
     "iopub.status.idle": "2021-06-15T05:55:01.370668Z",
     "shell.execute_reply": "2021-06-15T05:55:01.371120Z"
    }
   },
   "outputs": [
    {
     "name": "stdout",
     "output_type": "stream",
     "text": [
      "StabilizerTable: ['+X', '-Z', '-I', '+Y']\n"
     ]
    }
   ],
   "source": [
    "from qiskit.quantum_info.operators import StabilizerTable\n",
    "\n",
    "current = StabilizerTable.from_labels(['+I', '-X'])\n",
    "other =  StabilizerTable.from_labels(['+X', '-Z'])\n",
    "print(current.dot(other))"
   ]
  },
  {
   "cell_type": "code",
   "execution_count": 3,
   "id": "033bfb2e",
   "metadata": {
    "execution": {
     "iopub.execute_input": "2021-06-15T05:55:01.375450Z",
     "iopub.status.busy": "2021-06-15T05:55:01.374867Z",
     "iopub.status.idle": "2021-06-15T05:55:01.379282Z",
     "shell.execute_reply": "2021-06-15T05:55:01.378706Z"
    }
   },
   "outputs": [
    {
     "name": "stdout",
     "output_type": "stream",
     "text": [
      "StabilizerTable: ['-YI', '+YX', '+ZI', '-ZX']\n"
     ]
    }
   ],
   "source": [
    "from qiskit.quantum_info.operators import StabilizerTable\n",
    "\n",
    "current = StabilizerTable.from_labels(['+I', '-X'])\n",
    "other =  StabilizerTable.from_labels(['-Y', '+Z'])\n",
    "print(current.expand(other))"
   ]
  },
  {
   "cell_type": "code",
   "execution_count": 4,
   "id": "732b1c91",
   "metadata": {
    "execution": {
     "iopub.execute_input": "2021-06-15T05:55:01.386284Z",
     "iopub.status.busy": "2021-06-15T05:55:01.384138Z",
     "iopub.status.idle": "2021-06-15T05:55:01.389459Z",
     "shell.execute_reply": "2021-06-15T05:55:01.389898Z"
    }
   },
   "outputs": [
    {
     "name": "stdout",
     "output_type": "stream",
     "text": [
      "Initial Ordering\n",
      "StabilizerTable: ['+XX', '-YX', '+ZZ', '-IZ', '+ZI', '+ZY', '-ZZ', '-ZY', '-IX', '+IZ', '+XI', '-IY', '-XY', '-II', '+IX', '-YY', '+YX', '-YI', '-YZ', '-ZX', '+YZ', '-ZI', '+XY', '-XX', '-XI', '+ZX', '+YY', '+IY', '+YI', '-XZ', '+XZ', '+II']\n",
      "Lexicographically sorted\n",
      "StabilizerTable: ['-II', '+II', '-IX', '+IX', '-IY', '+IY', '-IZ', '+IZ', '+XI', '-XI', '+XX', '-XX', '-XY', '+XY', '-XZ', '+XZ', '-YI', '+YI', '-YX', '+YX', '-YY', '+YY', '-YZ', '+YZ', '+ZI', '-ZI', '-ZX', '+ZX', '+ZY', '-ZY', '+ZZ', '-ZZ']\n",
      "Weight sorted\n",
      "StabilizerTable: ['-II', '+II', '-IX', '+IX', '-IY', '+IY', '-IZ', '+IZ', '+XI', '-XI', '-YI', '+YI', '+ZI', '-ZI', '+XX', '-XX', '-XY', '+XY', '-XZ', '+XZ', '-YX', '+YX', '-YY', '+YY', '-YZ', '+YZ', '-ZX', '+ZX', '+ZY', '-ZY', '+ZZ', '-ZZ']\n"
     ]
    }
   ],
   "source": [
    "from numpy.random import shuffle\n",
    "from qiskit.quantum_info.operators import StabilizerTable\n",
    "\n",
    "# 2-qubit labels\n",
    "labels = ['+II', '+IX', '+IY', '+IZ', '+XI', '+XX', '+XY', '+XZ',\n",
    "          '+YI', '+YX', '+YY', '+YZ', '+ZI', '+ZX', '+ZY', '+ZZ',\n",
    "          '-II', '-IX', '-IY', '-IZ', '-XI', '-XX', '-XY', '-XZ',\n",
    "          '-YI', '-YX', '-YY', '-YZ', '-ZI', '-ZX', '-ZY', '-ZZ']\n",
    "# Shuffle Labels\n",
    "shuffle(labels)\n",
    "st = StabilizerTable.from_labels(labels)\n",
    "print('Initial Ordering')\n",
    "print(st)\n",
    "\n",
    "# Lexicographic Ordering\n",
    "srt = st.sort()\n",
    "print('Lexicographically sorted')\n",
    "print(srt)\n",
    "\n",
    "# Weight Ordering\n",
    "srt = st.sort(weight=True)\n",
    "print('Weight sorted')\n",
    "print(srt)"
   ]
  },
  {
   "cell_type": "code",
   "execution_count": 5,
   "id": "f3ac3ffd",
   "metadata": {
    "execution": {
     "iopub.execute_input": "2021-06-15T05:55:01.394356Z",
     "iopub.status.busy": "2021-06-15T05:55:01.393811Z",
     "iopub.status.idle": "2021-06-15T05:55:01.397080Z",
     "shell.execute_reply": "2021-06-15T05:55:01.397535Z"
    }
   },
   "outputs": [
    {
     "name": "stdout",
     "output_type": "stream",
     "text": [
      "StabilizerTable: ['-IY', '+IZ', '+XY', '-XZ']\n"
     ]
    }
   ],
   "source": [
    "from qiskit.quantum_info.operators import StabilizerTable\n",
    "\n",
    "current = StabilizerTable.from_labels(['+I', '-X'])\n",
    "other =  StabilizerTable.from_labels(['-Y', '+Z'])\n",
    "print(current.tensor(other))"
   ]
  },
  {
   "cell_type": "code",
   "execution_count": 6,
   "id": "c3d5c08b",
   "metadata": {
    "execution": {
     "iopub.execute_input": "2021-06-15T05:55:01.403376Z",
     "iopub.status.busy": "2021-06-15T05:55:01.402035Z",
     "iopub.status.idle": "2021-06-15T05:55:01.405149Z",
     "shell.execute_reply": "2021-06-15T05:55:01.404645Z"
    }
   },
   "outputs": [
    {
     "name": "stdout",
     "output_type": "stream",
     "text": [
      "StabilizerTable: ['+X', '+I', '-I', '-X']\n"
     ]
    }
   ],
   "source": [
    "from qiskit.quantum_info.operators import StabilizerTable\n",
    "\n",
    "st = StabilizerTable.from_labels(['+X', '+I', '-I', '-X', '+X', '-X', '+I'])\n",
    "unique = st.unique()\n",
    "print(unique)"
   ]
  }
 ],
 "metadata": {
  "kernelspec": {
   "display_name": "Python 3",
   "language": "python",
   "name": "python3"
  },
  "language_info": {
   "codemirror_mode": {
    "name": "ipython",
    "version": 3
   },
   "file_extension": ".py",
   "mimetype": "text/x-python",
   "name": "python",
   "nbconvert_exporter": "python",
   "pygments_lexer": "ipython3",
   "version": "3.8.10"
  }
 },
 "nbformat": 4,
 "nbformat_minor": 5
}