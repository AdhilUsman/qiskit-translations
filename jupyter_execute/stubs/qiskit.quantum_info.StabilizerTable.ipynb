{
 "cells": [
  {
   "cell_type": "code",
   "execution_count": 1,
   "id": "technological-hartford",
   "metadata": {
    "execution": {
     "iopub.execute_input": "2021-03-29T11:43:46.936398Z",
     "iopub.status.busy": "2021-03-29T11:43:46.935717Z",
     "iopub.status.idle": "2021-03-29T11:43:48.960423Z",
     "shell.execute_reply": "2021-03-29T11:43:48.960956Z"
    }
   },
   "outputs": [
    {
     "name": "stdout",
     "output_type": "stream",
     "text": [
      "StabilizerTable: ['+X', '-Z', '-I', '-Y']\n"
     ]
    }
   ],
   "source": [
    "from qiskit.quantum_info.operators import StabilizerTable\n",
    "\n",
    "current = StabilizerTable.from_labels(['+I', '-X'])\n",
    "other =  StabilizerTable.from_labels(['+X', '-Z'])\n",
    "print(current.compose(other))"
   ]
  },
  {
   "cell_type": "code",
   "execution_count": 2,
   "id": "environmental-wallet",
   "metadata": {
    "execution": {
     "iopub.execute_input": "2021-03-29T11:43:48.968394Z",
     "iopub.status.busy": "2021-03-29T11:43:48.966593Z",
     "iopub.status.idle": "2021-03-29T11:43:48.970350Z",
     "shell.execute_reply": "2021-03-29T11:43:48.969862Z"
    }
   },
   "outputs": [
    {
     "name": "stdout",
     "output_type": "stream",
     "text": [
      "StabilizerTable: ['+X', '-Z', '-I', '+Y']\n"
     ]
    }
   ],
   "source": [
    "from qiskit.quantum_info.operators import StabilizerTable\n",
    "\n",
    "current = StabilizerTable.from_labels(['+I', '-X'])\n",
    "other =  StabilizerTable.from_labels(['+X', '-Z'])\n",
    "print(current.dot(other))"
   ]
  },
  {
   "cell_type": "code",
   "execution_count": 3,
   "id": "binding-intent",
   "metadata": {
    "execution": {
     "iopub.execute_input": "2021-03-29T11:43:48.976951Z",
     "iopub.status.busy": "2021-03-29T11:43:48.975377Z",
     "iopub.status.idle": "2021-03-29T11:43:48.978778Z",
     "shell.execute_reply": "2021-03-29T11:43:48.978258Z"
    }
   },
   "outputs": [
    {
     "name": "stdout",
     "output_type": "stream",
     "text": [
      "StabilizerTable: ['-YI', '+ZI', '+YX', '-ZX']\n"
     ]
    }
   ],
   "source": [
    "from qiskit.quantum_info.operators import StabilizerTable\n",
    "\n",
    "current = StabilizerTable.from_labels(['+I', '-X'])\n",
    "other =  StabilizerTable.from_labels(['-Y', '+Z'])\n",
    "print(current.expand(other))"
   ]
  },
  {
   "cell_type": "code",
   "execution_count": 4,
   "id": "introductory-seeker",
   "metadata": {
    "execution": {
     "iopub.execute_input": "2021-03-29T11:43:48.986301Z",
     "iopub.status.busy": "2021-03-29T11:43:48.984302Z",
     "iopub.status.idle": "2021-03-29T11:43:48.990526Z",
     "shell.execute_reply": "2021-03-29T11:43:48.990945Z"
    }
   },
   "outputs": [
    {
     "name": "stdout",
     "output_type": "stream",
     "text": [
      "Initial Ordering\n",
      "StabilizerTable: ['+II', '-II', '+YI', '+IY', '+XZ', '-ZI', '+ZY', '-XX', '-YZ', '+IX', '-XZ', '-YX', '+XX', '-IX', '-IZ', '-XI', '+IZ', '-XY', '-IY', '+ZI', '-YY', '-YI', '+YZ', '-ZX', '+XY', '+ZX', '+ZZ', '+YY', '-ZZ', '+YX', '+XI', '-ZY']\n",
      "Lexicographically sorted\n",
      "StabilizerTable: ['+II', '-II', '+IX', '-IX', '+IY', '-IY', '-IZ', '+IZ', '-XI', '+XI', '-XX', '+XX', '-XY', '+XY', '+XZ', '-XZ', '+YI', '-YI', '-YX', '+YX', '-YY', '+YY', '-YZ', '+YZ', '-ZI', '+ZI', '-ZX', '+ZX', '+ZY', '-ZY', '+ZZ', '-ZZ']\n",
      "Weight sorted\n",
      "StabilizerTable: ['+II', '-II', '+IX', '-IX', '+IY', '-IY', '-IZ', '+IZ', '-XI', '+XI', '+YI', '-YI', '-ZI', '+ZI', '-XX', '+XX', '-XY', '+XY', '+XZ', '-XZ', '-YX', '+YX', '-YY', '+YY', '-YZ', '+YZ', '-ZX', '+ZX', '+ZY', '-ZY', '+ZZ', '-ZZ']\n"
     ]
    }
   ],
   "source": [
    "from numpy.random import shuffle\n",
    "from qiskit.quantum_info.operators import StabilizerTable\n",
    "\n",
    "# 2-qubit labels\n",
    "labels = ['+II', '+IX', '+IY', '+IZ', '+XI', '+XX', '+XY', '+XZ',\n",
    "          '+YI', '+YX', '+YY', '+YZ', '+ZI', '+ZX', '+ZY', '+ZZ',\n",
    "          '-II', '-IX', '-IY', '-IZ', '-XI', '-XX', '-XY', '-XZ',\n",
    "          '-YI', '-YX', '-YY', '-YZ', '-ZI', '-ZX', '-ZY', '-ZZ']\n",
    "# Shuffle Labels\n",
    "shuffle(labels)\n",
    "st = StabilizerTable.from_labels(labels)\n",
    "print('Initial Ordering')\n",
    "print(st)\n",
    "\n",
    "# Lexicographic Ordering\n",
    "srt = st.sort()\n",
    "print('Lexicographically sorted')\n",
    "print(srt)\n",
    "\n",
    "# Weight Ordering\n",
    "srt = st.sort(weight=True)\n",
    "print('Weight sorted')\n",
    "print(srt)"
   ]
  },
  {
   "cell_type": "code",
   "execution_count": 5,
   "id": "advance-adelaide",
   "metadata": {
    "execution": {
     "iopub.execute_input": "2021-03-29T11:43:48.997661Z",
     "iopub.status.busy": "2021-03-29T11:43:48.996113Z",
     "iopub.status.idle": "2021-03-29T11:43:48.999663Z",
     "shell.execute_reply": "2021-03-29T11:43:48.999172Z"
    }
   },
   "outputs": [
    {
     "name": "stdout",
     "output_type": "stream",
     "text": [
      "StabilizerTable: ['-IY', '+IZ', '+XY', '-XZ']\n"
     ]
    }
   ],
   "source": [
    "from qiskit.quantum_info.operators import StabilizerTable\n",
    "\n",
    "current = StabilizerTable.from_labels(['+I', '-X'])\n",
    "other =  StabilizerTable.from_labels(['-Y', '+Z'])\n",
    "print(current.tensor(other))"
   ]
  },
  {
   "cell_type": "code",
   "execution_count": 6,
   "id": "convinced-utilization",
   "metadata": {
    "execution": {
     "iopub.execute_input": "2021-03-29T11:43:49.006462Z",
     "iopub.status.busy": "2021-03-29T11:43:49.004895Z",
     "iopub.status.idle": "2021-03-29T11:43:49.008319Z",
     "shell.execute_reply": "2021-03-29T11:43:49.007788Z"
    }
   },
   "outputs": [
    {
     "name": "stdout",
     "output_type": "stream",
     "text": [
      "StabilizerTable: ['+X', '+I', '-I', '-X']\n"
     ]
    }
   ],
   "source": [
    "from qiskit.quantum_info.operators import StabilizerTable\n",
    "\n",
    "st = StabilizerTable.from_labels(['+X', '+I', '-I', '-X', '+X', '-X', '+I'])\n",
    "unique = st.unique()\n",
    "print(unique)"
   ]
  }
 ],
 "metadata": {
  "kernelspec": {
   "display_name": "Python 3",
   "language": "python",
   "name": "python3"
  },
  "language_info": {
   "codemirror_mode": {
    "name": "ipython",
    "version": 3
   },
   "file_extension": ".py",
   "mimetype": "text/x-python",
   "name": "python",
   "nbconvert_exporter": "python",
   "pygments_lexer": "ipython3",
   "version": "3.8.8"
  }
 },
 "nbformat": 4,
 "nbformat_minor": 5
}