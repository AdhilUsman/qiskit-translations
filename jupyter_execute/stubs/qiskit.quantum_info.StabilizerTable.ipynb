{
 "cells": [
  {
   "cell_type": "code",
   "execution_count": 1,
   "id": "0773a072",
   "metadata": {
    "execution": {
     "iopub.execute_input": "2021-04-07T18:46:12.997448Z",
     "iopub.status.busy": "2021-04-07T18:46:12.996564Z",
     "iopub.status.idle": "2021-04-07T18:46:13.648133Z",
     "shell.execute_reply": "2021-04-07T18:46:13.648938Z"
    }
   },
   "outputs": [
    {
     "name": "stdout",
     "output_type": "stream",
     "text": [
      "StabilizerTable: ['+X', '-Z', '-I', '-Y']\n"
     ]
    }
   ],
   "source": [
    "from qiskit.quantum_info.operators import StabilizerTable\n",
    "\n",
    "current = StabilizerTable.from_labels(['+I', '-X'])\n",
    "other =  StabilizerTable.from_labels(['+X', '-Z'])\n",
    "print(current.compose(other))"
   ]
  },
  {
   "cell_type": "code",
   "execution_count": 2,
   "id": "57571a54",
   "metadata": {
    "execution": {
     "iopub.execute_input": "2021-04-07T18:46:13.655650Z",
     "iopub.status.busy": "2021-04-07T18:46:13.654333Z",
     "iopub.status.idle": "2021-04-07T18:46:13.657480Z",
     "shell.execute_reply": "2021-04-07T18:46:13.656993Z"
    }
   },
   "outputs": [
    {
     "name": "stdout",
     "output_type": "stream",
     "text": [
      "StabilizerTable: ['+X', '-Z', '-I', '+Y']\n"
     ]
    }
   ],
   "source": [
    "from qiskit.quantum_info.operators import StabilizerTable\n",
    "\n",
    "current = StabilizerTable.from_labels(['+I', '-X'])\n",
    "other =  StabilizerTable.from_labels(['+X', '-Z'])\n",
    "print(current.dot(other))"
   ]
  },
  {
   "cell_type": "code",
   "execution_count": 3,
   "id": "4ec00ed0",
   "metadata": {
    "execution": {
     "iopub.execute_input": "2021-04-07T18:46:13.663057Z",
     "iopub.status.busy": "2021-04-07T18:46:13.661846Z",
     "iopub.status.idle": "2021-04-07T18:46:13.664845Z",
     "shell.execute_reply": "2021-04-07T18:46:13.664351Z"
    }
   },
   "outputs": [
    {
     "name": "stdout",
     "output_type": "stream",
     "text": [
      "StabilizerTable: ['-YI', '+YX', '+ZI', '-ZX']\n"
     ]
    }
   ],
   "source": [
    "from qiskit.quantum_info.operators import StabilizerTable\n",
    "\n",
    "current = StabilizerTable.from_labels(['+I', '-X'])\n",
    "other =  StabilizerTable.from_labels(['-Y', '+Z'])\n",
    "print(current.expand(other))"
   ]
  },
  {
   "cell_type": "code",
   "execution_count": 4,
   "id": "e415deda",
   "metadata": {
    "execution": {
     "iopub.execute_input": "2021-04-07T18:46:13.671648Z",
     "iopub.status.busy": "2021-04-07T18:46:13.670566Z",
     "iopub.status.idle": "2021-04-07T18:46:13.674818Z",
     "shell.execute_reply": "2021-04-07T18:46:13.675234Z"
    }
   },
   "outputs": [
    {
     "name": "stdout",
     "output_type": "stream",
     "text": [
      "Initial Ordering\n",
      "StabilizerTable: ['-ZI', '-II', '+ZZ', '-IY', '+ZI', '-ZY', '-XI', '+YZ', '+IX', '+YI', '-XX', '+ZX', '+II', '+XZ', '-YI', '-ZZ', '+YX', '+YY', '+XI', '-IZ', '-YX', '+IY', '-ZX', '-YY', '+ZY', '-XY', '-IX', '+IZ', '-XZ', '+XX', '-YZ', '+XY']\n",
      "Lexicographically sorted\n",
      "StabilizerTable: ['-II', '+II', '+IX', '-IX', '-IY', '+IY', '-IZ', '+IZ', '-XI', '+XI', '-XX', '+XX', '-XY', '+XY', '+XZ', '-XZ', '+YI', '-YI', '+YX', '-YX', '+YY', '-YY', '+YZ', '-YZ', '-ZI', '+ZI', '+ZX', '-ZX', '-ZY', '+ZY', '+ZZ', '-ZZ']\n",
      "Weight sorted\n",
      "StabilizerTable: ['-II', '+II', '+IX', '-IX', '-IY', '+IY', '-IZ', '+IZ', '-XI', '+XI', '+YI', '-YI', '-ZI', '+ZI', '-XX', '+XX', '-XY', '+XY', '+XZ', '-XZ', '+YX', '-YX', '+YY', '-YY', '+YZ', '-YZ', '+ZX', '-ZX', '-ZY', '+ZY', '+ZZ', '-ZZ']\n"
     ]
    }
   ],
   "source": [
    "from numpy.random import shuffle\n",
    "from qiskit.quantum_info.operators import StabilizerTable\n",
    "\n",
    "# 2-qubit labels\n",
    "labels = ['+II', '+IX', '+IY', '+IZ', '+XI', '+XX', '+XY', '+XZ',\n",
    "          '+YI', '+YX', '+YY', '+YZ', '+ZI', '+ZX', '+ZY', '+ZZ',\n",
    "          '-II', '-IX', '-IY', '-IZ', '-XI', '-XX', '-XY', '-XZ',\n",
    "          '-YI', '-YX', '-YY', '-YZ', '-ZI', '-ZX', '-ZY', '-ZZ']\n",
    "# Shuffle Labels\n",
    "shuffle(labels)\n",
    "st = StabilizerTable.from_labels(labels)\n",
    "print('Initial Ordering')\n",
    "print(st)\n",
    "\n",
    "# Lexicographic Ordering\n",
    "srt = st.sort()\n",
    "print('Lexicographically sorted')\n",
    "print(srt)\n",
    "\n",
    "# Weight Ordering\n",
    "srt = st.sort(weight=True)\n",
    "print('Weight sorted')\n",
    "print(srt)"
   ]
  },
  {
   "cell_type": "code",
   "execution_count": 5,
   "id": "b56ec50f",
   "metadata": {
    "execution": {
     "iopub.execute_input": "2021-04-07T18:46:13.681013Z",
     "iopub.status.busy": "2021-04-07T18:46:13.679692Z",
     "iopub.status.idle": "2021-04-07T18:46:13.682776Z",
     "shell.execute_reply": "2021-04-07T18:46:13.682290Z"
    }
   },
   "outputs": [
    {
     "name": "stdout",
     "output_type": "stream",
     "text": [
      "StabilizerTable: ['-IY', '+IZ', '+XY', '-XZ']\n"
     ]
    }
   ],
   "source": [
    "from qiskit.quantum_info.operators import StabilizerTable\n",
    "\n",
    "current = StabilizerTable.from_labels(['+I', '-X'])\n",
    "other =  StabilizerTable.from_labels(['-Y', '+Z'])\n",
    "print(current.tensor(other))"
   ]
  },
  {
   "cell_type": "code",
   "execution_count": 6,
   "id": "7b73c616",
   "metadata": {
    "execution": {
     "iopub.execute_input": "2021-04-07T18:46:13.688272Z",
     "iopub.status.busy": "2021-04-07T18:46:13.687138Z",
     "iopub.status.idle": "2021-04-07T18:46:13.689979Z",
     "shell.execute_reply": "2021-04-07T18:46:13.689512Z"
    }
   },
   "outputs": [
    {
     "name": "stdout",
     "output_type": "stream",
     "text": [
      "StabilizerTable: ['+X', '+I', '-I', '-X']\n"
     ]
    }
   ],
   "source": [
    "from qiskit.quantum_info.operators import StabilizerTable\n",
    "\n",
    "st = StabilizerTable.from_labels(['+X', '+I', '-I', '-X', '+X', '-X', '+I'])\n",
    "unique = st.unique()\n",
    "print(unique)"
   ]
  }
 ],
 "metadata": {
  "kernelspec": {
   "display_name": "Python 3",
   "language": "python",
   "name": "python3"
  },
  "language_info": {
   "codemirror_mode": {
    "name": "ipython",
    "version": 3
   },
   "file_extension": ".py",
   "mimetype": "text/x-python",
   "name": "python",
   "nbconvert_exporter": "python",
   "pygments_lexer": "ipython3",
   "version": "3.8.8"
  }
 },
 "nbformat": 4,
 "nbformat_minor": 5
}