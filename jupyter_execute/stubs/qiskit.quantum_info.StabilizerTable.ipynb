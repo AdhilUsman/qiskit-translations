{
 "cells": [
  {
   "cell_type": "code",
   "execution_count": 1,
   "id": "f1a0f2ff",
   "metadata": {
    "execution": {
     "iopub.execute_input": "2021-06-18T12:04:46.031470Z",
     "iopub.status.busy": "2021-06-18T12:04:46.030530Z",
     "iopub.status.idle": "2021-06-18T12:04:46.675282Z",
     "shell.execute_reply": "2021-06-18T12:04:46.674669Z"
    }
   },
   "outputs": [
    {
     "name": "stdout",
     "output_type": "stream",
     "text": [
      "StabilizerTable: ['+X', '-Z', '-I', '-Y']\n"
     ]
    }
   ],
   "source": [
    "from qiskit.quantum_info.operators import StabilizerTable\n",
    "\n",
    "current = StabilizerTable.from_labels(['+I', '-X'])\n",
    "other =  StabilizerTable.from_labels(['+X', '-Z'])\n",
    "print(current.compose(other))"
   ]
  },
  {
   "cell_type": "code",
   "execution_count": 2,
   "id": "771fe965",
   "metadata": {
    "execution": {
     "iopub.execute_input": "2021-06-18T12:04:46.680350Z",
     "iopub.status.busy": "2021-06-18T12:04:46.679850Z",
     "iopub.status.idle": "2021-06-18T12:04:46.683319Z",
     "shell.execute_reply": "2021-06-18T12:04:46.683764Z"
    }
   },
   "outputs": [
    {
     "name": "stdout",
     "output_type": "stream",
     "text": [
      "StabilizerTable: ['+X', '-Z', '-I', '+Y']\n"
     ]
    }
   ],
   "source": [
    "from qiskit.quantum_info.operators import StabilizerTable\n",
    "\n",
    "current = StabilizerTable.from_labels(['+I', '-X'])\n",
    "other =  StabilizerTable.from_labels(['+X', '-Z'])\n",
    "print(current.dot(other))"
   ]
  },
  {
   "cell_type": "code",
   "execution_count": 3,
   "id": "861b3534",
   "metadata": {
    "execution": {
     "iopub.execute_input": "2021-06-18T12:04:46.688334Z",
     "iopub.status.busy": "2021-06-18T12:04:46.687817Z",
     "iopub.status.idle": "2021-06-18T12:04:46.691437Z",
     "shell.execute_reply": "2021-06-18T12:04:46.691839Z"
    }
   },
   "outputs": [
    {
     "name": "stdout",
     "output_type": "stream",
     "text": [
      "StabilizerTable: ['-YI', '+YX', '+ZI', '-ZX']\n"
     ]
    }
   ],
   "source": [
    "from qiskit.quantum_info.operators import StabilizerTable\n",
    "\n",
    "current = StabilizerTable.from_labels(['+I', '-X'])\n",
    "other =  StabilizerTable.from_labels(['-Y', '+Z'])\n",
    "print(current.expand(other))"
   ]
  },
  {
   "cell_type": "code",
   "execution_count": 4,
   "id": "b1cc89b5",
   "metadata": {
    "execution": {
     "iopub.execute_input": "2021-06-18T12:04:46.698862Z",
     "iopub.status.busy": "2021-06-18T12:04:46.697023Z",
     "iopub.status.idle": "2021-06-18T12:04:46.703551Z",
     "shell.execute_reply": "2021-06-18T12:04:46.704195Z"
    }
   },
   "outputs": [
    {
     "name": "stdout",
     "output_type": "stream",
     "text": [
      "Initial Ordering\n",
      "StabilizerTable: ['-YX', '+IY', '+YX', '+YY', '-ZI', '+XZ', '-YI', '-IX', '+ZY', '-YZ', '-XX', '-IZ', '-XI', '+XY', '-II', '+ZZ', '+IZ', '+YZ', '-XY', '-IY', '-XZ', '-ZZ', '+IX', '+YI', '+ZX', '+ZI', '-ZY', '+XI', '-YY', '+II', '-ZX', '+XX']\n",
      "Lexicographically sorted\n",
      "StabilizerTable: ['-II', '+II', '-IX', '+IX', '+IY', '-IY', '-IZ', '+IZ', '-XI', '+XI', '-XX', '+XX', '+XY', '-XY', '+XZ', '-XZ', '-YI', '+YI', '-YX', '+YX', '+YY', '-YY', '-YZ', '+YZ', '-ZI', '+ZI', '+ZX', '-ZX', '+ZY', '-ZY', '+ZZ', '-ZZ']\n",
      "Weight sorted\n",
      "StabilizerTable: ['-II', '+II', '-IX', '+IX', '+IY', '-IY', '-IZ', '+IZ', '-XI', '+XI', '-YI', '+YI', '-ZI', '+ZI', '-XX', '+XX', '+XY', '-XY', '+XZ', '-XZ', '-YX', '+YX', '+YY', '-YY', '-YZ', '+YZ', '+ZX', '-ZX', '+ZY', '-ZY', '+ZZ', '-ZZ']\n"
     ]
    }
   ],
   "source": [
    "from numpy.random import shuffle\n",
    "from qiskit.quantum_info.operators import StabilizerTable\n",
    "\n",
    "# 2-qubit labels\n",
    "labels = ['+II', '+IX', '+IY', '+IZ', '+XI', '+XX', '+XY', '+XZ',\n",
    "          '+YI', '+YX', '+YY', '+YZ', '+ZI', '+ZX', '+ZY', '+ZZ',\n",
    "          '-II', '-IX', '-IY', '-IZ', '-XI', '-XX', '-XY', '-XZ',\n",
    "          '-YI', '-YX', '-YY', '-YZ', '-ZI', '-ZX', '-ZY', '-ZZ']\n",
    "# Shuffle Labels\n",
    "shuffle(labels)\n",
    "st = StabilizerTable.from_labels(labels)\n",
    "print('Initial Ordering')\n",
    "print(st)\n",
    "\n",
    "# Lexicographic Ordering\n",
    "srt = st.sort()\n",
    "print('Lexicographically sorted')\n",
    "print(srt)\n",
    "\n",
    "# Weight Ordering\n",
    "srt = st.sort(weight=True)\n",
    "print('Weight sorted')\n",
    "print(srt)"
   ]
  },
  {
   "cell_type": "code",
   "execution_count": 5,
   "id": "32d2104b",
   "metadata": {
    "execution": {
     "iopub.execute_input": "2021-06-18T12:04:46.708716Z",
     "iopub.status.busy": "2021-06-18T12:04:46.707363Z",
     "iopub.status.idle": "2021-06-18T12:04:46.712416Z",
     "shell.execute_reply": "2021-06-18T12:04:46.711963Z"
    }
   },
   "outputs": [
    {
     "name": "stdout",
     "output_type": "stream",
     "text": [
      "StabilizerTable: ['-IY', '+IZ', '+XY', '-XZ']\n"
     ]
    }
   ],
   "source": [
    "from qiskit.quantum_info.operators import StabilizerTable\n",
    "\n",
    "current = StabilizerTable.from_labels(['+I', '-X'])\n",
    "other =  StabilizerTable.from_labels(['-Y', '+Z'])\n",
    "print(current.tensor(other))"
   ]
  },
  {
   "cell_type": "code",
   "execution_count": 6,
   "id": "bfda3890",
   "metadata": {
    "execution": {
     "iopub.execute_input": "2021-06-18T12:04:46.716762Z",
     "iopub.status.busy": "2021-06-18T12:04:46.716279Z",
     "iopub.status.idle": "2021-06-18T12:04:46.720668Z",
     "shell.execute_reply": "2021-06-18T12:04:46.719992Z"
    }
   },
   "outputs": [
    {
     "name": "stdout",
     "output_type": "stream",
     "text": [
      "StabilizerTable: ['+X', '+I', '-I', '-X']\n"
     ]
    }
   ],
   "source": [
    "from qiskit.quantum_info.operators import StabilizerTable\n",
    "\n",
    "st = StabilizerTable.from_labels(['+X', '+I', '-I', '-X', '+X', '-X', '+I'])\n",
    "unique = st.unique()\n",
    "print(unique)"
   ]
  }
 ],
 "metadata": {
  "kernelspec": {
   "display_name": "Python 3",
   "language": "python",
   "name": "python3"
  },
  "language_info": {
   "codemirror_mode": {
    "name": "ipython",
    "version": 3
   },
   "file_extension": ".py",
   "mimetype": "text/x-python",
   "name": "python",
   "nbconvert_exporter": "python",
   "pygments_lexer": "ipython3",
   "version": "3.8.10"
  }
 },
 "nbformat": 4,
 "nbformat_minor": 5
}