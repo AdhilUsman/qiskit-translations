{
 "cells": [
  {
   "cell_type": "code",
   "execution_count": 1,
   "id": "5273390f",
   "metadata": {
    "execution": {
     "iopub.execute_input": "2021-06-15T08:59:59.691899Z",
     "iopub.status.busy": "2021-06-15T08:59:59.691444Z",
     "iopub.status.idle": "2021-06-15T09:00:00.261281Z",
     "shell.execute_reply": "2021-06-15T09:00:00.260665Z"
    }
   },
   "outputs": [
    {
     "name": "stdout",
     "output_type": "stream",
     "text": [
      "StabilizerTable: ['+X', '-Z', '-I', '-Y']\n"
     ]
    }
   ],
   "source": [
    "from qiskit.quantum_info.operators import StabilizerTable\n",
    "\n",
    "current = StabilizerTable.from_labels(['+I', '-X'])\n",
    "other =  StabilizerTable.from_labels(['+X', '-Z'])\n",
    "print(current.compose(other))"
   ]
  },
  {
   "cell_type": "code",
   "execution_count": 2,
   "id": "dff44551",
   "metadata": {
    "execution": {
     "iopub.execute_input": "2021-06-15T09:00:00.265913Z",
     "iopub.status.busy": "2021-06-15T09:00:00.265374Z",
     "iopub.status.idle": "2021-06-15T09:00:00.268764Z",
     "shell.execute_reply": "2021-06-15T09:00:00.268337Z"
    }
   },
   "outputs": [
    {
     "name": "stdout",
     "output_type": "stream",
     "text": [
      "StabilizerTable: ['+X', '-Z', '-I', '+Y']\n"
     ]
    }
   ],
   "source": [
    "from qiskit.quantum_info.operators import StabilizerTable\n",
    "\n",
    "current = StabilizerTable.from_labels(['+I', '-X'])\n",
    "other =  StabilizerTable.from_labels(['+X', '-Z'])\n",
    "print(current.dot(other))"
   ]
  },
  {
   "cell_type": "code",
   "execution_count": 3,
   "id": "f28dba89",
   "metadata": {
    "execution": {
     "iopub.execute_input": "2021-06-15T09:00:00.273590Z",
     "iopub.status.busy": "2021-06-15T09:00:00.272559Z",
     "iopub.status.idle": "2021-06-15T09:00:00.275145Z",
     "shell.execute_reply": "2021-06-15T09:00:00.274725Z"
    }
   },
   "outputs": [
    {
     "name": "stdout",
     "output_type": "stream",
     "text": [
      "StabilizerTable: ['-YI', '+YX', '+ZI', '-ZX']\n"
     ]
    }
   ],
   "source": [
    "from qiskit.quantum_info.operators import StabilizerTable\n",
    "\n",
    "current = StabilizerTable.from_labels(['+I', '-X'])\n",
    "other =  StabilizerTable.from_labels(['-Y', '+Z'])\n",
    "print(current.expand(other))"
   ]
  },
  {
   "cell_type": "code",
   "execution_count": 4,
   "id": "5081dddb",
   "metadata": {
    "execution": {
     "iopub.execute_input": "2021-06-15T09:00:00.280851Z",
     "iopub.status.busy": "2021-06-15T09:00:00.279906Z",
     "iopub.status.idle": "2021-06-15T09:00:00.284940Z",
     "shell.execute_reply": "2021-06-15T09:00:00.284473Z"
    }
   },
   "outputs": [
    {
     "name": "stdout",
     "output_type": "stream",
     "text": [
      "Initial Ordering\n",
      "StabilizerTable: ['+ZY', '+YY', '+ZI', '-ZZ', '+YX', '+IX', '-YY', '+YZ', '+XX', '-XZ', '+XY', '-XY', '+ZX', '-ZY', '-IZ', '+ZZ', '-II', '-ZX', '+XZ', '-IY', '-IX', '-XI', '+IZ', '+YI', '-YZ', '-YI', '-XX', '+XI', '+II', '-ZI', '-YX', '+IY']\n",
      "Lexicographically sorted\n",
      "StabilizerTable: ['-II', '+II', '+IX', '-IX', '-IY', '+IY', '-IZ', '+IZ', '-XI', '+XI', '+XX', '-XX', '+XY', '-XY', '-XZ', '+XZ', '+YI', '-YI', '+YX', '-YX', '+YY', '-YY', '+YZ', '-YZ', '+ZI', '-ZI', '+ZX', '-ZX', '+ZY', '-ZY', '-ZZ', '+ZZ']\n",
      "Weight sorted\n",
      "StabilizerTable: ['-II', '+II', '+IX', '-IX', '-IY', '+IY', '-IZ', '+IZ', '-XI', '+XI', '+YI', '-YI', '+ZI', '-ZI', '+XX', '-XX', '+XY', '-XY', '-XZ', '+XZ', '+YX', '-YX', '+YY', '-YY', '+YZ', '-YZ', '+ZX', '-ZX', '+ZY', '-ZY', '-ZZ', '+ZZ']\n"
     ]
    }
   ],
   "source": [
    "from numpy.random import shuffle\n",
    "from qiskit.quantum_info.operators import StabilizerTable\n",
    "\n",
    "# 2-qubit labels\n",
    "labels = ['+II', '+IX', '+IY', '+IZ', '+XI', '+XX', '+XY', '+XZ',\n",
    "          '+YI', '+YX', '+YY', '+YZ', '+ZI', '+ZX', '+ZY', '+ZZ',\n",
    "          '-II', '-IX', '-IY', '-IZ', '-XI', '-XX', '-XY', '-XZ',\n",
    "          '-YI', '-YX', '-YY', '-YZ', '-ZI', '-ZX', '-ZY', '-ZZ']\n",
    "# Shuffle Labels\n",
    "shuffle(labels)\n",
    "st = StabilizerTable.from_labels(labels)\n",
    "print('Initial Ordering')\n",
    "print(st)\n",
    "\n",
    "# Lexicographic Ordering\n",
    "srt = st.sort()\n",
    "print('Lexicographically sorted')\n",
    "print(srt)\n",
    "\n",
    "# Weight Ordering\n",
    "srt = st.sort(weight=True)\n",
    "print('Weight sorted')\n",
    "print(srt)"
   ]
  },
  {
   "cell_type": "code",
   "execution_count": 5,
   "id": "98f1f5a4",
   "metadata": {
    "execution": {
     "iopub.execute_input": "2021-06-15T09:00:00.288943Z",
     "iopub.status.busy": "2021-06-15T09:00:00.288458Z",
     "iopub.status.idle": "2021-06-15T09:00:00.291247Z",
     "shell.execute_reply": "2021-06-15T09:00:00.290855Z"
    }
   },
   "outputs": [
    {
     "name": "stdout",
     "output_type": "stream",
     "text": [
      "StabilizerTable: ['-IY', '+IZ', '+XY', '-XZ']\n"
     ]
    }
   ],
   "source": [
    "from qiskit.quantum_info.operators import StabilizerTable\n",
    "\n",
    "current = StabilizerTable.from_labels(['+I', '-X'])\n",
    "other =  StabilizerTable.from_labels(['-Y', '+Z'])\n",
    "print(current.tensor(other))"
   ]
  },
  {
   "cell_type": "code",
   "execution_count": 6,
   "id": "413c59f7",
   "metadata": {
    "execution": {
     "iopub.execute_input": "2021-06-15T09:00:00.296040Z",
     "iopub.status.busy": "2021-06-15T09:00:00.295009Z",
     "iopub.status.idle": "2021-06-15T09:00:00.297696Z",
     "shell.execute_reply": "2021-06-15T09:00:00.297272Z"
    }
   },
   "outputs": [
    {
     "name": "stdout",
     "output_type": "stream",
     "text": [
      "StabilizerTable: ['+X', '+I', '-I', '-X']\n"
     ]
    }
   ],
   "source": [
    "from qiskit.quantum_info.operators import StabilizerTable\n",
    "\n",
    "st = StabilizerTable.from_labels(['+X', '+I', '-I', '-X', '+X', '-X', '+I'])\n",
    "unique = st.unique()\n",
    "print(unique)"
   ]
  }
 ],
 "metadata": {
  "kernelspec": {
   "display_name": "Python 3",
   "language": "python",
   "name": "python3"
  },
  "language_info": {
   "codemirror_mode": {
    "name": "ipython",
    "version": 3
   },
   "file_extension": ".py",
   "mimetype": "text/x-python",
   "name": "python",
   "nbconvert_exporter": "python",
   "pygments_lexer": "ipython3",
   "version": "3.8.10"
  }
 },
 "nbformat": 4,
 "nbformat_minor": 5
}