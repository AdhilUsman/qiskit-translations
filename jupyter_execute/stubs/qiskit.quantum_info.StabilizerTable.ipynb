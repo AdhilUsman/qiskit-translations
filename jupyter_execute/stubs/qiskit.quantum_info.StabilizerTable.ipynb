{
 "cells": [
  {
   "cell_type": "code",
   "execution_count": 1,
   "id": "d836c99c",
   "metadata": {
    "execution": {
     "iopub.execute_input": "2021-04-03T15:50:59.776686Z",
     "iopub.status.busy": "2021-04-03T15:50:59.776213Z",
     "iopub.status.idle": "2021-04-03T15:51:00.340731Z",
     "shell.execute_reply": "2021-04-03T15:51:00.341170Z"
    }
   },
   "outputs": [
    {
     "name": "stdout",
     "output_type": "stream",
     "text": [
      "StabilizerTable: ['+X', '-Z', '-I', '-Y']\n"
     ]
    }
   ],
   "source": [
    "from qiskit.quantum_info.operators import StabilizerTable\n",
    "\n",
    "current = StabilizerTable.from_labels(['+I', '-X'])\n",
    "other =  StabilizerTable.from_labels(['+X', '-Z'])\n",
    "print(current.compose(other))"
   ]
  },
  {
   "cell_type": "code",
   "execution_count": 2,
   "id": "56b1cc50",
   "metadata": {
    "execution": {
     "iopub.execute_input": "2021-04-03T15:51:00.346465Z",
     "iopub.status.busy": "2021-04-03T15:51:00.345628Z",
     "iopub.status.idle": "2021-04-03T15:51:00.348217Z",
     "shell.execute_reply": "2021-04-03T15:51:00.347813Z"
    }
   },
   "outputs": [
    {
     "name": "stdout",
     "output_type": "stream",
     "text": [
      "StabilizerTable: ['+X', '-Z', '-I', '+Y']\n"
     ]
    }
   ],
   "source": [
    "from qiskit.quantum_info.operators import StabilizerTable\n",
    "\n",
    "current = StabilizerTable.from_labels(['+I', '-X'])\n",
    "other =  StabilizerTable.from_labels(['+X', '-Z'])\n",
    "print(current.dot(other))"
   ]
  },
  {
   "cell_type": "code",
   "execution_count": 3,
   "id": "94a6aa61",
   "metadata": {
    "execution": {
     "iopub.execute_input": "2021-04-03T15:51:00.353080Z",
     "iopub.status.busy": "2021-04-03T15:51:00.352256Z",
     "iopub.status.idle": "2021-04-03T15:51:00.354864Z",
     "shell.execute_reply": "2021-04-03T15:51:00.354470Z"
    }
   },
   "outputs": [
    {
     "name": "stdout",
     "output_type": "stream",
     "text": [
      "StabilizerTable: ['-YI', '+YX', '+ZI', '-ZX']\n"
     ]
    }
   ],
   "source": [
    "from qiskit.quantum_info.operators import StabilizerTable\n",
    "\n",
    "current = StabilizerTable.from_labels(['+I', '-X'])\n",
    "other =  StabilizerTable.from_labels(['-Y', '+Z'])\n",
    "print(current.expand(other))"
   ]
  },
  {
   "cell_type": "code",
   "execution_count": 4,
   "id": "e37c14aa",
   "metadata": {
    "execution": {
     "iopub.execute_input": "2021-04-03T15:51:00.362348Z",
     "iopub.status.busy": "2021-04-03T15:51:00.361858Z",
     "iopub.status.idle": "2021-04-03T15:51:00.364425Z",
     "shell.execute_reply": "2021-04-03T15:51:00.364784Z"
    }
   },
   "outputs": [
    {
     "name": "stdout",
     "output_type": "stream",
     "text": [
      "Initial Ordering\n",
      "StabilizerTable: ['-IY', '-XI', '-IX', '-YZ', '+II', '+YZ', '+ZY', '+IY', '-II', '+ZZ', '-ZZ', '+XI', '+YX', '+ZX', '-YY', '+YI', '+YY', '+IZ', '+XX', '-ZY', '-IZ', '+IX', '-YX', '-ZX', '+XY', '+ZI', '-ZI', '-XX', '-XZ', '-XY', '-YI', '+XZ']\n",
      "Lexicographically sorted\n",
      "StabilizerTable: ['+II', '-II', '-IX', '+IX', '-IY', '+IY', '+IZ', '-IZ', '-XI', '+XI', '+XX', '-XX', '+XY', '-XY', '-XZ', '+XZ', '+YI', '-YI', '+YX', '-YX', '-YY', '+YY', '-YZ', '+YZ', '+ZI', '-ZI', '+ZX', '-ZX', '+ZY', '-ZY', '+ZZ', '-ZZ']\n",
      "Weight sorted\n",
      "StabilizerTable: ['+II', '-II', '-IX', '+IX', '-IY', '+IY', '+IZ', '-IZ', '-XI', '+XI', '+YI', '-YI', '+ZI', '-ZI', '+XX', '-XX', '+XY', '-XY', '-XZ', '+XZ', '+YX', '-YX', '-YY', '+YY', '-YZ', '+YZ', '+ZX', '-ZX', '+ZY', '-ZY', '+ZZ', '-ZZ']\n"
     ]
    }
   ],
   "source": [
    "from numpy.random import shuffle\n",
    "from qiskit.quantum_info.operators import StabilizerTable\n",
    "\n",
    "# 2-qubit labels\n",
    "labels = ['+II', '+IX', '+IY', '+IZ', '+XI', '+XX', '+XY', '+XZ',\n",
    "          '+YI', '+YX', '+YY', '+YZ', '+ZI', '+ZX', '+ZY', '+ZZ',\n",
    "          '-II', '-IX', '-IY', '-IZ', '-XI', '-XX', '-XY', '-XZ',\n",
    "          '-YI', '-YX', '-YY', '-YZ', '-ZI', '-ZX', '-ZY', '-ZZ']\n",
    "# Shuffle Labels\n",
    "shuffle(labels)\n",
    "st = StabilizerTable.from_labels(labels)\n",
    "print('Initial Ordering')\n",
    "print(st)\n",
    "\n",
    "# Lexicographic Ordering\n",
    "srt = st.sort()\n",
    "print('Lexicographically sorted')\n",
    "print(srt)\n",
    "\n",
    "# Weight Ordering\n",
    "srt = st.sort(weight=True)\n",
    "print('Weight sorted')\n",
    "print(srt)"
   ]
  },
  {
   "cell_type": "code",
   "execution_count": 5,
   "id": "7b2f25b7",
   "metadata": {
    "execution": {
     "iopub.execute_input": "2021-04-03T15:51:00.369440Z",
     "iopub.status.busy": "2021-04-03T15:51:00.368619Z",
     "iopub.status.idle": "2021-04-03T15:51:00.371093Z",
     "shell.execute_reply": "2021-04-03T15:51:00.370707Z"
    }
   },
   "outputs": [
    {
     "name": "stdout",
     "output_type": "stream",
     "text": [
      "StabilizerTable: ['-IY', '+IZ', '+XY', '-XZ']\n"
     ]
    }
   ],
   "source": [
    "from qiskit.quantum_info.operators import StabilizerTable\n",
    "\n",
    "current = StabilizerTable.from_labels(['+I', '-X'])\n",
    "other =  StabilizerTable.from_labels(['-Y', '+Z'])\n",
    "print(current.tensor(other))"
   ]
  },
  {
   "cell_type": "code",
   "execution_count": 6,
   "id": "12a5a87c",
   "metadata": {
    "execution": {
     "iopub.execute_input": "2021-04-03T15:51:00.375628Z",
     "iopub.status.busy": "2021-04-03T15:51:00.374837Z",
     "iopub.status.idle": "2021-04-03T15:51:00.377364Z",
     "shell.execute_reply": "2021-04-03T15:51:00.376974Z"
    }
   },
   "outputs": [
    {
     "name": "stdout",
     "output_type": "stream",
     "text": [
      "StabilizerTable: ['+X', '+I', '-I', '-X']\n"
     ]
    }
   ],
   "source": [
    "from qiskit.quantum_info.operators import StabilizerTable\n",
    "\n",
    "st = StabilizerTable.from_labels(['+X', '+I', '-I', '-X', '+X', '-X', '+I'])\n",
    "unique = st.unique()\n",
    "print(unique)"
   ]
  }
 ],
 "metadata": {
  "kernelspec": {
   "display_name": "Python 3",
   "language": "python",
   "name": "python3"
  },
  "language_info": {
   "codemirror_mode": {
    "name": "ipython",
    "version": 3
   },
   "file_extension": ".py",
   "mimetype": "text/x-python",
   "name": "python",
   "nbconvert_exporter": "python",
   "pygments_lexer": "ipython3",
   "version": "3.8.8"
  }
 },
 "nbformat": 4,
 "nbformat_minor": 5
}