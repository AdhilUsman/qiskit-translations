{
 "cells": [
  {
   "cell_type": "code",
   "execution_count": 1,
   "id": "7d77ed4a",
   "metadata": {
    "execution": {
     "iopub.execute_input": "2021-06-15T18:22:05.174246Z",
     "iopub.status.busy": "2021-06-15T18:22:05.173765Z",
     "iopub.status.idle": "2021-06-15T18:22:05.758355Z",
     "shell.execute_reply": "2021-06-15T18:22:05.758712Z"
    }
   },
   "outputs": [
    {
     "name": "stdout",
     "output_type": "stream",
     "text": [
      "StabilizerTable: ['+X', '-Z', '-I', '-Y']\n"
     ]
    }
   ],
   "source": [
    "from qiskit.quantum_info.operators import StabilizerTable\n",
    "\n",
    "current = StabilizerTable.from_labels(['+I', '-X'])\n",
    "other =  StabilizerTable.from_labels(['+X', '-Z'])\n",
    "print(current.compose(other))"
   ]
  },
  {
   "cell_type": "code",
   "execution_count": 2,
   "id": "4d0541c0",
   "metadata": {
    "execution": {
     "iopub.execute_input": "2021-06-15T18:22:05.764650Z",
     "iopub.status.busy": "2021-06-15T18:22:05.764205Z",
     "iopub.status.idle": "2021-06-15T18:22:05.768408Z",
     "shell.execute_reply": "2021-06-15T18:22:05.767999Z"
    }
   },
   "outputs": [
    {
     "name": "stdout",
     "output_type": "stream",
     "text": [
      "StabilizerTable: ['+X', '-Z', '-I', '+Y']\n"
     ]
    }
   ],
   "source": [
    "from qiskit.quantum_info.operators import StabilizerTable\n",
    "\n",
    "current = StabilizerTable.from_labels(['+I', '-X'])\n",
    "other =  StabilizerTable.from_labels(['+X', '-Z'])\n",
    "print(current.dot(other))"
   ]
  },
  {
   "cell_type": "code",
   "execution_count": 3,
   "id": "de333705",
   "metadata": {
    "execution": {
     "iopub.execute_input": "2021-06-15T18:22:05.774586Z",
     "iopub.status.busy": "2021-06-15T18:22:05.774157Z",
     "iopub.status.idle": "2021-06-15T18:22:05.777584Z",
     "shell.execute_reply": "2021-06-15T18:22:05.777921Z"
    }
   },
   "outputs": [
    {
     "name": "stdout",
     "output_type": "stream",
     "text": [
      "StabilizerTable: ['-YI', '+YX', '+ZI', '-ZX']\n"
     ]
    }
   ],
   "source": [
    "from qiskit.quantum_info.operators import StabilizerTable\n",
    "\n",
    "current = StabilizerTable.from_labels(['+I', '-X'])\n",
    "other =  StabilizerTable.from_labels(['-Y', '+Z'])\n",
    "print(current.expand(other))"
   ]
  },
  {
   "cell_type": "code",
   "execution_count": 4,
   "id": "a06b4e70",
   "metadata": {
    "execution": {
     "iopub.execute_input": "2021-06-15T18:22:05.784365Z",
     "iopub.status.busy": "2021-06-15T18:22:05.783017Z",
     "iopub.status.idle": "2021-06-15T18:22:05.789655Z",
     "shell.execute_reply": "2021-06-15T18:22:05.789267Z"
    }
   },
   "outputs": [
    {
     "name": "stdout",
     "output_type": "stream",
     "text": [
      "Initial Ordering\n",
      "StabilizerTable: ['-ZX', '+II', '-ZZ', '-IZ', '-YX', '-XZ', '+IZ', '-IY', '+IY', '+XI', '+ZI', '+YZ', '-XX', '-XI', '+ZY', '-XY', '-IX', '+XX', '+XZ', '+IX', '+ZX', '-YZ', '-YY', '+YY', '-ZI', '+YX', '+YI', '+XY', '+ZZ', '-II', '-ZY', '-YI']\n",
      "Lexicographically sorted\n",
      "StabilizerTable: ['+II', '-II', '-IX', '+IX', '-IY', '+IY', '-IZ', '+IZ', '+XI', '-XI', '-XX', '+XX', '-XY', '+XY', '-XZ', '+XZ', '+YI', '-YI', '-YX', '+YX', '-YY', '+YY', '+YZ', '-YZ', '+ZI', '-ZI', '-ZX', '+ZX', '+ZY', '-ZY', '-ZZ', '+ZZ']\n",
      "Weight sorted\n",
      "StabilizerTable: ['+II', '-II', '-IX', '+IX', '-IY', '+IY', '-IZ', '+IZ', '+XI', '-XI', '+YI', '-YI', '+ZI', '-ZI', '-XX', '+XX', '-XY', '+XY', '-XZ', '+XZ', '-YX', '+YX', '-YY', '+YY', '+YZ', '-YZ', '-ZX', '+ZX', '+ZY', '-ZY', '-ZZ', '+ZZ']\n"
     ]
    }
   ],
   "source": [
    "from numpy.random import shuffle\n",
    "from qiskit.quantum_info.operators import StabilizerTable\n",
    "\n",
    "# 2-qubit labels\n",
    "labels = ['+II', '+IX', '+IY', '+IZ', '+XI', '+XX', '+XY', '+XZ',\n",
    "          '+YI', '+YX', '+YY', '+YZ', '+ZI', '+ZX', '+ZY', '+ZZ',\n",
    "          '-II', '-IX', '-IY', '-IZ', '-XI', '-XX', '-XY', '-XZ',\n",
    "          '-YI', '-YX', '-YY', '-YZ', '-ZI', '-ZX', '-ZY', '-ZZ']\n",
    "# Shuffle Labels\n",
    "shuffle(labels)\n",
    "st = StabilizerTable.from_labels(labels)\n",
    "print('Initial Ordering')\n",
    "print(st)\n",
    "\n",
    "# Lexicographic Ordering\n",
    "srt = st.sort()\n",
    "print('Lexicographically sorted')\n",
    "print(srt)\n",
    "\n",
    "# Weight Ordering\n",
    "srt = st.sort(weight=True)\n",
    "print('Weight sorted')\n",
    "print(srt)"
   ]
  },
  {
   "cell_type": "code",
   "execution_count": 5,
   "id": "8e621066",
   "metadata": {
    "execution": {
     "iopub.execute_input": "2021-06-15T18:22:05.793792Z",
     "iopub.status.busy": "2021-06-15T18:22:05.793378Z",
     "iopub.status.idle": "2021-06-15T18:22:05.797503Z",
     "shell.execute_reply": "2021-06-15T18:22:05.797109Z"
    }
   },
   "outputs": [
    {
     "name": "stdout",
     "output_type": "stream",
     "text": [
      "StabilizerTable: ['-IY', '+IZ', '+XY', '-XZ']\n"
     ]
    }
   ],
   "source": [
    "from qiskit.quantum_info.operators import StabilizerTable\n",
    "\n",
    "current = StabilizerTable.from_labels(['+I', '-X'])\n",
    "other =  StabilizerTable.from_labels(['-Y', '+Z'])\n",
    "print(current.tensor(other))"
   ]
  },
  {
   "cell_type": "code",
   "execution_count": 6,
   "id": "a3c983fc",
   "metadata": {
    "execution": {
     "iopub.execute_input": "2021-06-15T18:22:05.801822Z",
     "iopub.status.busy": "2021-06-15T18:22:05.801419Z",
     "iopub.status.idle": "2021-06-15T18:22:05.804952Z",
     "shell.execute_reply": "2021-06-15T18:22:05.804574Z"
    }
   },
   "outputs": [
    {
     "name": "stdout",
     "output_type": "stream",
     "text": [
      "StabilizerTable: ['+X', '+I', '-I', '-X']\n"
     ]
    }
   ],
   "source": [
    "from qiskit.quantum_info.operators import StabilizerTable\n",
    "\n",
    "st = StabilizerTable.from_labels(['+X', '+I', '-I', '-X', '+X', '-X', '+I'])\n",
    "unique = st.unique()\n",
    "print(unique)"
   ]
  }
 ],
 "metadata": {
  "kernelspec": {
   "display_name": "Python 3",
   "language": "python",
   "name": "python3"
  },
  "language_info": {
   "codemirror_mode": {
    "name": "ipython",
    "version": 3
   },
   "file_extension": ".py",
   "mimetype": "text/x-python",
   "name": "python",
   "nbconvert_exporter": "python",
   "pygments_lexer": "ipython3",
   "version": "3.8.10"
  }
 },
 "nbformat": 4,
 "nbformat_minor": 5
}