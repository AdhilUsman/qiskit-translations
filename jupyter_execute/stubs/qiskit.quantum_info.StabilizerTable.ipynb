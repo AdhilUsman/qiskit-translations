{
 "cells": [
  {
   "cell_type": "code",
   "execution_count": 1,
   "id": "7fc9b432",
   "metadata": {
    "execution": {
     "iopub.execute_input": "2021-06-06T19:52:25.956694Z",
     "iopub.status.busy": "2021-06-06T19:52:25.956152Z",
     "iopub.status.idle": "2021-06-06T19:52:26.530513Z",
     "shell.execute_reply": "2021-06-06T19:52:26.530911Z"
    }
   },
   "outputs": [
    {
     "name": "stdout",
     "output_type": "stream",
     "text": [
      "StabilizerTable: ['+X', '-Z', '-I', '-Y']\n"
     ]
    }
   ],
   "source": [
    "from qiskit.quantum_info.operators import StabilizerTable\n",
    "\n",
    "current = StabilizerTable.from_labels(['+I', '-X'])\n",
    "other =  StabilizerTable.from_labels(['+X', '-Z'])\n",
    "print(current.compose(other))"
   ]
  },
  {
   "cell_type": "code",
   "execution_count": 2,
   "id": "31427f80",
   "metadata": {
    "execution": {
     "iopub.execute_input": "2021-06-06T19:52:26.536094Z",
     "iopub.status.busy": "2021-06-06T19:52:26.535278Z",
     "iopub.status.idle": "2021-06-06T19:52:26.537973Z",
     "shell.execute_reply": "2021-06-06T19:52:26.537551Z"
    }
   },
   "outputs": [
    {
     "name": "stdout",
     "output_type": "stream",
     "text": [
      "StabilizerTable: ['+X', '-Z', '-I', '+Y']\n"
     ]
    }
   ],
   "source": [
    "from qiskit.quantum_info.operators import StabilizerTable\n",
    "\n",
    "current = StabilizerTable.from_labels(['+I', '-X'])\n",
    "other =  StabilizerTable.from_labels(['+X', '-Z'])\n",
    "print(current.dot(other))"
   ]
  },
  {
   "cell_type": "code",
   "execution_count": 3,
   "id": "c3ae9238",
   "metadata": {
    "execution": {
     "iopub.execute_input": "2021-06-06T19:52:26.542575Z",
     "iopub.status.busy": "2021-06-06T19:52:26.541762Z",
     "iopub.status.idle": "2021-06-06T19:52:26.544355Z",
     "shell.execute_reply": "2021-06-06T19:52:26.543954Z"
    }
   },
   "outputs": [
    {
     "name": "stdout",
     "output_type": "stream",
     "text": [
      "StabilizerTable: ['-YI', '+YX', '+ZI', '-ZX']\n"
     ]
    }
   ],
   "source": [
    "from qiskit.quantum_info.operators import StabilizerTable\n",
    "\n",
    "current = StabilizerTable.from_labels(['+I', '-X'])\n",
    "other =  StabilizerTable.from_labels(['-Y', '+Z'])\n",
    "print(current.expand(other))"
   ]
  },
  {
   "cell_type": "code",
   "execution_count": 4,
   "id": "701099b1",
   "metadata": {
    "execution": {
     "iopub.execute_input": "2021-06-06T19:52:26.549931Z",
     "iopub.status.busy": "2021-06-06T19:52:26.548766Z",
     "iopub.status.idle": "2021-06-06T19:52:26.553212Z",
     "shell.execute_reply": "2021-06-06T19:52:26.552728Z"
    }
   },
   "outputs": [
    {
     "name": "stdout",
     "output_type": "stream",
     "text": [
      "Initial Ordering\n",
      "StabilizerTable: ['+XX', '-IX', '-XI', '+YZ', '+XZ', '-ZI', '+ZI', '+II', '-YX', '+ZX', '-IZ', '-YI', '-XX', '+IZ', '+YX', '-ZY', '-XY', '-IY', '-II', '+ZY', '-YZ', '+YY', '+IY', '-ZZ', '-XZ', '+XI', '+XY', '-ZX', '-YY', '+YI', '+IX', '+ZZ']\n",
      "Lexicographically sorted\n",
      "StabilizerTable: ['+II', '-II', '-IX', '+IX', '-IY', '+IY', '-IZ', '+IZ', '-XI', '+XI', '+XX', '-XX', '-XY', '+XY', '+XZ', '-XZ', '-YI', '+YI', '-YX', '+YX', '+YY', '-YY', '+YZ', '-YZ', '-ZI', '+ZI', '+ZX', '-ZX', '-ZY', '+ZY', '-ZZ', '+ZZ']\n",
      "Weight sorted\n",
      "StabilizerTable: ['+II', '-II', '-IX', '+IX', '-IY', '+IY', '-IZ', '+IZ', '-XI', '+XI', '-YI', '+YI', '-ZI', '+ZI', '+XX', '-XX', '-XY', '+XY', '+XZ', '-XZ', '-YX', '+YX', '+YY', '-YY', '+YZ', '-YZ', '+ZX', '-ZX', '-ZY', '+ZY', '-ZZ', '+ZZ']\n"
     ]
    }
   ],
   "source": [
    "from numpy.random import shuffle\n",
    "from qiskit.quantum_info.operators import StabilizerTable\n",
    "\n",
    "# 2-qubit labels\n",
    "labels = ['+II', '+IX', '+IY', '+IZ', '+XI', '+XX', '+XY', '+XZ',\n",
    "          '+YI', '+YX', '+YY', '+YZ', '+ZI', '+ZX', '+ZY', '+ZZ',\n",
    "          '-II', '-IX', '-IY', '-IZ', '-XI', '-XX', '-XY', '-XZ',\n",
    "          '-YI', '-YX', '-YY', '-YZ', '-ZI', '-ZX', '-ZY', '-ZZ']\n",
    "# Shuffle Labels\n",
    "shuffle(labels)\n",
    "st = StabilizerTable.from_labels(labels)\n",
    "print('Initial Ordering')\n",
    "print(st)\n",
    "\n",
    "# Lexicographic Ordering\n",
    "srt = st.sort()\n",
    "print('Lexicographically sorted')\n",
    "print(srt)\n",
    "\n",
    "# Weight Ordering\n",
    "srt = st.sort(weight=True)\n",
    "print('Weight sorted')\n",
    "print(srt)"
   ]
  },
  {
   "cell_type": "code",
   "execution_count": 5,
   "id": "723f3aa9",
   "metadata": {
    "execution": {
     "iopub.execute_input": "2021-06-06T19:52:26.557815Z",
     "iopub.status.busy": "2021-06-06T19:52:26.556970Z",
     "iopub.status.idle": "2021-06-06T19:52:26.559734Z",
     "shell.execute_reply": "2021-06-06T19:52:26.559299Z"
    }
   },
   "outputs": [
    {
     "name": "stdout",
     "output_type": "stream",
     "text": [
      "StabilizerTable: ['-IY', '+IZ', '+XY', '-XZ']\n"
     ]
    }
   ],
   "source": [
    "from qiskit.quantum_info.operators import StabilizerTable\n",
    "\n",
    "current = StabilizerTable.from_labels(['+I', '-X'])\n",
    "other =  StabilizerTable.from_labels(['-Y', '+Z'])\n",
    "print(current.tensor(other))"
   ]
  },
  {
   "cell_type": "code",
   "execution_count": 6,
   "id": "b11be8a5",
   "metadata": {
    "execution": {
     "iopub.execute_input": "2021-06-06T19:52:26.564313Z",
     "iopub.status.busy": "2021-06-06T19:52:26.563488Z",
     "iopub.status.idle": "2021-06-06T19:52:26.566024Z",
     "shell.execute_reply": "2021-06-06T19:52:26.565615Z"
    }
   },
   "outputs": [
    {
     "name": "stdout",
     "output_type": "stream",
     "text": [
      "StabilizerTable: ['+X', '+I', '-I', '-X']\n"
     ]
    }
   ],
   "source": [
    "from qiskit.quantum_info.operators import StabilizerTable\n",
    "\n",
    "st = StabilizerTable.from_labels(['+X', '+I', '-I', '-X', '+X', '-X', '+I'])\n",
    "unique = st.unique()\n",
    "print(unique)"
   ]
  }
 ],
 "metadata": {
  "kernelspec": {
   "display_name": "Python 3",
   "language": "python",
   "name": "python3"
  },
  "language_info": {
   "codemirror_mode": {
    "name": "ipython",
    "version": 3
   },
   "file_extension": ".py",
   "mimetype": "text/x-python",
   "name": "python",
   "nbconvert_exporter": "python",
   "pygments_lexer": "ipython3",
   "version": "3.8.10"
  }
 },
 "nbformat": 4,
 "nbformat_minor": 5
}