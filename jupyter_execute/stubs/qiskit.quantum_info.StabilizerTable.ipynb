{
 "cells": [
  {
   "cell_type": "code",
   "execution_count": 1,
   "id": "cfd12a18",
   "metadata": {
    "execution": {
     "iopub.execute_input": "2021-06-17T20:15:21.179657Z",
     "iopub.status.busy": "2021-06-17T20:15:21.179015Z",
     "iopub.status.idle": "2021-06-17T20:15:21.978113Z",
     "shell.execute_reply": "2021-06-17T20:15:21.977481Z"
    }
   },
   "outputs": [
    {
     "name": "stdout",
     "output_type": "stream",
     "text": [
      "StabilizerTable: ['+X', '-Z', '-I', '-Y']\n"
     ]
    }
   ],
   "source": [
    "from qiskit.quantum_info.operators import StabilizerTable\n",
    "\n",
    "current = StabilizerTable.from_labels(['+I', '-X'])\n",
    "other =  StabilizerTable.from_labels(['+X', '-Z'])\n",
    "print(current.compose(other))"
   ]
  },
  {
   "cell_type": "code",
   "execution_count": 2,
   "id": "6e38dc19",
   "metadata": {
    "execution": {
     "iopub.execute_input": "2021-06-17T20:15:21.985338Z",
     "iopub.status.busy": "2021-06-17T20:15:21.984631Z",
     "iopub.status.idle": "2021-06-17T20:15:21.993923Z",
     "shell.execute_reply": "2021-06-17T20:15:21.992525Z"
    }
   },
   "outputs": [
    {
     "name": "stdout",
     "output_type": "stream",
     "text": [
      "StabilizerTable: ['+X', '-Z', '-I', '+Y']\n"
     ]
    }
   ],
   "source": [
    "from qiskit.quantum_info.operators import StabilizerTable\n",
    "\n",
    "current = StabilizerTable.from_labels(['+I', '-X'])\n",
    "other =  StabilizerTable.from_labels(['+X', '-Z'])\n",
    "print(current.dot(other))"
   ]
  },
  {
   "cell_type": "code",
   "execution_count": 3,
   "id": "653872d7",
   "metadata": {
    "execution": {
     "iopub.execute_input": "2021-06-17T20:15:22.003702Z",
     "iopub.status.busy": "2021-06-17T20:15:22.002998Z",
     "iopub.status.idle": "2021-06-17T20:15:22.005627Z",
     "shell.execute_reply": "2021-06-17T20:15:22.004306Z"
    }
   },
   "outputs": [
    {
     "name": "stdout",
     "output_type": "stream",
     "text": [
      "StabilizerTable: ['-YI', '+YX', '+ZI', '-ZX']\n"
     ]
    }
   ],
   "source": [
    "from qiskit.quantum_info.operators import StabilizerTable\n",
    "\n",
    "current = StabilizerTable.from_labels(['+I', '-X'])\n",
    "other =  StabilizerTable.from_labels(['-Y', '+Z'])\n",
    "print(current.expand(other))"
   ]
  },
  {
   "cell_type": "code",
   "execution_count": 4,
   "id": "f3e9af34",
   "metadata": {
    "execution": {
     "iopub.execute_input": "2021-06-17T20:15:22.015174Z",
     "iopub.status.busy": "2021-06-17T20:15:22.012285Z",
     "iopub.status.idle": "2021-06-17T20:15:22.017568Z",
     "shell.execute_reply": "2021-06-17T20:15:22.018097Z"
    }
   },
   "outputs": [
    {
     "name": "stdout",
     "output_type": "stream",
     "text": [
      "Initial Ordering\n",
      "StabilizerTable: ['+ZX', '-II', '-ZI', '-IZ', '+YI', '+ZI', '+XY', '-ZY', '-YY', '-YI', '+IY', '+ZY', '-XI', '-YX', '-XZ', '+ZZ', '+XX', '-IX', '+YZ', '-XY', '+YX', '+XZ', '-IY', '-ZX', '+YY', '-XX', '+IX', '+IZ', '-ZZ', '+II', '+XI', '-YZ']\n",
      "Lexicographically sorted\n",
      "StabilizerTable: ['-II', '+II', '-IX', '+IX', '+IY', '-IY', '-IZ', '+IZ', '-XI', '+XI', '+XX', '-XX', '+XY', '-XY', '-XZ', '+XZ', '+YI', '-YI', '-YX', '+YX', '-YY', '+YY', '+YZ', '-YZ', '-ZI', '+ZI', '+ZX', '-ZX', '-ZY', '+ZY', '+ZZ', '-ZZ']\n",
      "Weight sorted\n",
      "StabilizerTable: ['-II', '+II', '-IX', '+IX', '+IY', '-IY', '-IZ', '+IZ', '-XI', '+XI', '+YI', '-YI', '-ZI', '+ZI', '+XX', '-XX', '+XY', '-XY', '-XZ', '+XZ', '-YX', '+YX', '-YY', '+YY', '+YZ', '-YZ', '+ZX', '-ZX', '-ZY', '+ZY', '+ZZ', '-ZZ']\n"
     ]
    }
   ],
   "source": [
    "from numpy.random import shuffle\n",
    "from qiskit.quantum_info.operators import StabilizerTable\n",
    "\n",
    "# 2-qubit labels\n",
    "labels = ['+II', '+IX', '+IY', '+IZ', '+XI', '+XX', '+XY', '+XZ',\n",
    "          '+YI', '+YX', '+YY', '+YZ', '+ZI', '+ZX', '+ZY', '+ZZ',\n",
    "          '-II', '-IX', '-IY', '-IZ', '-XI', '-XX', '-XY', '-XZ',\n",
    "          '-YI', '-YX', '-YY', '-YZ', '-ZI', '-ZX', '-ZY', '-ZZ']\n",
    "# Shuffle Labels\n",
    "shuffle(labels)\n",
    "st = StabilizerTable.from_labels(labels)\n",
    "print('Initial Ordering')\n",
    "print(st)\n",
    "\n",
    "# Lexicographic Ordering\n",
    "srt = st.sort()\n",
    "print('Lexicographically sorted')\n",
    "print(srt)\n",
    "\n",
    "# Weight Ordering\n",
    "srt = st.sort(weight=True)\n",
    "print('Weight sorted')\n",
    "print(srt)"
   ]
  },
  {
   "cell_type": "code",
   "execution_count": 5,
   "id": "2bc72e49",
   "metadata": {
    "execution": {
     "iopub.execute_input": "2021-06-17T20:15:22.023082Z",
     "iopub.status.busy": "2021-06-17T20:15:22.022468Z",
     "iopub.status.idle": "2021-06-17T20:15:22.027543Z",
     "shell.execute_reply": "2021-06-17T20:15:22.026955Z"
    }
   },
   "outputs": [
    {
     "name": "stdout",
     "output_type": "stream",
     "text": [
      "StabilizerTable: ['-IY', '+IZ', '+XY', '-XZ']\n"
     ]
    }
   ],
   "source": [
    "from qiskit.quantum_info.operators import StabilizerTable\n",
    "\n",
    "current = StabilizerTable.from_labels(['+I', '-X'])\n",
    "other =  StabilizerTable.from_labels(['-Y', '+Z'])\n",
    "print(current.tensor(other))"
   ]
  },
  {
   "cell_type": "code",
   "execution_count": 6,
   "id": "c9b49e41",
   "metadata": {
    "execution": {
     "iopub.execute_input": "2021-06-17T20:15:22.034727Z",
     "iopub.status.busy": "2021-06-17T20:15:22.033259Z",
     "iopub.status.idle": "2021-06-17T20:15:22.036743Z",
     "shell.execute_reply": "2021-06-17T20:15:22.036199Z"
    }
   },
   "outputs": [
    {
     "name": "stdout",
     "output_type": "stream",
     "text": [
      "StabilizerTable: ['+X', '+I', '-I', '-X']\n"
     ]
    }
   ],
   "source": [
    "from qiskit.quantum_info.operators import StabilizerTable\n",
    "\n",
    "st = StabilizerTable.from_labels(['+X', '+I', '-I', '-X', '+X', '-X', '+I'])\n",
    "unique = st.unique()\n",
    "print(unique)"
   ]
  }
 ],
 "metadata": {
  "kernelspec": {
   "display_name": "Python 3",
   "language": "python",
   "name": "python3"
  },
  "language_info": {
   "codemirror_mode": {
    "name": "ipython",
    "version": 3
   },
   "file_extension": ".py",
   "mimetype": "text/x-python",
   "name": "python",
   "nbconvert_exporter": "python",
   "pygments_lexer": "ipython3",
   "version": "3.8.10"
  }
 },
 "nbformat": 4,
 "nbformat_minor": 5
}