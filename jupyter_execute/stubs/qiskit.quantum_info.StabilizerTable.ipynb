{
 "cells": [
  {
   "cell_type": "code",
   "execution_count": 1,
   "id": "95880929",
   "metadata": {
    "execution": {
     "iopub.execute_input": "2021-06-09T13:04:16.715588Z",
     "iopub.status.busy": "2021-06-09T13:04:16.715137Z",
     "iopub.status.idle": "2021-06-09T13:04:17.289196Z",
     "shell.execute_reply": "2021-06-09T13:04:17.288639Z"
    }
   },
   "outputs": [
    {
     "name": "stdout",
     "output_type": "stream",
     "text": [
      "StabilizerTable: ['+X', '-Z', '-I', '-Y']\n"
     ]
    }
   ],
   "source": [
    "from qiskit.quantum_info.operators import StabilizerTable\n",
    "\n",
    "current = StabilizerTable.from_labels(['+I', '-X'])\n",
    "other =  StabilizerTable.from_labels(['+X', '-Z'])\n",
    "print(current.compose(other))"
   ]
  },
  {
   "cell_type": "code",
   "execution_count": 2,
   "id": "57851091",
   "metadata": {
    "execution": {
     "iopub.execute_input": "2021-06-09T13:04:17.294576Z",
     "iopub.status.busy": "2021-06-09T13:04:17.293657Z",
     "iopub.status.idle": "2021-06-09T13:04:17.296346Z",
     "shell.execute_reply": "2021-06-09T13:04:17.295938Z"
    }
   },
   "outputs": [
    {
     "name": "stdout",
     "output_type": "stream",
     "text": [
      "StabilizerTable: ['+X', '-Z', '-I', '+Y']\n"
     ]
    }
   ],
   "source": [
    "from qiskit.quantum_info.operators import StabilizerTable\n",
    "\n",
    "current = StabilizerTable.from_labels(['+I', '-X'])\n",
    "other =  StabilizerTable.from_labels(['+X', '-Z'])\n",
    "print(current.dot(other))"
   ]
  },
  {
   "cell_type": "code",
   "execution_count": 3,
   "id": "d1afcbf2",
   "metadata": {
    "execution": {
     "iopub.execute_input": "2021-06-09T13:04:17.301026Z",
     "iopub.status.busy": "2021-06-09T13:04:17.300191Z",
     "iopub.status.idle": "2021-06-09T13:04:17.302797Z",
     "shell.execute_reply": "2021-06-09T13:04:17.302369Z"
    }
   },
   "outputs": [
    {
     "name": "stdout",
     "output_type": "stream",
     "text": [
      "StabilizerTable: ['-YI', '+YX', '+ZI', '-ZX']\n"
     ]
    }
   ],
   "source": [
    "from qiskit.quantum_info.operators import StabilizerTable\n",
    "\n",
    "current = StabilizerTable.from_labels(['+I', '-X'])\n",
    "other =  StabilizerTable.from_labels(['-Y', '+Z'])\n",
    "print(current.expand(other))"
   ]
  },
  {
   "cell_type": "code",
   "execution_count": 4,
   "id": "223c626b",
   "metadata": {
    "execution": {
     "iopub.execute_input": "2021-06-09T13:04:17.308214Z",
     "iopub.status.busy": "2021-06-09T13:04:17.307207Z",
     "iopub.status.idle": "2021-06-09T13:04:17.311663Z",
     "shell.execute_reply": "2021-06-09T13:04:17.311213Z"
    }
   },
   "outputs": [
    {
     "name": "stdout",
     "output_type": "stream",
     "text": [
      "Initial Ordering\n",
      "StabilizerTable: ['-YX', '-ZY', '-ZX', '+XZ', '-XX', '+ZZ', '+XY', '+IZ', '+YY', '+ZY', '-XY', '+YI', '+YX', '+IX', '+ZX', '-YI', '-YZ', '+IY', '-XI', '-IZ', '+XX', '+II', '-IY', '+ZI', '-II', '-ZZ', '-XZ', '+YZ', '+XI', '-YY', '-IX', '-ZI']\n",
      "Lexicographically sorted\n",
      "StabilizerTable: ['+II', '-II', '+IX', '-IX', '+IY', '-IY', '+IZ', '-IZ', '-XI', '+XI', '-XX', '+XX', '+XY', '-XY', '+XZ', '-XZ', '+YI', '-YI', '-YX', '+YX', '+YY', '-YY', '-YZ', '+YZ', '+ZI', '-ZI', '-ZX', '+ZX', '-ZY', '+ZY', '+ZZ', '-ZZ']\n",
      "Weight sorted\n",
      "StabilizerTable: ['+II', '-II', '+IX', '-IX', '+IY', '-IY', '+IZ', '-IZ', '-XI', '+XI', '+YI', '-YI', '+ZI', '-ZI', '-XX', '+XX', '+XY', '-XY', '+XZ', '-XZ', '-YX', '+YX', '+YY', '-YY', '-YZ', '+YZ', '-ZX', '+ZX', '-ZY', '+ZY', '+ZZ', '-ZZ']\n"
     ]
    }
   ],
   "source": [
    "from numpy.random import shuffle\n",
    "from qiskit.quantum_info.operators import StabilizerTable\n",
    "\n",
    "# 2-qubit labels\n",
    "labels = ['+II', '+IX', '+IY', '+IZ', '+XI', '+XX', '+XY', '+XZ',\n",
    "          '+YI', '+YX', '+YY', '+YZ', '+ZI', '+ZX', '+ZY', '+ZZ',\n",
    "          '-II', '-IX', '-IY', '-IZ', '-XI', '-XX', '-XY', '-XZ',\n",
    "          '-YI', '-YX', '-YY', '-YZ', '-ZI', '-ZX', '-ZY', '-ZZ']\n",
    "# Shuffle Labels\n",
    "shuffle(labels)\n",
    "st = StabilizerTable.from_labels(labels)\n",
    "print('Initial Ordering')\n",
    "print(st)\n",
    "\n",
    "# Lexicographic Ordering\n",
    "srt = st.sort()\n",
    "print('Lexicographically sorted')\n",
    "print(srt)\n",
    "\n",
    "# Weight Ordering\n",
    "srt = st.sort(weight=True)\n",
    "print('Weight sorted')\n",
    "print(srt)"
   ]
  },
  {
   "cell_type": "code",
   "execution_count": 5,
   "id": "97785234",
   "metadata": {
    "execution": {
     "iopub.execute_input": "2021-06-09T13:04:17.316404Z",
     "iopub.status.busy": "2021-06-09T13:04:17.315509Z",
     "iopub.status.idle": "2021-06-09T13:04:17.318025Z",
     "shell.execute_reply": "2021-06-09T13:04:17.317621Z"
    }
   },
   "outputs": [
    {
     "name": "stdout",
     "output_type": "stream",
     "text": [
      "StabilizerTable: ['-IY', '+IZ', '+XY', '-XZ']\n"
     ]
    }
   ],
   "source": [
    "from qiskit.quantum_info.operators import StabilizerTable\n",
    "\n",
    "current = StabilizerTable.from_labels(['+I', '-X'])\n",
    "other =  StabilizerTable.from_labels(['-Y', '+Z'])\n",
    "print(current.tensor(other))"
   ]
  },
  {
   "cell_type": "code",
   "execution_count": 6,
   "id": "499ab32e",
   "metadata": {
    "execution": {
     "iopub.execute_input": "2021-06-09T13:04:17.322953Z",
     "iopub.status.busy": "2021-06-09T13:04:17.321886Z",
     "iopub.status.idle": "2021-06-09T13:04:17.324457Z",
     "shell.execute_reply": "2021-06-09T13:04:17.324057Z"
    }
   },
   "outputs": [
    {
     "name": "stdout",
     "output_type": "stream",
     "text": [
      "StabilizerTable: ['+X', '+I', '-I', '-X']\n"
     ]
    }
   ],
   "source": [
    "from qiskit.quantum_info.operators import StabilizerTable\n",
    "\n",
    "st = StabilizerTable.from_labels(['+X', '+I', '-I', '-X', '+X', '-X', '+I'])\n",
    "unique = st.unique()\n",
    "print(unique)"
   ]
  }
 ],
 "metadata": {
  "kernelspec": {
   "display_name": "Python 3",
   "language": "python",
   "name": "python3"
  },
  "language_info": {
   "codemirror_mode": {
    "name": "ipython",
    "version": 3
   },
   "file_extension": ".py",
   "mimetype": "text/x-python",
   "name": "python",
   "nbconvert_exporter": "python",
   "pygments_lexer": "ipython3",
   "version": "3.8.10"
  }
 },
 "nbformat": 4,
 "nbformat_minor": 5
}