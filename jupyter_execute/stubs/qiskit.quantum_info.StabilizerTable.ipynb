{
 "cells": [
  {
   "cell_type": "code",
   "execution_count": 1,
   "id": "43c8dc49",
   "metadata": {
    "execution": {
     "iopub.execute_input": "2021-04-07T07:08:26.514530Z",
     "iopub.status.busy": "2021-04-07T07:08:26.513966Z",
     "iopub.status.idle": "2021-04-07T07:08:27.159563Z",
     "shell.execute_reply": "2021-04-07T07:08:27.160081Z"
    }
   },
   "outputs": [
    {
     "name": "stdout",
     "output_type": "stream",
     "text": [
      "StabilizerTable: ['+X', '-Z', '-I', '-Y']\n"
     ]
    }
   ],
   "source": [
    "from qiskit.quantum_info.operators import StabilizerTable\n",
    "\n",
    "current = StabilizerTable.from_labels(['+I', '-X'])\n",
    "other =  StabilizerTable.from_labels(['+X', '-Z'])\n",
    "print(current.compose(other))"
   ]
  },
  {
   "cell_type": "code",
   "execution_count": 2,
   "id": "70193c9b",
   "metadata": {
    "execution": {
     "iopub.execute_input": "2021-04-07T07:08:27.166443Z",
     "iopub.status.busy": "2021-04-07T07:08:27.165048Z",
     "iopub.status.idle": "2021-04-07T07:08:27.168962Z",
     "shell.execute_reply": "2021-04-07T07:08:27.168500Z"
    }
   },
   "outputs": [
    {
     "name": "stdout",
     "output_type": "stream",
     "text": [
      "StabilizerTable: ['+X', '-Z', '-I', '+Y']\n"
     ]
    }
   ],
   "source": [
    "from qiskit.quantum_info.operators import StabilizerTable\n",
    "\n",
    "current = StabilizerTable.from_labels(['+I', '-X'])\n",
    "other =  StabilizerTable.from_labels(['+X', '-Z'])\n",
    "print(current.dot(other))"
   ]
  },
  {
   "cell_type": "code",
   "execution_count": 3,
   "id": "10269ef2",
   "metadata": {
    "execution": {
     "iopub.execute_input": "2021-04-07T07:08:27.174760Z",
     "iopub.status.busy": "2021-04-07T07:08:27.173598Z",
     "iopub.status.idle": "2021-04-07T07:08:27.176962Z",
     "shell.execute_reply": "2021-04-07T07:08:27.176450Z"
    }
   },
   "outputs": [
    {
     "name": "stdout",
     "output_type": "stream",
     "text": [
      "StabilizerTable: ['-YI', '+YX', '+ZI', '-ZX']\n"
     ]
    }
   ],
   "source": [
    "from qiskit.quantum_info.operators import StabilizerTable\n",
    "\n",
    "current = StabilizerTable.from_labels(['+I', '-X'])\n",
    "other =  StabilizerTable.from_labels(['-Y', '+Z'])\n",
    "print(current.expand(other))"
   ]
  },
  {
   "cell_type": "code",
   "execution_count": 4,
   "id": "03edc9c4",
   "metadata": {
    "execution": {
     "iopub.execute_input": "2021-04-07T07:08:27.183994Z",
     "iopub.status.busy": "2021-04-07T07:08:27.182260Z",
     "iopub.status.idle": "2021-04-07T07:08:27.189017Z",
     "shell.execute_reply": "2021-04-07T07:08:27.188289Z"
    }
   },
   "outputs": [
    {
     "name": "stdout",
     "output_type": "stream",
     "text": [
      "Initial Ordering\n",
      "StabilizerTable: ['-YI', '+ZY', '+YX', '-IX', '-ZZ', '-II', '+II', '-YX', '+XX', '-IZ', '-XI', '-IY', '+YI', '-ZY', '-XZ', '-ZX', '+XY', '-YZ', '+YY', '-XX', '+XZ', '-ZI', '+IX', '+ZX', '-XY', '+ZZ', '+IZ', '+YZ', '-YY', '+IY', '+ZI', '+XI']\n",
      "Lexicographically sorted\n",
      "StabilizerTable: ['-II', '+II', '-IX', '+IX', '-IY', '+IY', '-IZ', '+IZ', '-XI', '+XI', '+XX', '-XX', '+XY', '-XY', '-XZ', '+XZ', '-YI', '+YI', '+YX', '-YX', '+YY', '-YY', '-YZ', '+YZ', '-ZI', '+ZI', '-ZX', '+ZX', '+ZY', '-ZY', '-ZZ', '+ZZ']\n",
      "Weight sorted\n",
      "StabilizerTable: ['-II', '+II', '-IX', '+IX', '-IY', '+IY', '-IZ', '+IZ', '-XI', '+XI', '-YI', '+YI', '-ZI', '+ZI', '+XX', '-XX', '+XY', '-XY', '-XZ', '+XZ', '+YX', '-YX', '+YY', '-YY', '-YZ', '+YZ', '-ZX', '+ZX', '+ZY', '-ZY', '-ZZ', '+ZZ']\n"
     ]
    }
   ],
   "source": [
    "from numpy.random import shuffle\n",
    "from qiskit.quantum_info.operators import StabilizerTable\n",
    "\n",
    "# 2-qubit labels\n",
    "labels = ['+II', '+IX', '+IY', '+IZ', '+XI', '+XX', '+XY', '+XZ',\n",
    "          '+YI', '+YX', '+YY', '+YZ', '+ZI', '+ZX', '+ZY', '+ZZ',\n",
    "          '-II', '-IX', '-IY', '-IZ', '-XI', '-XX', '-XY', '-XZ',\n",
    "          '-YI', '-YX', '-YY', '-YZ', '-ZI', '-ZX', '-ZY', '-ZZ']\n",
    "# Shuffle Labels\n",
    "shuffle(labels)\n",
    "st = StabilizerTable.from_labels(labels)\n",
    "print('Initial Ordering')\n",
    "print(st)\n",
    "\n",
    "# Lexicographic Ordering\n",
    "srt = st.sort()\n",
    "print('Lexicographically sorted')\n",
    "print(srt)\n",
    "\n",
    "# Weight Ordering\n",
    "srt = st.sort(weight=True)\n",
    "print('Weight sorted')\n",
    "print(srt)"
   ]
  },
  {
   "cell_type": "code",
   "execution_count": 5,
   "id": "8dc7945a",
   "metadata": {
    "execution": {
     "iopub.execute_input": "2021-04-07T07:08:27.194590Z",
     "iopub.status.busy": "2021-04-07T07:08:27.193686Z",
     "iopub.status.idle": "2021-04-07T07:08:27.196618Z",
     "shell.execute_reply": "2021-04-07T07:08:27.196180Z"
    }
   },
   "outputs": [
    {
     "name": "stdout",
     "output_type": "stream",
     "text": [
      "StabilizerTable: ['-IY', '+IZ', '+XY', '-XZ']\n"
     ]
    }
   ],
   "source": [
    "from qiskit.quantum_info.operators import StabilizerTable\n",
    "\n",
    "current = StabilizerTable.from_labels(['+I', '-X'])\n",
    "other =  StabilizerTable.from_labels(['-Y', '+Z'])\n",
    "print(current.tensor(other))"
   ]
  },
  {
   "cell_type": "code",
   "execution_count": 6,
   "id": "80799793",
   "metadata": {
    "execution": {
     "iopub.execute_input": "2021-04-07T07:08:27.202681Z",
     "iopub.status.busy": "2021-04-07T07:08:27.201506Z",
     "iopub.status.idle": "2021-04-07T07:08:27.204535Z",
     "shell.execute_reply": "2021-04-07T07:08:27.204055Z"
    }
   },
   "outputs": [
    {
     "name": "stdout",
     "output_type": "stream",
     "text": [
      "StabilizerTable: ['+X', '+I', '-I', '-X']\n"
     ]
    }
   ],
   "source": [
    "from qiskit.quantum_info.operators import StabilizerTable\n",
    "\n",
    "st = StabilizerTable.from_labels(['+X', '+I', '-I', '-X', '+X', '-X', '+I'])\n",
    "unique = st.unique()\n",
    "print(unique)"
   ]
  }
 ],
 "metadata": {
  "kernelspec": {
   "display_name": "Python 3",
   "language": "python",
   "name": "python3"
  },
  "language_info": {
   "codemirror_mode": {
    "name": "ipython",
    "version": 3
   },
   "file_extension": ".py",
   "mimetype": "text/x-python",
   "name": "python",
   "nbconvert_exporter": "python",
   "pygments_lexer": "ipython3",
   "version": "3.8.8"
  }
 },
 "nbformat": 4,
 "nbformat_minor": 5
}