{
 "cells": [
  {
   "cell_type": "code",
   "execution_count": 1,
   "id": "d6c50251",
   "metadata": {
    "execution": {
     "iopub.execute_input": "2021-05-20T13:36:49.926737Z",
     "iopub.status.busy": "2021-05-20T13:36:49.926086Z",
     "iopub.status.idle": "2021-05-20T13:36:50.667782Z",
     "shell.execute_reply": "2021-05-20T13:36:50.668226Z"
    }
   },
   "outputs": [
    {
     "name": "stdout",
     "output_type": "stream",
     "text": [
      "StabilizerTable: ['+X', '-Z', '-I', '-Y']\n"
     ]
    }
   ],
   "source": [
    "from qiskit.quantum_info.operators import StabilizerTable\n",
    "\n",
    "current = StabilizerTable.from_labels(['+I', '-X'])\n",
    "other =  StabilizerTable.from_labels(['+X', '-Z'])\n",
    "print(current.compose(other))"
   ]
  },
  {
   "cell_type": "code",
   "execution_count": 2,
   "id": "e11c7618",
   "metadata": {
    "execution": {
     "iopub.execute_input": "2021-05-20T13:36:50.675549Z",
     "iopub.status.busy": "2021-05-20T13:36:50.674019Z",
     "iopub.status.idle": "2021-05-20T13:36:50.677624Z",
     "shell.execute_reply": "2021-05-20T13:36:50.676970Z"
    }
   },
   "outputs": [
    {
     "name": "stdout",
     "output_type": "stream",
     "text": [
      "StabilizerTable: ['+X', '-Z', '-I', '+Y']\n"
     ]
    }
   ],
   "source": [
    "from qiskit.quantum_info.operators import StabilizerTable\n",
    "\n",
    "current = StabilizerTable.from_labels(['+I', '-X'])\n",
    "other =  StabilizerTable.from_labels(['+X', '-Z'])\n",
    "print(current.dot(other))"
   ]
  },
  {
   "cell_type": "code",
   "execution_count": 3,
   "id": "eaab5a86",
   "metadata": {
    "execution": {
     "iopub.execute_input": "2021-05-20T13:36:50.684174Z",
     "iopub.status.busy": "2021-05-20T13:36:50.682603Z",
     "iopub.status.idle": "2021-05-20T13:36:50.686437Z",
     "shell.execute_reply": "2021-05-20T13:36:50.685893Z"
    }
   },
   "outputs": [
    {
     "name": "stdout",
     "output_type": "stream",
     "text": [
      "StabilizerTable: ['-YI', '+YX', '+ZI', '-ZX']\n"
     ]
    }
   ],
   "source": [
    "from qiskit.quantum_info.operators import StabilizerTable\n",
    "\n",
    "current = StabilizerTable.from_labels(['+I', '-X'])\n",
    "other =  StabilizerTable.from_labels(['-Y', '+Z'])\n",
    "print(current.expand(other))"
   ]
  },
  {
   "cell_type": "code",
   "execution_count": 4,
   "id": "cfe6278f",
   "metadata": {
    "execution": {
     "iopub.execute_input": "2021-05-20T13:36:50.695414Z",
     "iopub.status.busy": "2021-05-20T13:36:50.692880Z",
     "iopub.status.idle": "2021-05-20T13:36:50.697966Z",
     "shell.execute_reply": "2021-05-20T13:36:50.698443Z"
    }
   },
   "outputs": [
    {
     "name": "stdout",
     "output_type": "stream",
     "text": [
      "Initial Ordering\n",
      "StabilizerTable: ['+ZY', '-II', '-IX', '-ZZ', '-IY', '-YZ', '-XZ', '+ZI', '+XY', '+YI', '+XI', '-ZI', '+ZX', '-YX', '+IY', '-ZX', '+II', '+YX', '+IX', '+YZ', '-ZY', '-XX', '+XZ', '-IZ', '-XI', '+YY', '-XY', '+ZZ', '+XX', '+IZ', '-YI', '-YY']\n",
      "Lexicographically sorted\n",
      "StabilizerTable: ['-II', '+II', '-IX', '+IX', '-IY', '+IY', '-IZ', '+IZ', '+XI', '-XI', '-XX', '+XX', '+XY', '-XY', '-XZ', '+XZ', '+YI', '-YI', '-YX', '+YX', '+YY', '-YY', '-YZ', '+YZ', '+ZI', '-ZI', '+ZX', '-ZX', '+ZY', '-ZY', '-ZZ', '+ZZ']\n",
      "Weight sorted\n",
      "StabilizerTable: ['-II', '+II', '-IX', '+IX', '-IY', '+IY', '-IZ', '+IZ', '+XI', '-XI', '+YI', '-YI', '+ZI', '-ZI', '-XX', '+XX', '+XY', '-XY', '-XZ', '+XZ', '-YX', '+YX', '+YY', '-YY', '-YZ', '+YZ', '+ZX', '-ZX', '+ZY', '-ZY', '-ZZ', '+ZZ']\n"
     ]
    }
   ],
   "source": [
    "from numpy.random import shuffle\n",
    "from qiskit.quantum_info.operators import StabilizerTable\n",
    "\n",
    "# 2-qubit labels\n",
    "labels = ['+II', '+IX', '+IY', '+IZ', '+XI', '+XX', '+XY', '+XZ',\n",
    "          '+YI', '+YX', '+YY', '+YZ', '+ZI', '+ZX', '+ZY', '+ZZ',\n",
    "          '-II', '-IX', '-IY', '-IZ', '-XI', '-XX', '-XY', '-XZ',\n",
    "          '-YI', '-YX', '-YY', '-YZ', '-ZI', '-ZX', '-ZY', '-ZZ']\n",
    "# Shuffle Labels\n",
    "shuffle(labels)\n",
    "st = StabilizerTable.from_labels(labels)\n",
    "print('Initial Ordering')\n",
    "print(st)\n",
    "\n",
    "# Lexicographic Ordering\n",
    "srt = st.sort()\n",
    "print('Lexicographically sorted')\n",
    "print(srt)\n",
    "\n",
    "# Weight Ordering\n",
    "srt = st.sort(weight=True)\n",
    "print('Weight sorted')\n",
    "print(srt)"
   ]
  },
  {
   "cell_type": "code",
   "execution_count": 5,
   "id": "9ee44995",
   "metadata": {
    "execution": {
     "iopub.execute_input": "2021-05-20T13:36:50.705234Z",
     "iopub.status.busy": "2021-05-20T13:36:50.703575Z",
     "iopub.status.idle": "2021-05-20T13:36:50.707354Z",
     "shell.execute_reply": "2021-05-20T13:36:50.706814Z"
    }
   },
   "outputs": [
    {
     "name": "stdout",
     "output_type": "stream",
     "text": [
      "StabilizerTable: ['-IY', '+IZ', '+XY', '-XZ']\n"
     ]
    }
   ],
   "source": [
    "from qiskit.quantum_info.operators import StabilizerTable\n",
    "\n",
    "current = StabilizerTable.from_labels(['+I', '-X'])\n",
    "other =  StabilizerTable.from_labels(['-Y', '+Z'])\n",
    "print(current.tensor(other))"
   ]
  },
  {
   "cell_type": "code",
   "execution_count": 6,
   "id": "55de7495",
   "metadata": {
    "execution": {
     "iopub.execute_input": "2021-05-20T13:36:50.713920Z",
     "iopub.status.busy": "2021-05-20T13:36:50.712473Z",
     "iopub.status.idle": "2021-05-20T13:36:50.715946Z",
     "shell.execute_reply": "2021-05-20T13:36:50.715416Z"
    }
   },
   "outputs": [
    {
     "name": "stdout",
     "output_type": "stream",
     "text": [
      "StabilizerTable: ['+X', '+I', '-I', '-X']\n"
     ]
    }
   ],
   "source": [
    "from qiskit.quantum_info.operators import StabilizerTable\n",
    "\n",
    "st = StabilizerTable.from_labels(['+X', '+I', '-I', '-X', '+X', '-X', '+I'])\n",
    "unique = st.unique()\n",
    "print(unique)"
   ]
  }
 ],
 "metadata": {
  "kernelspec": {
   "display_name": "Python 3",
   "language": "python",
   "name": "python3"
  },
  "language_info": {
   "codemirror_mode": {
    "name": "ipython",
    "version": 3
   },
   "file_extension": ".py",
   "mimetype": "text/x-python",
   "name": "python",
   "nbconvert_exporter": "python",
   "pygments_lexer": "ipython3",
   "version": "3.8.10"
  }
 },
 "nbformat": 4,
 "nbformat_minor": 5
}