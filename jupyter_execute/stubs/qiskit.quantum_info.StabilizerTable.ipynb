{
 "cells": [
  {
   "cell_type": "code",
   "execution_count": 1,
   "id": "6a95b88f",
   "metadata": {
    "execution": {
     "iopub.execute_input": "2021-04-22T18:03:06.361163Z",
     "iopub.status.busy": "2021-04-22T18:03:06.360616Z",
     "iopub.status.idle": "2021-04-22T18:03:06.984470Z",
     "shell.execute_reply": "2021-04-22T18:03:06.985055Z"
    }
   },
   "outputs": [
    {
     "name": "stdout",
     "output_type": "stream",
     "text": [
      "StabilizerTable: ['+X', '-Z', '-I', '-Y']\n"
     ]
    }
   ],
   "source": [
    "from qiskit.quantum_info.operators import StabilizerTable\n",
    "\n",
    "current = StabilizerTable.from_labels(['+I', '-X'])\n",
    "other =  StabilizerTable.from_labels(['+X', '-Z'])\n",
    "print(current.compose(other))"
   ]
  },
  {
   "cell_type": "code",
   "execution_count": 2,
   "id": "b45d9319",
   "metadata": {
    "execution": {
     "iopub.execute_input": "2021-04-22T18:03:06.991026Z",
     "iopub.status.busy": "2021-04-22T18:03:06.989637Z",
     "iopub.status.idle": "2021-04-22T18:03:06.993019Z",
     "shell.execute_reply": "2021-04-22T18:03:06.992304Z"
    }
   },
   "outputs": [
    {
     "name": "stdout",
     "output_type": "stream",
     "text": [
      "StabilizerTable: ['+X', '-Z', '-I', '+Y']\n"
     ]
    }
   ],
   "source": [
    "from qiskit.quantum_info.operators import StabilizerTable\n",
    "\n",
    "current = StabilizerTable.from_labels(['+I', '-X'])\n",
    "other =  StabilizerTable.from_labels(['+X', '-Z'])\n",
    "print(current.dot(other))"
   ]
  },
  {
   "cell_type": "code",
   "execution_count": 3,
   "id": "6c6ef3d5",
   "metadata": {
    "execution": {
     "iopub.execute_input": "2021-04-22T18:03:06.998468Z",
     "iopub.status.busy": "2021-04-22T18:03:06.997334Z",
     "iopub.status.idle": "2021-04-22T18:03:07.000180Z",
     "shell.execute_reply": "2021-04-22T18:03:06.999702Z"
    }
   },
   "outputs": [
    {
     "name": "stdout",
     "output_type": "stream",
     "text": [
      "StabilizerTable: ['-YI', '+YX', '+ZI', '-ZX']\n"
     ]
    }
   ],
   "source": [
    "from qiskit.quantum_info.operators import StabilizerTable\n",
    "\n",
    "current = StabilizerTable.from_labels(['+I', '-X'])\n",
    "other =  StabilizerTable.from_labels(['-Y', '+Z'])\n",
    "print(current.expand(other))"
   ]
  },
  {
   "cell_type": "code",
   "execution_count": 4,
   "id": "f261b9b5",
   "metadata": {
    "execution": {
     "iopub.execute_input": "2021-04-22T18:03:07.008421Z",
     "iopub.status.busy": "2021-04-22T18:03:07.007807Z",
     "iopub.status.idle": "2021-04-22T18:03:07.010616Z",
     "shell.execute_reply": "2021-04-22T18:03:07.011070Z"
    }
   },
   "outputs": [
    {
     "name": "stdout",
     "output_type": "stream",
     "text": [
      "Initial Ordering\n",
      "StabilizerTable: ['+XY', '-II', '-ZI', '+ZX', '-YI', '+ZZ', '+YX', '+YI', '-IX', '+ZI', '+IX', '-ZZ', '-YY', '+IY', '-YX', '-XX', '+XZ', '+ZY', '+II', '-ZX', '-IZ', '-YZ', '+XI', '+YZ', '-ZY', '-XI', '+XX', '-IY', '-XY', '+YY', '+IZ', '-XZ']\n",
      "Lexicographically sorted\n",
      "StabilizerTable: ['-II', '+II', '-IX', '+IX', '+IY', '-IY', '-IZ', '+IZ', '+XI', '-XI', '-XX', '+XX', '+XY', '-XY', '+XZ', '-XZ', '-YI', '+YI', '+YX', '-YX', '-YY', '+YY', '-YZ', '+YZ', '-ZI', '+ZI', '+ZX', '-ZX', '+ZY', '-ZY', '+ZZ', '-ZZ']\n",
      "Weight sorted\n",
      "StabilizerTable: ['-II', '+II', '-IX', '+IX', '+IY', '-IY', '-IZ', '+IZ', '+XI', '-XI', '-YI', '+YI', '-ZI', '+ZI', '-XX', '+XX', '+XY', '-XY', '+XZ', '-XZ', '+YX', '-YX', '-YY', '+YY', '-YZ', '+YZ', '+ZX', '-ZX', '+ZY', '-ZY', '+ZZ', '-ZZ']\n"
     ]
    }
   ],
   "source": [
    "from numpy.random import shuffle\n",
    "from qiskit.quantum_info.operators import StabilizerTable\n",
    "\n",
    "# 2-qubit labels\n",
    "labels = ['+II', '+IX', '+IY', '+IZ', '+XI', '+XX', '+XY', '+XZ',\n",
    "          '+YI', '+YX', '+YY', '+YZ', '+ZI', '+ZX', '+ZY', '+ZZ',\n",
    "          '-II', '-IX', '-IY', '-IZ', '-XI', '-XX', '-XY', '-XZ',\n",
    "          '-YI', '-YX', '-YY', '-YZ', '-ZI', '-ZX', '-ZY', '-ZZ']\n",
    "# Shuffle Labels\n",
    "shuffle(labels)\n",
    "st = StabilizerTable.from_labels(labels)\n",
    "print('Initial Ordering')\n",
    "print(st)\n",
    "\n",
    "# Lexicographic Ordering\n",
    "srt = st.sort()\n",
    "print('Lexicographically sorted')\n",
    "print(srt)\n",
    "\n",
    "# Weight Ordering\n",
    "srt = st.sort(weight=True)\n",
    "print('Weight sorted')\n",
    "print(srt)"
   ]
  },
  {
   "cell_type": "code",
   "execution_count": 5,
   "id": "e5d68c52",
   "metadata": {
    "execution": {
     "iopub.execute_input": "2021-04-22T18:03:07.016824Z",
     "iopub.status.busy": "2021-04-22T18:03:07.015501Z",
     "iopub.status.idle": "2021-04-22T18:03:07.018599Z",
     "shell.execute_reply": "2021-04-22T18:03:07.018134Z"
    }
   },
   "outputs": [
    {
     "name": "stdout",
     "output_type": "stream",
     "text": [
      "StabilizerTable: ['-IY', '+IZ', '+XY', '-XZ']\n"
     ]
    }
   ],
   "source": [
    "from qiskit.quantum_info.operators import StabilizerTable\n",
    "\n",
    "current = StabilizerTable.from_labels(['+I', '-X'])\n",
    "other =  StabilizerTable.from_labels(['-Y', '+Z'])\n",
    "print(current.tensor(other))"
   ]
  },
  {
   "cell_type": "code",
   "execution_count": 6,
   "id": "cfc359b0",
   "metadata": {
    "execution": {
     "iopub.execute_input": "2021-04-22T18:03:07.024860Z",
     "iopub.status.busy": "2021-04-22T18:03:07.023671Z",
     "iopub.status.idle": "2021-04-22T18:03:07.026565Z",
     "shell.execute_reply": "2021-04-22T18:03:07.026107Z"
    }
   },
   "outputs": [
    {
     "name": "stdout",
     "output_type": "stream",
     "text": [
      "StabilizerTable: ['+X', '+I', '-I', '-X']\n"
     ]
    }
   ],
   "source": [
    "from qiskit.quantum_info.operators import StabilizerTable\n",
    "\n",
    "st = StabilizerTable.from_labels(['+X', '+I', '-I', '-X', '+X', '-X', '+I'])\n",
    "unique = st.unique()\n",
    "print(unique)"
   ]
  }
 ],
 "metadata": {
  "kernelspec": {
   "display_name": "Python 3",
   "language": "python",
   "name": "python3"
  },
  "language_info": {
   "codemirror_mode": {
    "name": "ipython",
    "version": 3
   },
   "file_extension": ".py",
   "mimetype": "text/x-python",
   "name": "python",
   "nbconvert_exporter": "python",
   "pygments_lexer": "ipython3",
   "version": "3.8.9"
  }
 },
 "nbformat": 4,
 "nbformat_minor": 5
}