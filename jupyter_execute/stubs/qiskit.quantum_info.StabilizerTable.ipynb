{
 "cells": [
  {
   "cell_type": "code",
   "execution_count": 1,
   "id": "65d1c88d",
   "metadata": {
    "execution": {
     "iopub.execute_input": "2021-05-19T14:34:20.275124Z",
     "iopub.status.busy": "2021-05-19T14:34:20.274477Z",
     "iopub.status.idle": "2021-05-19T14:34:21.065925Z",
     "shell.execute_reply": "2021-05-19T14:34:21.066452Z"
    }
   },
   "outputs": [
    {
     "name": "stdout",
     "output_type": "stream",
     "text": [
      "StabilizerTable: ['+X', '-Z', '-I', '-Y']\n"
     ]
    }
   ],
   "source": [
    "from qiskit.quantum_info.operators import StabilizerTable\n",
    "\n",
    "current = StabilizerTable.from_labels(['+I', '-X'])\n",
    "other =  StabilizerTable.from_labels(['+X', '-Z'])\n",
    "print(current.compose(other))"
   ]
  },
  {
   "cell_type": "code",
   "execution_count": 2,
   "id": "9df1dfa4",
   "metadata": {
    "execution": {
     "iopub.execute_input": "2021-05-19T14:34:21.073495Z",
     "iopub.status.busy": "2021-05-19T14:34:21.072073Z",
     "iopub.status.idle": "2021-05-19T14:34:21.075568Z",
     "shell.execute_reply": "2021-05-19T14:34:21.075025Z"
    }
   },
   "outputs": [
    {
     "name": "stdout",
     "output_type": "stream",
     "text": [
      "StabilizerTable: ['+X', '-Z', '-I', '+Y']\n"
     ]
    }
   ],
   "source": [
    "from qiskit.quantum_info.operators import StabilizerTable\n",
    "\n",
    "current = StabilizerTable.from_labels(['+I', '-X'])\n",
    "other =  StabilizerTable.from_labels(['+X', '-Z'])\n",
    "print(current.dot(other))"
   ]
  },
  {
   "cell_type": "code",
   "execution_count": 3,
   "id": "e091918b",
   "metadata": {
    "execution": {
     "iopub.execute_input": "2021-05-19T14:34:21.082046Z",
     "iopub.status.busy": "2021-05-19T14:34:21.080611Z",
     "iopub.status.idle": "2021-05-19T14:34:21.084279Z",
     "shell.execute_reply": "2021-05-19T14:34:21.083695Z"
    }
   },
   "outputs": [
    {
     "name": "stdout",
     "output_type": "stream",
     "text": [
      "StabilizerTable: ['-YI', '+YX', '+ZI', '-ZX']\n"
     ]
    }
   ],
   "source": [
    "from qiskit.quantum_info.operators import StabilizerTable\n",
    "\n",
    "current = StabilizerTable.from_labels(['+I', '-X'])\n",
    "other =  StabilizerTable.from_labels(['-Y', '+Z'])\n",
    "print(current.expand(other))"
   ]
  },
  {
   "cell_type": "code",
   "execution_count": 4,
   "id": "398f3db3",
   "metadata": {
    "execution": {
     "iopub.execute_input": "2021-05-19T14:34:21.093809Z",
     "iopub.status.busy": "2021-05-19T14:34:21.091084Z",
     "iopub.status.idle": "2021-05-19T14:34:21.096218Z",
     "shell.execute_reply": "2021-05-19T14:34:21.096725Z"
    }
   },
   "outputs": [
    {
     "name": "stdout",
     "output_type": "stream",
     "text": [
      "Initial Ordering\n",
      "StabilizerTable: ['-XX', '-IY', '-ZY', '+ZI', '-ZI', '+YY', '-ZX', '+XX', '-XZ', '-XI', '-II', '+YI', '+IX', '-IZ', '-YX', '-ZZ', '+YZ', '-IX', '+IY', '-YY', '+IZ', '-YI', '+YX', '+XI', '-YZ', '+ZY', '+XY', '-XY', '+ZZ', '+ZX', '+XZ', '+II']\n",
      "Lexicographically sorted\n",
      "StabilizerTable: ['-II', '+II', '+IX', '-IX', '-IY', '+IY', '-IZ', '+IZ', '-XI', '+XI', '-XX', '+XX', '+XY', '-XY', '-XZ', '+XZ', '+YI', '-YI', '-YX', '+YX', '+YY', '-YY', '+YZ', '-YZ', '+ZI', '-ZI', '-ZX', '+ZX', '-ZY', '+ZY', '-ZZ', '+ZZ']\n",
      "Weight sorted\n",
      "StabilizerTable: ['-II', '+II', '+IX', '-IX', '-IY', '+IY', '-IZ', '+IZ', '-XI', '+XI', '+YI', '-YI', '+ZI', '-ZI', '-XX', '+XX', '+XY', '-XY', '-XZ', '+XZ', '-YX', '+YX', '+YY', '-YY', '+YZ', '-YZ', '-ZX', '+ZX', '-ZY', '+ZY', '-ZZ', '+ZZ']\n"
     ]
    }
   ],
   "source": [
    "from numpy.random import shuffle\n",
    "from qiskit.quantum_info.operators import StabilizerTable\n",
    "\n",
    "# 2-qubit labels\n",
    "labels = ['+II', '+IX', '+IY', '+IZ', '+XI', '+XX', '+XY', '+XZ',\n",
    "          '+YI', '+YX', '+YY', '+YZ', '+ZI', '+ZX', '+ZY', '+ZZ',\n",
    "          '-II', '-IX', '-IY', '-IZ', '-XI', '-XX', '-XY', '-XZ',\n",
    "          '-YI', '-YX', '-YY', '-YZ', '-ZI', '-ZX', '-ZY', '-ZZ']\n",
    "# Shuffle Labels\n",
    "shuffle(labels)\n",
    "st = StabilizerTable.from_labels(labels)\n",
    "print('Initial Ordering')\n",
    "print(st)\n",
    "\n",
    "# Lexicographic Ordering\n",
    "srt = st.sort()\n",
    "print('Lexicographically sorted')\n",
    "print(srt)\n",
    "\n",
    "# Weight Ordering\n",
    "srt = st.sort(weight=True)\n",
    "print('Weight sorted')\n",
    "print(srt)"
   ]
  },
  {
   "cell_type": "code",
   "execution_count": 5,
   "id": "584f7e88",
   "metadata": {
    "execution": {
     "iopub.execute_input": "2021-05-19T14:34:21.103029Z",
     "iopub.status.busy": "2021-05-19T14:34:21.101939Z",
     "iopub.status.idle": "2021-05-19T14:34:21.108193Z",
     "shell.execute_reply": "2021-05-19T14:34:21.107614Z"
    }
   },
   "outputs": [
    {
     "name": "stdout",
     "output_type": "stream",
     "text": [
      "StabilizerTable: ['-IY', '+IZ', '+XY', '-XZ']\n"
     ]
    }
   ],
   "source": [
    "from qiskit.quantum_info.operators import StabilizerTable\n",
    "\n",
    "current = StabilizerTable.from_labels(['+I', '-X'])\n",
    "other =  StabilizerTable.from_labels(['-Y', '+Z'])\n",
    "print(current.tensor(other))"
   ]
  },
  {
   "cell_type": "code",
   "execution_count": 6,
   "id": "47ca589e",
   "metadata": {
    "execution": {
     "iopub.execute_input": "2021-05-19T14:34:21.115127Z",
     "iopub.status.busy": "2021-05-19T14:34:21.113560Z",
     "iopub.status.idle": "2021-05-19T14:34:21.117133Z",
     "shell.execute_reply": "2021-05-19T14:34:21.116585Z"
    }
   },
   "outputs": [
    {
     "name": "stdout",
     "output_type": "stream",
     "text": [
      "StabilizerTable: ['+X', '+I', '-I', '-X']\n"
     ]
    }
   ],
   "source": [
    "from qiskit.quantum_info.operators import StabilizerTable\n",
    "\n",
    "st = StabilizerTable.from_labels(['+X', '+I', '-I', '-X', '+X', '-X', '+I'])\n",
    "unique = st.unique()\n",
    "print(unique)"
   ]
  }
 ],
 "metadata": {
  "kernelspec": {
   "display_name": "Python 3",
   "language": "python",
   "name": "python3"
  },
  "language_info": {
   "codemirror_mode": {
    "name": "ipython",
    "version": 3
   },
   "file_extension": ".py",
   "mimetype": "text/x-python",
   "name": "python",
   "nbconvert_exporter": "python",
   "pygments_lexer": "ipython3",
   "version": "3.8.10"
  }
 },
 "nbformat": 4,
 "nbformat_minor": 5
}