{
 "cells": [
  {
   "cell_type": "code",
   "execution_count": 1,
   "id": "6684a0af",
   "metadata": {
    "execution": {
     "iopub.execute_input": "2021-04-20T15:31:52.659060Z",
     "iopub.status.busy": "2021-04-20T15:31:52.658484Z",
     "iopub.status.idle": "2021-04-20T15:31:53.438797Z",
     "shell.execute_reply": "2021-04-20T15:31:53.438034Z"
    }
   },
   "outputs": [
    {
     "name": "stdout",
     "output_type": "stream",
     "text": [
      "StabilizerTable: ['+X', '-Z', '-I', '-Y']\n"
     ]
    }
   ],
   "source": [
    "from qiskit.quantum_info.operators import StabilizerTable\n",
    "\n",
    "current = StabilizerTable.from_labels(['+I', '-X'])\n",
    "other =  StabilizerTable.from_labels(['+X', '-Z'])\n",
    "print(current.compose(other))"
   ]
  },
  {
   "cell_type": "code",
   "execution_count": 2,
   "id": "04e47071",
   "metadata": {
    "execution": {
     "iopub.execute_input": "2021-04-20T15:31:53.446262Z",
     "iopub.status.busy": "2021-04-20T15:31:53.444596Z",
     "iopub.status.idle": "2021-04-20T15:31:53.448190Z",
     "shell.execute_reply": "2021-04-20T15:31:53.447643Z"
    }
   },
   "outputs": [
    {
     "name": "stdout",
     "output_type": "stream",
     "text": [
      "StabilizerTable: ['+X', '-Z', '-I', '+Y']\n"
     ]
    }
   ],
   "source": [
    "from qiskit.quantum_info.operators import StabilizerTable\n",
    "\n",
    "current = StabilizerTable.from_labels(['+I', '-X'])\n",
    "other =  StabilizerTable.from_labels(['+X', '-Z'])\n",
    "print(current.dot(other))"
   ]
  },
  {
   "cell_type": "code",
   "execution_count": 3,
   "id": "ec8c932f",
   "metadata": {
    "execution": {
     "iopub.execute_input": "2021-04-20T15:31:53.455059Z",
     "iopub.status.busy": "2021-04-20T15:31:53.453439Z",
     "iopub.status.idle": "2021-04-20T15:31:53.456937Z",
     "shell.execute_reply": "2021-04-20T15:31:53.456419Z"
    }
   },
   "outputs": [
    {
     "name": "stdout",
     "output_type": "stream",
     "text": [
      "StabilizerTable: ['-YI', '+YX', '+ZI', '-ZX']\n"
     ]
    }
   ],
   "source": [
    "from qiskit.quantum_info.operators import StabilizerTable\n",
    "\n",
    "current = StabilizerTable.from_labels(['+I', '-X'])\n",
    "other =  StabilizerTable.from_labels(['-Y', '+Z'])\n",
    "print(current.expand(other))"
   ]
  },
  {
   "cell_type": "code",
   "execution_count": 4,
   "id": "720b1713",
   "metadata": {
    "execution": {
     "iopub.execute_input": "2021-04-20T15:31:53.468396Z",
     "iopub.status.busy": "2021-04-20T15:31:53.466707Z",
     "iopub.status.idle": "2021-04-20T15:31:53.470407Z",
     "shell.execute_reply": "2021-04-20T15:31:53.469870Z"
    }
   },
   "outputs": [
    {
     "name": "stdout",
     "output_type": "stream",
     "text": [
      "Initial Ordering\n",
      "StabilizerTable: ['+XY', '-ZI', '+XZ', '+YZ', '+ZI', '+IZ', '+XI', '-XX', '+IX', '+YY', '-XY', '-IX', '-YI', '-ZX', '+ZZ', '-XI', '-ZZ', '-II', '+II', '-YX', '+YI', '-IZ', '+ZY', '+YX', '+IY', '-IY', '+ZX', '-YZ', '-YY', '-XZ', '-ZY', '+XX']\n",
      "Lexicographically sorted\n",
      "StabilizerTable: ['-II', '+II', '+IX', '-IX', '+IY', '-IY', '+IZ', '-IZ', '+XI', '-XI', '-XX', '+XX', '+XY', '-XY', '+XZ', '-XZ', '-YI', '+YI', '-YX', '+YX', '+YY', '-YY', '+YZ', '-YZ', '-ZI', '+ZI', '-ZX', '+ZX', '+ZY', '-ZY', '+ZZ', '-ZZ']\n",
      "Weight sorted\n",
      "StabilizerTable: ['-II', '+II', '+IX', '-IX', '+IY', '-IY', '+IZ', '-IZ', '+XI', '-XI', '-YI', '+YI', '-ZI', '+ZI', '-XX', '+XX', '+XY', '-XY', '+XZ', '-XZ', '-YX', '+YX', '+YY', '-YY', '+YZ', '-YZ', '-ZX', '+ZX', '+ZY', '-ZY', '+ZZ', '-ZZ']\n"
     ]
    }
   ],
   "source": [
    "from numpy.random import shuffle\n",
    "from qiskit.quantum_info.operators import StabilizerTable\n",
    "\n",
    "# 2-qubit labels\n",
    "labels = ['+II', '+IX', '+IY', '+IZ', '+XI', '+XX', '+XY', '+XZ',\n",
    "          '+YI', '+YX', '+YY', '+YZ', '+ZI', '+ZX', '+ZY', '+ZZ',\n",
    "          '-II', '-IX', '-IY', '-IZ', '-XI', '-XX', '-XY', '-XZ',\n",
    "          '-YI', '-YX', '-YY', '-YZ', '-ZI', '-ZX', '-ZY', '-ZZ']\n",
    "# Shuffle Labels\n",
    "shuffle(labels)\n",
    "st = StabilizerTable.from_labels(labels)\n",
    "print('Initial Ordering')\n",
    "print(st)\n",
    "\n",
    "# Lexicographic Ordering\n",
    "srt = st.sort()\n",
    "print('Lexicographically sorted')\n",
    "print(srt)\n",
    "\n",
    "# Weight Ordering\n",
    "srt = st.sort(weight=True)\n",
    "print('Weight sorted')\n",
    "print(srt)"
   ]
  },
  {
   "cell_type": "code",
   "execution_count": 5,
   "id": "3b686d3a",
   "metadata": {
    "execution": {
     "iopub.execute_input": "2021-04-20T15:31:53.477281Z",
     "iopub.status.busy": "2021-04-20T15:31:53.475452Z",
     "iopub.status.idle": "2021-04-20T15:31:53.479153Z",
     "shell.execute_reply": "2021-04-20T15:31:53.477900Z"
    }
   },
   "outputs": [
    {
     "name": "stdout",
     "output_type": "stream",
     "text": [
      "StabilizerTable: ['-IY', '+IZ', '+XY', '-XZ']\n"
     ]
    }
   ],
   "source": [
    "from qiskit.quantum_info.operators import StabilizerTable\n",
    "\n",
    "current = StabilizerTable.from_labels(['+I', '-X'])\n",
    "other =  StabilizerTable.from_labels(['-Y', '+Z'])\n",
    "print(current.tensor(other))"
   ]
  },
  {
   "cell_type": "code",
   "execution_count": 6,
   "id": "574cc165",
   "metadata": {
    "execution": {
     "iopub.execute_input": "2021-04-20T15:31:53.486500Z",
     "iopub.status.busy": "2021-04-20T15:31:53.484820Z",
     "iopub.status.idle": "2021-04-20T15:31:53.488584Z",
     "shell.execute_reply": "2021-04-20T15:31:53.488020Z"
    }
   },
   "outputs": [
    {
     "name": "stdout",
     "output_type": "stream",
     "text": [
      "StabilizerTable: ['+X', '+I', '-I', '-X']\n"
     ]
    }
   ],
   "source": [
    "from qiskit.quantum_info.operators import StabilizerTable\n",
    "\n",
    "st = StabilizerTable.from_labels(['+X', '+I', '-I', '-X', '+X', '-X', '+I'])\n",
    "unique = st.unique()\n",
    "print(unique)"
   ]
  }
 ],
 "metadata": {
  "kernelspec": {
   "display_name": "Python 3",
   "language": "python",
   "name": "python3"
  },
  "language_info": {
   "codemirror_mode": {
    "name": "ipython",
    "version": 3
   },
   "file_extension": ".py",
   "mimetype": "text/x-python",
   "name": "python",
   "nbconvert_exporter": "python",
   "pygments_lexer": "ipython3",
   "version": "3.8.9"
  }
 },
 "nbformat": 4,
 "nbformat_minor": 5
}