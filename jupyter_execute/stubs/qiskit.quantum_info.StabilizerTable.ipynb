{
 "cells": [
  {
   "cell_type": "code",
   "execution_count": 1,
   "id": "6d5a731b",
   "metadata": {
    "execution": {
     "iopub.execute_input": "2021-04-27T23:44:24.060136Z",
     "iopub.status.busy": "2021-04-27T23:44:24.059547Z",
     "iopub.status.idle": "2021-04-27T23:44:24.831428Z",
     "shell.execute_reply": "2021-04-27T23:44:24.830726Z"
    }
   },
   "outputs": [
    {
     "name": "stdout",
     "output_type": "stream",
     "text": [
      "StabilizerTable: ['+X', '-Z', '-I', '-Y']\n"
     ]
    }
   ],
   "source": [
    "from qiskit.quantum_info.operators import StabilizerTable\n",
    "\n",
    "current = StabilizerTable.from_labels(['+I', '-X'])\n",
    "other =  StabilizerTable.from_labels(['+X', '-Z'])\n",
    "print(current.compose(other))"
   ]
  },
  {
   "cell_type": "code",
   "execution_count": 2,
   "id": "1126d006",
   "metadata": {
    "execution": {
     "iopub.execute_input": "2021-04-27T23:44:24.839250Z",
     "iopub.status.busy": "2021-04-27T23:44:24.837061Z",
     "iopub.status.idle": "2021-04-27T23:44:24.843790Z",
     "shell.execute_reply": "2021-04-27T23:44:24.843295Z"
    }
   },
   "outputs": [
    {
     "name": "stdout",
     "output_type": "stream",
     "text": [
      "StabilizerTable: ['+X', '-Z', '-I', '+Y']\n"
     ]
    }
   ],
   "source": [
    "from qiskit.quantum_info.operators import StabilizerTable\n",
    "\n",
    "current = StabilizerTable.from_labels(['+I', '-X'])\n",
    "other =  StabilizerTable.from_labels(['+X', '-Z'])\n",
    "print(current.dot(other))"
   ]
  },
  {
   "cell_type": "code",
   "execution_count": 3,
   "id": "6bd33bf9",
   "metadata": {
    "execution": {
     "iopub.execute_input": "2021-04-27T23:44:24.850522Z",
     "iopub.status.busy": "2021-04-27T23:44:24.849018Z",
     "iopub.status.idle": "2021-04-27T23:44:24.852272Z",
     "shell.execute_reply": "2021-04-27T23:44:24.851788Z"
    }
   },
   "outputs": [
    {
     "name": "stdout",
     "output_type": "stream",
     "text": [
      "StabilizerTable: ['-YI', '+YX', '+ZI', '-ZX']\n"
     ]
    }
   ],
   "source": [
    "from qiskit.quantum_info.operators import StabilizerTable\n",
    "\n",
    "current = StabilizerTable.from_labels(['+I', '-X'])\n",
    "other =  StabilizerTable.from_labels(['-Y', '+Z'])\n",
    "print(current.expand(other))"
   ]
  },
  {
   "cell_type": "code",
   "execution_count": 4,
   "id": "72a4d1c5",
   "metadata": {
    "execution": {
     "iopub.execute_input": "2021-04-27T23:44:24.865433Z",
     "iopub.status.busy": "2021-04-27T23:44:24.858659Z",
     "iopub.status.idle": "2021-04-27T23:44:24.871202Z",
     "shell.execute_reply": "2021-04-27T23:44:24.871692Z"
    }
   },
   "outputs": [
    {
     "name": "stdout",
     "output_type": "stream",
     "text": [
      "Initial Ordering\n",
      "StabilizerTable: ['-XZ', '-IY', '-XI', '+IY', '+ZX', '-YY', '+XZ', '-ZI', '+ZZ', '-ZZ', '-IZ', '+IZ', '+YX', '+ZY', '-II', '+ZI', '+IX', '-YI', '+XX', '+II', '-YZ', '-ZY', '-ZX', '+XI', '-XX', '+YY', '-XY', '-IX', '-YX', '+YI', '+YZ', '+XY']\n",
      "Lexicographically sorted\n",
      "StabilizerTable: ['-II', '+II', '+IX', '-IX', '-IY', '+IY', '-IZ', '+IZ', '-XI', '+XI', '+XX', '-XX', '-XY', '+XY', '-XZ', '+XZ', '-YI', '+YI', '+YX', '-YX', '-YY', '+YY', '-YZ', '+YZ', '-ZI', '+ZI', '+ZX', '-ZX', '+ZY', '-ZY', '+ZZ', '-ZZ']\n",
      "Weight sorted\n",
      "StabilizerTable: ['-II', '+II', '+IX', '-IX', '-IY', '+IY', '-IZ', '+IZ', '-XI', '+XI', '-YI', '+YI', '-ZI', '+ZI', '+XX', '-XX', '-XY', '+XY', '-XZ', '+XZ', '+YX', '-YX', '-YY', '+YY', '-YZ', '+YZ', '+ZX', '-ZX', '+ZY', '-ZY', '+ZZ', '-ZZ']\n"
     ]
    }
   ],
   "source": [
    "from numpy.random import shuffle\n",
    "from qiskit.quantum_info.operators import StabilizerTable\n",
    "\n",
    "# 2-qubit labels\n",
    "labels = ['+II', '+IX', '+IY', '+IZ', '+XI', '+XX', '+XY', '+XZ',\n",
    "          '+YI', '+YX', '+YY', '+YZ', '+ZI', '+ZX', '+ZY', '+ZZ',\n",
    "          '-II', '-IX', '-IY', '-IZ', '-XI', '-XX', '-XY', '-XZ',\n",
    "          '-YI', '-YX', '-YY', '-YZ', '-ZI', '-ZX', '-ZY', '-ZZ']\n",
    "# Shuffle Labels\n",
    "shuffle(labels)\n",
    "st = StabilizerTable.from_labels(labels)\n",
    "print('Initial Ordering')\n",
    "print(st)\n",
    "\n",
    "# Lexicographic Ordering\n",
    "srt = st.sort()\n",
    "print('Lexicographically sorted')\n",
    "print(srt)\n",
    "\n",
    "# Weight Ordering\n",
    "srt = st.sort(weight=True)\n",
    "print('Weight sorted')\n",
    "print(srt)"
   ]
  },
  {
   "cell_type": "code",
   "execution_count": 5,
   "id": "badb8657",
   "metadata": {
    "execution": {
     "iopub.execute_input": "2021-04-27T23:44:24.878725Z",
     "iopub.status.busy": "2021-04-27T23:44:24.878004Z",
     "iopub.status.idle": "2021-04-27T23:44:24.882040Z",
     "shell.execute_reply": "2021-04-27T23:44:24.882694Z"
    }
   },
   "outputs": [
    {
     "name": "stdout",
     "output_type": "stream",
     "text": [
      "StabilizerTable: ['-IY', '+IZ', '+XY', '-XZ']\n"
     ]
    }
   ],
   "source": [
    "from qiskit.quantum_info.operators import StabilizerTable\n",
    "\n",
    "current = StabilizerTable.from_labels(['+I', '-X'])\n",
    "other =  StabilizerTable.from_labels(['-Y', '+Z'])\n",
    "print(current.tensor(other))"
   ]
  },
  {
   "cell_type": "code",
   "execution_count": 6,
   "id": "3343b57d",
   "metadata": {
    "execution": {
     "iopub.execute_input": "2021-04-27T23:44:24.891205Z",
     "iopub.status.busy": "2021-04-27T23:44:24.890569Z",
     "iopub.status.idle": "2021-04-27T23:44:24.893576Z",
     "shell.execute_reply": "2021-04-27T23:44:24.894077Z"
    }
   },
   "outputs": [
    {
     "name": "stdout",
     "output_type": "stream",
     "text": [
      "StabilizerTable: ['+X', '+I', '-I', '-X']\n"
     ]
    }
   ],
   "source": [
    "from qiskit.quantum_info.operators import StabilizerTable\n",
    "\n",
    "st = StabilizerTable.from_labels(['+X', '+I', '-I', '-X', '+X', '-X', '+I'])\n",
    "unique = st.unique()\n",
    "print(unique)"
   ]
  }
 ],
 "metadata": {
  "kernelspec": {
   "display_name": "Python 3",
   "language": "python",
   "name": "python3"
  },
  "language_info": {
   "codemirror_mode": {
    "name": "ipython",
    "version": 3
   },
   "file_extension": ".py",
   "mimetype": "text/x-python",
   "name": "python",
   "nbconvert_exporter": "python",
   "pygments_lexer": "ipython3",
   "version": "3.8.9"
  }
 },
 "nbformat": 4,
 "nbformat_minor": 5
}