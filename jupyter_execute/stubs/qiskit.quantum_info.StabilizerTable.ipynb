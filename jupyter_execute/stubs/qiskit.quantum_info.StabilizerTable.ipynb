{
 "cells": [
  {
   "cell_type": "code",
   "execution_count": 1,
   "id": "6816a2a2",
   "metadata": {
    "execution": {
     "iopub.execute_input": "2021-06-19T15:32:51.394115Z",
     "iopub.status.busy": "2021-06-19T15:32:51.393595Z",
     "iopub.status.idle": "2021-06-19T15:32:52.064659Z",
     "shell.execute_reply": "2021-06-19T15:32:52.065111Z"
    }
   },
   "outputs": [
    {
     "name": "stdout",
     "output_type": "stream",
     "text": [
      "StabilizerTable: ['+X', '-Z', '-I', '-Y']\n"
     ]
    }
   ],
   "source": [
    "from qiskit.quantum_info.operators import StabilizerTable\n",
    "\n",
    "current = StabilizerTable.from_labels(['+I', '-X'])\n",
    "other =  StabilizerTable.from_labels(['+X', '-Z'])\n",
    "print(current.compose(other))"
   ]
  },
  {
   "cell_type": "code",
   "execution_count": 2,
   "id": "e8b728e2",
   "metadata": {
    "execution": {
     "iopub.execute_input": "2021-06-19T15:32:52.070581Z",
     "iopub.status.busy": "2021-06-19T15:32:52.070033Z",
     "iopub.status.idle": "2021-06-19T15:32:52.073752Z",
     "shell.execute_reply": "2021-06-19T15:32:52.073302Z"
    }
   },
   "outputs": [
    {
     "name": "stdout",
     "output_type": "stream",
     "text": [
      "StabilizerTable: ['+X', '-Z', '-I', '+Y']\n"
     ]
    }
   ],
   "source": [
    "from qiskit.quantum_info.operators import StabilizerTable\n",
    "\n",
    "current = StabilizerTable.from_labels(['+I', '-X'])\n",
    "other =  StabilizerTable.from_labels(['+X', '-Z'])\n",
    "print(current.dot(other))"
   ]
  },
  {
   "cell_type": "code",
   "execution_count": 3,
   "id": "a1976803",
   "metadata": {
    "execution": {
     "iopub.execute_input": "2021-06-19T15:32:52.079760Z",
     "iopub.status.busy": "2021-06-19T15:32:52.078447Z",
     "iopub.status.idle": "2021-06-19T15:32:52.081608Z",
     "shell.execute_reply": "2021-06-19T15:32:52.081134Z"
    }
   },
   "outputs": [
    {
     "name": "stdout",
     "output_type": "stream",
     "text": [
      "StabilizerTable: ['-YI', '+YX', '+ZI', '-ZX']\n"
     ]
    }
   ],
   "source": [
    "from qiskit.quantum_info.operators import StabilizerTable\n",
    "\n",
    "current = StabilizerTable.from_labels(['+I', '-X'])\n",
    "other =  StabilizerTable.from_labels(['-Y', '+Z'])\n",
    "print(current.expand(other))"
   ]
  },
  {
   "cell_type": "code",
   "execution_count": 4,
   "id": "3d24e0b8",
   "metadata": {
    "execution": {
     "iopub.execute_input": "2021-06-19T15:32:52.089625Z",
     "iopub.status.busy": "2021-06-19T15:32:52.087688Z",
     "iopub.status.idle": "2021-06-19T15:32:52.091750Z",
     "shell.execute_reply": "2021-06-19T15:32:52.092193Z"
    }
   },
   "outputs": [
    {
     "name": "stdout",
     "output_type": "stream",
     "text": [
      "Initial Ordering\n",
      "StabilizerTable: ['+ZX', '+YZ', '+YI', '+ZY', '-YX', '+ZZ', '-ZX', '+ZI', '-XX', '+XZ', '+XI', '+XY', '-XZ', '+II', '-ZY', '-ZI', '+IY', '-IY', '+YY', '-YI', '+IX', '+IZ', '+YX', '-XY', '-II', '+XX', '-YY', '-IX', '-YZ', '-ZZ', '-IZ', '-XI']\n",
      "Lexicographically sorted\n",
      "StabilizerTable: ['+II', '-II', '+IX', '-IX', '+IY', '-IY', '+IZ', '-IZ', '+XI', '-XI', '-XX', '+XX', '+XY', '-XY', '+XZ', '-XZ', '+YI', '-YI', '-YX', '+YX', '+YY', '-YY', '+YZ', '-YZ', '+ZI', '-ZI', '+ZX', '-ZX', '+ZY', '-ZY', '+ZZ', '-ZZ']\n",
      "Weight sorted\n",
      "StabilizerTable: ['+II', '-II', '+IX', '-IX', '+IY', '-IY', '+IZ', '-IZ', '+XI', '-XI', '+YI', '-YI', '+ZI', '-ZI', '-XX', '+XX', '+XY', '-XY', '+XZ', '-XZ', '-YX', '+YX', '+YY', '-YY', '+YZ', '-YZ', '+ZX', '-ZX', '+ZY', '-ZY', '+ZZ', '-ZZ']\n"
     ]
    }
   ],
   "source": [
    "from numpy.random import shuffle\n",
    "from qiskit.quantum_info.operators import StabilizerTable\n",
    "\n",
    "# 2-qubit labels\n",
    "labels = ['+II', '+IX', '+IY', '+IZ', '+XI', '+XX', '+XY', '+XZ',\n",
    "          '+YI', '+YX', '+YY', '+YZ', '+ZI', '+ZX', '+ZY', '+ZZ',\n",
    "          '-II', '-IX', '-IY', '-IZ', '-XI', '-XX', '-XY', '-XZ',\n",
    "          '-YI', '-YX', '-YY', '-YZ', '-ZI', '-ZX', '-ZY', '-ZZ']\n",
    "# Shuffle Labels\n",
    "shuffle(labels)\n",
    "st = StabilizerTable.from_labels(labels)\n",
    "print('Initial Ordering')\n",
    "print(st)\n",
    "\n",
    "# Lexicographic Ordering\n",
    "srt = st.sort()\n",
    "print('Lexicographically sorted')\n",
    "print(srt)\n",
    "\n",
    "# Weight Ordering\n",
    "srt = st.sort(weight=True)\n",
    "print('Weight sorted')\n",
    "print(srt)"
   ]
  },
  {
   "cell_type": "code",
   "execution_count": 5,
   "id": "ad22bcb1",
   "metadata": {
    "execution": {
     "iopub.execute_input": "2021-06-19T15:32:52.098023Z",
     "iopub.status.busy": "2021-06-19T15:32:52.096820Z",
     "iopub.status.idle": "2021-06-19T15:32:52.099829Z",
     "shell.execute_reply": "2021-06-19T15:32:52.099353Z"
    }
   },
   "outputs": [
    {
     "name": "stdout",
     "output_type": "stream",
     "text": [
      "StabilizerTable: ['-IY', '+IZ', '+XY', '-XZ']\n"
     ]
    }
   ],
   "source": [
    "from qiskit.quantum_info.operators import StabilizerTable\n",
    "\n",
    "current = StabilizerTable.from_labels(['+I', '-X'])\n",
    "other =  StabilizerTable.from_labels(['-Y', '+Z'])\n",
    "print(current.tensor(other))"
   ]
  },
  {
   "cell_type": "code",
   "execution_count": 6,
   "id": "328a1615",
   "metadata": {
    "execution": {
     "iopub.execute_input": "2021-06-19T15:32:52.105727Z",
     "iopub.status.busy": "2021-06-19T15:32:52.104452Z",
     "iopub.status.idle": "2021-06-19T15:32:52.107504Z",
     "shell.execute_reply": "2021-06-19T15:32:52.107030Z"
    }
   },
   "outputs": [
    {
     "name": "stdout",
     "output_type": "stream",
     "text": [
      "StabilizerTable: ['+X', '+I', '-I', '-X']\n"
     ]
    }
   ],
   "source": [
    "from qiskit.quantum_info.operators import StabilizerTable\n",
    "\n",
    "st = StabilizerTable.from_labels(['+X', '+I', '-I', '-X', '+X', '-X', '+I'])\n",
    "unique = st.unique()\n",
    "print(unique)"
   ]
  }
 ],
 "metadata": {
  "kernelspec": {
   "display_name": "Python 3",
   "language": "python",
   "name": "python3"
  },
  "language_info": {
   "codemirror_mode": {
    "name": "ipython",
    "version": 3
   },
   "file_extension": ".py",
   "mimetype": "text/x-python",
   "name": "python",
   "nbconvert_exporter": "python",
   "pygments_lexer": "ipython3",
   "version": "3.8.10"
  }
 },
 "nbformat": 4,
 "nbformat_minor": 5
}