{
 "cells": [
  {
   "cell_type": "code",
   "execution_count": 1,
   "id": "af4fa027",
   "metadata": {
    "execution": {
     "iopub.execute_input": "2021-04-22T21:37:00.216969Z",
     "iopub.status.busy": "2021-04-22T21:37:00.216467Z",
     "iopub.status.idle": "2021-04-22T21:37:00.864951Z",
     "shell.execute_reply": "2021-04-22T21:37:00.863875Z"
    }
   },
   "outputs": [
    {
     "name": "stdout",
     "output_type": "stream",
     "text": [
      "StabilizerTable: ['+X', '-Z', '-I', '-Y']\n"
     ]
    }
   ],
   "source": [
    "from qiskit.quantum_info.operators import StabilizerTable\n",
    "\n",
    "current = StabilizerTable.from_labels(['+I', '-X'])\n",
    "other =  StabilizerTable.from_labels(['+X', '-Z'])\n",
    "print(current.compose(other))"
   ]
  },
  {
   "cell_type": "code",
   "execution_count": 2,
   "id": "75d3cee5",
   "metadata": {
    "execution": {
     "iopub.execute_input": "2021-04-22T21:37:00.869795Z",
     "iopub.status.busy": "2021-04-22T21:37:00.869045Z",
     "iopub.status.idle": "2021-04-22T21:37:00.873707Z",
     "shell.execute_reply": "2021-04-22T21:37:00.872986Z"
    }
   },
   "outputs": [
    {
     "name": "stdout",
     "output_type": "stream",
     "text": [
      "StabilizerTable: ['+X', '-Z', '-I', '+Y']\n"
     ]
    }
   ],
   "source": [
    "from qiskit.quantum_info.operators import StabilizerTable\n",
    "\n",
    "current = StabilizerTable.from_labels(['+I', '-X'])\n",
    "other =  StabilizerTable.from_labels(['+X', '-Z'])\n",
    "print(current.dot(other))"
   ]
  },
  {
   "cell_type": "code",
   "execution_count": 3,
   "id": "989589c3",
   "metadata": {
    "execution": {
     "iopub.execute_input": "2021-04-22T21:37:00.878767Z",
     "iopub.status.busy": "2021-04-22T21:37:00.878213Z",
     "iopub.status.idle": "2021-04-22T21:37:00.882988Z",
     "shell.execute_reply": "2021-04-22T21:37:00.882504Z"
    }
   },
   "outputs": [
    {
     "name": "stdout",
     "output_type": "stream",
     "text": [
      "StabilizerTable: ['-YI', '+YX', '+ZI', '-ZX']\n"
     ]
    }
   ],
   "source": [
    "from qiskit.quantum_info.operators import StabilizerTable\n",
    "\n",
    "current = StabilizerTable.from_labels(['+I', '-X'])\n",
    "other =  StabilizerTable.from_labels(['-Y', '+Z'])\n",
    "print(current.expand(other))"
   ]
  },
  {
   "cell_type": "code",
   "execution_count": 4,
   "id": "81a31df7",
   "metadata": {
    "execution": {
     "iopub.execute_input": "2021-04-22T21:37:00.890949Z",
     "iopub.status.busy": "2021-04-22T21:37:00.889325Z",
     "iopub.status.idle": "2021-04-22T21:37:00.895317Z",
     "shell.execute_reply": "2021-04-22T21:37:00.894888Z"
    }
   },
   "outputs": [
    {
     "name": "stdout",
     "output_type": "stream",
     "text": [
      "Initial Ordering\n",
      "StabilizerTable: ['+IX', '-XY', '-YY', '-YX', '-IZ', '+ZY', '+ZZ', '+IZ', '-ZZ', '+ZX', '+II', '-ZY', '+XZ', '-IY', '+YY', '+XY', '+XI', '-XZ', '+IY', '+ZI', '-XI', '+YI', '-YZ', '-II', '-YI', '-IX', '-ZX', '+YZ', '-ZI', '-XX', '+XX', '+YX']\n",
      "Lexicographically sorted\n",
      "StabilizerTable: ['+II', '-II', '+IX', '-IX', '-IY', '+IY', '-IZ', '+IZ', '+XI', '-XI', '-XX', '+XX', '-XY', '+XY', '+XZ', '-XZ', '+YI', '-YI', '-YX', '+YX', '-YY', '+YY', '-YZ', '+YZ', '+ZI', '-ZI', '+ZX', '-ZX', '+ZY', '-ZY', '+ZZ', '-ZZ']\n",
      "Weight sorted\n",
      "StabilizerTable: ['+II', '-II', '+IX', '-IX', '-IY', '+IY', '-IZ', '+IZ', '+XI', '-XI', '+YI', '-YI', '+ZI', '-ZI', '-XX', '+XX', '-XY', '+XY', '+XZ', '-XZ', '-YX', '+YX', '-YY', '+YY', '-YZ', '+YZ', '+ZX', '-ZX', '+ZY', '-ZY', '+ZZ', '-ZZ']\n"
     ]
    }
   ],
   "source": [
    "from numpy.random import shuffle\n",
    "from qiskit.quantum_info.operators import StabilizerTable\n",
    "\n",
    "# 2-qubit labels\n",
    "labels = ['+II', '+IX', '+IY', '+IZ', '+XI', '+XX', '+XY', '+XZ',\n",
    "          '+YI', '+YX', '+YY', '+YZ', '+ZI', '+ZX', '+ZY', '+ZZ',\n",
    "          '-II', '-IX', '-IY', '-IZ', '-XI', '-XX', '-XY', '-XZ',\n",
    "          '-YI', '-YX', '-YY', '-YZ', '-ZI', '-ZX', '-ZY', '-ZZ']\n",
    "# Shuffle Labels\n",
    "shuffle(labels)\n",
    "st = StabilizerTable.from_labels(labels)\n",
    "print('Initial Ordering')\n",
    "print(st)\n",
    "\n",
    "# Lexicographic Ordering\n",
    "srt = st.sort()\n",
    "print('Lexicographically sorted')\n",
    "print(srt)\n",
    "\n",
    "# Weight Ordering\n",
    "srt = st.sort(weight=True)\n",
    "print('Weight sorted')\n",
    "print(srt)"
   ]
  },
  {
   "cell_type": "code",
   "execution_count": 5,
   "id": "6afa5e40",
   "metadata": {
    "execution": {
     "iopub.execute_input": "2021-04-22T21:37:00.900586Z",
     "iopub.status.busy": "2021-04-22T21:37:00.899967Z",
     "iopub.status.idle": "2021-04-22T21:37:00.904801Z",
     "shell.execute_reply": "2021-04-22T21:37:00.904363Z"
    }
   },
   "outputs": [
    {
     "name": "stdout",
     "output_type": "stream",
     "text": [
      "StabilizerTable: ['-IY', '+IZ', '+XY', '-XZ']\n"
     ]
    }
   ],
   "source": [
    "from qiskit.quantum_info.operators import StabilizerTable\n",
    "\n",
    "current = StabilizerTable.from_labels(['+I', '-X'])\n",
    "other =  StabilizerTable.from_labels(['-Y', '+Z'])\n",
    "print(current.tensor(other))"
   ]
  },
  {
   "cell_type": "code",
   "execution_count": 6,
   "id": "7d27198a",
   "metadata": {
    "execution": {
     "iopub.execute_input": "2021-04-22T21:37:00.909918Z",
     "iopub.status.busy": "2021-04-22T21:37:00.909426Z",
     "iopub.status.idle": "2021-04-22T21:37:00.913160Z",
     "shell.execute_reply": "2021-04-22T21:37:00.913666Z"
    }
   },
   "outputs": [
    {
     "name": "stdout",
     "output_type": "stream",
     "text": [
      "StabilizerTable: ['+X', '+I', '-I', '-X']\n"
     ]
    }
   ],
   "source": [
    "from qiskit.quantum_info.operators import StabilizerTable\n",
    "\n",
    "st = StabilizerTable.from_labels(['+X', '+I', '-I', '-X', '+X', '-X', '+I'])\n",
    "unique = st.unique()\n",
    "print(unique)"
   ]
  }
 ],
 "metadata": {
  "kernelspec": {
   "display_name": "Python 3",
   "language": "python",
   "name": "python3"
  },
  "language_info": {
   "codemirror_mode": {
    "name": "ipython",
    "version": 3
   },
   "file_extension": ".py",
   "mimetype": "text/x-python",
   "name": "python",
   "nbconvert_exporter": "python",
   "pygments_lexer": "ipython3",
   "version": "3.8.9"
  }
 },
 "nbformat": 4,
 "nbformat_minor": 5
}