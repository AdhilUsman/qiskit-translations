{
 "cells": [
  {
   "cell_type": "code",
   "execution_count": 1,
   "id": "b9216091",
   "metadata": {
    "execution": {
     "iopub.execute_input": "2021-06-19T18:25:37.963408Z",
     "iopub.status.busy": "2021-06-19T18:25:37.962577Z",
     "iopub.status.idle": "2021-06-19T18:25:38.621951Z",
     "shell.execute_reply": "2021-06-19T18:25:38.621399Z"
    }
   },
   "outputs": [
    {
     "name": "stdout",
     "output_type": "stream",
     "text": [
      "StabilizerTable: ['+X', '-Z', '-I', '-Y']\n"
     ]
    }
   ],
   "source": [
    "from qiskit.quantum_info.operators import StabilizerTable\n",
    "\n",
    "current = StabilizerTable.from_labels(['+I', '-X'])\n",
    "other =  StabilizerTable.from_labels(['+X', '-Z'])\n",
    "print(current.compose(other))"
   ]
  },
  {
   "cell_type": "code",
   "execution_count": 2,
   "id": "895ee653",
   "metadata": {
    "execution": {
     "iopub.execute_input": "2021-06-19T18:25:38.627015Z",
     "iopub.status.busy": "2021-06-19T18:25:38.626005Z",
     "iopub.status.idle": "2021-06-19T18:25:38.629917Z",
     "shell.execute_reply": "2021-06-19T18:25:38.630322Z"
    }
   },
   "outputs": [
    {
     "name": "stdout",
     "output_type": "stream",
     "text": [
      "StabilizerTable: ['+X', '-Z', '-I', '+Y']\n"
     ]
    }
   ],
   "source": [
    "from qiskit.quantum_info.operators import StabilizerTable\n",
    "\n",
    "current = StabilizerTable.from_labels(['+I', '-X'])\n",
    "other =  StabilizerTable.from_labels(['+X', '-Z'])\n",
    "print(current.dot(other))"
   ]
  },
  {
   "cell_type": "code",
   "execution_count": 3,
   "id": "a308c0b0",
   "metadata": {
    "execution": {
     "iopub.execute_input": "2021-06-19T18:25:38.636025Z",
     "iopub.status.busy": "2021-06-19T18:25:38.634708Z",
     "iopub.status.idle": "2021-06-19T18:25:38.637892Z",
     "shell.execute_reply": "2021-06-19T18:25:38.637425Z"
    }
   },
   "outputs": [
    {
     "name": "stdout",
     "output_type": "stream",
     "text": [
      "StabilizerTable: ['-YI', '+YX', '+ZI', '-ZX']\n"
     ]
    }
   ],
   "source": [
    "from qiskit.quantum_info.operators import StabilizerTable\n",
    "\n",
    "current = StabilizerTable.from_labels(['+I', '-X'])\n",
    "other =  StabilizerTable.from_labels(['-Y', '+Z'])\n",
    "print(current.expand(other))"
   ]
  },
  {
   "cell_type": "code",
   "execution_count": 4,
   "id": "dbf5810a",
   "metadata": {
    "execution": {
     "iopub.execute_input": "2021-06-19T18:25:38.643344Z",
     "iopub.status.busy": "2021-06-19T18:25:38.642617Z",
     "iopub.status.idle": "2021-06-19T18:25:38.648494Z",
     "shell.execute_reply": "2021-06-19T18:25:38.648930Z"
    }
   },
   "outputs": [
    {
     "name": "stdout",
     "output_type": "stream",
     "text": [
      "Initial Ordering\n",
      "StabilizerTable: ['+II', '-YZ', '+ZX', '+XI', '+YI', '+ZY', '-YY', '-IY', '-II', '-ZX', '+IY', '-YI', '-ZI', '+YX', '-XZ', '+XZ', '-XY', '-XX', '+YZ', '+XY', '+YY', '-ZZ', '-YX', '-IX', '+XX', '+IX', '-IZ', '-ZY', '+ZZ', '+IZ', '-XI', '+ZI']\n",
      "Lexicographically sorted\n",
      "StabilizerTable: ['+II', '-II', '-IX', '+IX', '-IY', '+IY', '-IZ', '+IZ', '+XI', '-XI', '-XX', '+XX', '-XY', '+XY', '-XZ', '+XZ', '+YI', '-YI', '+YX', '-YX', '-YY', '+YY', '-YZ', '+YZ', '-ZI', '+ZI', '+ZX', '-ZX', '+ZY', '-ZY', '-ZZ', '+ZZ']\n",
      "Weight sorted\n",
      "StabilizerTable: ['+II', '-II', '-IX', '+IX', '-IY', '+IY', '-IZ', '+IZ', '+XI', '-XI', '+YI', '-YI', '-ZI', '+ZI', '-XX', '+XX', '-XY', '+XY', '-XZ', '+XZ', '+YX', '-YX', '-YY', '+YY', '-YZ', '+YZ', '+ZX', '-ZX', '+ZY', '-ZY', '-ZZ', '+ZZ']\n"
     ]
    }
   ],
   "source": [
    "from numpy.random import shuffle\n",
    "from qiskit.quantum_info.operators import StabilizerTable\n",
    "\n",
    "# 2-qubit labels\n",
    "labels = ['+II', '+IX', '+IY', '+IZ', '+XI', '+XX', '+XY', '+XZ',\n",
    "          '+YI', '+YX', '+YY', '+YZ', '+ZI', '+ZX', '+ZY', '+ZZ',\n",
    "          '-II', '-IX', '-IY', '-IZ', '-XI', '-XX', '-XY', '-XZ',\n",
    "          '-YI', '-YX', '-YY', '-YZ', '-ZI', '-ZX', '-ZY', '-ZZ']\n",
    "# Shuffle Labels\n",
    "shuffle(labels)\n",
    "st = StabilizerTable.from_labels(labels)\n",
    "print('Initial Ordering')\n",
    "print(st)\n",
    "\n",
    "# Lexicographic Ordering\n",
    "srt = st.sort()\n",
    "print('Lexicographically sorted')\n",
    "print(srt)\n",
    "\n",
    "# Weight Ordering\n",
    "srt = st.sort(weight=True)\n",
    "print('Weight sorted')\n",
    "print(srt)"
   ]
  },
  {
   "cell_type": "code",
   "execution_count": 5,
   "id": "651f2e28",
   "metadata": {
    "execution": {
     "iopub.execute_input": "2021-06-19T18:25:38.654440Z",
     "iopub.status.busy": "2021-06-19T18:25:38.653101Z",
     "iopub.status.idle": "2021-06-19T18:25:38.656123Z",
     "shell.execute_reply": "2021-06-19T18:25:38.655658Z"
    }
   },
   "outputs": [
    {
     "name": "stdout",
     "output_type": "stream",
     "text": [
      "StabilizerTable: ['-IY', '+IZ', '+XY', '-XZ']\n"
     ]
    }
   ],
   "source": [
    "from qiskit.quantum_info.operators import StabilizerTable\n",
    "\n",
    "current = StabilizerTable.from_labels(['+I', '-X'])\n",
    "other =  StabilizerTable.from_labels(['-Y', '+Z'])\n",
    "print(current.tensor(other))"
   ]
  },
  {
   "cell_type": "code",
   "execution_count": 6,
   "id": "63298390",
   "metadata": {
    "execution": {
     "iopub.execute_input": "2021-06-19T18:25:38.661691Z",
     "iopub.status.busy": "2021-06-19T18:25:38.660473Z",
     "iopub.status.idle": "2021-06-19T18:25:38.663544Z",
     "shell.execute_reply": "2021-06-19T18:25:38.663082Z"
    }
   },
   "outputs": [
    {
     "name": "stdout",
     "output_type": "stream",
     "text": [
      "StabilizerTable: ['+X', '+I', '-I', '-X']\n"
     ]
    }
   ],
   "source": [
    "from qiskit.quantum_info.operators import StabilizerTable\n",
    "\n",
    "st = StabilizerTable.from_labels(['+X', '+I', '-I', '-X', '+X', '-X', '+I'])\n",
    "unique = st.unique()\n",
    "print(unique)"
   ]
  }
 ],
 "metadata": {
  "kernelspec": {
   "display_name": "Python 3",
   "language": "python",
   "name": "python3"
  },
  "language_info": {
   "codemirror_mode": {
    "name": "ipython",
    "version": 3
   },
   "file_extension": ".py",
   "mimetype": "text/x-python",
   "name": "python",
   "nbconvert_exporter": "python",
   "pygments_lexer": "ipython3",
   "version": "3.8.10"
  }
 },
 "nbformat": 4,
 "nbformat_minor": 5
}