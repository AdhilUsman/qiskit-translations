{
 "cells": [
  {
   "cell_type": "code",
   "execution_count": 1,
   "id": "72b8f680",
   "metadata": {
    "execution": {
     "iopub.execute_input": "2021-06-19T17:52:27.302845Z",
     "iopub.status.busy": "2021-06-19T17:52:27.302205Z",
     "iopub.status.idle": "2021-06-19T17:52:28.116682Z",
     "shell.execute_reply": "2021-06-19T17:52:28.115960Z"
    }
   },
   "outputs": [
    {
     "name": "stdout",
     "output_type": "stream",
     "text": [
      "StabilizerTable: ['+X', '-Z', '-I', '-Y']\n"
     ]
    }
   ],
   "source": [
    "from qiskit.quantum_info.operators import StabilizerTable\n",
    "\n",
    "current = StabilizerTable.from_labels(['+I', '-X'])\n",
    "other =  StabilizerTable.from_labels(['+X', '-Z'])\n",
    "print(current.compose(other))"
   ]
  },
  {
   "cell_type": "code",
   "execution_count": 2,
   "id": "f5b93a37",
   "metadata": {
    "execution": {
     "iopub.execute_input": "2021-06-19T17:52:28.123316Z",
     "iopub.status.busy": "2021-06-19T17:52:28.122689Z",
     "iopub.status.idle": "2021-06-19T17:52:28.125877Z",
     "shell.execute_reply": "2021-06-19T17:52:28.126415Z"
    }
   },
   "outputs": [
    {
     "name": "stdout",
     "output_type": "stream",
     "text": [
      "StabilizerTable: ['+X', '-Z', '-I', '+Y']\n"
     ]
    }
   ],
   "source": [
    "from qiskit.quantum_info.operators import StabilizerTable\n",
    "\n",
    "current = StabilizerTable.from_labels(['+I', '-X'])\n",
    "other =  StabilizerTable.from_labels(['+X', '-Z'])\n",
    "print(current.dot(other))"
   ]
  },
  {
   "cell_type": "code",
   "execution_count": 3,
   "id": "973ccb38",
   "metadata": {
    "execution": {
     "iopub.execute_input": "2021-06-19T17:52:28.132703Z",
     "iopub.status.busy": "2021-06-19T17:52:28.131333Z",
     "iopub.status.idle": "2021-06-19T17:52:28.134943Z",
     "shell.execute_reply": "2021-06-19T17:52:28.134322Z"
    }
   },
   "outputs": [
    {
     "name": "stdout",
     "output_type": "stream",
     "text": [
      "StabilizerTable: ['-YI', '+YX', '+ZI', '-ZX']\n"
     ]
    }
   ],
   "source": [
    "from qiskit.quantum_info.operators import StabilizerTable\n",
    "\n",
    "current = StabilizerTable.from_labels(['+I', '-X'])\n",
    "other =  StabilizerTable.from_labels(['-Y', '+Z'])\n",
    "print(current.expand(other))"
   ]
  },
  {
   "cell_type": "code",
   "execution_count": 4,
   "id": "257d61c7",
   "metadata": {
    "execution": {
     "iopub.execute_input": "2021-06-19T17:52:28.143464Z",
     "iopub.status.busy": "2021-06-19T17:52:28.140636Z",
     "iopub.status.idle": "2021-06-19T17:52:28.147089Z",
     "shell.execute_reply": "2021-06-19T17:52:28.146613Z"
    }
   },
   "outputs": [
    {
     "name": "stdout",
     "output_type": "stream",
     "text": [
      "Initial Ordering\n",
      "StabilizerTable: ['+IX', '-YY', '-XY', '+XX', '+XY', '-IY', '+ZX', '+ZZ', '-IX', '-YX', '+IY', '-ZY', '-ZI', '+YX', '-YI', '-YZ', '-ZZ', '+YI', '+XZ', '+ZI', '+IZ', '-XZ', '+YZ', '+II', '-XX', '+ZY', '+XI', '+YY', '-ZX', '-XI', '-II', '-IZ']\n",
      "Lexicographically sorted\n",
      "StabilizerTable: ['+II', '-II', '+IX', '-IX', '-IY', '+IY', '+IZ', '-IZ', '+XI', '-XI', '+XX', '-XX', '-XY', '+XY', '+XZ', '-XZ', '-YI', '+YI', '-YX', '+YX', '-YY', '+YY', '-YZ', '+YZ', '-ZI', '+ZI', '+ZX', '-ZX', '-ZY', '+ZY', '+ZZ', '-ZZ']\n",
      "Weight sorted\n",
      "StabilizerTable: ['+II', '-II', '+IX', '-IX', '-IY', '+IY', '+IZ', '-IZ', '+XI', '-XI', '-YI', '+YI', '-ZI', '+ZI', '+XX', '-XX', '-XY', '+XY', '+XZ', '-XZ', '-YX', '+YX', '-YY', '+YY', '-YZ', '+YZ', '+ZX', '-ZX', '-ZY', '+ZY', '+ZZ', '-ZZ']\n"
     ]
    }
   ],
   "source": [
    "from numpy.random import shuffle\n",
    "from qiskit.quantum_info.operators import StabilizerTable\n",
    "\n",
    "# 2-qubit labels\n",
    "labels = ['+II', '+IX', '+IY', '+IZ', '+XI', '+XX', '+XY', '+XZ',\n",
    "          '+YI', '+YX', '+YY', '+YZ', '+ZI', '+ZX', '+ZY', '+ZZ',\n",
    "          '-II', '-IX', '-IY', '-IZ', '-XI', '-XX', '-XY', '-XZ',\n",
    "          '-YI', '-YX', '-YY', '-YZ', '-ZI', '-ZX', '-ZY', '-ZZ']\n",
    "# Shuffle Labels\n",
    "shuffle(labels)\n",
    "st = StabilizerTable.from_labels(labels)\n",
    "print('Initial Ordering')\n",
    "print(st)\n",
    "\n",
    "# Lexicographic Ordering\n",
    "srt = st.sort()\n",
    "print('Lexicographically sorted')\n",
    "print(srt)\n",
    "\n",
    "# Weight Ordering\n",
    "srt = st.sort(weight=True)\n",
    "print('Weight sorted')\n",
    "print(srt)"
   ]
  },
  {
   "cell_type": "code",
   "execution_count": 5,
   "id": "ffd017a3",
   "metadata": {
    "execution": {
     "iopub.execute_input": "2021-06-19T17:52:28.154061Z",
     "iopub.status.busy": "2021-06-19T17:52:28.153404Z",
     "iopub.status.idle": "2021-06-19T17:52:28.157143Z",
     "shell.execute_reply": "2021-06-19T17:52:28.154626Z"
    }
   },
   "outputs": [
    {
     "name": "stdout",
     "output_type": "stream",
     "text": [
      "StabilizerTable: ['-IY', '+IZ', '+XY', '-XZ']\n"
     ]
    }
   ],
   "source": [
    "from qiskit.quantum_info.operators import StabilizerTable\n",
    "\n",
    "current = StabilizerTable.from_labels(['+I', '-X'])\n",
    "other =  StabilizerTable.from_labels(['-Y', '+Z'])\n",
    "print(current.tensor(other))"
   ]
  },
  {
   "cell_type": "code",
   "execution_count": 6,
   "id": "89ec2f4b",
   "metadata": {
    "execution": {
     "iopub.execute_input": "2021-06-19T17:52:28.164427Z",
     "iopub.status.busy": "2021-06-19T17:52:28.162919Z",
     "iopub.status.idle": "2021-06-19T17:52:28.166740Z",
     "shell.execute_reply": "2021-06-19T17:52:28.166112Z"
    }
   },
   "outputs": [
    {
     "name": "stdout",
     "output_type": "stream",
     "text": [
      "StabilizerTable: ['+X', '+I', '-I', '-X']\n"
     ]
    }
   ],
   "source": [
    "from qiskit.quantum_info.operators import StabilizerTable\n",
    "\n",
    "st = StabilizerTable.from_labels(['+X', '+I', '-I', '-X', '+X', '-X', '+I'])\n",
    "unique = st.unique()\n",
    "print(unique)"
   ]
  }
 ],
 "metadata": {
  "kernelspec": {
   "display_name": "Python 3",
   "language": "python",
   "name": "python3"
  },
  "language_info": {
   "codemirror_mode": {
    "name": "ipython",
    "version": 3
   },
   "file_extension": ".py",
   "mimetype": "text/x-python",
   "name": "python",
   "nbconvert_exporter": "python",
   "pygments_lexer": "ipython3",
   "version": "3.8.10"
  }
 },
 "nbformat": 4,
 "nbformat_minor": 5
}