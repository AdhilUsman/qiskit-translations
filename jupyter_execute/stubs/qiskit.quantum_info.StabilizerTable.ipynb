{
 "cells": [
  {
   "cell_type": "code",
   "execution_count": 1,
   "id": "indoor-persian",
   "metadata": {
    "execution": {
     "iopub.execute_input": "2021-04-02T01:39:21.669047Z",
     "iopub.status.busy": "2021-04-02T01:39:21.668416Z",
     "iopub.status.idle": "2021-04-02T01:39:23.662833Z",
     "shell.execute_reply": "2021-04-02T01:39:23.662252Z"
    }
   },
   "outputs": [
    {
     "name": "stdout",
     "output_type": "stream",
     "text": [
      "StabilizerTable: ['+X', '-Z', '-I', '-Y']\n"
     ]
    }
   ],
   "source": [
    "from qiskit.quantum_info.operators import StabilizerTable\n",
    "\n",
    "current = StabilizerTable.from_labels(['+I', '-X'])\n",
    "other =  StabilizerTable.from_labels(['+X', '-Z'])\n",
    "print(current.compose(other))"
   ]
  },
  {
   "cell_type": "code",
   "execution_count": 2,
   "id": "brilliant-wisdom",
   "metadata": {
    "execution": {
     "iopub.execute_input": "2021-04-02T01:39:23.668278Z",
     "iopub.status.busy": "2021-04-02T01:39:23.667680Z",
     "iopub.status.idle": "2021-04-02T01:39:23.671625Z",
     "shell.execute_reply": "2021-04-02T01:39:23.672108Z"
    }
   },
   "outputs": [
    {
     "name": "stdout",
     "output_type": "stream",
     "text": [
      "StabilizerTable: ['+X', '-Z', '-I', '+Y']\n"
     ]
    }
   ],
   "source": [
    "from qiskit.quantum_info.operators import StabilizerTable\n",
    "\n",
    "current = StabilizerTable.from_labels(['+I', '-X'])\n",
    "other =  StabilizerTable.from_labels(['+X', '-Z'])\n",
    "print(current.dot(other))"
   ]
  },
  {
   "cell_type": "code",
   "execution_count": 3,
   "id": "governing-shareware",
   "metadata": {
    "execution": {
     "iopub.execute_input": "2021-04-02T01:39:23.678974Z",
     "iopub.status.busy": "2021-04-02T01:39:23.677647Z",
     "iopub.status.idle": "2021-04-02T01:39:23.680870Z",
     "shell.execute_reply": "2021-04-02T01:39:23.680345Z"
    }
   },
   "outputs": [
    {
     "name": "stdout",
     "output_type": "stream",
     "text": [
      "StabilizerTable: ['-YI', '+ZI', '+YX', '-ZX']\n"
     ]
    }
   ],
   "source": [
    "from qiskit.quantum_info.operators import StabilizerTable\n",
    "\n",
    "current = StabilizerTable.from_labels(['+I', '-X'])\n",
    "other =  StabilizerTable.from_labels(['-Y', '+Z'])\n",
    "print(current.expand(other))"
   ]
  },
  {
   "cell_type": "code",
   "execution_count": 4,
   "id": "outer-session",
   "metadata": {
    "execution": {
     "iopub.execute_input": "2021-04-02T01:39:23.688126Z",
     "iopub.status.busy": "2021-04-02T01:39:23.686538Z",
     "iopub.status.idle": "2021-04-02T01:39:23.693063Z",
     "shell.execute_reply": "2021-04-02T01:39:23.692385Z"
    }
   },
   "outputs": [
    {
     "name": "stdout",
     "output_type": "stream",
     "text": [
      "Initial Ordering\n",
      "StabilizerTable: ['+ZI', '+YZ', '-YZ', '-XZ', '+ZZ', '-IX', '-XX', '-YY', '+XI', '-ZX', '+ZX', '-YX', '+YX', '+YI', '-XY', '+IX', '+XX', '-II', '+YY', '-ZY', '+IY', '+ZY', '-ZZ', '+XZ', '-XI', '+II', '-IZ', '+XY', '-IY', '+IZ', '-ZI', '-YI']\n",
      "Lexicographically sorted\n",
      "StabilizerTable: ['-II', '+II', '-IX', '+IX', '+IY', '-IY', '-IZ', '+IZ', '+XI', '-XI', '-XX', '+XX', '-XY', '+XY', '-XZ', '+XZ', '+YI', '-YI', '-YX', '+YX', '-YY', '+YY', '+YZ', '-YZ', '+ZI', '-ZI', '-ZX', '+ZX', '-ZY', '+ZY', '+ZZ', '-ZZ']\n",
      "Weight sorted\n",
      "StabilizerTable: ['-II', '+II', '-IX', '+IX', '+IY', '-IY', '-IZ', '+IZ', '+XI', '-XI', '+YI', '-YI', '+ZI', '-ZI', '-XX', '+XX', '-XY', '+XY', '-XZ', '+XZ', '-YX', '+YX', '-YY', '+YY', '+YZ', '-YZ', '-ZX', '+ZX', '-ZY', '+ZY', '+ZZ', '-ZZ']\n"
     ]
    }
   ],
   "source": [
    "from numpy.random import shuffle\n",
    "from qiskit.quantum_info.operators import StabilizerTable\n",
    "\n",
    "# 2-qubit labels\n",
    "labels = ['+II', '+IX', '+IY', '+IZ', '+XI', '+XX', '+XY', '+XZ',\n",
    "          '+YI', '+YX', '+YY', '+YZ', '+ZI', '+ZX', '+ZY', '+ZZ',\n",
    "          '-II', '-IX', '-IY', '-IZ', '-XI', '-XX', '-XY', '-XZ',\n",
    "          '-YI', '-YX', '-YY', '-YZ', '-ZI', '-ZX', '-ZY', '-ZZ']\n",
    "# Shuffle Labels\n",
    "shuffle(labels)\n",
    "st = StabilizerTable.from_labels(labels)\n",
    "print('Initial Ordering')\n",
    "print(st)\n",
    "\n",
    "# Lexicographic Ordering\n",
    "srt = st.sort()\n",
    "print('Lexicographically sorted')\n",
    "print(srt)\n",
    "\n",
    "# Weight Ordering\n",
    "srt = st.sort(weight=True)\n",
    "print('Weight sorted')\n",
    "print(srt)"
   ]
  },
  {
   "cell_type": "code",
   "execution_count": 5,
   "id": "wrapped-success",
   "metadata": {
    "execution": {
     "iopub.execute_input": "2021-04-02T01:39:23.699835Z",
     "iopub.status.busy": "2021-04-02T01:39:23.698355Z",
     "iopub.status.idle": "2021-04-02T01:39:23.701845Z",
     "shell.execute_reply": "2021-04-02T01:39:23.701285Z"
    }
   },
   "outputs": [
    {
     "name": "stdout",
     "output_type": "stream",
     "text": [
      "StabilizerTable: ['-IY', '+IZ', '+XY', '-XZ']\n"
     ]
    }
   ],
   "source": [
    "from qiskit.quantum_info.operators import StabilizerTable\n",
    "\n",
    "current = StabilizerTable.from_labels(['+I', '-X'])\n",
    "other =  StabilizerTable.from_labels(['-Y', '+Z'])\n",
    "print(current.tensor(other))"
   ]
  },
  {
   "cell_type": "code",
   "execution_count": 6,
   "id": "norman-decline",
   "metadata": {
    "execution": {
     "iopub.execute_input": "2021-04-02T01:39:23.708403Z",
     "iopub.status.busy": "2021-04-02T01:39:23.707017Z",
     "iopub.status.idle": "2021-04-02T01:39:23.710437Z",
     "shell.execute_reply": "2021-04-02T01:39:23.709911Z"
    }
   },
   "outputs": [
    {
     "name": "stdout",
     "output_type": "stream",
     "text": [
      "StabilizerTable: ['+X', '+I', '-I', '-X']\n"
     ]
    }
   ],
   "source": [
    "from qiskit.quantum_info.operators import StabilizerTable\n",
    "\n",
    "st = StabilizerTable.from_labels(['+X', '+I', '-I', '-X', '+X', '-X', '+I'])\n",
    "unique = st.unique()\n",
    "print(unique)"
   ]
  }
 ],
 "metadata": {
  "kernelspec": {
   "display_name": "Python 3",
   "language": "python",
   "name": "python3"
  },
  "language_info": {
   "codemirror_mode": {
    "name": "ipython",
    "version": 3
   },
   "file_extension": ".py",
   "mimetype": "text/x-python",
   "name": "python",
   "nbconvert_exporter": "python",
   "pygments_lexer": "ipython3",
   "version": "3.8.8"
  }
 },
 "nbformat": 4,
 "nbformat_minor": 5
}