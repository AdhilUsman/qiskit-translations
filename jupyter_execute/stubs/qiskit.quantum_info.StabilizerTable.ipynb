{
 "cells": [
  {
   "cell_type": "code",
   "execution_count": 1,
   "id": "8364f5ff",
   "metadata": {
    "execution": {
     "iopub.execute_input": "2021-04-22T19:01:14.847051Z",
     "iopub.status.busy": "2021-04-22T19:01:14.846301Z",
     "iopub.status.idle": "2021-04-22T19:01:15.489850Z",
     "shell.execute_reply": "2021-04-22T19:01:15.489322Z"
    }
   },
   "outputs": [
    {
     "name": "stdout",
     "output_type": "stream",
     "text": [
      "StabilizerTable: ['+X', '-Z', '-I', '-Y']\n"
     ]
    }
   ],
   "source": [
    "from qiskit.quantum_info.operators import StabilizerTable\n",
    "\n",
    "current = StabilizerTable.from_labels(['+I', '-X'])\n",
    "other =  StabilizerTable.from_labels(['+X', '-Z'])\n",
    "print(current.compose(other))"
   ]
  },
  {
   "cell_type": "code",
   "execution_count": 2,
   "id": "184fb998",
   "metadata": {
    "execution": {
     "iopub.execute_input": "2021-04-22T19:01:15.494798Z",
     "iopub.status.busy": "2021-04-22T19:01:15.494268Z",
     "iopub.status.idle": "2021-04-22T19:01:15.496803Z",
     "shell.execute_reply": "2021-04-22T19:01:15.497170Z"
    }
   },
   "outputs": [
    {
     "name": "stdout",
     "output_type": "stream",
     "text": [
      "StabilizerTable: ['+X', '-Z', '-I', '+Y']\n"
     ]
    }
   ],
   "source": [
    "from qiskit.quantum_info.operators import StabilizerTable\n",
    "\n",
    "current = StabilizerTable.from_labels(['+I', '-X'])\n",
    "other =  StabilizerTable.from_labels(['+X', '-Z'])\n",
    "print(current.dot(other))"
   ]
  },
  {
   "cell_type": "code",
   "execution_count": 3,
   "id": "0439de78",
   "metadata": {
    "execution": {
     "iopub.execute_input": "2021-04-22T19:01:15.502841Z",
     "iopub.status.busy": "2021-04-22T19:01:15.501798Z",
     "iopub.status.idle": "2021-04-22T19:01:15.504621Z",
     "shell.execute_reply": "2021-04-22T19:01:15.504177Z"
    }
   },
   "outputs": [
    {
     "name": "stdout",
     "output_type": "stream",
     "text": [
      "StabilizerTable: ['-YI', '+YX', '+ZI', '-ZX']\n"
     ]
    }
   ],
   "source": [
    "from qiskit.quantum_info.operators import StabilizerTable\n",
    "\n",
    "current = StabilizerTable.from_labels(['+I', '-X'])\n",
    "other =  StabilizerTable.from_labels(['-Y', '+Z'])\n",
    "print(current.expand(other))"
   ]
  },
  {
   "cell_type": "code",
   "execution_count": 4,
   "id": "7d727372",
   "metadata": {
    "execution": {
     "iopub.execute_input": "2021-04-22T19:01:15.511057Z",
     "iopub.status.busy": "2021-04-22T19:01:15.510164Z",
     "iopub.status.idle": "2021-04-22T19:01:15.514498Z",
     "shell.execute_reply": "2021-04-22T19:01:15.514909Z"
    }
   },
   "outputs": [
    {
     "name": "stdout",
     "output_type": "stream",
     "text": [
      "Initial Ordering\n",
      "StabilizerTable: ['+II', '-IZ', '+YI', '+ZY', '-YZ', '-YY', '-ZZ', '-IX', '+YZ', '-XZ', '+YY', '-IY', '-XI', '+ZZ', '-YX', '+YX', '-ZY', '+XI', '+IX', '-XY', '+IY', '-II', '+XX', '+ZI', '-ZI', '+XZ', '+XY', '+ZX', '+IZ', '-YI', '-XX', '-ZX']\n",
      "Lexicographically sorted\n",
      "StabilizerTable: ['+II', '-II', '-IX', '+IX', '-IY', '+IY', '-IZ', '+IZ', '-XI', '+XI', '+XX', '-XX', '-XY', '+XY', '-XZ', '+XZ', '+YI', '-YI', '-YX', '+YX', '-YY', '+YY', '-YZ', '+YZ', '+ZI', '-ZI', '+ZX', '-ZX', '+ZY', '-ZY', '-ZZ', '+ZZ']\n",
      "Weight sorted\n",
      "StabilizerTable: ['+II', '-II', '-IX', '+IX', '-IY', '+IY', '-IZ', '+IZ', '-XI', '+XI', '+YI', '-YI', '+ZI', '-ZI', '+XX', '-XX', '-XY', '+XY', '-XZ', '+XZ', '-YX', '+YX', '-YY', '+YY', '-YZ', '+YZ', '+ZX', '-ZX', '+ZY', '-ZY', '-ZZ', '+ZZ']\n"
     ]
    }
   ],
   "source": [
    "from numpy.random import shuffle\n",
    "from qiskit.quantum_info.operators import StabilizerTable\n",
    "\n",
    "# 2-qubit labels\n",
    "labels = ['+II', '+IX', '+IY', '+IZ', '+XI', '+XX', '+XY', '+XZ',\n",
    "          '+YI', '+YX', '+YY', '+YZ', '+ZI', '+ZX', '+ZY', '+ZZ',\n",
    "          '-II', '-IX', '-IY', '-IZ', '-XI', '-XX', '-XY', '-XZ',\n",
    "          '-YI', '-YX', '-YY', '-YZ', '-ZI', '-ZX', '-ZY', '-ZZ']\n",
    "# Shuffle Labels\n",
    "shuffle(labels)\n",
    "st = StabilizerTable.from_labels(labels)\n",
    "print('Initial Ordering')\n",
    "print(st)\n",
    "\n",
    "# Lexicographic Ordering\n",
    "srt = st.sort()\n",
    "print('Lexicographically sorted')\n",
    "print(srt)\n",
    "\n",
    "# Weight Ordering\n",
    "srt = st.sort(weight=True)\n",
    "print('Weight sorted')\n",
    "print(srt)"
   ]
  },
  {
   "cell_type": "code",
   "execution_count": 5,
   "id": "1f4e790e",
   "metadata": {
    "execution": {
     "iopub.execute_input": "2021-04-22T19:01:15.520719Z",
     "iopub.status.busy": "2021-04-22T19:01:15.519500Z",
     "iopub.status.idle": "2021-04-22T19:01:15.522383Z",
     "shell.execute_reply": "2021-04-22T19:01:15.521962Z"
    }
   },
   "outputs": [
    {
     "name": "stdout",
     "output_type": "stream",
     "text": [
      "StabilizerTable: ['-IY', '+IZ', '+XY', '-XZ']\n"
     ]
    }
   ],
   "source": [
    "from qiskit.quantum_info.operators import StabilizerTable\n",
    "\n",
    "current = StabilizerTable.from_labels(['+I', '-X'])\n",
    "other =  StabilizerTable.from_labels(['-Y', '+Z'])\n",
    "print(current.tensor(other))"
   ]
  },
  {
   "cell_type": "code",
   "execution_count": 6,
   "id": "7895a84f",
   "metadata": {
    "execution": {
     "iopub.execute_input": "2021-04-22T19:01:15.529161Z",
     "iopub.status.busy": "2021-04-22T19:01:15.527888Z",
     "iopub.status.idle": "2021-04-22T19:01:15.530775Z",
     "shell.execute_reply": "2021-04-22T19:01:15.530338Z"
    }
   },
   "outputs": [
    {
     "name": "stdout",
     "output_type": "stream",
     "text": [
      "StabilizerTable: ['+X', '+I', '-I', '-X']\n"
     ]
    }
   ],
   "source": [
    "from qiskit.quantum_info.operators import StabilizerTable\n",
    "\n",
    "st = StabilizerTable.from_labels(['+X', '+I', '-I', '-X', '+X', '-X', '+I'])\n",
    "unique = st.unique()\n",
    "print(unique)"
   ]
  }
 ],
 "metadata": {
  "kernelspec": {
   "display_name": "Python 3",
   "language": "python",
   "name": "python3"
  },
  "language_info": {
   "codemirror_mode": {
    "name": "ipython",
    "version": 3
   },
   "file_extension": ".py",
   "mimetype": "text/x-python",
   "name": "python",
   "nbconvert_exporter": "python",
   "pygments_lexer": "ipython3",
   "version": "3.8.9"
  }
 },
 "nbformat": 4,
 "nbformat_minor": 5
}