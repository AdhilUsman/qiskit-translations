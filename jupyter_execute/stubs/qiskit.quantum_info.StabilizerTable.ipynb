{
 "cells": [
  {
   "cell_type": "code",
   "execution_count": 1,
   "id": "2835ef1e",
   "metadata": {
    "execution": {
     "iopub.execute_input": "2021-05-17T11:33:15.634850Z",
     "iopub.status.busy": "2021-05-17T11:33:15.634256Z",
     "iopub.status.idle": "2021-05-17T11:33:16.359499Z",
     "shell.execute_reply": "2021-05-17T11:33:16.358415Z"
    }
   },
   "outputs": [
    {
     "name": "stdout",
     "output_type": "stream",
     "text": [
      "StabilizerTable: ['+X', '-Z', '-I', '-Y']\n"
     ]
    }
   ],
   "source": [
    "from qiskit.quantum_info.operators import StabilizerTable\n",
    "\n",
    "current = StabilizerTable.from_labels(['+I', '-X'])\n",
    "other =  StabilizerTable.from_labels(['+X', '-Z'])\n",
    "print(current.compose(other))"
   ]
  },
  {
   "cell_type": "code",
   "execution_count": 2,
   "id": "50f1492d",
   "metadata": {
    "execution": {
     "iopub.execute_input": "2021-05-17T11:33:16.366766Z",
     "iopub.status.busy": "2021-05-17T11:33:16.366190Z",
     "iopub.status.idle": "2021-05-17T11:33:16.369302Z",
     "shell.execute_reply": "2021-05-17T11:33:16.369736Z"
    }
   },
   "outputs": [
    {
     "name": "stdout",
     "output_type": "stream",
     "text": [
      "StabilizerTable: ['+X', '-Z', '-I', '+Y']\n"
     ]
    }
   ],
   "source": [
    "from qiskit.quantum_info.operators import StabilizerTable\n",
    "\n",
    "current = StabilizerTable.from_labels(['+I', '-X'])\n",
    "other =  StabilizerTable.from_labels(['+X', '-Z'])\n",
    "print(current.dot(other))"
   ]
  },
  {
   "cell_type": "code",
   "execution_count": 3,
   "id": "8fbdcd05",
   "metadata": {
    "execution": {
     "iopub.execute_input": "2021-05-17T11:33:16.376842Z",
     "iopub.status.busy": "2021-05-17T11:33:16.375607Z",
     "iopub.status.idle": "2021-05-17T11:33:16.378729Z",
     "shell.execute_reply": "2021-05-17T11:33:16.378231Z"
    }
   },
   "outputs": [
    {
     "name": "stdout",
     "output_type": "stream",
     "text": [
      "StabilizerTable: ['-YI', '+YX', '+ZI', '-ZX']\n"
     ]
    }
   ],
   "source": [
    "from qiskit.quantum_info.operators import StabilizerTable\n",
    "\n",
    "current = StabilizerTable.from_labels(['+I', '-X'])\n",
    "other =  StabilizerTable.from_labels(['-Y', '+Z'])\n",
    "print(current.expand(other))"
   ]
  },
  {
   "cell_type": "code",
   "execution_count": 4,
   "id": "af9a885f",
   "metadata": {
    "execution": {
     "iopub.execute_input": "2021-05-17T11:33:16.385646Z",
     "iopub.status.busy": "2021-05-17T11:33:16.384686Z",
     "iopub.status.idle": "2021-05-17T11:33:16.389740Z",
     "shell.execute_reply": "2021-05-17T11:33:16.389249Z"
    }
   },
   "outputs": [
    {
     "name": "stdout",
     "output_type": "stream",
     "text": [
      "Initial Ordering\n",
      "StabilizerTable: ['-YX', '+ZY', '+IY', '+ZI', '-ZY', '+YI', '-ZX', '+IZ', '-IX', '-XZ', '-IY', '-YY', '-YZ', '-ZI', '+YX', '-II', '+II', '-ZZ', '-XY', '-YI', '+ZX', '-IZ', '+IX', '+YY', '-XI', '+XI', '-XX', '+ZZ', '+YZ', '+XZ', '+XX', '+XY']\n",
      "Lexicographically sorted\n",
      "StabilizerTable: ['-II', '+II', '-IX', '+IX', '+IY', '-IY', '+IZ', '-IZ', '-XI', '+XI', '-XX', '+XX', '-XY', '+XY', '-XZ', '+XZ', '+YI', '-YI', '-YX', '+YX', '-YY', '+YY', '-YZ', '+YZ', '+ZI', '-ZI', '-ZX', '+ZX', '+ZY', '-ZY', '-ZZ', '+ZZ']\n",
      "Weight sorted\n",
      "StabilizerTable: ['-II', '+II', '-IX', '+IX', '+IY', '-IY', '+IZ', '-IZ', '-XI', '+XI', '+YI', '-YI', '+ZI', '-ZI', '-XX', '+XX', '-XY', '+XY', '-XZ', '+XZ', '-YX', '+YX', '-YY', '+YY', '-YZ', '+YZ', '-ZX', '+ZX', '+ZY', '-ZY', '-ZZ', '+ZZ']\n"
     ]
    }
   ],
   "source": [
    "from numpy.random import shuffle\n",
    "from qiskit.quantum_info.operators import StabilizerTable\n",
    "\n",
    "# 2-qubit labels\n",
    "labels = ['+II', '+IX', '+IY', '+IZ', '+XI', '+XX', '+XY', '+XZ',\n",
    "          '+YI', '+YX', '+YY', '+YZ', '+ZI', '+ZX', '+ZY', '+ZZ',\n",
    "          '-II', '-IX', '-IY', '-IZ', '-XI', '-XX', '-XY', '-XZ',\n",
    "          '-YI', '-YX', '-YY', '-YZ', '-ZI', '-ZX', '-ZY', '-ZZ']\n",
    "# Shuffle Labels\n",
    "shuffle(labels)\n",
    "st = StabilizerTable.from_labels(labels)\n",
    "print('Initial Ordering')\n",
    "print(st)\n",
    "\n",
    "# Lexicographic Ordering\n",
    "srt = st.sort()\n",
    "print('Lexicographically sorted')\n",
    "print(srt)\n",
    "\n",
    "# Weight Ordering\n",
    "srt = st.sort(weight=True)\n",
    "print('Weight sorted')\n",
    "print(srt)"
   ]
  },
  {
   "cell_type": "code",
   "execution_count": 5,
   "id": "ca828a70",
   "metadata": {
    "execution": {
     "iopub.execute_input": "2021-05-17T11:33:16.395168Z",
     "iopub.status.busy": "2021-05-17T11:33:16.394216Z",
     "iopub.status.idle": "2021-05-17T11:33:16.397550Z",
     "shell.execute_reply": "2021-05-17T11:33:16.397023Z"
    }
   },
   "outputs": [
    {
     "name": "stdout",
     "output_type": "stream",
     "text": [
      "StabilizerTable: ['-IY', '+IZ', '+XY', '-XZ']\n"
     ]
    }
   ],
   "source": [
    "from qiskit.quantum_info.operators import StabilizerTable\n",
    "\n",
    "current = StabilizerTable.from_labels(['+I', '-X'])\n",
    "other =  StabilizerTable.from_labels(['-Y', '+Z'])\n",
    "print(current.tensor(other))"
   ]
  },
  {
   "cell_type": "code",
   "execution_count": 6,
   "id": "fd4f4fd1",
   "metadata": {
    "execution": {
     "iopub.execute_input": "2021-05-17T11:33:16.403675Z",
     "iopub.status.busy": "2021-05-17T11:33:16.402309Z",
     "iopub.status.idle": "2021-05-17T11:33:16.405512Z",
     "shell.execute_reply": "2021-05-17T11:33:16.405015Z"
    }
   },
   "outputs": [
    {
     "name": "stdout",
     "output_type": "stream",
     "text": [
      "StabilizerTable: ['+X', '+I', '-I', '-X']\n"
     ]
    }
   ],
   "source": [
    "from qiskit.quantum_info.operators import StabilizerTable\n",
    "\n",
    "st = StabilizerTable.from_labels(['+X', '+I', '-I', '-X', '+X', '-X', '+I'])\n",
    "unique = st.unique()\n",
    "print(unique)"
   ]
  }
 ],
 "metadata": {
  "kernelspec": {
   "display_name": "Python 3",
   "language": "python",
   "name": "python3"
  },
  "language_info": {
   "codemirror_mode": {
    "name": "ipython",
    "version": 3
   },
   "file_extension": ".py",
   "mimetype": "text/x-python",
   "name": "python",
   "nbconvert_exporter": "python",
   "pygments_lexer": "ipython3",
   "version": "3.8.10"
  }
 },
 "nbformat": 4,
 "nbformat_minor": 5
}