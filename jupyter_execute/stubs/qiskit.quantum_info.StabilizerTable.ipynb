{
 "cells": [
  {
   "cell_type": "code",
   "execution_count": 1,
   "id": "d22c67f6",
   "metadata": {
    "execution": {
     "iopub.execute_input": "2021-04-14T06:17:06.813622Z",
     "iopub.status.busy": "2021-04-14T06:17:06.812923Z",
     "iopub.status.idle": "2021-04-14T06:17:07.543070Z",
     "shell.execute_reply": "2021-04-14T06:17:07.542490Z"
    }
   },
   "outputs": [
    {
     "name": "stdout",
     "output_type": "stream",
     "text": [
      "StabilizerTable: ['+X', '-Z', '-I', '-Y']\n"
     ]
    }
   ],
   "source": [
    "from qiskit.quantum_info.operators import StabilizerTable\n",
    "\n",
    "current = StabilizerTable.from_labels(['+I', '-X'])\n",
    "other =  StabilizerTable.from_labels(['+X', '-Z'])\n",
    "print(current.compose(other))"
   ]
  },
  {
   "cell_type": "code",
   "execution_count": 2,
   "id": "68aee525",
   "metadata": {
    "execution": {
     "iopub.execute_input": "2021-04-14T06:17:07.550096Z",
     "iopub.status.busy": "2021-04-14T06:17:07.548783Z",
     "iopub.status.idle": "2021-04-14T06:17:07.551875Z",
     "shell.execute_reply": "2021-04-14T06:17:07.552324Z"
    }
   },
   "outputs": [
    {
     "name": "stdout",
     "output_type": "stream",
     "text": [
      "StabilizerTable: ['+X', '-Z', '-I', '+Y']\n"
     ]
    }
   ],
   "source": [
    "from qiskit.quantum_info.operators import StabilizerTable\n",
    "\n",
    "current = StabilizerTable.from_labels(['+I', '-X'])\n",
    "other =  StabilizerTable.from_labels(['+X', '-Z'])\n",
    "print(current.dot(other))"
   ]
  },
  {
   "cell_type": "code",
   "execution_count": 3,
   "id": "7a68d0a8",
   "metadata": {
    "execution": {
     "iopub.execute_input": "2021-04-14T06:17:07.558934Z",
     "iopub.status.busy": "2021-04-14T06:17:07.558317Z",
     "iopub.status.idle": "2021-04-14T06:17:07.561483Z",
     "shell.execute_reply": "2021-04-14T06:17:07.562016Z"
    }
   },
   "outputs": [
    {
     "name": "stdout",
     "output_type": "stream",
     "text": [
      "StabilizerTable: ['-YI', '+YX', '+ZI', '-ZX']\n"
     ]
    }
   ],
   "source": [
    "from qiskit.quantum_info.operators import StabilizerTable\n",
    "\n",
    "current = StabilizerTable.from_labels(['+I', '-X'])\n",
    "other =  StabilizerTable.from_labels(['-Y', '+Z'])\n",
    "print(current.expand(other))"
   ]
  },
  {
   "cell_type": "code",
   "execution_count": 4,
   "id": "69a02b9b",
   "metadata": {
    "execution": {
     "iopub.execute_input": "2021-04-14T06:17:07.571790Z",
     "iopub.status.busy": "2021-04-14T06:17:07.568998Z",
     "iopub.status.idle": "2021-04-14T06:17:07.574902Z",
     "shell.execute_reply": "2021-04-14T06:17:07.575410Z"
    }
   },
   "outputs": [
    {
     "name": "stdout",
     "output_type": "stream",
     "text": [
      "Initial Ordering\n",
      "StabilizerTable: ['+IY', '-ZI', '-IX', '+II', '+XX', '+IZ', '-IY', '-XX', '-YZ', '+XZ', '-XZ', '-ZZ', '+YY', '-YI', '+ZY', '-II', '-ZY', '+ZX', '-YY', '+XY', '+IX', '-ZX', '+YZ', '+ZZ', '-YX', '-XI', '-XY', '+XI', '+YX', '-IZ', '+ZI', '+YI']\n",
      "Lexicographically sorted\n",
      "StabilizerTable: ['+II', '-II', '-IX', '+IX', '+IY', '-IY', '+IZ', '-IZ', '-XI', '+XI', '+XX', '-XX', '+XY', '-XY', '+XZ', '-XZ', '-YI', '+YI', '-YX', '+YX', '+YY', '-YY', '-YZ', '+YZ', '-ZI', '+ZI', '+ZX', '-ZX', '+ZY', '-ZY', '-ZZ', '+ZZ']\n",
      "Weight sorted\n",
      "StabilizerTable: ['+II', '-II', '-IX', '+IX', '+IY', '-IY', '+IZ', '-IZ', '-XI', '+XI', '-YI', '+YI', '-ZI', '+ZI', '+XX', '-XX', '+XY', '-XY', '+XZ', '-XZ', '-YX', '+YX', '+YY', '-YY', '-YZ', '+YZ', '+ZX', '-ZX', '+ZY', '-ZY', '-ZZ', '+ZZ']\n"
     ]
    }
   ],
   "source": [
    "from numpy.random import shuffle\n",
    "from qiskit.quantum_info.operators import StabilizerTable\n",
    "\n",
    "# 2-qubit labels\n",
    "labels = ['+II', '+IX', '+IY', '+IZ', '+XI', '+XX', '+XY', '+XZ',\n",
    "          '+YI', '+YX', '+YY', '+YZ', '+ZI', '+ZX', '+ZY', '+ZZ',\n",
    "          '-II', '-IX', '-IY', '-IZ', '-XI', '-XX', '-XY', '-XZ',\n",
    "          '-YI', '-YX', '-YY', '-YZ', '-ZI', '-ZX', '-ZY', '-ZZ']\n",
    "# Shuffle Labels\n",
    "shuffle(labels)\n",
    "st = StabilizerTable.from_labels(labels)\n",
    "print('Initial Ordering')\n",
    "print(st)\n",
    "\n",
    "# Lexicographic Ordering\n",
    "srt = st.sort()\n",
    "print('Lexicographically sorted')\n",
    "print(srt)\n",
    "\n",
    "# Weight Ordering\n",
    "srt = st.sort(weight=True)\n",
    "print('Weight sorted')\n",
    "print(srt)"
   ]
  },
  {
   "cell_type": "code",
   "execution_count": 5,
   "id": "5cf0e11e",
   "metadata": {
    "execution": {
     "iopub.execute_input": "2021-04-14T06:17:07.581963Z",
     "iopub.status.busy": "2021-04-14T06:17:07.580495Z",
     "iopub.status.idle": "2021-04-14T06:17:07.583907Z",
     "shell.execute_reply": "2021-04-14T06:17:07.583415Z"
    }
   },
   "outputs": [
    {
     "name": "stdout",
     "output_type": "stream",
     "text": [
      "StabilizerTable: ['-IY', '+IZ', '+XY', '-XZ']\n"
     ]
    }
   ],
   "source": [
    "from qiskit.quantum_info.operators import StabilizerTable\n",
    "\n",
    "current = StabilizerTable.from_labels(['+I', '-X'])\n",
    "other =  StabilizerTable.from_labels(['-Y', '+Z'])\n",
    "print(current.tensor(other))"
   ]
  },
  {
   "cell_type": "code",
   "execution_count": 6,
   "id": "9569f200",
   "metadata": {
    "execution": {
     "iopub.execute_input": "2021-04-14T06:17:07.590473Z",
     "iopub.status.busy": "2021-04-14T06:17:07.588906Z",
     "iopub.status.idle": "2021-04-14T06:17:07.592309Z",
     "shell.execute_reply": "2021-04-14T06:17:07.591823Z"
    }
   },
   "outputs": [
    {
     "name": "stdout",
     "output_type": "stream",
     "text": [
      "StabilizerTable: ['+X', '+I', '-I', '-X']\n"
     ]
    }
   ],
   "source": [
    "from qiskit.quantum_info.operators import StabilizerTable\n",
    "\n",
    "st = StabilizerTable.from_labels(['+X', '+I', '-I', '-X', '+X', '-X', '+I'])\n",
    "unique = st.unique()\n",
    "print(unique)"
   ]
  }
 ],
 "metadata": {
  "kernelspec": {
   "display_name": "Python 3",
   "language": "python",
   "name": "python3"
  },
  "language_info": {
   "codemirror_mode": {
    "name": "ipython",
    "version": 3
   },
   "file_extension": ".py",
   "mimetype": "text/x-python",
   "name": "python",
   "nbconvert_exporter": "python",
   "pygments_lexer": "ipython3",
   "version": "3.8.9"
  }
 },
 "nbformat": 4,
 "nbformat_minor": 5
}