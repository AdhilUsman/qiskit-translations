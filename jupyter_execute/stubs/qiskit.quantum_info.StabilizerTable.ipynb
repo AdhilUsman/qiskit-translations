{
 "cells": [
  {
   "cell_type": "code",
   "execution_count": 1,
   "id": "4de9b651",
   "metadata": {
    "execution": {
     "iopub.execute_input": "2021-04-08T00:57:04.839769Z",
     "iopub.status.busy": "2021-04-08T00:57:04.839310Z",
     "iopub.status.idle": "2021-04-08T00:57:05.363980Z",
     "shell.execute_reply": "2021-04-08T00:57:05.363396Z"
    }
   },
   "outputs": [
    {
     "name": "stdout",
     "output_type": "stream",
     "text": [
      "StabilizerTable: ['+X', '-Z', '-I', '-Y']\n"
     ]
    }
   ],
   "source": [
    "from qiskit.quantum_info.operators import StabilizerTable\n",
    "\n",
    "current = StabilizerTable.from_labels(['+I', '-X'])\n",
    "other =  StabilizerTable.from_labels(['+X', '-Z'])\n",
    "print(current.compose(other))"
   ]
  },
  {
   "cell_type": "code",
   "execution_count": 2,
   "id": "662ccc22",
   "metadata": {
    "execution": {
     "iopub.execute_input": "2021-04-08T00:57:05.368705Z",
     "iopub.status.busy": "2021-04-08T00:57:05.368266Z",
     "iopub.status.idle": "2021-04-08T00:57:05.371467Z",
     "shell.execute_reply": "2021-04-08T00:57:05.371071Z"
    }
   },
   "outputs": [
    {
     "name": "stdout",
     "output_type": "stream",
     "text": [
      "StabilizerTable: ['+X', '-Z', '-I', '+Y']\n"
     ]
    }
   ],
   "source": [
    "from qiskit.quantum_info.operators import StabilizerTable\n",
    "\n",
    "current = StabilizerTable.from_labels(['+I', '-X'])\n",
    "other =  StabilizerTable.from_labels(['+X', '-Z'])\n",
    "print(current.dot(other))"
   ]
  },
  {
   "cell_type": "code",
   "execution_count": 3,
   "id": "aeb1e5fe",
   "metadata": {
    "execution": {
     "iopub.execute_input": "2021-04-08T00:57:05.375993Z",
     "iopub.status.busy": "2021-04-08T00:57:05.375262Z",
     "iopub.status.idle": "2021-04-08T00:57:05.377757Z",
     "shell.execute_reply": "2021-04-08T00:57:05.377372Z"
    }
   },
   "outputs": [
    {
     "name": "stdout",
     "output_type": "stream",
     "text": [
      "StabilizerTable: ['-YI', '+YX', '+ZI', '-ZX']\n"
     ]
    }
   ],
   "source": [
    "from qiskit.quantum_info.operators import StabilizerTable\n",
    "\n",
    "current = StabilizerTable.from_labels(['+I', '-X'])\n",
    "other =  StabilizerTable.from_labels(['-Y', '+Z'])\n",
    "print(current.expand(other))"
   ]
  },
  {
   "cell_type": "code",
   "execution_count": 4,
   "id": "e704478b",
   "metadata": {
    "execution": {
     "iopub.execute_input": "2021-04-08T00:57:05.383872Z",
     "iopub.status.busy": "2021-04-08T00:57:05.381981Z",
     "iopub.status.idle": "2021-04-08T00:57:05.386144Z",
     "shell.execute_reply": "2021-04-08T00:57:05.385703Z"
    }
   },
   "outputs": [
    {
     "name": "stdout",
     "output_type": "stream",
     "text": [
      "Initial Ordering\n",
      "StabilizerTable: ['-ZY', '+IY', '+ZY', '-IZ', '-ZZ', '-II', '+ZZ', '-YZ', '-IY', '-IX', '+IZ', '-YI', '-XX', '+YZ', '-ZX', '+XY', '+ZI', '-XY', '+ZX', '-ZI', '+YY', '-XZ', '+XI', '+IX', '-YY', '+II', '+YI', '-YX', '+XX', '+YX', '+XZ', '-XI']\n",
      "Lexicographically sorted\n",
      "StabilizerTable: ['-II', '+II', '-IX', '+IX', '+IY', '-IY', '-IZ', '+IZ', '+XI', '-XI', '-XX', '+XX', '+XY', '-XY', '-XZ', '+XZ', '-YI', '+YI', '-YX', '+YX', '+YY', '-YY', '-YZ', '+YZ', '+ZI', '-ZI', '-ZX', '+ZX', '-ZY', '+ZY', '-ZZ', '+ZZ']\n",
      "Weight sorted\n",
      "StabilizerTable: ['-II', '+II', '-IX', '+IX', '+IY', '-IY', '-IZ', '+IZ', '+XI', '-XI', '-YI', '+YI', '+ZI', '-ZI', '-XX', '+XX', '+XY', '-XY', '-XZ', '+XZ', '-YX', '+YX', '+YY', '-YY', '-YZ', '+YZ', '-ZX', '+ZX', '-ZY', '+ZY', '-ZZ', '+ZZ']\n"
     ]
    }
   ],
   "source": [
    "from numpy.random import shuffle\n",
    "from qiskit.quantum_info.operators import StabilizerTable\n",
    "\n",
    "# 2-qubit labels\n",
    "labels = ['+II', '+IX', '+IY', '+IZ', '+XI', '+XX', '+XY', '+XZ',\n",
    "          '+YI', '+YX', '+YY', '+YZ', '+ZI', '+ZX', '+ZY', '+ZZ',\n",
    "          '-II', '-IX', '-IY', '-IZ', '-XI', '-XX', '-XY', '-XZ',\n",
    "          '-YI', '-YX', '-YY', '-YZ', '-ZI', '-ZX', '-ZY', '-ZZ']\n",
    "# Shuffle Labels\n",
    "shuffle(labels)\n",
    "st = StabilizerTable.from_labels(labels)\n",
    "print('Initial Ordering')\n",
    "print(st)\n",
    "\n",
    "# Lexicographic Ordering\n",
    "srt = st.sort()\n",
    "print('Lexicographically sorted')\n",
    "print(srt)\n",
    "\n",
    "# Weight Ordering\n",
    "srt = st.sort(weight=True)\n",
    "print('Weight sorted')\n",
    "print(srt)"
   ]
  },
  {
   "cell_type": "code",
   "execution_count": 5,
   "id": "d92eeb4a",
   "metadata": {
    "execution": {
     "iopub.execute_input": "2021-04-08T00:57:05.390360Z",
     "iopub.status.busy": "2021-04-08T00:57:05.389633Z",
     "iopub.status.idle": "2021-04-08T00:57:05.392029Z",
     "shell.execute_reply": "2021-04-08T00:57:05.391670Z"
    }
   },
   "outputs": [
    {
     "name": "stdout",
     "output_type": "stream",
     "text": [
      "StabilizerTable: ['-IY', '+IZ', '+XY', '-XZ']\n"
     ]
    }
   ],
   "source": [
    "from qiskit.quantum_info.operators import StabilizerTable\n",
    "\n",
    "current = StabilizerTable.from_labels(['+I', '-X'])\n",
    "other =  StabilizerTable.from_labels(['-Y', '+Z'])\n",
    "print(current.tensor(other))"
   ]
  },
  {
   "cell_type": "code",
   "execution_count": 6,
   "id": "a6d484dd",
   "metadata": {
    "execution": {
     "iopub.execute_input": "2021-04-08T00:57:05.396291Z",
     "iopub.status.busy": "2021-04-08T00:57:05.395561Z",
     "iopub.status.idle": "2021-04-08T00:57:05.397628Z",
     "shell.execute_reply": "2021-04-08T00:57:05.397968Z"
    }
   },
   "outputs": [
    {
     "name": "stdout",
     "output_type": "stream",
     "text": [
      "StabilizerTable: ['+X', '+I', '-I', '-X']\n"
     ]
    }
   ],
   "source": [
    "from qiskit.quantum_info.operators import StabilizerTable\n",
    "\n",
    "st = StabilizerTable.from_labels(['+X', '+I', '-I', '-X', '+X', '-X', '+I'])\n",
    "unique = st.unique()\n",
    "print(unique)"
   ]
  }
 ],
 "metadata": {
  "kernelspec": {
   "display_name": "Python 3",
   "language": "python",
   "name": "python3"
  },
  "language_info": {
   "codemirror_mode": {
    "name": "ipython",
    "version": 3
   },
   "file_extension": ".py",
   "mimetype": "text/x-python",
   "name": "python",
   "nbconvert_exporter": "python",
   "pygments_lexer": "ipython3",
   "version": "3.8.8"
  }
 },
 "nbformat": 4,
 "nbformat_minor": 5
}