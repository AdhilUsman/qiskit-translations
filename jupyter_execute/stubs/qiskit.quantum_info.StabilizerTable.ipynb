{
 "cells": [
  {
   "cell_type": "code",
   "execution_count": 1,
   "id": "ffa0b7b0",
   "metadata": {
    "execution": {
     "iopub.execute_input": "2021-06-17T22:27:03.688125Z",
     "iopub.status.busy": "2021-06-17T22:27:03.687503Z",
     "iopub.status.idle": "2021-06-17T22:27:04.369333Z",
     "shell.execute_reply": "2021-06-17T22:27:04.368572Z"
    }
   },
   "outputs": [
    {
     "name": "stdout",
     "output_type": "stream",
     "text": [
      "StabilizerTable: ['+X', '-Z', '-I', '-Y']\n"
     ]
    }
   ],
   "source": [
    "from qiskit.quantum_info.operators import StabilizerTable\n",
    "\n",
    "current = StabilizerTable.from_labels(['+I', '-X'])\n",
    "other =  StabilizerTable.from_labels(['+X', '-Z'])\n",
    "print(current.compose(other))"
   ]
  },
  {
   "cell_type": "code",
   "execution_count": 2,
   "id": "847a17d5",
   "metadata": {
    "execution": {
     "iopub.execute_input": "2021-06-17T22:27:04.374220Z",
     "iopub.status.busy": "2021-06-17T22:27:04.373199Z",
     "iopub.status.idle": "2021-06-17T22:27:04.380292Z",
     "shell.execute_reply": "2021-06-17T22:27:04.379490Z"
    }
   },
   "outputs": [
    {
     "name": "stdout",
     "output_type": "stream",
     "text": [
      "StabilizerTable: ['+X', '-Z', '-I', '+Y']\n"
     ]
    }
   ],
   "source": [
    "from qiskit.quantum_info.operators import StabilizerTable\n",
    "\n",
    "current = StabilizerTable.from_labels(['+I', '-X'])\n",
    "other =  StabilizerTable.from_labels(['+X', '-Z'])\n",
    "print(current.dot(other))"
   ]
  },
  {
   "cell_type": "code",
   "execution_count": 3,
   "id": "9b68e314",
   "metadata": {
    "execution": {
     "iopub.execute_input": "2021-06-17T22:27:04.384646Z",
     "iopub.status.busy": "2021-06-17T22:27:04.384118Z",
     "iopub.status.idle": "2021-06-17T22:27:04.388565Z",
     "shell.execute_reply": "2021-06-17T22:27:04.388081Z"
    }
   },
   "outputs": [
    {
     "name": "stdout",
     "output_type": "stream",
     "text": [
      "StabilizerTable: ['-YI', '+YX', '+ZI', '-ZX']\n"
     ]
    }
   ],
   "source": [
    "from qiskit.quantum_info.operators import StabilizerTable\n",
    "\n",
    "current = StabilizerTable.from_labels(['+I', '-X'])\n",
    "other =  StabilizerTable.from_labels(['-Y', '+Z'])\n",
    "print(current.expand(other))"
   ]
  },
  {
   "cell_type": "code",
   "execution_count": 4,
   "id": "ea243434",
   "metadata": {
    "execution": {
     "iopub.execute_input": "2021-06-17T22:27:04.395290Z",
     "iopub.status.busy": "2021-06-17T22:27:04.393852Z",
     "iopub.status.idle": "2021-06-17T22:27:04.401360Z",
     "shell.execute_reply": "2021-06-17T22:27:04.400830Z"
    }
   },
   "outputs": [
    {
     "name": "stdout",
     "output_type": "stream",
     "text": [
      "Initial Ordering\n",
      "StabilizerTable: ['+IX', '-YX', '+XY', '-XX', '+YX', '+ZI', '+IY', '-IY', '-IZ', '+YY', '-II', '-IX', '+II', '+XZ', '+ZX', '+YI', '-ZZ', '+ZZ', '-YI', '-ZY', '-XZ', '-XY', '+XI', '-ZI', '+IZ', '-ZX', '-XI', '+XX', '+YZ', '-YY', '+ZY', '-YZ']\n",
      "Lexicographically sorted\n",
      "StabilizerTable: ['-II', '+II', '+IX', '-IX', '+IY', '-IY', '-IZ', '+IZ', '+XI', '-XI', '-XX', '+XX', '+XY', '-XY', '+XZ', '-XZ', '+YI', '-YI', '-YX', '+YX', '+YY', '-YY', '+YZ', '-YZ', '+ZI', '-ZI', '+ZX', '-ZX', '-ZY', '+ZY', '-ZZ', '+ZZ']\n",
      "Weight sorted\n",
      "StabilizerTable: ['-II', '+II', '+IX', '-IX', '+IY', '-IY', '-IZ', '+IZ', '+XI', '-XI', '+YI', '-YI', '+ZI', '-ZI', '-XX', '+XX', '+XY', '-XY', '+XZ', '-XZ', '-YX', '+YX', '+YY', '-YY', '+YZ', '-YZ', '+ZX', '-ZX', '-ZY', '+ZY', '-ZZ', '+ZZ']\n"
     ]
    }
   ],
   "source": [
    "from numpy.random import shuffle\n",
    "from qiskit.quantum_info.operators import StabilizerTable\n",
    "\n",
    "# 2-qubit labels\n",
    "labels = ['+II', '+IX', '+IY', '+IZ', '+XI', '+XX', '+XY', '+XZ',\n",
    "          '+YI', '+YX', '+YY', '+YZ', '+ZI', '+ZX', '+ZY', '+ZZ',\n",
    "          '-II', '-IX', '-IY', '-IZ', '-XI', '-XX', '-XY', '-XZ',\n",
    "          '-YI', '-YX', '-YY', '-YZ', '-ZI', '-ZX', '-ZY', '-ZZ']\n",
    "# Shuffle Labels\n",
    "shuffle(labels)\n",
    "st = StabilizerTable.from_labels(labels)\n",
    "print('Initial Ordering')\n",
    "print(st)\n",
    "\n",
    "# Lexicographic Ordering\n",
    "srt = st.sort()\n",
    "print('Lexicographically sorted')\n",
    "print(srt)\n",
    "\n",
    "# Weight Ordering\n",
    "srt = st.sort(weight=True)\n",
    "print('Weight sorted')\n",
    "print(srt)"
   ]
  },
  {
   "cell_type": "code",
   "execution_count": 5,
   "id": "a4c94de0",
   "metadata": {
    "execution": {
     "iopub.execute_input": "2021-06-17T22:27:04.405914Z",
     "iopub.status.busy": "2021-06-17T22:27:04.405346Z",
     "iopub.status.idle": "2021-06-17T22:27:04.410175Z",
     "shell.execute_reply": "2021-06-17T22:27:04.410602Z"
    }
   },
   "outputs": [
    {
     "name": "stdout",
     "output_type": "stream",
     "text": [
      "StabilizerTable: ['-IY', '+IZ', '+XY', '-XZ']\n"
     ]
    }
   ],
   "source": [
    "from qiskit.quantum_info.operators import StabilizerTable\n",
    "\n",
    "current = StabilizerTable.from_labels(['+I', '-X'])\n",
    "other =  StabilizerTable.from_labels(['-Y', '+Z'])\n",
    "print(current.tensor(other))"
   ]
  },
  {
   "cell_type": "code",
   "execution_count": 6,
   "id": "84df1e87",
   "metadata": {
    "execution": {
     "iopub.execute_input": "2021-06-17T22:27:04.415145Z",
     "iopub.status.busy": "2021-06-17T22:27:04.414226Z",
     "iopub.status.idle": "2021-06-17T22:27:04.419028Z",
     "shell.execute_reply": "2021-06-17T22:27:04.418347Z"
    }
   },
   "outputs": [
    {
     "name": "stdout",
     "output_type": "stream",
     "text": [
      "StabilizerTable: ['+X', '+I', '-I', '-X']\n"
     ]
    }
   ],
   "source": [
    "from qiskit.quantum_info.operators import StabilizerTable\n",
    "\n",
    "st = StabilizerTable.from_labels(['+X', '+I', '-I', '-X', '+X', '-X', '+I'])\n",
    "unique = st.unique()\n",
    "print(unique)"
   ]
  }
 ],
 "metadata": {
  "kernelspec": {
   "display_name": "Python 3",
   "language": "python",
   "name": "python3"
  },
  "language_info": {
   "codemirror_mode": {
    "name": "ipython",
    "version": 3
   },
   "file_extension": ".py",
   "mimetype": "text/x-python",
   "name": "python",
   "nbconvert_exporter": "python",
   "pygments_lexer": "ipython3",
   "version": "3.8.10"
  }
 },
 "nbformat": 4,
 "nbformat_minor": 5
}