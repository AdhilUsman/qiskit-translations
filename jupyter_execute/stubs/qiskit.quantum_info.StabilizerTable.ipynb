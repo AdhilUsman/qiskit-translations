{
 "cells": [
  {
   "cell_type": "code",
   "execution_count": 1,
   "id": "3768d5fb",
   "metadata": {
    "execution": {
     "iopub.execute_input": "2021-04-12T15:42:41.943517Z",
     "iopub.status.busy": "2021-04-12T15:42:41.942183Z",
     "iopub.status.idle": "2021-04-12T15:42:42.575800Z",
     "shell.execute_reply": "2021-04-12T15:42:42.575178Z"
    }
   },
   "outputs": [
    {
     "name": "stdout",
     "output_type": "stream",
     "text": [
      "StabilizerTable: ['+X', '-Z', '-I', '-Y']\n"
     ]
    }
   ],
   "source": [
    "from qiskit.quantum_info.operators import StabilizerTable\n",
    "\n",
    "current = StabilizerTable.from_labels(['+I', '-X'])\n",
    "other =  StabilizerTable.from_labels(['+X', '-Z'])\n",
    "print(current.compose(other))"
   ]
  },
  {
   "cell_type": "code",
   "execution_count": 2,
   "id": "affc1e88",
   "metadata": {
    "execution": {
     "iopub.execute_input": "2021-04-12T15:42:42.581841Z",
     "iopub.status.busy": "2021-04-12T15:42:42.581180Z",
     "iopub.status.idle": "2021-04-12T15:42:42.586439Z",
     "shell.execute_reply": "2021-04-12T15:42:42.585888Z"
    }
   },
   "outputs": [
    {
     "name": "stdout",
     "output_type": "stream",
     "text": [
      "StabilizerTable: ['+X', '-Z', '-I', '+Y']\n"
     ]
    }
   ],
   "source": [
    "from qiskit.quantum_info.operators import StabilizerTable\n",
    "\n",
    "current = StabilizerTable.from_labels(['+I', '-X'])\n",
    "other =  StabilizerTable.from_labels(['+X', '-Z'])\n",
    "print(current.dot(other))"
   ]
  },
  {
   "cell_type": "code",
   "execution_count": 3,
   "id": "71eba341",
   "metadata": {
    "execution": {
     "iopub.execute_input": "2021-04-12T15:42:42.590997Z",
     "iopub.status.busy": "2021-04-12T15:42:42.590380Z",
     "iopub.status.idle": "2021-04-12T15:42:42.594421Z",
     "shell.execute_reply": "2021-04-12T15:42:42.593892Z"
    }
   },
   "outputs": [
    {
     "name": "stdout",
     "output_type": "stream",
     "text": [
      "StabilizerTable: ['-YI', '+YX', '+ZI', '-ZX']\n"
     ]
    }
   ],
   "source": [
    "from qiskit.quantum_info.operators import StabilizerTable\n",
    "\n",
    "current = StabilizerTable.from_labels(['+I', '-X'])\n",
    "other =  StabilizerTable.from_labels(['-Y', '+Z'])\n",
    "print(current.expand(other))"
   ]
  },
  {
   "cell_type": "code",
   "execution_count": 4,
   "id": "addb5e6d",
   "metadata": {
    "execution": {
     "iopub.execute_input": "2021-04-12T15:42:42.604219Z",
     "iopub.status.busy": "2021-04-12T15:42:42.602832Z",
     "iopub.status.idle": "2021-04-12T15:42:42.606717Z",
     "shell.execute_reply": "2021-04-12T15:42:42.606212Z"
    }
   },
   "outputs": [
    {
     "name": "stdout",
     "output_type": "stream",
     "text": [
      "Initial Ordering\n",
      "StabilizerTable: ['-YX', '+XZ', '+ZZ', '+II', '+IX', '-XY', '+IZ', '+XI', '+ZI', '-ZI', '+ZX', '+XX', '-IY', '-XZ', '+XY', '-XI', '+YZ', '+YY', '-ZY', '-XX', '+ZY', '+YX', '-ZZ', '-YI', '-IX', '-YZ', '-YY', '-IZ', '+YI', '+IY', '-ZX', '-II']\n",
      "Lexicographically sorted\n",
      "StabilizerTable: ['+II', '-II', '+IX', '-IX', '-IY', '+IY', '+IZ', '-IZ', '+XI', '-XI', '+XX', '-XX', '-XY', '+XY', '+XZ', '-XZ', '-YI', '+YI', '-YX', '+YX', '+YY', '-YY', '+YZ', '-YZ', '+ZI', '-ZI', '+ZX', '-ZX', '-ZY', '+ZY', '+ZZ', '-ZZ']\n",
      "Weight sorted\n",
      "StabilizerTable: ['+II', '-II', '+IX', '-IX', '-IY', '+IY', '+IZ', '-IZ', '+XI', '-XI', '-YI', '+YI', '+ZI', '-ZI', '+XX', '-XX', '-XY', '+XY', '+XZ', '-XZ', '-YX', '+YX', '+YY', '-YY', '+YZ', '-YZ', '+ZX', '-ZX', '-ZY', '+ZY', '+ZZ', '-ZZ']\n"
     ]
    }
   ],
   "source": [
    "from numpy.random import shuffle\n",
    "from qiskit.quantum_info.operators import StabilizerTable\n",
    "\n",
    "# 2-qubit labels\n",
    "labels = ['+II', '+IX', '+IY', '+IZ', '+XI', '+XX', '+XY', '+XZ',\n",
    "          '+YI', '+YX', '+YY', '+YZ', '+ZI', '+ZX', '+ZY', '+ZZ',\n",
    "          '-II', '-IX', '-IY', '-IZ', '-XI', '-XX', '-XY', '-XZ',\n",
    "          '-YI', '-YX', '-YY', '-YZ', '-ZI', '-ZX', '-ZY', '-ZZ']\n",
    "# Shuffle Labels\n",
    "shuffle(labels)\n",
    "st = StabilizerTable.from_labels(labels)\n",
    "print('Initial Ordering')\n",
    "print(st)\n",
    "\n",
    "# Lexicographic Ordering\n",
    "srt = st.sort()\n",
    "print('Lexicographically sorted')\n",
    "print(srt)\n",
    "\n",
    "# Weight Ordering\n",
    "srt = st.sort(weight=True)\n",
    "print('Weight sorted')\n",
    "print(srt)"
   ]
  },
  {
   "cell_type": "code",
   "execution_count": 5,
   "id": "49e9dfb9",
   "metadata": {
    "execution": {
     "iopub.execute_input": "2021-04-12T15:42:42.613192Z",
     "iopub.status.busy": "2021-04-12T15:42:42.611491Z",
     "iopub.status.idle": "2021-04-12T15:42:42.615210Z",
     "shell.execute_reply": "2021-04-12T15:42:42.614585Z"
    }
   },
   "outputs": [
    {
     "name": "stdout",
     "output_type": "stream",
     "text": [
      "StabilizerTable: ['-IY', '+IZ', '+XY', '-XZ']\n"
     ]
    }
   ],
   "source": [
    "from qiskit.quantum_info.operators import StabilizerTable\n",
    "\n",
    "current = StabilizerTable.from_labels(['+I', '-X'])\n",
    "other =  StabilizerTable.from_labels(['-Y', '+Z'])\n",
    "print(current.tensor(other))"
   ]
  },
  {
   "cell_type": "code",
   "execution_count": 6,
   "id": "ef080e18",
   "metadata": {
    "execution": {
     "iopub.execute_input": "2021-04-12T15:42:42.620709Z",
     "iopub.status.busy": "2021-04-12T15:42:42.619828Z",
     "iopub.status.idle": "2021-04-12T15:42:42.622584Z",
     "shell.execute_reply": "2021-04-12T15:42:42.623056Z"
    }
   },
   "outputs": [
    {
     "name": "stdout",
     "output_type": "stream",
     "text": [
      "StabilizerTable: ['+X', '+I', '-I', '-X']\n"
     ]
    }
   ],
   "source": [
    "from qiskit.quantum_info.operators import StabilizerTable\n",
    "\n",
    "st = StabilizerTable.from_labels(['+X', '+I', '-I', '-X', '+X', '-X', '+I'])\n",
    "unique = st.unique()\n",
    "print(unique)"
   ]
  }
 ],
 "metadata": {
  "kernelspec": {
   "display_name": "Python 3",
   "language": "python",
   "name": "python3"
  },
  "language_info": {
   "codemirror_mode": {
    "name": "ipython",
    "version": 3
   },
   "file_extension": ".py",
   "mimetype": "text/x-python",
   "name": "python",
   "nbconvert_exporter": "python",
   "pygments_lexer": "ipython3",
   "version": "3.8.8"
  }
 },
 "nbformat": 4,
 "nbformat_minor": 5
}