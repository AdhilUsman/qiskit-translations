{
 "cells": [
  {
   "cell_type": "code",
   "execution_count": 1,
   "id": "5c9156e9",
   "metadata": {
    "execution": {
     "iopub.execute_input": "2021-04-05T08:07:47.974453Z",
     "iopub.status.busy": "2021-04-05T08:07:47.973855Z",
     "iopub.status.idle": "2021-04-05T08:07:48.762706Z",
     "shell.execute_reply": "2021-04-05T08:07:48.763206Z"
    }
   },
   "outputs": [
    {
     "name": "stdout",
     "output_type": "stream",
     "text": [
      "StabilizerTable: ['+X', '-Z', '-I', '-Y']\n"
     ]
    }
   ],
   "source": [
    "from qiskit.quantum_info.operators import StabilizerTable\n",
    "\n",
    "current = StabilizerTable.from_labels(['+I', '-X'])\n",
    "other =  StabilizerTable.from_labels(['+X', '-Z'])\n",
    "print(current.compose(other))"
   ]
  },
  {
   "cell_type": "code",
   "execution_count": 2,
   "id": "34e7c74f",
   "metadata": {
    "execution": {
     "iopub.execute_input": "2021-04-05T08:07:48.770206Z",
     "iopub.status.busy": "2021-04-05T08:07:48.768754Z",
     "iopub.status.idle": "2021-04-05T08:07:48.772223Z",
     "shell.execute_reply": "2021-04-05T08:07:48.771646Z"
    }
   },
   "outputs": [
    {
     "name": "stdout",
     "output_type": "stream",
     "text": [
      "StabilizerTable: ['+X', '-Z', '-I', '+Y']\n"
     ]
    }
   ],
   "source": [
    "from qiskit.quantum_info.operators import StabilizerTable\n",
    "\n",
    "current = StabilizerTable.from_labels(['+I', '-X'])\n",
    "other =  StabilizerTable.from_labels(['+X', '-Z'])\n",
    "print(current.dot(other))"
   ]
  },
  {
   "cell_type": "code",
   "execution_count": 3,
   "id": "ef3a64d5",
   "metadata": {
    "execution": {
     "iopub.execute_input": "2021-04-05T08:07:48.778851Z",
     "iopub.status.busy": "2021-04-05T08:07:48.777350Z",
     "iopub.status.idle": "2021-04-05T08:07:48.780874Z",
     "shell.execute_reply": "2021-04-05T08:07:48.780324Z"
    }
   },
   "outputs": [
    {
     "name": "stdout",
     "output_type": "stream",
     "text": [
      "StabilizerTable: ['-YI', '+YX', '+ZI', '-ZX']\n"
     ]
    }
   ],
   "source": [
    "from qiskit.quantum_info.operators import StabilizerTable\n",
    "\n",
    "current = StabilizerTable.from_labels(['+I', '-X'])\n",
    "other =  StabilizerTable.from_labels(['-Y', '+Z'])\n",
    "print(current.expand(other))"
   ]
  },
  {
   "cell_type": "code",
   "execution_count": 4,
   "id": "ac22fdc6",
   "metadata": {
    "execution": {
     "iopub.execute_input": "2021-04-05T08:07:48.788225Z",
     "iopub.status.busy": "2021-04-05T08:07:48.787536Z",
     "iopub.status.idle": "2021-04-05T08:07:48.793387Z",
     "shell.execute_reply": "2021-04-05T08:07:48.793888Z"
    }
   },
   "outputs": [
    {
     "name": "stdout",
     "output_type": "stream",
     "text": [
      "Initial Ordering\n",
      "StabilizerTable: ['+II', '-ZY', '+IX', '-ZZ', '+IY', '+XZ', '-YY', '+YX', '+ZI', '-II', '-YI', '-IY', '+XY', '-XX', '-ZX', '+YY', '+YI', '-IX', '+YZ', '+IZ', '+ZX', '-IZ', '-XZ', '-YZ', '-YX', '-XI', '+ZZ', '+ZY', '+XX', '+XI', '-XY', '-ZI']\n",
      "Lexicographically sorted\n",
      "StabilizerTable: ['+II', '-II', '+IX', '-IX', '+IY', '-IY', '+IZ', '-IZ', '-XI', '+XI', '-XX', '+XX', '+XY', '-XY', '+XZ', '-XZ', '-YI', '+YI', '+YX', '-YX', '-YY', '+YY', '+YZ', '-YZ', '+ZI', '-ZI', '-ZX', '+ZX', '-ZY', '+ZY', '-ZZ', '+ZZ']\n",
      "Weight sorted\n",
      "StabilizerTable: ['+II', '-II', '+IX', '-IX', '+IY', '-IY', '+IZ', '-IZ', '-XI', '+XI', '-YI', '+YI', '+ZI', '-ZI', '-XX', '+XX', '+XY', '-XY', '+XZ', '-XZ', '+YX', '-YX', '-YY', '+YY', '+YZ', '-YZ', '-ZX', '+ZX', '-ZY', '+ZY', '-ZZ', '+ZZ']\n"
     ]
    }
   ],
   "source": [
    "from numpy.random import shuffle\n",
    "from qiskit.quantum_info.operators import StabilizerTable\n",
    "\n",
    "# 2-qubit labels\n",
    "labels = ['+II', '+IX', '+IY', '+IZ', '+XI', '+XX', '+XY', '+XZ',\n",
    "          '+YI', '+YX', '+YY', '+YZ', '+ZI', '+ZX', '+ZY', '+ZZ',\n",
    "          '-II', '-IX', '-IY', '-IZ', '-XI', '-XX', '-XY', '-XZ',\n",
    "          '-YI', '-YX', '-YY', '-YZ', '-ZI', '-ZX', '-ZY', '-ZZ']\n",
    "# Shuffle Labels\n",
    "shuffle(labels)\n",
    "st = StabilizerTable.from_labels(labels)\n",
    "print('Initial Ordering')\n",
    "print(st)\n",
    "\n",
    "# Lexicographic Ordering\n",
    "srt = st.sort()\n",
    "print('Lexicographically sorted')\n",
    "print(srt)\n",
    "\n",
    "# Weight Ordering\n",
    "srt = st.sort(weight=True)\n",
    "print('Weight sorted')\n",
    "print(srt)"
   ]
  },
  {
   "cell_type": "code",
   "execution_count": 5,
   "id": "589eef6b",
   "metadata": {
    "execution": {
     "iopub.execute_input": "2021-04-05T08:07:48.801810Z",
     "iopub.status.busy": "2021-04-05T08:07:48.799349Z",
     "iopub.status.idle": "2021-04-05T08:07:48.803882Z",
     "shell.execute_reply": "2021-04-05T08:07:48.803287Z"
    }
   },
   "outputs": [
    {
     "name": "stdout",
     "output_type": "stream",
     "text": [
      "StabilizerTable: ['-IY', '+IZ', '+XY', '-XZ']\n"
     ]
    }
   ],
   "source": [
    "from qiskit.quantum_info.operators import StabilizerTable\n",
    "\n",
    "current = StabilizerTable.from_labels(['+I', '-X'])\n",
    "other =  StabilizerTable.from_labels(['-Y', '+Z'])\n",
    "print(current.tensor(other))"
   ]
  },
  {
   "cell_type": "code",
   "execution_count": 6,
   "id": "c55e3220",
   "metadata": {
    "execution": {
     "iopub.execute_input": "2021-04-05T08:07:48.810757Z",
     "iopub.status.busy": "2021-04-05T08:07:48.809372Z",
     "iopub.status.idle": "2021-04-05T08:07:48.812770Z",
     "shell.execute_reply": "2021-04-05T08:07:48.812224Z"
    }
   },
   "outputs": [
    {
     "name": "stdout",
     "output_type": "stream",
     "text": [
      "StabilizerTable: ['+X', '+I', '-I', '-X']\n"
     ]
    }
   ],
   "source": [
    "from qiskit.quantum_info.operators import StabilizerTable\n",
    "\n",
    "st = StabilizerTable.from_labels(['+X', '+I', '-I', '-X', '+X', '-X', '+I'])\n",
    "unique = st.unique()\n",
    "print(unique)"
   ]
  }
 ],
 "metadata": {
  "kernelspec": {
   "display_name": "Python 3",
   "language": "python",
   "name": "python3"
  },
  "language_info": {
   "codemirror_mode": {
    "name": "ipython",
    "version": 3
   },
   "file_extension": ".py",
   "mimetype": "text/x-python",
   "name": "python",
   "nbconvert_exporter": "python",
   "pygments_lexer": "ipython3",
   "version": "3.8.8"
  }
 },
 "nbformat": 4,
 "nbformat_minor": 5
}