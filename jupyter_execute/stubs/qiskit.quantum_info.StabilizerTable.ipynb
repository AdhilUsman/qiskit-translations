{
 "cells": [
  {
   "cell_type": "code",
   "execution_count": 1,
   "id": "bbb26c62",
   "metadata": {
    "execution": {
     "iopub.execute_input": "2021-04-28T19:15:01.693027Z",
     "iopub.status.busy": "2021-04-28T19:15:01.692531Z",
     "iopub.status.idle": "2021-04-28T19:15:02.253869Z",
     "shell.execute_reply": "2021-04-28T19:15:02.254256Z"
    }
   },
   "outputs": [
    {
     "name": "stdout",
     "output_type": "stream",
     "text": [
      "StabilizerTable: ['+X', '-Z', '-I', '-Y']\n"
     ]
    }
   ],
   "source": [
    "from qiskit.quantum_info.operators import StabilizerTable\n",
    "\n",
    "current = StabilizerTable.from_labels(['+I', '-X'])\n",
    "other =  StabilizerTable.from_labels(['+X', '-Z'])\n",
    "print(current.compose(other))"
   ]
  },
  {
   "cell_type": "code",
   "execution_count": 2,
   "id": "a879ee8b",
   "metadata": {
    "execution": {
     "iopub.execute_input": "2021-04-28T19:15:02.259408Z",
     "iopub.status.busy": "2021-04-28T19:15:02.258482Z",
     "iopub.status.idle": "2021-04-28T19:15:02.261058Z",
     "shell.execute_reply": "2021-04-28T19:15:02.260660Z"
    }
   },
   "outputs": [
    {
     "name": "stdout",
     "output_type": "stream",
     "text": [
      "StabilizerTable: ['+X', '-Z', '-I', '+Y']\n"
     ]
    }
   ],
   "source": [
    "from qiskit.quantum_info.operators import StabilizerTable\n",
    "\n",
    "current = StabilizerTable.from_labels(['+I', '-X'])\n",
    "other =  StabilizerTable.from_labels(['+X', '-Z'])\n",
    "print(current.dot(other))"
   ]
  },
  {
   "cell_type": "code",
   "execution_count": 3,
   "id": "2b2925eb",
   "metadata": {
    "execution": {
     "iopub.execute_input": "2021-04-28T19:15:02.265804Z",
     "iopub.status.busy": "2021-04-28T19:15:02.264992Z",
     "iopub.status.idle": "2021-04-28T19:15:02.267476Z",
     "shell.execute_reply": "2021-04-28T19:15:02.267078Z"
    }
   },
   "outputs": [
    {
     "name": "stdout",
     "output_type": "stream",
     "text": [
      "StabilizerTable: ['-YI', '+YX', '+ZI', '-ZX']\n"
     ]
    }
   ],
   "source": [
    "from qiskit.quantum_info.operators import StabilizerTable\n",
    "\n",
    "current = StabilizerTable.from_labels(['+I', '-X'])\n",
    "other =  StabilizerTable.from_labels(['-Y', '+Z'])\n",
    "print(current.expand(other))"
   ]
  },
  {
   "cell_type": "code",
   "execution_count": 4,
   "id": "f593906b",
   "metadata": {
    "execution": {
     "iopub.execute_input": "2021-04-28T19:15:02.277170Z",
     "iopub.status.busy": "2021-04-28T19:15:02.276334Z",
     "iopub.status.idle": "2021-04-28T19:15:02.278171Z",
     "shell.execute_reply": "2021-04-28T19:15:02.276763Z"
    }
   },
   "outputs": [
    {
     "name": "stdout",
     "output_type": "stream",
     "text": [
      "Initial Ordering\n",
      "StabilizerTable: ['-ZX', '+YX', '+YY', '-XZ', '+XX', '+XY', '-YI', '+YZ', '-IZ', '+IX', '+II', '+ZZ', '+XZ', '-IX', '-YZ', '-XY', '-IY', '-XI', '+YI', '+XI', '-II', '-YX', '-ZZ', '-ZY', '-XX', '+ZY', '+ZI', '+ZX', '-YY', '+IZ', '+IY', '-ZI']\n",
      "Lexicographically sorted\n",
      "StabilizerTable: ['+II', '-II', '+IX', '-IX', '-IY', '+IY', '-IZ', '+IZ', '-XI', '+XI', '+XX', '-XX', '+XY', '-XY', '-XZ', '+XZ', '-YI', '+YI', '+YX', '-YX', '+YY', '-YY', '+YZ', '-YZ', '+ZI', '-ZI', '-ZX', '+ZX', '-ZY', '+ZY', '+ZZ', '-ZZ']\n",
      "Weight sorted\n",
      "StabilizerTable: ['+II', '-II', '+IX', '-IX', '-IY', '+IY', '-IZ', '+IZ', '-XI', '+XI', '-YI', '+YI', '+ZI', '-ZI', '+XX', '-XX', '+XY', '-XY', '-XZ', '+XZ', '+YX', '-YX', '+YY', '-YY', '+YZ', '-YZ', '-ZX', '+ZX', '-ZY', '+ZY', '+ZZ', '-ZZ']\n"
     ]
    }
   ],
   "source": [
    "from numpy.random import shuffle\n",
    "from qiskit.quantum_info.operators import StabilizerTable\n",
    "\n",
    "# 2-qubit labels\n",
    "labels = ['+II', '+IX', '+IY', '+IZ', '+XI', '+XX', '+XY', '+XZ',\n",
    "          '+YI', '+YX', '+YY', '+YZ', '+ZI', '+ZX', '+ZY', '+ZZ',\n",
    "          '-II', '-IX', '-IY', '-IZ', '-XI', '-XX', '-XY', '-XZ',\n",
    "          '-YI', '-YX', '-YY', '-YZ', '-ZI', '-ZX', '-ZY', '-ZZ']\n",
    "# Shuffle Labels\n",
    "shuffle(labels)\n",
    "st = StabilizerTable.from_labels(labels)\n",
    "print('Initial Ordering')\n",
    "print(st)\n",
    "\n",
    "# Lexicographic Ordering\n",
    "srt = st.sort()\n",
    "print('Lexicographically sorted')\n",
    "print(srt)\n",
    "\n",
    "# Weight Ordering\n",
    "srt = st.sort(weight=True)\n",
    "print('Weight sorted')\n",
    "print(srt)"
   ]
  },
  {
   "cell_type": "code",
   "execution_count": 5,
   "id": "c7be6262",
   "metadata": {
    "execution": {
     "iopub.execute_input": "2021-04-28T19:15:02.282622Z",
     "iopub.status.busy": "2021-04-28T19:15:02.281825Z",
     "iopub.status.idle": "2021-04-28T19:15:02.284581Z",
     "shell.execute_reply": "2021-04-28T19:15:02.284167Z"
    }
   },
   "outputs": [
    {
     "name": "stdout",
     "output_type": "stream",
     "text": [
      "StabilizerTable: ['-IY', '+IZ', '+XY', '-XZ']\n"
     ]
    }
   ],
   "source": [
    "from qiskit.quantum_info.operators import StabilizerTable\n",
    "\n",
    "current = StabilizerTable.from_labels(['+I', '-X'])\n",
    "other =  StabilizerTable.from_labels(['-Y', '+Z'])\n",
    "print(current.tensor(other))"
   ]
  },
  {
   "cell_type": "code",
   "execution_count": 6,
   "id": "c2eef156",
   "metadata": {
    "execution": {
     "iopub.execute_input": "2021-04-28T19:15:02.289111Z",
     "iopub.status.busy": "2021-04-28T19:15:02.288320Z",
     "iopub.status.idle": "2021-04-28T19:15:02.290922Z",
     "shell.execute_reply": "2021-04-28T19:15:02.290506Z"
    }
   },
   "outputs": [
    {
     "name": "stdout",
     "output_type": "stream",
     "text": [
      "StabilizerTable: ['+X', '+I', '-I', '-X']\n"
     ]
    }
   ],
   "source": [
    "from qiskit.quantum_info.operators import StabilizerTable\n",
    "\n",
    "st = StabilizerTable.from_labels(['+X', '+I', '-I', '-X', '+X', '-X', '+I'])\n",
    "unique = st.unique()\n",
    "print(unique)"
   ]
  }
 ],
 "metadata": {
  "kernelspec": {
   "display_name": "Python 3",
   "language": "python",
   "name": "python3"
  },
  "language_info": {
   "codemirror_mode": {
    "name": "ipython",
    "version": 3
   },
   "file_extension": ".py",
   "mimetype": "text/x-python",
   "name": "python",
   "nbconvert_exporter": "python",
   "pygments_lexer": "ipython3",
   "version": "3.8.9"
  }
 },
 "nbformat": 4,
 "nbformat_minor": 5
}