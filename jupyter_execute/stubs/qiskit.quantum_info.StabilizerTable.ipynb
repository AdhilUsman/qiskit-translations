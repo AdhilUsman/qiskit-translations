{
 "cells": [
  {
   "cell_type": "code",
   "execution_count": 1,
   "id": "e5ab3de9",
   "metadata": {
    "execution": {
     "iopub.execute_input": "2021-06-21T03:02:20.436264Z",
     "iopub.status.busy": "2021-06-21T03:02:20.435745Z",
     "iopub.status.idle": "2021-06-21T03:02:21.166625Z",
     "shell.execute_reply": "2021-06-21T03:02:21.165710Z"
    }
   },
   "outputs": [
    {
     "name": "stdout",
     "output_type": "stream",
     "text": [
      "StabilizerTable: ['+X', '-Z', '-I', '-Y']\n"
     ]
    }
   ],
   "source": [
    "from qiskit.quantum_info.operators import StabilizerTable\n",
    "\n",
    "current = StabilizerTable.from_labels(['+I', '-X'])\n",
    "other =  StabilizerTable.from_labels(['+X', '-Z'])\n",
    "print(current.compose(other))"
   ]
  },
  {
   "cell_type": "code",
   "execution_count": 2,
   "id": "e5f8de98",
   "metadata": {
    "execution": {
     "iopub.execute_input": "2021-06-21T03:02:21.171411Z",
     "iopub.status.busy": "2021-06-21T03:02:21.170873Z",
     "iopub.status.idle": "2021-06-21T03:02:21.174663Z",
     "shell.execute_reply": "2021-06-21T03:02:21.175069Z"
    }
   },
   "outputs": [
    {
     "name": "stdout",
     "output_type": "stream",
     "text": [
      "StabilizerTable: ['+X', '-Z', '-I', '+Y']\n"
     ]
    }
   ],
   "source": [
    "from qiskit.quantum_info.operators import StabilizerTable\n",
    "\n",
    "current = StabilizerTable.from_labels(['+I', '-X'])\n",
    "other =  StabilizerTable.from_labels(['+X', '-Z'])\n",
    "print(current.dot(other))"
   ]
  },
  {
   "cell_type": "code",
   "execution_count": 3,
   "id": "a9cc118d",
   "metadata": {
    "execution": {
     "iopub.execute_input": "2021-06-21T03:02:21.179791Z",
     "iopub.status.busy": "2021-06-21T03:02:21.179274Z",
     "iopub.status.idle": "2021-06-21T03:02:21.182985Z",
     "shell.execute_reply": "2021-06-21T03:02:21.182562Z"
    }
   },
   "outputs": [
    {
     "name": "stdout",
     "output_type": "stream",
     "text": [
      "StabilizerTable: ['-YI', '+YX', '+ZI', '-ZX']\n"
     ]
    }
   ],
   "source": [
    "from qiskit.quantum_info.operators import StabilizerTable\n",
    "\n",
    "current = StabilizerTable.from_labels(['+I', '-X'])\n",
    "other =  StabilizerTable.from_labels(['-Y', '+Z'])\n",
    "print(current.expand(other))"
   ]
  },
  {
   "cell_type": "code",
   "execution_count": 4,
   "id": "f5d61a0c",
   "metadata": {
    "execution": {
     "iopub.execute_input": "2021-06-21T03:02:21.189748Z",
     "iopub.status.busy": "2021-06-21T03:02:21.188861Z",
     "iopub.status.idle": "2021-06-21T03:02:21.193580Z",
     "shell.execute_reply": "2021-06-21T03:02:21.192796Z"
    }
   },
   "outputs": [
    {
     "name": "stdout",
     "output_type": "stream",
     "text": [
      "Initial Ordering\n",
      "StabilizerTable: ['-XY', '+XI', '+YY', '+IZ', '+XY', '+ZZ', '-YX', '+IX', '-XZ', '+YX', '-YI', '-II', '-ZZ', '-ZI', '-YY', '-IY', '+ZX', '+YZ', '-IX', '-IZ', '+XX', '+IY', '+YI', '+ZY', '-ZX', '+XZ', '+II', '-ZY', '-XI', '-YZ', '-XX', '+ZI']\n",
      "Lexicographically sorted\n",
      "StabilizerTable: ['-II', '+II', '+IX', '-IX', '-IY', '+IY', '+IZ', '-IZ', '+XI', '-XI', '+XX', '-XX', '-XY', '+XY', '-XZ', '+XZ', '-YI', '+YI', '-YX', '+YX', '+YY', '-YY', '+YZ', '-YZ', '-ZI', '+ZI', '+ZX', '-ZX', '+ZY', '-ZY', '+ZZ', '-ZZ']\n",
      "Weight sorted\n",
      "StabilizerTable: ['-II', '+II', '+IX', '-IX', '-IY', '+IY', '+IZ', '-IZ', '+XI', '-XI', '-YI', '+YI', '-ZI', '+ZI', '+XX', '-XX', '-XY', '+XY', '-XZ', '+XZ', '-YX', '+YX', '+YY', '-YY', '+YZ', '-YZ', '+ZX', '-ZX', '+ZY', '-ZY', '+ZZ', '-ZZ']\n"
     ]
    }
   ],
   "source": [
    "from numpy.random import shuffle\n",
    "from qiskit.quantum_info.operators import StabilizerTable\n",
    "\n",
    "# 2-qubit labels\n",
    "labels = ['+II', '+IX', '+IY', '+IZ', '+XI', '+XX', '+XY', '+XZ',\n",
    "          '+YI', '+YX', '+YY', '+YZ', '+ZI', '+ZX', '+ZY', '+ZZ',\n",
    "          '-II', '-IX', '-IY', '-IZ', '-XI', '-XX', '-XY', '-XZ',\n",
    "          '-YI', '-YX', '-YY', '-YZ', '-ZI', '-ZX', '-ZY', '-ZZ']\n",
    "# Shuffle Labels\n",
    "shuffle(labels)\n",
    "st = StabilizerTable.from_labels(labels)\n",
    "print('Initial Ordering')\n",
    "print(st)\n",
    "\n",
    "# Lexicographic Ordering\n",
    "srt = st.sort()\n",
    "print('Lexicographically sorted')\n",
    "print(srt)\n",
    "\n",
    "# Weight Ordering\n",
    "srt = st.sort(weight=True)\n",
    "print('Weight sorted')\n",
    "print(srt)"
   ]
  },
  {
   "cell_type": "code",
   "execution_count": 5,
   "id": "b68cbf37",
   "metadata": {
    "execution": {
     "iopub.execute_input": "2021-06-21T03:02:21.198095Z",
     "iopub.status.busy": "2021-06-21T03:02:21.197566Z",
     "iopub.status.idle": "2021-06-21T03:02:21.202012Z",
     "shell.execute_reply": "2021-06-21T03:02:21.201565Z"
    }
   },
   "outputs": [
    {
     "name": "stdout",
     "output_type": "stream",
     "text": [
      "StabilizerTable: ['-IY', '+IZ', '+XY', '-XZ']\n"
     ]
    }
   ],
   "source": [
    "from qiskit.quantum_info.operators import StabilizerTable\n",
    "\n",
    "current = StabilizerTable.from_labels(['+I', '-X'])\n",
    "other =  StabilizerTable.from_labels(['-Y', '+Z'])\n",
    "print(current.tensor(other))"
   ]
  },
  {
   "cell_type": "code",
   "execution_count": 6,
   "id": "27bd6c3f",
   "metadata": {
    "execution": {
     "iopub.execute_input": "2021-06-21T03:02:21.206254Z",
     "iopub.status.busy": "2021-06-21T03:02:21.205633Z",
     "iopub.status.idle": "2021-06-21T03:02:21.212931Z",
     "shell.execute_reply": "2021-06-21T03:02:21.212504Z"
    }
   },
   "outputs": [
    {
     "name": "stdout",
     "output_type": "stream",
     "text": [
      "StabilizerTable: ['+X', '+I', '-I', '-X']\n"
     ]
    }
   ],
   "source": [
    "from qiskit.quantum_info.operators import StabilizerTable\n",
    "\n",
    "st = StabilizerTable.from_labels(['+X', '+I', '-I', '-X', '+X', '-X', '+I'])\n",
    "unique = st.unique()\n",
    "print(unique)"
   ]
  }
 ],
 "metadata": {
  "kernelspec": {
   "display_name": "Python 3",
   "language": "python",
   "name": "python3"
  },
  "language_info": {
   "codemirror_mode": {
    "name": "ipython",
    "version": 3
   },
   "file_extension": ".py",
   "mimetype": "text/x-python",
   "name": "python",
   "nbconvert_exporter": "python",
   "pygments_lexer": "ipython3",
   "version": "3.8.10"
  }
 },
 "nbformat": 4,
 "nbformat_minor": 5
}