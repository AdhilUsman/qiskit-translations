{
 "cells": [
  {
   "cell_type": "code",
   "execution_count": 1,
   "id": "e0295230",
   "metadata": {
    "execution": {
     "iopub.execute_input": "2021-04-06T11:56:36.421788Z",
     "iopub.status.busy": "2021-04-06T11:56:36.421110Z",
     "iopub.status.idle": "2021-04-06T11:56:37.087771Z",
     "shell.execute_reply": "2021-04-06T11:56:37.088217Z"
    }
   },
   "outputs": [
    {
     "name": "stdout",
     "output_type": "stream",
     "text": [
      "StabilizerTable: ['+X', '-Z', '-I', '-Y']\n"
     ]
    }
   ],
   "source": [
    "from qiskit.quantum_info.operators import StabilizerTable\n",
    "\n",
    "current = StabilizerTable.from_labels(['+I', '-X'])\n",
    "other =  StabilizerTable.from_labels(['+X', '-Z'])\n",
    "print(current.compose(other))"
   ]
  },
  {
   "cell_type": "code",
   "execution_count": 2,
   "id": "941100e5",
   "metadata": {
    "execution": {
     "iopub.execute_input": "2021-04-06T11:56:37.093639Z",
     "iopub.status.busy": "2021-04-06T11:56:37.093080Z",
     "iopub.status.idle": "2021-04-06T11:56:37.097094Z",
     "shell.execute_reply": "2021-04-06T11:56:37.096631Z"
    }
   },
   "outputs": [
    {
     "name": "stdout",
     "output_type": "stream",
     "text": [
      "StabilizerTable: ['+X', '-Z', '-I', '+Y']\n"
     ]
    }
   ],
   "source": [
    "from qiskit.quantum_info.operators import StabilizerTable\n",
    "\n",
    "current = StabilizerTable.from_labels(['+I', '-X'])\n",
    "other =  StabilizerTable.from_labels(['+X', '-Z'])\n",
    "print(current.dot(other))"
   ]
  },
  {
   "cell_type": "code",
   "execution_count": 3,
   "id": "632bd4bd",
   "metadata": {
    "execution": {
     "iopub.execute_input": "2021-04-06T11:56:37.102423Z",
     "iopub.status.busy": "2021-04-06T11:56:37.101585Z",
     "iopub.status.idle": "2021-04-06T11:56:37.105089Z",
     "shell.execute_reply": "2021-04-06T11:56:37.104621Z"
    }
   },
   "outputs": [
    {
     "name": "stdout",
     "output_type": "stream",
     "text": [
      "StabilizerTable: ['-YI', '+YX', '+ZI', '-ZX']\n"
     ]
    }
   ],
   "source": [
    "from qiskit.quantum_info.operators import StabilizerTable\n",
    "\n",
    "current = StabilizerTable.from_labels(['+I', '-X'])\n",
    "other =  StabilizerTable.from_labels(['-Y', '+Z'])\n",
    "print(current.expand(other))"
   ]
  },
  {
   "cell_type": "code",
   "execution_count": 4,
   "id": "5f397334",
   "metadata": {
    "execution": {
     "iopub.execute_input": "2021-04-06T11:56:37.111202Z",
     "iopub.status.busy": "2021-04-06T11:56:37.110466Z",
     "iopub.status.idle": "2021-04-06T11:56:37.115640Z",
     "shell.execute_reply": "2021-04-06T11:56:37.116052Z"
    }
   },
   "outputs": [
    {
     "name": "stdout",
     "output_type": "stream",
     "text": [
      "Initial Ordering\n",
      "StabilizerTable: ['-ZZ', '+ZY', '-IY', '+IY', '+II', '-YZ', '-XY', '+ZX', '-YI', '+XI', '+XX', '+IZ', '-XZ', '+IX', '-ZI', '+XZ', '+ZZ', '+YY', '-ZY', '+ZI', '-XI', '+XY', '+YI', '-IZ', '-II', '-YX', '+YZ', '+YX', '-ZX', '-YY', '-XX', '-IX']\n",
      "Lexicographically sorted\n",
      "StabilizerTable: ['+II', '-II', '+IX', '-IX', '-IY', '+IY', '+IZ', '-IZ', '+XI', '-XI', '+XX', '-XX', '-XY', '+XY', '-XZ', '+XZ', '-YI', '+YI', '-YX', '+YX', '+YY', '-YY', '-YZ', '+YZ', '-ZI', '+ZI', '+ZX', '-ZX', '+ZY', '-ZY', '-ZZ', '+ZZ']\n",
      "Weight sorted\n",
      "StabilizerTable: ['+II', '-II', '+IX', '-IX', '-IY', '+IY', '+IZ', '-IZ', '+XI', '-XI', '-YI', '+YI', '-ZI', '+ZI', '+XX', '-XX', '-XY', '+XY', '-XZ', '+XZ', '-YX', '+YX', '+YY', '-YY', '-YZ', '+YZ', '+ZX', '-ZX', '+ZY', '-ZY', '-ZZ', '+ZZ']\n"
     ]
    }
   ],
   "source": [
    "from numpy.random import shuffle\n",
    "from qiskit.quantum_info.operators import StabilizerTable\n",
    "\n",
    "# 2-qubit labels\n",
    "labels = ['+II', '+IX', '+IY', '+IZ', '+XI', '+XX', '+XY', '+XZ',\n",
    "          '+YI', '+YX', '+YY', '+YZ', '+ZI', '+ZX', '+ZY', '+ZZ',\n",
    "          '-II', '-IX', '-IY', '-IZ', '-XI', '-XX', '-XY', '-XZ',\n",
    "          '-YI', '-YX', '-YY', '-YZ', '-ZI', '-ZX', '-ZY', '-ZZ']\n",
    "# Shuffle Labels\n",
    "shuffle(labels)\n",
    "st = StabilizerTable.from_labels(labels)\n",
    "print('Initial Ordering')\n",
    "print(st)\n",
    "\n",
    "# Lexicographic Ordering\n",
    "srt = st.sort()\n",
    "print('Lexicographically sorted')\n",
    "print(srt)\n",
    "\n",
    "# Weight Ordering\n",
    "srt = st.sort(weight=True)\n",
    "print('Weight sorted')\n",
    "print(srt)"
   ]
  },
  {
   "cell_type": "code",
   "execution_count": 5,
   "id": "eae45bb9",
   "metadata": {
    "execution": {
     "iopub.execute_input": "2021-04-06T11:56:37.122037Z",
     "iopub.status.busy": "2021-04-06T11:56:37.120722Z",
     "iopub.status.idle": "2021-04-06T11:56:37.124019Z",
     "shell.execute_reply": "2021-04-06T11:56:37.123433Z"
    }
   },
   "outputs": [
    {
     "name": "stdout",
     "output_type": "stream",
     "text": [
      "StabilizerTable: ['-IY', '+IZ', '+XY', '-XZ']\n"
     ]
    }
   ],
   "source": [
    "from qiskit.quantum_info.operators import StabilizerTable\n",
    "\n",
    "current = StabilizerTable.from_labels(['+I', '-X'])\n",
    "other =  StabilizerTable.from_labels(['-Y', '+Z'])\n",
    "print(current.tensor(other))"
   ]
  },
  {
   "cell_type": "code",
   "execution_count": 6,
   "id": "af57524c",
   "metadata": {
    "execution": {
     "iopub.execute_input": "2021-04-06T11:56:37.130243Z",
     "iopub.status.busy": "2021-04-06T11:56:37.128779Z",
     "iopub.status.idle": "2021-04-06T11:56:37.131993Z",
     "shell.execute_reply": "2021-04-06T11:56:37.131508Z"
    }
   },
   "outputs": [
    {
     "name": "stdout",
     "output_type": "stream",
     "text": [
      "StabilizerTable: ['+X', '+I', '-I', '-X']\n"
     ]
    }
   ],
   "source": [
    "from qiskit.quantum_info.operators import StabilizerTable\n",
    "\n",
    "st = StabilizerTable.from_labels(['+X', '+I', '-I', '-X', '+X', '-X', '+I'])\n",
    "unique = st.unique()\n",
    "print(unique)"
   ]
  }
 ],
 "metadata": {
  "kernelspec": {
   "display_name": "Python 3",
   "language": "python",
   "name": "python3"
  },
  "language_info": {
   "codemirror_mode": {
    "name": "ipython",
    "version": 3
   },
   "file_extension": ".py",
   "mimetype": "text/x-python",
   "name": "python",
   "nbconvert_exporter": "python",
   "pygments_lexer": "ipython3",
   "version": "3.8.8"
  }
 },
 "nbformat": 4,
 "nbformat_minor": 5
}