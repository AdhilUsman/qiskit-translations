{
 "cells": [
  {
   "cell_type": "code",
   "execution_count": 1,
   "id": "57ec79a2",
   "metadata": {
    "execution": {
     "iopub.execute_input": "2021-04-02T16:58:25.036494Z",
     "iopub.status.busy": "2021-04-02T16:58:25.035920Z",
     "iopub.status.idle": "2021-04-02T16:58:25.697283Z",
     "shell.execute_reply": "2021-04-02T16:58:25.697790Z"
    }
   },
   "outputs": [
    {
     "name": "stdout",
     "output_type": "stream",
     "text": [
      "StabilizerTable: ['+X', '-Z', '-I', '-Y']\n"
     ]
    }
   ],
   "source": [
    "from qiskit.quantum_info.operators import StabilizerTable\n",
    "\n",
    "current = StabilizerTable.from_labels(['+I', '-X'])\n",
    "other =  StabilizerTable.from_labels(['+X', '-Z'])\n",
    "print(current.compose(other))"
   ]
  },
  {
   "cell_type": "code",
   "execution_count": 2,
   "id": "514e0535",
   "metadata": {
    "execution": {
     "iopub.execute_input": "2021-04-02T16:58:25.704250Z",
     "iopub.status.busy": "2021-04-02T16:58:25.702859Z",
     "iopub.status.idle": "2021-04-02T16:58:25.706258Z",
     "shell.execute_reply": "2021-04-02T16:58:25.705784Z"
    }
   },
   "outputs": [
    {
     "name": "stdout",
     "output_type": "stream",
     "text": [
      "StabilizerTable: ['+X', '-Z', '-I', '+Y']\n"
     ]
    }
   ],
   "source": [
    "from qiskit.quantum_info.operators import StabilizerTable\n",
    "\n",
    "current = StabilizerTable.from_labels(['+I', '-X'])\n",
    "other =  StabilizerTable.from_labels(['+X', '-Z'])\n",
    "print(current.dot(other))"
   ]
  },
  {
   "cell_type": "code",
   "execution_count": 3,
   "id": "738f3a04",
   "metadata": {
    "execution": {
     "iopub.execute_input": "2021-04-02T16:58:25.713238Z",
     "iopub.status.busy": "2021-04-02T16:58:25.711155Z",
     "iopub.status.idle": "2021-04-02T16:58:25.715284Z",
     "shell.execute_reply": "2021-04-02T16:58:25.714701Z"
    }
   },
   "outputs": [
    {
     "name": "stdout",
     "output_type": "stream",
     "text": [
      "StabilizerTable: ['-YI', '+YX', '+ZI', '-ZX']\n"
     ]
    }
   ],
   "source": [
    "from qiskit.quantum_info.operators import StabilizerTable\n",
    "\n",
    "current = StabilizerTable.from_labels(['+I', '-X'])\n",
    "other =  StabilizerTable.from_labels(['-Y', '+Z'])\n",
    "print(current.expand(other))"
   ]
  },
  {
   "cell_type": "code",
   "execution_count": 4,
   "id": "cf4f430d",
   "metadata": {
    "execution": {
     "iopub.execute_input": "2021-04-02T16:58:25.721235Z",
     "iopub.status.busy": "2021-04-02T16:58:25.720459Z",
     "iopub.status.idle": "2021-04-02T16:58:25.727153Z",
     "shell.execute_reply": "2021-04-02T16:58:25.726330Z"
    }
   },
   "outputs": [
    {
     "name": "stdout",
     "output_type": "stream",
     "text": [
      "Initial Ordering\n",
      "StabilizerTable: ['+YZ', '+XY', '-IY', '-ZX', '+YY', '-IZ', '+ZZ', '+II', '-IX', '+XX', '+XI', '-XY', '-YY', '+ZI', '-ZZ', '-YZ', '-II', '-ZY', '-XI', '-XX', '+IX', '+YI', '-YI', '-ZI', '+YX', '+XZ', '+ZX', '+ZY', '-YX', '-XZ', '+IZ', '+IY']\n",
      "Lexicographically sorted\n",
      "StabilizerTable: ['+II', '-II', '-IX', '+IX', '-IY', '+IY', '-IZ', '+IZ', '+XI', '-XI', '+XX', '-XX', '+XY', '-XY', '+XZ', '-XZ', '+YI', '-YI', '+YX', '-YX', '+YY', '-YY', '+YZ', '-YZ', '+ZI', '-ZI', '-ZX', '+ZX', '-ZY', '+ZY', '+ZZ', '-ZZ']\n",
      "Weight sorted\n",
      "StabilizerTable: ['+II', '-II', '-IX', '+IX', '-IY', '+IY', '-IZ', '+IZ', '+XI', '-XI', '+YI', '-YI', '+ZI', '-ZI', '+XX', '-XX', '+XY', '-XY', '+XZ', '-XZ', '+YX', '-YX', '+YY', '-YY', '+YZ', '-YZ', '-ZX', '+ZX', '-ZY', '+ZY', '+ZZ', '-ZZ']\n"
     ]
    }
   ],
   "source": [
    "from numpy.random import shuffle\n",
    "from qiskit.quantum_info.operators import StabilizerTable\n",
    "\n",
    "# 2-qubit labels\n",
    "labels = ['+II', '+IX', '+IY', '+IZ', '+XI', '+XX', '+XY', '+XZ',\n",
    "          '+YI', '+YX', '+YY', '+YZ', '+ZI', '+ZX', '+ZY', '+ZZ',\n",
    "          '-II', '-IX', '-IY', '-IZ', '-XI', '-XX', '-XY', '-XZ',\n",
    "          '-YI', '-YX', '-YY', '-YZ', '-ZI', '-ZX', '-ZY', '-ZZ']\n",
    "# Shuffle Labels\n",
    "shuffle(labels)\n",
    "st = StabilizerTable.from_labels(labels)\n",
    "print('Initial Ordering')\n",
    "print(st)\n",
    "\n",
    "# Lexicographic Ordering\n",
    "srt = st.sort()\n",
    "print('Lexicographically sorted')\n",
    "print(srt)\n",
    "\n",
    "# Weight Ordering\n",
    "srt = st.sort(weight=True)\n",
    "print('Weight sorted')\n",
    "print(srt)"
   ]
  },
  {
   "cell_type": "code",
   "execution_count": 5,
   "id": "d8dc2eda",
   "metadata": {
    "execution": {
     "iopub.execute_input": "2021-04-02T16:58:25.734040Z",
     "iopub.status.busy": "2021-04-02T16:58:25.732113Z",
     "iopub.status.idle": "2021-04-02T16:58:25.735778Z",
     "shell.execute_reply": "2021-04-02T16:58:25.734569Z"
    }
   },
   "outputs": [
    {
     "name": "stdout",
     "output_type": "stream",
     "text": [
      "StabilizerTable: ['-IY', '+IZ', '+XY', '-XZ']\n"
     ]
    }
   ],
   "source": [
    "from qiskit.quantum_info.operators import StabilizerTable\n",
    "\n",
    "current = StabilizerTable.from_labels(['+I', '-X'])\n",
    "other =  StabilizerTable.from_labels(['-Y', '+Z'])\n",
    "print(current.tensor(other))"
   ]
  },
  {
   "cell_type": "code",
   "execution_count": 6,
   "id": "e5d40c39",
   "metadata": {
    "execution": {
     "iopub.execute_input": "2021-04-02T16:58:25.742140Z",
     "iopub.status.busy": "2021-04-02T16:58:25.740413Z",
     "iopub.status.idle": "2021-04-02T16:58:25.743916Z",
     "shell.execute_reply": "2021-04-02T16:58:25.743420Z"
    }
   },
   "outputs": [
    {
     "name": "stdout",
     "output_type": "stream",
     "text": [
      "StabilizerTable: ['+X', '+I', '-I', '-X']\n"
     ]
    }
   ],
   "source": [
    "from qiskit.quantum_info.operators import StabilizerTable\n",
    "\n",
    "st = StabilizerTable.from_labels(['+X', '+I', '-I', '-X', '+X', '-X', '+I'])\n",
    "unique = st.unique()\n",
    "print(unique)"
   ]
  }
 ],
 "metadata": {
  "kernelspec": {
   "display_name": "Python 3",
   "language": "python",
   "name": "python3"
  },
  "language_info": {
   "codemirror_mode": {
    "name": "ipython",
    "version": 3
   },
   "file_extension": ".py",
   "mimetype": "text/x-python",
   "name": "python",
   "nbconvert_exporter": "python",
   "pygments_lexer": "ipython3",
   "version": "3.8.8"
  }
 },
 "nbformat": 4,
 "nbformat_minor": 5
}