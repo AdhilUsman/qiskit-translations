{
 "cells": [
  {
   "cell_type": "code",
   "execution_count": 1,
   "id": "de31d560",
   "metadata": {
    "execution": {
     "iopub.execute_input": "2021-04-09T16:24:31.111924Z",
     "iopub.status.busy": "2021-04-09T16:24:31.111412Z",
     "iopub.status.idle": "2021-04-09T16:24:31.630165Z",
     "shell.execute_reply": "2021-04-09T16:24:31.630622Z"
    }
   },
   "outputs": [
    {
     "name": "stdout",
     "output_type": "stream",
     "text": [
      "StabilizerTable: ['+X', '-Z', '-I', '-Y']\n"
     ]
    }
   ],
   "source": [
    "from qiskit.quantum_info.operators import StabilizerTable\n",
    "\n",
    "current = StabilizerTable.from_labels(['+I', '-X'])\n",
    "other =  StabilizerTable.from_labels(['+X', '-Z'])\n",
    "print(current.compose(other))"
   ]
  },
  {
   "cell_type": "code",
   "execution_count": 2,
   "id": "e7c664f6",
   "metadata": {
    "execution": {
     "iopub.execute_input": "2021-04-09T16:24:31.635963Z",
     "iopub.status.busy": "2021-04-09T16:24:31.634933Z",
     "iopub.status.idle": "2021-04-09T16:24:31.637351Z",
     "shell.execute_reply": "2021-04-09T16:24:31.636988Z"
    }
   },
   "outputs": [
    {
     "name": "stdout",
     "output_type": "stream",
     "text": [
      "StabilizerTable: ['+X', '-Z', '-I', '+Y']\n"
     ]
    }
   ],
   "source": [
    "from qiskit.quantum_info.operators import StabilizerTable\n",
    "\n",
    "current = StabilizerTable.from_labels(['+I', '-X'])\n",
    "other =  StabilizerTable.from_labels(['+X', '-Z'])\n",
    "print(current.dot(other))"
   ]
  },
  {
   "cell_type": "code",
   "execution_count": 3,
   "id": "530425fe",
   "metadata": {
    "execution": {
     "iopub.execute_input": "2021-04-09T16:24:31.641688Z",
     "iopub.status.busy": "2021-04-09T16:24:31.640986Z",
     "iopub.status.idle": "2021-04-09T16:24:31.642999Z",
     "shell.execute_reply": "2021-04-09T16:24:31.643316Z"
    }
   },
   "outputs": [
    {
     "name": "stdout",
     "output_type": "stream",
     "text": [
      "StabilizerTable: ['-YI', '+YX', '+ZI', '-ZX']\n"
     ]
    }
   ],
   "source": [
    "from qiskit.quantum_info.operators import StabilizerTable\n",
    "\n",
    "current = StabilizerTable.from_labels(['+I', '-X'])\n",
    "other =  StabilizerTable.from_labels(['-Y', '+Z'])\n",
    "print(current.expand(other))"
   ]
  },
  {
   "cell_type": "code",
   "execution_count": 4,
   "id": "33fcd8c6",
   "metadata": {
    "execution": {
     "iopub.execute_input": "2021-04-09T16:24:31.648370Z",
     "iopub.status.busy": "2021-04-09T16:24:31.647452Z",
     "iopub.status.idle": "2021-04-09T16:24:31.651271Z",
     "shell.execute_reply": "2021-04-09T16:24:31.650935Z"
    }
   },
   "outputs": [
    {
     "name": "stdout",
     "output_type": "stream",
     "text": [
      "Initial Ordering\n",
      "StabilizerTable: ['+IY', '-YY', '+ZX', '+II', '+XZ', '-YI', '+YZ', '+YI', '+IX', '+IZ', '+XI', '-XI', '-XY', '-IZ', '-YX', '+XY', '+YY', '-XX', '+ZY', '-IY', '-ZZ', '+ZI', '+XX', '-ZI', '-ZY', '-II', '+ZZ', '-ZX', '+YX', '-IX', '-YZ', '-XZ']\n",
      "Lexicographically sorted\n",
      "StabilizerTable: ['+II', '-II', '+IX', '-IX', '+IY', '-IY', '+IZ', '-IZ', '+XI', '-XI', '-XX', '+XX', '-XY', '+XY', '+XZ', '-XZ', '-YI', '+YI', '-YX', '+YX', '-YY', '+YY', '+YZ', '-YZ', '+ZI', '-ZI', '+ZX', '-ZX', '+ZY', '-ZY', '-ZZ', '+ZZ']\n",
      "Weight sorted\n",
      "StabilizerTable: ['+II', '-II', '+IX', '-IX', '+IY', '-IY', '+IZ', '-IZ', '+XI', '-XI', '-YI', '+YI', '+ZI', '-ZI', '-XX', '+XX', '-XY', '+XY', '+XZ', '-XZ', '-YX', '+YX', '-YY', '+YY', '+YZ', '-YZ', '+ZX', '-ZX', '+ZY', '-ZY', '-ZZ', '+ZZ']\n"
     ]
    }
   ],
   "source": [
    "from numpy.random import shuffle\n",
    "from qiskit.quantum_info.operators import StabilizerTable\n",
    "\n",
    "# 2-qubit labels\n",
    "labels = ['+II', '+IX', '+IY', '+IZ', '+XI', '+XX', '+XY', '+XZ',\n",
    "          '+YI', '+YX', '+YY', '+YZ', '+ZI', '+ZX', '+ZY', '+ZZ',\n",
    "          '-II', '-IX', '-IY', '-IZ', '-XI', '-XX', '-XY', '-XZ',\n",
    "          '-YI', '-YX', '-YY', '-YZ', '-ZI', '-ZX', '-ZY', '-ZZ']\n",
    "# Shuffle Labels\n",
    "shuffle(labels)\n",
    "st = StabilizerTable.from_labels(labels)\n",
    "print('Initial Ordering')\n",
    "print(st)\n",
    "\n",
    "# Lexicographic Ordering\n",
    "srt = st.sort()\n",
    "print('Lexicographically sorted')\n",
    "print(srt)\n",
    "\n",
    "# Weight Ordering\n",
    "srt = st.sort(weight=True)\n",
    "print('Weight sorted')\n",
    "print(srt)"
   ]
  },
  {
   "cell_type": "code",
   "execution_count": 5,
   "id": "155d24c7",
   "metadata": {
    "execution": {
     "iopub.execute_input": "2021-04-09T16:24:31.655297Z",
     "iopub.status.busy": "2021-04-09T16:24:31.654608Z",
     "iopub.status.idle": "2021-04-09T16:24:31.656603Z",
     "shell.execute_reply": "2021-04-09T16:24:31.656944Z"
    }
   },
   "outputs": [
    {
     "name": "stdout",
     "output_type": "stream",
     "text": [
      "StabilizerTable: ['-IY', '+IZ', '+XY', '-XZ']\n"
     ]
    }
   ],
   "source": [
    "from qiskit.quantum_info.operators import StabilizerTable\n",
    "\n",
    "current = StabilizerTable.from_labels(['+I', '-X'])\n",
    "other =  StabilizerTable.from_labels(['-Y', '+Z'])\n",
    "print(current.tensor(other))"
   ]
  },
  {
   "cell_type": "code",
   "execution_count": 6,
   "id": "9302dfc7",
   "metadata": {
    "execution": {
     "iopub.execute_input": "2021-04-09T16:24:31.661095Z",
     "iopub.status.busy": "2021-04-09T16:24:31.660373Z",
     "iopub.status.idle": "2021-04-09T16:24:31.662341Z",
     "shell.execute_reply": "2021-04-09T16:24:31.662640Z"
    }
   },
   "outputs": [
    {
     "name": "stdout",
     "output_type": "stream",
     "text": [
      "StabilizerTable: ['+X', '+I', '-I', '-X']\n"
     ]
    }
   ],
   "source": [
    "from qiskit.quantum_info.operators import StabilizerTable\n",
    "\n",
    "st = StabilizerTable.from_labels(['+X', '+I', '-I', '-X', '+X', '-X', '+I'])\n",
    "unique = st.unique()\n",
    "print(unique)"
   ]
  }
 ],
 "metadata": {
  "kernelspec": {
   "display_name": "Python 3",
   "language": "python",
   "name": "python3"
  },
  "language_info": {
   "codemirror_mode": {
    "name": "ipython",
    "version": 3
   },
   "file_extension": ".py",
   "mimetype": "text/x-python",
   "name": "python",
   "nbconvert_exporter": "python",
   "pygments_lexer": "ipython3",
   "version": "3.8.8"
  }
 },
 "nbformat": 4,
 "nbformat_minor": 5
}