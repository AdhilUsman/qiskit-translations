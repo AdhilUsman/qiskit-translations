{
 "cells": [
  {
   "cell_type": "code",
   "execution_count": 1,
   "id": "mobile-enterprise",
   "metadata": {
    "execution": {
     "iopub.execute_input": "2021-04-01T11:14:30.004695Z",
     "iopub.status.busy": "2021-04-01T11:14:30.004041Z",
     "iopub.status.idle": "2021-04-01T11:14:31.682422Z",
     "shell.execute_reply": "2021-04-01T11:14:31.682835Z"
    }
   },
   "outputs": [
    {
     "name": "stdout",
     "output_type": "stream",
     "text": [
      "StabilizerTable: ['+X', '-Z', '-I', '-Y']\n"
     ]
    }
   ],
   "source": [
    "from qiskit.quantum_info.operators import StabilizerTable\n",
    "\n",
    "current = StabilizerTable.from_labels(['+I', '-X'])\n",
    "other =  StabilizerTable.from_labels(['+X', '-Z'])\n",
    "print(current.compose(other))"
   ]
  },
  {
   "cell_type": "code",
   "execution_count": 2,
   "id": "square-bloom",
   "metadata": {
    "execution": {
     "iopub.execute_input": "2021-04-01T11:14:31.687950Z",
     "iopub.status.busy": "2021-04-01T11:14:31.687148Z",
     "iopub.status.idle": "2021-04-01T11:14:31.691072Z",
     "shell.execute_reply": "2021-04-01T11:14:31.691520Z"
    }
   },
   "outputs": [
    {
     "name": "stdout",
     "output_type": "stream",
     "text": [
      "StabilizerTable: ['+X', '-Z', '-I', '+Y']\n"
     ]
    }
   ],
   "source": [
    "from qiskit.quantum_info.operators import StabilizerTable\n",
    "\n",
    "current = StabilizerTable.from_labels(['+I', '-X'])\n",
    "other =  StabilizerTable.from_labels(['+X', '-Z'])\n",
    "print(current.dot(other))"
   ]
  },
  {
   "cell_type": "code",
   "execution_count": 3,
   "id": "disabled-delaware",
   "metadata": {
    "execution": {
     "iopub.execute_input": "2021-04-01T11:14:31.697882Z",
     "iopub.status.busy": "2021-04-01T11:14:31.696628Z",
     "iopub.status.idle": "2021-04-01T11:14:31.699637Z",
     "shell.execute_reply": "2021-04-01T11:14:31.699228Z"
    }
   },
   "outputs": [
    {
     "name": "stdout",
     "output_type": "stream",
     "text": [
      "StabilizerTable: ['-YI', '+ZI', '+YX', '-ZX']\n"
     ]
    }
   ],
   "source": [
    "from qiskit.quantum_info.operators import StabilizerTable\n",
    "\n",
    "current = StabilizerTable.from_labels(['+I', '-X'])\n",
    "other =  StabilizerTable.from_labels(['-Y', '+Z'])\n",
    "print(current.expand(other))"
   ]
  },
  {
   "cell_type": "code",
   "execution_count": 4,
   "id": "ethical-fifteen",
   "metadata": {
    "execution": {
     "iopub.execute_input": "2021-04-01T11:14:31.706125Z",
     "iopub.status.busy": "2021-04-01T11:14:31.705130Z",
     "iopub.status.idle": "2021-04-01T11:14:31.710747Z",
     "shell.execute_reply": "2021-04-01T11:14:31.711111Z"
    }
   },
   "outputs": [
    {
     "name": "stdout",
     "output_type": "stream",
     "text": [
      "Initial Ordering\n",
      "StabilizerTable: ['+II', '+XX', '-XI', '-XZ', '-IY', '-ZY', '+IY', '+XI', '+XZ', '+XY', '-YX', '+YI', '-ZX', '+ZX', '+IX', '-IX', '+ZY', '-XY', '-YI', '+IZ', '+ZI', '-ZZ', '+YY', '+YZ', '+YX', '-XX', '-II', '-YZ', '-YY', '+ZZ', '-ZI', '-IZ']\n",
      "Lexicographically sorted\n",
      "StabilizerTable: ['+II', '-II', '+IX', '-IX', '-IY', '+IY', '+IZ', '-IZ', '-XI', '+XI', '+XX', '-XX', '+XY', '-XY', '-XZ', '+XZ', '+YI', '-YI', '-YX', '+YX', '+YY', '-YY', '+YZ', '-YZ', '+ZI', '-ZI', '-ZX', '+ZX', '-ZY', '+ZY', '-ZZ', '+ZZ']\n",
      "Weight sorted\n",
      "StabilizerTable: ['+II', '-II', '+IX', '-IX', '-IY', '+IY', '+IZ', '-IZ', '-XI', '+XI', '+YI', '-YI', '+ZI', '-ZI', '+XX', '-XX', '+XY', '-XY', '-XZ', '+XZ', '-YX', '+YX', '+YY', '-YY', '+YZ', '-YZ', '-ZX', '+ZX', '-ZY', '+ZY', '-ZZ', '+ZZ']\n"
     ]
    }
   ],
   "source": [
    "from numpy.random import shuffle\n",
    "from qiskit.quantum_info.operators import StabilizerTable\n",
    "\n",
    "# 2-qubit labels\n",
    "labels = ['+II', '+IX', '+IY', '+IZ', '+XI', '+XX', '+XY', '+XZ',\n",
    "          '+YI', '+YX', '+YY', '+YZ', '+ZI', '+ZX', '+ZY', '+ZZ',\n",
    "          '-II', '-IX', '-IY', '-IZ', '-XI', '-XX', '-XY', '-XZ',\n",
    "          '-YI', '-YX', '-YY', '-YZ', '-ZI', '-ZX', '-ZY', '-ZZ']\n",
    "# Shuffle Labels\n",
    "shuffle(labels)\n",
    "st = StabilizerTable.from_labels(labels)\n",
    "print('Initial Ordering')\n",
    "print(st)\n",
    "\n",
    "# Lexicographic Ordering\n",
    "srt = st.sort()\n",
    "print('Lexicographically sorted')\n",
    "print(srt)\n",
    "\n",
    "# Weight Ordering\n",
    "srt = st.sort(weight=True)\n",
    "print('Weight sorted')\n",
    "print(srt)"
   ]
  },
  {
   "cell_type": "code",
   "execution_count": 5,
   "id": "terminal-background",
   "metadata": {
    "execution": {
     "iopub.execute_input": "2021-04-01T11:14:31.716175Z",
     "iopub.status.busy": "2021-04-01T11:14:31.715669Z",
     "iopub.status.idle": "2021-04-01T11:14:31.718807Z",
     "shell.execute_reply": "2021-04-01T11:14:31.718194Z"
    }
   },
   "outputs": [
    {
     "name": "stdout",
     "output_type": "stream",
     "text": [
      "StabilizerTable: ['-IY', '+IZ', '+XY', '-XZ']\n"
     ]
    }
   ],
   "source": [
    "from qiskit.quantum_info.operators import StabilizerTable\n",
    "\n",
    "current = StabilizerTable.from_labels(['+I', '-X'])\n",
    "other =  StabilizerTable.from_labels(['-Y', '+Z'])\n",
    "print(current.tensor(other))"
   ]
  },
  {
   "cell_type": "code",
   "execution_count": 6,
   "id": "thick-falls",
   "metadata": {
    "execution": {
     "iopub.execute_input": "2021-04-01T11:14:31.724195Z",
     "iopub.status.busy": "2021-04-01T11:14:31.723323Z",
     "iopub.status.idle": "2021-04-01T11:14:31.726713Z",
     "shell.execute_reply": "2021-04-01T11:14:31.726233Z"
    }
   },
   "outputs": [
    {
     "name": "stdout",
     "output_type": "stream",
     "text": [
      "StabilizerTable: ['+X', '+I', '-I', '-X']\n"
     ]
    }
   ],
   "source": [
    "from qiskit.quantum_info.operators import StabilizerTable\n",
    "\n",
    "st = StabilizerTable.from_labels(['+X', '+I', '-I', '-X', '+X', '-X', '+I'])\n",
    "unique = st.unique()\n",
    "print(unique)"
   ]
  }
 ],
 "metadata": {
  "kernelspec": {
   "display_name": "Python 3",
   "language": "python",
   "name": "python3"
  },
  "language_info": {
   "codemirror_mode": {
    "name": "ipython",
    "version": 3
   },
   "file_extension": ".py",
   "mimetype": "text/x-python",
   "name": "python",
   "nbconvert_exporter": "python",
   "pygments_lexer": "ipython3",
   "version": "3.8.8"
  }
 },
 "nbformat": 4,
 "nbformat_minor": 5
}