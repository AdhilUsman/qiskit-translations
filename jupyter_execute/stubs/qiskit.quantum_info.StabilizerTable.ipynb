{
 "cells": [
  {
   "cell_type": "code",
   "execution_count": 1,
   "id": "46fe4863",
   "metadata": {
    "execution": {
     "iopub.execute_input": "2021-04-20T02:36:03.019000Z",
     "iopub.status.busy": "2021-04-20T02:36:03.018405Z",
     "iopub.status.idle": "2021-04-20T02:36:03.730105Z",
     "shell.execute_reply": "2021-04-20T02:36:03.730554Z"
    }
   },
   "outputs": [
    {
     "name": "stdout",
     "output_type": "stream",
     "text": [
      "StabilizerTable: ['+X', '-Z', '-I', '-Y']\n"
     ]
    }
   ],
   "source": [
    "from qiskit.quantum_info.operators import StabilizerTable\n",
    "\n",
    "current = StabilizerTable.from_labels(['+I', '-X'])\n",
    "other =  StabilizerTable.from_labels(['+X', '-Z'])\n",
    "print(current.compose(other))"
   ]
  },
  {
   "cell_type": "code",
   "execution_count": 2,
   "id": "5261c21c",
   "metadata": {
    "execution": {
     "iopub.execute_input": "2021-04-20T02:36:03.737957Z",
     "iopub.status.busy": "2021-04-20T02:36:03.735783Z",
     "iopub.status.idle": "2021-04-20T02:36:03.739814Z",
     "shell.execute_reply": "2021-04-20T02:36:03.739303Z"
    }
   },
   "outputs": [
    {
     "name": "stdout",
     "output_type": "stream",
     "text": [
      "StabilizerTable: ['+X', '-Z', '-I', '+Y']\n"
     ]
    }
   ],
   "source": [
    "from qiskit.quantum_info.operators import StabilizerTable\n",
    "\n",
    "current = StabilizerTable.from_labels(['+I', '-X'])\n",
    "other =  StabilizerTable.from_labels(['+X', '-Z'])\n",
    "print(current.dot(other))"
   ]
  },
  {
   "cell_type": "code",
   "execution_count": 3,
   "id": "ed1bdad0",
   "metadata": {
    "execution": {
     "iopub.execute_input": "2021-04-20T02:36:03.746139Z",
     "iopub.status.busy": "2021-04-20T02:36:03.744715Z",
     "iopub.status.idle": "2021-04-20T02:36:03.748420Z",
     "shell.execute_reply": "2021-04-20T02:36:03.747875Z"
    }
   },
   "outputs": [
    {
     "name": "stdout",
     "output_type": "stream",
     "text": [
      "StabilizerTable: ['-YI', '+YX', '+ZI', '-ZX']\n"
     ]
    }
   ],
   "source": [
    "from qiskit.quantum_info.operators import StabilizerTable\n",
    "\n",
    "current = StabilizerTable.from_labels(['+I', '-X'])\n",
    "other =  StabilizerTable.from_labels(['-Y', '+Z'])\n",
    "print(current.expand(other))"
   ]
  },
  {
   "cell_type": "code",
   "execution_count": 4,
   "id": "854c5d66",
   "metadata": {
    "execution": {
     "iopub.execute_input": "2021-04-20T02:36:03.756913Z",
     "iopub.status.busy": "2021-04-20T02:36:03.754686Z",
     "iopub.status.idle": "2021-04-20T02:36:03.759581Z",
     "shell.execute_reply": "2021-04-20T02:36:03.760048Z"
    }
   },
   "outputs": [
    {
     "name": "stdout",
     "output_type": "stream",
     "text": [
      "Initial Ordering\n",
      "StabilizerTable: ['-YY', '-IY', '+XI', '+XY', '+XZ', '+YY', '+YX', '+IY', '+ZY', '-ZY', '-IZ', '-XZ', '-II', '+ZZ', '-ZZ', '-ZI', '+ZX', '-YX', '+XX', '+YZ', '-YI', '-ZX', '+IX', '+ZI', '-XX', '-IX', '+IZ', '-YZ', '-XI', '-XY', '+YI', '+II']\n",
      "Lexicographically sorted\n",
      "StabilizerTable: ['-II', '+II', '+IX', '-IX', '-IY', '+IY', '-IZ', '+IZ', '+XI', '-XI', '+XX', '-XX', '+XY', '-XY', '+XZ', '-XZ', '-YI', '+YI', '+YX', '-YX', '-YY', '+YY', '+YZ', '-YZ', '-ZI', '+ZI', '+ZX', '-ZX', '+ZY', '-ZY', '+ZZ', '-ZZ']\n",
      "Weight sorted\n",
      "StabilizerTable: ['-II', '+II', '+IX', '-IX', '-IY', '+IY', '-IZ', '+IZ', '+XI', '-XI', '-YI', '+YI', '-ZI', '+ZI', '+XX', '-XX', '+XY', '-XY', '+XZ', '-XZ', '+YX', '-YX', '-YY', '+YY', '+YZ', '-YZ', '+ZX', '-ZX', '+ZY', '-ZY', '+ZZ', '-ZZ']\n"
     ]
    }
   ],
   "source": [
    "from numpy.random import shuffle\n",
    "from qiskit.quantum_info.operators import StabilizerTable\n",
    "\n",
    "# 2-qubit labels\n",
    "labels = ['+II', '+IX', '+IY', '+IZ', '+XI', '+XX', '+XY', '+XZ',\n",
    "          '+YI', '+YX', '+YY', '+YZ', '+ZI', '+ZX', '+ZY', '+ZZ',\n",
    "          '-II', '-IX', '-IY', '-IZ', '-XI', '-XX', '-XY', '-XZ',\n",
    "          '-YI', '-YX', '-YY', '-YZ', '-ZI', '-ZX', '-ZY', '-ZZ']\n",
    "# Shuffle Labels\n",
    "shuffle(labels)\n",
    "st = StabilizerTable.from_labels(labels)\n",
    "print('Initial Ordering')\n",
    "print(st)\n",
    "\n",
    "# Lexicographic Ordering\n",
    "srt = st.sort()\n",
    "print('Lexicographically sorted')\n",
    "print(srt)\n",
    "\n",
    "# Weight Ordering\n",
    "srt = st.sort(weight=True)\n",
    "print('Weight sorted')\n",
    "print(srt)"
   ]
  },
  {
   "cell_type": "code",
   "execution_count": 5,
   "id": "18983a11",
   "metadata": {
    "execution": {
     "iopub.execute_input": "2021-04-20T02:36:03.766285Z",
     "iopub.status.busy": "2021-04-20T02:36:03.764791Z",
     "iopub.status.idle": "2021-04-20T02:36:03.768257Z",
     "shell.execute_reply": "2021-04-20T02:36:03.767730Z"
    }
   },
   "outputs": [
    {
     "name": "stdout",
     "output_type": "stream",
     "text": [
      "StabilizerTable: ['-IY', '+IZ', '+XY', '-XZ']\n"
     ]
    }
   ],
   "source": [
    "from qiskit.quantum_info.operators import StabilizerTable\n",
    "\n",
    "current = StabilizerTable.from_labels(['+I', '-X'])\n",
    "other =  StabilizerTable.from_labels(['-Y', '+Z'])\n",
    "print(current.tensor(other))"
   ]
  },
  {
   "cell_type": "code",
   "execution_count": 6,
   "id": "5c0a4caf",
   "metadata": {
    "execution": {
     "iopub.execute_input": "2021-04-20T02:36:03.774967Z",
     "iopub.status.busy": "2021-04-20T02:36:03.773527Z",
     "iopub.status.idle": "2021-04-20T02:36:03.776821Z",
     "shell.execute_reply": "2021-04-20T02:36:03.776324Z"
    }
   },
   "outputs": [
    {
     "name": "stdout",
     "output_type": "stream",
     "text": [
      "StabilizerTable: ['+X', '+I', '-I', '-X']\n"
     ]
    }
   ],
   "source": [
    "from qiskit.quantum_info.operators import StabilizerTable\n",
    "\n",
    "st = StabilizerTable.from_labels(['+X', '+I', '-I', '-X', '+X', '-X', '+I'])\n",
    "unique = st.unique()\n",
    "print(unique)"
   ]
  }
 ],
 "metadata": {
  "kernelspec": {
   "display_name": "Python 3",
   "language": "python",
   "name": "python3"
  },
  "language_info": {
   "codemirror_mode": {
    "name": "ipython",
    "version": 3
   },
   "file_extension": ".py",
   "mimetype": "text/x-python",
   "name": "python",
   "nbconvert_exporter": "python",
   "pygments_lexer": "ipython3",
   "version": "3.8.9"
  }
 },
 "nbformat": 4,
 "nbformat_minor": 5
}