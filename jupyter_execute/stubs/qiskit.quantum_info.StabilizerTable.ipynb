{
 "cells": [
  {
   "cell_type": "code",
   "execution_count": 1,
   "id": "dd2b96f1",
   "metadata": {
    "execution": {
     "iopub.execute_input": "2021-06-18T07:24:18.129224Z",
     "iopub.status.busy": "2021-06-18T07:24:18.128559Z",
     "iopub.status.idle": "2021-06-18T07:24:18.797866Z",
     "shell.execute_reply": "2021-06-18T07:24:18.797351Z"
    }
   },
   "outputs": [
    {
     "name": "stdout",
     "output_type": "stream",
     "text": [
      "StabilizerTable: ['+X', '-Z', '-I', '-Y']\n"
     ]
    }
   ],
   "source": [
    "from qiskit.quantum_info.operators import StabilizerTable\n",
    "\n",
    "current = StabilizerTable.from_labels(['+I', '-X'])\n",
    "other =  StabilizerTable.from_labels(['+X', '-Z'])\n",
    "print(current.compose(other))"
   ]
  },
  {
   "cell_type": "code",
   "execution_count": 2,
   "id": "5cca11b0",
   "metadata": {
    "execution": {
     "iopub.execute_input": "2021-06-18T07:24:18.802649Z",
     "iopub.status.busy": "2021-06-18T07:24:18.801761Z",
     "iopub.status.idle": "2021-06-18T07:24:18.806106Z",
     "shell.execute_reply": "2021-06-18T07:24:18.806596Z"
    }
   },
   "outputs": [
    {
     "name": "stdout",
     "output_type": "stream",
     "text": [
      "StabilizerTable: ['+X', '-Z', '-I', '+Y']\n"
     ]
    }
   ],
   "source": [
    "from qiskit.quantum_info.operators import StabilizerTable\n",
    "\n",
    "current = StabilizerTable.from_labels(['+I', '-X'])\n",
    "other =  StabilizerTable.from_labels(['+X', '-Z'])\n",
    "print(current.dot(other))"
   ]
  },
  {
   "cell_type": "code",
   "execution_count": 3,
   "id": "f7d53f8c",
   "metadata": {
    "execution": {
     "iopub.execute_input": "2021-06-18T07:24:18.812054Z",
     "iopub.status.busy": "2021-06-18T07:24:18.811524Z",
     "iopub.status.idle": "2021-06-18T07:24:18.814971Z",
     "shell.execute_reply": "2021-06-18T07:24:18.815370Z"
    }
   },
   "outputs": [
    {
     "name": "stdout",
     "output_type": "stream",
     "text": [
      "StabilizerTable: ['-YI', '+YX', '+ZI', '-ZX']\n"
     ]
    }
   ],
   "source": [
    "from qiskit.quantum_info.operators import StabilizerTable\n",
    "\n",
    "current = StabilizerTable.from_labels(['+I', '-X'])\n",
    "other =  StabilizerTable.from_labels(['-Y', '+Z'])\n",
    "print(current.expand(other))"
   ]
  },
  {
   "cell_type": "code",
   "execution_count": 4,
   "id": "388fb058",
   "metadata": {
    "execution": {
     "iopub.execute_input": "2021-06-18T07:24:18.821655Z",
     "iopub.status.busy": "2021-06-18T07:24:18.821008Z",
     "iopub.status.idle": "2021-06-18T07:24:18.827082Z",
     "shell.execute_reply": "2021-06-18T07:24:18.827659Z"
    }
   },
   "outputs": [
    {
     "name": "stdout",
     "output_type": "stream",
     "text": [
      "Initial Ordering\n",
      "StabilizerTable: ['+II', '-XX', '+YY', '-IZ', '-II', '+YI', '-XI', '-XY', '-XZ', '+ZI', '-YZ', '+XI', '-YY', '+YX', '+XY', '-YI', '-IX', '+ZY', '+YZ', '-ZY', '+ZZ', '+XZ', '+IZ', '-ZZ', '+IX', '+XX', '-YX', '-ZX', '+ZX', '-IY', '-ZI', '+IY']\n",
      "Lexicographically sorted\n",
      "StabilizerTable: ['+II', '-II', '-IX', '+IX', '-IY', '+IY', '-IZ', '+IZ', '-XI', '+XI', '-XX', '+XX', '-XY', '+XY', '-XZ', '+XZ', '+YI', '-YI', '+YX', '-YX', '+YY', '-YY', '-YZ', '+YZ', '+ZI', '-ZI', '-ZX', '+ZX', '+ZY', '-ZY', '+ZZ', '-ZZ']\n",
      "Weight sorted\n",
      "StabilizerTable: ['+II', '-II', '-IX', '+IX', '-IY', '+IY', '-IZ', '+IZ', '-XI', '+XI', '+YI', '-YI', '+ZI', '-ZI', '-XX', '+XX', '-XY', '+XY', '-XZ', '+XZ', '+YX', '-YX', '+YY', '-YY', '-YZ', '+YZ', '-ZX', '+ZX', '+ZY', '-ZY', '+ZZ', '-ZZ']\n"
     ]
    }
   ],
   "source": [
    "from numpy.random import shuffle\n",
    "from qiskit.quantum_info.operators import StabilizerTable\n",
    "\n",
    "# 2-qubit labels\n",
    "labels = ['+II', '+IX', '+IY', '+IZ', '+XI', '+XX', '+XY', '+XZ',\n",
    "          '+YI', '+YX', '+YY', '+YZ', '+ZI', '+ZX', '+ZY', '+ZZ',\n",
    "          '-II', '-IX', '-IY', '-IZ', '-XI', '-XX', '-XY', '-XZ',\n",
    "          '-YI', '-YX', '-YY', '-YZ', '-ZI', '-ZX', '-ZY', '-ZZ']\n",
    "# Shuffle Labels\n",
    "shuffle(labels)\n",
    "st = StabilizerTable.from_labels(labels)\n",
    "print('Initial Ordering')\n",
    "print(st)\n",
    "\n",
    "# Lexicographic Ordering\n",
    "srt = st.sort()\n",
    "print('Lexicographically sorted')\n",
    "print(srt)\n",
    "\n",
    "# Weight Ordering\n",
    "srt = st.sort(weight=True)\n",
    "print('Weight sorted')\n",
    "print(srt)"
   ]
  },
  {
   "cell_type": "code",
   "execution_count": 5,
   "id": "8789005c",
   "metadata": {
    "execution": {
     "iopub.execute_input": "2021-06-18T07:24:18.833321Z",
     "iopub.status.busy": "2021-06-18T07:24:18.832347Z",
     "iopub.status.idle": "2021-06-18T07:24:18.835371Z",
     "shell.execute_reply": "2021-06-18T07:24:18.835857Z"
    }
   },
   "outputs": [
    {
     "name": "stdout",
     "output_type": "stream",
     "text": [
      "StabilizerTable: ['-IY', '+IZ', '+XY', '-XZ']\n"
     ]
    }
   ],
   "source": [
    "from qiskit.quantum_info.operators import StabilizerTable\n",
    "\n",
    "current = StabilizerTable.from_labels(['+I', '-X'])\n",
    "other =  StabilizerTable.from_labels(['-Y', '+Z'])\n",
    "print(current.tensor(other))"
   ]
  },
  {
   "cell_type": "code",
   "execution_count": 6,
   "id": "6488ed14",
   "metadata": {
    "execution": {
     "iopub.execute_input": "2021-06-18T07:24:18.841746Z",
     "iopub.status.busy": "2021-06-18T07:24:18.840523Z",
     "iopub.status.idle": "2021-06-18T07:24:18.843509Z",
     "shell.execute_reply": "2021-06-18T07:24:18.843062Z"
    }
   },
   "outputs": [
    {
     "name": "stdout",
     "output_type": "stream",
     "text": [
      "StabilizerTable: ['+X', '+I', '-I', '-X']\n"
     ]
    }
   ],
   "source": [
    "from qiskit.quantum_info.operators import StabilizerTable\n",
    "\n",
    "st = StabilizerTable.from_labels(['+X', '+I', '-I', '-X', '+X', '-X', '+I'])\n",
    "unique = st.unique()\n",
    "print(unique)"
   ]
  }
 ],
 "metadata": {
  "kernelspec": {
   "display_name": "Python 3",
   "language": "python",
   "name": "python3"
  },
  "language_info": {
   "codemirror_mode": {
    "name": "ipython",
    "version": 3
   },
   "file_extension": ".py",
   "mimetype": "text/x-python",
   "name": "python",
   "nbconvert_exporter": "python",
   "pygments_lexer": "ipython3",
   "version": "3.8.10"
  }
 },
 "nbformat": 4,
 "nbformat_minor": 5
}