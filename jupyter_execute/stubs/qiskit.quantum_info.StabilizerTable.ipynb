{
 "cells": [
  {
   "cell_type": "code",
   "execution_count": 1,
   "id": "92558527",
   "metadata": {
    "execution": {
     "iopub.execute_input": "2021-06-20T13:31:29.655618Z",
     "iopub.status.busy": "2021-06-20T13:31:29.654993Z",
     "iopub.status.idle": "2021-06-20T13:31:30.366895Z",
     "shell.execute_reply": "2021-06-20T13:31:30.366243Z"
    }
   },
   "outputs": [
    {
     "name": "stdout",
     "output_type": "stream",
     "text": [
      "StabilizerTable: ['+X', '-Z', '-I', '-Y']\n"
     ]
    }
   ],
   "source": [
    "from qiskit.quantum_info.operators import StabilizerTable\n",
    "\n",
    "current = StabilizerTable.from_labels(['+I', '-X'])\n",
    "other =  StabilizerTable.from_labels(['+X', '-Z'])\n",
    "print(current.compose(other))"
   ]
  },
  {
   "cell_type": "code",
   "execution_count": 2,
   "id": "2c324add",
   "metadata": {
    "execution": {
     "iopub.execute_input": "2021-06-20T13:31:30.372969Z",
     "iopub.status.busy": "2021-06-20T13:31:30.372334Z",
     "iopub.status.idle": "2021-06-20T13:31:30.375348Z",
     "shell.execute_reply": "2021-06-20T13:31:30.375818Z"
    }
   },
   "outputs": [
    {
     "name": "stdout",
     "output_type": "stream",
     "text": [
      "StabilizerTable: ['+X', '-Z', '-I', '+Y']\n"
     ]
    }
   ],
   "source": [
    "from qiskit.quantum_info.operators import StabilizerTable\n",
    "\n",
    "current = StabilizerTable.from_labels(['+I', '-X'])\n",
    "other =  StabilizerTable.from_labels(['+X', '-Z'])\n",
    "print(current.dot(other))"
   ]
  },
  {
   "cell_type": "code",
   "execution_count": 3,
   "id": "5241fdb9",
   "metadata": {
    "execution": {
     "iopub.execute_input": "2021-06-20T13:31:30.382007Z",
     "iopub.status.busy": "2021-06-20T13:31:30.380583Z",
     "iopub.status.idle": "2021-06-20T13:31:30.383907Z",
     "shell.execute_reply": "2021-06-20T13:31:30.383374Z"
    }
   },
   "outputs": [
    {
     "name": "stdout",
     "output_type": "stream",
     "text": [
      "StabilizerTable: ['-YI', '+YX', '+ZI', '-ZX']\n"
     ]
    }
   ],
   "source": [
    "from qiskit.quantum_info.operators import StabilizerTable\n",
    "\n",
    "current = StabilizerTable.from_labels(['+I', '-X'])\n",
    "other =  StabilizerTable.from_labels(['-Y', '+Z'])\n",
    "print(current.expand(other))"
   ]
  },
  {
   "cell_type": "code",
   "execution_count": 4,
   "id": "7dec9752",
   "metadata": {
    "execution": {
     "iopub.execute_input": "2021-06-20T13:31:30.390683Z",
     "iopub.status.busy": "2021-06-20T13:31:30.389872Z",
     "iopub.status.idle": "2021-06-20T13:31:30.395231Z",
     "shell.execute_reply": "2021-06-20T13:31:30.394765Z"
    }
   },
   "outputs": [
    {
     "name": "stdout",
     "output_type": "stream",
     "text": [
      "Initial Ordering\n",
      "StabilizerTable: ['+ZZ', '+ZX', '-IY', '+IY', '+YY', '+XY', '+XZ', '+II', '+ZI', '-IZ', '-XI', '-YX', '-YZ', '+YX', '-XY', '-II', '+ZY', '-ZY', '+XX', '-ZI', '+YZ', '+YI', '-XX', '-XZ', '-YI', '-IX', '-YY', '+IX', '+IZ', '-ZX', '-ZZ', '+XI']\n",
      "Lexicographically sorted\n",
      "StabilizerTable: ['+II', '-II', '-IX', '+IX', '-IY', '+IY', '-IZ', '+IZ', '-XI', '+XI', '+XX', '-XX', '+XY', '-XY', '+XZ', '-XZ', '+YI', '-YI', '-YX', '+YX', '+YY', '-YY', '-YZ', '+YZ', '+ZI', '-ZI', '+ZX', '-ZX', '+ZY', '-ZY', '+ZZ', '-ZZ']\n",
      "Weight sorted\n",
      "StabilizerTable: ['+II', '-II', '-IX', '+IX', '-IY', '+IY', '-IZ', '+IZ', '-XI', '+XI', '+YI', '-YI', '+ZI', '-ZI', '+XX', '-XX', '+XY', '-XY', '+XZ', '-XZ', '-YX', '+YX', '+YY', '-YY', '-YZ', '+YZ', '+ZX', '-ZX', '+ZY', '-ZY', '+ZZ', '-ZZ']\n"
     ]
    }
   ],
   "source": [
    "from numpy.random import shuffle\n",
    "from qiskit.quantum_info.operators import StabilizerTable\n",
    "\n",
    "# 2-qubit labels\n",
    "labels = ['+II', '+IX', '+IY', '+IZ', '+XI', '+XX', '+XY', '+XZ',\n",
    "          '+YI', '+YX', '+YY', '+YZ', '+ZI', '+ZX', '+ZY', '+ZZ',\n",
    "          '-II', '-IX', '-IY', '-IZ', '-XI', '-XX', '-XY', '-XZ',\n",
    "          '-YI', '-YX', '-YY', '-YZ', '-ZI', '-ZX', '-ZY', '-ZZ']\n",
    "# Shuffle Labels\n",
    "shuffle(labels)\n",
    "st = StabilizerTable.from_labels(labels)\n",
    "print('Initial Ordering')\n",
    "print(st)\n",
    "\n",
    "# Lexicographic Ordering\n",
    "srt = st.sort()\n",
    "print('Lexicographically sorted')\n",
    "print(srt)\n",
    "\n",
    "# Weight Ordering\n",
    "srt = st.sort(weight=True)\n",
    "print('Weight sorted')\n",
    "print(srt)"
   ]
  },
  {
   "cell_type": "code",
   "execution_count": 5,
   "id": "2d535146",
   "metadata": {
    "execution": {
     "iopub.execute_input": "2021-06-20T13:31:30.399857Z",
     "iopub.status.busy": "2021-06-20T13:31:30.399325Z",
     "iopub.status.idle": "2021-06-20T13:31:30.403746Z",
     "shell.execute_reply": "2021-06-20T13:31:30.403307Z"
    }
   },
   "outputs": [
    {
     "name": "stdout",
     "output_type": "stream",
     "text": [
      "StabilizerTable: ['-IY', '+IZ', '+XY', '-XZ']\n"
     ]
    }
   ],
   "source": [
    "from qiskit.quantum_info.operators import StabilizerTable\n",
    "\n",
    "current = StabilizerTable.from_labels(['+I', '-X'])\n",
    "other =  StabilizerTable.from_labels(['-Y', '+Z'])\n",
    "print(current.tensor(other))"
   ]
  },
  {
   "cell_type": "code",
   "execution_count": 6,
   "id": "56d1f9eb",
   "metadata": {
    "execution": {
     "iopub.execute_input": "2021-06-20T13:31:30.410356Z",
     "iopub.status.busy": "2021-06-20T13:31:30.408713Z",
     "iopub.status.idle": "2021-06-20T13:31:30.412173Z",
     "shell.execute_reply": "2021-06-20T13:31:30.411724Z"
    }
   },
   "outputs": [
    {
     "name": "stdout",
     "output_type": "stream",
     "text": [
      "StabilizerTable: ['+X', '+I', '-I', '-X']\n"
     ]
    }
   ],
   "source": [
    "from qiskit.quantum_info.operators import StabilizerTable\n",
    "\n",
    "st = StabilizerTable.from_labels(['+X', '+I', '-I', '-X', '+X', '-X', '+I'])\n",
    "unique = st.unique()\n",
    "print(unique)"
   ]
  }
 ],
 "metadata": {
  "kernelspec": {
   "display_name": "Python 3",
   "language": "python",
   "name": "python3"
  },
  "language_info": {
   "codemirror_mode": {
    "name": "ipython",
    "version": 3
   },
   "file_extension": ".py",
   "mimetype": "text/x-python",
   "name": "python",
   "nbconvert_exporter": "python",
   "pygments_lexer": "ipython3",
   "version": "3.8.10"
  }
 },
 "nbformat": 4,
 "nbformat_minor": 5
}