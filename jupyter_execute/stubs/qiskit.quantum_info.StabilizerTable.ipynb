{
 "cells": [
  {
   "cell_type": "code",
   "execution_count": 1,
   "id": "8314d51e",
   "metadata": {
    "execution": {
     "iopub.execute_input": "2021-05-21T08:56:36.730204Z",
     "iopub.status.busy": "2021-05-21T08:56:36.729503Z",
     "iopub.status.idle": "2021-05-21T08:56:37.416955Z",
     "shell.execute_reply": "2021-05-21T08:56:37.417383Z"
    }
   },
   "outputs": [
    {
     "name": "stdout",
     "output_type": "stream",
     "text": [
      "StabilizerTable: ['+X', '-Z', '-I', '-Y']\n"
     ]
    }
   ],
   "source": [
    "from qiskit.quantum_info.operators import StabilizerTable\n",
    "\n",
    "current = StabilizerTable.from_labels(['+I', '-X'])\n",
    "other =  StabilizerTable.from_labels(['+X', '-Z'])\n",
    "print(current.compose(other))"
   ]
  },
  {
   "cell_type": "code",
   "execution_count": 2,
   "id": "3c20386e",
   "metadata": {
    "execution": {
     "iopub.execute_input": "2021-05-21T08:56:37.423988Z",
     "iopub.status.busy": "2021-05-21T08:56:37.422664Z",
     "iopub.status.idle": "2021-05-21T08:56:37.426047Z",
     "shell.execute_reply": "2021-05-21T08:56:37.425313Z"
    }
   },
   "outputs": [
    {
     "name": "stdout",
     "output_type": "stream",
     "text": [
      "StabilizerTable: ['+X', '-Z', '-I', '+Y']\n"
     ]
    }
   ],
   "source": [
    "from qiskit.quantum_info.operators import StabilizerTable\n",
    "\n",
    "current = StabilizerTable.from_labels(['+I', '-X'])\n",
    "other =  StabilizerTable.from_labels(['+X', '-Z'])\n",
    "print(current.dot(other))"
   ]
  },
  {
   "cell_type": "code",
   "execution_count": 3,
   "id": "ce81efe2",
   "metadata": {
    "execution": {
     "iopub.execute_input": "2021-05-21T08:56:37.433084Z",
     "iopub.status.busy": "2021-05-21T08:56:37.431358Z",
     "iopub.status.idle": "2021-05-21T08:56:37.435425Z",
     "shell.execute_reply": "2021-05-21T08:56:37.434736Z"
    }
   },
   "outputs": [
    {
     "name": "stdout",
     "output_type": "stream",
     "text": [
      "StabilizerTable: ['-YI', '+YX', '+ZI', '-ZX']\n"
     ]
    }
   ],
   "source": [
    "from qiskit.quantum_info.operators import StabilizerTable\n",
    "\n",
    "current = StabilizerTable.from_labels(['+I', '-X'])\n",
    "other =  StabilizerTable.from_labels(['-Y', '+Z'])\n",
    "print(current.expand(other))"
   ]
  },
  {
   "cell_type": "code",
   "execution_count": 4,
   "id": "09d5a1a8",
   "metadata": {
    "execution": {
     "iopub.execute_input": "2021-05-21T08:56:37.443850Z",
     "iopub.status.busy": "2021-05-21T08:56:37.440942Z",
     "iopub.status.idle": "2021-05-21T08:56:37.446913Z",
     "shell.execute_reply": "2021-05-21T08:56:37.446382Z"
    }
   },
   "outputs": [
    {
     "name": "stdout",
     "output_type": "stream",
     "text": [
      "Initial Ordering\n",
      "StabilizerTable: ['-ZY', '+ZI', '-ZZ', '+XI', '+IZ', '-ZI', '+XZ', '+XY', '+IX', '+YI', '-YX', '-XZ', '+XX', '-XI', '-IY', '-XY', '-IZ', '-XX', '+II', '+YZ', '-YY', '-YI', '+YX', '+ZX', '+IY', '+YY', '+ZZ', '-II', '+ZY', '-YZ', '-IX', '-ZX']\n",
      "Lexicographically sorted\n",
      "StabilizerTable: ['+II', '-II', '+IX', '-IX', '-IY', '+IY', '+IZ', '-IZ', '+XI', '-XI', '+XX', '-XX', '+XY', '-XY', '+XZ', '-XZ', '+YI', '-YI', '-YX', '+YX', '-YY', '+YY', '+YZ', '-YZ', '+ZI', '-ZI', '+ZX', '-ZX', '-ZY', '+ZY', '-ZZ', '+ZZ']\n",
      "Weight sorted\n",
      "StabilizerTable: ['+II', '-II', '+IX', '-IX', '-IY', '+IY', '+IZ', '-IZ', '+XI', '-XI', '+YI', '-YI', '+ZI', '-ZI', '+XX', '-XX', '+XY', '-XY', '+XZ', '-XZ', '-YX', '+YX', '-YY', '+YY', '+YZ', '-YZ', '+ZX', '-ZX', '-ZY', '+ZY', '-ZZ', '+ZZ']\n"
     ]
    }
   ],
   "source": [
    "from numpy.random import shuffle\n",
    "from qiskit.quantum_info.operators import StabilizerTable\n",
    "\n",
    "# 2-qubit labels\n",
    "labels = ['+II', '+IX', '+IY', '+IZ', '+XI', '+XX', '+XY', '+XZ',\n",
    "          '+YI', '+YX', '+YY', '+YZ', '+ZI', '+ZX', '+ZY', '+ZZ',\n",
    "          '-II', '-IX', '-IY', '-IZ', '-XI', '-XX', '-XY', '-XZ',\n",
    "          '-YI', '-YX', '-YY', '-YZ', '-ZI', '-ZX', '-ZY', '-ZZ']\n",
    "# Shuffle Labels\n",
    "shuffle(labels)\n",
    "st = StabilizerTable.from_labels(labels)\n",
    "print('Initial Ordering')\n",
    "print(st)\n",
    "\n",
    "# Lexicographic Ordering\n",
    "srt = st.sort()\n",
    "print('Lexicographically sorted')\n",
    "print(srt)\n",
    "\n",
    "# Weight Ordering\n",
    "srt = st.sort(weight=True)\n",
    "print('Weight sorted')\n",
    "print(srt)"
   ]
  },
  {
   "cell_type": "code",
   "execution_count": 5,
   "id": "10948ed5",
   "metadata": {
    "execution": {
     "iopub.execute_input": "2021-05-21T08:56:37.453029Z",
     "iopub.status.busy": "2021-05-21T08:56:37.451669Z",
     "iopub.status.idle": "2021-05-21T08:56:37.454977Z",
     "shell.execute_reply": "2021-05-21T08:56:37.454405Z"
    }
   },
   "outputs": [
    {
     "name": "stdout",
     "output_type": "stream",
     "text": [
      "StabilizerTable: ['-IY', '+IZ', '+XY', '-XZ']\n"
     ]
    }
   ],
   "source": [
    "from qiskit.quantum_info.operators import StabilizerTable\n",
    "\n",
    "current = StabilizerTable.from_labels(['+I', '-X'])\n",
    "other =  StabilizerTable.from_labels(['-Y', '+Z'])\n",
    "print(current.tensor(other))"
   ]
  },
  {
   "cell_type": "code",
   "execution_count": 6,
   "id": "370f2a04",
   "metadata": {
    "execution": {
     "iopub.execute_input": "2021-05-21T08:56:37.461043Z",
     "iopub.status.busy": "2021-05-21T08:56:37.459573Z",
     "iopub.status.idle": "2021-05-21T08:56:37.462865Z",
     "shell.execute_reply": "2021-05-21T08:56:37.462365Z"
    }
   },
   "outputs": [
    {
     "name": "stdout",
     "output_type": "stream",
     "text": [
      "StabilizerTable: ['+X', '+I', '-I', '-X']\n"
     ]
    }
   ],
   "source": [
    "from qiskit.quantum_info.operators import StabilizerTable\n",
    "\n",
    "st = StabilizerTable.from_labels(['+X', '+I', '-I', '-X', '+X', '-X', '+I'])\n",
    "unique = st.unique()\n",
    "print(unique)"
   ]
  }
 ],
 "metadata": {
  "kernelspec": {
   "display_name": "Python 3",
   "language": "python",
   "name": "python3"
  },
  "language_info": {
   "codemirror_mode": {
    "name": "ipython",
    "version": 3
   },
   "file_extension": ".py",
   "mimetype": "text/x-python",
   "name": "python",
   "nbconvert_exporter": "python",
   "pygments_lexer": "ipython3",
   "version": "3.8.10"
  }
 },
 "nbformat": 4,
 "nbformat_minor": 5
}