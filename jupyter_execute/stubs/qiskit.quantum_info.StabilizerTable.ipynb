{
 "cells": [
  {
   "cell_type": "code",
   "execution_count": 1,
   "id": "147b5cd2",
   "metadata": {
    "execution": {
     "iopub.execute_input": "2021-05-17T12:28:14.873682Z",
     "iopub.status.busy": "2021-05-17T12:28:14.872704Z",
     "iopub.status.idle": "2021-05-17T12:28:15.464798Z",
     "shell.execute_reply": "2021-05-17T12:28:15.464261Z"
    }
   },
   "outputs": [
    {
     "name": "stdout",
     "output_type": "stream",
     "text": [
      "StabilizerTable: ['+X', '-Z', '-I', '-Y']\n"
     ]
    }
   ],
   "source": [
    "from qiskit.quantum_info.operators import StabilizerTable\n",
    "\n",
    "current = StabilizerTable.from_labels(['+I', '-X'])\n",
    "other =  StabilizerTable.from_labels(['+X', '-Z'])\n",
    "print(current.compose(other))"
   ]
  },
  {
   "cell_type": "code",
   "execution_count": 2,
   "id": "3076ce37",
   "metadata": {
    "execution": {
     "iopub.execute_input": "2021-05-17T12:28:15.469235Z",
     "iopub.status.busy": "2021-05-17T12:28:15.468458Z",
     "iopub.status.idle": "2021-05-17T12:28:15.472518Z",
     "shell.execute_reply": "2021-05-17T12:28:15.472915Z"
    }
   },
   "outputs": [
    {
     "name": "stdout",
     "output_type": "stream",
     "text": [
      "StabilizerTable: ['+X', '-Z', '-I', '+Y']\n"
     ]
    }
   ],
   "source": [
    "from qiskit.quantum_info.operators import StabilizerTable\n",
    "\n",
    "current = StabilizerTable.from_labels(['+I', '-X'])\n",
    "other =  StabilizerTable.from_labels(['+X', '-Z'])\n",
    "print(current.dot(other))"
   ]
  },
  {
   "cell_type": "code",
   "execution_count": 3,
   "id": "4e75572d",
   "metadata": {
    "execution": {
     "iopub.execute_input": "2021-05-17T12:28:15.477583Z",
     "iopub.status.busy": "2021-05-17T12:28:15.477050Z",
     "iopub.status.idle": "2021-05-17T12:28:15.480145Z",
     "shell.execute_reply": "2021-05-17T12:28:15.479682Z"
    }
   },
   "outputs": [
    {
     "name": "stdout",
     "output_type": "stream",
     "text": [
      "StabilizerTable: ['-YI', '+YX', '+ZI', '-ZX']\n"
     ]
    }
   ],
   "source": [
    "from qiskit.quantum_info.operators import StabilizerTable\n",
    "\n",
    "current = StabilizerTable.from_labels(['+I', '-X'])\n",
    "other =  StabilizerTable.from_labels(['-Y', '+Z'])\n",
    "print(current.expand(other))"
   ]
  },
  {
   "cell_type": "code",
   "execution_count": 4,
   "id": "0b578da7",
   "metadata": {
    "execution": {
     "iopub.execute_input": "2021-05-17T12:28:15.486204Z",
     "iopub.status.busy": "2021-05-17T12:28:15.485131Z",
     "iopub.status.idle": "2021-05-17T12:28:15.490538Z",
     "shell.execute_reply": "2021-05-17T12:28:15.490041Z"
    }
   },
   "outputs": [
    {
     "name": "stdout",
     "output_type": "stream",
     "text": [
      "Initial Ordering\n",
      "StabilizerTable: ['-IX', '+IX', '+XX', '-YI', '+IZ', '+ZX', '-XY', '-II', '-ZZ', '+ZI', '+II', '-XX', '+ZZ', '-XI', '-ZX', '+YZ', '-YX', '+XZ', '-IY', '+XI', '+YX', '+IY', '+ZY', '+XY', '-ZY', '+YY', '+YI', '-ZI', '-XZ', '-YY', '-YZ', '-IZ']\n",
      "Lexicographically sorted\n",
      "StabilizerTable: ['-II', '+II', '-IX', '+IX', '-IY', '+IY', '+IZ', '-IZ', '-XI', '+XI', '+XX', '-XX', '-XY', '+XY', '+XZ', '-XZ', '-YI', '+YI', '-YX', '+YX', '+YY', '-YY', '+YZ', '-YZ', '+ZI', '-ZI', '+ZX', '-ZX', '+ZY', '-ZY', '-ZZ', '+ZZ']\n",
      "Weight sorted\n",
      "StabilizerTable: ['-II', '+II', '-IX', '+IX', '-IY', '+IY', '+IZ', '-IZ', '-XI', '+XI', '-YI', '+YI', '+ZI', '-ZI', '+XX', '-XX', '-XY', '+XY', '+XZ', '-XZ', '-YX', '+YX', '+YY', '-YY', '+YZ', '-YZ', '+ZX', '-ZX', '+ZY', '-ZY', '-ZZ', '+ZZ']\n"
     ]
    }
   ],
   "source": [
    "from numpy.random import shuffle\n",
    "from qiskit.quantum_info.operators import StabilizerTable\n",
    "\n",
    "# 2-qubit labels\n",
    "labels = ['+II', '+IX', '+IY', '+IZ', '+XI', '+XX', '+XY', '+XZ',\n",
    "          '+YI', '+YX', '+YY', '+YZ', '+ZI', '+ZX', '+ZY', '+ZZ',\n",
    "          '-II', '-IX', '-IY', '-IZ', '-XI', '-XX', '-XY', '-XZ',\n",
    "          '-YI', '-YX', '-YY', '-YZ', '-ZI', '-ZX', '-ZY', '-ZZ']\n",
    "# Shuffle Labels\n",
    "shuffle(labels)\n",
    "st = StabilizerTable.from_labels(labels)\n",
    "print('Initial Ordering')\n",
    "print(st)\n",
    "\n",
    "# Lexicographic Ordering\n",
    "srt = st.sort()\n",
    "print('Lexicographically sorted')\n",
    "print(srt)\n",
    "\n",
    "# Weight Ordering\n",
    "srt = st.sort(weight=True)\n",
    "print('Weight sorted')\n",
    "print(srt)"
   ]
  },
  {
   "cell_type": "code",
   "execution_count": 5,
   "id": "5868dd1c",
   "metadata": {
    "execution": {
     "iopub.execute_input": "2021-05-17T12:28:15.495397Z",
     "iopub.status.busy": "2021-05-17T12:28:15.494396Z",
     "iopub.status.idle": "2021-05-17T12:28:15.497156Z",
     "shell.execute_reply": "2021-05-17T12:28:15.496676Z"
    }
   },
   "outputs": [
    {
     "name": "stdout",
     "output_type": "stream",
     "text": [
      "StabilizerTable: ['-IY', '+IZ', '+XY', '-XZ']\n"
     ]
    }
   ],
   "source": [
    "from qiskit.quantum_info.operators import StabilizerTable\n",
    "\n",
    "current = StabilizerTable.from_labels(['+I', '-X'])\n",
    "other =  StabilizerTable.from_labels(['-Y', '+Z'])\n",
    "print(current.tensor(other))"
   ]
  },
  {
   "cell_type": "code",
   "execution_count": 6,
   "id": "94b38406",
   "metadata": {
    "execution": {
     "iopub.execute_input": "2021-05-17T12:28:15.502988Z",
     "iopub.status.busy": "2021-05-17T12:28:15.501617Z",
     "iopub.status.idle": "2021-05-17T12:28:15.504608Z",
     "shell.execute_reply": "2021-05-17T12:28:15.504184Z"
    }
   },
   "outputs": [
    {
     "name": "stdout",
     "output_type": "stream",
     "text": [
      "StabilizerTable: ['+X', '+I', '-I', '-X']\n"
     ]
    }
   ],
   "source": [
    "from qiskit.quantum_info.operators import StabilizerTable\n",
    "\n",
    "st = StabilizerTable.from_labels(['+X', '+I', '-I', '-X', '+X', '-X', '+I'])\n",
    "unique = st.unique()\n",
    "print(unique)"
   ]
  }
 ],
 "metadata": {
  "kernelspec": {
   "display_name": "Python 3",
   "language": "python",
   "name": "python3"
  },
  "language_info": {
   "codemirror_mode": {
    "name": "ipython",
    "version": 3
   },
   "file_extension": ".py",
   "mimetype": "text/x-python",
   "name": "python",
   "nbconvert_exporter": "python",
   "pygments_lexer": "ipython3",
   "version": "3.8.10"
  }
 },
 "nbformat": 4,
 "nbformat_minor": 5
}