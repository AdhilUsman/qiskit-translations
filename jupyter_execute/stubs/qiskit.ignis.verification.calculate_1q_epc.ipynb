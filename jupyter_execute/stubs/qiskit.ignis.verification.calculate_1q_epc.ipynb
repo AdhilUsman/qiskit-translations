{
 "cells": [
  {
   "cell_type": "code",
   "execution_count": 1,
   "id": "1ee9b439",
   "metadata": {
    "execution": {
     "iopub.execute_input": "2021-05-17T11:29:26.030154Z",
     "iopub.status.busy": "2021-05-17T11:29:26.028530Z",
     "iopub.status.idle": "2021-05-17T11:29:27.086548Z",
     "shell.execute_reply": "2021-05-17T11:29:27.085929Z"
    }
   },
   "outputs": [
    {
     "name": "stdout",
     "output_type": "stream",
     "text": [
      "0.0013302908430798954\n"
     ]
    }
   ],
   "source": [
    "import qiskit.ignis.verification.randomized_benchmarking as rb\n",
    "\n",
    "# gate counts of your 1Q RB experiment\n",
    "gpc = {0: {'cx': 0, 'u1': 0.13, 'u2': 0.31, 'u3': 0.51}}\n",
    "\n",
    "# EPGs from error model\n",
    "epgs_q0 = {'u1': 0, 'u2': 0.001, 'u3': 0.002}\n",
    "\n",
    "# calculate 1Q EPC\n",
    "epc = rb.rb_utils.calculate_1q_epc(\n",
    "    gate_per_cliff=gpc,\n",
    "    epg_1q=epgs_q0,\n",
    "    qubit=0)\n",
    "\n",
    "print(epc)"
   ]
  }
 ],
 "metadata": {
  "kernelspec": {
   "display_name": "Python 3",
   "language": "python",
   "name": "python3"
  },
  "language_info": {
   "codemirror_mode": {
    "name": "ipython",
    "version": 3
   },
   "file_extension": ".py",
   "mimetype": "text/x-python",
   "name": "python",
   "nbconvert_exporter": "python",
   "pygments_lexer": "ipython3",
   "version": "3.8.10"
  }
 },
 "nbformat": 4,
 "nbformat_minor": 5
}