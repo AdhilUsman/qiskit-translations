{
 "cells": [
  {
   "cell_type": "code",
   "execution_count": 1,
   "id": "surprising-portfolio",
   "metadata": {
    "execution": {
     "iopub.execute_input": "2021-03-27T17:03:29.230550Z",
     "iopub.status.busy": "2021-03-27T17:03:29.230103Z",
     "iopub.status.idle": "2021-03-27T17:03:30.925856Z",
     "shell.execute_reply": "2021-03-27T17:03:30.924855Z"
    }
   },
   "outputs": [],
   "source": [
    "from qiskit import circuit, pulse, schedule, transpile\n",
    "from qiskit.test.mock import FakeOpenPulse2Q\n",
    "\n",
    "backend = FakeOpenPulse2Q()\n",
    "\n",
    "qc = circuit.QuantumCircuit(2)\n",
    "qc.cx(0, 1)\n",
    "qc_transpiled = transpile(qc, optimization_level=3)\n",
    "sched = schedule(qc_transpiled, backend)\n",
    "\n",
    "with pulse.build(backend) as pulse_prog:\n",
    "        pulse.call(sched)\n",
    "        pulse.call(qc)"
   ]
  }
 ],
 "metadata": {
  "kernelspec": {
   "display_name": "Python 3",
   "language": "python",
   "name": "python3"
  },
  "language_info": {
   "codemirror_mode": {
    "name": "ipython",
    "version": 3
   },
   "file_extension": ".py",
   "mimetype": "text/x-python",
   "name": "python",
   "nbconvert_exporter": "python",
   "pygments_lexer": "ipython3",
   "version": "3.8.8"
  }
 },
 "nbformat": 4,
 "nbformat_minor": 5
}