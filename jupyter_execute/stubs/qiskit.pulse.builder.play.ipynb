{
 "cells": [
  {
   "cell_type": "code",
   "execution_count": 1,
   "id": "51e23d29",
   "metadata": {
    "execution": {
     "iopub.execute_input": "2021-04-22T00:14:20.785199Z",
     "iopub.status.busy": "2021-04-22T00:14:20.784546Z",
     "iopub.status.idle": "2021-04-22T00:14:21.445954Z",
     "shell.execute_reply": "2021-04-22T00:14:21.445400Z"
    }
   },
   "outputs": [],
   "source": [
    "from qiskit import pulse\n",
    "\n",
    "d0 = pulse.DriveChannel(0)\n",
    "\n",
    "with pulse.build() as pulse_prog:\n",
    "    pulse.play(pulse.Constant(10, 1.0), d0)"
   ]
  }
 ],
 "metadata": {
  "kernelspec": {
   "display_name": "Python 3",
   "language": "python",
   "name": "python3"
  },
  "language_info": {
   "codemirror_mode": {
    "name": "ipython",
    "version": 3
   },
   "file_extension": ".py",
   "mimetype": "text/x-python",
   "name": "python",
   "nbconvert_exporter": "python",
   "pygments_lexer": "ipython3",
   "version": "3.8.9"
  }
 },
 "nbformat": 4,
 "nbformat_minor": 5
}