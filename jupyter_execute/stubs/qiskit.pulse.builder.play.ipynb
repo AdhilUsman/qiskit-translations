{
 "cells": [
  {
   "cell_type": "code",
   "execution_count": 1,
   "id": "09cf82f8",
   "metadata": {
    "execution": {
     "iopub.execute_input": "2021-04-08T02:22:29.687849Z",
     "iopub.status.busy": "2021-04-08T02:22:29.687255Z",
     "iopub.status.idle": "2021-04-08T02:22:30.445879Z",
     "shell.execute_reply": "2021-04-08T02:22:30.445199Z"
    }
   },
   "outputs": [],
   "source": [
    "from qiskit import pulse\n",
    "\n",
    "d0 = pulse.DriveChannel(0)\n",
    "\n",
    "with pulse.build() as pulse_prog:\n",
    "    pulse.play(pulse.Constant(10, 1.0), d0)"
   ]
  }
 ],
 "metadata": {
  "kernelspec": {
   "display_name": "Python 3",
   "language": "python",
   "name": "python3"
  },
  "language_info": {
   "codemirror_mode": {
    "name": "ipython",
    "version": 3
   },
   "file_extension": ".py",
   "mimetype": "text/x-python",
   "name": "python",
   "nbconvert_exporter": "python",
   "pygments_lexer": "ipython3",
   "version": "3.8.8"
  }
 },
 "nbformat": 4,
 "nbformat_minor": 5
}