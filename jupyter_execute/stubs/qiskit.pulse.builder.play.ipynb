{
 "cells": [
  {
   "cell_type": "code",
   "execution_count": 1,
   "id": "acfe2050",
   "metadata": {
    "execution": {
     "iopub.execute_input": "2021-05-08T18:58:28.965849Z",
     "iopub.status.busy": "2021-05-08T18:58:28.965327Z",
     "iopub.status.idle": "2021-05-08T18:58:29.532558Z",
     "shell.execute_reply": "2021-05-08T18:58:29.531980Z"
    }
   },
   "outputs": [],
   "source": [
    "from qiskit import pulse\n",
    "\n",
    "d0 = pulse.DriveChannel(0)\n",
    "\n",
    "with pulse.build() as pulse_prog:\n",
    "    pulse.play(pulse.Constant(10, 1.0), d0)"
   ]
  }
 ],
 "metadata": {
  "kernelspec": {
   "display_name": "Python 3",
   "language": "python",
   "name": "python3"
  },
  "language_info": {
   "codemirror_mode": {
    "name": "ipython",
    "version": 3
   },
   "file_extension": ".py",
   "mimetype": "text/x-python",
   "name": "python",
   "nbconvert_exporter": "python",
   "pygments_lexer": "ipython3",
   "version": "3.8.10"
  }
 },
 "nbformat": 4,
 "nbformat_minor": 5
}