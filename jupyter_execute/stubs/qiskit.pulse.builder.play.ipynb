{
 "cells": [
  {
   "cell_type": "code",
   "execution_count": 1,
   "id": "regional-crime",
   "metadata": {
    "execution": {
     "iopub.execute_input": "2021-03-27T17:04:13.295829Z",
     "iopub.status.busy": "2021-03-27T17:04:13.295342Z",
     "iopub.status.idle": "2021-03-27T17:04:14.808358Z",
     "shell.execute_reply": "2021-03-27T17:04:14.807576Z"
    }
   },
   "outputs": [],
   "source": [
    "from qiskit import pulse\n",
    "\n",
    "d0 = pulse.DriveChannel(0)\n",
    "\n",
    "with pulse.build() as pulse_prog:\n",
    "    pulse.play(pulse.Constant(10, 1.0), d0)"
   ]
  }
 ],
 "metadata": {
  "kernelspec": {
   "display_name": "Python 3",
   "language": "python",
   "name": "python3"
  },
  "language_info": {
   "codemirror_mode": {
    "name": "ipython",
    "version": 3
   },
   "file_extension": ".py",
   "mimetype": "text/x-python",
   "name": "python",
   "nbconvert_exporter": "python",
   "pygments_lexer": "ipython3",
   "version": "3.8.8"
  }
 },
 "nbformat": 4,
 "nbformat_minor": 5
}