{
 "cells": [
  {
   "cell_type": "code",
   "execution_count": 1,
   "id": "b1e54815",
   "metadata": {
    "execution": {
     "iopub.execute_input": "2021-04-03T20:45:47.170548Z",
     "iopub.status.busy": "2021-04-03T20:45:47.169998Z",
     "iopub.status.idle": "2021-04-03T20:45:47.892062Z",
     "shell.execute_reply": "2021-04-03T20:45:47.892542Z"
    }
   },
   "outputs": [],
   "source": [
    "from qiskit import pulse\n",
    "\n",
    "d0 = pulse.DriveChannel(0)\n",
    "\n",
    "with pulse.build() as pulse_prog:\n",
    "    pulse.play(pulse.Constant(10, 1.0), d0)"
   ]
  }
 ],
 "metadata": {
  "kernelspec": {
   "display_name": "Python 3",
   "language": "python",
   "name": "python3"
  },
  "language_info": {
   "codemirror_mode": {
    "name": "ipython",
    "version": 3
   },
   "file_extension": ".py",
   "mimetype": "text/x-python",
   "name": "python",
   "nbconvert_exporter": "python",
   "pygments_lexer": "ipython3",
   "version": "3.8.8"
  }
 },
 "nbformat": 4,
 "nbformat_minor": 5
}