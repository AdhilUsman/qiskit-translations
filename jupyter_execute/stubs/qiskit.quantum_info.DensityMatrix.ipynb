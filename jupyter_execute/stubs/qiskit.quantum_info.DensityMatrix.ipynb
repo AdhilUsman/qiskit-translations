{
 "cells": [
  {
   "cell_type": "code",
   "execution_count": 1,
   "id": "ea249780",
   "metadata": {
    "execution": {
     "iopub.execute_input": "2021-04-06T14:25:58.991149Z",
     "iopub.status.busy": "2021-04-06T14:25:58.989992Z",
     "iopub.status.idle": "2021-04-06T14:25:59.740847Z",
     "shell.execute_reply": "2021-04-06T14:25:59.741362Z"
    }
   },
   "outputs": [
    {
     "name": "stdout",
     "output_type": "stream",
     "text": [
      "probs: [0.5 0.  0.5 0. ]\n",
      "Qubit-0 probs: [1. 0.]\n",
      "Qubit-1 probs: [0.5 0.5]\n"
     ]
    }
   ],
   "source": [
    "from qiskit.quantum_info import DensityMatrix\n",
    "\n",
    "rho = DensityMatrix.from_label('+0')\n",
    "\n",
    "# Probabilities for measuring both qubits\n",
    "probs = rho.probabilities()\n",
    "print('probs: {}'.format(probs))\n",
    "\n",
    "# Probabilities for measuring only qubit-0\n",
    "probs_qubit_0 = rho.probabilities([0])\n",
    "print('Qubit-0 probs: {}'.format(probs_qubit_0))\n",
    "\n",
    "# Probabilities for measuring only qubit-1\n",
    "probs_qubit_1 = rho.probabilities([1])\n",
    "print('Qubit-1 probs: {}'.format(probs_qubit_1))"
   ]
  },
  {
   "cell_type": "code",
   "execution_count": 2,
   "id": "86b747c1",
   "metadata": {
    "execution": {
     "iopub.execute_input": "2021-04-06T14:25:59.749827Z",
     "iopub.status.busy": "2021-04-06T14:25:59.748293Z",
     "iopub.status.idle": "2021-04-06T14:25:59.751766Z",
     "shell.execute_reply": "2021-04-06T14:25:59.751229Z"
    }
   },
   "outputs": [
    {
     "name": "stdout",
     "output_type": "stream",
     "text": [
      "probs: [0.5 0.  0.5 0. ]\n",
      "Swapped probs: [0.5 0.5 0.  0. ]\n"
     ]
    }
   ],
   "source": [
    "from qiskit.quantum_info import DensityMatrix\n",
    "\n",
    "rho = DensityMatrix.from_label('+0')\n",
    "\n",
    "# Probabilities for measuring both qubits\n",
    "probs = rho.probabilities([0, 1])\n",
    "print('probs: {}'.format(probs))\n",
    "\n",
    "# Probabilities for measuring both qubits\n",
    "# but swapping qubits 0 and 1 in output\n",
    "probs_swapped = rho.probabilities([1, 0])\n",
    "print('Swapped probs: {}'.format(probs_swapped))"
   ]
  },
  {
   "cell_type": "code",
   "execution_count": 3,
   "id": "016c4380",
   "metadata": {
    "execution": {
     "iopub.execute_input": "2021-04-06T14:25:59.758019Z",
     "iopub.status.busy": "2021-04-06T14:25:59.756546Z",
     "iopub.status.idle": "2021-04-06T14:25:59.760006Z",
     "shell.execute_reply": "2021-04-06T14:25:59.759474Z"
    }
   },
   "outputs": [
    {
     "name": "stdout",
     "output_type": "stream",
     "text": [
      "{'00|00': (0.4999999999999999+0j), '10|00': (-0.4999999999999999-0j), '00|10': (-0.4999999999999999+0j), '10|10': (0.4999999999999999+0j)}\n"
     ]
    }
   ],
   "source": [
    "from qiskit.quantum_info import DensityMatrix\n",
    "\n",
    "rho = DensityMatrix.from_label('-0')\n",
    "print(rho.to_dict())"
   ]
  },
  {
   "cell_type": "code",
   "execution_count": 4,
   "id": "7f6d932b",
   "metadata": {
    "execution": {
     "iopub.execute_input": "2021-04-06T14:25:59.768286Z",
     "iopub.status.busy": "2021-04-06T14:25:59.766794Z",
     "iopub.status.idle": "2021-04-06T14:25:59.770284Z",
     "shell.execute_reply": "2021-04-06T14:25:59.769735Z"
    }
   },
   "outputs": [
    {
     "name": "stdout",
     "output_type": "stream",
     "text": [
      "{'00|00': (0.25+0j), '10|10': (0.25+0j), '20|20': (0.25+0j), '22|22': (0.25+0j)}\n"
     ]
    }
   ],
   "source": [
    "import numpy as np\n",
    "from qiskit.quantum_info import DensityMatrix\n",
    "\n",
    "mat = np.zeros((9, 9))\n",
    "mat[0, 0] = 0.25\n",
    "mat[3, 3] = 0.25\n",
    "mat[6, 6] = 0.25\n",
    "mat[-1, -1] = 0.25\n",
    "rho = DensityMatrix(mat, dims=(3, 3))\n",
    "print(rho.to_dict())"
   ]
  },
  {
   "cell_type": "code",
   "execution_count": 5,
   "id": "67f889ae",
   "metadata": {
    "execution": {
     "iopub.execute_input": "2021-04-06T14:25:59.777135Z",
     "iopub.status.busy": "2021-04-06T14:25:59.775721Z",
     "iopub.status.idle": "2021-04-06T14:25:59.779154Z",
     "shell.execute_reply": "2021-04-06T14:25:59.778623Z"
    }
   },
   "outputs": [
    {
     "name": "stdout",
     "output_type": "stream",
     "text": [
      "{'00|00': (0.5+0j), '91|91': (0.5+0j)}\n"
     ]
    }
   ],
   "source": [
    "import numpy as np\n",
    "from qiskit.quantum_info import DensityMatrix\n",
    "\n",
    "mat = np.zeros((2 * 10, 2 * 10))\n",
    "mat[0, 0] = 0.5\n",
    "mat[-1, -1] = 0.5\n",
    "rho = DensityMatrix(mat, dims=(2, 10))\n",
    "print(rho.to_dict())"
   ]
  }
 ],
 "metadata": {
  "kernelspec": {
   "display_name": "Python 3",
   "language": "python",
   "name": "python3"
  },
  "language_info": {
   "codemirror_mode": {
    "name": "ipython",
    "version": 3
   },
   "file_extension": ".py",
   "mimetype": "text/x-python",
   "name": "python",
   "nbconvert_exporter": "python",
   "pygments_lexer": "ipython3",
   "version": "3.8.8"
  }
 },
 "nbformat": 4,
 "nbformat_minor": 5
}