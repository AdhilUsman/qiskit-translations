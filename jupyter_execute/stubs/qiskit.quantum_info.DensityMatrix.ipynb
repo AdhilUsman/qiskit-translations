{
 "cells": [
  {
   "cell_type": "code",
   "execution_count": 1,
   "id": "fd12f043",
   "metadata": {
    "execution": {
     "iopub.execute_input": "2021-06-20T13:31:20.819525Z",
     "iopub.status.busy": "2021-06-20T13:31:20.819002Z",
     "iopub.status.idle": "2021-06-20T13:31:21.542240Z",
     "shell.execute_reply": "2021-06-20T13:31:21.542685Z"
    }
   },
   "outputs": [
    {
     "name": "stdout",
     "output_type": "stream",
     "text": [
      "probs: [0.5 0.  0.5 0. ]\n",
      "Qubit-0 probs: [1. 0.]\n",
      "Qubit-1 probs: [0.5 0.5]\n"
     ]
    }
   ],
   "source": [
    "from qiskit.quantum_info import DensityMatrix\n",
    "\n",
    "rho = DensityMatrix.from_label('+0')\n",
    "\n",
    "# Probabilities for measuring both qubits\n",
    "probs = rho.probabilities()\n",
    "print('probs: {}'.format(probs))\n",
    "\n",
    "# Probabilities for measuring only qubit-0\n",
    "probs_qubit_0 = rho.probabilities([0])\n",
    "print('Qubit-0 probs: {}'.format(probs_qubit_0))\n",
    "\n",
    "# Probabilities for measuring only qubit-1\n",
    "probs_qubit_1 = rho.probabilities([1])\n",
    "print('Qubit-1 probs: {}'.format(probs_qubit_1))"
   ]
  },
  {
   "cell_type": "code",
   "execution_count": 2,
   "id": "fd03c3c2",
   "metadata": {
    "execution": {
     "iopub.execute_input": "2021-06-20T13:31:21.549735Z",
     "iopub.status.busy": "2021-06-20T13:31:21.549114Z",
     "iopub.status.idle": "2021-06-20T13:31:21.551981Z",
     "shell.execute_reply": "2021-06-20T13:31:21.552401Z"
    }
   },
   "outputs": [
    {
     "name": "stdout",
     "output_type": "stream",
     "text": [
      "probs: [0.5 0.  0.5 0. ]\n",
      "Swapped probs: [0.5 0.5 0.  0. ]\n"
     ]
    }
   ],
   "source": [
    "from qiskit.quantum_info import DensityMatrix\n",
    "\n",
    "rho = DensityMatrix.from_label('+0')\n",
    "\n",
    "# Probabilities for measuring both qubits\n",
    "probs = rho.probabilities([0, 1])\n",
    "print('probs: {}'.format(probs))\n",
    "\n",
    "# Probabilities for measuring both qubits\n",
    "# but swapping qubits 0 and 1 in output\n",
    "probs_swapped = rho.probabilities([1, 0])\n",
    "print('Swapped probs: {}'.format(probs_swapped))"
   ]
  },
  {
   "cell_type": "code",
   "execution_count": 3,
   "id": "985216c5",
   "metadata": {
    "execution": {
     "iopub.execute_input": "2021-06-20T13:31:21.557140Z",
     "iopub.status.busy": "2021-06-20T13:31:21.556582Z",
     "iopub.status.idle": "2021-06-20T13:31:21.560797Z",
     "shell.execute_reply": "2021-06-20T13:31:21.560266Z"
    }
   },
   "outputs": [
    {
     "name": "stdout",
     "output_type": "stream",
     "text": [
      "{'00|00': (0.4999999999999999+0j), '10|00': (-0.4999999999999999-0j), '00|10': (-0.4999999999999999+0j), '10|10': (0.4999999999999999+0j)}\n"
     ]
    }
   ],
   "source": [
    "from qiskit.quantum_info import DensityMatrix\n",
    "\n",
    "rho = DensityMatrix.from_label('-0')\n",
    "print(rho.to_dict())"
   ]
  },
  {
   "cell_type": "code",
   "execution_count": 4,
   "id": "830e1b9e",
   "metadata": {
    "execution": {
     "iopub.execute_input": "2021-06-20T13:31:21.566782Z",
     "iopub.status.busy": "2021-06-20T13:31:21.563076Z",
     "iopub.status.idle": "2021-06-20T13:31:21.569057Z",
     "shell.execute_reply": "2021-06-20T13:31:21.569542Z"
    }
   },
   "outputs": [
    {
     "name": "stdout",
     "output_type": "stream",
     "text": [
      "{'00|00': (0.25+0j), '10|10': (0.25+0j), '20|20': (0.25+0j), '22|22': (0.25+0j)}\n"
     ]
    }
   ],
   "source": [
    "import numpy as np\n",
    "from qiskit.quantum_info import DensityMatrix\n",
    "\n",
    "mat = np.zeros((9, 9))\n",
    "mat[0, 0] = 0.25\n",
    "mat[3, 3] = 0.25\n",
    "mat[6, 6] = 0.25\n",
    "mat[-1, -1] = 0.25\n",
    "rho = DensityMatrix(mat, dims=(3, 3))\n",
    "print(rho.to_dict())"
   ]
  },
  {
   "cell_type": "code",
   "execution_count": 5,
   "id": "fc398ee4",
   "metadata": {
    "execution": {
     "iopub.execute_input": "2021-06-20T13:31:21.576232Z",
     "iopub.status.busy": "2021-06-20T13:31:21.574654Z",
     "iopub.status.idle": "2021-06-20T13:31:21.578100Z",
     "shell.execute_reply": "2021-06-20T13:31:21.577569Z"
    }
   },
   "outputs": [
    {
     "name": "stdout",
     "output_type": "stream",
     "text": [
      "{'00|00': (0.5+0j), '91|91': (0.5+0j)}\n"
     ]
    }
   ],
   "source": [
    "import numpy as np\n",
    "from qiskit.quantum_info import DensityMatrix\n",
    "\n",
    "mat = np.zeros((2 * 10, 2 * 10))\n",
    "mat[0, 0] = 0.5\n",
    "mat[-1, -1] = 0.5\n",
    "rho = DensityMatrix(mat, dims=(2, 10))\n",
    "print(rho.to_dict())"
   ]
  }
 ],
 "metadata": {
  "kernelspec": {
   "display_name": "Python 3",
   "language": "python",
   "name": "python3"
  },
  "language_info": {
   "codemirror_mode": {
    "name": "ipython",
    "version": 3
   },
   "file_extension": ".py",
   "mimetype": "text/x-python",
   "name": "python",
   "nbconvert_exporter": "python",
   "pygments_lexer": "ipython3",
   "version": "3.8.10"
  }
 },
 "nbformat": 4,
 "nbformat_minor": 5
}