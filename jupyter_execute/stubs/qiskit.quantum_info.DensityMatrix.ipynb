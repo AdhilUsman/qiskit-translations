{
 "cells": [
  {
   "cell_type": "code",
   "execution_count": 1,
   "id": "5fd20613",
   "metadata": {
    "execution": {
     "iopub.execute_input": "2021-04-08T06:41:10.894396Z",
     "iopub.status.busy": "2021-04-08T06:41:10.893751Z",
     "iopub.status.idle": "2021-04-08T06:41:11.652415Z",
     "shell.execute_reply": "2021-04-08T06:41:11.653016Z"
    }
   },
   "outputs": [
    {
     "name": "stdout",
     "output_type": "stream",
     "text": [
      "probs: [0.5 0.  0.5 0. ]\n",
      "Qubit-0 probs: [1. 0.]\n",
      "Qubit-1 probs: [0.5 0.5]\n"
     ]
    }
   ],
   "source": [
    "from qiskit.quantum_info import DensityMatrix\n",
    "\n",
    "rho = DensityMatrix.from_label('+0')\n",
    "\n",
    "# Probabilities for measuring both qubits\n",
    "probs = rho.probabilities()\n",
    "print('probs: {}'.format(probs))\n",
    "\n",
    "# Probabilities for measuring only qubit-0\n",
    "probs_qubit_0 = rho.probabilities([0])\n",
    "print('Qubit-0 probs: {}'.format(probs_qubit_0))\n",
    "\n",
    "# Probabilities for measuring only qubit-1\n",
    "probs_qubit_1 = rho.probabilities([1])\n",
    "print('Qubit-1 probs: {}'.format(probs_qubit_1))"
   ]
  },
  {
   "cell_type": "code",
   "execution_count": 2,
   "id": "9e8cd217",
   "metadata": {
    "execution": {
     "iopub.execute_input": "2021-04-08T06:41:11.661626Z",
     "iopub.status.busy": "2021-04-08T06:41:11.659903Z",
     "iopub.status.idle": "2021-04-08T06:41:11.663850Z",
     "shell.execute_reply": "2021-04-08T06:41:11.663216Z"
    }
   },
   "outputs": [
    {
     "name": "stdout",
     "output_type": "stream",
     "text": [
      "probs: [0.5 0.  0.5 0. ]\n",
      "Swapped probs: [0.5 0.5 0.  0. ]\n"
     ]
    }
   ],
   "source": [
    "from qiskit.quantum_info import DensityMatrix\n",
    "\n",
    "rho = DensityMatrix.from_label('+0')\n",
    "\n",
    "# Probabilities for measuring both qubits\n",
    "probs = rho.probabilities([0, 1])\n",
    "print('probs: {}'.format(probs))\n",
    "\n",
    "# Probabilities for measuring both qubits\n",
    "# but swapping qubits 0 and 1 in output\n",
    "probs_swapped = rho.probabilities([1, 0])\n",
    "print('Swapped probs: {}'.format(probs_swapped))"
   ]
  },
  {
   "cell_type": "code",
   "execution_count": 3,
   "id": "b442509a",
   "metadata": {
    "execution": {
     "iopub.execute_input": "2021-04-08T06:41:11.671053Z",
     "iopub.status.busy": "2021-04-08T06:41:11.669412Z",
     "iopub.status.idle": "2021-04-08T06:41:11.673148Z",
     "shell.execute_reply": "2021-04-08T06:41:11.672563Z"
    }
   },
   "outputs": [
    {
     "name": "stdout",
     "output_type": "stream",
     "text": [
      "{'00|00': (0.4999999999999999+0j), '10|00': (-0.4999999999999999-0j), '00|10': (-0.4999999999999999+0j), '10|10': (0.4999999999999999+0j)}\n"
     ]
    }
   ],
   "source": [
    "from qiskit.quantum_info import DensityMatrix\n",
    "\n",
    "rho = DensityMatrix.from_label('-0')\n",
    "print(rho.to_dict())"
   ]
  },
  {
   "cell_type": "code",
   "execution_count": 4,
   "id": "0b2ae577",
   "metadata": {
    "execution": {
     "iopub.execute_input": "2021-04-08T06:41:11.680303Z",
     "iopub.status.busy": "2021-04-08T06:41:11.678808Z",
     "iopub.status.idle": "2021-04-08T06:41:11.682270Z",
     "shell.execute_reply": "2021-04-08T06:41:11.681763Z"
    }
   },
   "outputs": [
    {
     "name": "stdout",
     "output_type": "stream",
     "text": [
      "{'00|00': (0.25+0j), '10|10': (0.25+0j), '20|20': (0.25+0j), '22|22': (0.25+0j)}\n"
     ]
    }
   ],
   "source": [
    "import numpy as np\n",
    "from qiskit.quantum_info import DensityMatrix\n",
    "\n",
    "mat = np.zeros((9, 9))\n",
    "mat[0, 0] = 0.25\n",
    "mat[3, 3] = 0.25\n",
    "mat[6, 6] = 0.25\n",
    "mat[-1, -1] = 0.25\n",
    "rho = DensityMatrix(mat, dims=(3, 3))\n",
    "print(rho.to_dict())"
   ]
  },
  {
   "cell_type": "code",
   "execution_count": 5,
   "id": "4fd16c63",
   "metadata": {
    "execution": {
     "iopub.execute_input": "2021-04-08T06:41:11.689051Z",
     "iopub.status.busy": "2021-04-08T06:41:11.687663Z",
     "iopub.status.idle": "2021-04-08T06:41:11.691162Z",
     "shell.execute_reply": "2021-04-08T06:41:11.690536Z"
    }
   },
   "outputs": [
    {
     "name": "stdout",
     "output_type": "stream",
     "text": [
      "{'00|00': (0.5+0j), '91|91': (0.5+0j)}\n"
     ]
    }
   ],
   "source": [
    "import numpy as np\n",
    "from qiskit.quantum_info import DensityMatrix\n",
    "\n",
    "mat = np.zeros((2 * 10, 2 * 10))\n",
    "mat[0, 0] = 0.5\n",
    "mat[-1, -1] = 0.5\n",
    "rho = DensityMatrix(mat, dims=(2, 10))\n",
    "print(rho.to_dict())"
   ]
  }
 ],
 "metadata": {
  "kernelspec": {
   "display_name": "Python 3",
   "language": "python",
   "name": "python3"
  },
  "language_info": {
   "codemirror_mode": {
    "name": "ipython",
    "version": 3
   },
   "file_extension": ".py",
   "mimetype": "text/x-python",
   "name": "python",
   "nbconvert_exporter": "python",
   "pygments_lexer": "ipython3",
   "version": "3.8.8"
  }
 },
 "nbformat": 4,
 "nbformat_minor": 5
}