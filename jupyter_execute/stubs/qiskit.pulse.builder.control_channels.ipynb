{
 "cells": [
  {
   "cell_type": "code",
   "execution_count": 1,
   "id": "712a940f",
   "metadata": {
    "execution": {
     "iopub.execute_input": "2021-04-14T16:26:17.894288Z",
     "iopub.status.busy": "2021-04-14T16:26:17.893796Z",
     "iopub.status.idle": "2021-04-14T16:26:18.857384Z",
     "shell.execute_reply": "2021-04-14T16:26:18.856768Z"
    }
   },
   "outputs": [],
   "source": [
    "from qiskit import pulse\n",
    "from qiskit.test.mock import FakeOpenPulse2Q\n",
    "\n",
    "backend = FakeOpenPulse2Q()\n",
    "with pulse.build(backend):\n",
    "    assert pulse.control_channels(0, 1) == [pulse.ControlChannel(0)]"
   ]
  }
 ],
 "metadata": {
  "kernelspec": {
   "display_name": "Python 3",
   "language": "python",
   "name": "python3"
  },
  "language_info": {
   "codemirror_mode": {
    "name": "ipython",
    "version": 3
   },
   "file_extension": ".py",
   "mimetype": "text/x-python",
   "name": "python",
   "nbconvert_exporter": "python",
   "pygments_lexer": "ipython3",
   "version": "3.8.9"
  }
 },
 "nbformat": 4,
 "nbformat_minor": 5
}