{
 "cells": [
  {
   "cell_type": "code",
   "execution_count": 1,
   "id": "2007b163",
   "metadata": {
    "execution": {
     "iopub.execute_input": "2021-05-04T03:15:40.605145Z",
     "iopub.status.busy": "2021-05-04T03:15:40.604446Z",
     "iopub.status.idle": "2021-05-04T03:15:41.781232Z",
     "shell.execute_reply": "2021-05-04T03:15:41.780045Z"
    }
   },
   "outputs": [],
   "source": [
    "from qiskit import pulse\n",
    "from qiskit.test.mock import FakeOpenPulse2Q\n",
    "\n",
    "backend = FakeOpenPulse2Q()\n",
    "with pulse.build(backend):\n",
    "    assert pulse.control_channels(0, 1) == [pulse.ControlChannel(0)]"
   ]
  }
 ],
 "metadata": {
  "kernelspec": {
   "display_name": "Python 3",
   "language": "python",
   "name": "python3"
  },
  "language_info": {
   "codemirror_mode": {
    "name": "ipython",
    "version": 3
   },
   "file_extension": ".py",
   "mimetype": "text/x-python",
   "name": "python",
   "nbconvert_exporter": "python",
   "pygments_lexer": "ipython3",
   "version": "3.8.9"
  }
 },
 "nbformat": 4,
 "nbformat_minor": 5
}