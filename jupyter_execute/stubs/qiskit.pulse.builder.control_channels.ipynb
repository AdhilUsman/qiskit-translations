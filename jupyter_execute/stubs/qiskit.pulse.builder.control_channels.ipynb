{
 "cells": [
  {
   "cell_type": "code",
   "execution_count": 1,
   "id": "5aa2894e",
   "metadata": {
    "execution": {
     "iopub.execute_input": "2021-06-14T16:50:16.845822Z",
     "iopub.status.busy": "2021-06-14T16:50:16.845154Z",
     "iopub.status.idle": "2021-06-14T16:50:17.976119Z",
     "shell.execute_reply": "2021-06-14T16:50:17.975425Z"
    }
   },
   "outputs": [],
   "source": [
    "from qiskit import pulse\n",
    "from qiskit.test.mock import FakeOpenPulse2Q\n",
    "\n",
    "backend = FakeOpenPulse2Q()\n",
    "with pulse.build(backend):\n",
    "    assert pulse.control_channels(0, 1) == [pulse.ControlChannel(0)]"
   ]
  }
 ],
 "metadata": {
  "kernelspec": {
   "display_name": "Python 3",
   "language": "python",
   "name": "python3"
  },
  "language_info": {
   "codemirror_mode": {
    "name": "ipython",
    "version": 3
   },
   "file_extension": ".py",
   "mimetype": "text/x-python",
   "name": "python",
   "nbconvert_exporter": "python",
   "pygments_lexer": "ipython3",
   "version": "3.8.10"
  }
 },
 "nbformat": 4,
 "nbformat_minor": 5
}