{
 "cells": [
  {
   "cell_type": "code",
   "execution_count": 1,
   "id": "594e783b",
   "metadata": {
    "execution": {
     "iopub.execute_input": "2021-05-08T16:06:15.559236Z",
     "iopub.status.busy": "2021-05-08T16:06:15.558594Z",
     "iopub.status.idle": "2021-05-08T16:06:16.718875Z",
     "shell.execute_reply": "2021-05-08T16:06:16.718281Z"
    }
   },
   "outputs": [],
   "source": [
    "from qiskit import pulse\n",
    "from qiskit.test.mock import FakeOpenPulse2Q\n",
    "\n",
    "backend = FakeOpenPulse2Q()\n",
    "with pulse.build(backend):\n",
    "    assert pulse.control_channels(0, 1) == [pulse.ControlChannel(0)]"
   ]
  }
 ],
 "metadata": {
  "kernelspec": {
   "display_name": "Python 3",
   "language": "python",
   "name": "python3"
  },
  "language_info": {
   "codemirror_mode": {
    "name": "ipython",
    "version": 3
   },
   "file_extension": ".py",
   "mimetype": "text/x-python",
   "name": "python",
   "nbconvert_exporter": "python",
   "pygments_lexer": "ipython3",
   "version": "3.8.10"
  }
 },
 "nbformat": 4,
 "nbformat_minor": 5
}