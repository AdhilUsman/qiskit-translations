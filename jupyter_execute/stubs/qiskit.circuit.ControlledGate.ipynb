{
 "cells": [
  {
   "cell_type": "code",
   "execution_count": 1,
   "id": "79b4e49b",
   "metadata": {
    "execution": {
     "iopub.execute_input": "2021-04-30T18:22:27.878687Z",
     "iopub.status.busy": "2021-04-30T18:22:27.877990Z",
     "iopub.status.idle": "2021-04-30T18:22:28.468414Z",
     "shell.execute_reply": "2021-04-30T18:22:28.467771Z"
    }
   },
   "outputs": [
    {
     "data": {
      "text/html": [
       "<pre style=\"word-wrap: normal;white-space: pre;background: #fff0;line-height: 1.1;font-family: &quot;Courier New&quot;,Courier,monospace\">           \n",
       "q0_0: ──■──\n",
       "        │  \n",
       "q0_1: ──■──\n",
       "      ┌─┴─┐\n",
       "q0_2: ┤ H ├\n",
       "      └───┘</pre>"
      ],
      "text/plain": [
       "           \n",
       "q0_0: ──■──\n",
       "        │  \n",
       "q0_1: ──■──\n",
       "      ┌─┴─┐\n",
       "q0_2: ┤ H ├\n",
       "      └───┘"
      ]
     },
     "execution_count": 1,
     "metadata": {},
     "output_type": "execute_result"
    }
   ],
   "source": [
    "from qiskit import QuantumCircuit, QuantumRegister\n",
    "from qiskit.circuit.library.standard_gates import HGate\n",
    "\n",
    "qr = QuantumRegister(3)\n",
    "qc = QuantumCircuit(qr)\n",
    "c3h_gate = HGate().control(2)\n",
    "qc.append(c3h_gate, qr)\n",
    "qc.draw()"
   ]
  },
  {
   "cell_type": "code",
   "execution_count": 2,
   "id": "aecc093b",
   "metadata": {
    "execution": {
     "iopub.execute_input": "2021-04-30T18:22:28.479084Z",
     "iopub.status.busy": "2021-04-30T18:22:28.478588Z",
     "iopub.status.idle": "2021-04-30T18:22:28.482192Z",
     "shell.execute_reply": "2021-04-30T18:22:28.482549Z"
    }
   },
   "outputs": [
    {
     "data": {
      "text/html": [
       "<pre style=\"word-wrap: normal;white-space: pre;background: #fff0;line-height: 1.1;font-family: &quot;Courier New&quot;,Courier,monospace\">                   \n",
       "q_0: ──────■───────\n",
       "     ┌─────┴──────┐\n",
       "q_1: ┤0           ├\n",
       "     │  circuit-8 │\n",
       "q_2: ┤1           ├\n",
       "     └─────┬──────┘\n",
       "q_3: ──────■───────\n",
       "                   </pre>"
      ],
      "text/plain": [
       "                   \n",
       "q_0: ──────■───────\n",
       "     ┌─────┴──────┐\n",
       "q_1: ┤0           ├\n",
       "     │  circuit-8 │\n",
       "q_2: ┤1           ├\n",
       "     └─────┬──────┘\n",
       "q_3: ──────■───────\n",
       "                   "
      ]
     },
     "execution_count": 2,
     "metadata": {},
     "output_type": "execute_result"
    }
   ],
   "source": [
    "from qiskit import QuantumCircuit, QuantumRegister\n",
    "from qiskit.circuit.library.standard_gates import HGate\n",
    "\n",
    "qc1 = QuantumCircuit(2)\n",
    "qc1.x(0)\n",
    "qc1.h(1)\n",
    "custom = qc1.to_gate().control(2)\n",
    "\n",
    "qc2 = QuantumCircuit(4)\n",
    "qc2.append(custom, [0, 3, 1, 2])\n",
    "qc2.draw()"
   ]
  },
  {
   "cell_type": "code",
   "execution_count": 3,
   "id": "1fa5cd6a",
   "metadata": {
    "execution": {
     "iopub.execute_input": "2021-04-30T18:22:28.491944Z",
     "iopub.status.busy": "2021-04-30T18:22:28.491426Z",
     "iopub.status.idle": "2021-04-30T18:22:28.493775Z",
     "shell.execute_reply": "2021-04-30T18:22:28.494147Z"
    }
   },
   "outputs": [
    {
     "data": {
      "text/html": [
       "<pre style=\"word-wrap: normal;white-space: pre;background: #fff0;line-height: 1.1;font-family: &quot;Courier New&quot;,Courier,monospace\">           \n",
       "q1_0: ──■──\n",
       "        │  \n",
       "q1_1: ──■──\n",
       "      ┌─┴─┐\n",
       "q1_2: ┤ H ├\n",
       "      └───┘</pre>"
      ],
      "text/plain": [
       "           \n",
       "q1_0: ──■──\n",
       "        │  \n",
       "q1_1: ──■──\n",
       "      ┌─┴─┐\n",
       "q1_2: ┤ H ├\n",
       "      └───┘"
      ]
     },
     "execution_count": 3,
     "metadata": {},
     "output_type": "execute_result"
    }
   ],
   "source": [
    "from qiskit import QuantumCircuit, QuantumRegister\n",
    "from qiskit.circuit.library.standard_gates import HGate\n",
    "\n",
    "qr = QuantumRegister(3)\n",
    "qc = QuantumCircuit(qr)\n",
    "c3h_gate = HGate().control(2)\n",
    "qc.append(c3h_gate, qr)\n",
    "qc.draw()"
   ]
  },
  {
   "cell_type": "code",
   "execution_count": 4,
   "id": "c30b6eec",
   "metadata": {
    "execution": {
     "iopub.execute_input": "2021-04-30T18:22:28.504972Z",
     "iopub.status.busy": "2021-04-30T18:22:28.504523Z",
     "iopub.status.idle": "2021-04-30T18:22:28.506977Z",
     "shell.execute_reply": "2021-04-30T18:22:28.507400Z"
    }
   },
   "outputs": [
    {
     "data": {
      "text/html": [
       "<pre style=\"word-wrap: normal;white-space: pre;background: #fff0;line-height: 1.1;font-family: &quot;Courier New&quot;,Courier,monospace\">                    \n",
       "q_0: ───────■───────\n",
       "     ┌──────┴──────┐\n",
       "q_1: ┤0            ├\n",
       "     │  circuit-28 │\n",
       "q_2: ┤1            ├\n",
       "     └──────┬──────┘\n",
       "q_3: ───────■───────\n",
       "                    </pre>"
      ],
      "text/plain": [
       "                    \n",
       "q_0: ───────■───────\n",
       "     ┌──────┴──────┐\n",
       "q_1: ┤0            ├\n",
       "     │  circuit-28 │\n",
       "q_2: ┤1            ├\n",
       "     └──────┬──────┘\n",
       "q_3: ───────■───────\n",
       "                    "
      ]
     },
     "execution_count": 4,
     "metadata": {},
     "output_type": "execute_result"
    }
   ],
   "source": [
    "from qiskit import QuantumCircuit, QuantumRegister\n",
    "from qiskit.circuit.library.standard_gates import HGate\n",
    "\n",
    "qc1 = QuantumCircuit(2)\n",
    "qc1.x(0)\n",
    "qc1.h(1)\n",
    "custom = qc1.to_gate().control(2)\n",
    "\n",
    "qc2 = QuantumCircuit(4)\n",
    "qc2.append(custom, [0, 3, 1, 2])\n",
    "qc2.draw()"
   ]
  }
 ],
 "metadata": {
  "kernelspec": {
   "display_name": "Python 3",
   "language": "python",
   "name": "python3"
  },
  "language_info": {
   "codemirror_mode": {
    "name": "ipython",
    "version": 3
   },
   "file_extension": ".py",
   "mimetype": "text/x-python",
   "name": "python",
   "nbconvert_exporter": "python",
   "pygments_lexer": "ipython3",
   "version": "3.8.9"
  }
 },
 "nbformat": 4,
 "nbformat_minor": 5
}