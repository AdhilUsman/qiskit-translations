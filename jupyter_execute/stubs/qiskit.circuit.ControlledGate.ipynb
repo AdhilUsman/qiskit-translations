{
 "cells": [
  {
   "cell_type": "code",
   "execution_count": 1,
   "id": "52dddc00",
   "metadata": {
    "execution": {
     "iopub.execute_input": "2021-06-18T13:42:26.001099Z",
     "iopub.status.busy": "2021-06-18T13:42:26.000473Z",
     "iopub.status.idle": "2021-06-18T13:42:26.691010Z",
     "shell.execute_reply": "2021-06-18T13:42:26.690465Z"
    }
   },
   "outputs": [
    {
     "data": {
      "text/html": [
       "<pre style=\"word-wrap: normal;white-space: pre;background: #fff0;line-height: 1.1;font-family: &quot;Courier New&quot;,Courier,monospace\">           \n",
       "q0_0: ──■──\n",
       "        │  \n",
       "q0_1: ──■──\n",
       "      ┌─┴─┐\n",
       "q0_2: ┤ H ├\n",
       "      └───┘</pre>"
      ],
      "text/plain": [
       "           \n",
       "q0_0: ──■──\n",
       "        │  \n",
       "q0_1: ──■──\n",
       "      ┌─┴─┐\n",
       "q0_2: ┤ H ├\n",
       "      └───┘"
      ]
     },
     "execution_count": 1,
     "metadata": {},
     "output_type": "execute_result"
    }
   ],
   "source": [
    "from qiskit import QuantumCircuit, QuantumRegister\n",
    "from qiskit.circuit.library.standard_gates import HGate\n",
    "\n",
    "qr = QuantumRegister(3)\n",
    "qc = QuantumCircuit(qr)\n",
    "c3h_gate = HGate().control(2)\n",
    "qc.append(c3h_gate, qr)\n",
    "qc.draw()"
   ]
  },
  {
   "cell_type": "code",
   "execution_count": 2,
   "id": "9902bdf9",
   "metadata": {
    "execution": {
     "iopub.execute_input": "2021-06-18T13:42:26.706124Z",
     "iopub.status.busy": "2021-06-18T13:42:26.698181Z",
     "iopub.status.idle": "2021-06-18T13:42:26.708173Z",
     "shell.execute_reply": "2021-06-18T13:42:26.708574Z"
    }
   },
   "outputs": [
    {
     "data": {
      "text/html": [
       "<pre style=\"word-wrap: normal;white-space: pre;background: #fff0;line-height: 1.1;font-family: &quot;Courier New&quot;,Courier,monospace\">                   \n",
       "q_0: ──────■───────\n",
       "     ┌─────┴──────┐\n",
       "q_1: ┤0           ├\n",
       "     │  circuit-8 │\n",
       "q_2: ┤1           ├\n",
       "     └─────┬──────┘\n",
       "q_3: ──────■───────\n",
       "                   </pre>"
      ],
      "text/plain": [
       "                   \n",
       "q_0: ──────■───────\n",
       "     ┌─────┴──────┐\n",
       "q_1: ┤0           ├\n",
       "     │  circuit-8 │\n",
       "q_2: ┤1           ├\n",
       "     └─────┬──────┘\n",
       "q_3: ──────■───────\n",
       "                   "
      ]
     },
     "execution_count": 2,
     "metadata": {},
     "output_type": "execute_result"
    }
   ],
   "source": [
    "from qiskit import QuantumCircuit, QuantumRegister\n",
    "from qiskit.circuit.library.standard_gates import HGate\n",
    "\n",
    "qc1 = QuantumCircuit(2)\n",
    "qc1.x(0)\n",
    "qc1.h(1)\n",
    "custom = qc1.to_gate().control(2)\n",
    "\n",
    "qc2 = QuantumCircuit(4)\n",
    "qc2.append(custom, [0, 3, 1, 2])\n",
    "qc2.draw()"
   ]
  },
  {
   "cell_type": "code",
   "execution_count": 3,
   "id": "c39194a2",
   "metadata": {
    "execution": {
     "iopub.execute_input": "2021-06-18T13:42:26.719099Z",
     "iopub.status.busy": "2021-06-18T13:42:26.716025Z",
     "iopub.status.idle": "2021-06-18T13:42:26.721104Z",
     "shell.execute_reply": "2021-06-18T13:42:26.721577Z"
    }
   },
   "outputs": [
    {
     "data": {
      "text/html": [
       "<pre style=\"word-wrap: normal;white-space: pre;background: #fff0;line-height: 1.1;font-family: &quot;Courier New&quot;,Courier,monospace\">           \n",
       "q1_0: ──■──\n",
       "        │  \n",
       "q1_1: ──■──\n",
       "      ┌─┴─┐\n",
       "q1_2: ┤ H ├\n",
       "      └───┘</pre>"
      ],
      "text/plain": [
       "           \n",
       "q1_0: ──■──\n",
       "        │  \n",
       "q1_1: ──■──\n",
       "      ┌─┴─┐\n",
       "q1_2: ┤ H ├\n",
       "      └───┘"
      ]
     },
     "execution_count": 3,
     "metadata": {},
     "output_type": "execute_result"
    }
   ],
   "source": [
    "from qiskit import QuantumCircuit, QuantumRegister\n",
    "from qiskit.circuit.library.standard_gates import HGate\n",
    "\n",
    "qr = QuantumRegister(3)\n",
    "qc = QuantumCircuit(qr)\n",
    "c3h_gate = HGate().control(2)\n",
    "qc.append(c3h_gate, qr)\n",
    "qc.draw()"
   ]
  },
  {
   "cell_type": "code",
   "execution_count": 4,
   "id": "b2deb9f5",
   "metadata": {
    "execution": {
     "iopub.execute_input": "2021-06-18T13:42:26.733409Z",
     "iopub.status.busy": "2021-06-18T13:42:26.728651Z",
     "iopub.status.idle": "2021-06-18T13:42:26.735514Z",
     "shell.execute_reply": "2021-06-18T13:42:26.735941Z"
    }
   },
   "outputs": [
    {
     "data": {
      "text/html": [
       "<pre style=\"word-wrap: normal;white-space: pre;background: #fff0;line-height: 1.1;font-family: &quot;Courier New&quot;,Courier,monospace\">                    \n",
       "q_0: ───────■───────\n",
       "     ┌──────┴──────┐\n",
       "q_1: ┤0            ├\n",
       "     │  circuit-28 │\n",
       "q_2: ┤1            ├\n",
       "     └──────┬──────┘\n",
       "q_3: ───────■───────\n",
       "                    </pre>"
      ],
      "text/plain": [
       "                    \n",
       "q_0: ───────■───────\n",
       "     ┌──────┴──────┐\n",
       "q_1: ┤0            ├\n",
       "     │  circuit-28 │\n",
       "q_2: ┤1            ├\n",
       "     └──────┬──────┘\n",
       "q_3: ───────■───────\n",
       "                    "
      ]
     },
     "execution_count": 4,
     "metadata": {},
     "output_type": "execute_result"
    }
   ],
   "source": [
    "from qiskit import QuantumCircuit, QuantumRegister\n",
    "from qiskit.circuit.library.standard_gates import HGate\n",
    "\n",
    "qc1 = QuantumCircuit(2)\n",
    "qc1.x(0)\n",
    "qc1.h(1)\n",
    "custom = qc1.to_gate().control(2)\n",
    "\n",
    "qc2 = QuantumCircuit(4)\n",
    "qc2.append(custom, [0, 3, 1, 2])\n",
    "qc2.draw()"
   ]
  }
 ],
 "metadata": {
  "kernelspec": {
   "display_name": "Python 3",
   "language": "python",
   "name": "python3"
  },
  "language_info": {
   "codemirror_mode": {
    "name": "ipython",
    "version": 3
   },
   "file_extension": ".py",
   "mimetype": "text/x-python",
   "name": "python",
   "nbconvert_exporter": "python",
   "pygments_lexer": "ipython3",
   "version": "3.8.10"
  }
 },
 "nbformat": 4,
 "nbformat_minor": 5
}