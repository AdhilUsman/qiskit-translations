{
 "cells": [
  {
   "cell_type": "code",
   "execution_count": 1,
   "id": "554f17a3",
   "metadata": {
    "execution": {
     "iopub.execute_input": "2021-04-13T16:17:09.321525Z",
     "iopub.status.busy": "2021-04-13T16:17:09.321003Z",
     "iopub.status.idle": "2021-04-13T16:17:10.453214Z",
     "shell.execute_reply": "2021-04-13T16:17:10.452413Z"
    }
   },
   "outputs": [],
   "source": [
    "from qiskit import pulse\n",
    "from qiskit.test.mock import FakeOpenPulse3Q\n",
    "\n",
    "backend = FakeOpenPulse3Q()\n",
    "\n",
    "with pulse.build(backend) as pulse_prog:\n",
    "    # Delay for 100 cycles on qubits 0, 1 and 2.\n",
    "    regs = pulse.delay_qubits(100, 0, 1, 2)"
   ]
  }
 ],
 "metadata": {
  "kernelspec": {
   "display_name": "Python 3",
   "language": "python",
   "name": "python3"
  },
  "language_info": {
   "codemirror_mode": {
    "name": "ipython",
    "version": 3
   },
   "file_extension": ".py",
   "mimetype": "text/x-python",
   "name": "python",
   "nbconvert_exporter": "python",
   "pygments_lexer": "ipython3",
   "version": "3.8.9"
  }
 },
 "nbformat": 4,
 "nbformat_minor": 5
}