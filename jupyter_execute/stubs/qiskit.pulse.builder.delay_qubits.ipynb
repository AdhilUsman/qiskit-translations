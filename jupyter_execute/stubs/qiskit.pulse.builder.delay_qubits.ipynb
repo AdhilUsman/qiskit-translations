{
 "cells": [
  {
   "cell_type": "code",
   "execution_count": 1,
   "id": "36c572be",
   "metadata": {
    "execution": {
     "iopub.execute_input": "2021-05-17T20:11:04.892795Z",
     "iopub.status.busy": "2021-05-17T20:11:04.892127Z",
     "iopub.status.idle": "2021-05-17T20:11:06.121836Z",
     "shell.execute_reply": "2021-05-17T20:11:06.120717Z"
    }
   },
   "outputs": [],
   "source": [
    "from qiskit import pulse\n",
    "from qiskit.test.mock import FakeOpenPulse3Q\n",
    "\n",
    "backend = FakeOpenPulse3Q()\n",
    "\n",
    "with pulse.build(backend) as pulse_prog:\n",
    "    # Delay for 100 cycles on qubits 0, 1 and 2.\n",
    "    regs = pulse.delay_qubits(100, 0, 1, 2)"
   ]
  }
 ],
 "metadata": {
  "kernelspec": {
   "display_name": "Python 3",
   "language": "python",
   "name": "python3"
  },
  "language_info": {
   "codemirror_mode": {
    "name": "ipython",
    "version": 3
   },
   "file_extension": ".py",
   "mimetype": "text/x-python",
   "name": "python",
   "nbconvert_exporter": "python",
   "pygments_lexer": "ipython3",
   "version": "3.8.10"
  }
 },
 "nbformat": 4,
 "nbformat_minor": 5
}