{
 "cells": [
  {
   "cell_type": "code",
   "execution_count": 1,
   "id": "8a7a2044",
   "metadata": {
    "execution": {
     "iopub.execute_input": "2021-05-17T11:31:19.247282Z",
     "iopub.status.busy": "2021-05-17T11:31:19.246726Z",
     "iopub.status.idle": "2021-05-17T11:31:20.449345Z",
     "shell.execute_reply": "2021-05-17T11:31:20.448608Z"
    }
   },
   "outputs": [
    {
     "name": "stdout",
     "output_type": "stream",
     "text": [
      "{'optimization_level': 3}\n"
     ]
    }
   ],
   "source": [
    "from qiskit import pulse\n",
    "from qiskit.test.mock import FakeOpenPulse2Q\n",
    "\n",
    "backend = FakeOpenPulse2Q()\n",
    "\n",
    "transpiler_settings = {'optimization_level': 3}\n",
    "\n",
    "with pulse.build(backend,\n",
    "                 default_transpiler_settings=transpiler_settings):\n",
    "    print(pulse.active_transpiler_settings())"
   ]
  }
 ],
 "metadata": {
  "kernelspec": {
   "display_name": "Python 3",
   "language": "python",
   "name": "python3"
  },
  "language_info": {
   "codemirror_mode": {
    "name": "ipython",
    "version": 3
   },
   "file_extension": ".py",
   "mimetype": "text/x-python",
   "name": "python",
   "nbconvert_exporter": "python",
   "pygments_lexer": "ipython3",
   "version": "3.8.10"
  }
 },
 "nbformat": 4,
 "nbformat_minor": 5
}