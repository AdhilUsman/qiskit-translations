{
 "cells": [
  {
   "cell_type": "code",
   "execution_count": 1,
   "id": "6e4f8321",
   "metadata": {
    "execution": {
     "iopub.execute_input": "2021-04-22T00:13:26.313092Z",
     "iopub.status.busy": "2021-04-22T00:13:26.312507Z",
     "iopub.status.idle": "2021-04-22T00:13:27.373760Z",
     "shell.execute_reply": "2021-04-22T00:13:27.373249Z"
    }
   },
   "outputs": [
    {
     "name": "stdout",
     "output_type": "stream",
     "text": [
      "{'optimization_level': 3}\n"
     ]
    }
   ],
   "source": [
    "from qiskit import pulse\n",
    "from qiskit.test.mock import FakeOpenPulse2Q\n",
    "\n",
    "backend = FakeOpenPulse2Q()\n",
    "\n",
    "transpiler_settings = {'optimization_level': 3}\n",
    "\n",
    "with pulse.build(backend,\n",
    "                 default_transpiler_settings=transpiler_settings):\n",
    "    print(pulse.active_transpiler_settings())"
   ]
  }
 ],
 "metadata": {
  "kernelspec": {
   "display_name": "Python 3",
   "language": "python",
   "name": "python3"
  },
  "language_info": {
   "codemirror_mode": {
    "name": "ipython",
    "version": 3
   },
   "file_extension": ".py",
   "mimetype": "text/x-python",
   "name": "python",
   "nbconvert_exporter": "python",
   "pygments_lexer": "ipython3",
   "version": "3.8.9"
  }
 },
 "nbformat": 4,
 "nbformat_minor": 5
}