{
 "cells": [
  {
   "cell_type": "code",
   "execution_count": 1,
   "id": "a9eb21f4",
   "metadata": {
    "execution": {
     "iopub.execute_input": "2021-06-09T00:21:29.380244Z",
     "iopub.status.busy": "2021-06-09T00:21:29.379700Z",
     "iopub.status.idle": "2021-06-09T00:21:30.068598Z",
     "shell.execute_reply": "2021-06-09T00:21:30.067841Z"
    }
   },
   "outputs": [],
   "source": [
    "import math\n",
    "\n",
    "from qiskit import pulse\n",
    "\n",
    "d0 = pulse.DriveChannel(0)\n",
    "\n",
    "with pulse.build() as pulse_prog:\n",
    "    pulse.shift_phase(math.pi, d0)"
   ]
  }
 ],
 "metadata": {
  "kernelspec": {
   "display_name": "Python 3",
   "language": "python",
   "name": "python3"
  },
  "language_info": {
   "codemirror_mode": {
    "name": "ipython",
    "version": 3
   },
   "file_extension": ".py",
   "mimetype": "text/x-python",
   "name": "python",
   "nbconvert_exporter": "python",
   "pygments_lexer": "ipython3",
   "version": "3.8.10"
  }
 },
 "nbformat": 4,
 "nbformat_minor": 5
}