{
 "cells": [
  {
   "cell_type": "code",
   "execution_count": 1,
   "id": "3a619f89",
   "metadata": {
    "execution": {
     "iopub.execute_input": "2021-06-20T02:17:52.557920Z",
     "iopub.status.busy": "2021-06-20T02:17:52.557237Z",
     "iopub.status.idle": "2021-06-20T02:17:53.328101Z",
     "shell.execute_reply": "2021-06-20T02:17:53.327387Z"
    }
   },
   "outputs": [],
   "source": [
    "import math\n",
    "\n",
    "from qiskit import pulse\n",
    "\n",
    "d0 = pulse.DriveChannel(0)\n",
    "\n",
    "with pulse.build() as pulse_prog:\n",
    "    pulse.shift_phase(math.pi, d0)"
   ]
  }
 ],
 "metadata": {
  "kernelspec": {
   "display_name": "Python 3",
   "language": "python",
   "name": "python3"
  },
  "language_info": {
   "codemirror_mode": {
    "name": "ipython",
    "version": 3
   },
   "file_extension": ".py",
   "mimetype": "text/x-python",
   "name": "python",
   "nbconvert_exporter": "python",
   "pygments_lexer": "ipython3",
   "version": "3.8.10"
  }
 },
 "nbformat": 4,
 "nbformat_minor": 5
}