{
 "cells": [
  {
   "cell_type": "code",
   "execution_count": 1,
   "id": "bc9b3a2a",
   "metadata": {
    "execution": {
     "iopub.execute_input": "2021-04-27T09:12:04.082391Z",
     "iopub.status.busy": "2021-04-27T09:12:04.081873Z",
     "iopub.status.idle": "2021-04-27T09:12:04.748358Z",
     "shell.execute_reply": "2021-04-27T09:12:04.747311Z"
    }
   },
   "outputs": [],
   "source": [
    "import math\n",
    "\n",
    "from qiskit import pulse\n",
    "\n",
    "d0 = pulse.DriveChannel(0)\n",
    "\n",
    "with pulse.build() as pulse_prog:\n",
    "    pulse.shift_phase(math.pi, d0)"
   ]
  }
 ],
 "metadata": {
  "kernelspec": {
   "display_name": "Python 3",
   "language": "python",
   "name": "python3"
  },
  "language_info": {
   "codemirror_mode": {
    "name": "ipython",
    "version": 3
   },
   "file_extension": ".py",
   "mimetype": "text/x-python",
   "name": "python",
   "nbconvert_exporter": "python",
   "pygments_lexer": "ipython3",
   "version": "3.8.9"
  }
 },
 "nbformat": 4,
 "nbformat_minor": 5
}