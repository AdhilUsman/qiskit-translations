{
 "cells": [
  {
   "cell_type": "code",
   "execution_count": 1,
   "id": "1d98a39c",
   "metadata": {
    "execution": {
     "iopub.execute_input": "2021-05-04T04:12:01.938714Z",
     "iopub.status.busy": "2021-05-04T04:12:01.938056Z",
     "iopub.status.idle": "2021-05-04T04:12:02.538134Z",
     "shell.execute_reply": "2021-05-04T04:12:02.537575Z"
    }
   },
   "outputs": [],
   "source": [
    "import math\n",
    "\n",
    "from qiskit import pulse\n",
    "\n",
    "d0 = pulse.DriveChannel(0)\n",
    "\n",
    "with pulse.build() as pulse_prog:\n",
    "    pulse.shift_phase(math.pi, d0)"
   ]
  }
 ],
 "metadata": {
  "kernelspec": {
   "display_name": "Python 3",
   "language": "python",
   "name": "python3"
  },
  "language_info": {
   "codemirror_mode": {
    "name": "ipython",
    "version": 3
   },
   "file_extension": ".py",
   "mimetype": "text/x-python",
   "name": "python",
   "nbconvert_exporter": "python",
   "pygments_lexer": "ipython3",
   "version": "3.8.9"
  }
 },
 "nbformat": 4,
 "nbformat_minor": 5
}