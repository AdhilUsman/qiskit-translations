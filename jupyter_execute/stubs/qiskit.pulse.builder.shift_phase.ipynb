{
 "cells": [
  {
   "cell_type": "code",
   "execution_count": 1,
   "id": "c3ff18f9",
   "metadata": {
    "execution": {
     "iopub.execute_input": "2021-04-18T23:28:17.157386Z",
     "iopub.status.busy": "2021-04-18T23:28:17.156556Z",
     "iopub.status.idle": "2021-04-18T23:28:17.778180Z",
     "shell.execute_reply": "2021-04-18T23:28:17.777189Z"
    }
   },
   "outputs": [],
   "source": [
    "import math\n",
    "\n",
    "from qiskit import pulse\n",
    "\n",
    "d0 = pulse.DriveChannel(0)\n",
    "\n",
    "with pulse.build() as pulse_prog:\n",
    "    pulse.shift_phase(math.pi, d0)"
   ]
  }
 ],
 "metadata": {
  "kernelspec": {
   "display_name": "Python 3",
   "language": "python",
   "name": "python3"
  },
  "language_info": {
   "codemirror_mode": {
    "name": "ipython",
    "version": 3
   },
   "file_extension": ".py",
   "mimetype": "text/x-python",
   "name": "python",
   "nbconvert_exporter": "python",
   "pygments_lexer": "ipython3",
   "version": "3.8.9"
  }
 },
 "nbformat": 4,
 "nbformat_minor": 5
}