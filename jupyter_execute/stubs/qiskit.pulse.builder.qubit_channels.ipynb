{
 "cells": [
  {
   "cell_type": "code",
   "execution_count": 1,
   "id": "designing-inventory",
   "metadata": {
    "execution": {
     "iopub.execute_input": "2021-03-28T23:02:29.597377Z",
     "iopub.status.busy": "2021-03-28T23:02:29.596746Z",
     "iopub.status.idle": "2021-03-28T23:02:31.368299Z",
     "shell.execute_reply": "2021-03-28T23:02:31.368833Z"
    }
   },
   "outputs": [
    {
     "name": "stdout",
     "output_type": "stream",
     "text": [
      "{ControlChannel(0), MeasureChannel(0), DriveChannel(0), AcquireChannel(0), ControlChannel(1)}\n"
     ]
    }
   ],
   "source": [
    "from qiskit import pulse\n",
    "from qiskit.test.mock import FakeOpenPulse2Q\n",
    "\n",
    "backend = FakeOpenPulse2Q()\n",
    "\n",
    "with pulse.build(backend):\n",
    "    print(pulse.qubit_channels(0))"
   ]
  }
 ],
 "metadata": {
  "kernelspec": {
   "display_name": "Python 3",
   "language": "python",
   "name": "python3"
  },
  "language_info": {
   "codemirror_mode": {
    "name": "ipython",
    "version": 3
   },
   "file_extension": ".py",
   "mimetype": "text/x-python",
   "name": "python",
   "nbconvert_exporter": "python",
   "pygments_lexer": "ipython3",
   "version": "3.8.8"
  }
 },
 "nbformat": 4,
 "nbformat_minor": 5
}