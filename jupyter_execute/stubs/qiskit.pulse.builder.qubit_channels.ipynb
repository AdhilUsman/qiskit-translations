{
 "cells": [
  {
   "cell_type": "code",
   "execution_count": 1,
   "id": "028c2d8e",
   "metadata": {
    "execution": {
     "iopub.execute_input": "2021-04-03T00:53:16.385855Z",
     "iopub.status.busy": "2021-04-03T00:53:16.385042Z",
     "iopub.status.idle": "2021-04-03T00:53:17.645196Z",
     "shell.execute_reply": "2021-04-03T00:53:17.645857Z"
    }
   },
   "outputs": [
    {
     "name": "stdout",
     "output_type": "stream",
     "text": [
      "{DriveChannel(0), AcquireChannel(0), ControlChannel(1), ControlChannel(0), MeasureChannel(0)}\n"
     ]
    }
   ],
   "source": [
    "from qiskit import pulse\n",
    "from qiskit.test.mock import FakeOpenPulse2Q\n",
    "\n",
    "backend = FakeOpenPulse2Q()\n",
    "\n",
    "with pulse.build(backend):\n",
    "    print(pulse.qubit_channels(0))"
   ]
  }
 ],
 "metadata": {
  "kernelspec": {
   "display_name": "Python 3",
   "language": "python",
   "name": "python3"
  },
  "language_info": {
   "codemirror_mode": {
    "name": "ipython",
    "version": 3
   },
   "file_extension": ".py",
   "mimetype": "text/x-python",
   "name": "python",
   "nbconvert_exporter": "python",
   "pygments_lexer": "ipython3",
   "version": "3.8.8"
  }
 },
 "nbformat": 4,
 "nbformat_minor": 5
}