{
 "cells": [
  {
   "cell_type": "code",
   "execution_count": 1,
   "id": "prompt-judgment",
   "metadata": {
    "execution": {
     "iopub.execute_input": "2021-03-28T22:05:41.214494Z",
     "iopub.status.busy": "2021-03-28T22:05:41.213890Z",
     "iopub.status.idle": "2021-03-28T22:05:43.092313Z",
     "shell.execute_reply": "2021-03-28T22:05:43.092727Z"
    }
   },
   "outputs": [
    {
     "name": "stdout",
     "output_type": "stream",
     "text": [
      "{ControlChannel(1), MeasureChannel(0), DriveChannel(0), AcquireChannel(0), ControlChannel(0)}\n"
     ]
    }
   ],
   "source": [
    "from qiskit import pulse\n",
    "from qiskit.test.mock import FakeOpenPulse2Q\n",
    "\n",
    "backend = FakeOpenPulse2Q()\n",
    "\n",
    "with pulse.build(backend):\n",
    "    print(pulse.qubit_channels(0))"
   ]
  }
 ],
 "metadata": {
  "kernelspec": {
   "display_name": "Python 3",
   "language": "python",
   "name": "python3"
  },
  "language_info": {
   "codemirror_mode": {
    "name": "ipython",
    "version": 3
   },
   "file_extension": ".py",
   "mimetype": "text/x-python",
   "name": "python",
   "nbconvert_exporter": "python",
   "pygments_lexer": "ipython3",
   "version": "3.8.8"
  }
 },
 "nbformat": 4,
 "nbformat_minor": 5
}