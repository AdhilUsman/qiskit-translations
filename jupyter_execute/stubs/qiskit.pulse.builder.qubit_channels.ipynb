{
 "cells": [
  {
   "cell_type": "code",
   "execution_count": 1,
   "id": "8f417e2e",
   "metadata": {
    "execution": {
     "iopub.execute_input": "2021-05-08T13:06:59.913383Z",
     "iopub.status.busy": "2021-05-08T13:06:59.912746Z",
     "iopub.status.idle": "2021-05-08T13:07:01.040902Z",
     "shell.execute_reply": "2021-05-08T13:07:01.041381Z"
    }
   },
   "outputs": [
    {
     "name": "stdout",
     "output_type": "stream",
     "text": [
      "{DriveChannel(0), AcquireChannel(0), MeasureChannel(0), ControlChannel(1), ControlChannel(0)}\n"
     ]
    }
   ],
   "source": [
    "from qiskit import pulse\n",
    "from qiskit.test.mock import FakeOpenPulse2Q\n",
    "\n",
    "backend = FakeOpenPulse2Q()\n",
    "\n",
    "with pulse.build(backend):\n",
    "    print(pulse.qubit_channels(0))"
   ]
  }
 ],
 "metadata": {
  "kernelspec": {
   "display_name": "Python 3",
   "language": "python",
   "name": "python3"
  },
  "language_info": {
   "codemirror_mode": {
    "name": "ipython",
    "version": 3
   },
   "file_extension": ".py",
   "mimetype": "text/x-python",
   "name": "python",
   "nbconvert_exporter": "python",
   "pygments_lexer": "ipython3",
   "version": "3.8.10"
  }
 },
 "nbformat": 4,
 "nbformat_minor": 5
}