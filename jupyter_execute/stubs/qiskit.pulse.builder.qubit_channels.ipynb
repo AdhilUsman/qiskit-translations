{
 "cells": [
  {
   "cell_type": "code",
   "execution_count": 1,
   "id": "222e9070",
   "metadata": {
    "execution": {
     "iopub.execute_input": "2021-06-15T13:29:43.888572Z",
     "iopub.status.busy": "2021-06-15T13:29:43.887885Z",
     "iopub.status.idle": "2021-06-15T13:29:45.148075Z",
     "shell.execute_reply": "2021-06-15T13:29:45.147006Z"
    }
   },
   "outputs": [
    {
     "name": "stdout",
     "output_type": "stream",
     "text": [
      "{ControlChannel(0), DriveChannel(0), MeasureChannel(0), AcquireChannel(0), ControlChannel(1)}\n"
     ]
    }
   ],
   "source": [
    "from qiskit import pulse\n",
    "from qiskit.test.mock import FakeOpenPulse2Q\n",
    "\n",
    "backend = FakeOpenPulse2Q()\n",
    "\n",
    "with pulse.build(backend):\n",
    "    print(pulse.qubit_channels(0))"
   ]
  }
 ],
 "metadata": {
  "kernelspec": {
   "display_name": "Python 3",
   "language": "python",
   "name": "python3"
  },
  "language_info": {
   "codemirror_mode": {
    "name": "ipython",
    "version": 3
   },
   "file_extension": ".py",
   "mimetype": "text/x-python",
   "name": "python",
   "nbconvert_exporter": "python",
   "pygments_lexer": "ipython3",
   "version": "3.8.10"
  }
 },
 "nbformat": 4,
 "nbformat_minor": 5
}