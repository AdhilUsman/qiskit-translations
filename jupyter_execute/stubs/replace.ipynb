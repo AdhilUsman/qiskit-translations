{
 "cells": [
  {
   "cell_type": "code",
   "execution_count": 1,
   "id": "23936656",
   "metadata": {
    "execution": {
     "iopub.execute_input": "2021-04-16T07:18:46.312601Z",
     "iopub.status.busy": "2021-04-16T07:18:46.312040Z",
     "iopub.status.idle": "2021-04-16T07:18:47.033886Z",
     "shell.execute_reply": "2021-04-16T07:18:47.033284Z"
    }
   },
   "outputs": [],
   "source": [
    "from qiskit import pulse\n",
    "\n",
    "d0 = pulse.DriveChannel(0)\n",
    "\n",
    "sched = pulse.Schedule()\n",
    "\n",
    "old = pulse.Play(pulse.Constant(100, 1.0), d0)\n",
    "new = pulse.Play(pulse.Constant(100, 0.1), d0)\n",
    "\n",
    "sched += old\n",
    "\n",
    "sched = sched.replace(old, new)\n",
    "\n",
    "assert sched == pulse.Schedule(new)"
   ]
  }
 ],
 "metadata": {
  "kernelspec": {
   "display_name": "Python 3",
   "language": "python",
   "name": "python3"
  },
  "language_info": {
   "codemirror_mode": {
    "name": "ipython",
    "version": 3
   },
   "file_extension": ".py",
   "mimetype": "text/x-python",
   "name": "python",
   "nbconvert_exporter": "python",
   "pygments_lexer": "ipython3",
   "version": "3.8.9"
  }
 },
 "nbformat": 4,
 "nbformat_minor": 5
}