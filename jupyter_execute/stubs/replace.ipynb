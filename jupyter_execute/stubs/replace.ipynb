{
 "cells": [
  {
   "cell_type": "code",
   "execution_count": 1,
   "id": "jewish-essex",
   "metadata": {
    "execution": {
     "iopub.execute_input": "2021-03-28T23:00:26.110375Z",
     "iopub.status.busy": "2021-03-28T23:00:26.109796Z",
     "iopub.status.idle": "2021-03-28T23:00:27.881489Z",
     "shell.execute_reply": "2021-03-28T23:00:27.880472Z"
    }
   },
   "outputs": [],
   "source": [
    "from qiskit import pulse\n",
    "\n",
    "d0 = pulse.DriveChannel(0)\n",
    "\n",
    "sched = pulse.Schedule()\n",
    "\n",
    "old = pulse.Play(pulse.Constant(100, 1.0), d0)\n",
    "new = pulse.Play(pulse.Constant(100, 0.1), d0)\n",
    "\n",
    "sched += old\n",
    "\n",
    "sched = sched.replace(old, new)\n",
    "\n",
    "assert sched == pulse.Schedule(new)"
   ]
  }
 ],
 "metadata": {
  "kernelspec": {
   "display_name": "Python 3",
   "language": "python",
   "name": "python3"
  },
  "language_info": {
   "codemirror_mode": {
    "name": "ipython",
    "version": 3
   },
   "file_extension": ".py",
   "mimetype": "text/x-python",
   "name": "python",
   "nbconvert_exporter": "python",
   "pygments_lexer": "ipython3",
   "version": "3.8.8"
  }
 },
 "nbformat": 4,
 "nbformat_minor": 5
}