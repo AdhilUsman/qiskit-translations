{
 "cells": [
  {
   "cell_type": "code",
   "execution_count": 1,
   "id": "1ae18a7c",
   "metadata": {
    "execution": {
     "iopub.execute_input": "2021-06-17T21:15:07.695161Z",
     "iopub.status.busy": "2021-06-17T21:15:07.694359Z",
     "iopub.status.idle": "2021-06-17T21:15:08.432245Z",
     "shell.execute_reply": "2021-06-17T21:15:08.431381Z"
    }
   },
   "outputs": [],
   "source": [
    "from qiskit import pulse\n",
    "\n",
    "d0 = pulse.DriveChannel(0)\n",
    "\n",
    "sched = pulse.Schedule()\n",
    "\n",
    "old = pulse.Play(pulse.Constant(100, 1.0), d0)\n",
    "new = pulse.Play(pulse.Constant(100, 0.1), d0)\n",
    "\n",
    "sched += old\n",
    "\n",
    "sched = sched.replace(old, new)\n",
    "\n",
    "assert sched == pulse.Schedule(new)"
   ]
  }
 ],
 "metadata": {
  "kernelspec": {
   "display_name": "Python 3",
   "language": "python",
   "name": "python3"
  },
  "language_info": {
   "codemirror_mode": {
    "name": "ipython",
    "version": 3
   },
   "file_extension": ".py",
   "mimetype": "text/x-python",
   "name": "python",
   "nbconvert_exporter": "python",
   "pygments_lexer": "ipython3",
   "version": "3.8.10"
  }
 },
 "nbformat": 4,
 "nbformat_minor": 5
}