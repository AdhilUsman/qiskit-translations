{
 "cells": [
  {
   "cell_type": "code",
   "execution_count": 1,
   "id": "super-postcard",
   "metadata": {
    "execution": {
     "iopub.execute_input": "2021-03-30T23:01:00.494171Z",
     "iopub.status.busy": "2021-03-30T23:01:00.493721Z",
     "iopub.status.idle": "2021-03-30T23:01:02.283093Z",
     "shell.execute_reply": "2021-03-30T23:01:02.282090Z"
    }
   },
   "outputs": [],
   "source": [
    "from qiskit import pulse\n",
    "from qiskit.test.mock import FakeOpenPulse2Q\n",
    "\n",
    "backend = FakeOpenPulse2Q()\n",
    "\n",
    "with pulse.build(backend) as pulse_prog:\n",
    "    pulse.x(0)"
   ]
  }
 ],
 "metadata": {
  "kernelspec": {
   "display_name": "Python 3",
   "language": "python",
   "name": "python3"
  },
  "language_info": {
   "codemirror_mode": {
    "name": "ipython",
    "version": 3
   },
   "file_extension": ".py",
   "mimetype": "text/x-python",
   "name": "python",
   "nbconvert_exporter": "python",
   "pygments_lexer": "ipython3",
   "version": "3.8.8"
  }
 },
 "nbformat": 4,
 "nbformat_minor": 5
}