{
 "cells": [
  {
   "cell_type": "code",
   "execution_count": 1,
   "id": "f1a7364d",
   "metadata": {
    "execution": {
     "iopub.execute_input": "2021-06-20T01:02:38.353470Z",
     "iopub.status.busy": "2021-06-20T01:02:38.352874Z",
     "iopub.status.idle": "2021-06-20T01:02:39.566062Z",
     "shell.execute_reply": "2021-06-20T01:02:39.565458Z"
    }
   },
   "outputs": [],
   "source": [
    "from qiskit import pulse\n",
    "from qiskit.test.mock import FakeOpenPulse2Q\n",
    "\n",
    "backend = FakeOpenPulse2Q()\n",
    "\n",
    "with pulse.build(backend) as pulse_prog:\n",
    "    pulse.x(0)"
   ]
  }
 ],
 "metadata": {
  "kernelspec": {
   "display_name": "Python 3",
   "language": "python",
   "name": "python3"
  },
  "language_info": {
   "codemirror_mode": {
    "name": "ipython",
    "version": 3
   },
   "file_extension": ".py",
   "mimetype": "text/x-python",
   "name": "python",
   "nbconvert_exporter": "python",
   "pygments_lexer": "ipython3",
   "version": "3.8.10"
  }
 },
 "nbformat": 4,
 "nbformat_minor": 5
}