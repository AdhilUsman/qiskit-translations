{
 "cells": [
  {
   "cell_type": "code",
   "execution_count": 1,
   "id": "a77bcde3",
   "metadata": {
    "execution": {
     "iopub.execute_input": "2021-06-09T06:57:38.669085Z",
     "iopub.status.busy": "2021-06-09T06:57:38.668412Z",
     "iopub.status.idle": "2021-06-09T06:57:39.993341Z",
     "shell.execute_reply": "2021-06-09T06:57:39.993753Z"
    }
   },
   "outputs": [],
   "source": [
    "from qiskit import pulse\n",
    "from qiskit.test.mock import FakeOpenPulse2Q\n",
    "\n",
    "backend = FakeOpenPulse2Q()\n",
    "\n",
    "with pulse.build(backend) as pulse_prog:\n",
    "    pulse.x(0)"
   ]
  }
 ],
 "metadata": {
  "kernelspec": {
   "display_name": "Python 3",
   "language": "python",
   "name": "python3"
  },
  "language_info": {
   "codemirror_mode": {
    "name": "ipython",
    "version": 3
   },
   "file_extension": ".py",
   "mimetype": "text/x-python",
   "name": "python",
   "nbconvert_exporter": "python",
   "pygments_lexer": "ipython3",
   "version": "3.8.10"
  }
 },
 "nbformat": 4,
 "nbformat_minor": 5
}