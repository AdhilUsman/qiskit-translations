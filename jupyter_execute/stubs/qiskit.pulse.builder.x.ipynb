{
 "cells": [
  {
   "cell_type": "code",
   "execution_count": 1,
   "id": "25a22595",
   "metadata": {
    "execution": {
     "iopub.execute_input": "2021-04-15T04:38:46.479512Z",
     "iopub.status.busy": "2021-04-15T04:38:46.478849Z",
     "iopub.status.idle": "2021-04-15T04:38:47.871501Z",
     "shell.execute_reply": "2021-04-15T04:38:47.870333Z"
    }
   },
   "outputs": [],
   "source": [
    "from qiskit import pulse\n",
    "from qiskit.test.mock import FakeOpenPulse2Q\n",
    "\n",
    "backend = FakeOpenPulse2Q()\n",
    "\n",
    "with pulse.build(backend) as pulse_prog:\n",
    "    pulse.x(0)"
   ]
  }
 ],
 "metadata": {
  "kernelspec": {
   "display_name": "Python 3",
   "language": "python",
   "name": "python3"
  },
  "language_info": {
   "codemirror_mode": {
    "name": "ipython",
    "version": 3
   },
   "file_extension": ".py",
   "mimetype": "text/x-python",
   "name": "python",
   "nbconvert_exporter": "python",
   "pygments_lexer": "ipython3",
   "version": "3.8.9"
  }
 },
 "nbformat": 4,
 "nbformat_minor": 5
}