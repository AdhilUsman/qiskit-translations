{
 "cells": [
  {
   "cell_type": "code",
   "execution_count": 1,
   "id": "2f93375b",
   "metadata": {
    "execution": {
     "iopub.execute_input": "2021-06-09T13:02:55.193458Z",
     "iopub.status.busy": "2021-06-09T13:02:55.193000Z",
     "iopub.status.idle": "2021-06-09T13:02:56.150583Z",
     "shell.execute_reply": "2021-06-09T13:02:56.149629Z"
    }
   },
   "outputs": [],
   "source": [
    "from qiskit import pulse\n",
    "from qiskit.test.mock import FakeOpenPulse2Q\n",
    "\n",
    "backend = FakeOpenPulse2Q()\n",
    "\n",
    "with pulse.build(backend):\n",
    "    assert pulse.drive_channel(0) == pulse.DriveChannel(0)"
   ]
  }
 ],
 "metadata": {
  "kernelspec": {
   "display_name": "Python 3",
   "language": "python",
   "name": "python3"
  },
  "language_info": {
   "codemirror_mode": {
    "name": "ipython",
    "version": 3
   },
   "file_extension": ".py",
   "mimetype": "text/x-python",
   "name": "python",
   "nbconvert_exporter": "python",
   "pygments_lexer": "ipython3",
   "version": "3.8.10"
  }
 },
 "nbformat": 4,
 "nbformat_minor": 5
}