{
 "cells": [
  {
   "cell_type": "code",
   "execution_count": 1,
   "id": "1c153027",
   "metadata": {
    "execution": {
     "iopub.execute_input": "2021-04-19T13:28:49.831323Z",
     "iopub.status.busy": "2021-04-19T13:28:49.830732Z",
     "iopub.status.idle": "2021-04-19T13:28:51.191241Z",
     "shell.execute_reply": "2021-04-19T13:28:51.190018Z"
    }
   },
   "outputs": [],
   "source": [
    "from qiskit import pulse\n",
    "from qiskit.test.mock import FakeOpenPulse2Q\n",
    "\n",
    "backend = FakeOpenPulse2Q()\n",
    "\n",
    "with pulse.build(backend):\n",
    "    assert pulse.drive_channel(0) == pulse.DriveChannel(0)"
   ]
  }
 ],
 "metadata": {
  "kernelspec": {
   "display_name": "Python 3",
   "language": "python",
   "name": "python3"
  },
  "language_info": {
   "codemirror_mode": {
    "name": "ipython",
    "version": 3
   },
   "file_extension": ".py",
   "mimetype": "text/x-python",
   "name": "python",
   "nbconvert_exporter": "python",
   "pygments_lexer": "ipython3",
   "version": "3.8.9"
  }
 },
 "nbformat": 4,
 "nbformat_minor": 5
}