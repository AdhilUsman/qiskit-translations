{
 "cells": [
  {
   "cell_type": "code",
   "execution_count": 1,
   "id": "adfc012f",
   "metadata": {
    "execution": {
     "iopub.execute_input": "2021-06-18T17:29:11.777994Z",
     "iopub.status.busy": "2021-06-18T17:29:11.777428Z",
     "iopub.status.idle": "2021-06-18T17:29:13.038881Z",
     "shell.execute_reply": "2021-06-18T17:29:13.037706Z"
    }
   },
   "outputs": [],
   "source": [
    "from qiskit import pulse\n",
    "from qiskit.test.mock import FakeOpenPulse2Q\n",
    "\n",
    "backend = FakeOpenPulse2Q()\n",
    "\n",
    "with pulse.build(backend):\n",
    "    assert pulse.drive_channel(0) == pulse.DriveChannel(0)"
   ]
  }
 ],
 "metadata": {
  "kernelspec": {
   "display_name": "Python 3",
   "language": "python",
   "name": "python3"
  },
  "language_info": {
   "codemirror_mode": {
    "name": "ipython",
    "version": 3
   },
   "file_extension": ".py",
   "mimetype": "text/x-python",
   "name": "python",
   "nbconvert_exporter": "python",
   "pygments_lexer": "ipython3",
   "version": "3.8.10"
  }
 },
 "nbformat": 4,
 "nbformat_minor": 5
}