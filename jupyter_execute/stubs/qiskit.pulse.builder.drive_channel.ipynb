{
 "cells": [
  {
   "cell_type": "code",
   "execution_count": 1,
   "id": "ade91244",
   "metadata": {
    "execution": {
     "iopub.execute_input": "2021-05-04T20:58:34.826829Z",
     "iopub.status.busy": "2021-05-04T20:58:34.826162Z",
     "iopub.status.idle": "2021-05-04T20:58:35.918516Z",
     "shell.execute_reply": "2021-05-04T20:58:35.917559Z"
    }
   },
   "outputs": [],
   "source": [
    "from qiskit import pulse\n",
    "from qiskit.test.mock import FakeOpenPulse2Q\n",
    "\n",
    "backend = FakeOpenPulse2Q()\n",
    "\n",
    "with pulse.build(backend):\n",
    "    assert pulse.drive_channel(0) == pulse.DriveChannel(0)"
   ]
  }
 ],
 "metadata": {
  "kernelspec": {
   "display_name": "Python 3",
   "language": "python",
   "name": "python3"
  },
  "language_info": {
   "codemirror_mode": {
    "name": "ipython",
    "version": 3
   },
   "file_extension": ".py",
   "mimetype": "text/x-python",
   "name": "python",
   "nbconvert_exporter": "python",
   "pygments_lexer": "ipython3",
   "version": "3.8.9"
  }
 },
 "nbformat": 4,
 "nbformat_minor": 5
}