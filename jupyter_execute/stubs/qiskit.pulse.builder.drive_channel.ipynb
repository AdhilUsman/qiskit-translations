{
 "cells": [
  {
   "cell_type": "code",
   "execution_count": 1,
   "id": "45991c3d",
   "metadata": {
    "execution": {
     "iopub.execute_input": "2021-06-17T19:05:00.017223Z",
     "iopub.status.busy": "2021-06-17T19:05:00.016577Z",
     "iopub.status.idle": "2021-06-17T19:05:01.316159Z",
     "shell.execute_reply": "2021-06-17T19:05:01.315061Z"
    }
   },
   "outputs": [],
   "source": [
    "from qiskit import pulse\n",
    "from qiskit.test.mock import FakeOpenPulse2Q\n",
    "\n",
    "backend = FakeOpenPulse2Q()\n",
    "\n",
    "with pulse.build(backend):\n",
    "    assert pulse.drive_channel(0) == pulse.DriveChannel(0)"
   ]
  }
 ],
 "metadata": {
  "kernelspec": {
   "display_name": "Python 3",
   "language": "python",
   "name": "python3"
  },
  "language_info": {
   "codemirror_mode": {
    "name": "ipython",
    "version": 3
   },
   "file_extension": ".py",
   "mimetype": "text/x-python",
   "name": "python",
   "nbconvert_exporter": "python",
   "pygments_lexer": "ipython3",
   "version": "3.8.10"
  }
 },
 "nbformat": 4,
 "nbformat_minor": 5
}