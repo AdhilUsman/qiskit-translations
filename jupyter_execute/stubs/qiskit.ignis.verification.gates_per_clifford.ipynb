{
 "cells": [
  {
   "cell_type": "code",
   "execution_count": 1,
   "id": "ccd1d088",
   "metadata": {
    "execution": {
     "iopub.execute_input": "2021-04-05T06:01:40.302859Z",
     "iopub.status.busy": "2021-04-05T06:01:40.302317Z",
     "iopub.status.idle": "2021-04-05T06:01:48.682147Z",
     "shell.execute_reply": "2021-04-05T06:01:48.681578Z"
    }
   },
   "outputs": [
    {
     "name": "stdout",
     "output_type": "stream",
     "text": [
      "{0: {'cx': 1.449142857142857,\n",
      "     'id': 0.0,\n",
      "     'u1': 0.10971428571428571,\n",
      "     'u2': 1.6617142857142857,\n",
      "     'u3': 0.15428571428571428},\n",
      " 1: {'cx': 1.449142857142857,\n",
      "     'id': 0.0,\n",
      "     'u1': 0.16114285714285714,\n",
      "     'u2': 1.6491428571428572,\n",
      "     'u3': 0.13257142857142856}}\n"
     ]
    }
   ],
   "source": [
    "import pprint\n",
    "import qiskit\n",
    "import qiskit.ignis.verification.randomized_benchmarking as rb\n",
    "from qiskit.test.mock.backends import FakeAlmaden\n",
    "\n",
    "rb_circs_list, xdata = rb.randomized_benchmarking_seq(\n",
    "    nseeds=5,\n",
    "    length_vector=[1, 20, 50, 100],\n",
    "    rb_pattern=[[0, 1]])\n",
    "basis = FakeAlmaden().configuration().basis_gates\n",
    "\n",
    "# transpile\n",
    "transpiled_circuits_list = []\n",
    "for rb_circs in rb_circs_list:\n",
    "    rb_circs_transpiled = qiskit.transpile(rb_circs, basis_gates=basis)\n",
    "    transpiled_circuits_list.append(rb_circs_transpiled)\n",
    "\n",
    "# count gate per Clifford\n",
    "ngates = rb.rb_utils.gates_per_clifford(\n",
    "    transpiled_circuits_list=transpiled_circuits_list,\n",
    "    clifford_lengths=xdata[0],\n",
    "    basis=basis, qubits=[0, 1])\n",
    "\n",
    "pprint.pprint(ngates)"
   ]
  }
 ],
 "metadata": {
  "kernelspec": {
   "display_name": "Python 3",
   "language": "python",
   "name": "python3"
  },
  "language_info": {
   "codemirror_mode": {
    "name": "ipython",
    "version": 3
   },
   "file_extension": ".py",
   "mimetype": "text/x-python",
   "name": "python",
   "nbconvert_exporter": "python",
   "pygments_lexer": "ipython3",
   "version": "3.8.8"
  }
 },
 "nbformat": 4,
 "nbformat_minor": 5
}