{
 "cells": [
  {
   "cell_type": "code",
   "execution_count": 1,
   "id": "numerous-bulgaria",
   "metadata": {
    "execution": {
     "iopub.execute_input": "2021-04-01T14:32:34.743440Z",
     "iopub.status.busy": "2021-04-01T14:32:34.742851Z",
     "iopub.status.idle": "2021-04-01T14:32:36.803601Z",
     "shell.execute_reply": "2021-04-01T14:32:36.802600Z"
    }
   },
   "outputs": [],
   "source": [
    "from qiskit import pulse\n",
    "from qiskit.test.mock import FakeOpenPulse2Q\n",
    "\n",
    "backend = FakeOpenPulse2Q()\n",
    "\n",
    "qubit = 0\n",
    "\n",
    "with pulse.build(backend) as pulse_prog:\n",
    "    # Do something to the qubit.\n",
    "    qubit_drive_chan = pulse.drive_channel(0)\n",
    "    pulse.play(pulse.Constant(100, 1.0), qubit_drive_chan)\n",
    "    # Measure the qubit.\n",
    "    reg = pulse.measure(qubit)"
   ]
  },
  {
   "cell_type": "code",
   "execution_count": 2,
   "id": "israeli-blend",
   "metadata": {
    "execution": {
     "iopub.execute_input": "2021-04-01T14:32:36.808752Z",
     "iopub.status.busy": "2021-04-01T14:32:36.808051Z",
     "iopub.status.idle": "2021-04-01T14:32:36.811846Z",
     "shell.execute_reply": "2021-04-01T14:32:36.812657Z"
    }
   },
   "outputs": [],
   "source": [
    "with pulse.build(backend) as pulse_prog:\n",
    "    pulse.play(pulse.Constant(100, 1.0), qubit_drive_chan)\n",
    "    # Measure the qubit.\n",
    "    mem0 = pulse.MemorySlot(0)\n",
    "    reg = pulse.measure(qubit, mem0)\n",
    "\n",
    "assert reg == mem0"
   ]
  }
 ],
 "metadata": {
  "kernelspec": {
   "display_name": "Python 3",
   "language": "python",
   "name": "python3"
  },
  "language_info": {
   "codemirror_mode": {
    "name": "ipython",
    "version": 3
   },
   "file_extension": ".py",
   "mimetype": "text/x-python",
   "name": "python",
   "nbconvert_exporter": "python",
   "pygments_lexer": "ipython3",
   "version": "3.8.8"
  }
 },
 "nbformat": 4,
 "nbformat_minor": 5
}