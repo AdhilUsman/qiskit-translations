{
 "cells": [
  {
   "cell_type": "code",
   "execution_count": 1,
   "id": "c4c06e68",
   "metadata": {
    "execution": {
     "iopub.execute_input": "2021-06-17T21:15:59.823842Z",
     "iopub.status.busy": "2021-06-17T21:15:59.823239Z",
     "iopub.status.idle": "2021-06-17T21:16:01.057563Z",
     "shell.execute_reply": "2021-06-17T21:16:01.056852Z"
    }
   },
   "outputs": [],
   "source": [
    "from qiskit import pulse\n",
    "from qiskit.test.mock import FakeOpenPulse2Q\n",
    "\n",
    "backend = FakeOpenPulse2Q()\n",
    "\n",
    "qubit = 0\n",
    "\n",
    "with pulse.build(backend) as pulse_prog:\n",
    "    # Do something to the qubit.\n",
    "    qubit_drive_chan = pulse.drive_channel(0)\n",
    "    pulse.play(pulse.Constant(100, 1.0), qubit_drive_chan)\n",
    "    # Measure the qubit.\n",
    "    reg = pulse.measure(qubit)"
   ]
  },
  {
   "cell_type": "code",
   "execution_count": 2,
   "id": "514ccaf2",
   "metadata": {
    "execution": {
     "iopub.execute_input": "2021-06-17T21:16:01.062922Z",
     "iopub.status.busy": "2021-06-17T21:16:01.062383Z",
     "iopub.status.idle": "2021-06-17T21:16:01.066154Z",
     "shell.execute_reply": "2021-06-17T21:16:01.065632Z"
    }
   },
   "outputs": [],
   "source": [
    "with pulse.build(backend) as pulse_prog:\n",
    "    pulse.play(pulse.Constant(100, 1.0), qubit_drive_chan)\n",
    "    # Measure the qubit.\n",
    "    mem0 = pulse.MemorySlot(0)\n",
    "    reg = pulse.measure(qubit, mem0)\n",
    "\n",
    "assert reg == mem0"
   ]
  }
 ],
 "metadata": {
  "kernelspec": {
   "display_name": "Python 3",
   "language": "python",
   "name": "python3"
  },
  "language_info": {
   "codemirror_mode": {
    "name": "ipython",
    "version": 3
   },
   "file_extension": ".py",
   "mimetype": "text/x-python",
   "name": "python",
   "nbconvert_exporter": "python",
   "pygments_lexer": "ipython3",
   "version": "3.8.10"
  }
 },
 "nbformat": 4,
 "nbformat_minor": 5
}