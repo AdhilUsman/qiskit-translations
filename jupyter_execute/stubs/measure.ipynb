{
 "cells": [
  {
   "cell_type": "code",
   "execution_count": 1,
   "id": "41cb1c8f",
   "metadata": {
    "execution": {
     "iopub.execute_input": "2021-06-08T14:39:54.289240Z",
     "iopub.status.busy": "2021-06-08T14:39:54.288291Z",
     "iopub.status.idle": "2021-06-08T14:39:55.401419Z",
     "shell.execute_reply": "2021-06-08T14:39:55.400398Z"
    }
   },
   "outputs": [],
   "source": [
    "from qiskit import pulse\n",
    "from qiskit.test.mock import FakeOpenPulse2Q\n",
    "\n",
    "backend = FakeOpenPulse2Q()\n",
    "\n",
    "qubit = 0\n",
    "\n",
    "with pulse.build(backend) as pulse_prog:\n",
    "    # Do something to the qubit.\n",
    "    qubit_drive_chan = pulse.drive_channel(0)\n",
    "    pulse.play(pulse.Constant(100, 1.0), qubit_drive_chan)\n",
    "    # Measure the qubit.\n",
    "    reg = pulse.measure(qubit)"
   ]
  },
  {
   "cell_type": "code",
   "execution_count": 2,
   "id": "29dc43a1",
   "metadata": {
    "execution": {
     "iopub.execute_input": "2021-06-08T14:39:55.407340Z",
     "iopub.status.busy": "2021-06-08T14:39:55.406800Z",
     "iopub.status.idle": "2021-06-08T14:39:55.410145Z",
     "shell.execute_reply": "2021-06-08T14:39:55.409706Z"
    }
   },
   "outputs": [],
   "source": [
    "with pulse.build(backend) as pulse_prog:\n",
    "    pulse.play(pulse.Constant(100, 1.0), qubit_drive_chan)\n",
    "    # Measure the qubit.\n",
    "    mem0 = pulse.MemorySlot(0)\n",
    "    reg = pulse.measure(qubit, mem0)\n",
    "\n",
    "assert reg == mem0"
   ]
  }
 ],
 "metadata": {
  "kernelspec": {
   "display_name": "Python 3",
   "language": "python",
   "name": "python3"
  },
  "language_info": {
   "codemirror_mode": {
    "name": "ipython",
    "version": 3
   },
   "file_extension": ".py",
   "mimetype": "text/x-python",
   "name": "python",
   "nbconvert_exporter": "python",
   "pygments_lexer": "ipython3",
   "version": "3.8.10"
  }
 },
 "nbformat": 4,
 "nbformat_minor": 5
}