{
 "cells": [
  {
   "cell_type": "code",
   "execution_count": 1,
   "id": "d8f43a12",
   "metadata": {
    "execution": {
     "iopub.execute_input": "2021-06-17T17:00:51.242736Z",
     "iopub.status.busy": "2021-06-17T17:00:51.242102Z",
     "iopub.status.idle": "2021-06-17T17:00:52.373144Z",
     "shell.execute_reply": "2021-06-17T17:00:52.372564Z"
    }
   },
   "outputs": [],
   "source": [
    "from qiskit import pulse\n",
    "from qiskit.test.mock import FakeOpenPulse2Q\n",
    "\n",
    "backend = FakeOpenPulse2Q()\n",
    "\n",
    "qubit = 0\n",
    "\n",
    "with pulse.build(backend) as pulse_prog:\n",
    "    # Do something to the qubit.\n",
    "    qubit_drive_chan = pulse.drive_channel(0)\n",
    "    pulse.play(pulse.Constant(100, 1.0), qubit_drive_chan)\n",
    "    # Measure the qubit.\n",
    "    reg = pulse.measure(qubit)"
   ]
  },
  {
   "cell_type": "code",
   "execution_count": 2,
   "id": "8a29fe4e",
   "metadata": {
    "execution": {
     "iopub.execute_input": "2021-06-17T17:00:52.378060Z",
     "iopub.status.busy": "2021-06-17T17:00:52.377519Z",
     "iopub.status.idle": "2021-06-17T17:00:52.380671Z",
     "shell.execute_reply": "2021-06-17T17:00:52.381132Z"
    }
   },
   "outputs": [],
   "source": [
    "with pulse.build(backend) as pulse_prog:\n",
    "    pulse.play(pulse.Constant(100, 1.0), qubit_drive_chan)\n",
    "    # Measure the qubit.\n",
    "    mem0 = pulse.MemorySlot(0)\n",
    "    reg = pulse.measure(qubit, mem0)\n",
    "\n",
    "assert reg == mem0"
   ]
  }
 ],
 "metadata": {
  "kernelspec": {
   "display_name": "Python 3",
   "language": "python",
   "name": "python3"
  },
  "language_info": {
   "codemirror_mode": {
    "name": "ipython",
    "version": 3
   },
   "file_extension": ".py",
   "mimetype": "text/x-python",
   "name": "python",
   "nbconvert_exporter": "python",
   "pygments_lexer": "ipython3",
   "version": "3.8.10"
  }
 },
 "nbformat": 4,
 "nbformat_minor": 5
}