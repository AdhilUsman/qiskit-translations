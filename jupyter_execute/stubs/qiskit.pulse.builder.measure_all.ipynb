{
 "cells": [
  {
   "cell_type": "code",
   "execution_count": 1,
   "id": "35a17afb",
   "metadata": {
    "execution": {
     "iopub.execute_input": "2021-04-12T20:39:21.361992Z",
     "iopub.status.busy": "2021-04-12T20:39:21.361181Z",
     "iopub.status.idle": "2021-04-12T20:39:22.653602Z",
     "shell.execute_reply": "2021-04-12T20:39:22.652548Z"
    }
   },
   "outputs": [],
   "source": [
    "from qiskit import pulse\n",
    "from qiskit.test.mock import FakeOpenPulse2Q\n",
    "\n",
    "backend = FakeOpenPulse2Q()\n",
    "\n",
    "with pulse.build(backend) as pulse_prog:\n",
    "    # Measure all qubits and return associated registers.\n",
    "    regs = pulse.measure_all()"
   ]
  }
 ],
 "metadata": {
  "kernelspec": {
   "display_name": "Python 3",
   "language": "python",
   "name": "python3"
  },
  "language_info": {
   "codemirror_mode": {
    "name": "ipython",
    "version": 3
   },
   "file_extension": ".py",
   "mimetype": "text/x-python",
   "name": "python",
   "nbconvert_exporter": "python",
   "pygments_lexer": "ipython3",
   "version": "3.8.8"
  }
 },
 "nbformat": 4,
 "nbformat_minor": 5
}