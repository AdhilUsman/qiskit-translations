{
 "cells": [
  {
   "cell_type": "code",
   "execution_count": 1,
   "id": "97fb321e",
   "metadata": {
    "execution": {
     "iopub.execute_input": "2021-05-04T08:59:30.093779Z",
     "iopub.status.busy": "2021-05-04T08:59:30.093192Z",
     "iopub.status.idle": "2021-05-04T08:59:31.332013Z",
     "shell.execute_reply": "2021-05-04T08:59:31.331391Z"
    }
   },
   "outputs": [],
   "source": [
    "from qiskit import pulse\n",
    "from qiskit.test.mock import FakeOpenPulse2Q\n",
    "\n",
    "backend = FakeOpenPulse2Q()\n",
    "\n",
    "with pulse.build(backend) as pulse_prog:\n",
    "    pulse.cx(0, 1)"
   ]
  }
 ],
 "metadata": {
  "kernelspec": {
   "display_name": "Python 3",
   "language": "python",
   "name": "python3"
  },
  "language_info": {
   "codemirror_mode": {
    "name": "ipython",
    "version": 3
   },
   "file_extension": ".py",
   "mimetype": "text/x-python",
   "name": "python",
   "nbconvert_exporter": "python",
   "pygments_lexer": "ipython3",
   "version": "3.8.9"
  }
 },
 "nbformat": 4,
 "nbformat_minor": 5
}