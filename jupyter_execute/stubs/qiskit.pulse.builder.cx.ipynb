{
 "cells": [
  {
   "cell_type": "code",
   "execution_count": 1,
   "id": "90fc7758",
   "metadata": {
    "execution": {
     "iopub.execute_input": "2021-06-20T01:01:47.019980Z",
     "iopub.status.busy": "2021-06-20T01:01:47.019011Z",
     "iopub.status.idle": "2021-06-20T01:01:48.287253Z",
     "shell.execute_reply": "2021-06-20T01:01:48.286587Z"
    }
   },
   "outputs": [],
   "source": [
    "from qiskit import pulse\n",
    "from qiskit.test.mock import FakeOpenPulse2Q\n",
    "\n",
    "backend = FakeOpenPulse2Q()\n",
    "\n",
    "with pulse.build(backend) as pulse_prog:\n",
    "    pulse.cx(0, 1)"
   ]
  }
 ],
 "metadata": {
  "kernelspec": {
   "display_name": "Python 3",
   "language": "python",
   "name": "python3"
  },
  "language_info": {
   "codemirror_mode": {
    "name": "ipython",
    "version": 3
   },
   "file_extension": ".py",
   "mimetype": "text/x-python",
   "name": "python",
   "nbconvert_exporter": "python",
   "pygments_lexer": "ipython3",
   "version": "3.8.10"
  }
 },
 "nbformat": 4,
 "nbformat_minor": 5
}