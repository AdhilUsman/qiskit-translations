{
 "cells": [
  {
   "cell_type": "code",
   "execution_count": 1,
   "id": "0100b84b",
   "metadata": {
    "execution": {
     "iopub.execute_input": "2021-05-19T07:06:26.860942Z",
     "iopub.status.busy": "2021-05-19T07:06:26.860387Z",
     "iopub.status.idle": "2021-05-19T07:06:28.230772Z",
     "shell.execute_reply": "2021-05-19T07:06:28.229561Z"
    }
   },
   "outputs": [],
   "source": [
    "from qiskit import pulse\n",
    "from qiskit.test.mock import FakeOpenPulse2Q\n",
    "\n",
    "backend = FakeOpenPulse2Q()\n",
    "\n",
    "with pulse.build(backend) as pulse_prog:\n",
    "    pulse.cx(0, 1)"
   ]
  }
 ],
 "metadata": {
  "kernelspec": {
   "display_name": "Python 3",
   "language": "python",
   "name": "python3"
  },
  "language_info": {
   "codemirror_mode": {
    "name": "ipython",
    "version": 3
   },
   "file_extension": ".py",
   "mimetype": "text/x-python",
   "name": "python",
   "nbconvert_exporter": "python",
   "pygments_lexer": "ipython3",
   "version": "3.8.10"
  }
 },
 "nbformat": 4,
 "nbformat_minor": 5
}