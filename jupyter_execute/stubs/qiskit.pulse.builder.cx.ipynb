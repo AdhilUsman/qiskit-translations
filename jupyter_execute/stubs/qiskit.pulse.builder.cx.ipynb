{
 "cells": [
  {
   "cell_type": "code",
   "execution_count": 1,
   "id": "8d9befb0",
   "metadata": {
    "execution": {
     "iopub.execute_input": "2021-04-04T12:02:34.643545Z",
     "iopub.status.busy": "2021-04-04T12:02:34.642844Z",
     "iopub.status.idle": "2021-04-04T12:02:35.917594Z",
     "shell.execute_reply": "2021-04-04T12:02:35.916914Z"
    }
   },
   "outputs": [],
   "source": [
    "from qiskit import pulse\n",
    "from qiskit.test.mock import FakeOpenPulse2Q\n",
    "\n",
    "backend = FakeOpenPulse2Q()\n",
    "\n",
    "with pulse.build(backend) as pulse_prog:\n",
    "    pulse.cx(0, 1)"
   ]
  }
 ],
 "metadata": {
  "kernelspec": {
   "display_name": "Python 3",
   "language": "python",
   "name": "python3"
  },
  "language_info": {
   "codemirror_mode": {
    "name": "ipython",
    "version": 3
   },
   "file_extension": ".py",
   "mimetype": "text/x-python",
   "name": "python",
   "nbconvert_exporter": "python",
   "pygments_lexer": "ipython3",
   "version": "3.8.8"
  }
 },
 "nbformat": 4,
 "nbformat_minor": 5
}