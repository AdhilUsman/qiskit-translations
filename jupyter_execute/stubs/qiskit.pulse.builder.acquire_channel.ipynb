{
 "cells": [
  {
   "cell_type": "code",
   "execution_count": 1,
   "id": "3f71d694",
   "metadata": {
    "execution": {
     "iopub.execute_input": "2021-04-28T04:49:23.749094Z",
     "iopub.status.busy": "2021-04-28T04:49:23.748250Z",
     "iopub.status.idle": "2021-04-28T04:49:24.747762Z",
     "shell.execute_reply": "2021-04-28T04:49:24.746968Z"
    }
   },
   "outputs": [],
   "source": [
    "from qiskit import pulse\n",
    "from qiskit.test.mock import FakeOpenPulse2Q\n",
    "\n",
    "backend = FakeOpenPulse2Q()\n",
    "\n",
    "with pulse.build(backend):\n",
    "    assert pulse.acquire_channel(0) == pulse.AcquireChannel(0)"
   ]
  }
 ],
 "metadata": {
  "kernelspec": {
   "display_name": "Python 3",
   "language": "python",
   "name": "python3"
  },
  "language_info": {
   "codemirror_mode": {
    "name": "ipython",
    "version": 3
   },
   "file_extension": ".py",
   "mimetype": "text/x-python",
   "name": "python",
   "nbconvert_exporter": "python",
   "pygments_lexer": "ipython3",
   "version": "3.8.9"
  }
 },
 "nbformat": 4,
 "nbformat_minor": 5
}