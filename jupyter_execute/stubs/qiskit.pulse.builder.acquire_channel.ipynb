{
 "cells": [
  {
   "cell_type": "code",
   "execution_count": 1,
   "id": "c998a4de",
   "metadata": {
    "execution": {
     "iopub.execute_input": "2021-06-11T13:08:35.036781Z",
     "iopub.status.busy": "2021-06-11T13:08:35.036257Z",
     "iopub.status.idle": "2021-06-11T13:08:36.001598Z",
     "shell.execute_reply": "2021-06-11T13:08:36.001004Z"
    }
   },
   "outputs": [],
   "source": [
    "from qiskit import pulse\n",
    "from qiskit.test.mock import FakeOpenPulse2Q\n",
    "\n",
    "backend = FakeOpenPulse2Q()\n",
    "\n",
    "with pulse.build(backend):\n",
    "    assert pulse.acquire_channel(0) == pulse.AcquireChannel(0)"
   ]
  }
 ],
 "metadata": {
  "kernelspec": {
   "display_name": "Python 3",
   "language": "python",
   "name": "python3"
  },
  "language_info": {
   "codemirror_mode": {
    "name": "ipython",
    "version": 3
   },
   "file_extension": ".py",
   "mimetype": "text/x-python",
   "name": "python",
   "nbconvert_exporter": "python",
   "pygments_lexer": "ipython3",
   "version": "3.8.10"
  }
 },
 "nbformat": 4,
 "nbformat_minor": 5
}