{
 "cells": [
  {
   "cell_type": "code",
   "execution_count": 1,
   "id": "3294a2b0",
   "metadata": {
    "execution": {
     "iopub.execute_input": "2021-04-16T12:01:59.562951Z",
     "iopub.status.busy": "2021-04-16T12:01:59.560663Z",
     "iopub.status.idle": "2021-04-16T12:02:00.318416Z",
     "shell.execute_reply": "2021-04-16T12:02:00.317677Z"
    }
   },
   "outputs": [],
   "source": [
    "from qiskit import pulse\n",
    "from qiskit.pulse import transforms\n",
    "\n",
    "with pulse.build() as sched:\n",
    "    with pulse.align_sequential():\n",
    "        pulse.play(pulse.Constant(10, 0.5), pulse.DriveChannel(0))\n",
    "        pulse.play(pulse.Constant(10, 1.), pulse.MeasureChannel(0))\n",
    "        pulse.acquire(20, pulse.AcquireChannel(0), pulse.MemorySlot(0))\n",
    "\n",
    "sched_shifted = sched << 20\n",
    "\n",
    "aligned_sched, aligned_sched_shifted = transforms.align_measures([sched, sched_shifted])\n",
    "\n",
    "assert aligned_sched == aligned_sched_shifted"
   ]
  },
  {
   "cell_type": "code",
   "execution_count": 2,
   "id": "94b975a6",
   "metadata": {
    "execution": {
     "iopub.execute_input": "2021-04-16T12:02:00.324379Z",
     "iopub.status.busy": "2021-04-16T12:02:00.322882Z",
     "iopub.status.idle": "2021-04-16T12:02:00.325061Z",
     "shell.execute_reply": "2021-04-16T12:02:00.325577Z"
    }
   },
   "outputs": [],
   "source": [
    "aligned_sched, aligned_sched_shifted = transforms.align_measures(\n",
    "    [sched, sched_shifted],\n",
    "    align_all=False,\n",
    ")\n",
    "\n",
    "assert aligned_sched != aligned_sched_shifted"
   ]
  }
 ],
 "metadata": {
  "kernelspec": {
   "display_name": "Python 3",
   "language": "python",
   "name": "python3"
  },
  "language_info": {
   "codemirror_mode": {
    "name": "ipython",
    "version": 3
   },
   "file_extension": ".py",
   "mimetype": "text/x-python",
   "name": "python",
   "nbconvert_exporter": "python",
   "pygments_lexer": "ipython3",
   "version": "3.8.9"
  }
 },
 "nbformat": 4,
 "nbformat_minor": 5
}