{
 "cells": [
  {
   "cell_type": "code",
   "execution_count": 1,
   "id": "efc51644",
   "metadata": {
    "execution": {
     "iopub.execute_input": "2021-05-20T06:02:50.186251Z",
     "iopub.status.busy": "2021-05-20T06:02:50.185632Z",
     "iopub.status.idle": "2021-05-20T06:02:50.929304Z",
     "shell.execute_reply": "2021-05-20T06:02:50.928629Z"
    }
   },
   "outputs": [],
   "source": [
    "from qiskit import pulse\n",
    "from qiskit.pulse import transforms\n",
    "\n",
    "with pulse.build() as sched:\n",
    "    with pulse.align_sequential():\n",
    "        pulse.play(pulse.Constant(10, 0.5), pulse.DriveChannel(0))\n",
    "        pulse.play(pulse.Constant(10, 1.), pulse.MeasureChannel(0))\n",
    "        pulse.acquire(20, pulse.AcquireChannel(0), pulse.MemorySlot(0))\n",
    "\n",
    "sched_shifted = sched << 20\n",
    "\n",
    "aligned_sched, aligned_sched_shifted = transforms.align_measures([sched, sched_shifted])\n",
    "\n",
    "assert aligned_sched == aligned_sched_shifted"
   ]
  },
  {
   "cell_type": "code",
   "execution_count": 2,
   "id": "8a1a2c18",
   "metadata": {
    "execution": {
     "iopub.execute_input": "2021-05-20T06:02:50.935066Z",
     "iopub.status.busy": "2021-05-20T06:02:50.933598Z",
     "iopub.status.idle": "2021-05-20T06:02:50.935885Z",
     "shell.execute_reply": "2021-05-20T06:02:50.936610Z"
    }
   },
   "outputs": [],
   "source": [
    "aligned_sched, aligned_sched_shifted = transforms.align_measures(\n",
    "    [sched, sched_shifted],\n",
    "    align_all=False,\n",
    ")\n",
    "\n",
    "assert aligned_sched != aligned_sched_shifted"
   ]
  }
 ],
 "metadata": {
  "kernelspec": {
   "display_name": "Python 3",
   "language": "python",
   "name": "python3"
  },
  "language_info": {
   "codemirror_mode": {
    "name": "ipython",
    "version": 3
   },
   "file_extension": ".py",
   "mimetype": "text/x-python",
   "name": "python",
   "nbconvert_exporter": "python",
   "pygments_lexer": "ipython3",
   "version": "3.8.10"
  }
 },
 "nbformat": 4,
 "nbformat_minor": 5
}