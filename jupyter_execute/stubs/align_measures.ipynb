{
 "cells": [
  {
   "cell_type": "code",
   "execution_count": 1,
   "id": "41274c9b",
   "metadata": {
    "execution": {
     "iopub.execute_input": "2021-05-18T15:40:27.347752Z",
     "iopub.status.busy": "2021-05-18T15:40:27.347156Z",
     "iopub.status.idle": "2021-05-18T15:40:28.055808Z",
     "shell.execute_reply": "2021-05-18T15:40:28.055173Z"
    }
   },
   "outputs": [],
   "source": [
    "from qiskit import pulse\n",
    "from qiskit.pulse import transforms\n",
    "\n",
    "with pulse.build() as sched:\n",
    "    with pulse.align_sequential():\n",
    "        pulse.play(pulse.Constant(10, 0.5), pulse.DriveChannel(0))\n",
    "        pulse.play(pulse.Constant(10, 1.), pulse.MeasureChannel(0))\n",
    "        pulse.acquire(20, pulse.AcquireChannel(0), pulse.MemorySlot(0))\n",
    "\n",
    "sched_shifted = sched << 20\n",
    "\n",
    "aligned_sched, aligned_sched_shifted = transforms.align_measures([sched, sched_shifted])\n",
    "\n",
    "assert aligned_sched == aligned_sched_shifted"
   ]
  },
  {
   "cell_type": "code",
   "execution_count": 2,
   "id": "216a4158",
   "metadata": {
    "execution": {
     "iopub.execute_input": "2021-05-18T15:40:28.060530Z",
     "iopub.status.busy": "2021-05-18T15:40:28.059868Z",
     "iopub.status.idle": "2021-05-18T15:40:28.062988Z",
     "shell.execute_reply": "2021-05-18T15:40:28.062496Z"
    }
   },
   "outputs": [],
   "source": [
    "aligned_sched, aligned_sched_shifted = transforms.align_measures(\n",
    "    [sched, sched_shifted],\n",
    "    align_all=False,\n",
    ")\n",
    "\n",
    "assert aligned_sched != aligned_sched_shifted"
   ]
  }
 ],
 "metadata": {
  "kernelspec": {
   "display_name": "Python 3",
   "language": "python",
   "name": "python3"
  },
  "language_info": {
   "codemirror_mode": {
    "name": "ipython",
    "version": 3
   },
   "file_extension": ".py",
   "mimetype": "text/x-python",
   "name": "python",
   "nbconvert_exporter": "python",
   "pygments_lexer": "ipython3",
   "version": "3.8.10"
  }
 },
 "nbformat": 4,
 "nbformat_minor": 5
}