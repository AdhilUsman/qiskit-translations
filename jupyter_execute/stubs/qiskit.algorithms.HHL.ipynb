{
 "cells": [
  {
   "cell_type": "code",
   "execution_count": 1,
   "id": "da1c3c9e",
   "metadata": {
    "execution": {
     "iopub.execute_input": "2021-04-15T22:01:15.553434Z",
     "iopub.status.busy": "2021-04-15T22:01:15.552851Z",
     "iopub.status.idle": "2021-04-15T22:01:30.986428Z",
     "shell.execute_reply": "2021-04-15T22:01:30.985648Z"
    }
   },
   "outputs": [],
   "source": [
    "import numpy as np\n",
    "from qiskit import QuantumCircuit\n",
    "from qiskit.algorithms.linear_solvers.hhl import HHL\n",
    "from qiskit.algorithms.linear_solvers.matrices import TridiagonalToeplitz\n",
    "from qiskit.algorithms.linear_solvers.observables import MatrixFunctional\n",
    "\n",
    "matrix = TridiagonalToeplitz(2, 1, 1 / 3, trotter_steps=2)\n",
    "right_hand_side = [1.0, -2.1, 3.2, -4.3]\n",
    "observable = MatrixFunctional(1, 1 / 2)\n",
    "rhs = right_hand_side / np.linalg.norm(right_hand_side)\n",
    "\n",
    "# Initial state circuit\n",
    "num_qubits = matrix.num_state_qubits\n",
    "qc = QuantumCircuit(num_qubits)\n",
    "qc.isometry(rhs, list(range(num_qubits)), None)\n",
    "\n",
    "hhl = HHL()\n",
    "solution = hhl.solve(matrix, qc, observable)\n",
    "approx_result = solution.observable"
   ]
  }
 ],
 "metadata": {
  "kernelspec": {
   "display_name": "Python 3",
   "language": "python",
   "name": "python3"
  },
  "language_info": {
   "codemirror_mode": {
    "name": "ipython",
    "version": 3
   },
   "file_extension": ".py",
   "mimetype": "text/x-python",
   "name": "python",
   "nbconvert_exporter": "python",
   "pygments_lexer": "ipython3",
   "version": "3.8.9"
  }
 },
 "nbformat": 4,
 "nbformat_minor": 5
}