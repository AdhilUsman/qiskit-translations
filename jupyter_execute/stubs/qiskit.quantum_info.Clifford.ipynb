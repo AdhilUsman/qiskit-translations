{
 "cells": [
  {
   "cell_type": "code",
   "execution_count": 1,
   "id": "e434d256",
   "metadata": {
    "execution": {
     "iopub.execute_input": "2021-04-15T20:08:50.582575Z",
     "iopub.status.busy": "2021-04-15T20:08:50.581546Z",
     "iopub.status.idle": "2021-04-15T20:08:51.301109Z",
     "shell.execute_reply": "2021-04-15T20:08:51.300446Z"
    }
   },
   "outputs": [
    {
     "name": "stdout",
     "output_type": "stream",
     "text": [
      "Clifford: Stabilizer = ['+XX', '+ZZ'], Destabilizer = ['+IZ', '+XI']\n",
      "StabilizerTable: ['+IZ', '+XI']\n",
      "StabilizerTable: ['+XX', '+ZZ']\n"
     ]
    }
   ],
   "source": [
    "from qiskit import QuantumCircuit\n",
    "from qiskit.quantum_info import Clifford\n",
    "\n",
    "# Bell state generation circuit\n",
    "qc = QuantumCircuit(2)\n",
    "qc.h(0)\n",
    "qc.cx(0, 1)\n",
    "cliff = Clifford(qc)\n",
    "\n",
    "# Print the Clifford\n",
    "print(cliff)\n",
    "\n",
    "# Print the Clifford destabilizer rows\n",
    "print(cliff.destabilizer)\n",
    "\n",
    "# Print the Clifford stabilizer rows\n",
    "print(cliff.stabilizer)"
   ]
  }
 ],
 "metadata": {
  "kernelspec": {
   "display_name": "Python 3",
   "language": "python",
   "name": "python3"
  },
  "language_info": {
   "codemirror_mode": {
    "name": "ipython",
    "version": 3
   },
   "file_extension": ".py",
   "mimetype": "text/x-python",
   "name": "python",
   "nbconvert_exporter": "python",
   "pygments_lexer": "ipython3",
   "version": "3.8.9"
  }
 },
 "nbformat": 4,
 "nbformat_minor": 5
}