{
 "cells": [
  {
   "cell_type": "code",
   "execution_count": 1,
   "id": "8ca964d8",
   "metadata": {
    "execution": {
     "iopub.execute_input": "2021-06-17T17:01:00.550170Z",
     "iopub.status.busy": "2021-06-17T17:01:00.548812Z",
     "iopub.status.idle": "2021-06-17T17:01:01.666432Z",
     "shell.execute_reply": "2021-06-17T17:01:01.665529Z"
    }
   },
   "outputs": [
    {
     "name": "stdout",
     "output_type": "stream",
     "text": [
      "2\n"
     ]
    }
   ],
   "source": [
    "from qiskit import pulse\n",
    "from qiskit.test.mock import FakeOpenPulse2Q\n",
    "\n",
    "backend = FakeOpenPulse2Q()\n",
    "\n",
    "with pulse.build(backend):\n",
    "    print(pulse.num_qubits())"
   ]
  }
 ],
 "metadata": {
  "kernelspec": {
   "display_name": "Python 3",
   "language": "python",
   "name": "python3"
  },
  "language_info": {
   "codemirror_mode": {
    "name": "ipython",
    "version": 3
   },
   "file_extension": ".py",
   "mimetype": "text/x-python",
   "name": "python",
   "nbconvert_exporter": "python",
   "pygments_lexer": "ipython3",
   "version": "3.8.10"
  }
 },
 "nbformat": 4,
 "nbformat_minor": 5
}