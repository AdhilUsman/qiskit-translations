{
 "cells": [
  {
   "cell_type": "code",
   "execution_count": 1,
   "id": "79c693e9",
   "metadata": {
    "execution": {
     "iopub.execute_input": "2021-04-03T01:51:17.125606Z",
     "iopub.status.busy": "2021-04-03T01:51:17.124975Z",
     "iopub.status.idle": "2021-04-03T01:51:18.449664Z",
     "shell.execute_reply": "2021-04-03T01:51:18.448676Z"
    }
   },
   "outputs": [
    {
     "name": "stdout",
     "output_type": "stream",
     "text": [
      "2\n"
     ]
    }
   ],
   "source": [
    "from qiskit import pulse\n",
    "from qiskit.test.mock import FakeOpenPulse2Q\n",
    "\n",
    "backend = FakeOpenPulse2Q()\n",
    "\n",
    "with pulse.build(backend):\n",
    "    print(pulse.num_qubits())"
   ]
  }
 ],
 "metadata": {
  "kernelspec": {
   "display_name": "Python 3",
   "language": "python",
   "name": "python3"
  },
  "language_info": {
   "codemirror_mode": {
    "name": "ipython",
    "version": 3
   },
   "file_extension": ".py",
   "mimetype": "text/x-python",
   "name": "python",
   "nbconvert_exporter": "python",
   "pygments_lexer": "ipython3",
   "version": "3.8.8"
  }
 },
 "nbformat": 4,
 "nbformat_minor": 5
}