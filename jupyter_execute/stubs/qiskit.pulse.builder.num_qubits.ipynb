{
 "cells": [
  {
   "cell_type": "code",
   "execution_count": 1,
   "id": "a12bad52",
   "metadata": {
    "execution": {
     "iopub.execute_input": "2021-06-08T17:49:28.256608Z",
     "iopub.status.busy": "2021-06-08T17:49:28.256048Z",
     "iopub.status.idle": "2021-06-08T17:49:29.329159Z",
     "shell.execute_reply": "2021-06-08T17:49:29.329552Z"
    }
   },
   "outputs": [
    {
     "name": "stdout",
     "output_type": "stream",
     "text": [
      "2\n"
     ]
    }
   ],
   "source": [
    "from qiskit import pulse\n",
    "from qiskit.test.mock import FakeOpenPulse2Q\n",
    "\n",
    "backend = FakeOpenPulse2Q()\n",
    "\n",
    "with pulse.build(backend):\n",
    "    print(pulse.num_qubits())"
   ]
  }
 ],
 "metadata": {
  "kernelspec": {
   "display_name": "Python 3",
   "language": "python",
   "name": "python3"
  },
  "language_info": {
   "codemirror_mode": {
    "name": "ipython",
    "version": 3
   },
   "file_extension": ".py",
   "mimetype": "text/x-python",
   "name": "python",
   "nbconvert_exporter": "python",
   "pygments_lexer": "ipython3",
   "version": "3.8.10"
  }
 },
 "nbformat": 4,
 "nbformat_minor": 5
}