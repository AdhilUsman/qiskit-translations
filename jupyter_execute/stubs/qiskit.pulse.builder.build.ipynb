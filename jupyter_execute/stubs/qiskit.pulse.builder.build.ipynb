{
 "cells": [
  {
   "cell_type": "code",
   "execution_count": 1,
   "id": "64b772b4",
   "metadata": {
    "execution": {
     "iopub.execute_input": "2021-05-21T08:55:01.802917Z",
     "iopub.status.busy": "2021-05-21T08:55:01.801640Z",
     "iopub.status.idle": "2021-05-21T08:55:02.966830Z",
     "shell.execute_reply": "2021-05-21T08:55:02.965855Z"
    }
   },
   "outputs": [],
   "source": [
    "from qiskit import execute, pulse\n",
    "from qiskit.test.mock import FakeOpenPulse2Q\n",
    "\n",
    "backend = FakeOpenPulse2Q()\n",
    "\n",
    "d0 = pulse.DriveChannel(0)\n",
    "\n",
    "with pulse.build() as pulse_prog:\n",
    "    pulse.play(pulse.Constant(100, 0.5), d0)"
   ]
  }
 ],
 "metadata": {
  "kernelspec": {
   "display_name": "Python 3",
   "language": "python",
   "name": "python3"
  },
  "language_info": {
   "codemirror_mode": {
    "name": "ipython",
    "version": 3
   },
   "file_extension": ".py",
   "mimetype": "text/x-python",
   "name": "python",
   "nbconvert_exporter": "python",
   "pygments_lexer": "ipython3",
   "version": "3.8.10"
  }
 },
 "nbformat": 4,
 "nbformat_minor": 5
}