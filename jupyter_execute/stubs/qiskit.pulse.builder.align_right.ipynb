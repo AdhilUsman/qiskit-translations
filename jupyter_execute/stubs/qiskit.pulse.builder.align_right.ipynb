{
 "cells": [
  {
   "cell_type": "code",
   "execution_count": 1,
   "id": "d63035bd",
   "metadata": {
    "execution": {
     "iopub.execute_input": "2021-04-13T03:11:04.425019Z",
     "iopub.status.busy": "2021-04-13T03:11:04.424038Z",
     "iopub.status.idle": "2021-04-13T03:11:05.137067Z",
     "shell.execute_reply": "2021-04-13T03:11:05.135982Z"
    }
   },
   "outputs": [],
   "source": [
    "from qiskit import pulse\n",
    "\n",
    "d0 = pulse.DriveChannel(0)\n",
    "d1 = pulse.DriveChannel(1)\n",
    "\n",
    "with pulse.build() as pulse_prog:\n",
    "    with pulse.align_right():\n",
    "        # this pulse will start at t=0\n",
    "        pulse.play(pulse.Constant(100, 1.0), d0)\n",
    "        # this pulse will start at t=80\n",
    "        pulse.play(pulse.Constant(20, 1.0), d1)\n",
    "\n",
    "assert pulse_prog.ch_stop_time(d0) == pulse_prog.ch_stop_time(d1)"
   ]
  }
 ],
 "metadata": {
  "kernelspec": {
   "display_name": "Python 3",
   "language": "python",
   "name": "python3"
  },
  "language_info": {
   "codemirror_mode": {
    "name": "ipython",
    "version": 3
   },
   "file_extension": ".py",
   "mimetype": "text/x-python",
   "name": "python",
   "nbconvert_exporter": "python",
   "pygments_lexer": "ipython3",
   "version": "3.8.8"
  }
 },
 "nbformat": 4,
 "nbformat_minor": 5
}