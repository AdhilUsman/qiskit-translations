{
 "cells": [
  {
   "cell_type": "code",
   "execution_count": 1,
   "id": "d67fe7e9",
   "metadata": {
    "execution": {
     "iopub.execute_input": "2021-04-23T08:14:50.325584Z",
     "iopub.status.busy": "2021-04-23T08:14:50.324985Z",
     "iopub.status.idle": "2021-04-23T08:14:51.028248Z",
     "shell.execute_reply": "2021-04-23T08:14:51.028731Z"
    }
   },
   "outputs": [],
   "source": [
    "from qiskit import pulse\n",
    "\n",
    "d0 = pulse.DriveChannel(0)\n",
    "\n",
    "with pulse.build() as pulse_prog:\n",
    "    pulse.set_frequency(1e9, d0)"
   ]
  }
 ],
 "metadata": {
  "kernelspec": {
   "display_name": "Python 3",
   "language": "python",
   "name": "python3"
  },
  "language_info": {
   "codemirror_mode": {
    "name": "ipython",
    "version": 3
   },
   "file_extension": ".py",
   "mimetype": "text/x-python",
   "name": "python",
   "nbconvert_exporter": "python",
   "pygments_lexer": "ipython3",
   "version": "3.8.9"
  }
 },
 "nbformat": 4,
 "nbformat_minor": 5
}