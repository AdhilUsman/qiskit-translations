{
 "cells": [
  {
   "cell_type": "code",
   "execution_count": 1,
   "id": "51885b3b",
   "metadata": {
    "execution": {
     "iopub.execute_input": "2021-06-08T09:38:49.689951Z",
     "iopub.status.busy": "2021-06-08T09:38:49.689429Z",
     "iopub.status.idle": "2021-06-08T09:38:50.388151Z",
     "shell.execute_reply": "2021-06-08T09:38:50.387066Z"
    }
   },
   "outputs": [],
   "source": [
    "from qiskit import pulse\n",
    "\n",
    "d0 = pulse.DriveChannel(0)\n",
    "\n",
    "with pulse.build() as pulse_prog:\n",
    "    pulse.set_frequency(1e9, d0)"
   ]
  }
 ],
 "metadata": {
  "kernelspec": {
   "display_name": "Python 3",
   "language": "python",
   "name": "python3"
  },
  "language_info": {
   "codemirror_mode": {
    "name": "ipython",
    "version": 3
   },
   "file_extension": ".py",
   "mimetype": "text/x-python",
   "name": "python",
   "nbconvert_exporter": "python",
   "pygments_lexer": "ipython3",
   "version": "3.8.10"
  }
 },
 "nbformat": 4,
 "nbformat_minor": 5
}