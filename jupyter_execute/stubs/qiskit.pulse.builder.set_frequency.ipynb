{
 "cells": [
  {
   "cell_type": "code",
   "execution_count": 1,
   "id": "b06638f6",
   "metadata": {
    "execution": {
     "iopub.execute_input": "2021-06-17T17:01:13.256276Z",
     "iopub.status.busy": "2021-06-17T17:01:13.255662Z",
     "iopub.status.idle": "2021-06-17T17:01:13.924596Z",
     "shell.execute_reply": "2021-06-17T17:01:13.923665Z"
    }
   },
   "outputs": [],
   "source": [
    "from qiskit import pulse\n",
    "\n",
    "d0 = pulse.DriveChannel(0)\n",
    "\n",
    "with pulse.build() as pulse_prog:\n",
    "    pulse.set_frequency(1e9, d0)"
   ]
  }
 ],
 "metadata": {
  "kernelspec": {
   "display_name": "Python 3",
   "language": "python",
   "name": "python3"
  },
  "language_info": {
   "codemirror_mode": {
    "name": "ipython",
    "version": 3
   },
   "file_extension": ".py",
   "mimetype": "text/x-python",
   "name": "python",
   "nbconvert_exporter": "python",
   "pygments_lexer": "ipython3",
   "version": "3.8.10"
  }
 },
 "nbformat": 4,
 "nbformat_minor": 5
}