{
 "cells": [
  {
   "cell_type": "code",
   "execution_count": 1,
   "id": "7a31f2b4",
   "metadata": {
    "execution": {
     "iopub.execute_input": "2021-05-19T08:05:23.766842Z",
     "iopub.status.busy": "2021-05-19T08:05:23.766236Z",
     "iopub.status.idle": "2021-05-19T08:05:24.399332Z",
     "shell.execute_reply": "2021-05-19T08:05:24.398760Z"
    }
   },
   "outputs": [],
   "source": [
    "from qiskit import pulse\n",
    "\n",
    "d0 = pulse.DriveChannel(0)\n",
    "\n",
    "with pulse.build() as pulse_prog:\n",
    "    pulse.set_frequency(1e9, d0)"
   ]
  }
 ],
 "metadata": {
  "kernelspec": {
   "display_name": "Python 3",
   "language": "python",
   "name": "python3"
  },
  "language_info": {
   "codemirror_mode": {
    "name": "ipython",
    "version": 3
   },
   "file_extension": ".py",
   "mimetype": "text/x-python",
   "name": "python",
   "nbconvert_exporter": "python",
   "pygments_lexer": "ipython3",
   "version": "3.8.10"
  }
 },
 "nbformat": 4,
 "nbformat_minor": 5
}