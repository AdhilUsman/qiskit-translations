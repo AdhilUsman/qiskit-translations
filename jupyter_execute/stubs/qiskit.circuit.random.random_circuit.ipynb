{
 "cells": [
  {
   "cell_type": "code",
   "execution_count": 1,
   "id": "6027c3d0",
   "metadata": {
    "execution": {
     "iopub.execute_input": "2021-05-08T17:01:10.048177Z",
     "iopub.status.busy": "2021-05-08T17:01:10.047584Z",
     "iopub.status.idle": "2021-05-08T17:01:11.333351Z",
     "shell.execute_reply": "2021-05-08T17:01:11.333860Z"
    }
   },
   "outputs": [
    {
     "data": {
      "image/png": "[encoded data removed]",
      "text/plain": [
       "<Figure size 327.252x204.68 with 1 Axes>"
      ]
     },
     "execution_count": 1,
     "metadata": {
      "filenames": {
       "image/png": "/home/runner/work/qiskit-translations/qiskit-translations/docs/_build/html/locale/jupyter_execute/stubs/qiskit.circuit.random.random_circuit_0_0.png"
      }
     },
     "output_type": "execute_result"
    }
   ],
   "source": [
    "from qiskit.circuit.random import random_circuit\n",
    "\n",
    "circ = random_circuit(2, 2, measure=True)\n",
    "circ.draw(output='mpl')"
   ]
  }
 ],
 "metadata": {
  "kernelspec": {
   "display_name": "Python 3",
   "language": "python",
   "name": "python3"
  },
  "language_info": {
   "codemirror_mode": {
    "name": "ipython",
    "version": 3
   },
   "file_extension": ".py",
   "mimetype": "text/x-python",
   "name": "python",
   "nbconvert_exporter": "python",
   "pygments_lexer": "ipython3",
   "version": "3.8.10"
  }
 },
 "nbformat": 4,
 "nbformat_minor": 5
}