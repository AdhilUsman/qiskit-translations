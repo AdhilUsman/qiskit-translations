{
 "cells": [
  {
   "cell_type": "code",
   "execution_count": 1,
   "id": "a398d8ea",
   "metadata": {
    "execution": {
     "iopub.execute_input": "2021-04-26T09:04:30.445839Z",
     "iopub.status.busy": "2021-04-26T09:04:30.445173Z",
     "iopub.status.idle": "2021-04-26T09:04:31.745399Z",
     "shell.execute_reply": "2021-04-26T09:04:31.744783Z"
    }
   },
   "outputs": [
    {
     "name": "stdout",
     "output_type": "stream",
     "text": [
      "{'method': 'alap'}\n"
     ]
    }
   ],
   "source": [
    "from qiskit import pulse\n",
    "from qiskit.test.mock import FakeOpenPulse2Q\n",
    "\n",
    "backend = FakeOpenPulse2Q()\n",
    "\n",
    "circuit_scheduler_settings = {'method': 'alap'}\n",
    "\n",
    "with pulse.build(\n",
    "        backend,\n",
    "        default_circuit_scheduler_settings=circuit_scheduler_settings):\n",
    "    print(pulse.active_circuit_scheduler_settings())"
   ]
  }
 ],
 "metadata": {
  "kernelspec": {
   "display_name": "Python 3",
   "language": "python",
   "name": "python3"
  },
  "language_info": {
   "codemirror_mode": {
    "name": "ipython",
    "version": 3
   },
   "file_extension": ".py",
   "mimetype": "text/x-python",
   "name": "python",
   "nbconvert_exporter": "python",
   "pygments_lexer": "ipython3",
   "version": "3.8.9"
  }
 },
 "nbformat": 4,
 "nbformat_minor": 5
}