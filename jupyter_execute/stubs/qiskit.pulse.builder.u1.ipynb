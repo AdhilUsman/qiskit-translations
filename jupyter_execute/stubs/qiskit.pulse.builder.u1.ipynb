{
 "cells": [
  {
   "cell_type": "code",
   "execution_count": 1,
   "id": "771fd4c5",
   "metadata": {
    "execution": {
     "iopub.execute_input": "2021-04-12T18:19:37.991556Z",
     "iopub.status.busy": "2021-04-12T18:19:37.990934Z",
     "iopub.status.idle": "2021-04-12T18:19:39.431069Z",
     "shell.execute_reply": "2021-04-12T18:19:39.430032Z"
    }
   },
   "outputs": [],
   "source": [
    "import math\n",
    "\n",
    "from qiskit import pulse\n",
    "from qiskit.test.mock import FakeOpenPulse2Q\n",
    "\n",
    "backend = FakeOpenPulse2Q()\n",
    "\n",
    "with pulse.build(backend) as pulse_prog:\n",
    "    pulse.u1(math.pi, 1)"
   ]
  }
 ],
 "metadata": {
  "kernelspec": {
   "display_name": "Python 3",
   "language": "python",
   "name": "python3"
  },
  "language_info": {
   "codemirror_mode": {
    "name": "ipython",
    "version": 3
   },
   "file_extension": ".py",
   "mimetype": "text/x-python",
   "name": "python",
   "nbconvert_exporter": "python",
   "pygments_lexer": "ipython3",
   "version": "3.8.8"
  }
 },
 "nbformat": 4,
 "nbformat_minor": 5
}