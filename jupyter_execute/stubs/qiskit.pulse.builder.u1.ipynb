{
 "cells": [
  {
   "cell_type": "code",
   "execution_count": 1,
   "id": "978ee0ba",
   "metadata": {
    "execution": {
     "iopub.execute_input": "2021-04-22T19:00:37.025543Z",
     "iopub.status.busy": "2021-04-22T19:00:37.025009Z",
     "iopub.status.idle": "2021-04-22T19:00:38.270036Z",
     "shell.execute_reply": "2021-04-22T19:00:38.269046Z"
    }
   },
   "outputs": [],
   "source": [
    "import math\n",
    "\n",
    "from qiskit import pulse\n",
    "from qiskit.test.mock import FakeOpenPulse2Q\n",
    "\n",
    "backend = FakeOpenPulse2Q()\n",
    "\n",
    "with pulse.build(backend) as pulse_prog:\n",
    "    pulse.u1(math.pi, 1)"
   ]
  }
 ],
 "metadata": {
  "kernelspec": {
   "display_name": "Python 3",
   "language": "python",
   "name": "python3"
  },
  "language_info": {
   "codemirror_mode": {
    "name": "ipython",
    "version": 3
   },
   "file_extension": ".py",
   "mimetype": "text/x-python",
   "name": "python",
   "nbconvert_exporter": "python",
   "pygments_lexer": "ipython3",
   "version": "3.8.9"
  }
 },
 "nbformat": 4,
 "nbformat_minor": 5
}