{
 "cells": [
  {
   "cell_type": "code",
   "execution_count": 1,
   "id": "984025fd",
   "metadata": {
    "execution": {
     "iopub.execute_input": "2021-04-28T13:54:15.243825Z",
     "iopub.status.busy": "2021-04-28T13:54:15.243376Z",
     "iopub.status.idle": "2021-04-28T13:54:16.286104Z",
     "shell.execute_reply": "2021-04-28T13:54:16.285560Z"
    }
   },
   "outputs": [],
   "source": [
    "import math\n",
    "\n",
    "from qiskit import pulse\n",
    "from qiskit.test.mock import FakeOpenPulse2Q\n",
    "\n",
    "backend = FakeOpenPulse2Q()\n",
    "\n",
    "with pulse.build(backend) as pulse_prog:\n",
    "    pulse.u1(math.pi, 1)"
   ]
  }
 ],
 "metadata": {
  "kernelspec": {
   "display_name": "Python 3",
   "language": "python",
   "name": "python3"
  },
  "language_info": {
   "codemirror_mode": {
    "name": "ipython",
    "version": 3
   },
   "file_extension": ".py",
   "mimetype": "text/x-python",
   "name": "python",
   "nbconvert_exporter": "python",
   "pygments_lexer": "ipython3",
   "version": "3.8.9"
  }
 },
 "nbformat": 4,
 "nbformat_minor": 5
}