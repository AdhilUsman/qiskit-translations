{
 "cells": [
  {
   "cell_type": "code",
   "execution_count": 1,
   "id": "powered-egypt",
   "metadata": {
    "execution": {
     "iopub.execute_input": "2021-04-01T10:18:23.242104Z",
     "iopub.status.busy": "2021-04-01T10:18:23.241530Z",
     "iopub.status.idle": "2021-04-01T10:18:25.388522Z",
     "shell.execute_reply": "2021-04-01T10:18:25.387890Z"
    }
   },
   "outputs": [],
   "source": [
    "from qiskit import pulse\n",
    "\n",
    "with pulse.build() as pulse_prog:\n",
    "    pulse.snapshot('first', 'statevector')"
   ]
  }
 ],
 "metadata": {
  "kernelspec": {
   "display_name": "Python 3",
   "language": "python",
   "name": "python3"
  },
  "language_info": {
   "codemirror_mode": {
    "name": "ipython",
    "version": 3
   },
   "file_extension": ".py",
   "mimetype": "text/x-python",
   "name": "python",
   "nbconvert_exporter": "python",
   "pygments_lexer": "ipython3",
   "version": "3.8.8"
  }
 },
 "nbformat": 4,
 "nbformat_minor": 5
}