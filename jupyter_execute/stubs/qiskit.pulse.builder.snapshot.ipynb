{
 "cells": [
  {
   "cell_type": "code",
   "execution_count": 1,
   "id": "f07445a7",
   "metadata": {
    "execution": {
     "iopub.execute_input": "2021-04-23T19:09:08.853383Z",
     "iopub.status.busy": "2021-04-23T19:09:08.852284Z",
     "iopub.status.idle": "2021-04-23T19:09:09.507181Z",
     "shell.execute_reply": "2021-04-23T19:09:09.506334Z"
    }
   },
   "outputs": [],
   "source": [
    "from qiskit import pulse\n",
    "\n",
    "with pulse.build() as pulse_prog:\n",
    "    pulse.snapshot('first', 'statevector')"
   ]
  }
 ],
 "metadata": {
  "kernelspec": {
   "display_name": "Python 3",
   "language": "python",
   "name": "python3"
  },
  "language_info": {
   "codemirror_mode": {
    "name": "ipython",
    "version": 3
   },
   "file_extension": ".py",
   "mimetype": "text/x-python",
   "name": "python",
   "nbconvert_exporter": "python",
   "pygments_lexer": "ipython3",
   "version": "3.8.9"
  }
 },
 "nbformat": 4,
 "nbformat_minor": 5
}