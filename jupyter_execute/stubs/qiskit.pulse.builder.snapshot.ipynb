{
 "cells": [
  {
   "cell_type": "code",
   "execution_count": 1,
   "id": "ce761beb",
   "metadata": {
    "execution": {
     "iopub.execute_input": "2021-04-07T03:00:10.867823Z",
     "iopub.status.busy": "2021-04-07T03:00:10.867225Z",
     "iopub.status.idle": "2021-04-07T03:00:11.573984Z",
     "shell.execute_reply": "2021-04-07T03:00:11.573393Z"
    }
   },
   "outputs": [],
   "source": [
    "from qiskit import pulse\n",
    "\n",
    "with pulse.build() as pulse_prog:\n",
    "    pulse.snapshot('first', 'statevector')"
   ]
  }
 ],
 "metadata": {
  "kernelspec": {
   "display_name": "Python 3",
   "language": "python",
   "name": "python3"
  },
  "language_info": {
   "codemirror_mode": {
    "name": "ipython",
    "version": 3
   },
   "file_extension": ".py",
   "mimetype": "text/x-python",
   "name": "python",
   "nbconvert_exporter": "python",
   "pygments_lexer": "ipython3",
   "version": "3.8.8"
  }
 },
 "nbformat": 4,
 "nbformat_minor": 5
}