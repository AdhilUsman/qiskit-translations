{
 "cells": [
  {
   "cell_type": "code",
   "execution_count": 1,
   "id": "99073ed1",
   "metadata": {
    "execution": {
     "iopub.execute_input": "2021-06-09T06:57:25.575352Z",
     "iopub.status.busy": "2021-06-09T06:57:25.573347Z",
     "iopub.status.idle": "2021-06-09T06:57:26.319158Z",
     "shell.execute_reply": "2021-06-09T06:57:26.319734Z"
    }
   },
   "outputs": [],
   "source": [
    "from qiskit import pulse\n",
    "\n",
    "with pulse.build() as pulse_prog:\n",
    "    pulse.snapshot('first', 'statevector')"
   ]
  }
 ],
 "metadata": {
  "kernelspec": {
   "display_name": "Python 3",
   "language": "python",
   "name": "python3"
  },
  "language_info": {
   "codemirror_mode": {
    "name": "ipython",
    "version": 3
   },
   "file_extension": ".py",
   "mimetype": "text/x-python",
   "name": "python",
   "nbconvert_exporter": "python",
   "pygments_lexer": "ipython3",
   "version": "3.8.10"
  }
 },
 "nbformat": 4,
 "nbformat_minor": 5
}