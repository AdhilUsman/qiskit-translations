{
 "cells": [
  {
   "cell_type": "code",
   "execution_count": 1,
   "id": "5945c09b",
   "metadata": {
    "execution": {
     "iopub.execute_input": "2021-04-13T12:11:21.201255Z",
     "iopub.status.busy": "2021-04-13T12:11:21.200748Z",
     "iopub.status.idle": "2021-04-13T12:11:21.761252Z",
     "shell.execute_reply": "2021-04-13T12:11:21.760653Z"
    }
   },
   "outputs": [],
   "source": [
    "from qiskit import pulse\n",
    "\n",
    "with pulse.build() as pulse_prog:\n",
    "    pulse.snapshot('first', 'statevector')"
   ]
  }
 ],
 "metadata": {
  "kernelspec": {
   "display_name": "Python 3",
   "language": "python",
   "name": "python3"
  },
  "language_info": {
   "codemirror_mode": {
    "name": "ipython",
    "version": 3
   },
   "file_extension": ".py",
   "mimetype": "text/x-python",
   "name": "python",
   "nbconvert_exporter": "python",
   "pygments_lexer": "ipython3",
   "version": "3.8.9"
  }
 },
 "nbformat": 4,
 "nbformat_minor": 5
}