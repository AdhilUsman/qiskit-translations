{
 "cells": [
  {
   "cell_type": "code",
   "execution_count": 1,
   "id": "9586926d",
   "metadata": {
    "execution": {
     "iopub.execute_input": "2021-06-18T03:48:23.834944Z",
     "iopub.status.busy": "2021-06-18T03:48:23.834444Z",
     "iopub.status.idle": "2021-06-18T03:48:24.404106Z",
     "shell.execute_reply": "2021-06-18T03:48:24.403528Z"
    }
   },
   "outputs": [],
   "source": [
    "from qiskit import pulse\n",
    "\n",
    "with pulse.build() as pulse_prog:\n",
    "    pulse.snapshot('first', 'statevector')"
   ]
  }
 ],
 "metadata": {
  "kernelspec": {
   "display_name": "Python 3",
   "language": "python",
   "name": "python3"
  },
  "language_info": {
   "codemirror_mode": {
    "name": "ipython",
    "version": 3
   },
   "file_extension": ".py",
   "mimetype": "text/x-python",
   "name": "python",
   "nbconvert_exporter": "python",
   "pygments_lexer": "ipython3",
   "version": "3.8.10"
  }
 },
 "nbformat": 4,
 "nbformat_minor": 5
}