{
 "cells": [
  {
   "cell_type": "code",
   "execution_count": 1,
   "id": "b04d7d87",
   "metadata": {
    "execution": {
     "iopub.execute_input": "2021-05-21T07:53:32.488506Z",
     "iopub.status.busy": "2021-05-21T07:53:32.487701Z",
     "iopub.status.idle": "2021-05-21T07:53:33.104082Z",
     "shell.execute_reply": "2021-05-21T07:53:33.103049Z"
    }
   },
   "outputs": [],
   "source": [
    "from qiskit import pulse\n",
    "\n",
    "with pulse.build() as pulse_prog:\n",
    "    pulse.snapshot('first', 'statevector')"
   ]
  }
 ],
 "metadata": {
  "kernelspec": {
   "display_name": "Python 3",
   "language": "python",
   "name": "python3"
  },
  "language_info": {
   "codemirror_mode": {
    "name": "ipython",
    "version": 3
   },
   "file_extension": ".py",
   "mimetype": "text/x-python",
   "name": "python",
   "nbconvert_exporter": "python",
   "pygments_lexer": "ipython3",
   "version": "3.8.10"
  }
 },
 "nbformat": 4,
 "nbformat_minor": 5
}