{
 "cells": [
  {
   "cell_type": "code",
   "execution_count": 1,
   "id": "37023214",
   "metadata": {
    "execution": {
     "iopub.execute_input": "2021-04-05T20:30:38.502408Z",
     "iopub.status.busy": "2021-04-05T20:30:38.501936Z",
     "iopub.status.idle": "2021-04-05T20:30:39.124525Z",
     "shell.execute_reply": "2021-04-05T20:30:39.123480Z"
    }
   },
   "outputs": [],
   "source": [
    "from qiskit import pulse\n",
    "\n",
    "with pulse.build() as pulse_prog:\n",
    "    pulse.snapshot('first', 'statevector')"
   ]
  }
 ],
 "metadata": {
  "kernelspec": {
   "display_name": "Python 3",
   "language": "python",
   "name": "python3"
  },
  "language_info": {
   "codemirror_mode": {
    "name": "ipython",
    "version": 3
   },
   "file_extension": ".py",
   "mimetype": "text/x-python",
   "name": "python",
   "nbconvert_exporter": "python",
   "pygments_lexer": "ipython3",
   "version": "3.8.8"
  }
 },
 "nbformat": 4,
 "nbformat_minor": 5
}