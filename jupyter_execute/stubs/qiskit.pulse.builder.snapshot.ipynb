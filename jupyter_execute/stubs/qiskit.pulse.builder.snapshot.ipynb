{
 "cells": [
  {
   "cell_type": "code",
   "execution_count": 1,
   "id": "5ac06050",
   "metadata": {
    "execution": {
     "iopub.execute_input": "2021-04-19T11:26:39.853450Z",
     "iopub.status.busy": "2021-04-19T11:26:39.852869Z",
     "iopub.status.idle": "2021-04-19T11:26:40.552218Z",
     "shell.execute_reply": "2021-04-19T11:26:40.551550Z"
    }
   },
   "outputs": [],
   "source": [
    "from qiskit import pulse\n",
    "\n",
    "with pulse.build() as pulse_prog:\n",
    "    pulse.snapshot('first', 'statevector')"
   ]
  }
 ],
 "metadata": {
  "kernelspec": {
   "display_name": "Python 3",
   "language": "python",
   "name": "python3"
  },
  "language_info": {
   "codemirror_mode": {
    "name": "ipython",
    "version": 3
   },
   "file_extension": ".py",
   "mimetype": "text/x-python",
   "name": "python",
   "nbconvert_exporter": "python",
   "pygments_lexer": "ipython3",
   "version": "3.8.9"
  }
 },
 "nbformat": 4,
 "nbformat_minor": 5
}