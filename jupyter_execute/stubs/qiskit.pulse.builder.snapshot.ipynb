{
 "cells": [
  {
   "cell_type": "code",
   "execution_count": 1,
   "id": "bf29200b",
   "metadata": {
    "execution": {
     "iopub.execute_input": "2021-04-14T07:43:24.832009Z",
     "iopub.status.busy": "2021-04-14T07:43:24.831359Z",
     "iopub.status.idle": "2021-04-14T07:43:25.469159Z",
     "shell.execute_reply": "2021-04-14T07:43:25.468573Z"
    }
   },
   "outputs": [],
   "source": [
    "from qiskit import pulse\n",
    "\n",
    "with pulse.build() as pulse_prog:\n",
    "    pulse.snapshot('first', 'statevector')"
   ]
  }
 ],
 "metadata": {
  "kernelspec": {
   "display_name": "Python 3",
   "language": "python",
   "name": "python3"
  },
  "language_info": {
   "codemirror_mode": {
    "name": "ipython",
    "version": 3
   },
   "file_extension": ".py",
   "mimetype": "text/x-python",
   "name": "python",
   "nbconvert_exporter": "python",
   "pygments_lexer": "ipython3",
   "version": "3.8.9"
  }
 },
 "nbformat": 4,
 "nbformat_minor": 5
}