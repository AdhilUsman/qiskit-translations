{
 "cells": [
  {
   "cell_type": "code",
   "execution_count": 1,
   "id": "c39800ad",
   "metadata": {
    "execution": {
     "iopub.execute_input": "2021-04-26T20:05:49.241079Z",
     "iopub.status.busy": "2021-04-26T20:05:49.240467Z",
     "iopub.status.idle": "2021-04-26T20:05:49.927941Z",
     "shell.execute_reply": "2021-04-26T20:05:49.927291Z"
    }
   },
   "outputs": [],
   "source": [
    "from qiskit import pulse\n",
    "\n",
    "with pulse.build() as pulse_prog:\n",
    "    pulse.snapshot('first', 'statevector')"
   ]
  }
 ],
 "metadata": {
  "kernelspec": {
   "display_name": "Python 3",
   "language": "python",
   "name": "python3"
  },
  "language_info": {
   "codemirror_mode": {
    "name": "ipython",
    "version": 3
   },
   "file_extension": ".py",
   "mimetype": "text/x-python",
   "name": "python",
   "nbconvert_exporter": "python",
   "pygments_lexer": "ipython3",
   "version": "3.8.9"
  }
 },
 "nbformat": 4,
 "nbformat_minor": 5
}