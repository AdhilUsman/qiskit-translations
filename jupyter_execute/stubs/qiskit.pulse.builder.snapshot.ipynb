{
 "cells": [
  {
   "cell_type": "code",
   "execution_count": 1,
   "id": "0714a2e5",
   "metadata": {
    "execution": {
     "iopub.execute_input": "2021-05-03T20:05:46.772058Z",
     "iopub.status.busy": "2021-05-03T20:05:46.771549Z",
     "iopub.status.idle": "2021-05-03T20:05:47.497808Z",
     "shell.execute_reply": "2021-05-03T20:05:47.496912Z"
    }
   },
   "outputs": [],
   "source": [
    "from qiskit import pulse\n",
    "\n",
    "with pulse.build() as pulse_prog:\n",
    "    pulse.snapshot('first', 'statevector')"
   ]
  }
 ],
 "metadata": {
  "kernelspec": {
   "display_name": "Python 3",
   "language": "python",
   "name": "python3"
  },
  "language_info": {
   "codemirror_mode": {
    "name": "ipython",
    "version": 3
   },
   "file_extension": ".py",
   "mimetype": "text/x-python",
   "name": "python",
   "nbconvert_exporter": "python",
   "pygments_lexer": "ipython3",
   "version": "3.8.9"
  }
 },
 "nbformat": 4,
 "nbformat_minor": 5
}