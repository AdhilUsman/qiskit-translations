{
 "cells": [
  {
   "cell_type": "code",
   "execution_count": 1,
   "id": "a832f172",
   "metadata": {
    "execution": {
     "iopub.execute_input": "2021-06-19T15:32:04.820444Z",
     "iopub.status.busy": "2021-06-19T15:32:04.819819Z",
     "iopub.status.idle": "2021-06-19T15:32:05.486038Z",
     "shell.execute_reply": "2021-06-19T15:32:05.486578Z"
    }
   },
   "outputs": [],
   "source": [
    "from qiskit import pulse\n",
    "\n",
    "with pulse.build() as pulse_prog:\n",
    "    pulse.snapshot('first', 'statevector')"
   ]
  }
 ],
 "metadata": {
  "kernelspec": {
   "display_name": "Python 3",
   "language": "python",
   "name": "python3"
  },
  "language_info": {
   "codemirror_mode": {
    "name": "ipython",
    "version": 3
   },
   "file_extension": ".py",
   "mimetype": "text/x-python",
   "name": "python",
   "nbconvert_exporter": "python",
   "pygments_lexer": "ipython3",
   "version": "3.8.10"
  }
 },
 "nbformat": 4,
 "nbformat_minor": 5
}