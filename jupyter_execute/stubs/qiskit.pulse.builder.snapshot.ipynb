{
 "cells": [
  {
   "cell_type": "code",
   "execution_count": 1,
   "id": "83a617a1",
   "metadata": {
    "execution": {
     "iopub.execute_input": "2021-04-29T22:50:22.575065Z",
     "iopub.status.busy": "2021-04-29T22:50:22.574036Z",
     "iopub.status.idle": "2021-04-29T22:50:23.199324Z",
     "shell.execute_reply": "2021-04-29T22:50:23.198085Z"
    }
   },
   "outputs": [],
   "source": [
    "from qiskit import pulse\n",
    "\n",
    "with pulse.build() as pulse_prog:\n",
    "    pulse.snapshot('first', 'statevector')"
   ]
  }
 ],
 "metadata": {
  "kernelspec": {
   "display_name": "Python 3",
   "language": "python",
   "name": "python3"
  },
  "language_info": {
   "codemirror_mode": {
    "name": "ipython",
    "version": 3
   },
   "file_extension": ".py",
   "mimetype": "text/x-python",
   "name": "python",
   "nbconvert_exporter": "python",
   "pygments_lexer": "ipython3",
   "version": "3.8.9"
  }
 },
 "nbformat": 4,
 "nbformat_minor": 5
}