{
 "cells": [
  {
   "cell_type": "code",
   "execution_count": 1,
   "id": "banner-trade",
   "metadata": {
    "execution": {
     "iopub.execute_input": "2021-03-28T22:07:12.332623Z",
     "iopub.status.busy": "2021-03-28T22:07:12.332075Z",
     "iopub.status.idle": "2021-03-28T22:07:14.192581Z",
     "shell.execute_reply": "2021-03-28T22:07:14.192998Z"
    }
   },
   "outputs": [
    {
     "name": "stdout",
     "output_type": "stream",
     "text": [
      "probs: [0.5 0.  0.5 0. ]\n",
      "Qubit-0 probs: [1. 0.]\n",
      "Qubit-1 probs: [0.5 0.5]\n"
     ]
    }
   ],
   "source": [
    "from qiskit.quantum_info import Statevector\n",
    "\n",
    "psi = Statevector.from_label('+0')\n",
    "\n",
    "# Probabilities for measuring both qubits\n",
    "probs = psi.probabilities()\n",
    "print('probs: {}'.format(probs))\n",
    "\n",
    "# Probabilities for measuring only qubit-0\n",
    "probs_qubit_0 = psi.probabilities([0])\n",
    "print('Qubit-0 probs: {}'.format(probs_qubit_0))\n",
    "\n",
    "# Probabilities for measuring only qubit-1\n",
    "probs_qubit_1 = psi.probabilities([1])\n",
    "print('Qubit-1 probs: {}'.format(probs_qubit_1))"
   ]
  },
  {
   "cell_type": "code",
   "execution_count": 2,
   "id": "superb-bermuda",
   "metadata": {
    "execution": {
     "iopub.execute_input": "2021-03-28T22:07:14.200129Z",
     "iopub.status.busy": "2021-03-28T22:07:14.198864Z",
     "iopub.status.idle": "2021-03-28T22:07:14.201967Z",
     "shell.execute_reply": "2021-03-28T22:07:14.201482Z"
    }
   },
   "outputs": [
    {
     "name": "stdout",
     "output_type": "stream",
     "text": [
      "probs: [0.5 0.  0.5 0. ]\n",
      "Swapped probs: [0.5 0.5 0.  0. ]\n"
     ]
    }
   ],
   "source": [
    "from qiskit.quantum_info import Statevector\n",
    "\n",
    "psi = Statevector.from_label('+0')\n",
    "\n",
    "# Probabilities for measuring both qubits\n",
    "probs = psi.probabilities([0, 1])\n",
    "print('probs: {}'.format(probs))\n",
    "\n",
    "# Probabilities for measuring both qubits\n",
    "# but swapping qubits 0 and 1 in output\n",
    "probs_swapped = psi.probabilities([1, 0])\n",
    "print('Swapped probs: {}'.format(probs_swapped))"
   ]
  },
  {
   "cell_type": "code",
   "execution_count": 3,
   "id": "legitimate-emphasis",
   "metadata": {
    "execution": {
     "iopub.execute_input": "2021-03-28T22:07:14.207405Z",
     "iopub.status.busy": "2021-03-28T22:07:14.206126Z",
     "iopub.status.idle": "2021-03-28T22:07:14.209378Z",
     "shell.execute_reply": "2021-03-28T22:07:14.208649Z"
    }
   },
   "outputs": [
    {
     "name": "stdout",
     "output_type": "stream",
     "text": [
      "{'00': (0.7071067811865475+0j), '10': (-0.7071067811865475+0j)}\n"
     ]
    }
   ],
   "source": [
    "from qiskit.quantum_info import Statevector\n",
    "\n",
    "psi = Statevector.from_label('-0')\n",
    "print(psi.to_dict())"
   ]
  },
  {
   "cell_type": "code",
   "execution_count": 4,
   "id": "provincial-orientation",
   "metadata": {
    "execution": {
     "iopub.execute_input": "2021-03-28T22:07:14.215742Z",
     "iopub.status.busy": "2021-03-28T22:07:14.214405Z",
     "iopub.status.idle": "2021-03-28T22:07:14.217467Z",
     "shell.execute_reply": "2021-03-28T22:07:14.216996Z"
    }
   },
   "outputs": [
    {
     "name": "stdout",
     "output_type": "stream",
     "text": [
      "{'00': (0.7071067811865475+0j), '22': (0.7071067811865475+0j)}\n"
     ]
    }
   ],
   "source": [
    "import numpy as np\n",
    "from qiskit.quantum_info import Statevector\n",
    "\n",
    "vec = np.zeros(9)\n",
    "vec[0] = 1 / np.sqrt(2)\n",
    "vec[-1] = 1 / np.sqrt(2)\n",
    "psi = Statevector(vec, dims=(3, 3))\n",
    "print(psi.to_dict())"
   ]
  },
  {
   "cell_type": "code",
   "execution_count": 5,
   "id": "damaged-repair",
   "metadata": {
    "execution": {
     "iopub.execute_input": "2021-03-28T22:07:14.223333Z",
     "iopub.status.busy": "2021-03-28T22:07:14.222188Z",
     "iopub.status.idle": "2021-03-28T22:07:14.225026Z",
     "shell.execute_reply": "2021-03-28T22:07:14.224569Z"
    }
   },
   "outputs": [
    {
     "name": "stdout",
     "output_type": "stream",
     "text": [
      "{'00': (0.7071067811865475+0j), '91': (0.7071067811865475+0j)}\n"
     ]
    }
   ],
   "source": [
    "import numpy as np\n",
    "from qiskit.quantum_info import Statevector\n",
    "\n",
    "vec = np.zeros(2 * 10)\n",
    "vec[0] = 1 / np.sqrt(2)\n",
    "vec[-1] = 1 / np.sqrt(2)\n",
    "psi = Statevector(vec, dims=(2, 10))\n",
    "print(psi.to_dict())"
   ]
  }
 ],
 "metadata": {
  "kernelspec": {
   "display_name": "Python 3",
   "language": "python",
   "name": "python3"
  },
  "language_info": {
   "codemirror_mode": {
    "name": "ipython",
    "version": 3
   },
   "file_extension": ".py",
   "mimetype": "text/x-python",
   "name": "python",
   "nbconvert_exporter": "python",
   "pygments_lexer": "ipython3",
   "version": "3.8.8"
  }
 },
 "nbformat": 4,
 "nbformat_minor": 5
}