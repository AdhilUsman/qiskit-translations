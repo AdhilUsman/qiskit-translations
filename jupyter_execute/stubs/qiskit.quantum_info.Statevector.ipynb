{
 "cells": [
  {
   "cell_type": "code",
   "execution_count": 1,
   "id": "c816ce47",
   "metadata": {
    "execution": {
     "iopub.execute_input": "2021-04-14T06:17:09.440489Z",
     "iopub.status.busy": "2021-04-14T06:17:09.439515Z",
     "iopub.status.idle": "2021-04-14T06:17:10.170228Z",
     "shell.execute_reply": "2021-04-14T06:17:10.170670Z"
    }
   },
   "outputs": [
    {
     "name": "stdout",
     "output_type": "stream",
     "text": [
      "probs: [0.5 0.  0.5 0. ]\n",
      "Qubit-0 probs: [1. 0.]\n",
      "Qubit-1 probs: [0.5 0.5]\n"
     ]
    }
   ],
   "source": [
    "from qiskit.quantum_info import Statevector\n",
    "\n",
    "psi = Statevector.from_label('+0')\n",
    "\n",
    "# Probabilities for measuring both qubits\n",
    "probs = psi.probabilities()\n",
    "print('probs: {}'.format(probs))\n",
    "\n",
    "# Probabilities for measuring only qubit-0\n",
    "probs_qubit_0 = psi.probabilities([0])\n",
    "print('Qubit-0 probs: {}'.format(probs_qubit_0))\n",
    "\n",
    "# Probabilities for measuring only qubit-1\n",
    "probs_qubit_1 = psi.probabilities([1])\n",
    "print('Qubit-1 probs: {}'.format(probs_qubit_1))"
   ]
  },
  {
   "cell_type": "code",
   "execution_count": 2,
   "id": "d91b262e",
   "metadata": {
    "execution": {
     "iopub.execute_input": "2021-04-14T06:17:10.178608Z",
     "iopub.status.busy": "2021-04-14T06:17:10.176700Z",
     "iopub.status.idle": "2021-04-14T06:17:10.180514Z",
     "shell.execute_reply": "2021-04-14T06:17:10.180027Z"
    }
   },
   "outputs": [
    {
     "name": "stdout",
     "output_type": "stream",
     "text": [
      "probs: [0.5 0.  0.5 0. ]\n",
      "Swapped probs: [0.5 0.5 0.  0. ]\n"
     ]
    }
   ],
   "source": [
    "from qiskit.quantum_info import Statevector\n",
    "\n",
    "psi = Statevector.from_label('+0')\n",
    "\n",
    "# Probabilities for measuring both qubits\n",
    "probs = psi.probabilities([0, 1])\n",
    "print('probs: {}'.format(probs))\n",
    "\n",
    "# Probabilities for measuring both qubits\n",
    "# but swapping qubits 0 and 1 in output\n",
    "probs_swapped = psi.probabilities([1, 0])\n",
    "print('Swapped probs: {}'.format(probs_swapped))"
   ]
  },
  {
   "cell_type": "code",
   "execution_count": 3,
   "id": "dcd1a98b",
   "metadata": {
    "execution": {
     "iopub.execute_input": "2021-04-14T06:17:10.186639Z",
     "iopub.status.busy": "2021-04-14T06:17:10.185135Z",
     "iopub.status.idle": "2021-04-14T06:17:10.188303Z",
     "shell.execute_reply": "2021-04-14T06:17:10.187857Z"
    }
   },
   "outputs": [
    {
     "name": "stdout",
     "output_type": "stream",
     "text": [
      "{'00': (0.7071067811865475+0j), '10': (-0.7071067811865475+0j)}\n"
     ]
    }
   ],
   "source": [
    "from qiskit.quantum_info import Statevector\n",
    "\n",
    "psi = Statevector.from_label('-0')\n",
    "print(psi.to_dict())"
   ]
  },
  {
   "cell_type": "code",
   "execution_count": 4,
   "id": "8da51df0",
   "metadata": {
    "execution": {
     "iopub.execute_input": "2021-04-14T06:17:10.194602Z",
     "iopub.status.busy": "2021-04-14T06:17:10.193299Z",
     "iopub.status.idle": "2021-04-14T06:17:10.196277Z",
     "shell.execute_reply": "2021-04-14T06:17:10.195820Z"
    }
   },
   "outputs": [
    {
     "name": "stdout",
     "output_type": "stream",
     "text": [
      "{'00': (0.7071067811865475+0j), '22': (0.7071067811865475+0j)}\n"
     ]
    }
   ],
   "source": [
    "import numpy as np\n",
    "from qiskit.quantum_info import Statevector\n",
    "\n",
    "vec = np.zeros(9)\n",
    "vec[0] = 1 / np.sqrt(2)\n",
    "vec[-1] = 1 / np.sqrt(2)\n",
    "psi = Statevector(vec, dims=(3, 3))\n",
    "print(psi.to_dict())"
   ]
  },
  {
   "cell_type": "code",
   "execution_count": 5,
   "id": "aac052d3",
   "metadata": {
    "execution": {
     "iopub.execute_input": "2021-04-14T06:17:10.204911Z",
     "iopub.status.busy": "2021-04-14T06:17:10.202781Z",
     "iopub.status.idle": "2021-04-14T06:17:10.207038Z",
     "shell.execute_reply": "2021-04-14T06:17:10.206549Z"
    }
   },
   "outputs": [
    {
     "name": "stdout",
     "output_type": "stream",
     "text": [
      "{'00': (0.7071067811865475+0j), '91': (0.7071067811865475+0j)}\n"
     ]
    }
   ],
   "source": [
    "import numpy as np\n",
    "from qiskit.quantum_info import Statevector\n",
    "\n",
    "vec = np.zeros(2 * 10)\n",
    "vec[0] = 1 / np.sqrt(2)\n",
    "vec[-1] = 1 / np.sqrt(2)\n",
    "psi = Statevector(vec, dims=(2, 10))\n",
    "print(psi.to_dict())"
   ]
  }
 ],
 "metadata": {
  "kernelspec": {
   "display_name": "Python 3",
   "language": "python",
   "name": "python3"
  },
  "language_info": {
   "codemirror_mode": {
    "name": "ipython",
    "version": 3
   },
   "file_extension": ".py",
   "mimetype": "text/x-python",
   "name": "python",
   "nbconvert_exporter": "python",
   "pygments_lexer": "ipython3",
   "version": "3.8.9"
  }
 },
 "nbformat": 4,
 "nbformat_minor": 5
}