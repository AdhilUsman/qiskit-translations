{
 "cells": [
  {
   "cell_type": "code",
   "execution_count": 1,
   "id": "17e6516f",
   "metadata": {
    "execution": {
     "iopub.execute_input": "2021-05-17T11:33:18.565893Z",
     "iopub.status.busy": "2021-05-17T11:33:18.565109Z",
     "iopub.status.idle": "2021-05-17T11:33:19.263221Z",
     "shell.execute_reply": "2021-05-17T11:33:19.264011Z"
    }
   },
   "outputs": [
    {
     "name": "stdout",
     "output_type": "stream",
     "text": [
      "probs: [0.5 0.  0.5 0. ]\n",
      "Qubit-0 probs: [1. 0.]\n",
      "Qubit-1 probs: [0.5 0.5]\n"
     ]
    }
   ],
   "source": [
    "from qiskit.quantum_info import Statevector\n",
    "\n",
    "psi = Statevector.from_label('+0')\n",
    "\n",
    "# Probabilities for measuring both qubits\n",
    "probs = psi.probabilities()\n",
    "print('probs: {}'.format(probs))\n",
    "\n",
    "# Probabilities for measuring only qubit-0\n",
    "probs_qubit_0 = psi.probabilities([0])\n",
    "print('Qubit-0 probs: {}'.format(probs_qubit_0))\n",
    "\n",
    "# Probabilities for measuring only qubit-1\n",
    "probs_qubit_1 = psi.probabilities([1])\n",
    "print('Qubit-1 probs: {}'.format(probs_qubit_1))"
   ]
  },
  {
   "cell_type": "code",
   "execution_count": 2,
   "id": "719b310c",
   "metadata": {
    "execution": {
     "iopub.execute_input": "2021-05-17T11:33:19.271723Z",
     "iopub.status.busy": "2021-05-17T11:33:19.270357Z",
     "iopub.status.idle": "2021-05-17T11:33:19.273584Z",
     "shell.execute_reply": "2021-05-17T11:33:19.273082Z"
    }
   },
   "outputs": [
    {
     "name": "stdout",
     "output_type": "stream",
     "text": [
      "probs: [0.5 0.  0.5 0. ]\n",
      "Swapped probs: [0.5 0.5 0.  0. ]\n"
     ]
    }
   ],
   "source": [
    "from qiskit.quantum_info import Statevector\n",
    "\n",
    "psi = Statevector.from_label('+0')\n",
    "\n",
    "# Probabilities for measuring both qubits\n",
    "probs = psi.probabilities([0, 1])\n",
    "print('probs: {}'.format(probs))\n",
    "\n",
    "# Probabilities for measuring both qubits\n",
    "# but swapping qubits 0 and 1 in output\n",
    "probs_swapped = psi.probabilities([1, 0])\n",
    "print('Swapped probs: {}'.format(probs_swapped))"
   ]
  },
  {
   "cell_type": "code",
   "execution_count": 3,
   "id": "82c8bcbf",
   "metadata": {
    "execution": {
     "iopub.execute_input": "2021-05-17T11:33:19.279162Z",
     "iopub.status.busy": "2021-05-17T11:33:19.277908Z",
     "iopub.status.idle": "2021-05-17T11:33:19.281126Z",
     "shell.execute_reply": "2021-05-17T11:33:19.280608Z"
    }
   },
   "outputs": [
    {
     "name": "stdout",
     "output_type": "stream",
     "text": [
      "{'00': (0.7071067811865475+0j), '10': (-0.7071067811865475+0j)}\n"
     ]
    }
   ],
   "source": [
    "from qiskit.quantum_info import Statevector\n",
    "\n",
    "psi = Statevector.from_label('-0')\n",
    "print(psi.to_dict())"
   ]
  },
  {
   "cell_type": "code",
   "execution_count": 4,
   "id": "3d405697",
   "metadata": {
    "execution": {
     "iopub.execute_input": "2021-05-17T11:33:19.287439Z",
     "iopub.status.busy": "2021-05-17T11:33:19.286207Z",
     "iopub.status.idle": "2021-05-17T11:33:19.289291Z",
     "shell.execute_reply": "2021-05-17T11:33:19.288794Z"
    }
   },
   "outputs": [
    {
     "name": "stdout",
     "output_type": "stream",
     "text": [
      "{'00': (0.7071067811865475+0j), '22': (0.7071067811865475+0j)}\n"
     ]
    }
   ],
   "source": [
    "import numpy as np\n",
    "from qiskit.quantum_info import Statevector\n",
    "\n",
    "vec = np.zeros(9)\n",
    "vec[0] = 1 / np.sqrt(2)\n",
    "vec[-1] = 1 / np.sqrt(2)\n",
    "psi = Statevector(vec, dims=(3, 3))\n",
    "print(psi.to_dict())"
   ]
  },
  {
   "cell_type": "code",
   "execution_count": 5,
   "id": "12f0ae18",
   "metadata": {
    "execution": {
     "iopub.execute_input": "2021-05-17T11:33:19.295664Z",
     "iopub.status.busy": "2021-05-17T11:33:19.294310Z",
     "iopub.status.idle": "2021-05-17T11:33:19.297520Z",
     "shell.execute_reply": "2021-05-17T11:33:19.297024Z"
    }
   },
   "outputs": [
    {
     "name": "stdout",
     "output_type": "stream",
     "text": [
      "{'00': (0.7071067811865475+0j), '91': (0.7071067811865475+0j)}\n"
     ]
    }
   ],
   "source": [
    "import numpy as np\n",
    "from qiskit.quantum_info import Statevector\n",
    "\n",
    "vec = np.zeros(2 * 10)\n",
    "vec[0] = 1 / np.sqrt(2)\n",
    "vec[-1] = 1 / np.sqrt(2)\n",
    "psi = Statevector(vec, dims=(2, 10))\n",
    "print(psi.to_dict())"
   ]
  }
 ],
 "metadata": {
  "kernelspec": {
   "display_name": "Python 3",
   "language": "python",
   "name": "python3"
  },
  "language_info": {
   "codemirror_mode": {
    "name": "ipython",
    "version": 3
   },
   "file_extension": ".py",
   "mimetype": "text/x-python",
   "name": "python",
   "nbconvert_exporter": "python",
   "pygments_lexer": "ipython3",
   "version": "3.8.10"
  }
 },
 "nbformat": 4,
 "nbformat_minor": 5
}