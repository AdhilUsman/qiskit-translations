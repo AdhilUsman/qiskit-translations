{
 "cells": [
  {
   "cell_type": "code",
   "execution_count": 1,
   "id": "distinct-permission",
   "metadata": {
    "execution": {
     "iopub.execute_input": "2021-03-28T14:49:45.196947Z",
     "iopub.status.busy": "2021-03-28T14:49:45.195990Z",
     "iopub.status.idle": "2021-03-28T14:49:46.976463Z",
     "shell.execute_reply": "2021-03-28T14:49:46.975825Z"
    }
   },
   "outputs": [
    {
     "name": "stdout",
     "output_type": "stream",
     "text": [
      "probs: [0.5 0.  0.5 0. ]\n",
      "Qubit-0 probs: [1. 0.]\n",
      "Qubit-1 probs: [0.5 0.5]\n"
     ]
    }
   ],
   "source": [
    "from qiskit.quantum_info import Statevector\n",
    "\n",
    "psi = Statevector.from_label('+0')\n",
    "\n",
    "# Probabilities for measuring both qubits\n",
    "probs = psi.probabilities()\n",
    "print('probs: {}'.format(probs))\n",
    "\n",
    "# Probabilities for measuring only qubit-0\n",
    "probs_qubit_0 = psi.probabilities([0])\n",
    "print('Qubit-0 probs: {}'.format(probs_qubit_0))\n",
    "\n",
    "# Probabilities for measuring only qubit-1\n",
    "probs_qubit_1 = psi.probabilities([1])\n",
    "print('Qubit-1 probs: {}'.format(probs_qubit_1))"
   ]
  },
  {
   "cell_type": "code",
   "execution_count": 2,
   "id": "superb-bunny",
   "metadata": {
    "execution": {
     "iopub.execute_input": "2021-03-28T14:49:46.982328Z",
     "iopub.status.busy": "2021-03-28T14:49:46.981788Z",
     "iopub.status.idle": "2021-03-28T14:49:46.985429Z",
     "shell.execute_reply": "2021-03-28T14:49:46.984990Z"
    }
   },
   "outputs": [
    {
     "name": "stdout",
     "output_type": "stream",
     "text": [
      "probs: [0.5 0.  0.5 0. ]\n",
      "Swapped probs: [0.5 0.5 0.  0. ]\n"
     ]
    }
   ],
   "source": [
    "from qiskit.quantum_info import Statevector\n",
    "\n",
    "psi = Statevector.from_label('+0')\n",
    "\n",
    "# Probabilities for measuring both qubits\n",
    "probs = psi.probabilities([0, 1])\n",
    "print('probs: {}'.format(probs))\n",
    "\n",
    "# Probabilities for measuring both qubits\n",
    "# but swapping qubits 0 and 1 in output\n",
    "probs_swapped = psi.probabilities([1, 0])\n",
    "print('Swapped probs: {}'.format(probs_swapped))"
   ]
  },
  {
   "cell_type": "code",
   "execution_count": 3,
   "id": "introductory-polish",
   "metadata": {
    "execution": {
     "iopub.execute_input": "2021-03-28T14:49:46.989839Z",
     "iopub.status.busy": "2021-03-28T14:49:46.989314Z",
     "iopub.status.idle": "2021-03-28T14:49:46.992945Z",
     "shell.execute_reply": "2021-03-28T14:49:46.992505Z"
    }
   },
   "outputs": [
    {
     "name": "stdout",
     "output_type": "stream",
     "text": [
      "{'00': (0.7071067811865475+0j), '10': (-0.7071067811865475+0j)}\n"
     ]
    }
   ],
   "source": [
    "from qiskit.quantum_info import Statevector\n",
    "\n",
    "psi = Statevector.from_label('-0')\n",
    "print(psi.to_dict())"
   ]
  },
  {
   "cell_type": "code",
   "execution_count": 4,
   "id": "understanding-delivery",
   "metadata": {
    "execution": {
     "iopub.execute_input": "2021-03-28T14:49:46.997923Z",
     "iopub.status.busy": "2021-03-28T14:49:46.997399Z",
     "iopub.status.idle": "2021-03-28T14:49:47.001137Z",
     "shell.execute_reply": "2021-03-28T14:49:47.000691Z"
    }
   },
   "outputs": [
    {
     "name": "stdout",
     "output_type": "stream",
     "text": [
      "{'00': (0.7071067811865475+0j), '22': (0.7071067811865475+0j)}\n"
     ]
    }
   ],
   "source": [
    "import numpy as np\n",
    "from qiskit.quantum_info import Statevector\n",
    "\n",
    "vec = np.zeros(9)\n",
    "vec[0] = 1 / np.sqrt(2)\n",
    "vec[-1] = 1 / np.sqrt(2)\n",
    "psi = Statevector(vec, dims=(3, 3))\n",
    "print(psi.to_dict())"
   ]
  },
  {
   "cell_type": "code",
   "execution_count": 5,
   "id": "opening-peripheral",
   "metadata": {
    "execution": {
     "iopub.execute_input": "2021-03-28T14:49:47.007303Z",
     "iopub.status.busy": "2021-03-28T14:49:47.005989Z",
     "iopub.status.idle": "2021-03-28T14:49:47.009039Z",
     "shell.execute_reply": "2021-03-28T14:49:47.008585Z"
    }
   },
   "outputs": [
    {
     "name": "stdout",
     "output_type": "stream",
     "text": [
      "{'00': (0.7071067811865475+0j), '91': (0.7071067811865475+0j)}\n"
     ]
    }
   ],
   "source": [
    "import numpy as np\n",
    "from qiskit.quantum_info import Statevector\n",
    "\n",
    "vec = np.zeros(2 * 10)\n",
    "vec[0] = 1 / np.sqrt(2)\n",
    "vec[-1] = 1 / np.sqrt(2)\n",
    "psi = Statevector(vec, dims=(2, 10))\n",
    "print(psi.to_dict())"
   ]
  }
 ],
 "metadata": {
  "kernelspec": {
   "display_name": "Python 3",
   "language": "python",
   "name": "python3"
  },
  "language_info": {
   "codemirror_mode": {
    "name": "ipython",
    "version": 3
   },
   "file_extension": ".py",
   "mimetype": "text/x-python",
   "name": "python",
   "nbconvert_exporter": "python",
   "pygments_lexer": "ipython3",
   "version": "3.8.8"
  }
 },
 "nbformat": 4,
 "nbformat_minor": 5
}