{
 "cells": [
  {
   "cell_type": "code",
   "execution_count": 1,
   "id": "36290dc4",
   "metadata": {
    "execution": {
     "iopub.execute_input": "2021-05-12T11:45:12.918065Z",
     "iopub.status.busy": "2021-05-12T11:45:12.917491Z",
     "iopub.status.idle": "2021-05-12T11:45:14.273050Z",
     "shell.execute_reply": "2021-05-12T11:45:14.271808Z"
    }
   },
   "outputs": [],
   "source": [
    "import math\n",
    "\n",
    "from qiskit import pulse\n",
    "from qiskit.test.mock import FakeOpenPulse2Q\n",
    "\n",
    "backend = FakeOpenPulse2Q()\n",
    "\n",
    "with pulse.build(backend) as pulse_prog:\n",
    "    pulse.u2(0, math.pi, 1)"
   ]
  }
 ],
 "metadata": {
  "kernelspec": {
   "display_name": "Python 3",
   "language": "python",
   "name": "python3"
  },
  "language_info": {
   "codemirror_mode": {
    "name": "ipython",
    "version": 3
   },
   "file_extension": ".py",
   "mimetype": "text/x-python",
   "name": "python",
   "nbconvert_exporter": "python",
   "pygments_lexer": "ipython3",
   "version": "3.8.10"
  }
 },
 "nbformat": 4,
 "nbformat_minor": 5
}