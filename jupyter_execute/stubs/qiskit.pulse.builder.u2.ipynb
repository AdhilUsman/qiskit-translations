{
 "cells": [
  {
   "cell_type": "code",
   "execution_count": 1,
   "id": "22c0a3ac",
   "metadata": {
    "execution": {
     "iopub.execute_input": "2021-04-05T08:06:52.661378Z",
     "iopub.status.busy": "2021-04-05T08:06:52.660535Z",
     "iopub.status.idle": "2021-04-05T08:06:54.120960Z",
     "shell.execute_reply": "2021-04-05T08:06:54.120000Z"
    }
   },
   "outputs": [],
   "source": [
    "import math\n",
    "\n",
    "from qiskit import pulse\n",
    "from qiskit.test.mock import FakeOpenPulse2Q\n",
    "\n",
    "backend = FakeOpenPulse2Q()\n",
    "\n",
    "with pulse.build(backend) as pulse_prog:\n",
    "    pulse.u2(0, math.pi, 1)"
   ]
  }
 ],
 "metadata": {
  "kernelspec": {
   "display_name": "Python 3",
   "language": "python",
   "name": "python3"
  },
  "language_info": {
   "codemirror_mode": {
    "name": "ipython",
    "version": 3
   },
   "file_extension": ".py",
   "mimetype": "text/x-python",
   "name": "python",
   "nbconvert_exporter": "python",
   "pygments_lexer": "ipython3",
   "version": "3.8.8"
  }
 },
 "nbformat": 4,
 "nbformat_minor": 5
}