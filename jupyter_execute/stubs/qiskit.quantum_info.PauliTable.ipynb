{
 "cells": [
  {
   "cell_type": "code",
   "execution_count": 1,
   "id": "informal-colors",
   "metadata": {
    "execution": {
     "iopub.execute_input": "2021-03-29T11:43:40.970318Z",
     "iopub.status.busy": "2021-03-29T11:43:40.969716Z",
     "iopub.status.idle": "2021-03-29T11:43:43.042208Z",
     "shell.execute_reply": "2021-03-29T11:43:43.042679Z"
    }
   },
   "outputs": [
    {
     "name": "stdout",
     "output_type": "stream",
     "text": [
      "PauliTable: ['Y', 'Z', 'Z', 'Y']\n"
     ]
    }
   ],
   "source": [
    "from qiskit.quantum_info.operators import PauliTable\n",
    "\n",
    "current = PauliTable.from_labels(['I', 'X'])\n",
    "other =  PauliTable.from_labels(['Y', 'Z'])\n",
    "print(current.compose(other))"
   ]
  },
  {
   "cell_type": "code",
   "execution_count": 2,
   "id": "split-terminal",
   "metadata": {
    "execution": {
     "iopub.execute_input": "2021-03-29T11:43:43.051770Z",
     "iopub.status.busy": "2021-03-29T11:43:43.050610Z",
     "iopub.status.idle": "2021-03-29T11:43:43.053890Z",
     "shell.execute_reply": "2021-03-29T11:43:43.053300Z"
    }
   },
   "outputs": [
    {
     "name": "stdout",
     "output_type": "stream",
     "text": [
      "PauliTable: ['Y', 'Z', 'Z', 'Y']\n"
     ]
    }
   ],
   "source": [
    "from qiskit.quantum_info.operators import PauliTable\n",
    "\n",
    "current = PauliTable.from_labels(['I', 'X'])\n",
    "other =  PauliTable.from_labels(['Y', 'Z'])\n",
    "print(current.dot(other))"
   ]
  },
  {
   "cell_type": "code",
   "execution_count": 3,
   "id": "hydraulic-vocabulary",
   "metadata": {
    "execution": {
     "iopub.execute_input": "2021-03-29T11:43:43.063093Z",
     "iopub.status.busy": "2021-03-29T11:43:43.061341Z",
     "iopub.status.idle": "2021-03-29T11:43:43.064899Z",
     "shell.execute_reply": "2021-03-29T11:43:43.063625Z"
    }
   },
   "outputs": [
    {
     "name": "stdout",
     "output_type": "stream",
     "text": [
      "PauliTable: ['YI', 'ZI', 'YX', 'ZX']\n"
     ]
    }
   ],
   "source": [
    "from qiskit.quantum_info.operators import PauliTable\n",
    "\n",
    "current = PauliTable.from_labels(['I', 'X'])\n",
    "other =  PauliTable.from_labels(['Y', 'Z'])\n",
    "print(current.expand(other))"
   ]
  },
  {
   "cell_type": "code",
   "execution_count": 4,
   "id": "supported-drinking",
   "metadata": {
    "execution": {
     "iopub.execute_input": "2021-03-29T11:43:43.073669Z",
     "iopub.status.busy": "2021-03-29T11:43:43.070400Z",
     "iopub.status.idle": "2021-03-29T11:43:43.076007Z",
     "shell.execute_reply": "2021-03-29T11:43:43.076556Z"
    }
   },
   "outputs": [
    {
     "name": "stdout",
     "output_type": "stream",
     "text": [
      "Initial Ordering\n",
      "PauliTable: ['XZ', 'II', 'YZ', 'YY', 'IX', 'ZZ', 'ZY', 'XX', 'XI', 'ZX', 'ZI', 'XY', 'IY', 'YX', 'IZ', 'YI']\n",
      "Lexicographically sorted\n",
      "PauliTable: ['II', 'IX', 'IY', 'IZ', 'XI', 'XX', 'XY', 'XZ', 'YI', 'YX', 'YY', 'YZ', 'ZI', 'ZX', 'ZY', 'ZZ']\n",
      "Weight sorted\n",
      "PauliTable: ['II', 'IX', 'IY', 'IZ', 'XI', 'YI', 'ZI', 'XX', 'XY', 'XZ', 'YX', 'YY', 'YZ', 'ZX', 'ZY', 'ZZ']\n"
     ]
    }
   ],
   "source": [
    "from numpy.random import shuffle\n",
    "from qiskit.quantum_info.operators import PauliTable\n",
    "\n",
    "# 2-qubit labels\n",
    "labels = ['II', 'IX', 'IY', 'IZ', 'XI', 'XX', 'XY', 'XZ',\n",
    "          'YI', 'YX', 'YY', 'YZ', 'ZI', 'ZX', 'ZY', 'ZZ']\n",
    "# Shuffle Labels\n",
    "shuffle(labels)\n",
    "pt = PauliTable.from_labels(labels)\n",
    "print('Initial Ordering')\n",
    "print(pt)\n",
    "\n",
    "# Lexicographic Ordering\n",
    "srt = pt.sort()\n",
    "print('Lexicographically sorted')\n",
    "print(srt)\n",
    "\n",
    "# Weight Ordering\n",
    "srt = pt.sort(weight=True)\n",
    "print('Weight sorted')\n",
    "print(srt)"
   ]
  },
  {
   "cell_type": "code",
   "execution_count": 5,
   "id": "laughing-ecuador",
   "metadata": {
    "execution": {
     "iopub.execute_input": "2021-03-29T11:43:43.083463Z",
     "iopub.status.busy": "2021-03-29T11:43:43.082101Z",
     "iopub.status.idle": "2021-03-29T11:43:43.085612Z",
     "shell.execute_reply": "2021-03-29T11:43:43.084979Z"
    }
   },
   "outputs": [
    {
     "name": "stdout",
     "output_type": "stream",
     "text": [
      "PauliTable: ['IY', 'IZ', 'XY', 'XZ']\n"
     ]
    }
   ],
   "source": [
    "from qiskit.quantum_info.operators import PauliTable\n",
    "\n",
    "current = PauliTable.from_labels(['I', 'X'])\n",
    "other =  PauliTable.from_labels(['Y', 'Z'])\n",
    "print(current.tensor(other))"
   ]
  },
  {
   "cell_type": "code",
   "execution_count": 6,
   "id": "statewide-detection",
   "metadata": {
    "execution": {
     "iopub.execute_input": "2021-03-29T11:43:43.092013Z",
     "iopub.status.busy": "2021-03-29T11:43:43.090693Z",
     "iopub.status.idle": "2021-03-29T11:43:43.094163Z",
     "shell.execute_reply": "2021-03-29T11:43:43.093610Z"
    }
   },
   "outputs": [
    {
     "name": "stdout",
     "output_type": "stream",
     "text": [
      "PauliTable: ['X', 'Y', 'I', 'Z']\n"
     ]
    }
   ],
   "source": [
    "from qiskit.quantum_info.operators import PauliTable\n",
    "\n",
    "pt = PauliTable.from_labels(['X', 'Y', 'X', 'I', 'I', 'Z', 'X', 'Z'])\n",
    "unique = pt.unique()\n",
    "print(unique)"
   ]
  }
 ],
 "metadata": {
  "kernelspec": {
   "display_name": "Python 3",
   "language": "python",
   "name": "python3"
  },
  "language_info": {
   "codemirror_mode": {
    "name": "ipython",
    "version": 3
   },
   "file_extension": ".py",
   "mimetype": "text/x-python",
   "name": "python",
   "nbconvert_exporter": "python",
   "pygments_lexer": "ipython3",
   "version": "3.8.8"
  }
 },
 "nbformat": 4,
 "nbformat_minor": 5
}