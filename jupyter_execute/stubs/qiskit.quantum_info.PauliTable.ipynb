{
 "cells": [
  {
   "cell_type": "code",
   "execution_count": 1,
   "id": "4167bc24",
   "metadata": {
    "execution": {
     "iopub.execute_input": "2021-06-06T16:09:38.579249Z",
     "iopub.status.busy": "2021-06-06T16:09:38.578729Z",
     "iopub.status.idle": "2021-06-06T16:09:39.235489Z",
     "shell.execute_reply": "2021-06-06T16:09:39.236468Z"
    }
   },
   "outputs": [
    {
     "name": "stdout",
     "output_type": "stream",
     "text": [
      "PauliTable: ['Y', 'Z', 'Z', 'Y']\n"
     ]
    }
   ],
   "source": [
    "from qiskit.quantum_info.operators import PauliTable\n",
    "\n",
    "current = PauliTable.from_labels(['I', 'X'])\n",
    "other =  PauliTable.from_labels(['Y', 'Z'])\n",
    "print(current.compose(other))"
   ]
  },
  {
   "cell_type": "code",
   "execution_count": 2,
   "id": "62164a2e",
   "metadata": {
    "execution": {
     "iopub.execute_input": "2021-06-06T16:09:39.245054Z",
     "iopub.status.busy": "2021-06-06T16:09:39.243652Z",
     "iopub.status.idle": "2021-06-06T16:09:39.247098Z",
     "shell.execute_reply": "2021-06-06T16:09:39.245947Z"
    }
   },
   "outputs": [
    {
     "name": "stdout",
     "output_type": "stream",
     "text": [
      "PauliTable: ['Y', 'Z', 'Z', 'Y']\n"
     ]
    }
   ],
   "source": [
    "from qiskit.quantum_info.operators import PauliTable\n",
    "\n",
    "current = PauliTable.from_labels(['I', 'X'])\n",
    "other =  PauliTable.from_labels(['Y', 'Z'])\n",
    "print(current.dot(other))"
   ]
  },
  {
   "cell_type": "code",
   "execution_count": 3,
   "id": "37a5a4b9",
   "metadata": {
    "execution": {
     "iopub.execute_input": "2021-06-06T16:09:39.252675Z",
     "iopub.status.busy": "2021-06-06T16:09:39.251362Z",
     "iopub.status.idle": "2021-06-06T16:09:39.254420Z",
     "shell.execute_reply": "2021-06-06T16:09:39.253949Z"
    }
   },
   "outputs": [
    {
     "name": "stdout",
     "output_type": "stream",
     "text": [
      "PauliTable: ['YI', 'YX', 'ZI', 'ZX']\n"
     ]
    }
   ],
   "source": [
    "from qiskit.quantum_info.operators import PauliTable\n",
    "\n",
    "current = PauliTable.from_labels(['I', 'X'])\n",
    "other =  PauliTable.from_labels(['Y', 'Z'])\n",
    "print(current.expand(other))"
   ]
  },
  {
   "cell_type": "code",
   "execution_count": 4,
   "id": "e2a481b0",
   "metadata": {
    "execution": {
     "iopub.execute_input": "2021-06-06T16:09:39.261581Z",
     "iopub.status.busy": "2021-06-06T16:09:39.260154Z",
     "iopub.status.idle": "2021-06-06T16:09:39.263615Z",
     "shell.execute_reply": "2021-06-06T16:09:39.264055Z"
    }
   },
   "outputs": [
    {
     "name": "stdout",
     "output_type": "stream",
     "text": [
      "Initial Ordering\n",
      "PauliTable: ['ZZ', 'IZ', 'XZ', 'ZY', 'YX', 'XX', 'YY', 'ZX', 'YZ', 'XI', 'YI', 'IX', 'XY', 'II', 'ZI', 'IY']\n",
      "Lexicographically sorted\n",
      "PauliTable: ['II', 'IX', 'IY', 'IZ', 'XI', 'XX', 'XY', 'XZ', 'YI', 'YX', 'YY', 'YZ', 'ZI', 'ZX', 'ZY', 'ZZ']\n",
      "Weight sorted\n",
      "PauliTable: ['II', 'IX', 'IY', 'IZ', 'XI', 'YI', 'ZI', 'XX', 'XY', 'XZ', 'YX', 'YY', 'YZ', 'ZX', 'ZY', 'ZZ']\n"
     ]
    }
   ],
   "source": [
    "from numpy.random import shuffle\n",
    "from qiskit.quantum_info.operators import PauliTable\n",
    "\n",
    "# 2-qubit labels\n",
    "labels = ['II', 'IX', 'IY', 'IZ', 'XI', 'XX', 'XY', 'XZ',\n",
    "          'YI', 'YX', 'YY', 'YZ', 'ZI', 'ZX', 'ZY', 'ZZ']\n",
    "# Shuffle Labels\n",
    "shuffle(labels)\n",
    "pt = PauliTable.from_labels(labels)\n",
    "print('Initial Ordering')\n",
    "print(pt)\n",
    "\n",
    "# Lexicographic Ordering\n",
    "srt = pt.sort()\n",
    "print('Lexicographically sorted')\n",
    "print(srt)\n",
    "\n",
    "# Weight Ordering\n",
    "srt = pt.sort(weight=True)\n",
    "print('Weight sorted')\n",
    "print(srt)"
   ]
  },
  {
   "cell_type": "code",
   "execution_count": 5,
   "id": "38a141dd",
   "metadata": {
    "execution": {
     "iopub.execute_input": "2021-06-06T16:09:39.269590Z",
     "iopub.status.busy": "2021-06-06T16:09:39.268291Z",
     "iopub.status.idle": "2021-06-06T16:09:39.271350Z",
     "shell.execute_reply": "2021-06-06T16:09:39.270859Z"
    }
   },
   "outputs": [
    {
     "name": "stdout",
     "output_type": "stream",
     "text": [
      "PauliTable: ['IY', 'IZ', 'XY', 'XZ']\n"
     ]
    }
   ],
   "source": [
    "from qiskit.quantum_info.operators import PauliTable\n",
    "\n",
    "current = PauliTable.from_labels(['I', 'X'])\n",
    "other =  PauliTable.from_labels(['Y', 'Z'])\n",
    "print(current.tensor(other))"
   ]
  },
  {
   "cell_type": "code",
   "execution_count": 6,
   "id": "50258112",
   "metadata": {
    "execution": {
     "iopub.execute_input": "2021-06-06T16:09:39.277190Z",
     "iopub.status.busy": "2021-06-06T16:09:39.275906Z",
     "iopub.status.idle": "2021-06-06T16:09:39.278919Z",
     "shell.execute_reply": "2021-06-06T16:09:39.278444Z"
    }
   },
   "outputs": [
    {
     "name": "stdout",
     "output_type": "stream",
     "text": [
      "PauliTable: ['X', 'Y', 'I', 'Z']\n"
     ]
    }
   ],
   "source": [
    "from qiskit.quantum_info.operators import PauliTable\n",
    "\n",
    "pt = PauliTable.from_labels(['X', 'Y', 'X', 'I', 'I', 'Z', 'X', 'Z'])\n",
    "unique = pt.unique()\n",
    "print(unique)"
   ]
  }
 ],
 "metadata": {
  "kernelspec": {
   "display_name": "Python 3",
   "language": "python",
   "name": "python3"
  },
  "language_info": {
   "codemirror_mode": {
    "name": "ipython",
    "version": 3
   },
   "file_extension": ".py",
   "mimetype": "text/x-python",
   "name": "python",
   "nbconvert_exporter": "python",
   "pygments_lexer": "ipython3",
   "version": "3.8.10"
  }
 },
 "nbformat": 4,
 "nbformat_minor": 5
}