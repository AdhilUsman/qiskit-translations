{
 "cells": [
  {
   "cell_type": "code",
   "execution_count": 1,
   "id": "994bc4d7",
   "metadata": {
    "execution": {
     "iopub.execute_input": "2021-04-05T19:33:42.794585Z",
     "iopub.status.busy": "2021-04-05T19:33:42.793936Z",
     "iopub.status.idle": "2021-04-05T19:33:43.488417Z",
     "shell.execute_reply": "2021-04-05T19:33:43.488864Z"
    }
   },
   "outputs": [
    {
     "name": "stdout",
     "output_type": "stream",
     "text": [
      "PauliTable: ['Y', 'Z', 'Z', 'Y']\n"
     ]
    }
   ],
   "source": [
    "from qiskit.quantum_info.operators import PauliTable\n",
    "\n",
    "current = PauliTable.from_labels(['I', 'X'])\n",
    "other =  PauliTable.from_labels(['Y', 'Z'])\n",
    "print(current.compose(other))"
   ]
  },
  {
   "cell_type": "code",
   "execution_count": 2,
   "id": "13d58912",
   "metadata": {
    "execution": {
     "iopub.execute_input": "2021-04-05T19:33:43.495321Z",
     "iopub.status.busy": "2021-04-05T19:33:43.493983Z",
     "iopub.status.idle": "2021-04-05T19:33:43.497198Z",
     "shell.execute_reply": "2021-04-05T19:33:43.496716Z"
    }
   },
   "outputs": [
    {
     "name": "stdout",
     "output_type": "stream",
     "text": [
      "PauliTable: ['Y', 'Z', 'Z', 'Y']\n"
     ]
    }
   ],
   "source": [
    "from qiskit.quantum_info.operators import PauliTable\n",
    "\n",
    "current = PauliTable.from_labels(['I', 'X'])\n",
    "other =  PauliTable.from_labels(['Y', 'Z'])\n",
    "print(current.dot(other))"
   ]
  },
  {
   "cell_type": "code",
   "execution_count": 3,
   "id": "4db25ba9",
   "metadata": {
    "execution": {
     "iopub.execute_input": "2021-04-05T19:33:43.502908Z",
     "iopub.status.busy": "2021-04-05T19:33:43.501789Z",
     "iopub.status.idle": "2021-04-05T19:33:43.504924Z",
     "shell.execute_reply": "2021-04-05T19:33:43.504451Z"
    }
   },
   "outputs": [
    {
     "name": "stdout",
     "output_type": "stream",
     "text": [
      "PauliTable: ['YI', 'YX', 'ZI', 'ZX']\n"
     ]
    }
   ],
   "source": [
    "from qiskit.quantum_info.operators import PauliTable\n",
    "\n",
    "current = PauliTable.from_labels(['I', 'X'])\n",
    "other =  PauliTable.from_labels(['Y', 'Z'])\n",
    "print(current.expand(other))"
   ]
  },
  {
   "cell_type": "code",
   "execution_count": 4,
   "id": "018486ea",
   "metadata": {
    "execution": {
     "iopub.execute_input": "2021-04-05T19:33:43.512879Z",
     "iopub.status.busy": "2021-04-05T19:33:43.511894Z",
     "iopub.status.idle": "2021-04-05T19:33:43.514538Z",
     "shell.execute_reply": "2021-04-05T19:33:43.514957Z"
    }
   },
   "outputs": [
    {
     "name": "stdout",
     "output_type": "stream",
     "text": [
      "Initial Ordering\n",
      "PauliTable: ['XZ', 'YZ', 'YY', 'ZI', 'XI', 'ZY', 'YX', 'II', 'YI', 'ZZ', 'ZX', 'XX', 'IY', 'IZ', 'XY', 'IX']\n",
      "Lexicographically sorted\n",
      "PauliTable: ['II', 'IX', 'IY', 'IZ', 'XI', 'XX', 'XY', 'XZ', 'YI', 'YX', 'YY', 'YZ', 'ZI', 'ZX', 'ZY', 'ZZ']\n",
      "Weight sorted\n",
      "PauliTable: ['II', 'IX', 'IY', 'IZ', 'XI', 'YI', 'ZI', 'XX', 'XY', 'XZ', 'YX', 'YY', 'YZ', 'ZX', 'ZY', 'ZZ']\n"
     ]
    }
   ],
   "source": [
    "from numpy.random import shuffle\n",
    "from qiskit.quantum_info.operators import PauliTable\n",
    "\n",
    "# 2-qubit labels\n",
    "labels = ['II', 'IX', 'IY', 'IZ', 'XI', 'XX', 'XY', 'XZ',\n",
    "          'YI', 'YX', 'YY', 'YZ', 'ZI', 'ZX', 'ZY', 'ZZ']\n",
    "# Shuffle Labels\n",
    "shuffle(labels)\n",
    "pt = PauliTable.from_labels(labels)\n",
    "print('Initial Ordering')\n",
    "print(pt)\n",
    "\n",
    "# Lexicographic Ordering\n",
    "srt = pt.sort()\n",
    "print('Lexicographically sorted')\n",
    "print(srt)\n",
    "\n",
    "# Weight Ordering\n",
    "srt = pt.sort(weight=True)\n",
    "print('Weight sorted')\n",
    "print(srt)"
   ]
  },
  {
   "cell_type": "code",
   "execution_count": 5,
   "id": "cc565043",
   "metadata": {
    "execution": {
     "iopub.execute_input": "2021-04-05T19:33:43.521362Z",
     "iopub.status.busy": "2021-04-05T19:33:43.520020Z",
     "iopub.status.idle": "2021-04-05T19:33:43.523205Z",
     "shell.execute_reply": "2021-04-05T19:33:43.522721Z"
    }
   },
   "outputs": [
    {
     "name": "stdout",
     "output_type": "stream",
     "text": [
      "PauliTable: ['IY', 'IZ', 'XY', 'XZ']\n"
     ]
    }
   ],
   "source": [
    "from qiskit.quantum_info.operators import PauliTable\n",
    "\n",
    "current = PauliTable.from_labels(['I', 'X'])\n",
    "other =  PauliTable.from_labels(['Y', 'Z'])\n",
    "print(current.tensor(other))"
   ]
  },
  {
   "cell_type": "code",
   "execution_count": 6,
   "id": "78ea0e83",
   "metadata": {
    "execution": {
     "iopub.execute_input": "2021-04-05T19:33:43.529459Z",
     "iopub.status.busy": "2021-04-05T19:33:43.528099Z",
     "iopub.status.idle": "2021-04-05T19:33:43.531309Z",
     "shell.execute_reply": "2021-04-05T19:33:43.530806Z"
    }
   },
   "outputs": [
    {
     "name": "stdout",
     "output_type": "stream",
     "text": [
      "PauliTable: ['X', 'Y', 'I', 'Z']\n"
     ]
    }
   ],
   "source": [
    "from qiskit.quantum_info.operators import PauliTable\n",
    "\n",
    "pt = PauliTable.from_labels(['X', 'Y', 'X', 'I', 'I', 'Z', 'X', 'Z'])\n",
    "unique = pt.unique()\n",
    "print(unique)"
   ]
  }
 ],
 "metadata": {
  "kernelspec": {
   "display_name": "Python 3",
   "language": "python",
   "name": "python3"
  },
  "language_info": {
   "codemirror_mode": {
    "name": "ipython",
    "version": 3
   },
   "file_extension": ".py",
   "mimetype": "text/x-python",
   "name": "python",
   "nbconvert_exporter": "python",
   "pygments_lexer": "ipython3",
   "version": "3.8.8"
  }
 },
 "nbformat": 4,
 "nbformat_minor": 5
}