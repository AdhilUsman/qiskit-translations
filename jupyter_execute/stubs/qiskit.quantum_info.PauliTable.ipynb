{
 "cells": [
  {
   "cell_type": "code",
   "execution_count": 1,
   "id": "1eb33660",
   "metadata": {
    "execution": {
     "iopub.execute_input": "2021-04-05T22:48:54.188654Z",
     "iopub.status.busy": "2021-04-05T22:48:54.188138Z",
     "iopub.status.idle": "2021-04-05T22:48:54.766605Z",
     "shell.execute_reply": "2021-04-05T22:48:54.765995Z"
    }
   },
   "outputs": [
    {
     "name": "stdout",
     "output_type": "stream",
     "text": [
      "PauliTable: ['Y', 'Z', 'Z', 'Y']\n"
     ]
    }
   ],
   "source": [
    "from qiskit.quantum_info.operators import PauliTable\n",
    "\n",
    "current = PauliTable.from_labels(['I', 'X'])\n",
    "other =  PauliTable.from_labels(['Y', 'Z'])\n",
    "print(current.compose(other))"
   ]
  },
  {
   "cell_type": "code",
   "execution_count": 2,
   "id": "db75a7d6",
   "metadata": {
    "execution": {
     "iopub.execute_input": "2021-04-05T22:48:54.772010Z",
     "iopub.status.busy": "2021-04-05T22:48:54.770900Z",
     "iopub.status.idle": "2021-04-05T22:48:54.773526Z",
     "shell.execute_reply": "2021-04-05T22:48:54.773123Z"
    }
   },
   "outputs": [
    {
     "name": "stdout",
     "output_type": "stream",
     "text": [
      "PauliTable: ['Y', 'Z', 'Z', 'Y']\n"
     ]
    }
   ],
   "source": [
    "from qiskit.quantum_info.operators import PauliTable\n",
    "\n",
    "current = PauliTable.from_labels(['I', 'X'])\n",
    "other =  PauliTable.from_labels(['Y', 'Z'])\n",
    "print(current.dot(other))"
   ]
  },
  {
   "cell_type": "code",
   "execution_count": 3,
   "id": "c6dbdb97",
   "metadata": {
    "execution": {
     "iopub.execute_input": "2021-04-05T22:48:54.778113Z",
     "iopub.status.busy": "2021-04-05T22:48:54.777215Z",
     "iopub.status.idle": "2021-04-05T22:48:54.779806Z",
     "shell.execute_reply": "2021-04-05T22:48:54.779405Z"
    }
   },
   "outputs": [
    {
     "name": "stdout",
     "output_type": "stream",
     "text": [
      "PauliTable: ['YI', 'YX', 'ZI', 'ZX']\n"
     ]
    }
   ],
   "source": [
    "from qiskit.quantum_info.operators import PauliTable\n",
    "\n",
    "current = PauliTable.from_labels(['I', 'X'])\n",
    "other =  PauliTable.from_labels(['Y', 'Z'])\n",
    "print(current.expand(other))"
   ]
  },
  {
   "cell_type": "code",
   "execution_count": 4,
   "id": "5251a89a",
   "metadata": {
    "execution": {
     "iopub.execute_input": "2021-04-05T22:48:54.786903Z",
     "iopub.status.busy": "2021-04-05T22:48:54.785835Z",
     "iopub.status.idle": "2021-04-05T22:48:54.788400Z",
     "shell.execute_reply": "2021-04-05T22:48:54.788000Z"
    }
   },
   "outputs": [
    {
     "name": "stdout",
     "output_type": "stream",
     "text": [
      "Initial Ordering\n",
      "PauliTable: ['ZZ', 'YX', 'ZX', 'XZ', 'II', 'YI', 'XX', 'ZI', 'IX', 'XY', 'ZY', 'YY', 'IZ', 'IY', 'YZ', 'XI']\n",
      "Lexicographically sorted\n",
      "PauliTable: ['II', 'IX', 'IY', 'IZ', 'XI', 'XX', 'XY', 'XZ', 'YI', 'YX', 'YY', 'YZ', 'ZI', 'ZX', 'ZY', 'ZZ']\n",
      "Weight sorted\n",
      "PauliTable: ['II', 'IX', 'IY', 'IZ', 'XI', 'YI', 'ZI', 'XX', 'XY', 'XZ', 'YX', 'YY', 'YZ', 'ZX', 'ZY', 'ZZ']\n"
     ]
    }
   ],
   "source": [
    "from numpy.random import shuffle\n",
    "from qiskit.quantum_info.operators import PauliTable\n",
    "\n",
    "# 2-qubit labels\n",
    "labels = ['II', 'IX', 'IY', 'IZ', 'XI', 'XX', 'XY', 'XZ',\n",
    "          'YI', 'YX', 'YY', 'YZ', 'ZI', 'ZX', 'ZY', 'ZZ']\n",
    "# Shuffle Labels\n",
    "shuffle(labels)\n",
    "pt = PauliTable.from_labels(labels)\n",
    "print('Initial Ordering')\n",
    "print(pt)\n",
    "\n",
    "# Lexicographic Ordering\n",
    "srt = pt.sort()\n",
    "print('Lexicographically sorted')\n",
    "print(srt)\n",
    "\n",
    "# Weight Ordering\n",
    "srt = pt.sort(weight=True)\n",
    "print('Weight sorted')\n",
    "print(srt)"
   ]
  },
  {
   "cell_type": "code",
   "execution_count": 5,
   "id": "94f3ebab",
   "metadata": {
    "execution": {
     "iopub.execute_input": "2021-04-05T22:48:54.792910Z",
     "iopub.status.busy": "2021-04-05T22:48:54.792020Z",
     "iopub.status.idle": "2021-04-05T22:48:54.794579Z",
     "shell.execute_reply": "2021-04-05T22:48:54.794150Z"
    }
   },
   "outputs": [
    {
     "name": "stdout",
     "output_type": "stream",
     "text": [
      "PauliTable: ['IY', 'IZ', 'XY', 'XZ']\n"
     ]
    }
   ],
   "source": [
    "from qiskit.quantum_info.operators import PauliTable\n",
    "\n",
    "current = PauliTable.from_labels(['I', 'X'])\n",
    "other =  PauliTable.from_labels(['Y', 'Z'])\n",
    "print(current.tensor(other))"
   ]
  },
  {
   "cell_type": "code",
   "execution_count": 6,
   "id": "2ef8b150",
   "metadata": {
    "execution": {
     "iopub.execute_input": "2021-04-05T22:48:54.799170Z",
     "iopub.status.busy": "2021-04-05T22:48:54.798289Z",
     "iopub.status.idle": "2021-04-05T22:48:54.800867Z",
     "shell.execute_reply": "2021-04-05T22:48:54.800457Z"
    }
   },
   "outputs": [
    {
     "name": "stdout",
     "output_type": "stream",
     "text": [
      "PauliTable: ['X', 'Y', 'I', 'Z']\n"
     ]
    }
   ],
   "source": [
    "from qiskit.quantum_info.operators import PauliTable\n",
    "\n",
    "pt = PauliTable.from_labels(['X', 'Y', 'X', 'I', 'I', 'Z', 'X', 'Z'])\n",
    "unique = pt.unique()\n",
    "print(unique)"
   ]
  }
 ],
 "metadata": {
  "kernelspec": {
   "display_name": "Python 3",
   "language": "python",
   "name": "python3"
  },
  "language_info": {
   "codemirror_mode": {
    "name": "ipython",
    "version": 3
   },
   "file_extension": ".py",
   "mimetype": "text/x-python",
   "name": "python",
   "nbconvert_exporter": "python",
   "pygments_lexer": "ipython3",
   "version": "3.8.8"
  }
 },
 "nbformat": 4,
 "nbformat_minor": 5
}