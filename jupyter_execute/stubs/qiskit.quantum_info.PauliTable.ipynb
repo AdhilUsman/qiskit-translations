{
 "cells": [
  {
   "cell_type": "code",
   "execution_count": 1,
   "id": "3906ff93",
   "metadata": {
    "execution": {
     "iopub.execute_input": "2021-04-08T00:32:33.257736Z",
     "iopub.status.busy": "2021-04-08T00:32:33.257149Z",
     "iopub.status.idle": "2021-04-08T00:32:33.954478Z",
     "shell.execute_reply": "2021-04-08T00:32:33.953493Z"
    }
   },
   "outputs": [
    {
     "name": "stdout",
     "output_type": "stream",
     "text": [
      "PauliTable: ['Y', 'Z', 'Z', 'Y']\n"
     ]
    }
   ],
   "source": [
    "from qiskit.quantum_info.operators import PauliTable\n",
    "\n",
    "current = PauliTable.from_labels(['I', 'X'])\n",
    "other =  PauliTable.from_labels(['Y', 'Z'])\n",
    "print(current.compose(other))"
   ]
  },
  {
   "cell_type": "code",
   "execution_count": 2,
   "id": "3f378dc6",
   "metadata": {
    "execution": {
     "iopub.execute_input": "2021-04-08T00:32:33.959675Z",
     "iopub.status.busy": "2021-04-08T00:32:33.959024Z",
     "iopub.status.idle": "2021-04-08T00:32:33.961732Z",
     "shell.execute_reply": "2021-04-08T00:32:33.962200Z"
    }
   },
   "outputs": [
    {
     "name": "stdout",
     "output_type": "stream",
     "text": [
      "PauliTable: ['Y', 'Z', 'Z', 'Y']\n"
     ]
    }
   ],
   "source": [
    "from qiskit.quantum_info.operators import PauliTable\n",
    "\n",
    "current = PauliTable.from_labels(['I', 'X'])\n",
    "other =  PauliTable.from_labels(['Y', 'Z'])\n",
    "print(current.dot(other))"
   ]
  },
  {
   "cell_type": "code",
   "execution_count": 3,
   "id": "4a79ac05",
   "metadata": {
    "execution": {
     "iopub.execute_input": "2021-04-08T00:32:33.968627Z",
     "iopub.status.busy": "2021-04-08T00:32:33.967125Z",
     "iopub.status.idle": "2021-04-08T00:32:33.970646Z",
     "shell.execute_reply": "2021-04-08T00:32:33.970114Z"
    }
   },
   "outputs": [
    {
     "name": "stdout",
     "output_type": "stream",
     "text": [
      "PauliTable: ['YI', 'YX', 'ZI', 'ZX']\n"
     ]
    }
   ],
   "source": [
    "from qiskit.quantum_info.operators import PauliTable\n",
    "\n",
    "current = PauliTable.from_labels(['I', 'X'])\n",
    "other =  PauliTable.from_labels(['Y', 'Z'])\n",
    "print(current.expand(other))"
   ]
  },
  {
   "cell_type": "code",
   "execution_count": 4,
   "id": "19cd3985",
   "metadata": {
    "execution": {
     "iopub.execute_input": "2021-04-08T00:32:33.977004Z",
     "iopub.status.busy": "2021-04-08T00:32:33.975944Z",
     "iopub.status.idle": "2021-04-08T00:32:33.980835Z",
     "shell.execute_reply": "2021-04-08T00:32:33.980324Z"
    }
   },
   "outputs": [
    {
     "name": "stdout",
     "output_type": "stream",
     "text": [
      "Initial Ordering\n",
      "PauliTable: ['ZY', 'XZ', 'YI', 'XY', 'YY', 'YX', 'YZ', 'ZZ', 'ZX', 'IZ', 'IY', 'XX', 'II', 'XI', 'ZI', 'IX']\n",
      "Lexicographically sorted\n",
      "PauliTable: ['II', 'IX', 'IY', 'IZ', 'XI', 'XX', 'XY', 'XZ', 'YI', 'YX', 'YY', 'YZ', 'ZI', 'ZX', 'ZY', 'ZZ']\n",
      "Weight sorted\n",
      "PauliTable: ['II', 'IX', 'IY', 'IZ', 'XI', 'YI', 'ZI', 'XX', 'XY', 'XZ', 'YX', 'YY', 'YZ', 'ZX', 'ZY', 'ZZ']\n"
     ]
    }
   ],
   "source": [
    "from numpy.random import shuffle\n",
    "from qiskit.quantum_info.operators import PauliTable\n",
    "\n",
    "# 2-qubit labels\n",
    "labels = ['II', 'IX', 'IY', 'IZ', 'XI', 'XX', 'XY', 'XZ',\n",
    "          'YI', 'YX', 'YY', 'YZ', 'ZI', 'ZX', 'ZY', 'ZZ']\n",
    "# Shuffle Labels\n",
    "shuffle(labels)\n",
    "pt = PauliTable.from_labels(labels)\n",
    "print('Initial Ordering')\n",
    "print(pt)\n",
    "\n",
    "# Lexicographic Ordering\n",
    "srt = pt.sort()\n",
    "print('Lexicographically sorted')\n",
    "print(srt)\n",
    "\n",
    "# Weight Ordering\n",
    "srt = pt.sort(weight=True)\n",
    "print('Weight sorted')\n",
    "print(srt)"
   ]
  },
  {
   "cell_type": "code",
   "execution_count": 5,
   "id": "8aab6ee1",
   "metadata": {
    "execution": {
     "iopub.execute_input": "2021-04-08T00:32:33.987243Z",
     "iopub.status.busy": "2021-04-08T00:32:33.985826Z",
     "iopub.status.idle": "2021-04-08T00:32:33.989227Z",
     "shell.execute_reply": "2021-04-08T00:32:33.988695Z"
    }
   },
   "outputs": [
    {
     "name": "stdout",
     "output_type": "stream",
     "text": [
      "PauliTable: ['IY', 'IZ', 'XY', 'XZ']\n"
     ]
    }
   ],
   "source": [
    "from qiskit.quantum_info.operators import PauliTable\n",
    "\n",
    "current = PauliTable.from_labels(['I', 'X'])\n",
    "other =  PauliTable.from_labels(['Y', 'Z'])\n",
    "print(current.tensor(other))"
   ]
  },
  {
   "cell_type": "code",
   "execution_count": 6,
   "id": "837d2858",
   "metadata": {
    "execution": {
     "iopub.execute_input": "2021-04-08T00:32:33.995386Z",
     "iopub.status.busy": "2021-04-08T00:32:33.993979Z",
     "iopub.status.idle": "2021-04-08T00:32:33.997307Z",
     "shell.execute_reply": "2021-04-08T00:32:33.996762Z"
    }
   },
   "outputs": [
    {
     "name": "stdout",
     "output_type": "stream",
     "text": [
      "PauliTable: ['X', 'Y', 'I', 'Z']\n"
     ]
    }
   ],
   "source": [
    "from qiskit.quantum_info.operators import PauliTable\n",
    "\n",
    "pt = PauliTable.from_labels(['X', 'Y', 'X', 'I', 'I', 'Z', 'X', 'Z'])\n",
    "unique = pt.unique()\n",
    "print(unique)"
   ]
  }
 ],
 "metadata": {
  "kernelspec": {
   "display_name": "Python 3",
   "language": "python",
   "name": "python3"
  },
  "language_info": {
   "codemirror_mode": {
    "name": "ipython",
    "version": 3
   },
   "file_extension": ".py",
   "mimetype": "text/x-python",
   "name": "python",
   "nbconvert_exporter": "python",
   "pygments_lexer": "ipython3",
   "version": "3.8.8"
  }
 },
 "nbformat": 4,
 "nbformat_minor": 5
}