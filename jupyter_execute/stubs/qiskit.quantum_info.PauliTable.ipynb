{
 "cells": [
  {
   "cell_type": "code",
   "execution_count": 1,
   "id": "95360ce6",
   "metadata": {
    "execution": {
     "iopub.execute_input": "2021-04-14T06:47:55.352590Z",
     "iopub.status.busy": "2021-04-14T06:47:55.352082Z",
     "iopub.status.idle": "2021-04-14T06:47:55.918314Z",
     "shell.execute_reply": "2021-04-14T06:47:55.918692Z"
    }
   },
   "outputs": [
    {
     "name": "stdout",
     "output_type": "stream",
     "text": [
      "PauliTable: ['Y', 'Z', 'Z', 'Y']\n"
     ]
    }
   ],
   "source": [
    "from qiskit.quantum_info.operators import PauliTable\n",
    "\n",
    "current = PauliTable.from_labels(['I', 'X'])\n",
    "other =  PauliTable.from_labels(['Y', 'Z'])\n",
    "print(current.compose(other))"
   ]
  },
  {
   "cell_type": "code",
   "execution_count": 2,
   "id": "6827e994",
   "metadata": {
    "execution": {
     "iopub.execute_input": "2021-04-14T06:47:55.923997Z",
     "iopub.status.busy": "2021-04-14T06:47:55.922969Z",
     "iopub.status.idle": "2021-04-14T06:47:55.925519Z",
     "shell.execute_reply": "2021-04-14T06:47:55.925121Z"
    }
   },
   "outputs": [
    {
     "name": "stdout",
     "output_type": "stream",
     "text": [
      "PauliTable: ['Y', 'Z', 'Z', 'Y']\n"
     ]
    }
   ],
   "source": [
    "from qiskit.quantum_info.operators import PauliTable\n",
    "\n",
    "current = PauliTable.from_labels(['I', 'X'])\n",
    "other =  PauliTable.from_labels(['Y', 'Z'])\n",
    "print(current.dot(other))"
   ]
  },
  {
   "cell_type": "code",
   "execution_count": 3,
   "id": "1387ef31",
   "metadata": {
    "execution": {
     "iopub.execute_input": "2021-04-14T06:47:55.930340Z",
     "iopub.status.busy": "2021-04-14T06:47:55.929459Z",
     "iopub.status.idle": "2021-04-14T06:47:55.931943Z",
     "shell.execute_reply": "2021-04-14T06:47:55.931555Z"
    }
   },
   "outputs": [
    {
     "name": "stdout",
     "output_type": "stream",
     "text": [
      "PauliTable: ['YI', 'YX', 'ZI', 'ZX']\n"
     ]
    }
   ],
   "source": [
    "from qiskit.quantum_info.operators import PauliTable\n",
    "\n",
    "current = PauliTable.from_labels(['I', 'X'])\n",
    "other =  PauliTable.from_labels(['Y', 'Z'])\n",
    "print(current.expand(other))"
   ]
  },
  {
   "cell_type": "code",
   "execution_count": 4,
   "id": "c59eac75",
   "metadata": {
    "execution": {
     "iopub.execute_input": "2021-04-14T06:47:55.938064Z",
     "iopub.status.busy": "2021-04-14T06:47:55.937596Z",
     "iopub.status.idle": "2021-04-14T06:47:55.939739Z",
     "shell.execute_reply": "2021-04-14T06:47:55.940095Z"
    }
   },
   "outputs": [
    {
     "name": "stdout",
     "output_type": "stream",
     "text": [
      "Initial Ordering\n",
      "PauliTable: ['ZI', 'XI', 'II', 'XZ', 'IY', 'YI', 'YZ', 'IZ', 'ZZ', 'ZY', 'YY', 'ZX', 'XY', 'IX', 'XX', 'YX']\n",
      "Lexicographically sorted\n",
      "PauliTable: ['II', 'IX', 'IY', 'IZ', 'XI', 'XX', 'XY', 'XZ', 'YI', 'YX', 'YY', 'YZ', 'ZI', 'ZX', 'ZY', 'ZZ']\n",
      "Weight sorted\n",
      "PauliTable: ['II', 'IX', 'IY', 'IZ', 'XI', 'YI', 'ZI', 'XX', 'XY', 'XZ', 'YX', 'YY', 'YZ', 'ZX', 'ZY', 'ZZ']\n"
     ]
    }
   ],
   "source": [
    "from numpy.random import shuffle\n",
    "from qiskit.quantum_info.operators import PauliTable\n",
    "\n",
    "# 2-qubit labels\n",
    "labels = ['II', 'IX', 'IY', 'IZ', 'XI', 'XX', 'XY', 'XZ',\n",
    "          'YI', 'YX', 'YY', 'YZ', 'ZI', 'ZX', 'ZY', 'ZZ']\n",
    "# Shuffle Labels\n",
    "shuffle(labels)\n",
    "pt = PauliTable.from_labels(labels)\n",
    "print('Initial Ordering')\n",
    "print(pt)\n",
    "\n",
    "# Lexicographic Ordering\n",
    "srt = pt.sort()\n",
    "print('Lexicographically sorted')\n",
    "print(srt)\n",
    "\n",
    "# Weight Ordering\n",
    "srt = pt.sort(weight=True)\n",
    "print('Weight sorted')\n",
    "print(srt)"
   ]
  },
  {
   "cell_type": "code",
   "execution_count": 5,
   "id": "c80737b6",
   "metadata": {
    "execution": {
     "iopub.execute_input": "2021-04-14T06:47:55.944446Z",
     "iopub.status.busy": "2021-04-14T06:47:55.943683Z",
     "iopub.status.idle": "2021-04-14T06:47:55.946098Z",
     "shell.execute_reply": "2021-04-14T06:47:55.945728Z"
    }
   },
   "outputs": [
    {
     "name": "stdout",
     "output_type": "stream",
     "text": [
      "PauliTable: ['IY', 'IZ', 'XY', 'XZ']\n"
     ]
    }
   ],
   "source": [
    "from qiskit.quantum_info.operators import PauliTable\n",
    "\n",
    "current = PauliTable.from_labels(['I', 'X'])\n",
    "other =  PauliTable.from_labels(['Y', 'Z'])\n",
    "print(current.tensor(other))"
   ]
  },
  {
   "cell_type": "code",
   "execution_count": 6,
   "id": "aea20786",
   "metadata": {
    "execution": {
     "iopub.execute_input": "2021-04-14T06:47:55.950841Z",
     "iopub.status.busy": "2021-04-14T06:47:55.950075Z",
     "iopub.status.idle": "2021-04-14T06:47:55.952460Z",
     "shell.execute_reply": "2021-04-14T06:47:55.952091Z"
    }
   },
   "outputs": [
    {
     "name": "stdout",
     "output_type": "stream",
     "text": [
      "PauliTable: ['X', 'Y', 'I', 'Z']\n"
     ]
    }
   ],
   "source": [
    "from qiskit.quantum_info.operators import PauliTable\n",
    "\n",
    "pt = PauliTable.from_labels(['X', 'Y', 'X', 'I', 'I', 'Z', 'X', 'Z'])\n",
    "unique = pt.unique()\n",
    "print(unique)"
   ]
  }
 ],
 "metadata": {
  "kernelspec": {
   "display_name": "Python 3",
   "language": "python",
   "name": "python3"
  },
  "language_info": {
   "codemirror_mode": {
    "name": "ipython",
    "version": 3
   },
   "file_extension": ".py",
   "mimetype": "text/x-python",
   "name": "python",
   "nbconvert_exporter": "python",
   "pygments_lexer": "ipython3",
   "version": "3.8.9"
  }
 },
 "nbformat": 4,
 "nbformat_minor": 5
}