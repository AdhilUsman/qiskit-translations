{
 "cells": [
  {
   "cell_type": "code",
   "execution_count": 1,
   "id": "9ed569bf",
   "metadata": {
    "execution": {
     "iopub.execute_input": "2021-04-13T03:12:33.912764Z",
     "iopub.status.busy": "2021-04-13T03:12:33.912196Z",
     "iopub.status.idle": "2021-04-13T03:12:34.616937Z",
     "shell.execute_reply": "2021-04-13T03:12:34.616373Z"
    }
   },
   "outputs": [
    {
     "name": "stdout",
     "output_type": "stream",
     "text": [
      "PauliTable: ['Y', 'Z', 'Z', 'Y']\n"
     ]
    }
   ],
   "source": [
    "from qiskit.quantum_info.operators import PauliTable\n",
    "\n",
    "current = PauliTable.from_labels(['I', 'X'])\n",
    "other =  PauliTable.from_labels(['Y', 'Z'])\n",
    "print(current.compose(other))"
   ]
  },
  {
   "cell_type": "code",
   "execution_count": 2,
   "id": "a05a3e97",
   "metadata": {
    "execution": {
     "iopub.execute_input": "2021-04-13T03:12:34.622796Z",
     "iopub.status.busy": "2021-04-13T03:12:34.621508Z",
     "iopub.status.idle": "2021-04-13T03:12:34.624533Z",
     "shell.execute_reply": "2021-04-13T03:12:34.624070Z"
    }
   },
   "outputs": [
    {
     "name": "stdout",
     "output_type": "stream",
     "text": [
      "PauliTable: ['Y', 'Z', 'Z', 'Y']\n"
     ]
    }
   ],
   "source": [
    "from qiskit.quantum_info.operators import PauliTable\n",
    "\n",
    "current = PauliTable.from_labels(['I', 'X'])\n",
    "other =  PauliTable.from_labels(['Y', 'Z'])\n",
    "print(current.dot(other))"
   ]
  },
  {
   "cell_type": "code",
   "execution_count": 3,
   "id": "2f2be181",
   "metadata": {
    "execution": {
     "iopub.execute_input": "2021-04-13T03:12:34.630482Z",
     "iopub.status.busy": "2021-04-13T03:12:34.629197Z",
     "iopub.status.idle": "2021-04-13T03:12:34.632204Z",
     "shell.execute_reply": "2021-04-13T03:12:34.631752Z"
    }
   },
   "outputs": [
    {
     "name": "stdout",
     "output_type": "stream",
     "text": [
      "PauliTable: ['YI', 'YX', 'ZI', 'ZX']\n"
     ]
    }
   ],
   "source": [
    "from qiskit.quantum_info.operators import PauliTable\n",
    "\n",
    "current = PauliTable.from_labels(['I', 'X'])\n",
    "other =  PauliTable.from_labels(['Y', 'Z'])\n",
    "print(current.expand(other))"
   ]
  },
  {
   "cell_type": "code",
   "execution_count": 4,
   "id": "eaebe19e",
   "metadata": {
    "execution": {
     "iopub.execute_input": "2021-04-13T03:12:34.638768Z",
     "iopub.status.busy": "2021-04-13T03:12:34.636865Z",
     "iopub.status.idle": "2021-04-13T03:12:34.640962Z",
     "shell.execute_reply": "2021-04-13T03:12:34.641367Z"
    }
   },
   "outputs": [
    {
     "name": "stdout",
     "output_type": "stream",
     "text": [
      "Initial Ordering\n",
      "PauliTable: ['XY', 'YX', 'YZ', 'XI', 'ZZ', 'II', 'YI', 'YY', 'ZX', 'IY', 'XX', 'ZI', 'IZ', 'XZ', 'IX', 'ZY']\n",
      "Lexicographically sorted\n",
      "PauliTable: ['II', 'IX', 'IY', 'IZ', 'XI', 'XX', 'XY', 'XZ', 'YI', 'YX', 'YY', 'YZ', 'ZI', 'ZX', 'ZY', 'ZZ']\n",
      "Weight sorted\n",
      "PauliTable: ['II', 'IX', 'IY', 'IZ', 'XI', 'YI', 'ZI', 'XX', 'XY', 'XZ', 'YX', 'YY', 'YZ', 'ZX', 'ZY', 'ZZ']\n"
     ]
    }
   ],
   "source": [
    "from numpy.random import shuffle\n",
    "from qiskit.quantum_info.operators import PauliTable\n",
    "\n",
    "# 2-qubit labels\n",
    "labels = ['II', 'IX', 'IY', 'IZ', 'XI', 'XX', 'XY', 'XZ',\n",
    "          'YI', 'YX', 'YY', 'YZ', 'ZI', 'ZX', 'ZY', 'ZZ']\n",
    "# Shuffle Labels\n",
    "shuffle(labels)\n",
    "pt = PauliTable.from_labels(labels)\n",
    "print('Initial Ordering')\n",
    "print(pt)\n",
    "\n",
    "# Lexicographic Ordering\n",
    "srt = pt.sort()\n",
    "print('Lexicographically sorted')\n",
    "print(srt)\n",
    "\n",
    "# Weight Ordering\n",
    "srt = pt.sort(weight=True)\n",
    "print('Weight sorted')\n",
    "print(srt)"
   ]
  },
  {
   "cell_type": "code",
   "execution_count": 5,
   "id": "9bed322b",
   "metadata": {
    "execution": {
     "iopub.execute_input": "2021-04-13T03:12:34.646901Z",
     "iopub.status.busy": "2021-04-13T03:12:34.645594Z",
     "iopub.status.idle": "2021-04-13T03:12:34.648604Z",
     "shell.execute_reply": "2021-04-13T03:12:34.648134Z"
    }
   },
   "outputs": [
    {
     "name": "stdout",
     "output_type": "stream",
     "text": [
      "PauliTable: ['IY', 'IZ', 'XY', 'XZ']\n"
     ]
    }
   ],
   "source": [
    "from qiskit.quantum_info.operators import PauliTable\n",
    "\n",
    "current = PauliTable.from_labels(['I', 'X'])\n",
    "other =  PauliTable.from_labels(['Y', 'Z'])\n",
    "print(current.tensor(other))"
   ]
  },
  {
   "cell_type": "code",
   "execution_count": 6,
   "id": "0f8c04cd",
   "metadata": {
    "execution": {
     "iopub.execute_input": "2021-04-13T03:12:34.654185Z",
     "iopub.status.busy": "2021-04-13T03:12:34.652936Z",
     "iopub.status.idle": "2021-04-13T03:12:34.655863Z",
     "shell.execute_reply": "2021-04-13T03:12:34.655410Z"
    }
   },
   "outputs": [
    {
     "name": "stdout",
     "output_type": "stream",
     "text": [
      "PauliTable: ['X', 'Y', 'I', 'Z']\n"
     ]
    }
   ],
   "source": [
    "from qiskit.quantum_info.operators import PauliTable\n",
    "\n",
    "pt = PauliTable.from_labels(['X', 'Y', 'X', 'I', 'I', 'Z', 'X', 'Z'])\n",
    "unique = pt.unique()\n",
    "print(unique)"
   ]
  }
 ],
 "metadata": {
  "kernelspec": {
   "display_name": "Python 3",
   "language": "python",
   "name": "python3"
  },
  "language_info": {
   "codemirror_mode": {
    "name": "ipython",
    "version": 3
   },
   "file_extension": ".py",
   "mimetype": "text/x-python",
   "name": "python",
   "nbconvert_exporter": "python",
   "pygments_lexer": "ipython3",
   "version": "3.8.8"
  }
 },
 "nbformat": 4,
 "nbformat_minor": 5
}