{
 "cells": [
  {
   "cell_type": "code",
   "execution_count": 1,
   "id": "intelligent-aggregate",
   "metadata": {
    "execution": {
     "iopub.execute_input": "2021-03-29T10:43:58.712429Z",
     "iopub.status.busy": "2021-03-29T10:43:58.711901Z",
     "iopub.status.idle": "2021-03-29T10:44:00.635873Z",
     "shell.execute_reply": "2021-03-29T10:44:00.636295Z"
    }
   },
   "outputs": [
    {
     "name": "stdout",
     "output_type": "stream",
     "text": [
      "PauliTable: ['Y', 'Z', 'Z', 'Y']\n"
     ]
    }
   ],
   "source": [
    "from qiskit.quantum_info.operators import PauliTable\n",
    "\n",
    "current = PauliTable.from_labels(['I', 'X'])\n",
    "other =  PauliTable.from_labels(['Y', 'Z'])\n",
    "print(current.compose(other))"
   ]
  },
  {
   "cell_type": "code",
   "execution_count": 2,
   "id": "super-hours",
   "metadata": {
    "execution": {
     "iopub.execute_input": "2021-03-29T10:44:00.642727Z",
     "iopub.status.busy": "2021-03-29T10:44:00.641421Z",
     "iopub.status.idle": "2021-03-29T10:44:00.644722Z",
     "shell.execute_reply": "2021-03-29T10:44:00.644194Z"
    }
   },
   "outputs": [
    {
     "name": "stdout",
     "output_type": "stream",
     "text": [
      "PauliTable: ['Y', 'Z', 'Z', 'Y']\n"
     ]
    }
   ],
   "source": [
    "from qiskit.quantum_info.operators import PauliTable\n",
    "\n",
    "current = PauliTable.from_labels(['I', 'X'])\n",
    "other =  PauliTable.from_labels(['Y', 'Z'])\n",
    "print(current.dot(other))"
   ]
  },
  {
   "cell_type": "code",
   "execution_count": 3,
   "id": "intelligent-henry",
   "metadata": {
    "execution": {
     "iopub.execute_input": "2021-03-29T10:44:00.650284Z",
     "iopub.status.busy": "2021-03-29T10:44:00.649099Z",
     "iopub.status.idle": "2021-03-29T10:44:00.651972Z",
     "shell.execute_reply": "2021-03-29T10:44:00.651518Z"
    }
   },
   "outputs": [
    {
     "name": "stdout",
     "output_type": "stream",
     "text": [
      "PauliTable: ['YI', 'ZI', 'YX', 'ZX']\n"
     ]
    }
   ],
   "source": [
    "from qiskit.quantum_info.operators import PauliTable\n",
    "\n",
    "current = PauliTable.from_labels(['I', 'X'])\n",
    "other =  PauliTable.from_labels(['Y', 'Z'])\n",
    "print(current.expand(other))"
   ]
  },
  {
   "cell_type": "code",
   "execution_count": 4,
   "id": "lovely-revolution",
   "metadata": {
    "execution": {
     "iopub.execute_input": "2021-03-29T10:44:00.659292Z",
     "iopub.status.busy": "2021-03-29T10:44:00.658726Z",
     "iopub.status.idle": "2021-03-29T10:44:00.661520Z",
     "shell.execute_reply": "2021-03-29T10:44:00.661972Z"
    }
   },
   "outputs": [
    {
     "name": "stdout",
     "output_type": "stream",
     "text": [
      "Initial Ordering\n",
      "PauliTable: ['YY', 'XY', 'ZZ', 'ZY', 'IZ', 'IX', 'ZX', 'IY', 'II', 'ZI', 'XZ', 'XI', 'YX', 'YZ', 'XX', 'YI']\n",
      "Lexicographically sorted\n",
      "PauliTable: ['II', 'IX', 'IY', 'IZ', 'XI', 'XX', 'XY', 'XZ', 'YI', 'YX', 'YY', 'YZ', 'ZI', 'ZX', 'ZY', 'ZZ']\n",
      "Weight sorted\n",
      "PauliTable: ['II', 'IX', 'IY', 'IZ', 'XI', 'YI', 'ZI', 'XX', 'XY', 'XZ', 'YX', 'YY', 'YZ', 'ZX', 'ZY', 'ZZ']\n"
     ]
    }
   ],
   "source": [
    "from numpy.random import shuffle\n",
    "from qiskit.quantum_info.operators import PauliTable\n",
    "\n",
    "# 2-qubit labels\n",
    "labels = ['II', 'IX', 'IY', 'IZ', 'XI', 'XX', 'XY', 'XZ',\n",
    "          'YI', 'YX', 'YY', 'YZ', 'ZI', 'ZX', 'ZY', 'ZZ']\n",
    "# Shuffle Labels\n",
    "shuffle(labels)\n",
    "pt = PauliTable.from_labels(labels)\n",
    "print('Initial Ordering')\n",
    "print(pt)\n",
    "\n",
    "# Lexicographic Ordering\n",
    "srt = pt.sort()\n",
    "print('Lexicographically sorted')\n",
    "print(srt)\n",
    "\n",
    "# Weight Ordering\n",
    "srt = pt.sort(weight=True)\n",
    "print('Weight sorted')\n",
    "print(srt)"
   ]
  },
  {
   "cell_type": "code",
   "execution_count": 5,
   "id": "fleet-underwear",
   "metadata": {
    "execution": {
     "iopub.execute_input": "2021-03-29T10:44:00.667405Z",
     "iopub.status.busy": "2021-03-29T10:44:00.666245Z",
     "iopub.status.idle": "2021-03-29T10:44:00.669143Z",
     "shell.execute_reply": "2021-03-29T10:44:00.668703Z"
    }
   },
   "outputs": [
    {
     "name": "stdout",
     "output_type": "stream",
     "text": [
      "PauliTable: ['IY', 'IZ', 'XY', 'XZ']\n"
     ]
    }
   ],
   "source": [
    "from qiskit.quantum_info.operators import PauliTable\n",
    "\n",
    "current = PauliTable.from_labels(['I', 'X'])\n",
    "other =  PauliTable.from_labels(['Y', 'Z'])\n",
    "print(current.tensor(other))"
   ]
  },
  {
   "cell_type": "code",
   "execution_count": 6,
   "id": "dominican-banking",
   "metadata": {
    "execution": {
     "iopub.execute_input": "2021-03-29T10:44:00.674311Z",
     "iopub.status.busy": "2021-03-29T10:44:00.673794Z",
     "iopub.status.idle": "2021-03-29T10:44:00.676868Z",
     "shell.execute_reply": "2021-03-29T10:44:00.677284Z"
    }
   },
   "outputs": [
    {
     "name": "stdout",
     "output_type": "stream",
     "text": [
      "PauliTable: ['X', 'Y', 'I', 'Z']\n"
     ]
    }
   ],
   "source": [
    "from qiskit.quantum_info.operators import PauliTable\n",
    "\n",
    "pt = PauliTable.from_labels(['X', 'Y', 'X', 'I', 'I', 'Z', 'X', 'Z'])\n",
    "unique = pt.unique()\n",
    "print(unique)"
   ]
  }
 ],
 "metadata": {
  "kernelspec": {
   "display_name": "Python 3",
   "language": "python",
   "name": "python3"
  },
  "language_info": {
   "codemirror_mode": {
    "name": "ipython",
    "version": 3
   },
   "file_extension": ".py",
   "mimetype": "text/x-python",
   "name": "python",
   "nbconvert_exporter": "python",
   "pygments_lexer": "ipython3",
   "version": "3.8.8"
  }
 },
 "nbformat": 4,
 "nbformat_minor": 5
}