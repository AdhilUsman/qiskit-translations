{
 "cells": [
  {
   "cell_type": "code",
   "execution_count": 1,
   "id": "66112acd",
   "metadata": {
    "execution": {
     "iopub.execute_input": "2021-04-09T12:53:32.315086Z",
     "iopub.status.busy": "2021-04-09T12:53:32.313994Z",
     "iopub.status.idle": "2021-04-09T12:53:33.016161Z",
     "shell.execute_reply": "2021-04-09T12:53:33.016686Z"
    }
   },
   "outputs": [
    {
     "name": "stdout",
     "output_type": "stream",
     "text": [
      "PauliTable: ['Y', 'Z', 'Z', 'Y']\n"
     ]
    }
   ],
   "source": [
    "from qiskit.quantum_info.operators import PauliTable\n",
    "\n",
    "current = PauliTable.from_labels(['I', 'X'])\n",
    "other =  PauliTable.from_labels(['Y', 'Z'])\n",
    "print(current.compose(other))"
   ]
  },
  {
   "cell_type": "code",
   "execution_count": 2,
   "id": "fef73ad9",
   "metadata": {
    "execution": {
     "iopub.execute_input": "2021-04-09T12:53:33.023270Z",
     "iopub.status.busy": "2021-04-09T12:53:33.021821Z",
     "iopub.status.idle": "2021-04-09T12:53:33.025185Z",
     "shell.execute_reply": "2021-04-09T12:53:33.024654Z"
    }
   },
   "outputs": [
    {
     "name": "stdout",
     "output_type": "stream",
     "text": [
      "PauliTable: ['Y', 'Z', 'Z', 'Y']\n"
     ]
    }
   ],
   "source": [
    "from qiskit.quantum_info.operators import PauliTable\n",
    "\n",
    "current = PauliTable.from_labels(['I', 'X'])\n",
    "other =  PauliTable.from_labels(['Y', 'Z'])\n",
    "print(current.dot(other))"
   ]
  },
  {
   "cell_type": "code",
   "execution_count": 3,
   "id": "bd87dc39",
   "metadata": {
    "execution": {
     "iopub.execute_input": "2021-04-09T12:53:33.032168Z",
     "iopub.status.busy": "2021-04-09T12:53:33.030733Z",
     "iopub.status.idle": "2021-04-09T12:53:33.034015Z",
     "shell.execute_reply": "2021-04-09T12:53:33.033503Z"
    }
   },
   "outputs": [
    {
     "name": "stdout",
     "output_type": "stream",
     "text": [
      "PauliTable: ['YI', 'YX', 'ZI', 'ZX']\n"
     ]
    }
   ],
   "source": [
    "from qiskit.quantum_info.operators import PauliTable\n",
    "\n",
    "current = PauliTable.from_labels(['I', 'X'])\n",
    "other =  PauliTable.from_labels(['Y', 'Z'])\n",
    "print(current.expand(other))"
   ]
  },
  {
   "cell_type": "code",
   "execution_count": 4,
   "id": "3f31a821",
   "metadata": {
    "execution": {
     "iopub.execute_input": "2021-04-09T12:53:33.041438Z",
     "iopub.status.busy": "2021-04-09T12:53:33.038970Z",
     "iopub.status.idle": "2021-04-09T12:53:33.044134Z",
     "shell.execute_reply": "2021-04-09T12:53:33.043622Z"
    }
   },
   "outputs": [
    {
     "name": "stdout",
     "output_type": "stream",
     "text": [
      "Initial Ordering\n",
      "PauliTable: ['XI', 'YY', 'IZ', 'XZ', 'IX', 'IY', 'ZZ', 'YZ', 'XX', 'ZX', 'ZI', 'XY', 'YI', 'YX', 'ZY', 'II']\n",
      "Lexicographically sorted\n",
      "PauliTable: ['II', 'IX', 'IY', 'IZ', 'XI', 'XX', 'XY', 'XZ', 'YI', 'YX', 'YY', 'YZ', 'ZI', 'ZX', 'ZY', 'ZZ']\n",
      "Weight sorted\n",
      "PauliTable: ['II', 'IX', 'IY', 'IZ', 'XI', 'YI', 'ZI', 'XX', 'XY', 'XZ', 'YX', 'YY', 'YZ', 'ZX', 'ZY', 'ZZ']\n"
     ]
    }
   ],
   "source": [
    "from numpy.random import shuffle\n",
    "from qiskit.quantum_info.operators import PauliTable\n",
    "\n",
    "# 2-qubit labels\n",
    "labels = ['II', 'IX', 'IY', 'IZ', 'XI', 'XX', 'XY', 'XZ',\n",
    "          'YI', 'YX', 'YY', 'YZ', 'ZI', 'ZX', 'ZY', 'ZZ']\n",
    "# Shuffle Labels\n",
    "shuffle(labels)\n",
    "pt = PauliTable.from_labels(labels)\n",
    "print('Initial Ordering')\n",
    "print(pt)\n",
    "\n",
    "# Lexicographic Ordering\n",
    "srt = pt.sort()\n",
    "print('Lexicographically sorted')\n",
    "print(srt)\n",
    "\n",
    "# Weight Ordering\n",
    "srt = pt.sort(weight=True)\n",
    "print('Weight sorted')\n",
    "print(srt)"
   ]
  },
  {
   "cell_type": "code",
   "execution_count": 5,
   "id": "ee2c9c23",
   "metadata": {
    "execution": {
     "iopub.execute_input": "2021-04-09T12:53:33.050311Z",
     "iopub.status.busy": "2021-04-09T12:53:33.048855Z",
     "iopub.status.idle": "2021-04-09T12:53:33.052220Z",
     "shell.execute_reply": "2021-04-09T12:53:33.051699Z"
    }
   },
   "outputs": [
    {
     "name": "stdout",
     "output_type": "stream",
     "text": [
      "PauliTable: ['IY', 'IZ', 'XY', 'XZ']\n"
     ]
    }
   ],
   "source": [
    "from qiskit.quantum_info.operators import PauliTable\n",
    "\n",
    "current = PauliTable.from_labels(['I', 'X'])\n",
    "other =  PauliTable.from_labels(['Y', 'Z'])\n",
    "print(current.tensor(other))"
   ]
  },
  {
   "cell_type": "code",
   "execution_count": 6,
   "id": "307fca22",
   "metadata": {
    "execution": {
     "iopub.execute_input": "2021-04-09T12:53:33.058439Z",
     "iopub.status.busy": "2021-04-09T12:53:33.056998Z",
     "iopub.status.idle": "2021-04-09T12:53:33.060330Z",
     "shell.execute_reply": "2021-04-09T12:53:33.059799Z"
    }
   },
   "outputs": [
    {
     "name": "stdout",
     "output_type": "stream",
     "text": [
      "PauliTable: ['X', 'Y', 'I', 'Z']\n"
     ]
    }
   ],
   "source": [
    "from qiskit.quantum_info.operators import PauliTable\n",
    "\n",
    "pt = PauliTable.from_labels(['X', 'Y', 'X', 'I', 'I', 'Z', 'X', 'Z'])\n",
    "unique = pt.unique()\n",
    "print(unique)"
   ]
  }
 ],
 "metadata": {
  "kernelspec": {
   "display_name": "Python 3",
   "language": "python",
   "name": "python3"
  },
  "language_info": {
   "codemirror_mode": {
    "name": "ipython",
    "version": 3
   },
   "file_extension": ".py",
   "mimetype": "text/x-python",
   "name": "python",
   "nbconvert_exporter": "python",
   "pygments_lexer": "ipython3",
   "version": "3.8.8"
  }
 },
 "nbformat": 4,
 "nbformat_minor": 5
}