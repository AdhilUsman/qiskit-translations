{
 "cells": [
  {
   "cell_type": "code",
   "execution_count": 1,
   "id": "81f2cd51",
   "metadata": {
    "execution": {
     "iopub.execute_input": "2021-04-20T05:15:59.542544Z",
     "iopub.status.busy": "2021-04-20T05:15:59.542031Z",
     "iopub.status.idle": "2021-04-20T05:16:00.280786Z",
     "shell.execute_reply": "2021-04-20T05:16:00.281260Z"
    }
   },
   "outputs": [
    {
     "name": "stdout",
     "output_type": "stream",
     "text": [
      "PauliTable: ['Y', 'Z', 'Z', 'Y']\n"
     ]
    }
   ],
   "source": [
    "from qiskit.quantum_info.operators import PauliTable\n",
    "\n",
    "current = PauliTable.from_labels(['I', 'X'])\n",
    "other =  PauliTable.from_labels(['Y', 'Z'])\n",
    "print(current.compose(other))"
   ]
  },
  {
   "cell_type": "code",
   "execution_count": 2,
   "id": "b812f2cc",
   "metadata": {
    "execution": {
     "iopub.execute_input": "2021-04-20T05:16:00.291278Z",
     "iopub.status.busy": "2021-04-20T05:16:00.290061Z",
     "iopub.status.idle": "2021-04-20T05:16:00.293120Z",
     "shell.execute_reply": "2021-04-20T05:16:00.291832Z"
    }
   },
   "outputs": [
    {
     "name": "stdout",
     "output_type": "stream",
     "text": [
      "PauliTable: ['Y', 'Z', 'Z', 'Y']\n"
     ]
    }
   ],
   "source": [
    "from qiskit.quantum_info.operators import PauliTable\n",
    "\n",
    "current = PauliTable.from_labels(['I', 'X'])\n",
    "other =  PauliTable.from_labels(['Y', 'Z'])\n",
    "print(current.dot(other))"
   ]
  },
  {
   "cell_type": "code",
   "execution_count": 3,
   "id": "fedb457c",
   "metadata": {
    "execution": {
     "iopub.execute_input": "2021-04-20T05:16:00.299678Z",
     "iopub.status.busy": "2021-04-20T05:16:00.298409Z",
     "iopub.status.idle": "2021-04-20T05:16:00.301545Z",
     "shell.execute_reply": "2021-04-20T05:16:00.301069Z"
    }
   },
   "outputs": [
    {
     "name": "stdout",
     "output_type": "stream",
     "text": [
      "PauliTable: ['YI', 'YX', 'ZI', 'ZX']\n"
     ]
    }
   ],
   "source": [
    "from qiskit.quantum_info.operators import PauliTable\n",
    "\n",
    "current = PauliTable.from_labels(['I', 'X'])\n",
    "other =  PauliTable.from_labels(['Y', 'Z'])\n",
    "print(current.expand(other))"
   ]
  },
  {
   "cell_type": "code",
   "execution_count": 4,
   "id": "ed6bea8d",
   "metadata": {
    "execution": {
     "iopub.execute_input": "2021-04-20T05:16:00.308458Z",
     "iopub.status.busy": "2021-04-20T05:16:00.306530Z",
     "iopub.status.idle": "2021-04-20T05:16:00.311017Z",
     "shell.execute_reply": "2021-04-20T05:16:00.310566Z"
    }
   },
   "outputs": [
    {
     "name": "stdout",
     "output_type": "stream",
     "text": [
      "Initial Ordering\n",
      "PauliTable: ['YI', 'XY', 'ZZ', 'IY', 'IX', 'YY', 'ZX', 'IZ', 'XX', 'ZI', 'ZY', 'XZ', 'YX', 'II', 'XI', 'YZ']\n",
      "Lexicographically sorted\n",
      "PauliTable: ['II', 'IX', 'IY', 'IZ', 'XI', 'XX', 'XY', 'XZ', 'YI', 'YX', 'YY', 'YZ', 'ZI', 'ZX', 'ZY', 'ZZ']\n",
      "Weight sorted\n",
      "PauliTable: ['II', 'IX', 'IY', 'IZ', 'XI', 'YI', 'ZI', 'XX', 'XY', 'XZ', 'YX', 'YY', 'YZ', 'ZX', 'ZY', 'ZZ']\n"
     ]
    }
   ],
   "source": [
    "from numpy.random import shuffle\n",
    "from qiskit.quantum_info.operators import PauliTable\n",
    "\n",
    "# 2-qubit labels\n",
    "labels = ['II', 'IX', 'IY', 'IZ', 'XI', 'XX', 'XY', 'XZ',\n",
    "          'YI', 'YX', 'YY', 'YZ', 'ZI', 'ZX', 'ZY', 'ZZ']\n",
    "# Shuffle Labels\n",
    "shuffle(labels)\n",
    "pt = PauliTable.from_labels(labels)\n",
    "print('Initial Ordering')\n",
    "print(pt)\n",
    "\n",
    "# Lexicographic Ordering\n",
    "srt = pt.sort()\n",
    "print('Lexicographically sorted')\n",
    "print(srt)\n",
    "\n",
    "# Weight Ordering\n",
    "srt = pt.sort(weight=True)\n",
    "print('Weight sorted')\n",
    "print(srt)"
   ]
  },
  {
   "cell_type": "code",
   "execution_count": 5,
   "id": "d371b43d",
   "metadata": {
    "execution": {
     "iopub.execute_input": "2021-04-20T05:16:00.318864Z",
     "iopub.status.busy": "2021-04-20T05:16:00.317414Z",
     "iopub.status.idle": "2021-04-20T05:16:00.321505Z",
     "shell.execute_reply": "2021-04-20T05:16:00.321015Z"
    }
   },
   "outputs": [
    {
     "name": "stdout",
     "output_type": "stream",
     "text": [
      "PauliTable: ['IY', 'IZ', 'XY', 'XZ']\n"
     ]
    }
   ],
   "source": [
    "from qiskit.quantum_info.operators import PauliTable\n",
    "\n",
    "current = PauliTable.from_labels(['I', 'X'])\n",
    "other =  PauliTable.from_labels(['Y', 'Z'])\n",
    "print(current.tensor(other))"
   ]
  },
  {
   "cell_type": "code",
   "execution_count": 6,
   "id": "cf791c69",
   "metadata": {
    "execution": {
     "iopub.execute_input": "2021-04-20T05:16:00.328756Z",
     "iopub.status.busy": "2021-04-20T05:16:00.327777Z",
     "iopub.status.idle": "2021-04-20T05:16:00.330426Z",
     "shell.execute_reply": "2021-04-20T05:16:00.330989Z"
    }
   },
   "outputs": [
    {
     "name": "stdout",
     "output_type": "stream",
     "text": [
      "PauliTable: ['X', 'Y', 'I', 'Z']\n"
     ]
    }
   ],
   "source": [
    "from qiskit.quantum_info.operators import PauliTable\n",
    "\n",
    "pt = PauliTable.from_labels(['X', 'Y', 'X', 'I', 'I', 'Z', 'X', 'Z'])\n",
    "unique = pt.unique()\n",
    "print(unique)"
   ]
  }
 ],
 "metadata": {
  "kernelspec": {
   "display_name": "Python 3",
   "language": "python",
   "name": "python3"
  },
  "language_info": {
   "codemirror_mode": {
    "name": "ipython",
    "version": 3
   },
   "file_extension": ".py",
   "mimetype": "text/x-python",
   "name": "python",
   "nbconvert_exporter": "python",
   "pygments_lexer": "ipython3",
   "version": "3.8.9"
  }
 },
 "nbformat": 4,
 "nbformat_minor": 5
}