{
 "cells": [
  {
   "cell_type": "code",
   "execution_count": 1,
   "id": "c1cf230f",
   "metadata": {
    "execution": {
     "iopub.execute_input": "2021-04-07T10:10:22.370574Z",
     "iopub.status.busy": "2021-04-07T10:10:22.370080Z",
     "iopub.status.idle": "2021-04-07T10:10:23.024985Z",
     "shell.execute_reply": "2021-04-07T10:10:23.025462Z"
    }
   },
   "outputs": [
    {
     "name": "stdout",
     "output_type": "stream",
     "text": [
      "PauliTable: ['Y', 'Z', 'Z', 'Y']\n"
     ]
    }
   ],
   "source": [
    "from qiskit.quantum_info.operators import PauliTable\n",
    "\n",
    "current = PauliTable.from_labels(['I', 'X'])\n",
    "other =  PauliTable.from_labels(['Y', 'Z'])\n",
    "print(current.compose(other))"
   ]
  },
  {
   "cell_type": "code",
   "execution_count": 2,
   "id": "40cf58da",
   "metadata": {
    "execution": {
     "iopub.execute_input": "2021-04-07T10:10:23.031249Z",
     "iopub.status.busy": "2021-04-07T10:10:23.030680Z",
     "iopub.status.idle": "2021-04-07T10:10:23.033551Z",
     "shell.execute_reply": "2021-04-07T10:10:23.033965Z"
    }
   },
   "outputs": [
    {
     "name": "stdout",
     "output_type": "stream",
     "text": [
      "PauliTable: ['Y', 'Z', 'Z', 'Y']\n"
     ]
    }
   ],
   "source": [
    "from qiskit.quantum_info.operators import PauliTable\n",
    "\n",
    "current = PauliTable.from_labels(['I', 'X'])\n",
    "other =  PauliTable.from_labels(['Y', 'Z'])\n",
    "print(current.dot(other))"
   ]
  },
  {
   "cell_type": "code",
   "execution_count": 3,
   "id": "8fb860ea",
   "metadata": {
    "execution": {
     "iopub.execute_input": "2021-04-07T10:10:23.039891Z",
     "iopub.status.busy": "2021-04-07T10:10:23.038665Z",
     "iopub.status.idle": "2021-04-07T10:10:23.041814Z",
     "shell.execute_reply": "2021-04-07T10:10:23.041322Z"
    }
   },
   "outputs": [
    {
     "name": "stdout",
     "output_type": "stream",
     "text": [
      "PauliTable: ['YI', 'YX', 'ZI', 'ZX']\n"
     ]
    }
   ],
   "source": [
    "from qiskit.quantum_info.operators import PauliTable\n",
    "\n",
    "current = PauliTable.from_labels(['I', 'X'])\n",
    "other =  PauliTable.from_labels(['Y', 'Z'])\n",
    "print(current.expand(other))"
   ]
  },
  {
   "cell_type": "code",
   "execution_count": 4,
   "id": "55c85212",
   "metadata": {
    "execution": {
     "iopub.execute_input": "2021-04-07T10:10:23.049304Z",
     "iopub.status.busy": "2021-04-07T10:10:23.048619Z",
     "iopub.status.idle": "2021-04-07T10:10:23.051340Z",
     "shell.execute_reply": "2021-04-07T10:10:23.051776Z"
    }
   },
   "outputs": [
    {
     "name": "stdout",
     "output_type": "stream",
     "text": [
      "Initial Ordering\n",
      "PauliTable: ['YX', 'XX', 'XZ', 'ZX', 'XY', 'YY', 'XI', 'YZ', 'IX', 'IZ', 'ZI', 'IY', 'II', 'ZY', 'ZZ', 'YI']\n",
      "Lexicographically sorted\n",
      "PauliTable: ['II', 'IX', 'IY', 'IZ', 'XI', 'XX', 'XY', 'XZ', 'YI', 'YX', 'YY', 'YZ', 'ZI', 'ZX', 'ZY', 'ZZ']\n",
      "Weight sorted\n",
      "PauliTable: ['II', 'IX', 'IY', 'IZ', 'XI', 'YI', 'ZI', 'XX', 'XY', 'XZ', 'YX', 'YY', 'YZ', 'ZX', 'ZY', 'ZZ']\n"
     ]
    }
   ],
   "source": [
    "from numpy.random import shuffle\n",
    "from qiskit.quantum_info.operators import PauliTable\n",
    "\n",
    "# 2-qubit labels\n",
    "labels = ['II', 'IX', 'IY', 'IZ', 'XI', 'XX', 'XY', 'XZ',\n",
    "          'YI', 'YX', 'YY', 'YZ', 'ZI', 'ZX', 'ZY', 'ZZ']\n",
    "# Shuffle Labels\n",
    "shuffle(labels)\n",
    "pt = PauliTable.from_labels(labels)\n",
    "print('Initial Ordering')\n",
    "print(pt)\n",
    "\n",
    "# Lexicographic Ordering\n",
    "srt = pt.sort()\n",
    "print('Lexicographically sorted')\n",
    "print(srt)\n",
    "\n",
    "# Weight Ordering\n",
    "srt = pt.sort(weight=True)\n",
    "print('Weight sorted')\n",
    "print(srt)"
   ]
  },
  {
   "cell_type": "code",
   "execution_count": 5,
   "id": "9b5aa7cf",
   "metadata": {
    "execution": {
     "iopub.execute_input": "2021-04-07T10:10:23.057868Z",
     "iopub.status.busy": "2021-04-07T10:10:23.056482Z",
     "iopub.status.idle": "2021-04-07T10:10:23.060140Z",
     "shell.execute_reply": "2021-04-07T10:10:23.059265Z"
    }
   },
   "outputs": [
    {
     "name": "stdout",
     "output_type": "stream",
     "text": [
      "PauliTable: ['IY', 'IZ', 'XY', 'XZ']\n"
     ]
    }
   ],
   "source": [
    "from qiskit.quantum_info.operators import PauliTable\n",
    "\n",
    "current = PauliTable.from_labels(['I', 'X'])\n",
    "other =  PauliTable.from_labels(['Y', 'Z'])\n",
    "print(current.tensor(other))"
   ]
  },
  {
   "cell_type": "code",
   "execution_count": 6,
   "id": "260845c4",
   "metadata": {
    "execution": {
     "iopub.execute_input": "2021-04-07T10:10:23.065683Z",
     "iopub.status.busy": "2021-04-07T10:10:23.065076Z",
     "iopub.status.idle": "2021-04-07T10:10:23.070024Z",
     "shell.execute_reply": "2021-04-07T10:10:23.069435Z"
    }
   },
   "outputs": [
    {
     "name": "stdout",
     "output_type": "stream",
     "text": [
      "PauliTable: ['X', 'Y', 'I', 'Z']\n"
     ]
    }
   ],
   "source": [
    "from qiskit.quantum_info.operators import PauliTable\n",
    "\n",
    "pt = PauliTable.from_labels(['X', 'Y', 'X', 'I', 'I', 'Z', 'X', 'Z'])\n",
    "unique = pt.unique()\n",
    "print(unique)"
   ]
  }
 ],
 "metadata": {
  "kernelspec": {
   "display_name": "Python 3",
   "language": "python",
   "name": "python3"
  },
  "language_info": {
   "codemirror_mode": {
    "name": "ipython",
    "version": 3
   },
   "file_extension": ".py",
   "mimetype": "text/x-python",
   "name": "python",
   "nbconvert_exporter": "python",
   "pygments_lexer": "ipython3",
   "version": "3.8.8"
  }
 },
 "nbformat": 4,
 "nbformat_minor": 5
}