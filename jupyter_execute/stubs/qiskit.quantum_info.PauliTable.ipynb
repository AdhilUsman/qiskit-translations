{
 "cells": [
  {
   "cell_type": "code",
   "execution_count": 1,
   "id": "3402009d",
   "metadata": {
    "execution": {
     "iopub.execute_input": "2021-04-03T20:46:37.650590Z",
     "iopub.status.busy": "2021-04-03T20:46:37.650077Z",
     "iopub.status.idle": "2021-04-03T20:46:38.361040Z",
     "shell.execute_reply": "2021-04-03T20:46:38.360505Z"
    }
   },
   "outputs": [
    {
     "name": "stdout",
     "output_type": "stream",
     "text": [
      "PauliTable: ['Y', 'Z', 'Z', 'Y']\n"
     ]
    }
   ],
   "source": [
    "from qiskit.quantum_info.operators import PauliTable\n",
    "\n",
    "current = PauliTable.from_labels(['I', 'X'])\n",
    "other =  PauliTable.from_labels(['Y', 'Z'])\n",
    "print(current.compose(other))"
   ]
  },
  {
   "cell_type": "code",
   "execution_count": 2,
   "id": "5c58a6d1",
   "metadata": {
    "execution": {
     "iopub.execute_input": "2021-04-03T20:46:38.367419Z",
     "iopub.status.busy": "2021-04-03T20:46:38.366595Z",
     "iopub.status.idle": "2021-04-03T20:46:38.369285Z",
     "shell.execute_reply": "2021-04-03T20:46:38.369706Z"
    }
   },
   "outputs": [
    {
     "name": "stdout",
     "output_type": "stream",
     "text": [
      "PauliTable: ['Y', 'Z', 'Z', 'Y']\n"
     ]
    }
   ],
   "source": [
    "from qiskit.quantum_info.operators import PauliTable\n",
    "\n",
    "current = PauliTable.from_labels(['I', 'X'])\n",
    "other =  PauliTable.from_labels(['Y', 'Z'])\n",
    "print(current.dot(other))"
   ]
  },
  {
   "cell_type": "code",
   "execution_count": 3,
   "id": "25b55053",
   "metadata": {
    "execution": {
     "iopub.execute_input": "2021-04-03T20:46:38.375228Z",
     "iopub.status.busy": "2021-04-03T20:46:38.374301Z",
     "iopub.status.idle": "2021-04-03T20:46:38.377492Z",
     "shell.execute_reply": "2021-04-03T20:46:38.377036Z"
    }
   },
   "outputs": [
    {
     "name": "stdout",
     "output_type": "stream",
     "text": [
      "PauliTable: ['YI', 'YX', 'ZI', 'ZX']\n"
     ]
    }
   ],
   "source": [
    "from qiskit.quantum_info.operators import PauliTable\n",
    "\n",
    "current = PauliTable.from_labels(['I', 'X'])\n",
    "other =  PauliTable.from_labels(['Y', 'Z'])\n",
    "print(current.expand(other))"
   ]
  },
  {
   "cell_type": "code",
   "execution_count": 4,
   "id": "abd881b9",
   "metadata": {
    "execution": {
     "iopub.execute_input": "2021-04-03T20:46:38.384451Z",
     "iopub.status.busy": "2021-04-03T20:46:38.382433Z",
     "iopub.status.idle": "2021-04-03T20:46:38.386945Z",
     "shell.execute_reply": "2021-04-03T20:46:38.386508Z"
    }
   },
   "outputs": [
    {
     "name": "stdout",
     "output_type": "stream",
     "text": [
      "Initial Ordering\n",
      "PauliTable: ['XI', 'YY', 'II', 'XX', 'XZ', 'YX', 'IZ', 'XY', 'YI', 'YZ', 'ZX', 'ZI', 'IX', 'IY', 'ZY', 'ZZ']\n",
      "Lexicographically sorted\n",
      "PauliTable: ['II', 'IX', 'IY', 'IZ', 'XI', 'XX', 'XY', 'XZ', 'YI', 'YX', 'YY', 'YZ', 'ZI', 'ZX', 'ZY', 'ZZ']\n",
      "Weight sorted\n",
      "PauliTable: ['II', 'IX', 'IY', 'IZ', 'XI', 'YI', 'ZI', 'XX', 'XY', 'XZ', 'YX', 'YY', 'YZ', 'ZX', 'ZY', 'ZZ']\n"
     ]
    }
   ],
   "source": [
    "from numpy.random import shuffle\n",
    "from qiskit.quantum_info.operators import PauliTable\n",
    "\n",
    "# 2-qubit labels\n",
    "labels = ['II', 'IX', 'IY', 'IZ', 'XI', 'XX', 'XY', 'XZ',\n",
    "          'YI', 'YX', 'YY', 'YZ', 'ZI', 'ZX', 'ZY', 'ZZ']\n",
    "# Shuffle Labels\n",
    "shuffle(labels)\n",
    "pt = PauliTable.from_labels(labels)\n",
    "print('Initial Ordering')\n",
    "print(pt)\n",
    "\n",
    "# Lexicographic Ordering\n",
    "srt = pt.sort()\n",
    "print('Lexicographically sorted')\n",
    "print(srt)\n",
    "\n",
    "# Weight Ordering\n",
    "srt = pt.sort(weight=True)\n",
    "print('Weight sorted')\n",
    "print(srt)"
   ]
  },
  {
   "cell_type": "code",
   "execution_count": 5,
   "id": "285fe176",
   "metadata": {
    "execution": {
     "iopub.execute_input": "2021-04-03T20:46:38.392413Z",
     "iopub.status.busy": "2021-04-03T20:46:38.391156Z",
     "iopub.status.idle": "2021-04-03T20:46:38.394288Z",
     "shell.execute_reply": "2021-04-03T20:46:38.393822Z"
    }
   },
   "outputs": [
    {
     "name": "stdout",
     "output_type": "stream",
     "text": [
      "PauliTable: ['IY', 'IZ', 'XY', 'XZ']\n"
     ]
    }
   ],
   "source": [
    "from qiskit.quantum_info.operators import PauliTable\n",
    "\n",
    "current = PauliTable.from_labels(['I', 'X'])\n",
    "other =  PauliTable.from_labels(['Y', 'Z'])\n",
    "print(current.tensor(other))"
   ]
  },
  {
   "cell_type": "code",
   "execution_count": 6,
   "id": "7c9d05a2",
   "metadata": {
    "execution": {
     "iopub.execute_input": "2021-04-03T20:46:38.400275Z",
     "iopub.status.busy": "2021-04-03T20:46:38.399000Z",
     "iopub.status.idle": "2021-04-03T20:46:38.401974Z",
     "shell.execute_reply": "2021-04-03T20:46:38.401523Z"
    }
   },
   "outputs": [
    {
     "name": "stdout",
     "output_type": "stream",
     "text": [
      "PauliTable: ['X', 'Y', 'I', 'Z']\n"
     ]
    }
   ],
   "source": [
    "from qiskit.quantum_info.operators import PauliTable\n",
    "\n",
    "pt = PauliTable.from_labels(['X', 'Y', 'X', 'I', 'I', 'Z', 'X', 'Z'])\n",
    "unique = pt.unique()\n",
    "print(unique)"
   ]
  }
 ],
 "metadata": {
  "kernelspec": {
   "display_name": "Python 3",
   "language": "python",
   "name": "python3"
  },
  "language_info": {
   "codemirror_mode": {
    "name": "ipython",
    "version": 3
   },
   "file_extension": ".py",
   "mimetype": "text/x-python",
   "name": "python",
   "nbconvert_exporter": "python",
   "pygments_lexer": "ipython3",
   "version": "3.8.8"
  }
 },
 "nbformat": 4,
 "nbformat_minor": 5
}