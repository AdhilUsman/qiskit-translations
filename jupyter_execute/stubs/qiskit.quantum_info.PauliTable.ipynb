{
 "cells": [
  {
   "cell_type": "code",
   "execution_count": 1,
   "id": "dd846707",
   "metadata": {
    "execution": {
     "iopub.execute_input": "2021-06-15T06:59:03.252186Z",
     "iopub.status.busy": "2021-06-15T06:59:03.251621Z",
     "iopub.status.idle": "2021-06-15T06:59:03.936542Z",
     "shell.execute_reply": "2021-06-15T06:59:03.935670Z"
    }
   },
   "outputs": [
    {
     "name": "stdout",
     "output_type": "stream",
     "text": [
      "PauliTable: ['Y', 'Z', 'Z', 'Y']\n"
     ]
    }
   ],
   "source": [
    "from qiskit.quantum_info.operators import PauliTable\n",
    "\n",
    "current = PauliTable.from_labels(['I', 'X'])\n",
    "other =  PauliTable.from_labels(['Y', 'Z'])\n",
    "print(current.compose(other))"
   ]
  },
  {
   "cell_type": "code",
   "execution_count": 2,
   "id": "3680f091",
   "metadata": {
    "execution": {
     "iopub.execute_input": "2021-06-15T06:59:03.941819Z",
     "iopub.status.busy": "2021-06-15T06:59:03.941314Z",
     "iopub.status.idle": "2021-06-15T06:59:03.945165Z",
     "shell.execute_reply": "2021-06-15T06:59:03.945568Z"
    }
   },
   "outputs": [
    {
     "name": "stdout",
     "output_type": "stream",
     "text": [
      "PauliTable: ['Y', 'Z', 'Z', 'Y']\n"
     ]
    }
   ],
   "source": [
    "from qiskit.quantum_info.operators import PauliTable\n",
    "\n",
    "current = PauliTable.from_labels(['I', 'X'])\n",
    "other =  PauliTable.from_labels(['Y', 'Z'])\n",
    "print(current.dot(other))"
   ]
  },
  {
   "cell_type": "code",
   "execution_count": 3,
   "id": "8d269ea9",
   "metadata": {
    "execution": {
     "iopub.execute_input": "2021-06-15T06:59:03.950295Z",
     "iopub.status.busy": "2021-06-15T06:59:03.949680Z",
     "iopub.status.idle": "2021-06-15T06:59:03.954030Z",
     "shell.execute_reply": "2021-06-15T06:59:03.953524Z"
    }
   },
   "outputs": [
    {
     "name": "stdout",
     "output_type": "stream",
     "text": [
      "PauliTable: ['YI', 'YX', 'ZI', 'ZX']\n"
     ]
    }
   ],
   "source": [
    "from qiskit.quantum_info.operators import PauliTable\n",
    "\n",
    "current = PauliTable.from_labels(['I', 'X'])\n",
    "other =  PauliTable.from_labels(['Y', 'Z'])\n",
    "print(current.expand(other))"
   ]
  },
  {
   "cell_type": "code",
   "execution_count": 4,
   "id": "0eacc569",
   "metadata": {
    "execution": {
     "iopub.execute_input": "2021-06-15T06:59:03.961868Z",
     "iopub.status.busy": "2021-06-15T06:59:03.958157Z",
     "iopub.status.idle": "2021-06-15T06:59:03.965729Z",
     "shell.execute_reply": "2021-06-15T06:59:03.966230Z"
    }
   },
   "outputs": [
    {
     "name": "stdout",
     "output_type": "stream",
     "text": [
      "Initial Ordering\n",
      "PauliTable: ['ZY', 'YY', 'XZ', 'II', 'XX', 'XI', 'ZX', 'IY', 'IX', 'ZZ', 'XY', 'YI', 'ZI', 'YZ', 'IZ', 'YX']\n",
      "Lexicographically sorted\n",
      "PauliTable: ['II', 'IX', 'IY', 'IZ', 'XI', 'XX', 'XY', 'XZ', 'YI', 'YX', 'YY', 'YZ', 'ZI', 'ZX', 'ZY', 'ZZ']\n",
      "Weight sorted\n",
      "PauliTable: ['II', 'IX', 'IY', 'IZ', 'XI', 'YI', 'ZI', 'XX', 'XY', 'XZ', 'YX', 'YY', 'YZ', 'ZX', 'ZY', 'ZZ']\n"
     ]
    }
   ],
   "source": [
    "from numpy.random import shuffle\n",
    "from qiskit.quantum_info.operators import PauliTable\n",
    "\n",
    "# 2-qubit labels\n",
    "labels = ['II', 'IX', 'IY', 'IZ', 'XI', 'XX', 'XY', 'XZ',\n",
    "          'YI', 'YX', 'YY', 'YZ', 'ZI', 'ZX', 'ZY', 'ZZ']\n",
    "# Shuffle Labels\n",
    "shuffle(labels)\n",
    "pt = PauliTable.from_labels(labels)\n",
    "print('Initial Ordering')\n",
    "print(pt)\n",
    "\n",
    "# Lexicographic Ordering\n",
    "srt = pt.sort()\n",
    "print('Lexicographically sorted')\n",
    "print(srt)\n",
    "\n",
    "# Weight Ordering\n",
    "srt = pt.sort(weight=True)\n",
    "print('Weight sorted')\n",
    "print(srt)"
   ]
  },
  {
   "cell_type": "code",
   "execution_count": 5,
   "id": "2e523a22",
   "metadata": {
    "execution": {
     "iopub.execute_input": "2021-06-15T06:59:03.971695Z",
     "iopub.status.busy": "2021-06-15T06:59:03.971145Z",
     "iopub.status.idle": "2021-06-15T06:59:03.975861Z",
     "shell.execute_reply": "2021-06-15T06:59:03.975291Z"
    }
   },
   "outputs": [
    {
     "name": "stdout",
     "output_type": "stream",
     "text": [
      "PauliTable: ['IY', 'IZ', 'XY', 'XZ']\n"
     ]
    }
   ],
   "source": [
    "from qiskit.quantum_info.operators import PauliTable\n",
    "\n",
    "current = PauliTable.from_labels(['I', 'X'])\n",
    "other =  PauliTable.from_labels(['Y', 'Z'])\n",
    "print(current.tensor(other))"
   ]
  },
  {
   "cell_type": "code",
   "execution_count": 6,
   "id": "95fbd1a9",
   "metadata": {
    "execution": {
     "iopub.execute_input": "2021-06-15T06:59:03.980850Z",
     "iopub.status.busy": "2021-06-15T06:59:03.980257Z",
     "iopub.status.idle": "2021-06-15T06:59:03.985472Z",
     "shell.execute_reply": "2021-06-15T06:59:03.984950Z"
    }
   },
   "outputs": [
    {
     "name": "stdout",
     "output_type": "stream",
     "text": [
      "PauliTable: ['X', 'Y', 'I', 'Z']\n"
     ]
    }
   ],
   "source": [
    "from qiskit.quantum_info.operators import PauliTable\n",
    "\n",
    "pt = PauliTable.from_labels(['X', 'Y', 'X', 'I', 'I', 'Z', 'X', 'Z'])\n",
    "unique = pt.unique()\n",
    "print(unique)"
   ]
  }
 ],
 "metadata": {
  "kernelspec": {
   "display_name": "Python 3",
   "language": "python",
   "name": "python3"
  },
  "language_info": {
   "codemirror_mode": {
    "name": "ipython",
    "version": 3
   },
   "file_extension": ".py",
   "mimetype": "text/x-python",
   "name": "python",
   "nbconvert_exporter": "python",
   "pygments_lexer": "ipython3",
   "version": "3.8.10"
  }
 },
 "nbformat": 4,
 "nbformat_minor": 5
}