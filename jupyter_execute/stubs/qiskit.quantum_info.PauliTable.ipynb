{
 "cells": [
  {
   "cell_type": "code",
   "execution_count": 1,
   "id": "697637e1",
   "metadata": {
    "execution": {
     "iopub.execute_input": "2021-04-05T07:03:29.050354Z",
     "iopub.status.busy": "2021-04-05T07:03:29.049768Z",
     "iopub.status.idle": "2021-04-05T07:03:29.777161Z",
     "shell.execute_reply": "2021-04-05T07:03:29.776475Z"
    }
   },
   "outputs": [
    {
     "name": "stdout",
     "output_type": "stream",
     "text": [
      "PauliTable: ['Y', 'Z', 'Z', 'Y']\n"
     ]
    }
   ],
   "source": [
    "from qiskit.quantum_info.operators import PauliTable\n",
    "\n",
    "current = PauliTable.from_labels(['I', 'X'])\n",
    "other =  PauliTable.from_labels(['Y', 'Z'])\n",
    "print(current.compose(other))"
   ]
  },
  {
   "cell_type": "code",
   "execution_count": 2,
   "id": "674e393c",
   "metadata": {
    "execution": {
     "iopub.execute_input": "2021-04-05T07:03:29.783552Z",
     "iopub.status.busy": "2021-04-05T07:03:29.782251Z",
     "iopub.status.idle": "2021-04-05T07:03:29.785651Z",
     "shell.execute_reply": "2021-04-05T07:03:29.785095Z"
    }
   },
   "outputs": [
    {
     "name": "stdout",
     "output_type": "stream",
     "text": [
      "PauliTable: ['Y', 'Z', 'Z', 'Y']\n"
     ]
    }
   ],
   "source": [
    "from qiskit.quantum_info.operators import PauliTable\n",
    "\n",
    "current = PauliTable.from_labels(['I', 'X'])\n",
    "other =  PauliTable.from_labels(['Y', 'Z'])\n",
    "print(current.dot(other))"
   ]
  },
  {
   "cell_type": "code",
   "execution_count": 3,
   "id": "5d90acc0",
   "metadata": {
    "execution": {
     "iopub.execute_input": "2021-04-05T07:03:29.792387Z",
     "iopub.status.busy": "2021-04-05T07:03:29.790963Z",
     "iopub.status.idle": "2021-04-05T07:03:29.794327Z",
     "shell.execute_reply": "2021-04-05T07:03:29.793818Z"
    }
   },
   "outputs": [
    {
     "name": "stdout",
     "output_type": "stream",
     "text": [
      "PauliTable: ['YI', 'YX', 'ZI', 'ZX']\n"
     ]
    }
   ],
   "source": [
    "from qiskit.quantum_info.operators import PauliTable\n",
    "\n",
    "current = PauliTable.from_labels(['I', 'X'])\n",
    "other =  PauliTable.from_labels(['Y', 'Z'])\n",
    "print(current.expand(other))"
   ]
  },
  {
   "cell_type": "code",
   "execution_count": 4,
   "id": "6e58f293",
   "metadata": {
    "execution": {
     "iopub.execute_input": "2021-04-05T07:03:29.801260Z",
     "iopub.status.busy": "2021-04-05T07:03:29.800135Z",
     "iopub.status.idle": "2021-04-05T07:03:29.805098Z",
     "shell.execute_reply": "2021-04-05T07:03:29.805547Z"
    }
   },
   "outputs": [
    {
     "name": "stdout",
     "output_type": "stream",
     "text": [
      "Initial Ordering\n",
      "PauliTable: ['II', 'YY', 'XI', 'ZX', 'YZ', 'YI', 'XZ', 'YX', 'ZY', 'IY', 'ZI', 'ZZ', 'IX', 'XY', 'IZ', 'XX']\n",
      "Lexicographically sorted\n",
      "PauliTable: ['II', 'IX', 'IY', 'IZ', 'XI', 'XX', 'XY', 'XZ', 'YI', 'YX', 'YY', 'YZ', 'ZI', 'ZX', 'ZY', 'ZZ']\n",
      "Weight sorted\n",
      "PauliTable: ['II', 'IX', 'IY', 'IZ', 'XI', 'YI', 'ZI', 'XX', 'XY', 'XZ', 'YX', 'YY', 'YZ', 'ZX', 'ZY', 'ZZ']\n"
     ]
    }
   ],
   "source": [
    "from numpy.random import shuffle\n",
    "from qiskit.quantum_info.operators import PauliTable\n",
    "\n",
    "# 2-qubit labels\n",
    "labels = ['II', 'IX', 'IY', 'IZ', 'XI', 'XX', 'XY', 'XZ',\n",
    "          'YI', 'YX', 'YY', 'YZ', 'ZI', 'ZX', 'ZY', 'ZZ']\n",
    "# Shuffle Labels\n",
    "shuffle(labels)\n",
    "pt = PauliTable.from_labels(labels)\n",
    "print('Initial Ordering')\n",
    "print(pt)\n",
    "\n",
    "# Lexicographic Ordering\n",
    "srt = pt.sort()\n",
    "print('Lexicographically sorted')\n",
    "print(srt)\n",
    "\n",
    "# Weight Ordering\n",
    "srt = pt.sort(weight=True)\n",
    "print('Weight sorted')\n",
    "print(srt)"
   ]
  },
  {
   "cell_type": "code",
   "execution_count": 5,
   "id": "a6963c6e",
   "metadata": {
    "execution": {
     "iopub.execute_input": "2021-04-05T07:03:29.811214Z",
     "iopub.status.busy": "2021-04-05T07:03:29.810183Z",
     "iopub.status.idle": "2021-04-05T07:03:29.813597Z",
     "shell.execute_reply": "2021-04-05T07:03:29.813050Z"
    }
   },
   "outputs": [
    {
     "name": "stdout",
     "output_type": "stream",
     "text": [
      "PauliTable: ['IY', 'IZ', 'XY', 'XZ']\n"
     ]
    }
   ],
   "source": [
    "from qiskit.quantum_info.operators import PauliTable\n",
    "\n",
    "current = PauliTable.from_labels(['I', 'X'])\n",
    "other =  PauliTable.from_labels(['Y', 'Z'])\n",
    "print(current.tensor(other))"
   ]
  },
  {
   "cell_type": "code",
   "execution_count": 6,
   "id": "f4fb4aea",
   "metadata": {
    "execution": {
     "iopub.execute_input": "2021-04-05T07:03:29.820036Z",
     "iopub.status.busy": "2021-04-05T07:03:29.818408Z",
     "iopub.status.idle": "2021-04-05T07:03:29.821943Z",
     "shell.execute_reply": "2021-04-05T07:03:29.821419Z"
    }
   },
   "outputs": [
    {
     "name": "stdout",
     "output_type": "stream",
     "text": [
      "PauliTable: ['X', 'Y', 'I', 'Z']\n"
     ]
    }
   ],
   "source": [
    "from qiskit.quantum_info.operators import PauliTable\n",
    "\n",
    "pt = PauliTable.from_labels(['X', 'Y', 'X', 'I', 'I', 'Z', 'X', 'Z'])\n",
    "unique = pt.unique()\n",
    "print(unique)"
   ]
  }
 ],
 "metadata": {
  "kernelspec": {
   "display_name": "Python 3",
   "language": "python",
   "name": "python3"
  },
  "language_info": {
   "codemirror_mode": {
    "name": "ipython",
    "version": 3
   },
   "file_extension": ".py",
   "mimetype": "text/x-python",
   "name": "python",
   "nbconvert_exporter": "python",
   "pygments_lexer": "ipython3",
   "version": "3.8.8"
  }
 },
 "nbformat": 4,
 "nbformat_minor": 5
}