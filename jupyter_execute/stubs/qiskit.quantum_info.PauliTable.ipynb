{
 "cells": [
  {
   "cell_type": "code",
   "execution_count": 1,
   "id": "7e5e53c3",
   "metadata": {
    "execution": {
     "iopub.execute_input": "2021-04-05T11:37:21.340390Z",
     "iopub.status.busy": "2021-04-05T11:37:21.339822Z",
     "iopub.status.idle": "2021-04-05T11:37:21.952099Z",
     "shell.execute_reply": "2021-04-05T11:37:21.952549Z"
    }
   },
   "outputs": [
    {
     "name": "stdout",
     "output_type": "stream",
     "text": [
      "PauliTable: ['Y', 'Z', 'Z', 'Y']\n"
     ]
    }
   ],
   "source": [
    "from qiskit.quantum_info.operators import PauliTable\n",
    "\n",
    "current = PauliTable.from_labels(['I', 'X'])\n",
    "other =  PauliTable.from_labels(['Y', 'Z'])\n",
    "print(current.compose(other))"
   ]
  },
  {
   "cell_type": "code",
   "execution_count": 2,
   "id": "279fb587",
   "metadata": {
    "execution": {
     "iopub.execute_input": "2021-04-05T11:37:21.959341Z",
     "iopub.status.busy": "2021-04-05T11:37:21.957767Z",
     "iopub.status.idle": "2021-04-05T11:37:21.961214Z",
     "shell.execute_reply": "2021-04-05T11:37:21.960644Z"
    }
   },
   "outputs": [
    {
     "name": "stdout",
     "output_type": "stream",
     "text": [
      "PauliTable: ['Y', 'Z', 'Z', 'Y']\n"
     ]
    }
   ],
   "source": [
    "from qiskit.quantum_info.operators import PauliTable\n",
    "\n",
    "current = PauliTable.from_labels(['I', 'X'])\n",
    "other =  PauliTable.from_labels(['Y', 'Z'])\n",
    "print(current.dot(other))"
   ]
  },
  {
   "cell_type": "code",
   "execution_count": 3,
   "id": "436d1dc7",
   "metadata": {
    "execution": {
     "iopub.execute_input": "2021-04-05T11:37:21.967444Z",
     "iopub.status.busy": "2021-04-05T11:37:21.966106Z",
     "iopub.status.idle": "2021-04-05T11:37:21.969405Z",
     "shell.execute_reply": "2021-04-05T11:37:21.968752Z"
    }
   },
   "outputs": [
    {
     "name": "stdout",
     "output_type": "stream",
     "text": [
      "PauliTable: ['YI', 'YX', 'ZI', 'ZX']\n"
     ]
    }
   ],
   "source": [
    "from qiskit.quantum_info.operators import PauliTable\n",
    "\n",
    "current = PauliTable.from_labels(['I', 'X'])\n",
    "other =  PauliTable.from_labels(['Y', 'Z'])\n",
    "print(current.expand(other))"
   ]
  },
  {
   "cell_type": "code",
   "execution_count": 4,
   "id": "1ee419d3",
   "metadata": {
    "execution": {
     "iopub.execute_input": "2021-04-05T11:37:21.974770Z",
     "iopub.status.busy": "2021-04-05T11:37:21.973882Z",
     "iopub.status.idle": "2021-04-05T11:37:21.978922Z",
     "shell.execute_reply": "2021-04-05T11:37:21.978434Z"
    }
   },
   "outputs": [
    {
     "name": "stdout",
     "output_type": "stream",
     "text": [
      "Initial Ordering\n",
      "PauliTable: ['YX', 'YZ', 'XI', 'YI', 'IY', 'XY', 'IZ', 'II', 'IX', 'XZ', 'ZX', 'YY', 'ZY', 'ZZ', 'XX', 'ZI']\n",
      "Lexicographically sorted\n",
      "PauliTable: ['II', 'IX', 'IY', 'IZ', 'XI', 'XX', 'XY', 'XZ', 'YI', 'YX', 'YY', 'YZ', 'ZI', 'ZX', 'ZY', 'ZZ']\n",
      "Weight sorted\n",
      "PauliTable: ['II', 'IX', 'IY', 'IZ', 'XI', 'YI', 'ZI', 'XX', 'XY', 'XZ', 'YX', 'YY', 'YZ', 'ZX', 'ZY', 'ZZ']\n"
     ]
    }
   ],
   "source": [
    "from numpy.random import shuffle\n",
    "from qiskit.quantum_info.operators import PauliTable\n",
    "\n",
    "# 2-qubit labels\n",
    "labels = ['II', 'IX', 'IY', 'IZ', 'XI', 'XX', 'XY', 'XZ',\n",
    "          'YI', 'YX', 'YY', 'YZ', 'ZI', 'ZX', 'ZY', 'ZZ']\n",
    "# Shuffle Labels\n",
    "shuffle(labels)\n",
    "pt = PauliTable.from_labels(labels)\n",
    "print('Initial Ordering')\n",
    "print(pt)\n",
    "\n",
    "# Lexicographic Ordering\n",
    "srt = pt.sort()\n",
    "print('Lexicographically sorted')\n",
    "print(srt)\n",
    "\n",
    "# Weight Ordering\n",
    "srt = pt.sort(weight=True)\n",
    "print('Weight sorted')\n",
    "print(srt)"
   ]
  },
  {
   "cell_type": "code",
   "execution_count": 5,
   "id": "76c46db4",
   "metadata": {
    "execution": {
     "iopub.execute_input": "2021-04-05T11:37:21.984453Z",
     "iopub.status.busy": "2021-04-05T11:37:21.983238Z",
     "iopub.status.idle": "2021-04-05T11:37:21.986449Z",
     "shell.execute_reply": "2021-04-05T11:37:21.985948Z"
    }
   },
   "outputs": [
    {
     "name": "stdout",
     "output_type": "stream",
     "text": [
      "PauliTable: ['IY', 'IZ', 'XY', 'XZ']\n"
     ]
    }
   ],
   "source": [
    "from qiskit.quantum_info.operators import PauliTable\n",
    "\n",
    "current = PauliTable.from_labels(['I', 'X'])\n",
    "other =  PauliTable.from_labels(['Y', 'Z'])\n",
    "print(current.tensor(other))"
   ]
  },
  {
   "cell_type": "code",
   "execution_count": 6,
   "id": "19ba9d65",
   "metadata": {
    "execution": {
     "iopub.execute_input": "2021-04-05T11:37:21.993056Z",
     "iopub.status.busy": "2021-04-05T11:37:21.991540Z",
     "iopub.status.idle": "2021-04-05T11:37:21.995125Z",
     "shell.execute_reply": "2021-04-05T11:37:21.994592Z"
    }
   },
   "outputs": [
    {
     "name": "stdout",
     "output_type": "stream",
     "text": [
      "PauliTable: ['X', 'Y', 'I', 'Z']\n"
     ]
    }
   ],
   "source": [
    "from qiskit.quantum_info.operators import PauliTable\n",
    "\n",
    "pt = PauliTable.from_labels(['X', 'Y', 'X', 'I', 'I', 'Z', 'X', 'Z'])\n",
    "unique = pt.unique()\n",
    "print(unique)"
   ]
  }
 ],
 "metadata": {
  "kernelspec": {
   "display_name": "Python 3",
   "language": "python",
   "name": "python3"
  },
  "language_info": {
   "codemirror_mode": {
    "name": "ipython",
    "version": 3
   },
   "file_extension": ".py",
   "mimetype": "text/x-python",
   "name": "python",
   "nbconvert_exporter": "python",
   "pygments_lexer": "ipython3",
   "version": "3.8.8"
  }
 },
 "nbformat": 4,
 "nbformat_minor": 5
}