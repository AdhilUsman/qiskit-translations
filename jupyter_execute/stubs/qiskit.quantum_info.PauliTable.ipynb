{
 "cells": [
  {
   "cell_type": "code",
   "execution_count": 1,
   "id": "63bddad8",
   "metadata": {
    "execution": {
     "iopub.execute_input": "2021-04-30T08:54:37.178176Z",
     "iopub.status.busy": "2021-04-30T08:54:37.177285Z",
     "iopub.status.idle": "2021-04-30T08:54:37.748254Z",
     "shell.execute_reply": "2021-04-30T08:54:37.748592Z"
    }
   },
   "outputs": [
    {
     "name": "stdout",
     "output_type": "stream",
     "text": [
      "PauliTable: ['Y', 'Z', 'Z', 'Y']\n"
     ]
    }
   ],
   "source": [
    "from qiskit.quantum_info.operators import PauliTable\n",
    "\n",
    "current = PauliTable.from_labels(['I', 'X'])\n",
    "other =  PauliTable.from_labels(['Y', 'Z'])\n",
    "print(current.compose(other))"
   ]
  },
  {
   "cell_type": "code",
   "execution_count": 2,
   "id": "3cc77990",
   "metadata": {
    "execution": {
     "iopub.execute_input": "2021-04-30T08:54:37.752769Z",
     "iopub.status.busy": "2021-04-30T08:54:37.752077Z",
     "iopub.status.idle": "2021-04-30T08:54:37.754327Z",
     "shell.execute_reply": "2021-04-30T08:54:37.753988Z"
    }
   },
   "outputs": [
    {
     "name": "stdout",
     "output_type": "stream",
     "text": [
      "PauliTable: ['Y', 'Z', 'Z', 'Y']\n"
     ]
    }
   ],
   "source": [
    "from qiskit.quantum_info.operators import PauliTable\n",
    "\n",
    "current = PauliTable.from_labels(['I', 'X'])\n",
    "other =  PauliTable.from_labels(['Y', 'Z'])\n",
    "print(current.dot(other))"
   ]
  },
  {
   "cell_type": "code",
   "execution_count": 3,
   "id": "a5b49b0a",
   "metadata": {
    "execution": {
     "iopub.execute_input": "2021-04-30T08:54:37.758871Z",
     "iopub.status.busy": "2021-04-30T08:54:37.758349Z",
     "iopub.status.idle": "2021-04-30T08:54:37.760165Z",
     "shell.execute_reply": "2021-04-30T08:54:37.760469Z"
    }
   },
   "outputs": [
    {
     "name": "stdout",
     "output_type": "stream",
     "text": [
      "PauliTable: ['YI', 'YX', 'ZI', 'ZX']\n"
     ]
    }
   ],
   "source": [
    "from qiskit.quantum_info.operators import PauliTable\n",
    "\n",
    "current = PauliTable.from_labels(['I', 'X'])\n",
    "other =  PauliTable.from_labels(['Y', 'Z'])\n",
    "print(current.expand(other))"
   ]
  },
  {
   "cell_type": "code",
   "execution_count": 4,
   "id": "59100887",
   "metadata": {
    "execution": {
     "iopub.execute_input": "2021-04-30T08:54:37.766236Z",
     "iopub.status.busy": "2021-04-30T08:54:37.764891Z",
     "iopub.status.idle": "2021-04-30T08:54:37.767617Z",
     "shell.execute_reply": "2021-04-30T08:54:37.767915Z"
    }
   },
   "outputs": [
    {
     "name": "stdout",
     "output_type": "stream",
     "text": [
      "Initial Ordering\n",
      "PauliTable: ['XX', 'YZ', 'YX', 'IZ', 'XI', 'IX', 'ZX', 'II', 'IY', 'ZZ', 'XY', 'ZY', 'YI', 'XZ', 'ZI', 'YY']\n",
      "Lexicographically sorted\n",
      "PauliTable: ['II', 'IX', 'IY', 'IZ', 'XI', 'XX', 'XY', 'XZ', 'YI', 'YX', 'YY', 'YZ', 'ZI', 'ZX', 'ZY', 'ZZ']\n",
      "Weight sorted\n",
      "PauliTable: ['II', 'IX', 'IY', 'IZ', 'XI', 'YI', 'ZI', 'XX', 'XY', 'XZ', 'YX', 'YY', 'YZ', 'ZX', 'ZY', 'ZZ']\n"
     ]
    }
   ],
   "source": [
    "from numpy.random import shuffle\n",
    "from qiskit.quantum_info.operators import PauliTable\n",
    "\n",
    "# 2-qubit labels\n",
    "labels = ['II', 'IX', 'IY', 'IZ', 'XI', 'XX', 'XY', 'XZ',\n",
    "          'YI', 'YX', 'YY', 'YZ', 'ZI', 'ZX', 'ZY', 'ZZ']\n",
    "# Shuffle Labels\n",
    "shuffle(labels)\n",
    "pt = PauliTable.from_labels(labels)\n",
    "print('Initial Ordering')\n",
    "print(pt)\n",
    "\n",
    "# Lexicographic Ordering\n",
    "srt = pt.sort()\n",
    "print('Lexicographically sorted')\n",
    "print(srt)\n",
    "\n",
    "# Weight Ordering\n",
    "srt = pt.sort(weight=True)\n",
    "print('Weight sorted')\n",
    "print(srt)"
   ]
  },
  {
   "cell_type": "code",
   "execution_count": 5,
   "id": "35cef3df",
   "metadata": {
    "execution": {
     "iopub.execute_input": "2021-04-30T08:54:37.772553Z",
     "iopub.status.busy": "2021-04-30T08:54:37.771344Z",
     "iopub.status.idle": "2021-04-30T08:54:37.773972Z",
     "shell.execute_reply": "2021-04-30T08:54:37.773592Z"
    }
   },
   "outputs": [
    {
     "name": "stdout",
     "output_type": "stream",
     "text": [
      "PauliTable: ['IY', 'IZ', 'XY', 'XZ']\n"
     ]
    }
   ],
   "source": [
    "from qiskit.quantum_info.operators import PauliTable\n",
    "\n",
    "current = PauliTable.from_labels(['I', 'X'])\n",
    "other =  PauliTable.from_labels(['Y', 'Z'])\n",
    "print(current.tensor(other))"
   ]
  },
  {
   "cell_type": "code",
   "execution_count": 6,
   "id": "f731ce1c",
   "metadata": {
    "execution": {
     "iopub.execute_input": "2021-04-30T08:54:37.778663Z",
     "iopub.status.busy": "2021-04-30T08:54:37.777825Z",
     "iopub.status.idle": "2021-04-30T08:54:37.780305Z",
     "shell.execute_reply": "2021-04-30T08:54:37.779961Z"
    }
   },
   "outputs": [
    {
     "name": "stdout",
     "output_type": "stream",
     "text": [
      "PauliTable: ['X', 'Y', 'I', 'Z']\n"
     ]
    }
   ],
   "source": [
    "from qiskit.quantum_info.operators import PauliTable\n",
    "\n",
    "pt = PauliTable.from_labels(['X', 'Y', 'X', 'I', 'I', 'Z', 'X', 'Z'])\n",
    "unique = pt.unique()\n",
    "print(unique)"
   ]
  }
 ],
 "metadata": {
  "kernelspec": {
   "display_name": "Python 3",
   "language": "python",
   "name": "python3"
  },
  "language_info": {
   "codemirror_mode": {
    "name": "ipython",
    "version": 3
   },
   "file_extension": ".py",
   "mimetype": "text/x-python",
   "name": "python",
   "nbconvert_exporter": "python",
   "pygments_lexer": "ipython3",
   "version": "3.8.9"
  }
 },
 "nbformat": 4,
 "nbformat_minor": 5
}