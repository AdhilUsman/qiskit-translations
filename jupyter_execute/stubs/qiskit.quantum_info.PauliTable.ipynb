{
 "cells": [
  {
   "cell_type": "code",
   "execution_count": 1,
   "id": "b3e52546",
   "metadata": {
    "execution": {
     "iopub.execute_input": "2021-04-23T18:07:06.124637Z",
     "iopub.status.busy": "2021-04-23T18:07:06.124227Z",
     "iopub.status.idle": "2021-04-23T18:07:06.699646Z",
     "shell.execute_reply": "2021-04-23T18:07:06.700086Z"
    }
   },
   "outputs": [
    {
     "name": "stdout",
     "output_type": "stream",
     "text": [
      "PauliTable: ['Y', 'Z', 'Z', 'Y']\n"
     ]
    }
   ],
   "source": [
    "from qiskit.quantum_info.operators import PauliTable\n",
    "\n",
    "current = PauliTable.from_labels(['I', 'X'])\n",
    "other =  PauliTable.from_labels(['Y', 'Z'])\n",
    "print(current.compose(other))"
   ]
  },
  {
   "cell_type": "code",
   "execution_count": 2,
   "id": "72193afc",
   "metadata": {
    "execution": {
     "iopub.execute_input": "2021-04-23T18:07:06.704649Z",
     "iopub.status.busy": "2021-04-23T18:07:06.704188Z",
     "iopub.status.idle": "2021-04-23T18:07:06.706179Z",
     "shell.execute_reply": "2021-04-23T18:07:06.706503Z"
    }
   },
   "outputs": [
    {
     "name": "stdout",
     "output_type": "stream",
     "text": [
      "PauliTable: ['Y', 'Z', 'Z', 'Y']\n"
     ]
    }
   ],
   "source": [
    "from qiskit.quantum_info.operators import PauliTable\n",
    "\n",
    "current = PauliTable.from_labels(['I', 'X'])\n",
    "other =  PauliTable.from_labels(['Y', 'Z'])\n",
    "print(current.dot(other))"
   ]
  },
  {
   "cell_type": "code",
   "execution_count": 3,
   "id": "bb601e88",
   "metadata": {
    "execution": {
     "iopub.execute_input": "2021-04-23T18:07:06.710707Z",
     "iopub.status.busy": "2021-04-23T18:07:06.710303Z",
     "iopub.status.idle": "2021-04-23T18:07:06.712292Z",
     "shell.execute_reply": "2021-04-23T18:07:06.712638Z"
    }
   },
   "outputs": [
    {
     "name": "stdout",
     "output_type": "stream",
     "text": [
      "PauliTable: ['YI', 'YX', 'ZI', 'ZX']\n"
     ]
    }
   ],
   "source": [
    "from qiskit.quantum_info.operators import PauliTable\n",
    "\n",
    "current = PauliTable.from_labels(['I', 'X'])\n",
    "other =  PauliTable.from_labels(['Y', 'Z'])\n",
    "print(current.expand(other))"
   ]
  },
  {
   "cell_type": "code",
   "execution_count": 4,
   "id": "be884e72",
   "metadata": {
    "execution": {
     "iopub.execute_input": "2021-04-23T18:07:06.718420Z",
     "iopub.status.busy": "2021-04-23T18:07:06.716971Z",
     "iopub.status.idle": "2021-04-23T18:07:06.720013Z",
     "shell.execute_reply": "2021-04-23T18:07:06.720341Z"
    }
   },
   "outputs": [
    {
     "name": "stdout",
     "output_type": "stream",
     "text": [
      "Initial Ordering\n",
      "PauliTable: ['ZI', 'II', 'XX', 'YX', 'XY', 'IX', 'IZ', 'XI', 'YI', 'YY', 'YZ', 'XZ', 'ZX', 'IY', 'ZY', 'ZZ']\n",
      "Lexicographically sorted\n",
      "PauliTable: ['II', 'IX', 'IY', 'IZ', 'XI', 'XX', 'XY', 'XZ', 'YI', 'YX', 'YY', 'YZ', 'ZI', 'ZX', 'ZY', 'ZZ']\n",
      "Weight sorted\n",
      "PauliTable: ['II', 'IX', 'IY', 'IZ', 'XI', 'YI', 'ZI', 'XX', 'XY', 'XZ', 'YX', 'YY', 'YZ', 'ZX', 'ZY', 'ZZ']\n"
     ]
    }
   ],
   "source": [
    "from numpy.random import shuffle\n",
    "from qiskit.quantum_info.operators import PauliTable\n",
    "\n",
    "# 2-qubit labels\n",
    "labels = ['II', 'IX', 'IY', 'IZ', 'XI', 'XX', 'XY', 'XZ',\n",
    "          'YI', 'YX', 'YY', 'YZ', 'ZI', 'ZX', 'ZY', 'ZZ']\n",
    "# Shuffle Labels\n",
    "shuffle(labels)\n",
    "pt = PauliTable.from_labels(labels)\n",
    "print('Initial Ordering')\n",
    "print(pt)\n",
    "\n",
    "# Lexicographic Ordering\n",
    "srt = pt.sort()\n",
    "print('Lexicographically sorted')\n",
    "print(srt)\n",
    "\n",
    "# Weight Ordering\n",
    "srt = pt.sort(weight=True)\n",
    "print('Weight sorted')\n",
    "print(srt)"
   ]
  },
  {
   "cell_type": "code",
   "execution_count": 5,
   "id": "3b93e4e9",
   "metadata": {
    "execution": {
     "iopub.execute_input": "2021-04-23T18:07:06.724256Z",
     "iopub.status.busy": "2021-04-23T18:07:06.723859Z",
     "iopub.status.idle": "2021-04-23T18:07:06.725765Z",
     "shell.execute_reply": "2021-04-23T18:07:06.726091Z"
    }
   },
   "outputs": [
    {
     "name": "stdout",
     "output_type": "stream",
     "text": [
      "PauliTable: ['IY', 'IZ', 'XY', 'XZ']\n"
     ]
    }
   ],
   "source": [
    "from qiskit.quantum_info.operators import PauliTable\n",
    "\n",
    "current = PauliTable.from_labels(['I', 'X'])\n",
    "other =  PauliTable.from_labels(['Y', 'Z'])\n",
    "print(current.tensor(other))"
   ]
  },
  {
   "cell_type": "code",
   "execution_count": 6,
   "id": "e544e90f",
   "metadata": {
    "execution": {
     "iopub.execute_input": "2021-04-23T18:07:06.730135Z",
     "iopub.status.busy": "2021-04-23T18:07:06.729733Z",
     "iopub.status.idle": "2021-04-23T18:07:06.731707Z",
     "shell.execute_reply": "2021-04-23T18:07:06.732027Z"
    }
   },
   "outputs": [
    {
     "name": "stdout",
     "output_type": "stream",
     "text": [
      "PauliTable: ['X', 'Y', 'I', 'Z']\n"
     ]
    }
   ],
   "source": [
    "from qiskit.quantum_info.operators import PauliTable\n",
    "\n",
    "pt = PauliTable.from_labels(['X', 'Y', 'X', 'I', 'I', 'Z', 'X', 'Z'])\n",
    "unique = pt.unique()\n",
    "print(unique)"
   ]
  }
 ],
 "metadata": {
  "kernelspec": {
   "display_name": "Python 3",
   "language": "python",
   "name": "python3"
  },
  "language_info": {
   "codemirror_mode": {
    "name": "ipython",
    "version": 3
   },
   "file_extension": ".py",
   "mimetype": "text/x-python",
   "name": "python",
   "nbconvert_exporter": "python",
   "pygments_lexer": "ipython3",
   "version": "3.8.9"
  }
 },
 "nbformat": 4,
 "nbformat_minor": 5
}