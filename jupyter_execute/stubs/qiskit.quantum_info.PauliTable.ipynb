{
 "cells": [
  {
   "cell_type": "code",
   "execution_count": 1,
   "id": "b3964d9a",
   "metadata": {
    "execution": {
     "iopub.execute_input": "2021-04-09T16:24:28.243446Z",
     "iopub.status.busy": "2021-04-09T16:24:28.243010Z",
     "iopub.status.idle": "2021-04-09T16:24:28.755905Z",
     "shell.execute_reply": "2021-04-09T16:24:28.756356Z"
    }
   },
   "outputs": [
    {
     "name": "stdout",
     "output_type": "stream",
     "text": [
      "PauliTable: ['Y', 'Z', 'Z', 'Y']\n"
     ]
    }
   ],
   "source": [
    "from qiskit.quantum_info.operators import PauliTable\n",
    "\n",
    "current = PauliTable.from_labels(['I', 'X'])\n",
    "other =  PauliTable.from_labels(['Y', 'Z'])\n",
    "print(current.compose(other))"
   ]
  },
  {
   "cell_type": "code",
   "execution_count": 2,
   "id": "b2e82505",
   "metadata": {
    "execution": {
     "iopub.execute_input": "2021-04-09T16:24:28.761686Z",
     "iopub.status.busy": "2021-04-09T16:24:28.760555Z",
     "iopub.status.idle": "2021-04-09T16:24:28.763039Z",
     "shell.execute_reply": "2021-04-09T16:24:28.762685Z"
    }
   },
   "outputs": [
    {
     "name": "stdout",
     "output_type": "stream",
     "text": [
      "PauliTable: ['Y', 'Z', 'Z', 'Y']\n"
     ]
    }
   ],
   "source": [
    "from qiskit.quantum_info.operators import PauliTable\n",
    "\n",
    "current = PauliTable.from_labels(['I', 'X'])\n",
    "other =  PauliTable.from_labels(['Y', 'Z'])\n",
    "print(current.dot(other))"
   ]
  },
  {
   "cell_type": "code",
   "execution_count": 3,
   "id": "ee248e10",
   "metadata": {
    "execution": {
     "iopub.execute_input": "2021-04-09T16:24:28.767253Z",
     "iopub.status.busy": "2021-04-09T16:24:28.766594Z",
     "iopub.status.idle": "2021-04-09T16:24:28.768925Z",
     "shell.execute_reply": "2021-04-09T16:24:28.768572Z"
    }
   },
   "outputs": [
    {
     "name": "stdout",
     "output_type": "stream",
     "text": [
      "PauliTable: ['YI', 'YX', 'ZI', 'ZX']\n"
     ]
    }
   ],
   "source": [
    "from qiskit.quantum_info.operators import PauliTable\n",
    "\n",
    "current = PauliTable.from_labels(['I', 'X'])\n",
    "other =  PauliTable.from_labels(['Y', 'Z'])\n",
    "print(current.expand(other))"
   ]
  },
  {
   "cell_type": "code",
   "execution_count": 4,
   "id": "b2785b31",
   "metadata": {
    "execution": {
     "iopub.execute_input": "2021-04-09T16:24:28.774466Z",
     "iopub.status.busy": "2021-04-09T16:24:28.774042Z",
     "iopub.status.idle": "2021-04-09T16:24:28.776048Z",
     "shell.execute_reply": "2021-04-09T16:24:28.776371Z"
    }
   },
   "outputs": [
    {
     "name": "stdout",
     "output_type": "stream",
     "text": [
      "Initial Ordering\n",
      "PauliTable: ['YI', 'ZY', 'XI', 'YZ', 'IZ', 'XZ', 'XX', 'II', 'ZZ', 'IX', 'XY', 'IY', 'YX', 'ZI', 'YY', 'ZX']\n",
      "Lexicographically sorted\n",
      "PauliTable: ['II', 'IX', 'IY', 'IZ', 'XI', 'XX', 'XY', 'XZ', 'YI', 'YX', 'YY', 'YZ', 'ZI', 'ZX', 'ZY', 'ZZ']\n",
      "Weight sorted\n",
      "PauliTable: ['II', 'IX', 'IY', 'IZ', 'XI', 'YI', 'ZI', 'XX', 'XY', 'XZ', 'YX', 'YY', 'YZ', 'ZX', 'ZY', 'ZZ']\n"
     ]
    }
   ],
   "source": [
    "from numpy.random import shuffle\n",
    "from qiskit.quantum_info.operators import PauliTable\n",
    "\n",
    "# 2-qubit labels\n",
    "labels = ['II', 'IX', 'IY', 'IZ', 'XI', 'XX', 'XY', 'XZ',\n",
    "          'YI', 'YX', 'YY', 'YZ', 'ZI', 'ZX', 'ZY', 'ZZ']\n",
    "# Shuffle Labels\n",
    "shuffle(labels)\n",
    "pt = PauliTable.from_labels(labels)\n",
    "print('Initial Ordering')\n",
    "print(pt)\n",
    "\n",
    "# Lexicographic Ordering\n",
    "srt = pt.sort()\n",
    "print('Lexicographically sorted')\n",
    "print(srt)\n",
    "\n",
    "# Weight Ordering\n",
    "srt = pt.sort(weight=True)\n",
    "print('Weight sorted')\n",
    "print(srt)"
   ]
  },
  {
   "cell_type": "code",
   "execution_count": 5,
   "id": "7b5f3f2d",
   "metadata": {
    "execution": {
     "iopub.execute_input": "2021-04-09T16:24:28.780327Z",
     "iopub.status.busy": "2021-04-09T16:24:28.779638Z",
     "iopub.status.idle": "2021-04-09T16:24:28.781518Z",
     "shell.execute_reply": "2021-04-09T16:24:28.781836Z"
    }
   },
   "outputs": [
    {
     "name": "stdout",
     "output_type": "stream",
     "text": [
      "PauliTable: ['IY', 'IZ', 'XY', 'XZ']\n"
     ]
    }
   ],
   "source": [
    "from qiskit.quantum_info.operators import PauliTable\n",
    "\n",
    "current = PauliTable.from_labels(['I', 'X'])\n",
    "other =  PauliTable.from_labels(['Y', 'Z'])\n",
    "print(current.tensor(other))"
   ]
  },
  {
   "cell_type": "code",
   "execution_count": 6,
   "id": "c191356f",
   "metadata": {
    "execution": {
     "iopub.execute_input": "2021-04-09T16:24:28.785966Z",
     "iopub.status.busy": "2021-04-09T16:24:28.785251Z",
     "iopub.status.idle": "2021-04-09T16:24:28.787526Z",
     "shell.execute_reply": "2021-04-09T16:24:28.787202Z"
    }
   },
   "outputs": [
    {
     "name": "stdout",
     "output_type": "stream",
     "text": [
      "PauliTable: ['X', 'Y', 'I', 'Z']\n"
     ]
    }
   ],
   "source": [
    "from qiskit.quantum_info.operators import PauliTable\n",
    "\n",
    "pt = PauliTable.from_labels(['X', 'Y', 'X', 'I', 'I', 'Z', 'X', 'Z'])\n",
    "unique = pt.unique()\n",
    "print(unique)"
   ]
  }
 ],
 "metadata": {
  "kernelspec": {
   "display_name": "Python 3",
   "language": "python",
   "name": "python3"
  },
  "language_info": {
   "codemirror_mode": {
    "name": "ipython",
    "version": 3
   },
   "file_extension": ".py",
   "mimetype": "text/x-python",
   "name": "python",
   "nbconvert_exporter": "python",
   "pygments_lexer": "ipython3",
   "version": "3.8.8"
  }
 },
 "nbformat": 4,
 "nbformat_minor": 5
}