{
 "cells": [
  {
   "cell_type": "code",
   "execution_count": 1,
   "id": "7f996137",
   "metadata": {
    "execution": {
     "iopub.execute_input": "2021-04-21T21:25:56.869353Z",
     "iopub.status.busy": "2021-04-21T21:25:56.868414Z",
     "iopub.status.idle": "2021-04-21T21:25:57.551380Z",
     "shell.execute_reply": "2021-04-21T21:25:57.551868Z"
    }
   },
   "outputs": [
    {
     "name": "stdout",
     "output_type": "stream",
     "text": [
      "PauliTable: ['Y', 'Z', 'Z', 'Y']\n"
     ]
    }
   ],
   "source": [
    "from qiskit.quantum_info.operators import PauliTable\n",
    "\n",
    "current = PauliTable.from_labels(['I', 'X'])\n",
    "other =  PauliTable.from_labels(['Y', 'Z'])\n",
    "print(current.compose(other))"
   ]
  },
  {
   "cell_type": "code",
   "execution_count": 2,
   "id": "93047994",
   "metadata": {
    "execution": {
     "iopub.execute_input": "2021-04-21T21:25:57.561533Z",
     "iopub.status.busy": "2021-04-21T21:25:57.560943Z",
     "iopub.status.idle": "2021-04-21T21:25:57.564366Z",
     "shell.execute_reply": "2021-04-21T21:25:57.563762Z"
    }
   },
   "outputs": [
    {
     "name": "stdout",
     "output_type": "stream",
     "text": [
      "PauliTable: ['Y', 'Z', 'Z', 'Y']\n"
     ]
    }
   ],
   "source": [
    "from qiskit.quantum_info.operators import PauliTable\n",
    "\n",
    "current = PauliTable.from_labels(['I', 'X'])\n",
    "other =  PauliTable.from_labels(['Y', 'Z'])\n",
    "print(current.dot(other))"
   ]
  },
  {
   "cell_type": "code",
   "execution_count": 3,
   "id": "ac795dc7",
   "metadata": {
    "execution": {
     "iopub.execute_input": "2021-04-21T21:25:57.570763Z",
     "iopub.status.busy": "2021-04-21T21:25:57.569331Z",
     "iopub.status.idle": "2021-04-21T21:25:57.572663Z",
     "shell.execute_reply": "2021-04-21T21:25:57.572126Z"
    }
   },
   "outputs": [
    {
     "name": "stdout",
     "output_type": "stream",
     "text": [
      "PauliTable: ['YI', 'YX', 'ZI', 'ZX']\n"
     ]
    }
   ],
   "source": [
    "from qiskit.quantum_info.operators import PauliTable\n",
    "\n",
    "current = PauliTable.from_labels(['I', 'X'])\n",
    "other =  PauliTable.from_labels(['Y', 'Z'])\n",
    "print(current.expand(other))"
   ]
  },
  {
   "cell_type": "code",
   "execution_count": 4,
   "id": "59aef522",
   "metadata": {
    "execution": {
     "iopub.execute_input": "2021-04-21T21:25:57.581669Z",
     "iopub.status.busy": "2021-04-21T21:25:57.580253Z",
     "iopub.status.idle": "2021-04-21T21:25:57.583644Z",
     "shell.execute_reply": "2021-04-21T21:25:57.583028Z"
    }
   },
   "outputs": [
    {
     "name": "stdout",
     "output_type": "stream",
     "text": [
      "Initial Ordering\n",
      "PauliTable: ['YI', 'YZ', 'II', 'ZX', 'ZZ', 'XI', 'XY', 'IY', 'ZI', 'IZ', 'ZY', 'YX', 'IX', 'YY', 'XX', 'XZ']\n",
      "Lexicographically sorted\n",
      "PauliTable: ['II', 'IX', 'IY', 'IZ', 'XI', 'XX', 'XY', 'XZ', 'YI', 'YX', 'YY', 'YZ', 'ZI', 'ZX', 'ZY', 'ZZ']\n",
      "Weight sorted\n",
      "PauliTable: ['II', 'IX', 'IY', 'IZ', 'XI', 'YI', 'ZI', 'XX', 'XY', 'XZ', 'YX', 'YY', 'YZ', 'ZX', 'ZY', 'ZZ']\n"
     ]
    }
   ],
   "source": [
    "from numpy.random import shuffle\n",
    "from qiskit.quantum_info.operators import PauliTable\n",
    "\n",
    "# 2-qubit labels\n",
    "labels = ['II', 'IX', 'IY', 'IZ', 'XI', 'XX', 'XY', 'XZ',\n",
    "          'YI', 'YX', 'YY', 'YZ', 'ZI', 'ZX', 'ZY', 'ZZ']\n",
    "# Shuffle Labels\n",
    "shuffle(labels)\n",
    "pt = PauliTable.from_labels(labels)\n",
    "print('Initial Ordering')\n",
    "print(pt)\n",
    "\n",
    "# Lexicographic Ordering\n",
    "srt = pt.sort()\n",
    "print('Lexicographically sorted')\n",
    "print(srt)\n",
    "\n",
    "# Weight Ordering\n",
    "srt = pt.sort(weight=True)\n",
    "print('Weight sorted')\n",
    "print(srt)"
   ]
  },
  {
   "cell_type": "code",
   "execution_count": 5,
   "id": "c00663fa",
   "metadata": {
    "execution": {
     "iopub.execute_input": "2021-04-21T21:25:57.590717Z",
     "iopub.status.busy": "2021-04-21T21:25:57.589216Z",
     "iopub.status.idle": "2021-04-21T21:25:57.592622Z",
     "shell.execute_reply": "2021-04-21T21:25:57.592088Z"
    }
   },
   "outputs": [
    {
     "name": "stdout",
     "output_type": "stream",
     "text": [
      "PauliTable: ['IY', 'IZ', 'XY', 'XZ']\n"
     ]
    }
   ],
   "source": [
    "from qiskit.quantum_info.operators import PauliTable\n",
    "\n",
    "current = PauliTable.from_labels(['I', 'X'])\n",
    "other =  PauliTable.from_labels(['Y', 'Z'])\n",
    "print(current.tensor(other))"
   ]
  },
  {
   "cell_type": "code",
   "execution_count": 6,
   "id": "abe2995f",
   "metadata": {
    "execution": {
     "iopub.execute_input": "2021-04-21T21:25:57.599427Z",
     "iopub.status.busy": "2021-04-21T21:25:57.597991Z",
     "iopub.status.idle": "2021-04-21T21:25:57.601316Z",
     "shell.execute_reply": "2021-04-21T21:25:57.600825Z"
    }
   },
   "outputs": [
    {
     "name": "stdout",
     "output_type": "stream",
     "text": [
      "PauliTable: ['X', 'Y', 'I', 'Z']\n"
     ]
    }
   ],
   "source": [
    "from qiskit.quantum_info.operators import PauliTable\n",
    "\n",
    "pt = PauliTable.from_labels(['X', 'Y', 'X', 'I', 'I', 'Z', 'X', 'Z'])\n",
    "unique = pt.unique()\n",
    "print(unique)"
   ]
  }
 ],
 "metadata": {
  "kernelspec": {
   "display_name": "Python 3",
   "language": "python",
   "name": "python3"
  },
  "language_info": {
   "codemirror_mode": {
    "name": "ipython",
    "version": 3
   },
   "file_extension": ".py",
   "mimetype": "text/x-python",
   "name": "python",
   "nbconvert_exporter": "python",
   "pygments_lexer": "ipython3",
   "version": "3.8.9"
  }
 },
 "nbformat": 4,
 "nbformat_minor": 5
}