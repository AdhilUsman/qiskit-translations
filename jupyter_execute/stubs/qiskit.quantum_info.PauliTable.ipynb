{
 "cells": [
  {
   "cell_type": "code",
   "execution_count": 1,
   "id": "96cb33c9",
   "metadata": {
    "execution": {
     "iopub.execute_input": "2021-04-27T18:13:58.881038Z",
     "iopub.status.busy": "2021-04-27T18:13:58.880420Z",
     "iopub.status.idle": "2021-04-27T18:13:59.590625Z",
     "shell.execute_reply": "2021-04-27T18:13:59.591133Z"
    }
   },
   "outputs": [
    {
     "name": "stdout",
     "output_type": "stream",
     "text": [
      "PauliTable: ['Y', 'Z', 'Z', 'Y']\n"
     ]
    }
   ],
   "source": [
    "from qiskit.quantum_info.operators import PauliTable\n",
    "\n",
    "current = PauliTable.from_labels(['I', 'X'])\n",
    "other =  PauliTable.from_labels(['Y', 'Z'])\n",
    "print(current.compose(other))"
   ]
  },
  {
   "cell_type": "code",
   "execution_count": 2,
   "id": "2007bcc0",
   "metadata": {
    "execution": {
     "iopub.execute_input": "2021-04-27T18:13:59.597559Z",
     "iopub.status.busy": "2021-04-27T18:13:59.596156Z",
     "iopub.status.idle": "2021-04-27T18:13:59.599446Z",
     "shell.execute_reply": "2021-04-27T18:13:59.598909Z"
    }
   },
   "outputs": [
    {
     "name": "stdout",
     "output_type": "stream",
     "text": [
      "PauliTable: ['Y', 'Z', 'Z', 'Y']\n"
     ]
    }
   ],
   "source": [
    "from qiskit.quantum_info.operators import PauliTable\n",
    "\n",
    "current = PauliTable.from_labels(['I', 'X'])\n",
    "other =  PauliTable.from_labels(['Y', 'Z'])\n",
    "print(current.dot(other))"
   ]
  },
  {
   "cell_type": "code",
   "execution_count": 3,
   "id": "1bcabe09",
   "metadata": {
    "execution": {
     "iopub.execute_input": "2021-04-27T18:13:59.605766Z",
     "iopub.status.busy": "2021-04-27T18:13:59.604342Z",
     "iopub.status.idle": "2021-04-27T18:13:59.607661Z",
     "shell.execute_reply": "2021-04-27T18:13:59.607137Z"
    }
   },
   "outputs": [
    {
     "name": "stdout",
     "output_type": "stream",
     "text": [
      "PauliTable: ['YI', 'YX', 'ZI', 'ZX']\n"
     ]
    }
   ],
   "source": [
    "from qiskit.quantum_info.operators import PauliTable\n",
    "\n",
    "current = PauliTable.from_labels(['I', 'X'])\n",
    "other =  PauliTable.from_labels(['Y', 'Z'])\n",
    "print(current.expand(other))"
   ]
  },
  {
   "cell_type": "code",
   "execution_count": 4,
   "id": "5a1119a9",
   "metadata": {
    "execution": {
     "iopub.execute_input": "2021-04-27T18:13:59.616836Z",
     "iopub.status.busy": "2021-04-27T18:13:59.615333Z",
     "iopub.status.idle": "2021-04-27T18:13:59.618744Z",
     "shell.execute_reply": "2021-04-27T18:13:59.618216Z"
    }
   },
   "outputs": [
    {
     "name": "stdout",
     "output_type": "stream",
     "text": [
      "Initial Ordering\n",
      "PauliTable: ['IX', 'YZ', 'XI', 'ZY', 'ZI', 'XY', 'XX', 'ZX', 'YX', 'ZZ', 'XZ', 'IY', 'YY', 'YI', 'IZ', 'II']\n",
      "Lexicographically sorted\n",
      "PauliTable: ['II', 'IX', 'IY', 'IZ', 'XI', 'XX', 'XY', 'XZ', 'YI', 'YX', 'YY', 'YZ', 'ZI', 'ZX', 'ZY', 'ZZ']\n",
      "Weight sorted\n",
      "PauliTable: ['II', 'IX', 'IY', 'IZ', 'XI', 'YI', 'ZI', 'XX', 'XY', 'XZ', 'YX', 'YY', 'YZ', 'ZX', 'ZY', 'ZZ']\n"
     ]
    }
   ],
   "source": [
    "from numpy.random import shuffle\n",
    "from qiskit.quantum_info.operators import PauliTable\n",
    "\n",
    "# 2-qubit labels\n",
    "labels = ['II', 'IX', 'IY', 'IZ', 'XI', 'XX', 'XY', 'XZ',\n",
    "          'YI', 'YX', 'YY', 'YZ', 'ZI', 'ZX', 'ZY', 'ZZ']\n",
    "# Shuffle Labels\n",
    "shuffle(labels)\n",
    "pt = PauliTable.from_labels(labels)\n",
    "print('Initial Ordering')\n",
    "print(pt)\n",
    "\n",
    "# Lexicographic Ordering\n",
    "srt = pt.sort()\n",
    "print('Lexicographically sorted')\n",
    "print(srt)\n",
    "\n",
    "# Weight Ordering\n",
    "srt = pt.sort(weight=True)\n",
    "print('Weight sorted')\n",
    "print(srt)"
   ]
  },
  {
   "cell_type": "code",
   "execution_count": 5,
   "id": "83e39212",
   "metadata": {
    "execution": {
     "iopub.execute_input": "2021-04-27T18:13:59.624939Z",
     "iopub.status.busy": "2021-04-27T18:13:59.623533Z",
     "iopub.status.idle": "2021-04-27T18:13:59.626767Z",
     "shell.execute_reply": "2021-04-27T18:13:59.626259Z"
    }
   },
   "outputs": [
    {
     "name": "stdout",
     "output_type": "stream",
     "text": [
      "PauliTable: ['IY', 'IZ', 'XY', 'XZ']\n"
     ]
    }
   ],
   "source": [
    "from qiskit.quantum_info.operators import PauliTable\n",
    "\n",
    "current = PauliTable.from_labels(['I', 'X'])\n",
    "other =  PauliTable.from_labels(['Y', 'Z'])\n",
    "print(current.tensor(other))"
   ]
  },
  {
   "cell_type": "code",
   "execution_count": 6,
   "id": "ef7acd01",
   "metadata": {
    "execution": {
     "iopub.execute_input": "2021-04-27T18:13:59.632974Z",
     "iopub.status.busy": "2021-04-27T18:13:59.631508Z",
     "iopub.status.idle": "2021-04-27T18:13:59.634875Z",
     "shell.execute_reply": "2021-04-27T18:13:59.634353Z"
    }
   },
   "outputs": [
    {
     "name": "stdout",
     "output_type": "stream",
     "text": [
      "PauliTable: ['X', 'Y', 'I', 'Z']\n"
     ]
    }
   ],
   "source": [
    "from qiskit.quantum_info.operators import PauliTable\n",
    "\n",
    "pt = PauliTable.from_labels(['X', 'Y', 'X', 'I', 'I', 'Z', 'X', 'Z'])\n",
    "unique = pt.unique()\n",
    "print(unique)"
   ]
  }
 ],
 "metadata": {
  "kernelspec": {
   "display_name": "Python 3",
   "language": "python",
   "name": "python3"
  },
  "language_info": {
   "codemirror_mode": {
    "name": "ipython",
    "version": 3
   },
   "file_extension": ".py",
   "mimetype": "text/x-python",
   "name": "python",
   "nbconvert_exporter": "python",
   "pygments_lexer": "ipython3",
   "version": "3.8.9"
  }
 },
 "nbformat": 4,
 "nbformat_minor": 5
}