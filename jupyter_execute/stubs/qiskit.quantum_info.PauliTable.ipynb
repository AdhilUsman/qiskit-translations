{
 "cells": [
  {
   "cell_type": "code",
   "execution_count": 1,
   "id": "cooked-patch",
   "metadata": {
    "execution": {
     "iopub.execute_input": "2021-03-29T07:19:53.660340Z",
     "iopub.status.busy": "2021-03-29T07:19:53.659823Z",
     "iopub.status.idle": "2021-03-29T07:19:55.422002Z",
     "shell.execute_reply": "2021-03-29T07:19:55.421247Z"
    }
   },
   "outputs": [
    {
     "name": "stdout",
     "output_type": "stream",
     "text": [
      "PauliTable: ['Y', 'Z', 'Z', 'Y']\n"
     ]
    }
   ],
   "source": [
    "from qiskit.quantum_info.operators import PauliTable\n",
    "\n",
    "current = PauliTable.from_labels(['I', 'X'])\n",
    "other =  PauliTable.from_labels(['Y', 'Z'])\n",
    "print(current.compose(other))"
   ]
  },
  {
   "cell_type": "code",
   "execution_count": 2,
   "id": "serious-smile",
   "metadata": {
    "execution": {
     "iopub.execute_input": "2021-03-29T07:19:55.428750Z",
     "iopub.status.busy": "2021-03-29T07:19:55.427397Z",
     "iopub.status.idle": "2021-03-29T07:19:55.430515Z",
     "shell.execute_reply": "2021-03-29T07:19:55.430027Z"
    }
   },
   "outputs": [
    {
     "name": "stdout",
     "output_type": "stream",
     "text": [
      "PauliTable: ['Y', 'Z', 'Z', 'Y']\n"
     ]
    }
   ],
   "source": [
    "from qiskit.quantum_info.operators import PauliTable\n",
    "\n",
    "current = PauliTable.from_labels(['I', 'X'])\n",
    "other =  PauliTable.from_labels(['Y', 'Z'])\n",
    "print(current.dot(other))"
   ]
  },
  {
   "cell_type": "code",
   "execution_count": 3,
   "id": "seven-return",
   "metadata": {
    "execution": {
     "iopub.execute_input": "2021-03-29T07:19:55.435952Z",
     "iopub.status.busy": "2021-03-29T07:19:55.434885Z",
     "iopub.status.idle": "2021-03-29T07:19:55.437582Z",
     "shell.execute_reply": "2021-03-29T07:19:55.437156Z"
    }
   },
   "outputs": [
    {
     "name": "stdout",
     "output_type": "stream",
     "text": [
      "PauliTable: ['YI', 'ZI', 'YX', 'ZX']\n"
     ]
    }
   ],
   "source": [
    "from qiskit.quantum_info.operators import PauliTable\n",
    "\n",
    "current = PauliTable.from_labels(['I', 'X'])\n",
    "other =  PauliTable.from_labels(['Y', 'Z'])\n",
    "print(current.expand(other))"
   ]
  },
  {
   "cell_type": "code",
   "execution_count": 4,
   "id": "animated-pharmaceutical",
   "metadata": {
    "execution": {
     "iopub.execute_input": "2021-03-29T07:19:55.444654Z",
     "iopub.status.busy": "2021-03-29T07:19:55.443116Z",
     "iopub.status.idle": "2021-03-29T07:19:55.446643Z",
     "shell.execute_reply": "2021-03-29T07:19:55.447036Z"
    }
   },
   "outputs": [
    {
     "name": "stdout",
     "output_type": "stream",
     "text": [
      "Initial Ordering\n",
      "PauliTable: ['XZ', 'YY', 'YZ', 'IY', 'YX', 'ZX', 'ZI', 'YI', 'XY', 'IZ', 'ZZ', 'XI', 'IX', 'ZY', 'XX', 'II']\n",
      "Lexicographically sorted\n",
      "PauliTable: ['II', 'IX', 'IY', 'IZ', 'XI', 'XX', 'XY', 'XZ', 'YI', 'YX', 'YY', 'YZ', 'ZI', 'ZX', 'ZY', 'ZZ']\n",
      "Weight sorted\n",
      "PauliTable: ['II', 'IX', 'IY', 'IZ', 'XI', 'YI', 'ZI', 'XX', 'XY', 'XZ', 'YX', 'YY', 'YZ', 'ZX', 'ZY', 'ZZ']\n"
     ]
    }
   ],
   "source": [
    "from numpy.random import shuffle\n",
    "from qiskit.quantum_info.operators import PauliTable\n",
    "\n",
    "# 2-qubit labels\n",
    "labels = ['II', 'IX', 'IY', 'IZ', 'XI', 'XX', 'XY', 'XZ',\n",
    "          'YI', 'YX', 'YY', 'YZ', 'ZI', 'ZX', 'ZY', 'ZZ']\n",
    "# Shuffle Labels\n",
    "shuffle(labels)\n",
    "pt = PauliTable.from_labels(labels)\n",
    "print('Initial Ordering')\n",
    "print(pt)\n",
    "\n",
    "# Lexicographic Ordering\n",
    "srt = pt.sort()\n",
    "print('Lexicographically sorted')\n",
    "print(srt)\n",
    "\n",
    "# Weight Ordering\n",
    "srt = pt.sort(weight=True)\n",
    "print('Weight sorted')\n",
    "print(srt)"
   ]
  },
  {
   "cell_type": "code",
   "execution_count": 5,
   "id": "informal-breed",
   "metadata": {
    "execution": {
     "iopub.execute_input": "2021-03-29T07:19:55.452285Z",
     "iopub.status.busy": "2021-03-29T07:19:55.451161Z",
     "iopub.status.idle": "2021-03-29T07:19:55.453904Z",
     "shell.execute_reply": "2021-03-29T07:19:55.453479Z"
    }
   },
   "outputs": [
    {
     "name": "stdout",
     "output_type": "stream",
     "text": [
      "PauliTable: ['IY', 'IZ', 'XY', 'XZ']\n"
     ]
    }
   ],
   "source": [
    "from qiskit.quantum_info.operators import PauliTable\n",
    "\n",
    "current = PauliTable.from_labels(['I', 'X'])\n",
    "other =  PauliTable.from_labels(['Y', 'Z'])\n",
    "print(current.tensor(other))"
   ]
  },
  {
   "cell_type": "code",
   "execution_count": 6,
   "id": "informed-personal",
   "metadata": {
    "execution": {
     "iopub.execute_input": "2021-03-29T07:19:55.459615Z",
     "iopub.status.busy": "2021-03-29T07:19:55.458270Z",
     "iopub.status.idle": "2021-03-29T07:19:55.461239Z",
     "shell.execute_reply": "2021-03-29T07:19:55.460799Z"
    }
   },
   "outputs": [
    {
     "name": "stdout",
     "output_type": "stream",
     "text": [
      "PauliTable: ['X', 'Y', 'I', 'Z']\n"
     ]
    }
   ],
   "source": [
    "from qiskit.quantum_info.operators import PauliTable\n",
    "\n",
    "pt = PauliTable.from_labels(['X', 'Y', 'X', 'I', 'I', 'Z', 'X', 'Z'])\n",
    "unique = pt.unique()\n",
    "print(unique)"
   ]
  }
 ],
 "metadata": {
  "kernelspec": {
   "display_name": "Python 3",
   "language": "python",
   "name": "python3"
  },
  "language_info": {
   "codemirror_mode": {
    "name": "ipython",
    "version": 3
   },
   "file_extension": ".py",
   "mimetype": "text/x-python",
   "name": "python",
   "nbconvert_exporter": "python",
   "pygments_lexer": "ipython3",
   "version": "3.8.8"
  }
 },
 "nbformat": 4,
 "nbformat_minor": 5
}