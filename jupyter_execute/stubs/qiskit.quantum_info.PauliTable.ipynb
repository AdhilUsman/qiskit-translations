{
 "cells": [
  {
   "cell_type": "code",
   "execution_count": 1,
   "id": "f8ea4b59",
   "metadata": {
    "execution": {
     "iopub.execute_input": "2021-04-06T11:56:32.891254Z",
     "iopub.status.busy": "2021-04-06T11:56:32.890661Z",
     "iopub.status.idle": "2021-04-06T11:56:33.572599Z",
     "shell.execute_reply": "2021-04-06T11:56:33.573113Z"
    }
   },
   "outputs": [
    {
     "name": "stdout",
     "output_type": "stream",
     "text": [
      "PauliTable: ['Y', 'Z', 'Z', 'Y']\n"
     ]
    }
   ],
   "source": [
    "from qiskit.quantum_info.operators import PauliTable\n",
    "\n",
    "current = PauliTable.from_labels(['I', 'X'])\n",
    "other =  PauliTable.from_labels(['Y', 'Z'])\n",
    "print(current.compose(other))"
   ]
  },
  {
   "cell_type": "code",
   "execution_count": 2,
   "id": "4e422429",
   "metadata": {
    "execution": {
     "iopub.execute_input": "2021-04-06T11:56:33.579935Z",
     "iopub.status.busy": "2021-04-06T11:56:33.578444Z",
     "iopub.status.idle": "2021-04-06T11:56:33.581923Z",
     "shell.execute_reply": "2021-04-06T11:56:33.581362Z"
    }
   },
   "outputs": [
    {
     "name": "stdout",
     "output_type": "stream",
     "text": [
      "PauliTable: ['Y', 'Z', 'Z', 'Y']\n"
     ]
    }
   ],
   "source": [
    "from qiskit.quantum_info.operators import PauliTable\n",
    "\n",
    "current = PauliTable.from_labels(['I', 'X'])\n",
    "other =  PauliTable.from_labels(['Y', 'Z'])\n",
    "print(current.dot(other))"
   ]
  },
  {
   "cell_type": "code",
   "execution_count": 3,
   "id": "780ebb81",
   "metadata": {
    "execution": {
     "iopub.execute_input": "2021-04-06T11:56:33.588245Z",
     "iopub.status.busy": "2021-04-06T11:56:33.586812Z",
     "iopub.status.idle": "2021-04-06T11:56:33.590139Z",
     "shell.execute_reply": "2021-04-06T11:56:33.589631Z"
    }
   },
   "outputs": [
    {
     "name": "stdout",
     "output_type": "stream",
     "text": [
      "PauliTable: ['YI', 'YX', 'ZI', 'ZX']\n"
     ]
    }
   ],
   "source": [
    "from qiskit.quantum_info.operators import PauliTable\n",
    "\n",
    "current = PauliTable.from_labels(['I', 'X'])\n",
    "other =  PauliTable.from_labels(['Y', 'Z'])\n",
    "print(current.expand(other))"
   ]
  },
  {
   "cell_type": "code",
   "execution_count": 4,
   "id": "3c5560b0",
   "metadata": {
    "execution": {
     "iopub.execute_input": "2021-04-06T11:56:33.598635Z",
     "iopub.status.busy": "2021-04-06T11:56:33.597498Z",
     "iopub.status.idle": "2021-04-06T11:56:33.601010Z",
     "shell.execute_reply": "2021-04-06T11:56:33.600476Z"
    }
   },
   "outputs": [
    {
     "name": "stdout",
     "output_type": "stream",
     "text": [
      "Initial Ordering\n",
      "PauliTable: ['ZY', 'YI', 'IX', 'II', 'ZX', 'XI', 'ZZ', 'YZ', 'IY', 'XX', 'XY', 'ZI', 'IZ', 'XZ', 'YY', 'YX']\n",
      "Lexicographically sorted\n",
      "PauliTable: ['II', 'IX', 'IY', 'IZ', 'XI', 'XX', 'XY', 'XZ', 'YI', 'YX', 'YY', 'YZ', 'ZI', 'ZX', 'ZY', 'ZZ']\n",
      "Weight sorted\n",
      "PauliTable: ['II', 'IX', 'IY', 'IZ', 'XI', 'YI', 'ZI', 'XX', 'XY', 'XZ', 'YX', 'YY', 'YZ', 'ZX', 'ZY', 'ZZ']\n"
     ]
    }
   ],
   "source": [
    "from numpy.random import shuffle\n",
    "from qiskit.quantum_info.operators import PauliTable\n",
    "\n",
    "# 2-qubit labels\n",
    "labels = ['II', 'IX', 'IY', 'IZ', 'XI', 'XX', 'XY', 'XZ',\n",
    "          'YI', 'YX', 'YY', 'YZ', 'ZI', 'ZX', 'ZY', 'ZZ']\n",
    "# Shuffle Labels\n",
    "shuffle(labels)\n",
    "pt = PauliTable.from_labels(labels)\n",
    "print('Initial Ordering')\n",
    "print(pt)\n",
    "\n",
    "# Lexicographic Ordering\n",
    "srt = pt.sort()\n",
    "print('Lexicographically sorted')\n",
    "print(srt)\n",
    "\n",
    "# Weight Ordering\n",
    "srt = pt.sort(weight=True)\n",
    "print('Weight sorted')\n",
    "print(srt)"
   ]
  },
  {
   "cell_type": "code",
   "execution_count": 5,
   "id": "09fa3e89",
   "metadata": {
    "execution": {
     "iopub.execute_input": "2021-04-06T11:56:33.607094Z",
     "iopub.status.busy": "2021-04-06T11:56:33.605530Z",
     "iopub.status.idle": "2021-04-06T11:56:33.609459Z",
     "shell.execute_reply": "2021-04-06T11:56:33.608851Z"
    }
   },
   "outputs": [
    {
     "name": "stdout",
     "output_type": "stream",
     "text": [
      "PauliTable: ['IY', 'IZ', 'XY', 'XZ']\n"
     ]
    }
   ],
   "source": [
    "from qiskit.quantum_info.operators import PauliTable\n",
    "\n",
    "current = PauliTable.from_labels(['I', 'X'])\n",
    "other =  PauliTable.from_labels(['Y', 'Z'])\n",
    "print(current.tensor(other))"
   ]
  },
  {
   "cell_type": "code",
   "execution_count": 6,
   "id": "5dac691e",
   "metadata": {
    "execution": {
     "iopub.execute_input": "2021-04-06T11:56:33.616570Z",
     "iopub.status.busy": "2021-04-06T11:56:33.614580Z",
     "iopub.status.idle": "2021-04-06T11:56:33.618814Z",
     "shell.execute_reply": "2021-04-06T11:56:33.618263Z"
    }
   },
   "outputs": [
    {
     "name": "stdout",
     "output_type": "stream",
     "text": [
      "PauliTable: ['X', 'Y', 'I', 'Z']\n"
     ]
    }
   ],
   "source": [
    "from qiskit.quantum_info.operators import PauliTable\n",
    "\n",
    "pt = PauliTable.from_labels(['X', 'Y', 'X', 'I', 'I', 'Z', 'X', 'Z'])\n",
    "unique = pt.unique()\n",
    "print(unique)"
   ]
  }
 ],
 "metadata": {
  "kernelspec": {
   "display_name": "Python 3",
   "language": "python",
   "name": "python3"
  },
  "language_info": {
   "codemirror_mode": {
    "name": "ipython",
    "version": 3
   },
   "file_extension": ".py",
   "mimetype": "text/x-python",
   "name": "python",
   "nbconvert_exporter": "python",
   "pygments_lexer": "ipython3",
   "version": "3.8.8"
  }
 },
 "nbformat": 4,
 "nbformat_minor": 5
}