{
 "cells": [
  {
   "cell_type": "code",
   "execution_count": 1,
   "id": "41bbbb61",
   "metadata": {
    "execution": {
     "iopub.execute_input": "2021-04-13T01:02:22.451324Z",
     "iopub.status.busy": "2021-04-13T01:02:22.450810Z",
     "iopub.status.idle": "2021-04-13T01:02:23.090795Z",
     "shell.execute_reply": "2021-04-13T01:02:23.091267Z"
    }
   },
   "outputs": [
    {
     "name": "stdout",
     "output_type": "stream",
     "text": [
      "PauliTable: ['Y', 'Z', 'Z', 'Y']\n"
     ]
    }
   ],
   "source": [
    "from qiskit.quantum_info.operators import PauliTable\n",
    "\n",
    "current = PauliTable.from_labels(['I', 'X'])\n",
    "other =  PauliTable.from_labels(['Y', 'Z'])\n",
    "print(current.compose(other))"
   ]
  },
  {
   "cell_type": "code",
   "execution_count": 2,
   "id": "52d067ef",
   "metadata": {
    "execution": {
     "iopub.execute_input": "2021-04-13T01:02:23.097124Z",
     "iopub.status.busy": "2021-04-13T01:02:23.095926Z",
     "iopub.status.idle": "2021-04-13T01:02:23.098810Z",
     "shell.execute_reply": "2021-04-13T01:02:23.098350Z"
    }
   },
   "outputs": [
    {
     "name": "stdout",
     "output_type": "stream",
     "text": [
      "PauliTable: ['Y', 'Z', 'Z', 'Y']\n"
     ]
    }
   ],
   "source": [
    "from qiskit.quantum_info.operators import PauliTable\n",
    "\n",
    "current = PauliTable.from_labels(['I', 'X'])\n",
    "other =  PauliTable.from_labels(['Y', 'Z'])\n",
    "print(current.dot(other))"
   ]
  },
  {
   "cell_type": "code",
   "execution_count": 3,
   "id": "ccbac6a3",
   "metadata": {
    "execution": {
     "iopub.execute_input": "2021-04-13T01:02:23.104541Z",
     "iopub.status.busy": "2021-04-13T01:02:23.103298Z",
     "iopub.status.idle": "2021-04-13T01:02:23.106208Z",
     "shell.execute_reply": "2021-04-13T01:02:23.105763Z"
    }
   },
   "outputs": [
    {
     "name": "stdout",
     "output_type": "stream",
     "text": [
      "PauliTable: ['YI', 'YX', 'ZI', 'ZX']\n"
     ]
    }
   ],
   "source": [
    "from qiskit.quantum_info.operators import PauliTable\n",
    "\n",
    "current = PauliTable.from_labels(['I', 'X'])\n",
    "other =  PauliTable.from_labels(['Y', 'Z'])\n",
    "print(current.expand(other))"
   ]
  },
  {
   "cell_type": "code",
   "execution_count": 4,
   "id": "76637711",
   "metadata": {
    "execution": {
     "iopub.execute_input": "2021-04-13T01:02:23.113962Z",
     "iopub.status.busy": "2021-04-13T01:02:23.112943Z",
     "iopub.status.idle": "2021-04-13T01:02:23.115540Z",
     "shell.execute_reply": "2021-04-13T01:02:23.115932Z"
    }
   },
   "outputs": [
    {
     "name": "stdout",
     "output_type": "stream",
     "text": [
      "Initial Ordering\n",
      "PauliTable: ['XI', 'ZY', 'ZI', 'II', 'XY', 'IY', 'YY', 'IZ', 'YZ', 'ZX', 'XZ', 'IX', 'ZZ', 'YI', 'YX', 'XX']\n",
      "Lexicographically sorted\n",
      "PauliTable: ['II', 'IX', 'IY', 'IZ', 'XI', 'XX', 'XY', 'XZ', 'YI', 'YX', 'YY', 'YZ', 'ZI', 'ZX', 'ZY', 'ZZ']\n",
      "Weight sorted\n",
      "PauliTable: ['II', 'IX', 'IY', 'IZ', 'XI', 'YI', 'ZI', 'XX', 'XY', 'XZ', 'YX', 'YY', 'YZ', 'ZX', 'ZY', 'ZZ']\n"
     ]
    }
   ],
   "source": [
    "from numpy.random import shuffle\n",
    "from qiskit.quantum_info.operators import PauliTable\n",
    "\n",
    "# 2-qubit labels\n",
    "labels = ['II', 'IX', 'IY', 'IZ', 'XI', 'XX', 'XY', 'XZ',\n",
    "          'YI', 'YX', 'YY', 'YZ', 'ZI', 'ZX', 'ZY', 'ZZ']\n",
    "# Shuffle Labels\n",
    "shuffle(labels)\n",
    "pt = PauliTable.from_labels(labels)\n",
    "print('Initial Ordering')\n",
    "print(pt)\n",
    "\n",
    "# Lexicographic Ordering\n",
    "srt = pt.sort()\n",
    "print('Lexicographically sorted')\n",
    "print(srt)\n",
    "\n",
    "# Weight Ordering\n",
    "srt = pt.sort(weight=True)\n",
    "print('Weight sorted')\n",
    "print(srt)"
   ]
  },
  {
   "cell_type": "code",
   "execution_count": 5,
   "id": "e433a1a9",
   "metadata": {
    "execution": {
     "iopub.execute_input": "2021-04-13T01:02:23.121362Z",
     "iopub.status.busy": "2021-04-13T01:02:23.120156Z",
     "iopub.status.idle": "2021-04-13T01:02:23.123128Z",
     "shell.execute_reply": "2021-04-13T01:02:23.122659Z"
    }
   },
   "outputs": [
    {
     "name": "stdout",
     "output_type": "stream",
     "text": [
      "PauliTable: ['IY', 'IZ', 'XY', 'XZ']\n"
     ]
    }
   ],
   "source": [
    "from qiskit.quantum_info.operators import PauliTable\n",
    "\n",
    "current = PauliTable.from_labels(['I', 'X'])\n",
    "other =  PauliTable.from_labels(['Y', 'Z'])\n",
    "print(current.tensor(other))"
   ]
  },
  {
   "cell_type": "code",
   "execution_count": 6,
   "id": "6be42664",
   "metadata": {
    "execution": {
     "iopub.execute_input": "2021-04-13T01:02:23.128589Z",
     "iopub.status.busy": "2021-04-13T01:02:23.127424Z",
     "iopub.status.idle": "2021-04-13T01:02:23.130205Z",
     "shell.execute_reply": "2021-04-13T01:02:23.129749Z"
    }
   },
   "outputs": [
    {
     "name": "stdout",
     "output_type": "stream",
     "text": [
      "PauliTable: ['X', 'Y', 'I', 'Z']\n"
     ]
    }
   ],
   "source": [
    "from qiskit.quantum_info.operators import PauliTable\n",
    "\n",
    "pt = PauliTable.from_labels(['X', 'Y', 'X', 'I', 'I', 'Z', 'X', 'Z'])\n",
    "unique = pt.unique()\n",
    "print(unique)"
   ]
  }
 ],
 "metadata": {
  "kernelspec": {
   "display_name": "Python 3",
   "language": "python",
   "name": "python3"
  },
  "language_info": {
   "codemirror_mode": {
    "name": "ipython",
    "version": 3
   },
   "file_extension": ".py",
   "mimetype": "text/x-python",
   "name": "python",
   "nbconvert_exporter": "python",
   "pygments_lexer": "ipython3",
   "version": "3.8.8"
  }
 },
 "nbformat": 4,
 "nbformat_minor": 5
}