{
 "cells": [
  {
   "cell_type": "code",
   "execution_count": 1,
   "id": "3057c608",
   "metadata": {
    "execution": {
     "iopub.execute_input": "2021-04-19T11:27:28.048126Z",
     "iopub.status.busy": "2021-04-19T11:27:28.047606Z",
     "iopub.status.idle": "2021-04-19T11:27:28.793123Z",
     "shell.execute_reply": "2021-04-19T11:27:28.792054Z"
    }
   },
   "outputs": [
    {
     "name": "stdout",
     "output_type": "stream",
     "text": [
      "PauliTable: ['Y', 'Z', 'Z', 'Y']\n"
     ]
    }
   ],
   "source": [
    "from qiskit.quantum_info.operators import PauliTable\n",
    "\n",
    "current = PauliTable.from_labels(['I', 'X'])\n",
    "other =  PauliTable.from_labels(['Y', 'Z'])\n",
    "print(current.compose(other))"
   ]
  },
  {
   "cell_type": "code",
   "execution_count": 2,
   "id": "058b80e5",
   "metadata": {
    "execution": {
     "iopub.execute_input": "2021-04-19T11:27:28.798243Z",
     "iopub.status.busy": "2021-04-19T11:27:28.797706Z",
     "iopub.status.idle": "2021-04-19T11:27:28.801628Z",
     "shell.execute_reply": "2021-04-19T11:27:28.802057Z"
    }
   },
   "outputs": [
    {
     "name": "stdout",
     "output_type": "stream",
     "text": [
      "PauliTable: ['Y', 'Z', 'Z', 'Y']\n"
     ]
    }
   ],
   "source": [
    "from qiskit.quantum_info.operators import PauliTable\n",
    "\n",
    "current = PauliTable.from_labels(['I', 'X'])\n",
    "other =  PauliTable.from_labels(['Y', 'Z'])\n",
    "print(current.dot(other))"
   ]
  },
  {
   "cell_type": "code",
   "execution_count": 3,
   "id": "aae8a5e6",
   "metadata": {
    "execution": {
     "iopub.execute_input": "2021-04-19T11:27:28.807842Z",
     "iopub.status.busy": "2021-04-19T11:27:28.806864Z",
     "iopub.status.idle": "2021-04-19T11:27:28.810592Z",
     "shell.execute_reply": "2021-04-19T11:27:28.810151Z"
    }
   },
   "outputs": [
    {
     "name": "stdout",
     "output_type": "stream",
     "text": [
      "PauliTable: ['YI', 'YX', 'ZI', 'ZX']\n"
     ]
    }
   ],
   "source": [
    "from qiskit.quantum_info.operators import PauliTable\n",
    "\n",
    "current = PauliTable.from_labels(['I', 'X'])\n",
    "other =  PauliTable.from_labels(['Y', 'Z'])\n",
    "print(current.expand(other))"
   ]
  },
  {
   "cell_type": "code",
   "execution_count": 4,
   "id": "84034f9b",
   "metadata": {
    "execution": {
     "iopub.execute_input": "2021-04-19T11:27:28.817364Z",
     "iopub.status.busy": "2021-04-19T11:27:28.816391Z",
     "iopub.status.idle": "2021-04-19T11:27:28.821290Z",
     "shell.execute_reply": "2021-04-19T11:27:28.821709Z"
    }
   },
   "outputs": [
    {
     "name": "stdout",
     "output_type": "stream",
     "text": [
      "Initial Ordering\n",
      "PauliTable: ['YZ', 'ZI', 'IY', 'IZ', 'YY', 'II', 'YI', 'YX', 'IX', 'XY', 'ZX', 'XZ', 'ZY', 'ZZ', 'XX', 'XI']\n",
      "Lexicographically sorted\n",
      "PauliTable: ['II', 'IX', 'IY', 'IZ', 'XI', 'XX', 'XY', 'XZ', 'YI', 'YX', 'YY', 'YZ', 'ZI', 'ZX', 'ZY', 'ZZ']\n",
      "Weight sorted\n",
      "PauliTable: ['II', 'IX', 'IY', 'IZ', 'XI', 'YI', 'ZI', 'XX', 'XY', 'XZ', 'YX', 'YY', 'YZ', 'ZX', 'ZY', 'ZZ']\n"
     ]
    }
   ],
   "source": [
    "from numpy.random import shuffle\n",
    "from qiskit.quantum_info.operators import PauliTable\n",
    "\n",
    "# 2-qubit labels\n",
    "labels = ['II', 'IX', 'IY', 'IZ', 'XI', 'XX', 'XY', 'XZ',\n",
    "          'YI', 'YX', 'YY', 'YZ', 'ZI', 'ZX', 'ZY', 'ZZ']\n",
    "# Shuffle Labels\n",
    "shuffle(labels)\n",
    "pt = PauliTable.from_labels(labels)\n",
    "print('Initial Ordering')\n",
    "print(pt)\n",
    "\n",
    "# Lexicographic Ordering\n",
    "srt = pt.sort()\n",
    "print('Lexicographically sorted')\n",
    "print(srt)\n",
    "\n",
    "# Weight Ordering\n",
    "srt = pt.sort(weight=True)\n",
    "print('Weight sorted')\n",
    "print(srt)"
   ]
  },
  {
   "cell_type": "code",
   "execution_count": 5,
   "id": "84bd359d",
   "metadata": {
    "execution": {
     "iopub.execute_input": "2021-04-19T11:27:28.826772Z",
     "iopub.status.busy": "2021-04-19T11:27:28.826184Z",
     "iopub.status.idle": "2021-04-19T11:27:28.830811Z",
     "shell.execute_reply": "2021-04-19T11:27:28.830335Z"
    }
   },
   "outputs": [
    {
     "name": "stdout",
     "output_type": "stream",
     "text": [
      "PauliTable: ['IY', 'IZ', 'XY', 'XZ']\n"
     ]
    }
   ],
   "source": [
    "from qiskit.quantum_info.operators import PauliTable\n",
    "\n",
    "current = PauliTable.from_labels(['I', 'X'])\n",
    "other =  PauliTable.from_labels(['Y', 'Z'])\n",
    "print(current.tensor(other))"
   ]
  },
  {
   "cell_type": "code",
   "execution_count": 6,
   "id": "90d62bcf",
   "metadata": {
    "execution": {
     "iopub.execute_input": "2021-04-19T11:27:28.836414Z",
     "iopub.status.busy": "2021-04-19T11:27:28.835893Z",
     "iopub.status.idle": "2021-04-19T11:27:28.839142Z",
     "shell.execute_reply": "2021-04-19T11:27:28.838708Z"
    }
   },
   "outputs": [
    {
     "name": "stdout",
     "output_type": "stream",
     "text": [
      "PauliTable: ['X', 'Y', 'I', 'Z']\n"
     ]
    }
   ],
   "source": [
    "from qiskit.quantum_info.operators import PauliTable\n",
    "\n",
    "pt = PauliTable.from_labels(['X', 'Y', 'X', 'I', 'I', 'Z', 'X', 'Z'])\n",
    "unique = pt.unique()\n",
    "print(unique)"
   ]
  }
 ],
 "metadata": {
  "kernelspec": {
   "display_name": "Python 3",
   "language": "python",
   "name": "python3"
  },
  "language_info": {
   "codemirror_mode": {
    "name": "ipython",
    "version": 3
   },
   "file_extension": ".py",
   "mimetype": "text/x-python",
   "name": "python",
   "nbconvert_exporter": "python",
   "pygments_lexer": "ipython3",
   "version": "3.8.9"
  }
 },
 "nbformat": 4,
 "nbformat_minor": 5
}