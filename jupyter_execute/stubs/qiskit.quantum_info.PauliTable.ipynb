{
 "cells": [
  {
   "cell_type": "code",
   "execution_count": 1,
   "id": "6d4279b8",
   "metadata": {
    "execution": {
     "iopub.execute_input": "2021-04-16T10:51:31.394289Z",
     "iopub.status.busy": "2021-04-16T10:51:31.393165Z",
     "iopub.status.idle": "2021-04-16T10:51:32.034695Z",
     "shell.execute_reply": "2021-04-16T10:51:32.033351Z"
    }
   },
   "outputs": [
    {
     "name": "stdout",
     "output_type": "stream",
     "text": [
      "PauliTable: ['Y', 'Z', 'Z', 'Y']\n"
     ]
    }
   ],
   "source": [
    "from qiskit.quantum_info.operators import PauliTable\n",
    "\n",
    "current = PauliTable.from_labels(['I', 'X'])\n",
    "other =  PauliTable.from_labels(['Y', 'Z'])\n",
    "print(current.compose(other))"
   ]
  },
  {
   "cell_type": "code",
   "execution_count": 2,
   "id": "81757f6b",
   "metadata": {
    "execution": {
     "iopub.execute_input": "2021-04-16T10:51:32.039682Z",
     "iopub.status.busy": "2021-04-16T10:51:32.039155Z",
     "iopub.status.idle": "2021-04-16T10:51:32.042821Z",
     "shell.execute_reply": "2021-04-16T10:51:32.042355Z"
    }
   },
   "outputs": [
    {
     "name": "stdout",
     "output_type": "stream",
     "text": [
      "PauliTable: ['Y', 'Z', 'Z', 'Y']\n"
     ]
    }
   ],
   "source": [
    "from qiskit.quantum_info.operators import PauliTable\n",
    "\n",
    "current = PauliTable.from_labels(['I', 'X'])\n",
    "other =  PauliTable.from_labels(['Y', 'Z'])\n",
    "print(current.dot(other))"
   ]
  },
  {
   "cell_type": "code",
   "execution_count": 3,
   "id": "989f03bf",
   "metadata": {
    "execution": {
     "iopub.execute_input": "2021-04-16T10:51:32.048542Z",
     "iopub.status.busy": "2021-04-16T10:51:32.047277Z",
     "iopub.status.idle": "2021-04-16T10:51:32.050273Z",
     "shell.execute_reply": "2021-04-16T10:51:32.049806Z"
    }
   },
   "outputs": [
    {
     "name": "stdout",
     "output_type": "stream",
     "text": [
      "PauliTable: ['YI', 'YX', 'ZI', 'ZX']\n"
     ]
    }
   ],
   "source": [
    "from qiskit.quantum_info.operators import PauliTable\n",
    "\n",
    "current = PauliTable.from_labels(['I', 'X'])\n",
    "other =  PauliTable.from_labels(['Y', 'Z'])\n",
    "print(current.expand(other))"
   ]
  },
  {
   "cell_type": "code",
   "execution_count": 4,
   "id": "597b2f88",
   "metadata": {
    "execution": {
     "iopub.execute_input": "2021-04-16T10:51:32.057236Z",
     "iopub.status.busy": "2021-04-16T10:51:32.055823Z",
     "iopub.status.idle": "2021-04-16T10:51:32.059267Z",
     "shell.execute_reply": "2021-04-16T10:51:32.059693Z"
    }
   },
   "outputs": [
    {
     "name": "stdout",
     "output_type": "stream",
     "text": [
      "Initial Ordering\n",
      "PauliTable: ['II', 'ZX', 'YX', 'ZI', 'ZY', 'XZ', 'IZ', 'XX', 'XI', 'XY', 'IY', 'YZ', 'IX', 'YY', 'YI', 'ZZ']\n",
      "Lexicographically sorted\n",
      "PauliTable: ['II', 'IX', 'IY', 'IZ', 'XI', 'XX', 'XY', 'XZ', 'YI', 'YX', 'YY', 'YZ', 'ZI', 'ZX', 'ZY', 'ZZ']\n",
      "Weight sorted\n",
      "PauliTable: ['II', 'IX', 'IY', 'IZ', 'XI', 'YI', 'ZI', 'XX', 'XY', 'XZ', 'YX', 'YY', 'YZ', 'ZX', 'ZY', 'ZZ']\n"
     ]
    }
   ],
   "source": [
    "from numpy.random import shuffle\n",
    "from qiskit.quantum_info.operators import PauliTable\n",
    "\n",
    "# 2-qubit labels\n",
    "labels = ['II', 'IX', 'IY', 'IZ', 'XI', 'XX', 'XY', 'XZ',\n",
    "          'YI', 'YX', 'YY', 'YZ', 'ZI', 'ZX', 'ZY', 'ZZ']\n",
    "# Shuffle Labels\n",
    "shuffle(labels)\n",
    "pt = PauliTable.from_labels(labels)\n",
    "print('Initial Ordering')\n",
    "print(pt)\n",
    "\n",
    "# Lexicographic Ordering\n",
    "srt = pt.sort()\n",
    "print('Lexicographically sorted')\n",
    "print(srt)\n",
    "\n",
    "# Weight Ordering\n",
    "srt = pt.sort(weight=True)\n",
    "print('Weight sorted')\n",
    "print(srt)"
   ]
  },
  {
   "cell_type": "code",
   "execution_count": 5,
   "id": "6703412e",
   "metadata": {
    "execution": {
     "iopub.execute_input": "2021-04-16T10:51:32.065190Z",
     "iopub.status.busy": "2021-04-16T10:51:32.063914Z",
     "iopub.status.idle": "2021-04-16T10:51:32.066976Z",
     "shell.execute_reply": "2021-04-16T10:51:32.066497Z"
    }
   },
   "outputs": [
    {
     "name": "stdout",
     "output_type": "stream",
     "text": [
      "PauliTable: ['IY', 'IZ', 'XY', 'XZ']\n"
     ]
    }
   ],
   "source": [
    "from qiskit.quantum_info.operators import PauliTable\n",
    "\n",
    "current = PauliTable.from_labels(['I', 'X'])\n",
    "other =  PauliTable.from_labels(['Y', 'Z'])\n",
    "print(current.tensor(other))"
   ]
  },
  {
   "cell_type": "code",
   "execution_count": 6,
   "id": "bd0d3790",
   "metadata": {
    "execution": {
     "iopub.execute_input": "2021-04-16T10:51:32.072617Z",
     "iopub.status.busy": "2021-04-16T10:51:32.071331Z",
     "iopub.status.idle": "2021-04-16T10:51:32.074326Z",
     "shell.execute_reply": "2021-04-16T10:51:32.073867Z"
    }
   },
   "outputs": [
    {
     "name": "stdout",
     "output_type": "stream",
     "text": [
      "PauliTable: ['X', 'Y', 'I', 'Z']\n"
     ]
    }
   ],
   "source": [
    "from qiskit.quantum_info.operators import PauliTable\n",
    "\n",
    "pt = PauliTable.from_labels(['X', 'Y', 'X', 'I', 'I', 'Z', 'X', 'Z'])\n",
    "unique = pt.unique()\n",
    "print(unique)"
   ]
  }
 ],
 "metadata": {
  "kernelspec": {
   "display_name": "Python 3",
   "language": "python",
   "name": "python3"
  },
  "language_info": {
   "codemirror_mode": {
    "name": "ipython",
    "version": 3
   },
   "file_extension": ".py",
   "mimetype": "text/x-python",
   "name": "python",
   "nbconvert_exporter": "python",
   "pygments_lexer": "ipython3",
   "version": "3.8.9"
  }
 },
 "nbformat": 4,
 "nbformat_minor": 5
}