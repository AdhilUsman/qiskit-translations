{
 "cells": [
  {
   "cell_type": "code",
   "execution_count": 1,
   "id": "94fa9a8e",
   "metadata": {
    "execution": {
     "iopub.execute_input": "2021-04-10T00:47:43.603210Z",
     "iopub.status.busy": "2021-04-10T00:47:43.602532Z",
     "iopub.status.idle": "2021-04-10T00:47:44.328870Z",
     "shell.execute_reply": "2021-04-10T00:47:44.329477Z"
    }
   },
   "outputs": [
    {
     "name": "stdout",
     "output_type": "stream",
     "text": [
      "PauliTable: ['Y', 'Z', 'Z', 'Y']\n"
     ]
    }
   ],
   "source": [
    "from qiskit.quantum_info.operators import PauliTable\n",
    "\n",
    "current = PauliTable.from_labels(['I', 'X'])\n",
    "other =  PauliTable.from_labels(['Y', 'Z'])\n",
    "print(current.compose(other))"
   ]
  },
  {
   "cell_type": "code",
   "execution_count": 2,
   "id": "934eba22",
   "metadata": {
    "execution": {
     "iopub.execute_input": "2021-04-10T00:47:44.336104Z",
     "iopub.status.busy": "2021-04-10T00:47:44.334659Z",
     "iopub.status.idle": "2021-04-10T00:47:44.338064Z",
     "shell.execute_reply": "2021-04-10T00:47:44.337558Z"
    }
   },
   "outputs": [
    {
     "name": "stdout",
     "output_type": "stream",
     "text": [
      "PauliTable: ['Y', 'Z', 'Z', 'Y']\n"
     ]
    }
   ],
   "source": [
    "from qiskit.quantum_info.operators import PauliTable\n",
    "\n",
    "current = PauliTable.from_labels(['I', 'X'])\n",
    "other =  PauliTable.from_labels(['Y', 'Z'])\n",
    "print(current.dot(other))"
   ]
  },
  {
   "cell_type": "code",
   "execution_count": 3,
   "id": "70b414f7",
   "metadata": {
    "execution": {
     "iopub.execute_input": "2021-04-10T00:47:44.346135Z",
     "iopub.status.busy": "2021-04-10T00:47:44.344839Z",
     "iopub.status.idle": "2021-04-10T00:47:44.347957Z",
     "shell.execute_reply": "2021-04-10T00:47:44.347465Z"
    }
   },
   "outputs": [
    {
     "name": "stdout",
     "output_type": "stream",
     "text": [
      "PauliTable: ['YI', 'YX', 'ZI', 'ZX']\n"
     ]
    }
   ],
   "source": [
    "from qiskit.quantum_info.operators import PauliTable\n",
    "\n",
    "current = PauliTable.from_labels(['I', 'X'])\n",
    "other =  PauliTable.from_labels(['Y', 'Z'])\n",
    "print(current.expand(other))"
   ]
  },
  {
   "cell_type": "code",
   "execution_count": 4,
   "id": "69600748",
   "metadata": {
    "execution": {
     "iopub.execute_input": "2021-04-10T00:47:44.357876Z",
     "iopub.status.busy": "2021-04-10T00:47:44.357311Z",
     "iopub.status.idle": "2021-04-10T00:47:44.362216Z",
     "shell.execute_reply": "2021-04-10T00:47:44.361649Z"
    }
   },
   "outputs": [
    {
     "name": "stdout",
     "output_type": "stream",
     "text": [
      "Initial Ordering\n",
      "PauliTable: ['XI', 'IX', 'ZY', 'ZZ', 'XY', 'YX', 'XZ', 'XX', 'YY', 'ZX', 'YI', 'IY', 'IZ', 'ZI', 'YZ', 'II']\n",
      "Lexicographically sorted\n",
      "PauliTable: ['II', 'IX', 'IY', 'IZ', 'XI', 'XX', 'XY', 'XZ', 'YI', 'YX', 'YY', 'YZ', 'ZI', 'ZX', 'ZY', 'ZZ']\n",
      "Weight sorted\n",
      "PauliTable: ['II', 'IX', 'IY', 'IZ', 'XI', 'YI', 'ZI', 'XX', 'XY', 'XZ', 'YX', 'YY', 'YZ', 'ZX', 'ZY', 'ZZ']\n"
     ]
    }
   ],
   "source": [
    "from numpy.random import shuffle\n",
    "from qiskit.quantum_info.operators import PauliTable\n",
    "\n",
    "# 2-qubit labels\n",
    "labels = ['II', 'IX', 'IY', 'IZ', 'XI', 'XX', 'XY', 'XZ',\n",
    "          'YI', 'YX', 'YY', 'YZ', 'ZI', 'ZX', 'ZY', 'ZZ']\n",
    "# Shuffle Labels\n",
    "shuffle(labels)\n",
    "pt = PauliTable.from_labels(labels)\n",
    "print('Initial Ordering')\n",
    "print(pt)\n",
    "\n",
    "# Lexicographic Ordering\n",
    "srt = pt.sort()\n",
    "print('Lexicographically sorted')\n",
    "print(srt)\n",
    "\n",
    "# Weight Ordering\n",
    "srt = pt.sort(weight=True)\n",
    "print('Weight sorted')\n",
    "print(srt)"
   ]
  },
  {
   "cell_type": "code",
   "execution_count": 5,
   "id": "52fe42f2",
   "metadata": {
    "execution": {
     "iopub.execute_input": "2021-04-10T00:47:44.366809Z",
     "iopub.status.busy": "2021-04-10T00:47:44.366265Z",
     "iopub.status.idle": "2021-04-10T00:47:44.370447Z",
     "shell.execute_reply": "2021-04-10T00:47:44.369960Z"
    }
   },
   "outputs": [
    {
     "name": "stdout",
     "output_type": "stream",
     "text": [
      "PauliTable: ['IY', 'IZ', 'XY', 'XZ']\n"
     ]
    }
   ],
   "source": [
    "from qiskit.quantum_info.operators import PauliTable\n",
    "\n",
    "current = PauliTable.from_labels(['I', 'X'])\n",
    "other =  PauliTable.from_labels(['Y', 'Z'])\n",
    "print(current.tensor(other))"
   ]
  },
  {
   "cell_type": "code",
   "execution_count": 6,
   "id": "cf130421",
   "metadata": {
    "execution": {
     "iopub.execute_input": "2021-04-10T00:47:44.376633Z",
     "iopub.status.busy": "2021-04-10T00:47:44.375270Z",
     "iopub.status.idle": "2021-04-10T00:47:44.378417Z",
     "shell.execute_reply": "2021-04-10T00:47:44.377934Z"
    }
   },
   "outputs": [
    {
     "name": "stdout",
     "output_type": "stream",
     "text": [
      "PauliTable: ['X', 'Y', 'I', 'Z']\n"
     ]
    }
   ],
   "source": [
    "from qiskit.quantum_info.operators import PauliTable\n",
    "\n",
    "pt = PauliTable.from_labels(['X', 'Y', 'X', 'I', 'I', 'Z', 'X', 'Z'])\n",
    "unique = pt.unique()\n",
    "print(unique)"
   ]
  }
 ],
 "metadata": {
  "kernelspec": {
   "display_name": "Python 3",
   "language": "python",
   "name": "python3"
  },
  "language_info": {
   "codemirror_mode": {
    "name": "ipython",
    "version": 3
   },
   "file_extension": ".py",
   "mimetype": "text/x-python",
   "name": "python",
   "nbconvert_exporter": "python",
   "pygments_lexer": "ipython3",
   "version": "3.8.8"
  }
 },
 "nbformat": 4,
 "nbformat_minor": 5
}