{
 "cells": [
  {
   "cell_type": "code",
   "execution_count": 1,
   "id": "6ee8008f",
   "metadata": {
    "execution": {
     "iopub.execute_input": "2021-04-22T01:31:57.672828Z",
     "iopub.status.busy": "2021-04-22T01:31:57.672326Z",
     "iopub.status.idle": "2021-04-22T01:31:58.299339Z",
     "shell.execute_reply": "2021-04-22T01:31:58.299789Z"
    }
   },
   "outputs": [
    {
     "name": "stdout",
     "output_type": "stream",
     "text": [
      "PauliTable: ['Y', 'Z', 'Z', 'Y']\n"
     ]
    }
   ],
   "source": [
    "from qiskit.quantum_info.operators import PauliTable\n",
    "\n",
    "current = PauliTable.from_labels(['I', 'X'])\n",
    "other =  PauliTable.from_labels(['Y', 'Z'])\n",
    "print(current.compose(other))"
   ]
  },
  {
   "cell_type": "code",
   "execution_count": 2,
   "id": "a4282012",
   "metadata": {
    "execution": {
     "iopub.execute_input": "2021-04-22T01:31:58.306410Z",
     "iopub.status.busy": "2021-04-22T01:31:58.304995Z",
     "iopub.status.idle": "2021-04-22T01:31:58.308222Z",
     "shell.execute_reply": "2021-04-22T01:31:58.307697Z"
    }
   },
   "outputs": [
    {
     "name": "stdout",
     "output_type": "stream",
     "text": [
      "PauliTable: ['Y', 'Z', 'Z', 'Y']\n"
     ]
    }
   ],
   "source": [
    "from qiskit.quantum_info.operators import PauliTable\n",
    "\n",
    "current = PauliTable.from_labels(['I', 'X'])\n",
    "other =  PauliTable.from_labels(['Y', 'Z'])\n",
    "print(current.dot(other))"
   ]
  },
  {
   "cell_type": "code",
   "execution_count": 3,
   "id": "fa797ef9",
   "metadata": {
    "execution": {
     "iopub.execute_input": "2021-04-22T01:31:58.314371Z",
     "iopub.status.busy": "2021-04-22T01:31:58.312829Z",
     "iopub.status.idle": "2021-04-22T01:31:58.316182Z",
     "shell.execute_reply": "2021-04-22T01:31:58.315648Z"
    }
   },
   "outputs": [
    {
     "name": "stdout",
     "output_type": "stream",
     "text": [
      "PauliTable: ['YI', 'YX', 'ZI', 'ZX']\n"
     ]
    }
   ],
   "source": [
    "from qiskit.quantum_info.operators import PauliTable\n",
    "\n",
    "current = PauliTable.from_labels(['I', 'X'])\n",
    "other =  PauliTable.from_labels(['Y', 'Z'])\n",
    "print(current.expand(other))"
   ]
  },
  {
   "cell_type": "code",
   "execution_count": 4,
   "id": "3fe3e6f8",
   "metadata": {
    "execution": {
     "iopub.execute_input": "2021-04-22T01:31:58.321479Z",
     "iopub.status.busy": "2021-04-22T01:31:58.320686Z",
     "iopub.status.idle": "2021-04-22T01:31:58.325604Z",
     "shell.execute_reply": "2021-04-22T01:31:58.326058Z"
    }
   },
   "outputs": [
    {
     "name": "stdout",
     "output_type": "stream",
     "text": [
      "Initial Ordering\n",
      "PauliTable: ['IZ', 'ZZ', 'IX', 'YZ', 'II', 'ZX', 'ZI', 'XY', 'XX', 'ZY', 'XI', 'XZ', 'YY', 'YI', 'IY', 'YX']\n",
      "Lexicographically sorted\n",
      "PauliTable: ['II', 'IX', 'IY', 'IZ', 'XI', 'XX', 'XY', 'XZ', 'YI', 'YX', 'YY', 'YZ', 'ZI', 'ZX', 'ZY', 'ZZ']\n",
      "Weight sorted\n",
      "PauliTable: ['II', 'IX', 'IY', 'IZ', 'XI', 'YI', 'ZI', 'XX', 'XY', 'XZ', 'YX', 'YY', 'YZ', 'ZX', 'ZY', 'ZZ']\n"
     ]
    }
   ],
   "source": [
    "from numpy.random import shuffle\n",
    "from qiskit.quantum_info.operators import PauliTable\n",
    "\n",
    "# 2-qubit labels\n",
    "labels = ['II', 'IX', 'IY', 'IZ', 'XI', 'XX', 'XY', 'XZ',\n",
    "          'YI', 'YX', 'YY', 'YZ', 'ZI', 'ZX', 'ZY', 'ZZ']\n",
    "# Shuffle Labels\n",
    "shuffle(labels)\n",
    "pt = PauliTable.from_labels(labels)\n",
    "print('Initial Ordering')\n",
    "print(pt)\n",
    "\n",
    "# Lexicographic Ordering\n",
    "srt = pt.sort()\n",
    "print('Lexicographically sorted')\n",
    "print(srt)\n",
    "\n",
    "# Weight Ordering\n",
    "srt = pt.sort(weight=True)\n",
    "print('Weight sorted')\n",
    "print(srt)"
   ]
  },
  {
   "cell_type": "code",
   "execution_count": 5,
   "id": "7a1f8124",
   "metadata": {
    "execution": {
     "iopub.execute_input": "2021-04-22T01:31:58.331589Z",
     "iopub.status.busy": "2021-04-22T01:31:58.330276Z",
     "iopub.status.idle": "2021-04-22T01:31:58.333415Z",
     "shell.execute_reply": "2021-04-22T01:31:58.332876Z"
    }
   },
   "outputs": [
    {
     "name": "stdout",
     "output_type": "stream",
     "text": [
      "PauliTable: ['IY', 'IZ', 'XY', 'XZ']\n"
     ]
    }
   ],
   "source": [
    "from qiskit.quantum_info.operators import PauliTable\n",
    "\n",
    "current = PauliTable.from_labels(['I', 'X'])\n",
    "other =  PauliTable.from_labels(['Y', 'Z'])\n",
    "print(current.tensor(other))"
   ]
  },
  {
   "cell_type": "code",
   "execution_count": 6,
   "id": "535abc40",
   "metadata": {
    "execution": {
     "iopub.execute_input": "2021-04-22T01:31:58.339462Z",
     "iopub.status.busy": "2021-04-22T01:31:58.338156Z",
     "iopub.status.idle": "2021-04-22T01:31:58.341303Z",
     "shell.execute_reply": "2021-04-22T01:31:58.340781Z"
    }
   },
   "outputs": [
    {
     "name": "stdout",
     "output_type": "stream",
     "text": [
      "PauliTable: ['X', 'Y', 'I', 'Z']\n"
     ]
    }
   ],
   "source": [
    "from qiskit.quantum_info.operators import PauliTable\n",
    "\n",
    "pt = PauliTable.from_labels(['X', 'Y', 'X', 'I', 'I', 'Z', 'X', 'Z'])\n",
    "unique = pt.unique()\n",
    "print(unique)"
   ]
  }
 ],
 "metadata": {
  "kernelspec": {
   "display_name": "Python 3",
   "language": "python",
   "name": "python3"
  },
  "language_info": {
   "codemirror_mode": {
    "name": "ipython",
    "version": 3
   },
   "file_extension": ".py",
   "mimetype": "text/x-python",
   "name": "python",
   "nbconvert_exporter": "python",
   "pygments_lexer": "ipython3",
   "version": "3.8.9"
  }
 },
 "nbformat": 4,
 "nbformat_minor": 5
}