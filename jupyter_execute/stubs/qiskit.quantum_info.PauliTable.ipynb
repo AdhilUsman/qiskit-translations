{
 "cells": [
  {
   "cell_type": "code",
   "execution_count": 1,
   "id": "ca68e2c4",
   "metadata": {
    "execution": {
     "iopub.execute_input": "2021-04-05T20:31:26.151330Z",
     "iopub.status.busy": "2021-04-05T20:31:26.150567Z",
     "iopub.status.idle": "2021-04-05T20:31:26.793717Z",
     "shell.execute_reply": "2021-04-05T20:31:26.794528Z"
    }
   },
   "outputs": [
    {
     "name": "stdout",
     "output_type": "stream",
     "text": [
      "PauliTable: ['Y', 'Z', 'Z', 'Y']\n"
     ]
    }
   ],
   "source": [
    "from qiskit.quantum_info.operators import PauliTable\n",
    "\n",
    "current = PauliTable.from_labels(['I', 'X'])\n",
    "other =  PauliTable.from_labels(['Y', 'Z'])\n",
    "print(current.compose(other))"
   ]
  },
  {
   "cell_type": "code",
   "execution_count": 2,
   "id": "886f18f3",
   "metadata": {
    "execution": {
     "iopub.execute_input": "2021-04-05T20:31:26.800689Z",
     "iopub.status.busy": "2021-04-05T20:31:26.799533Z",
     "iopub.status.idle": "2021-04-05T20:31:26.802294Z",
     "shell.execute_reply": "2021-04-05T20:31:26.801883Z"
    }
   },
   "outputs": [
    {
     "name": "stdout",
     "output_type": "stream",
     "text": [
      "PauliTable: ['Y', 'Z', 'Z', 'Y']\n"
     ]
    }
   ],
   "source": [
    "from qiskit.quantum_info.operators import PauliTable\n",
    "\n",
    "current = PauliTable.from_labels(['I', 'X'])\n",
    "other =  PauliTable.from_labels(['Y', 'Z'])\n",
    "print(current.dot(other))"
   ]
  },
  {
   "cell_type": "code",
   "execution_count": 3,
   "id": "41bed9e8",
   "metadata": {
    "execution": {
     "iopub.execute_input": "2021-04-05T20:31:26.807505Z",
     "iopub.status.busy": "2021-04-05T20:31:26.806420Z",
     "iopub.status.idle": "2021-04-05T20:31:26.809314Z",
     "shell.execute_reply": "2021-04-05T20:31:26.808834Z"
    }
   },
   "outputs": [
    {
     "name": "stdout",
     "output_type": "stream",
     "text": [
      "PauliTable: ['YI', 'YX', 'ZI', 'ZX']\n"
     ]
    }
   ],
   "source": [
    "from qiskit.quantum_info.operators import PauliTable\n",
    "\n",
    "current = PauliTable.from_labels(['I', 'X'])\n",
    "other =  PauliTable.from_labels(['Y', 'Z'])\n",
    "print(current.expand(other))"
   ]
  },
  {
   "cell_type": "code",
   "execution_count": 4,
   "id": "b3cbc52c",
   "metadata": {
    "execution": {
     "iopub.execute_input": "2021-04-05T20:31:26.816131Z",
     "iopub.status.busy": "2021-04-05T20:31:26.815615Z",
     "iopub.status.idle": "2021-04-05T20:31:26.818033Z",
     "shell.execute_reply": "2021-04-05T20:31:26.818446Z"
    }
   },
   "outputs": [
    {
     "name": "stdout",
     "output_type": "stream",
     "text": [
      "Initial Ordering\n",
      "PauliTable: ['XX', 'IY', 'ZX', 'II', 'XY', 'YI', 'YZ', 'ZI', 'ZZ', 'YX', 'IZ', 'XI', 'XZ', 'IX', 'ZY', 'YY']\n",
      "Lexicographically sorted\n",
      "PauliTable: ['II', 'IX', 'IY', 'IZ', 'XI', 'XX', 'XY', 'XZ', 'YI', 'YX', 'YY', 'YZ', 'ZI', 'ZX', 'ZY', 'ZZ']\n",
      "Weight sorted\n",
      "PauliTable: ['II', 'IX', 'IY', 'IZ', 'XI', 'YI', 'ZI', 'XX', 'XY', 'XZ', 'YX', 'YY', 'YZ', 'ZX', 'ZY', 'ZZ']\n"
     ]
    }
   ],
   "source": [
    "from numpy.random import shuffle\n",
    "from qiskit.quantum_info.operators import PauliTable\n",
    "\n",
    "# 2-qubit labels\n",
    "labels = ['II', 'IX', 'IY', 'IZ', 'XI', 'XX', 'XY', 'XZ',\n",
    "          'YI', 'YX', 'YY', 'YZ', 'ZI', 'ZX', 'ZY', 'ZZ']\n",
    "# Shuffle Labels\n",
    "shuffle(labels)\n",
    "pt = PauliTable.from_labels(labels)\n",
    "print('Initial Ordering')\n",
    "print(pt)\n",
    "\n",
    "# Lexicographic Ordering\n",
    "srt = pt.sort()\n",
    "print('Lexicographically sorted')\n",
    "print(srt)\n",
    "\n",
    "# Weight Ordering\n",
    "srt = pt.sort(weight=True)\n",
    "print('Weight sorted')\n",
    "print(srt)"
   ]
  },
  {
   "cell_type": "code",
   "execution_count": 5,
   "id": "577841a1",
   "metadata": {
    "execution": {
     "iopub.execute_input": "2021-04-05T20:31:26.823704Z",
     "iopub.status.busy": "2021-04-05T20:31:26.822473Z",
     "iopub.status.idle": "2021-04-05T20:31:26.825620Z",
     "shell.execute_reply": "2021-04-05T20:31:26.825125Z"
    }
   },
   "outputs": [
    {
     "name": "stdout",
     "output_type": "stream",
     "text": [
      "PauliTable: ['IY', 'IZ', 'XY', 'XZ']\n"
     ]
    }
   ],
   "source": [
    "from qiskit.quantum_info.operators import PauliTable\n",
    "\n",
    "current = PauliTable.from_labels(['I', 'X'])\n",
    "other =  PauliTable.from_labels(['Y', 'Z'])\n",
    "print(current.tensor(other))"
   ]
  },
  {
   "cell_type": "code",
   "execution_count": 6,
   "id": "71e4469f",
   "metadata": {
    "execution": {
     "iopub.execute_input": "2021-04-05T20:31:26.830950Z",
     "iopub.status.busy": "2021-04-05T20:31:26.829845Z",
     "iopub.status.idle": "2021-04-05T20:31:26.832683Z",
     "shell.execute_reply": "2021-04-05T20:31:26.832252Z"
    }
   },
   "outputs": [
    {
     "name": "stdout",
     "output_type": "stream",
     "text": [
      "PauliTable: ['X', 'Y', 'I', 'Z']\n"
     ]
    }
   ],
   "source": [
    "from qiskit.quantum_info.operators import PauliTable\n",
    "\n",
    "pt = PauliTable.from_labels(['X', 'Y', 'X', 'I', 'I', 'Z', 'X', 'Z'])\n",
    "unique = pt.unique()\n",
    "print(unique)"
   ]
  }
 ],
 "metadata": {
  "kernelspec": {
   "display_name": "Python 3",
   "language": "python",
   "name": "python3"
  },
  "language_info": {
   "codemirror_mode": {
    "name": "ipython",
    "version": 3
   },
   "file_extension": ".py",
   "mimetype": "text/x-python",
   "name": "python",
   "nbconvert_exporter": "python",
   "pygments_lexer": "ipython3",
   "version": "3.8.8"
  }
 },
 "nbformat": 4,
 "nbformat_minor": 5
}