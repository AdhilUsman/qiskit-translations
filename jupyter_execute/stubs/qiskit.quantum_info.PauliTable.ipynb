{
 "cells": [
  {
   "cell_type": "code",
   "execution_count": 1,
   "id": "6faeb0ee",
   "metadata": {
    "execution": {
     "iopub.execute_input": "2021-06-08T08:25:35.201014Z",
     "iopub.status.busy": "2021-06-08T08:25:35.200011Z",
     "iopub.status.idle": "2021-06-08T08:25:35.734741Z",
     "shell.execute_reply": "2021-06-08T08:25:35.735569Z"
    }
   },
   "outputs": [
    {
     "name": "stdout",
     "output_type": "stream",
     "text": [
      "PauliTable: ['Y', 'Z', 'Z', 'Y']\n"
     ]
    }
   ],
   "source": [
    "from qiskit.quantum_info.operators import PauliTable\n",
    "\n",
    "current = PauliTable.from_labels(['I', 'X'])\n",
    "other =  PauliTable.from_labels(['Y', 'Z'])\n",
    "print(current.compose(other))"
   ]
  },
  {
   "cell_type": "code",
   "execution_count": 2,
   "id": "4833f8bd",
   "metadata": {
    "execution": {
     "iopub.execute_input": "2021-06-08T08:25:35.740804Z",
     "iopub.status.busy": "2021-06-08T08:25:35.739780Z",
     "iopub.status.idle": "2021-06-08T08:25:35.742319Z",
     "shell.execute_reply": "2021-06-08T08:25:35.741878Z"
    }
   },
   "outputs": [
    {
     "name": "stdout",
     "output_type": "stream",
     "text": [
      "PauliTable: ['Y', 'Z', 'Z', 'Y']\n"
     ]
    }
   ],
   "source": [
    "from qiskit.quantum_info.operators import PauliTable\n",
    "\n",
    "current = PauliTable.from_labels(['I', 'X'])\n",
    "other =  PauliTable.from_labels(['Y', 'Z'])\n",
    "print(current.dot(other))"
   ]
  },
  {
   "cell_type": "code",
   "execution_count": 3,
   "id": "b3a9edb0",
   "metadata": {
    "execution": {
     "iopub.execute_input": "2021-06-08T08:25:35.747169Z",
     "iopub.status.busy": "2021-06-08T08:25:35.746135Z",
     "iopub.status.idle": "2021-06-08T08:25:35.748657Z",
     "shell.execute_reply": "2021-06-08T08:25:35.748251Z"
    }
   },
   "outputs": [
    {
     "name": "stdout",
     "output_type": "stream",
     "text": [
      "PauliTable: ['YI', 'YX', 'ZI', 'ZX']\n"
     ]
    }
   ],
   "source": [
    "from qiskit.quantum_info.operators import PauliTable\n",
    "\n",
    "current = PauliTable.from_labels(['I', 'X'])\n",
    "other =  PauliTable.from_labels(['Y', 'Z'])\n",
    "print(current.expand(other))"
   ]
  },
  {
   "cell_type": "code",
   "execution_count": 4,
   "id": "11e43446",
   "metadata": {
    "execution": {
     "iopub.execute_input": "2021-06-08T08:25:35.755075Z",
     "iopub.status.busy": "2021-06-08T08:25:35.752995Z",
     "iopub.status.idle": "2021-06-08T08:25:35.756989Z",
     "shell.execute_reply": "2021-06-08T08:25:35.757400Z"
    }
   },
   "outputs": [
    {
     "name": "stdout",
     "output_type": "stream",
     "text": [
      "Initial Ordering\n",
      "PauliTable: ['XI', 'ZY', 'YX', 'IX', 'II', 'XX', 'IY', 'IZ', 'YY', 'YZ', 'YI', 'ZX', 'ZI', 'XY', 'XZ', 'ZZ']\n",
      "Lexicographically sorted\n",
      "PauliTable: ['II', 'IX', 'IY', 'IZ', 'XI', 'XX', 'XY', 'XZ', 'YI', 'YX', 'YY', 'YZ', 'ZI', 'ZX', 'ZY', 'ZZ']\n",
      "Weight sorted\n",
      "PauliTable: ['II', 'IX', 'IY', 'IZ', 'XI', 'YI', 'ZI', 'XX', 'XY', 'XZ', 'YX', 'YY', 'YZ', 'ZX', 'ZY', 'ZZ']\n"
     ]
    }
   ],
   "source": [
    "from numpy.random import shuffle\n",
    "from qiskit.quantum_info.operators import PauliTable\n",
    "\n",
    "# 2-qubit labels\n",
    "labels = ['II', 'IX', 'IY', 'IZ', 'XI', 'XX', 'XY', 'XZ',\n",
    "          'YI', 'YX', 'YY', 'YZ', 'ZI', 'ZX', 'ZY', 'ZZ']\n",
    "# Shuffle Labels\n",
    "shuffle(labels)\n",
    "pt = PauliTable.from_labels(labels)\n",
    "print('Initial Ordering')\n",
    "print(pt)\n",
    "\n",
    "# Lexicographic Ordering\n",
    "srt = pt.sort()\n",
    "print('Lexicographically sorted')\n",
    "print(srt)\n",
    "\n",
    "# Weight Ordering\n",
    "srt = pt.sort(weight=True)\n",
    "print('Weight sorted')\n",
    "print(srt)"
   ]
  },
  {
   "cell_type": "code",
   "execution_count": 5,
   "id": "5f3242ed",
   "metadata": {
    "execution": {
     "iopub.execute_input": "2021-06-08T08:25:35.761887Z",
     "iopub.status.busy": "2021-06-08T08:25:35.760746Z",
     "iopub.status.idle": "2021-06-08T08:25:35.763648Z",
     "shell.execute_reply": "2021-06-08T08:25:35.763168Z"
    }
   },
   "outputs": [
    {
     "name": "stdout",
     "output_type": "stream",
     "text": [
      "PauliTable: ['IY', 'IZ', 'XY', 'XZ']\n"
     ]
    }
   ],
   "source": [
    "from qiskit.quantum_info.operators import PauliTable\n",
    "\n",
    "current = PauliTable.from_labels(['I', 'X'])\n",
    "other =  PauliTable.from_labels(['Y', 'Z'])\n",
    "print(current.tensor(other))"
   ]
  },
  {
   "cell_type": "code",
   "execution_count": 6,
   "id": "92f84640",
   "metadata": {
    "execution": {
     "iopub.execute_input": "2021-06-08T08:25:35.768254Z",
     "iopub.status.busy": "2021-06-08T08:25:35.767460Z",
     "iopub.status.idle": "2021-06-08T08:25:35.769907Z",
     "shell.execute_reply": "2021-06-08T08:25:35.769512Z"
    }
   },
   "outputs": [
    {
     "name": "stdout",
     "output_type": "stream",
     "text": [
      "PauliTable: ['X', 'Y', 'I', 'Z']\n"
     ]
    }
   ],
   "source": [
    "from qiskit.quantum_info.operators import PauliTable\n",
    "\n",
    "pt = PauliTable.from_labels(['X', 'Y', 'X', 'I', 'I', 'Z', 'X', 'Z'])\n",
    "unique = pt.unique()\n",
    "print(unique)"
   ]
  }
 ],
 "metadata": {
  "kernelspec": {
   "display_name": "Python 3",
   "language": "python",
   "name": "python3"
  },
  "language_info": {
   "codemirror_mode": {
    "name": "ipython",
    "version": 3
   },
   "file_extension": ".py",
   "mimetype": "text/x-python",
   "name": "python",
   "nbconvert_exporter": "python",
   "pygments_lexer": "ipython3",
   "version": "3.8.10"
  }
 },
 "nbformat": 4,
 "nbformat_minor": 5
}