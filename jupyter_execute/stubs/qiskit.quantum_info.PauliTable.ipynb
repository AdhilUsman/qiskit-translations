{
 "cells": [
  {
   "cell_type": "code",
   "execution_count": 1,
   "id": "401322ef",
   "metadata": {
    "execution": {
     "iopub.execute_input": "2021-04-22T21:36:56.735866Z",
     "iopub.status.busy": "2021-04-22T21:36:56.735400Z",
     "iopub.status.idle": "2021-04-22T21:36:57.362645Z",
     "shell.execute_reply": "2021-04-22T21:36:57.361959Z"
    }
   },
   "outputs": [
    {
     "name": "stdout",
     "output_type": "stream",
     "text": [
      "PauliTable: ['Y', 'Z', 'Z', 'Y']\n"
     ]
    }
   ],
   "source": [
    "from qiskit.quantum_info.operators import PauliTable\n",
    "\n",
    "current = PauliTable.from_labels(['I', 'X'])\n",
    "other =  PauliTable.from_labels(['Y', 'Z'])\n",
    "print(current.compose(other))"
   ]
  },
  {
   "cell_type": "code",
   "execution_count": 2,
   "id": "9942de9f",
   "metadata": {
    "execution": {
     "iopub.execute_input": "2021-04-22T21:36:57.367599Z",
     "iopub.status.busy": "2021-04-22T21:36:57.367077Z",
     "iopub.status.idle": "2021-04-22T21:36:57.371549Z",
     "shell.execute_reply": "2021-04-22T21:36:57.370741Z"
    }
   },
   "outputs": [
    {
     "name": "stdout",
     "output_type": "stream",
     "text": [
      "PauliTable: ['Y', 'Z', 'Z', 'Y']\n"
     ]
    }
   ],
   "source": [
    "from qiskit.quantum_info.operators import PauliTable\n",
    "\n",
    "current = PauliTable.from_labels(['I', 'X'])\n",
    "other =  PauliTable.from_labels(['Y', 'Z'])\n",
    "print(current.dot(other))"
   ]
  },
  {
   "cell_type": "code",
   "execution_count": 3,
   "id": "b783aed1",
   "metadata": {
    "execution": {
     "iopub.execute_input": "2021-04-22T21:36:57.376099Z",
     "iopub.status.busy": "2021-04-22T21:36:57.375478Z",
     "iopub.status.idle": "2021-04-22T21:36:57.380264Z",
     "shell.execute_reply": "2021-04-22T21:36:57.379786Z"
    }
   },
   "outputs": [
    {
     "name": "stdout",
     "output_type": "stream",
     "text": [
      "PauliTable: ['YI', 'YX', 'ZI', 'ZX']\n"
     ]
    }
   ],
   "source": [
    "from qiskit.quantum_info.operators import PauliTable\n",
    "\n",
    "current = PauliTable.from_labels(['I', 'X'])\n",
    "other =  PauliTable.from_labels(['Y', 'Z'])\n",
    "print(current.expand(other))"
   ]
  },
  {
   "cell_type": "code",
   "execution_count": 4,
   "id": "8307587a",
   "metadata": {
    "execution": {
     "iopub.execute_input": "2021-04-22T21:36:57.396112Z",
     "iopub.status.busy": "2021-04-22T21:36:57.393741Z",
     "iopub.status.idle": "2021-04-22T21:36:57.399959Z",
     "shell.execute_reply": "2021-04-22T21:36:57.399404Z"
    }
   },
   "outputs": [
    {
     "name": "stdout",
     "output_type": "stream",
     "text": [
      "Initial Ordering\n",
      "PauliTable: ['IZ', 'XZ', 'IX', 'YI', 'XX', 'ZY', 'IY', 'YY', 'YX', 'ZX', 'II', 'XI', 'ZZ', 'YZ', 'XY', 'ZI']\n",
      "Lexicographically sorted\n",
      "PauliTable: ['II', 'IX', 'IY', 'IZ', 'XI', 'XX', 'XY', 'XZ', 'YI', 'YX', 'YY', 'YZ', 'ZI', 'ZX', 'ZY', 'ZZ']\n",
      "Weight sorted\n",
      "PauliTable: ['II', 'IX', 'IY', 'IZ', 'XI', 'YI', 'ZI', 'XX', 'XY', 'XZ', 'YX', 'YY', 'YZ', 'ZX', 'ZY', 'ZZ']\n"
     ]
    }
   ],
   "source": [
    "from numpy.random import shuffle\n",
    "from qiskit.quantum_info.operators import PauliTable\n",
    "\n",
    "# 2-qubit labels\n",
    "labels = ['II', 'IX', 'IY', 'IZ', 'XI', 'XX', 'XY', 'XZ',\n",
    "          'YI', 'YX', 'YY', 'YZ', 'ZI', 'ZX', 'ZY', 'ZZ']\n",
    "# Shuffle Labels\n",
    "shuffle(labels)\n",
    "pt = PauliTable.from_labels(labels)\n",
    "print('Initial Ordering')\n",
    "print(pt)\n",
    "\n",
    "# Lexicographic Ordering\n",
    "srt = pt.sort()\n",
    "print('Lexicographically sorted')\n",
    "print(srt)\n",
    "\n",
    "# Weight Ordering\n",
    "srt = pt.sort(weight=True)\n",
    "print('Weight sorted')\n",
    "print(srt)"
   ]
  },
  {
   "cell_type": "code",
   "execution_count": 5,
   "id": "42d9abca",
   "metadata": {
    "execution": {
     "iopub.execute_input": "2021-04-22T21:36:57.405301Z",
     "iopub.status.busy": "2021-04-22T21:36:57.404428Z",
     "iopub.status.idle": "2021-04-22T21:36:57.407891Z",
     "shell.execute_reply": "2021-04-22T21:36:57.407396Z"
    }
   },
   "outputs": [
    {
     "name": "stdout",
     "output_type": "stream",
     "text": [
      "PauliTable: ['IY', 'IZ', 'XY', 'XZ']\n"
     ]
    }
   ],
   "source": [
    "from qiskit.quantum_info.operators import PauliTable\n",
    "\n",
    "current = PauliTable.from_labels(['I', 'X'])\n",
    "other =  PauliTable.from_labels(['Y', 'Z'])\n",
    "print(current.tensor(other))"
   ]
  },
  {
   "cell_type": "code",
   "execution_count": 6,
   "id": "8647d776",
   "metadata": {
    "execution": {
     "iopub.execute_input": "2021-04-22T21:36:57.413063Z",
     "iopub.status.busy": "2021-04-22T21:36:57.412534Z",
     "iopub.status.idle": "2021-04-22T21:36:57.416426Z",
     "shell.execute_reply": "2021-04-22T21:36:57.415369Z"
    }
   },
   "outputs": [
    {
     "name": "stdout",
     "output_type": "stream",
     "text": [
      "PauliTable: ['X', 'Y', 'I', 'Z']\n"
     ]
    }
   ],
   "source": [
    "from qiskit.quantum_info.operators import PauliTable\n",
    "\n",
    "pt = PauliTable.from_labels(['X', 'Y', 'X', 'I', 'I', 'Z', 'X', 'Z'])\n",
    "unique = pt.unique()\n",
    "print(unique)"
   ]
  }
 ],
 "metadata": {
  "kernelspec": {
   "display_name": "Python 3",
   "language": "python",
   "name": "python3"
  },
  "language_info": {
   "codemirror_mode": {
    "name": "ipython",
    "version": 3
   },
   "file_extension": ".py",
   "mimetype": "text/x-python",
   "name": "python",
   "nbconvert_exporter": "python",
   "pygments_lexer": "ipython3",
   "version": "3.8.9"
  }
 },
 "nbformat": 4,
 "nbformat_minor": 5
}