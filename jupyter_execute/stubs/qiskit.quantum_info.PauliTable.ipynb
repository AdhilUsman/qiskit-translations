{
 "cells": [
  {
   "cell_type": "code",
   "execution_count": 1,
   "id": "839af66e",
   "metadata": {
    "execution": {
     "iopub.execute_input": "2021-05-21T02:28:28.695001Z",
     "iopub.status.busy": "2021-05-21T02:28:28.694462Z",
     "iopub.status.idle": "2021-05-21T02:28:29.339121Z",
     "shell.execute_reply": "2021-05-21T02:28:29.339870Z"
    }
   },
   "outputs": [
    {
     "name": "stdout",
     "output_type": "stream",
     "text": [
      "PauliTable: ['Y', 'Z', 'Z', 'Y']\n"
     ]
    }
   ],
   "source": [
    "from qiskit.quantum_info.operators import PauliTable\n",
    "\n",
    "current = PauliTable.from_labels(['I', 'X'])\n",
    "other =  PauliTable.from_labels(['Y', 'Z'])\n",
    "print(current.compose(other))"
   ]
  },
  {
   "cell_type": "code",
   "execution_count": 2,
   "id": "41bb27f0",
   "metadata": {
    "execution": {
     "iopub.execute_input": "2021-05-21T02:28:29.345756Z",
     "iopub.status.busy": "2021-05-21T02:28:29.344532Z",
     "iopub.status.idle": "2021-05-21T02:28:29.347475Z",
     "shell.execute_reply": "2021-05-21T02:28:29.346982Z"
    }
   },
   "outputs": [
    {
     "name": "stdout",
     "output_type": "stream",
     "text": [
      "PauliTable: ['Y', 'Z', 'Z', 'Y']\n"
     ]
    }
   ],
   "source": [
    "from qiskit.quantum_info.operators import PauliTable\n",
    "\n",
    "current = PauliTable.from_labels(['I', 'X'])\n",
    "other =  PauliTable.from_labels(['Y', 'Z'])\n",
    "print(current.dot(other))"
   ]
  },
  {
   "cell_type": "code",
   "execution_count": 3,
   "id": "f0a662c3",
   "metadata": {
    "execution": {
     "iopub.execute_input": "2021-05-21T02:28:29.352824Z",
     "iopub.status.busy": "2021-05-21T02:28:29.351675Z",
     "iopub.status.idle": "2021-05-21T02:28:29.354563Z",
     "shell.execute_reply": "2021-05-21T02:28:29.354095Z"
    }
   },
   "outputs": [
    {
     "name": "stdout",
     "output_type": "stream",
     "text": [
      "PauliTable: ['YI', 'YX', 'ZI', 'ZX']\n"
     ]
    }
   ],
   "source": [
    "from qiskit.quantum_info.operators import PauliTable\n",
    "\n",
    "current = PauliTable.from_labels(['I', 'X'])\n",
    "other =  PauliTable.from_labels(['Y', 'Z'])\n",
    "print(current.expand(other))"
   ]
  },
  {
   "cell_type": "code",
   "execution_count": 4,
   "id": "e10aeea0",
   "metadata": {
    "execution": {
     "iopub.execute_input": "2021-05-21T02:28:29.361252Z",
     "iopub.status.busy": "2021-05-21T02:28:29.359457Z",
     "iopub.status.idle": "2021-05-21T02:28:29.363205Z",
     "shell.execute_reply": "2021-05-21T02:28:29.363615Z"
    }
   },
   "outputs": [
    {
     "name": "stdout",
     "output_type": "stream",
     "text": [
      "Initial Ordering\n",
      "PauliTable: ['XI', 'IZ', 'ZX', 'IY', 'YX', 'YZ', 'YI', 'XZ', 'ZZ', 'II', 'ZY', 'YY', 'ZI', 'IX', 'XY', 'XX']\n",
      "Lexicographically sorted\n",
      "PauliTable: ['II', 'IX', 'IY', 'IZ', 'XI', 'XX', 'XY', 'XZ', 'YI', 'YX', 'YY', 'YZ', 'ZI', 'ZX', 'ZY', 'ZZ']\n",
      "Weight sorted\n",
      "PauliTable: ['II', 'IX', 'IY', 'IZ', 'XI', 'YI', 'ZI', 'XX', 'XY', 'XZ', 'YX', 'YY', 'YZ', 'ZX', 'ZY', 'ZZ']\n"
     ]
    }
   ],
   "source": [
    "from numpy.random import shuffle\n",
    "from qiskit.quantum_info.operators import PauliTable\n",
    "\n",
    "# 2-qubit labels\n",
    "labels = ['II', 'IX', 'IY', 'IZ', 'XI', 'XX', 'XY', 'XZ',\n",
    "          'YI', 'YX', 'YY', 'YZ', 'ZI', 'ZX', 'ZY', 'ZZ']\n",
    "# Shuffle Labels\n",
    "shuffle(labels)\n",
    "pt = PauliTable.from_labels(labels)\n",
    "print('Initial Ordering')\n",
    "print(pt)\n",
    "\n",
    "# Lexicographic Ordering\n",
    "srt = pt.sort()\n",
    "print('Lexicographically sorted')\n",
    "print(srt)\n",
    "\n",
    "# Weight Ordering\n",
    "srt = pt.sort(weight=True)\n",
    "print('Weight sorted')\n",
    "print(srt)"
   ]
  },
  {
   "cell_type": "code",
   "execution_count": 5,
   "id": "95ef5344",
   "metadata": {
    "execution": {
     "iopub.execute_input": "2021-05-21T02:28:29.369081Z",
     "iopub.status.busy": "2021-05-21T02:28:29.367795Z",
     "iopub.status.idle": "2021-05-21T02:28:29.370852Z",
     "shell.execute_reply": "2021-05-21T02:28:29.370385Z"
    }
   },
   "outputs": [
    {
     "name": "stdout",
     "output_type": "stream",
     "text": [
      "PauliTable: ['IY', 'IZ', 'XY', 'XZ']\n"
     ]
    }
   ],
   "source": [
    "from qiskit.quantum_info.operators import PauliTable\n",
    "\n",
    "current = PauliTable.from_labels(['I', 'X'])\n",
    "other =  PauliTable.from_labels(['Y', 'Z'])\n",
    "print(current.tensor(other))"
   ]
  },
  {
   "cell_type": "code",
   "execution_count": 6,
   "id": "0940053e",
   "metadata": {
    "execution": {
     "iopub.execute_input": "2021-05-21T02:28:29.376315Z",
     "iopub.status.busy": "2021-05-21T02:28:29.375087Z",
     "iopub.status.idle": "2021-05-21T02:28:29.378011Z",
     "shell.execute_reply": "2021-05-21T02:28:29.377542Z"
    }
   },
   "outputs": [
    {
     "name": "stdout",
     "output_type": "stream",
     "text": [
      "PauliTable: ['X', 'Y', 'I', 'Z']\n"
     ]
    }
   ],
   "source": [
    "from qiskit.quantum_info.operators import PauliTable\n",
    "\n",
    "pt = PauliTable.from_labels(['X', 'Y', 'X', 'I', 'I', 'Z', 'X', 'Z'])\n",
    "unique = pt.unique()\n",
    "print(unique)"
   ]
  }
 ],
 "metadata": {
  "kernelspec": {
   "display_name": "Python 3",
   "language": "python",
   "name": "python3"
  },
  "language_info": {
   "codemirror_mode": {
    "name": "ipython",
    "version": 3
   },
   "file_extension": ".py",
   "mimetype": "text/x-python",
   "name": "python",
   "nbconvert_exporter": "python",
   "pygments_lexer": "ipython3",
   "version": "3.8.10"
  }
 },
 "nbformat": 4,
 "nbformat_minor": 5
}