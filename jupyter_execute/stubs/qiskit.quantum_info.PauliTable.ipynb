{
 "cells": [
  {
   "cell_type": "code",
   "execution_count": 1,
   "id": "earned-rough",
   "metadata": {
    "execution": {
     "iopub.execute_input": "2021-03-28T16:39:37.649080Z",
     "iopub.status.busy": "2021-03-28T16:39:37.648610Z",
     "iopub.status.idle": "2021-03-28T16:39:39.214766Z",
     "shell.execute_reply": "2021-03-28T16:39:39.214286Z"
    }
   },
   "outputs": [
    {
     "name": "stdout",
     "output_type": "stream",
     "text": [
      "PauliTable: ['Y', 'Z', 'Z', 'Y']\n"
     ]
    }
   ],
   "source": [
    "from qiskit.quantum_info.operators import PauliTable\n",
    "\n",
    "current = PauliTable.from_labels(['I', 'X'])\n",
    "other =  PauliTable.from_labels(['Y', 'Z'])\n",
    "print(current.compose(other))"
   ]
  },
  {
   "cell_type": "code",
   "execution_count": 2,
   "id": "radio-chinese",
   "metadata": {
    "execution": {
     "iopub.execute_input": "2021-03-28T16:39:39.220362Z",
     "iopub.status.busy": "2021-03-28T16:39:39.219625Z",
     "iopub.status.idle": "2021-03-28T16:39:39.222166Z",
     "shell.execute_reply": "2021-03-28T16:39:39.221819Z"
    }
   },
   "outputs": [
    {
     "name": "stdout",
     "output_type": "stream",
     "text": [
      "PauliTable: ['Y', 'Z', 'Z', 'Y']\n"
     ]
    }
   ],
   "source": [
    "from qiskit.quantum_info.operators import PauliTable\n",
    "\n",
    "current = PauliTable.from_labels(['I', 'X'])\n",
    "other =  PauliTable.from_labels(['Y', 'Z'])\n",
    "print(current.dot(other))"
   ]
  },
  {
   "cell_type": "code",
   "execution_count": 3,
   "id": "aquatic-february",
   "metadata": {
    "execution": {
     "iopub.execute_input": "2021-03-28T16:39:39.226690Z",
     "iopub.status.busy": "2021-03-28T16:39:39.226296Z",
     "iopub.status.idle": "2021-03-28T16:39:39.228291Z",
     "shell.execute_reply": "2021-03-28T16:39:39.228632Z"
    }
   },
   "outputs": [
    {
     "name": "stdout",
     "output_type": "stream",
     "text": [
      "PauliTable: ['YI', 'ZI', 'YX', 'ZX']\n"
     ]
    }
   ],
   "source": [
    "from qiskit.quantum_info.operators import PauliTable\n",
    "\n",
    "current = PauliTable.from_labels(['I', 'X'])\n",
    "other =  PauliTable.from_labels(['Y', 'Z'])\n",
    "print(current.expand(other))"
   ]
  },
  {
   "cell_type": "code",
   "execution_count": 4,
   "id": "unnecessary-appreciation",
   "metadata": {
    "execution": {
     "iopub.execute_input": "2021-03-28T16:39:39.235052Z",
     "iopub.status.busy": "2021-03-28T16:39:39.234615Z",
     "iopub.status.idle": "2021-03-28T16:39:39.236716Z",
     "shell.execute_reply": "2021-03-28T16:39:39.237044Z"
    }
   },
   "outputs": [
    {
     "name": "stdout",
     "output_type": "stream",
     "text": [
      "Initial Ordering\n",
      "PauliTable: ['II', 'XY', 'XZ', 'YI', 'ZX', 'ZZ', 'IX', 'IZ', 'XI', 'IY', 'YX', 'ZI', 'XX', 'YZ', 'ZY', 'YY']\n",
      "Lexicographically sorted\n",
      "PauliTable: ['II', 'IX', 'IY', 'IZ', 'XI', 'XX', 'XY', 'XZ', 'YI', 'YX', 'YY', 'YZ', 'ZI', 'ZX', 'ZY', 'ZZ']\n",
      "Weight sorted\n",
      "PauliTable: ['II', 'IX', 'IY', 'IZ', 'XI', 'YI', 'ZI', 'XX', 'XY', 'XZ', 'YX', 'YY', 'YZ', 'ZX', 'ZY', 'ZZ']\n"
     ]
    }
   ],
   "source": [
    "from numpy.random import shuffle\n",
    "from qiskit.quantum_info.operators import PauliTable\n",
    "\n",
    "# 2-qubit labels\n",
    "labels = ['II', 'IX', 'IY', 'IZ', 'XI', 'XX', 'XY', 'XZ',\n",
    "          'YI', 'YX', 'YY', 'YZ', 'ZI', 'ZX', 'ZY', 'ZZ']\n",
    "# Shuffle Labels\n",
    "shuffle(labels)\n",
    "pt = PauliTable.from_labels(labels)\n",
    "print('Initial Ordering')\n",
    "print(pt)\n",
    "\n",
    "# Lexicographic Ordering\n",
    "srt = pt.sort()\n",
    "print('Lexicographically sorted')\n",
    "print(srt)\n",
    "\n",
    "# Weight Ordering\n",
    "srt = pt.sort(weight=True)\n",
    "print('Weight sorted')\n",
    "print(srt)"
   ]
  },
  {
   "cell_type": "code",
   "execution_count": 5,
   "id": "liked-planet",
   "metadata": {
    "execution": {
     "iopub.execute_input": "2021-03-28T16:39:39.241290Z",
     "iopub.status.busy": "2021-03-28T16:39:39.240901Z",
     "iopub.status.idle": "2021-03-28T16:39:39.243064Z",
     "shell.execute_reply": "2021-03-28T16:39:39.243487Z"
    }
   },
   "outputs": [
    {
     "name": "stdout",
     "output_type": "stream",
     "text": [
      "PauliTable: ['IY', 'IZ', 'XY', 'XZ']\n"
     ]
    }
   ],
   "source": [
    "from qiskit.quantum_info.operators import PauliTable\n",
    "\n",
    "current = PauliTable.from_labels(['I', 'X'])\n",
    "other =  PauliTable.from_labels(['Y', 'Z'])\n",
    "print(current.tensor(other))"
   ]
  },
  {
   "cell_type": "code",
   "execution_count": 6,
   "id": "burning-martin",
   "metadata": {
    "execution": {
     "iopub.execute_input": "2021-03-28T16:39:39.247793Z",
     "iopub.status.busy": "2021-03-28T16:39:39.247382Z",
     "iopub.status.idle": "2021-03-28T16:39:39.249411Z",
     "shell.execute_reply": "2021-03-28T16:39:39.249729Z"
    }
   },
   "outputs": [
    {
     "name": "stdout",
     "output_type": "stream",
     "text": [
      "PauliTable: ['X', 'Y', 'I', 'Z']\n"
     ]
    }
   ],
   "source": [
    "from qiskit.quantum_info.operators import PauliTable\n",
    "\n",
    "pt = PauliTable.from_labels(['X', 'Y', 'X', 'I', 'I', 'Z', 'X', 'Z'])\n",
    "unique = pt.unique()\n",
    "print(unique)"
   ]
  }
 ],
 "metadata": {
  "kernelspec": {
   "display_name": "Python 3",
   "language": "python",
   "name": "python3"
  },
  "language_info": {
   "codemirror_mode": {
    "name": "ipython",
    "version": 3
   },
   "file_extension": ".py",
   "mimetype": "text/x-python",
   "name": "python",
   "nbconvert_exporter": "python",
   "pygments_lexer": "ipython3",
   "version": "3.8.8"
  }
 },
 "nbformat": 4,
 "nbformat_minor": 5
}