{
 "cells": [
  {
   "cell_type": "code",
   "execution_count": 1,
   "id": "73e1a22c",
   "metadata": {
    "execution": {
     "iopub.execute_input": "2021-04-16T07:20:49.026170Z",
     "iopub.status.busy": "2021-04-16T07:20:49.025614Z",
     "iopub.status.idle": "2021-04-16T07:20:49.757059Z",
     "shell.execute_reply": "2021-04-16T07:20:49.757763Z"
    }
   },
   "outputs": [
    {
     "name": "stdout",
     "output_type": "stream",
     "text": [
      "PauliTable: ['Y', 'Z', 'Z', 'Y']\n"
     ]
    }
   ],
   "source": [
    "from qiskit.quantum_info.operators import PauliTable\n",
    "\n",
    "current = PauliTable.from_labels(['I', 'X'])\n",
    "other =  PauliTable.from_labels(['Y', 'Z'])\n",
    "print(current.compose(other))"
   ]
  },
  {
   "cell_type": "code",
   "execution_count": 2,
   "id": "97fdd545",
   "metadata": {
    "execution": {
     "iopub.execute_input": "2021-04-16T07:20:49.764450Z",
     "iopub.status.busy": "2021-04-16T07:20:49.763360Z",
     "iopub.status.idle": "2021-04-16T07:20:49.766785Z",
     "shell.execute_reply": "2021-04-16T07:20:49.766275Z"
    }
   },
   "outputs": [
    {
     "name": "stdout",
     "output_type": "stream",
     "text": [
      "PauliTable: ['Y', 'Z', 'Z', 'Y']\n"
     ]
    }
   ],
   "source": [
    "from qiskit.quantum_info.operators import PauliTable\n",
    "\n",
    "current = PauliTable.from_labels(['I', 'X'])\n",
    "other =  PauliTable.from_labels(['Y', 'Z'])\n",
    "print(current.dot(other))"
   ]
  },
  {
   "cell_type": "code",
   "execution_count": 3,
   "id": "18193292",
   "metadata": {
    "execution": {
     "iopub.execute_input": "2021-04-16T07:20:49.773549Z",
     "iopub.status.busy": "2021-04-16T07:20:49.772165Z",
     "iopub.status.idle": "2021-04-16T07:20:49.775648Z",
     "shell.execute_reply": "2021-04-16T07:20:49.775082Z"
    }
   },
   "outputs": [
    {
     "name": "stdout",
     "output_type": "stream",
     "text": [
      "PauliTable: ['YI', 'YX', 'ZI', 'ZX']\n"
     ]
    }
   ],
   "source": [
    "from qiskit.quantum_info.operators import PauliTable\n",
    "\n",
    "current = PauliTable.from_labels(['I', 'X'])\n",
    "other =  PauliTable.from_labels(['Y', 'Z'])\n",
    "print(current.expand(other))"
   ]
  },
  {
   "cell_type": "code",
   "execution_count": 4,
   "id": "4c33bf6b",
   "metadata": {
    "execution": {
     "iopub.execute_input": "2021-04-16T07:20:49.785515Z",
     "iopub.status.busy": "2021-04-16T07:20:49.782876Z",
     "iopub.status.idle": "2021-04-16T07:20:49.788333Z",
     "shell.execute_reply": "2021-04-16T07:20:49.788859Z"
    }
   },
   "outputs": [
    {
     "name": "stdout",
     "output_type": "stream",
     "text": [
      "Initial Ordering\n",
      "PauliTable: ['ZX', 'IX', 'II', 'XX', 'YZ', 'ZZ', 'YI', 'YY', 'IZ', 'IY', 'YX', 'XI', 'XZ', 'XY', 'ZY', 'ZI']\n",
      "Lexicographically sorted\n",
      "PauliTable: ['II', 'IX', 'IY', 'IZ', 'XI', 'XX', 'XY', 'XZ', 'YI', 'YX', 'YY', 'YZ', 'ZI', 'ZX', 'ZY', 'ZZ']\n",
      "Weight sorted\n",
      "PauliTable: ['II', 'IX', 'IY', 'IZ', 'XI', 'YI', 'ZI', 'XX', 'XY', 'XZ', 'YX', 'YY', 'YZ', 'ZX', 'ZY', 'ZZ']\n"
     ]
    }
   ],
   "source": [
    "from numpy.random import shuffle\n",
    "from qiskit.quantum_info.operators import PauliTable\n",
    "\n",
    "# 2-qubit labels\n",
    "labels = ['II', 'IX', 'IY', 'IZ', 'XI', 'XX', 'XY', 'XZ',\n",
    "          'YI', 'YX', 'YY', 'YZ', 'ZI', 'ZX', 'ZY', 'ZZ']\n",
    "# Shuffle Labels\n",
    "shuffle(labels)\n",
    "pt = PauliTable.from_labels(labels)\n",
    "print('Initial Ordering')\n",
    "print(pt)\n",
    "\n",
    "# Lexicographic Ordering\n",
    "srt = pt.sort()\n",
    "print('Lexicographically sorted')\n",
    "print(srt)\n",
    "\n",
    "# Weight Ordering\n",
    "srt = pt.sort(weight=True)\n",
    "print('Weight sorted')\n",
    "print(srt)"
   ]
  },
  {
   "cell_type": "code",
   "execution_count": 5,
   "id": "9754650e",
   "metadata": {
    "execution": {
     "iopub.execute_input": "2021-04-16T07:20:49.795671Z",
     "iopub.status.busy": "2021-04-16T07:20:49.794046Z",
     "iopub.status.idle": "2021-04-16T07:20:49.797837Z",
     "shell.execute_reply": "2021-04-16T07:20:49.797167Z"
    }
   },
   "outputs": [
    {
     "name": "stdout",
     "output_type": "stream",
     "text": [
      "PauliTable: ['IY', 'IZ', 'XY', 'XZ']\n"
     ]
    }
   ],
   "source": [
    "from qiskit.quantum_info.operators import PauliTable\n",
    "\n",
    "current = PauliTable.from_labels(['I', 'X'])\n",
    "other =  PauliTable.from_labels(['Y', 'Z'])\n",
    "print(current.tensor(other))"
   ]
  },
  {
   "cell_type": "code",
   "execution_count": 6,
   "id": "49d00817",
   "metadata": {
    "execution": {
     "iopub.execute_input": "2021-04-16T07:20:49.803885Z",
     "iopub.status.busy": "2021-04-16T07:20:49.802781Z",
     "iopub.status.idle": "2021-04-16T07:20:49.806177Z",
     "shell.execute_reply": "2021-04-16T07:20:49.805681Z"
    }
   },
   "outputs": [
    {
     "name": "stdout",
     "output_type": "stream",
     "text": [
      "PauliTable: ['X', 'Y', 'I', 'Z']\n"
     ]
    }
   ],
   "source": [
    "from qiskit.quantum_info.operators import PauliTable\n",
    "\n",
    "pt = PauliTable.from_labels(['X', 'Y', 'X', 'I', 'I', 'Z', 'X', 'Z'])\n",
    "unique = pt.unique()\n",
    "print(unique)"
   ]
  }
 ],
 "metadata": {
  "kernelspec": {
   "display_name": "Python 3",
   "language": "python",
   "name": "python3"
  },
  "language_info": {
   "codemirror_mode": {
    "name": "ipython",
    "version": 3
   },
   "file_extension": ".py",
   "mimetype": "text/x-python",
   "name": "python",
   "nbconvert_exporter": "python",
   "pygments_lexer": "ipython3",
   "version": "3.8.9"
  }
 },
 "nbformat": 4,
 "nbformat_minor": 5
}