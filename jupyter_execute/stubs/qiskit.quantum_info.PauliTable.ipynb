{
 "cells": [
  {
   "cell_type": "code",
   "execution_count": 1,
   "id": "a941ad5c",
   "metadata": {
    "execution": {
     "iopub.execute_input": "2021-06-15T05:54:57.212530Z",
     "iopub.status.busy": "2021-06-15T05:54:57.211906Z",
     "iopub.status.idle": "2021-06-15T05:54:57.831309Z",
     "shell.execute_reply": "2021-06-15T05:54:57.830605Z"
    }
   },
   "outputs": [
    {
     "name": "stdout",
     "output_type": "stream",
     "text": [
      "PauliTable: ['Y', 'Z', 'Z', 'Y']\n"
     ]
    }
   ],
   "source": [
    "from qiskit.quantum_info.operators import PauliTable\n",
    "\n",
    "current = PauliTable.from_labels(['I', 'X'])\n",
    "other =  PauliTable.from_labels(['Y', 'Z'])\n",
    "print(current.compose(other))"
   ]
  },
  {
   "cell_type": "code",
   "execution_count": 2,
   "id": "b072b1c6",
   "metadata": {
    "execution": {
     "iopub.execute_input": "2021-06-15T05:54:57.836664Z",
     "iopub.status.busy": "2021-06-15T05:54:57.835717Z",
     "iopub.status.idle": "2021-06-15T05:54:57.840343Z",
     "shell.execute_reply": "2021-06-15T05:54:57.839875Z"
    }
   },
   "outputs": [
    {
     "name": "stdout",
     "output_type": "stream",
     "text": [
      "PauliTable: ['Y', 'Z', 'Z', 'Y']\n"
     ]
    }
   ],
   "source": [
    "from qiskit.quantum_info.operators import PauliTable\n",
    "\n",
    "current = PauliTable.from_labels(['I', 'X'])\n",
    "other =  PauliTable.from_labels(['Y', 'Z'])\n",
    "print(current.dot(other))"
   ]
  },
  {
   "cell_type": "code",
   "execution_count": 3,
   "id": "297a7c46",
   "metadata": {
    "execution": {
     "iopub.execute_input": "2021-06-15T05:54:57.844706Z",
     "iopub.status.busy": "2021-06-15T05:54:57.844044Z",
     "iopub.status.idle": "2021-06-15T05:54:57.847980Z",
     "shell.execute_reply": "2021-06-15T05:54:57.848417Z"
    }
   },
   "outputs": [
    {
     "name": "stdout",
     "output_type": "stream",
     "text": [
      "PauliTable: ['YI', 'YX', 'ZI', 'ZX']\n"
     ]
    }
   ],
   "source": [
    "from qiskit.quantum_info.operators import PauliTable\n",
    "\n",
    "current = PauliTable.from_labels(['I', 'X'])\n",
    "other =  PauliTable.from_labels(['Y', 'Z'])\n",
    "print(current.expand(other))"
   ]
  },
  {
   "cell_type": "code",
   "execution_count": 4,
   "id": "e5ff1154",
   "metadata": {
    "execution": {
     "iopub.execute_input": "2021-06-15T05:54:57.855370Z",
     "iopub.status.busy": "2021-06-15T05:54:57.852780Z",
     "iopub.status.idle": "2021-06-15T05:54:57.859675Z",
     "shell.execute_reply": "2021-06-15T05:54:57.859202Z"
    }
   },
   "outputs": [
    {
     "name": "stdout",
     "output_type": "stream",
     "text": [
      "Initial Ordering\n",
      "PauliTable: ['IX', 'YY', 'XX', 'XI', 'ZZ', 'ZY', 'ZI', 'YX', 'YZ', 'ZX', 'XY', 'XZ', 'IY', 'IZ', 'II', 'YI']\n",
      "Lexicographically sorted\n",
      "PauliTable: ['II', 'IX', 'IY', 'IZ', 'XI', 'XX', 'XY', 'XZ', 'YI', 'YX', 'YY', 'YZ', 'ZI', 'ZX', 'ZY', 'ZZ']\n",
      "Weight sorted\n",
      "PauliTable: ['II', 'IX', 'IY', 'IZ', 'XI', 'YI', 'ZI', 'XX', 'XY', 'XZ', 'YX', 'YY', 'YZ', 'ZX', 'ZY', 'ZZ']\n"
     ]
    }
   ],
   "source": [
    "from numpy.random import shuffle\n",
    "from qiskit.quantum_info.operators import PauliTable\n",
    "\n",
    "# 2-qubit labels\n",
    "labels = ['II', 'IX', 'IY', 'IZ', 'XI', 'XX', 'XY', 'XZ',\n",
    "          'YI', 'YX', 'YY', 'YZ', 'ZI', 'ZX', 'ZY', 'ZZ']\n",
    "# Shuffle Labels\n",
    "shuffle(labels)\n",
    "pt = PauliTable.from_labels(labels)\n",
    "print('Initial Ordering')\n",
    "print(pt)\n",
    "\n",
    "# Lexicographic Ordering\n",
    "srt = pt.sort()\n",
    "print('Lexicographically sorted')\n",
    "print(srt)\n",
    "\n",
    "# Weight Ordering\n",
    "srt = pt.sort(weight=True)\n",
    "print('Weight sorted')\n",
    "print(srt)"
   ]
  },
  {
   "cell_type": "code",
   "execution_count": 5,
   "id": "d483c7fe",
   "metadata": {
    "execution": {
     "iopub.execute_input": "2021-06-15T05:54:57.864008Z",
     "iopub.status.busy": "2021-06-15T05:54:57.863454Z",
     "iopub.status.idle": "2021-06-15T05:54:57.868097Z",
     "shell.execute_reply": "2021-06-15T05:54:57.867411Z"
    }
   },
   "outputs": [
    {
     "name": "stdout",
     "output_type": "stream",
     "text": [
      "PauliTable: ['IY', 'IZ', 'XY', 'XZ']\n"
     ]
    }
   ],
   "source": [
    "from qiskit.quantum_info.operators import PauliTable\n",
    "\n",
    "current = PauliTable.from_labels(['I', 'X'])\n",
    "other =  PauliTable.from_labels(['Y', 'Z'])\n",
    "print(current.tensor(other))"
   ]
  },
  {
   "cell_type": "code",
   "execution_count": 6,
   "id": "57c12cbd",
   "metadata": {
    "execution": {
     "iopub.execute_input": "2021-06-15T05:54:57.872302Z",
     "iopub.status.busy": "2021-06-15T05:54:57.871775Z",
     "iopub.status.idle": "2021-06-15T05:54:57.876129Z",
     "shell.execute_reply": "2021-06-15T05:54:57.875661Z"
    }
   },
   "outputs": [
    {
     "name": "stdout",
     "output_type": "stream",
     "text": [
      "PauliTable: ['X', 'Y', 'I', 'Z']\n"
     ]
    }
   ],
   "source": [
    "from qiskit.quantum_info.operators import PauliTable\n",
    "\n",
    "pt = PauliTable.from_labels(['X', 'Y', 'X', 'I', 'I', 'Z', 'X', 'Z'])\n",
    "unique = pt.unique()\n",
    "print(unique)"
   ]
  }
 ],
 "metadata": {
  "kernelspec": {
   "display_name": "Python 3",
   "language": "python",
   "name": "python3"
  },
  "language_info": {
   "codemirror_mode": {
    "name": "ipython",
    "version": 3
   },
   "file_extension": ".py",
   "mimetype": "text/x-python",
   "name": "python",
   "nbconvert_exporter": "python",
   "pygments_lexer": "ipython3",
   "version": "3.8.10"
  }
 },
 "nbformat": 4,
 "nbformat_minor": 5
}