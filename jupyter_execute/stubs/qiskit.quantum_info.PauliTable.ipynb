{
 "cells": [
  {
   "cell_type": "code",
   "execution_count": 1,
   "id": "personal-matthew",
   "metadata": {
    "execution": {
     "iopub.execute_input": "2021-03-28T16:13:22.992085Z",
     "iopub.status.busy": "2021-03-28T16:13:22.991615Z",
     "iopub.status.idle": "2021-03-28T16:13:24.779798Z",
     "shell.execute_reply": "2021-03-28T16:13:24.779265Z"
    }
   },
   "outputs": [
    {
     "name": "stdout",
     "output_type": "stream",
     "text": [
      "PauliTable: ['Y', 'Z', 'Z', 'Y']\n"
     ]
    }
   ],
   "source": [
    "from qiskit.quantum_info.operators import PauliTable\n",
    "\n",
    "current = PauliTable.from_labels(['I', 'X'])\n",
    "other =  PauliTable.from_labels(['Y', 'Z'])\n",
    "print(current.compose(other))"
   ]
  },
  {
   "cell_type": "code",
   "execution_count": 2,
   "id": "falling-vietnam",
   "metadata": {
    "execution": {
     "iopub.execute_input": "2021-03-28T16:13:24.785136Z",
     "iopub.status.busy": "2021-03-28T16:13:24.784607Z",
     "iopub.status.idle": "2021-03-28T16:13:24.787323Z",
     "shell.execute_reply": "2021-03-28T16:13:24.787693Z"
    }
   },
   "outputs": [
    {
     "name": "stdout",
     "output_type": "stream",
     "text": [
      "PauliTable: ['Y', 'Z', 'Z', 'Y']\n"
     ]
    }
   ],
   "source": [
    "from qiskit.quantum_info.operators import PauliTable\n",
    "\n",
    "current = PauliTable.from_labels(['I', 'X'])\n",
    "other =  PauliTable.from_labels(['Y', 'Z'])\n",
    "print(current.dot(other))"
   ]
  },
  {
   "cell_type": "code",
   "execution_count": 3,
   "id": "advanced-measurement",
   "metadata": {
    "execution": {
     "iopub.execute_input": "2021-03-28T16:13:24.793094Z",
     "iopub.status.busy": "2021-03-28T16:13:24.791969Z",
     "iopub.status.idle": "2021-03-28T16:13:24.794711Z",
     "shell.execute_reply": "2021-03-28T16:13:24.794338Z"
    }
   },
   "outputs": [
    {
     "name": "stdout",
     "output_type": "stream",
     "text": [
      "PauliTable: ['YI', 'ZI', 'YX', 'ZX']\n"
     ]
    }
   ],
   "source": [
    "from qiskit.quantum_info.operators import PauliTable\n",
    "\n",
    "current = PauliTable.from_labels(['I', 'X'])\n",
    "other =  PauliTable.from_labels(['Y', 'Z'])\n",
    "print(current.expand(other))"
   ]
  },
  {
   "cell_type": "code",
   "execution_count": 4,
   "id": "suburban-mercury",
   "metadata": {
    "execution": {
     "iopub.execute_input": "2021-03-28T16:13:24.801417Z",
     "iopub.status.busy": "2021-03-28T16:13:24.799507Z",
     "iopub.status.idle": "2021-03-28T16:13:24.803193Z",
     "shell.execute_reply": "2021-03-28T16:13:24.803674Z"
    }
   },
   "outputs": [
    {
     "name": "stdout",
     "output_type": "stream",
     "text": [
      "Initial Ordering\n",
      "PauliTable: ['YX', 'XI', 'YY', 'XZ', 'II', 'XY', 'YZ', 'YI', 'ZY', 'ZI', 'ZZ', 'XX', 'ZX', 'IY', 'IZ', 'IX']\n",
      "Lexicographically sorted\n",
      "PauliTable: ['II', 'IX', 'IY', 'IZ', 'XI', 'XX', 'XY', 'XZ', 'YI', 'YX', 'YY', 'YZ', 'ZI', 'ZX', 'ZY', 'ZZ']\n",
      "Weight sorted\n",
      "PauliTable: ['II', 'IX', 'IY', 'IZ', 'XI', 'YI', 'ZI', 'XX', 'XY', 'XZ', 'YX', 'YY', 'YZ', 'ZX', 'ZY', 'ZZ']\n"
     ]
    }
   ],
   "source": [
    "from numpy.random import shuffle\n",
    "from qiskit.quantum_info.operators import PauliTable\n",
    "\n",
    "# 2-qubit labels\n",
    "labels = ['II', 'IX', 'IY', 'IZ', 'XI', 'XX', 'XY', 'XZ',\n",
    "          'YI', 'YX', 'YY', 'YZ', 'ZI', 'ZX', 'ZY', 'ZZ']\n",
    "# Shuffle Labels\n",
    "shuffle(labels)\n",
    "pt = PauliTable.from_labels(labels)\n",
    "print('Initial Ordering')\n",
    "print(pt)\n",
    "\n",
    "# Lexicographic Ordering\n",
    "srt = pt.sort()\n",
    "print('Lexicographically sorted')\n",
    "print(srt)\n",
    "\n",
    "# Weight Ordering\n",
    "srt = pt.sort(weight=True)\n",
    "print('Weight sorted')\n",
    "print(srt)"
   ]
  },
  {
   "cell_type": "code",
   "execution_count": 5,
   "id": "insured-album",
   "metadata": {
    "execution": {
     "iopub.execute_input": "2021-03-28T16:13:24.808874Z",
     "iopub.status.busy": "2021-03-28T16:13:24.807979Z",
     "iopub.status.idle": "2021-03-28T16:13:24.810779Z",
     "shell.execute_reply": "2021-03-28T16:13:24.810405Z"
    }
   },
   "outputs": [
    {
     "name": "stdout",
     "output_type": "stream",
     "text": [
      "PauliTable: ['IY', 'IZ', 'XY', 'XZ']\n"
     ]
    }
   ],
   "source": [
    "from qiskit.quantum_info.operators import PauliTable\n",
    "\n",
    "current = PauliTable.from_labels(['I', 'X'])\n",
    "other =  PauliTable.from_labels(['Y', 'Z'])\n",
    "print(current.tensor(other))"
   ]
  },
  {
   "cell_type": "code",
   "execution_count": 6,
   "id": "experimental-chance",
   "metadata": {
    "execution": {
     "iopub.execute_input": "2021-03-28T16:13:24.816146Z",
     "iopub.status.busy": "2021-03-28T16:13:24.814843Z",
     "iopub.status.idle": "2021-03-28T16:13:24.817734Z",
     "shell.execute_reply": "2021-03-28T16:13:24.817354Z"
    }
   },
   "outputs": [
    {
     "name": "stdout",
     "output_type": "stream",
     "text": [
      "PauliTable: ['X', 'Y', 'I', 'Z']\n"
     ]
    }
   ],
   "source": [
    "from qiskit.quantum_info.operators import PauliTable\n",
    "\n",
    "pt = PauliTable.from_labels(['X', 'Y', 'X', 'I', 'I', 'Z', 'X', 'Z'])\n",
    "unique = pt.unique()\n",
    "print(unique)"
   ]
  }
 ],
 "metadata": {
  "kernelspec": {
   "display_name": "Python 3",
   "language": "python",
   "name": "python3"
  },
  "language_info": {
   "codemirror_mode": {
    "name": "ipython",
    "version": 3
   },
   "file_extension": ".py",
   "mimetype": "text/x-python",
   "name": "python",
   "nbconvert_exporter": "python",
   "pygments_lexer": "ipython3",
   "version": "3.8.8"
  }
 },
 "nbformat": 4,
 "nbformat_minor": 5
}