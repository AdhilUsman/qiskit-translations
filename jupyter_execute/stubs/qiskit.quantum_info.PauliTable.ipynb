{
 "cells": [
  {
   "cell_type": "code",
   "execution_count": 1,
   "id": "c355d5d7",
   "metadata": {
    "execution": {
     "iopub.execute_input": "2021-05-08T18:59:20.421314Z",
     "iopub.status.busy": "2021-05-08T18:59:20.420846Z",
     "iopub.status.idle": "2021-05-08T18:59:20.988085Z",
     "shell.execute_reply": "2021-05-08T18:59:20.988457Z"
    }
   },
   "outputs": [
    {
     "name": "stdout",
     "output_type": "stream",
     "text": [
      "PauliTable: ['Y', 'Z', 'Z', 'Y']\n"
     ]
    }
   ],
   "source": [
    "from qiskit.quantum_info.operators import PauliTable\n",
    "\n",
    "current = PauliTable.from_labels(['I', 'X'])\n",
    "other =  PauliTable.from_labels(['Y', 'Z'])\n",
    "print(current.compose(other))"
   ]
  },
  {
   "cell_type": "code",
   "execution_count": 2,
   "id": "39769ddd",
   "metadata": {
    "execution": {
     "iopub.execute_input": "2021-05-08T18:59:20.994014Z",
     "iopub.status.busy": "2021-05-08T18:59:20.992621Z",
     "iopub.status.idle": "2021-05-08T18:59:20.995531Z",
     "shell.execute_reply": "2021-05-08T18:59:20.995128Z"
    }
   },
   "outputs": [
    {
     "name": "stdout",
     "output_type": "stream",
     "text": [
      "PauliTable: ['Y', 'Z', 'Z', 'Y']\n"
     ]
    }
   ],
   "source": [
    "from qiskit.quantum_info.operators import PauliTable\n",
    "\n",
    "current = PauliTable.from_labels(['I', 'X'])\n",
    "other =  PauliTable.from_labels(['Y', 'Z'])\n",
    "print(current.dot(other))"
   ]
  },
  {
   "cell_type": "code",
   "execution_count": 3,
   "id": "777a7679",
   "metadata": {
    "execution": {
     "iopub.execute_input": "2021-05-08T18:59:21.000097Z",
     "iopub.status.busy": "2021-05-08T18:59:20.999304Z",
     "iopub.status.idle": "2021-05-08T18:59:21.001948Z",
     "shell.execute_reply": "2021-05-08T18:59:21.001542Z"
    }
   },
   "outputs": [
    {
     "name": "stdout",
     "output_type": "stream",
     "text": [
      "PauliTable: ['YI', 'YX', 'ZI', 'ZX']\n"
     ]
    }
   ],
   "source": [
    "from qiskit.quantum_info.operators import PauliTable\n",
    "\n",
    "current = PauliTable.from_labels(['I', 'X'])\n",
    "other =  PauliTable.from_labels(['Y', 'Z'])\n",
    "print(current.expand(other))"
   ]
  },
  {
   "cell_type": "code",
   "execution_count": 4,
   "id": "89393e29",
   "metadata": {
    "execution": {
     "iopub.execute_input": "2021-05-08T18:59:21.008140Z",
     "iopub.status.busy": "2021-05-08T18:59:21.006471Z",
     "iopub.status.idle": "2021-05-08T18:59:21.009934Z",
     "shell.execute_reply": "2021-05-08T18:59:21.010304Z"
    }
   },
   "outputs": [
    {
     "name": "stdout",
     "output_type": "stream",
     "text": [
      "Initial Ordering\n",
      "PauliTable: ['ZZ', 'XX', 'IZ', 'XZ', 'XY', 'YZ', 'IY', 'YX', 'XI', 'YY', 'IX', 'ZX', 'ZY', 'YI', 'II', 'ZI']\n",
      "Lexicographically sorted\n",
      "PauliTable: ['II', 'IX', 'IY', 'IZ', 'XI', 'XX', 'XY', 'XZ', 'YI', 'YX', 'YY', 'YZ', 'ZI', 'ZX', 'ZY', 'ZZ']\n",
      "Weight sorted\n",
      "PauliTable: ['II', 'IX', 'IY', 'IZ', 'XI', 'YI', 'ZI', 'XX', 'XY', 'XZ', 'YX', 'YY', 'YZ', 'ZX', 'ZY', 'ZZ']\n"
     ]
    }
   ],
   "source": [
    "from numpy.random import shuffle\n",
    "from qiskit.quantum_info.operators import PauliTable\n",
    "\n",
    "# 2-qubit labels\n",
    "labels = ['II', 'IX', 'IY', 'IZ', 'XI', 'XX', 'XY', 'XZ',\n",
    "          'YI', 'YX', 'YY', 'YZ', 'ZI', 'ZX', 'ZY', 'ZZ']\n",
    "# Shuffle Labels\n",
    "shuffle(labels)\n",
    "pt = PauliTable.from_labels(labels)\n",
    "print('Initial Ordering')\n",
    "print(pt)\n",
    "\n",
    "# Lexicographic Ordering\n",
    "srt = pt.sort()\n",
    "print('Lexicographically sorted')\n",
    "print(srt)\n",
    "\n",
    "# Weight Ordering\n",
    "srt = pt.sort(weight=True)\n",
    "print('Weight sorted')\n",
    "print(srt)"
   ]
  },
  {
   "cell_type": "code",
   "execution_count": 5,
   "id": "216b63d5",
   "metadata": {
    "execution": {
     "iopub.execute_input": "2021-05-08T18:59:21.014851Z",
     "iopub.status.busy": "2021-05-08T18:59:21.014051Z",
     "iopub.status.idle": "2021-05-08T18:59:21.016522Z",
     "shell.execute_reply": "2021-05-08T18:59:21.016125Z"
    }
   },
   "outputs": [
    {
     "name": "stdout",
     "output_type": "stream",
     "text": [
      "PauliTable: ['IY', 'IZ', 'XY', 'XZ']\n"
     ]
    }
   ],
   "source": [
    "from qiskit.quantum_info.operators import PauliTable\n",
    "\n",
    "current = PauliTable.from_labels(['I', 'X'])\n",
    "other =  PauliTable.from_labels(['Y', 'Z'])\n",
    "print(current.tensor(other))"
   ]
  },
  {
   "cell_type": "code",
   "execution_count": 6,
   "id": "ac3e4558",
   "metadata": {
    "execution": {
     "iopub.execute_input": "2021-05-08T18:59:21.020504Z",
     "iopub.status.busy": "2021-05-08T18:59:21.020022Z",
     "iopub.status.idle": "2021-05-08T18:59:21.022237Z",
     "shell.execute_reply": "2021-05-08T18:59:21.022599Z"
    }
   },
   "outputs": [
    {
     "name": "stdout",
     "output_type": "stream",
     "text": [
      "PauliTable: ['X', 'Y', 'I', 'Z']\n"
     ]
    }
   ],
   "source": [
    "from qiskit.quantum_info.operators import PauliTable\n",
    "\n",
    "pt = PauliTable.from_labels(['X', 'Y', 'X', 'I', 'I', 'Z', 'X', 'Z'])\n",
    "unique = pt.unique()\n",
    "print(unique)"
   ]
  }
 ],
 "metadata": {
  "kernelspec": {
   "display_name": "Python 3",
   "language": "python",
   "name": "python3"
  },
  "language_info": {
   "codemirror_mode": {
    "name": "ipython",
    "version": 3
   },
   "file_extension": ".py",
   "mimetype": "text/x-python",
   "name": "python",
   "nbconvert_exporter": "python",
   "pygments_lexer": "ipython3",
   "version": "3.8.10"
  }
 },
 "nbformat": 4,
 "nbformat_minor": 5
}