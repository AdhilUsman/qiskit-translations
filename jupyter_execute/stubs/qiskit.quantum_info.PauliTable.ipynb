{
 "cells": [
  {
   "cell_type": "code",
   "execution_count": 1,
   "id": "bae0500b",
   "metadata": {
    "execution": {
     "iopub.execute_input": "2021-04-03T15:50:56.731232Z",
     "iopub.status.busy": "2021-04-03T15:50:56.730802Z",
     "iopub.status.idle": "2021-04-03T15:50:57.293548Z",
     "shell.execute_reply": "2021-04-03T15:50:57.293989Z"
    }
   },
   "outputs": [
    {
     "name": "stdout",
     "output_type": "stream",
     "text": [
      "PauliTable: ['Y', 'Z', 'Z', 'Y']\n"
     ]
    }
   ],
   "source": [
    "from qiskit.quantum_info.operators import PauliTable\n",
    "\n",
    "current = PauliTable.from_labels(['I', 'X'])\n",
    "other =  PauliTable.from_labels(['Y', 'Z'])\n",
    "print(current.compose(other))"
   ]
  },
  {
   "cell_type": "code",
   "execution_count": 2,
   "id": "63851195",
   "metadata": {
    "execution": {
     "iopub.execute_input": "2021-04-03T15:50:57.298849Z",
     "iopub.status.busy": "2021-04-03T15:50:57.298065Z",
     "iopub.status.idle": "2021-04-03T15:50:57.300608Z",
     "shell.execute_reply": "2021-04-03T15:50:57.300216Z"
    }
   },
   "outputs": [
    {
     "name": "stdout",
     "output_type": "stream",
     "text": [
      "PauliTable: ['Y', 'Z', 'Z', 'Y']\n"
     ]
    }
   ],
   "source": [
    "from qiskit.quantum_info.operators import PauliTable\n",
    "\n",
    "current = PauliTable.from_labels(['I', 'X'])\n",
    "other =  PauliTable.from_labels(['Y', 'Z'])\n",
    "print(current.dot(other))"
   ]
  },
  {
   "cell_type": "code",
   "execution_count": 3,
   "id": "acadea9c",
   "metadata": {
    "execution": {
     "iopub.execute_input": "2021-04-03T15:50:57.305115Z",
     "iopub.status.busy": "2021-04-03T15:50:57.304313Z",
     "iopub.status.idle": "2021-04-03T15:50:57.306854Z",
     "shell.execute_reply": "2021-04-03T15:50:57.306468Z"
    }
   },
   "outputs": [
    {
     "name": "stdout",
     "output_type": "stream",
     "text": [
      "PauliTable: ['YI', 'YX', 'ZI', 'ZX']\n"
     ]
    }
   ],
   "source": [
    "from qiskit.quantum_info.operators import PauliTable\n",
    "\n",
    "current = PauliTable.from_labels(['I', 'X'])\n",
    "other =  PauliTable.from_labels(['Y', 'Z'])\n",
    "print(current.expand(other))"
   ]
  },
  {
   "cell_type": "code",
   "execution_count": 4,
   "id": "85ca43c7",
   "metadata": {
    "execution": {
     "iopub.execute_input": "2021-04-03T15:50:57.312821Z",
     "iopub.status.busy": "2021-04-03T15:50:57.311536Z",
     "iopub.status.idle": "2021-04-03T15:50:57.315108Z",
     "shell.execute_reply": "2021-04-03T15:50:57.314655Z"
    }
   },
   "outputs": [
    {
     "name": "stdout",
     "output_type": "stream",
     "text": [
      "Initial Ordering\n",
      "PauliTable: ['XX', 'ZX', 'XI', 'II', 'IY', 'YZ', 'ZZ', 'ZI', 'IZ', 'XZ', 'YI', 'IX', 'YY', 'ZY', 'XY', 'YX']\n",
      "Lexicographically sorted\n",
      "PauliTable: ['II', 'IX', 'IY', 'IZ', 'XI', 'XX', 'XY', 'XZ', 'YI', 'YX', 'YY', 'YZ', 'ZI', 'ZX', 'ZY', 'ZZ']\n",
      "Weight sorted\n",
      "PauliTable: ['II', 'IX', 'IY', 'IZ', 'XI', 'YI', 'ZI', 'XX', 'XY', 'XZ', 'YX', 'YY', 'YZ', 'ZX', 'ZY', 'ZZ']\n"
     ]
    }
   ],
   "source": [
    "from numpy.random import shuffle\n",
    "from qiskit.quantum_info.operators import PauliTable\n",
    "\n",
    "# 2-qubit labels\n",
    "labels = ['II', 'IX', 'IY', 'IZ', 'XI', 'XX', 'XY', 'XZ',\n",
    "          'YI', 'YX', 'YY', 'YZ', 'ZI', 'ZX', 'ZY', 'ZZ']\n",
    "# Shuffle Labels\n",
    "shuffle(labels)\n",
    "pt = PauliTable.from_labels(labels)\n",
    "print('Initial Ordering')\n",
    "print(pt)\n",
    "\n",
    "# Lexicographic Ordering\n",
    "srt = pt.sort()\n",
    "print('Lexicographically sorted')\n",
    "print(srt)\n",
    "\n",
    "# Weight Ordering\n",
    "srt = pt.sort(weight=True)\n",
    "print('Weight sorted')\n",
    "print(srt)"
   ]
  },
  {
   "cell_type": "code",
   "execution_count": 5,
   "id": "08220608",
   "metadata": {
    "execution": {
     "iopub.execute_input": "2021-04-03T15:50:57.319462Z",
     "iopub.status.busy": "2021-04-03T15:50:57.318675Z",
     "iopub.status.idle": "2021-04-03T15:50:57.321230Z",
     "shell.execute_reply": "2021-04-03T15:50:57.320843Z"
    }
   },
   "outputs": [
    {
     "name": "stdout",
     "output_type": "stream",
     "text": [
      "PauliTable: ['IY', 'IZ', 'XY', 'XZ']\n"
     ]
    }
   ],
   "source": [
    "from qiskit.quantum_info.operators import PauliTable\n",
    "\n",
    "current = PauliTable.from_labels(['I', 'X'])\n",
    "other =  PauliTable.from_labels(['Y', 'Z'])\n",
    "print(current.tensor(other))"
   ]
  },
  {
   "cell_type": "code",
   "execution_count": 6,
   "id": "e825db58",
   "metadata": {
    "execution": {
     "iopub.execute_input": "2021-04-03T15:50:57.325722Z",
     "iopub.status.busy": "2021-04-03T15:50:57.324915Z",
     "iopub.status.idle": "2021-04-03T15:50:57.327356Z",
     "shell.execute_reply": "2021-04-03T15:50:57.326974Z"
    }
   },
   "outputs": [
    {
     "name": "stdout",
     "output_type": "stream",
     "text": [
      "PauliTable: ['X', 'Y', 'I', 'Z']\n"
     ]
    }
   ],
   "source": [
    "from qiskit.quantum_info.operators import PauliTable\n",
    "\n",
    "pt = PauliTable.from_labels(['X', 'Y', 'X', 'I', 'I', 'Z', 'X', 'Z'])\n",
    "unique = pt.unique()\n",
    "print(unique)"
   ]
  }
 ],
 "metadata": {
  "kernelspec": {
   "display_name": "Python 3",
   "language": "python",
   "name": "python3"
  },
  "language_info": {
   "codemirror_mode": {
    "name": "ipython",
    "version": 3
   },
   "file_extension": ".py",
   "mimetype": "text/x-python",
   "name": "python",
   "nbconvert_exporter": "python",
   "pygments_lexer": "ipython3",
   "version": "3.8.8"
  }
 },
 "nbformat": 4,
 "nbformat_minor": 5
}