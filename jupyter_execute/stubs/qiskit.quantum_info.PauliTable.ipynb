{
 "cells": [
  {
   "cell_type": "code",
   "execution_count": 1,
   "id": "smooth-athens",
   "metadata": {
    "execution": {
     "iopub.execute_input": "2021-03-30T21:06:46.994937Z",
     "iopub.status.busy": "2021-03-30T21:06:46.994250Z",
     "iopub.status.idle": "2021-03-30T21:06:48.862228Z",
     "shell.execute_reply": "2021-03-30T21:06:48.862687Z"
    }
   },
   "outputs": [
    {
     "name": "stdout",
     "output_type": "stream",
     "text": [
      "PauliTable: ['Y', 'Z', 'Z', 'Y']\n"
     ]
    }
   ],
   "source": [
    "from qiskit.quantum_info.operators import PauliTable\n",
    "\n",
    "current = PauliTable.from_labels(['I', 'X'])\n",
    "other =  PauliTable.from_labels(['Y', 'Z'])\n",
    "print(current.compose(other))"
   ]
  },
  {
   "cell_type": "code",
   "execution_count": 2,
   "id": "technical-bristol",
   "metadata": {
    "execution": {
     "iopub.execute_input": "2021-03-30T21:06:48.869418Z",
     "iopub.status.busy": "2021-03-30T21:06:48.867956Z",
     "iopub.status.idle": "2021-03-30T21:06:48.871536Z",
     "shell.execute_reply": "2021-03-30T21:06:48.870985Z"
    }
   },
   "outputs": [
    {
     "name": "stdout",
     "output_type": "stream",
     "text": [
      "PauliTable: ['Y', 'Z', 'Z', 'Y']\n"
     ]
    }
   ],
   "source": [
    "from qiskit.quantum_info.operators import PauliTable\n",
    "\n",
    "current = PauliTable.from_labels(['I', 'X'])\n",
    "other =  PauliTable.from_labels(['Y', 'Z'])\n",
    "print(current.dot(other))"
   ]
  },
  {
   "cell_type": "code",
   "execution_count": 3,
   "id": "american-ultimate",
   "metadata": {
    "execution": {
     "iopub.execute_input": "2021-03-30T21:06:48.877714Z",
     "iopub.status.busy": "2021-03-30T21:06:48.876218Z",
     "iopub.status.idle": "2021-03-30T21:06:48.879620Z",
     "shell.execute_reply": "2021-03-30T21:06:48.879134Z"
    }
   },
   "outputs": [
    {
     "name": "stdout",
     "output_type": "stream",
     "text": [
      "PauliTable: ['YI', 'ZI', 'YX', 'ZX']\n"
     ]
    }
   ],
   "source": [
    "from qiskit.quantum_info.operators import PauliTable\n",
    "\n",
    "current = PauliTable.from_labels(['I', 'X'])\n",
    "other =  PauliTable.from_labels(['Y', 'Z'])\n",
    "print(current.expand(other))"
   ]
  },
  {
   "cell_type": "code",
   "execution_count": 4,
   "id": "after-yield",
   "metadata": {
    "execution": {
     "iopub.execute_input": "2021-03-30T21:06:48.887172Z",
     "iopub.status.busy": "2021-03-30T21:06:48.884513Z",
     "iopub.status.idle": "2021-03-30T21:06:48.889181Z",
     "shell.execute_reply": "2021-03-30T21:06:48.889627Z"
    }
   },
   "outputs": [
    {
     "name": "stdout",
     "output_type": "stream",
     "text": [
      "Initial Ordering\n",
      "PauliTable: ['ZZ', 'YY', 'ZI', 'XX', 'YI', 'IX', 'IY', 'ZY', 'IZ', 'YX', 'II', 'XY', 'XI', 'XZ', 'YZ', 'ZX']\n",
      "Lexicographically sorted\n",
      "PauliTable: ['II', 'IX', 'IY', 'IZ', 'XI', 'XX', 'XY', 'XZ', 'YI', 'YX', 'YY', 'YZ', 'ZI', 'ZX', 'ZY', 'ZZ']\n",
      "Weight sorted\n",
      "PauliTable: ['II', 'IX', 'IY', 'IZ', 'XI', 'YI', 'ZI', 'XX', 'XY', 'XZ', 'YX', 'YY', 'YZ', 'ZX', 'ZY', 'ZZ']\n"
     ]
    }
   ],
   "source": [
    "from numpy.random import shuffle\n",
    "from qiskit.quantum_info.operators import PauliTable\n",
    "\n",
    "# 2-qubit labels\n",
    "labels = ['II', 'IX', 'IY', 'IZ', 'XI', 'XX', 'XY', 'XZ',\n",
    "          'YI', 'YX', 'YY', 'YZ', 'ZI', 'ZX', 'ZY', 'ZZ']\n",
    "# Shuffle Labels\n",
    "shuffle(labels)\n",
    "pt = PauliTable.from_labels(labels)\n",
    "print('Initial Ordering')\n",
    "print(pt)\n",
    "\n",
    "# Lexicographic Ordering\n",
    "srt = pt.sort()\n",
    "print('Lexicographically sorted')\n",
    "print(srt)\n",
    "\n",
    "# Weight Ordering\n",
    "srt = pt.sort(weight=True)\n",
    "print('Weight sorted')\n",
    "print(srt)"
   ]
  },
  {
   "cell_type": "code",
   "execution_count": 5,
   "id": "juvenile-nothing",
   "metadata": {
    "execution": {
     "iopub.execute_input": "2021-03-30T21:06:48.895534Z",
     "iopub.status.busy": "2021-03-30T21:06:48.894456Z",
     "iopub.status.idle": "2021-03-30T21:06:48.897427Z",
     "shell.execute_reply": "2021-03-30T21:06:48.896923Z"
    }
   },
   "outputs": [
    {
     "name": "stdout",
     "output_type": "stream",
     "text": [
      "PauliTable: ['IY', 'IZ', 'XY', 'XZ']\n"
     ]
    }
   ],
   "source": [
    "from qiskit.quantum_info.operators import PauliTable\n",
    "\n",
    "current = PauliTable.from_labels(['I', 'X'])\n",
    "other =  PauliTable.from_labels(['Y', 'Z'])\n",
    "print(current.tensor(other))"
   ]
  },
  {
   "cell_type": "code",
   "execution_count": 6,
   "id": "elementary-stack",
   "metadata": {
    "execution": {
     "iopub.execute_input": "2021-03-30T21:06:48.902765Z",
     "iopub.status.busy": "2021-03-30T21:06:48.901755Z",
     "iopub.status.idle": "2021-03-30T21:06:48.904775Z",
     "shell.execute_reply": "2021-03-30T21:06:48.904335Z"
    }
   },
   "outputs": [
    {
     "name": "stdout",
     "output_type": "stream",
     "text": [
      "PauliTable: ['X', 'Y', 'I', 'Z']\n"
     ]
    }
   ],
   "source": [
    "from qiskit.quantum_info.operators import PauliTable\n",
    "\n",
    "pt = PauliTable.from_labels(['X', 'Y', 'X', 'I', 'I', 'Z', 'X', 'Z'])\n",
    "unique = pt.unique()\n",
    "print(unique)"
   ]
  }
 ],
 "metadata": {
  "kernelspec": {
   "display_name": "Python 3",
   "language": "python",
   "name": "python3"
  },
  "language_info": {
   "codemirror_mode": {
    "name": "ipython",
    "version": 3
   },
   "file_extension": ".py",
   "mimetype": "text/x-python",
   "name": "python",
   "nbconvert_exporter": "python",
   "pygments_lexer": "ipython3",
   "version": "3.8.8"
  }
 },
 "nbformat": 4,
 "nbformat_minor": 5
}