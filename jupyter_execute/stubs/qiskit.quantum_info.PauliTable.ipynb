{
 "cells": [
  {
   "cell_type": "code",
   "execution_count": 1,
   "id": "36a788cc",
   "metadata": {
    "execution": {
     "iopub.execute_input": "2021-04-13T16:18:23.644161Z",
     "iopub.status.busy": "2021-04-13T16:18:23.640042Z",
     "iopub.status.idle": "2021-04-13T16:18:24.325953Z",
     "shell.execute_reply": "2021-04-13T16:18:24.326411Z"
    }
   },
   "outputs": [
    {
     "name": "stdout",
     "output_type": "stream",
     "text": [
      "PauliTable: ['Y', 'Z', 'Z', 'Y']\n"
     ]
    }
   ],
   "source": [
    "from qiskit.quantum_info.operators import PauliTable\n",
    "\n",
    "current = PauliTable.from_labels(['I', 'X'])\n",
    "other =  PauliTable.from_labels(['Y', 'Z'])\n",
    "print(current.compose(other))"
   ]
  },
  {
   "cell_type": "code",
   "execution_count": 2,
   "id": "3a0da478",
   "metadata": {
    "execution": {
     "iopub.execute_input": "2021-04-13T16:18:24.332954Z",
     "iopub.status.busy": "2021-04-13T16:18:24.331651Z",
     "iopub.status.idle": "2021-04-13T16:18:24.334970Z",
     "shell.execute_reply": "2021-04-13T16:18:24.334481Z"
    }
   },
   "outputs": [
    {
     "name": "stdout",
     "output_type": "stream",
     "text": [
      "PauliTable: ['Y', 'Z', 'Z', 'Y']\n"
     ]
    }
   ],
   "source": [
    "from qiskit.quantum_info.operators import PauliTable\n",
    "\n",
    "current = PauliTable.from_labels(['I', 'X'])\n",
    "other =  PauliTable.from_labels(['Y', 'Z'])\n",
    "print(current.dot(other))"
   ]
  },
  {
   "cell_type": "code",
   "execution_count": 3,
   "id": "ff013816",
   "metadata": {
    "execution": {
     "iopub.execute_input": "2021-04-13T16:18:24.342706Z",
     "iopub.status.busy": "2021-04-13T16:18:24.342079Z",
     "iopub.status.idle": "2021-04-13T16:18:24.344477Z",
     "shell.execute_reply": "2021-04-13T16:18:24.343238Z"
    }
   },
   "outputs": [
    {
     "name": "stdout",
     "output_type": "stream",
     "text": [
      "PauliTable: ['YI', 'YX', 'ZI', 'ZX']\n"
     ]
    }
   ],
   "source": [
    "from qiskit.quantum_info.operators import PauliTable\n",
    "\n",
    "current = PauliTable.from_labels(['I', 'X'])\n",
    "other =  PauliTable.from_labels(['Y', 'Z'])\n",
    "print(current.expand(other))"
   ]
  },
  {
   "cell_type": "code",
   "execution_count": 4,
   "id": "63a6f76a",
   "metadata": {
    "execution": {
     "iopub.execute_input": "2021-04-13T16:18:24.351833Z",
     "iopub.status.busy": "2021-04-13T16:18:24.350396Z",
     "iopub.status.idle": "2021-04-13T16:18:24.353907Z",
     "shell.execute_reply": "2021-04-13T16:18:24.355618Z"
    }
   },
   "outputs": [
    {
     "name": "stdout",
     "output_type": "stream",
     "text": [
      "Initial Ordering\n",
      "PauliTable: ['YX', 'ZZ', 'ZX', 'IZ', 'XX', 'YY', 'YZ', 'XZ', 'IY', 'ZY', 'IX', 'II', 'ZI', 'YI', 'XI', 'XY']\n",
      "Lexicographically sorted\n",
      "PauliTable: ['II', 'IX', 'IY', 'IZ', 'XI', 'XX', 'XY', 'XZ', 'YI', 'YX', 'YY', 'YZ', 'ZI', 'ZX', 'ZY', 'ZZ']\n",
      "Weight sorted\n",
      "PauliTable: ['II', 'IX', 'IY', 'IZ', 'XI', 'YI', 'ZI', 'XX', 'XY', 'XZ', 'YX', 'YY', 'YZ', 'ZX', 'ZY', 'ZZ']\n"
     ]
    }
   ],
   "source": [
    "from numpy.random import shuffle\n",
    "from qiskit.quantum_info.operators import PauliTable\n",
    "\n",
    "# 2-qubit labels\n",
    "labels = ['II', 'IX', 'IY', 'IZ', 'XI', 'XX', 'XY', 'XZ',\n",
    "          'YI', 'YX', 'YY', 'YZ', 'ZI', 'ZX', 'ZY', 'ZZ']\n",
    "# Shuffle Labels\n",
    "shuffle(labels)\n",
    "pt = PauliTable.from_labels(labels)\n",
    "print('Initial Ordering')\n",
    "print(pt)\n",
    "\n",
    "# Lexicographic Ordering\n",
    "srt = pt.sort()\n",
    "print('Lexicographically sorted')\n",
    "print(srt)\n",
    "\n",
    "# Weight Ordering\n",
    "srt = pt.sort(weight=True)\n",
    "print('Weight sorted')\n",
    "print(srt)"
   ]
  },
  {
   "cell_type": "code",
   "execution_count": 5,
   "id": "b37fd9ef",
   "metadata": {
    "execution": {
     "iopub.execute_input": "2021-04-13T16:18:24.363452Z",
     "iopub.status.busy": "2021-04-13T16:18:24.362315Z",
     "iopub.status.idle": "2021-04-13T16:18:24.365180Z",
     "shell.execute_reply": "2021-04-13T16:18:24.364718Z"
    }
   },
   "outputs": [
    {
     "name": "stdout",
     "output_type": "stream",
     "text": [
      "PauliTable: ['IY', 'IZ', 'XY', 'XZ']\n"
     ]
    }
   ],
   "source": [
    "from qiskit.quantum_info.operators import PauliTable\n",
    "\n",
    "current = PauliTable.from_labels(['I', 'X'])\n",
    "other =  PauliTable.from_labels(['Y', 'Z'])\n",
    "print(current.tensor(other))"
   ]
  },
  {
   "cell_type": "code",
   "execution_count": 6,
   "id": "f0216f90",
   "metadata": {
    "execution": {
     "iopub.execute_input": "2021-04-13T16:18:24.371101Z",
     "iopub.status.busy": "2021-04-13T16:18:24.369866Z",
     "iopub.status.idle": "2021-04-13T16:18:24.372879Z",
     "shell.execute_reply": "2021-04-13T16:18:24.372410Z"
    }
   },
   "outputs": [
    {
     "name": "stdout",
     "output_type": "stream",
     "text": [
      "PauliTable: ['X', 'Y', 'I', 'Z']\n"
     ]
    }
   ],
   "source": [
    "from qiskit.quantum_info.operators import PauliTable\n",
    "\n",
    "pt = PauliTable.from_labels(['X', 'Y', 'X', 'I', 'I', 'Z', 'X', 'Z'])\n",
    "unique = pt.unique()\n",
    "print(unique)"
   ]
  }
 ],
 "metadata": {
  "kernelspec": {
   "display_name": "Python 3",
   "language": "python",
   "name": "python3"
  },
  "language_info": {
   "codemirror_mode": {
    "name": "ipython",
    "version": 3
   },
   "file_extension": ".py",
   "mimetype": "text/x-python",
   "name": "python",
   "nbconvert_exporter": "python",
   "pygments_lexer": "ipython3",
   "version": "3.8.9"
  }
 },
 "nbformat": 4,
 "nbformat_minor": 5
}