{
 "cells": [
  {
   "cell_type": "code",
   "execution_count": 1,
   "id": "17bd5cd9",
   "metadata": {
    "execution": {
     "iopub.execute_input": "2021-04-09T13:49:55.273122Z",
     "iopub.status.busy": "2021-04-09T13:49:55.272512Z",
     "iopub.status.idle": "2021-04-09T13:49:55.892550Z",
     "shell.execute_reply": "2021-04-09T13:49:55.893068Z"
    }
   },
   "outputs": [
    {
     "name": "stdout",
     "output_type": "stream",
     "text": [
      "PauliTable: ['Y', 'Z', 'Z', 'Y']\n"
     ]
    }
   ],
   "source": [
    "from qiskit.quantum_info.operators import PauliTable\n",
    "\n",
    "current = PauliTable.from_labels(['I', 'X'])\n",
    "other =  PauliTable.from_labels(['Y', 'Z'])\n",
    "print(current.compose(other))"
   ]
  },
  {
   "cell_type": "code",
   "execution_count": 2,
   "id": "e65b5f76",
   "metadata": {
    "execution": {
     "iopub.execute_input": "2021-04-09T13:49:55.899254Z",
     "iopub.status.busy": "2021-04-09T13:49:55.897942Z",
     "iopub.status.idle": "2021-04-09T13:49:55.901256Z",
     "shell.execute_reply": "2021-04-09T13:49:55.900718Z"
    }
   },
   "outputs": [
    {
     "name": "stdout",
     "output_type": "stream",
     "text": [
      "PauliTable: ['Y', 'Z', 'Z', 'Y']\n"
     ]
    }
   ],
   "source": [
    "from qiskit.quantum_info.operators import PauliTable\n",
    "\n",
    "current = PauliTable.from_labels(['I', 'X'])\n",
    "other =  PauliTable.from_labels(['Y', 'Z'])\n",
    "print(current.dot(other))"
   ]
  },
  {
   "cell_type": "code",
   "execution_count": 3,
   "id": "88590f2a",
   "metadata": {
    "execution": {
     "iopub.execute_input": "2021-04-09T13:49:55.907209Z",
     "iopub.status.busy": "2021-04-09T13:49:55.905882Z",
     "iopub.status.idle": "2021-04-09T13:49:55.908917Z",
     "shell.execute_reply": "2021-04-09T13:49:55.908462Z"
    }
   },
   "outputs": [
    {
     "name": "stdout",
     "output_type": "stream",
     "text": [
      "PauliTable: ['YI', 'YX', 'ZI', 'ZX']\n"
     ]
    }
   ],
   "source": [
    "from qiskit.quantum_info.operators import PauliTable\n",
    "\n",
    "current = PauliTable.from_labels(['I', 'X'])\n",
    "other =  PauliTable.from_labels(['Y', 'Z'])\n",
    "print(current.expand(other))"
   ]
  },
  {
   "cell_type": "code",
   "execution_count": 4,
   "id": "b3690ba4",
   "metadata": {
    "execution": {
     "iopub.execute_input": "2021-04-09T13:49:55.915665Z",
     "iopub.status.busy": "2021-04-09T13:49:55.913914Z",
     "iopub.status.idle": "2021-04-09T13:49:55.917536Z",
     "shell.execute_reply": "2021-04-09T13:49:55.917935Z"
    }
   },
   "outputs": [
    {
     "name": "stdout",
     "output_type": "stream",
     "text": [
      "Initial Ordering\n",
      "PauliTable: ['YZ', 'ZI', 'YY', 'YX', 'ZY', 'YI', 'ZZ', 'IY', 'XI', 'II', 'XZ', 'XX', 'XY', 'IZ', 'IX', 'ZX']\n",
      "Lexicographically sorted\n",
      "PauliTable: ['II', 'IX', 'IY', 'IZ', 'XI', 'XX', 'XY', 'XZ', 'YI', 'YX', 'YY', 'YZ', 'ZI', 'ZX', 'ZY', 'ZZ']\n",
      "Weight sorted\n",
      "PauliTable: ['II', 'IX', 'IY', 'IZ', 'XI', 'YI', 'ZI', 'XX', 'XY', 'XZ', 'YX', 'YY', 'YZ', 'ZX', 'ZY', 'ZZ']\n"
     ]
    }
   ],
   "source": [
    "from numpy.random import shuffle\n",
    "from qiskit.quantum_info.operators import PauliTable\n",
    "\n",
    "# 2-qubit labels\n",
    "labels = ['II', 'IX', 'IY', 'IZ', 'XI', 'XX', 'XY', 'XZ',\n",
    "          'YI', 'YX', 'YY', 'YZ', 'ZI', 'ZX', 'ZY', 'ZZ']\n",
    "# Shuffle Labels\n",
    "shuffle(labels)\n",
    "pt = PauliTable.from_labels(labels)\n",
    "print('Initial Ordering')\n",
    "print(pt)\n",
    "\n",
    "# Lexicographic Ordering\n",
    "srt = pt.sort()\n",
    "print('Lexicographically sorted')\n",
    "print(srt)\n",
    "\n",
    "# Weight Ordering\n",
    "srt = pt.sort(weight=True)\n",
    "print('Weight sorted')\n",
    "print(srt)"
   ]
  },
  {
   "cell_type": "code",
   "execution_count": 5,
   "id": "786b6f6e",
   "metadata": {
    "execution": {
     "iopub.execute_input": "2021-04-09T13:49:55.923621Z",
     "iopub.status.busy": "2021-04-09T13:49:55.922311Z",
     "iopub.status.idle": "2021-04-09T13:49:55.925321Z",
     "shell.execute_reply": "2021-04-09T13:49:55.924892Z"
    }
   },
   "outputs": [
    {
     "name": "stdout",
     "output_type": "stream",
     "text": [
      "PauliTable: ['IY', 'IZ', 'XY', 'XZ']\n"
     ]
    }
   ],
   "source": [
    "from qiskit.quantum_info.operators import PauliTable\n",
    "\n",
    "current = PauliTable.from_labels(['I', 'X'])\n",
    "other =  PauliTable.from_labels(['Y', 'Z'])\n",
    "print(current.tensor(other))"
   ]
  },
  {
   "cell_type": "code",
   "execution_count": 6,
   "id": "5663608d",
   "metadata": {
    "execution": {
     "iopub.execute_input": "2021-04-09T13:49:55.930740Z",
     "iopub.status.busy": "2021-04-09T13:49:55.929460Z",
     "iopub.status.idle": "2021-04-09T13:49:55.932427Z",
     "shell.execute_reply": "2021-04-09T13:49:55.931955Z"
    }
   },
   "outputs": [
    {
     "name": "stdout",
     "output_type": "stream",
     "text": [
      "PauliTable: ['X', 'Y', 'I', 'Z']\n"
     ]
    }
   ],
   "source": [
    "from qiskit.quantum_info.operators import PauliTable\n",
    "\n",
    "pt = PauliTable.from_labels(['X', 'Y', 'X', 'I', 'I', 'Z', 'X', 'Z'])\n",
    "unique = pt.unique()\n",
    "print(unique)"
   ]
  }
 ],
 "metadata": {
  "kernelspec": {
   "display_name": "Python 3",
   "language": "python",
   "name": "python3"
  },
  "language_info": {
   "codemirror_mode": {
    "name": "ipython",
    "version": 3
   },
   "file_extension": ".py",
   "mimetype": "text/x-python",
   "name": "python",
   "nbconvert_exporter": "python",
   "pygments_lexer": "ipython3",
   "version": "3.8.8"
  }
 },
 "nbformat": 4,
 "nbformat_minor": 5
}