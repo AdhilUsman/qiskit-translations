{
 "cells": [
  {
   "cell_type": "code",
   "execution_count": 1,
   "id": "64d8886f",
   "metadata": {
    "execution": {
     "iopub.execute_input": "2021-04-22T16:04:22.749899Z",
     "iopub.status.busy": "2021-04-22T16:04:22.749006Z",
     "iopub.status.idle": "2021-04-22T16:04:23.385899Z",
     "shell.execute_reply": "2021-04-22T16:04:23.385298Z"
    }
   },
   "outputs": [
    {
     "name": "stdout",
     "output_type": "stream",
     "text": [
      "PauliTable: ['Y', 'Z', 'Z', 'Y']\n"
     ]
    }
   ],
   "source": [
    "from qiskit.quantum_info.operators import PauliTable\n",
    "\n",
    "current = PauliTable.from_labels(['I', 'X'])\n",
    "other =  PauliTable.from_labels(['Y', 'Z'])\n",
    "print(current.compose(other))"
   ]
  },
  {
   "cell_type": "code",
   "execution_count": 2,
   "id": "6f914d29",
   "metadata": {
    "execution": {
     "iopub.execute_input": "2021-04-22T16:04:23.393730Z",
     "iopub.status.busy": "2021-04-22T16:04:23.392394Z",
     "iopub.status.idle": "2021-04-22T16:04:23.395406Z",
     "shell.execute_reply": "2021-04-22T16:04:23.394967Z"
    }
   },
   "outputs": [
    {
     "name": "stdout",
     "output_type": "stream",
     "text": [
      "PauliTable: ['Y', 'Z', 'Z', 'Y']\n"
     ]
    }
   ],
   "source": [
    "from qiskit.quantum_info.operators import PauliTable\n",
    "\n",
    "current = PauliTable.from_labels(['I', 'X'])\n",
    "other =  PauliTable.from_labels(['Y', 'Z'])\n",
    "print(current.dot(other))"
   ]
  },
  {
   "cell_type": "code",
   "execution_count": 3,
   "id": "f4aa4c3a",
   "metadata": {
    "execution": {
     "iopub.execute_input": "2021-04-22T16:04:23.401066Z",
     "iopub.status.busy": "2021-04-22T16:04:23.399991Z",
     "iopub.status.idle": "2021-04-22T16:04:23.403013Z",
     "shell.execute_reply": "2021-04-22T16:04:23.402544Z"
    }
   },
   "outputs": [
    {
     "name": "stdout",
     "output_type": "stream",
     "text": [
      "PauliTable: ['YI', 'YX', 'ZI', 'ZX']\n"
     ]
    }
   ],
   "source": [
    "from qiskit.quantum_info.operators import PauliTable\n",
    "\n",
    "current = PauliTable.from_labels(['I', 'X'])\n",
    "other =  PauliTable.from_labels(['Y', 'Z'])\n",
    "print(current.expand(other))"
   ]
  },
  {
   "cell_type": "code",
   "execution_count": 4,
   "id": "6603e535",
   "metadata": {
    "execution": {
     "iopub.execute_input": "2021-04-22T16:04:23.410266Z",
     "iopub.status.busy": "2021-04-22T16:04:23.408837Z",
     "iopub.status.idle": "2021-04-22T16:04:23.412212Z",
     "shell.execute_reply": "2021-04-22T16:04:23.412752Z"
    }
   },
   "outputs": [
    {
     "name": "stdout",
     "output_type": "stream",
     "text": [
      "Initial Ordering\n",
      "PauliTable: ['IZ', 'YY', 'XZ', 'ZZ', 'IX', 'II', 'IY', 'YI', 'XX', 'YZ', 'ZI', 'ZX', 'XY', 'XI', 'YX', 'ZY']\n",
      "Lexicographically sorted\n",
      "PauliTable: ['II', 'IX', 'IY', 'IZ', 'XI', 'XX', 'XY', 'XZ', 'YI', 'YX', 'YY', 'YZ', 'ZI', 'ZX', 'ZY', 'ZZ']\n",
      "Weight sorted\n",
      "PauliTable: ['II', 'IX', 'IY', 'IZ', 'XI', 'YI', 'ZI', 'XX', 'XY', 'XZ', 'YX', 'YY', 'YZ', 'ZX', 'ZY', 'ZZ']\n"
     ]
    }
   ],
   "source": [
    "from numpy.random import shuffle\n",
    "from qiskit.quantum_info.operators import PauliTable\n",
    "\n",
    "# 2-qubit labels\n",
    "labels = ['II', 'IX', 'IY', 'IZ', 'XI', 'XX', 'XY', 'XZ',\n",
    "          'YI', 'YX', 'YY', 'YZ', 'ZI', 'ZX', 'ZY', 'ZZ']\n",
    "# Shuffle Labels\n",
    "shuffle(labels)\n",
    "pt = PauliTable.from_labels(labels)\n",
    "print('Initial Ordering')\n",
    "print(pt)\n",
    "\n",
    "# Lexicographic Ordering\n",
    "srt = pt.sort()\n",
    "print('Lexicographically sorted')\n",
    "print(srt)\n",
    "\n",
    "# Weight Ordering\n",
    "srt = pt.sort(weight=True)\n",
    "print('Weight sorted')\n",
    "print(srt)"
   ]
  },
  {
   "cell_type": "code",
   "execution_count": 5,
   "id": "2eeae44a",
   "metadata": {
    "execution": {
     "iopub.execute_input": "2021-04-22T16:04:23.418322Z",
     "iopub.status.busy": "2021-04-22T16:04:23.417097Z",
     "iopub.status.idle": "2021-04-22T16:04:23.420022Z",
     "shell.execute_reply": "2021-04-22T16:04:23.419558Z"
    }
   },
   "outputs": [
    {
     "name": "stdout",
     "output_type": "stream",
     "text": [
      "PauliTable: ['IY', 'IZ', 'XY', 'XZ']\n"
     ]
    }
   ],
   "source": [
    "from qiskit.quantum_info.operators import PauliTable\n",
    "\n",
    "current = PauliTable.from_labels(['I', 'X'])\n",
    "other =  PauliTable.from_labels(['Y', 'Z'])\n",
    "print(current.tensor(other))"
   ]
  },
  {
   "cell_type": "code",
   "execution_count": 6,
   "id": "589da306",
   "metadata": {
    "execution": {
     "iopub.execute_input": "2021-04-22T16:04:23.425984Z",
     "iopub.status.busy": "2021-04-22T16:04:23.424700Z",
     "iopub.status.idle": "2021-04-22T16:04:23.427682Z",
     "shell.execute_reply": "2021-04-22T16:04:23.427210Z"
    }
   },
   "outputs": [
    {
     "name": "stdout",
     "output_type": "stream",
     "text": [
      "PauliTable: ['X', 'Y', 'I', 'Z']\n"
     ]
    }
   ],
   "source": [
    "from qiskit.quantum_info.operators import PauliTable\n",
    "\n",
    "pt = PauliTable.from_labels(['X', 'Y', 'X', 'I', 'I', 'Z', 'X', 'Z'])\n",
    "unique = pt.unique()\n",
    "print(unique)"
   ]
  }
 ],
 "metadata": {
  "kernelspec": {
   "display_name": "Python 3",
   "language": "python",
   "name": "python3"
  },
  "language_info": {
   "codemirror_mode": {
    "name": "ipython",
    "version": 3
   },
   "file_extension": ".py",
   "mimetype": "text/x-python",
   "name": "python",
   "nbconvert_exporter": "python",
   "pygments_lexer": "ipython3",
   "version": "3.8.9"
  }
 },
 "nbformat": 4,
 "nbformat_minor": 5
}