{
 "cells": [
  {
   "cell_type": "code",
   "execution_count": 1,
   "id": "f0e86307",
   "metadata": {
    "execution": {
     "iopub.execute_input": "2021-04-19T13:30:24.163615Z",
     "iopub.status.busy": "2021-04-19T13:30:24.162978Z",
     "iopub.status.idle": "2021-04-19T13:30:24.981184Z",
     "shell.execute_reply": "2021-04-19T13:30:24.981722Z"
    }
   },
   "outputs": [
    {
     "name": "stdout",
     "output_type": "stream",
     "text": [
      "PauliTable: ['Y', 'Z', 'Z', 'Y']\n"
     ]
    }
   ],
   "source": [
    "from qiskit.quantum_info.operators import PauliTable\n",
    "\n",
    "current = PauliTable.from_labels(['I', 'X'])\n",
    "other =  PauliTable.from_labels(['Y', 'Z'])\n",
    "print(current.compose(other))"
   ]
  },
  {
   "cell_type": "code",
   "execution_count": 2,
   "id": "114d00dc",
   "metadata": {
    "execution": {
     "iopub.execute_input": "2021-04-19T13:30:24.991529Z",
     "iopub.status.busy": "2021-04-19T13:30:24.989794Z",
     "iopub.status.idle": "2021-04-19T13:30:24.993684Z",
     "shell.execute_reply": "2021-04-19T13:30:24.993122Z"
    }
   },
   "outputs": [
    {
     "name": "stdout",
     "output_type": "stream",
     "text": [
      "PauliTable: ['Y', 'Z', 'Z', 'Y']\n"
     ]
    }
   ],
   "source": [
    "from qiskit.quantum_info.operators import PauliTable\n",
    "\n",
    "current = PauliTable.from_labels(['I', 'X'])\n",
    "other =  PauliTable.from_labels(['Y', 'Z'])\n",
    "print(current.dot(other))"
   ]
  },
  {
   "cell_type": "code",
   "execution_count": 3,
   "id": "d4b764d2",
   "metadata": {
    "execution": {
     "iopub.execute_input": "2021-04-19T13:30:25.000456Z",
     "iopub.status.busy": "2021-04-19T13:30:24.999019Z",
     "iopub.status.idle": "2021-04-19T13:30:25.002664Z",
     "shell.execute_reply": "2021-04-19T13:30:25.001941Z"
    }
   },
   "outputs": [
    {
     "name": "stdout",
     "output_type": "stream",
     "text": [
      "PauliTable: ['YI', 'YX', 'ZI', 'ZX']\n"
     ]
    }
   ],
   "source": [
    "from qiskit.quantum_info.operators import PauliTable\n",
    "\n",
    "current = PauliTable.from_labels(['I', 'X'])\n",
    "other =  PauliTable.from_labels(['Y', 'Z'])\n",
    "print(current.expand(other))"
   ]
  },
  {
   "cell_type": "code",
   "execution_count": 4,
   "id": "6fcacd4b",
   "metadata": {
    "execution": {
     "iopub.execute_input": "2021-04-19T13:30:25.019134Z",
     "iopub.status.busy": "2021-04-19T13:30:25.016809Z",
     "iopub.status.idle": "2021-04-19T13:30:25.023283Z",
     "shell.execute_reply": "2021-04-19T13:30:25.020594Z"
    }
   },
   "outputs": [
    {
     "name": "stdout",
     "output_type": "stream",
     "text": [
      "Initial Ordering\n",
      "PauliTable: ['XX', 'ZX', 'XY', 'YY', 'IZ', 'ZI', 'IY', 'ZY', 'YX', 'II', 'XI', 'XZ', 'IX', 'ZZ', 'YZ', 'YI']\n",
      "Lexicographically sorted\n",
      "PauliTable: ['II', 'IX', 'IY', 'IZ', 'XI', 'XX', 'XY', 'XZ', 'YI', 'YX', 'YY', 'YZ', 'ZI', 'ZX', 'ZY', 'ZZ']\n",
      "Weight sorted\n",
      "PauliTable: ['II', 'IX', 'IY', 'IZ', 'XI', 'YI', 'ZI', 'XX', 'XY', 'XZ', 'YX', 'YY', 'YZ', 'ZX', 'ZY', 'ZZ']\n"
     ]
    }
   ],
   "source": [
    "from numpy.random import shuffle\n",
    "from qiskit.quantum_info.operators import PauliTable\n",
    "\n",
    "# 2-qubit labels\n",
    "labels = ['II', 'IX', 'IY', 'IZ', 'XI', 'XX', 'XY', 'XZ',\n",
    "          'YI', 'YX', 'YY', 'YZ', 'ZI', 'ZX', 'ZY', 'ZZ']\n",
    "# Shuffle Labels\n",
    "shuffle(labels)\n",
    "pt = PauliTable.from_labels(labels)\n",
    "print('Initial Ordering')\n",
    "print(pt)\n",
    "\n",
    "# Lexicographic Ordering\n",
    "srt = pt.sort()\n",
    "print('Lexicographically sorted')\n",
    "print(srt)\n",
    "\n",
    "# Weight Ordering\n",
    "srt = pt.sort(weight=True)\n",
    "print('Weight sorted')\n",
    "print(srt)"
   ]
  },
  {
   "cell_type": "code",
   "execution_count": 5,
   "id": "776903c9",
   "metadata": {
    "execution": {
     "iopub.execute_input": "2021-04-19T13:30:25.030619Z",
     "iopub.status.busy": "2021-04-19T13:30:25.029100Z",
     "iopub.status.idle": "2021-04-19T13:30:25.032674Z",
     "shell.execute_reply": "2021-04-19T13:30:25.032052Z"
    }
   },
   "outputs": [
    {
     "name": "stdout",
     "output_type": "stream",
     "text": [
      "PauliTable: ['IY', 'IZ', 'XY', 'XZ']\n"
     ]
    }
   ],
   "source": [
    "from qiskit.quantum_info.operators import PauliTable\n",
    "\n",
    "current = PauliTable.from_labels(['I', 'X'])\n",
    "other =  PauliTable.from_labels(['Y', 'Z'])\n",
    "print(current.tensor(other))"
   ]
  },
  {
   "cell_type": "code",
   "execution_count": 6,
   "id": "9d529f1a",
   "metadata": {
    "execution": {
     "iopub.execute_input": "2021-04-19T13:30:25.041245Z",
     "iopub.status.busy": "2021-04-19T13:30:25.040232Z",
     "iopub.status.idle": "2021-04-19T13:30:25.043299Z",
     "shell.execute_reply": "2021-04-19T13:30:25.041824Z"
    }
   },
   "outputs": [
    {
     "name": "stdout",
     "output_type": "stream",
     "text": [
      "PauliTable: ['X', 'Y', 'I', 'Z']\n"
     ]
    }
   ],
   "source": [
    "from qiskit.quantum_info.operators import PauliTable\n",
    "\n",
    "pt = PauliTable.from_labels(['X', 'Y', 'X', 'I', 'I', 'Z', 'X', 'Z'])\n",
    "unique = pt.unique()\n",
    "print(unique)"
   ]
  }
 ],
 "metadata": {
  "kernelspec": {
   "display_name": "Python 3",
   "language": "python",
   "name": "python3"
  },
  "language_info": {
   "codemirror_mode": {
    "name": "ipython",
    "version": 3
   },
   "file_extension": ".py",
   "mimetype": "text/x-python",
   "name": "python",
   "nbconvert_exporter": "python",
   "pygments_lexer": "ipython3",
   "version": "3.8.9"
  }
 },
 "nbformat": 4,
 "nbformat_minor": 5
}