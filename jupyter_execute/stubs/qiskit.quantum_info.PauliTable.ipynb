{
 "cells": [
  {
   "cell_type": "code",
   "execution_count": 1,
   "id": "11d3f242",
   "metadata": {
    "execution": {
     "iopub.execute_input": "2021-05-21T17:01:13.172086Z",
     "iopub.status.busy": "2021-05-21T17:01:13.171186Z",
     "iopub.status.idle": "2021-05-21T17:01:13.931307Z",
     "shell.execute_reply": "2021-05-21T17:01:13.930588Z"
    }
   },
   "outputs": [
    {
     "name": "stdout",
     "output_type": "stream",
     "text": [
      "PauliTable: ['Y', 'Z', 'Z', 'Y']\n"
     ]
    }
   ],
   "source": [
    "from qiskit.quantum_info.operators import PauliTable\n",
    "\n",
    "current = PauliTable.from_labels(['I', 'X'])\n",
    "other =  PauliTable.from_labels(['Y', 'Z'])\n",
    "print(current.compose(other))"
   ]
  },
  {
   "cell_type": "code",
   "execution_count": 2,
   "id": "153d7745",
   "metadata": {
    "execution": {
     "iopub.execute_input": "2021-05-21T17:01:13.936797Z",
     "iopub.status.busy": "2021-05-21T17:01:13.936182Z",
     "iopub.status.idle": "2021-05-21T17:01:13.940051Z",
     "shell.execute_reply": "2021-05-21T17:01:13.940528Z"
    }
   },
   "outputs": [
    {
     "name": "stdout",
     "output_type": "stream",
     "text": [
      "PauliTable: ['Y', 'Z', 'Z', 'Y']\n"
     ]
    }
   ],
   "source": [
    "from qiskit.quantum_info.operators import PauliTable\n",
    "\n",
    "current = PauliTable.from_labels(['I', 'X'])\n",
    "other =  PauliTable.from_labels(['Y', 'Z'])\n",
    "print(current.dot(other))"
   ]
  },
  {
   "cell_type": "code",
   "execution_count": 3,
   "id": "30e918b2",
   "metadata": {
    "execution": {
     "iopub.execute_input": "2021-05-21T17:01:13.946274Z",
     "iopub.status.busy": "2021-05-21T17:01:13.945637Z",
     "iopub.status.idle": "2021-05-21T17:01:13.949593Z",
     "shell.execute_reply": "2021-05-21T17:01:13.948996Z"
    }
   },
   "outputs": [
    {
     "name": "stdout",
     "output_type": "stream",
     "text": [
      "PauliTable: ['YI', 'YX', 'ZI', 'ZX']\n"
     ]
    }
   ],
   "source": [
    "from qiskit.quantum_info.operators import PauliTable\n",
    "\n",
    "current = PauliTable.from_labels(['I', 'X'])\n",
    "other =  PauliTable.from_labels(['Y', 'Z'])\n",
    "print(current.expand(other))"
   ]
  },
  {
   "cell_type": "code",
   "execution_count": 4,
   "id": "98dbfab6",
   "metadata": {
    "execution": {
     "iopub.execute_input": "2021-05-21T17:01:13.957137Z",
     "iopub.status.busy": "2021-05-21T17:01:13.954657Z",
     "iopub.status.idle": "2021-05-21T17:01:13.960109Z",
     "shell.execute_reply": "2021-05-21T17:01:13.960622Z"
    }
   },
   "outputs": [
    {
     "name": "stdout",
     "output_type": "stream",
     "text": [
      "Initial Ordering\n",
      "PauliTable: ['ZZ', 'II', 'YX', 'ZI', 'IZ', 'XZ', 'XI', 'IX', 'YI', 'XY', 'YZ', 'ZX', 'IY', 'XX', 'YY', 'ZY']\n",
      "Lexicographically sorted\n",
      "PauliTable: ['II', 'IX', 'IY', 'IZ', 'XI', 'XX', 'XY', 'XZ', 'YI', 'YX', 'YY', 'YZ', 'ZI', 'ZX', 'ZY', 'ZZ']\n",
      "Weight sorted\n",
      "PauliTable: ['II', 'IX', 'IY', 'IZ', 'XI', 'YI', 'ZI', 'XX', 'XY', 'XZ', 'YX', 'YY', 'YZ', 'ZX', 'ZY', 'ZZ']\n"
     ]
    }
   ],
   "source": [
    "from numpy.random import shuffle\n",
    "from qiskit.quantum_info.operators import PauliTable\n",
    "\n",
    "# 2-qubit labels\n",
    "labels = ['II', 'IX', 'IY', 'IZ', 'XI', 'XX', 'XY', 'XZ',\n",
    "          'YI', 'YX', 'YY', 'YZ', 'ZI', 'ZX', 'ZY', 'ZZ']\n",
    "# Shuffle Labels\n",
    "shuffle(labels)\n",
    "pt = PauliTable.from_labels(labels)\n",
    "print('Initial Ordering')\n",
    "print(pt)\n",
    "\n",
    "# Lexicographic Ordering\n",
    "srt = pt.sort()\n",
    "print('Lexicographically sorted')\n",
    "print(srt)\n",
    "\n",
    "# Weight Ordering\n",
    "srt = pt.sort(weight=True)\n",
    "print('Weight sorted')\n",
    "print(srt)"
   ]
  },
  {
   "cell_type": "code",
   "execution_count": 5,
   "id": "6804459b",
   "metadata": {
    "execution": {
     "iopub.execute_input": "2021-05-21T17:01:13.967114Z",
     "iopub.status.busy": "2021-05-21T17:01:13.965545Z",
     "iopub.status.idle": "2021-05-21T17:01:13.969931Z",
     "shell.execute_reply": "2021-05-21T17:01:13.968554Z"
    }
   },
   "outputs": [
    {
     "name": "stdout",
     "output_type": "stream",
     "text": [
      "PauliTable: ['IY', 'IZ', 'XY', 'XZ']\n"
     ]
    }
   ],
   "source": [
    "from qiskit.quantum_info.operators import PauliTable\n",
    "\n",
    "current = PauliTable.from_labels(['I', 'X'])\n",
    "other =  PauliTable.from_labels(['Y', 'Z'])\n",
    "print(current.tensor(other))"
   ]
  },
  {
   "cell_type": "code",
   "execution_count": 6,
   "id": "8d8c2aeb",
   "metadata": {
    "execution": {
     "iopub.execute_input": "2021-05-21T17:01:13.976756Z",
     "iopub.status.busy": "2021-05-21T17:01:13.975208Z",
     "iopub.status.idle": "2021-05-21T17:01:13.979442Z",
     "shell.execute_reply": "2021-05-21T17:01:13.978221Z"
    }
   },
   "outputs": [
    {
     "name": "stdout",
     "output_type": "stream",
     "text": [
      "PauliTable: ['X', 'Y', 'I', 'Z']\n"
     ]
    }
   ],
   "source": [
    "from qiskit.quantum_info.operators import PauliTable\n",
    "\n",
    "pt = PauliTable.from_labels(['X', 'Y', 'X', 'I', 'I', 'Z', 'X', 'Z'])\n",
    "unique = pt.unique()\n",
    "print(unique)"
   ]
  }
 ],
 "metadata": {
  "kernelspec": {
   "display_name": "Python 3",
   "language": "python",
   "name": "python3"
  },
  "language_info": {
   "codemirror_mode": {
    "name": "ipython",
    "version": 3
   },
   "file_extension": ".py",
   "mimetype": "text/x-python",
   "name": "python",
   "nbconvert_exporter": "python",
   "pygments_lexer": "ipython3",
   "version": "3.8.10"
  }
 },
 "nbformat": 4,
 "nbformat_minor": 5
}