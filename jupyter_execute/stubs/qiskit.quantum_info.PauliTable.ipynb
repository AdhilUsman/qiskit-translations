{
 "cells": [
  {
   "cell_type": "code",
   "execution_count": 1,
   "id": "835013e5",
   "metadata": {
    "execution": {
     "iopub.execute_input": "2021-04-13T11:47:14.089865Z",
     "iopub.status.busy": "2021-04-13T11:47:14.089316Z",
     "iopub.status.idle": "2021-04-13T11:47:14.883642Z",
     "shell.execute_reply": "2021-04-13T11:47:14.884194Z"
    }
   },
   "outputs": [
    {
     "name": "stdout",
     "output_type": "stream",
     "text": [
      "PauliTable: ['Y', 'Z', 'Z', 'Y']\n"
     ]
    }
   ],
   "source": [
    "from qiskit.quantum_info.operators import PauliTable\n",
    "\n",
    "current = PauliTable.from_labels(['I', 'X'])\n",
    "other =  PauliTable.from_labels(['Y', 'Z'])\n",
    "print(current.compose(other))"
   ]
  },
  {
   "cell_type": "code",
   "execution_count": 2,
   "id": "498d3a41",
   "metadata": {
    "execution": {
     "iopub.execute_input": "2021-04-13T11:47:14.891727Z",
     "iopub.status.busy": "2021-04-13T11:47:14.890139Z",
     "iopub.status.idle": "2021-04-13T11:47:14.893965Z",
     "shell.execute_reply": "2021-04-13T11:47:14.893372Z"
    }
   },
   "outputs": [
    {
     "name": "stdout",
     "output_type": "stream",
     "text": [
      "PauliTable: ['Y', 'Z', 'Z', 'Y']\n"
     ]
    }
   ],
   "source": [
    "from qiskit.quantum_info.operators import PauliTable\n",
    "\n",
    "current = PauliTable.from_labels(['I', 'X'])\n",
    "other =  PauliTable.from_labels(['Y', 'Z'])\n",
    "print(current.dot(other))"
   ]
  },
  {
   "cell_type": "code",
   "execution_count": 3,
   "id": "55b97bd6",
   "metadata": {
    "execution": {
     "iopub.execute_input": "2021-04-13T11:47:14.901023Z",
     "iopub.status.busy": "2021-04-13T11:47:14.899859Z",
     "iopub.status.idle": "2021-04-13T11:47:14.903002Z",
     "shell.execute_reply": "2021-04-13T11:47:14.901643Z"
    }
   },
   "outputs": [
    {
     "name": "stdout",
     "output_type": "stream",
     "text": [
      "PauliTable: ['YI', 'YX', 'ZI', 'ZX']\n"
     ]
    }
   ],
   "source": [
    "from qiskit.quantum_info.operators import PauliTable\n",
    "\n",
    "current = PauliTable.from_labels(['I', 'X'])\n",
    "other =  PauliTable.from_labels(['Y', 'Z'])\n",
    "print(current.expand(other))"
   ]
  },
  {
   "cell_type": "code",
   "execution_count": 4,
   "id": "5fafca6d",
   "metadata": {
    "execution": {
     "iopub.execute_input": "2021-04-13T11:47:14.913504Z",
     "iopub.status.busy": "2021-04-13T11:47:14.911954Z",
     "iopub.status.idle": "2021-04-13T11:47:14.916260Z",
     "shell.execute_reply": "2021-04-13T11:47:14.915678Z"
    }
   },
   "outputs": [
    {
     "name": "stdout",
     "output_type": "stream",
     "text": [
      "Initial Ordering\n",
      "PauliTable: ['XY', 'IY', 'XZ', 'ZI', 'XX', 'YZ', 'YY', 'ZZ', 'IX', 'XI', 'II', 'YI', 'ZY', 'YX', 'IZ', 'ZX']\n",
      "Lexicographically sorted\n",
      "PauliTable: ['II', 'IX', 'IY', 'IZ', 'XI', 'XX', 'XY', 'XZ', 'YI', 'YX', 'YY', 'YZ', 'ZI', 'ZX', 'ZY', 'ZZ']\n",
      "Weight sorted\n",
      "PauliTable: ['II', 'IX', 'IY', 'IZ', 'XI', 'YI', 'ZI', 'XX', 'XY', 'XZ', 'YX', 'YY', 'YZ', 'ZX', 'ZY', 'ZZ']\n"
     ]
    }
   ],
   "source": [
    "from numpy.random import shuffle\n",
    "from qiskit.quantum_info.operators import PauliTable\n",
    "\n",
    "# 2-qubit labels\n",
    "labels = ['II', 'IX', 'IY', 'IZ', 'XI', 'XX', 'XY', 'XZ',\n",
    "          'YI', 'YX', 'YY', 'YZ', 'ZI', 'ZX', 'ZY', 'ZZ']\n",
    "# Shuffle Labels\n",
    "shuffle(labels)\n",
    "pt = PauliTable.from_labels(labels)\n",
    "print('Initial Ordering')\n",
    "print(pt)\n",
    "\n",
    "# Lexicographic Ordering\n",
    "srt = pt.sort()\n",
    "print('Lexicographically sorted')\n",
    "print(srt)\n",
    "\n",
    "# Weight Ordering\n",
    "srt = pt.sort(weight=True)\n",
    "print('Weight sorted')\n",
    "print(srt)"
   ]
  },
  {
   "cell_type": "code",
   "execution_count": 5,
   "id": "c7b5fa01",
   "metadata": {
    "execution": {
     "iopub.execute_input": "2021-04-13T11:47:14.923552Z",
     "iopub.status.busy": "2021-04-13T11:47:14.922056Z",
     "iopub.status.idle": "2021-04-13T11:47:14.925766Z",
     "shell.execute_reply": "2021-04-13T11:47:14.925181Z"
    }
   },
   "outputs": [
    {
     "name": "stdout",
     "output_type": "stream",
     "text": [
      "PauliTable: ['IY', 'IZ', 'XY', 'XZ']\n"
     ]
    }
   ],
   "source": [
    "from qiskit.quantum_info.operators import PauliTable\n",
    "\n",
    "current = PauliTable.from_labels(['I', 'X'])\n",
    "other =  PauliTable.from_labels(['Y', 'Z'])\n",
    "print(current.tensor(other))"
   ]
  },
  {
   "cell_type": "code",
   "execution_count": 6,
   "id": "77db331a",
   "metadata": {
    "execution": {
     "iopub.execute_input": "2021-04-13T11:47:14.933128Z",
     "iopub.status.busy": "2021-04-13T11:47:14.931982Z",
     "iopub.status.idle": "2021-04-13T11:47:14.935625Z",
     "shell.execute_reply": "2021-04-13T11:47:14.935059Z"
    }
   },
   "outputs": [
    {
     "name": "stdout",
     "output_type": "stream",
     "text": [
      "PauliTable: ['X', 'Y', 'I', 'Z']\n"
     ]
    }
   ],
   "source": [
    "from qiskit.quantum_info.operators import PauliTable\n",
    "\n",
    "pt = PauliTable.from_labels(['X', 'Y', 'X', 'I', 'I', 'Z', 'X', 'Z'])\n",
    "unique = pt.unique()\n",
    "print(unique)"
   ]
  }
 ],
 "metadata": {
  "kernelspec": {
   "display_name": "Python 3",
   "language": "python",
   "name": "python3"
  },
  "language_info": {
   "codemirror_mode": {
    "name": "ipython",
    "version": 3
   },
   "file_extension": ".py",
   "mimetype": "text/x-python",
   "name": "python",
   "nbconvert_exporter": "python",
   "pygments_lexer": "ipython3",
   "version": "3.8.9"
  }
 },
 "nbformat": 4,
 "nbformat_minor": 5
}