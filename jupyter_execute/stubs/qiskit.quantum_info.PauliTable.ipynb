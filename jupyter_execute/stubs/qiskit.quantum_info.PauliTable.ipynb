{
 "cells": [
  {
   "cell_type": "code",
   "execution_count": 1,
   "id": "19137e35",
   "metadata": {
    "execution": {
     "iopub.execute_input": "2021-04-04T12:03:57.277315Z",
     "iopub.status.busy": "2021-04-04T12:03:57.276634Z",
     "iopub.status.idle": "2021-04-04T12:03:57.941259Z",
     "shell.execute_reply": "2021-04-04T12:03:57.941789Z"
    }
   },
   "outputs": [
    {
     "name": "stdout",
     "output_type": "stream",
     "text": [
      "PauliTable: ['Y', 'Z', 'Z', 'Y']\n"
     ]
    }
   ],
   "source": [
    "from qiskit.quantum_info.operators import PauliTable\n",
    "\n",
    "current = PauliTable.from_labels(['I', 'X'])\n",
    "other =  PauliTable.from_labels(['Y', 'Z'])\n",
    "print(current.compose(other))"
   ]
  },
  {
   "cell_type": "code",
   "execution_count": 2,
   "id": "8b151b70",
   "metadata": {
    "execution": {
     "iopub.execute_input": "2021-04-04T12:03:57.948134Z",
     "iopub.status.busy": "2021-04-04T12:03:57.946734Z",
     "iopub.status.idle": "2021-04-04T12:03:57.950186Z",
     "shell.execute_reply": "2021-04-04T12:03:57.949649Z"
    }
   },
   "outputs": [
    {
     "name": "stdout",
     "output_type": "stream",
     "text": [
      "PauliTable: ['Y', 'Z', 'Z', 'Y']\n"
     ]
    }
   ],
   "source": [
    "from qiskit.quantum_info.operators import PauliTable\n",
    "\n",
    "current = PauliTable.from_labels(['I', 'X'])\n",
    "other =  PauliTable.from_labels(['Y', 'Z'])\n",
    "print(current.dot(other))"
   ]
  },
  {
   "cell_type": "code",
   "execution_count": 3,
   "id": "0df3667c",
   "metadata": {
    "execution": {
     "iopub.execute_input": "2021-04-04T12:03:57.955873Z",
     "iopub.status.busy": "2021-04-04T12:03:57.954569Z",
     "iopub.status.idle": "2021-04-04T12:03:57.957668Z",
     "shell.execute_reply": "2021-04-04T12:03:57.958157Z"
    }
   },
   "outputs": [
    {
     "name": "stdout",
     "output_type": "stream",
     "text": [
      "PauliTable: ['YI', 'YX', 'ZI', 'ZX']\n"
     ]
    }
   ],
   "source": [
    "from qiskit.quantum_info.operators import PauliTable\n",
    "\n",
    "current = PauliTable.from_labels(['I', 'X'])\n",
    "other =  PauliTable.from_labels(['Y', 'Z'])\n",
    "print(current.expand(other))"
   ]
  },
  {
   "cell_type": "code",
   "execution_count": 4,
   "id": "958ca252",
   "metadata": {
    "execution": {
     "iopub.execute_input": "2021-04-04T12:03:57.965907Z",
     "iopub.status.busy": "2021-04-04T12:03:57.963194Z",
     "iopub.status.idle": "2021-04-04T12:03:57.968393Z",
     "shell.execute_reply": "2021-04-04T12:03:57.968891Z"
    }
   },
   "outputs": [
    {
     "name": "stdout",
     "output_type": "stream",
     "text": [
      "Initial Ordering\n",
      "PauliTable: ['ZI', 'XY', 'IY', 'YY', 'ZZ', 'XI', 'YX', 'II', 'XX', 'YI', 'IX', 'IZ', 'ZY', 'XZ', 'YZ', 'ZX']\n",
      "Lexicographically sorted\n",
      "PauliTable: ['II', 'IX', 'IY', 'IZ', 'XI', 'XX', 'XY', 'XZ', 'YI', 'YX', 'YY', 'YZ', 'ZI', 'ZX', 'ZY', 'ZZ']\n",
      "Weight sorted\n",
      "PauliTable: ['II', 'IX', 'IY', 'IZ', 'XI', 'YI', 'ZI', 'XX', 'XY', 'XZ', 'YX', 'YY', 'YZ', 'ZX', 'ZY', 'ZZ']\n"
     ]
    }
   ],
   "source": [
    "from numpy.random import shuffle\n",
    "from qiskit.quantum_info.operators import PauliTable\n",
    "\n",
    "# 2-qubit labels\n",
    "labels = ['II', 'IX', 'IY', 'IZ', 'XI', 'XX', 'XY', 'XZ',\n",
    "          'YI', 'YX', 'YY', 'YZ', 'ZI', 'ZX', 'ZY', 'ZZ']\n",
    "# Shuffle Labels\n",
    "shuffle(labels)\n",
    "pt = PauliTable.from_labels(labels)\n",
    "print('Initial Ordering')\n",
    "print(pt)\n",
    "\n",
    "# Lexicographic Ordering\n",
    "srt = pt.sort()\n",
    "print('Lexicographically sorted')\n",
    "print(srt)\n",
    "\n",
    "# Weight Ordering\n",
    "srt = pt.sort(weight=True)\n",
    "print('Weight sorted')\n",
    "print(srt)"
   ]
  },
  {
   "cell_type": "code",
   "execution_count": 5,
   "id": "52a6a9e4",
   "metadata": {
    "execution": {
     "iopub.execute_input": "2021-04-04T12:03:57.976437Z",
     "iopub.status.busy": "2021-04-04T12:03:57.975428Z",
     "iopub.status.idle": "2021-04-04T12:03:57.978324Z",
     "shell.execute_reply": "2021-04-04T12:03:57.977091Z"
    }
   },
   "outputs": [
    {
     "name": "stdout",
     "output_type": "stream",
     "text": [
      "PauliTable: ['IY', 'IZ', 'XY', 'XZ']\n"
     ]
    }
   ],
   "source": [
    "from qiskit.quantum_info.operators import PauliTable\n",
    "\n",
    "current = PauliTable.from_labels(['I', 'X'])\n",
    "other =  PauliTable.from_labels(['Y', 'Z'])\n",
    "print(current.tensor(other))"
   ]
  },
  {
   "cell_type": "code",
   "execution_count": 6,
   "id": "d3cb2423",
   "metadata": {
    "execution": {
     "iopub.execute_input": "2021-04-04T12:03:57.984351Z",
     "iopub.status.busy": "2021-04-04T12:03:57.982853Z",
     "iopub.status.idle": "2021-04-04T12:03:57.986122Z",
     "shell.execute_reply": "2021-04-04T12:03:57.985578Z"
    }
   },
   "outputs": [
    {
     "name": "stdout",
     "output_type": "stream",
     "text": [
      "PauliTable: ['X', 'Y', 'I', 'Z']\n"
     ]
    }
   ],
   "source": [
    "from qiskit.quantum_info.operators import PauliTable\n",
    "\n",
    "pt = PauliTable.from_labels(['X', 'Y', 'X', 'I', 'I', 'Z', 'X', 'Z'])\n",
    "unique = pt.unique()\n",
    "print(unique)"
   ]
  }
 ],
 "metadata": {
  "kernelspec": {
   "display_name": "Python 3",
   "language": "python",
   "name": "python3"
  },
  "language_info": {
   "codemirror_mode": {
    "name": "ipython",
    "version": 3
   },
   "file_extension": ".py",
   "mimetype": "text/x-python",
   "name": "python",
   "nbconvert_exporter": "python",
   "pygments_lexer": "ipython3",
   "version": "3.8.8"
  }
 },
 "nbformat": 4,
 "nbformat_minor": 5
}