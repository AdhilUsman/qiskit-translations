{
 "cells": [
  {
   "cell_type": "code",
   "execution_count": 1,
   "id": "99253fd7",
   "metadata": {
    "execution": {
     "iopub.execute_input": "2021-04-21T23:47:52.510342Z",
     "iopub.status.busy": "2021-04-21T23:47:52.509826Z",
     "iopub.status.idle": "2021-04-21T23:47:53.096550Z",
     "shell.execute_reply": "2021-04-21T23:47:53.096970Z"
    }
   },
   "outputs": [
    {
     "name": "stdout",
     "output_type": "stream",
     "text": [
      "PauliTable: ['Y', 'Z', 'Z', 'Y']\n"
     ]
    }
   ],
   "source": [
    "from qiskit.quantum_info.operators import PauliTable\n",
    "\n",
    "current = PauliTable.from_labels(['I', 'X'])\n",
    "other =  PauliTable.from_labels(['Y', 'Z'])\n",
    "print(current.compose(other))"
   ]
  },
  {
   "cell_type": "code",
   "execution_count": 2,
   "id": "7bc72a95",
   "metadata": {
    "execution": {
     "iopub.execute_input": "2021-04-21T23:47:53.102799Z",
     "iopub.status.busy": "2021-04-21T23:47:53.101578Z",
     "iopub.status.idle": "2021-04-21T23:47:53.104424Z",
     "shell.execute_reply": "2021-04-21T23:47:53.103981Z"
    }
   },
   "outputs": [
    {
     "name": "stdout",
     "output_type": "stream",
     "text": [
      "PauliTable: ['Y', 'Z', 'Z', 'Y']\n"
     ]
    }
   ],
   "source": [
    "from qiskit.quantum_info.operators import PauliTable\n",
    "\n",
    "current = PauliTable.from_labels(['I', 'X'])\n",
    "other =  PauliTable.from_labels(['Y', 'Z'])\n",
    "print(current.dot(other))"
   ]
  },
  {
   "cell_type": "code",
   "execution_count": 3,
   "id": "d0a057a9",
   "metadata": {
    "execution": {
     "iopub.execute_input": "2021-04-21T23:47:53.109348Z",
     "iopub.status.busy": "2021-04-21T23:47:53.108406Z",
     "iopub.status.idle": "2021-04-21T23:47:53.111396Z",
     "shell.execute_reply": "2021-04-21T23:47:53.110822Z"
    }
   },
   "outputs": [
    {
     "name": "stdout",
     "output_type": "stream",
     "text": [
      "PauliTable: ['YI', 'YX', 'ZI', 'ZX']\n"
     ]
    }
   ],
   "source": [
    "from qiskit.quantum_info.operators import PauliTable\n",
    "\n",
    "current = PauliTable.from_labels(['I', 'X'])\n",
    "other =  PauliTable.from_labels(['Y', 'Z'])\n",
    "print(current.expand(other))"
   ]
  },
  {
   "cell_type": "code",
   "execution_count": 4,
   "id": "2547e997",
   "metadata": {
    "execution": {
     "iopub.execute_input": "2021-04-21T23:47:53.117350Z",
     "iopub.status.busy": "2021-04-21T23:47:53.115715Z",
     "iopub.status.idle": "2021-04-21T23:47:53.119173Z",
     "shell.execute_reply": "2021-04-21T23:47:53.119609Z"
    }
   },
   "outputs": [
    {
     "name": "stdout",
     "output_type": "stream",
     "text": [
      "Initial Ordering\n",
      "PauliTable: ['YX', 'XI', 'IZ', 'ZY', 'XX', 'II', 'YI', 'YZ', 'XZ', 'XY', 'IX', 'YY', 'ZZ', 'ZX', 'IY', 'ZI']\n",
      "Lexicographically sorted\n",
      "PauliTable: ['II', 'IX', 'IY', 'IZ', 'XI', 'XX', 'XY', 'XZ', 'YI', 'YX', 'YY', 'YZ', 'ZI', 'ZX', 'ZY', 'ZZ']\n",
      "Weight sorted\n",
      "PauliTable: ['II', 'IX', 'IY', 'IZ', 'XI', 'YI', 'ZI', 'XX', 'XY', 'XZ', 'YX', 'YY', 'YZ', 'ZX', 'ZY', 'ZZ']\n"
     ]
    }
   ],
   "source": [
    "from numpy.random import shuffle\n",
    "from qiskit.quantum_info.operators import PauliTable\n",
    "\n",
    "# 2-qubit labels\n",
    "labels = ['II', 'IX', 'IY', 'IZ', 'XI', 'XX', 'XY', 'XZ',\n",
    "          'YI', 'YX', 'YY', 'YZ', 'ZI', 'ZX', 'ZY', 'ZZ']\n",
    "# Shuffle Labels\n",
    "shuffle(labels)\n",
    "pt = PauliTable.from_labels(labels)\n",
    "print('Initial Ordering')\n",
    "print(pt)\n",
    "\n",
    "# Lexicographic Ordering\n",
    "srt = pt.sort()\n",
    "print('Lexicographically sorted')\n",
    "print(srt)\n",
    "\n",
    "# Weight Ordering\n",
    "srt = pt.sort(weight=True)\n",
    "print('Weight sorted')\n",
    "print(srt)"
   ]
  },
  {
   "cell_type": "code",
   "execution_count": 5,
   "id": "10ceefcf",
   "metadata": {
    "execution": {
     "iopub.execute_input": "2021-04-21T23:47:53.124823Z",
     "iopub.status.busy": "2021-04-21T23:47:53.123818Z",
     "iopub.status.idle": "2021-04-21T23:47:53.126432Z",
     "shell.execute_reply": "2021-04-21T23:47:53.126001Z"
    }
   },
   "outputs": [
    {
     "name": "stdout",
     "output_type": "stream",
     "text": [
      "PauliTable: ['IY', 'IZ', 'XY', 'XZ']\n"
     ]
    }
   ],
   "source": [
    "from qiskit.quantum_info.operators import PauliTable\n",
    "\n",
    "current = PauliTable.from_labels(['I', 'X'])\n",
    "other =  PauliTable.from_labels(['Y', 'Z'])\n",
    "print(current.tensor(other))"
   ]
  },
  {
   "cell_type": "code",
   "execution_count": 6,
   "id": "c6c2ae3d",
   "metadata": {
    "execution": {
     "iopub.execute_input": "2021-04-21T23:47:53.131240Z",
     "iopub.status.busy": "2021-04-21T23:47:53.130378Z",
     "iopub.status.idle": "2021-04-21T23:47:53.133091Z",
     "shell.execute_reply": "2021-04-21T23:47:53.132659Z"
    }
   },
   "outputs": [
    {
     "name": "stdout",
     "output_type": "stream",
     "text": [
      "PauliTable: ['X', 'Y', 'I', 'Z']\n"
     ]
    }
   ],
   "source": [
    "from qiskit.quantum_info.operators import PauliTable\n",
    "\n",
    "pt = PauliTable.from_labels(['X', 'Y', 'X', 'I', 'I', 'Z', 'X', 'Z'])\n",
    "unique = pt.unique()\n",
    "print(unique)"
   ]
  }
 ],
 "metadata": {
  "kernelspec": {
   "display_name": "Python 3",
   "language": "python",
   "name": "python3"
  },
  "language_info": {
   "codemirror_mode": {
    "name": "ipython",
    "version": 3
   },
   "file_extension": ".py",
   "mimetype": "text/x-python",
   "name": "python",
   "nbconvert_exporter": "python",
   "pygments_lexer": "ipython3",
   "version": "3.8.9"
  }
 },
 "nbformat": 4,
 "nbformat_minor": 5
}