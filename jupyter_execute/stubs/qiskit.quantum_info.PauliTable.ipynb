{
 "cells": [
  {
   "cell_type": "code",
   "execution_count": 1,
   "id": "63e4c52e",
   "metadata": {
    "execution": {
     "iopub.execute_input": "2021-05-04T01:27:14.587513Z",
     "iopub.status.busy": "2021-05-04T01:27:14.586751Z",
     "iopub.status.idle": "2021-05-04T01:27:15.323398Z",
     "shell.execute_reply": "2021-05-04T01:27:15.323925Z"
    }
   },
   "outputs": [
    {
     "name": "stdout",
     "output_type": "stream",
     "text": [
      "PauliTable: ['Y', 'Z', 'Z', 'Y']\n"
     ]
    }
   ],
   "source": [
    "from qiskit.quantum_info.operators import PauliTable\n",
    "\n",
    "current = PauliTable.from_labels(['I', 'X'])\n",
    "other =  PauliTable.from_labels(['Y', 'Z'])\n",
    "print(current.compose(other))"
   ]
  },
  {
   "cell_type": "code",
   "execution_count": 2,
   "id": "c5647d06",
   "metadata": {
    "execution": {
     "iopub.execute_input": "2021-05-04T01:27:15.330694Z",
     "iopub.status.busy": "2021-05-04T01:27:15.329217Z",
     "iopub.status.idle": "2021-05-04T01:27:15.332677Z",
     "shell.execute_reply": "2021-05-04T01:27:15.332209Z"
    }
   },
   "outputs": [
    {
     "name": "stdout",
     "output_type": "stream",
     "text": [
      "PauliTable: ['Y', 'Z', 'Z', 'Y']\n"
     ]
    }
   ],
   "source": [
    "from qiskit.quantum_info.operators import PauliTable\n",
    "\n",
    "current = PauliTable.from_labels(['I', 'X'])\n",
    "other =  PauliTable.from_labels(['Y', 'Z'])\n",
    "print(current.dot(other))"
   ]
  },
  {
   "cell_type": "code",
   "execution_count": 3,
   "id": "98cb6cd1",
   "metadata": {
    "execution": {
     "iopub.execute_input": "2021-05-04T01:27:15.339364Z",
     "iopub.status.busy": "2021-05-04T01:27:15.337871Z",
     "iopub.status.idle": "2021-05-04T01:27:15.341145Z",
     "shell.execute_reply": "2021-05-04T01:27:15.340651Z"
    }
   },
   "outputs": [
    {
     "name": "stdout",
     "output_type": "stream",
     "text": [
      "PauliTable: ['YI', 'YX', 'ZI', 'ZX']\n"
     ]
    }
   ],
   "source": [
    "from qiskit.quantum_info.operators import PauliTable\n",
    "\n",
    "current = PauliTable.from_labels(['I', 'X'])\n",
    "other =  PauliTable.from_labels(['Y', 'Z'])\n",
    "print(current.expand(other))"
   ]
  },
  {
   "cell_type": "code",
   "execution_count": 4,
   "id": "3ca00109",
   "metadata": {
    "execution": {
     "iopub.execute_input": "2021-05-04T01:27:15.351693Z",
     "iopub.status.busy": "2021-05-04T01:27:15.350047Z",
     "iopub.status.idle": "2021-05-04T01:27:15.353673Z",
     "shell.execute_reply": "2021-05-04T01:27:15.353160Z"
    }
   },
   "outputs": [
    {
     "name": "stdout",
     "output_type": "stream",
     "text": [
      "Initial Ordering\n",
      "PauliTable: ['ZX', 'ZZ', 'ZY', 'II', 'YI', 'XX', 'ZI', 'IX', 'XI', 'XZ', 'IY', 'XY', 'YY', 'YX', 'IZ', 'YZ']\n",
      "Lexicographically sorted\n",
      "PauliTable: ['II', 'IX', 'IY', 'IZ', 'XI', 'XX', 'XY', 'XZ', 'YI', 'YX', 'YY', 'YZ', 'ZI', 'ZX', 'ZY', 'ZZ']\n",
      "Weight sorted\n",
      "PauliTable: ['II', 'IX', 'IY', 'IZ', 'XI', 'YI', 'ZI', 'XX', 'XY', 'XZ', 'YX', 'YY', 'YZ', 'ZX', 'ZY', 'ZZ']\n"
     ]
    }
   ],
   "source": [
    "from numpy.random import shuffle\n",
    "from qiskit.quantum_info.operators import PauliTable\n",
    "\n",
    "# 2-qubit labels\n",
    "labels = ['II', 'IX', 'IY', 'IZ', 'XI', 'XX', 'XY', 'XZ',\n",
    "          'YI', 'YX', 'YY', 'YZ', 'ZI', 'ZX', 'ZY', 'ZZ']\n",
    "# Shuffle Labels\n",
    "shuffle(labels)\n",
    "pt = PauliTable.from_labels(labels)\n",
    "print('Initial Ordering')\n",
    "print(pt)\n",
    "\n",
    "# Lexicographic Ordering\n",
    "srt = pt.sort()\n",
    "print('Lexicographically sorted')\n",
    "print(srt)\n",
    "\n",
    "# Weight Ordering\n",
    "srt = pt.sort(weight=True)\n",
    "print('Weight sorted')\n",
    "print(srt)"
   ]
  },
  {
   "cell_type": "code",
   "execution_count": 5,
   "id": "e18bece5",
   "metadata": {
    "execution": {
     "iopub.execute_input": "2021-05-04T01:27:15.359668Z",
     "iopub.status.busy": "2021-05-04T01:27:15.358361Z",
     "iopub.status.idle": "2021-05-04T01:27:15.361412Z",
     "shell.execute_reply": "2021-05-04T01:27:15.360897Z"
    }
   },
   "outputs": [
    {
     "name": "stdout",
     "output_type": "stream",
     "text": [
      "PauliTable: ['IY', 'IZ', 'XY', 'XZ']\n"
     ]
    }
   ],
   "source": [
    "from qiskit.quantum_info.operators import PauliTable\n",
    "\n",
    "current = PauliTable.from_labels(['I', 'X'])\n",
    "other =  PauliTable.from_labels(['Y', 'Z'])\n",
    "print(current.tensor(other))"
   ]
  },
  {
   "cell_type": "code",
   "execution_count": 6,
   "id": "26bc9c3b",
   "metadata": {
    "execution": {
     "iopub.execute_input": "2021-05-04T01:27:15.371337Z",
     "iopub.status.busy": "2021-05-04T01:27:15.370757Z",
     "iopub.status.idle": "2021-05-04T01:27:15.374022Z",
     "shell.execute_reply": "2021-05-04T01:27:15.373432Z"
    }
   },
   "outputs": [
    {
     "name": "stdout",
     "output_type": "stream",
     "text": [
      "PauliTable: ['X', 'Y', 'I', 'Z']\n"
     ]
    }
   ],
   "source": [
    "from qiskit.quantum_info.operators import PauliTable\n",
    "\n",
    "pt = PauliTable.from_labels(['X', 'Y', 'X', 'I', 'I', 'Z', 'X', 'Z'])\n",
    "unique = pt.unique()\n",
    "print(unique)"
   ]
  }
 ],
 "metadata": {
  "kernelspec": {
   "display_name": "Python 3",
   "language": "python",
   "name": "python3"
  },
  "language_info": {
   "codemirror_mode": {
    "name": "ipython",
    "version": 3
   },
   "file_extension": ".py",
   "mimetype": "text/x-python",
   "name": "python",
   "nbconvert_exporter": "python",
   "pygments_lexer": "ipython3",
   "version": "3.8.9"
  }
 },
 "nbformat": 4,
 "nbformat_minor": 5
}