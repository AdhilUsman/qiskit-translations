{
 "cells": [
  {
   "cell_type": "code",
   "execution_count": 1,
   "id": "c38668d8",
   "metadata": {
    "execution": {
     "iopub.execute_input": "2021-04-20T03:36:08.010165Z",
     "iopub.status.busy": "2021-04-20T03:36:08.009399Z",
     "iopub.status.idle": "2021-04-20T03:36:08.665723Z",
     "shell.execute_reply": "2021-04-20T03:36:08.666224Z"
    }
   },
   "outputs": [
    {
     "name": "stdout",
     "output_type": "stream",
     "text": [
      "PauliTable: ['Y', 'Z', 'Z', 'Y']\n"
     ]
    }
   ],
   "source": [
    "from qiskit.quantum_info.operators import PauliTable\n",
    "\n",
    "current = PauliTable.from_labels(['I', 'X'])\n",
    "other =  PauliTable.from_labels(['Y', 'Z'])\n",
    "print(current.compose(other))"
   ]
  },
  {
   "cell_type": "code",
   "execution_count": 2,
   "id": "d5bd97d1",
   "metadata": {
    "execution": {
     "iopub.execute_input": "2021-04-20T03:36:08.672073Z",
     "iopub.status.busy": "2021-04-20T03:36:08.670766Z",
     "iopub.status.idle": "2021-04-20T03:36:08.673812Z",
     "shell.execute_reply": "2021-04-20T03:36:08.673360Z"
    }
   },
   "outputs": [
    {
     "name": "stdout",
     "output_type": "stream",
     "text": [
      "PauliTable: ['Y', 'Z', 'Z', 'Y']\n"
     ]
    }
   ],
   "source": [
    "from qiskit.quantum_info.operators import PauliTable\n",
    "\n",
    "current = PauliTable.from_labels(['I', 'X'])\n",
    "other =  PauliTable.from_labels(['Y', 'Z'])\n",
    "print(current.dot(other))"
   ]
  },
  {
   "cell_type": "code",
   "execution_count": 3,
   "id": "ddaba9ef",
   "metadata": {
    "execution": {
     "iopub.execute_input": "2021-04-20T03:36:08.679575Z",
     "iopub.status.busy": "2021-04-20T03:36:08.678293Z",
     "iopub.status.idle": "2021-04-20T03:36:08.681372Z",
     "shell.execute_reply": "2021-04-20T03:36:08.680830Z"
    }
   },
   "outputs": [
    {
     "name": "stdout",
     "output_type": "stream",
     "text": [
      "PauliTable: ['YI', 'YX', 'ZI', 'ZX']\n"
     ]
    }
   ],
   "source": [
    "from qiskit.quantum_info.operators import PauliTable\n",
    "\n",
    "current = PauliTable.from_labels(['I', 'X'])\n",
    "other =  PauliTable.from_labels(['Y', 'Z'])\n",
    "print(current.expand(other))"
   ]
  },
  {
   "cell_type": "code",
   "execution_count": 4,
   "id": "5520f313",
   "metadata": {
    "execution": {
     "iopub.execute_input": "2021-04-20T03:36:08.688442Z",
     "iopub.status.busy": "2021-04-20T03:36:08.687820Z",
     "iopub.status.idle": "2021-04-20T03:36:08.690559Z",
     "shell.execute_reply": "2021-04-20T03:36:08.690949Z"
    }
   },
   "outputs": [
    {
     "name": "stdout",
     "output_type": "stream",
     "text": [
      "Initial Ordering\n",
      "PauliTable: ['YZ', 'ZI', 'YI', 'XZ', 'IY', 'ZX', 'YX', 'ZZ', 'ZY', 'XY', 'XI', 'YY', 'IZ', 'II', 'IX', 'XX']\n",
      "Lexicographically sorted\n",
      "PauliTable: ['II', 'IX', 'IY', 'IZ', 'XI', 'XX', 'XY', 'XZ', 'YI', 'YX', 'YY', 'YZ', 'ZI', 'ZX', 'ZY', 'ZZ']\n",
      "Weight sorted\n",
      "PauliTable: ['II', 'IX', 'IY', 'IZ', 'XI', 'YI', 'ZI', 'XX', 'XY', 'XZ', 'YX', 'YY', 'YZ', 'ZX', 'ZY', 'ZZ']\n"
     ]
    }
   ],
   "source": [
    "from numpy.random import shuffle\n",
    "from qiskit.quantum_info.operators import PauliTable\n",
    "\n",
    "# 2-qubit labels\n",
    "labels = ['II', 'IX', 'IY', 'IZ', 'XI', 'XX', 'XY', 'XZ',\n",
    "          'YI', 'YX', 'YY', 'YZ', 'ZI', 'ZX', 'ZY', 'ZZ']\n",
    "# Shuffle Labels\n",
    "shuffle(labels)\n",
    "pt = PauliTable.from_labels(labels)\n",
    "print('Initial Ordering')\n",
    "print(pt)\n",
    "\n",
    "# Lexicographic Ordering\n",
    "srt = pt.sort()\n",
    "print('Lexicographically sorted')\n",
    "print(srt)\n",
    "\n",
    "# Weight Ordering\n",
    "srt = pt.sort(weight=True)\n",
    "print('Weight sorted')\n",
    "print(srt)"
   ]
  },
  {
   "cell_type": "code",
   "execution_count": 5,
   "id": "d758dbcf",
   "metadata": {
    "execution": {
     "iopub.execute_input": "2021-04-20T03:36:08.696235Z",
     "iopub.status.busy": "2021-04-20T03:36:08.694876Z",
     "iopub.status.idle": "2021-04-20T03:36:08.698930Z",
     "shell.execute_reply": "2021-04-20T03:36:08.698329Z"
    }
   },
   "outputs": [
    {
     "name": "stdout",
     "output_type": "stream",
     "text": [
      "PauliTable: ['IY', 'IZ', 'XY', 'XZ']\n"
     ]
    }
   ],
   "source": [
    "from qiskit.quantum_info.operators import PauliTable\n",
    "\n",
    "current = PauliTable.from_labels(['I', 'X'])\n",
    "other =  PauliTable.from_labels(['Y', 'Z'])\n",
    "print(current.tensor(other))"
   ]
  },
  {
   "cell_type": "code",
   "execution_count": 6,
   "id": "f95c3d8b",
   "metadata": {
    "execution": {
     "iopub.execute_input": "2021-04-20T03:36:08.704982Z",
     "iopub.status.busy": "2021-04-20T03:36:08.703639Z",
     "iopub.status.idle": "2021-04-20T03:36:08.706780Z",
     "shell.execute_reply": "2021-04-20T03:36:08.706282Z"
    }
   },
   "outputs": [
    {
     "name": "stdout",
     "output_type": "stream",
     "text": [
      "PauliTable: ['X', 'Y', 'I', 'Z']\n"
     ]
    }
   ],
   "source": [
    "from qiskit.quantum_info.operators import PauliTable\n",
    "\n",
    "pt = PauliTable.from_labels(['X', 'Y', 'X', 'I', 'I', 'Z', 'X', 'Z'])\n",
    "unique = pt.unique()\n",
    "print(unique)"
   ]
  }
 ],
 "metadata": {
  "kernelspec": {
   "display_name": "Python 3",
   "language": "python",
   "name": "python3"
  },
  "language_info": {
   "codemirror_mode": {
    "name": "ipython",
    "version": 3
   },
   "file_extension": ".py",
   "mimetype": "text/x-python",
   "name": "python",
   "nbconvert_exporter": "python",
   "pygments_lexer": "ipython3",
   "version": "3.8.9"
  }
 },
 "nbformat": 4,
 "nbformat_minor": 5
}