{
 "cells": [
  {
   "cell_type": "code",
   "execution_count": 1,
   "id": "79c50473",
   "metadata": {
    "execution": {
     "iopub.execute_input": "2021-06-08T22:56:13.013407Z",
     "iopub.status.busy": "2021-06-08T22:56:13.012900Z",
     "iopub.status.idle": "2021-06-08T22:56:13.669713Z",
     "shell.execute_reply": "2021-06-08T22:56:13.671111Z"
    }
   },
   "outputs": [
    {
     "name": "stdout",
     "output_type": "stream",
     "text": [
      "PauliTable: ['Y', 'Z', 'Z', 'Y']\n"
     ]
    }
   ],
   "source": [
    "from qiskit.quantum_info.operators import PauliTable\n",
    "\n",
    "current = PauliTable.from_labels(['I', 'X'])\n",
    "other =  PauliTable.from_labels(['Y', 'Z'])\n",
    "print(current.compose(other))"
   ]
  },
  {
   "cell_type": "code",
   "execution_count": 2,
   "id": "58e42fdd",
   "metadata": {
    "execution": {
     "iopub.execute_input": "2021-06-08T22:56:13.676742Z",
     "iopub.status.busy": "2021-06-08T22:56:13.676189Z",
     "iopub.status.idle": "2021-06-08T22:56:13.680414Z",
     "shell.execute_reply": "2021-06-08T22:56:13.679906Z"
    }
   },
   "outputs": [
    {
     "name": "stdout",
     "output_type": "stream",
     "text": [
      "PauliTable: ['Y', 'Z', 'Z', 'Y']\n"
     ]
    }
   ],
   "source": [
    "from qiskit.quantum_info.operators import PauliTable\n",
    "\n",
    "current = PauliTable.from_labels(['I', 'X'])\n",
    "other =  PauliTable.from_labels(['Y', 'Z'])\n",
    "print(current.dot(other))"
   ]
  },
  {
   "cell_type": "code",
   "execution_count": 3,
   "id": "4a8282f2",
   "metadata": {
    "execution": {
     "iopub.execute_input": "2021-06-08T22:56:13.684978Z",
     "iopub.status.busy": "2021-06-08T22:56:13.684439Z",
     "iopub.status.idle": "2021-06-08T22:56:13.688080Z",
     "shell.execute_reply": "2021-06-08T22:56:13.687601Z"
    }
   },
   "outputs": [
    {
     "name": "stdout",
     "output_type": "stream",
     "text": [
      "PauliTable: ['YI', 'YX', 'ZI', 'ZX']\n"
     ]
    }
   ],
   "source": [
    "from qiskit.quantum_info.operators import PauliTable\n",
    "\n",
    "current = PauliTable.from_labels(['I', 'X'])\n",
    "other =  PauliTable.from_labels(['Y', 'Z'])\n",
    "print(current.expand(other))"
   ]
  },
  {
   "cell_type": "code",
   "execution_count": 4,
   "id": "68cf2750",
   "metadata": {
    "execution": {
     "iopub.execute_input": "2021-06-08T22:56:13.694811Z",
     "iopub.status.busy": "2021-06-08T22:56:13.693128Z",
     "iopub.status.idle": "2021-06-08T22:56:13.696974Z",
     "shell.execute_reply": "2021-06-08T22:56:13.697388Z"
    }
   },
   "outputs": [
    {
     "name": "stdout",
     "output_type": "stream",
     "text": [
      "Initial Ordering\n",
      "PauliTable: ['XI', 'YX', 'II', 'IX', 'ZI', 'ZZ', 'ZX', 'YY', 'IZ', 'YZ', 'YI', 'XX', 'XZ', 'XY', 'IY', 'ZY']\n",
      "Lexicographically sorted\n",
      "PauliTable: ['II', 'IX', 'IY', 'IZ', 'XI', 'XX', 'XY', 'XZ', 'YI', 'YX', 'YY', 'YZ', 'ZI', 'ZX', 'ZY', 'ZZ']\n",
      "Weight sorted\n",
      "PauliTable: ['II', 'IX', 'IY', 'IZ', 'XI', 'YI', 'ZI', 'XX', 'XY', 'XZ', 'YX', 'YY', 'YZ', 'ZX', 'ZY', 'ZZ']\n"
     ]
    }
   ],
   "source": [
    "from numpy.random import shuffle\n",
    "from qiskit.quantum_info.operators import PauliTable\n",
    "\n",
    "# 2-qubit labels\n",
    "labels = ['II', 'IX', 'IY', 'IZ', 'XI', 'XX', 'XY', 'XZ',\n",
    "          'YI', 'YX', 'YY', 'YZ', 'ZI', 'ZX', 'ZY', 'ZZ']\n",
    "# Shuffle Labels\n",
    "shuffle(labels)\n",
    "pt = PauliTable.from_labels(labels)\n",
    "print('Initial Ordering')\n",
    "print(pt)\n",
    "\n",
    "# Lexicographic Ordering\n",
    "srt = pt.sort()\n",
    "print('Lexicographically sorted')\n",
    "print(srt)\n",
    "\n",
    "# Weight Ordering\n",
    "srt = pt.sort(weight=True)\n",
    "print('Weight sorted')\n",
    "print(srt)"
   ]
  },
  {
   "cell_type": "code",
   "execution_count": 5,
   "id": "fde8baa6",
   "metadata": {
    "execution": {
     "iopub.execute_input": "2021-06-08T22:56:13.703048Z",
     "iopub.status.busy": "2021-06-08T22:56:13.701719Z",
     "iopub.status.idle": "2021-06-08T22:56:13.704792Z",
     "shell.execute_reply": "2021-06-08T22:56:13.704349Z"
    }
   },
   "outputs": [
    {
     "name": "stdout",
     "output_type": "stream",
     "text": [
      "PauliTable: ['IY', 'IZ', 'XY', 'XZ']\n"
     ]
    }
   ],
   "source": [
    "from qiskit.quantum_info.operators import PauliTable\n",
    "\n",
    "current = PauliTable.from_labels(['I', 'X'])\n",
    "other =  PauliTable.from_labels(['Y', 'Z'])\n",
    "print(current.tensor(other))"
   ]
  },
  {
   "cell_type": "code",
   "execution_count": 6,
   "id": "61d19e4d",
   "metadata": {
    "execution": {
     "iopub.execute_input": "2021-06-08T22:56:13.710408Z",
     "iopub.status.busy": "2021-06-08T22:56:13.709084Z",
     "iopub.status.idle": "2021-06-08T22:56:13.712189Z",
     "shell.execute_reply": "2021-06-08T22:56:13.711687Z"
    }
   },
   "outputs": [
    {
     "name": "stdout",
     "output_type": "stream",
     "text": [
      "PauliTable: ['X', 'Y', 'I', 'Z']\n"
     ]
    }
   ],
   "source": [
    "from qiskit.quantum_info.operators import PauliTable\n",
    "\n",
    "pt = PauliTable.from_labels(['X', 'Y', 'X', 'I', 'I', 'Z', 'X', 'Z'])\n",
    "unique = pt.unique()\n",
    "print(unique)"
   ]
  }
 ],
 "metadata": {
  "kernelspec": {
   "display_name": "Python 3",
   "language": "python",
   "name": "python3"
  },
  "language_info": {
   "codemirror_mode": {
    "name": "ipython",
    "version": 3
   },
   "file_extension": ".py",
   "mimetype": "text/x-python",
   "name": "python",
   "nbconvert_exporter": "python",
   "pygments_lexer": "ipython3",
   "version": "3.8.10"
  }
 },
 "nbformat": 4,
 "nbformat_minor": 5
}