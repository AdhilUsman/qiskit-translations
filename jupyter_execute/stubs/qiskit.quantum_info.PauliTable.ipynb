{
 "cells": [
  {
   "cell_type": "code",
   "execution_count": 1,
   "id": "4fe6314d",
   "metadata": {
    "execution": {
     "iopub.execute_input": "2021-06-21T01:50:21.182473Z",
     "iopub.status.busy": "2021-06-21T01:50:21.181991Z",
     "iopub.status.idle": "2021-06-21T01:50:21.832060Z",
     "shell.execute_reply": "2021-06-21T01:50:21.831448Z"
    }
   },
   "outputs": [
    {
     "name": "stdout",
     "output_type": "stream",
     "text": [
      "PauliTable: ['Y', 'Z', 'Z', 'Y']\n"
     ]
    }
   ],
   "source": [
    "from qiskit.quantum_info.operators import PauliTable\n",
    "\n",
    "current = PauliTable.from_labels(['I', 'X'])\n",
    "other =  PauliTable.from_labels(['Y', 'Z'])\n",
    "print(current.compose(other))"
   ]
  },
  {
   "cell_type": "code",
   "execution_count": 2,
   "id": "ac942ef1",
   "metadata": {
    "execution": {
     "iopub.execute_input": "2021-06-21T01:50:21.836773Z",
     "iopub.status.busy": "2021-06-21T01:50:21.836283Z",
     "iopub.status.idle": "2021-06-21T01:50:21.840826Z",
     "shell.execute_reply": "2021-06-21T01:50:21.839961Z"
    }
   },
   "outputs": [
    {
     "name": "stdout",
     "output_type": "stream",
     "text": [
      "PauliTable: ['Y', 'Z', 'Z', 'Y']\n"
     ]
    }
   ],
   "source": [
    "from qiskit.quantum_info.operators import PauliTable\n",
    "\n",
    "current = PauliTable.from_labels(['I', 'X'])\n",
    "other =  PauliTable.from_labels(['Y', 'Z'])\n",
    "print(current.dot(other))"
   ]
  },
  {
   "cell_type": "code",
   "execution_count": 3,
   "id": "863e6265",
   "metadata": {
    "execution": {
     "iopub.execute_input": "2021-06-21T01:50:21.844977Z",
     "iopub.status.busy": "2021-06-21T01:50:21.844467Z",
     "iopub.status.idle": "2021-06-21T01:50:21.848528Z",
     "shell.execute_reply": "2021-06-21T01:50:21.848072Z"
    }
   },
   "outputs": [
    {
     "name": "stdout",
     "output_type": "stream",
     "text": [
      "PauliTable: ['YI', 'YX', 'ZI', 'ZX']\n"
     ]
    }
   ],
   "source": [
    "from qiskit.quantum_info.operators import PauliTable\n",
    "\n",
    "current = PauliTable.from_labels(['I', 'X'])\n",
    "other =  PauliTable.from_labels(['Y', 'Z'])\n",
    "print(current.expand(other))"
   ]
  },
  {
   "cell_type": "code",
   "execution_count": 4,
   "id": "621d90f5",
   "metadata": {
    "execution": {
     "iopub.execute_input": "2021-06-21T01:50:21.855086Z",
     "iopub.status.busy": "2021-06-21T01:50:21.853334Z",
     "iopub.status.idle": "2021-06-21T01:50:21.858936Z",
     "shell.execute_reply": "2021-06-21T01:50:21.859365Z"
    }
   },
   "outputs": [
    {
     "name": "stdout",
     "output_type": "stream",
     "text": [
      "Initial Ordering\n",
      "PauliTable: ['XX', 'ZZ', 'YY', 'YZ', 'II', 'XZ', 'YI', 'ZX', 'XI', 'ZI', 'YX', 'IZ', 'IY', 'XY', 'ZY', 'IX']\n",
      "Lexicographically sorted\n",
      "PauliTable: ['II', 'IX', 'IY', 'IZ', 'XI', 'XX', 'XY', 'XZ', 'YI', 'YX', 'YY', 'YZ', 'ZI', 'ZX', 'ZY', 'ZZ']\n",
      "Weight sorted\n",
      "PauliTable: ['II', 'IX', 'IY', 'IZ', 'XI', 'YI', 'ZI', 'XX', 'XY', 'XZ', 'YX', 'YY', 'YZ', 'ZX', 'ZY', 'ZZ']\n"
     ]
    }
   ],
   "source": [
    "from numpy.random import shuffle\n",
    "from qiskit.quantum_info.operators import PauliTable\n",
    "\n",
    "# 2-qubit labels\n",
    "labels = ['II', 'IX', 'IY', 'IZ', 'XI', 'XX', 'XY', 'XZ',\n",
    "          'YI', 'YX', 'YY', 'YZ', 'ZI', 'ZX', 'ZY', 'ZZ']\n",
    "# Shuffle Labels\n",
    "shuffle(labels)\n",
    "pt = PauliTable.from_labels(labels)\n",
    "print('Initial Ordering')\n",
    "print(pt)\n",
    "\n",
    "# Lexicographic Ordering\n",
    "srt = pt.sort()\n",
    "print('Lexicographically sorted')\n",
    "print(srt)\n",
    "\n",
    "# Weight Ordering\n",
    "srt = pt.sort(weight=True)\n",
    "print('Weight sorted')\n",
    "print(srt)"
   ]
  },
  {
   "cell_type": "code",
   "execution_count": 5,
   "id": "277b8e06",
   "metadata": {
    "execution": {
     "iopub.execute_input": "2021-06-21T01:50:21.863717Z",
     "iopub.status.busy": "2021-06-21T01:50:21.862682Z",
     "iopub.status.idle": "2021-06-21T01:50:21.867034Z",
     "shell.execute_reply": "2021-06-21T01:50:21.866605Z"
    }
   },
   "outputs": [
    {
     "name": "stdout",
     "output_type": "stream",
     "text": [
      "PauliTable: ['IY', 'IZ', 'XY', 'XZ']\n"
     ]
    }
   ],
   "source": [
    "from qiskit.quantum_info.operators import PauliTable\n",
    "\n",
    "current = PauliTable.from_labels(['I', 'X'])\n",
    "other =  PauliTable.from_labels(['Y', 'Z'])\n",
    "print(current.tensor(other))"
   ]
  },
  {
   "cell_type": "code",
   "execution_count": 6,
   "id": "875b0e71",
   "metadata": {
    "execution": {
     "iopub.execute_input": "2021-06-21T01:50:21.871172Z",
     "iopub.status.busy": "2021-06-21T01:50:21.870655Z",
     "iopub.status.idle": "2021-06-21T01:50:21.875226Z",
     "shell.execute_reply": "2021-06-21T01:50:21.874790Z"
    }
   },
   "outputs": [
    {
     "name": "stdout",
     "output_type": "stream",
     "text": [
      "PauliTable: ['X', 'Y', 'I', 'Z']\n"
     ]
    }
   ],
   "source": [
    "from qiskit.quantum_info.operators import PauliTable\n",
    "\n",
    "pt = PauliTable.from_labels(['X', 'Y', 'X', 'I', 'I', 'Z', 'X', 'Z'])\n",
    "unique = pt.unique()\n",
    "print(unique)"
   ]
  }
 ],
 "metadata": {
  "kernelspec": {
   "display_name": "Python 3",
   "language": "python",
   "name": "python3"
  },
  "language_info": {
   "codemirror_mode": {
    "name": "ipython",
    "version": 3
   },
   "file_extension": ".py",
   "mimetype": "text/x-python",
   "name": "python",
   "nbconvert_exporter": "python",
   "pygments_lexer": "ipython3",
   "version": "3.8.10"
  }
 },
 "nbformat": 4,
 "nbformat_minor": 5
}