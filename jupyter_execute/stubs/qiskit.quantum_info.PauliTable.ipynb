{
 "cells": [
  {
   "cell_type": "code",
   "execution_count": 1,
   "id": "992ad734",
   "metadata": {
    "execution": {
     "iopub.execute_input": "2021-06-09T06:58:12.465878Z",
     "iopub.status.busy": "2021-06-09T06:58:12.465314Z",
     "iopub.status.idle": "2021-06-09T06:58:13.141819Z",
     "shell.execute_reply": "2021-06-09T06:58:13.142385Z"
    }
   },
   "outputs": [
    {
     "name": "stdout",
     "output_type": "stream",
     "text": [
      "PauliTable: ['Y', 'Z', 'Z', 'Y']\n"
     ]
    }
   ],
   "source": [
    "from qiskit.quantum_info.operators import PauliTable\n",
    "\n",
    "current = PauliTable.from_labels(['I', 'X'])\n",
    "other =  PauliTable.from_labels(['Y', 'Z'])\n",
    "print(current.compose(other))"
   ]
  },
  {
   "cell_type": "code",
   "execution_count": 2,
   "id": "0acc3130",
   "metadata": {
    "execution": {
     "iopub.execute_input": "2021-06-09T06:58:13.149151Z",
     "iopub.status.busy": "2021-06-09T06:58:13.147705Z",
     "iopub.status.idle": "2021-06-09T06:58:13.151170Z",
     "shell.execute_reply": "2021-06-09T06:58:13.150441Z"
    }
   },
   "outputs": [
    {
     "name": "stdout",
     "output_type": "stream",
     "text": [
      "PauliTable: ['Y', 'Z', 'Z', 'Y']\n"
     ]
    }
   ],
   "source": [
    "from qiskit.quantum_info.operators import PauliTable\n",
    "\n",
    "current = PauliTable.from_labels(['I', 'X'])\n",
    "other =  PauliTable.from_labels(['Y', 'Z'])\n",
    "print(current.dot(other))"
   ]
  },
  {
   "cell_type": "code",
   "execution_count": 3,
   "id": "a366efba",
   "metadata": {
    "execution": {
     "iopub.execute_input": "2021-06-09T06:58:13.157199Z",
     "iopub.status.busy": "2021-06-09T06:58:13.155856Z",
     "iopub.status.idle": "2021-06-09T06:58:13.159127Z",
     "shell.execute_reply": "2021-06-09T06:58:13.158542Z"
    }
   },
   "outputs": [
    {
     "name": "stdout",
     "output_type": "stream",
     "text": [
      "PauliTable: ['YI', 'YX', 'ZI', 'ZX']\n"
     ]
    }
   ],
   "source": [
    "from qiskit.quantum_info.operators import PauliTable\n",
    "\n",
    "current = PauliTable.from_labels(['I', 'X'])\n",
    "other =  PauliTable.from_labels(['Y', 'Z'])\n",
    "print(current.expand(other))"
   ]
  },
  {
   "cell_type": "code",
   "execution_count": 4,
   "id": "4586bf2a",
   "metadata": {
    "execution": {
     "iopub.execute_input": "2021-06-09T06:58:13.169091Z",
     "iopub.status.busy": "2021-06-09T06:58:13.167319Z",
     "iopub.status.idle": "2021-06-09T06:58:13.171583Z",
     "shell.execute_reply": "2021-06-09T06:58:13.170711Z"
    }
   },
   "outputs": [
    {
     "name": "stdout",
     "output_type": "stream",
     "text": [
      "Initial Ordering\n",
      "PauliTable: ['II', 'ZY', 'XX', 'IY', 'YZ', 'YX', 'YY', 'ZI', 'XY', 'YI', 'ZZ', 'ZX', 'IZ', 'XZ', 'IX', 'XI']\n",
      "Lexicographically sorted\n",
      "PauliTable: ['II', 'IX', 'IY', 'IZ', 'XI', 'XX', 'XY', 'XZ', 'YI', 'YX', 'YY', 'YZ', 'ZI', 'ZX', 'ZY', 'ZZ']\n",
      "Weight sorted\n",
      "PauliTable: ['II', 'IX', 'IY', 'IZ', 'XI', 'YI', 'ZI', 'XX', 'XY', 'XZ', 'YX', 'YY', 'YZ', 'ZX', 'ZY', 'ZZ']\n"
     ]
    }
   ],
   "source": [
    "from numpy.random import shuffle\n",
    "from qiskit.quantum_info.operators import PauliTable\n",
    "\n",
    "# 2-qubit labels\n",
    "labels = ['II', 'IX', 'IY', 'IZ', 'XI', 'XX', 'XY', 'XZ',\n",
    "          'YI', 'YX', 'YY', 'YZ', 'ZI', 'ZX', 'ZY', 'ZZ']\n",
    "# Shuffle Labels\n",
    "shuffle(labels)\n",
    "pt = PauliTable.from_labels(labels)\n",
    "print('Initial Ordering')\n",
    "print(pt)\n",
    "\n",
    "# Lexicographic Ordering\n",
    "srt = pt.sort()\n",
    "print('Lexicographically sorted')\n",
    "print(srt)\n",
    "\n",
    "# Weight Ordering\n",
    "srt = pt.sort(weight=True)\n",
    "print('Weight sorted')\n",
    "print(srt)"
   ]
  },
  {
   "cell_type": "code",
   "execution_count": 5,
   "id": "fe63b4ad",
   "metadata": {
    "execution": {
     "iopub.execute_input": "2021-06-09T06:58:13.182711Z",
     "iopub.status.busy": "2021-06-09T06:58:13.180004Z",
     "iopub.status.idle": "2021-06-09T06:58:13.185022Z",
     "shell.execute_reply": "2021-06-09T06:58:13.184451Z"
    }
   },
   "outputs": [
    {
     "name": "stdout",
     "output_type": "stream",
     "text": [
      "PauliTable: ['IY', 'IZ', 'XY', 'XZ']\n"
     ]
    }
   ],
   "source": [
    "from qiskit.quantum_info.operators import PauliTable\n",
    "\n",
    "current = PauliTable.from_labels(['I', 'X'])\n",
    "other =  PauliTable.from_labels(['Y', 'Z'])\n",
    "print(current.tensor(other))"
   ]
  },
  {
   "cell_type": "code",
   "execution_count": 6,
   "id": "9b866e2d",
   "metadata": {
    "execution": {
     "iopub.execute_input": "2021-06-09T06:58:13.192053Z",
     "iopub.status.busy": "2021-06-09T06:58:13.190022Z",
     "iopub.status.idle": "2021-06-09T06:58:13.193902Z",
     "shell.execute_reply": "2021-06-09T06:58:13.193370Z"
    }
   },
   "outputs": [
    {
     "name": "stdout",
     "output_type": "stream",
     "text": [
      "PauliTable: ['X', 'Y', 'I', 'Z']\n"
     ]
    }
   ],
   "source": [
    "from qiskit.quantum_info.operators import PauliTable\n",
    "\n",
    "pt = PauliTable.from_labels(['X', 'Y', 'X', 'I', 'I', 'Z', 'X', 'Z'])\n",
    "unique = pt.unique()\n",
    "print(unique)"
   ]
  }
 ],
 "metadata": {
  "kernelspec": {
   "display_name": "Python 3",
   "language": "python",
   "name": "python3"
  },
  "language_info": {
   "codemirror_mode": {
    "name": "ipython",
    "version": 3
   },
   "file_extension": ".py",
   "mimetype": "text/x-python",
   "name": "python",
   "nbconvert_exporter": "python",
   "pygments_lexer": "ipython3",
   "version": "3.8.10"
  }
 },
 "nbformat": 4,
 "nbformat_minor": 5
}