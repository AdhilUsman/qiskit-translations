{
 "cells": [
  {
   "cell_type": "code",
   "execution_count": 1,
   "id": "85af68d6",
   "metadata": {
    "execution": {
     "iopub.execute_input": "2021-04-25T14:34:30.265372Z",
     "iopub.status.busy": "2021-04-25T14:34:30.264753Z",
     "iopub.status.idle": "2021-04-25T14:34:30.966508Z",
     "shell.execute_reply": "2021-04-25T14:34:30.965891Z"
    }
   },
   "outputs": [
    {
     "name": "stdout",
     "output_type": "stream",
     "text": [
      "PauliTable: ['Y', 'Z', 'Z', 'Y']\n"
     ]
    }
   ],
   "source": [
    "from qiskit.quantum_info.operators import PauliTable\n",
    "\n",
    "current = PauliTable.from_labels(['I', 'X'])\n",
    "other =  PauliTable.from_labels(['Y', 'Z'])\n",
    "print(current.compose(other))"
   ]
  },
  {
   "cell_type": "code",
   "execution_count": 2,
   "id": "c4c7a2e9",
   "metadata": {
    "execution": {
     "iopub.execute_input": "2021-04-25T14:34:30.973126Z",
     "iopub.status.busy": "2021-04-25T14:34:30.971803Z",
     "iopub.status.idle": "2021-04-25T14:34:30.975029Z",
     "shell.execute_reply": "2021-04-25T14:34:30.974539Z"
    }
   },
   "outputs": [
    {
     "name": "stdout",
     "output_type": "stream",
     "text": [
      "PauliTable: ['Y', 'Z', 'Z', 'Y']\n"
     ]
    }
   ],
   "source": [
    "from qiskit.quantum_info.operators import PauliTable\n",
    "\n",
    "current = PauliTable.from_labels(['I', 'X'])\n",
    "other =  PauliTable.from_labels(['Y', 'Z'])\n",
    "print(current.dot(other))"
   ]
  },
  {
   "cell_type": "code",
   "execution_count": 3,
   "id": "811d6225",
   "metadata": {
    "execution": {
     "iopub.execute_input": "2021-04-25T14:34:30.981651Z",
     "iopub.status.busy": "2021-04-25T14:34:30.980148Z",
     "iopub.status.idle": "2021-04-25T14:34:30.983608Z",
     "shell.execute_reply": "2021-04-25T14:34:30.983014Z"
    }
   },
   "outputs": [
    {
     "name": "stdout",
     "output_type": "stream",
     "text": [
      "PauliTable: ['YI', 'YX', 'ZI', 'ZX']\n"
     ]
    }
   ],
   "source": [
    "from qiskit.quantum_info.operators import PauliTable\n",
    "\n",
    "current = PauliTable.from_labels(['I', 'X'])\n",
    "other =  PauliTable.from_labels(['Y', 'Z'])\n",
    "print(current.expand(other))"
   ]
  },
  {
   "cell_type": "code",
   "execution_count": 4,
   "id": "f3ccefa1",
   "metadata": {
    "execution": {
     "iopub.execute_input": "2021-04-25T14:34:30.991590Z",
     "iopub.status.busy": "2021-04-25T14:34:30.990998Z",
     "iopub.status.idle": "2021-04-25T14:34:30.993781Z",
     "shell.execute_reply": "2021-04-25T14:34:30.994224Z"
    }
   },
   "outputs": [
    {
     "name": "stdout",
     "output_type": "stream",
     "text": [
      "Initial Ordering\n",
      "PauliTable: ['II', 'XX', 'IZ', 'YI', 'YY', 'XY', 'YZ', 'IY', 'ZZ', 'XZ', 'ZX', 'IX', 'ZY', 'ZI', 'XI', 'YX']\n",
      "Lexicographically sorted\n",
      "PauliTable: ['II', 'IX', 'IY', 'IZ', 'XI', 'XX', 'XY', 'XZ', 'YI', 'YX', 'YY', 'YZ', 'ZI', 'ZX', 'ZY', 'ZZ']\n",
      "Weight sorted\n",
      "PauliTable: ['II', 'IX', 'IY', 'IZ', 'XI', 'YI', 'ZI', 'XX', 'XY', 'XZ', 'YX', 'YY', 'YZ', 'ZX', 'ZY', 'ZZ']\n"
     ]
    }
   ],
   "source": [
    "from numpy.random import shuffle\n",
    "from qiskit.quantum_info.operators import PauliTable\n",
    "\n",
    "# 2-qubit labels\n",
    "labels = ['II', 'IX', 'IY', 'IZ', 'XI', 'XX', 'XY', 'XZ',\n",
    "          'YI', 'YX', 'YY', 'YZ', 'ZI', 'ZX', 'ZY', 'ZZ']\n",
    "# Shuffle Labels\n",
    "shuffle(labels)\n",
    "pt = PauliTable.from_labels(labels)\n",
    "print('Initial Ordering')\n",
    "print(pt)\n",
    "\n",
    "# Lexicographic Ordering\n",
    "srt = pt.sort()\n",
    "print('Lexicographically sorted')\n",
    "print(srt)\n",
    "\n",
    "# Weight Ordering\n",
    "srt = pt.sort(weight=True)\n",
    "print('Weight sorted')\n",
    "print(srt)"
   ]
  },
  {
   "cell_type": "code",
   "execution_count": 5,
   "id": "2528c7d4",
   "metadata": {
    "execution": {
     "iopub.execute_input": "2021-04-25T14:34:31.000823Z",
     "iopub.status.busy": "2021-04-25T14:34:30.999330Z",
     "iopub.status.idle": "2021-04-25T14:34:31.002680Z",
     "shell.execute_reply": "2021-04-25T14:34:31.002177Z"
    }
   },
   "outputs": [
    {
     "name": "stdout",
     "output_type": "stream",
     "text": [
      "PauliTable: ['IY', 'IZ', 'XY', 'XZ']\n"
     ]
    }
   ],
   "source": [
    "from qiskit.quantum_info.operators import PauliTable\n",
    "\n",
    "current = PauliTable.from_labels(['I', 'X'])\n",
    "other =  PauliTable.from_labels(['Y', 'Z'])\n",
    "print(current.tensor(other))"
   ]
  },
  {
   "cell_type": "code",
   "execution_count": 6,
   "id": "db313f21",
   "metadata": {
    "execution": {
     "iopub.execute_input": "2021-04-25T14:34:31.009030Z",
     "iopub.status.busy": "2021-04-25T14:34:31.007390Z",
     "iopub.status.idle": "2021-04-25T14:34:31.010882Z",
     "shell.execute_reply": "2021-04-25T14:34:31.010349Z"
    }
   },
   "outputs": [
    {
     "name": "stdout",
     "output_type": "stream",
     "text": [
      "PauliTable: ['X', 'Y', 'I', 'Z']\n"
     ]
    }
   ],
   "source": [
    "from qiskit.quantum_info.operators import PauliTable\n",
    "\n",
    "pt = PauliTable.from_labels(['X', 'Y', 'X', 'I', 'I', 'Z', 'X', 'Z'])\n",
    "unique = pt.unique()\n",
    "print(unique)"
   ]
  }
 ],
 "metadata": {
  "kernelspec": {
   "display_name": "Python 3",
   "language": "python",
   "name": "python3"
  },
  "language_info": {
   "codemirror_mode": {
    "name": "ipython",
    "version": 3
   },
   "file_extension": ".py",
   "mimetype": "text/x-python",
   "name": "python",
   "nbconvert_exporter": "python",
   "pygments_lexer": "ipython3",
   "version": "3.8.9"
  }
 },
 "nbformat": 4,
 "nbformat_minor": 5
}