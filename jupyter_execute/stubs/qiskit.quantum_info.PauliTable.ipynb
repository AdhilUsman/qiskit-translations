{
 "cells": [
  {
   "cell_type": "code",
   "execution_count": 1,
   "id": "942387b3",
   "metadata": {
    "execution": {
     "iopub.execute_input": "2021-05-04T09:00:47.792765Z",
     "iopub.status.busy": "2021-05-04T09:00:47.792042Z",
     "iopub.status.idle": "2021-05-04T09:00:48.449005Z",
     "shell.execute_reply": "2021-05-04T09:00:48.449552Z"
    }
   },
   "outputs": [
    {
     "name": "stdout",
     "output_type": "stream",
     "text": [
      "PauliTable: ['Y', 'Z', 'Z', 'Y']\n"
     ]
    }
   ],
   "source": [
    "from qiskit.quantum_info.operators import PauliTable\n",
    "\n",
    "current = PauliTable.from_labels(['I', 'X'])\n",
    "other =  PauliTable.from_labels(['Y', 'Z'])\n",
    "print(current.compose(other))"
   ]
  },
  {
   "cell_type": "code",
   "execution_count": 2,
   "id": "0ab4a1d4",
   "metadata": {
    "execution": {
     "iopub.execute_input": "2021-05-04T09:00:48.456224Z",
     "iopub.status.busy": "2021-05-04T09:00:48.455682Z",
     "iopub.status.idle": "2021-05-04T09:00:48.459109Z",
     "shell.execute_reply": "2021-05-04T09:00:48.460070Z"
    }
   },
   "outputs": [
    {
     "name": "stdout",
     "output_type": "stream",
     "text": [
      "PauliTable: ['Y', 'Z', 'Z', 'Y']\n"
     ]
    }
   ],
   "source": [
    "from qiskit.quantum_info.operators import PauliTable\n",
    "\n",
    "current = PauliTable.from_labels(['I', 'X'])\n",
    "other =  PauliTable.from_labels(['Y', 'Z'])\n",
    "print(current.dot(other))"
   ]
  },
  {
   "cell_type": "code",
   "execution_count": 3,
   "id": "7cc60bfc",
   "metadata": {
    "execution": {
     "iopub.execute_input": "2021-05-04T09:00:48.466022Z",
     "iopub.status.busy": "2021-05-04T09:00:48.464787Z",
     "iopub.status.idle": "2021-05-04T09:00:48.469339Z",
     "shell.execute_reply": "2021-05-04T09:00:48.468862Z"
    }
   },
   "outputs": [
    {
     "name": "stdout",
     "output_type": "stream",
     "text": [
      "PauliTable: ['YI', 'YX', 'ZI', 'ZX']\n"
     ]
    }
   ],
   "source": [
    "from qiskit.quantum_info.operators import PauliTable\n",
    "\n",
    "current = PauliTable.from_labels(['I', 'X'])\n",
    "other =  PauliTable.from_labels(['Y', 'Z'])\n",
    "print(current.expand(other))"
   ]
  },
  {
   "cell_type": "code",
   "execution_count": 4,
   "id": "c3ee5368",
   "metadata": {
    "execution": {
     "iopub.execute_input": "2021-05-04T09:00:48.476749Z",
     "iopub.status.busy": "2021-05-04T09:00:48.475443Z",
     "iopub.status.idle": "2021-05-04T09:00:48.479643Z",
     "shell.execute_reply": "2021-05-04T09:00:48.480019Z"
    }
   },
   "outputs": [
    {
     "name": "stdout",
     "output_type": "stream",
     "text": [
      "Initial Ordering\n",
      "PauliTable: ['ZX', 'XI', 'XX', 'ZI', 'IZ', 'YX', 'IY', 'ZY', 'YY', 'YI', 'XZ', 'YZ', 'ZZ', 'II', 'XY', 'IX']\n",
      "Lexicographically sorted\n",
      "PauliTable: ['II', 'IX', 'IY', 'IZ', 'XI', 'XX', 'XY', 'XZ', 'YI', 'YX', 'YY', 'YZ', 'ZI', 'ZX', 'ZY', 'ZZ']\n",
      "Weight sorted\n",
      "PauliTable: ['II', 'IX', 'IY', 'IZ', 'XI', 'YI', 'ZI', 'XX', 'XY', 'XZ', 'YX', 'YY', 'YZ', 'ZX', 'ZY', 'ZZ']\n"
     ]
    }
   ],
   "source": [
    "from numpy.random import shuffle\n",
    "from qiskit.quantum_info.operators import PauliTable\n",
    "\n",
    "# 2-qubit labels\n",
    "labels = ['II', 'IX', 'IY', 'IZ', 'XI', 'XX', 'XY', 'XZ',\n",
    "          'YI', 'YX', 'YY', 'YZ', 'ZI', 'ZX', 'ZY', 'ZZ']\n",
    "# Shuffle Labels\n",
    "shuffle(labels)\n",
    "pt = PauliTable.from_labels(labels)\n",
    "print('Initial Ordering')\n",
    "print(pt)\n",
    "\n",
    "# Lexicographic Ordering\n",
    "srt = pt.sort()\n",
    "print('Lexicographically sorted')\n",
    "print(srt)\n",
    "\n",
    "# Weight Ordering\n",
    "srt = pt.sort(weight=True)\n",
    "print('Weight sorted')\n",
    "print(srt)"
   ]
  },
  {
   "cell_type": "code",
   "execution_count": 5,
   "id": "474578e7",
   "metadata": {
    "execution": {
     "iopub.execute_input": "2021-05-04T09:00:48.486642Z",
     "iopub.status.busy": "2021-05-04T09:00:48.485470Z",
     "iopub.status.idle": "2021-05-04T09:00:48.488978Z",
     "shell.execute_reply": "2021-05-04T09:00:48.488316Z"
    }
   },
   "outputs": [
    {
     "name": "stdout",
     "output_type": "stream",
     "text": [
      "PauliTable: ['IY', 'IZ', 'XY', 'XZ']\n"
     ]
    }
   ],
   "source": [
    "from qiskit.quantum_info.operators import PauliTable\n",
    "\n",
    "current = PauliTable.from_labels(['I', 'X'])\n",
    "other =  PauliTable.from_labels(['Y', 'Z'])\n",
    "print(current.tensor(other))"
   ]
  },
  {
   "cell_type": "code",
   "execution_count": 6,
   "id": "48472255",
   "metadata": {
    "execution": {
     "iopub.execute_input": "2021-05-04T09:00:48.493685Z",
     "iopub.status.busy": "2021-05-04T09:00:48.493133Z",
     "iopub.status.idle": "2021-05-04T09:00:48.496016Z",
     "shell.execute_reply": "2021-05-04T09:00:48.496447Z"
    }
   },
   "outputs": [
    {
     "name": "stdout",
     "output_type": "stream",
     "text": [
      "PauliTable: ['X', 'Y', 'I', 'Z']\n"
     ]
    }
   ],
   "source": [
    "from qiskit.quantum_info.operators import PauliTable\n",
    "\n",
    "pt = PauliTable.from_labels(['X', 'Y', 'X', 'I', 'I', 'Z', 'X', 'Z'])\n",
    "unique = pt.unique()\n",
    "print(unique)"
   ]
  }
 ],
 "metadata": {
  "kernelspec": {
   "display_name": "Python 3",
   "language": "python",
   "name": "python3"
  },
  "language_info": {
   "codemirror_mode": {
    "name": "ipython",
    "version": 3
   },
   "file_extension": ".py",
   "mimetype": "text/x-python",
   "name": "python",
   "nbconvert_exporter": "python",
   "pygments_lexer": "ipython3",
   "version": "3.8.9"
  }
 },
 "nbformat": 4,
 "nbformat_minor": 5
}