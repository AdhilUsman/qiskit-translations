{
 "cells": [
  {
   "cell_type": "code",
   "execution_count": 1,
   "id": "629ceb4d",
   "metadata": {
    "execution": {
     "iopub.execute_input": "2021-05-19T01:10:07.755729Z",
     "iopub.status.busy": "2021-05-19T01:10:07.753551Z",
     "iopub.status.idle": "2021-05-19T01:10:08.427710Z",
     "shell.execute_reply": "2021-05-19T01:10:08.427102Z"
    }
   },
   "outputs": [
    {
     "name": "stdout",
     "output_type": "stream",
     "text": [
      "PauliTable: ['Y', 'Z', 'Z', 'Y']\n"
     ]
    }
   ],
   "source": [
    "from qiskit.quantum_info.operators import PauliTable\n",
    "\n",
    "current = PauliTable.from_labels(['I', 'X'])\n",
    "other =  PauliTable.from_labels(['Y', 'Z'])\n",
    "print(current.compose(other))"
   ]
  },
  {
   "cell_type": "code",
   "execution_count": 2,
   "id": "9d59b7ab",
   "metadata": {
    "execution": {
     "iopub.execute_input": "2021-05-19T01:10:08.434521Z",
     "iopub.status.busy": "2021-05-19T01:10:08.433218Z",
     "iopub.status.idle": "2021-05-19T01:10:08.436449Z",
     "shell.execute_reply": "2021-05-19T01:10:08.435995Z"
    }
   },
   "outputs": [
    {
     "name": "stdout",
     "output_type": "stream",
     "text": [
      "PauliTable: ['Y', 'Z', 'Z', 'Y']\n"
     ]
    }
   ],
   "source": [
    "from qiskit.quantum_info.operators import PauliTable\n",
    "\n",
    "current = PauliTable.from_labels(['I', 'X'])\n",
    "other =  PauliTable.from_labels(['Y', 'Z'])\n",
    "print(current.dot(other))"
   ]
  },
  {
   "cell_type": "code",
   "execution_count": 3,
   "id": "4f29d5d9",
   "metadata": {
    "execution": {
     "iopub.execute_input": "2021-05-19T01:10:08.442296Z",
     "iopub.status.busy": "2021-05-19T01:10:08.440932Z",
     "iopub.status.idle": "2021-05-19T01:10:08.444060Z",
     "shell.execute_reply": "2021-05-19T01:10:08.443564Z"
    }
   },
   "outputs": [
    {
     "name": "stdout",
     "output_type": "stream",
     "text": [
      "PauliTable: ['YI', 'YX', 'ZI', 'ZX']\n"
     ]
    }
   ],
   "source": [
    "from qiskit.quantum_info.operators import PauliTable\n",
    "\n",
    "current = PauliTable.from_labels(['I', 'X'])\n",
    "other =  PauliTable.from_labels(['Y', 'Z'])\n",
    "print(current.expand(other))"
   ]
  },
  {
   "cell_type": "code",
   "execution_count": 4,
   "id": "e8c89c14",
   "metadata": {
    "execution": {
     "iopub.execute_input": "2021-05-19T01:10:08.451894Z",
     "iopub.status.busy": "2021-05-19T01:10:08.449861Z",
     "iopub.status.idle": "2021-05-19T01:10:08.454002Z",
     "shell.execute_reply": "2021-05-19T01:10:08.454413Z"
    }
   },
   "outputs": [
    {
     "name": "stdout",
     "output_type": "stream",
     "text": [
      "Initial Ordering\n",
      "PauliTable: ['YX', 'YY', 'XX', 'ZZ', 'ZX', 'YI', 'IZ', 'II', 'ZY', 'IY', 'YZ', 'IX', 'ZI', 'XY', 'XZ', 'XI']\n",
      "Lexicographically sorted\n",
      "PauliTable: ['II', 'IX', 'IY', 'IZ', 'XI', 'XX', 'XY', 'XZ', 'YI', 'YX', 'YY', 'YZ', 'ZI', 'ZX', 'ZY', 'ZZ']\n",
      "Weight sorted\n",
      "PauliTable: ['II', 'IX', 'IY', 'IZ', 'XI', 'YI', 'ZI', 'XX', 'XY', 'XZ', 'YX', 'YY', 'YZ', 'ZX', 'ZY', 'ZZ']\n"
     ]
    }
   ],
   "source": [
    "from numpy.random import shuffle\n",
    "from qiskit.quantum_info.operators import PauliTable\n",
    "\n",
    "# 2-qubit labels\n",
    "labels = ['II', 'IX', 'IY', 'IZ', 'XI', 'XX', 'XY', 'XZ',\n",
    "          'YI', 'YX', 'YY', 'YZ', 'ZI', 'ZX', 'ZY', 'ZZ']\n",
    "# Shuffle Labels\n",
    "shuffle(labels)\n",
    "pt = PauliTable.from_labels(labels)\n",
    "print('Initial Ordering')\n",
    "print(pt)\n",
    "\n",
    "# Lexicographic Ordering\n",
    "srt = pt.sort()\n",
    "print('Lexicographically sorted')\n",
    "print(srt)\n",
    "\n",
    "# Weight Ordering\n",
    "srt = pt.sort(weight=True)\n",
    "print('Weight sorted')\n",
    "print(srt)"
   ]
  },
  {
   "cell_type": "code",
   "execution_count": 5,
   "id": "90d195e8",
   "metadata": {
    "execution": {
     "iopub.execute_input": "2021-05-19T01:10:08.460202Z",
     "iopub.status.busy": "2021-05-19T01:10:08.458974Z",
     "iopub.status.idle": "2021-05-19T01:10:08.462192Z",
     "shell.execute_reply": "2021-05-19T01:10:08.461766Z"
    }
   },
   "outputs": [
    {
     "name": "stdout",
     "output_type": "stream",
     "text": [
      "PauliTable: ['IY', 'IZ', 'XY', 'XZ']\n"
     ]
    }
   ],
   "source": [
    "from qiskit.quantum_info.operators import PauliTable\n",
    "\n",
    "current = PauliTable.from_labels(['I', 'X'])\n",
    "other =  PauliTable.from_labels(['Y', 'Z'])\n",
    "print(current.tensor(other))"
   ]
  },
  {
   "cell_type": "code",
   "execution_count": 6,
   "id": "eccdd78f",
   "metadata": {
    "execution": {
     "iopub.execute_input": "2021-05-19T01:10:08.468391Z",
     "iopub.status.busy": "2021-05-19T01:10:08.466934Z",
     "iopub.status.idle": "2021-05-19T01:10:08.470054Z",
     "shell.execute_reply": "2021-05-19T01:10:08.469617Z"
    }
   },
   "outputs": [
    {
     "name": "stdout",
     "output_type": "stream",
     "text": [
      "PauliTable: ['X', 'Y', 'I', 'Z']\n"
     ]
    }
   ],
   "source": [
    "from qiskit.quantum_info.operators import PauliTable\n",
    "\n",
    "pt = PauliTable.from_labels(['X', 'Y', 'X', 'I', 'I', 'Z', 'X', 'Z'])\n",
    "unique = pt.unique()\n",
    "print(unique)"
   ]
  }
 ],
 "metadata": {
  "kernelspec": {
   "display_name": "Python 3",
   "language": "python",
   "name": "python3"
  },
  "language_info": {
   "codemirror_mode": {
    "name": "ipython",
    "version": 3
   },
   "file_extension": ".py",
   "mimetype": "text/x-python",
   "name": "python",
   "nbconvert_exporter": "python",
   "pygments_lexer": "ipython3",
   "version": "3.8.10"
  }
 },
 "nbformat": 4,
 "nbformat_minor": 5
}