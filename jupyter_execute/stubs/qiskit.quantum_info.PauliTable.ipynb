{
 "cells": [
  {
   "cell_type": "code",
   "execution_count": 1,
   "id": "63907b85",
   "metadata": {
    "execution": {
     "iopub.execute_input": "2021-05-20T06:03:08.814384Z",
     "iopub.status.busy": "2021-05-20T06:03:08.813785Z",
     "iopub.status.idle": "2021-05-20T06:03:09.549676Z",
     "shell.execute_reply": "2021-05-20T06:03:09.550197Z"
    }
   },
   "outputs": [
    {
     "name": "stdout",
     "output_type": "stream",
     "text": [
      "PauliTable: ['Y', 'Z', 'Z', 'Y']\n"
     ]
    }
   ],
   "source": [
    "from qiskit.quantum_info.operators import PauliTable\n",
    "\n",
    "current = PauliTable.from_labels(['I', 'X'])\n",
    "other =  PauliTable.from_labels(['Y', 'Z'])\n",
    "print(current.compose(other))"
   ]
  },
  {
   "cell_type": "code",
   "execution_count": 2,
   "id": "3a7e8755",
   "metadata": {
    "execution": {
     "iopub.execute_input": "2021-05-20T06:03:09.561119Z",
     "iopub.status.busy": "2021-05-20T06:03:09.560446Z",
     "iopub.status.idle": "2021-05-20T06:03:09.564479Z",
     "shell.execute_reply": "2021-05-20T06:03:09.563853Z"
    }
   },
   "outputs": [
    {
     "name": "stdout",
     "output_type": "stream",
     "text": [
      "PauliTable: ['Y', 'Z', 'Z', 'Y']\n"
     ]
    }
   ],
   "source": [
    "from qiskit.quantum_info.operators import PauliTable\n",
    "\n",
    "current = PauliTable.from_labels(['I', 'X'])\n",
    "other =  PauliTable.from_labels(['Y', 'Z'])\n",
    "print(current.dot(other))"
   ]
  },
  {
   "cell_type": "code",
   "execution_count": 3,
   "id": "326ee619",
   "metadata": {
    "execution": {
     "iopub.execute_input": "2021-05-20T06:03:09.571160Z",
     "iopub.status.busy": "2021-05-20T06:03:09.569265Z",
     "iopub.status.idle": "2021-05-20T06:03:09.573019Z",
     "shell.execute_reply": "2021-05-20T06:03:09.572524Z"
    }
   },
   "outputs": [
    {
     "name": "stdout",
     "output_type": "stream",
     "text": [
      "PauliTable: ['YI', 'YX', 'ZI', 'ZX']\n"
     ]
    }
   ],
   "source": [
    "from qiskit.quantum_info.operators import PauliTable\n",
    "\n",
    "current = PauliTable.from_labels(['I', 'X'])\n",
    "other =  PauliTable.from_labels(['Y', 'Z'])\n",
    "print(current.expand(other))"
   ]
  },
  {
   "cell_type": "code",
   "execution_count": 4,
   "id": "9fd1cdce",
   "metadata": {
    "execution": {
     "iopub.execute_input": "2021-05-20T06:03:09.582515Z",
     "iopub.status.busy": "2021-05-20T06:03:09.580888Z",
     "iopub.status.idle": "2021-05-20T06:03:09.584761Z",
     "shell.execute_reply": "2021-05-20T06:03:09.584274Z"
    }
   },
   "outputs": [
    {
     "name": "stdout",
     "output_type": "stream",
     "text": [
      "Initial Ordering\n",
      "PauliTable: ['XY', 'XX', 'IZ', 'ZZ', 'YY', 'ZY', 'XZ', 'YI', 'IY', 'YX', 'ZX', 'YZ', 'ZI', 'XI', 'II', 'IX']\n",
      "Lexicographically sorted\n",
      "PauliTable: ['II', 'IX', 'IY', 'IZ', 'XI', 'XX', 'XY', 'XZ', 'YI', 'YX', 'YY', 'YZ', 'ZI', 'ZX', 'ZY', 'ZZ']\n",
      "Weight sorted\n",
      "PauliTable: ['II', 'IX', 'IY', 'IZ', 'XI', 'YI', 'ZI', 'XX', 'XY', 'XZ', 'YX', 'YY', 'YZ', 'ZX', 'ZY', 'ZZ']\n"
     ]
    }
   ],
   "source": [
    "from numpy.random import shuffle\n",
    "from qiskit.quantum_info.operators import PauliTable\n",
    "\n",
    "# 2-qubit labels\n",
    "labels = ['II', 'IX', 'IY', 'IZ', 'XI', 'XX', 'XY', 'XZ',\n",
    "          'YI', 'YX', 'YY', 'YZ', 'ZI', 'ZX', 'ZY', 'ZZ']\n",
    "# Shuffle Labels\n",
    "shuffle(labels)\n",
    "pt = PauliTable.from_labels(labels)\n",
    "print('Initial Ordering')\n",
    "print(pt)\n",
    "\n",
    "# Lexicographic Ordering\n",
    "srt = pt.sort()\n",
    "print('Lexicographically sorted')\n",
    "print(srt)\n",
    "\n",
    "# Weight Ordering\n",
    "srt = pt.sort(weight=True)\n",
    "print('Weight sorted')\n",
    "print(srt)"
   ]
  },
  {
   "cell_type": "code",
   "execution_count": 5,
   "id": "953dfbd9",
   "metadata": {
    "execution": {
     "iopub.execute_input": "2021-05-20T06:03:09.590724Z",
     "iopub.status.busy": "2021-05-20T06:03:09.589591Z",
     "iopub.status.idle": "2021-05-20T06:03:09.592491Z",
     "shell.execute_reply": "2021-05-20T06:03:09.592922Z"
    }
   },
   "outputs": [
    {
     "name": "stdout",
     "output_type": "stream",
     "text": [
      "PauliTable: ['IY', 'IZ', 'XY', 'XZ']\n"
     ]
    }
   ],
   "source": [
    "from qiskit.quantum_info.operators import PauliTable\n",
    "\n",
    "current = PauliTable.from_labels(['I', 'X'])\n",
    "other =  PauliTable.from_labels(['Y', 'Z'])\n",
    "print(current.tensor(other))"
   ]
  },
  {
   "cell_type": "code",
   "execution_count": 6,
   "id": "4a090075",
   "metadata": {
    "execution": {
     "iopub.execute_input": "2021-05-20T06:03:09.599558Z",
     "iopub.status.busy": "2021-05-20T06:03:09.598153Z",
     "iopub.status.idle": "2021-05-20T06:03:09.601810Z",
     "shell.execute_reply": "2021-05-20T06:03:09.601315Z"
    }
   },
   "outputs": [
    {
     "name": "stdout",
     "output_type": "stream",
     "text": [
      "PauliTable: ['X', 'Y', 'I', 'Z']\n"
     ]
    }
   ],
   "source": [
    "from qiskit.quantum_info.operators import PauliTable\n",
    "\n",
    "pt = PauliTable.from_labels(['X', 'Y', 'X', 'I', 'I', 'Z', 'X', 'Z'])\n",
    "unique = pt.unique()\n",
    "print(unique)"
   ]
  }
 ],
 "metadata": {
  "kernelspec": {
   "display_name": "Python 3",
   "language": "python",
   "name": "python3"
  },
  "language_info": {
   "codemirror_mode": {
    "name": "ipython",
    "version": 3
   },
   "file_extension": ".py",
   "mimetype": "text/x-python",
   "name": "python",
   "nbconvert_exporter": "python",
   "pygments_lexer": "ipython3",
   "version": "3.8.10"
  }
 },
 "nbformat": 4,
 "nbformat_minor": 5
}