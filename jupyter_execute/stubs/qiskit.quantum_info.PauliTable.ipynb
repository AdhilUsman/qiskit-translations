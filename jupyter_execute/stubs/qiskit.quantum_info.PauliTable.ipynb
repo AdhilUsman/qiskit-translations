{
 "cells": [
  {
   "cell_type": "code",
   "execution_count": 1,
   "id": "former-shirt",
   "metadata": {
    "execution": {
     "iopub.execute_input": "2021-04-01T16:50:57.570650Z",
     "iopub.status.busy": "2021-04-01T16:50:57.569597Z",
     "iopub.status.idle": "2021-04-01T16:50:59.340924Z",
     "shell.execute_reply": "2021-04-01T16:50:59.341349Z"
    }
   },
   "outputs": [
    {
     "name": "stdout",
     "output_type": "stream",
     "text": [
      "PauliTable: ['Y', 'Z', 'Z', 'Y']\n"
     ]
    }
   ],
   "source": [
    "from qiskit.quantum_info.operators import PauliTable\n",
    "\n",
    "current = PauliTable.from_labels(['I', 'X'])\n",
    "other =  PauliTable.from_labels(['Y', 'Z'])\n",
    "print(current.compose(other))"
   ]
  },
  {
   "cell_type": "code",
   "execution_count": 2,
   "id": "skilled-corruption",
   "metadata": {
    "execution": {
     "iopub.execute_input": "2021-04-01T16:50:59.348064Z",
     "iopub.status.busy": "2021-04-01T16:50:59.346645Z",
     "iopub.status.idle": "2021-04-01T16:50:59.349827Z",
     "shell.execute_reply": "2021-04-01T16:50:59.349311Z"
    }
   },
   "outputs": [
    {
     "name": "stdout",
     "output_type": "stream",
     "text": [
      "PauliTable: ['Y', 'Z', 'Z', 'Y']\n"
     ]
    }
   ],
   "source": [
    "from qiskit.quantum_info.operators import PauliTable\n",
    "\n",
    "current = PauliTable.from_labels(['I', 'X'])\n",
    "other =  PauliTable.from_labels(['Y', 'Z'])\n",
    "print(current.dot(other))"
   ]
  },
  {
   "cell_type": "code",
   "execution_count": 3,
   "id": "rising-popularity",
   "metadata": {
    "execution": {
     "iopub.execute_input": "2021-04-01T16:50:59.356494Z",
     "iopub.status.busy": "2021-04-01T16:50:59.355106Z",
     "iopub.status.idle": "2021-04-01T16:50:59.358459Z",
     "shell.execute_reply": "2021-04-01T16:50:59.357980Z"
    }
   },
   "outputs": [
    {
     "name": "stdout",
     "output_type": "stream",
     "text": [
      "PauliTable: ['YI', 'ZI', 'YX', 'ZX']\n"
     ]
    }
   ],
   "source": [
    "from qiskit.quantum_info.operators import PauliTable\n",
    "\n",
    "current = PauliTable.from_labels(['I', 'X'])\n",
    "other =  PauliTable.from_labels(['Y', 'Z'])\n",
    "print(current.expand(other))"
   ]
  },
  {
   "cell_type": "code",
   "execution_count": 4,
   "id": "narrow-suspension",
   "metadata": {
    "execution": {
     "iopub.execute_input": "2021-04-01T16:50:59.367499Z",
     "iopub.status.busy": "2021-04-01T16:50:59.366449Z",
     "iopub.status.idle": "2021-04-01T16:50:59.369084Z",
     "shell.execute_reply": "2021-04-01T16:50:59.368031Z"
    }
   },
   "outputs": [
    {
     "name": "stdout",
     "output_type": "stream",
     "text": [
      "Initial Ordering\n",
      "PauliTable: ['ZX', 'II', 'ZZ', 'ZY', 'XX', 'IX', 'YZ', 'YY', 'ZI', 'YX', 'XI', 'XY', 'XZ', 'YI', 'IZ', 'IY']\n",
      "Lexicographically sorted\n",
      "PauliTable: ['II', 'IX', 'IY', 'IZ', 'XI', 'XX', 'XY', 'XZ', 'YI', 'YX', 'YY', 'YZ', 'ZI', 'ZX', 'ZY', 'ZZ']\n",
      "Weight sorted\n",
      "PauliTable: ['II', 'IX', 'IY', 'IZ', 'XI', 'YI', 'ZI', 'XX', 'XY', 'XZ', 'YX', 'YY', 'YZ', 'ZX', 'ZY', 'ZZ']\n"
     ]
    }
   ],
   "source": [
    "from numpy.random import shuffle\n",
    "from qiskit.quantum_info.operators import PauliTable\n",
    "\n",
    "# 2-qubit labels\n",
    "labels = ['II', 'IX', 'IY', 'IZ', 'XI', 'XX', 'XY', 'XZ',\n",
    "          'YI', 'YX', 'YY', 'YZ', 'ZI', 'ZX', 'ZY', 'ZZ']\n",
    "# Shuffle Labels\n",
    "shuffle(labels)\n",
    "pt = PauliTable.from_labels(labels)\n",
    "print('Initial Ordering')\n",
    "print(pt)\n",
    "\n",
    "# Lexicographic Ordering\n",
    "srt = pt.sort()\n",
    "print('Lexicographically sorted')\n",
    "print(srt)\n",
    "\n",
    "# Weight Ordering\n",
    "srt = pt.sort(weight=True)\n",
    "print('Weight sorted')\n",
    "print(srt)"
   ]
  },
  {
   "cell_type": "code",
   "execution_count": 5,
   "id": "elder-suspension",
   "metadata": {
    "execution": {
     "iopub.execute_input": "2021-04-01T16:50:59.375493Z",
     "iopub.status.busy": "2021-04-01T16:50:59.374146Z",
     "iopub.status.idle": "2021-04-01T16:50:59.377202Z",
     "shell.execute_reply": "2021-04-01T16:50:59.376668Z"
    }
   },
   "outputs": [
    {
     "name": "stdout",
     "output_type": "stream",
     "text": [
      "PauliTable: ['IY', 'IZ', 'XY', 'XZ']\n"
     ]
    }
   ],
   "source": [
    "from qiskit.quantum_info.operators import PauliTable\n",
    "\n",
    "current = PauliTable.from_labels(['I', 'X'])\n",
    "other =  PauliTable.from_labels(['Y', 'Z'])\n",
    "print(current.tensor(other))"
   ]
  },
  {
   "cell_type": "code",
   "execution_count": 6,
   "id": "excellent-assets",
   "metadata": {
    "execution": {
     "iopub.execute_input": "2021-04-01T16:50:59.383645Z",
     "iopub.status.busy": "2021-04-01T16:50:59.383005Z",
     "iopub.status.idle": "2021-04-01T16:50:59.385687Z",
     "shell.execute_reply": "2021-04-01T16:50:59.384338Z"
    }
   },
   "outputs": [
    {
     "name": "stdout",
     "output_type": "stream",
     "text": [
      "PauliTable: ['X', 'Y', 'I', 'Z']\n"
     ]
    }
   ],
   "source": [
    "from qiskit.quantum_info.operators import PauliTable\n",
    "\n",
    "pt = PauliTable.from_labels(['X', 'Y', 'X', 'I', 'I', 'Z', 'X', 'Z'])\n",
    "unique = pt.unique()\n",
    "print(unique)"
   ]
  }
 ],
 "metadata": {
  "kernelspec": {
   "display_name": "Python 3",
   "language": "python",
   "name": "python3"
  },
  "language_info": {
   "codemirror_mode": {
    "name": "ipython",
    "version": 3
   },
   "file_extension": ".py",
   "mimetype": "text/x-python",
   "name": "python",
   "nbconvert_exporter": "python",
   "pygments_lexer": "ipython3",
   "version": "3.8.8"
  }
 },
 "nbformat": 4,
 "nbformat_minor": 5
}