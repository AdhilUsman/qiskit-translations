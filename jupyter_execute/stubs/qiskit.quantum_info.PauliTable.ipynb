{
 "cells": [
  {
   "cell_type": "code",
   "execution_count": 1,
   "id": "imperial-reward",
   "metadata": {
    "execution": {
     "iopub.execute_input": "2021-03-28T11:54:51.425241Z",
     "iopub.status.busy": "2021-03-28T11:54:51.423887Z",
     "iopub.status.idle": "2021-03-28T11:54:53.252683Z",
     "shell.execute_reply": "2021-03-28T11:54:53.252114Z"
    }
   },
   "outputs": [
    {
     "name": "stdout",
     "output_type": "stream",
     "text": [
      "PauliTable: ['Y', 'Z', 'Z', 'Y']\n"
     ]
    }
   ],
   "source": [
    "from qiskit.quantum_info.operators import PauliTable\n",
    "\n",
    "current = PauliTable.from_labels(['I', 'X'])\n",
    "other =  PauliTable.from_labels(['Y', 'Z'])\n",
    "print(current.compose(other))"
   ]
  },
  {
   "cell_type": "code",
   "execution_count": 2,
   "id": "adult-initial",
   "metadata": {
    "execution": {
     "iopub.execute_input": "2021-03-28T11:54:53.257275Z",
     "iopub.status.busy": "2021-03-28T11:54:53.256767Z",
     "iopub.status.idle": "2021-03-28T11:54:53.261288Z",
     "shell.execute_reply": "2021-03-28T11:54:53.260723Z"
    }
   },
   "outputs": [
    {
     "name": "stdout",
     "output_type": "stream",
     "text": [
      "PauliTable: ['Y', 'Z', 'Z', 'Y']\n"
     ]
    }
   ],
   "source": [
    "from qiskit.quantum_info.operators import PauliTable\n",
    "\n",
    "current = PauliTable.from_labels(['I', 'X'])\n",
    "other =  PauliTable.from_labels(['Y', 'Z'])\n",
    "print(current.dot(other))"
   ]
  },
  {
   "cell_type": "code",
   "execution_count": 3,
   "id": "psychological-voltage",
   "metadata": {
    "execution": {
     "iopub.execute_input": "2021-03-28T11:54:53.266850Z",
     "iopub.status.busy": "2021-03-28T11:54:53.265595Z",
     "iopub.status.idle": "2021-03-28T11:54:53.268701Z",
     "shell.execute_reply": "2021-03-28T11:54:53.268209Z"
    }
   },
   "outputs": [
    {
     "name": "stdout",
     "output_type": "stream",
     "text": [
      "PauliTable: ['YI', 'ZI', 'YX', 'ZX']\n"
     ]
    }
   ],
   "source": [
    "from qiskit.quantum_info.operators import PauliTable\n",
    "\n",
    "current = PauliTable.from_labels(['I', 'X'])\n",
    "other =  PauliTable.from_labels(['Y', 'Z'])\n",
    "print(current.expand(other))"
   ]
  },
  {
   "cell_type": "code",
   "execution_count": 4,
   "id": "resistant-james",
   "metadata": {
    "execution": {
     "iopub.execute_input": "2021-03-28T11:54:53.277122Z",
     "iopub.status.busy": "2021-03-28T11:54:53.275753Z",
     "iopub.status.idle": "2021-03-28T11:54:53.279004Z",
     "shell.execute_reply": "2021-03-28T11:54:53.278526Z"
    }
   },
   "outputs": [
    {
     "name": "stdout",
     "output_type": "stream",
     "text": [
      "Initial Ordering\n",
      "PauliTable: ['IY', 'YX', 'XY', 'ZX', 'XZ', 'II', 'IX', 'YI', 'XX', 'IZ', 'YZ', 'ZZ', 'YY', 'ZY', 'ZI', 'XI']\n",
      "Lexicographically sorted\n",
      "PauliTable: ['II', 'IX', 'IY', 'IZ', 'XI', 'XX', 'XY', 'XZ', 'YI', 'YX', 'YY', 'YZ', 'ZI', 'ZX', 'ZY', 'ZZ']\n",
      "Weight sorted\n",
      "PauliTable: ['II', 'IX', 'IY', 'IZ', 'XI', 'YI', 'ZI', 'XX', 'XY', 'XZ', 'YX', 'YY', 'YZ', 'ZX', 'ZY', 'ZZ']\n"
     ]
    }
   ],
   "source": [
    "from numpy.random import shuffle\n",
    "from qiskit.quantum_info.operators import PauliTable\n",
    "\n",
    "# 2-qubit labels\n",
    "labels = ['II', 'IX', 'IY', 'IZ', 'XI', 'XX', 'XY', 'XZ',\n",
    "          'YI', 'YX', 'YY', 'YZ', 'ZI', 'ZX', 'ZY', 'ZZ']\n",
    "# Shuffle Labels\n",
    "shuffle(labels)\n",
    "pt = PauliTable.from_labels(labels)\n",
    "print('Initial Ordering')\n",
    "print(pt)\n",
    "\n",
    "# Lexicographic Ordering\n",
    "srt = pt.sort()\n",
    "print('Lexicographically sorted')\n",
    "print(srt)\n",
    "\n",
    "# Weight Ordering\n",
    "srt = pt.sort(weight=True)\n",
    "print('Weight sorted')\n",
    "print(srt)"
   ]
  },
  {
   "cell_type": "code",
   "execution_count": 5,
   "id": "contained-pride",
   "metadata": {
    "execution": {
     "iopub.execute_input": "2021-03-28T11:54:53.284556Z",
     "iopub.status.busy": "2021-03-28T11:54:53.283264Z",
     "iopub.status.idle": "2021-03-28T11:54:53.286237Z",
     "shell.execute_reply": "2021-03-28T11:54:53.285771Z"
    }
   },
   "outputs": [
    {
     "name": "stdout",
     "output_type": "stream",
     "text": [
      "PauliTable: ['IY', 'IZ', 'XY', 'XZ']\n"
     ]
    }
   ],
   "source": [
    "from qiskit.quantum_info.operators import PauliTable\n",
    "\n",
    "current = PauliTable.from_labels(['I', 'X'])\n",
    "other =  PauliTable.from_labels(['Y', 'Z'])\n",
    "print(current.tensor(other))"
   ]
  },
  {
   "cell_type": "code",
   "execution_count": 6,
   "id": "dominant-pepper",
   "metadata": {
    "execution": {
     "iopub.execute_input": "2021-03-28T11:54:53.292153Z",
     "iopub.status.busy": "2021-03-28T11:54:53.290531Z",
     "iopub.status.idle": "2021-03-28T11:54:53.293794Z",
     "shell.execute_reply": "2021-03-28T11:54:53.293337Z"
    }
   },
   "outputs": [
    {
     "name": "stdout",
     "output_type": "stream",
     "text": [
      "PauliTable: ['X', 'Y', 'I', 'Z']\n"
     ]
    }
   ],
   "source": [
    "from qiskit.quantum_info.operators import PauliTable\n",
    "\n",
    "pt = PauliTable.from_labels(['X', 'Y', 'X', 'I', 'I', 'Z', 'X', 'Z'])\n",
    "unique = pt.unique()\n",
    "print(unique)"
   ]
  }
 ],
 "metadata": {
  "kernelspec": {
   "display_name": "Python 3",
   "language": "python",
   "name": "python3"
  },
  "language_info": {
   "codemirror_mode": {
    "name": "ipython",
    "version": 3
   },
   "file_extension": ".py",
   "mimetype": "text/x-python",
   "name": "python",
   "nbconvert_exporter": "python",
   "pygments_lexer": "ipython3",
   "version": "3.8.8"
  }
 },
 "nbformat": 4,
 "nbformat_minor": 5
}