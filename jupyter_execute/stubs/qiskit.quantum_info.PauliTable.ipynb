{
 "cells": [
  {
   "cell_type": "code",
   "execution_count": 1,
   "id": "e7784515",
   "metadata": {
    "execution": {
     "iopub.execute_input": "2021-04-27T09:12:50.735045Z",
     "iopub.status.busy": "2021-04-27T09:12:50.734118Z",
     "iopub.status.idle": "2021-04-27T09:12:51.379449Z",
     "shell.execute_reply": "2021-04-27T09:12:51.379906Z"
    }
   },
   "outputs": [
    {
     "name": "stdout",
     "output_type": "stream",
     "text": [
      "PauliTable: ['Y', 'Z', 'Z', 'Y']\n"
     ]
    }
   ],
   "source": [
    "from qiskit.quantum_info.operators import PauliTable\n",
    "\n",
    "current = PauliTable.from_labels(['I', 'X'])\n",
    "other =  PauliTable.from_labels(['Y', 'Z'])\n",
    "print(current.compose(other))"
   ]
  },
  {
   "cell_type": "code",
   "execution_count": 2,
   "id": "e69927f7",
   "metadata": {
    "execution": {
     "iopub.execute_input": "2021-04-27T09:12:51.385801Z",
     "iopub.status.busy": "2021-04-27T09:12:51.384651Z",
     "iopub.status.idle": "2021-04-27T09:12:51.387661Z",
     "shell.execute_reply": "2021-04-27T09:12:51.387071Z"
    }
   },
   "outputs": [
    {
     "name": "stdout",
     "output_type": "stream",
     "text": [
      "PauliTable: ['Y', 'Z', 'Z', 'Y']\n"
     ]
    }
   ],
   "source": [
    "from qiskit.quantum_info.operators import PauliTable\n",
    "\n",
    "current = PauliTable.from_labels(['I', 'X'])\n",
    "other =  PauliTable.from_labels(['Y', 'Z'])\n",
    "print(current.dot(other))"
   ]
  },
  {
   "cell_type": "code",
   "execution_count": 3,
   "id": "a2596626",
   "metadata": {
    "execution": {
     "iopub.execute_input": "2021-04-27T09:12:51.393336Z",
     "iopub.status.busy": "2021-04-27T09:12:51.392167Z",
     "iopub.status.idle": "2021-04-27T09:12:51.395260Z",
     "shell.execute_reply": "2021-04-27T09:12:51.394786Z"
    }
   },
   "outputs": [
    {
     "name": "stdout",
     "output_type": "stream",
     "text": [
      "PauliTable: ['YI', 'YX', 'ZI', 'ZX']\n"
     ]
    }
   ],
   "source": [
    "from qiskit.quantum_info.operators import PauliTable\n",
    "\n",
    "current = PauliTable.from_labels(['I', 'X'])\n",
    "other =  PauliTable.from_labels(['Y', 'Z'])\n",
    "print(current.expand(other))"
   ]
  },
  {
   "cell_type": "code",
   "execution_count": 4,
   "id": "edb6e029",
   "metadata": {
    "execution": {
     "iopub.execute_input": "2021-04-27T09:12:51.402406Z",
     "iopub.status.busy": "2021-04-27T09:12:51.401839Z",
     "iopub.status.idle": "2021-04-27T09:12:51.404411Z",
     "shell.execute_reply": "2021-04-27T09:12:51.404835Z"
    }
   },
   "outputs": [
    {
     "name": "stdout",
     "output_type": "stream",
     "text": [
      "Initial Ordering\n",
      "PauliTable: ['ZI', 'YX', 'YY', 'IX', 'IY', 'ZY', 'YI', 'XI', 'IZ', 'ZX', 'XZ', 'YZ', 'II', 'ZZ', 'XY', 'XX']\n",
      "Lexicographically sorted\n",
      "PauliTable: ['II', 'IX', 'IY', 'IZ', 'XI', 'XX', 'XY', 'XZ', 'YI', 'YX', 'YY', 'YZ', 'ZI', 'ZX', 'ZY', 'ZZ']\n",
      "Weight sorted\n",
      "PauliTable: ['II', 'IX', 'IY', 'IZ', 'XI', 'YI', 'ZI', 'XX', 'XY', 'XZ', 'YX', 'YY', 'YZ', 'ZX', 'ZY', 'ZZ']\n"
     ]
    }
   ],
   "source": [
    "from numpy.random import shuffle\n",
    "from qiskit.quantum_info.operators import PauliTable\n",
    "\n",
    "# 2-qubit labels\n",
    "labels = ['II', 'IX', 'IY', 'IZ', 'XI', 'XX', 'XY', 'XZ',\n",
    "          'YI', 'YX', 'YY', 'YZ', 'ZI', 'ZX', 'ZY', 'ZZ']\n",
    "# Shuffle Labels\n",
    "shuffle(labels)\n",
    "pt = PauliTable.from_labels(labels)\n",
    "print('Initial Ordering')\n",
    "print(pt)\n",
    "\n",
    "# Lexicographic Ordering\n",
    "srt = pt.sort()\n",
    "print('Lexicographically sorted')\n",
    "print(srt)\n",
    "\n",
    "# Weight Ordering\n",
    "srt = pt.sort(weight=True)\n",
    "print('Weight sorted')\n",
    "print(srt)"
   ]
  },
  {
   "cell_type": "code",
   "execution_count": 5,
   "id": "4695796d",
   "metadata": {
    "execution": {
     "iopub.execute_input": "2021-04-27T09:12:51.410238Z",
     "iopub.status.busy": "2021-04-27T09:12:51.409019Z",
     "iopub.status.idle": "2021-04-27T09:12:51.411922Z",
     "shell.execute_reply": "2021-04-27T09:12:51.411469Z"
    }
   },
   "outputs": [
    {
     "name": "stdout",
     "output_type": "stream",
     "text": [
      "PauliTable: ['IY', 'IZ', 'XY', 'XZ']\n"
     ]
    }
   ],
   "source": [
    "from qiskit.quantum_info.operators import PauliTable\n",
    "\n",
    "current = PauliTable.from_labels(['I', 'X'])\n",
    "other =  PauliTable.from_labels(['Y', 'Z'])\n",
    "print(current.tensor(other))"
   ]
  },
  {
   "cell_type": "code",
   "execution_count": 6,
   "id": "6da162bc",
   "metadata": {
    "execution": {
     "iopub.execute_input": "2021-04-27T09:12:51.417545Z",
     "iopub.status.busy": "2021-04-27T09:12:51.416287Z",
     "iopub.status.idle": "2021-04-27T09:12:51.419250Z",
     "shell.execute_reply": "2021-04-27T09:12:51.418795Z"
    }
   },
   "outputs": [
    {
     "name": "stdout",
     "output_type": "stream",
     "text": [
      "PauliTable: ['X', 'Y', 'I', 'Z']\n"
     ]
    }
   ],
   "source": [
    "from qiskit.quantum_info.operators import PauliTable\n",
    "\n",
    "pt = PauliTable.from_labels(['X', 'Y', 'X', 'I', 'I', 'Z', 'X', 'Z'])\n",
    "unique = pt.unique()\n",
    "print(unique)"
   ]
  }
 ],
 "metadata": {
  "kernelspec": {
   "display_name": "Python 3",
   "language": "python",
   "name": "python3"
  },
  "language_info": {
   "codemirror_mode": {
    "name": "ipython",
    "version": 3
   },
   "file_extension": ".py",
   "mimetype": "text/x-python",
   "name": "python",
   "nbconvert_exporter": "python",
   "pygments_lexer": "ipython3",
   "version": "3.8.9"
  }
 },
 "nbformat": 4,
 "nbformat_minor": 5
}