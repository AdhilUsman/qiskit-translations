{
 "cells": [
  {
   "cell_type": "code",
   "execution_count": 1,
   "id": "ece39b59",
   "metadata": {
    "execution": {
     "iopub.execute_input": "2021-05-12T11:45:52.504058Z",
     "iopub.status.busy": "2021-05-12T11:45:52.503474Z",
     "iopub.status.idle": "2021-05-12T11:45:53.233481Z",
     "shell.execute_reply": "2021-05-12T11:45:53.233979Z"
    }
   },
   "outputs": [
    {
     "name": "stdout",
     "output_type": "stream",
     "text": [
      "PauliTable: ['Y', 'Z', 'Z', 'Y']\n"
     ]
    }
   ],
   "source": [
    "from qiskit.quantum_info.operators import PauliTable\n",
    "\n",
    "current = PauliTable.from_labels(['I', 'X'])\n",
    "other =  PauliTable.from_labels(['Y', 'Z'])\n",
    "print(current.compose(other))"
   ]
  },
  {
   "cell_type": "code",
   "execution_count": 2,
   "id": "837f1ed3",
   "metadata": {
    "execution": {
     "iopub.execute_input": "2021-05-12T11:45:53.240650Z",
     "iopub.status.busy": "2021-05-12T11:45:53.239091Z",
     "iopub.status.idle": "2021-05-12T11:45:53.242539Z",
     "shell.execute_reply": "2021-05-12T11:45:53.242010Z"
    }
   },
   "outputs": [
    {
     "name": "stdout",
     "output_type": "stream",
     "text": [
      "PauliTable: ['Y', 'Z', 'Z', 'Y']\n"
     ]
    }
   ],
   "source": [
    "from qiskit.quantum_info.operators import PauliTable\n",
    "\n",
    "current = PauliTable.from_labels(['I', 'X'])\n",
    "other =  PauliTable.from_labels(['Y', 'Z'])\n",
    "print(current.dot(other))"
   ]
  },
  {
   "cell_type": "code",
   "execution_count": 3,
   "id": "8c2b5eb2",
   "metadata": {
    "execution": {
     "iopub.execute_input": "2021-05-12T11:45:53.248466Z",
     "iopub.status.busy": "2021-05-12T11:45:53.247110Z",
     "iopub.status.idle": "2021-05-12T11:45:53.250432Z",
     "shell.execute_reply": "2021-05-12T11:45:53.249902Z"
    }
   },
   "outputs": [
    {
     "name": "stdout",
     "output_type": "stream",
     "text": [
      "PauliTable: ['YI', 'YX', 'ZI', 'ZX']\n"
     ]
    }
   ],
   "source": [
    "from qiskit.quantum_info.operators import PauliTable\n",
    "\n",
    "current = PauliTable.from_labels(['I', 'X'])\n",
    "other =  PauliTable.from_labels(['Y', 'Z'])\n",
    "print(current.expand(other))"
   ]
  },
  {
   "cell_type": "code",
   "execution_count": 4,
   "id": "5b4043ce",
   "metadata": {
    "execution": {
     "iopub.execute_input": "2021-05-12T11:45:53.258107Z",
     "iopub.status.busy": "2021-05-12T11:45:53.255674Z",
     "iopub.status.idle": "2021-05-12T11:45:53.260685Z",
     "shell.execute_reply": "2021-05-12T11:45:53.261175Z"
    }
   },
   "outputs": [
    {
     "name": "stdout",
     "output_type": "stream",
     "text": [
      "Initial Ordering\n",
      "PauliTable: ['ZX', 'ZY', 'IX', 'IZ', 'YY', 'ZZ', 'XI', 'II', 'ZI', 'YZ', 'YX', 'XX', 'XZ', 'XY', 'IY', 'YI']\n",
      "Lexicographically sorted\n",
      "PauliTable: ['II', 'IX', 'IY', 'IZ', 'XI', 'XX', 'XY', 'XZ', 'YI', 'YX', 'YY', 'YZ', 'ZI', 'ZX', 'ZY', 'ZZ']\n",
      "Weight sorted\n",
      "PauliTable: ['II', 'IX', 'IY', 'IZ', 'XI', 'YI', 'ZI', 'XX', 'XY', 'XZ', 'YX', 'YY', 'YZ', 'ZX', 'ZY', 'ZZ']\n"
     ]
    }
   ],
   "source": [
    "from numpy.random import shuffle\n",
    "from qiskit.quantum_info.operators import PauliTable\n",
    "\n",
    "# 2-qubit labels\n",
    "labels = ['II', 'IX', 'IY', 'IZ', 'XI', 'XX', 'XY', 'XZ',\n",
    "          'YI', 'YX', 'YY', 'YZ', 'ZI', 'ZX', 'ZY', 'ZZ']\n",
    "# Shuffle Labels\n",
    "shuffle(labels)\n",
    "pt = PauliTable.from_labels(labels)\n",
    "print('Initial Ordering')\n",
    "print(pt)\n",
    "\n",
    "# Lexicographic Ordering\n",
    "srt = pt.sort()\n",
    "print('Lexicographically sorted')\n",
    "print(srt)\n",
    "\n",
    "# Weight Ordering\n",
    "srt = pt.sort(weight=True)\n",
    "print('Weight sorted')\n",
    "print(srt)"
   ]
  },
  {
   "cell_type": "code",
   "execution_count": 5,
   "id": "496db06b",
   "metadata": {
    "execution": {
     "iopub.execute_input": "2021-05-12T11:45:53.267277Z",
     "iopub.status.busy": "2021-05-12T11:45:53.265903Z",
     "iopub.status.idle": "2021-05-12T11:45:53.269152Z",
     "shell.execute_reply": "2021-05-12T11:45:53.268634Z"
    }
   },
   "outputs": [
    {
     "name": "stdout",
     "output_type": "stream",
     "text": [
      "PauliTable: ['IY', 'IZ', 'XY', 'XZ']\n"
     ]
    }
   ],
   "source": [
    "from qiskit.quantum_info.operators import PauliTable\n",
    "\n",
    "current = PauliTable.from_labels(['I', 'X'])\n",
    "other =  PauliTable.from_labels(['Y', 'Z'])\n",
    "print(current.tensor(other))"
   ]
  },
  {
   "cell_type": "code",
   "execution_count": 6,
   "id": "71789d27",
   "metadata": {
    "execution": {
     "iopub.execute_input": "2021-05-12T11:45:53.275860Z",
     "iopub.status.busy": "2021-05-12T11:45:53.274390Z",
     "iopub.status.idle": "2021-05-12T11:45:53.277758Z",
     "shell.execute_reply": "2021-05-12T11:45:53.277233Z"
    }
   },
   "outputs": [
    {
     "name": "stdout",
     "output_type": "stream",
     "text": [
      "PauliTable: ['X', 'Y', 'I', 'Z']\n"
     ]
    }
   ],
   "source": [
    "from qiskit.quantum_info.operators import PauliTable\n",
    "\n",
    "pt = PauliTable.from_labels(['X', 'Y', 'X', 'I', 'I', 'Z', 'X', 'Z'])\n",
    "unique = pt.unique()\n",
    "print(unique)"
   ]
  }
 ],
 "metadata": {
  "kernelspec": {
   "display_name": "Python 3",
   "language": "python",
   "name": "python3"
  },
  "language_info": {
   "codemirror_mode": {
    "name": "ipython",
    "version": 3
   },
   "file_extension": ".py",
   "mimetype": "text/x-python",
   "name": "python",
   "nbconvert_exporter": "python",
   "pygments_lexer": "ipython3",
   "version": "3.8.10"
  }
 },
 "nbformat": 4,
 "nbformat_minor": 5
}