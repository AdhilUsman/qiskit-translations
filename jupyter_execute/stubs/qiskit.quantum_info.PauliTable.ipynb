{
 "cells": [
  {
   "cell_type": "code",
   "execution_count": 1,
   "id": "82a1b635",
   "metadata": {
    "execution": {
     "iopub.execute_input": "2021-04-08T23:27:20.972864Z",
     "iopub.status.busy": "2021-04-08T23:27:20.972386Z",
     "iopub.status.idle": "2021-04-08T23:27:21.551969Z",
     "shell.execute_reply": "2021-04-08T23:27:21.552410Z"
    }
   },
   "outputs": [
    {
     "name": "stdout",
     "output_type": "stream",
     "text": [
      "PauliTable: ['Y', 'Z', 'Z', 'Y']\n"
     ]
    }
   ],
   "source": [
    "from qiskit.quantum_info.operators import PauliTable\n",
    "\n",
    "current = PauliTable.from_labels(['I', 'X'])\n",
    "other =  PauliTable.from_labels(['Y', 'Z'])\n",
    "print(current.compose(other))"
   ]
  },
  {
   "cell_type": "code",
   "execution_count": 2,
   "id": "fbb2e0a7",
   "metadata": {
    "execution": {
     "iopub.execute_input": "2021-04-08T23:27:21.557909Z",
     "iopub.status.busy": "2021-04-08T23:27:21.556838Z",
     "iopub.status.idle": "2021-04-08T23:27:21.559499Z",
     "shell.execute_reply": "2021-04-08T23:27:21.559075Z"
    }
   },
   "outputs": [
    {
     "name": "stdout",
     "output_type": "stream",
     "text": [
      "PauliTable: ['Y', 'Z', 'Z', 'Y']\n"
     ]
    }
   ],
   "source": [
    "from qiskit.quantum_info.operators import PauliTable\n",
    "\n",
    "current = PauliTable.from_labels(['I', 'X'])\n",
    "other =  PauliTable.from_labels(['Y', 'Z'])\n",
    "print(current.dot(other))"
   ]
  },
  {
   "cell_type": "code",
   "execution_count": 3,
   "id": "ee7cf4d5",
   "metadata": {
    "execution": {
     "iopub.execute_input": "2021-04-08T23:27:21.564732Z",
     "iopub.status.busy": "2021-04-08T23:27:21.563694Z",
     "iopub.status.idle": "2021-04-08T23:27:21.566334Z",
     "shell.execute_reply": "2021-04-08T23:27:21.565928Z"
    }
   },
   "outputs": [
    {
     "name": "stdout",
     "output_type": "stream",
     "text": [
      "PauliTable: ['YI', 'YX', 'ZI', 'ZX']\n"
     ]
    }
   ],
   "source": [
    "from qiskit.quantum_info.operators import PauliTable\n",
    "\n",
    "current = PauliTable.from_labels(['I', 'X'])\n",
    "other =  PauliTable.from_labels(['Y', 'Z'])\n",
    "print(current.expand(other))"
   ]
  },
  {
   "cell_type": "code",
   "execution_count": 4,
   "id": "8ff7e461",
   "metadata": {
    "execution": {
     "iopub.execute_input": "2021-04-08T23:27:21.572744Z",
     "iopub.status.busy": "2021-04-08T23:27:21.572263Z",
     "iopub.status.idle": "2021-04-08T23:27:21.574587Z",
     "shell.execute_reply": "2021-04-08T23:27:21.574951Z"
    }
   },
   "outputs": [
    {
     "name": "stdout",
     "output_type": "stream",
     "text": [
      "Initial Ordering\n",
      "PauliTable: ['YI', 'ZZ', 'YZ', 'XY', 'ZY', 'IX', 'YX', 'IZ', 'IY', 'ZI', 'XX', 'II', 'ZX', 'YY', 'XI', 'XZ']\n",
      "Lexicographically sorted\n",
      "PauliTable: ['II', 'IX', 'IY', 'IZ', 'XI', 'XX', 'XY', 'XZ', 'YI', 'YX', 'YY', 'YZ', 'ZI', 'ZX', 'ZY', 'ZZ']\n",
      "Weight sorted\n",
      "PauliTable: ['II', 'IX', 'IY', 'IZ', 'XI', 'YI', 'ZI', 'XX', 'XY', 'XZ', 'YX', 'YY', 'YZ', 'ZX', 'ZY', 'ZZ']\n"
     ]
    }
   ],
   "source": [
    "from numpy.random import shuffle\n",
    "from qiskit.quantum_info.operators import PauliTable\n",
    "\n",
    "# 2-qubit labels\n",
    "labels = ['II', 'IX', 'IY', 'IZ', 'XI', 'XX', 'XY', 'XZ',\n",
    "          'YI', 'YX', 'YY', 'YZ', 'ZI', 'ZX', 'ZY', 'ZZ']\n",
    "# Shuffle Labels\n",
    "shuffle(labels)\n",
    "pt = PauliTable.from_labels(labels)\n",
    "print('Initial Ordering')\n",
    "print(pt)\n",
    "\n",
    "# Lexicographic Ordering\n",
    "srt = pt.sort()\n",
    "print('Lexicographically sorted')\n",
    "print(srt)\n",
    "\n",
    "# Weight Ordering\n",
    "srt = pt.sort(weight=True)\n",
    "print('Weight sorted')\n",
    "print(srt)"
   ]
  },
  {
   "cell_type": "code",
   "execution_count": 5,
   "id": "9960fd8d",
   "metadata": {
    "execution": {
     "iopub.execute_input": "2021-04-08T23:27:21.579767Z",
     "iopub.status.busy": "2021-04-08T23:27:21.578845Z",
     "iopub.status.idle": "2021-04-08T23:27:21.581471Z",
     "shell.execute_reply": "2021-04-08T23:27:21.581067Z"
    }
   },
   "outputs": [
    {
     "name": "stdout",
     "output_type": "stream",
     "text": [
      "PauliTable: ['IY', 'IZ', 'XY', 'XZ']\n"
     ]
    }
   ],
   "source": [
    "from qiskit.quantum_info.operators import PauliTable\n",
    "\n",
    "current = PauliTable.from_labels(['I', 'X'])\n",
    "other =  PauliTable.from_labels(['Y', 'Z'])\n",
    "print(current.tensor(other))"
   ]
  },
  {
   "cell_type": "code",
   "execution_count": 6,
   "id": "dc707e03",
   "metadata": {
    "execution": {
     "iopub.execute_input": "2021-04-08T23:27:21.586177Z",
     "iopub.status.busy": "2021-04-08T23:27:21.585375Z",
     "iopub.status.idle": "2021-04-08T23:27:21.587917Z",
     "shell.execute_reply": "2021-04-08T23:27:21.587474Z"
    }
   },
   "outputs": [
    {
     "name": "stdout",
     "output_type": "stream",
     "text": [
      "PauliTable: ['X', 'Y', 'I', 'Z']\n"
     ]
    }
   ],
   "source": [
    "from qiskit.quantum_info.operators import PauliTable\n",
    "\n",
    "pt = PauliTable.from_labels(['X', 'Y', 'X', 'I', 'I', 'Z', 'X', 'Z'])\n",
    "unique = pt.unique()\n",
    "print(unique)"
   ]
  }
 ],
 "metadata": {
  "kernelspec": {
   "display_name": "Python 3",
   "language": "python",
   "name": "python3"
  },
  "language_info": {
   "codemirror_mode": {
    "name": "ipython",
    "version": 3
   },
   "file_extension": ".py",
   "mimetype": "text/x-python",
   "name": "python",
   "nbconvert_exporter": "python",
   "pygments_lexer": "ipython3",
   "version": "3.8.8"
  }
 },
 "nbformat": 4,
 "nbformat_minor": 5
}