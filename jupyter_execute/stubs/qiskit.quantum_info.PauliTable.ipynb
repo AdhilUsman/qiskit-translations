{
 "cells": [
  {
   "cell_type": "code",
   "execution_count": 1,
   "id": "c9181106",
   "metadata": {
    "execution": {
     "iopub.execute_input": "2021-06-20T06:04:08.645051Z",
     "iopub.status.busy": "2021-06-20T06:04:08.644462Z",
     "iopub.status.idle": "2021-06-20T06:04:09.417996Z",
     "shell.execute_reply": "2021-06-20T06:04:09.416711Z"
    }
   },
   "outputs": [
    {
     "name": "stdout",
     "output_type": "stream",
     "text": [
      "PauliTable: ['Y', 'Z', 'Z', 'Y']\n"
     ]
    }
   ],
   "source": [
    "from qiskit.quantum_info.operators import PauliTable\n",
    "\n",
    "current = PauliTable.from_labels(['I', 'X'])\n",
    "other =  PauliTable.from_labels(['Y', 'Z'])\n",
    "print(current.compose(other))"
   ]
  },
  {
   "cell_type": "code",
   "execution_count": 2,
   "id": "f36f493b",
   "metadata": {
    "execution": {
     "iopub.execute_input": "2021-06-20T06:04:09.423607Z",
     "iopub.status.busy": "2021-06-20T06:04:09.422708Z",
     "iopub.status.idle": "2021-06-20T06:04:09.427842Z",
     "shell.execute_reply": "2021-06-20T06:04:09.428341Z"
    }
   },
   "outputs": [
    {
     "name": "stdout",
     "output_type": "stream",
     "text": [
      "PauliTable: ['Y', 'Z', 'Z', 'Y']\n"
     ]
    }
   ],
   "source": [
    "from qiskit.quantum_info.operators import PauliTable\n",
    "\n",
    "current = PauliTable.from_labels(['I', 'X'])\n",
    "other =  PauliTable.from_labels(['Y', 'Z'])\n",
    "print(current.dot(other))"
   ]
  },
  {
   "cell_type": "code",
   "execution_count": 3,
   "id": "173e71fa",
   "metadata": {
    "execution": {
     "iopub.execute_input": "2021-06-20T06:04:09.433499Z",
     "iopub.status.busy": "2021-06-20T06:04:09.432857Z",
     "iopub.status.idle": "2021-06-20T06:04:09.437827Z",
     "shell.execute_reply": "2021-06-20T06:04:09.437129Z"
    }
   },
   "outputs": [
    {
     "name": "stdout",
     "output_type": "stream",
     "text": [
      "PauliTable: ['YI', 'YX', 'ZI', 'ZX']\n"
     ]
    }
   ],
   "source": [
    "from qiskit.quantum_info.operators import PauliTable\n",
    "\n",
    "current = PauliTable.from_labels(['I', 'X'])\n",
    "other =  PauliTable.from_labels(['Y', 'Z'])\n",
    "print(current.expand(other))"
   ]
  },
  {
   "cell_type": "code",
   "execution_count": 4,
   "id": "5e75b69f",
   "metadata": {
    "execution": {
     "iopub.execute_input": "2021-06-20T06:04:09.444549Z",
     "iopub.status.busy": "2021-06-20T06:04:09.440393Z",
     "iopub.status.idle": "2021-06-20T06:04:09.449865Z",
     "shell.execute_reply": "2021-06-20T06:04:09.449309Z"
    }
   },
   "outputs": [
    {
     "name": "stdout",
     "output_type": "stream",
     "text": [
      "Initial Ordering\n",
      "PauliTable: ['XZ', 'ZX', 'YY', 'IZ', 'YI', 'XY', 'XX', 'ZY', 'ZZ', 'ZI', 'XI', 'IY', 'YZ', 'IX', 'II', 'YX']\n",
      "Lexicographically sorted\n",
      "PauliTable: ['II', 'IX', 'IY', 'IZ', 'XI', 'XX', 'XY', 'XZ', 'YI', 'YX', 'YY', 'YZ', 'ZI', 'ZX', 'ZY', 'ZZ']\n",
      "Weight sorted\n",
      "PauliTable: ['II', 'IX', 'IY', 'IZ', 'XI', 'YI', 'ZI', 'XX', 'XY', 'XZ', 'YX', 'YY', 'YZ', 'ZX', 'ZY', 'ZZ']\n"
     ]
    }
   ],
   "source": [
    "from numpy.random import shuffle\n",
    "from qiskit.quantum_info.operators import PauliTable\n",
    "\n",
    "# 2-qubit labels\n",
    "labels = ['II', 'IX', 'IY', 'IZ', 'XI', 'XX', 'XY', 'XZ',\n",
    "          'YI', 'YX', 'YY', 'YZ', 'ZI', 'ZX', 'ZY', 'ZZ']\n",
    "# Shuffle Labels\n",
    "shuffle(labels)\n",
    "pt = PauliTable.from_labels(labels)\n",
    "print('Initial Ordering')\n",
    "print(pt)\n",
    "\n",
    "# Lexicographic Ordering\n",
    "srt = pt.sort()\n",
    "print('Lexicographically sorted')\n",
    "print(srt)\n",
    "\n",
    "# Weight Ordering\n",
    "srt = pt.sort(weight=True)\n",
    "print('Weight sorted')\n",
    "print(srt)"
   ]
  },
  {
   "cell_type": "code",
   "execution_count": 5,
   "id": "ed8d2ac8",
   "metadata": {
    "execution": {
     "iopub.execute_input": "2021-06-20T06:04:09.454525Z",
     "iopub.status.busy": "2021-06-20T06:04:09.453952Z",
     "iopub.status.idle": "2021-06-20T06:04:09.458514Z",
     "shell.execute_reply": "2021-06-20T06:04:09.459001Z"
    }
   },
   "outputs": [
    {
     "name": "stdout",
     "output_type": "stream",
     "text": [
      "PauliTable: ['IY', 'IZ', 'XY', 'XZ']\n"
     ]
    }
   ],
   "source": [
    "from qiskit.quantum_info.operators import PauliTable\n",
    "\n",
    "current = PauliTable.from_labels(['I', 'X'])\n",
    "other =  PauliTable.from_labels(['Y', 'Z'])\n",
    "print(current.tensor(other))"
   ]
  },
  {
   "cell_type": "code",
   "execution_count": 6,
   "id": "47b22f50",
   "metadata": {
    "execution": {
     "iopub.execute_input": "2021-06-20T06:04:09.463725Z",
     "iopub.status.busy": "2021-06-20T06:04:09.463118Z",
     "iopub.status.idle": "2021-06-20T06:04:09.466996Z",
     "shell.execute_reply": "2021-06-20T06:04:09.466470Z"
    }
   },
   "outputs": [
    {
     "name": "stdout",
     "output_type": "stream",
     "text": [
      "PauliTable: ['X', 'Y', 'I', 'Z']\n"
     ]
    }
   ],
   "source": [
    "from qiskit.quantum_info.operators import PauliTable\n",
    "\n",
    "pt = PauliTable.from_labels(['X', 'Y', 'X', 'I', 'I', 'Z', 'X', 'Z'])\n",
    "unique = pt.unique()\n",
    "print(unique)"
   ]
  }
 ],
 "metadata": {
  "kernelspec": {
   "display_name": "Python 3",
   "language": "python",
   "name": "python3"
  },
  "language_info": {
   "codemirror_mode": {
    "name": "ipython",
    "version": 3
   },
   "file_extension": ".py",
   "mimetype": "text/x-python",
   "name": "python",
   "nbconvert_exporter": "python",
   "pygments_lexer": "ipython3",
   "version": "3.8.10"
  }
 },
 "nbformat": 4,
 "nbformat_minor": 5
}