{
 "cells": [
  {
   "cell_type": "code",
   "execution_count": 1,
   "id": "b995e12d",
   "metadata": {
    "execution": {
     "iopub.execute_input": "2021-04-23T01:18:01.652486Z",
     "iopub.status.busy": "2021-04-23T01:18:01.651950Z",
     "iopub.status.idle": "2021-04-23T01:18:02.303709Z",
     "shell.execute_reply": "2021-04-23T01:18:02.302849Z"
    }
   },
   "outputs": [
    {
     "name": "stdout",
     "output_type": "stream",
     "text": [
      "PauliTable: ['Y', 'Z', 'Z', 'Y']\n"
     ]
    }
   ],
   "source": [
    "from qiskit.quantum_info.operators import PauliTable\n",
    "\n",
    "current = PauliTable.from_labels(['I', 'X'])\n",
    "other =  PauliTable.from_labels(['Y', 'Z'])\n",
    "print(current.compose(other))"
   ]
  },
  {
   "cell_type": "code",
   "execution_count": 2,
   "id": "83235795",
   "metadata": {
    "execution": {
     "iopub.execute_input": "2021-04-23T01:18:02.310368Z",
     "iopub.status.busy": "2021-04-23T01:18:02.308854Z",
     "iopub.status.idle": "2021-04-23T01:18:02.312162Z",
     "shell.execute_reply": "2021-04-23T01:18:02.311702Z"
    }
   },
   "outputs": [
    {
     "name": "stdout",
     "output_type": "stream",
     "text": [
      "PauliTable: ['Y', 'Z', 'Z', 'Y']\n"
     ]
    }
   ],
   "source": [
    "from qiskit.quantum_info.operators import PauliTable\n",
    "\n",
    "current = PauliTable.from_labels(['I', 'X'])\n",
    "other =  PauliTable.from_labels(['Y', 'Z'])\n",
    "print(current.dot(other))"
   ]
  },
  {
   "cell_type": "code",
   "execution_count": 3,
   "id": "5fdaf734",
   "metadata": {
    "execution": {
     "iopub.execute_input": "2021-04-23T01:18:02.317953Z",
     "iopub.status.busy": "2021-04-23T01:18:02.316712Z",
     "iopub.status.idle": "2021-04-23T01:18:02.319757Z",
     "shell.execute_reply": "2021-04-23T01:18:02.319288Z"
    }
   },
   "outputs": [
    {
     "name": "stdout",
     "output_type": "stream",
     "text": [
      "PauliTable: ['YI', 'YX', 'ZI', 'ZX']\n"
     ]
    }
   ],
   "source": [
    "from qiskit.quantum_info.operators import PauliTable\n",
    "\n",
    "current = PauliTable.from_labels(['I', 'X'])\n",
    "other =  PauliTable.from_labels(['Y', 'Z'])\n",
    "print(current.expand(other))"
   ]
  },
  {
   "cell_type": "code",
   "execution_count": 4,
   "id": "6aee8991",
   "metadata": {
    "execution": {
     "iopub.execute_input": "2021-04-23T01:18:02.326706Z",
     "iopub.status.busy": "2021-04-23T01:18:02.324903Z",
     "iopub.status.idle": "2021-04-23T01:18:02.328734Z",
     "shell.execute_reply": "2021-04-23T01:18:02.329152Z"
    }
   },
   "outputs": [
    {
     "name": "stdout",
     "output_type": "stream",
     "text": [
      "Initial Ordering\n",
      "PauliTable: ['XI', 'ZI', 'II', 'IY', 'YX', 'ZZ', 'YZ', 'XY', 'IZ', 'XX', 'IX', 'ZY', 'YY', 'XZ', 'YI', 'ZX']\n",
      "Lexicographically sorted\n",
      "PauliTable: ['II', 'IX', 'IY', 'IZ', 'XI', 'XX', 'XY', 'XZ', 'YI', 'YX', 'YY', 'YZ', 'ZI', 'ZX', 'ZY', 'ZZ']\n",
      "Weight sorted\n",
      "PauliTable: ['II', 'IX', 'IY', 'IZ', 'XI', 'YI', 'ZI', 'XX', 'XY', 'XZ', 'YX', 'YY', 'YZ', 'ZX', 'ZY', 'ZZ']\n"
     ]
    }
   ],
   "source": [
    "from numpy.random import shuffle\n",
    "from qiskit.quantum_info.operators import PauliTable\n",
    "\n",
    "# 2-qubit labels\n",
    "labels = ['II', 'IX', 'IY', 'IZ', 'XI', 'XX', 'XY', 'XZ',\n",
    "          'YI', 'YX', 'YY', 'YZ', 'ZI', 'ZX', 'ZY', 'ZZ']\n",
    "# Shuffle Labels\n",
    "shuffle(labels)\n",
    "pt = PauliTable.from_labels(labels)\n",
    "print('Initial Ordering')\n",
    "print(pt)\n",
    "\n",
    "# Lexicographic Ordering\n",
    "srt = pt.sort()\n",
    "print('Lexicographically sorted')\n",
    "print(srt)\n",
    "\n",
    "# Weight Ordering\n",
    "srt = pt.sort(weight=True)\n",
    "print('Weight sorted')\n",
    "print(srt)"
   ]
  },
  {
   "cell_type": "code",
   "execution_count": 5,
   "id": "d1816530",
   "metadata": {
    "execution": {
     "iopub.execute_input": "2021-04-23T01:18:02.334754Z",
     "iopub.status.busy": "2021-04-23T01:18:02.333472Z",
     "iopub.status.idle": "2021-04-23T01:18:02.336489Z",
     "shell.execute_reply": "2021-04-23T01:18:02.336039Z"
    }
   },
   "outputs": [
    {
     "name": "stdout",
     "output_type": "stream",
     "text": [
      "PauliTable: ['IY', 'IZ', 'XY', 'XZ']\n"
     ]
    }
   ],
   "source": [
    "from qiskit.quantum_info.operators import PauliTable\n",
    "\n",
    "current = PauliTable.from_labels(['I', 'X'])\n",
    "other =  PauliTable.from_labels(['Y', 'Z'])\n",
    "print(current.tensor(other))"
   ]
  },
  {
   "cell_type": "code",
   "execution_count": 6,
   "id": "e1422b75",
   "metadata": {
    "execution": {
     "iopub.execute_input": "2021-04-23T01:18:02.342047Z",
     "iopub.status.busy": "2021-04-23T01:18:02.340798Z",
     "iopub.status.idle": "2021-04-23T01:18:02.343769Z",
     "shell.execute_reply": "2021-04-23T01:18:02.343308Z"
    }
   },
   "outputs": [
    {
     "name": "stdout",
     "output_type": "stream",
     "text": [
      "PauliTable: ['X', 'Y', 'I', 'Z']\n"
     ]
    }
   ],
   "source": [
    "from qiskit.quantum_info.operators import PauliTable\n",
    "\n",
    "pt = PauliTable.from_labels(['X', 'Y', 'X', 'I', 'I', 'Z', 'X', 'Z'])\n",
    "unique = pt.unique()\n",
    "print(unique)"
   ]
  }
 ],
 "metadata": {
  "kernelspec": {
   "display_name": "Python 3",
   "language": "python",
   "name": "python3"
  },
  "language_info": {
   "codemirror_mode": {
    "name": "ipython",
    "version": 3
   },
   "file_extension": ".py",
   "mimetype": "text/x-python",
   "name": "python",
   "nbconvert_exporter": "python",
   "pygments_lexer": "ipython3",
   "version": "3.8.9"
  }
 },
 "nbformat": 4,
 "nbformat_minor": 5
}