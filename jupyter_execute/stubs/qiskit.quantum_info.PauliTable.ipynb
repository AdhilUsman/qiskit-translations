{
 "cells": [
  {
   "cell_type": "code",
   "execution_count": 1,
   "id": "c6d0df71",
   "metadata": {
    "execution": {
     "iopub.execute_input": "2021-04-14T01:14:19.494933Z",
     "iopub.status.busy": "2021-04-14T01:14:19.494437Z",
     "iopub.status.idle": "2021-04-14T01:14:20.121492Z",
     "shell.execute_reply": "2021-04-14T01:14:20.121981Z"
    }
   },
   "outputs": [
    {
     "name": "stdout",
     "output_type": "stream",
     "text": [
      "PauliTable: ['Y', 'Z', 'Z', 'Y']\n"
     ]
    }
   ],
   "source": [
    "from qiskit.quantum_info.operators import PauliTable\n",
    "\n",
    "current = PauliTable.from_labels(['I', 'X'])\n",
    "other =  PauliTable.from_labels(['Y', 'Z'])\n",
    "print(current.compose(other))"
   ]
  },
  {
   "cell_type": "code",
   "execution_count": 2,
   "id": "cec09c69",
   "metadata": {
    "execution": {
     "iopub.execute_input": "2021-04-14T01:14:20.127361Z",
     "iopub.status.busy": "2021-04-14T01:14:20.126853Z",
     "iopub.status.idle": "2021-04-14T01:14:20.129157Z",
     "shell.execute_reply": "2021-04-14T01:14:20.129641Z"
    }
   },
   "outputs": [
    {
     "name": "stdout",
     "output_type": "stream",
     "text": [
      "PauliTable: ['Y', 'Z', 'Z', 'Y']\n"
     ]
    }
   ],
   "source": [
    "from qiskit.quantum_info.operators import PauliTable\n",
    "\n",
    "current = PauliTable.from_labels(['I', 'X'])\n",
    "other =  PauliTable.from_labels(['Y', 'Z'])\n",
    "print(current.dot(other))"
   ]
  },
  {
   "cell_type": "code",
   "execution_count": 3,
   "id": "fe5e7b43",
   "metadata": {
    "execution": {
     "iopub.execute_input": "2021-04-14T01:14:20.135539Z",
     "iopub.status.busy": "2021-04-14T01:14:20.134156Z",
     "iopub.status.idle": "2021-04-14T01:14:20.137298Z",
     "shell.execute_reply": "2021-04-14T01:14:20.136824Z"
    }
   },
   "outputs": [
    {
     "name": "stdout",
     "output_type": "stream",
     "text": [
      "PauliTable: ['YI', 'YX', 'ZI', 'ZX']\n"
     ]
    }
   ],
   "source": [
    "from qiskit.quantum_info.operators import PauliTable\n",
    "\n",
    "current = PauliTable.from_labels(['I', 'X'])\n",
    "other =  PauliTable.from_labels(['Y', 'Z'])\n",
    "print(current.expand(other))"
   ]
  },
  {
   "cell_type": "code",
   "execution_count": 4,
   "id": "10216a12",
   "metadata": {
    "execution": {
     "iopub.execute_input": "2021-04-14T01:14:20.144830Z",
     "iopub.status.busy": "2021-04-14T01:14:20.142466Z",
     "iopub.status.idle": "2021-04-14T01:14:20.146910Z",
     "shell.execute_reply": "2021-04-14T01:14:20.147386Z"
    }
   },
   "outputs": [
    {
     "name": "stdout",
     "output_type": "stream",
     "text": [
      "Initial Ordering\n",
      "PauliTable: ['IZ', 'ZX', 'YY', 'XZ', 'II', 'XI', 'XX', 'ZY', 'ZZ', 'XY', 'ZI', 'YX', 'YI', 'IX', 'IY', 'YZ']\n",
      "Lexicographically sorted\n",
      "PauliTable: ['II', 'IX', 'IY', 'IZ', 'XI', 'XX', 'XY', 'XZ', 'YI', 'YX', 'YY', 'YZ', 'ZI', 'ZX', 'ZY', 'ZZ']\n",
      "Weight sorted\n",
      "PauliTable: ['II', 'IX', 'IY', 'IZ', 'XI', 'YI', 'ZI', 'XX', 'XY', 'XZ', 'YX', 'YY', 'YZ', 'ZX', 'ZY', 'ZZ']\n"
     ]
    }
   ],
   "source": [
    "from numpy.random import shuffle\n",
    "from qiskit.quantum_info.operators import PauliTable\n",
    "\n",
    "# 2-qubit labels\n",
    "labels = ['II', 'IX', 'IY', 'IZ', 'XI', 'XX', 'XY', 'XZ',\n",
    "          'YI', 'YX', 'YY', 'YZ', 'ZI', 'ZX', 'ZY', 'ZZ']\n",
    "# Shuffle Labels\n",
    "shuffle(labels)\n",
    "pt = PauliTable.from_labels(labels)\n",
    "print('Initial Ordering')\n",
    "print(pt)\n",
    "\n",
    "# Lexicographic Ordering\n",
    "srt = pt.sort()\n",
    "print('Lexicographically sorted')\n",
    "print(srt)\n",
    "\n",
    "# Weight Ordering\n",
    "srt = pt.sort(weight=True)\n",
    "print('Weight sorted')\n",
    "print(srt)"
   ]
  },
  {
   "cell_type": "code",
   "execution_count": 5,
   "id": "d6fd72ff",
   "metadata": {
    "execution": {
     "iopub.execute_input": "2021-04-14T01:14:20.153709Z",
     "iopub.status.busy": "2021-04-14T01:14:20.152286Z",
     "iopub.status.idle": "2021-04-14T01:14:20.155603Z",
     "shell.execute_reply": "2021-04-14T01:14:20.155078Z"
    }
   },
   "outputs": [
    {
     "name": "stdout",
     "output_type": "stream",
     "text": [
      "PauliTable: ['IY', 'IZ', 'XY', 'XZ']\n"
     ]
    }
   ],
   "source": [
    "from qiskit.quantum_info.operators import PauliTable\n",
    "\n",
    "current = PauliTable.from_labels(['I', 'X'])\n",
    "other =  PauliTable.from_labels(['Y', 'Z'])\n",
    "print(current.tensor(other))"
   ]
  },
  {
   "cell_type": "code",
   "execution_count": 6,
   "id": "829ac3b0",
   "metadata": {
    "execution": {
     "iopub.execute_input": "2021-04-14T01:14:20.161862Z",
     "iopub.status.busy": "2021-04-14T01:14:20.160603Z",
     "iopub.status.idle": "2021-04-14T01:14:20.163786Z",
     "shell.execute_reply": "2021-04-14T01:14:20.163273Z"
    }
   },
   "outputs": [
    {
     "name": "stdout",
     "output_type": "stream",
     "text": [
      "PauliTable: ['X', 'Y', 'I', 'Z']\n"
     ]
    }
   ],
   "source": [
    "from qiskit.quantum_info.operators import PauliTable\n",
    "\n",
    "pt = PauliTable.from_labels(['X', 'Y', 'X', 'I', 'I', 'Z', 'X', 'Z'])\n",
    "unique = pt.unique()\n",
    "print(unique)"
   ]
  }
 ],
 "metadata": {
  "kernelspec": {
   "display_name": "Python 3",
   "language": "python",
   "name": "python3"
  },
  "language_info": {
   "codemirror_mode": {
    "name": "ipython",
    "version": 3
   },
   "file_extension": ".py",
   "mimetype": "text/x-python",
   "name": "python",
   "nbconvert_exporter": "python",
   "pygments_lexer": "ipython3",
   "version": "3.8.9"
  }
 },
 "nbformat": 4,
 "nbformat_minor": 5
}