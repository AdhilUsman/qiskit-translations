{
 "cells": [
  {
   "cell_type": "code",
   "execution_count": 1,
   "id": "67aef428",
   "metadata": {
    "execution": {
     "iopub.execute_input": "2021-04-12T18:48:11.071106Z",
     "iopub.status.busy": "2021-04-12T18:48:11.070588Z",
     "iopub.status.idle": "2021-04-12T18:48:11.791036Z",
     "shell.execute_reply": "2021-04-12T18:48:11.792039Z"
    }
   },
   "outputs": [
    {
     "name": "stdout",
     "output_type": "stream",
     "text": [
      "PauliTable: ['Y', 'Z', 'Z', 'Y']\n"
     ]
    }
   ],
   "source": [
    "from qiskit.quantum_info.operators import PauliTable\n",
    "\n",
    "current = PauliTable.from_labels(['I', 'X'])\n",
    "other =  PauliTable.from_labels(['Y', 'Z'])\n",
    "print(current.compose(other))"
   ]
  },
  {
   "cell_type": "code",
   "execution_count": 2,
   "id": "273526d5",
   "metadata": {
    "execution": {
     "iopub.execute_input": "2021-04-12T18:48:11.798251Z",
     "iopub.status.busy": "2021-04-12T18:48:11.797326Z",
     "iopub.status.idle": "2021-04-12T18:48:11.800869Z",
     "shell.execute_reply": "2021-04-12T18:48:11.801293Z"
    }
   },
   "outputs": [
    {
     "name": "stdout",
     "output_type": "stream",
     "text": [
      "PauliTable: ['Y', 'Z', 'Z', 'Y']\n"
     ]
    }
   ],
   "source": [
    "from qiskit.quantum_info.operators import PauliTable\n",
    "\n",
    "current = PauliTable.from_labels(['I', 'X'])\n",
    "other =  PauliTable.from_labels(['Y', 'Z'])\n",
    "print(current.dot(other))"
   ]
  },
  {
   "cell_type": "code",
   "execution_count": 3,
   "id": "77af3ab5",
   "metadata": {
    "execution": {
     "iopub.execute_input": "2021-04-12T18:48:11.807964Z",
     "iopub.status.busy": "2021-04-12T18:48:11.807329Z",
     "iopub.status.idle": "2021-04-12T18:48:11.809657Z",
     "shell.execute_reply": "2021-04-12T18:48:11.808477Z"
    }
   },
   "outputs": [
    {
     "name": "stdout",
     "output_type": "stream",
     "text": [
      "PauliTable: ['YI', 'YX', 'ZI', 'ZX']\n"
     ]
    }
   ],
   "source": [
    "from qiskit.quantum_info.operators import PauliTable\n",
    "\n",
    "current = PauliTable.from_labels(['I', 'X'])\n",
    "other =  PauliTable.from_labels(['Y', 'Z'])\n",
    "print(current.expand(other))"
   ]
  },
  {
   "cell_type": "code",
   "execution_count": 4,
   "id": "a3ce8e12",
   "metadata": {
    "execution": {
     "iopub.execute_input": "2021-04-12T18:48:11.816920Z",
     "iopub.status.busy": "2021-04-12T18:48:11.816338Z",
     "iopub.status.idle": "2021-04-12T18:48:11.819158Z",
     "shell.execute_reply": "2021-04-12T18:48:11.819586Z"
    }
   },
   "outputs": [
    {
     "name": "stdout",
     "output_type": "stream",
     "text": [
      "Initial Ordering\n",
      "PauliTable: ['II', 'IZ', 'IY', 'XX', 'XY', 'XZ', 'ZY', 'YY', 'ZX', 'XI', 'YZ', 'ZI', 'YX', 'YI', 'IX', 'ZZ']\n",
      "Lexicographically sorted\n",
      "PauliTable: ['II', 'IX', 'IY', 'IZ', 'XI', 'XX', 'XY', 'XZ', 'YI', 'YX', 'YY', 'YZ', 'ZI', 'ZX', 'ZY', 'ZZ']\n",
      "Weight sorted\n",
      "PauliTable: ['II', 'IX', 'IY', 'IZ', 'XI', 'YI', 'ZI', 'XX', 'XY', 'XZ', 'YX', 'YY', 'YZ', 'ZX', 'ZY', 'ZZ']\n"
     ]
    }
   ],
   "source": [
    "from numpy.random import shuffle\n",
    "from qiskit.quantum_info.operators import PauliTable\n",
    "\n",
    "# 2-qubit labels\n",
    "labels = ['II', 'IX', 'IY', 'IZ', 'XI', 'XX', 'XY', 'XZ',\n",
    "          'YI', 'YX', 'YY', 'YZ', 'ZI', 'ZX', 'ZY', 'ZZ']\n",
    "# Shuffle Labels\n",
    "shuffle(labels)\n",
    "pt = PauliTable.from_labels(labels)\n",
    "print('Initial Ordering')\n",
    "print(pt)\n",
    "\n",
    "# Lexicographic Ordering\n",
    "srt = pt.sort()\n",
    "print('Lexicographically sorted')\n",
    "print(srt)\n",
    "\n",
    "# Weight Ordering\n",
    "srt = pt.sort(weight=True)\n",
    "print('Weight sorted')\n",
    "print(srt)"
   ]
  },
  {
   "cell_type": "code",
   "execution_count": 5,
   "id": "512b5870",
   "metadata": {
    "execution": {
     "iopub.execute_input": "2021-04-12T18:48:11.825444Z",
     "iopub.status.busy": "2021-04-12T18:48:11.824118Z",
     "iopub.status.idle": "2021-04-12T18:48:11.827165Z",
     "shell.execute_reply": "2021-04-12T18:48:11.826703Z"
    }
   },
   "outputs": [
    {
     "name": "stdout",
     "output_type": "stream",
     "text": [
      "PauliTable: ['IY', 'IZ', 'XY', 'XZ']\n"
     ]
    }
   ],
   "source": [
    "from qiskit.quantum_info.operators import PauliTable\n",
    "\n",
    "current = PauliTable.from_labels(['I', 'X'])\n",
    "other =  PauliTable.from_labels(['Y', 'Z'])\n",
    "print(current.tensor(other))"
   ]
  },
  {
   "cell_type": "code",
   "execution_count": 6,
   "id": "10f4a458",
   "metadata": {
    "execution": {
     "iopub.execute_input": "2021-04-12T18:48:11.832789Z",
     "iopub.status.busy": "2021-04-12T18:48:11.831491Z",
     "iopub.status.idle": "2021-04-12T18:48:11.834759Z",
     "shell.execute_reply": "2021-04-12T18:48:11.834254Z"
    }
   },
   "outputs": [
    {
     "name": "stdout",
     "output_type": "stream",
     "text": [
      "PauliTable: ['X', 'Y', 'I', 'Z']\n"
     ]
    }
   ],
   "source": [
    "from qiskit.quantum_info.operators import PauliTable\n",
    "\n",
    "pt = PauliTable.from_labels(['X', 'Y', 'X', 'I', 'I', 'Z', 'X', 'Z'])\n",
    "unique = pt.unique()\n",
    "print(unique)"
   ]
  }
 ],
 "metadata": {
  "kernelspec": {
   "display_name": "Python 3",
   "language": "python",
   "name": "python3"
  },
  "language_info": {
   "codemirror_mode": {
    "name": "ipython",
    "version": 3
   },
   "file_extension": ".py",
   "mimetype": "text/x-python",
   "name": "python",
   "nbconvert_exporter": "python",
   "pygments_lexer": "ipython3",
   "version": "3.8.8"
  }
 },
 "nbformat": 4,
 "nbformat_minor": 5
}