{
 "cells": [
  {
   "cell_type": "code",
   "execution_count": 1,
   "id": "level-cisco",
   "metadata": {
    "execution": {
     "iopub.execute_input": "2021-04-01T14:58:43.895528Z",
     "iopub.status.busy": "2021-04-01T14:58:43.895072Z",
     "iopub.status.idle": "2021-04-01T14:58:45.481001Z",
     "shell.execute_reply": "2021-04-01T14:58:45.480153Z"
    }
   },
   "outputs": [
    {
     "name": "stdout",
     "output_type": "stream",
     "text": [
      "PauliTable: ['Y', 'Z', 'Z', 'Y']\n"
     ]
    }
   ],
   "source": [
    "from qiskit.quantum_info.operators import PauliTable\n",
    "\n",
    "current = PauliTable.from_labels(['I', 'X'])\n",
    "other =  PauliTable.from_labels(['Y', 'Z'])\n",
    "print(current.compose(other))"
   ]
  },
  {
   "cell_type": "code",
   "execution_count": 2,
   "id": "bored-spine",
   "metadata": {
    "execution": {
     "iopub.execute_input": "2021-04-01T14:58:45.485504Z",
     "iopub.status.busy": "2021-04-01T14:58:45.485042Z",
     "iopub.status.idle": "2021-04-01T14:58:45.488481Z",
     "shell.execute_reply": "2021-04-01T14:58:45.488875Z"
    }
   },
   "outputs": [
    {
     "name": "stdout",
     "output_type": "stream",
     "text": [
      "PauliTable: ['Y', 'Z', 'Z', 'Y']\n"
     ]
    }
   ],
   "source": [
    "from qiskit.quantum_info.operators import PauliTable\n",
    "\n",
    "current = PauliTable.from_labels(['I', 'X'])\n",
    "other =  PauliTable.from_labels(['Y', 'Z'])\n",
    "print(current.dot(other))"
   ]
  },
  {
   "cell_type": "code",
   "execution_count": 3,
   "id": "white-tower",
   "metadata": {
    "execution": {
     "iopub.execute_input": "2021-04-01T14:58:45.492846Z",
     "iopub.status.busy": "2021-04-01T14:58:45.492372Z",
     "iopub.status.idle": "2021-04-01T14:58:45.495600Z",
     "shell.execute_reply": "2021-04-01T14:58:45.495208Z"
    }
   },
   "outputs": [
    {
     "name": "stdout",
     "output_type": "stream",
     "text": [
      "PauliTable: ['YI', 'ZI', 'YX', 'ZX']\n"
     ]
    }
   ],
   "source": [
    "from qiskit.quantum_info.operators import PauliTable\n",
    "\n",
    "current = PauliTable.from_labels(['I', 'X'])\n",
    "other =  PauliTable.from_labels(['Y', 'Z'])\n",
    "print(current.expand(other))"
   ]
  },
  {
   "cell_type": "code",
   "execution_count": 4,
   "id": "leading-modeling",
   "metadata": {
    "execution": {
     "iopub.execute_input": "2021-04-01T14:58:45.500974Z",
     "iopub.status.busy": "2021-04-01T14:58:45.499888Z",
     "iopub.status.idle": "2021-04-01T14:58:45.504665Z",
     "shell.execute_reply": "2021-04-01T14:58:45.504264Z"
    }
   },
   "outputs": [
    {
     "name": "stdout",
     "output_type": "stream",
     "text": [
      "Initial Ordering\n",
      "PauliTable: ['YI', 'ZI', 'IZ', 'YZ', 'ZX', 'XZ', 'IX', 'ZY', 'ZZ', 'II', 'YX', 'XI', 'XY', 'YY', 'XX', 'IY']\n",
      "Lexicographically sorted\n",
      "PauliTable: ['II', 'IX', 'IY', 'IZ', 'XI', 'XX', 'XY', 'XZ', 'YI', 'YX', 'YY', 'YZ', 'ZI', 'ZX', 'ZY', 'ZZ']\n",
      "Weight sorted\n",
      "PauliTable: ['II', 'IX', 'IY', 'IZ', 'XI', 'YI', 'ZI', 'XX', 'XY', 'XZ', 'YX', 'YY', 'YZ', 'ZX', 'ZY', 'ZZ']\n"
     ]
    }
   ],
   "source": [
    "from numpy.random import shuffle\n",
    "from qiskit.quantum_info.operators import PauliTable\n",
    "\n",
    "# 2-qubit labels\n",
    "labels = ['II', 'IX', 'IY', 'IZ', 'XI', 'XX', 'XY', 'XZ',\n",
    "          'YI', 'YX', 'YY', 'YZ', 'ZI', 'ZX', 'ZY', 'ZZ']\n",
    "# Shuffle Labels\n",
    "shuffle(labels)\n",
    "pt = PauliTable.from_labels(labels)\n",
    "print('Initial Ordering')\n",
    "print(pt)\n",
    "\n",
    "# Lexicographic Ordering\n",
    "srt = pt.sort()\n",
    "print('Lexicographically sorted')\n",
    "print(srt)\n",
    "\n",
    "# Weight Ordering\n",
    "srt = pt.sort(weight=True)\n",
    "print('Weight sorted')\n",
    "print(srt)"
   ]
  },
  {
   "cell_type": "code",
   "execution_count": 5,
   "id": "devoted-memory",
   "metadata": {
    "execution": {
     "iopub.execute_input": "2021-04-01T14:58:45.508378Z",
     "iopub.status.busy": "2021-04-01T14:58:45.507941Z",
     "iopub.status.idle": "2021-04-01T14:58:45.510976Z",
     "shell.execute_reply": "2021-04-01T14:58:45.510587Z"
    }
   },
   "outputs": [
    {
     "name": "stdout",
     "output_type": "stream",
     "text": [
      "PauliTable: ['IY', 'IZ', 'XY', 'XZ']\n"
     ]
    }
   ],
   "source": [
    "from qiskit.quantum_info.operators import PauliTable\n",
    "\n",
    "current = PauliTable.from_labels(['I', 'X'])\n",
    "other =  PauliTable.from_labels(['Y', 'Z'])\n",
    "print(current.tensor(other))"
   ]
  },
  {
   "cell_type": "code",
   "execution_count": 6,
   "id": "crude-eight",
   "metadata": {
    "execution": {
     "iopub.execute_input": "2021-04-01T14:58:45.514850Z",
     "iopub.status.busy": "2021-04-01T14:58:45.514414Z",
     "iopub.status.idle": "2021-04-01T14:58:45.517228Z",
     "shell.execute_reply": "2021-04-01T14:58:45.517575Z"
    }
   },
   "outputs": [
    {
     "name": "stdout",
     "output_type": "stream",
     "text": [
      "PauliTable: ['X', 'Y', 'I', 'Z']\n"
     ]
    }
   ],
   "source": [
    "from qiskit.quantum_info.operators import PauliTable\n",
    "\n",
    "pt = PauliTable.from_labels(['X', 'Y', 'X', 'I', 'I', 'Z', 'X', 'Z'])\n",
    "unique = pt.unique()\n",
    "print(unique)"
   ]
  }
 ],
 "metadata": {
  "kernelspec": {
   "display_name": "Python 3",
   "language": "python",
   "name": "python3"
  },
  "language_info": {
   "codemirror_mode": {
    "name": "ipython",
    "version": 3
   },
   "file_extension": ".py",
   "mimetype": "text/x-python",
   "name": "python",
   "nbconvert_exporter": "python",
   "pygments_lexer": "ipython3",
   "version": "3.8.8"
  }
 },
 "nbformat": 4,
 "nbformat_minor": 5
}