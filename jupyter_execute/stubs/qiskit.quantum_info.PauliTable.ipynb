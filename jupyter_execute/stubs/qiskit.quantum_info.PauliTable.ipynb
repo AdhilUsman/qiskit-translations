{
 "cells": [
  {
   "cell_type": "code",
   "execution_count": 1,
   "id": "f35d933b",
   "metadata": {
    "execution": {
     "iopub.execute_input": "2021-06-18T15:06:34.268548Z",
     "iopub.status.busy": "2021-06-18T15:06:34.267925Z",
     "iopub.status.idle": "2021-06-18T15:06:35.011091Z",
     "shell.execute_reply": "2021-06-18T15:06:35.010200Z"
    }
   },
   "outputs": [
    {
     "name": "stdout",
     "output_type": "stream",
     "text": [
      "PauliTable: ['Y', 'Z', 'Z', 'Y']\n"
     ]
    }
   ],
   "source": [
    "from qiskit.quantum_info.operators import PauliTable\n",
    "\n",
    "current = PauliTable.from_labels(['I', 'X'])\n",
    "other =  PauliTable.from_labels(['Y', 'Z'])\n",
    "print(current.compose(other))"
   ]
  },
  {
   "cell_type": "code",
   "execution_count": 2,
   "id": "30554b52",
   "metadata": {
    "execution": {
     "iopub.execute_input": "2021-06-18T15:06:35.016049Z",
     "iopub.status.busy": "2021-06-18T15:06:35.015515Z",
     "iopub.status.idle": "2021-06-18T15:06:35.019336Z",
     "shell.execute_reply": "2021-06-18T15:06:35.019769Z"
    }
   },
   "outputs": [
    {
     "name": "stdout",
     "output_type": "stream",
     "text": [
      "PauliTable: ['Y', 'Z', 'Z', 'Y']\n"
     ]
    }
   ],
   "source": [
    "from qiskit.quantum_info.operators import PauliTable\n",
    "\n",
    "current = PauliTable.from_labels(['I', 'X'])\n",
    "other =  PauliTable.from_labels(['Y', 'Z'])\n",
    "print(current.dot(other))"
   ]
  },
  {
   "cell_type": "code",
   "execution_count": 3,
   "id": "fbcf0982",
   "metadata": {
    "execution": {
     "iopub.execute_input": "2021-06-18T15:06:35.024609Z",
     "iopub.status.busy": "2021-06-18T15:06:35.024020Z",
     "iopub.status.idle": "2021-06-18T15:06:35.027017Z",
     "shell.execute_reply": "2021-06-18T15:06:35.027436Z"
    }
   },
   "outputs": [
    {
     "name": "stdout",
     "output_type": "stream",
     "text": [
      "PauliTable: ['YI', 'YX', 'ZI', 'ZX']\n"
     ]
    }
   ],
   "source": [
    "from qiskit.quantum_info.operators import PauliTable\n",
    "\n",
    "current = PauliTable.from_labels(['I', 'X'])\n",
    "other =  PauliTable.from_labels(['Y', 'Z'])\n",
    "print(current.expand(other))"
   ]
  },
  {
   "cell_type": "code",
   "execution_count": 4,
   "id": "b9ed2cd1",
   "metadata": {
    "execution": {
     "iopub.execute_input": "2021-06-18T15:06:35.033008Z",
     "iopub.status.busy": "2021-06-18T15:06:35.029494Z",
     "iopub.status.idle": "2021-06-18T15:06:35.040857Z",
     "shell.execute_reply": "2021-06-18T15:06:35.039699Z"
    }
   },
   "outputs": [
    {
     "name": "stdout",
     "output_type": "stream",
     "text": [
      "Initial Ordering\n",
      "PauliTable: ['YZ', 'ZZ', 'XZ', 'II', 'IX', 'YI', 'XY', 'ZX', 'IZ', 'YY', 'YX', 'ZY', 'XX', 'IY', 'XI', 'ZI']\n",
      "Lexicographically sorted\n",
      "PauliTable: ['II', 'IX', 'IY', 'IZ', 'XI', 'XX', 'XY', 'XZ', 'YI', 'YX', 'YY', 'YZ', 'ZI', 'ZX', 'ZY', 'ZZ']\n",
      "Weight sorted\n",
      "PauliTable: ['II', 'IX', 'IY', 'IZ', 'XI', 'YI', 'ZI', 'XX', 'XY', 'XZ', 'YX', 'YY', 'YZ', 'ZX', 'ZY', 'ZZ']\n"
     ]
    }
   ],
   "source": [
    "from numpy.random import shuffle\n",
    "from qiskit.quantum_info.operators import PauliTable\n",
    "\n",
    "# 2-qubit labels\n",
    "labels = ['II', 'IX', 'IY', 'IZ', 'XI', 'XX', 'XY', 'XZ',\n",
    "          'YI', 'YX', 'YY', 'YZ', 'ZI', 'ZX', 'ZY', 'ZZ']\n",
    "# Shuffle Labels\n",
    "shuffle(labels)\n",
    "pt = PauliTable.from_labels(labels)\n",
    "print('Initial Ordering')\n",
    "print(pt)\n",
    "\n",
    "# Lexicographic Ordering\n",
    "srt = pt.sort()\n",
    "print('Lexicographically sorted')\n",
    "print(srt)\n",
    "\n",
    "# Weight Ordering\n",
    "srt = pt.sort(weight=True)\n",
    "print('Weight sorted')\n",
    "print(srt)"
   ]
  },
  {
   "cell_type": "code",
   "execution_count": 5,
   "id": "1faeb419",
   "metadata": {
    "execution": {
     "iopub.execute_input": "2021-06-18T15:06:35.045626Z",
     "iopub.status.busy": "2021-06-18T15:06:35.044961Z",
     "iopub.status.idle": "2021-06-18T15:06:35.050060Z",
     "shell.execute_reply": "2021-06-18T15:06:35.049437Z"
    }
   },
   "outputs": [
    {
     "name": "stdout",
     "output_type": "stream",
     "text": [
      "PauliTable: ['IY', 'IZ', 'XY', 'XZ']\n"
     ]
    }
   ],
   "source": [
    "from qiskit.quantum_info.operators import PauliTable\n",
    "\n",
    "current = PauliTable.from_labels(['I', 'X'])\n",
    "other =  PauliTable.from_labels(['Y', 'Z'])\n",
    "print(current.tensor(other))"
   ]
  },
  {
   "cell_type": "code",
   "execution_count": 6,
   "id": "836dcb35",
   "metadata": {
    "execution": {
     "iopub.execute_input": "2021-06-18T15:06:35.056417Z",
     "iopub.status.busy": "2021-06-18T15:06:35.055716Z",
     "iopub.status.idle": "2021-06-18T15:06:35.059930Z",
     "shell.execute_reply": "2021-06-18T15:06:35.059494Z"
    }
   },
   "outputs": [
    {
     "name": "stdout",
     "output_type": "stream",
     "text": [
      "PauliTable: ['X', 'Y', 'I', 'Z']\n"
     ]
    }
   ],
   "source": [
    "from qiskit.quantum_info.operators import PauliTable\n",
    "\n",
    "pt = PauliTable.from_labels(['X', 'Y', 'X', 'I', 'I', 'Z', 'X', 'Z'])\n",
    "unique = pt.unique()\n",
    "print(unique)"
   ]
  }
 ],
 "metadata": {
  "kernelspec": {
   "display_name": "Python 3",
   "language": "python",
   "name": "python3"
  },
  "language_info": {
   "codemirror_mode": {
    "name": "ipython",
    "version": 3
   },
   "file_extension": ".py",
   "mimetype": "text/x-python",
   "name": "python",
   "nbconvert_exporter": "python",
   "pygments_lexer": "ipython3",
   "version": "3.8.10"
  }
 },
 "nbformat": 4,
 "nbformat_minor": 5
}