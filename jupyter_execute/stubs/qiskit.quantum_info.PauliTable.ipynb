{
 "cells": [
  {
   "cell_type": "code",
   "execution_count": 1,
   "id": "5bd87329",
   "metadata": {
    "execution": {
     "iopub.execute_input": "2021-05-04T09:29:21.544414Z",
     "iopub.status.busy": "2021-05-04T09:29:21.543823Z",
     "iopub.status.idle": "2021-05-04T09:29:22.206845Z",
     "shell.execute_reply": "2021-05-04T09:29:22.207352Z"
    }
   },
   "outputs": [
    {
     "name": "stdout",
     "output_type": "stream",
     "text": [
      "PauliTable: ['Y', 'Z', 'Z', 'Y']\n"
     ]
    }
   ],
   "source": [
    "from qiskit.quantum_info.operators import PauliTable\n",
    "\n",
    "current = PauliTable.from_labels(['I', 'X'])\n",
    "other =  PauliTable.from_labels(['Y', 'Z'])\n",
    "print(current.compose(other))"
   ]
  },
  {
   "cell_type": "code",
   "execution_count": 2,
   "id": "0315930b",
   "metadata": {
    "execution": {
     "iopub.execute_input": "2021-05-04T09:29:22.213789Z",
     "iopub.status.busy": "2021-05-04T09:29:22.212492Z",
     "iopub.status.idle": "2021-05-04T09:29:22.215600Z",
     "shell.execute_reply": "2021-05-04T09:29:22.215098Z"
    }
   },
   "outputs": [
    {
     "name": "stdout",
     "output_type": "stream",
     "text": [
      "PauliTable: ['Y', 'Z', 'Z', 'Y']\n"
     ]
    }
   ],
   "source": [
    "from qiskit.quantum_info.operators import PauliTable\n",
    "\n",
    "current = PauliTable.from_labels(['I', 'X'])\n",
    "other =  PauliTable.from_labels(['Y', 'Z'])\n",
    "print(current.dot(other))"
   ]
  },
  {
   "cell_type": "code",
   "execution_count": 3,
   "id": "d052eabf",
   "metadata": {
    "execution": {
     "iopub.execute_input": "2021-05-04T09:29:22.222017Z",
     "iopub.status.busy": "2021-05-04T09:29:22.220270Z",
     "iopub.status.idle": "2021-05-04T09:29:22.223706Z",
     "shell.execute_reply": "2021-05-04T09:29:22.222561Z"
    }
   },
   "outputs": [
    {
     "name": "stdout",
     "output_type": "stream",
     "text": [
      "PauliTable: ['YI', 'YX', 'ZI', 'ZX']\n"
     ]
    }
   ],
   "source": [
    "from qiskit.quantum_info.operators import PauliTable\n",
    "\n",
    "current = PauliTable.from_labels(['I', 'X'])\n",
    "other =  PauliTable.from_labels(['Y', 'Z'])\n",
    "print(current.expand(other))"
   ]
  },
  {
   "cell_type": "code",
   "execution_count": 4,
   "id": "0ea9d545",
   "metadata": {
    "execution": {
     "iopub.execute_input": "2021-05-04T09:29:22.231615Z",
     "iopub.status.busy": "2021-05-04T09:29:22.229279Z",
     "iopub.status.idle": "2021-05-04T09:29:22.233705Z",
     "shell.execute_reply": "2021-05-04T09:29:22.234166Z"
    }
   },
   "outputs": [
    {
     "name": "stdout",
     "output_type": "stream",
     "text": [
      "Initial Ordering\n",
      "PauliTable: ['YX', 'IY', 'XI', 'ZY', 'YZ', 'IX', 'ZI', 'YI', 'ZZ', 'II', 'XZ', 'XY', 'IZ', 'XX', 'ZX', 'YY']\n",
      "Lexicographically sorted\n",
      "PauliTable: ['II', 'IX', 'IY', 'IZ', 'XI', 'XX', 'XY', 'XZ', 'YI', 'YX', 'YY', 'YZ', 'ZI', 'ZX', 'ZY', 'ZZ']\n",
      "Weight sorted\n",
      "PauliTable: ['II', 'IX', 'IY', 'IZ', 'XI', 'YI', 'ZI', 'XX', 'XY', 'XZ', 'YX', 'YY', 'YZ', 'ZX', 'ZY', 'ZZ']\n"
     ]
    }
   ],
   "source": [
    "from numpy.random import shuffle\n",
    "from qiskit.quantum_info.operators import PauliTable\n",
    "\n",
    "# 2-qubit labels\n",
    "labels = ['II', 'IX', 'IY', 'IZ', 'XI', 'XX', 'XY', 'XZ',\n",
    "          'YI', 'YX', 'YY', 'YZ', 'ZI', 'ZX', 'ZY', 'ZZ']\n",
    "# Shuffle Labels\n",
    "shuffle(labels)\n",
    "pt = PauliTable.from_labels(labels)\n",
    "print('Initial Ordering')\n",
    "print(pt)\n",
    "\n",
    "# Lexicographic Ordering\n",
    "srt = pt.sort()\n",
    "print('Lexicographically sorted')\n",
    "print(srt)\n",
    "\n",
    "# Weight Ordering\n",
    "srt = pt.sort(weight=True)\n",
    "print('Weight sorted')\n",
    "print(srt)"
   ]
  },
  {
   "cell_type": "code",
   "execution_count": 5,
   "id": "a367fed2",
   "metadata": {
    "execution": {
     "iopub.execute_input": "2021-05-04T09:29:22.240179Z",
     "iopub.status.busy": "2021-05-04T09:29:22.238800Z",
     "iopub.status.idle": "2021-05-04T09:29:22.242045Z",
     "shell.execute_reply": "2021-05-04T09:29:22.241476Z"
    }
   },
   "outputs": [
    {
     "name": "stdout",
     "output_type": "stream",
     "text": [
      "PauliTable: ['IY', 'IZ', 'XY', 'XZ']\n"
     ]
    }
   ],
   "source": [
    "from qiskit.quantum_info.operators import PauliTable\n",
    "\n",
    "current = PauliTable.from_labels(['I', 'X'])\n",
    "other =  PauliTable.from_labels(['Y', 'Z'])\n",
    "print(current.tensor(other))"
   ]
  },
  {
   "cell_type": "code",
   "execution_count": 6,
   "id": "058e4af8",
   "metadata": {
    "execution": {
     "iopub.execute_input": "2021-05-04T09:29:22.247952Z",
     "iopub.status.busy": "2021-05-04T09:29:22.246532Z",
     "iopub.status.idle": "2021-05-04T09:29:22.250261Z",
     "shell.execute_reply": "2021-05-04T09:29:22.249787Z"
    }
   },
   "outputs": [
    {
     "name": "stdout",
     "output_type": "stream",
     "text": [
      "PauliTable: ['X', 'Y', 'I', 'Z']\n"
     ]
    }
   ],
   "source": [
    "from qiskit.quantum_info.operators import PauliTable\n",
    "\n",
    "pt = PauliTable.from_labels(['X', 'Y', 'X', 'I', 'I', 'Z', 'X', 'Z'])\n",
    "unique = pt.unique()\n",
    "print(unique)"
   ]
  }
 ],
 "metadata": {
  "kernelspec": {
   "display_name": "Python 3",
   "language": "python",
   "name": "python3"
  },
  "language_info": {
   "codemirror_mode": {
    "name": "ipython",
    "version": 3
   },
   "file_extension": ".py",
   "mimetype": "text/x-python",
   "name": "python",
   "nbconvert_exporter": "python",
   "pygments_lexer": "ipython3",
   "version": "3.8.9"
  }
 },
 "nbformat": 4,
 "nbformat_minor": 5
}