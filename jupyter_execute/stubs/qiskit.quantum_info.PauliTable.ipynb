{
 "cells": [
  {
   "cell_type": "code",
   "execution_count": 1,
   "id": "6a0ef96b",
   "metadata": {
    "execution": {
     "iopub.execute_input": "2021-06-14T16:51:44.148205Z",
     "iopub.status.busy": "2021-06-14T16:51:44.147424Z",
     "iopub.status.idle": "2021-06-14T16:51:44.800829Z",
     "shell.execute_reply": "2021-06-14T16:51:44.800261Z"
    }
   },
   "outputs": [
    {
     "name": "stdout",
     "output_type": "stream",
     "text": [
      "PauliTable: ['Y', 'Z', 'Z', 'Y']\n"
     ]
    }
   ],
   "source": [
    "from qiskit.quantum_info.operators import PauliTable\n",
    "\n",
    "current = PauliTable.from_labels(['I', 'X'])\n",
    "other =  PauliTable.from_labels(['Y', 'Z'])\n",
    "print(current.compose(other))"
   ]
  },
  {
   "cell_type": "code",
   "execution_count": 2,
   "id": "73c0b444",
   "metadata": {
    "execution": {
     "iopub.execute_input": "2021-06-14T16:51:44.806145Z",
     "iopub.status.busy": "2021-06-14T16:51:44.805616Z",
     "iopub.status.idle": "2021-06-14T16:51:44.809390Z",
     "shell.execute_reply": "2021-06-14T16:51:44.808932Z"
    }
   },
   "outputs": [
    {
     "name": "stdout",
     "output_type": "stream",
     "text": [
      "PauliTable: ['Y', 'Z', 'Z', 'Y']\n"
     ]
    }
   ],
   "source": [
    "from qiskit.quantum_info.operators import PauliTable\n",
    "\n",
    "current = PauliTable.from_labels(['I', 'X'])\n",
    "other =  PauliTable.from_labels(['Y', 'Z'])\n",
    "print(current.dot(other))"
   ]
  },
  {
   "cell_type": "code",
   "execution_count": 3,
   "id": "64c0798d",
   "metadata": {
    "execution": {
     "iopub.execute_input": "2021-06-14T16:51:44.814887Z",
     "iopub.status.busy": "2021-06-14T16:51:44.813649Z",
     "iopub.status.idle": "2021-06-14T16:51:44.816566Z",
     "shell.execute_reply": "2021-06-14T16:51:44.816127Z"
    }
   },
   "outputs": [
    {
     "name": "stdout",
     "output_type": "stream",
     "text": [
      "PauliTable: ['YI', 'YX', 'ZI', 'ZX']\n"
     ]
    }
   ],
   "source": [
    "from qiskit.quantum_info.operators import PauliTable\n",
    "\n",
    "current = PauliTable.from_labels(['I', 'X'])\n",
    "other =  PauliTable.from_labels(['Y', 'Z'])\n",
    "print(current.expand(other))"
   ]
  },
  {
   "cell_type": "code",
   "execution_count": 4,
   "id": "989ad63d",
   "metadata": {
    "execution": {
     "iopub.execute_input": "2021-06-14T16:51:44.823490Z",
     "iopub.status.busy": "2021-06-14T16:51:44.822915Z",
     "iopub.status.idle": "2021-06-14T16:51:44.825538Z",
     "shell.execute_reply": "2021-06-14T16:51:44.825941Z"
    }
   },
   "outputs": [
    {
     "name": "stdout",
     "output_type": "stream",
     "text": [
      "Initial Ordering\n",
      "PauliTable: ['ZY', 'YX', 'ZX', 'XI', 'II', 'IZ', 'ZZ', 'XY', 'YZ', 'YY', 'XZ', 'XX', 'YI', 'IX', 'IY', 'ZI']\n",
      "Lexicographically sorted\n",
      "PauliTable: ['II', 'IX', 'IY', 'IZ', 'XI', 'XX', 'XY', 'XZ', 'YI', 'YX', 'YY', 'YZ', 'ZI', 'ZX', 'ZY', 'ZZ']\n",
      "Weight sorted\n",
      "PauliTable: ['II', 'IX', 'IY', 'IZ', 'XI', 'YI', 'ZI', 'XX', 'XY', 'XZ', 'YX', 'YY', 'YZ', 'ZX', 'ZY', 'ZZ']\n"
     ]
    }
   ],
   "source": [
    "from numpy.random import shuffle\n",
    "from qiskit.quantum_info.operators import PauliTable\n",
    "\n",
    "# 2-qubit labels\n",
    "labels = ['II', 'IX', 'IY', 'IZ', 'XI', 'XX', 'XY', 'XZ',\n",
    "          'YI', 'YX', 'YY', 'YZ', 'ZI', 'ZX', 'ZY', 'ZZ']\n",
    "# Shuffle Labels\n",
    "shuffle(labels)\n",
    "pt = PauliTable.from_labels(labels)\n",
    "print('Initial Ordering')\n",
    "print(pt)\n",
    "\n",
    "# Lexicographic Ordering\n",
    "srt = pt.sort()\n",
    "print('Lexicographically sorted')\n",
    "print(srt)\n",
    "\n",
    "# Weight Ordering\n",
    "srt = pt.sort(weight=True)\n",
    "print('Weight sorted')\n",
    "print(srt)"
   ]
  },
  {
   "cell_type": "code",
   "execution_count": 5,
   "id": "9c53b232",
   "metadata": {
    "execution": {
     "iopub.execute_input": "2021-06-14T16:51:44.830939Z",
     "iopub.status.busy": "2021-06-14T16:51:44.829868Z",
     "iopub.status.idle": "2021-06-14T16:51:44.832619Z",
     "shell.execute_reply": "2021-06-14T16:51:44.832157Z"
    }
   },
   "outputs": [
    {
     "name": "stdout",
     "output_type": "stream",
     "text": [
      "PauliTable: ['IY', 'IZ', 'XY', 'XZ']\n"
     ]
    }
   ],
   "source": [
    "from qiskit.quantum_info.operators import PauliTable\n",
    "\n",
    "current = PauliTable.from_labels(['I', 'X'])\n",
    "other =  PauliTable.from_labels(['Y', 'Z'])\n",
    "print(current.tensor(other))"
   ]
  },
  {
   "cell_type": "code",
   "execution_count": 6,
   "id": "d8cef120",
   "metadata": {
    "execution": {
     "iopub.execute_input": "2021-06-14T16:51:44.836926Z",
     "iopub.status.busy": "2021-06-14T16:51:44.836389Z",
     "iopub.status.idle": "2021-06-14T16:51:44.840627Z",
     "shell.execute_reply": "2021-06-14T16:51:44.840146Z"
    }
   },
   "outputs": [
    {
     "name": "stdout",
     "output_type": "stream",
     "text": [
      "PauliTable: ['X', 'Y', 'I', 'Z']\n"
     ]
    }
   ],
   "source": [
    "from qiskit.quantum_info.operators import PauliTable\n",
    "\n",
    "pt = PauliTable.from_labels(['X', 'Y', 'X', 'I', 'I', 'Z', 'X', 'Z'])\n",
    "unique = pt.unique()\n",
    "print(unique)"
   ]
  }
 ],
 "metadata": {
  "kernelspec": {
   "display_name": "Python 3",
   "language": "python",
   "name": "python3"
  },
  "language_info": {
   "codemirror_mode": {
    "name": "ipython",
    "version": 3
   },
   "file_extension": ".py",
   "mimetype": "text/x-python",
   "name": "python",
   "nbconvert_exporter": "python",
   "pygments_lexer": "ipython3",
   "version": "3.8.10"
  }
 },
 "nbformat": 4,
 "nbformat_minor": 5
}