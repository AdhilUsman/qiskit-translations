{
 "cells": [
  {
   "cell_type": "code",
   "execution_count": 1,
   "id": "c56fe99d",
   "metadata": {
    "execution": {
     "iopub.execute_input": "2021-04-22T19:01:11.328878Z",
     "iopub.status.busy": "2021-04-22T19:01:11.328315Z",
     "iopub.status.idle": "2021-04-22T19:01:11.927791Z",
     "shell.execute_reply": "2021-04-22T19:01:11.928188Z"
    }
   },
   "outputs": [
    {
     "name": "stdout",
     "output_type": "stream",
     "text": [
      "PauliTable: ['Y', 'Z', 'Z', 'Y']\n"
     ]
    }
   ],
   "source": [
    "from qiskit.quantum_info.operators import PauliTable\n",
    "\n",
    "current = PauliTable.from_labels(['I', 'X'])\n",
    "other =  PauliTable.from_labels(['Y', 'Z'])\n",
    "print(current.compose(other))"
   ]
  },
  {
   "cell_type": "code",
   "execution_count": 2,
   "id": "81564bf5",
   "metadata": {
    "execution": {
     "iopub.execute_input": "2021-04-22T19:01:11.934140Z",
     "iopub.status.busy": "2021-04-22T19:01:11.933346Z",
     "iopub.status.idle": "2021-04-22T19:01:11.935899Z",
     "shell.execute_reply": "2021-04-22T19:01:11.936296Z"
    }
   },
   "outputs": [
    {
     "name": "stdout",
     "output_type": "stream",
     "text": [
      "PauliTable: ['Y', 'Z', 'Z', 'Y']\n"
     ]
    }
   ],
   "source": [
    "from qiskit.quantum_info.operators import PauliTable\n",
    "\n",
    "current = PauliTable.from_labels(['I', 'X'])\n",
    "other =  PauliTable.from_labels(['Y', 'Z'])\n",
    "print(current.dot(other))"
   ]
  },
  {
   "cell_type": "code",
   "execution_count": 3,
   "id": "6fb404e5",
   "metadata": {
    "execution": {
     "iopub.execute_input": "2021-04-22T19:01:11.942241Z",
     "iopub.status.busy": "2021-04-22T19:01:11.941286Z",
     "iopub.status.idle": "2021-04-22T19:01:11.944163Z",
     "shell.execute_reply": "2021-04-22T19:01:11.943803Z"
    }
   },
   "outputs": [
    {
     "name": "stdout",
     "output_type": "stream",
     "text": [
      "PauliTable: ['YI', 'YX', 'ZI', 'ZX']\n"
     ]
    }
   ],
   "source": [
    "from qiskit.quantum_info.operators import PauliTable\n",
    "\n",
    "current = PauliTable.from_labels(['I', 'X'])\n",
    "other =  PauliTable.from_labels(['Y', 'Z'])\n",
    "print(current.expand(other))"
   ]
  },
  {
   "cell_type": "code",
   "execution_count": 4,
   "id": "56155834",
   "metadata": {
    "execution": {
     "iopub.execute_input": "2021-04-22T19:01:11.949952Z",
     "iopub.status.busy": "2021-04-22T19:01:11.949164Z",
     "iopub.status.idle": "2021-04-22T19:01:11.953179Z",
     "shell.execute_reply": "2021-04-22T19:01:11.952621Z"
    }
   },
   "outputs": [
    {
     "name": "stdout",
     "output_type": "stream",
     "text": [
      "Initial Ordering\n",
      "PauliTable: ['XX', 'IX', 'YZ', 'ZY', 'XY', 'YY', 'ZZ', 'II', 'IZ', 'XI', 'IY', 'YI', 'YX', 'ZX', 'XZ', 'ZI']\n",
      "Lexicographically sorted\n",
      "PauliTable: ['II', 'IX', 'IY', 'IZ', 'XI', 'XX', 'XY', 'XZ', 'YI', 'YX', 'YY', 'YZ', 'ZI', 'ZX', 'ZY', 'ZZ']\n",
      "Weight sorted\n",
      "PauliTable: ['II', 'IX', 'IY', 'IZ', 'XI', 'YI', 'ZI', 'XX', 'XY', 'XZ', 'YX', 'YY', 'YZ', 'ZX', 'ZY', 'ZZ']\n"
     ]
    }
   ],
   "source": [
    "from numpy.random import shuffle\n",
    "from qiskit.quantum_info.operators import PauliTable\n",
    "\n",
    "# 2-qubit labels\n",
    "labels = ['II', 'IX', 'IY', 'IZ', 'XI', 'XX', 'XY', 'XZ',\n",
    "          'YI', 'YX', 'YY', 'YZ', 'ZI', 'ZX', 'ZY', 'ZZ']\n",
    "# Shuffle Labels\n",
    "shuffle(labels)\n",
    "pt = PauliTable.from_labels(labels)\n",
    "print('Initial Ordering')\n",
    "print(pt)\n",
    "\n",
    "# Lexicographic Ordering\n",
    "srt = pt.sort()\n",
    "print('Lexicographically sorted')\n",
    "print(srt)\n",
    "\n",
    "# Weight Ordering\n",
    "srt = pt.sort(weight=True)\n",
    "print('Weight sorted')\n",
    "print(srt)"
   ]
  },
  {
   "cell_type": "code",
   "execution_count": 5,
   "id": "89ec7a57",
   "metadata": {
    "execution": {
     "iopub.execute_input": "2021-04-22T19:01:11.958725Z",
     "iopub.status.busy": "2021-04-22T19:01:11.957516Z",
     "iopub.status.idle": "2021-04-22T19:01:11.960333Z",
     "shell.execute_reply": "2021-04-22T19:01:11.959902Z"
    }
   },
   "outputs": [
    {
     "name": "stdout",
     "output_type": "stream",
     "text": [
      "PauliTable: ['IY', 'IZ', 'XY', 'XZ']\n"
     ]
    }
   ],
   "source": [
    "from qiskit.quantum_info.operators import PauliTable\n",
    "\n",
    "current = PauliTable.from_labels(['I', 'X'])\n",
    "other =  PauliTable.from_labels(['Y', 'Z'])\n",
    "print(current.tensor(other))"
   ]
  },
  {
   "cell_type": "code",
   "execution_count": 6,
   "id": "4e5c3a54",
   "metadata": {
    "execution": {
     "iopub.execute_input": "2021-04-22T19:01:11.965775Z",
     "iopub.status.busy": "2021-04-22T19:01:11.964640Z",
     "iopub.status.idle": "2021-04-22T19:01:11.967332Z",
     "shell.execute_reply": "2021-04-22T19:01:11.966956Z"
    }
   },
   "outputs": [
    {
     "name": "stdout",
     "output_type": "stream",
     "text": [
      "PauliTable: ['X', 'Y', 'I', 'Z']\n"
     ]
    }
   ],
   "source": [
    "from qiskit.quantum_info.operators import PauliTable\n",
    "\n",
    "pt = PauliTable.from_labels(['X', 'Y', 'X', 'I', 'I', 'Z', 'X', 'Z'])\n",
    "unique = pt.unique()\n",
    "print(unique)"
   ]
  }
 ],
 "metadata": {
  "kernelspec": {
   "display_name": "Python 3",
   "language": "python",
   "name": "python3"
  },
  "language_info": {
   "codemirror_mode": {
    "name": "ipython",
    "version": 3
   },
   "file_extension": ".py",
   "mimetype": "text/x-python",
   "name": "python",
   "nbconvert_exporter": "python",
   "pygments_lexer": "ipython3",
   "version": "3.8.9"
  }
 },
 "nbformat": 4,
 "nbformat_minor": 5
}