{
 "cells": [
  {
   "cell_type": "code",
   "execution_count": 1,
   "id": "ef33d877",
   "metadata": {
    "execution": {
     "iopub.execute_input": "2021-04-15T16:13:49.076622Z",
     "iopub.status.busy": "2021-04-15T16:13:49.074693Z",
     "iopub.status.idle": "2021-04-15T16:13:49.806631Z",
     "shell.execute_reply": "2021-04-15T16:13:49.807175Z"
    }
   },
   "outputs": [
    {
     "name": "stdout",
     "output_type": "stream",
     "text": [
      "PauliTable: ['Y', 'Z', 'Z', 'Y']\n"
     ]
    }
   ],
   "source": [
    "from qiskit.quantum_info.operators import PauliTable\n",
    "\n",
    "current = PauliTable.from_labels(['I', 'X'])\n",
    "other =  PauliTable.from_labels(['Y', 'Z'])\n",
    "print(current.compose(other))"
   ]
  },
  {
   "cell_type": "code",
   "execution_count": 2,
   "id": "8a48f433",
   "metadata": {
    "execution": {
     "iopub.execute_input": "2021-04-15T16:13:49.817114Z",
     "iopub.status.busy": "2021-04-15T16:13:49.813068Z",
     "iopub.status.idle": "2021-04-15T16:13:49.821978Z",
     "shell.execute_reply": "2021-04-15T16:13:49.821429Z"
    }
   },
   "outputs": [
    {
     "name": "stdout",
     "output_type": "stream",
     "text": [
      "PauliTable: ['Y', 'Z', 'Z', 'Y']\n"
     ]
    }
   ],
   "source": [
    "from qiskit.quantum_info.operators import PauliTable\n",
    "\n",
    "current = PauliTable.from_labels(['I', 'X'])\n",
    "other =  PauliTable.from_labels(['Y', 'Z'])\n",
    "print(current.dot(other))"
   ]
  },
  {
   "cell_type": "code",
   "execution_count": 3,
   "id": "0a1a6664",
   "metadata": {
    "execution": {
     "iopub.execute_input": "2021-04-15T16:13:49.826984Z",
     "iopub.status.busy": "2021-04-15T16:13:49.826353Z",
     "iopub.status.idle": "2021-04-15T16:13:49.831599Z",
     "shell.execute_reply": "2021-04-15T16:13:49.831066Z"
    }
   },
   "outputs": [
    {
     "name": "stdout",
     "output_type": "stream",
     "text": [
      "PauliTable: ['YI', 'YX', 'ZI', 'ZX']\n"
     ]
    }
   ],
   "source": [
    "from qiskit.quantum_info.operators import PauliTable\n",
    "\n",
    "current = PauliTable.from_labels(['I', 'X'])\n",
    "other =  PauliTable.from_labels(['Y', 'Z'])\n",
    "print(current.expand(other))"
   ]
  },
  {
   "cell_type": "code",
   "execution_count": 4,
   "id": "1da47d03",
   "metadata": {
    "execution": {
     "iopub.execute_input": "2021-04-15T16:13:49.839102Z",
     "iopub.status.busy": "2021-04-15T16:13:49.837007Z",
     "iopub.status.idle": "2021-04-15T16:13:49.841539Z",
     "shell.execute_reply": "2021-04-15T16:13:49.842027Z"
    }
   },
   "outputs": [
    {
     "name": "stdout",
     "output_type": "stream",
     "text": [
      "Initial Ordering\n",
      "PauliTable: ['ZY', 'ZX', 'ZZ', 'YI', 'YX', 'XZ', 'IZ', 'XI', 'YZ', 'XY', 'YY', 'IX', 'IY', 'XX', 'ZI', 'II']\n",
      "Lexicographically sorted\n",
      "PauliTable: ['II', 'IX', 'IY', 'IZ', 'XI', 'XX', 'XY', 'XZ', 'YI', 'YX', 'YY', 'YZ', 'ZI', 'ZX', 'ZY', 'ZZ']\n",
      "Weight sorted\n",
      "PauliTable: ['II', 'IX', 'IY', 'IZ', 'XI', 'YI', 'ZI', 'XX', 'XY', 'XZ', 'YX', 'YY', 'YZ', 'ZX', 'ZY', 'ZZ']\n"
     ]
    }
   ],
   "source": [
    "from numpy.random import shuffle\n",
    "from qiskit.quantum_info.operators import PauliTable\n",
    "\n",
    "# 2-qubit labels\n",
    "labels = ['II', 'IX', 'IY', 'IZ', 'XI', 'XX', 'XY', 'XZ',\n",
    "          'YI', 'YX', 'YY', 'YZ', 'ZI', 'ZX', 'ZY', 'ZZ']\n",
    "# Shuffle Labels\n",
    "shuffle(labels)\n",
    "pt = PauliTable.from_labels(labels)\n",
    "print('Initial Ordering')\n",
    "print(pt)\n",
    "\n",
    "# Lexicographic Ordering\n",
    "srt = pt.sort()\n",
    "print('Lexicographically sorted')\n",
    "print(srt)\n",
    "\n",
    "# Weight Ordering\n",
    "srt = pt.sort(weight=True)\n",
    "print('Weight sorted')\n",
    "print(srt)"
   ]
  },
  {
   "cell_type": "code",
   "execution_count": 5,
   "id": "44302564",
   "metadata": {
    "execution": {
     "iopub.execute_input": "2021-04-15T16:13:49.848604Z",
     "iopub.status.busy": "2021-04-15T16:13:49.846974Z",
     "iopub.status.idle": "2021-04-15T16:13:49.850648Z",
     "shell.execute_reply": "2021-04-15T16:13:49.850060Z"
    }
   },
   "outputs": [
    {
     "name": "stdout",
     "output_type": "stream",
     "text": [
      "PauliTable: ['IY', 'IZ', 'XY', 'XZ']\n"
     ]
    }
   ],
   "source": [
    "from qiskit.quantum_info.operators import PauliTable\n",
    "\n",
    "current = PauliTable.from_labels(['I', 'X'])\n",
    "other =  PauliTable.from_labels(['Y', 'Z'])\n",
    "print(current.tensor(other))"
   ]
  },
  {
   "cell_type": "code",
   "execution_count": 6,
   "id": "4345cfeb",
   "metadata": {
    "execution": {
     "iopub.execute_input": "2021-04-15T16:13:49.857240Z",
     "iopub.status.busy": "2021-04-15T16:13:49.855790Z",
     "iopub.status.idle": "2021-04-15T16:13:49.859371Z",
     "shell.execute_reply": "2021-04-15T16:13:49.858851Z"
    }
   },
   "outputs": [
    {
     "name": "stdout",
     "output_type": "stream",
     "text": [
      "PauliTable: ['X', 'Y', 'I', 'Z']\n"
     ]
    }
   ],
   "source": [
    "from qiskit.quantum_info.operators import PauliTable\n",
    "\n",
    "pt = PauliTable.from_labels(['X', 'Y', 'X', 'I', 'I', 'Z', 'X', 'Z'])\n",
    "unique = pt.unique()\n",
    "print(unique)"
   ]
  }
 ],
 "metadata": {
  "kernelspec": {
   "display_name": "Python 3",
   "language": "python",
   "name": "python3"
  },
  "language_info": {
   "codemirror_mode": {
    "name": "ipython",
    "version": 3
   },
   "file_extension": ".py",
   "mimetype": "text/x-python",
   "name": "python",
   "nbconvert_exporter": "python",
   "pygments_lexer": "ipython3",
   "version": "3.8.9"
  }
 },
 "nbformat": 4,
 "nbformat_minor": 5
}