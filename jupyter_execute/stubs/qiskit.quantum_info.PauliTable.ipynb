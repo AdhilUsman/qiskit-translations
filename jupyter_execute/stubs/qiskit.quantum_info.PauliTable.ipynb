{
 "cells": [
  {
   "cell_type": "code",
   "execution_count": 1,
   "id": "9b034623",
   "metadata": {
    "execution": {
     "iopub.execute_input": "2021-06-06T13:13:17.115181Z",
     "iopub.status.busy": "2021-06-06T13:13:17.114320Z",
     "iopub.status.idle": "2021-06-06T13:13:17.714505Z",
     "shell.execute_reply": "2021-06-06T13:13:17.713804Z"
    }
   },
   "outputs": [
    {
     "name": "stdout",
     "output_type": "stream",
     "text": [
      "PauliTable: ['Y', 'Z', 'Z', 'Y']\n"
     ]
    }
   ],
   "source": [
    "from qiskit.quantum_info.operators import PauliTable\n",
    "\n",
    "current = PauliTable.from_labels(['I', 'X'])\n",
    "other =  PauliTable.from_labels(['Y', 'Z'])\n",
    "print(current.compose(other))"
   ]
  },
  {
   "cell_type": "code",
   "execution_count": 2,
   "id": "afe64797",
   "metadata": {
    "execution": {
     "iopub.execute_input": "2021-06-06T13:13:17.720151Z",
     "iopub.status.busy": "2021-06-06T13:13:17.719013Z",
     "iopub.status.idle": "2021-06-06T13:13:17.721959Z",
     "shell.execute_reply": "2021-06-06T13:13:17.721445Z"
    }
   },
   "outputs": [
    {
     "name": "stdout",
     "output_type": "stream",
     "text": [
      "PauliTable: ['Y', 'Z', 'Z', 'Y']\n"
     ]
    }
   ],
   "source": [
    "from qiskit.quantum_info.operators import PauliTable\n",
    "\n",
    "current = PauliTable.from_labels(['I', 'X'])\n",
    "other =  PauliTable.from_labels(['Y', 'Z'])\n",
    "print(current.dot(other))"
   ]
  },
  {
   "cell_type": "code",
   "execution_count": 3,
   "id": "b7c1cfc5",
   "metadata": {
    "execution": {
     "iopub.execute_input": "2021-06-06T13:13:17.727545Z",
     "iopub.status.busy": "2021-06-06T13:13:17.726216Z",
     "iopub.status.idle": "2021-06-06T13:13:17.729377Z",
     "shell.execute_reply": "2021-06-06T13:13:17.728888Z"
    }
   },
   "outputs": [
    {
     "name": "stdout",
     "output_type": "stream",
     "text": [
      "PauliTable: ['YI', 'YX', 'ZI', 'ZX']\n"
     ]
    }
   ],
   "source": [
    "from qiskit.quantum_info.operators import PauliTable\n",
    "\n",
    "current = PauliTable.from_labels(['I', 'X'])\n",
    "other =  PauliTable.from_labels(['Y', 'Z'])\n",
    "print(current.expand(other))"
   ]
  },
  {
   "cell_type": "code",
   "execution_count": 4,
   "id": "4dc3952d",
   "metadata": {
    "execution": {
     "iopub.execute_input": "2021-06-06T13:13:17.736635Z",
     "iopub.status.busy": "2021-06-06T13:13:17.734636Z",
     "iopub.status.idle": "2021-06-06T13:13:17.738444Z",
     "shell.execute_reply": "2021-06-06T13:13:17.738850Z"
    }
   },
   "outputs": [
    {
     "name": "stdout",
     "output_type": "stream",
     "text": [
      "Initial Ordering\n",
      "PauliTable: ['YX', 'XY', 'ZY', 'IY', 'YY', 'II', 'IZ', 'XZ', 'XX', 'YZ', 'YI', 'ZI', 'IX', 'ZZ', 'XI', 'ZX']\n",
      "Lexicographically sorted\n",
      "PauliTable: ['II', 'IX', 'IY', 'IZ', 'XI', 'XX', 'XY', 'XZ', 'YI', 'YX', 'YY', 'YZ', 'ZI', 'ZX', 'ZY', 'ZZ']\n",
      "Weight sorted\n",
      "PauliTable: ['II', 'IX', 'IY', 'IZ', 'XI', 'YI', 'ZI', 'XX', 'XY', 'XZ', 'YX', 'YY', 'YZ', 'ZX', 'ZY', 'ZZ']\n"
     ]
    }
   ],
   "source": [
    "from numpy.random import shuffle\n",
    "from qiskit.quantum_info.operators import PauliTable\n",
    "\n",
    "# 2-qubit labels\n",
    "labels = ['II', 'IX', 'IY', 'IZ', 'XI', 'XX', 'XY', 'XZ',\n",
    "          'YI', 'YX', 'YY', 'YZ', 'ZI', 'ZX', 'ZY', 'ZZ']\n",
    "# Shuffle Labels\n",
    "shuffle(labels)\n",
    "pt = PauliTable.from_labels(labels)\n",
    "print('Initial Ordering')\n",
    "print(pt)\n",
    "\n",
    "# Lexicographic Ordering\n",
    "srt = pt.sort()\n",
    "print('Lexicographically sorted')\n",
    "print(srt)\n",
    "\n",
    "# Weight Ordering\n",
    "srt = pt.sort(weight=True)\n",
    "print('Weight sorted')\n",
    "print(srt)"
   ]
  },
  {
   "cell_type": "code",
   "execution_count": 5,
   "id": "9a8b1e2f",
   "metadata": {
    "execution": {
     "iopub.execute_input": "2021-06-06T13:13:17.744388Z",
     "iopub.status.busy": "2021-06-06T13:13:17.743087Z",
     "iopub.status.idle": "2021-06-06T13:13:17.746282Z",
     "shell.execute_reply": "2021-06-06T13:13:17.745749Z"
    }
   },
   "outputs": [
    {
     "name": "stdout",
     "output_type": "stream",
     "text": [
      "PauliTable: ['IY', 'IZ', 'XY', 'XZ']\n"
     ]
    }
   ],
   "source": [
    "from qiskit.quantum_info.operators import PauliTable\n",
    "\n",
    "current = PauliTable.from_labels(['I', 'X'])\n",
    "other =  PauliTable.from_labels(['Y', 'Z'])\n",
    "print(current.tensor(other))"
   ]
  },
  {
   "cell_type": "code",
   "execution_count": 6,
   "id": "12c24726",
   "metadata": {
    "execution": {
     "iopub.execute_input": "2021-06-06T13:13:17.751788Z",
     "iopub.status.busy": "2021-06-06T13:13:17.750597Z",
     "iopub.status.idle": "2021-06-06T13:13:17.753484Z",
     "shell.execute_reply": "2021-06-06T13:13:17.753016Z"
    }
   },
   "outputs": [
    {
     "name": "stdout",
     "output_type": "stream",
     "text": [
      "PauliTable: ['X', 'Y', 'I', 'Z']\n"
     ]
    }
   ],
   "source": [
    "from qiskit.quantum_info.operators import PauliTable\n",
    "\n",
    "pt = PauliTable.from_labels(['X', 'Y', 'X', 'I', 'I', 'Z', 'X', 'Z'])\n",
    "unique = pt.unique()\n",
    "print(unique)"
   ]
  }
 ],
 "metadata": {
  "kernelspec": {
   "display_name": "Python 3",
   "language": "python",
   "name": "python3"
  },
  "language_info": {
   "codemirror_mode": {
    "name": "ipython",
    "version": 3
   },
   "file_extension": ".py",
   "mimetype": "text/x-python",
   "name": "python",
   "nbconvert_exporter": "python",
   "pygments_lexer": "ipython3",
   "version": "3.8.10"
  }
 },
 "nbformat": 4,
 "nbformat_minor": 5
}