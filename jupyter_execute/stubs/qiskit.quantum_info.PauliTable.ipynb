{
 "cells": [
  {
   "cell_type": "code",
   "execution_count": 1,
   "id": "81a18004",
   "metadata": {
    "execution": {
     "iopub.execute_input": "2021-05-20T13:36:45.815967Z",
     "iopub.status.busy": "2021-05-20T13:36:45.815263Z",
     "iopub.status.idle": "2021-05-20T13:36:46.584153Z",
     "shell.execute_reply": "2021-05-20T13:36:46.584641Z"
    }
   },
   "outputs": [
    {
     "name": "stdout",
     "output_type": "stream",
     "text": [
      "PauliTable: ['Y', 'Z', 'Z', 'Y']\n"
     ]
    }
   ],
   "source": [
    "from qiskit.quantum_info.operators import PauliTable\n",
    "\n",
    "current = PauliTable.from_labels(['I', 'X'])\n",
    "other =  PauliTable.from_labels(['Y', 'Z'])\n",
    "print(current.compose(other))"
   ]
  },
  {
   "cell_type": "code",
   "execution_count": 2,
   "id": "19d14043",
   "metadata": {
    "execution": {
     "iopub.execute_input": "2021-05-20T13:36:46.591683Z",
     "iopub.status.busy": "2021-05-20T13:36:46.590204Z",
     "iopub.status.idle": "2021-05-20T13:36:46.593598Z",
     "shell.execute_reply": "2021-05-20T13:36:46.593045Z"
    }
   },
   "outputs": [
    {
     "name": "stdout",
     "output_type": "stream",
     "text": [
      "PauliTable: ['Y', 'Z', 'Z', 'Y']\n"
     ]
    }
   ],
   "source": [
    "from qiskit.quantum_info.operators import PauliTable\n",
    "\n",
    "current = PauliTable.from_labels(['I', 'X'])\n",
    "other =  PauliTable.from_labels(['Y', 'Z'])\n",
    "print(current.dot(other))"
   ]
  },
  {
   "cell_type": "code",
   "execution_count": 3,
   "id": "5887a301",
   "metadata": {
    "execution": {
     "iopub.execute_input": "2021-05-20T13:36:46.600292Z",
     "iopub.status.busy": "2021-05-20T13:36:46.598878Z",
     "iopub.status.idle": "2021-05-20T13:36:46.602182Z",
     "shell.execute_reply": "2021-05-20T13:36:46.601651Z"
    }
   },
   "outputs": [
    {
     "name": "stdout",
     "output_type": "stream",
     "text": [
      "PauliTable: ['YI', 'YX', 'ZI', 'ZX']\n"
     ]
    }
   ],
   "source": [
    "from qiskit.quantum_info.operators import PauliTable\n",
    "\n",
    "current = PauliTable.from_labels(['I', 'X'])\n",
    "other =  PauliTable.from_labels(['Y', 'Z'])\n",
    "print(current.expand(other))"
   ]
  },
  {
   "cell_type": "code",
   "execution_count": 4,
   "id": "98207a94",
   "metadata": {
    "execution": {
     "iopub.execute_input": "2021-05-20T13:36:46.610377Z",
     "iopub.status.busy": "2021-05-20T13:36:46.607431Z",
     "iopub.status.idle": "2021-05-20T13:36:46.612868Z",
     "shell.execute_reply": "2021-05-20T13:36:46.613317Z"
    }
   },
   "outputs": [
    {
     "name": "stdout",
     "output_type": "stream",
     "text": [
      "Initial Ordering\n",
      "PauliTable: ['YZ', 'IZ', 'XZ', 'ZZ', 'ZX', 'YI', 'ZY', 'XX', 'YY', 'II', 'IX', 'ZI', 'IY', 'XY', 'YX', 'XI']\n",
      "Lexicographically sorted\n",
      "PauliTable: ['II', 'IX', 'IY', 'IZ', 'XI', 'XX', 'XY', 'XZ', 'YI', 'YX', 'YY', 'YZ', 'ZI', 'ZX', 'ZY', 'ZZ']\n",
      "Weight sorted\n",
      "PauliTable: ['II', 'IX', 'IY', 'IZ', 'XI', 'YI', 'ZI', 'XX', 'XY', 'XZ', 'YX', 'YY', 'YZ', 'ZX', 'ZY', 'ZZ']\n"
     ]
    }
   ],
   "source": [
    "from numpy.random import shuffle\n",
    "from qiskit.quantum_info.operators import PauliTable\n",
    "\n",
    "# 2-qubit labels\n",
    "labels = ['II', 'IX', 'IY', 'IZ', 'XI', 'XX', 'XY', 'XZ',\n",
    "          'YI', 'YX', 'YY', 'YZ', 'ZI', 'ZX', 'ZY', 'ZZ']\n",
    "# Shuffle Labels\n",
    "shuffle(labels)\n",
    "pt = PauliTable.from_labels(labels)\n",
    "print('Initial Ordering')\n",
    "print(pt)\n",
    "\n",
    "# Lexicographic Ordering\n",
    "srt = pt.sort()\n",
    "print('Lexicographically sorted')\n",
    "print(srt)\n",
    "\n",
    "# Weight Ordering\n",
    "srt = pt.sort(weight=True)\n",
    "print('Weight sorted')\n",
    "print(srt)"
   ]
  },
  {
   "cell_type": "code",
   "execution_count": 5,
   "id": "8948c019",
   "metadata": {
    "execution": {
     "iopub.execute_input": "2021-05-20T13:36:46.620039Z",
     "iopub.status.busy": "2021-05-20T13:36:46.618590Z",
     "iopub.status.idle": "2021-05-20T13:36:46.622003Z",
     "shell.execute_reply": "2021-05-20T13:36:46.621476Z"
    }
   },
   "outputs": [
    {
     "name": "stdout",
     "output_type": "stream",
     "text": [
      "PauliTable: ['IY', 'IZ', 'XY', 'XZ']\n"
     ]
    }
   ],
   "source": [
    "from qiskit.quantum_info.operators import PauliTable\n",
    "\n",
    "current = PauliTable.from_labels(['I', 'X'])\n",
    "other =  PauliTable.from_labels(['Y', 'Z'])\n",
    "print(current.tensor(other))"
   ]
  },
  {
   "cell_type": "code",
   "execution_count": 6,
   "id": "852cc4a0",
   "metadata": {
    "execution": {
     "iopub.execute_input": "2021-05-20T13:36:46.627148Z",
     "iopub.status.busy": "2021-05-20T13:36:46.626565Z",
     "iopub.status.idle": "2021-05-20T13:36:46.629258Z",
     "shell.execute_reply": "2021-05-20T13:36:46.629726Z"
    }
   },
   "outputs": [
    {
     "name": "stdout",
     "output_type": "stream",
     "text": [
      "PauliTable: ['X', 'Y', 'I', 'Z']\n"
     ]
    }
   ],
   "source": [
    "from qiskit.quantum_info.operators import PauliTable\n",
    "\n",
    "pt = PauliTable.from_labels(['X', 'Y', 'X', 'I', 'I', 'Z', 'X', 'Z'])\n",
    "unique = pt.unique()\n",
    "print(unique)"
   ]
  }
 ],
 "metadata": {
  "kernelspec": {
   "display_name": "Python 3",
   "language": "python",
   "name": "python3"
  },
  "language_info": {
   "codemirror_mode": {
    "name": "ipython",
    "version": 3
   },
   "file_extension": ".py",
   "mimetype": "text/x-python",
   "name": "python",
   "nbconvert_exporter": "python",
   "pygments_lexer": "ipython3",
   "version": "3.8.10"
  }
 },
 "nbformat": 4,
 "nbformat_minor": 5
}