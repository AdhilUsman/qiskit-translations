{
 "cells": [
  {
   "cell_type": "code",
   "execution_count": 1,
   "id": "hearing-schema",
   "metadata": {
    "execution": {
     "iopub.execute_input": "2021-03-28T04:53:36.204547Z",
     "iopub.status.busy": "2021-03-28T04:53:36.203971Z",
     "iopub.status.idle": "2021-03-28T04:53:38.137932Z",
     "shell.execute_reply": "2021-03-28T04:53:38.137370Z"
    }
   },
   "outputs": [
    {
     "name": "stdout",
     "output_type": "stream",
     "text": [
      "PauliTable: ['Y', 'Z', 'Z', 'Y']\n"
     ]
    }
   ],
   "source": [
    "from qiskit.quantum_info.operators import PauliTable\n",
    "\n",
    "current = PauliTable.from_labels(['I', 'X'])\n",
    "other =  PauliTable.from_labels(['Y', 'Z'])\n",
    "print(current.compose(other))"
   ]
  },
  {
   "cell_type": "code",
   "execution_count": 2,
   "id": "practical-cambridge",
   "metadata": {
    "execution": {
     "iopub.execute_input": "2021-03-28T04:53:38.143715Z",
     "iopub.status.busy": "2021-03-28T04:53:38.143031Z",
     "iopub.status.idle": "2021-03-28T04:53:38.146598Z",
     "shell.execute_reply": "2021-03-28T04:53:38.146136Z"
    }
   },
   "outputs": [
    {
     "name": "stdout",
     "output_type": "stream",
     "text": [
      "PauliTable: ['Y', 'Z', 'Z', 'Y']\n"
     ]
    }
   ],
   "source": [
    "from qiskit.quantum_info.operators import PauliTable\n",
    "\n",
    "current = PauliTable.from_labels(['I', 'X'])\n",
    "other =  PauliTable.from_labels(['Y', 'Z'])\n",
    "print(current.dot(other))"
   ]
  },
  {
   "cell_type": "code",
   "execution_count": 3,
   "id": "structural-result",
   "metadata": {
    "execution": {
     "iopub.execute_input": "2021-03-28T04:53:38.152767Z",
     "iopub.status.busy": "2021-03-28T04:53:38.151469Z",
     "iopub.status.idle": "2021-03-28T04:53:38.154554Z",
     "shell.execute_reply": "2021-03-28T04:53:38.154083Z"
    }
   },
   "outputs": [
    {
     "name": "stdout",
     "output_type": "stream",
     "text": [
      "PauliTable: ['YI', 'ZI', 'YX', 'ZX']\n"
     ]
    }
   ],
   "source": [
    "from qiskit.quantum_info.operators import PauliTable\n",
    "\n",
    "current = PauliTable.from_labels(['I', 'X'])\n",
    "other =  PauliTable.from_labels(['Y', 'Z'])\n",
    "print(current.expand(other))"
   ]
  },
  {
   "cell_type": "code",
   "execution_count": 4,
   "id": "theoretical-belize",
   "metadata": {
    "execution": {
     "iopub.execute_input": "2021-03-28T04:53:38.162236Z",
     "iopub.status.busy": "2021-03-28T04:53:38.160764Z",
     "iopub.status.idle": "2021-03-28T04:53:38.164265Z",
     "shell.execute_reply": "2021-03-28T04:53:38.164713Z"
    }
   },
   "outputs": [
    {
     "name": "stdout",
     "output_type": "stream",
     "text": [
      "Initial Ordering\n",
      "PauliTable: ['YZ', 'IX', 'IY', 'ZZ', 'ZY', 'XX', 'XI', 'IZ', 'ZX', 'YI', 'II', 'ZI', 'YY', 'XZ', 'XY', 'YX']\n",
      "Lexicographically sorted\n",
      "PauliTable: ['II', 'IX', 'IY', 'IZ', 'XI', 'XX', 'XY', 'XZ', 'YI', 'YX', 'YY', 'YZ', 'ZI', 'ZX', 'ZY', 'ZZ']\n",
      "Weight sorted\n",
      "PauliTable: ['II', 'IX', 'IY', 'IZ', 'XI', 'YI', 'ZI', 'XX', 'XY', 'XZ', 'YX', 'YY', 'YZ', 'ZX', 'ZY', 'ZZ']\n"
     ]
    }
   ],
   "source": [
    "from numpy.random import shuffle\n",
    "from qiskit.quantum_info.operators import PauliTable\n",
    "\n",
    "# 2-qubit labels\n",
    "labels = ['II', 'IX', 'IY', 'IZ', 'XI', 'XX', 'XY', 'XZ',\n",
    "          'YI', 'YX', 'YY', 'YZ', 'ZI', 'ZX', 'ZY', 'ZZ']\n",
    "# Shuffle Labels\n",
    "shuffle(labels)\n",
    "pt = PauliTable.from_labels(labels)\n",
    "print('Initial Ordering')\n",
    "print(pt)\n",
    "\n",
    "# Lexicographic Ordering\n",
    "srt = pt.sort()\n",
    "print('Lexicographically sorted')\n",
    "print(srt)\n",
    "\n",
    "# Weight Ordering\n",
    "srt = pt.sort(weight=True)\n",
    "print('Weight sorted')\n",
    "print(srt)"
   ]
  },
  {
   "cell_type": "code",
   "execution_count": 5,
   "id": "korean-experience",
   "metadata": {
    "execution": {
     "iopub.execute_input": "2021-03-28T04:53:38.170625Z",
     "iopub.status.busy": "2021-03-28T04:53:38.169314Z",
     "iopub.status.idle": "2021-03-28T04:53:38.172415Z",
     "shell.execute_reply": "2021-03-28T04:53:38.171918Z"
    }
   },
   "outputs": [
    {
     "name": "stdout",
     "output_type": "stream",
     "text": [
      "PauliTable: ['IY', 'IZ', 'XY', 'XZ']\n"
     ]
    }
   ],
   "source": [
    "from qiskit.quantum_info.operators import PauliTable\n",
    "\n",
    "current = PauliTable.from_labels(['I', 'X'])\n",
    "other =  PauliTable.from_labels(['Y', 'Z'])\n",
    "print(current.tensor(other))"
   ]
  },
  {
   "cell_type": "code",
   "execution_count": 6,
   "id": "surrounded-component",
   "metadata": {
    "execution": {
     "iopub.execute_input": "2021-03-28T04:53:38.178287Z",
     "iopub.status.busy": "2021-03-28T04:53:38.176977Z",
     "iopub.status.idle": "2021-03-28T04:53:38.180038Z",
     "shell.execute_reply": "2021-03-28T04:53:38.179576Z"
    }
   },
   "outputs": [
    {
     "name": "stdout",
     "output_type": "stream",
     "text": [
      "PauliTable: ['X', 'Y', 'I', 'Z']\n"
     ]
    }
   ],
   "source": [
    "from qiskit.quantum_info.operators import PauliTable\n",
    "\n",
    "pt = PauliTable.from_labels(['X', 'Y', 'X', 'I', 'I', 'Z', 'X', 'Z'])\n",
    "unique = pt.unique()\n",
    "print(unique)"
   ]
  }
 ],
 "metadata": {
  "kernelspec": {
   "display_name": "Python 3",
   "language": "python",
   "name": "python3"
  },
  "language_info": {
   "codemirror_mode": {
    "name": "ipython",
    "version": 3
   },
   "file_extension": ".py",
   "mimetype": "text/x-python",
   "name": "python",
   "nbconvert_exporter": "python",
   "pygments_lexer": "ipython3",
   "version": "3.8.8"
  }
 },
 "nbformat": 4,
 "nbformat_minor": 5
}