{
 "cells": [
  {
   "cell_type": "code",
   "execution_count": 1,
   "id": "24e7e6f8",
   "metadata": {
    "execution": {
     "iopub.execute_input": "2021-04-30T19:05:07.439074Z",
     "iopub.status.busy": "2021-04-30T19:05:07.438537Z",
     "iopub.status.idle": "2021-04-30T19:05:08.079139Z",
     "shell.execute_reply": "2021-04-30T19:05:08.079650Z"
    }
   },
   "outputs": [
    {
     "name": "stdout",
     "output_type": "stream",
     "text": [
      "PauliTable: ['Y', 'Z', 'Z', 'Y']\n"
     ]
    }
   ],
   "source": [
    "from qiskit.quantum_info.operators import PauliTable\n",
    "\n",
    "current = PauliTable.from_labels(['I', 'X'])\n",
    "other =  PauliTable.from_labels(['Y', 'Z'])\n",
    "print(current.compose(other))"
   ]
  },
  {
   "cell_type": "code",
   "execution_count": 2,
   "id": "c8284e2e",
   "metadata": {
    "execution": {
     "iopub.execute_input": "2021-04-30T19:05:08.086027Z",
     "iopub.status.busy": "2021-04-30T19:05:08.084561Z",
     "iopub.status.idle": "2021-04-30T19:05:08.087930Z",
     "shell.execute_reply": "2021-04-30T19:05:08.087367Z"
    }
   },
   "outputs": [
    {
     "name": "stdout",
     "output_type": "stream",
     "text": [
      "PauliTable: ['Y', 'Z', 'Z', 'Y']\n"
     ]
    }
   ],
   "source": [
    "from qiskit.quantum_info.operators import PauliTable\n",
    "\n",
    "current = PauliTable.from_labels(['I', 'X'])\n",
    "other =  PauliTable.from_labels(['Y', 'Z'])\n",
    "print(current.dot(other))"
   ]
  },
  {
   "cell_type": "code",
   "execution_count": 3,
   "id": "e148cfba",
   "metadata": {
    "execution": {
     "iopub.execute_input": "2021-04-30T19:05:08.093861Z",
     "iopub.status.busy": "2021-04-30T19:05:08.092836Z",
     "iopub.status.idle": "2021-04-30T19:05:08.096407Z",
     "shell.execute_reply": "2021-04-30T19:05:08.095901Z"
    }
   },
   "outputs": [
    {
     "name": "stdout",
     "output_type": "stream",
     "text": [
      "PauliTable: ['YI', 'YX', 'ZI', 'ZX']\n"
     ]
    }
   ],
   "source": [
    "from qiskit.quantum_info.operators import PauliTable\n",
    "\n",
    "current = PauliTable.from_labels(['I', 'X'])\n",
    "other =  PauliTable.from_labels(['Y', 'Z'])\n",
    "print(current.expand(other))"
   ]
  },
  {
   "cell_type": "code",
   "execution_count": 4,
   "id": "d5dfeaba",
   "metadata": {
    "execution": {
     "iopub.execute_input": "2021-04-30T19:05:08.105317Z",
     "iopub.status.busy": "2021-04-30T19:05:08.103864Z",
     "iopub.status.idle": "2021-04-30T19:05:08.107099Z",
     "shell.execute_reply": "2021-04-30T19:05:08.106615Z"
    }
   },
   "outputs": [
    {
     "name": "stdout",
     "output_type": "stream",
     "text": [
      "Initial Ordering\n",
      "PauliTable: ['XI', 'XY', 'IY', 'IZ', 'XX', 'ZZ', 'YZ', 'YX', 'IX', 'YY', 'YI', 'ZX', 'XZ', 'ZI', 'ZY', 'II']\n",
      "Lexicographically sorted\n",
      "PauliTable: ['II', 'IX', 'IY', 'IZ', 'XI', 'XX', 'XY', 'XZ', 'YI', 'YX', 'YY', 'YZ', 'ZI', 'ZX', 'ZY', 'ZZ']\n",
      "Weight sorted\n",
      "PauliTable: ['II', 'IX', 'IY', 'IZ', 'XI', 'YI', 'ZI', 'XX', 'XY', 'XZ', 'YX', 'YY', 'YZ', 'ZX', 'ZY', 'ZZ']\n"
     ]
    }
   ],
   "source": [
    "from numpy.random import shuffle\n",
    "from qiskit.quantum_info.operators import PauliTable\n",
    "\n",
    "# 2-qubit labels\n",
    "labels = ['II', 'IX', 'IY', 'IZ', 'XI', 'XX', 'XY', 'XZ',\n",
    "          'YI', 'YX', 'YY', 'YZ', 'ZI', 'ZX', 'ZY', 'ZZ']\n",
    "# Shuffle Labels\n",
    "shuffle(labels)\n",
    "pt = PauliTable.from_labels(labels)\n",
    "print('Initial Ordering')\n",
    "print(pt)\n",
    "\n",
    "# Lexicographic Ordering\n",
    "srt = pt.sort()\n",
    "print('Lexicographically sorted')\n",
    "print(srt)\n",
    "\n",
    "# Weight Ordering\n",
    "srt = pt.sort(weight=True)\n",
    "print('Weight sorted')\n",
    "print(srt)"
   ]
  },
  {
   "cell_type": "code",
   "execution_count": 5,
   "id": "057eb74b",
   "metadata": {
    "execution": {
     "iopub.execute_input": "2021-04-30T19:05:08.113361Z",
     "iopub.status.busy": "2021-04-30T19:05:08.111807Z",
     "iopub.status.idle": "2021-04-30T19:05:08.115216Z",
     "shell.execute_reply": "2021-04-30T19:05:08.114639Z"
    }
   },
   "outputs": [
    {
     "name": "stdout",
     "output_type": "stream",
     "text": [
      "PauliTable: ['IY', 'IZ', 'XY', 'XZ']\n"
     ]
    }
   ],
   "source": [
    "from qiskit.quantum_info.operators import PauliTable\n",
    "\n",
    "current = PauliTable.from_labels(['I', 'X'])\n",
    "other =  PauliTable.from_labels(['Y', 'Z'])\n",
    "print(current.tensor(other))"
   ]
  },
  {
   "cell_type": "code",
   "execution_count": 6,
   "id": "2a88b7a2",
   "metadata": {
    "execution": {
     "iopub.execute_input": "2021-04-30T19:05:08.121512Z",
     "iopub.status.busy": "2021-04-30T19:05:08.120177Z",
     "iopub.status.idle": "2021-04-30T19:05:08.123291Z",
     "shell.execute_reply": "2021-04-30T19:05:08.122801Z"
    }
   },
   "outputs": [
    {
     "name": "stdout",
     "output_type": "stream",
     "text": [
      "PauliTable: ['X', 'Y', 'I', 'Z']\n"
     ]
    }
   ],
   "source": [
    "from qiskit.quantum_info.operators import PauliTable\n",
    "\n",
    "pt = PauliTable.from_labels(['X', 'Y', 'X', 'I', 'I', 'Z', 'X', 'Z'])\n",
    "unique = pt.unique()\n",
    "print(unique)"
   ]
  }
 ],
 "metadata": {
  "kernelspec": {
   "display_name": "Python 3",
   "language": "python",
   "name": "python3"
  },
  "language_info": {
   "codemirror_mode": {
    "name": "ipython",
    "version": 3
   },
   "file_extension": ".py",
   "mimetype": "text/x-python",
   "name": "python",
   "nbconvert_exporter": "python",
   "pygments_lexer": "ipython3",
   "version": "3.8.9"
  }
 },
 "nbformat": 4,
 "nbformat_minor": 5
}