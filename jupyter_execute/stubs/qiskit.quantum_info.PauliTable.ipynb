{
 "cells": [
  {
   "cell_type": "code",
   "execution_count": 1,
   "id": "ad07836f",
   "metadata": {
    "execution": {
     "iopub.execute_input": "2021-04-29T22:51:03.088477Z",
     "iopub.status.busy": "2021-04-29T22:51:03.087968Z",
     "iopub.status.idle": "2021-04-29T22:51:03.680705Z",
     "shell.execute_reply": "2021-04-29T22:51:03.680006Z"
    }
   },
   "outputs": [
    {
     "name": "stdout",
     "output_type": "stream",
     "text": [
      "PauliTable: ['Y', 'Z', 'Z', 'Y']\n"
     ]
    }
   ],
   "source": [
    "from qiskit.quantum_info.operators import PauliTable\n",
    "\n",
    "current = PauliTable.from_labels(['I', 'X'])\n",
    "other =  PauliTable.from_labels(['Y', 'Z'])\n",
    "print(current.compose(other))"
   ]
  },
  {
   "cell_type": "code",
   "execution_count": 2,
   "id": "88982299",
   "metadata": {
    "execution": {
     "iopub.execute_input": "2021-04-29T22:51:03.687657Z",
     "iopub.status.busy": "2021-04-29T22:51:03.687094Z",
     "iopub.status.idle": "2021-04-29T22:51:03.690494Z",
     "shell.execute_reply": "2021-04-29T22:51:03.690109Z"
    }
   },
   "outputs": [
    {
     "name": "stdout",
     "output_type": "stream",
     "text": [
      "PauliTable: ['Y', 'Z', 'Z', 'Y']\n"
     ]
    }
   ],
   "source": [
    "from qiskit.quantum_info.operators import PauliTable\n",
    "\n",
    "current = PauliTable.from_labels(['I', 'X'])\n",
    "other =  PauliTable.from_labels(['Y', 'Z'])\n",
    "print(current.dot(other))"
   ]
  },
  {
   "cell_type": "code",
   "execution_count": 3,
   "id": "9a49399b",
   "metadata": {
    "execution": {
     "iopub.execute_input": "2021-04-29T22:51:03.695564Z",
     "iopub.status.busy": "2021-04-29T22:51:03.694705Z",
     "iopub.status.idle": "2021-04-29T22:51:03.696961Z",
     "shell.execute_reply": "2021-04-29T22:51:03.697343Z"
    }
   },
   "outputs": [
    {
     "name": "stdout",
     "output_type": "stream",
     "text": [
      "PauliTable: ['YI', 'YX', 'ZI', 'ZX']\n"
     ]
    }
   ],
   "source": [
    "from qiskit.quantum_info.operators import PauliTable\n",
    "\n",
    "current = PauliTable.from_labels(['I', 'X'])\n",
    "other =  PauliTable.from_labels(['Y', 'Z'])\n",
    "print(current.expand(other))"
   ]
  },
  {
   "cell_type": "code",
   "execution_count": 4,
   "id": "65cf48e4",
   "metadata": {
    "execution": {
     "iopub.execute_input": "2021-04-29T22:51:03.703491Z",
     "iopub.status.busy": "2021-04-29T22:51:03.702100Z",
     "iopub.status.idle": "2021-04-29T22:51:03.705654Z",
     "shell.execute_reply": "2021-04-29T22:51:03.705288Z"
    }
   },
   "outputs": [
    {
     "name": "stdout",
     "output_type": "stream",
     "text": [
      "Initial Ordering\n",
      "PauliTable: ['ZY', 'YI', 'IY', 'ZX', 'YY', 'XZ', 'IZ', 'YZ', 'XY', 'ZZ', 'XX', 'II', 'IX', 'XI', 'ZI', 'YX']\n",
      "Lexicographically sorted\n",
      "PauliTable: ['II', 'IX', 'IY', 'IZ', 'XI', 'XX', 'XY', 'XZ', 'YI', 'YX', 'YY', 'YZ', 'ZI', 'ZX', 'ZY', 'ZZ']\n",
      "Weight sorted\n",
      "PauliTable: ['II', 'IX', 'IY', 'IZ', 'XI', 'YI', 'ZI', 'XX', 'XY', 'XZ', 'YX', 'YY', 'YZ', 'ZX', 'ZY', 'ZZ']\n"
     ]
    }
   ],
   "source": [
    "from numpy.random import shuffle\n",
    "from qiskit.quantum_info.operators import PauliTable\n",
    "\n",
    "# 2-qubit labels\n",
    "labels = ['II', 'IX', 'IY', 'IZ', 'XI', 'XX', 'XY', 'XZ',\n",
    "          'YI', 'YX', 'YY', 'YZ', 'ZI', 'ZX', 'ZY', 'ZZ']\n",
    "# Shuffle Labels\n",
    "shuffle(labels)\n",
    "pt = PauliTable.from_labels(labels)\n",
    "print('Initial Ordering')\n",
    "print(pt)\n",
    "\n",
    "# Lexicographic Ordering\n",
    "srt = pt.sort()\n",
    "print('Lexicographically sorted')\n",
    "print(srt)\n",
    "\n",
    "# Weight Ordering\n",
    "srt = pt.sort(weight=True)\n",
    "print('Weight sorted')\n",
    "print(srt)"
   ]
  },
  {
   "cell_type": "code",
   "execution_count": 5,
   "id": "4ad07478",
   "metadata": {
    "execution": {
     "iopub.execute_input": "2021-04-29T22:51:03.710384Z",
     "iopub.status.busy": "2021-04-29T22:51:03.709430Z",
     "iopub.status.idle": "2021-04-29T22:51:03.712108Z",
     "shell.execute_reply": "2021-04-29T22:51:03.711656Z"
    }
   },
   "outputs": [
    {
     "name": "stdout",
     "output_type": "stream",
     "text": [
      "PauliTable: ['IY', 'IZ', 'XY', 'XZ']\n"
     ]
    }
   ],
   "source": [
    "from qiskit.quantum_info.operators import PauliTable\n",
    "\n",
    "current = PauliTable.from_labels(['I', 'X'])\n",
    "other =  PauliTable.from_labels(['Y', 'Z'])\n",
    "print(current.tensor(other))"
   ]
  },
  {
   "cell_type": "code",
   "execution_count": 6,
   "id": "db4eb054",
   "metadata": {
    "execution": {
     "iopub.execute_input": "2021-04-29T22:51:03.716273Z",
     "iopub.status.busy": "2021-04-29T22:51:03.715748Z",
     "iopub.status.idle": "2021-04-29T22:51:03.718052Z",
     "shell.execute_reply": "2021-04-29T22:51:03.718478Z"
    }
   },
   "outputs": [
    {
     "name": "stdout",
     "output_type": "stream",
     "text": [
      "PauliTable: ['X', 'Y', 'I', 'Z']\n"
     ]
    }
   ],
   "source": [
    "from qiskit.quantum_info.operators import PauliTable\n",
    "\n",
    "pt = PauliTable.from_labels(['X', 'Y', 'X', 'I', 'I', 'Z', 'X', 'Z'])\n",
    "unique = pt.unique()\n",
    "print(unique)"
   ]
  }
 ],
 "metadata": {
  "kernelspec": {
   "display_name": "Python 3",
   "language": "python",
   "name": "python3"
  },
  "language_info": {
   "codemirror_mode": {
    "name": "ipython",
    "version": 3
   },
   "file_extension": ".py",
   "mimetype": "text/x-python",
   "name": "python",
   "nbconvert_exporter": "python",
   "pygments_lexer": "ipython3",
   "version": "3.8.9"
  }
 },
 "nbformat": 4,
 "nbformat_minor": 5
}