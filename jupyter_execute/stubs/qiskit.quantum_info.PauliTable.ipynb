{
 "cells": [
  {
   "cell_type": "code",
   "execution_count": 1,
   "id": "506077d0",
   "metadata": {
    "execution": {
     "iopub.execute_input": "2021-05-03T20:06:38.973416Z",
     "iopub.status.busy": "2021-05-03T20:06:38.972904Z",
     "iopub.status.idle": "2021-05-03T20:06:39.672760Z",
     "shell.execute_reply": "2021-05-03T20:06:39.673225Z"
    }
   },
   "outputs": [
    {
     "name": "stdout",
     "output_type": "stream",
     "text": [
      "PauliTable: ['Y', 'Z', 'Z', 'Y']\n"
     ]
    }
   ],
   "source": [
    "from qiskit.quantum_info.operators import PauliTable\n",
    "\n",
    "current = PauliTable.from_labels(['I', 'X'])\n",
    "other =  PauliTable.from_labels(['Y', 'Z'])\n",
    "print(current.compose(other))"
   ]
  },
  {
   "cell_type": "code",
   "execution_count": 2,
   "id": "25e7ea1d",
   "metadata": {
    "execution": {
     "iopub.execute_input": "2021-05-03T20:06:39.680499Z",
     "iopub.status.busy": "2021-05-03T20:06:39.678621Z",
     "iopub.status.idle": "2021-05-03T20:06:39.682320Z",
     "shell.execute_reply": "2021-05-03T20:06:39.681834Z"
    }
   },
   "outputs": [
    {
     "name": "stdout",
     "output_type": "stream",
     "text": [
      "PauliTable: ['Y', 'Z', 'Z', 'Y']\n"
     ]
    }
   ],
   "source": [
    "from qiskit.quantum_info.operators import PauliTable\n",
    "\n",
    "current = PauliTable.from_labels(['I', 'X'])\n",
    "other =  PauliTable.from_labels(['Y', 'Z'])\n",
    "print(current.dot(other))"
   ]
  },
  {
   "cell_type": "code",
   "execution_count": 3,
   "id": "2789a636",
   "metadata": {
    "execution": {
     "iopub.execute_input": "2021-05-03T20:06:39.690518Z",
     "iopub.status.busy": "2021-05-03T20:06:39.688594Z",
     "iopub.status.idle": "2021-05-03T20:06:39.692277Z",
     "shell.execute_reply": "2021-05-03T20:06:39.691027Z"
    }
   },
   "outputs": [
    {
     "name": "stdout",
     "output_type": "stream",
     "text": [
      "PauliTable: ['YI', 'YX', 'ZI', 'ZX']\n"
     ]
    }
   ],
   "source": [
    "from qiskit.quantum_info.operators import PauliTable\n",
    "\n",
    "current = PauliTable.from_labels(['I', 'X'])\n",
    "other =  PauliTable.from_labels(['Y', 'Z'])\n",
    "print(current.expand(other))"
   ]
  },
  {
   "cell_type": "code",
   "execution_count": 4,
   "id": "267dc6b4",
   "metadata": {
    "execution": {
     "iopub.execute_input": "2021-05-03T20:06:39.698713Z",
     "iopub.status.busy": "2021-05-03T20:06:39.697486Z",
     "iopub.status.idle": "2021-05-03T20:06:39.702160Z",
     "shell.execute_reply": "2021-05-03T20:06:39.701706Z"
    }
   },
   "outputs": [
    {
     "name": "stdout",
     "output_type": "stream",
     "text": [
      "Initial Ordering\n",
      "PauliTable: ['YX', 'XX', 'XI', 'IY', 'YY', 'IX', 'ZI', 'YI', 'IZ', 'ZY', 'II', 'ZZ', 'YZ', 'XY', 'ZX', 'XZ']\n",
      "Lexicographically sorted\n",
      "PauliTable: ['II', 'IX', 'IY', 'IZ', 'XI', 'XX', 'XY', 'XZ', 'YI', 'YX', 'YY', 'YZ', 'ZI', 'ZX', 'ZY', 'ZZ']\n",
      "Weight sorted\n",
      "PauliTable: ['II', 'IX', 'IY', 'IZ', 'XI', 'YI', 'ZI', 'XX', 'XY', 'XZ', 'YX', 'YY', 'YZ', 'ZX', 'ZY', 'ZZ']\n"
     ]
    }
   ],
   "source": [
    "from numpy.random import shuffle\n",
    "from qiskit.quantum_info.operators import PauliTable\n",
    "\n",
    "# 2-qubit labels\n",
    "labels = ['II', 'IX', 'IY', 'IZ', 'XI', 'XX', 'XY', 'XZ',\n",
    "          'YI', 'YX', 'YY', 'YZ', 'ZI', 'ZX', 'ZY', 'ZZ']\n",
    "# Shuffle Labels\n",
    "shuffle(labels)\n",
    "pt = PauliTable.from_labels(labels)\n",
    "print('Initial Ordering')\n",
    "print(pt)\n",
    "\n",
    "# Lexicographic Ordering\n",
    "srt = pt.sort()\n",
    "print('Lexicographically sorted')\n",
    "print(srt)\n",
    "\n",
    "# Weight Ordering\n",
    "srt = pt.sort(weight=True)\n",
    "print('Weight sorted')\n",
    "print(srt)"
   ]
  },
  {
   "cell_type": "code",
   "execution_count": 5,
   "id": "62d5fa55",
   "metadata": {
    "execution": {
     "iopub.execute_input": "2021-05-03T20:06:39.708217Z",
     "iopub.status.busy": "2021-05-03T20:06:39.706807Z",
     "iopub.status.idle": "2021-05-03T20:06:39.710324Z",
     "shell.execute_reply": "2021-05-03T20:06:39.709818Z"
    }
   },
   "outputs": [
    {
     "name": "stdout",
     "output_type": "stream",
     "text": [
      "PauliTable: ['IY', 'IZ', 'XY', 'XZ']\n"
     ]
    }
   ],
   "source": [
    "from qiskit.quantum_info.operators import PauliTable\n",
    "\n",
    "current = PauliTable.from_labels(['I', 'X'])\n",
    "other =  PauliTable.from_labels(['Y', 'Z'])\n",
    "print(current.tensor(other))"
   ]
  },
  {
   "cell_type": "code",
   "execution_count": 6,
   "id": "126e881d",
   "metadata": {
    "execution": {
     "iopub.execute_input": "2021-05-03T20:06:39.716957Z",
     "iopub.status.busy": "2021-05-03T20:06:39.715391Z",
     "iopub.status.idle": "2021-05-03T20:06:39.719641Z",
     "shell.execute_reply": "2021-05-03T20:06:39.718732Z"
    }
   },
   "outputs": [
    {
     "name": "stdout",
     "output_type": "stream",
     "text": [
      "PauliTable: ['X', 'Y', 'I', 'Z']\n"
     ]
    }
   ],
   "source": [
    "from qiskit.quantum_info.operators import PauliTable\n",
    "\n",
    "pt = PauliTable.from_labels(['X', 'Y', 'X', 'I', 'I', 'Z', 'X', 'Z'])\n",
    "unique = pt.unique()\n",
    "print(unique)"
   ]
  }
 ],
 "metadata": {
  "kernelspec": {
   "display_name": "Python 3",
   "language": "python",
   "name": "python3"
  },
  "language_info": {
   "codemirror_mode": {
    "name": "ipython",
    "version": 3
   },
   "file_extension": ".py",
   "mimetype": "text/x-python",
   "name": "python",
   "nbconvert_exporter": "python",
   "pygments_lexer": "ipython3",
   "version": "3.8.9"
  }
 },
 "nbformat": 4,
 "nbformat_minor": 5
}