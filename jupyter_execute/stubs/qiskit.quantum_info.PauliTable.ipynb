{
 "cells": [
  {
   "cell_type": "code",
   "execution_count": 1,
   "id": "found-prayer",
   "metadata": {
    "execution": {
     "iopub.execute_input": "2021-04-01T04:47:23.651926Z",
     "iopub.status.busy": "2021-04-01T04:47:23.651274Z",
     "iopub.status.idle": "2021-04-01T04:47:25.813894Z",
     "shell.execute_reply": "2021-04-01T04:47:25.811931Z"
    }
   },
   "outputs": [
    {
     "name": "stdout",
     "output_type": "stream",
     "text": [
      "PauliTable: ['Y', 'Z', 'Z', 'Y']\n"
     ]
    }
   ],
   "source": [
    "from qiskit.quantum_info.operators import PauliTable\n",
    "\n",
    "current = PauliTable.from_labels(['I', 'X'])\n",
    "other =  PauliTable.from_labels(['Y', 'Z'])\n",
    "print(current.compose(other))"
   ]
  },
  {
   "cell_type": "code",
   "execution_count": 2,
   "id": "joined-airfare",
   "metadata": {
    "execution": {
     "iopub.execute_input": "2021-04-01T04:47:25.819745Z",
     "iopub.status.busy": "2021-04-01T04:47:25.819024Z",
     "iopub.status.idle": "2021-04-01T04:47:25.823889Z",
     "shell.execute_reply": "2021-04-01T04:47:25.823338Z"
    }
   },
   "outputs": [
    {
     "name": "stdout",
     "output_type": "stream",
     "text": [
      "PauliTable: ['Y', 'Z', 'Z', 'Y']\n"
     ]
    }
   ],
   "source": [
    "from qiskit.quantum_info.operators import PauliTable\n",
    "\n",
    "current = PauliTable.from_labels(['I', 'X'])\n",
    "other =  PauliTable.from_labels(['Y', 'Z'])\n",
    "print(current.dot(other))"
   ]
  },
  {
   "cell_type": "code",
   "execution_count": 3,
   "id": "demanding-english",
   "metadata": {
    "execution": {
     "iopub.execute_input": "2021-04-01T04:47:25.830842Z",
     "iopub.status.busy": "2021-04-01T04:47:25.829352Z",
     "iopub.status.idle": "2021-04-01T04:47:25.832867Z",
     "shell.execute_reply": "2021-04-01T04:47:25.832347Z"
    }
   },
   "outputs": [
    {
     "name": "stdout",
     "output_type": "stream",
     "text": [
      "PauliTable: ['YI', 'ZI', 'YX', 'ZX']\n"
     ]
    }
   ],
   "source": [
    "from qiskit.quantum_info.operators import PauliTable\n",
    "\n",
    "current = PauliTable.from_labels(['I', 'X'])\n",
    "other =  PauliTable.from_labels(['Y', 'Z'])\n",
    "print(current.expand(other))"
   ]
  },
  {
   "cell_type": "code",
   "execution_count": 4,
   "id": "several-birth",
   "metadata": {
    "execution": {
     "iopub.execute_input": "2021-04-01T04:47:25.840285Z",
     "iopub.status.busy": "2021-04-01T04:47:25.838847Z",
     "iopub.status.idle": "2021-04-01T04:47:25.844055Z",
     "shell.execute_reply": "2021-04-01T04:47:25.844568Z"
    }
   },
   "outputs": [
    {
     "name": "stdout",
     "output_type": "stream",
     "text": [
      "Initial Ordering\n",
      "PauliTable: ['ZY', 'XI', 'XX', 'ZX', 'XY', 'ZZ', 'ZI', 'XZ', 'IZ', 'YI', 'YZ', 'IX', 'II', 'IY', 'YX', 'YY']\n",
      "Lexicographically sorted\n",
      "PauliTable: ['II', 'IX', 'IY', 'IZ', 'XI', 'XX', 'XY', 'XZ', 'YI', 'YX', 'YY', 'YZ', 'ZI', 'ZX', 'ZY', 'ZZ']\n",
      "Weight sorted\n",
      "PauliTable: ['II', 'IX', 'IY', 'IZ', 'XI', 'YI', 'ZI', 'XX', 'XY', 'XZ', 'YX', 'YY', 'YZ', 'ZX', 'ZY', 'ZZ']\n"
     ]
    }
   ],
   "source": [
    "from numpy.random import shuffle\n",
    "from qiskit.quantum_info.operators import PauliTable\n",
    "\n",
    "# 2-qubit labels\n",
    "labels = ['II', 'IX', 'IY', 'IZ', 'XI', 'XX', 'XY', 'XZ',\n",
    "          'YI', 'YX', 'YY', 'YZ', 'ZI', 'ZX', 'ZY', 'ZZ']\n",
    "# Shuffle Labels\n",
    "shuffle(labels)\n",
    "pt = PauliTable.from_labels(labels)\n",
    "print('Initial Ordering')\n",
    "print(pt)\n",
    "\n",
    "# Lexicographic Ordering\n",
    "srt = pt.sort()\n",
    "print('Lexicographically sorted')\n",
    "print(srt)\n",
    "\n",
    "# Weight Ordering\n",
    "srt = pt.sort(weight=True)\n",
    "print('Weight sorted')\n",
    "print(srt)"
   ]
  },
  {
   "cell_type": "code",
   "execution_count": 5,
   "id": "active-giving",
   "metadata": {
    "execution": {
     "iopub.execute_input": "2021-04-01T04:47:25.850212Z",
     "iopub.status.busy": "2021-04-01T04:47:25.849473Z",
     "iopub.status.idle": "2021-04-01T04:47:25.854175Z",
     "shell.execute_reply": "2021-04-01T04:47:25.854666Z"
    }
   },
   "outputs": [
    {
     "name": "stdout",
     "output_type": "stream",
     "text": [
      "PauliTable: ['IY', 'IZ', 'XY', 'XZ']\n"
     ]
    }
   ],
   "source": [
    "from qiskit.quantum_info.operators import PauliTable\n",
    "\n",
    "current = PauliTable.from_labels(['I', 'X'])\n",
    "other =  PauliTable.from_labels(['Y', 'Z'])\n",
    "print(current.tensor(other))"
   ]
  },
  {
   "cell_type": "code",
   "execution_count": 6,
   "id": "protective-reminder",
   "metadata": {
    "execution": {
     "iopub.execute_input": "2021-04-01T04:47:25.861632Z",
     "iopub.status.busy": "2021-04-01T04:47:25.860122Z",
     "iopub.status.idle": "2021-04-01T04:47:25.863738Z",
     "shell.execute_reply": "2021-04-01T04:47:25.863123Z"
    }
   },
   "outputs": [
    {
     "name": "stdout",
     "output_type": "stream",
     "text": [
      "PauliTable: ['X', 'Y', 'I', 'Z']\n"
     ]
    }
   ],
   "source": [
    "from qiskit.quantum_info.operators import PauliTable\n",
    "\n",
    "pt = PauliTable.from_labels(['X', 'Y', 'X', 'I', 'I', 'Z', 'X', 'Z'])\n",
    "unique = pt.unique()\n",
    "print(unique)"
   ]
  }
 ],
 "metadata": {
  "kernelspec": {
   "display_name": "Python 3",
   "language": "python",
   "name": "python3"
  },
  "language_info": {
   "codemirror_mode": {
    "name": "ipython",
    "version": 3
   },
   "file_extension": ".py",
   "mimetype": "text/x-python",
   "name": "python",
   "nbconvert_exporter": "python",
   "pygments_lexer": "ipython3",
   "version": "3.8.8"
  }
 },
 "nbformat": 4,
 "nbformat_minor": 5
}