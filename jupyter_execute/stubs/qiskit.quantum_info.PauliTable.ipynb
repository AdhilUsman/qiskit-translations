{
 "cells": [
  {
   "cell_type": "code",
   "execution_count": 1,
   "id": "636e690d",
   "metadata": {
    "execution": {
     "iopub.execute_input": "2021-04-13T13:21:12.745200Z",
     "iopub.status.busy": "2021-04-13T13:21:12.744091Z",
     "iopub.status.idle": "2021-04-13T13:21:13.484961Z",
     "shell.execute_reply": "2021-04-13T13:21:13.485435Z"
    }
   },
   "outputs": [
    {
     "name": "stdout",
     "output_type": "stream",
     "text": [
      "PauliTable: ['Y', 'Z', 'Z', 'Y']\n"
     ]
    }
   ],
   "source": [
    "from qiskit.quantum_info.operators import PauliTable\n",
    "\n",
    "current = PauliTable.from_labels(['I', 'X'])\n",
    "other =  PauliTable.from_labels(['Y', 'Z'])\n",
    "print(current.compose(other))"
   ]
  },
  {
   "cell_type": "code",
   "execution_count": 2,
   "id": "e4489e49",
   "metadata": {
    "execution": {
     "iopub.execute_input": "2021-04-13T13:21:13.491235Z",
     "iopub.status.busy": "2021-04-13T13:21:13.490511Z",
     "iopub.status.idle": "2021-04-13T13:21:13.494720Z",
     "shell.execute_reply": "2021-04-13T13:21:13.495202Z"
    }
   },
   "outputs": [
    {
     "name": "stdout",
     "output_type": "stream",
     "text": [
      "PauliTable: ['Y', 'Z', 'Z', 'Y']\n"
     ]
    }
   ],
   "source": [
    "from qiskit.quantum_info.operators import PauliTable\n",
    "\n",
    "current = PauliTable.from_labels(['I', 'X'])\n",
    "other =  PauliTable.from_labels(['Y', 'Z'])\n",
    "print(current.dot(other))"
   ]
  },
  {
   "cell_type": "code",
   "execution_count": 3,
   "id": "9c366b45",
   "metadata": {
    "execution": {
     "iopub.execute_input": "2021-04-13T13:21:13.500384Z",
     "iopub.status.busy": "2021-04-13T13:21:13.499713Z",
     "iopub.status.idle": "2021-04-13T13:21:13.505339Z",
     "shell.execute_reply": "2021-04-13T13:21:13.504766Z"
    }
   },
   "outputs": [
    {
     "name": "stdout",
     "output_type": "stream",
     "text": [
      "PauliTable: ['YI', 'YX', 'ZI', 'ZX']\n"
     ]
    }
   ],
   "source": [
    "from qiskit.quantum_info.operators import PauliTable\n",
    "\n",
    "current = PauliTable.from_labels(['I', 'X'])\n",
    "other =  PauliTable.from_labels(['Y', 'Z'])\n",
    "print(current.expand(other))"
   ]
  },
  {
   "cell_type": "code",
   "execution_count": 4,
   "id": "73e2f139",
   "metadata": {
    "execution": {
     "iopub.execute_input": "2021-04-13T13:21:13.514820Z",
     "iopub.status.busy": "2021-04-13T13:21:13.514111Z",
     "iopub.status.idle": "2021-04-13T13:21:13.517475Z",
     "shell.execute_reply": "2021-04-13T13:21:13.518000Z"
    }
   },
   "outputs": [
    {
     "name": "stdout",
     "output_type": "stream",
     "text": [
      "Initial Ordering\n",
      "PauliTable: ['YY', 'XY', 'YI', 'IX', 'IZ', 'ZY', 'YZ', 'XI', 'IY', 'XX', 'XZ', 'YX', 'ZX', 'ZZ', 'II', 'ZI']\n",
      "Lexicographically sorted\n",
      "PauliTable: ['II', 'IX', 'IY', 'IZ', 'XI', 'XX', 'XY', 'XZ', 'YI', 'YX', 'YY', 'YZ', 'ZI', 'ZX', 'ZY', 'ZZ']\n",
      "Weight sorted\n",
      "PauliTable: ['II', 'IX', 'IY', 'IZ', 'XI', 'YI', 'ZI', 'XX', 'XY', 'XZ', 'YX', 'YY', 'YZ', 'ZX', 'ZY', 'ZZ']\n"
     ]
    }
   ],
   "source": [
    "from numpy.random import shuffle\n",
    "from qiskit.quantum_info.operators import PauliTable\n",
    "\n",
    "# 2-qubit labels\n",
    "labels = ['II', 'IX', 'IY', 'IZ', 'XI', 'XX', 'XY', 'XZ',\n",
    "          'YI', 'YX', 'YY', 'YZ', 'ZI', 'ZX', 'ZY', 'ZZ']\n",
    "# Shuffle Labels\n",
    "shuffle(labels)\n",
    "pt = PauliTable.from_labels(labels)\n",
    "print('Initial Ordering')\n",
    "print(pt)\n",
    "\n",
    "# Lexicographic Ordering\n",
    "srt = pt.sort()\n",
    "print('Lexicographically sorted')\n",
    "print(srt)\n",
    "\n",
    "# Weight Ordering\n",
    "srt = pt.sort(weight=True)\n",
    "print('Weight sorted')\n",
    "print(srt)"
   ]
  },
  {
   "cell_type": "code",
   "execution_count": 5,
   "id": "db213369",
   "metadata": {
    "execution": {
     "iopub.execute_input": "2021-04-13T13:21:13.524700Z",
     "iopub.status.busy": "2021-04-13T13:21:13.523112Z",
     "iopub.status.idle": "2021-04-13T13:21:13.526936Z",
     "shell.execute_reply": "2021-04-13T13:21:13.526341Z"
    }
   },
   "outputs": [
    {
     "name": "stdout",
     "output_type": "stream",
     "text": [
      "PauliTable: ['IY', 'IZ', 'XY', 'XZ']\n"
     ]
    }
   ],
   "source": [
    "from qiskit.quantum_info.operators import PauliTable\n",
    "\n",
    "current = PauliTable.from_labels(['I', 'X'])\n",
    "other =  PauliTable.from_labels(['Y', 'Z'])\n",
    "print(current.tensor(other))"
   ]
  },
  {
   "cell_type": "code",
   "execution_count": 6,
   "id": "a746d58e",
   "metadata": {
    "execution": {
     "iopub.execute_input": "2021-04-13T13:21:13.533520Z",
     "iopub.status.busy": "2021-04-13T13:21:13.531984Z",
     "iopub.status.idle": "2021-04-13T13:21:13.535744Z",
     "shell.execute_reply": "2021-04-13T13:21:13.535181Z"
    }
   },
   "outputs": [
    {
     "name": "stdout",
     "output_type": "stream",
     "text": [
      "PauliTable: ['X', 'Y', 'I', 'Z']\n"
     ]
    }
   ],
   "source": [
    "from qiskit.quantum_info.operators import PauliTable\n",
    "\n",
    "pt = PauliTable.from_labels(['X', 'Y', 'X', 'I', 'I', 'Z', 'X', 'Z'])\n",
    "unique = pt.unique()\n",
    "print(unique)"
   ]
  }
 ],
 "metadata": {
  "kernelspec": {
   "display_name": "Python 3",
   "language": "python",
   "name": "python3"
  },
  "language_info": {
   "codemirror_mode": {
    "name": "ipython",
    "version": 3
   },
   "file_extension": ".py",
   "mimetype": "text/x-python",
   "name": "python",
   "nbconvert_exporter": "python",
   "pygments_lexer": "ipython3",
   "version": "3.8.9"
  }
 },
 "nbformat": 4,
 "nbformat_minor": 5
}