{
 "cells": [
  {
   "cell_type": "code",
   "execution_count": 1,
   "id": "organized-liability",
   "metadata": {
    "execution": {
     "iopub.execute_input": "2021-03-27T14:08:02.331193Z",
     "iopub.status.busy": "2021-03-27T14:08:02.330296Z",
     "iopub.status.idle": "2021-03-27T14:08:04.186041Z",
     "shell.execute_reply": "2021-03-27T14:08:04.186566Z"
    }
   },
   "outputs": [
    {
     "name": "stdout",
     "output_type": "stream",
     "text": [
      "PauliTable: ['Y', 'Z', 'Z', 'Y']\n"
     ]
    }
   ],
   "source": [
    "from qiskit.quantum_info.operators import PauliTable\n",
    "\n",
    "current = PauliTable.from_labels(['I', 'X'])\n",
    "other =  PauliTable.from_labels(['Y', 'Z'])\n",
    "print(current.compose(other))"
   ]
  },
  {
   "cell_type": "code",
   "execution_count": 2,
   "id": "central-ridge",
   "metadata": {
    "execution": {
     "iopub.execute_input": "2021-03-27T14:08:04.192773Z",
     "iopub.status.busy": "2021-03-27T14:08:04.191456Z",
     "iopub.status.idle": "2021-03-27T14:08:04.194444Z",
     "shell.execute_reply": "2021-03-27T14:08:04.194001Z"
    }
   },
   "outputs": [
    {
     "name": "stdout",
     "output_type": "stream",
     "text": [
      "PauliTable: ['Y', 'Z', 'Z', 'Y']\n"
     ]
    }
   ],
   "source": [
    "from qiskit.quantum_info.operators import PauliTable\n",
    "\n",
    "current = PauliTable.from_labels(['I', 'X'])\n",
    "other =  PauliTable.from_labels(['Y', 'Z'])\n",
    "print(current.dot(other))"
   ]
  },
  {
   "cell_type": "code",
   "execution_count": 3,
   "id": "asian-guard",
   "metadata": {
    "execution": {
     "iopub.execute_input": "2021-03-27T14:08:04.199977Z",
     "iopub.status.busy": "2021-03-27T14:08:04.198676Z",
     "iopub.status.idle": "2021-03-27T14:08:04.201758Z",
     "shell.execute_reply": "2021-03-27T14:08:04.201262Z"
    }
   },
   "outputs": [
    {
     "name": "stdout",
     "output_type": "stream",
     "text": [
      "PauliTable: ['YI', 'ZI', 'YX', 'ZX']\n"
     ]
    }
   ],
   "source": [
    "from qiskit.quantum_info.operators import PauliTable\n",
    "\n",
    "current = PauliTable.from_labels(['I', 'X'])\n",
    "other =  PauliTable.from_labels(['Y', 'Z'])\n",
    "print(current.expand(other))"
   ]
  },
  {
   "cell_type": "code",
   "execution_count": 4,
   "id": "dedicated-prague",
   "metadata": {
    "execution": {
     "iopub.execute_input": "2021-03-27T14:08:04.209039Z",
     "iopub.status.busy": "2021-03-27T14:08:04.206663Z",
     "iopub.status.idle": "2021-03-27T14:08:04.211509Z",
     "shell.execute_reply": "2021-03-27T14:08:04.211049Z"
    }
   },
   "outputs": [
    {
     "name": "stdout",
     "output_type": "stream",
     "text": [
      "Initial Ordering\n",
      "PauliTable: ['ZY', 'YX', 'YY', 'XY', 'XZ', 'II', 'IY', 'ZZ', 'YI', 'YZ', 'XI', 'XX', 'IZ', 'ZI', 'ZX', 'IX']\n",
      "Lexicographically sorted\n",
      "PauliTable: ['II', 'IX', 'IY', 'IZ', 'XI', 'XX', 'XY', 'XZ', 'YI', 'YX', 'YY', 'YZ', 'ZI', 'ZX', 'ZY', 'ZZ']\n",
      "Weight sorted\n",
      "PauliTable: ['II', 'IX', 'IY', 'IZ', 'XI', 'YI', 'ZI', 'XX', 'XY', 'XZ', 'YX', 'YY', 'YZ', 'ZX', 'ZY', 'ZZ']\n"
     ]
    }
   ],
   "source": [
    "from numpy.random import shuffle\n",
    "from qiskit.quantum_info.operators import PauliTable\n",
    "\n",
    "# 2-qubit labels\n",
    "labels = ['II', 'IX', 'IY', 'IZ', 'XI', 'XX', 'XY', 'XZ',\n",
    "          'YI', 'YX', 'YY', 'YZ', 'ZI', 'ZX', 'ZY', 'ZZ']\n",
    "# Shuffle Labels\n",
    "shuffle(labels)\n",
    "pt = PauliTable.from_labels(labels)\n",
    "print('Initial Ordering')\n",
    "print(pt)\n",
    "\n",
    "# Lexicographic Ordering\n",
    "srt = pt.sort()\n",
    "print('Lexicographically sorted')\n",
    "print(srt)\n",
    "\n",
    "# Weight Ordering\n",
    "srt = pt.sort(weight=True)\n",
    "print('Weight sorted')\n",
    "print(srt)"
   ]
  },
  {
   "cell_type": "code",
   "execution_count": 5,
   "id": "strategic-debut",
   "metadata": {
    "execution": {
     "iopub.execute_input": "2021-03-27T14:08:04.217619Z",
     "iopub.status.busy": "2021-03-27T14:08:04.216372Z",
     "iopub.status.idle": "2021-03-27T14:08:04.219381Z",
     "shell.execute_reply": "2021-03-27T14:08:04.218915Z"
    }
   },
   "outputs": [
    {
     "name": "stdout",
     "output_type": "stream",
     "text": [
      "PauliTable: ['IY', 'IZ', 'XY', 'XZ']\n"
     ]
    }
   ],
   "source": [
    "from qiskit.quantum_info.operators import PauliTable\n",
    "\n",
    "current = PauliTable.from_labels(['I', 'X'])\n",
    "other =  PauliTable.from_labels(['Y', 'Z'])\n",
    "print(current.tensor(other))"
   ]
  },
  {
   "cell_type": "code",
   "execution_count": 6,
   "id": "classified-sampling",
   "metadata": {
    "execution": {
     "iopub.execute_input": "2021-03-27T14:08:04.225283Z",
     "iopub.status.busy": "2021-03-27T14:08:04.224029Z",
     "iopub.status.idle": "2021-03-27T14:08:04.227093Z",
     "shell.execute_reply": "2021-03-27T14:08:04.226588Z"
    }
   },
   "outputs": [
    {
     "name": "stdout",
     "output_type": "stream",
     "text": [
      "PauliTable: ['X', 'Y', 'I', 'Z']\n"
     ]
    }
   ],
   "source": [
    "from qiskit.quantum_info.operators import PauliTable\n",
    "\n",
    "pt = PauliTable.from_labels(['X', 'Y', 'X', 'I', 'I', 'Z', 'X', 'Z'])\n",
    "unique = pt.unique()\n",
    "print(unique)"
   ]
  }
 ],
 "metadata": {
  "kernelspec": {
   "display_name": "Python 3",
   "language": "python",
   "name": "python3"
  },
  "language_info": {
   "codemirror_mode": {
    "name": "ipython",
    "version": 3
   },
   "file_extension": ".py",
   "mimetype": "text/x-python",
   "name": "python",
   "nbconvert_exporter": "python",
   "pygments_lexer": "ipython3",
   "version": "3.8.8"
  }
 },
 "nbformat": 4,
 "nbformat_minor": 5
}