{
 "cells": [
  {
   "cell_type": "code",
   "execution_count": 1,
   "id": "8af8095d",
   "metadata": {
    "execution": {
     "iopub.execute_input": "2021-05-13T21:31:19.902460Z",
     "iopub.status.busy": "2021-05-13T21:31:19.901560Z",
     "iopub.status.idle": "2021-05-13T21:31:20.567221Z",
     "shell.execute_reply": "2021-05-13T21:31:20.567747Z"
    }
   },
   "outputs": [
    {
     "name": "stdout",
     "output_type": "stream",
     "text": [
      "PauliTable: ['Y', 'Z', 'Z', 'Y']\n"
     ]
    }
   ],
   "source": [
    "from qiskit.quantum_info.operators import PauliTable\n",
    "\n",
    "current = PauliTable.from_labels(['I', 'X'])\n",
    "other =  PauliTable.from_labels(['Y', 'Z'])\n",
    "print(current.compose(other))"
   ]
  },
  {
   "cell_type": "code",
   "execution_count": 2,
   "id": "f7ee8efb",
   "metadata": {
    "execution": {
     "iopub.execute_input": "2021-05-13T21:31:20.573360Z",
     "iopub.status.busy": "2021-05-13T21:31:20.572428Z",
     "iopub.status.idle": "2021-05-13T21:31:20.577348Z",
     "shell.execute_reply": "2021-05-13T21:31:20.576947Z"
    }
   },
   "outputs": [
    {
     "name": "stdout",
     "output_type": "stream",
     "text": [
      "PauliTable: ['Y', 'Z', 'Z', 'Y']\n"
     ]
    }
   ],
   "source": [
    "from qiskit.quantum_info.operators import PauliTable\n",
    "\n",
    "current = PauliTable.from_labels(['I', 'X'])\n",
    "other =  PauliTable.from_labels(['Y', 'Z'])\n",
    "print(current.dot(other))"
   ]
  },
  {
   "cell_type": "code",
   "execution_count": 3,
   "id": "c51af35c",
   "metadata": {
    "execution": {
     "iopub.execute_input": "2021-05-13T21:31:20.583492Z",
     "iopub.status.busy": "2021-05-13T21:31:20.582146Z",
     "iopub.status.idle": "2021-05-13T21:31:20.585555Z",
     "shell.execute_reply": "2021-05-13T21:31:20.585052Z"
    }
   },
   "outputs": [
    {
     "name": "stdout",
     "output_type": "stream",
     "text": [
      "PauliTable: ['YI', 'YX', 'ZI', 'ZX']\n"
     ]
    }
   ],
   "source": [
    "from qiskit.quantum_info.operators import PauliTable\n",
    "\n",
    "current = PauliTable.from_labels(['I', 'X'])\n",
    "other =  PauliTable.from_labels(['Y', 'Z'])\n",
    "print(current.expand(other))"
   ]
  },
  {
   "cell_type": "code",
   "execution_count": 4,
   "id": "71255192",
   "metadata": {
    "execution": {
     "iopub.execute_input": "2021-05-13T21:31:20.594625Z",
     "iopub.status.busy": "2021-05-13T21:31:20.592303Z",
     "iopub.status.idle": "2021-05-13T21:31:20.596395Z",
     "shell.execute_reply": "2021-05-13T21:31:20.595816Z"
    }
   },
   "outputs": [
    {
     "name": "stdout",
     "output_type": "stream",
     "text": [
      "Initial Ordering\n",
      "PauliTable: ['YX', 'ZY', 'II', 'XZ', 'XY', 'IZ', 'YI', 'ZZ', 'IX', 'YZ', 'YY', 'XX', 'XI', 'IY', 'ZX', 'ZI']\n",
      "Lexicographically sorted\n",
      "PauliTable: ['II', 'IX', 'IY', 'IZ', 'XI', 'XX', 'XY', 'XZ', 'YI', 'YX', 'YY', 'YZ', 'ZI', 'ZX', 'ZY', 'ZZ']\n",
      "Weight sorted\n",
      "PauliTable: ['II', 'IX', 'IY', 'IZ', 'XI', 'YI', 'ZI', 'XX', 'XY', 'XZ', 'YX', 'YY', 'YZ', 'ZX', 'ZY', 'ZZ']\n"
     ]
    }
   ],
   "source": [
    "from numpy.random import shuffle\n",
    "from qiskit.quantum_info.operators import PauliTable\n",
    "\n",
    "# 2-qubit labels\n",
    "labels = ['II', 'IX', 'IY', 'IZ', 'XI', 'XX', 'XY', 'XZ',\n",
    "          'YI', 'YX', 'YY', 'YZ', 'ZI', 'ZX', 'ZY', 'ZZ']\n",
    "# Shuffle Labels\n",
    "shuffle(labels)\n",
    "pt = PauliTable.from_labels(labels)\n",
    "print('Initial Ordering')\n",
    "print(pt)\n",
    "\n",
    "# Lexicographic Ordering\n",
    "srt = pt.sort()\n",
    "print('Lexicographically sorted')\n",
    "print(srt)\n",
    "\n",
    "# Weight Ordering\n",
    "srt = pt.sort(weight=True)\n",
    "print('Weight sorted')\n",
    "print(srt)"
   ]
  },
  {
   "cell_type": "code",
   "execution_count": 5,
   "id": "5fdec6fe",
   "metadata": {
    "execution": {
     "iopub.execute_input": "2021-05-13T21:31:20.602044Z",
     "iopub.status.busy": "2021-05-13T21:31:20.600762Z",
     "iopub.status.idle": "2021-05-13T21:31:20.604038Z",
     "shell.execute_reply": "2021-05-13T21:31:20.603574Z"
    }
   },
   "outputs": [
    {
     "name": "stdout",
     "output_type": "stream",
     "text": [
      "PauliTable: ['IY', 'IZ', 'XY', 'XZ']\n"
     ]
    }
   ],
   "source": [
    "from qiskit.quantum_info.operators import PauliTable\n",
    "\n",
    "current = PauliTable.from_labels(['I', 'X'])\n",
    "other =  PauliTable.from_labels(['Y', 'Z'])\n",
    "print(current.tensor(other))"
   ]
  },
  {
   "cell_type": "code",
   "execution_count": 6,
   "id": "23b0de57",
   "metadata": {
    "execution": {
     "iopub.execute_input": "2021-05-13T21:31:20.609880Z",
     "iopub.status.busy": "2021-05-13T21:31:20.608634Z",
     "iopub.status.idle": "2021-05-13T21:31:20.611562Z",
     "shell.execute_reply": "2021-05-13T21:31:20.611140Z"
    }
   },
   "outputs": [
    {
     "name": "stdout",
     "output_type": "stream",
     "text": [
      "PauliTable: ['X', 'Y', 'I', 'Z']\n"
     ]
    }
   ],
   "source": [
    "from qiskit.quantum_info.operators import PauliTable\n",
    "\n",
    "pt = PauliTable.from_labels(['X', 'Y', 'X', 'I', 'I', 'Z', 'X', 'Z'])\n",
    "unique = pt.unique()\n",
    "print(unique)"
   ]
  }
 ],
 "metadata": {
  "kernelspec": {
   "display_name": "Python 3",
   "language": "python",
   "name": "python3"
  },
  "language_info": {
   "codemirror_mode": {
    "name": "ipython",
    "version": 3
   },
   "file_extension": ".py",
   "mimetype": "text/x-python",
   "name": "python",
   "nbconvert_exporter": "python",
   "pygments_lexer": "ipython3",
   "version": "3.8.10"
  }
 },
 "nbformat": 4,
 "nbformat_minor": 5
}