{
 "cells": [
  {
   "cell_type": "code",
   "execution_count": 1,
   "id": "e2713cbd",
   "metadata": {
    "execution": {
     "iopub.execute_input": "2021-06-20T04:24:01.489841Z",
     "iopub.status.busy": "2021-06-20T04:24:01.489263Z",
     "iopub.status.idle": "2021-06-20T04:24:02.227545Z",
     "shell.execute_reply": "2021-06-20T04:24:02.226793Z"
    }
   },
   "outputs": [
    {
     "name": "stdout",
     "output_type": "stream",
     "text": [
      "PauliTable: ['Y', 'Z', 'Z', 'Y']\n"
     ]
    }
   ],
   "source": [
    "from qiskit.quantum_info.operators import PauliTable\n",
    "\n",
    "current = PauliTable.from_labels(['I', 'X'])\n",
    "other =  PauliTable.from_labels(['Y', 'Z'])\n",
    "print(current.compose(other))"
   ]
  },
  {
   "cell_type": "code",
   "execution_count": 2,
   "id": "e2dd6457",
   "metadata": {
    "execution": {
     "iopub.execute_input": "2021-06-20T04:24:02.234358Z",
     "iopub.status.busy": "2021-06-20T04:24:02.232802Z",
     "iopub.status.idle": "2021-06-20T04:24:02.236067Z",
     "shell.execute_reply": "2021-06-20T04:24:02.235621Z"
    }
   },
   "outputs": [
    {
     "name": "stdout",
     "output_type": "stream",
     "text": [
      "PauliTable: ['Y', 'Z', 'Z', 'Y']\n"
     ]
    }
   ],
   "source": [
    "from qiskit.quantum_info.operators import PauliTable\n",
    "\n",
    "current = PauliTable.from_labels(['I', 'X'])\n",
    "other =  PauliTable.from_labels(['Y', 'Z'])\n",
    "print(current.dot(other))"
   ]
  },
  {
   "cell_type": "code",
   "execution_count": 3,
   "id": "59ad4a79",
   "metadata": {
    "execution": {
     "iopub.execute_input": "2021-06-20T04:24:02.241929Z",
     "iopub.status.busy": "2021-06-20T04:24:02.240319Z",
     "iopub.status.idle": "2021-06-20T04:24:02.244867Z",
     "shell.execute_reply": "2021-06-20T04:24:02.244248Z"
    }
   },
   "outputs": [
    {
     "name": "stdout",
     "output_type": "stream",
     "text": [
      "PauliTable: ['YI', 'YX', 'ZI', 'ZX']\n"
     ]
    }
   ],
   "source": [
    "from qiskit.quantum_info.operators import PauliTable\n",
    "\n",
    "current = PauliTable.from_labels(['I', 'X'])\n",
    "other =  PauliTable.from_labels(['Y', 'Z'])\n",
    "print(current.expand(other))"
   ]
  },
  {
   "cell_type": "code",
   "execution_count": 4,
   "id": "205307b4",
   "metadata": {
    "execution": {
     "iopub.execute_input": "2021-06-20T04:24:02.252616Z",
     "iopub.status.busy": "2021-06-20T04:24:02.250482Z",
     "iopub.status.idle": "2021-06-20T04:24:02.255130Z",
     "shell.execute_reply": "2021-06-20T04:24:02.255633Z"
    }
   },
   "outputs": [
    {
     "name": "stdout",
     "output_type": "stream",
     "text": [
      "Initial Ordering\n",
      "PauliTable: ['ZZ', 'IY', 'ZX', 'IZ', 'XY', 'YX', 'YY', 'XX', 'YI', 'YZ', 'IX', 'II', 'XI', 'ZI', 'ZY', 'XZ']\n",
      "Lexicographically sorted\n",
      "PauliTable: ['II', 'IX', 'IY', 'IZ', 'XI', 'XX', 'XY', 'XZ', 'YI', 'YX', 'YY', 'YZ', 'ZI', 'ZX', 'ZY', 'ZZ']\n",
      "Weight sorted\n",
      "PauliTable: ['II', 'IX', 'IY', 'IZ', 'XI', 'YI', 'ZI', 'XX', 'XY', 'XZ', 'YX', 'YY', 'YZ', 'ZX', 'ZY', 'ZZ']\n"
     ]
    }
   ],
   "source": [
    "from numpy.random import shuffle\n",
    "from qiskit.quantum_info.operators import PauliTable\n",
    "\n",
    "# 2-qubit labels\n",
    "labels = ['II', 'IX', 'IY', 'IZ', 'XI', 'XX', 'XY', 'XZ',\n",
    "          'YI', 'YX', 'YY', 'YZ', 'ZI', 'ZX', 'ZY', 'ZZ']\n",
    "# Shuffle Labels\n",
    "shuffle(labels)\n",
    "pt = PauliTable.from_labels(labels)\n",
    "print('Initial Ordering')\n",
    "print(pt)\n",
    "\n",
    "# Lexicographic Ordering\n",
    "srt = pt.sort()\n",
    "print('Lexicographically sorted')\n",
    "print(srt)\n",
    "\n",
    "# Weight Ordering\n",
    "srt = pt.sort(weight=True)\n",
    "print('Weight sorted')\n",
    "print(srt)"
   ]
  },
  {
   "cell_type": "code",
   "execution_count": 5,
   "id": "953a8a1c",
   "metadata": {
    "execution": {
     "iopub.execute_input": "2021-06-20T04:24:02.261638Z",
     "iopub.status.busy": "2021-06-20T04:24:02.260444Z",
     "iopub.status.idle": "2021-06-20T04:24:02.264298Z",
     "shell.execute_reply": "2021-06-20T04:24:02.263760Z"
    }
   },
   "outputs": [
    {
     "name": "stdout",
     "output_type": "stream",
     "text": [
      "PauliTable: ['IY', 'IZ', 'XY', 'XZ']\n"
     ]
    }
   ],
   "source": [
    "from qiskit.quantum_info.operators import PauliTable\n",
    "\n",
    "current = PauliTable.from_labels(['I', 'X'])\n",
    "other =  PauliTable.from_labels(['Y', 'Z'])\n",
    "print(current.tensor(other))"
   ]
  },
  {
   "cell_type": "code",
   "execution_count": 6,
   "id": "29d767b3",
   "metadata": {
    "execution": {
     "iopub.execute_input": "2021-06-20T04:24:02.271031Z",
     "iopub.status.busy": "2021-06-20T04:24:02.269459Z",
     "iopub.status.idle": "2021-06-20T04:24:02.272967Z",
     "shell.execute_reply": "2021-06-20T04:24:02.272362Z"
    }
   },
   "outputs": [
    {
     "name": "stdout",
     "output_type": "stream",
     "text": [
      "PauliTable: ['X', 'Y', 'I', 'Z']\n"
     ]
    }
   ],
   "source": [
    "from qiskit.quantum_info.operators import PauliTable\n",
    "\n",
    "pt = PauliTable.from_labels(['X', 'Y', 'X', 'I', 'I', 'Z', 'X', 'Z'])\n",
    "unique = pt.unique()\n",
    "print(unique)"
   ]
  }
 ],
 "metadata": {
  "kernelspec": {
   "display_name": "Python 3",
   "language": "python",
   "name": "python3"
  },
  "language_info": {
   "codemirror_mode": {
    "name": "ipython",
    "version": 3
   },
   "file_extension": ".py",
   "mimetype": "text/x-python",
   "name": "python",
   "nbconvert_exporter": "python",
   "pygments_lexer": "ipython3",
   "version": "3.8.10"
  }
 },
 "nbformat": 4,
 "nbformat_minor": 5
}