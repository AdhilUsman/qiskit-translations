{
 "cells": [
  {
   "cell_type": "code",
   "execution_count": 1,
   "id": "2467386b",
   "metadata": {
    "execution": {
     "iopub.execute_input": "2021-05-04T05:13:23.673231Z",
     "iopub.status.busy": "2021-05-04T05:13:23.672485Z",
     "iopub.status.idle": "2021-05-04T05:13:24.391396Z",
     "shell.execute_reply": "2021-05-04T05:13:24.391918Z"
    }
   },
   "outputs": [
    {
     "name": "stdout",
     "output_type": "stream",
     "text": [
      "PauliTable: ['Y', 'Z', 'Z', 'Y']\n"
     ]
    }
   ],
   "source": [
    "from qiskit.quantum_info.operators import PauliTable\n",
    "\n",
    "current = PauliTable.from_labels(['I', 'X'])\n",
    "other =  PauliTable.from_labels(['Y', 'Z'])\n",
    "print(current.compose(other))"
   ]
  },
  {
   "cell_type": "code",
   "execution_count": 2,
   "id": "ded6731b",
   "metadata": {
    "execution": {
     "iopub.execute_input": "2021-05-04T05:13:24.398553Z",
     "iopub.status.busy": "2021-05-04T05:13:24.396962Z",
     "iopub.status.idle": "2021-05-04T05:13:24.400545Z",
     "shell.execute_reply": "2021-05-04T05:13:24.400022Z"
    }
   },
   "outputs": [
    {
     "name": "stdout",
     "output_type": "stream",
     "text": [
      "PauliTable: ['Y', 'Z', 'Z', 'Y']\n"
     ]
    }
   ],
   "source": [
    "from qiskit.quantum_info.operators import PauliTable\n",
    "\n",
    "current = PauliTable.from_labels(['I', 'X'])\n",
    "other =  PauliTable.from_labels(['Y', 'Z'])\n",
    "print(current.dot(other))"
   ]
  },
  {
   "cell_type": "code",
   "execution_count": 3,
   "id": "58d60846",
   "metadata": {
    "execution": {
     "iopub.execute_input": "2021-05-04T05:13:24.406540Z",
     "iopub.status.busy": "2021-05-04T05:13:24.405933Z",
     "iopub.status.idle": "2021-05-04T05:13:24.408808Z",
     "shell.execute_reply": "2021-05-04T05:13:24.409451Z"
    }
   },
   "outputs": [
    {
     "name": "stdout",
     "output_type": "stream",
     "text": [
      "PauliTable: ['YI', 'YX', 'ZI', 'ZX']\n"
     ]
    }
   ],
   "source": [
    "from qiskit.quantum_info.operators import PauliTable\n",
    "\n",
    "current = PauliTable.from_labels(['I', 'X'])\n",
    "other =  PauliTable.from_labels(['Y', 'Z'])\n",
    "print(current.expand(other))"
   ]
  },
  {
   "cell_type": "code",
   "execution_count": 4,
   "id": "7048ee85",
   "metadata": {
    "execution": {
     "iopub.execute_input": "2021-05-04T05:13:24.417667Z",
     "iopub.status.busy": "2021-05-04T05:13:24.417029Z",
     "iopub.status.idle": "2021-05-04T05:13:24.419902Z",
     "shell.execute_reply": "2021-05-04T05:13:24.420436Z"
    }
   },
   "outputs": [
    {
     "name": "stdout",
     "output_type": "stream",
     "text": [
      "Initial Ordering\n",
      "PauliTable: ['IZ', 'XZ', 'XX', 'ZY', 'YY', 'ZX', 'YX', 'II', 'YZ', 'XY', 'ZZ', 'YI', 'XI', 'IY', 'ZI', 'IX']\n",
      "Lexicographically sorted\n",
      "PauliTable: ['II', 'IX', 'IY', 'IZ', 'XI', 'XX', 'XY', 'XZ', 'YI', 'YX', 'YY', 'YZ', 'ZI', 'ZX', 'ZY', 'ZZ']\n",
      "Weight sorted\n",
      "PauliTable: ['II', 'IX', 'IY', 'IZ', 'XI', 'YI', 'ZI', 'XX', 'XY', 'XZ', 'YX', 'YY', 'YZ', 'ZX', 'ZY', 'ZZ']\n"
     ]
    }
   ],
   "source": [
    "from numpy.random import shuffle\n",
    "from qiskit.quantum_info.operators import PauliTable\n",
    "\n",
    "# 2-qubit labels\n",
    "labels = ['II', 'IX', 'IY', 'IZ', 'XI', 'XX', 'XY', 'XZ',\n",
    "          'YI', 'YX', 'YY', 'YZ', 'ZI', 'ZX', 'ZY', 'ZZ']\n",
    "# Shuffle Labels\n",
    "shuffle(labels)\n",
    "pt = PauliTable.from_labels(labels)\n",
    "print('Initial Ordering')\n",
    "print(pt)\n",
    "\n",
    "# Lexicographic Ordering\n",
    "srt = pt.sort()\n",
    "print('Lexicographically sorted')\n",
    "print(srt)\n",
    "\n",
    "# Weight Ordering\n",
    "srt = pt.sort(weight=True)\n",
    "print('Weight sorted')\n",
    "print(srt)"
   ]
  },
  {
   "cell_type": "code",
   "execution_count": 5,
   "id": "137b1ee7",
   "metadata": {
    "execution": {
     "iopub.execute_input": "2021-05-04T05:13:24.426589Z",
     "iopub.status.busy": "2021-05-04T05:13:24.425388Z",
     "iopub.status.idle": "2021-05-04T05:13:24.428366Z",
     "shell.execute_reply": "2021-05-04T05:13:24.427874Z"
    }
   },
   "outputs": [
    {
     "name": "stdout",
     "output_type": "stream",
     "text": [
      "PauliTable: ['IY', 'IZ', 'XY', 'XZ']\n"
     ]
    }
   ],
   "source": [
    "from qiskit.quantum_info.operators import PauliTable\n",
    "\n",
    "current = PauliTable.from_labels(['I', 'X'])\n",
    "other =  PauliTable.from_labels(['Y', 'Z'])\n",
    "print(current.tensor(other))"
   ]
  },
  {
   "cell_type": "code",
   "execution_count": 6,
   "id": "350bdc01",
   "metadata": {
    "execution": {
     "iopub.execute_input": "2021-05-04T05:13:24.435294Z",
     "iopub.status.busy": "2021-05-04T05:13:24.433977Z",
     "iopub.status.idle": "2021-05-04T05:13:24.437167Z",
     "shell.execute_reply": "2021-05-04T05:13:24.436655Z"
    }
   },
   "outputs": [
    {
     "name": "stdout",
     "output_type": "stream",
     "text": [
      "PauliTable: ['X', 'Y', 'I', 'Z']\n"
     ]
    }
   ],
   "source": [
    "from qiskit.quantum_info.operators import PauliTable\n",
    "\n",
    "pt = PauliTable.from_labels(['X', 'Y', 'X', 'I', 'I', 'Z', 'X', 'Z'])\n",
    "unique = pt.unique()\n",
    "print(unique)"
   ]
  }
 ],
 "metadata": {
  "kernelspec": {
   "display_name": "Python 3",
   "language": "python",
   "name": "python3"
  },
  "language_info": {
   "codemirror_mode": {
    "name": "ipython",
    "version": 3
   },
   "file_extension": ".py",
   "mimetype": "text/x-python",
   "name": "python",
   "nbconvert_exporter": "python",
   "pygments_lexer": "ipython3",
   "version": "3.8.9"
  }
 },
 "nbformat": 4,
 "nbformat_minor": 5
}