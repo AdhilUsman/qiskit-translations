{
 "cells": [
  {
   "cell_type": "code",
   "execution_count": 1,
   "id": "e7bca7c8",
   "metadata": {
    "execution": {
     "iopub.execute_input": "2021-04-23T07:44:24.669325Z",
     "iopub.status.busy": "2021-04-23T07:44:24.668654Z",
     "iopub.status.idle": "2021-04-23T07:44:25.357304Z",
     "shell.execute_reply": "2021-04-23T07:44:25.357837Z"
    }
   },
   "outputs": [
    {
     "name": "stdout",
     "output_type": "stream",
     "text": [
      "PauliTable: ['Y', 'Z', 'Z', 'Y']\n"
     ]
    }
   ],
   "source": [
    "from qiskit.quantum_info.operators import PauliTable\n",
    "\n",
    "current = PauliTable.from_labels(['I', 'X'])\n",
    "other =  PauliTable.from_labels(['Y', 'Z'])\n",
    "print(current.compose(other))"
   ]
  },
  {
   "cell_type": "code",
   "execution_count": 2,
   "id": "101b4ae6",
   "metadata": {
    "execution": {
     "iopub.execute_input": "2021-04-23T07:44:25.364448Z",
     "iopub.status.busy": "2021-04-23T07:44:25.362955Z",
     "iopub.status.idle": "2021-04-23T07:44:25.366316Z",
     "shell.execute_reply": "2021-04-23T07:44:25.365804Z"
    }
   },
   "outputs": [
    {
     "name": "stdout",
     "output_type": "stream",
     "text": [
      "PauliTable: ['Y', 'Z', 'Z', 'Y']\n"
     ]
    }
   ],
   "source": [
    "from qiskit.quantum_info.operators import PauliTable\n",
    "\n",
    "current = PauliTable.from_labels(['I', 'X'])\n",
    "other =  PauliTable.from_labels(['Y', 'Z'])\n",
    "print(current.dot(other))"
   ]
  },
  {
   "cell_type": "code",
   "execution_count": 3,
   "id": "bd04eb59",
   "metadata": {
    "execution": {
     "iopub.execute_input": "2021-04-23T07:44:25.372562Z",
     "iopub.status.busy": "2021-04-23T07:44:25.371138Z",
     "iopub.status.idle": "2021-04-23T07:44:25.374429Z",
     "shell.execute_reply": "2021-04-23T07:44:25.373898Z"
    }
   },
   "outputs": [
    {
     "name": "stdout",
     "output_type": "stream",
     "text": [
      "PauliTable: ['YI', 'YX', 'ZI', 'ZX']\n"
     ]
    }
   ],
   "source": [
    "from qiskit.quantum_info.operators import PauliTable\n",
    "\n",
    "current = PauliTable.from_labels(['I', 'X'])\n",
    "other =  PauliTable.from_labels(['Y', 'Z'])\n",
    "print(current.expand(other))"
   ]
  },
  {
   "cell_type": "code",
   "execution_count": 4,
   "id": "3bf4a418",
   "metadata": {
    "execution": {
     "iopub.execute_input": "2021-04-23T07:44:25.381668Z",
     "iopub.status.busy": "2021-04-23T07:44:25.379303Z",
     "iopub.status.idle": "2021-04-23T07:44:25.384573Z",
     "shell.execute_reply": "2021-04-23T07:44:25.383989Z"
    }
   },
   "outputs": [
    {
     "name": "stdout",
     "output_type": "stream",
     "text": [
      "Initial Ordering\n",
      "PauliTable: ['ZZ', 'ZX', 'YZ', 'YY', 'XZ', 'IY', 'II', 'YX', 'XX', 'XY', 'ZY', 'XI', 'IX', 'IZ', 'ZI', 'YI']\n",
      "Lexicographically sorted\n",
      "PauliTable: ['II', 'IX', 'IY', 'IZ', 'XI', 'XX', 'XY', 'XZ', 'YI', 'YX', 'YY', 'YZ', 'ZI', 'ZX', 'ZY', 'ZZ']\n",
      "Weight sorted\n",
      "PauliTable: ['II', 'IX', 'IY', 'IZ', 'XI', 'YI', 'ZI', 'XX', 'XY', 'XZ', 'YX', 'YY', 'YZ', 'ZX', 'ZY', 'ZZ']\n"
     ]
    }
   ],
   "source": [
    "from numpy.random import shuffle\n",
    "from qiskit.quantum_info.operators import PauliTable\n",
    "\n",
    "# 2-qubit labels\n",
    "labels = ['II', 'IX', 'IY', 'IZ', 'XI', 'XX', 'XY', 'XZ',\n",
    "          'YI', 'YX', 'YY', 'YZ', 'ZI', 'ZX', 'ZY', 'ZZ']\n",
    "# Shuffle Labels\n",
    "shuffle(labels)\n",
    "pt = PauliTable.from_labels(labels)\n",
    "print('Initial Ordering')\n",
    "print(pt)\n",
    "\n",
    "# Lexicographic Ordering\n",
    "srt = pt.sort()\n",
    "print('Lexicographically sorted')\n",
    "print(srt)\n",
    "\n",
    "# Weight Ordering\n",
    "srt = pt.sort(weight=True)\n",
    "print('Weight sorted')\n",
    "print(srt)"
   ]
  },
  {
   "cell_type": "code",
   "execution_count": 5,
   "id": "05180e73",
   "metadata": {
    "execution": {
     "iopub.execute_input": "2021-04-23T07:44:25.390576Z",
     "iopub.status.busy": "2021-04-23T07:44:25.389120Z",
     "iopub.status.idle": "2021-04-23T07:44:25.392506Z",
     "shell.execute_reply": "2021-04-23T07:44:25.391948Z"
    }
   },
   "outputs": [
    {
     "name": "stdout",
     "output_type": "stream",
     "text": [
      "PauliTable: ['IY', 'IZ', 'XY', 'XZ']\n"
     ]
    }
   ],
   "source": [
    "from qiskit.quantum_info.operators import PauliTable\n",
    "\n",
    "current = PauliTable.from_labels(['I', 'X'])\n",
    "other =  PauliTable.from_labels(['Y', 'Z'])\n",
    "print(current.tensor(other))"
   ]
  },
  {
   "cell_type": "code",
   "execution_count": 6,
   "id": "39036fea",
   "metadata": {
    "execution": {
     "iopub.execute_input": "2021-04-23T07:44:25.398562Z",
     "iopub.status.busy": "2021-04-23T07:44:25.397122Z",
     "iopub.status.idle": "2021-04-23T07:44:25.400463Z",
     "shell.execute_reply": "2021-04-23T07:44:25.399911Z"
    }
   },
   "outputs": [
    {
     "name": "stdout",
     "output_type": "stream",
     "text": [
      "PauliTable: ['X', 'Y', 'I', 'Z']\n"
     ]
    }
   ],
   "source": [
    "from qiskit.quantum_info.operators import PauliTable\n",
    "\n",
    "pt = PauliTable.from_labels(['X', 'Y', 'X', 'I', 'I', 'Z', 'X', 'Z'])\n",
    "unique = pt.unique()\n",
    "print(unique)"
   ]
  }
 ],
 "metadata": {
  "kernelspec": {
   "display_name": "Python 3",
   "language": "python",
   "name": "python3"
  },
  "language_info": {
   "codemirror_mode": {
    "name": "ipython",
    "version": 3
   },
   "file_extension": ".py",
   "mimetype": "text/x-python",
   "name": "python",
   "nbconvert_exporter": "python",
   "pygments_lexer": "ipython3",
   "version": "3.8.9"
  }
 },
 "nbformat": 4,
 "nbformat_minor": 5
}