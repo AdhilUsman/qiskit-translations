{
 "cells": [
  {
   "cell_type": "code",
   "execution_count": 1,
   "id": "ffc15ab5",
   "metadata": {
    "execution": {
     "iopub.execute_input": "2021-05-08T15:08:37.683668Z",
     "iopub.status.busy": "2021-05-08T15:08:37.683021Z",
     "iopub.status.idle": "2021-05-08T15:08:38.417132Z",
     "shell.execute_reply": "2021-05-08T15:08:38.417656Z"
    }
   },
   "outputs": [
    {
     "name": "stdout",
     "output_type": "stream",
     "text": [
      "PauliTable: ['Y', 'Z', 'Z', 'Y']\n"
     ]
    }
   ],
   "source": [
    "from qiskit.quantum_info.operators import PauliTable\n",
    "\n",
    "current = PauliTable.from_labels(['I', 'X'])\n",
    "other =  PauliTable.from_labels(['Y', 'Z'])\n",
    "print(current.compose(other))"
   ]
  },
  {
   "cell_type": "code",
   "execution_count": 2,
   "id": "635e1c21",
   "metadata": {
    "execution": {
     "iopub.execute_input": "2021-05-08T15:08:38.424448Z",
     "iopub.status.busy": "2021-05-08T15:08:38.422650Z",
     "iopub.status.idle": "2021-05-08T15:08:38.426291Z",
     "shell.execute_reply": "2021-05-08T15:08:38.425036Z"
    }
   },
   "outputs": [
    {
     "name": "stdout",
     "output_type": "stream",
     "text": [
      "PauliTable: ['Y', 'Z', 'Z', 'Y']\n"
     ]
    }
   ],
   "source": [
    "from qiskit.quantum_info.operators import PauliTable\n",
    "\n",
    "current = PauliTable.from_labels(['I', 'X'])\n",
    "other =  PauliTable.from_labels(['Y', 'Z'])\n",
    "print(current.dot(other))"
   ]
  },
  {
   "cell_type": "code",
   "execution_count": 3,
   "id": "00722817",
   "metadata": {
    "execution": {
     "iopub.execute_input": "2021-05-08T15:08:38.432376Z",
     "iopub.status.busy": "2021-05-08T15:08:38.430915Z",
     "iopub.status.idle": "2021-05-08T15:08:38.434924Z",
     "shell.execute_reply": "2021-05-08T15:08:38.434400Z"
    }
   },
   "outputs": [
    {
     "name": "stdout",
     "output_type": "stream",
     "text": [
      "PauliTable: ['YI', 'YX', 'ZI', 'ZX']\n"
     ]
    }
   ],
   "source": [
    "from qiskit.quantum_info.operators import PauliTable\n",
    "\n",
    "current = PauliTable.from_labels(['I', 'X'])\n",
    "other =  PauliTable.from_labels(['Y', 'Z'])\n",
    "print(current.expand(other))"
   ]
  },
  {
   "cell_type": "code",
   "execution_count": 4,
   "id": "9616b76d",
   "metadata": {
    "execution": {
     "iopub.execute_input": "2021-05-08T15:08:38.442827Z",
     "iopub.status.busy": "2021-05-08T15:08:38.440087Z",
     "iopub.status.idle": "2021-05-08T15:08:38.444938Z",
     "shell.execute_reply": "2021-05-08T15:08:38.445418Z"
    }
   },
   "outputs": [
    {
     "name": "stdout",
     "output_type": "stream",
     "text": [
      "Initial Ordering\n",
      "PauliTable: ['ZZ', 'YZ', 'ZY', 'YY', 'IX', 'XX', 'YI', 'II', 'ZI', 'ZX', 'YX', 'IY', 'XZ', 'XI', 'IZ', 'XY']\n",
      "Lexicographically sorted\n",
      "PauliTable: ['II', 'IX', 'IY', 'IZ', 'XI', 'XX', 'XY', 'XZ', 'YI', 'YX', 'YY', 'YZ', 'ZI', 'ZX', 'ZY', 'ZZ']\n",
      "Weight sorted\n",
      "PauliTable: ['II', 'IX', 'IY', 'IZ', 'XI', 'YI', 'ZI', 'XX', 'XY', 'XZ', 'YX', 'YY', 'YZ', 'ZX', 'ZY', 'ZZ']\n"
     ]
    }
   ],
   "source": [
    "from numpy.random import shuffle\n",
    "from qiskit.quantum_info.operators import PauliTable\n",
    "\n",
    "# 2-qubit labels\n",
    "labels = ['II', 'IX', 'IY', 'IZ', 'XI', 'XX', 'XY', 'XZ',\n",
    "          'YI', 'YX', 'YY', 'YZ', 'ZI', 'ZX', 'ZY', 'ZZ']\n",
    "# Shuffle Labels\n",
    "shuffle(labels)\n",
    "pt = PauliTable.from_labels(labels)\n",
    "print('Initial Ordering')\n",
    "print(pt)\n",
    "\n",
    "# Lexicographic Ordering\n",
    "srt = pt.sort()\n",
    "print('Lexicographically sorted')\n",
    "print(srt)\n",
    "\n",
    "# Weight Ordering\n",
    "srt = pt.sort(weight=True)\n",
    "print('Weight sorted')\n",
    "print(srt)"
   ]
  },
  {
   "cell_type": "code",
   "execution_count": 5,
   "id": "9aa64fcd",
   "metadata": {
    "execution": {
     "iopub.execute_input": "2021-05-08T15:08:38.452039Z",
     "iopub.status.busy": "2021-05-08T15:08:38.450626Z",
     "iopub.status.idle": "2021-05-08T15:08:38.453922Z",
     "shell.execute_reply": "2021-05-08T15:08:38.453389Z"
    }
   },
   "outputs": [
    {
     "name": "stdout",
     "output_type": "stream",
     "text": [
      "PauliTable: ['IY', 'IZ', 'XY', 'XZ']\n"
     ]
    }
   ],
   "source": [
    "from qiskit.quantum_info.operators import PauliTable\n",
    "\n",
    "current = PauliTable.from_labels(['I', 'X'])\n",
    "other =  PauliTable.from_labels(['Y', 'Z'])\n",
    "print(current.tensor(other))"
   ]
  },
  {
   "cell_type": "code",
   "execution_count": 6,
   "id": "c315e143",
   "metadata": {
    "execution": {
     "iopub.execute_input": "2021-05-08T15:08:38.459964Z",
     "iopub.status.busy": "2021-05-08T15:08:38.458675Z",
     "iopub.status.idle": "2021-05-08T15:08:38.461896Z",
     "shell.execute_reply": "2021-05-08T15:08:38.461382Z"
    }
   },
   "outputs": [
    {
     "name": "stdout",
     "output_type": "stream",
     "text": [
      "PauliTable: ['X', 'Y', 'I', 'Z']\n"
     ]
    }
   ],
   "source": [
    "from qiskit.quantum_info.operators import PauliTable\n",
    "\n",
    "pt = PauliTable.from_labels(['X', 'Y', 'X', 'I', 'I', 'Z', 'X', 'Z'])\n",
    "unique = pt.unique()\n",
    "print(unique)"
   ]
  }
 ],
 "metadata": {
  "kernelspec": {
   "display_name": "Python 3",
   "language": "python",
   "name": "python3"
  },
  "language_info": {
   "codemirror_mode": {
    "name": "ipython",
    "version": 3
   },
   "file_extension": ".py",
   "mimetype": "text/x-python",
   "name": "python",
   "nbconvert_exporter": "python",
   "pygments_lexer": "ipython3",
   "version": "3.8.10"
  }
 },
 "nbformat": 4,
 "nbformat_minor": 5
}