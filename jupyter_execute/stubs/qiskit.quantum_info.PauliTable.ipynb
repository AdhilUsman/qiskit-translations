{
 "cells": [
  {
   "cell_type": "code",
   "execution_count": 1,
   "id": "3694995f",
   "metadata": {
    "execution": {
     "iopub.execute_input": "2021-04-08T04:30:13.427800Z",
     "iopub.status.busy": "2021-04-08T04:30:13.427196Z",
     "iopub.status.idle": "2021-04-08T04:30:14.208514Z",
     "shell.execute_reply": "2021-04-08T04:30:14.209074Z"
    }
   },
   "outputs": [
    {
     "name": "stdout",
     "output_type": "stream",
     "text": [
      "PauliTable: ['Y', 'Z', 'Z', 'Y']\n"
     ]
    }
   ],
   "source": [
    "from qiskit.quantum_info.operators import PauliTable\n",
    "\n",
    "current = PauliTable.from_labels(['I', 'X'])\n",
    "other =  PauliTable.from_labels(['Y', 'Z'])\n",
    "print(current.compose(other))"
   ]
  },
  {
   "cell_type": "code",
   "execution_count": 2,
   "id": "12a87849",
   "metadata": {
    "execution": {
     "iopub.execute_input": "2021-04-08T04:30:14.216062Z",
     "iopub.status.busy": "2021-04-08T04:30:14.214601Z",
     "iopub.status.idle": "2021-04-08T04:30:14.218104Z",
     "shell.execute_reply": "2021-04-08T04:30:14.217475Z"
    }
   },
   "outputs": [
    {
     "name": "stdout",
     "output_type": "stream",
     "text": [
      "PauliTable: ['Y', 'Z', 'Z', 'Y']\n"
     ]
    }
   ],
   "source": [
    "from qiskit.quantum_info.operators import PauliTable\n",
    "\n",
    "current = PauliTable.from_labels(['I', 'X'])\n",
    "other =  PauliTable.from_labels(['Y', 'Z'])\n",
    "print(current.dot(other))"
   ]
  },
  {
   "cell_type": "code",
   "execution_count": 3,
   "id": "48a0264b",
   "metadata": {
    "execution": {
     "iopub.execute_input": "2021-04-08T04:30:14.224883Z",
     "iopub.status.busy": "2021-04-08T04:30:14.223301Z",
     "iopub.status.idle": "2021-04-08T04:30:14.226777Z",
     "shell.execute_reply": "2021-04-08T04:30:14.226258Z"
    }
   },
   "outputs": [
    {
     "name": "stdout",
     "output_type": "stream",
     "text": [
      "PauliTable: ['YI', 'YX', 'ZI', 'ZX']\n"
     ]
    }
   ],
   "source": [
    "from qiskit.quantum_info.operators import PauliTable\n",
    "\n",
    "current = PauliTable.from_labels(['I', 'X'])\n",
    "other =  PauliTable.from_labels(['Y', 'Z'])\n",
    "print(current.expand(other))"
   ]
  },
  {
   "cell_type": "code",
   "execution_count": 4,
   "id": "5d78d73e",
   "metadata": {
    "execution": {
     "iopub.execute_input": "2021-04-08T04:30:14.235702Z",
     "iopub.status.busy": "2021-04-08T04:30:14.233189Z",
     "iopub.status.idle": "2021-04-08T04:30:14.238489Z",
     "shell.execute_reply": "2021-04-08T04:30:14.238994Z"
    }
   },
   "outputs": [
    {
     "name": "stdout",
     "output_type": "stream",
     "text": [
      "Initial Ordering\n",
      "PauliTable: ['IY', 'II', 'ZZ', 'XY', 'ZX', 'XI', 'XZ', 'YY', 'XX', 'IX', 'ZI', 'ZY', 'YX', 'YI', 'IZ', 'YZ']\n",
      "Lexicographically sorted\n",
      "PauliTable: ['II', 'IX', 'IY', 'IZ', 'XI', 'XX', 'XY', 'XZ', 'YI', 'YX', 'YY', 'YZ', 'ZI', 'ZX', 'ZY', 'ZZ']\n",
      "Weight sorted\n",
      "PauliTable: ['II', 'IX', 'IY', 'IZ', 'XI', 'YI', 'ZI', 'XX', 'XY', 'XZ', 'YX', 'YY', 'YZ', 'ZX', 'ZY', 'ZZ']\n"
     ]
    }
   ],
   "source": [
    "from numpy.random import shuffle\n",
    "from qiskit.quantum_info.operators import PauliTable\n",
    "\n",
    "# 2-qubit labels\n",
    "labels = ['II', 'IX', 'IY', 'IZ', 'XI', 'XX', 'XY', 'XZ',\n",
    "          'YI', 'YX', 'YY', 'YZ', 'ZI', 'ZX', 'ZY', 'ZZ']\n",
    "# Shuffle Labels\n",
    "shuffle(labels)\n",
    "pt = PauliTable.from_labels(labels)\n",
    "print('Initial Ordering')\n",
    "print(pt)\n",
    "\n",
    "# Lexicographic Ordering\n",
    "srt = pt.sort()\n",
    "print('Lexicographically sorted')\n",
    "print(srt)\n",
    "\n",
    "# Weight Ordering\n",
    "srt = pt.sort(weight=True)\n",
    "print('Weight sorted')\n",
    "print(srt)"
   ]
  },
  {
   "cell_type": "code",
   "execution_count": 5,
   "id": "70ca1c64",
   "metadata": {
    "execution": {
     "iopub.execute_input": "2021-04-08T04:30:14.245581Z",
     "iopub.status.busy": "2021-04-08T04:30:14.243992Z",
     "iopub.status.idle": "2021-04-08T04:30:14.247674Z",
     "shell.execute_reply": "2021-04-08T04:30:14.247104Z"
    }
   },
   "outputs": [
    {
     "name": "stdout",
     "output_type": "stream",
     "text": [
      "PauliTable: ['IY', 'IZ', 'XY', 'XZ']\n"
     ]
    }
   ],
   "source": [
    "from qiskit.quantum_info.operators import PauliTable\n",
    "\n",
    "current = PauliTable.from_labels(['I', 'X'])\n",
    "other =  PauliTable.from_labels(['Y', 'Z'])\n",
    "print(current.tensor(other))"
   ]
  },
  {
   "cell_type": "code",
   "execution_count": 6,
   "id": "0b462b30",
   "metadata": {
    "execution": {
     "iopub.execute_input": "2021-04-08T04:30:14.254456Z",
     "iopub.status.busy": "2021-04-08T04:30:14.252887Z",
     "iopub.status.idle": "2021-04-08T04:30:14.256421Z",
     "shell.execute_reply": "2021-04-08T04:30:14.255835Z"
    }
   },
   "outputs": [
    {
     "name": "stdout",
     "output_type": "stream",
     "text": [
      "PauliTable: ['X', 'Y', 'I', 'Z']\n"
     ]
    }
   ],
   "source": [
    "from qiskit.quantum_info.operators import PauliTable\n",
    "\n",
    "pt = PauliTable.from_labels(['X', 'Y', 'X', 'I', 'I', 'Z', 'X', 'Z'])\n",
    "unique = pt.unique()\n",
    "print(unique)"
   ]
  }
 ],
 "metadata": {
  "kernelspec": {
   "display_name": "Python 3",
   "language": "python",
   "name": "python3"
  },
  "language_info": {
   "codemirror_mode": {
    "name": "ipython",
    "version": 3
   },
   "file_extension": ".py",
   "mimetype": "text/x-python",
   "name": "python",
   "nbconvert_exporter": "python",
   "pygments_lexer": "ipython3",
   "version": "3.8.8"
  }
 },
 "nbformat": 4,
 "nbformat_minor": 5
}