{
 "cells": [
  {
   "cell_type": "code",
   "execution_count": 1,
   "id": "c16ba99c",
   "metadata": {
    "execution": {
     "iopub.execute_input": "2021-05-08T17:05:29.555115Z",
     "iopub.status.busy": "2021-05-08T17:05:29.553271Z",
     "iopub.status.idle": "2021-05-08T17:05:30.275611Z",
     "shell.execute_reply": "2021-05-08T17:05:30.276043Z"
    }
   },
   "outputs": [
    {
     "name": "stdout",
     "output_type": "stream",
     "text": [
      "PauliTable: ['Y', 'Z', 'Z', 'Y']\n"
     ]
    }
   ],
   "source": [
    "from qiskit.quantum_info.operators import PauliTable\n",
    "\n",
    "current = PauliTable.from_labels(['I', 'X'])\n",
    "other =  PauliTable.from_labels(['Y', 'Z'])\n",
    "print(current.compose(other))"
   ]
  },
  {
   "cell_type": "code",
   "execution_count": 2,
   "id": "1eaee38c",
   "metadata": {
    "execution": {
     "iopub.execute_input": "2021-05-08T17:05:30.282974Z",
     "iopub.status.busy": "2021-05-08T17:05:30.281485Z",
     "iopub.status.idle": "2021-05-08T17:05:30.284891Z",
     "shell.execute_reply": "2021-05-08T17:05:30.284388Z"
    }
   },
   "outputs": [
    {
     "name": "stdout",
     "output_type": "stream",
     "text": [
      "PauliTable: ['Y', 'Z', 'Z', 'Y']\n"
     ]
    }
   ],
   "source": [
    "from qiskit.quantum_info.operators import PauliTable\n",
    "\n",
    "current = PauliTable.from_labels(['I', 'X'])\n",
    "other =  PauliTable.from_labels(['Y', 'Z'])\n",
    "print(current.dot(other))"
   ]
  },
  {
   "cell_type": "code",
   "execution_count": 3,
   "id": "fbd357d1",
   "metadata": {
    "execution": {
     "iopub.execute_input": "2021-05-08T17:05:30.291414Z",
     "iopub.status.busy": "2021-05-08T17:05:30.289827Z",
     "iopub.status.idle": "2021-05-08T17:05:30.293535Z",
     "shell.execute_reply": "2021-05-08T17:05:30.293005Z"
    }
   },
   "outputs": [
    {
     "name": "stdout",
     "output_type": "stream",
     "text": [
      "PauliTable: ['YI', 'YX', 'ZI', 'ZX']\n"
     ]
    }
   ],
   "source": [
    "from qiskit.quantum_info.operators import PauliTable\n",
    "\n",
    "current = PauliTable.from_labels(['I', 'X'])\n",
    "other =  PauliTable.from_labels(['Y', 'Z'])\n",
    "print(current.expand(other))"
   ]
  },
  {
   "cell_type": "code",
   "execution_count": 4,
   "id": "2edf73ec",
   "metadata": {
    "execution": {
     "iopub.execute_input": "2021-05-08T17:05:30.303426Z",
     "iopub.status.busy": "2021-05-08T17:05:30.301839Z",
     "iopub.status.idle": "2021-05-08T17:05:30.305616Z",
     "shell.execute_reply": "2021-05-08T17:05:30.305070Z"
    }
   },
   "outputs": [
    {
     "name": "stdout",
     "output_type": "stream",
     "text": [
      "Initial Ordering\n",
      "PauliTable: ['ZZ', 'II', 'YZ', 'IZ', 'IX', 'IY', 'ZY', 'XI', 'YI', 'YX', 'XX', 'ZX', 'XY', 'XZ', 'ZI', 'YY']\n",
      "Lexicographically sorted\n",
      "PauliTable: ['II', 'IX', 'IY', 'IZ', 'XI', 'XX', 'XY', 'XZ', 'YI', 'YX', 'YY', 'YZ', 'ZI', 'ZX', 'ZY', 'ZZ']\n",
      "Weight sorted\n",
      "PauliTable: ['II', 'IX', 'IY', 'IZ', 'XI', 'YI', 'ZI', 'XX', 'XY', 'XZ', 'YX', 'YY', 'YZ', 'ZX', 'ZY', 'ZZ']\n"
     ]
    }
   ],
   "source": [
    "from numpy.random import shuffle\n",
    "from qiskit.quantum_info.operators import PauliTable\n",
    "\n",
    "# 2-qubit labels\n",
    "labels = ['II', 'IX', 'IY', 'IZ', 'XI', 'XX', 'XY', 'XZ',\n",
    "          'YI', 'YX', 'YY', 'YZ', 'ZI', 'ZX', 'ZY', 'ZZ']\n",
    "# Shuffle Labels\n",
    "shuffle(labels)\n",
    "pt = PauliTable.from_labels(labels)\n",
    "print('Initial Ordering')\n",
    "print(pt)\n",
    "\n",
    "# Lexicographic Ordering\n",
    "srt = pt.sort()\n",
    "print('Lexicographically sorted')\n",
    "print(srt)\n",
    "\n",
    "# Weight Ordering\n",
    "srt = pt.sort(weight=True)\n",
    "print('Weight sorted')\n",
    "print(srt)"
   ]
  },
  {
   "cell_type": "code",
   "execution_count": 5,
   "id": "2c96a991",
   "metadata": {
    "execution": {
     "iopub.execute_input": "2021-05-08T17:05:30.312072Z",
     "iopub.status.busy": "2021-05-08T17:05:30.310644Z",
     "iopub.status.idle": "2021-05-08T17:05:30.313905Z",
     "shell.execute_reply": "2021-05-08T17:05:30.313400Z"
    }
   },
   "outputs": [
    {
     "name": "stdout",
     "output_type": "stream",
     "text": [
      "PauliTable: ['IY', 'IZ', 'XY', 'XZ']\n"
     ]
    }
   ],
   "source": [
    "from qiskit.quantum_info.operators import PauliTable\n",
    "\n",
    "current = PauliTable.from_labels(['I', 'X'])\n",
    "other =  PauliTable.from_labels(['Y', 'Z'])\n",
    "print(current.tensor(other))"
   ]
  },
  {
   "cell_type": "code",
   "execution_count": 6,
   "id": "eda24141",
   "metadata": {
    "execution": {
     "iopub.execute_input": "2021-05-08T17:05:30.320345Z",
     "iopub.status.busy": "2021-05-08T17:05:30.318854Z",
     "iopub.status.idle": "2021-05-08T17:05:30.322416Z",
     "shell.execute_reply": "2021-05-08T17:05:30.321874Z"
    }
   },
   "outputs": [
    {
     "name": "stdout",
     "output_type": "stream",
     "text": [
      "PauliTable: ['X', 'Y', 'I', 'Z']\n"
     ]
    }
   ],
   "source": [
    "from qiskit.quantum_info.operators import PauliTable\n",
    "\n",
    "pt = PauliTable.from_labels(['X', 'Y', 'X', 'I', 'I', 'Z', 'X', 'Z'])\n",
    "unique = pt.unique()\n",
    "print(unique)"
   ]
  }
 ],
 "metadata": {
  "kernelspec": {
   "display_name": "Python 3",
   "language": "python",
   "name": "python3"
  },
  "language_info": {
   "codemirror_mode": {
    "name": "ipython",
    "version": 3
   },
   "file_extension": ".py",
   "mimetype": "text/x-python",
   "name": "python",
   "nbconvert_exporter": "python",
   "pygments_lexer": "ipython3",
   "version": "3.8.10"
  }
 },
 "nbformat": 4,
 "nbformat_minor": 5
}