{
 "cells": [
  {
   "cell_type": "code",
   "execution_count": 1,
   "id": "plastic-running",
   "metadata": {
    "execution": {
     "iopub.execute_input": "2021-03-31T01:00:56.224061Z",
     "iopub.status.busy": "2021-03-31T01:00:56.223534Z",
     "iopub.status.idle": "2021-03-31T01:00:58.028241Z",
     "shell.execute_reply": "2021-03-31T01:00:58.028645Z"
    }
   },
   "outputs": [
    {
     "name": "stdout",
     "output_type": "stream",
     "text": [
      "PauliTable: ['Y', 'Z', 'Z', 'Y']\n"
     ]
    }
   ],
   "source": [
    "from qiskit.quantum_info.operators import PauliTable\n",
    "\n",
    "current = PauliTable.from_labels(['I', 'X'])\n",
    "other =  PauliTable.from_labels(['Y', 'Z'])\n",
    "print(current.compose(other))"
   ]
  },
  {
   "cell_type": "code",
   "execution_count": 2,
   "id": "seasonal-tucson",
   "metadata": {
    "execution": {
     "iopub.execute_input": "2021-03-31T01:00:58.034729Z",
     "iopub.status.busy": "2021-03-31T01:00:58.033514Z",
     "iopub.status.idle": "2021-03-31T01:00:58.036725Z",
     "shell.execute_reply": "2021-03-31T01:00:58.036240Z"
    }
   },
   "outputs": [
    {
     "name": "stdout",
     "output_type": "stream",
     "text": [
      "PauliTable: ['Y', 'Z', 'Z', 'Y']\n"
     ]
    }
   ],
   "source": [
    "from qiskit.quantum_info.operators import PauliTable\n",
    "\n",
    "current = PauliTable.from_labels(['I', 'X'])\n",
    "other =  PauliTable.from_labels(['Y', 'Z'])\n",
    "print(current.dot(other))"
   ]
  },
  {
   "cell_type": "code",
   "execution_count": 3,
   "id": "protective-difficulty",
   "metadata": {
    "execution": {
     "iopub.execute_input": "2021-03-31T01:00:58.042231Z",
     "iopub.status.busy": "2021-03-31T01:00:58.041002Z",
     "iopub.status.idle": "2021-03-31T01:00:58.044120Z",
     "shell.execute_reply": "2021-03-31T01:00:58.043611Z"
    }
   },
   "outputs": [
    {
     "name": "stdout",
     "output_type": "stream",
     "text": [
      "PauliTable: ['YI', 'ZI', 'YX', 'ZX']\n"
     ]
    }
   ],
   "source": [
    "from qiskit.quantum_info.operators import PauliTable\n",
    "\n",
    "current = PauliTable.from_labels(['I', 'X'])\n",
    "other =  PauliTable.from_labels(['Y', 'Z'])\n",
    "print(current.expand(other))"
   ]
  },
  {
   "cell_type": "code",
   "execution_count": 4,
   "id": "collective-estate",
   "metadata": {
    "execution": {
     "iopub.execute_input": "2021-03-31T01:00:58.052972Z",
     "iopub.status.busy": "2021-03-31T01:00:58.051628Z",
     "iopub.status.idle": "2021-03-31T01:00:58.054674Z",
     "shell.execute_reply": "2021-03-31T01:00:58.054250Z"
    }
   },
   "outputs": [
    {
     "name": "stdout",
     "output_type": "stream",
     "text": [
      "Initial Ordering\n",
      "PauliTable: ['XY', 'ZI', 'IY', 'ZX', 'II', 'YY', 'XI', 'XZ', 'YZ', 'IZ', 'YI', 'YX', 'ZZ', 'IX', 'ZY', 'XX']\n",
      "Lexicographically sorted\n",
      "PauliTable: ['II', 'IX', 'IY', 'IZ', 'XI', 'XX', 'XY', 'XZ', 'YI', 'YX', 'YY', 'YZ', 'ZI', 'ZX', 'ZY', 'ZZ']\n",
      "Weight sorted\n",
      "PauliTable: ['II', 'IX', 'IY', 'IZ', 'XI', 'YI', 'ZI', 'XX', 'XY', 'XZ', 'YX', 'YY', 'YZ', 'ZX', 'ZY', 'ZZ']\n"
     ]
    }
   ],
   "source": [
    "from numpy.random import shuffle\n",
    "from qiskit.quantum_info.operators import PauliTable\n",
    "\n",
    "# 2-qubit labels\n",
    "labels = ['II', 'IX', 'IY', 'IZ', 'XI', 'XX', 'XY', 'XZ',\n",
    "          'YI', 'YX', 'YY', 'YZ', 'ZI', 'ZX', 'ZY', 'ZZ']\n",
    "# Shuffle Labels\n",
    "shuffle(labels)\n",
    "pt = PauliTable.from_labels(labels)\n",
    "print('Initial Ordering')\n",
    "print(pt)\n",
    "\n",
    "# Lexicographic Ordering\n",
    "srt = pt.sort()\n",
    "print('Lexicographically sorted')\n",
    "print(srt)\n",
    "\n",
    "# Weight Ordering\n",
    "srt = pt.sort(weight=True)\n",
    "print('Weight sorted')\n",
    "print(srt)"
   ]
  },
  {
   "cell_type": "code",
   "execution_count": 5,
   "id": "manual-tyler",
   "metadata": {
    "execution": {
     "iopub.execute_input": "2021-03-31T01:00:58.061325Z",
     "iopub.status.busy": "2021-03-31T01:00:58.059885Z",
     "iopub.status.idle": "2021-03-31T01:00:58.063217Z",
     "shell.execute_reply": "2021-03-31T01:00:58.062755Z"
    }
   },
   "outputs": [
    {
     "name": "stdout",
     "output_type": "stream",
     "text": [
      "PauliTable: ['IY', 'IZ', 'XY', 'XZ']\n"
     ]
    }
   ],
   "source": [
    "from qiskit.quantum_info.operators import PauliTable\n",
    "\n",
    "current = PauliTable.from_labels(['I', 'X'])\n",
    "other =  PauliTable.from_labels(['Y', 'Z'])\n",
    "print(current.tensor(other))"
   ]
  },
  {
   "cell_type": "code",
   "execution_count": 6,
   "id": "expanded-titanium",
   "metadata": {
    "execution": {
     "iopub.execute_input": "2021-03-31T01:00:58.070326Z",
     "iopub.status.busy": "2021-03-31T01:00:58.068756Z",
     "iopub.status.idle": "2021-03-31T01:00:58.072394Z",
     "shell.execute_reply": "2021-03-31T01:00:58.071910Z"
    }
   },
   "outputs": [
    {
     "name": "stdout",
     "output_type": "stream",
     "text": [
      "PauliTable: ['X', 'Y', 'I', 'Z']\n"
     ]
    }
   ],
   "source": [
    "from qiskit.quantum_info.operators import PauliTable\n",
    "\n",
    "pt = PauliTable.from_labels(['X', 'Y', 'X', 'I', 'I', 'Z', 'X', 'Z'])\n",
    "unique = pt.unique()\n",
    "print(unique)"
   ]
  }
 ],
 "metadata": {
  "kernelspec": {
   "display_name": "Python 3",
   "language": "python",
   "name": "python3"
  },
  "language_info": {
   "codemirror_mode": {
    "name": "ipython",
    "version": 3
   },
   "file_extension": ".py",
   "mimetype": "text/x-python",
   "name": "python",
   "nbconvert_exporter": "python",
   "pygments_lexer": "ipython3",
   "version": "3.8.8"
  }
 },
 "nbformat": 4,
 "nbformat_minor": 5
}