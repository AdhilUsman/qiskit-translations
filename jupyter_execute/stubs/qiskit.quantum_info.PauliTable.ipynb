{
 "cells": [
  {
   "cell_type": "code",
   "execution_count": 1,
   "id": "13ae7740",
   "metadata": {
    "execution": {
     "iopub.execute_input": "2021-05-04T07:04:24.958021Z",
     "iopub.status.busy": "2021-05-04T07:04:24.957343Z",
     "iopub.status.idle": "2021-05-04T07:04:25.721473Z",
     "shell.execute_reply": "2021-05-04T07:04:25.721985Z"
    }
   },
   "outputs": [
    {
     "name": "stdout",
     "output_type": "stream",
     "text": [
      "PauliTable: ['Y', 'Z', 'Z', 'Y']\n"
     ]
    }
   ],
   "source": [
    "from qiskit.quantum_info.operators import PauliTable\n",
    "\n",
    "current = PauliTable.from_labels(['I', 'X'])\n",
    "other =  PauliTable.from_labels(['Y', 'Z'])\n",
    "print(current.compose(other))"
   ]
  },
  {
   "cell_type": "code",
   "execution_count": 2,
   "id": "b5c4742e",
   "metadata": {
    "execution": {
     "iopub.execute_input": "2021-05-04T07:04:25.729300Z",
     "iopub.status.busy": "2021-05-04T07:04:25.727839Z",
     "iopub.status.idle": "2021-05-04T07:04:25.731158Z",
     "shell.execute_reply": "2021-05-04T07:04:25.730661Z"
    }
   },
   "outputs": [
    {
     "name": "stdout",
     "output_type": "stream",
     "text": [
      "PauliTable: ['Y', 'Z', 'Z', 'Y']\n"
     ]
    }
   ],
   "source": [
    "from qiskit.quantum_info.operators import PauliTable\n",
    "\n",
    "current = PauliTable.from_labels(['I', 'X'])\n",
    "other =  PauliTable.from_labels(['Y', 'Z'])\n",
    "print(current.dot(other))"
   ]
  },
  {
   "cell_type": "code",
   "execution_count": 3,
   "id": "c8258f46",
   "metadata": {
    "execution": {
     "iopub.execute_input": "2021-05-04T07:04:25.737561Z",
     "iopub.status.busy": "2021-05-04T07:04:25.736166Z",
     "iopub.status.idle": "2021-05-04T07:04:25.739403Z",
     "shell.execute_reply": "2021-05-04T07:04:25.738920Z"
    }
   },
   "outputs": [
    {
     "name": "stdout",
     "output_type": "stream",
     "text": [
      "PauliTable: ['YI', 'YX', 'ZI', 'ZX']\n"
     ]
    }
   ],
   "source": [
    "from qiskit.quantum_info.operators import PauliTable\n",
    "\n",
    "current = PauliTable.from_labels(['I', 'X'])\n",
    "other =  PauliTable.from_labels(['Y', 'Z'])\n",
    "print(current.expand(other))"
   ]
  },
  {
   "cell_type": "code",
   "execution_count": 4,
   "id": "146dcdf0",
   "metadata": {
    "execution": {
     "iopub.execute_input": "2021-05-04T07:04:25.747258Z",
     "iopub.status.busy": "2021-05-04T07:04:25.746647Z",
     "iopub.status.idle": "2021-05-04T07:04:25.749737Z",
     "shell.execute_reply": "2021-05-04T07:04:25.750316Z"
    }
   },
   "outputs": [
    {
     "name": "stdout",
     "output_type": "stream",
     "text": [
      "Initial Ordering\n",
      "PauliTable: ['ZI', 'IY', 'XX', 'ZY', 'ZZ', 'XY', 'YZ', 'XI', 'IZ', 'YY', 'ZX', 'IX', 'XZ', 'II', 'YI', 'YX']\n",
      "Lexicographically sorted\n",
      "PauliTable: ['II', 'IX', 'IY', 'IZ', 'XI', 'XX', 'XY', 'XZ', 'YI', 'YX', 'YY', 'YZ', 'ZI', 'ZX', 'ZY', 'ZZ']\n",
      "Weight sorted\n",
      "PauliTable: ['II', 'IX', 'IY', 'IZ', 'XI', 'YI', 'ZI', 'XX', 'XY', 'XZ', 'YX', 'YY', 'YZ', 'ZX', 'ZY', 'ZZ']\n"
     ]
    }
   ],
   "source": [
    "from numpy.random import shuffle\n",
    "from qiskit.quantum_info.operators import PauliTable\n",
    "\n",
    "# 2-qubit labels\n",
    "labels = ['II', 'IX', 'IY', 'IZ', 'XI', 'XX', 'XY', 'XZ',\n",
    "          'YI', 'YX', 'YY', 'YZ', 'ZI', 'ZX', 'ZY', 'ZZ']\n",
    "# Shuffle Labels\n",
    "shuffle(labels)\n",
    "pt = PauliTable.from_labels(labels)\n",
    "print('Initial Ordering')\n",
    "print(pt)\n",
    "\n",
    "# Lexicographic Ordering\n",
    "srt = pt.sort()\n",
    "print('Lexicographically sorted')\n",
    "print(srt)\n",
    "\n",
    "# Weight Ordering\n",
    "srt = pt.sort(weight=True)\n",
    "print('Weight sorted')\n",
    "print(srt)"
   ]
  },
  {
   "cell_type": "code",
   "execution_count": 5,
   "id": "52354318",
   "metadata": {
    "execution": {
     "iopub.execute_input": "2021-05-04T07:04:25.757572Z",
     "iopub.status.busy": "2021-05-04T07:04:25.755784Z",
     "iopub.status.idle": "2021-05-04T07:04:25.759396Z",
     "shell.execute_reply": "2021-05-04T07:04:25.758886Z"
    }
   },
   "outputs": [
    {
     "name": "stdout",
     "output_type": "stream",
     "text": [
      "PauliTable: ['IY', 'IZ', 'XY', 'XZ']\n"
     ]
    }
   ],
   "source": [
    "from qiskit.quantum_info.operators import PauliTable\n",
    "\n",
    "current = PauliTable.from_labels(['I', 'X'])\n",
    "other =  PauliTable.from_labels(['Y', 'Z'])\n",
    "print(current.tensor(other))"
   ]
  },
  {
   "cell_type": "code",
   "execution_count": 6,
   "id": "43d22ae1",
   "metadata": {
    "execution": {
     "iopub.execute_input": "2021-05-04T07:04:25.765663Z",
     "iopub.status.busy": "2021-05-04T07:04:25.764402Z",
     "iopub.status.idle": "2021-05-04T07:04:25.767527Z",
     "shell.execute_reply": "2021-05-04T07:04:25.767041Z"
    }
   },
   "outputs": [
    {
     "name": "stdout",
     "output_type": "stream",
     "text": [
      "PauliTable: ['X', 'Y', 'I', 'Z']\n"
     ]
    }
   ],
   "source": [
    "from qiskit.quantum_info.operators import PauliTable\n",
    "\n",
    "pt = PauliTable.from_labels(['X', 'Y', 'X', 'I', 'I', 'Z', 'X', 'Z'])\n",
    "unique = pt.unique()\n",
    "print(unique)"
   ]
  }
 ],
 "metadata": {
  "kernelspec": {
   "display_name": "Python 3",
   "language": "python",
   "name": "python3"
  },
  "language_info": {
   "codemirror_mode": {
    "name": "ipython",
    "version": 3
   },
   "file_extension": ".py",
   "mimetype": "text/x-python",
   "name": "python",
   "nbconvert_exporter": "python",
   "pygments_lexer": "ipython3",
   "version": "3.8.9"
  }
 },
 "nbformat": 4,
 "nbformat_minor": 5
}