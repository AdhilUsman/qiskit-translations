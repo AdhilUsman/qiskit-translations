{
 "cells": [
  {
   "cell_type": "code",
   "execution_count": 1,
   "id": "d20b1b17",
   "metadata": {
    "execution": {
     "iopub.execute_input": "2021-04-03T00:54:19.244893Z",
     "iopub.status.busy": "2021-04-03T00:54:19.243986Z",
     "iopub.status.idle": "2021-04-03T00:54:20.014119Z",
     "shell.execute_reply": "2021-04-03T00:54:20.014642Z"
    }
   },
   "outputs": [
    {
     "name": "stdout",
     "output_type": "stream",
     "text": [
      "PauliTable: ['Y', 'Z', 'Z', 'Y']\n"
     ]
    }
   ],
   "source": [
    "from qiskit.quantum_info.operators import PauliTable\n",
    "\n",
    "current = PauliTable.from_labels(['I', 'X'])\n",
    "other =  PauliTable.from_labels(['Y', 'Z'])\n",
    "print(current.compose(other))"
   ]
  },
  {
   "cell_type": "code",
   "execution_count": 2,
   "id": "4a8eafc8",
   "metadata": {
    "execution": {
     "iopub.execute_input": "2021-04-03T00:54:20.021551Z",
     "iopub.status.busy": "2021-04-03T00:54:20.020209Z",
     "iopub.status.idle": "2021-04-03T00:54:20.023545Z",
     "shell.execute_reply": "2021-04-03T00:54:20.022988Z"
    }
   },
   "outputs": [
    {
     "name": "stdout",
     "output_type": "stream",
     "text": [
      "PauliTable: ['Y', 'Z', 'Z', 'Y']\n"
     ]
    }
   ],
   "source": [
    "from qiskit.quantum_info.operators import PauliTable\n",
    "\n",
    "current = PauliTable.from_labels(['I', 'X'])\n",
    "other =  PauliTable.from_labels(['Y', 'Z'])\n",
    "print(current.dot(other))"
   ]
  },
  {
   "cell_type": "code",
   "execution_count": 3,
   "id": "57043309",
   "metadata": {
    "execution": {
     "iopub.execute_input": "2021-04-03T00:54:20.030515Z",
     "iopub.status.busy": "2021-04-03T00:54:20.029094Z",
     "iopub.status.idle": "2021-04-03T00:54:20.032473Z",
     "shell.execute_reply": "2021-04-03T00:54:20.031928Z"
    }
   },
   "outputs": [
    {
     "name": "stdout",
     "output_type": "stream",
     "text": [
      "PauliTable: ['YI', 'YX', 'ZI', 'ZX']\n"
     ]
    }
   ],
   "source": [
    "from qiskit.quantum_info.operators import PauliTable\n",
    "\n",
    "current = PauliTable.from_labels(['I', 'X'])\n",
    "other =  PauliTable.from_labels(['Y', 'Z'])\n",
    "print(current.expand(other))"
   ]
  },
  {
   "cell_type": "code",
   "execution_count": 4,
   "id": "43c0fd0a",
   "metadata": {
    "execution": {
     "iopub.execute_input": "2021-04-03T00:54:20.040874Z",
     "iopub.status.busy": "2021-04-03T00:54:20.038521Z",
     "iopub.status.idle": "2021-04-03T00:54:20.043608Z",
     "shell.execute_reply": "2021-04-03T00:54:20.044110Z"
    }
   },
   "outputs": [
    {
     "name": "stdout",
     "output_type": "stream",
     "text": [
      "Initial Ordering\n",
      "PauliTable: ['ZX', 'XY', 'ZY', 'YY', 'YX', 'YI', 'IZ', 'ZZ', 'YZ', 'IY', 'XZ', 'ZI', 'IX', 'XI', 'XX', 'II']\n",
      "Lexicographically sorted\n",
      "PauliTable: ['II', 'IX', 'IY', 'IZ', 'XI', 'XX', 'XY', 'XZ', 'YI', 'YX', 'YY', 'YZ', 'ZI', 'ZX', 'ZY', 'ZZ']\n",
      "Weight sorted\n",
      "PauliTable: ['II', 'IX', 'IY', 'IZ', 'XI', 'YI', 'ZI', 'XX', 'XY', 'XZ', 'YX', 'YY', 'YZ', 'ZX', 'ZY', 'ZZ']\n"
     ]
    }
   ],
   "source": [
    "from numpy.random import shuffle\n",
    "from qiskit.quantum_info.operators import PauliTable\n",
    "\n",
    "# 2-qubit labels\n",
    "labels = ['II', 'IX', 'IY', 'IZ', 'XI', 'XX', 'XY', 'XZ',\n",
    "          'YI', 'YX', 'YY', 'YZ', 'ZI', 'ZX', 'ZY', 'ZZ']\n",
    "# Shuffle Labels\n",
    "shuffle(labels)\n",
    "pt = PauliTable.from_labels(labels)\n",
    "print('Initial Ordering')\n",
    "print(pt)\n",
    "\n",
    "# Lexicographic Ordering\n",
    "srt = pt.sort()\n",
    "print('Lexicographically sorted')\n",
    "print(srt)\n",
    "\n",
    "# Weight Ordering\n",
    "srt = pt.sort(weight=True)\n",
    "print('Weight sorted')\n",
    "print(srt)"
   ]
  },
  {
   "cell_type": "code",
   "execution_count": 5,
   "id": "c2889774",
   "metadata": {
    "execution": {
     "iopub.execute_input": "2021-04-03T00:54:20.050851Z",
     "iopub.status.busy": "2021-04-03T00:54:20.049162Z",
     "iopub.status.idle": "2021-04-03T00:54:20.052982Z",
     "shell.execute_reply": "2021-04-03T00:54:20.052432Z"
    }
   },
   "outputs": [
    {
     "name": "stdout",
     "output_type": "stream",
     "text": [
      "PauliTable: ['IY', 'IZ', 'XY', 'XZ']\n"
     ]
    }
   ],
   "source": [
    "from qiskit.quantum_info.operators import PauliTable\n",
    "\n",
    "current = PauliTable.from_labels(['I', 'X'])\n",
    "other =  PauliTable.from_labels(['Y', 'Z'])\n",
    "print(current.tensor(other))"
   ]
  },
  {
   "cell_type": "code",
   "execution_count": 6,
   "id": "7e0667f0",
   "metadata": {
    "execution": {
     "iopub.execute_input": "2021-04-03T00:54:20.059059Z",
     "iopub.status.busy": "2021-04-03T00:54:20.058426Z",
     "iopub.status.idle": "2021-04-03T00:54:20.061292Z",
     "shell.execute_reply": "2021-04-03T00:54:20.061776Z"
    }
   },
   "outputs": [
    {
     "name": "stdout",
     "output_type": "stream",
     "text": [
      "PauliTable: ['X', 'Y', 'I', 'Z']\n"
     ]
    }
   ],
   "source": [
    "from qiskit.quantum_info.operators import PauliTable\n",
    "\n",
    "pt = PauliTable.from_labels(['X', 'Y', 'X', 'I', 'I', 'Z', 'X', 'Z'])\n",
    "unique = pt.unique()\n",
    "print(unique)"
   ]
  }
 ],
 "metadata": {
  "kernelspec": {
   "display_name": "Python 3",
   "language": "python",
   "name": "python3"
  },
  "language_info": {
   "codemirror_mode": {
    "name": "ipython",
    "version": 3
   },
   "file_extension": ".py",
   "mimetype": "text/x-python",
   "name": "python",
   "nbconvert_exporter": "python",
   "pygments_lexer": "ipython3",
   "version": "3.8.8"
  }
 },
 "nbformat": 4,
 "nbformat_minor": 5
}