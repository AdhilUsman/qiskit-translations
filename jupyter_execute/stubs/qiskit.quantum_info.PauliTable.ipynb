{
 "cells": [
  {
   "cell_type": "code",
   "execution_count": 1,
   "id": "a741e05f",
   "metadata": {
    "execution": {
     "iopub.execute_input": "2021-05-08T18:02:09.964278Z",
     "iopub.status.busy": "2021-05-08T18:02:09.963648Z",
     "iopub.status.idle": "2021-05-08T18:02:10.704262Z",
     "shell.execute_reply": "2021-05-08T18:02:10.704727Z"
    }
   },
   "outputs": [
    {
     "name": "stdout",
     "output_type": "stream",
     "text": [
      "PauliTable: ['Y', 'Z', 'Z', 'Y']\n"
     ]
    }
   ],
   "source": [
    "from qiskit.quantum_info.operators import PauliTable\n",
    "\n",
    "current = PauliTable.from_labels(['I', 'X'])\n",
    "other =  PauliTable.from_labels(['Y', 'Z'])\n",
    "print(current.compose(other))"
   ]
  },
  {
   "cell_type": "code",
   "execution_count": 2,
   "id": "5b6f5200",
   "metadata": {
    "execution": {
     "iopub.execute_input": "2021-05-08T18:02:10.710651Z",
     "iopub.status.busy": "2021-05-08T18:02:10.709522Z",
     "iopub.status.idle": "2021-05-08T18:02:10.712893Z",
     "shell.execute_reply": "2021-05-08T18:02:10.712336Z"
    }
   },
   "outputs": [
    {
     "name": "stdout",
     "output_type": "stream",
     "text": [
      "PauliTable: ['Y', 'Z', 'Z', 'Y']\n"
     ]
    }
   ],
   "source": [
    "from qiskit.quantum_info.operators import PauliTable\n",
    "\n",
    "current = PauliTable.from_labels(['I', 'X'])\n",
    "other =  PauliTable.from_labels(['Y', 'Z'])\n",
    "print(current.dot(other))"
   ]
  },
  {
   "cell_type": "code",
   "execution_count": 3,
   "id": "024936ca",
   "metadata": {
    "execution": {
     "iopub.execute_input": "2021-05-08T18:02:10.718419Z",
     "iopub.status.busy": "2021-05-08T18:02:10.717822Z",
     "iopub.status.idle": "2021-05-08T18:02:10.722243Z",
     "shell.execute_reply": "2021-05-08T18:02:10.722762Z"
    }
   },
   "outputs": [
    {
     "name": "stdout",
     "output_type": "stream",
     "text": [
      "PauliTable: ['YI', 'YX', 'ZI', 'ZX']\n"
     ]
    }
   ],
   "source": [
    "from qiskit.quantum_info.operators import PauliTable\n",
    "\n",
    "current = PauliTable.from_labels(['I', 'X'])\n",
    "other =  PauliTable.from_labels(['Y', 'Z'])\n",
    "print(current.expand(other))"
   ]
  },
  {
   "cell_type": "code",
   "execution_count": 4,
   "id": "8f58424c",
   "metadata": {
    "execution": {
     "iopub.execute_input": "2021-05-08T18:02:10.731851Z",
     "iopub.status.busy": "2021-05-08T18:02:10.730434Z",
     "iopub.status.idle": "2021-05-08T18:02:10.733847Z",
     "shell.execute_reply": "2021-05-08T18:02:10.733354Z"
    }
   },
   "outputs": [
    {
     "name": "stdout",
     "output_type": "stream",
     "text": [
      "Initial Ordering\n",
      "PauliTable: ['YI', 'ZY', 'ZI', 'IY', 'YZ', 'ZZ', 'II', 'IX', 'ZX', 'IZ', 'XI', 'YX', 'YY', 'XZ', 'XX', 'XY']\n",
      "Lexicographically sorted\n",
      "PauliTable: ['II', 'IX', 'IY', 'IZ', 'XI', 'XX', 'XY', 'XZ', 'YI', 'YX', 'YY', 'YZ', 'ZI', 'ZX', 'ZY', 'ZZ']\n",
      "Weight sorted\n",
      "PauliTable: ['II', 'IX', 'IY', 'IZ', 'XI', 'YI', 'ZI', 'XX', 'XY', 'XZ', 'YX', 'YY', 'YZ', 'ZX', 'ZY', 'ZZ']\n"
     ]
    }
   ],
   "source": [
    "from numpy.random import shuffle\n",
    "from qiskit.quantum_info.operators import PauliTable\n",
    "\n",
    "# 2-qubit labels\n",
    "labels = ['II', 'IX', 'IY', 'IZ', 'XI', 'XX', 'XY', 'XZ',\n",
    "          'YI', 'YX', 'YY', 'YZ', 'ZI', 'ZX', 'ZY', 'ZZ']\n",
    "# Shuffle Labels\n",
    "shuffle(labels)\n",
    "pt = PauliTable.from_labels(labels)\n",
    "print('Initial Ordering')\n",
    "print(pt)\n",
    "\n",
    "# Lexicographic Ordering\n",
    "srt = pt.sort()\n",
    "print('Lexicographically sorted')\n",
    "print(srt)\n",
    "\n",
    "# Weight Ordering\n",
    "srt = pt.sort(weight=True)\n",
    "print('Weight sorted')\n",
    "print(srt)"
   ]
  },
  {
   "cell_type": "code",
   "execution_count": 5,
   "id": "14c8018d",
   "metadata": {
    "execution": {
     "iopub.execute_input": "2021-05-08T18:02:10.739577Z",
     "iopub.status.busy": "2021-05-08T18:02:10.738358Z",
     "iopub.status.idle": "2021-05-08T18:02:10.741402Z",
     "shell.execute_reply": "2021-05-08T18:02:10.740914Z"
    }
   },
   "outputs": [
    {
     "name": "stdout",
     "output_type": "stream",
     "text": [
      "PauliTable: ['IY', 'IZ', 'XY', 'XZ']\n"
     ]
    }
   ],
   "source": [
    "from qiskit.quantum_info.operators import PauliTable\n",
    "\n",
    "current = PauliTable.from_labels(['I', 'X'])\n",
    "other =  PauliTable.from_labels(['Y', 'Z'])\n",
    "print(current.tensor(other))"
   ]
  },
  {
   "cell_type": "code",
   "execution_count": 6,
   "id": "4f93c596",
   "metadata": {
    "execution": {
     "iopub.execute_input": "2021-05-08T18:02:10.747637Z",
     "iopub.status.busy": "2021-05-08T18:02:10.746077Z",
     "iopub.status.idle": "2021-05-08T18:02:10.749498Z",
     "shell.execute_reply": "2021-05-08T18:02:10.749020Z"
    }
   },
   "outputs": [
    {
     "name": "stdout",
     "output_type": "stream",
     "text": [
      "PauliTable: ['X', 'Y', 'I', 'Z']\n"
     ]
    }
   ],
   "source": [
    "from qiskit.quantum_info.operators import PauliTable\n",
    "\n",
    "pt = PauliTable.from_labels(['X', 'Y', 'X', 'I', 'I', 'Z', 'X', 'Z'])\n",
    "unique = pt.unique()\n",
    "print(unique)"
   ]
  }
 ],
 "metadata": {
  "kernelspec": {
   "display_name": "Python 3",
   "language": "python",
   "name": "python3"
  },
  "language_info": {
   "codemirror_mode": {
    "name": "ipython",
    "version": 3
   },
   "file_extension": ".py",
   "mimetype": "text/x-python",
   "name": "python",
   "nbconvert_exporter": "python",
   "pygments_lexer": "ipython3",
   "version": "3.8.10"
  }
 },
 "nbformat": 4,
 "nbformat_minor": 5
}