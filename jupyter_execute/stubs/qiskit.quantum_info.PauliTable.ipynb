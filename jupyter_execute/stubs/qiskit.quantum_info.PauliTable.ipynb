{
 "cells": [
  {
   "cell_type": "code",
   "execution_count": 1,
   "id": "0af9718f",
   "metadata": {
    "execution": {
     "iopub.execute_input": "2021-06-18T05:14:44.709544Z",
     "iopub.status.busy": "2021-06-18T05:14:44.708798Z",
     "iopub.status.idle": "2021-06-18T05:14:45.501144Z",
     "shell.execute_reply": "2021-06-18T05:14:45.500559Z"
    }
   },
   "outputs": [
    {
     "name": "stdout",
     "output_type": "stream",
     "text": [
      "PauliTable: ['Y', 'Z', 'Z', 'Y']\n"
     ]
    }
   ],
   "source": [
    "from qiskit.quantum_info.operators import PauliTable\n",
    "\n",
    "current = PauliTable.from_labels(['I', 'X'])\n",
    "other =  PauliTable.from_labels(['Y', 'Z'])\n",
    "print(current.compose(other))"
   ]
  },
  {
   "cell_type": "code",
   "execution_count": 2,
   "id": "739dc0a1",
   "metadata": {
    "execution": {
     "iopub.execute_input": "2021-06-18T05:14:45.507110Z",
     "iopub.status.busy": "2021-06-18T05:14:45.506402Z",
     "iopub.status.idle": "2021-06-18T05:14:45.510757Z",
     "shell.execute_reply": "2021-06-18T05:14:45.510243Z"
    }
   },
   "outputs": [
    {
     "name": "stdout",
     "output_type": "stream",
     "text": [
      "PauliTable: ['Y', 'Z', 'Z', 'Y']\n"
     ]
    }
   ],
   "source": [
    "from qiskit.quantum_info.operators import PauliTable\n",
    "\n",
    "current = PauliTable.from_labels(['I', 'X'])\n",
    "other =  PauliTable.from_labels(['Y', 'Z'])\n",
    "print(current.dot(other))"
   ]
  },
  {
   "cell_type": "code",
   "execution_count": 3,
   "id": "f4d1fa3f",
   "metadata": {
    "execution": {
     "iopub.execute_input": "2021-06-18T05:14:45.516011Z",
     "iopub.status.busy": "2021-06-18T05:14:45.514952Z",
     "iopub.status.idle": "2021-06-18T05:14:45.518843Z",
     "shell.execute_reply": "2021-06-18T05:14:45.518352Z"
    }
   },
   "outputs": [
    {
     "name": "stdout",
     "output_type": "stream",
     "text": [
      "PauliTable: ['YI', 'YX', 'ZI', 'ZX']\n"
     ]
    }
   ],
   "source": [
    "from qiskit.quantum_info.operators import PauliTable\n",
    "\n",
    "current = PauliTable.from_labels(['I', 'X'])\n",
    "other =  PauliTable.from_labels(['Y', 'Z'])\n",
    "print(current.expand(other))"
   ]
  },
  {
   "cell_type": "code",
   "execution_count": 4,
   "id": "eb6aa6a0",
   "metadata": {
    "execution": {
     "iopub.execute_input": "2021-06-18T05:14:45.525812Z",
     "iopub.status.busy": "2021-06-18T05:14:45.524265Z",
     "iopub.status.idle": "2021-06-18T05:14:45.532095Z",
     "shell.execute_reply": "2021-06-18T05:14:45.532563Z"
    }
   },
   "outputs": [
    {
     "name": "stdout",
     "output_type": "stream",
     "text": [
      "Initial Ordering\n",
      "PauliTable: ['YI', 'YZ', 'YY', 'XI', 'ZY', 'IZ', 'IX', 'XX', 'ZX', 'YX', 'XY', 'ZZ', 'ZI', 'IY', 'II', 'XZ']\n",
      "Lexicographically sorted\n",
      "PauliTable: ['II', 'IX', 'IY', 'IZ', 'XI', 'XX', 'XY', 'XZ', 'YI', 'YX', 'YY', 'YZ', 'ZI', 'ZX', 'ZY', 'ZZ']\n",
      "Weight sorted\n",
      "PauliTable: ['II', 'IX', 'IY', 'IZ', 'XI', 'YI', 'ZI', 'XX', 'XY', 'XZ', 'YX', 'YY', 'YZ', 'ZX', 'ZY', 'ZZ']\n"
     ]
    }
   ],
   "source": [
    "from numpy.random import shuffle\n",
    "from qiskit.quantum_info.operators import PauliTable\n",
    "\n",
    "# 2-qubit labels\n",
    "labels = ['II', 'IX', 'IY', 'IZ', 'XI', 'XX', 'XY', 'XZ',\n",
    "          'YI', 'YX', 'YY', 'YZ', 'ZI', 'ZX', 'ZY', 'ZZ']\n",
    "# Shuffle Labels\n",
    "shuffle(labels)\n",
    "pt = PauliTable.from_labels(labels)\n",
    "print('Initial Ordering')\n",
    "print(pt)\n",
    "\n",
    "# Lexicographic Ordering\n",
    "srt = pt.sort()\n",
    "print('Lexicographically sorted')\n",
    "print(srt)\n",
    "\n",
    "# Weight Ordering\n",
    "srt = pt.sort(weight=True)\n",
    "print('Weight sorted')\n",
    "print(srt)"
   ]
  },
  {
   "cell_type": "code",
   "execution_count": 5,
   "id": "4b239e1c",
   "metadata": {
    "execution": {
     "iopub.execute_input": "2021-06-18T05:14:45.537987Z",
     "iopub.status.busy": "2021-06-18T05:14:45.537406Z",
     "iopub.status.idle": "2021-06-18T05:14:45.542002Z",
     "shell.execute_reply": "2021-06-18T05:14:45.541431Z"
    }
   },
   "outputs": [
    {
     "name": "stdout",
     "output_type": "stream",
     "text": [
      "PauliTable: ['IY', 'IZ', 'XY', 'XZ']\n"
     ]
    }
   ],
   "source": [
    "from qiskit.quantum_info.operators import PauliTable\n",
    "\n",
    "current = PauliTable.from_labels(['I', 'X'])\n",
    "other =  PauliTable.from_labels(['Y', 'Z'])\n",
    "print(current.tensor(other))"
   ]
  },
  {
   "cell_type": "code",
   "execution_count": 6,
   "id": "2dea72bd",
   "metadata": {
    "execution": {
     "iopub.execute_input": "2021-06-18T05:14:45.546981Z",
     "iopub.status.busy": "2021-06-18T05:14:45.546339Z",
     "iopub.status.idle": "2021-06-18T05:14:45.551033Z",
     "shell.execute_reply": "2021-06-18T05:14:45.550116Z"
    }
   },
   "outputs": [
    {
     "name": "stdout",
     "output_type": "stream",
     "text": [
      "PauliTable: ['X', 'Y', 'I', 'Z']\n"
     ]
    }
   ],
   "source": [
    "from qiskit.quantum_info.operators import PauliTable\n",
    "\n",
    "pt = PauliTable.from_labels(['X', 'Y', 'X', 'I', 'I', 'Z', 'X', 'Z'])\n",
    "unique = pt.unique()\n",
    "print(unique)"
   ]
  }
 ],
 "metadata": {
  "kernelspec": {
   "display_name": "Python 3",
   "language": "python",
   "name": "python3"
  },
  "language_info": {
   "codemirror_mode": {
    "name": "ipython",
    "version": 3
   },
   "file_extension": ".py",
   "mimetype": "text/x-python",
   "name": "python",
   "nbconvert_exporter": "python",
   "pygments_lexer": "ipython3",
   "version": "3.8.10"
  }
 },
 "nbformat": 4,
 "nbformat_minor": 5
}