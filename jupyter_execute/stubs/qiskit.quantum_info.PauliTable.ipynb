{
 "cells": [
  {
   "cell_type": "code",
   "execution_count": 1,
   "id": "69dcd1d7",
   "metadata": {
    "execution": {
     "iopub.execute_input": "2021-05-19T14:34:16.146016Z",
     "iopub.status.busy": "2021-05-19T14:34:16.145411Z",
     "iopub.status.idle": "2021-05-19T14:34:16.933613Z",
     "shell.execute_reply": "2021-05-19T14:34:16.932879Z"
    }
   },
   "outputs": [
    {
     "name": "stdout",
     "output_type": "stream",
     "text": [
      "PauliTable: ['Y', 'Z', 'Z', 'Y']\n"
     ]
    }
   ],
   "source": [
    "from qiskit.quantum_info.operators import PauliTable\n",
    "\n",
    "current = PauliTable.from_labels(['I', 'X'])\n",
    "other =  PauliTable.from_labels(['Y', 'Z'])\n",
    "print(current.compose(other))"
   ]
  },
  {
   "cell_type": "code",
   "execution_count": 2,
   "id": "41a10ef5",
   "metadata": {
    "execution": {
     "iopub.execute_input": "2021-05-19T14:34:16.940721Z",
     "iopub.status.busy": "2021-05-19T14:34:16.939198Z",
     "iopub.status.idle": "2021-05-19T14:34:16.942734Z",
     "shell.execute_reply": "2021-05-19T14:34:16.942179Z"
    }
   },
   "outputs": [
    {
     "name": "stdout",
     "output_type": "stream",
     "text": [
      "PauliTable: ['Y', 'Z', 'Z', 'Y']\n"
     ]
    }
   ],
   "source": [
    "from qiskit.quantum_info.operators import PauliTable\n",
    "\n",
    "current = PauliTable.from_labels(['I', 'X'])\n",
    "other =  PauliTable.from_labels(['Y', 'Z'])\n",
    "print(current.dot(other))"
   ]
  },
  {
   "cell_type": "code",
   "execution_count": 3,
   "id": "9f6a6e90",
   "metadata": {
    "execution": {
     "iopub.execute_input": "2021-05-19T14:34:16.949149Z",
     "iopub.status.busy": "2021-05-19T14:34:16.948271Z",
     "iopub.status.idle": "2021-05-19T14:34:16.951355Z",
     "shell.execute_reply": "2021-05-19T14:34:16.951902Z"
    }
   },
   "outputs": [
    {
     "name": "stdout",
     "output_type": "stream",
     "text": [
      "PauliTable: ['YI', 'YX', 'ZI', 'ZX']\n"
     ]
    }
   ],
   "source": [
    "from qiskit.quantum_info.operators import PauliTable\n",
    "\n",
    "current = PauliTable.from_labels(['I', 'X'])\n",
    "other =  PauliTable.from_labels(['Y', 'Z'])\n",
    "print(current.expand(other))"
   ]
  },
  {
   "cell_type": "code",
   "execution_count": 4,
   "id": "7e96bf73",
   "metadata": {
    "execution": {
     "iopub.execute_input": "2021-05-19T14:34:16.961601Z",
     "iopub.status.busy": "2021-05-19T14:34:16.960837Z",
     "iopub.status.idle": "2021-05-19T14:34:16.963707Z",
     "shell.execute_reply": "2021-05-19T14:34:16.963138Z"
    }
   },
   "outputs": [
    {
     "name": "stdout",
     "output_type": "stream",
     "text": [
      "Initial Ordering\n",
      "PauliTable: ['II', 'XY', 'YY', 'IX', 'YI', 'ZX', 'XX', 'XZ', 'IZ', 'XI', 'YZ', 'YX', 'IY', 'ZZ', 'ZI', 'ZY']\n",
      "Lexicographically sorted\n",
      "PauliTable: ['II', 'IX', 'IY', 'IZ', 'XI', 'XX', 'XY', 'XZ', 'YI', 'YX', 'YY', 'YZ', 'ZI', 'ZX', 'ZY', 'ZZ']\n",
      "Weight sorted\n",
      "PauliTable: ['II', 'IX', 'IY', 'IZ', 'XI', 'YI', 'ZI', 'XX', 'XY', 'XZ', 'YX', 'YY', 'YZ', 'ZX', 'ZY', 'ZZ']\n"
     ]
    }
   ],
   "source": [
    "from numpy.random import shuffle\n",
    "from qiskit.quantum_info.operators import PauliTable\n",
    "\n",
    "# 2-qubit labels\n",
    "labels = ['II', 'IX', 'IY', 'IZ', 'XI', 'XX', 'XY', 'XZ',\n",
    "          'YI', 'YX', 'YY', 'YZ', 'ZI', 'ZX', 'ZY', 'ZZ']\n",
    "# Shuffle Labels\n",
    "shuffle(labels)\n",
    "pt = PauliTable.from_labels(labels)\n",
    "print('Initial Ordering')\n",
    "print(pt)\n",
    "\n",
    "# Lexicographic Ordering\n",
    "srt = pt.sort()\n",
    "print('Lexicographically sorted')\n",
    "print(srt)\n",
    "\n",
    "# Weight Ordering\n",
    "srt = pt.sort(weight=True)\n",
    "print('Weight sorted')\n",
    "print(srt)"
   ]
  },
  {
   "cell_type": "code",
   "execution_count": 5,
   "id": "d951bcd5",
   "metadata": {
    "execution": {
     "iopub.execute_input": "2021-05-19T14:34:16.969893Z",
     "iopub.status.busy": "2021-05-19T14:34:16.968795Z",
     "iopub.status.idle": "2021-05-19T14:34:16.972325Z",
     "shell.execute_reply": "2021-05-19T14:34:16.971767Z"
    }
   },
   "outputs": [
    {
     "name": "stdout",
     "output_type": "stream",
     "text": [
      "PauliTable: ['IY', 'IZ', 'XY', 'XZ']\n"
     ]
    }
   ],
   "source": [
    "from qiskit.quantum_info.operators import PauliTable\n",
    "\n",
    "current = PauliTable.from_labels(['I', 'X'])\n",
    "other =  PauliTable.from_labels(['Y', 'Z'])\n",
    "print(current.tensor(other))"
   ]
  },
  {
   "cell_type": "code",
   "execution_count": 6,
   "id": "e06ad9d6",
   "metadata": {
    "execution": {
     "iopub.execute_input": "2021-05-19T14:34:16.979013Z",
     "iopub.status.busy": "2021-05-19T14:34:16.977615Z",
     "iopub.status.idle": "2021-05-19T14:34:16.981199Z",
     "shell.execute_reply": "2021-05-19T14:34:16.980592Z"
    }
   },
   "outputs": [
    {
     "name": "stdout",
     "output_type": "stream",
     "text": [
      "PauliTable: ['X', 'Y', 'I', 'Z']\n"
     ]
    }
   ],
   "source": [
    "from qiskit.quantum_info.operators import PauliTable\n",
    "\n",
    "pt = PauliTable.from_labels(['X', 'Y', 'X', 'I', 'I', 'Z', 'X', 'Z'])\n",
    "unique = pt.unique()\n",
    "print(unique)"
   ]
  }
 ],
 "metadata": {
  "kernelspec": {
   "display_name": "Python 3",
   "language": "python",
   "name": "python3"
  },
  "language_info": {
   "codemirror_mode": {
    "name": "ipython",
    "version": 3
   },
   "file_extension": ".py",
   "mimetype": "text/x-python",
   "name": "python",
   "nbconvert_exporter": "python",
   "pygments_lexer": "ipython3",
   "version": "3.8.10"
  }
 },
 "nbformat": 4,
 "nbformat_minor": 5
}