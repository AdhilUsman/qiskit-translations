{
 "cells": [
  {
   "cell_type": "code",
   "execution_count": 1,
   "id": "2a745f85",
   "metadata": {
    "execution": {
     "iopub.execute_input": "2021-04-07T12:16:54.943756Z",
     "iopub.status.busy": "2021-04-07T12:16:54.941853Z",
     "iopub.status.idle": "2021-04-07T12:16:55.676987Z",
     "shell.execute_reply": "2021-04-07T12:16:55.676311Z"
    }
   },
   "outputs": [
    {
     "name": "stdout",
     "output_type": "stream",
     "text": [
      "PauliTable: ['Y', 'Z', 'Z', 'Y']\n"
     ]
    }
   ],
   "source": [
    "from qiskit.quantum_info.operators import PauliTable\n",
    "\n",
    "current = PauliTable.from_labels(['I', 'X'])\n",
    "other =  PauliTable.from_labels(['Y', 'Z'])\n",
    "print(current.compose(other))"
   ]
  },
  {
   "cell_type": "code",
   "execution_count": 2,
   "id": "ca2da670",
   "metadata": {
    "execution": {
     "iopub.execute_input": "2021-04-07T12:16:55.682421Z",
     "iopub.status.busy": "2021-04-07T12:16:55.681784Z",
     "iopub.status.idle": "2021-04-07T12:16:55.687005Z",
     "shell.execute_reply": "2021-04-07T12:16:55.687492Z"
    }
   },
   "outputs": [
    {
     "name": "stdout",
     "output_type": "stream",
     "text": [
      "PauliTable: ['Y', 'Z', 'Z', 'Y']\n"
     ]
    }
   ],
   "source": [
    "from qiskit.quantum_info.operators import PauliTable\n",
    "\n",
    "current = PauliTable.from_labels(['I', 'X'])\n",
    "other =  PauliTable.from_labels(['Y', 'Z'])\n",
    "print(current.dot(other))"
   ]
  },
  {
   "cell_type": "code",
   "execution_count": 3,
   "id": "8be5e45e",
   "metadata": {
    "execution": {
     "iopub.execute_input": "2021-04-07T12:16:55.693906Z",
     "iopub.status.busy": "2021-04-07T12:16:55.693173Z",
     "iopub.status.idle": "2021-04-07T12:16:55.697717Z",
     "shell.execute_reply": "2021-04-07T12:16:55.697156Z"
    }
   },
   "outputs": [
    {
     "name": "stdout",
     "output_type": "stream",
     "text": [
      "PauliTable: ['YI', 'YX', 'ZI', 'ZX']\n"
     ]
    }
   ],
   "source": [
    "from qiskit.quantum_info.operators import PauliTable\n",
    "\n",
    "current = PauliTable.from_labels(['I', 'X'])\n",
    "other =  PauliTable.from_labels(['Y', 'Z'])\n",
    "print(current.expand(other))"
   ]
  },
  {
   "cell_type": "code",
   "execution_count": 4,
   "id": "1b690fe6",
   "metadata": {
    "execution": {
     "iopub.execute_input": "2021-04-07T12:16:55.705217Z",
     "iopub.status.busy": "2021-04-07T12:16:55.704039Z",
     "iopub.status.idle": "2021-04-07T12:16:55.709406Z",
     "shell.execute_reply": "2021-04-07T12:16:55.709892Z"
    }
   },
   "outputs": [
    {
     "name": "stdout",
     "output_type": "stream",
     "text": [
      "Initial Ordering\n",
      "PauliTable: ['ZX', 'ZY', 'IZ', 'XY', 'IX', 'YY', 'IY', 'II', 'ZZ', 'YI', 'XX', 'YZ', 'XZ', 'YX', 'ZI', 'XI']\n",
      "Lexicographically sorted\n",
      "PauliTable: ['II', 'IX', 'IY', 'IZ', 'XI', 'XX', 'XY', 'XZ', 'YI', 'YX', 'YY', 'YZ', 'ZI', 'ZX', 'ZY', 'ZZ']\n",
      "Weight sorted\n",
      "PauliTable: ['II', 'IX', 'IY', 'IZ', 'XI', 'YI', 'ZI', 'XX', 'XY', 'XZ', 'YX', 'YY', 'YZ', 'ZX', 'ZY', 'ZZ']\n"
     ]
    }
   ],
   "source": [
    "from numpy.random import shuffle\n",
    "from qiskit.quantum_info.operators import PauliTable\n",
    "\n",
    "# 2-qubit labels\n",
    "labels = ['II', 'IX', 'IY', 'IZ', 'XI', 'XX', 'XY', 'XZ',\n",
    "          'YI', 'YX', 'YY', 'YZ', 'ZI', 'ZX', 'ZY', 'ZZ']\n",
    "# Shuffle Labels\n",
    "shuffle(labels)\n",
    "pt = PauliTable.from_labels(labels)\n",
    "print('Initial Ordering')\n",
    "print(pt)\n",
    "\n",
    "# Lexicographic Ordering\n",
    "srt = pt.sort()\n",
    "print('Lexicographically sorted')\n",
    "print(srt)\n",
    "\n",
    "# Weight Ordering\n",
    "srt = pt.sort(weight=True)\n",
    "print('Weight sorted')\n",
    "print(srt)"
   ]
  },
  {
   "cell_type": "code",
   "execution_count": 5,
   "id": "e24f5e37",
   "metadata": {
    "execution": {
     "iopub.execute_input": "2021-04-07T12:16:55.714854Z",
     "iopub.status.busy": "2021-04-07T12:16:55.714255Z",
     "iopub.status.idle": "2021-04-07T12:16:55.718670Z",
     "shell.execute_reply": "2021-04-07T12:16:55.719154Z"
    }
   },
   "outputs": [
    {
     "name": "stdout",
     "output_type": "stream",
     "text": [
      "PauliTable: ['IY', 'IZ', 'XY', 'XZ']\n"
     ]
    }
   ],
   "source": [
    "from qiskit.quantum_info.operators import PauliTable\n",
    "\n",
    "current = PauliTable.from_labels(['I', 'X'])\n",
    "other =  PauliTable.from_labels(['Y', 'Z'])\n",
    "print(current.tensor(other))"
   ]
  },
  {
   "cell_type": "code",
   "execution_count": 6,
   "id": "9e830005",
   "metadata": {
    "execution": {
     "iopub.execute_input": "2021-04-07T12:16:55.724227Z",
     "iopub.status.busy": "2021-04-07T12:16:55.723618Z",
     "iopub.status.idle": "2021-04-07T12:16:55.728393Z",
     "shell.execute_reply": "2021-04-07T12:16:55.727812Z"
    }
   },
   "outputs": [
    {
     "name": "stdout",
     "output_type": "stream",
     "text": [
      "PauliTable: ['X', 'Y', 'I', 'Z']\n"
     ]
    }
   ],
   "source": [
    "from qiskit.quantum_info.operators import PauliTable\n",
    "\n",
    "pt = PauliTable.from_labels(['X', 'Y', 'X', 'I', 'I', 'Z', 'X', 'Z'])\n",
    "unique = pt.unique()\n",
    "print(unique)"
   ]
  }
 ],
 "metadata": {
  "kernelspec": {
   "display_name": "Python 3",
   "language": "python",
   "name": "python3"
  },
  "language_info": {
   "codemirror_mode": {
    "name": "ipython",
    "version": 3
   },
   "file_extension": ".py",
   "mimetype": "text/x-python",
   "name": "python",
   "nbconvert_exporter": "python",
   "pygments_lexer": "ipython3",
   "version": "3.8.8"
  }
 },
 "nbformat": 4,
 "nbformat_minor": 5
}