{
 "cells": [
  {
   "cell_type": "code",
   "execution_count": 1,
   "id": "98c57d8d",
   "metadata": {
    "execution": {
     "iopub.execute_input": "2021-05-07T09:00:34.578711Z",
     "iopub.status.busy": "2021-05-07T09:00:34.578079Z",
     "iopub.status.idle": "2021-05-07T09:00:35.335960Z",
     "shell.execute_reply": "2021-05-07T09:00:35.336523Z"
    }
   },
   "outputs": [
    {
     "name": "stdout",
     "output_type": "stream",
     "text": [
      "PauliTable: ['Y', 'Z', 'Z', 'Y']\n"
     ]
    }
   ],
   "source": [
    "from qiskit.quantum_info.operators import PauliTable\n",
    "\n",
    "current = PauliTable.from_labels(['I', 'X'])\n",
    "other =  PauliTable.from_labels(['Y', 'Z'])\n",
    "print(current.compose(other))"
   ]
  },
  {
   "cell_type": "code",
   "execution_count": 2,
   "id": "b6edd482",
   "metadata": {
    "execution": {
     "iopub.execute_input": "2021-05-07T09:00:35.343973Z",
     "iopub.status.busy": "2021-05-07T09:00:35.342134Z",
     "iopub.status.idle": "2021-05-07T09:00:35.346009Z",
     "shell.execute_reply": "2021-05-07T09:00:35.345383Z"
    }
   },
   "outputs": [
    {
     "name": "stdout",
     "output_type": "stream",
     "text": [
      "PauliTable: ['Y', 'Z', 'Z', 'Y']\n"
     ]
    }
   ],
   "source": [
    "from qiskit.quantum_info.operators import PauliTable\n",
    "\n",
    "current = PauliTable.from_labels(['I', 'X'])\n",
    "other =  PauliTable.from_labels(['Y', 'Z'])\n",
    "print(current.dot(other))"
   ]
  },
  {
   "cell_type": "code",
   "execution_count": 3,
   "id": "2f7de216",
   "metadata": {
    "execution": {
     "iopub.execute_input": "2021-05-07T09:00:35.352561Z",
     "iopub.status.busy": "2021-05-07T09:00:35.350986Z",
     "iopub.status.idle": "2021-05-07T09:00:35.354641Z",
     "shell.execute_reply": "2021-05-07T09:00:35.354074Z"
    }
   },
   "outputs": [
    {
     "name": "stdout",
     "output_type": "stream",
     "text": [
      "PauliTable: ['YI', 'YX', 'ZI', 'ZX']\n"
     ]
    }
   ],
   "source": [
    "from qiskit.quantum_info.operators import PauliTable\n",
    "\n",
    "current = PauliTable.from_labels(['I', 'X'])\n",
    "other =  PauliTable.from_labels(['Y', 'Z'])\n",
    "print(current.expand(other))"
   ]
  },
  {
   "cell_type": "code",
   "execution_count": 4,
   "id": "a3231b7e",
   "metadata": {
    "execution": {
     "iopub.execute_input": "2021-05-07T09:00:35.363879Z",
     "iopub.status.busy": "2021-05-07T09:00:35.363205Z",
     "iopub.status.idle": "2021-05-07T09:00:35.366228Z",
     "shell.execute_reply": "2021-05-07T09:00:35.366902Z"
    }
   },
   "outputs": [
    {
     "name": "stdout",
     "output_type": "stream",
     "text": [
      "Initial Ordering\n",
      "PauliTable: ['ZY', 'IZ', 'XZ', 'IX', 'XI', 'ZI', 'ZX', 'YX', 'YI', 'ZZ', 'II', 'YZ', 'XY', 'YY', 'XX', 'IY']\n",
      "Lexicographically sorted\n",
      "PauliTable: ['II', 'IX', 'IY', 'IZ', 'XI', 'XX', 'XY', 'XZ', 'YI', 'YX', 'YY', 'YZ', 'ZI', 'ZX', 'ZY', 'ZZ']\n",
      "Weight sorted\n",
      "PauliTable: ['II', 'IX', 'IY', 'IZ', 'XI', 'YI', 'ZI', 'XX', 'XY', 'XZ', 'YX', 'YY', 'YZ', 'ZX', 'ZY', 'ZZ']\n"
     ]
    }
   ],
   "source": [
    "from numpy.random import shuffle\n",
    "from qiskit.quantum_info.operators import PauliTable\n",
    "\n",
    "# 2-qubit labels\n",
    "labels = ['II', 'IX', 'IY', 'IZ', 'XI', 'XX', 'XY', 'XZ',\n",
    "          'YI', 'YX', 'YY', 'YZ', 'ZI', 'ZX', 'ZY', 'ZZ']\n",
    "# Shuffle Labels\n",
    "shuffle(labels)\n",
    "pt = PauliTable.from_labels(labels)\n",
    "print('Initial Ordering')\n",
    "print(pt)\n",
    "\n",
    "# Lexicographic Ordering\n",
    "srt = pt.sort()\n",
    "print('Lexicographically sorted')\n",
    "print(srt)\n",
    "\n",
    "# Weight Ordering\n",
    "srt = pt.sort(weight=True)\n",
    "print('Weight sorted')\n",
    "print(srt)"
   ]
  },
  {
   "cell_type": "code",
   "execution_count": 5,
   "id": "d1b16981",
   "metadata": {
    "execution": {
     "iopub.execute_input": "2021-05-07T09:00:35.373361Z",
     "iopub.status.busy": "2021-05-07T09:00:35.371950Z",
     "iopub.status.idle": "2021-05-07T09:00:35.375479Z",
     "shell.execute_reply": "2021-05-07T09:00:35.374950Z"
    }
   },
   "outputs": [
    {
     "name": "stdout",
     "output_type": "stream",
     "text": [
      "PauliTable: ['IY', 'IZ', 'XY', 'XZ']\n"
     ]
    }
   ],
   "source": [
    "from qiskit.quantum_info.operators import PauliTable\n",
    "\n",
    "current = PauliTable.from_labels(['I', 'X'])\n",
    "other =  PauliTable.from_labels(['Y', 'Z'])\n",
    "print(current.tensor(other))"
   ]
  },
  {
   "cell_type": "code",
   "execution_count": 6,
   "id": "09b904ab",
   "metadata": {
    "execution": {
     "iopub.execute_input": "2021-05-07T09:00:35.382632Z",
     "iopub.status.busy": "2021-05-07T09:00:35.380905Z",
     "iopub.status.idle": "2021-05-07T09:00:35.384533Z",
     "shell.execute_reply": "2021-05-07T09:00:35.384007Z"
    }
   },
   "outputs": [
    {
     "name": "stdout",
     "output_type": "stream",
     "text": [
      "PauliTable: ['X', 'Y', 'I', 'Z']\n"
     ]
    }
   ],
   "source": [
    "from qiskit.quantum_info.operators import PauliTable\n",
    "\n",
    "pt = PauliTable.from_labels(['X', 'Y', 'X', 'I', 'I', 'Z', 'X', 'Z'])\n",
    "unique = pt.unique()\n",
    "print(unique)"
   ]
  }
 ],
 "metadata": {
  "kernelspec": {
   "display_name": "Python 3",
   "language": "python",
   "name": "python3"
  },
  "language_info": {
   "codemirror_mode": {
    "name": "ipython",
    "version": 3
   },
   "file_extension": ".py",
   "mimetype": "text/x-python",
   "name": "python",
   "nbconvert_exporter": "python",
   "pygments_lexer": "ipython3",
   "version": "3.8.10"
  }
 },
 "nbformat": 4,
 "nbformat_minor": 5
}