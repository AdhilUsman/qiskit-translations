{
 "cells": [
  {
   "cell_type": "code",
   "execution_count": 1,
   "id": "steady-efficiency",
   "metadata": {
    "execution": {
     "iopub.execute_input": "2021-04-02T02:06:15.941820Z",
     "iopub.status.busy": "2021-04-02T02:06:15.940590Z",
     "iopub.status.idle": "2021-04-02T02:06:17.953499Z",
     "shell.execute_reply": "2021-04-02T02:06:17.953984Z"
    }
   },
   "outputs": [
    {
     "name": "stdout",
     "output_type": "stream",
     "text": [
      "{}\n",
      "{'method': 'alap'}\n"
     ]
    }
   ],
   "source": [
    "from qiskit import pulse\n",
    "from qiskit.test.mock import FakeOpenPulse2Q\n",
    "\n",
    "backend = FakeOpenPulse2Q()\n",
    "\n",
    "with pulse.build(backend):\n",
    "    print(pulse.active_circuit_scheduler_settings())\n",
    "    with pulse.circuit_scheduler_settings(method='alap'):\n",
    "        print(pulse.active_circuit_scheduler_settings())"
   ]
  }
 ],
 "metadata": {
  "kernelspec": {
   "display_name": "Python 3",
   "language": "python",
   "name": "python3"
  },
  "language_info": {
   "codemirror_mode": {
    "name": "ipython",
    "version": 3
   },
   "file_extension": ".py",
   "mimetype": "text/x-python",
   "name": "python",
   "nbconvert_exporter": "python",
   "pygments_lexer": "ipython3",
   "version": "3.8.8"
  }
 },
 "nbformat": 4,
 "nbformat_minor": 5
}