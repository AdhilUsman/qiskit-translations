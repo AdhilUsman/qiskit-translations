{
 "cells": [
  {
   "cell_type": "code",
   "execution_count": 1,
   "id": "5987b24f",
   "metadata": {
    "execution": {
     "iopub.execute_input": "2021-04-13T21:04:12.238735Z",
     "iopub.status.busy": "2021-04-13T21:04:12.238057Z",
     "iopub.status.idle": "2021-04-13T21:04:13.283915Z",
     "shell.execute_reply": "2021-04-13T21:04:13.283395Z"
    }
   },
   "outputs": [
    {
     "name": "stdout",
     "output_type": "stream",
     "text": [
      "{}\n",
      "{'method': 'alap'}\n"
     ]
    }
   ],
   "source": [
    "from qiskit import pulse\n",
    "from qiskit.test.mock import FakeOpenPulse2Q\n",
    "\n",
    "backend = FakeOpenPulse2Q()\n",
    "\n",
    "with pulse.build(backend):\n",
    "    print(pulse.active_circuit_scheduler_settings())\n",
    "    with pulse.circuit_scheduler_settings(method='alap'):\n",
    "        print(pulse.active_circuit_scheduler_settings())"
   ]
  }
 ],
 "metadata": {
  "kernelspec": {
   "display_name": "Python 3",
   "language": "python",
   "name": "python3"
  },
  "language_info": {
   "codemirror_mode": {
    "name": "ipython",
    "version": 3
   },
   "file_extension": ".py",
   "mimetype": "text/x-python",
   "name": "python",
   "nbconvert_exporter": "python",
   "pygments_lexer": "ipython3",
   "version": "3.8.9"
  }
 },
 "nbformat": 4,
 "nbformat_minor": 5
}