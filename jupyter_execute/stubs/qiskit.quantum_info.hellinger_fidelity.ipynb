{
 "cells": [
  {
   "cell_type": "code",
   "execution_count": 1,
   "id": "2cfa3780",
   "metadata": {
    "execution": {
     "iopub.execute_input": "2021-04-28T00:39:34.775385Z",
     "iopub.status.busy": "2021-04-28T00:39:34.774872Z",
     "iopub.status.idle": "2021-04-28T00:39:35.677828Z",
     "shell.execute_reply": "2021-04-28T00:39:35.678150Z"
    }
   },
   "outputs": [
    {
     "data": {
      "text/plain": [
       "0.9999961853027344"
      ]
     },
     "execution_count": 1,
     "metadata": {},
     "output_type": "execute_result"
    }
   ],
   "source": [
    "from qiskit import QuantumCircuit, execute, BasicAer\n",
    "from qiskit.quantum_info.analysis import hellinger_fidelity\n",
    "\n",
    "qc = QuantumCircuit(5, 5)\n",
    "qc.h(2)\n",
    "qc.cx(2, 1)\n",
    "qc.cx(2, 3)\n",
    "qc.cx(3, 4)\n",
    "qc.cx(1, 0)\n",
    "qc.measure(range(5), range(5))\n",
    "\n",
    "sim = BasicAer.get_backend('qasm_simulator')\n",
    "res1 = execute(qc, sim).result()\n",
    "res2 = execute(qc, sim).result()\n",
    "\n",
    "hellinger_fidelity(res1.get_counts(), res2.get_counts())"
   ]
  }
 ],
 "metadata": {
  "kernelspec": {
   "display_name": "Python 3",
   "language": "python",
   "name": "python3"
  },
  "language_info": {
   "codemirror_mode": {
    "name": "ipython",
    "version": 3
   },
   "file_extension": ".py",
   "mimetype": "text/x-python",
   "name": "python",
   "nbconvert_exporter": "python",
   "pygments_lexer": "ipython3",
   "version": "3.8.9"
  }
 },
 "nbformat": 4,
 "nbformat_minor": 5
}