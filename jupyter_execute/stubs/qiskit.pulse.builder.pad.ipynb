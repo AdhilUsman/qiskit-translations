{
 "cells": [
  {
   "cell_type": "code",
   "execution_count": 1,
   "id": "e03c3b8d",
   "metadata": {
    "execution": {
     "iopub.execute_input": "2021-06-18T15:05:25.555997Z",
     "iopub.status.busy": "2021-06-18T15:05:25.555417Z",
     "iopub.status.idle": "2021-06-18T15:05:26.329477Z",
     "shell.execute_reply": "2021-06-18T15:05:26.328809Z"
    }
   },
   "outputs": [],
   "source": [
    "from qiskit import pulse\n",
    "\n",
    "d0 = pulse.DriveChannel(0)\n",
    "d1 = pulse.DriveChannel(1)\n",
    "\n",
    "with pulse.build() as pulse_prog:\n",
    "    with pulse.pad():\n",
    "        with pulse.align_right():\n",
    "            # this pulse will start at t=0\n",
    "            pulse.play(pulse.Constant(100, 1.0), d0)\n",
    "            # this pulse will start at t=80\n",
    "            # a delay will be inserted from t=0 to t=80\n",
    "            pulse.play(pulse.Constant(20, 1.0), d1)\n",
    "assert pulse_prog.ch_start_time(d0) == pulse_prog.ch_start_time(d1)\n",
    "assert pulse_prog.ch_stop_time(d0) == pulse_prog.ch_stop_time(d1)"
   ]
  }
 ],
 "metadata": {
  "kernelspec": {
   "display_name": "Python 3",
   "language": "python",
   "name": "python3"
  },
  "language_info": {
   "codemirror_mode": {
    "name": "ipython",
    "version": 3
   },
   "file_extension": ".py",
   "mimetype": "text/x-python",
   "name": "python",
   "nbconvert_exporter": "python",
   "pygments_lexer": "ipython3",
   "version": "3.8.10"
  }
 },
 "nbformat": 4,
 "nbformat_minor": 5
}