{
 "cells": [
  {
   "cell_type": "code",
   "execution_count": 1,
   "id": "ac4ef596",
   "metadata": {
    "execution": {
     "iopub.execute_input": "2021-05-19T08:04:37.043568Z",
     "iopub.status.busy": "2021-05-19T08:04:37.042341Z",
     "iopub.status.idle": "2021-05-19T08:04:38.093148Z",
     "shell.execute_reply": "2021-05-19T08:04:38.092220Z"
    }
   },
   "outputs": [],
   "source": [
    "from qiskit import pulse\n",
    "from qiskit.test.mock import FakeOpenPulse2Q\n",
    "\n",
    "backend = FakeOpenPulse2Q()\n",
    "\n",
    "d0 = pulse.DriveChannel(0)\n",
    "d1 = pulse.DriveChannel(1)\n",
    "\n",
    "with pulse.build(backend) as barrier_pulse_prog:\n",
    "    pulse.play(pulse.Constant(10, 1.0), d0)\n",
    "    pulse.barrier(d0, d1)\n",
    "    pulse.play(pulse.Constant(10, 1.0), d1)"
   ]
  },
  {
   "cell_type": "code",
   "execution_count": 2,
   "id": "af10509a",
   "metadata": {
    "execution": {
     "iopub.execute_input": "2021-05-19T08:04:38.098659Z",
     "iopub.status.busy": "2021-05-19T08:04:38.098135Z",
     "iopub.status.idle": "2021-05-19T08:04:38.101967Z",
     "shell.execute_reply": "2021-05-19T08:04:38.101239Z"
    }
   },
   "outputs": [],
   "source": [
    "from qiskit.pulse import transforms\n",
    "\n",
    "with pulse.build(backend) as aligned_pulse_prog:\n",
    "    with pulse.align_sequential():\n",
    "        pulse.play(pulse.Constant(10, 1.0), d0)\n",
    "        pulse.play(pulse.Constant(10, 1.0), d1)\n",
    "\n",
    "barrier_pulse_prog = transforms.remove_directives(barrier_pulse_prog)\n",
    "assert barrier_pulse_prog == aligned_pulse_prog"
   ]
  },
  {
   "cell_type": "code",
   "execution_count": 3,
   "id": "6e93bfcf",
   "metadata": {
    "execution": {
     "iopub.execute_input": "2021-05-19T08:04:38.141759Z",
     "iopub.status.busy": "2021-05-19T08:04:38.106708Z",
     "iopub.status.idle": "2021-05-19T08:04:38.222712Z",
     "shell.execute_reply": "2021-05-19T08:04:38.222163Z"
    }
   },
   "outputs": [],
   "source": [
    "import math\n",
    "\n",
    "d0 = pulse.DriveChannel(0)\n",
    "\n",
    "with pulse.build(backend) as pulse_prog:\n",
    "    with pulse.align_right():\n",
    "        pulse.x(1)\n",
    "        # Barrier qubit 1 and d0.\n",
    "        pulse.barrier(1, d0)\n",
    "        # Due to barrier this will play before the gate on qubit 1.\n",
    "        pulse.play(pulse.Constant(10, 1.0), d0)\n",
    "        # This will end at the same time as the pulse above due to\n",
    "        # the barrier.\n",
    "        pulse.x(1)"
   ]
  }
 ],
 "metadata": {
  "kernelspec": {
   "display_name": "Python 3",
   "language": "python",
   "name": "python3"
  },
  "language_info": {
   "codemirror_mode": {
    "name": "ipython",
    "version": 3
   },
   "file_extension": ".py",
   "mimetype": "text/x-python",
   "name": "python",
   "nbconvert_exporter": "python",
   "pygments_lexer": "ipython3",
   "version": "3.8.10"
  }
 },
 "nbformat": 4,
 "nbformat_minor": 5
}