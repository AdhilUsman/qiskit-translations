{
 "cells": [
  {
   "cell_type": "code",
   "execution_count": 1,
   "id": "552b54af",
   "metadata": {
    "execution": {
     "iopub.execute_input": "2021-06-06T09:00:39.816127Z",
     "iopub.status.busy": "2021-06-06T09:00:39.815597Z",
     "iopub.status.idle": "2021-06-06T09:00:40.796976Z",
     "shell.execute_reply": "2021-06-06T09:00:40.796416Z"
    }
   },
   "outputs": [],
   "source": [
    "from qiskit import pulse\n",
    "from qiskit.test.mock import FakeOpenPulse2Q\n",
    "\n",
    "backend = FakeOpenPulse2Q()\n",
    "\n",
    "d0 = pulse.DriveChannel(0)\n",
    "d1 = pulse.DriveChannel(1)\n",
    "\n",
    "with pulse.build(backend) as barrier_pulse_prog:\n",
    "    pulse.play(pulse.Constant(10, 1.0), d0)\n",
    "    pulse.barrier(d0, d1)\n",
    "    pulse.play(pulse.Constant(10, 1.0), d1)"
   ]
  },
  {
   "cell_type": "code",
   "execution_count": 2,
   "id": "8fdaf6fe",
   "metadata": {
    "execution": {
     "iopub.execute_input": "2021-06-06T09:00:40.802670Z",
     "iopub.status.busy": "2021-06-06T09:00:40.802170Z",
     "iopub.status.idle": "2021-06-06T09:00:40.805558Z",
     "shell.execute_reply": "2021-06-06T09:00:40.805925Z"
    }
   },
   "outputs": [],
   "source": [
    "from qiskit.pulse import transforms\n",
    "\n",
    "with pulse.build(backend) as aligned_pulse_prog:\n",
    "    with pulse.align_sequential():\n",
    "        pulse.play(pulse.Constant(10, 1.0), d0)\n",
    "        pulse.play(pulse.Constant(10, 1.0), d1)\n",
    "\n",
    "barrier_pulse_prog = transforms.remove_directives(barrier_pulse_prog)\n",
    "assert barrier_pulse_prog == aligned_pulse_prog"
   ]
  },
  {
   "cell_type": "code",
   "execution_count": 3,
   "id": "2997581b",
   "metadata": {
    "execution": {
     "iopub.execute_input": "2021-06-06T09:00:40.853165Z",
     "iopub.status.busy": "2021-06-06T09:00:40.810456Z",
     "iopub.status.idle": "2021-06-06T09:00:40.915549Z",
     "shell.execute_reply": "2021-06-06T09:00:40.915062Z"
    }
   },
   "outputs": [],
   "source": [
    "import math\n",
    "\n",
    "d0 = pulse.DriveChannel(0)\n",
    "\n",
    "with pulse.build(backend) as pulse_prog:\n",
    "    with pulse.align_right():\n",
    "        pulse.x(1)\n",
    "        # Barrier qubit 1 and d0.\n",
    "        pulse.barrier(1, d0)\n",
    "        # Due to barrier this will play before the gate on qubit 1.\n",
    "        pulse.play(pulse.Constant(10, 1.0), d0)\n",
    "        # This will end at the same time as the pulse above due to\n",
    "        # the barrier.\n",
    "        pulse.x(1)"
   ]
  }
 ],
 "metadata": {
  "kernelspec": {
   "display_name": "Python 3",
   "language": "python",
   "name": "python3"
  },
  "language_info": {
   "codemirror_mode": {
    "name": "ipython",
    "version": 3
   },
   "file_extension": ".py",
   "mimetype": "text/x-python",
   "name": "python",
   "nbconvert_exporter": "python",
   "pygments_lexer": "ipython3",
   "version": "3.8.10"
  }
 },
 "nbformat": 4,
 "nbformat_minor": 5
}