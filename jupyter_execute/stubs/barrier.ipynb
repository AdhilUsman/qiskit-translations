{
 "cells": [
  {
   "cell_type": "code",
   "execution_count": 1,
   "id": "5e798e5f",
   "metadata": {
    "execution": {
     "iopub.execute_input": "2021-06-21T04:10:23.643630Z",
     "iopub.status.busy": "2021-06-21T04:10:23.643004Z",
     "iopub.status.idle": "2021-06-21T04:10:25.002171Z",
     "shell.execute_reply": "2021-06-21T04:10:25.001492Z"
    }
   },
   "outputs": [],
   "source": [
    "from qiskit import pulse\n",
    "from qiskit.test.mock import FakeOpenPulse2Q\n",
    "\n",
    "backend = FakeOpenPulse2Q()\n",
    "\n",
    "d0 = pulse.DriveChannel(0)\n",
    "d1 = pulse.DriveChannel(1)\n",
    "\n",
    "with pulse.build(backend) as barrier_pulse_prog:\n",
    "    pulse.play(pulse.Constant(10, 1.0), d0)\n",
    "    pulse.barrier(d0, d1)\n",
    "    pulse.play(pulse.Constant(10, 1.0), d1)"
   ]
  },
  {
   "cell_type": "code",
   "execution_count": 2,
   "id": "bd4b82e4",
   "metadata": {
    "execution": {
     "iopub.execute_input": "2021-06-21T04:10:25.009139Z",
     "iopub.status.busy": "2021-06-21T04:10:25.007474Z",
     "iopub.status.idle": "2021-06-21T04:10:25.012680Z",
     "shell.execute_reply": "2021-06-21T04:10:25.011982Z"
    }
   },
   "outputs": [],
   "source": [
    "from qiskit.pulse import transforms\n",
    "\n",
    "with pulse.build(backend) as aligned_pulse_prog:\n",
    "    with pulse.align_sequential():\n",
    "        pulse.play(pulse.Constant(10, 1.0), d0)\n",
    "        pulse.play(pulse.Constant(10, 1.0), d1)\n",
    "\n",
    "barrier_pulse_prog = transforms.remove_directives(barrier_pulse_prog)\n",
    "assert barrier_pulse_prog == aligned_pulse_prog"
   ]
  },
  {
   "cell_type": "code",
   "execution_count": 3,
   "id": "ce771ca6",
   "metadata": {
    "execution": {
     "iopub.execute_input": "2021-06-21T04:10:25.019530Z",
     "iopub.status.busy": "2021-06-21T04:10:25.018887Z",
     "iopub.status.idle": "2021-06-21T04:10:25.189652Z",
     "shell.execute_reply": "2021-06-21T04:10:25.189047Z"
    }
   },
   "outputs": [],
   "source": [
    "import math\n",
    "\n",
    "d0 = pulse.DriveChannel(0)\n",
    "\n",
    "with pulse.build(backend) as pulse_prog:\n",
    "    with pulse.align_right():\n",
    "        pulse.x(1)\n",
    "        # Barrier qubit 1 and d0.\n",
    "        pulse.barrier(1, d0)\n",
    "        # Due to barrier this will play before the gate on qubit 1.\n",
    "        pulse.play(pulse.Constant(10, 1.0), d0)\n",
    "        # This will end at the same time as the pulse above due to\n",
    "        # the barrier.\n",
    "        pulse.x(1)"
   ]
  }
 ],
 "metadata": {
  "kernelspec": {
   "display_name": "Python 3",
   "language": "python",
   "name": "python3"
  },
  "language_info": {
   "codemirror_mode": {
    "name": "ipython",
    "version": 3
   },
   "file_extension": ".py",
   "mimetype": "text/x-python",
   "name": "python",
   "nbconvert_exporter": "python",
   "pygments_lexer": "ipython3",
   "version": "3.8.10"
  }
 },
 "nbformat": 4,
 "nbformat_minor": 5
}