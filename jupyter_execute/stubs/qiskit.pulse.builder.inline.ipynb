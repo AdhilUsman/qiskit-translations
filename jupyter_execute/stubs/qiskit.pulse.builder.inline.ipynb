{
 "cells": [
  {
   "cell_type": "code",
   "execution_count": 1,
   "id": "c85366b3",
   "metadata": {
    "execution": {
     "iopub.execute_input": "2021-04-29T04:59:47.686575Z",
     "iopub.status.busy": "2021-04-29T04:59:47.686054Z",
     "iopub.status.idle": "2021-04-29T04:59:48.258636Z",
     "shell.execute_reply": "2021-04-29T04:59:48.257619Z"
    }
   },
   "outputs": [],
   "source": [
    "from qiskit import pulse\n",
    "\n",
    "d0 = pulse.DriveChannel(0)\n",
    "d1 = pulse.DriveChannel(1)\n",
    "d2 = pulse.DriveChannel(2)\n",
    "\n",
    "with pulse.build() as pulse_prog:\n",
    "    # will be ignored due to internal grouping\n",
    "    with pulse.align_left():\n",
    "        pulse.play(pulse.Constant(10, 1.0), d0)\n",
    "        with pulse.inline():\n",
    "            with pulse.align_right():\n",
    "                # this pulse will start at t=0\n",
    "                pulse.play(pulse.Constant(100, 1.0), d1)\n",
    "                # this pulse will also start at t=0\n",
    "                pulse.play(pulse.Constant(20, 1.0), d2)\n",
    "\n",
    "assert (pulse_prog.ch_start_time(d0) ==\n",
    "        pulse_prog.ch_start_time(d1) ==\n",
    "        pulse_prog.ch_start_time(d2))"
   ]
  }
 ],
 "metadata": {
  "kernelspec": {
   "display_name": "Python 3",
   "language": "python",
   "name": "python3"
  },
  "language_info": {
   "codemirror_mode": {
    "name": "ipython",
    "version": 3
   },
   "file_extension": ".py",
   "mimetype": "text/x-python",
   "name": "python",
   "nbconvert_exporter": "python",
   "pygments_lexer": "ipython3",
   "version": "3.8.9"
  }
 },
 "nbformat": 4,
 "nbformat_minor": 5
}