{
 "cells": [
  {
   "cell_type": "code",
   "execution_count": 1,
   "id": "9c8a9acb",
   "metadata": {
    "execution": {
     "iopub.execute_input": "2021-04-15T16:12:20.397514Z",
     "iopub.status.busy": "2021-04-15T16:12:20.396862Z",
     "iopub.status.idle": "2021-04-15T16:12:21.165118Z",
     "shell.execute_reply": "2021-04-15T16:12:21.165609Z"
    }
   },
   "outputs": [],
   "source": [
    "from qiskit import pulse\n",
    "\n",
    "d0 = pulse.DriveChannel(0)\n",
    "\n",
    "with pulse.build() as pulse_prog:\n",
    "    pulse.delay(10, d0)"
   ]
  }
 ],
 "metadata": {
  "kernelspec": {
   "display_name": "Python 3",
   "language": "python",
   "name": "python3"
  },
  "language_info": {
   "codemirror_mode": {
    "name": "ipython",
    "version": 3
   },
   "file_extension": ".py",
   "mimetype": "text/x-python",
   "name": "python",
   "nbconvert_exporter": "python",
   "pygments_lexer": "ipython3",
   "version": "3.8.9"
  }
 },
 "nbformat": 4,
 "nbformat_minor": 5
}