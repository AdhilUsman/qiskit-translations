{
 "cells": [
  {
   "cell_type": "code",
   "execution_count": 1,
   "id": "f24a1d69",
   "metadata": {
    "execution": {
     "iopub.execute_input": "2021-04-12T16:45:07.329994Z",
     "iopub.status.busy": "2021-04-12T16:45:07.329485Z",
     "iopub.status.idle": "2021-04-12T16:45:07.903207Z",
     "shell.execute_reply": "2021-04-12T16:45:07.902643Z"
    }
   },
   "outputs": [],
   "source": [
    "from qiskit import pulse\n",
    "\n",
    "d0 = pulse.DriveChannel(0)\n",
    "\n",
    "with pulse.build() as pulse_prog:\n",
    "    pulse.delay(10, d0)"
   ]
  }
 ],
 "metadata": {
  "kernelspec": {
   "display_name": "Python 3",
   "language": "python",
   "name": "python3"
  },
  "language_info": {
   "codemirror_mode": {
    "name": "ipython",
    "version": 3
   },
   "file_extension": ".py",
   "mimetype": "text/x-python",
   "name": "python",
   "nbconvert_exporter": "python",
   "pygments_lexer": "ipython3",
   "version": "3.8.8"
  }
 },
 "nbformat": 4,
 "nbformat_minor": 5
}