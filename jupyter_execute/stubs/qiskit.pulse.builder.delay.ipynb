{
 "cells": [
  {
   "cell_type": "code",
   "execution_count": 1,
   "id": "8ccb578d",
   "metadata": {
    "execution": {
     "iopub.execute_input": "2021-05-07T06:53:43.028276Z",
     "iopub.status.busy": "2021-05-07T06:53:43.027720Z",
     "iopub.status.idle": "2021-05-07T06:53:43.671823Z",
     "shell.execute_reply": "2021-05-07T06:53:43.671116Z"
    }
   },
   "outputs": [],
   "source": [
    "from qiskit import pulse\n",
    "\n",
    "d0 = pulse.DriveChannel(0)\n",
    "\n",
    "with pulse.build() as pulse_prog:\n",
    "    pulse.delay(10, d0)"
   ]
  }
 ],
 "metadata": {
  "kernelspec": {
   "display_name": "Python 3",
   "language": "python",
   "name": "python3"
  },
  "language_info": {
   "codemirror_mode": {
    "name": "ipython",
    "version": 3
   },
   "file_extension": ".py",
   "mimetype": "text/x-python",
   "name": "python",
   "nbconvert_exporter": "python",
   "pygments_lexer": "ipython3",
   "version": "3.8.10"
  }
 },
 "nbformat": 4,
 "nbformat_minor": 5
}