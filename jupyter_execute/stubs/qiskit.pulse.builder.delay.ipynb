{
 "cells": [
  {
   "cell_type": "code",
   "execution_count": 1,
   "id": "f56f5d0a",
   "metadata": {
    "execution": {
     "iopub.execute_input": "2021-04-09T12:52:17.905577Z",
     "iopub.status.busy": "2021-04-09T12:52:17.904994Z",
     "iopub.status.idle": "2021-04-09T12:52:18.613794Z",
     "shell.execute_reply": "2021-04-09T12:52:18.613112Z"
    }
   },
   "outputs": [],
   "source": [
    "from qiskit import pulse\n",
    "\n",
    "d0 = pulse.DriveChannel(0)\n",
    "\n",
    "with pulse.build() as pulse_prog:\n",
    "    pulse.delay(10, d0)"
   ]
  }
 ],
 "metadata": {
  "kernelspec": {
   "display_name": "Python 3",
   "language": "python",
   "name": "python3"
  },
  "language_info": {
   "codemirror_mode": {
    "name": "ipython",
    "version": 3
   },
   "file_extension": ".py",
   "mimetype": "text/x-python",
   "name": "python",
   "nbconvert_exporter": "python",
   "pygments_lexer": "ipython3",
   "version": "3.8.8"
  }
 },
 "nbformat": 4,
 "nbformat_minor": 5
}