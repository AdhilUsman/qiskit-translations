{
 "cells": [
  {
   "cell_type": "code",
   "execution_count": 1,
   "id": "1203b197",
   "metadata": {
    "execution": {
     "iopub.execute_input": "2021-04-12T06:24:32.762815Z",
     "iopub.status.busy": "2021-04-12T06:24:32.762239Z",
     "iopub.status.idle": "2021-04-12T06:24:33.503517Z",
     "shell.execute_reply": "2021-04-12T06:24:33.502926Z"
    }
   },
   "outputs": [],
   "source": [
    "from qiskit import pulse\n",
    "\n",
    "d0 = pulse.DriveChannel(0)\n",
    "\n",
    "with pulse.build() as pulse_prog:\n",
    "    pulse.delay(10, d0)"
   ]
  }
 ],
 "metadata": {
  "kernelspec": {
   "display_name": "Python 3",
   "language": "python",
   "name": "python3"
  },
  "language_info": {
   "codemirror_mode": {
    "name": "ipython",
    "version": 3
   },
   "file_extension": ".py",
   "mimetype": "text/x-python",
   "name": "python",
   "nbconvert_exporter": "python",
   "pygments_lexer": "ipython3",
   "version": "3.8.8"
  }
 },
 "nbformat": 4,
 "nbformat_minor": 5
}