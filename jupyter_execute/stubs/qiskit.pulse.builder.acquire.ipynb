{
 "cells": [
  {
   "cell_type": "code",
   "execution_count": 1,
   "id": "b0191b0d",
   "metadata": {
    "execution": {
     "iopub.execute_input": "2021-05-04T06:31:59.615377Z",
     "iopub.status.busy": "2021-05-04T06:31:59.614839Z",
     "iopub.status.idle": "2021-05-04T06:32:00.278930Z",
     "shell.execute_reply": "2021-05-04T06:32:00.279365Z"
    }
   },
   "outputs": [],
   "source": [
    "from qiskit import pulse\n",
    "\n",
    "d0 = pulse.MeasureChannel(0)\n",
    "mem0 = pulse.MemorySlot(0)\n",
    "\n",
    "with pulse.build() as pulse_prog:\n",
    "    pulse.acquire(100, d0, mem0)\n",
    "\n",
    "    # measurement metadata\n",
    "    kernel = pulse.configuration.Kernel('linear_discriminator')\n",
    "    pulse.acquire(100, d0, mem0, kernel=kernel)"
   ]
  }
 ],
 "metadata": {
  "kernelspec": {
   "display_name": "Python 3",
   "language": "python",
   "name": "python3"
  },
  "language_info": {
   "codemirror_mode": {
    "name": "ipython",
    "version": 3
   },
   "file_extension": ".py",
   "mimetype": "text/x-python",
   "name": "python",
   "nbconvert_exporter": "python",
   "pygments_lexer": "ipython3",
   "version": "3.8.9"
  }
 },
 "nbformat": 4,
 "nbformat_minor": 5
}