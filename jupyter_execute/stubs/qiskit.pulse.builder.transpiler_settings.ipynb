{
 "cells": [
  {
   "cell_type": "code",
   "execution_count": 1,
   "id": "fc82dbe6",
   "metadata": {
    "execution": {
     "iopub.execute_input": "2021-05-04T11:48:28.140645Z",
     "iopub.status.busy": "2021-05-04T11:48:28.139955Z",
     "iopub.status.idle": "2021-05-04T11:48:29.242551Z",
     "shell.execute_reply": "2021-05-04T11:48:29.241999Z"
    }
   },
   "outputs": [
    {
     "name": "stdout",
     "output_type": "stream",
     "text": [
      "{}\n",
      "{'optimization_level': 3}\n"
     ]
    }
   ],
   "source": [
    "from qiskit import pulse\n",
    "from qiskit.test.mock import FakeOpenPulse2Q\n",
    "\n",
    "backend = FakeOpenPulse2Q()\n",
    "\n",
    "with pulse.build(backend):\n",
    "    print(pulse.active_transpiler_settings())\n",
    "    with pulse.transpiler_settings(optimization_level=3):\n",
    "        print(pulse.active_transpiler_settings())"
   ]
  }
 ],
 "metadata": {
  "kernelspec": {
   "display_name": "Python 3",
   "language": "python",
   "name": "python3"
  },
  "language_info": {
   "codemirror_mode": {
    "name": "ipython",
    "version": 3
   },
   "file_extension": ".py",
   "mimetype": "text/x-python",
   "name": "python",
   "nbconvert_exporter": "python",
   "pygments_lexer": "ipython3",
   "version": "3.8.9"
  }
 },
 "nbformat": 4,
 "nbformat_minor": 5
}